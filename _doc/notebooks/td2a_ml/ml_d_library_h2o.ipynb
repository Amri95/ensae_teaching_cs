{
  "cells": [
    {
      "cell_type": "markdown",
      "metadata": {},
      "source": [
        "# 2A.ml - Machine Learning avec H2O et Python\n",
        "\n",
        "Exemple avec [H20](https://www.h2o.ai/)."
      ]
    },
    {
      "cell_type": "code",
      "execution_count": 1,
      "metadata": {
        "collapsed": true
      },
      "outputs": [],
      "source": [
        "%matplotlib inline\n",
        "import matplotlib.pyplot as plt\n",
        "plt.style.use('ggplot')"
      ]
    },
    {
      "cell_type": "code",
      "execution_count": 2,
      "metadata": {
        "collapsed": true
      },
      "outputs": [],
      "source": [
        "import h2o"
      ]
    },
    {
      "cell_type": "markdown",
      "metadata": {},
      "source": [
        "Le module [h2o](http://docs.h2o.ai/h2o/latest-stable/index.html) n'est pas impl\u00e9ment\u00e9e en python mais en java. Python communique avec la librairie via un serveur d\u00e9marr\u00e9 avec l'instruction [init](http://h2o-release.s3.amazonaws.com/h2o/rel-turchin/9/docs-website/h2o-py/docs/h2o.html?highlight=init#h2o.h2o.init). Le langage Python sert juste \u00e0 s'interfacer avec ce serveur. Les donn\u00e9es doivent \u00eatre transmises au serveur avant de pouvoir \u00eatre trait\u00e9es."
      ]
    },
    {
      "cell_type": "code",
      "execution_count": 3,
      "metadata": {},
      "outputs": [
        {
          "name": "stdout",
          "output_type": "stream",
          "text": [
            "Checking whether there is an H2O instance running at http://localhost:54321. connected.\n"
          ]
        },
        {
          "data": {
            "text/html": [
              "<div style=\"overflow:auto\"><table style=\"width:50%\"><tr><td>H2O cluster uptime:</td>\n",
              "<td>21 secs</td></tr>\n",
              "<tr><td>H2O cluster version:</td>\n",
              "<td>3.10.0.7</td></tr>\n",
              "<tr><td>H2O cluster version age:</td>\n",
              "<td>21 days, 21 hours and 59 minutes </td></tr>\n",
              "<tr><td>H2O cluster name:</td>\n",
              "<td>H2O_from_python_username_snteqo</td></tr>\n",
              "<tr><td>H2O cluster total nodes:</td>\n",
              "<td>1</td></tr>\n",
              "<tr><td>H2O cluster free memory:</td>\n",
              "<td>1.750 Gb</td></tr>\n",
              "<tr><td>H2O cluster total cores:</td>\n",
              "<td>4</td></tr>\n",
              "<tr><td>H2O cluster allowed cores:</td>\n",
              "<td>4</td></tr>\n",
              "<tr><td>H2O cluster status:</td>\n",
              "<td>accepting new members, healthy</td></tr>\n",
              "<tr><td>H2O connection url:</td>\n",
              "<td>http://localhost:54321</td></tr>\n",
              "<tr><td>H2O connection proxy:</td>\n",
              "<td>None</td></tr>\n",
              "<tr><td>Python version:</td>\n",
              "<td>3.5.0 final</td></tr></table></div>"
            ],
            "text/plain": [
              "--------------------------  --------------------------------\n",
              "H2O cluster uptime:         21 secs\n",
              "H2O cluster version:        3.10.0.7\n",
              "H2O cluster version age:    21 days, 21 hours and 59 minutes\n",
              "H2O cluster name:           H2O_from_python_username_snteqo\n",
              "H2O cluster total nodes:    1\n",
              "H2O cluster free memory:    1.750 Gb\n",
              "H2O cluster total cores:    4\n",
              "H2O cluster allowed cores:  4\n",
              "H2O cluster status:         accepting new members, healthy\n",
              "H2O connection url:         http://localhost:54321\n",
              "H2O connection proxy:\n",
              "Python version:             3.5.0 final\n",
              "--------------------------  --------------------------------"
            ]
          },
          "metadata": {},
          "output_type": "display_data"
        }
      ],
      "source": [
        "h2o.init()"
      ]
    },
    {
      "cell_type": "code",
      "execution_count": 4,
      "metadata": {},
      "outputs": [
        {
          "data": {
            "text/html": [
              "<div>\n",
              "<table border=\"1\" class=\"dataframe\">\n",
              "  <thead>\n",
              "    <tr style=\"text-align: right;\">\n",
              "      <th></th>\n",
              "      <th>X1</th>\n",
              "      <th>X2</th>\n",
              "      <th>Y</th>\n",
              "    </tr>\n",
              "  </thead>\n",
              "  <tbody>\n",
              "    <tr>\n",
              "      <th>0</th>\n",
              "      <td>5.1</td>\n",
              "      <td>3.5</td>\n",
              "      <td>0.0</td>\n",
              "    </tr>\n",
              "    <tr>\n",
              "      <th>1</th>\n",
              "      <td>4.9</td>\n",
              "      <td>3.0</td>\n",
              "      <td>0.0</td>\n",
              "    </tr>\n",
              "  </tbody>\n",
              "</table>\n",
              "</div>"
            ],
            "text/plain": [
              "    X1   X2    Y\n",
              "0  5.1  3.5  0.0\n",
              "1  4.9  3.0  0.0"
            ]
          },
          "execution_count": 5,
          "metadata": {},
          "output_type": "execute_result"
        }
      ],
      "source": [
        "from sklearn import linear_model, datasets\n",
        "iris = datasets.load_iris()\n",
        "X = iris.data[:, :2]\n",
        "Y = iris.target\n",
        "import pandas, numpy\n",
        "df = pandas.DataFrame(numpy.hstack([X.reshape((len(Y),2)),Y.reshape((len(Y), 1))]), columns=[\"X1\", \"X2\", \"Y\"])\n",
        "df.to_csv(\"iris.csv\", index=False)\n",
        "df.head(n=2)"
      ]
    },
    {
      "cell_type": "code",
      "execution_count": 6,
      "metadata": {},
      "outputs": [
        {
          "name": "stdout",
          "output_type": "stream",
          "text": [
            "Parse progress: |\u2588\u2588\u2588\u2588\u2588\u2588\u2588\u2588\u2588\u2588\u2588\u2588\u2588\u2588\u2588\u2588\u2588\u2588\u2588\u2588\u2588\u2588\u2588\u2588\u2588\u2588\u2588\u2588\u2588\u2588\u2588\u2588\u2588\u2588\u2588\u2588\u2588\u2588\u2588\u2588\u2588\u2588\u2588\u2588\u2588\u2588\u2588\u2588\u2588\u2588\u2588\u2588\u2588\u2588\u2588\u2588\u2588\u2588\u2588\u2588\u2588\u2588\u2588\u2588\u2588\u2588\u2588\u2588\u2588\u2588\u2588\u2588\u2588\u2588\u2588\u2588\u2588| 100%\n",
            "Rows:150\n",
            "Cols:3\n",
            "\n",
            "\n"
          ]
        },
        {
          "data": {
            "text/html": [
              "<table>\n",
              "<tr><th>       </th><th>X1                </th><th>X2                </th><th>Y                 </th></tr>\n",
              "<tr><td>type   </td><td>real              </td><td>real              </td><td>int               </td></tr>\n",
              "<tr><td>mins   </td><td>4.3               </td><td>2.0               </td><td>0.0               </td></tr>\n",
              "<tr><td>mean   </td><td>5.843333333333334 </td><td>3.0539999999999994</td><td>0.9999999999999998</td></tr>\n",
              "<tr><td>maxs   </td><td>7.9               </td><td>4.4               </td><td>2.0               </td></tr>\n",
              "<tr><td>sigma  </td><td>0.8280661279778637</td><td>0.4335943113621737</td><td>0.8192319205190406</td></tr>\n",
              "<tr><td>zeros  </td><td>0                 </td><td>0                 </td><td>50                </td></tr>\n",
              "<tr><td>missing</td><td>0                 </td><td>0                 </td><td>0                 </td></tr>\n",
              "<tr><td>0      </td><td>5.1000000000000005</td><td>3.5               </td><td>0.0               </td></tr>\n",
              "<tr><td>1      </td><td>4.9               </td><td>3.0               </td><td>0.0               </td></tr>\n",
              "<tr><td>2      </td><td>4.7               </td><td>3.2               </td><td>0.0               </td></tr>\n",
              "<tr><td>3      </td><td>4.6000000000000005</td><td>3.1               </td><td>0.0               </td></tr>\n",
              "<tr><td>4      </td><td>5.0               </td><td>3.6               </td><td>0.0               </td></tr>\n",
              "<tr><td>5      </td><td>5.4               </td><td>3.9000000000000004</td><td>0.0               </td></tr>\n",
              "<tr><td>6      </td><td>4.6000000000000005</td><td>3.4000000000000004</td><td>0.0               </td></tr>\n",
              "<tr><td>7      </td><td>5.0               </td><td>3.4000000000000004</td><td>0.0               </td></tr>\n",
              "<tr><td>8      </td><td>4.4               </td><td>2.9000000000000004</td><td>0.0               </td></tr>\n",
              "<tr><td>9      </td><td>4.9               </td><td>3.1               </td><td>0.0               </td></tr>\n",
              "</table>"
            ]
          },
          "metadata": {},
          "output_type": "display_data"
        }
      ],
      "source": [
        "iris = h2o.import_file(path=\"iris.csv\")\n",
        "iris.describe()"
      ]
    },
    {
      "cell_type": "code",
      "execution_count": 7,
      "metadata": {},
      "outputs": [
        {
          "name": "stdout",
          "output_type": "stream",
          "text": [
            "drf Model Build progress: |\u2588\u2588\u2588\u2588\u2588\u2588\u2588\u2588\u2588\u2588\u2588\u2588\u2588\u2588\u2588\u2588\u2588\u2588\u2588\u2588\u2588\u2588\u2588\u2588\u2588\u2588\u2588\u2588\u2588\u2588\u2588\u2588\u2588\u2588\u2588\u2588\u2588\u2588\u2588\u2588\u2588\u2588\u2588\u2588\u2588\u2588\u2588\u2588\u2588\u2588\u2588\u2588\u2588\u2588\u2588\u2588\u2588\u2588\u2588\u2588\u2588\u2588\u2588\u2588\u2588\u2588\u2588| 100%\n"
          ]
        }
      ],
      "source": [
        "from h2o.estimators.random_forest import H2ORandomForestEstimator\n",
        "rf = H2ORandomForestEstimator()\n",
        "rf.train(x=[\"X1\", \"X2\"], y=\"Y\", training_frame=iris)"
      ]
    },
    {
      "cell_type": "code",
      "execution_count": 8,
      "metadata": {},
      "outputs": [
        {
          "data": {
            "text/plain": [
              "'classifier'"
            ]
          },
          "execution_count": 9,
          "metadata": {},
          "output_type": "execute_result"
        }
      ],
      "source": [
        "rf.type"
      ]
    },
    {
      "cell_type": "markdown",
      "metadata": {},
      "source": [
        "Petit probl\u00e8me ici : le type est classifier, la m\u00e9trique laisse penser que c'est une r\u00e9gression."
      ]
    },
    {
      "cell_type": "code",
      "execution_count": 10,
      "metadata": {},
      "outputs": [
        {
          "name": "stdout",
          "output_type": "stream",
          "text": [
            "Model Details\n",
            "=============\n",
            "H2ORandomForestEstimator :  Distributed Random Forest\n",
            "Model Key:  DRF_model_python_1476214111709_8\n",
            "Model Summary: \n"
          ]
        },
        {
          "data": {
            "text/html": [
              "<div style=\"overflow:auto\"><table style=\"width:50%\"><tr><td><b></b></td>\n",
              "<td><b>number_of_trees</b></td>\n",
              "<td><b>number_of_internal_trees</b></td>\n",
              "<td><b>model_size_in_bytes</b></td>\n",
              "<td><b>min_depth</b></td>\n",
              "<td><b>max_depth</b></td>\n",
              "<td><b>mean_depth</b></td>\n",
              "<td><b>min_leaves</b></td>\n",
              "<td><b>max_leaves</b></td>\n",
              "<td><b>mean_leaves</b></td></tr>\n",
              "<tr><td></td>\n",
              "<td>50.0</td>\n",
              "<td>50.0</td>\n",
              "<td>20321.0</td>\n",
              "<td>8.0</td>\n",
              "<td>14.0</td>\n",
              "<td>10.38</td>\n",
              "<td>19.0</td>\n",
              "<td>34.0</td>\n",
              "<td>27.28</td></tr></table></div>"
            ],
            "text/plain": [
              "    number_of_trees    number_of_internal_trees    model_size_in_bytes    min_depth    max_depth    mean_depth    min_leaves    max_leaves    mean_leaves\n",
              "--  -----------------  --------------------------  ---------------------  -----------  -----------  ------------  ------------  ------------  -------------\n",
              "    50                 50                          20321                  8            14           10.38         19            34            27.28"
            ]
          },
          "metadata": {},
          "output_type": "display_data"
        },
        {
          "name": "stdout",
          "output_type": "stream",
          "text": [
            "\n",
            "\n",
            "ModelMetricsRegression: drf\n",
            "** Reported on train data. **\n",
            "\n",
            "MSE: 0.19579157519395962\n",
            "RMSE: 0.44248341798756663\n",
            "MAE: 0.32339193230634367\n",
            "RMSLE: 0.19400647970040713\n",
            "Mean Residual Deviance: 0.19579157519395962\n",
            "Scoring History: \n"
          ]
        },
        {
          "data": {
            "text/html": [
              "<div style=\"overflow:auto\"><table style=\"width:50%\"><tr><td><b></b></td>\n",
              "<td><b>timestamp</b></td>\n",
              "<td><b>duration</b></td>\n",
              "<td><b>number_of_trees</b></td>\n",
              "<td><b>training_rmse</b></td>\n",
              "<td><b>training_mae</b></td>\n",
              "<td><b>training_deviance</b></td></tr>\n",
              "<tr><td></td>\n",
              "<td>2016-10-11 22:12:02</td>\n",
              "<td> 0.016 sec</td>\n",
              "<td>0.0</td>\n",
              "<td>nan</td>\n",
              "<td>nan</td>\n",
              "<td>nan</td></tr>\n",
              "<tr><td></td>\n",
              "<td>2016-10-11 22:12:02</td>\n",
              "<td> 0.032 sec</td>\n",
              "<td>1.0</td>\n",
              "<td>0.7527273</td>\n",
              "<td>0.5040984</td>\n",
              "<td>0.5665984</td></tr>\n",
              "<tr><td></td>\n",
              "<td>2016-10-11 22:12:02</td>\n",
              "<td> 0.032 sec</td>\n",
              "<td>2.0</td>\n",
              "<td>0.6766826</td>\n",
              "<td>0.4533514</td>\n",
              "<td>0.4578993</td></tr>\n",
              "<tr><td></td>\n",
              "<td>2016-10-11 22:12:02</td>\n",
              "<td> 0.047 sec</td>\n",
              "<td>3.0</td>\n",
              "<td>0.6345770</td>\n",
              "<td>0.4159483</td>\n",
              "<td>0.4026880</td></tr>\n",
              "<tr><td></td>\n",
              "<td>2016-10-11 22:12:02</td>\n",
              "<td> 0.047 sec</td>\n",
              "<td>4.0</td>\n",
              "<td>0.6157649</td>\n",
              "<td>0.4199778</td>\n",
              "<td>0.3791664</td></tr>\n",
              "<tr><td>---</td>\n",
              "<td>---</td>\n",
              "<td>---</td>\n",
              "<td>---</td>\n",
              "<td>---</td>\n",
              "<td>---</td>\n",
              "<td>---</td></tr>\n",
              "<tr><td></td>\n",
              "<td>2016-10-11 22:12:02</td>\n",
              "<td> 0.268 sec</td>\n",
              "<td>46.0</td>\n",
              "<td>0.4461789</td>\n",
              "<td>0.3265072</td>\n",
              "<td>0.1990756</td></tr>\n",
              "<tr><td></td>\n",
              "<td>2016-10-11 22:12:02</td>\n",
              "<td> 0.273 sec</td>\n",
              "<td>47.0</td>\n",
              "<td>0.4443849</td>\n",
              "<td>0.3249500</td>\n",
              "<td>0.1974780</td></tr>\n",
              "<tr><td></td>\n",
              "<td>2016-10-11 22:12:02</td>\n",
              "<td> 0.277 sec</td>\n",
              "<td>48.0</td>\n",
              "<td>0.4431635</td>\n",
              "<td>0.3239759</td>\n",
              "<td>0.1963939</td></tr>\n",
              "<tr><td></td>\n",
              "<td>2016-10-11 22:12:02</td>\n",
              "<td> 0.281 sec</td>\n",
              "<td>49.0</td>\n",
              "<td>0.4432085</td>\n",
              "<td>0.3239742</td>\n",
              "<td>0.1964338</td></tr>\n",
              "<tr><td></td>\n",
              "<td>2016-10-11 22:12:02</td>\n",
              "<td> 0.285 sec</td>\n",
              "<td>50.0</td>\n",
              "<td>0.4424834</td>\n",
              "<td>0.3233919</td>\n",
              "<td>0.1957916</td></tr></table></div>"
            ],
            "text/plain": [
              "     timestamp            duration    number_of_trees    training_rmse        training_mae         training_deviance\n",
              "---  -------------------  ----------  -----------------  -------------------  -------------------  -------------------\n",
              "     2016-10-11 22:12:02  0.016 sec   0.0                nan                  nan                  nan\n",
              "     2016-10-11 22:12:02  0.032 sec   1.0                0.7527272817267471   0.5040983606557377   0.5665983606557377\n",
              "     2016-10-11 22:12:02  0.032 sec   2.0                0.6766825739174172   0.45335144970728003  0.4578993058435007\n",
              "     2016-10-11 22:12:02  0.047 sec   3.0                0.6345770082377266   0.4159482765471798   0.40268797938394363\n",
              "     2016-10-11 22:12:02  0.047 sec   4.0                0.6157648561700779   0.4199777789115905   0.3791663580941568\n",
              "---  ---                  ---         ---                ---                  ---                  ---\n",
              "     2016-10-11 22:12:02  0.268 sec   46.0               0.44617892226219485  0.3265072156155537   0.19907563067105372\n",
              "     2016-10-11 22:12:02  0.273 sec   47.0               0.44438491638774996  0.32495001512388283  0.19747795391294753\n",
              "     2016-10-11 22:12:02  0.277 sec   48.0               0.44316349042207676  0.32397591528430886  0.1963938792430781\n",
              "     2016-10-11 22:12:02  0.281 sec   49.0               0.44320851910345044  0.3239741775841495   0.19643379140587358\n",
              "     2016-10-11 22:12:02  0.285 sec   50.0               0.44248341798756663  0.32339193230634367  0.19579157519395962"
            ]
          },
          "metadata": {},
          "output_type": "display_data"
        },
        {
          "name": "stdout",
          "output_type": "stream",
          "text": [
            "\n",
            "See the whole table with table.as_data_frame()\n",
            "Variable Importances: \n"
          ]
        },
        {
          "data": {
            "text/html": [
              "<div style=\"overflow:auto\"><table style=\"width:50%\"><tr><td><b>variable</b></td>\n",
              "<td><b>relative_importance</b></td>\n",
              "<td><b>scaled_importance</b></td>\n",
              "<td><b>percentage</b></td></tr>\n",
              "<tr><td>X1</td>\n",
              "<td>2568.9436035</td>\n",
              "<td>1.0</td>\n",
              "<td>0.7161693</td></tr>\n",
              "<tr><td>X2</td>\n",
              "<td>1018.1182251</td>\n",
              "<td>0.3963179</td>\n",
              "<td>0.2838307</td></tr></table></div>"
            ],
            "text/plain": [
              "variable    relative_importance    scaled_importance    percentage\n",
              "----------  ---------------------  -------------------  ------------\n",
              "X1          2568.94                1                    0.716169\n",
              "X2          1018.12                0.396318             0.283831"
            ]
          },
          "metadata": {},
          "output_type": "display_data"
        },
        {
          "data": {
            "text/plain": []
          },
          "execution_count": 11,
          "metadata": {},
          "output_type": "execute_result"
        }
      ],
      "source": [
        "rf"
      ]
    },
    {
      "cell_type": "code",
      "execution_count": 12,
      "metadata": {},
      "outputs": [
        {
          "name": "stdout",
          "output_type": "stream",
          "text": [
            "Parse progress: |\u2588\u2588\u2588\u2588\u2588\u2588\u2588\u2588\u2588\u2588\u2588\u2588\u2588\u2588\u2588\u2588\u2588\u2588\u2588\u2588\u2588\u2588\u2588\u2588\u2588\u2588\u2588\u2588\u2588\u2588\u2588\u2588\u2588\u2588\u2588\u2588\u2588\u2588\u2588\u2588\u2588\u2588\u2588\u2588\u2588\u2588\u2588\u2588\u2588\u2588\u2588\u2588\u2588\u2588\u2588\u2588\u2588\u2588\u2588\u2588\u2588\u2588\u2588\u2588\u2588\u2588\u2588\u2588\u2588\u2588\u2588\u2588\u2588\u2588\u2588\u2588\u2588| 100%\n"
          ]
        },
        {
          "data": {
            "text/html": [
              "<table>\n",
              "<tr><th style=\"text-align: right;\">  X1</th><th style=\"text-align: right;\">  X2</th></tr>\n",
              "<tr><td style=\"text-align: right;\">3.8 </td><td style=\"text-align: right;\"> 1.5</td></tr>\n",
              "<tr><td style=\"text-align: right;\">3.82</td><td style=\"text-align: right;\"> 1.5</td></tr>\n",
              "<tr><td style=\"text-align: right;\">3.84</td><td style=\"text-align: right;\"> 1.5</td></tr>\n",
              "<tr><td style=\"text-align: right;\">3.86</td><td style=\"text-align: right;\"> 1.5</td></tr>\n",
              "<tr><td style=\"text-align: right;\">3.88</td><td style=\"text-align: right;\"> 1.5</td></tr>\n",
              "<tr><td style=\"text-align: right;\">3.9 </td><td style=\"text-align: right;\"> 1.5</td></tr>\n",
              "<tr><td style=\"text-align: right;\">3.92</td><td style=\"text-align: right;\"> 1.5</td></tr>\n",
              "<tr><td style=\"text-align: right;\">3.94</td><td style=\"text-align: right;\"> 1.5</td></tr>\n",
              "<tr><td style=\"text-align: right;\">3.96</td><td style=\"text-align: right;\"> 1.5</td></tr>\n",
              "<tr><td style=\"text-align: right;\">3.98</td><td style=\"text-align: right;\"> 1.5</td></tr>\n",
              "</table>"
            ]
          },
          "metadata": {},
          "output_type": "display_data"
        },
        {
          "data": {
            "text/plain": []
          },
          "execution_count": 13,
          "metadata": {},
          "output_type": "execute_result"
        }
      ],
      "source": [
        "x_min, x_max = X[:, 0].min() - .5, X[:, 0].max() + .5\n",
        "y_min, y_max = X[:, 1].min() - .5, X[:, 1].max() + .5\n",
        "h = 0.02\n",
        "xx, yy = numpy.meshgrid(numpy.arange(x_min, x_max, h), numpy.arange(y_min, y_max, h))\n",
        "data = numpy.c_[xx.ravel(), yy.ravel()]\n",
        "\n",
        "from h2o.frame import H2OFrame\n",
        "datah2o = H2OFrame(data.tolist())\n",
        "datah2o.set_names([\"X1\", \"X2\"])\n",
        "datah2o"
      ]
    },
    {
      "cell_type": "code",
      "execution_count": 14,
      "metadata": {},
      "outputs": [
        {
          "name": "stdout",
          "output_type": "stream",
          "text": [
            "drf prediction progress: |\u2588\u2588\u2588\u2588\u2588\u2588\u2588\u2588\u2588\u2588\u2588\u2588\u2588\u2588\u2588\u2588\u2588\u2588\u2588\u2588\u2588\u2588\u2588\u2588\u2588\u2588\u2588\u2588\u2588\u2588\u2588\u2588\u2588\u2588\u2588\u2588\u2588\u2588\u2588\u2588\u2588\u2588\u2588\u2588\u2588\u2588\u2588\u2588\u2588\u2588\u2588\u2588\u2588\u2588\u2588\u2588\u2588\u2588\u2588\u2588\u2588\u2588\u2588\u2588\u2588\u2588\u2588\u2588| 100%\n"
          ]
        },
        {
          "data": {
            "text/html": [
              "<table>\n",
              "<tr><th style=\"text-align: right;\">  predict</th></tr>\n",
              "<tr><td style=\"text-align: right;\">     0.54</td></tr>\n",
              "<tr><td style=\"text-align: right;\">     0.54</td></tr>\n",
              "<tr><td style=\"text-align: right;\">     0.54</td></tr>\n",
              "<tr><td style=\"text-align: right;\">     0.54</td></tr>\n",
              "<tr><td style=\"text-align: right;\">     0.54</td></tr>\n",
              "<tr><td style=\"text-align: right;\">     0.54</td></tr>\n",
              "<tr><td style=\"text-align: right;\">     0.54</td></tr>\n",
              "<tr><td style=\"text-align: right;\">     0.54</td></tr>\n",
              "<tr><td style=\"text-align: right;\">     0.54</td></tr>\n",
              "<tr><td style=\"text-align: right;\">     0.54</td></tr>\n",
              "</table>"
            ]
          },
          "metadata": {},
          "output_type": "display_data"
        },
        {
          "data": {
            "text/plain": []
          },
          "execution_count": 15,
          "metadata": {},
          "output_type": "execute_result"
        }
      ],
      "source": [
        "hZ = rf.predict(datah2o)\n",
        "hZ"
      ]
    },
    {
      "cell_type": "code",
      "execution_count": 16,
      "metadata": {},
      "outputs": [
        {
          "data": {
            "text/plain": [
              "pandas.core.frame.DataFrame"
            ]
          },
          "execution_count": 17,
          "metadata": {},
          "output_type": "execute_result"
        }
      ],
      "source": [
        "pZ = hZ.as_data_frame()\n",
        "type(pZ)"
      ]
    },
    {
      "cell_type": "code",
      "execution_count": 18,
      "metadata": {},
      "outputs": [
        {
          "data": {
            "text/plain": [
              "<matplotlib.text.Text at 0x24768e7c908>"
            ]
          },
          "execution_count": 19,
          "metadata": {},
          "output_type": "execute_result"
        },
        {
          "data": {
            "image/png": "[encoded data removed]",
            "text/plain": [
              "<matplotlib.figure.Figure at 0x24768e69080>"
            ]
          },
          "metadata": {},
          "output_type": "display_data"
        }
      ],
      "source": [
        "Z = pZ.as_matrix().reshape(xx.shape)\n",
        "\n",
        "import matplotlib.pyplot as plt\n",
        "plt.figure(1, figsize=(4, 3))\n",
        "plt.pcolormesh(xx, yy, Z, cmap=plt.cm.Paired)\n",
        "plt.scatter(X[:, 0], X[:, 1], c=Y, lw=1, edgecolors='k', cmap=plt.cm.Paired)\n",
        "plt.xlabel('Sepal length')\n",
        "plt.ylabel('Sepal width')"
      ]
    },
    {
      "cell_type": "markdown",
      "metadata": {},
      "source": [
        "L'instruction [shutdown](http://h2o-release.s3.amazonaws.com/h2o/rel-turchin/9/docs-website/h2o-py/docs/h2o.html?highlight=shutdown#h2o.h2o.shutdown) cl\u00f4t le serveur *h2o*."
      ]
    },
    {
      "cell_type": "code",
      "execution_count": 20,
      "metadata": {},
      "outputs": [
        {
          "name": "stdout",
          "output_type": "stream",
          "text": [
            "H2O session _sid_a5eb closed.\n"
          ]
        }
      ],
      "source": [
        "h2o.shutdown(prompt=False)"
      ]
    },
    {
      "cell_type": "code",
      "execution_count": 21,
      "metadata": {
        "collapsed": true
      },
      "outputs": [],
      "source": []
    }
  ],
  "metadata": {
    "kernelspec": {
      "display_name": "Python 3",
      "language": "python",
      "name": "python3"
    },
    "language_info": {
      "codemirror_mode": {
        "name": "ipython",
        "version": 3
      },
      "file_extension": ".py",
      "mimetype": "text/x-python",
      "name": "python",
      "nbconvert_exporter": "python",
      "pygments_lexer": "ipython3",
      "version": "3.6.1"
    }
  },
  "nbformat": 4,
  "nbformat_minor": 1
}