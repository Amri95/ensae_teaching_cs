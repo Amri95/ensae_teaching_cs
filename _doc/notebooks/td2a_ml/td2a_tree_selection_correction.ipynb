{
  "cells": [
    {
      "cell_type": "markdown",
      "metadata": {},
      "source": [
        "# 2A.ml - R\u00e9duction d'une for\u00eat al\u00e9atoire - correction\n",
        "\n",
        "Le mod\u00e8le Lasso permet de s\u00e9lectionner des variables, une for\u00eat al\u00e9atoire produit une pr\u00e9diction comme \u00e9tant la moyenne d'arbres de r\u00e9gression. Et si on m\u00e9langeait les deux ?"
      ]
    },
    {
      "cell_type": "code",
      "execution_count": 1,
      "metadata": {},
      "outputs": [],
      "source": [
        "from jyquickhelper import add_notebook_menu\n",
        "add_notebook_menu()"
      ]
    },
    {
      "cell_type": "code",
      "execution_count": 2,
      "metadata": {},
      "outputs": [],
      "source": [
        "%matplotlib inline"
      ]
    },
    {
      "cell_type": "markdown",
      "metadata": {},
      "source": [
        "## Datasets\n",
        "\n",
        "Comme il faut toujours des donn\u00e9es, on prend ce jeu [Boston](https://scikit-learn.org/stable/modules/generated/sklearn.datasets.load_boston.html)."
      ]
    },
    {
      "cell_type": "code",
      "execution_count": 3,
      "metadata": {},
      "outputs": [],
      "source": [
        "from sklearn.datasets import load_boston\n",
        "data = load_boston()\n",
        "X, y = data.data, data.target"
      ]
    },
    {
      "cell_type": "code",
      "execution_count": 4,
      "metadata": {},
      "outputs": [],
      "source": [
        "from sklearn.model_selection import train_test_split\n",
        "X_train, X_test, y_train, y_test = train_test_split(X, y)"
      ]
    },
    {
      "cell_type": "markdown",
      "metadata": {},
      "source": [
        "## Une for\u00eat al\u00e9atoire"
      ]
    },
    {
      "cell_type": "code",
      "execution_count": 5,
      "metadata": {},
      "outputs": [
        {
          "data": {
            "text/plain": [
              "RandomForestRegressor(bootstrap=True, ccp_alpha=0.0, criterion='mse',\n",
              "                      max_depth=None, max_features='auto', max_leaf_nodes=None,\n",
              "                      min_impurity_decrease=0.0, min_impurity_split=None,\n",
              "                      min_samples_leaf=1, min_samples_split=2,\n",
              "                      min_weight_fraction_leaf=0.0, n_estimators=100,\n",
              "                      n_jobs=None, oob_score=False, random_state=None,\n",
              "                      verbose=0, warm_start=False)"
            ]
          },
          "execution_count": 6,
          "metadata": {},
          "output_type": "execute_result"
        }
      ],
      "source": [
        "from sklearn.ensemble import RandomForestRegressor as model_class\n",
        "clr = model_class()\n",
        "clr.fit(X_train, y_train)"
      ]
    },
    {
      "cell_type": "markdown",
      "metadata": {},
      "source": [
        "Le nombre d'arbres est..."
      ]
    },
    {
      "cell_type": "code",
      "execution_count": 6,
      "metadata": {},
      "outputs": [
        {
          "data": {
            "text/plain": [
              "100"
            ]
          },
          "execution_count": 7,
          "metadata": {},
          "output_type": "execute_result"
        }
      ],
      "source": [
        "len(clr.estimators_)"
      ]
    },
    {
      "cell_type": "code",
      "execution_count": 7,
      "metadata": {},
      "outputs": [
        {
          "data": {
            "text/plain": [
              "0.8816716443059919"
            ]
          },
          "execution_count": 8,
          "metadata": {},
          "output_type": "execute_result"
        }
      ],
      "source": [
        "from sklearn.metrics import r2_score\n",
        "r2_score(y_test, clr.predict(X_test))"
      ]
    },
    {
      "cell_type": "markdown",
      "metadata": {},
      "source": [
        "## Random Forest = moyenne des pr\u00e9dictions\n",
        "\n",
        "On recommence en faisant la moyenne soi-m\u00eame."
      ]
    },
    {
      "cell_type": "code",
      "execution_count": 8,
      "metadata": {},
      "outputs": [
        {
          "data": {
            "text/plain": [
              "0.8816716443059919"
            ]
          },
          "execution_count": 9,
          "metadata": {},
          "output_type": "execute_result"
        }
      ],
      "source": [
        "import numpy\n",
        "dest = numpy.zeros((X_test.shape[0], len(clr.estimators_)))\n",
        "estimators = numpy.array(clr.estimators_).ravel()\n",
        "for i, est in enumerate(estimators):\n",
        "    pred = est.predict(X_test)\n",
        "    dest[:, i] = pred\n",
        "\n",
        "average = numpy.mean(dest, axis=1)\n",
        "r2_score(y_test, average)"
      ]
    },
    {
      "cell_type": "markdown",
      "metadata": {},
      "source": [
        "A priori, c'est la m\u00eame chose."
      ]
    },
    {
      "cell_type": "markdown",
      "metadata": {},
      "source": [
        "## Pond\u00e9rer les arbres \u00e0 l'aide d'une r\u00e9gression lin\u00e9aire\n",
        "\n",
        "La for\u00eat al\u00e9atoire est une fa\u00e7on de cr\u00e9er de nouvelles features, 100 exactement qu'on utilise pour caler une r\u00e9gression lin\u00e9aire."
      ]
    },
    {
      "cell_type": "code",
      "execution_count": 9,
      "metadata": {},
      "outputs": [
        {
          "data": {
            "text/plain": [
              "LinearRegression(copy_X=True, fit_intercept=True, n_jobs=None, normalize=False)"
            ]
          },
          "execution_count": 10,
          "metadata": {},
          "output_type": "execute_result"
        }
      ],
      "source": [
        "from sklearn.linear_model import LinearRegression\n",
        "\n",
        "\n",
        "def new_features(forest, X):\n",
        "    dest = numpy.zeros((X.shape[0], len(forest.estimators_)))\n",
        "    estimators = numpy.array(forest.estimators_).ravel()\n",
        "    for i, est in enumerate(estimators):\n",
        "        pred = est.predict(X)\n",
        "        dest[:, i] = pred\n",
        "    return dest\n",
        "\n",
        "\n",
        "X_train_2 = new_features(clr, X_train)\n",
        "lr = LinearRegression()\n",
        "lr.fit(X_train_2, y_train)"
      ]
    },
    {
      "cell_type": "code",
      "execution_count": 10,
      "metadata": {},
      "outputs": [
        {
          "data": {
            "text/plain": [
              "0.8759826041035556"
            ]
          },
          "execution_count": 11,
          "metadata": {},
          "output_type": "execute_result"
        }
      ],
      "source": [
        "X_test_2 = new_features(clr, X_test)\n",
        "r2_score(y_test, lr.predict(X_test_2))"
      ]
    },
    {
      "cell_type": "markdown",
      "metadata": {},
      "source": [
        "Un peu moins bien, un peu mieux, le risque d'overfitting est un peu plus grand avec ces nombreuses features car la base d'apprentissage ne contient que 379 observations (regardez ``X_train.shape`` pour v\u00e9rifier)."
      ]
    },
    {
      "cell_type": "code",
      "execution_count": 11,
      "metadata": {},
      "outputs": [
        {
          "data": {
            "text/plain": [
              "array([-0.01122904,  0.0044548 ,  0.04920393,  0.02824337, -0.04625929,\n",
              "       -0.03198554,  0.04100134, -0.0110173 ,  0.02175922,  0.02270664,\n",
              "       -0.07129658, -0.04025288,  0.01199426,  0.03317564,  0.0011403 ,\n",
              "        0.03344571,  0.01945555, -0.03182884,  0.07348532,  0.00333813,\n",
              "        0.02294959, -0.00464431,  0.0225264 ,  0.0119253 ,  0.09014915,\n",
              "       -0.0376745 ,  0.04447262,  0.02850649,  0.00736921, -0.01369467,\n",
              "        0.02986174,  0.00575564,  0.05044376,  0.02081299,  0.01798322,\n",
              "       -0.00192326,  0.09159215,  0.08490833,  0.00953901,  0.05039408,\n",
              "       -0.00231599, -0.03193621,  0.04187978, -0.01702496,  0.02467238,\n",
              "        0.0180003 ,  0.08144923, -0.00251786, -0.01782545, -0.01027325,\n",
              "        0.01990357, -0.03748182, -0.04099434,  0.00057383, -0.03013624,\n",
              "        0.11380534,  0.06436785,  0.04228636,  0.02423566, -0.0560923 ,\n",
              "       -0.03855099,  0.041692  ,  0.03862377,  0.08781796, -0.05300599,\n",
              "       -0.00840021,  0.02812588, -0.01234117,  0.03544364,  0.0168987 ,\n",
              "       -0.02765353,  0.02515268,  0.04157685, -0.01604241,  0.0098268 ,\n",
              "       -0.06842855,  0.05983471, -0.01461408, -0.00256612,  0.03797782,\n",
              "       -0.01348758,  0.0063176 , -0.0115086 ,  0.05499093,  0.02628663,\n",
              "       -0.02784253, -0.03583171, -0.0050989 , -0.02116866,  0.00982458,\n",
              "       -0.02887861,  0.01661494, -0.02185889, -0.01376049,  0.00091703,\n",
              "        0.06485045, -0.00799936,  0.01988687, -0.00827135,  0.03381613])"
            ]
          },
          "execution_count": 12,
          "metadata": {},
          "output_type": "execute_result"
        }
      ],
      "source": [
        "lr.coef_"
      ]
    },
    {
      "cell_type": "code",
      "execution_count": 12,
      "metadata": {},
      "outputs": [
        {
          "data": {
            "image/png": "[encoded data removed]",
            "text/plain": [
              "<Figure size 864x288 with 1 Axes>"
            ]
          },
          "metadata": {
            "needs_background": "light"
          },
          "output_type": "display_data"
        }
      ],
      "source": [
        "import matplotlib.pyplot as plt\n",
        "fig, ax = plt.subplots(1, 1, figsize=(12, 4))\n",
        "ax.bar(numpy.arange(0, len(lr.coef_)), lr.coef_)\n",
        "ax.set_title(\"Coefficients pour chaque arbre calcul\u00e9s avec une r\u00e9gression lin\u00e9aire\");"
      ]
    },
    {
      "cell_type": "markdown",
      "metadata": {},
      "source": [
        "Le score est avec une r\u00e9gression lin\u00e9aire sur les variables initiales est nettement moins \u00e9lev\u00e9."
      ]
    },
    {
      "cell_type": "code",
      "execution_count": 13,
      "metadata": {},
      "outputs": [
        {
          "data": {
            "text/plain": [
              "0.6978615081037233"
            ]
          },
          "execution_count": 14,
          "metadata": {},
          "output_type": "execute_result"
        }
      ],
      "source": [
        "lr_raw = LinearRegression()\n",
        "lr_raw.fit(X_train, y_train)\n",
        "r2_score(y_test, lr_raw.predict(X_test))"
      ]
    },
    {
      "cell_type": "markdown",
      "metadata": {},
      "source": [
        "## S\u00e9lection d'arbres\n",
        "\n",
        "L'id\u00e9e est d'utiliser un algorithme de s\u00e9lection de variables type [Lasso](https://scikit-learn.org/stable/modules/generated/sklearn.linear_model.Lasso.html) pour r\u00e9duire la for\u00eat al\u00e9atoire sans perdre en performance. C'est presque le m\u00eame code."
      ]
    },
    {
      "cell_type": "code",
      "execution_count": 14,
      "metadata": {},
      "outputs": [
        {
          "data": {
            "text/plain": [
              "array([0.        , 0.        , 0.02245791, 0.01210641, 0.        ,\n",
              "       0.        , 0.        , 0.        , 0.        , 0.03045497,\n",
              "       0.        , 0.        , 0.        , 0.        , 0.        ,\n",
              "       0.01150988, 0.00435434, 0.        , 0.03146978, 0.        ,\n",
              "       0.        , 0.        , 0.03183664, 0.        , 0.12385294,\n",
              "       0.        , 0.03312474, 0.        , 0.        , 0.        ,\n",
              "       0.02413847, 0.        , 0.        , 0.        , 0.00498728,\n",
              "       0.        , 0.06410314, 0.04747783, 0.        , 0.00633977,\n",
              "       0.        , 0.        , 0.03690248, 0.        , 0.        ,\n",
              "       0.        , 0.0564866 , 0.        , 0.        , 0.        ,\n",
              "       0.        , 0.        , 0.        , 0.        , 0.        ,\n",
              "       0.05602663, 0.08840581, 0.01980571, 0.        , 0.        ,\n",
              "       0.        , 0.02873135, 0.03756932, 0.05435875, 0.        ,\n",
              "       0.        , 0.01786024, 0.        , 0.0597982 , 0.02132273,\n",
              "       0.        , 0.        , 0.00315636, 0.        , 0.        ,\n",
              "       0.        , 0.00707516, 0.        , 0.        , 0.01152698,\n",
              "       0.        , 0.        , 0.        , 0.        , 0.01209226,\n",
              "       0.        , 0.        , 0.        , 0.        , 0.        ,\n",
              "       0.        , 0.        , 0.        , 0.        , 0.00326681,\n",
              "       0.0275338 , 0.        , 0.0314566 , 0.        , 0.00132836])"
            ]
          },
          "execution_count": 15,
          "metadata": {},
          "output_type": "execute_result"
        }
      ],
      "source": [
        "from sklearn.linear_model import Lasso\n",
        "\n",
        "lrs = Lasso(max_iter=10000)\n",
        "lrs.fit(X_train_2, y_train)\n",
        "lrs.coef_"
      ]
    },
    {
      "cell_type": "markdown",
      "metadata": {},
      "source": [
        "Pas mal de z\u00e9ros donc pas mal d'arbres non utilis\u00e9s."
      ]
    },
    {
      "cell_type": "code",
      "execution_count": 15,
      "metadata": {},
      "outputs": [
        {
          "data": {
            "text/plain": [
              "0.8843604495090776"
            ]
          },
          "execution_count": 16,
          "metadata": {},
          "output_type": "execute_result"
        }
      ],
      "source": [
        "r2_score(y_test, lrs.predict(X_test_2))"
      ]
    },
    {
      "cell_type": "markdown",
      "metadata": {},
      "source": [
        "Pas trop de perte... Ca donne envie d'essayer plusieurs valeur de `alpha`."
      ]
    },
    {
      "cell_type": "code",
      "execution_count": 16,
      "metadata": {},
      "outputs": [
        {
          "name": "stderr",
          "output_type": "stream",
          "text": [
            "  0%|                                                                                          | 0/200 [00:00<?, ?it/s]c:\\python372_x64\\lib\\site-packages\\ipykernel_launcher.py:7: UserWarning: With alpha=0, this algorithm does not converge well. You are advised to use the LinearRegression estimator\n",
            "  import sys\n",
            "C:\\xavierdupre\\__home_\\github_fork\\scikit-learn\\sklearn\\linear_model\\coordinate_descent.py:475: UserWarning: Coordinate descent with no regularization may lead to unexpected results and is discouraged.\n",
            "  positive)\n",
            "C:\\xavierdupre\\__home_\\github_fork\\scikit-learn\\sklearn\\linear_model\\coordinate_descent.py:475: ConvergenceWarning: Objective did not converge. You might want to increase the number of iterations. Duality gap: 125.80123242096884, tolerance: 3.3705663218997364\n",
            "  positive)\n",
            "  0%|\u258d                                                                                 | 1/200 [00:00<01:53,  1.75it/s]C:\\xavierdupre\\__home_\\github_fork\\scikit-learn\\sklearn\\linear_model\\coordinate_descent.py:475: ConvergenceWarning: Objective did not converge. You might want to increase the number of iterations. Duality gap: 14.242863637667796, tolerance: 3.3705663218997364\n",
            "  positive)\n",
            "100%|\u2588\u2588\u2588\u2588\u2588\u2588\u2588\u2588\u2588\u2588\u2588\u2588\u2588\u2588\u2588\u2588\u2588\u2588\u2588\u2588\u2588\u2588\u2588\u2588\u2588\u2588\u2588\u2588\u2588\u2588\u2588\u2588\u2588\u2588\u2588\u2588\u2588\u2588\u2588\u2588\u2588\u2588\u2588\u2588\u2588\u2588\u2588\u2588\u2588\u2588\u2588\u2588\u2588\u2588\u2588\u2588\u2588\u2588\u2588\u2588\u2588\u2588\u2588\u2588\u2588\u2588\u2588\u2588\u2588\u2588\u2588\u2588\u2588\u2588\u2588\u2588\u2588\u2588\u2588\u2588| 200/200 [00:11<00:00, 45.65it/s]\n"
          ]
        }
      ],
      "source": [
        "from tqdm import tqdm\n",
        "alphas = [0.01 * i for i in range(100)] +[1 + 0.1 * i for i in range(100)]\n",
        "obs = []\n",
        "for i in tqdm(range(0, len(alphas))):\n",
        "    alpha = alphas[i]\n",
        "    lrs = Lasso(max_iter=20000, alpha=alpha)\n",
        "    lrs.fit(X_train_2, y_train)\n",
        "    obs.append(dict(\n",
        "        alpha=alpha,\n",
        "        null=len(lrs.coef_[lrs.coef_!=0]),\n",
        "        r2=r2_score(y_test, lrs.predict(X_test_2))\n",
        "    ))"
      ]
    },
    {
      "cell_type": "code",
      "execution_count": 17,
      "metadata": {},
      "outputs": [
        {
          "data": {
            "text/html": [
              "<div>\n",
              "<style scoped>\n",
              "    .dataframe tbody tr th:only-of-type {\n",
              "        vertical-align: middle;\n",
              "    }\n",
              "\n",
              "    .dataframe tbody tr th {\n",
              "        vertical-align: top;\n",
              "    }\n",
              "\n",
              "    .dataframe thead th {\n",
              "        text-align: right;\n",
              "    }\n",
              "</style>\n",
              "<table border=\"1\" class=\"dataframe\">\n",
              "  <thead>\n",
              "    <tr style=\"text-align: right;\">\n",
              "      <th></th>\n",
              "      <th>alpha</th>\n",
              "      <th>null</th>\n",
              "      <th>r2</th>\n",
              "    </tr>\n",
              "  </thead>\n",
              "  <tbody>\n",
              "    <tr>\n",
              "      <th>195</th>\n",
              "      <td>10.5</td>\n",
              "      <td>21</td>\n",
              "      <td>0.877512</td>\n",
              "    </tr>\n",
              "    <tr>\n",
              "      <th>196</th>\n",
              "      <td>10.6</td>\n",
              "      <td>21</td>\n",
              "      <td>0.877345</td>\n",
              "    </tr>\n",
              "    <tr>\n",
              "      <th>197</th>\n",
              "      <td>10.7</td>\n",
              "      <td>21</td>\n",
              "      <td>0.877175</td>\n",
              "    </tr>\n",
              "    <tr>\n",
              "      <th>198</th>\n",
              "      <td>10.8</td>\n",
              "      <td>21</td>\n",
              "      <td>0.877003</td>\n",
              "    </tr>\n",
              "    <tr>\n",
              "      <th>199</th>\n",
              "      <td>10.9</td>\n",
              "      <td>21</td>\n",
              "      <td>0.876827</td>\n",
              "    </tr>\n",
              "  </tbody>\n",
              "</table>\n",
              "</div>"
            ],
            "text/plain": [
              "     alpha  null        r2\n",
              "195   10.5    21  0.877512\n",
              "196   10.6    21  0.877345\n",
              "197   10.7    21  0.877175\n",
              "198   10.8    21  0.877003\n",
              "199   10.9    21  0.876827"
            ]
          },
          "execution_count": 18,
          "metadata": {},
          "output_type": "execute_result"
        }
      ],
      "source": [
        "from pandas import DataFrame\n",
        "df = DataFrame(obs)\n",
        "df.tail()"
      ]
    },
    {
      "cell_type": "code",
      "execution_count": 18,
      "metadata": {},
      "outputs": [
        {
          "data": {
            "image/png": "[encoded data removed]",
            "text/plain": [
              "<Figure size 864x288 with 2 Axes>"
            ]
          },
          "metadata": {
            "needs_background": "light"
          },
          "output_type": "display_data"
        }
      ],
      "source": [
        "fig, ax = plt.subplots(1, 2, figsize=(12, 4))\n",
        "df[[\"alpha\", \"null\"]].set_index(\"alpha\").plot(ax=ax[0], logx=True)\n",
        "ax[0].set_title(\"Nombre de coefficients non nulls\")\n",
        "df[[\"alpha\", \"r2\"]].set_index(\"alpha\").plot(ax=ax[1], logx=True)\n",
        "ax[1].set_title(\"r2\");"
      ]
    },
    {
      "cell_type": "markdown",
      "metadata": {},
      "source": [
        "Dans ce cas, supprimer des arbres augmentent la performance, comme \u00e9voqu\u00e9 ci-dessus, cela r\u00e9duit l'overfitting. Le nombre d'arbre peut \u00eatre r\u00e9duit des deux tiers avec ce mod\u00e8le."
      ]
    },
    {
      "cell_type": "code",
      "execution_count": 19,
      "metadata": {},
      "outputs": [],
      "source": []
    }
  ],
  "metadata": {
    "kernelspec": {
      "display_name": "Python 3",
      "language": "python",
      "name": "python3"
    },
    "language_info": {
      "codemirror_mode": {
        "name": "ipython",
        "version": 3
      },
      "file_extension": ".py",
      "mimetype": "text/x-python",
      "name": "python",
      "nbconvert_exporter": "python",
      "pygments_lexer": "ipython3",
      "version": "3.7.2"
    }
  },
  "nbformat": 4,
  "nbformat_minor": 2
}