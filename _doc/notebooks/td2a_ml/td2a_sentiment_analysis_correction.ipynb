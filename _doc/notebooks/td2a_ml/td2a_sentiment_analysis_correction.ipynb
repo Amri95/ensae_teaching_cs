{
  "cells": [
    {
      "cell_type": "markdown",
      "metadata": {},
      "source": [
        "# 2A.ml - Analyse de sentiments - correction\n",
        "\n",
        "C'est d\u00e9sormais un probl\u00e8me classique de machine learning. D'un c\u00f4t\u00e9, du texte, de l'autre une appr\u00e9ciation, le plus souvent binaire, positive ou n\u00e9gative mais qui pourrait \u00eatre graduelle."
      ]
    },
    {
      "cell_type": "code",
      "execution_count": 1,
      "metadata": {},
      "outputs": [],
      "source": [
        "%matplotlib inline"
      ]
    },
    {
      "cell_type": "code",
      "execution_count": 2,
      "metadata": {},
      "outputs": [
        {
          "data": {
            "text/html": [
              "<div id=\"my_id_menu_nb\">run previous cell, wait for 2 seconds</div>\n",
              "<script>\n",
              "function repeat_indent_string(n){\n",
              "    var a = \"\" ;\n",
              "    for ( ; n > 0 ; --n)\n",
              "        a += \"    \";\n",
              "    return a;\n",
              "}\n",
              "// look up into all sections and builds an automated menu //\n",
              "var update_menu_string = function(begin, lfirst, llast, sformat, send, keep_item, begin_format, end_format) {\n",
              "    var anchors = document.getElementsByClassName(\"section\");\n",
              "    if (anchors.length == 0) {\n",
              "        anchors = document.getElementsByClassName(\"text_cell_render rendered_html\");\n",
              "    }\n",
              "    var i,t;\n",
              "    var text_menu = begin;\n",
              "    var text_memo = \"<pre>\\nlength:\" + anchors.length + \"\\n\";\n",
              "    var ind = \"\";\n",
              "    var memo_level = 1;\n",
              "    var href;\n",
              "    var tags = [];\n",
              "    var main_item = 0;\n",
              "    var format_open = 0;\n",
              "    for (i = 0; i <= llast; i++)\n",
              "        tags.push(\"h\" + i);\n",
              "\n",
              "    for (i = 0; i < anchors.length; i++) {\n",
              "        text_memo += \"**\" + anchors[i].id + \"--\\n\";\n",
              "\n",
              "        var child = null;\n",
              "        for(t = 0; t < tags.length; t++) {\n",
              "            var r = anchors[i].getElementsByTagName(tags[t]);\n",
              "            if (r.length > 0) {\n",
              "child = r[0];\n",
              "break;\n",
              "            }\n",
              "        }\n",
              "        if (child == null) {\n",
              "            text_memo += \"null\\n\";\n",
              "            continue;\n",
              "        }\n",
              "        if (anchors[i].hasAttribute(\"id\")) {\n",
              "            // when converted in RST\n",
              "            href = anchors[i].id;\n",
              "            text_memo += \"#1-\" + href;\n",
              "            // passer \u00e0 child suivant (le chercher)\n",
              "        }\n",
              "        else if (child.hasAttribute(\"id\")) {\n",
              "            // in a notebook\n",
              "            href = child.id;\n",
              "            text_memo += \"#2-\" + href;\n",
              "        }\n",
              "        else {\n",
              "            text_memo += \"#3-\" + \"*\" + \"\\n\";\n",
              "            continue;\n",
              "        }\n",
              "        var title = child.textContent;\n",
              "        var level = parseInt(child.tagName.substring(1,2));\n",
              "\n",
              "        text_memo += \"--\" + level + \"?\" + lfirst + \"--\" + title + \"\\n\";\n",
              "\n",
              "        if ((level < lfirst) || (level > llast)) {\n",
              "            continue ;\n",
              "        }\n",
              "        if (title.endsWith('\u00b6')) {\n",
              "            title = title.substring(0,title.length-1).replace(\"<\", \"&lt;\")\n",
              "         .replace(\">\", \"&gt;\").replace(\"&\", \"&amp;\");\n",
              "        }\n",
              "        if (title.length == 0) {\n",
              "            continue;\n",
              "        }\n",
              "\n",
              "        while (level < memo_level) {\n",
              "            text_menu += end_format + \"</ul>\\n\";\n",
              "            format_open -= 1;\n",
              "            memo_level -= 1;\n",
              "        }\n",
              "        if (level == lfirst) {\n",
              "            main_item += 1;\n",
              "        }\n",
              "        if (keep_item != -1 && main_item != keep_item + 1) {\n",
              "            // alert(main_item + \" - \" + level + \" - \" + keep_item);\n",
              "            continue;\n",
              "        }\n",
              "        while (level > memo_level) {\n",
              "            text_menu += \"<ul>\\n\";\n",
              "            memo_level += 1;\n",
              "        }\n",
              "        text_menu += repeat_indent_string(level-2);\n",
              "        text_menu += begin_format + sformat.replace(\"__HREF__\", href).replace(\"__TITLE__\", title);\n",
              "        format_open += 1;\n",
              "    }\n",
              "    while (1 < memo_level) {\n",
              "        text_menu += end_format + \"</ul>\\n\";\n",
              "        memo_level -= 1;\n",
              "        format_open -= 1;\n",
              "    }\n",
              "    text_menu += send;\n",
              "    //text_menu += \"\\n\" + text_memo;\n",
              "\n",
              "    while (format_open > 0) {\n",
              "        text_menu += end_format;\n",
              "        format_open -= 1;\n",
              "    }\n",
              "    return text_menu;\n",
              "};\n",
              "var update_menu = function() {\n",
              "    var sbegin = \"\";\n",
              "    var sformat = '<a href=\"#__HREF__\">__TITLE__</a>';\n",
              "    var send = \"\";\n",
              "    var begin_format = '<li>';\n",
              "    var end_format = '</li>';\n",
              "    var keep_item = -1;\n",
              "    var text_menu = update_menu_string(sbegin, 2, 4, sformat, send, keep_item,\n",
              "       begin_format, end_format);\n",
              "    var menu = document.getElementById(\"my_id_menu_nb\");\n",
              "    menu.innerHTML=text_menu;\n",
              "};\n",
              "window.setTimeout(update_menu,2000);\n",
              "            </script>"
            ],
            "text/plain": [
              "<IPython.core.display.HTML object>"
            ]
          },
          "execution_count": 3,
          "metadata": {},
          "output_type": "execute_result"
        }
      ],
      "source": [
        "from jyquickhelper import add_notebook_menu\n",
        "add_notebook_menu()"
      ]
    },
    {
      "cell_type": "markdown",
      "metadata": {},
      "source": [
        "## Les donn\u00e9es\n",
        "\n",
        "On r\u00e9cup\u00e8re les donn\u00e9es depuis le site UCI [Sentiment Labelled Sentences Data Set](https://archive.ics.uci.edu/ml/datasets/Sentiment+Labelled+Sentences) o\u00f9 on utilise la fonction ``load_sentiment_dataset``."
      ]
    },
    {
      "cell_type": "code",
      "execution_count": 3,
      "metadata": {},
      "outputs": [
        {
          "data": {
            "text/html": [
              "<div>\n",
              "<style scoped>\n",
              "    .dataframe tbody tr th:only-of-type {\n",
              "        vertical-align: middle;\n",
              "    }\n",
              "\n",
              "    .dataframe tbody tr th {\n",
              "        vertical-align: top;\n",
              "    }\n",
              "\n",
              "    .dataframe thead th {\n",
              "        text-align: right;\n",
              "    }\n",
              "</style>\n",
              "<table border=\"1\" class=\"dataframe\">\n",
              "  <thead>\n",
              "    <tr style=\"text-align: right;\">\n",
              "      <th></th>\n",
              "      <th>sentance</th>\n",
              "      <th>sentiment</th>\n",
              "      <th>source</th>\n",
              "    </tr>\n",
              "  </thead>\n",
              "  <tbody>\n",
              "    <tr>\n",
              "      <th>0</th>\n",
              "      <td>So there is no way for me to plug it in here i...</td>\n",
              "      <td>0</td>\n",
              "      <td>amazon_cells_labelled</td>\n",
              "    </tr>\n",
              "    <tr>\n",
              "      <th>1</th>\n",
              "      <td>Good case, Excellent value.</td>\n",
              "      <td>1</td>\n",
              "      <td>amazon_cells_labelled</td>\n",
              "    </tr>\n",
              "    <tr>\n",
              "      <th>2</th>\n",
              "      <td>Great for the jawbone.</td>\n",
              "      <td>1</td>\n",
              "      <td>amazon_cells_labelled</td>\n",
              "    </tr>\n",
              "    <tr>\n",
              "      <th>3</th>\n",
              "      <td>Tied to charger for conversations lasting more...</td>\n",
              "      <td>0</td>\n",
              "      <td>amazon_cells_labelled</td>\n",
              "    </tr>\n",
              "    <tr>\n",
              "      <th>4</th>\n",
              "      <td>The mic is great.</td>\n",
              "      <td>1</td>\n",
              "      <td>amazon_cells_labelled</td>\n",
              "    </tr>\n",
              "  </tbody>\n",
              "</table>\n",
              "</div>"
            ],
            "text/plain": [
              "                                            sentance  sentiment  \\\n",
              "0  So there is no way for me to plug it in here i...          0   \n",
              "1                        Good case, Excellent value.          1   \n",
              "2                             Great for the jawbone.          1   \n",
              "3  Tied to charger for conversations lasting more...          0   \n",
              "4                                  The mic is great.          1   \n",
              "\n",
              "                  source  \n",
              "0  amazon_cells_labelled  \n",
              "1  amazon_cells_labelled  \n",
              "2  amazon_cells_labelled  \n",
              "3  amazon_cells_labelled  \n",
              "4  amazon_cells_labelled  "
            ]
          },
          "execution_count": 4,
          "metadata": {},
          "output_type": "execute_result"
        }
      ],
      "source": [
        "from ensae_teaching_cs.data import load_sentiment_dataset\n",
        "df = load_sentiment_dataset()\n",
        "df.head()"
      ]
    },
    {
      "cell_type": "markdown",
      "metadata": {},
      "source": [
        "## Exercice 1 : approche td-idf\n",
        "\n",
        "La cible est la colonne *sentiment*, les deux autres colonnes sont les features. Il faudra utiliser les pr\u00e9traitements [LabelEncoder](http://scikit-learn.org/stable/modules/generated/sklearn.preprocessing.LabelEncoder.html), [OneHotEncoder](http://scikit-learn.org/stable/modules/generated/sklearn.preprocessing.OneHotEncoder.html), [TF-IDF](http://scikit-learn.org/stable/modules/generated/sklearn.feature_extraction.text.TfidfVectorizer.html). L'un d'entre eux n'est pas n\u00e9cessaire depuis la version [0.20.0](http://scikit-learn.org/stable/whats_new.html#sklearn-preprocessing) de *scikit-learn*. On s'occupe des variables cat\u00e9gorielles."
      ]
    },
    {
      "cell_type": "markdown",
      "metadata": {},
      "source": [
        "### La variable cat\u00e9gorielle\n",
        "\n",
        "Ce serait un peu plus simple avec le module [Category Encoders](http://contrib.scikit-learn.org/categorical-encoding/) ou la derni\u00e8re nouveaut\u00e9 de scikit-learn : [ColumnTransformer](http://scikit-learn.org/stable/modules/generated/sklearn.compose.ColumnTransformer.html#sklearn.compose.ColumnTransformer)."
      ]
    },
    {
      "cell_type": "code",
      "execution_count": 4,
      "metadata": {},
      "outputs": [],
      "source": [
        "from sklearn.model_selection import train_test_split\n",
        "X_train, X_test, y_train, y_test = train_test_split(\n",
        "                df.drop(\"sentiment\", axis=1), df[\"sentiment\"])"
      ]
    },
    {
      "cell_type": "code",
      "execution_count": 5,
      "metadata": {},
      "outputs": [
        {
          "data": {
            "text/plain": [
              "(2250,)"
            ]
          },
          "execution_count": 6,
          "metadata": {},
          "output_type": "execute_result"
        }
      ],
      "source": [
        "from sklearn.preprocessing import LabelEncoder, OneHotEncoder\n",
        "le = LabelEncoder()\n",
        "le.fit(X_train[\"source\"])\n",
        "X_le = le.transform(X_train[\"source\"])\n",
        "X_le.shape"
      ]
    },
    {
      "cell_type": "code",
      "execution_count": 6,
      "metadata": {},
      "outputs": [],
      "source": [
        "X_le_mat = X_le.reshape((X_le.shape[0], 1))"
      ]
    },
    {
      "cell_type": "code",
      "execution_count": 7,
      "metadata": {},
      "outputs": [
        {
          "data": {
            "text/plain": [
              "OneHotEncoder(categorical_features=None, categories='auto',\n",
              "       dtype=<class 'numpy.float64'>, handle_unknown='error',\n",
              "       n_values=None, sparse=True)"
            ]
          },
          "execution_count": 8,
          "metadata": {},
          "output_type": "execute_result"
        }
      ],
      "source": [
        "ohe = OneHotEncoder(categories=\"auto\")\n",
        "ohe.fit(X_le_mat)"
      ]
    },
    {
      "cell_type": "code",
      "execution_count": 8,
      "metadata": {},
      "outputs": [],
      "source": [
        "X_le_encoded = ohe.transform(X_le_mat)\n",
        "train_cat = X_le_encoded.todense()\n",
        "test_cat = ohe.transform(le.transform(X_test[\"source\"]).reshape((len(X_test), 1))).todense()"
      ]
    },
    {
      "cell_type": "code",
      "execution_count": 9,
      "metadata": {},
      "outputs": [
        {
          "data": {
            "text/html": [
              "<div>\n",
              "<style scoped>\n",
              "    .dataframe tbody tr th:only-of-type {\n",
              "        vertical-align: middle;\n",
              "    }\n",
              "\n",
              "    .dataframe tbody tr th {\n",
              "        vertical-align: top;\n",
              "    }\n",
              "\n",
              "    .dataframe thead th {\n",
              "        text-align: right;\n",
              "    }\n",
              "</style>\n",
              "<table border=\"1\" class=\"dataframe\">\n",
              "  <thead>\n",
              "    <tr style=\"text-align: right;\">\n",
              "      <th></th>\n",
              "      <th>sentance</th>\n",
              "      <th>source</th>\n",
              "      <th>amazon_cells_labelled</th>\n",
              "      <th>imdb_labelled</th>\n",
              "      <th>yelp_labelled</th>\n",
              "    </tr>\n",
              "  </thead>\n",
              "  <tbody>\n",
              "    <tr>\n",
              "      <th>0</th>\n",
              "      <td>The reception through this headset is excellent.</td>\n",
              "      <td>amazon_cells_labelled</td>\n",
              "      <td>1.0</td>\n",
              "      <td>0.0</td>\n",
              "      <td>0.0</td>\n",
              "    </tr>\n",
              "    <tr>\n",
              "      <th>1</th>\n",
              "      <td>John Wayne did an incredible job for being so ...</td>\n",
              "      <td>imdb_labelled</td>\n",
              "      <td>0.0</td>\n",
              "      <td>1.0</td>\n",
              "      <td>0.0</td>\n",
              "    </tr>\n",
              "  </tbody>\n",
              "</table>\n",
              "</div>"
            ],
            "text/plain": [
              "                                            sentance                 source  \\\n",
              "0   The reception through this headset is excellent.  amazon_cells_labelled   \n",
              "1  John Wayne did an incredible job for being so ...          imdb_labelled   \n",
              "\n",
              "   amazon_cells_labelled  imdb_labelled  yelp_labelled  \n",
              "0                    1.0            0.0            0.0  \n",
              "1                    0.0            1.0            0.0  "
            ]
          },
          "execution_count": 10,
          "metadata": {},
          "output_type": "execute_result"
        }
      ],
      "source": [
        "import pandas\n",
        "X_train2 = pandas.concat([X_train.reset_index(drop=True),\n",
        "                          pandas.DataFrame(train_cat, columns=le.classes_)],\n",
        "                         sort=False, axis=1)\n",
        "X_train2.head(n=2)"
      ]
    },
    {
      "cell_type": "code",
      "execution_count": 10,
      "metadata": {},
      "outputs": [
        {
          "data": {
            "text/html": [
              "<div>\n",
              "<style scoped>\n",
              "    .dataframe tbody tr th:only-of-type {\n",
              "        vertical-align: middle;\n",
              "    }\n",
              "\n",
              "    .dataframe tbody tr th {\n",
              "        vertical-align: top;\n",
              "    }\n",
              "\n",
              "    .dataframe thead th {\n",
              "        text-align: right;\n",
              "    }\n",
              "</style>\n",
              "<table border=\"1\" class=\"dataframe\">\n",
              "  <thead>\n",
              "    <tr style=\"text-align: right;\">\n",
              "      <th></th>\n",
              "      <th>sentance</th>\n",
              "      <th>source</th>\n",
              "      <th>amazon_cells_labelled</th>\n",
              "      <th>imdb_labelled</th>\n",
              "      <th>yelp_labelled</th>\n",
              "    </tr>\n",
              "  </thead>\n",
              "  <tbody>\n",
              "    <tr>\n",
              "      <th>0</th>\n",
              "      <td>But even the talented Carrell can't save this.</td>\n",
              "      <td>imdb_labelled</td>\n",
              "      <td>0.0</td>\n",
              "      <td>1.0</td>\n",
              "      <td>0.0</td>\n",
              "    </tr>\n",
              "    <tr>\n",
              "      <th>1</th>\n",
              "      <td>Jamie Foxx absolutely IS Ray Charles.</td>\n",
              "      <td>imdb_labelled</td>\n",
              "      <td>0.0</td>\n",
              "      <td>1.0</td>\n",
              "      <td>0.0</td>\n",
              "    </tr>\n",
              "  </tbody>\n",
              "</table>\n",
              "</div>"
            ],
            "text/plain": [
              "                                           sentance         source  \\\n",
              "0  But even the talented Carrell can't save this.    imdb_labelled   \n",
              "1           Jamie Foxx absolutely IS Ray Charles.    imdb_labelled   \n",
              "\n",
              "   amazon_cells_labelled  imdb_labelled  yelp_labelled  \n",
              "0                    0.0            1.0            0.0  \n",
              "1                    0.0            1.0            0.0  "
            ]
          },
          "execution_count": 11,
          "metadata": {},
          "output_type": "execute_result"
        }
      ],
      "source": [
        "X_test2 = pandas.concat([X_test.reset_index(drop=True),\n",
        "                         pandas.DataFrame(test_cat, columns=le.classes_)],\n",
        "                         sort=False, axis=1)\n",
        "X_test2.head(n=2)"
      ]
    },
    {
      "cell_type": "markdown",
      "metadata": {},
      "source": [
        "### tokenisation\n",
        "\n",
        "On tokenise avec le module [spacy](https://spacy.io/usage/spacy-101#annotations-token) qui requiert des donn\u00e9es suppl\u00e9mentaires pour d\u00e9couper en mot avec ``pip install https://github.com/explosion/spacy-models/releases/download/en_core_web_sm-2.0.0/en_core_web_sm-2.0.0.tar.gz`` selon les instructions d\u00e9voil\u00e9es dans le [guide de d\u00e9part](https://spacy.io/usage/models) ou encore ``python -m spacy download en``. Le module [gensim](http://www.xavierdupre.fr/app/papierstat/helpsphinx/notebooks/artificiel_tokenize.html?highlight=tokenisation#gensim) ne requiert pas d'installation. On peut aussi s'inspirer de l'example [word2vec pr\u00e9-entra\u00een\u00e9s](http://www.xavierdupre.fr/app/papierstat/helpsphinx/notebooks/text_sentiment_wordvec.html#word2vec-pre-entraines)."
      ]
    },
    {
      "cell_type": "code",
      "execution_count": 11,
      "metadata": {},
      "outputs": [
        {
          "name": "stderr",
          "output_type": "stream",
          "text": [
            "c:\\python370_x64\\lib\\importlib\\_bootstrap.py:219: RuntimeWarning: numpy.dtype size changed, may indicate binary incompatibility. Expected 96, got 88\n",
            "  return f(*args, **kwds)\n",
            "c:\\python370_x64\\lib\\importlib\\_bootstrap.py:219: RuntimeWarning: numpy.ufunc size changed, may indicate binary incompatibility. Expected 192, got 176\n",
            "  return f(*args, **kwds)\n"
          ]
        }
      ],
      "source": [
        "import en_core_web_sm\n",
        "nlp = en_core_web_sm.load()"
      ]
    },
    {
      "cell_type": "code",
      "execution_count": 12,
      "metadata": {},
      "outputs": [
        {
          "data": {
            "text/plain": [
              "['The', 'reception', 'through', 'this', 'headset', 'is', 'excellent', '.']"
            ]
          },
          "execution_count": 13,
          "metadata": {},
          "output_type": "execute_result"
        }
      ],
      "source": [
        "doc = nlp(X_train2.iloc[0,0])\n",
        "[token.text for token in doc]"
      ]
    },
    {
      "cell_type": "markdown",
      "metadata": {},
      "source": [
        "### tf-idf\n",
        "\n",
        "Une fois que les mots sont tokenis\u00e9, on peut appliquer le *tf-idf*."
      ]
    },
    {
      "cell_type": "code",
      "execution_count": 13,
      "metadata": {},
      "outputs": [],
      "source": [
        "from sklearn.feature_extraction.text import TfidfTransformer, CountVectorizer\n",
        "from sklearn.pipeline import make_pipeline\n",
        "tokenizer = lambda text: [token.text.lower() for token in nlp(text)]\n",
        "count = CountVectorizer(tokenizer=tokenizer, analyzer='word')\n",
        "tfidf = TfidfTransformer()\n",
        "pipe = make_pipeline(count, tfidf)"
      ]
    },
    {
      "cell_type": "code",
      "execution_count": 14,
      "metadata": {},
      "outputs": [
        {
          "data": {
            "text/plain": [
              "Pipeline(memory=None,\n",
              "     steps=[('countvectorizer', CountVectorizer(analyzer='word', binary=False, decode_error='strict',\n",
              "        dtype=<class 'numpy.int64'>, encoding='utf-8', input='content',\n",
              "        lowercase=True, max_df=1.0, max_features=None, min_df=1,\n",
              "        ngram_range=(1, 1), preprocessor=None, stop_words=None,\n",
              "  ...'tfidftransformer', TfidfTransformer(norm='l2', smooth_idf=True, sublinear_tf=False, use_idf=True))])"
            ]
          },
          "execution_count": 15,
          "metadata": {},
          "output_type": "execute_result"
        }
      ],
      "source": [
        "pipe.fit(X_train[\"sentance\"])"
      ]
    },
    {
      "cell_type": "code",
      "execution_count": 15,
      "metadata": {},
      "outputs": [
        {
          "data": {
            "text/plain": [
              "<2250x4410 sparse matrix of type '<class 'numpy.float64'>'\n",
              "\twith 29252 stored elements in Compressed Sparse Row format>"
            ]
          },
          "execution_count": 16,
          "metadata": {},
          "output_type": "execute_result"
        }
      ],
      "source": [
        "train_feature = pipe.transform(X_train2[\"sentance\"])\n",
        "train_feature"
      ]
    },
    {
      "cell_type": "code",
      "execution_count": 16,
      "metadata": {},
      "outputs": [],
      "source": [
        "test_feature = pipe.transform(X_test2[\"sentance\"])"
      ]
    },
    {
      "cell_type": "markdown",
      "metadata": {},
      "source": [
        "### Combinaison de toutes les variables"
      ]
    },
    {
      "cell_type": "code",
      "execution_count": 17,
      "metadata": {},
      "outputs": [
        {
          "data": {
            "text/plain": [
              "((2250, 4410), (2250, 3))"
            ]
          },
          "execution_count": 18,
          "metadata": {},
          "output_type": "execute_result"
        }
      ],
      "source": [
        "train_feature.shape, train_cat.shape"
      ]
    },
    {
      "cell_type": "code",
      "execution_count": 18,
      "metadata": {},
      "outputs": [],
      "source": [
        "import numpy\n",
        "np_train = numpy.hstack([train_feature.todense(), train_cat])\n",
        "np_test = numpy.hstack([test_feature.todense(), test_cat])"
      ]
    },
    {
      "cell_type": "markdown",
      "metadata": {},
      "source": [
        "### Calage d'un mod\u00e8le"
      ]
    },
    {
      "cell_type": "code",
      "execution_count": 19,
      "metadata": {},
      "outputs": [
        {
          "data": {
            "text/plain": [
              "RandomForestClassifier(bootstrap=True, class_weight=None, criterion='gini',\n",
              "            max_depth=None, max_features='auto', max_leaf_nodes=None,\n",
              "            min_impurity_decrease=0.0, min_impurity_split=None,\n",
              "            min_samples_leaf=1, min_samples_split=2,\n",
              "            min_weight_fraction_leaf=0.0, n_estimators=50, n_jobs=None,\n",
              "            oob_score=False, random_state=None, verbose=0,\n",
              "            warm_start=False)"
            ]
          },
          "execution_count": 20,
          "metadata": {},
          "output_type": "execute_result"
        }
      ],
      "source": [
        "from sklearn.ensemble import RandomForestClassifier\n",
        "rf = RandomForestClassifier(n_estimators=50)\n",
        "rf.fit(np_train, y_train)"
      ]
    },
    {
      "cell_type": "code",
      "execution_count": 20,
      "metadata": {},
      "outputs": [
        {
          "data": {
            "text/plain": [
              "0.776"
            ]
          },
          "execution_count": 21,
          "metadata": {},
          "output_type": "execute_result"
        }
      ],
      "source": [
        "rf.score(np_test, y_test)"
      ]
    },
    {
      "cell_type": "code",
      "execution_count": 21,
      "metadata": {},
      "outputs": [],
      "source": []
    },
    {
      "cell_type": "markdown",
      "metadata": {},
      "source": [
        "## Exercice 2 : word2vec\n",
        "\n",
        "On utilise l'approche [word2vec](https://en.wikipedia.org/wiki/Word2vec) du module [gensim](https://radimrehurek.com/gensim/models/word2vec.html) ou [spacy](https://spacy.io/usage/vectors-similarity). Avec [spacy](https://spacy.io/usage/vectors-similarity), c'est assez simple :"
      ]
    },
    {
      "cell_type": "code",
      "execution_count": 22,
      "metadata": {},
      "outputs": [
        {
          "data": {
            "text/plain": [
              "(array([ 0.51015913,  2.4971437 , -1.1966136 ,  4.0078526 , -0.9308405 ,\n",
              "        -0.44855446, -0.353467  ,  2.5924177 ,  1.1353339 ,  2.8435297 ],\n",
              "       dtype=float32), (384,))"
            ]
          },
          "execution_count": 23,
          "metadata": {},
          "output_type": "execute_result"
        }
      ],
      "source": [
        "vv = nlp(X_train2.iloc[0, 0])\n",
        "list(vv)[0].vector[:10], vv.vector.shape"
      ]
    },
    {
      "cell_type": "markdown",
      "metadata": {},
      "source": [
        "On fait la somme."
      ]
    },
    {
      "cell_type": "code",
      "execution_count": 23,
      "metadata": {},
      "outputs": [
        {
          "data": {
            "text/plain": [
              "array([  4.4440403 ,   6.2368155 ,   1.500057  ,  19.963652  ,\n",
              "         1.4626558 ,   1.4041358 , -11.393349  ,  -0.02471632,\n",
              "         9.648635  ,   6.3697495 ], dtype=float32)"
            ]
          },
          "execution_count": 24,
          "metadata": {},
          "output_type": "execute_result"
        }
      ],
      "source": [
        "sum([_.vector for _ in vv])[:10]"
      ]
    },
    {
      "cell_type": "code",
      "execution_count": 24,
      "metadata": {},
      "outputs": [],
      "source": [
        "np_train_vect = numpy.zeros((X_train2.shape[0], vv.vector.shape[0]))\n",
        "for i, sentance in enumerate(X_train2[\"sentance\"]):\n",
        "    np_train_vect[i, :] = sum(v.vector for v in nlp(sentance.lower()))"
      ]
    },
    {
      "cell_type": "code",
      "execution_count": 25,
      "metadata": {},
      "outputs": [],
      "source": [
        "np_test_vect = numpy.zeros((X_test2.shape[0], vv.vector.shape[0]))\n",
        "for i, sentance in enumerate(X_test2[\"sentance\"]):\n",
        "    np_test_vect[i, :] = sum(v.vector for v in nlp(sentance.lower()))"
      ]
    },
    {
      "cell_type": "code",
      "execution_count": 26,
      "metadata": {},
      "outputs": [],
      "source": [
        "np_train_v = numpy.hstack([np_train_vect, train_cat])\n",
        "np_test_v = numpy.hstack([np_test_vect, test_cat])"
      ]
    },
    {
      "cell_type": "code",
      "execution_count": 27,
      "metadata": {},
      "outputs": [
        {
          "data": {
            "text/plain": [
              "RandomForestClassifier(bootstrap=True, class_weight=None, criterion='gini',\n",
              "            max_depth=None, max_features='auto', max_leaf_nodes=None,\n",
              "            min_impurity_decrease=0.0, min_impurity_split=None,\n",
              "            min_samples_leaf=1, min_samples_split=2,\n",
              "            min_weight_fraction_leaf=0.0, n_estimators=50, n_jobs=None,\n",
              "            oob_score=False, random_state=None, verbose=0,\n",
              "            warm_start=False)"
            ]
          },
          "execution_count": 28,
          "metadata": {},
          "output_type": "execute_result"
        }
      ],
      "source": [
        "rfv = RandomForestClassifier(n_estimators=50)\n",
        "rfv.fit(np_train_v, y_train)"
      ]
    },
    {
      "cell_type": "code",
      "execution_count": 28,
      "metadata": {},
      "outputs": [
        {
          "data": {
            "text/plain": [
              "0.6546666666666666"
            ]
          },
          "execution_count": 29,
          "metadata": {},
          "output_type": "execute_result"
        }
      ],
      "source": [
        "rfv.score(np_test_v, y_test)"
      ]
    },
    {
      "cell_type": "markdown",
      "metadata": {},
      "source": [
        "Moins bien..."
      ]
    },
    {
      "cell_type": "markdown",
      "metadata": {},
      "source": [
        "## Exercice 3 : comparer les deux approches\n",
        "\n",
        "Avec une courbe [ROC](http://scikit-learn.org/stable/modules/generated/sklearn.metrics.roc_curve.html) par exemple."
      ]
    },
    {
      "cell_type": "code",
      "execution_count": 29,
      "metadata": {},
      "outputs": [],
      "source": [
        "pmodel1 = rf.predict_proba(np_test)[:, 1]\n",
        "pmodel2 = rfv.predict_proba(np_test_v)[:, 1]"
      ]
    },
    {
      "cell_type": "code",
      "execution_count": 30,
      "metadata": {},
      "outputs": [],
      "source": [
        "from sklearn.metrics import roc_auc_score, roc_curve, auc\n",
        "fpr1, tpr1, th1 = roc_curve(y_test, pmodel1)\n",
        "fpr2, tpr2, th2 = roc_curve(y_test, pmodel2)"
      ]
    },
    {
      "cell_type": "code",
      "execution_count": 31,
      "metadata": {},
      "outputs": [
        {
          "data": {
            "image/png": "[encoded data removed]",
            "text/plain": [
              "<Figure size 288x288 with 1 Axes>"
            ]
          },
          "metadata": {},
          "output_type": "display_data"
        }
      ],
      "source": [
        "import matplotlib.pyplot as plt\n",
        "fig, ax = plt.subplots(1,1, figsize=(4,4))\n",
        "ax.plot(fpr1, tpr1, label='tf-idf')\n",
        "ax.plot(fpr2, tpr2, label='word2vec')\n",
        "ax.legend();"
      ]
    },
    {
      "cell_type": "markdown",
      "metadata": {},
      "source": [
        "## Petite analyse d'erreurs\n",
        "\n",
        "On combine les erreurs des mod\u00e8les sur la base de test."
      ]
    },
    {
      "cell_type": "code",
      "execution_count": 32,
      "metadata": {},
      "outputs": [
        {
          "data": {
            "text/html": [
              "<div>\n",
              "<style scoped>\n",
              "    .dataframe tbody tr th:only-of-type {\n",
              "        vertical-align: middle;\n",
              "    }\n",
              "\n",
              "    .dataframe tbody tr th {\n",
              "        vertical-align: top;\n",
              "    }\n",
              "\n",
              "    .dataframe thead th {\n",
              "        text-align: right;\n",
              "    }\n",
              "</style>\n",
              "<table border=\"1\" class=\"dataframe\">\n",
              "  <thead>\n",
              "    <tr style=\"text-align: right;\">\n",
              "      <th></th>\n",
              "      <th>sentance</th>\n",
              "      <th>source</th>\n",
              "      <th>model1</th>\n",
              "      <th>model2</th>\n",
              "      <th>label</th>\n",
              "    </tr>\n",
              "  </thead>\n",
              "  <tbody>\n",
              "    <tr>\n",
              "      <th>44</th>\n",
              "      <td>But even the talented Carrell can't save this.</td>\n",
              "      <td>imdb_labelled</td>\n",
              "      <td>0.14</td>\n",
              "      <td>0.40</td>\n",
              "      <td>0</td>\n",
              "    </tr>\n",
              "    <tr>\n",
              "      <th>209</th>\n",
              "      <td>Jamie Foxx absolutely IS Ray Charles.</td>\n",
              "      <td>imdb_labelled</td>\n",
              "      <td>0.60</td>\n",
              "      <td>0.52</td>\n",
              "      <td>1</td>\n",
              "    </tr>\n",
              "    <tr>\n",
              "      <th>398</th>\n",
              "      <td>Non-linear narration thus many flashbacks and ...</td>\n",
              "      <td>imdb_labelled</td>\n",
              "      <td>0.86</td>\n",
              "      <td>0.60</td>\n",
              "      <td>1</td>\n",
              "    </tr>\n",
              "    <tr>\n",
              "      <th>848</th>\n",
              "      <td>Lots of holes in the script.</td>\n",
              "      <td>imdb_labelled</td>\n",
              "      <td>0.30</td>\n",
              "      <td>0.62</td>\n",
              "      <td>0</td>\n",
              "    </tr>\n",
              "    <tr>\n",
              "      <th>953</th>\n",
              "      <td>It didn't charge for me.</td>\n",
              "      <td>amazon_cells_labelled</td>\n",
              "      <td>0.34</td>\n",
              "      <td>0.34</td>\n",
              "      <td>0</td>\n",
              "    </tr>\n",
              "  </tbody>\n",
              "</table>\n",
              "</div>"
            ],
            "text/plain": [
              "                                              sentance                 source  \\\n",
              "44    But even the talented Carrell can't save this.            imdb_labelled   \n",
              "209            Jamie Foxx absolutely IS Ray Charles.            imdb_labelled   \n",
              "398  Non-linear narration thus many flashbacks and ...          imdb_labelled   \n",
              "848                     Lots of holes in the script.            imdb_labelled   \n",
              "953                           It didn't charge for me.  amazon_cells_labelled   \n",
              "\n",
              "     model1  model2  label  \n",
              "44     0.14    0.40      0  \n",
              "209    0.60    0.52      1  \n",
              "398    0.86    0.60      1  \n",
              "848    0.30    0.62      0  \n",
              "953    0.34    0.34      0  "
            ]
          },
          "execution_count": 33,
          "metadata": {},
          "output_type": "execute_result"
        }
      ],
      "source": [
        "final = X_test.copy()\n",
        "final[\"model1\"] = pmodel1\n",
        "final[\"model2\"] = pmodel2\n",
        "final[\"label\"] = y_test\n",
        "final.head()"
      ]
    },
    {
      "cell_type": "markdown",
      "metadata": {},
      "source": [
        "On regarde des erreurs."
      ]
    },
    {
      "cell_type": "code",
      "execution_count": 33,
      "metadata": {},
      "outputs": [
        {
          "data": {
            "text/html": [
              "<div>\n",
              "<style scoped>\n",
              "    .dataframe tbody tr th:only-of-type {\n",
              "        vertical-align: middle;\n",
              "    }\n",
              "\n",
              "    .dataframe tbody tr th {\n",
              "        vertical-align: top;\n",
              "    }\n",
              "\n",
              "    .dataframe thead th {\n",
              "        text-align: right;\n",
              "    }\n",
              "</style>\n",
              "<table border=\"1\" class=\"dataframe\">\n",
              "  <thead>\n",
              "    <tr style=\"text-align: right;\">\n",
              "      <th></th>\n",
              "      <th>sentance</th>\n",
              "      <th>source</th>\n",
              "      <th>model1</th>\n",
              "      <th>model2</th>\n",
              "      <th>label</th>\n",
              "    </tr>\n",
              "  </thead>\n",
              "  <tbody>\n",
              "    <tr>\n",
              "      <th>944</th>\n",
              "      <td>However, after finally watching this film, I r...</td>\n",
              "      <td>imdb_labelled</td>\n",
              "      <td>0.50</td>\n",
              "      <td>0.24</td>\n",
              "      <td>1</td>\n",
              "    </tr>\n",
              "    <tr>\n",
              "      <th>716</th>\n",
              "      <td>It quit working after I'd used it for about 18...</td>\n",
              "      <td>amazon_cells_labelled</td>\n",
              "      <td>0.60</td>\n",
              "      <td>0.26</td>\n",
              "      <td>1</td>\n",
              "    </tr>\n",
              "    <tr>\n",
              "      <th>817</th>\n",
              "      <td>You will leave the theater wanting to go out a...</td>\n",
              "      <td>imdb_labelled</td>\n",
              "      <td>0.52</td>\n",
              "      <td>0.28</td>\n",
              "      <td>1</td>\n",
              "    </tr>\n",
              "    <tr>\n",
              "      <th>50</th>\n",
              "      <td>I'm glad the film didn't go for the most obvio...</td>\n",
              "      <td>imdb_labelled</td>\n",
              "      <td>0.24</td>\n",
              "      <td>0.28</td>\n",
              "      <td>1</td>\n",
              "    </tr>\n",
              "    <tr>\n",
              "      <th>58</th>\n",
              "      <td>The salad had just the right amount of sauce t...</td>\n",
              "      <td>yelp_labelled</td>\n",
              "      <td>0.26</td>\n",
              "      <td>0.28</td>\n",
              "      <td>1</td>\n",
              "    </tr>\n",
              "  </tbody>\n",
              "</table>\n",
              "</div>"
            ],
            "text/plain": [
              "                                              sentance                 source  \\\n",
              "944  However, after finally watching this film, I r...          imdb_labelled   \n",
              "716  It quit working after I'd used it for about 18...  amazon_cells_labelled   \n",
              "817  You will leave the theater wanting to go out a...          imdb_labelled   \n",
              "50   I'm glad the film didn't go for the most obvio...          imdb_labelled   \n",
              "58   The salad had just the right amount of sauce t...          yelp_labelled   \n",
              "\n",
              "     model1  model2  label  \n",
              "944    0.50    0.24      1  \n",
              "716    0.60    0.26      1  \n",
              "817    0.52    0.28      1  \n",
              "50     0.24    0.28      1  \n",
              "58     0.26    0.28      1  "
            ]
          },
          "execution_count": 34,
          "metadata": {},
          "output_type": "execute_result"
        }
      ],
      "source": [
        "erreurs = final[final[\"label\"] == 1].sort_values(\"model2\")\n",
        "erreurs.head()"
      ]
    },
    {
      "cell_type": "code",
      "execution_count": 34,
      "metadata": {},
      "outputs": [
        {
          "data": {
            "text/plain": [
              "['However, after finally watching this film, I realized that not only had I had a closed mind to the brilliance it depicts, I also found myself watching it over and over again.  ',\n",
              " \"It quit working after I'd used it for about 18 months, so I just purchased another one because this is the best headset I've ever owned.\",\n",
              " 'You will leave the theater wanting to go out and dance under the stars.  ',\n",
              " \"I'm glad the film didn't go for the most obvious choice, as a lesser film certainly would have.  \",\n",
              " 'The salad had just the right amount of sauce to not over power the scallop, which was perfectly cooked.']"
            ]
          },
          "execution_count": 35,
          "metadata": {},
          "output_type": "execute_result"
        }
      ],
      "source": [
        "list(erreurs[\"sentance\"])[:5]"
      ]
    },
    {
      "cell_type": "markdown",
      "metadata": {},
      "source": [
        "Le mod\u00e8le 2 reconna\u00eet mal les n\u00e9gations visiblement. On regarde le mod\u00e8le 1."
      ]
    },
    {
      "cell_type": "code",
      "execution_count": 35,
      "metadata": {},
      "outputs": [
        {
          "data": {
            "text/html": [
              "<div>\n",
              "<style scoped>\n",
              "    .dataframe tbody tr th:only-of-type {\n",
              "        vertical-align: middle;\n",
              "    }\n",
              "\n",
              "    .dataframe tbody tr th {\n",
              "        vertical-align: top;\n",
              "    }\n",
              "\n",
              "    .dataframe thead th {\n",
              "        text-align: right;\n",
              "    }\n",
              "</style>\n",
              "<table border=\"1\" class=\"dataframe\">\n",
              "  <thead>\n",
              "    <tr style=\"text-align: right;\">\n",
              "      <th></th>\n",
              "      <th>sentance</th>\n",
              "      <th>source</th>\n",
              "      <th>model1</th>\n",
              "      <th>model2</th>\n",
              "      <th>label</th>\n",
              "    </tr>\n",
              "  </thead>\n",
              "  <tbody>\n",
              "    <tr>\n",
              "      <th>323</th>\n",
              "      <td>I was able to do voice dialing in the car with...</td>\n",
              "      <td>amazon_cells_labelled</td>\n",
              "      <td>0.14</td>\n",
              "      <td>0.30</td>\n",
              "      <td>1</td>\n",
              "    </tr>\n",
              "    <tr>\n",
              "      <th>414</th>\n",
              "      <td>I would have casted her in that role after rea...</td>\n",
              "      <td>imdb_labelled</td>\n",
              "      <td>0.16</td>\n",
              "      <td>0.34</td>\n",
              "      <td>1</td>\n",
              "    </tr>\n",
              "    <tr>\n",
              "      <th>680</th>\n",
              "      <td>I gave it 5 stars then, and I'm giving it 5 st...</td>\n",
              "      <td>yelp_labelled</td>\n",
              "      <td>0.16</td>\n",
              "      <td>0.48</td>\n",
              "      <td>1</td>\n",
              "    </tr>\n",
              "    <tr>\n",
              "      <th>658</th>\n",
              "      <td>It was just not a fun experience.</td>\n",
              "      <td>yelp_labelled</td>\n",
              "      <td>0.18</td>\n",
              "      <td>0.40</td>\n",
              "      <td>1</td>\n",
              "    </tr>\n",
              "    <tr>\n",
              "      <th>545</th>\n",
              "      <td>No shifting, no bubbling, no peeling, not even...</td>\n",
              "      <td>amazon_cells_labelled</td>\n",
              "      <td>0.20</td>\n",
              "      <td>0.52</td>\n",
              "      <td>1</td>\n",
              "    </tr>\n",
              "  </tbody>\n",
              "</table>\n",
              "</div>"
            ],
            "text/plain": [
              "                                              sentance                 source  \\\n",
              "323  I was able to do voice dialing in the car with...  amazon_cells_labelled   \n",
              "414  I would have casted her in that role after rea...          imdb_labelled   \n",
              "680  I gave it 5 stars then, and I'm giving it 5 st...          yelp_labelled   \n",
              "658                  It was just not a fun experience.          yelp_labelled   \n",
              "545  No shifting, no bubbling, no peeling, not even...  amazon_cells_labelled   \n",
              "\n",
              "     model1  model2  label  \n",
              "323    0.14    0.30      1  \n",
              "414    0.16    0.34      1  \n",
              "680    0.16    0.48      1  \n",
              "658    0.18    0.40      1  \n",
              "545    0.20    0.52      1  "
            ]
          },
          "execution_count": 36,
          "metadata": {},
          "output_type": "execute_result"
        }
      ],
      "source": [
        "erreurs = final[final[\"label\"] == 1].sort_values(\"model1\")\n",
        "erreurs.head()"
      ]
    },
    {
      "cell_type": "code",
      "execution_count": 36,
      "metadata": {},
      "outputs": [
        {
          "data": {
            "text/plain": [
              "['I was able to do voice dialing in the car with no problem.',\n",
              " 'I would have casted her in that role after ready the script.  ',\n",
              " \"I gave it 5 stars then, and I'm giving it 5 stars now.\",\n",
              " 'It was just not a fun experience.',\n",
              " \"No shifting, no bubbling, no peeling, not even a scratch, NOTHING!I couldn't be more happier with my new one for the Droid.\"]"
            ]
          },
          "execution_count": 37,
          "metadata": {},
          "output_type": "execute_result"
        }
      ],
      "source": [
        "list(erreurs[\"sentance\"])[:5]"
      ]
    },
    {
      "cell_type": "markdown",
      "metadata": {},
      "source": [
        "Idem, voyons l\u00e0 o\u00f9 les mod\u00e8les sont en d\u00e9saccords."
      ]
    },
    {
      "cell_type": "code",
      "execution_count": 37,
      "metadata": {},
      "outputs": [],
      "source": [
        "final[\"diff\"] = final.model1 - final.model2"
      ]
    },
    {
      "cell_type": "code",
      "execution_count": 38,
      "metadata": {},
      "outputs": [
        {
          "data": {
            "text/html": [
              "<div>\n",
              "<style scoped>\n",
              "    .dataframe tbody tr th:only-of-type {\n",
              "        vertical-align: middle;\n",
              "    }\n",
              "\n",
              "    .dataframe tbody tr th {\n",
              "        vertical-align: top;\n",
              "    }\n",
              "\n",
              "    .dataframe thead th {\n",
              "        text-align: right;\n",
              "    }\n",
              "</style>\n",
              "<table border=\"1\" class=\"dataframe\">\n",
              "  <thead>\n",
              "    <tr style=\"text-align: right;\">\n",
              "      <th></th>\n",
              "      <th>sentance</th>\n",
              "      <th>source</th>\n",
              "      <th>model1</th>\n",
              "      <th>model2</th>\n",
              "      <th>label</th>\n",
              "      <th>diff</th>\n",
              "    </tr>\n",
              "  </thead>\n",
              "  <tbody>\n",
              "    <tr>\n",
              "      <th>418</th>\n",
              "      <td>First time going but I think I will quickly be...</td>\n",
              "      <td>yelp_labelled</td>\n",
              "      <td>0.24</td>\n",
              "      <td>0.60</td>\n",
              "      <td>1</td>\n",
              "      <td>-0.36</td>\n",
              "    </tr>\n",
              "    <tr>\n",
              "      <th>545</th>\n",
              "      <td>No shifting, no bubbling, no peeling, not even...</td>\n",
              "      <td>amazon_cells_labelled</td>\n",
              "      <td>0.20</td>\n",
              "      <td>0.52</td>\n",
              "      <td>1</td>\n",
              "      <td>-0.32</td>\n",
              "    </tr>\n",
              "    <tr>\n",
              "      <th>680</th>\n",
              "      <td>I gave it 5 stars then, and I'm giving it 5 st...</td>\n",
              "      <td>yelp_labelled</td>\n",
              "      <td>0.16</td>\n",
              "      <td>0.48</td>\n",
              "      <td>1</td>\n",
              "      <td>-0.32</td>\n",
              "    </tr>\n",
              "    <tr>\n",
              "      <th>20</th>\n",
              "      <td>I can think of no other film where something v...</td>\n",
              "      <td>imdb_labelled</td>\n",
              "      <td>0.28</td>\n",
              "      <td>0.58</td>\n",
              "      <td>1</td>\n",
              "      <td>-0.30</td>\n",
              "    </tr>\n",
              "    <tr>\n",
              "      <th>939</th>\n",
              "      <td>I like the fact that it rests lightly against ...</td>\n",
              "      <td>amazon_cells_labelled</td>\n",
              "      <td>0.24</td>\n",
              "      <td>0.52</td>\n",
              "      <td>1</td>\n",
              "      <td>-0.28</td>\n",
              "    </tr>\n",
              "  </tbody>\n",
              "</table>\n",
              "</div>"
            ],
            "text/plain": [
              "                                              sentance                 source  \\\n",
              "418  First time going but I think I will quickly be...          yelp_labelled   \n",
              "545  No shifting, no bubbling, no peeling, not even...  amazon_cells_labelled   \n",
              "680  I gave it 5 stars then, and I'm giving it 5 st...          yelp_labelled   \n",
              "20   I can think of no other film where something v...          imdb_labelled   \n",
              "939  I like the fact that it rests lightly against ...  amazon_cells_labelled   \n",
              "\n",
              "     model1  model2  label  diff  \n",
              "418    0.24    0.60      1 -0.36  \n",
              "545    0.20    0.52      1 -0.32  \n",
              "680    0.16    0.48      1 -0.32  \n",
              "20     0.28    0.58      1 -0.30  \n",
              "939    0.24    0.52      1 -0.28  "
            ]
          },
          "execution_count": 39,
          "metadata": {},
          "output_type": "execute_result"
        }
      ],
      "source": [
        "erreurs = final[final[\"label\"] == 1].sort_values(\"diff\")\n",
        "erreurs.head()"
      ]
    },
    {
      "cell_type": "code",
      "execution_count": 39,
      "metadata": {},
      "outputs": [
        {
          "data": {
            "text/html": [
              "<div>\n",
              "<style scoped>\n",
              "    .dataframe tbody tr th:only-of-type {\n",
              "        vertical-align: middle;\n",
              "    }\n",
              "\n",
              "    .dataframe tbody tr th {\n",
              "        vertical-align: top;\n",
              "    }\n",
              "\n",
              "    .dataframe thead th {\n",
              "        text-align: right;\n",
              "    }\n",
              "</style>\n",
              "<table border=\"1\" class=\"dataframe\">\n",
              "  <thead>\n",
              "    <tr style=\"text-align: right;\">\n",
              "      <th></th>\n",
              "      <th>sentance</th>\n",
              "      <th>source</th>\n",
              "      <th>model1</th>\n",
              "      <th>model2</th>\n",
              "      <th>label</th>\n",
              "      <th>diff</th>\n",
              "    </tr>\n",
              "  </thead>\n",
              "  <tbody>\n",
              "    <tr>\n",
              "      <th>320</th>\n",
              "      <td>I am also very happy with the price.</td>\n",
              "      <td>amazon_cells_labelled</td>\n",
              "      <td>0.92</td>\n",
              "      <td>0.52</td>\n",
              "      <td>1</td>\n",
              "      <td>0.40</td>\n",
              "    </tr>\n",
              "    <tr>\n",
              "      <th>887</th>\n",
              "      <td>Best headset ever!!!.</td>\n",
              "      <td>amazon_cells_labelled</td>\n",
              "      <td>0.88</td>\n",
              "      <td>0.48</td>\n",
              "      <td>1</td>\n",
              "      <td>0.40</td>\n",
              "    </tr>\n",
              "    <tr>\n",
              "      <th>61</th>\n",
              "      <td>All in all I give this one a resounding 9 out ...</td>\n",
              "      <td>imdb_labelled</td>\n",
              "      <td>0.72</td>\n",
              "      <td>0.30</td>\n",
              "      <td>1</td>\n",
              "      <td>0.42</td>\n",
              "    </tr>\n",
              "    <tr>\n",
              "      <th>234</th>\n",
              "      <td>Great place to have a couple drinks and watch ...</td>\n",
              "      <td>yelp_labelled</td>\n",
              "      <td>0.86</td>\n",
              "      <td>0.42</td>\n",
              "      <td>1</td>\n",
              "      <td>0.44</td>\n",
              "    </tr>\n",
              "    <tr>\n",
              "      <th>599</th>\n",
              "      <td>For the price on Amazon, it is an excellent pr...</td>\n",
              "      <td>amazon_cells_labelled</td>\n",
              "      <td>0.84</td>\n",
              "      <td>0.36</td>\n",
              "      <td>1</td>\n",
              "      <td>0.48</td>\n",
              "    </tr>\n",
              "  </tbody>\n",
              "</table>\n",
              "</div>"
            ],
            "text/plain": [
              "                                              sentance                 source  \\\n",
              "320               I am also very happy with the price.  amazon_cells_labelled   \n",
              "887                              Best headset ever!!!.  amazon_cells_labelled   \n",
              "61   All in all I give this one a resounding 9 out ...          imdb_labelled   \n",
              "234  Great place to have a couple drinks and watch ...          yelp_labelled   \n",
              "599  For the price on Amazon, it is an excellent pr...  amazon_cells_labelled   \n",
              "\n",
              "     model1  model2  label  diff  \n",
              "320    0.92    0.52      1  0.40  \n",
              "887    0.88    0.48      1  0.40  \n",
              "61     0.72    0.30      1  0.42  \n",
              "234    0.86    0.42      1  0.44  \n",
              "599    0.84    0.36      1  0.48  "
            ]
          },
          "execution_count": 40,
          "metadata": {},
          "output_type": "execute_result"
        }
      ],
      "source": [
        "erreurs.tail()"
      ]
    },
    {
      "cell_type": "markdown",
      "metadata": {},
      "source": [
        "Le mod\u00e8le 2 (word2vec) a l'air meilleur sur les phrases longues, le mod\u00e8le 1 (tf-idf) saisit mieux les mots positifs. A confirmer sur plus de donn\u00e9es. \n",
        "\n",
        "* Enlever les stop words, les signes de ponctuation.\n",
        "* Combiner les deux approches.\n",
        "* n-grammes\n",
        "* ...\n",
        "\n",
        "Derni\u00e8re analyse en regardant le taux d'erreur par source."
      ]
    },
    {
      "cell_type": "code",
      "execution_count": 40,
      "metadata": {},
      "outputs": [
        {
          "data": {
            "text/html": [
              "<div>\n",
              "<style scoped>\n",
              "    .dataframe tbody tr th:only-of-type {\n",
              "        vertical-align: middle;\n",
              "    }\n",
              "\n",
              "    .dataframe tbody tr th {\n",
              "        vertical-align: top;\n",
              "    }\n",
              "\n",
              "    .dataframe thead th {\n",
              "        text-align: right;\n",
              "    }\n",
              "</style>\n",
              "<table border=\"1\" class=\"dataframe\">\n",
              "  <thead>\n",
              "    <tr style=\"text-align: right;\">\n",
              "      <th></th>\n",
              "      <th>sentance</th>\n",
              "      <th>source</th>\n",
              "      <th>model1</th>\n",
              "      <th>model2</th>\n",
              "      <th>label</th>\n",
              "      <th>diff</th>\n",
              "      <th>rep1</th>\n",
              "      <th>rep2</th>\n",
              "      <th>err1</th>\n",
              "      <th>err2</th>\n",
              "      <th>total</th>\n",
              "    </tr>\n",
              "  </thead>\n",
              "  <tbody>\n",
              "    <tr>\n",
              "      <th>44</th>\n",
              "      <td>But even the talented Carrell can't save this.</td>\n",
              "      <td>imdb_labelled</td>\n",
              "      <td>0.14</td>\n",
              "      <td>0.40</td>\n",
              "      <td>0</td>\n",
              "      <td>-0.26</td>\n",
              "      <td>0</td>\n",
              "      <td>0</td>\n",
              "      <td>0</td>\n",
              "      <td>0</td>\n",
              "      <td>1</td>\n",
              "    </tr>\n",
              "    <tr>\n",
              "      <th>209</th>\n",
              "      <td>Jamie Foxx absolutely IS Ray Charles.</td>\n",
              "      <td>imdb_labelled</td>\n",
              "      <td>0.60</td>\n",
              "      <td>0.52</td>\n",
              "      <td>1</td>\n",
              "      <td>0.08</td>\n",
              "      <td>1</td>\n",
              "      <td>1</td>\n",
              "      <td>0</td>\n",
              "      <td>0</td>\n",
              "      <td>1</td>\n",
              "    </tr>\n",
              "    <tr>\n",
              "      <th>398</th>\n",
              "      <td>Non-linear narration thus many flashbacks and ...</td>\n",
              "      <td>imdb_labelled</td>\n",
              "      <td>0.86</td>\n",
              "      <td>0.60</td>\n",
              "      <td>1</td>\n",
              "      <td>0.26</td>\n",
              "      <td>1</td>\n",
              "      <td>1</td>\n",
              "      <td>0</td>\n",
              "      <td>0</td>\n",
              "      <td>1</td>\n",
              "    </tr>\n",
              "    <tr>\n",
              "      <th>848</th>\n",
              "      <td>Lots of holes in the script.</td>\n",
              "      <td>imdb_labelled</td>\n",
              "      <td>0.30</td>\n",
              "      <td>0.62</td>\n",
              "      <td>0</td>\n",
              "      <td>-0.32</td>\n",
              "      <td>0</td>\n",
              "      <td>1</td>\n",
              "      <td>0</td>\n",
              "      <td>1</td>\n",
              "      <td>1</td>\n",
              "    </tr>\n",
              "    <tr>\n",
              "      <th>953</th>\n",
              "      <td>It didn't charge for me.</td>\n",
              "      <td>amazon_cells_labelled</td>\n",
              "      <td>0.34</td>\n",
              "      <td>0.34</td>\n",
              "      <td>0</td>\n",
              "      <td>0.00</td>\n",
              "      <td>0</td>\n",
              "      <td>0</td>\n",
              "      <td>0</td>\n",
              "      <td>0</td>\n",
              "      <td>1</td>\n",
              "    </tr>\n",
              "  </tbody>\n",
              "</table>\n",
              "</div>"
            ],
            "text/plain": [
              "                                              sentance                 source  \\\n",
              "44    But even the talented Carrell can't save this.            imdb_labelled   \n",
              "209            Jamie Foxx absolutely IS Ray Charles.            imdb_labelled   \n",
              "398  Non-linear narration thus many flashbacks and ...          imdb_labelled   \n",
              "848                     Lots of holes in the script.            imdb_labelled   \n",
              "953                           It didn't charge for me.  amazon_cells_labelled   \n",
              "\n",
              "     model1  model2  label  diff  rep1  rep2  err1  err2  total  \n",
              "44     0.14    0.40      0 -0.26     0     0     0     0      1  \n",
              "209    0.60    0.52      1  0.08     1     1     0     0      1  \n",
              "398    0.86    0.60      1  0.26     1     1     0     0      1  \n",
              "848    0.30    0.62      0 -0.32     0     1     0     1      1  \n",
              "953    0.34    0.34      0  0.00     0     0     0     0      1  "
            ]
          },
          "execution_count": 41,
          "metadata": {},
          "output_type": "execute_result"
        }
      ],
      "source": [
        "r1 = rf.predict(np_test)\n",
        "r2 = rfv.predict(np_test_v)\n",
        "final[\"rep1\"] = r1\n",
        "final[\"rep2\"] = r2\n",
        "final[\"err1\"] = (final.label - final.rep1).abs()\n",
        "final[\"err2\"] = (final.label - final.rep2).abs()\n",
        "final[\"total\"] = 1\n",
        "final.head()"
      ]
    },
    {
      "cell_type": "code",
      "execution_count": 41,
      "metadata": {},
      "outputs": [
        {
          "data": {
            "text/html": [
              "<div>\n",
              "<style scoped>\n",
              "    .dataframe tbody tr th:only-of-type {\n",
              "        vertical-align: middle;\n",
              "    }\n",
              "\n",
              "    .dataframe tbody tr th {\n",
              "        vertical-align: top;\n",
              "    }\n",
              "\n",
              "    .dataframe thead th {\n",
              "        text-align: right;\n",
              "    }\n",
              "</style>\n",
              "<table border=\"1\" class=\"dataframe\">\n",
              "  <thead>\n",
              "    <tr style=\"text-align: right;\">\n",
              "      <th></th>\n",
              "      <th>err1</th>\n",
              "      <th>err2</th>\n",
              "      <th>total</th>\n",
              "    </tr>\n",
              "    <tr>\n",
              "      <th>source</th>\n",
              "      <th></th>\n",
              "      <th></th>\n",
              "      <th></th>\n",
              "    </tr>\n",
              "  </thead>\n",
              "  <tbody>\n",
              "    <tr>\n",
              "      <th>amazon_cells_labelled</th>\n",
              "      <td>54</td>\n",
              "      <td>75</td>\n",
              "      <td>245</td>\n",
              "    </tr>\n",
              "    <tr>\n",
              "      <th>imdb_labelled</th>\n",
              "      <td>60</td>\n",
              "      <td>95</td>\n",
              "      <td>253</td>\n",
              "    </tr>\n",
              "    <tr>\n",
              "      <th>yelp_labelled</th>\n",
              "      <td>54</td>\n",
              "      <td>89</td>\n",
              "      <td>252</td>\n",
              "    </tr>\n",
              "  </tbody>\n",
              "</table>\n",
              "</div>"
            ],
            "text/plain": [
              "                       err1  err2  total\n",
              "source                                  \n",
              "amazon_cells_labelled    54    75    245\n",
              "imdb_labelled            60    95    253\n",
              "yelp_labelled            54    89    252"
            ]
          },
          "execution_count": 42,
          "metadata": {},
          "output_type": "execute_result"
        }
      ],
      "source": [
        "final[[\"source\", \"err1\", \"err2\", \"total\"]].groupby(\"source\").sum()"
      ]
    },
    {
      "cell_type": "markdown",
      "metadata": {},
      "source": [
        "*imdb* para\u00eet une source une peu plus difficile \u00e0 saisir. Quoiqu'il en soit, 2000 phrases pour apprendre est assez peu pour apprendre."
      ]
    },
    {
      "cell_type": "code",
      "execution_count": 42,
      "metadata": {},
      "outputs": [],
      "source": []
    }
  ],
  "metadata": {
    "kernelspec": {
      "display_name": "Python 3",
      "language": "python",
      "name": "python3"
    },
    "language_info": {
      "codemirror_mode": {
        "name": "ipython",
        "version": 3
      },
      "file_extension": ".py",
      "mimetype": "text/x-python",
      "name": "python",
      "nbconvert_exporter": "python",
      "pygments_lexer": "ipython3",
      "version": "3.7.0"
    }
  },
  "nbformat": 4,
  "nbformat_minor": 2
}