{
  "cells": [
    {
      "cell_type": "markdown",
      "metadata": {},
      "source": [
        "# 2A.ml - Analyse de sentiments - correction\n",
        "\n",
        "C'est d\u00e9sormais un probl\u00e8me classique de machine learning. D'un c\u00f4t\u00e9, du texte, de l'autre une appr\u00e9ciation, le plus souvent binaire, positive ou n\u00e9gative mais qui pourrait \u00eatre graduelle."
      ]
    },
    {
      "cell_type": "code",
      "execution_count": 1,
      "metadata": {},
      "outputs": [],
      "source": [
        "%matplotlib inline"
      ]
    },
    {
      "cell_type": "code",
      "execution_count": 2,
      "metadata": {},
      "outputs": [
        {
          "data": {
            "text/html": [
              "<div id=\"my_id_menu_nb\">run previous cell, wait for 2 seconds</div>\n",
              "<script>\n",
              "function repeat_indent_string(n){\n",
              "    var a = \"\" ;\n",
              "    for ( ; n > 0 ; --n)\n",
              "        a += \"    \";\n",
              "    return a;\n",
              "}\n",
              "// look up into all sections and builds an automated menu //\n",
              "var update_menu_string = function(begin, lfirst, llast, sformat, send, keep_item, begin_format, end_format) {\n",
              "    var anchors = document.getElementsByClassName(\"section\");\n",
              "    if (anchors.length == 0) {\n",
              "        anchors = document.getElementsByClassName(\"text_cell_render rendered_html\");\n",
              "    }\n",
              "    var i,t;\n",
              "    var text_menu = begin;\n",
              "    var text_memo = \"<pre>\\nlength:\" + anchors.length + \"\\n\";\n",
              "    var ind = \"\";\n",
              "    var memo_level = 1;\n",
              "    var href;\n",
              "    var tags = [];\n",
              "    var main_item = 0;\n",
              "    var format_open = 0;\n",
              "    for (i = 0; i <= llast; i++)\n",
              "        tags.push(\"h\" + i);\n",
              "\n",
              "    for (i = 0; i < anchors.length; i++) {\n",
              "        text_memo += \"**\" + anchors[i].id + \"--\\n\";\n",
              "\n",
              "        var child = null;\n",
              "        for(t = 0; t < tags.length; t++) {\n",
              "            var r = anchors[i].getElementsByTagName(tags[t]);\n",
              "            if (r.length > 0) {\n",
              "child = r[0];\n",
              "break;\n",
              "            }\n",
              "        }\n",
              "        if (child == null) {\n",
              "            text_memo += \"null\\n\";\n",
              "            continue;\n",
              "        }\n",
              "        if (anchors[i].hasAttribute(\"id\")) {\n",
              "            // when converted in RST\n",
              "            href = anchors[i].id;\n",
              "            text_memo += \"#1-\" + href;\n",
              "            // passer \u00e0 child suivant (le chercher)\n",
              "        }\n",
              "        else if (child.hasAttribute(\"id\")) {\n",
              "            // in a notebook\n",
              "            href = child.id;\n",
              "            text_memo += \"#2-\" + href;\n",
              "        }\n",
              "        else {\n",
              "            text_memo += \"#3-\" + \"*\" + \"\\n\";\n",
              "            continue;\n",
              "        }\n",
              "        var title = child.textContent;\n",
              "        var level = parseInt(child.tagName.substring(1,2));\n",
              "\n",
              "        text_memo += \"--\" + level + \"?\" + lfirst + \"--\" + title + \"\\n\";\n",
              "\n",
              "        if ((level < lfirst) || (level > llast)) {\n",
              "            continue ;\n",
              "        }\n",
              "        if (title.endsWith('\u00b6')) {\n",
              "            title = title.substring(0,title.length-1).replace(\"<\", \"&lt;\")\n",
              "         .replace(\">\", \"&gt;\").replace(\"&\", \"&amp;\");\n",
              "        }\n",
              "        if (title.length == 0) {\n",
              "            continue;\n",
              "        }\n",
              "\n",
              "        while (level < memo_level) {\n",
              "            text_menu += end_format + \"</ul>\\n\";\n",
              "            format_open -= 1;\n",
              "            memo_level -= 1;\n",
              "        }\n",
              "        if (level == lfirst) {\n",
              "            main_item += 1;\n",
              "        }\n",
              "        if (keep_item != -1 && main_item != keep_item + 1) {\n",
              "            // alert(main_item + \" - \" + level + \" - \" + keep_item);\n",
              "            continue;\n",
              "        }\n",
              "        while (level > memo_level) {\n",
              "            text_menu += \"<ul>\\n\";\n",
              "            memo_level += 1;\n",
              "        }\n",
              "        text_menu += repeat_indent_string(level-2);\n",
              "        text_menu += begin_format + sformat.replace(\"__HREF__\", href).replace(\"__TITLE__\", title);\n",
              "        format_open += 1;\n",
              "    }\n",
              "    while (1 < memo_level) {\n",
              "        text_menu += end_format + \"</ul>\\n\";\n",
              "        memo_level -= 1;\n",
              "        format_open -= 1;\n",
              "    }\n",
              "    text_menu += send;\n",
              "    //text_menu += \"\\n\" + text_memo;\n",
              "\n",
              "    while (format_open > 0) {\n",
              "        text_menu += end_format;\n",
              "        format_open -= 1;\n",
              "    }\n",
              "    return text_menu;\n",
              "};\n",
              "var update_menu = function() {\n",
              "    var sbegin = \"\";\n",
              "    var sformat = '<a href=\"#__HREF__\">__TITLE__</a>';\n",
              "    var send = \"\";\n",
              "    var begin_format = '<li>';\n",
              "    var end_format = '</li>';\n",
              "    var keep_item = -1;\n",
              "    var text_menu = update_menu_string(sbegin, 2, 4, sformat, send, keep_item,\n",
              "       begin_format, end_format);\n",
              "    var menu = document.getElementById(\"my_id_menu_nb\");\n",
              "    menu.innerHTML=text_menu;\n",
              "};\n",
              "window.setTimeout(update_menu,2000);\n",
              "            </script>"
            ],
            "text/plain": [
              "<IPython.core.display.HTML object>"
            ]
          },
          "execution_count": 3,
          "metadata": {},
          "output_type": "execute_result"
        }
      ],
      "source": [
        "from jyquickhelper import add_notebook_menu\n",
        "add_notebook_menu()"
      ]
    },
    {
      "cell_type": "markdown",
      "metadata": {},
      "source": [
        "## Les donn\u00e9es\n",
        "\n",
        "On r\u00e9cup\u00e8re les donn\u00e9es depuis le site UCI [Sentiment Labelled Sentences Data Set](https://archive.ics.uci.edu/ml/datasets/Sentiment+Labelled+Sentences) o\u00f9 on utilise la fonction ``load_sentiment_dataset``."
      ]
    },
    {
      "cell_type": "code",
      "execution_count": 3,
      "metadata": {},
      "outputs": [
        {
          "data": {
            "text/html": [
              "<div>\n",
              "<style scoped>\n",
              "    .dataframe tbody tr th:only-of-type {\n",
              "        vertical-align: middle;\n",
              "    }\n",
              "\n",
              "    .dataframe tbody tr th {\n",
              "        vertical-align: top;\n",
              "    }\n",
              "\n",
              "    .dataframe thead th {\n",
              "        text-align: right;\n",
              "    }\n",
              "</style>\n",
              "<table border=\"1\" class=\"dataframe\">\n",
              "  <thead>\n",
              "    <tr style=\"text-align: right;\">\n",
              "      <th></th>\n",
              "      <th>sentance</th>\n",
              "      <th>sentiment</th>\n",
              "      <th>source</th>\n",
              "    </tr>\n",
              "  </thead>\n",
              "  <tbody>\n",
              "    <tr>\n",
              "      <th>0</th>\n",
              "      <td>So there is no way for me to plug it in here i...</td>\n",
              "      <td>0</td>\n",
              "      <td>amazon_cells_labelled</td>\n",
              "    </tr>\n",
              "    <tr>\n",
              "      <th>1</th>\n",
              "      <td>Good case, Excellent value.</td>\n",
              "      <td>1</td>\n",
              "      <td>amazon_cells_labelled</td>\n",
              "    </tr>\n",
              "    <tr>\n",
              "      <th>2</th>\n",
              "      <td>Great for the jawbone.</td>\n",
              "      <td>1</td>\n",
              "      <td>amazon_cells_labelled</td>\n",
              "    </tr>\n",
              "    <tr>\n",
              "      <th>3</th>\n",
              "      <td>Tied to charger for conversations lasting more...</td>\n",
              "      <td>0</td>\n",
              "      <td>amazon_cells_labelled</td>\n",
              "    </tr>\n",
              "    <tr>\n",
              "      <th>4</th>\n",
              "      <td>The mic is great.</td>\n",
              "      <td>1</td>\n",
              "      <td>amazon_cells_labelled</td>\n",
              "    </tr>\n",
              "  </tbody>\n",
              "</table>\n",
              "</div>"
            ],
            "text/plain": [
              "                                            sentance  sentiment  \\\n",
              "0  So there is no way for me to plug it in here i...          0   \n",
              "1                        Good case, Excellent value.          1   \n",
              "2                             Great for the jawbone.          1   \n",
              "3  Tied to charger for conversations lasting more...          0   \n",
              "4                                  The mic is great.          1   \n",
              "\n",
              "                  source  \n",
              "0  amazon_cells_labelled  \n",
              "1  amazon_cells_labelled  \n",
              "2  amazon_cells_labelled  \n",
              "3  amazon_cells_labelled  \n",
              "4  amazon_cells_labelled  "
            ]
          },
          "execution_count": 4,
          "metadata": {},
          "output_type": "execute_result"
        }
      ],
      "source": [
        "from ensae_teaching_cs.data import load_sentiment_dataset\n",
        "df = load_sentiment_dataset()\n",
        "df.head()"
      ]
    },
    {
      "cell_type": "markdown",
      "metadata": {},
      "source": [
        "## Exercice 1 : approche td-idf\n",
        "\n",
        "La cible est la colonne *sentiment*, les deux autres colonnes sont les features. Il faudra utiliser les pr\u00e9traitements [LabelEncoder](http://scikit-learn.org/stable/modules/generated/sklearn.preprocessing.LabelEncoder.html), [OneHotEncoder](http://scikit-learn.org/stable/modules/generated/sklearn.preprocessing.OneHotEncoder.html), [TF-IDF](http://scikit-learn.org/stable/modules/generated/sklearn.feature_extraction.text.TfidfVectorizer.html). L'un d'entre eux n'est pas n\u00e9cessaire depuis la version [0.20.0](http://scikit-learn.org/stable/whats_new.html#sklearn-preprocessing) de *scikit-learn*. On s'occupe des variables cat\u00e9gorielles."
      ]
    },
    {
      "cell_type": "markdown",
      "metadata": {},
      "source": [
        "### La variable cat\u00e9gorielle\n",
        "\n",
        "Ce serait un peu plus simple avec le module [Category Encoders](http://contrib.scikit-learn.org/categorical-encoding/) ou la derni\u00e8re nouveaut\u00e9 de scikit-learn : [ColumnTransformer](http://scikit-learn.org/stable/modules/generated/sklearn.compose.ColumnTransformer.html#sklearn.compose.ColumnTransformer)."
      ]
    },
    {
      "cell_type": "code",
      "execution_count": 4,
      "metadata": {},
      "outputs": [],
      "source": [
        "from sklearn.model_selection import train_test_split\n",
        "X_train, X_test, y_train, y_test = train_test_split(\n",
        "                df.drop(\"sentiment\", axis=1), df[\"sentiment\"])"
      ]
    },
    {
      "cell_type": "code",
      "execution_count": 5,
      "metadata": {},
      "outputs": [
        {
          "data": {
            "text/plain": [
              "(2250,)"
            ]
          },
          "execution_count": 6,
          "metadata": {},
          "output_type": "execute_result"
        }
      ],
      "source": [
        "from sklearn.preprocessing import LabelEncoder, OneHotEncoder\n",
        "le = LabelEncoder()\n",
        "le.fit(X_train[\"source\"])\n",
        "X_le = le.transform(X_train[\"source\"])\n",
        "X_le.shape"
      ]
    },
    {
      "cell_type": "code",
      "execution_count": 6,
      "metadata": {},
      "outputs": [],
      "source": [
        "X_le_mat = X_le.reshape((X_le.shape[0], 1))"
      ]
    },
    {
      "cell_type": "code",
      "execution_count": 7,
      "metadata": {},
      "outputs": [
        {
          "data": {
            "text/plain": [
              "OneHotEncoder(categorical_features=None, categories='auto',\n",
              "       dtype=<class 'numpy.float64'>, handle_unknown='error',\n",
              "       n_values=None, sparse=True)"
            ]
          },
          "execution_count": 8,
          "metadata": {},
          "output_type": "execute_result"
        }
      ],
      "source": [
        "ohe = OneHotEncoder(categories=\"auto\")\n",
        "ohe.fit(X_le_mat)"
      ]
    },
    {
      "cell_type": "code",
      "execution_count": 8,
      "metadata": {},
      "outputs": [],
      "source": [
        "X_le_encoded = ohe.transform(X_le_mat)\n",
        "train_cat = X_le_encoded.todense()\n",
        "test_cat = ohe.transform(le.transform(X_test[\"source\"]).reshape((len(X_test), 1))).todense()"
      ]
    },
    {
      "cell_type": "code",
      "execution_count": 9,
      "metadata": {},
      "outputs": [
        {
          "data": {
            "text/html": [
              "<div>\n",
              "<style scoped>\n",
              "    .dataframe tbody tr th:only-of-type {\n",
              "        vertical-align: middle;\n",
              "    }\n",
              "\n",
              "    .dataframe tbody tr th {\n",
              "        vertical-align: top;\n",
              "    }\n",
              "\n",
              "    .dataframe thead th {\n",
              "        text-align: right;\n",
              "    }\n",
              "</style>\n",
              "<table border=\"1\" class=\"dataframe\">\n",
              "  <thead>\n",
              "    <tr style=\"text-align: right;\">\n",
              "      <th></th>\n",
              "      <th>sentance</th>\n",
              "      <th>source</th>\n",
              "      <th>amazon_cells_labelled</th>\n",
              "      <th>imdb_labelled</th>\n",
              "      <th>yelp_labelled</th>\n",
              "    </tr>\n",
              "  </thead>\n",
              "  <tbody>\n",
              "    <tr>\n",
              "      <th>0</th>\n",
              "      <td>Good service, very clean, and inexpensive, to ...</td>\n",
              "      <td>yelp_labelled</td>\n",
              "      <td>0.0</td>\n",
              "      <td>0.0</td>\n",
              "      <td>1.0</td>\n",
              "    </tr>\n",
              "    <tr>\n",
              "      <th>1</th>\n",
              "      <td>On the negative, it's insipid enough to cause ...</td>\n",
              "      <td>imdb_labelled</td>\n",
              "      <td>0.0</td>\n",
              "      <td>1.0</td>\n",
              "      <td>0.0</td>\n",
              "    </tr>\n",
              "  </tbody>\n",
              "</table>\n",
              "</div>"
            ],
            "text/plain": [
              "                                            sentance         source  \\\n",
              "0  Good service, very clean, and inexpensive, to ...  yelp_labelled   \n",
              "1  On the negative, it's insipid enough to cause ...  imdb_labelled   \n",
              "\n",
              "   amazon_cells_labelled  imdb_labelled  yelp_labelled  \n",
              "0                    0.0            0.0            1.0  \n",
              "1                    0.0            1.0            0.0  "
            ]
          },
          "execution_count": 10,
          "metadata": {},
          "output_type": "execute_result"
        }
      ],
      "source": [
        "import pandas\n",
        "X_train2 = pandas.concat([X_train.reset_index(drop=True),\n",
        "                          pandas.DataFrame(train_cat, columns=le.classes_)],\n",
        "                         sort=False, axis=1)\n",
        "X_train2.head(n=2)"
      ]
    },
    {
      "cell_type": "code",
      "execution_count": 10,
      "metadata": {},
      "outputs": [
        {
          "data": {
            "text/html": [
              "<div>\n",
              "<style scoped>\n",
              "    .dataframe tbody tr th:only-of-type {\n",
              "        vertical-align: middle;\n",
              "    }\n",
              "\n",
              "    .dataframe tbody tr th {\n",
              "        vertical-align: top;\n",
              "    }\n",
              "\n",
              "    .dataframe thead th {\n",
              "        text-align: right;\n",
              "    }\n",
              "</style>\n",
              "<table border=\"1\" class=\"dataframe\">\n",
              "  <thead>\n",
              "    <tr style=\"text-align: right;\">\n",
              "      <th></th>\n",
              "      <th>sentance</th>\n",
              "      <th>source</th>\n",
              "      <th>amazon_cells_labelled</th>\n",
              "      <th>imdb_labelled</th>\n",
              "      <th>yelp_labelled</th>\n",
              "    </tr>\n",
              "  </thead>\n",
              "  <tbody>\n",
              "    <tr>\n",
              "      <th>0</th>\n",
              "      <td>We are so glad we found this place.</td>\n",
              "      <td>yelp_labelled</td>\n",
              "      <td>0.0</td>\n",
              "      <td>0.0</td>\n",
              "      <td>1.0</td>\n",
              "    </tr>\n",
              "    <tr>\n",
              "      <th>1</th>\n",
              "      <td>I was disgusted because I was pretty sure that...</td>\n",
              "      <td>yelp_labelled</td>\n",
              "      <td>0.0</td>\n",
              "      <td>0.0</td>\n",
              "      <td>1.0</td>\n",
              "    </tr>\n",
              "  </tbody>\n",
              "</table>\n",
              "</div>"
            ],
            "text/plain": [
              "                                            sentance         source  \\\n",
              "0                We are so glad we found this place.  yelp_labelled   \n",
              "1  I was disgusted because I was pretty sure that...  yelp_labelled   \n",
              "\n",
              "   amazon_cells_labelled  imdb_labelled  yelp_labelled  \n",
              "0                    0.0            0.0            1.0  \n",
              "1                    0.0            0.0            1.0  "
            ]
          },
          "execution_count": 11,
          "metadata": {},
          "output_type": "execute_result"
        }
      ],
      "source": [
        "X_test2 = pandas.concat([X_test.reset_index(drop=True),\n",
        "                         pandas.DataFrame(test_cat, columns=le.classes_)],\n",
        "                         sort=False, axis=1)\n",
        "X_test2.head(n=2)"
      ]
    },
    {
      "cell_type": "markdown",
      "metadata": {},
      "source": [
        "### tokenisation\n",
        "\n",
        "On tokenise avec le module [spacy](https://spacy.io/usage/spacy-101#annotations-token) qui requiert des donn\u00e9es suppl\u00e9mentaires pour d\u00e9couper en mot avec ``pip install https://github.com/explosion/spacy-models/releases/download/en_core_web_sm-2.0.0/en_core_web_sm-2.0.0.tar.gz`` selon les instructions d\u00e9voil\u00e9es dans le [guide de d\u00e9part](https://spacy.io/usage/models) ou encore ``python -m spacy download en``. Le module [gensim](http://www.xavierdupre.fr/app/papierstat/helpsphinx/notebooks/artificiel_tokenize.html?highlight=tokenisation#gensim) ne requiert pas d'installation. On peut aussi s'inspirer de l'example [word2vec pr\u00e9-entra\u00een\u00e9s](http://www.xavierdupre.fr/app/papierstat/helpsphinx/notebooks/text_sentiment_wordvec.html#word2vec-pre-entraines)."
      ]
    },
    {
      "cell_type": "code",
      "execution_count": 11,
      "metadata": {},
      "outputs": [],
      "source": [
        "import en_core_web_sm\n",
        "nlp = en_core_web_sm.load()"
      ]
    },
    {
      "cell_type": "code",
      "execution_count": 12,
      "metadata": {},
      "outputs": [
        {
          "data": {
            "text/plain": [
              "['Good',\n",
              " 'service',\n",
              " ',',\n",
              " 'very',\n",
              " 'clean',\n",
              " ',',\n",
              " 'and',\n",
              " 'inexpensive',\n",
              " ',',\n",
              " 'to',\n",
              " 'boot',\n",
              " '!']"
            ]
          },
          "execution_count": 13,
          "metadata": {},
          "output_type": "execute_result"
        }
      ],
      "source": [
        "doc = nlp(X_train2.iloc[0,0])\n",
        "[token.text for token in doc]"
      ]
    },
    {
      "cell_type": "markdown",
      "metadata": {},
      "source": [
        "### tf-idf\n",
        "\n",
        "Une fois que les mots sont tokenis\u00e9, on peut appliquer le *tf-idf*."
      ]
    },
    {
      "cell_type": "code",
      "execution_count": 13,
      "metadata": {},
      "outputs": [],
      "source": [
        "from sklearn.feature_extraction.text import TfidfTransformer, CountVectorizer\n",
        "from sklearn.pipeline import make_pipeline\n",
        "tokenizer = lambda text: [token.text.lower() for token in nlp(text)]\n",
        "count = CountVectorizer(tokenizer=tokenizer, analyzer='word')\n",
        "tfidf = TfidfTransformer()\n",
        "pipe = make_pipeline(count, tfidf)"
      ]
    },
    {
      "cell_type": "code",
      "execution_count": 14,
      "metadata": {},
      "outputs": [
        {
          "data": {
            "text/plain": [
              "Pipeline(memory=None,\n",
              "     steps=[('countvectorizer', CountVectorizer(analyzer='word', binary=False, decode_error='strict',\n",
              "        dtype=<class 'numpy.int64'>, encoding='utf-8', input='content',\n",
              "        lowercase=True, max_df=1.0, max_features=None, min_df=1,\n",
              "        ngram_range=(1, 1), preprocessor=None, stop_words=None,\n",
              "  ...'tfidftransformer', TfidfTransformer(norm='l2', smooth_idf=True, sublinear_tf=False, use_idf=True))])"
            ]
          },
          "execution_count": 15,
          "metadata": {},
          "output_type": "execute_result"
        }
      ],
      "source": [
        "pipe.fit(X_train[\"sentance\"])"
      ]
    },
    {
      "cell_type": "code",
      "execution_count": 15,
      "metadata": {},
      "outputs": [
        {
          "data": {
            "text/plain": [
              "<2250x4478 sparse matrix of type '<class 'numpy.float64'>'\n",
              "\twith 29454 stored elements in Compressed Sparse Row format>"
            ]
          },
          "execution_count": 16,
          "metadata": {},
          "output_type": "execute_result"
        }
      ],
      "source": [
        "train_feature = pipe.transform(X_train2[\"sentance\"])\n",
        "train_feature"
      ]
    },
    {
      "cell_type": "code",
      "execution_count": 16,
      "metadata": {},
      "outputs": [],
      "source": [
        "test_feature = pipe.transform(X_test2[\"sentance\"])"
      ]
    },
    {
      "cell_type": "markdown",
      "metadata": {},
      "source": [
        "### Combinaison de toutes les variables"
      ]
    },
    {
      "cell_type": "code",
      "execution_count": 17,
      "metadata": {},
      "outputs": [
        {
          "data": {
            "text/plain": [
              "((2250, 4478), (2250, 3))"
            ]
          },
          "execution_count": 18,
          "metadata": {},
          "output_type": "execute_result"
        }
      ],
      "source": [
        "train_feature.shape, train_cat.shape"
      ]
    },
    {
      "cell_type": "code",
      "execution_count": 18,
      "metadata": {},
      "outputs": [],
      "source": [
        "import numpy\n",
        "np_train = numpy.hstack([train_feature.todense(), train_cat])\n",
        "np_test = numpy.hstack([test_feature.todense(), test_cat])"
      ]
    },
    {
      "cell_type": "markdown",
      "metadata": {},
      "source": [
        "### Calage d'un mod\u00e8le"
      ]
    },
    {
      "cell_type": "code",
      "execution_count": 19,
      "metadata": {},
      "outputs": [
        {
          "data": {
            "text/plain": [
              "RandomForestClassifier(bootstrap=True, class_weight=None, criterion='gini',\n",
              "            max_depth=None, max_features='auto', max_leaf_nodes=None,\n",
              "            min_impurity_decrease=0.0, min_impurity_split=None,\n",
              "            min_samples_leaf=1, min_samples_split=2,\n",
              "            min_weight_fraction_leaf=0.0, n_estimators=50, n_jobs=None,\n",
              "            oob_score=False, random_state=None, verbose=0,\n",
              "            warm_start=False)"
            ]
          },
          "execution_count": 20,
          "metadata": {},
          "output_type": "execute_result"
        }
      ],
      "source": [
        "from sklearn.ensemble import RandomForestClassifier\n",
        "rf = RandomForestClassifier(n_estimators=50)\n",
        "rf.fit(np_train, y_train)"
      ]
    },
    {
      "cell_type": "code",
      "execution_count": 20,
      "metadata": {},
      "outputs": [
        {
          "data": {
            "text/plain": [
              "0.7666666666666667"
            ]
          },
          "execution_count": 21,
          "metadata": {},
          "output_type": "execute_result"
        }
      ],
      "source": [
        "rf.score(np_test, y_test)"
      ]
    },
    {
      "cell_type": "code",
      "execution_count": 21,
      "metadata": {},
      "outputs": [],
      "source": []
    },
    {
      "cell_type": "markdown",
      "metadata": {},
      "source": [
        "## Exercice 2 : word2vec\n",
        "\n",
        "On utilise l'approche [word2vec](https://en.wikipedia.org/wiki/Word2vec) du module [gensim](https://radimrehurek.com/gensim/models/word2vec.html) ou [spacy](https://spacy.io/usage/vectors-similarity). Avec [spacy](https://spacy.io/usage/vectors-similarity), c'est assez simple :"
      ]
    },
    {
      "cell_type": "code",
      "execution_count": 22,
      "metadata": {},
      "outputs": [
        {
          "data": {
            "text/plain": [
              "(array([-0.9418167, -0.6240454, -1.9665407,  1.670512 , -2.573586 ,\n",
              "         1.4199752,  1.7455809,  1.2713523, -2.0450075,  0.5746417],\n",
              "       dtype=float32), (384,))"
            ]
          },
          "execution_count": 23,
          "metadata": {},
          "output_type": "execute_result"
        }
      ],
      "source": [
        "vv = nlp(X_train2.iloc[0, 0])\n",
        "list(vv)[0].vector[:10], vv.vector.shape"
      ]
    },
    {
      "cell_type": "markdown",
      "metadata": {},
      "source": [
        "On fait la somme."
      ]
    },
    {
      "cell_type": "code",
      "execution_count": 23,
      "metadata": {},
      "outputs": [
        {
          "data": {
            "text/plain": [
              "array([ 9.052872  , -2.0875132 , -3.35144   ,  0.08118324, -9.124436  ,\n",
              "       13.140404  , -8.524071  ,  3.6326594 , 11.44552   ,  5.305859  ],\n",
              "      dtype=float32)"
            ]
          },
          "execution_count": 24,
          "metadata": {},
          "output_type": "execute_result"
        }
      ],
      "source": [
        "sum([_.vector for _ in vv])[:10]"
      ]
    },
    {
      "cell_type": "code",
      "execution_count": 24,
      "metadata": {},
      "outputs": [],
      "source": [
        "np_train_vect = numpy.zeros((X_train2.shape[0], vv.vector.shape[0]))\n",
        "for i, sentance in enumerate(X_train2[\"sentance\"]):\n",
        "    np_train_vect[i, :] = sum(v.vector for v in nlp(sentance.lower()))"
      ]
    },
    {
      "cell_type": "code",
      "execution_count": 25,
      "metadata": {},
      "outputs": [],
      "source": [
        "np_test_vect = numpy.zeros((X_test2.shape[0], vv.vector.shape[0]))\n",
        "for i, sentance in enumerate(X_test2[\"sentance\"]):\n",
        "    np_test_vect[i, :] = sum(v.vector for v in nlp(sentance.lower()))"
      ]
    },
    {
      "cell_type": "code",
      "execution_count": 26,
      "metadata": {},
      "outputs": [],
      "source": [
        "np_train_v = numpy.hstack([np_train_vect, train_cat])\n",
        "np_test_v = numpy.hstack([np_test_vect, test_cat])"
      ]
    },
    {
      "cell_type": "code",
      "execution_count": 27,
      "metadata": {},
      "outputs": [
        {
          "data": {
            "text/plain": [
              "RandomForestClassifier(bootstrap=True, class_weight=None, criterion='gini',\n",
              "            max_depth=None, max_features='auto', max_leaf_nodes=None,\n",
              "            min_impurity_decrease=0.0, min_impurity_split=None,\n",
              "            min_samples_leaf=1, min_samples_split=2,\n",
              "            min_weight_fraction_leaf=0.0, n_estimators=50, n_jobs=None,\n",
              "            oob_score=False, random_state=None, verbose=0,\n",
              "            warm_start=False)"
            ]
          },
          "execution_count": 28,
          "metadata": {},
          "output_type": "execute_result"
        }
      ],
      "source": [
        "rfv = RandomForestClassifier(n_estimators=50)\n",
        "rfv.fit(np_train_v, y_train)"
      ]
    },
    {
      "cell_type": "code",
      "execution_count": 28,
      "metadata": {},
      "outputs": [
        {
          "data": {
            "text/plain": [
              "0.6453333333333333"
            ]
          },
          "execution_count": 29,
          "metadata": {},
          "output_type": "execute_result"
        }
      ],
      "source": [
        "rfv.score(np_test_v, y_test)"
      ]
    },
    {
      "cell_type": "markdown",
      "metadata": {},
      "source": [
        "Moins bien..."
      ]
    },
    {
      "cell_type": "markdown",
      "metadata": {},
      "source": [
        "## Exercice 3 : comparer les deux approches\n",
        "\n",
        "Avec une courbe [ROC](http://scikit-learn.org/stable/modules/generated/sklearn.metrics.roc_curve.html) par exemple."
      ]
    },
    {
      "cell_type": "code",
      "execution_count": 29,
      "metadata": {},
      "outputs": [],
      "source": [
        "pmodel1 = rf.predict_proba(np_test)[:, 1]\n",
        "pmodel2 = rfv.predict_proba(np_test_v)[:, 1]"
      ]
    },
    {
      "cell_type": "code",
      "execution_count": 30,
      "metadata": {},
      "outputs": [],
      "source": [
        "from sklearn.metrics import roc_auc_score, roc_curve, auc\n",
        "fpr1, tpr1, th1 = roc_curve(y_test, pmodel1)\n",
        "fpr2, tpr2, th2 = roc_curve(y_test, pmodel2)"
      ]
    },
    {
      "cell_type": "code",
      "execution_count": 31,
      "metadata": {},
      "outputs": [
        {
          "data": {
            "image/png": "[encoded data removed]",
            "text/plain": [
              "<Figure size 288x288 with 1 Axes>"
            ]
          },
          "metadata": {
            "needs_background": "light"
          },
          "output_type": "display_data"
        }
      ],
      "source": [
        "import matplotlib.pyplot as plt\n",
        "fig, ax = plt.subplots(1,1, figsize=(4,4))\n",
        "ax.plot(fpr1, tpr1, label='tf-idf')\n",
        "ax.plot(fpr2, tpr2, label='word2vec')\n",
        "ax.legend();"
      ]
    },
    {
      "cell_type": "markdown",
      "metadata": {},
      "source": [
        "## Petite analyse d'erreurs\n",
        "\n",
        "On combine les erreurs des mod\u00e8les sur la base de test."
      ]
    },
    {
      "cell_type": "code",
      "execution_count": 32,
      "metadata": {},
      "outputs": [
        {
          "data": {
            "text/html": [
              "<div>\n",
              "<style scoped>\n",
              "    .dataframe tbody tr th:only-of-type {\n",
              "        vertical-align: middle;\n",
              "    }\n",
              "\n",
              "    .dataframe tbody tr th {\n",
              "        vertical-align: top;\n",
              "    }\n",
              "\n",
              "    .dataframe thead th {\n",
              "        text-align: right;\n",
              "    }\n",
              "</style>\n",
              "<table border=\"1\" class=\"dataframe\">\n",
              "  <thead>\n",
              "    <tr style=\"text-align: right;\">\n",
              "      <th></th>\n",
              "      <th>sentance</th>\n",
              "      <th>source</th>\n",
              "      <th>model1</th>\n",
              "      <th>model2</th>\n",
              "      <th>label</th>\n",
              "    </tr>\n",
              "  </thead>\n",
              "  <tbody>\n",
              "    <tr>\n",
              "      <th>64</th>\n",
              "      <td>We are so glad we found this place.</td>\n",
              "      <td>yelp_labelled</td>\n",
              "      <td>0.70</td>\n",
              "      <td>0.66</td>\n",
              "      <td>1</td>\n",
              "    </tr>\n",
              "    <tr>\n",
              "      <th>14</th>\n",
              "      <td>I was disgusted because I was pretty sure that...</td>\n",
              "      <td>yelp_labelled</td>\n",
              "      <td>0.26</td>\n",
              "      <td>0.42</td>\n",
              "      <td>0</td>\n",
              "    </tr>\n",
              "    <tr>\n",
              "      <th>279</th>\n",
              "      <td>I had the mac salad and it was pretty bland so...</td>\n",
              "      <td>yelp_labelled</td>\n",
              "      <td>0.22</td>\n",
              "      <td>0.18</td>\n",
              "      <td>0</td>\n",
              "    </tr>\n",
              "    <tr>\n",
              "      <th>935</th>\n",
              "      <td>It never condescends, all the characters have ...</td>\n",
              "      <td>imdb_labelled</td>\n",
              "      <td>0.76</td>\n",
              "      <td>0.58</td>\n",
              "      <td>1</td>\n",
              "    </tr>\n",
              "    <tr>\n",
              "      <th>188</th>\n",
              "      <td>Nothing at all to recommend.</td>\n",
              "      <td>imdb_labelled</td>\n",
              "      <td>0.38</td>\n",
              "      <td>0.34</td>\n",
              "      <td>0</td>\n",
              "    </tr>\n",
              "  </tbody>\n",
              "</table>\n",
              "</div>"
            ],
            "text/plain": [
              "                                              sentance         source  model1  \\\n",
              "64                 We are so glad we found this place.  yelp_labelled    0.70   \n",
              "14   I was disgusted because I was pretty sure that...  yelp_labelled    0.26   \n",
              "279  I had the mac salad and it was pretty bland so...  yelp_labelled    0.22   \n",
              "935  It never condescends, all the characters have ...  imdb_labelled    0.76   \n",
              "188                     Nothing at all to recommend.    imdb_labelled    0.38   \n",
              "\n",
              "     model2  label  \n",
              "64     0.66      1  \n",
              "14     0.42      0  \n",
              "279    0.18      0  \n",
              "935    0.58      1  \n",
              "188    0.34      0  "
            ]
          },
          "execution_count": 33,
          "metadata": {},
          "output_type": "execute_result"
        }
      ],
      "source": [
        "final = X_test.copy()\n",
        "final[\"model1\"] = pmodel1\n",
        "final[\"model2\"] = pmodel2\n",
        "final[\"label\"] = y_test\n",
        "final.head()"
      ]
    },
    {
      "cell_type": "markdown",
      "metadata": {},
      "source": [
        "On regarde des erreurs."
      ]
    },
    {
      "cell_type": "code",
      "execution_count": 33,
      "metadata": {},
      "outputs": [
        {
          "data": {
            "text/html": [
              "<div>\n",
              "<style scoped>\n",
              "    .dataframe tbody tr th:only-of-type {\n",
              "        vertical-align: middle;\n",
              "    }\n",
              "\n",
              "    .dataframe tbody tr th {\n",
              "        vertical-align: top;\n",
              "    }\n",
              "\n",
              "    .dataframe thead th {\n",
              "        text-align: right;\n",
              "    }\n",
              "</style>\n",
              "<table border=\"1\" class=\"dataframe\">\n",
              "  <thead>\n",
              "    <tr style=\"text-align: right;\">\n",
              "      <th></th>\n",
              "      <th>sentance</th>\n",
              "      <th>source</th>\n",
              "      <th>model1</th>\n",
              "      <th>model2</th>\n",
              "      <th>label</th>\n",
              "    </tr>\n",
              "  </thead>\n",
              "  <tbody>\n",
              "    <tr>\n",
              "      <th>632</th>\n",
              "      <td>I did not have any problem with this item and ...</td>\n",
              "      <td>amazon_cells_labelled</td>\n",
              "      <td>0.26</td>\n",
              "      <td>0.10</td>\n",
              "      <td>1</td>\n",
              "    </tr>\n",
              "    <tr>\n",
              "      <th>32</th>\n",
              "      <td>I found this place by accident and I could not...</td>\n",
              "      <td>yelp_labelled</td>\n",
              "      <td>0.18</td>\n",
              "      <td>0.16</td>\n",
              "      <td>1</td>\n",
              "    </tr>\n",
              "    <tr>\n",
              "      <th>271</th>\n",
              "      <td>You cant go wrong with any of the food here.</td>\n",
              "      <td>yelp_labelled</td>\n",
              "      <td>0.38</td>\n",
              "      <td>0.20</td>\n",
              "      <td>1</td>\n",
              "    </tr>\n",
              "    <tr>\n",
              "      <th>755</th>\n",
              "      <td>When I'm on this side of town, this will defin...</td>\n",
              "      <td>yelp_labelled</td>\n",
              "      <td>0.50</td>\n",
              "      <td>0.22</td>\n",
              "      <td>1</td>\n",
              "    </tr>\n",
              "    <tr>\n",
              "      <th>50</th>\n",
              "      <td>I'm glad the film didn't go for the most obvio...</td>\n",
              "      <td>imdb_labelled</td>\n",
              "      <td>0.10</td>\n",
              "      <td>0.22</td>\n",
              "      <td>1</td>\n",
              "    </tr>\n",
              "  </tbody>\n",
              "</table>\n",
              "</div>"
            ],
            "text/plain": [
              "                                              sentance                 source  \\\n",
              "632  I did not have any problem with this item and ...  amazon_cells_labelled   \n",
              "32   I found this place by accident and I could not...          yelp_labelled   \n",
              "271       You cant go wrong with any of the food here.          yelp_labelled   \n",
              "755  When I'm on this side of town, this will defin...          yelp_labelled   \n",
              "50   I'm glad the film didn't go for the most obvio...          imdb_labelled   \n",
              "\n",
              "     model1  model2  label  \n",
              "632    0.26    0.10      1  \n",
              "32     0.18    0.16      1  \n",
              "271    0.38    0.20      1  \n",
              "755    0.50    0.22      1  \n",
              "50     0.10    0.22      1  "
            ]
          },
          "execution_count": 34,
          "metadata": {},
          "output_type": "execute_result"
        }
      ],
      "source": [
        "erreurs = final[final[\"label\"] == 1].sort_values(\"model2\")\n",
        "erreurs.head()"
      ]
    },
    {
      "cell_type": "code",
      "execution_count": 34,
      "metadata": {},
      "outputs": [
        {
          "data": {
            "text/plain": [
              "['I did not have any problem with this item and would order it again if needed.',\n",
              " 'I found this place by accident and I could not be happier.',\n",
              " 'You cant go wrong with any of the food here.',\n",
              " \"When I'm on this side of town, this will definitely be a spot I'll hit up again!\",\n",
              " \"I'm glad the film didn't go for the most obvious choice, as a lesser film certainly would have.  \"]"
            ]
          },
          "execution_count": 35,
          "metadata": {},
          "output_type": "execute_result"
        }
      ],
      "source": [
        "list(erreurs[\"sentance\"])[:5]"
      ]
    },
    {
      "cell_type": "markdown",
      "metadata": {},
      "source": [
        "Le mod\u00e8le 2 reconna\u00eet mal les n\u00e9gations visiblement. On regarde le mod\u00e8le 1."
      ]
    },
    {
      "cell_type": "code",
      "execution_count": 35,
      "metadata": {},
      "outputs": [
        {
          "data": {
            "text/html": [
              "<div>\n",
              "<style scoped>\n",
              "    .dataframe tbody tr th:only-of-type {\n",
              "        vertical-align: middle;\n",
              "    }\n",
              "\n",
              "    .dataframe tbody tr th {\n",
              "        vertical-align: top;\n",
              "    }\n",
              "\n",
              "    .dataframe thead th {\n",
              "        text-align: right;\n",
              "    }\n",
              "</style>\n",
              "<table border=\"1\" class=\"dataframe\">\n",
              "  <thead>\n",
              "    <tr style=\"text-align: right;\">\n",
              "      <th></th>\n",
              "      <th>sentance</th>\n",
              "      <th>source</th>\n",
              "      <th>model1</th>\n",
              "      <th>model2</th>\n",
              "      <th>label</th>\n",
              "    </tr>\n",
              "  </thead>\n",
              "  <tbody>\n",
              "    <tr>\n",
              "      <th>50</th>\n",
              "      <td>I'm glad the film didn't go for the most obvio...</td>\n",
              "      <td>imdb_labelled</td>\n",
              "      <td>0.10</td>\n",
              "      <td>0.22</td>\n",
              "      <td>1</td>\n",
              "    </tr>\n",
              "    <tr>\n",
              "      <th>604</th>\n",
              "      <td>Couldn't ask for a more satisfying meal.</td>\n",
              "      <td>yelp_labelled</td>\n",
              "      <td>0.10</td>\n",
              "      <td>0.30</td>\n",
              "      <td>1</td>\n",
              "    </tr>\n",
              "    <tr>\n",
              "      <th>436</th>\n",
              "      <td>The soundtrack wasn't terrible, either.</td>\n",
              "      <td>imdb_labelled</td>\n",
              "      <td>0.10</td>\n",
              "      <td>0.30</td>\n",
              "      <td>1</td>\n",
              "    </tr>\n",
              "    <tr>\n",
              "      <th>449</th>\n",
              "      <td>I won't say any more - I don't like spoilers, ...</td>\n",
              "      <td>imdb_labelled</td>\n",
              "      <td>0.14</td>\n",
              "      <td>0.42</td>\n",
              "      <td>1</td>\n",
              "    </tr>\n",
              "    <tr>\n",
              "      <th>545</th>\n",
              "      <td>No shifting, no bubbling, no peeling, not even...</td>\n",
              "      <td>amazon_cells_labelled</td>\n",
              "      <td>0.16</td>\n",
              "      <td>0.34</td>\n",
              "      <td>1</td>\n",
              "    </tr>\n",
              "  </tbody>\n",
              "</table>\n",
              "</div>"
            ],
            "text/plain": [
              "                                              sentance                 source  \\\n",
              "50   I'm glad the film didn't go for the most obvio...          imdb_labelled   \n",
              "604           Couldn't ask for a more satisfying meal.          yelp_labelled   \n",
              "436          The soundtrack wasn't terrible, either.            imdb_labelled   \n",
              "449  I won't say any more - I don't like spoilers, ...          imdb_labelled   \n",
              "545  No shifting, no bubbling, no peeling, not even...  amazon_cells_labelled   \n",
              "\n",
              "     model1  model2  label  \n",
              "50     0.10    0.22      1  \n",
              "604    0.10    0.30      1  \n",
              "436    0.10    0.30      1  \n",
              "449    0.14    0.42      1  \n",
              "545    0.16    0.34      1  "
            ]
          },
          "execution_count": 36,
          "metadata": {},
          "output_type": "execute_result"
        }
      ],
      "source": [
        "erreurs = final[final[\"label\"] == 1].sort_values(\"model1\")\n",
        "erreurs.head()"
      ]
    },
    {
      "cell_type": "code",
      "execution_count": 36,
      "metadata": {},
      "outputs": [
        {
          "data": {
            "text/plain": [
              "[\"I'm glad the film didn't go for the most obvious choice, as a lesser film certainly would have.  \",\n",
              " \"Couldn't ask for a more satisfying meal.\",\n",
              " \"The soundtrack wasn't terrible, either.  \",\n",
              " \"I won't say any more - I don't like spoilers, so I don't want to be one, but I believe this film is worth your time.  \",\n",
              " \"No shifting, no bubbling, no peeling, not even a scratch, NOTHING!I couldn't be more happier with my new one for the Droid.\"]"
            ]
          },
          "execution_count": 37,
          "metadata": {},
          "output_type": "execute_result"
        }
      ],
      "source": [
        "list(erreurs[\"sentance\"])[:5]"
      ]
    },
    {
      "cell_type": "markdown",
      "metadata": {},
      "source": [
        "Idem, voyons l\u00e0 o\u00f9 les mod\u00e8les sont en d\u00e9saccords."
      ]
    },
    {
      "cell_type": "code",
      "execution_count": 37,
      "metadata": {},
      "outputs": [],
      "source": [
        "final[\"diff\"] = final.model1 - final.model2"
      ]
    },
    {
      "cell_type": "code",
      "execution_count": 38,
      "metadata": {},
      "outputs": [
        {
          "data": {
            "text/html": [
              "<div>\n",
              "<style scoped>\n",
              "    .dataframe tbody tr th:only-of-type {\n",
              "        vertical-align: middle;\n",
              "    }\n",
              "\n",
              "    .dataframe tbody tr th {\n",
              "        vertical-align: top;\n",
              "    }\n",
              "\n",
              "    .dataframe thead th {\n",
              "        text-align: right;\n",
              "    }\n",
              "</style>\n",
              "<table border=\"1\" class=\"dataframe\">\n",
              "  <thead>\n",
              "    <tr style=\"text-align: right;\">\n",
              "      <th></th>\n",
              "      <th>sentance</th>\n",
              "      <th>source</th>\n",
              "      <th>model1</th>\n",
              "      <th>model2</th>\n",
              "      <th>label</th>\n",
              "      <th>diff</th>\n",
              "    </tr>\n",
              "  </thead>\n",
              "  <tbody>\n",
              "    <tr>\n",
              "      <th>777</th>\n",
              "      <td>WORTHWHILE.</td>\n",
              "      <td>amazon_cells_labelled</td>\n",
              "      <td>0.22</td>\n",
              "      <td>0.58</td>\n",
              "      <td>1</td>\n",
              "      <td>-0.36</td>\n",
              "    </tr>\n",
              "    <tr>\n",
              "      <th>501</th>\n",
              "      <td>I left the theater with a lilt in my step, joy...</td>\n",
              "      <td>imdb_labelled</td>\n",
              "      <td>0.38</td>\n",
              "      <td>0.68</td>\n",
              "      <td>1</td>\n",
              "      <td>-0.30</td>\n",
              "    </tr>\n",
              "    <tr>\n",
              "      <th>921</th>\n",
              "      <td>Not much dialogue, not much music, the whole f...</td>\n",
              "      <td>imdb_labelled</td>\n",
              "      <td>0.26</td>\n",
              "      <td>0.56</td>\n",
              "      <td>1</td>\n",
              "      <td>-0.30</td>\n",
              "    </tr>\n",
              "    <tr>\n",
              "      <th>448</th>\n",
              "      <td>My 8/10 score is mostly for the plot.</td>\n",
              "      <td>imdb_labelled</td>\n",
              "      <td>0.20</td>\n",
              "      <td>0.50</td>\n",
              "      <td>1</td>\n",
              "      <td>-0.30</td>\n",
              "    </tr>\n",
              "    <tr>\n",
              "      <th>193</th>\n",
              "      <td>I had a salad with the wings, and some ice cre...</td>\n",
              "      <td>yelp_labelled</td>\n",
              "      <td>0.34</td>\n",
              "      <td>0.64</td>\n",
              "      <td>1</td>\n",
              "      <td>-0.30</td>\n",
              "    </tr>\n",
              "  </tbody>\n",
              "</table>\n",
              "</div>"
            ],
            "text/plain": [
              "                                              sentance                 source  \\\n",
              "777                                        WORTHWHILE.  amazon_cells_labelled   \n",
              "501  I left the theater with a lilt in my step, joy...          imdb_labelled   \n",
              "921  Not much dialogue, not much music, the whole f...          imdb_labelled   \n",
              "448            My 8/10 score is mostly for the plot.            imdb_labelled   \n",
              "193  I had a salad with the wings, and some ice cre...          yelp_labelled   \n",
              "\n",
              "     model1  model2  label  diff  \n",
              "777    0.22    0.58      1 -0.36  \n",
              "501    0.38    0.68      1 -0.30  \n",
              "921    0.26    0.56      1 -0.30  \n",
              "448    0.20    0.50      1 -0.30  \n",
              "193    0.34    0.64      1 -0.30  "
            ]
          },
          "execution_count": 39,
          "metadata": {},
          "output_type": "execute_result"
        }
      ],
      "source": [
        "erreurs = final[final[\"label\"] == 1].sort_values(\"diff\")\n",
        "erreurs.head()"
      ]
    },
    {
      "cell_type": "code",
      "execution_count": 39,
      "metadata": {},
      "outputs": [
        {
          "data": {
            "text/html": [
              "<div>\n",
              "<style scoped>\n",
              "    .dataframe tbody tr th:only-of-type {\n",
              "        vertical-align: middle;\n",
              "    }\n",
              "\n",
              "    .dataframe tbody tr th {\n",
              "        vertical-align: top;\n",
              "    }\n",
              "\n",
              "    .dataframe thead th {\n",
              "        text-align: right;\n",
              "    }\n",
              "</style>\n",
              "<table border=\"1\" class=\"dataframe\">\n",
              "  <thead>\n",
              "    <tr style=\"text-align: right;\">\n",
              "      <th></th>\n",
              "      <th>sentance</th>\n",
              "      <th>source</th>\n",
              "      <th>model1</th>\n",
              "      <th>model2</th>\n",
              "      <th>label</th>\n",
              "      <th>diff</th>\n",
              "    </tr>\n",
              "  </thead>\n",
              "  <tbody>\n",
              "    <tr>\n",
              "      <th>887</th>\n",
              "      <td>Best headset ever!!!.</td>\n",
              "      <td>amazon_cells_labelled</td>\n",
              "      <td>0.90</td>\n",
              "      <td>0.48</td>\n",
              "      <td>1</td>\n",
              "      <td>0.42</td>\n",
              "    </tr>\n",
              "    <tr>\n",
              "      <th>895</th>\n",
              "      <td>I want to first say our server was great and w...</td>\n",
              "      <td>yelp_labelled</td>\n",
              "      <td>0.94</td>\n",
              "      <td>0.48</td>\n",
              "      <td>1</td>\n",
              "      <td>0.46</td>\n",
              "    </tr>\n",
              "    <tr>\n",
              "      <th>702</th>\n",
              "      <td>Have been going since 2007 and every meal has ...</td>\n",
              "      <td>yelp_labelled</td>\n",
              "      <td>0.84</td>\n",
              "      <td>0.36</td>\n",
              "      <td>1</td>\n",
              "      <td>0.48</td>\n",
              "    </tr>\n",
              "    <tr>\n",
              "      <th>473</th>\n",
              "      <td>Great software for Motorolas.</td>\n",
              "      <td>amazon_cells_labelled</td>\n",
              "      <td>0.98</td>\n",
              "      <td>0.50</td>\n",
              "      <td>1</td>\n",
              "      <td>0.48</td>\n",
              "    </tr>\n",
              "    <tr>\n",
              "      <th>375</th>\n",
              "      <td>Best tacos in town by far!!</td>\n",
              "      <td>yelp_labelled</td>\n",
              "      <td>0.92</td>\n",
              "      <td>0.42</td>\n",
              "      <td>1</td>\n",
              "      <td>0.50</td>\n",
              "    </tr>\n",
              "  </tbody>\n",
              "</table>\n",
              "</div>"
            ],
            "text/plain": [
              "                                              sentance                 source  \\\n",
              "887                              Best headset ever!!!.  amazon_cells_labelled   \n",
              "895  I want to first say our server was great and w...          yelp_labelled   \n",
              "702  Have been going since 2007 and every meal has ...          yelp_labelled   \n",
              "473                      Great software for Motorolas.  amazon_cells_labelled   \n",
              "375                        Best tacos in town by far!!          yelp_labelled   \n",
              "\n",
              "     model1  model2  label  diff  \n",
              "887    0.90    0.48      1  0.42  \n",
              "895    0.94    0.48      1  0.46  \n",
              "702    0.84    0.36      1  0.48  \n",
              "473    0.98    0.50      1  0.48  \n",
              "375    0.92    0.42      1  0.50  "
            ]
          },
          "execution_count": 40,
          "metadata": {},
          "output_type": "execute_result"
        }
      ],
      "source": [
        "erreurs.tail()"
      ]
    },
    {
      "cell_type": "markdown",
      "metadata": {},
      "source": [
        "Le mod\u00e8le 2 (word2vec) a l'air meilleur sur les phrases longues, le mod\u00e8le 1 (tf-idf) saisit mieux les mots positifs. A confirmer sur plus de donn\u00e9es. \n",
        "\n",
        "* Enlever les stop words, les signes de ponctuation.\n",
        "* Combiner les deux approches.\n",
        "* n-grammes\n",
        "* ...\n",
        "\n",
        "Derni\u00e8re analyse en regardant le taux d'erreur par source."
      ]
    },
    {
      "cell_type": "code",
      "execution_count": 40,
      "metadata": {},
      "outputs": [
        {
          "data": {
            "text/html": [
              "<div>\n",
              "<style scoped>\n",
              "    .dataframe tbody tr th:only-of-type {\n",
              "        vertical-align: middle;\n",
              "    }\n",
              "\n",
              "    .dataframe tbody tr th {\n",
              "        vertical-align: top;\n",
              "    }\n",
              "\n",
              "    .dataframe thead th {\n",
              "        text-align: right;\n",
              "    }\n",
              "</style>\n",
              "<table border=\"1\" class=\"dataframe\">\n",
              "  <thead>\n",
              "    <tr style=\"text-align: right;\">\n",
              "      <th></th>\n",
              "      <th>sentance</th>\n",
              "      <th>source</th>\n",
              "      <th>model1</th>\n",
              "      <th>model2</th>\n",
              "      <th>label</th>\n",
              "      <th>diff</th>\n",
              "      <th>rep1</th>\n",
              "      <th>rep2</th>\n",
              "      <th>err1</th>\n",
              "      <th>err2</th>\n",
              "      <th>total</th>\n",
              "    </tr>\n",
              "  </thead>\n",
              "  <tbody>\n",
              "    <tr>\n",
              "      <th>64</th>\n",
              "      <td>We are so glad we found this place.</td>\n",
              "      <td>yelp_labelled</td>\n",
              "      <td>0.70</td>\n",
              "      <td>0.66</td>\n",
              "      <td>1</td>\n",
              "      <td>0.04</td>\n",
              "      <td>1</td>\n",
              "      <td>1</td>\n",
              "      <td>0</td>\n",
              "      <td>0</td>\n",
              "      <td>1</td>\n",
              "    </tr>\n",
              "    <tr>\n",
              "      <th>14</th>\n",
              "      <td>I was disgusted because I was pretty sure that...</td>\n",
              "      <td>yelp_labelled</td>\n",
              "      <td>0.26</td>\n",
              "      <td>0.42</td>\n",
              "      <td>0</td>\n",
              "      <td>-0.16</td>\n",
              "      <td>0</td>\n",
              "      <td>0</td>\n",
              "      <td>0</td>\n",
              "      <td>0</td>\n",
              "      <td>1</td>\n",
              "    </tr>\n",
              "    <tr>\n",
              "      <th>279</th>\n",
              "      <td>I had the mac salad and it was pretty bland so...</td>\n",
              "      <td>yelp_labelled</td>\n",
              "      <td>0.22</td>\n",
              "      <td>0.18</td>\n",
              "      <td>0</td>\n",
              "      <td>0.04</td>\n",
              "      <td>0</td>\n",
              "      <td>0</td>\n",
              "      <td>0</td>\n",
              "      <td>0</td>\n",
              "      <td>1</td>\n",
              "    </tr>\n",
              "    <tr>\n",
              "      <th>935</th>\n",
              "      <td>It never condescends, all the characters have ...</td>\n",
              "      <td>imdb_labelled</td>\n",
              "      <td>0.76</td>\n",
              "      <td>0.58</td>\n",
              "      <td>1</td>\n",
              "      <td>0.18</td>\n",
              "      <td>1</td>\n",
              "      <td>1</td>\n",
              "      <td>0</td>\n",
              "      <td>0</td>\n",
              "      <td>1</td>\n",
              "    </tr>\n",
              "    <tr>\n",
              "      <th>188</th>\n",
              "      <td>Nothing at all to recommend.</td>\n",
              "      <td>imdb_labelled</td>\n",
              "      <td>0.38</td>\n",
              "      <td>0.34</td>\n",
              "      <td>0</td>\n",
              "      <td>0.04</td>\n",
              "      <td>0</td>\n",
              "      <td>0</td>\n",
              "      <td>0</td>\n",
              "      <td>0</td>\n",
              "      <td>1</td>\n",
              "    </tr>\n",
              "  </tbody>\n",
              "</table>\n",
              "</div>"
            ],
            "text/plain": [
              "                                              sentance         source  model1  \\\n",
              "64                 We are so glad we found this place.  yelp_labelled    0.70   \n",
              "14   I was disgusted because I was pretty sure that...  yelp_labelled    0.26   \n",
              "279  I had the mac salad and it was pretty bland so...  yelp_labelled    0.22   \n",
              "935  It never condescends, all the characters have ...  imdb_labelled    0.76   \n",
              "188                     Nothing at all to recommend.    imdb_labelled    0.38   \n",
              "\n",
              "     model2  label  diff  rep1  rep2  err1  err2  total  \n",
              "64     0.66      1  0.04     1     1     0     0      1  \n",
              "14     0.42      0 -0.16     0     0     0     0      1  \n",
              "279    0.18      0  0.04     0     0     0     0      1  \n",
              "935    0.58      1  0.18     1     1     0     0      1  \n",
              "188    0.34      0  0.04     0     0     0     0      1  "
            ]
          },
          "execution_count": 41,
          "metadata": {},
          "output_type": "execute_result"
        }
      ],
      "source": [
        "r1 = rf.predict(np_test)\n",
        "r2 = rfv.predict(np_test_v)\n",
        "final[\"rep1\"] = r1\n",
        "final[\"rep2\"] = r2\n",
        "final[\"err1\"] = (final.label - final.rep1).abs()\n",
        "final[\"err2\"] = (final.label - final.rep2).abs()\n",
        "final[\"total\"] = 1\n",
        "final.head()"
      ]
    },
    {
      "cell_type": "code",
      "execution_count": 41,
      "metadata": {},
      "outputs": [
        {
          "data": {
            "text/html": [
              "<div>\n",
              "<style scoped>\n",
              "    .dataframe tbody tr th:only-of-type {\n",
              "        vertical-align: middle;\n",
              "    }\n",
              "\n",
              "    .dataframe tbody tr th {\n",
              "        vertical-align: top;\n",
              "    }\n",
              "\n",
              "    .dataframe thead th {\n",
              "        text-align: right;\n",
              "    }\n",
              "</style>\n",
              "<table border=\"1\" class=\"dataframe\">\n",
              "  <thead>\n",
              "    <tr style=\"text-align: right;\">\n",
              "      <th></th>\n",
              "      <th>err1</th>\n",
              "      <th>err2</th>\n",
              "      <th>total</th>\n",
              "    </tr>\n",
              "    <tr>\n",
              "      <th>source</th>\n",
              "      <th></th>\n",
              "      <th></th>\n",
              "      <th></th>\n",
              "    </tr>\n",
              "  </thead>\n",
              "  <tbody>\n",
              "    <tr>\n",
              "      <th>amazon_cells_labelled</th>\n",
              "      <td>47</td>\n",
              "      <td>75</td>\n",
              "      <td>237</td>\n",
              "    </tr>\n",
              "    <tr>\n",
              "      <th>imdb_labelled</th>\n",
              "      <td>75</td>\n",
              "      <td>103</td>\n",
              "      <td>270</td>\n",
              "    </tr>\n",
              "    <tr>\n",
              "      <th>yelp_labelled</th>\n",
              "      <td>53</td>\n",
              "      <td>88</td>\n",
              "      <td>243</td>\n",
              "    </tr>\n",
              "  </tbody>\n",
              "</table>\n",
              "</div>"
            ],
            "text/plain": [
              "                       err1  err2  total\n",
              "source                                  \n",
              "amazon_cells_labelled    47    75    237\n",
              "imdb_labelled            75   103    270\n",
              "yelp_labelled            53    88    243"
            ]
          },
          "execution_count": 42,
          "metadata": {},
          "output_type": "execute_result"
        }
      ],
      "source": [
        "final[[\"source\", \"err1\", \"err2\", \"total\"]].groupby(\"source\").sum()"
      ]
    },
    {
      "cell_type": "markdown",
      "metadata": {},
      "source": [
        "*imdb* para\u00eet une source une peu plus difficile \u00e0 saisir. Quoiqu'il en soit, 2000 phrases pour apprendre est assez peu pour apprendre."
      ]
    },
    {
      "cell_type": "markdown",
      "metadata": {},
      "source": [
        "## Versions utilis\u00e9es pour ce notebook\n",
        "\n",
        "[spacy](https://spacy.io/) s'est montr\u00e9 quelque peu fantasques cette ann\u00e9e avec quelques erreurs notamment celle-ci :\n",
        "[ValueError: cymem.cymem.Pool has the wrong size, try recompiling](https://github.com/explosion/spaCy/issues/2852). Voici les versions utilis\u00e9es..."
      ]
    },
    {
      "cell_type": "code",
      "execution_count": 42,
      "metadata": {},
      "outputs": [],
      "source": [
        "def version(module, sub=True):\n",
        "    ver = getattr(module, '__version__', None)\n",
        "    if ver is None:\n",
        "        ver = [_ for _ in os.listdir(os.path.join(module.__file__, '..', '..' if sub else '')) \\\n",
        "               if module.__name__ in _ and 'dist' in _][-1]\n",
        "    return ver"
      ]
    },
    {
      "cell_type": "code",
      "execution_count": 43,
      "metadata": {},
      "outputs": [
        {
          "name": "stdout",
          "output_type": "stream",
          "text": [
            "thinc thinc-6.12.1.dist-info\n",
            "preshed preshed-2.0.1.dist-info\n",
            "cymem cymem-2.0.2.dist-info\n",
            "murmurhash murmurhash-1.0.1.dist-info\n",
            "plac 0.9.6\n",
            "spacy 2.0.18\n",
            "en_core_web_sm 2.0.0\n",
            "fr_core_news_sm 2.0.0\n",
            "msgpack msgpack_python-0.5.6.dist-info\n",
            "msgpack_numpy msgpack_numpy-0.4.4.2.dist-info\n",
            "numpy 1.16.1\n"
          ]
        }
      ],
      "source": [
        "import os\n",
        "import thinc\n",
        "print(\"thinc\", version(thinc))\n",
        "import preshed\n",
        "print(\"preshed\", version(preshed))\n",
        "import cymem\n",
        "print(\"cymem\", version(cymem))\n",
        "import murmurhash\n",
        "print(\"murmurhash\", version(murmurhash))\n",
        "import plac\n",
        "print(\"plac\", plac.__version__)\n",
        "import spacy\n",
        "print(\"spacy\", spacy.__version__)\n",
        "\n",
        "import en_core_web_sm\n",
        "print(\"en_core_web_sm\", en_core_web_sm.__version__)\n",
        "import fr_core_news_sm\n",
        "print(\"fr_core_news_sm\", fr_core_news_sm.__version__)\n",
        "import msgpack\n",
        "print(\"msgpack\", version(msgpack))\n",
        "import msgpack_numpy\n",
        "print(\"msgpack_numpy\", version(msgpack_numpy, False))\n",
        "import numpy\n",
        "print(\"numpy\", numpy.__version__)"
      ]
    },
    {
      "cell_type": "code",
      "execution_count": 44,
      "metadata": {},
      "outputs": [],
      "source": []
    }
  ],
  "metadata": {
    "kernelspec": {
      "display_name": "Python 3",
      "language": "python",
      "name": "python3"
    },
    "language_info": {
      "codemirror_mode": {
        "name": "ipython",
        "version": 3
      },
      "file_extension": ".py",
      "mimetype": "text/x-python",
      "name": "python",
      "nbconvert_exporter": "python",
      "pygments_lexer": "ipython3",
      "version": "3.7.2"
    }
  },
  "nbformat": 4,
  "nbformat_minor": 2
}