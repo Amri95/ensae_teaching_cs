{
  "cells": [
    {
      "cell_type": "markdown",
      "metadata": {},
      "source": [
        "# 1A.algo - quicksort - correction\n",
        "\n",
        "Impl\u00e9mentation du quicksort fa\u00e7on graphe."
      ]
    },
    {
      "cell_type": "code",
      "execution_count": 1,
      "metadata": {},
      "outputs": [
        {
          "data": {
            "text/html": [
              "<div id=\"my_id_menu_nb\">run previous cell, wait for 2 seconds</div>\n",
              "<script>\n",
              "function repeat_indent_string(n){\n",
              "    var a = \"\" ;\n",
              "    for ( ; n > 0 ; --n)\n",
              "        a += \"    \";\n",
              "    return a;\n",
              "}\n",
              "var update_menu_string = function(begin, lfirst, llast, sformat, send, keep_item, begin_format, end_format) {\n",
              "    var anchors = document.getElementsByClassName(\"section\");\n",
              "    if (anchors.length == 0) {\n",
              "        anchors = document.getElementsByClassName(\"text_cell_render rendered_html\");\n",
              "    }\n",
              "    var i,t;\n",
              "    var text_menu = begin;\n",
              "    var text_memo = \"<pre>\\nlength:\" + anchors.length + \"\\n\";\n",
              "    var ind = \"\";\n",
              "    var memo_level = 1;\n",
              "    var href;\n",
              "    var tags = [];\n",
              "    var main_item = 0;\n",
              "    var format_open = 0;\n",
              "    for (i = 0; i <= llast; i++)\n",
              "        tags.push(\"h\" + i);\n",
              "\n",
              "    for (i = 0; i < anchors.length; i++) {\n",
              "        text_memo += \"**\" + anchors[i].id + \"--\\n\";\n",
              "\n",
              "        var child = null;\n",
              "        for(t = 0; t < tags.length; t++) {\n",
              "            var r = anchors[i].getElementsByTagName(tags[t]);\n",
              "            if (r.length > 0) {\n",
              "child = r[0];\n",
              "break;\n",
              "            }\n",
              "        }\n",
              "        if (child == null) {\n",
              "            text_memo += \"null\\n\";\n",
              "            continue;\n",
              "        }\n",
              "        if (anchors[i].hasAttribute(\"id\")) {\n",
              "            // when converted in RST\n",
              "            href = anchors[i].id;\n",
              "            text_memo += \"#1-\" + href;\n",
              "            // passer \u00e0 child suivant (le chercher)\n",
              "        }\n",
              "        else if (child.hasAttribute(\"id\")) {\n",
              "            // in a notebook\n",
              "            href = child.id;\n",
              "            text_memo += \"#2-\" + href;\n",
              "        }\n",
              "        else {\n",
              "            text_memo += \"#3-\" + \"*\" + \"\\n\";\n",
              "            continue;\n",
              "        }\n",
              "        var title = child.textContent;\n",
              "        var level = parseInt(child.tagName.substring(1,2));\n",
              "\n",
              "        text_memo += \"--\" + level + \"?\" + lfirst + \"--\" + title + \"\\n\";\n",
              "\n",
              "        if ((level < lfirst) || (level > llast)) {\n",
              "            continue ;\n",
              "        }\n",
              "        if (title.endsWith('\u00b6')) {\n",
              "            title = title.substring(0,title.length-1).replace(\"<\", \"&lt;\")\n",
              "         .replace(\">\", \"&gt;\").replace(\"&\", \"&amp;\");\n",
              "        }\n",
              "        if (title.length == 0) {\n",
              "            continue;\n",
              "        }\n",
              "\n",
              "        while (level < memo_level) {\n",
              "            text_menu += end_format + \"</ul>\\n\";\n",
              "            format_open -= 1;\n",
              "            memo_level -= 1;\n",
              "        }\n",
              "        if (level == lfirst) {\n",
              "            main_item += 1;\n",
              "        }\n",
              "        if (keep_item != -1 && main_item != keep_item + 1) {\n",
              "            // alert(main_item + \" - \" + level + \" - \" + keep_item);\n",
              "            continue;\n",
              "        }\n",
              "        while (level > memo_level) {\n",
              "            text_menu += \"<ul>\\n\";\n",
              "            memo_level += 1;\n",
              "        }\n",
              "        text_menu += repeat_indent_string(level-2);\n",
              "        text_menu += begin_format + sformat.replace(\"__HREF__\", href).replace(\"__TITLE__\", title);\n",
              "        format_open += 1;\n",
              "    }\n",
              "    while (1 < memo_level) {\n",
              "        text_menu += end_format + \"</ul>\\n\";\n",
              "        memo_level -= 1;\n",
              "        format_open -= 1;\n",
              "    }\n",
              "    text_menu += send;\n",
              "    //text_menu += \"\\n\" + text_memo;\n",
              "\n",
              "    while (format_open > 0) {\n",
              "        text_menu += end_format;\n",
              "        format_open -= 1;\n",
              "    }\n",
              "    return text_menu;\n",
              "};\n",
              "var update_menu = function() {\n",
              "    var sbegin = \"\";\n",
              "    var sformat = '<a href=\"#__HREF__\">__TITLE__</a>';\n",
              "    var send = \"\";\n",
              "    var begin_format = '<li>';\n",
              "    var end_format = '</li>';\n",
              "    var keep_item = -1;\n",
              "    var text_menu = update_menu_string(sbegin, 2, 4, sformat, send, keep_item,\n",
              "       begin_format, end_format);\n",
              "    var menu = document.getElementById(\"my_id_menu_nb\");\n",
              "    menu.innerHTML=text_menu;\n",
              "};\n",
              "window.setTimeout(update_menu,2000);\n",
              "            </script>"
            ],
            "text/plain": [
              "<IPython.core.display.HTML object>"
            ]
          },
          "execution_count": 2,
          "metadata": {},
          "output_type": "execute_result"
        }
      ],
      "source": [
        "from jyquickhelper import add_notebook_menu\n",
        "add_notebook_menu()"
      ]
    },
    {
      "cell_type": "markdown",
      "metadata": {},
      "source": [
        "## Q1 : classe"
      ]
    },
    {
      "cell_type": "code",
      "execution_count": 3,
      "metadata": {},
      "outputs": [
        {
          "data": {
            "text/plain": [
              "<__main__.NoeudTri at 0x2bd7390ec88>"
            ]
          },
          "execution_count": 4,
          "metadata": {},
          "output_type": "execute_result"
        }
      ],
      "source": [
        "class NoeudTri (object):\n",
        "    def __init__(self,s):\n",
        "        self.mot = s\n",
        "        \n",
        "NoeudTri(\"a\")"
      ]
    },
    {
      "cell_type": "markdown",
      "metadata": {},
      "source": [
        "## Q2 : str, repr"
      ]
    },
    {
      "cell_type": "code",
      "execution_count": 5,
      "metadata": {},
      "outputs": [
        {
          "name": "stdout",
          "output_type": "stream",
          "text": [
            "a\n",
            "\n"
          ]
        }
      ],
      "source": [
        "class NoeudTri (object):\n",
        "    def __init__(self,s):\n",
        "        self.mot = s\n",
        "    def __str__(self): \n",
        "        return self.mot + \"\\n\"  # \\n : passage \u00e0 la ligne\n",
        "    \n",
        "print(NoeudTri(\"a\"))"
      ]
    },
    {
      "cell_type": "code",
      "execution_count": 6,
      "metadata": {},
      "outputs": [
        {
          "data": {
            "text/plain": [
              "NoeudTri('a')"
            ]
          },
          "execution_count": 7,
          "metadata": {},
          "output_type": "execute_result"
        }
      ],
      "source": [
        "class NoeudTri (object):\n",
        "    def __init__(self,s):\n",
        "        self.mot = s\n",
        "    def __str__(self): \n",
        "        return self.mot + \"\\n\"  # \\n : passage \u00e0 la ligne\n",
        "    def __repr__(self): \n",
        "        return \"NoeudTri('{0}')\".format(self.mot)\n",
        "    \n",
        "NoeudTri(\"a\")"
      ]
    },
    {
      "cell_type": "markdown",
      "metadata": {},
      "source": [
        "## Q3 : avant, apr\u00e8s"
      ]
    },
    {
      "cell_type": "code",
      "execution_count": 8,
      "metadata": {
        "collapsed": true
      },
      "outputs": [],
      "source": [
        "class NoeudTri (object):\n",
        "    def __init__(self,s): \n",
        "        self.mot = s\n",
        "    def __str__(self): \n",
        "        return self.mot + \"\\n\"\n",
        "    def __repr__(self): \n",
        "        return \"NoeudTri('{0}')\".format(self.mot)\n",
        "    def insere(self,s):\n",
        "        if s < self.mot:\n",
        "            self.avant = NoeudTri (s)  # ajout d'un successeur\n",
        "        elif s > self.mot:\n",
        "            self.apres = NoeudTri (s)  # ajout d'un successeur\n",
        "        else:\n",
        "            # \u00e9galite, on ne fait rien\n",
        "            pass\n",
        "            \n",
        "n = NoeudTri(\"a\")\n",
        "n.insere(\"b\")"
      ]
    },
    {
      "cell_type": "markdown",
      "metadata": {},
      "source": [
        "La m\u00e9thode ``insere`` pr\u00e9voit de ne rien faire dans le cas o\u00f9 le mot ``s`` pass\u00e9 en argument est \u00e9gal \u00e0 l'attribut ``mot`` : cela revient \u00e0 ignorer les doublons dans la liste de mots \u00e0 trier."
      ]
    },
    {
      "cell_type": "markdown",
      "metadata": {},
      "source": [
        "## Q4 : __str__"
      ]
    },
    {
      "cell_type": "code",
      "execution_count": 9,
      "metadata": {},
      "outputs": [
        {
          "name": "stdout",
          "output_type": "stream",
          "text": [
            "a\n",
            "b\n",
            "\n"
          ]
        }
      ],
      "source": [
        "class NoeudTri (object):\n",
        "    def __init__(self,s):\n",
        "        self.mot = s\n",
        "        \n",
        "    def __str__(self):\n",
        "        s = \"\"\n",
        "        if hasattr(self, \"avant\"):\n",
        "            s += self.avant.__str__ ()\n",
        "        s += self.mot + \"\\n\"\n",
        "        if hasattr(self, \"apres\"):\n",
        "            s += self.apres.__str__()\n",
        "        return s\n",
        "    def __repr__(self): \n",
        "        return \"NoeudTri('{0}')\".format(self.mot)\n",
        "    def insere(self,s):\n",
        "        if s < self.mot:\n",
        "            self.avant = NoeudTri (s)  # ajout d'un successeur\n",
        "        elif s > self.mot:\n",
        "            self.apres = NoeudTri (s)  # ajout d'un successeur\n",
        "        else:\n",
        "            # \u00e9galite, on ne fait rien\n",
        "            pass\n",
        "\n",
        "n = NoeudTri(\"a\")\n",
        "n.insere(\"b\")\n",
        "print(n)"
      ]
    },
    {
      "cell_type": "markdown",
      "metadata": {},
      "source": [
        "L'insertion des mots donn\u00e9s dans l'\u00e9nonc\u00e9 produit le code suivant :"
      ]
    },
    {
      "cell_type": "markdown",
      "metadata": {},
      "source": [
        "## Q5, Q6\n",
        "\n",
        "Il reste \u00e0 compl\u00e9ter la fonction ``insere`` afin qu'elle puisse trouver le bon noeud o\u00f9 ins\u00e9rer un nouveau mot. Cette m\u00e9thode est r\u00e9cursive : si un noeud contient deux attributs ``avant`` et ``apres``, cela signifie que le nouveau mot doit \u00eatre ins\u00e9r\u00e9 plus bas, dans des noeuds reli\u00e9s soit \u00e0 ``avant`` soit \u00e0 ``apres``. La m\u00e9thode ``insere`` choisit donc un des attributs et d\u00e9l\u00e8gue le probl\u00e8me \u00e0 la m\u00e9thode ``insere`` de ce noeud."
      ]
    },
    {
      "cell_type": "code",
      "execution_count": 10,
      "metadata": {},
      "outputs": [
        {
          "name": "stdout",
          "output_type": "stream",
          "text": [
            "abc\n",
            "deux\n",
            "dire\n",
            "dizaine\n",
            "exception\n",
            "opera\n",
            "programme\n",
            "quel\n",
            "un\n",
            "unite\n",
            "xyz\n",
            "\n"
          ]
        }
      ],
      "source": [
        "class SecondeInserstion (AttributeError):\n",
        "    \"insertion d'un mot d\u00e9j\u00e0 ins\u00e9r\u00e9\"\n",
        "\n",
        "class NoeudTri :\n",
        "    \n",
        "    def __init__(self,s):\n",
        "        self.mot = s\n",
        "        \n",
        "    # la cr\u00e9ation d'un nouveau noeud a \u00e9t\u00e9 plac\u00e9e dans une m\u00e9thode\n",
        "    def nouveau_noeud(self, s) : \n",
        "        return self.__class__(s)\n",
        "        \n",
        "    def __str__(self):\n",
        "        s = \"\"\n",
        "        if hasattr(self, \"avant\"):\n",
        "            s += self.avant.__str__ ()\n",
        "        s += self.mot + \"\\n\"\n",
        "        if hasattr(self, \"apres\"):\n",
        "            s += self.apres.__str__()\n",
        "        return s\n",
        "    def __repr__(self): \n",
        "        return \"NoeudTri('{0}')\".format(self.mot)\n",
        "    \n",
        "    def insere(self,s):\n",
        "        if s < self.mot:\n",
        "            if hasattr(self, \"avant\"): \n",
        "                self.avant.insere (s)  # d\u00e9l\u00e9gation\n",
        "            else:\n",
        "                self.avant = self.nouveau_noeud(s)  # cr\u00e9ation\n",
        "        elif s > self.mot:\n",
        "            if hasattr(self, \"apres\"):\n",
        "                self.apres.insere (s) # d\u00e9l\u00e9gation\n",
        "            else:\n",
        "                self.apres = self.nouveau_noeud(s)  # cr\u00e9ation\n",
        "        else:\n",
        "            raise SecondeInsertion(s)\n",
        "        \n",
        "li = [\"un\", \"deux\", \"unite\", \"dizaine\", \"exception\", \"dire\", \\\n",
        "      \"programme\", \"abc\", \"xyz\", \"opera\", \"quel\"]\n",
        "     \n",
        "racine = None\n",
        "for mot in li:\n",
        "    if racine is None: \n",
        "        # premier cas : aucun mot --> on cr\u00e9e le premier noeud\n",
        "        racine = NoeudTri(mot)\n",
        "    else : \n",
        "        # second cas : il y a d\u00e9j\u00e0 un mot, on ajoute le mot suivant \u00e0 l'arbre\n",
        "        racine.insere(mot)\n",
        "\n",
        "print(racine)"
      ]
    },
    {
      "cell_type": "markdown",
      "metadata": {},
      "source": [
        "## Q7 : dessin"
      ]
    },
    {
      "cell_type": "code",
      "execution_count": 11,
      "metadata": {},
      "outputs": [
        {
          "name": "stdout",
          "output_type": "stream",
          "text": [
            "n3012711442136 -> n3012711442528 [label=\"-\"];\n",
            "n3012711442528 -> n3012711442416 [label=\"-\"];\n",
            "n3012711442416 [label=\"abc\"];\n",
            "n3012711442528 [label=\"deux\"];\n",
            "n3012711442528 -> n3012711442472 [label=\"+\"];\n",
            "n3012711442472 -> n3012711442360 [label=\"-\"];\n",
            "n3012711442360 [label=\"dire\"];\n",
            "n3012711442472 [label=\"dizaine\"];\n",
            "n3012711442472 -> n3012711442192 [label=\"+\"];\n",
            "n3012711442192 [label=\"exception\"];\n",
            "n3012711442192 -> n3012711442304 [label=\"+\"];\n",
            "n3012711442304 -> n3012712180984 [label=\"-\"];\n",
            "n3012712180984 [label=\"opera\"];\n",
            "n3012711442304 [label=\"programme\"];\n",
            "n3012711442304 -> n3012712181040 [label=\"+\"];\n",
            "n3012712181040 [label=\"quel\"];\n",
            "n3012711442136 [label=\"un\"];\n",
            "n3012711442136 -> n3012711442024 [label=\"+\"];\n",
            "n3012711442024 [label=\"unite\"];\n",
            "n3012711442024 -> n3012711442584 [label=\"+\"];\n",
            "n3012711442584 [label=\"xyz\"];\n",
            "\n"
          ]
        }
      ],
      "source": [
        "class NoeudTri :\n",
        "    \n",
        "    def __init__(self,s):\n",
        "        self.mot = s\n",
        "        \n",
        "    # la cr\u00e9ation d'un nouveau noeud a \u00e9t\u00e9 plac\u00e9e dans une m\u00e9thode\n",
        "    def nouveau_noeud(self, s) : \n",
        "        return self.__class__(s)\n",
        "        \n",
        "    def __str__(self):\n",
        "        s = \"\"\n",
        "        if hasattr(self, \"avant\"):\n",
        "            s += self.avant.__str__ ()\n",
        "        s += self.mot + \"\\n\"\n",
        "        if hasattr(self, \"apres\"):\n",
        "            s += self.apres.__str__()\n",
        "        return s\n",
        "    def __repr__(self): \n",
        "        return \"NoeudTri('{0}')\".format(self.mot)\n",
        "    \n",
        "    def insere(self,s):\n",
        "        if s < self.mot:\n",
        "            if hasattr(self, \"avant\"): \n",
        "                self.avant.insere (s)  # d\u00e9l\u00e9gation\n",
        "            else:\n",
        "                self.avant = self.nouveau_noeud(s)  # cr\u00e9ation\n",
        "        elif s > self.mot:\n",
        "            if hasattr(self, \"apres\"):\n",
        "                self.apres.insere (s) # d\u00e9l\u00e9gation\n",
        "            else:\n",
        "                self.apres = self.nouveau_noeud(s)  # cr\u00e9ation\n",
        "        else:\n",
        "            raise SecondeInsertion(s)\n",
        "        \n",
        "    def dessin(self):\n",
        "        s = \"\"\n",
        "        if hasattr(self, \"avant\"):\n",
        "            s += 'n{0} -> n{1} [label=\"-\"];\\n'.format(id(self), id(self.avant))\n",
        "            s += self.avant.dessin()\n",
        "        s += 'n{0} [label=\"{1}\"];\\n'.format(id(self), self.mot)\n",
        "        if hasattr(self, \"apres\"):\n",
        "            s += 'n{0} -> n{1} [label=\"+\"];\\n'.format(id(self), id(self.apres))\n",
        "            s += self.apres.dessin()\n",
        "        return s    \n",
        "    \n",
        "li = [\"un\", \"deux\", \"unite\", \"dizaine\", \"exception\", \"dire\", \\\n",
        "      \"programme\", \"abc\", \"xyz\", \"opera\", \"quel\"]\n",
        "     \n",
        "racine = None\n",
        "for mot in li:\n",
        "    if racine is None: \n",
        "        # premier cas : aucun mot --> on cr\u00e9e le premier noeud\n",
        "        racine = NoeudTri(mot)\n",
        "    else : \n",
        "        # second cas : il y a d\u00e9j\u00e0 un mot, on ajoute le mot suivant \u00e0 l'arbre\n",
        "        racine.insere(mot)\n",
        "\n",
        "print(racine.dessin())"
      ]
    },
    {
      "cell_type": "code",
      "execution_count": 12,
      "metadata": {},
      "outputs": [
        {
          "data": {
            "image/png": "[encoded data removed]",
            "text/plain": [
              "<PIL.PngImagePlugin.PngImageFile image mode=RGB size=1216x440 at 0x2BD777A5080>"
            ]
          },
          "execution_count": 13,
          "metadata": {},
          "output_type": "execute_result"
        }
      ],
      "source": [
        "from pyensae.graph_helper import draw_diagram\n",
        "img = draw_diagram(\"\"\"\n",
        "blockdiag {{\n",
        "{0}\n",
        "}}\n",
        "\"\"\".format(racine.dessin()))\n",
        "img"
      ]
    },
    {
      "cell_type": "code",
      "execution_count": 14,
      "metadata": {
        "collapsed": true
      },
      "outputs": [],
      "source": []
    }
  ],
  "metadata": {
    "kernelspec": {
      "display_name": "Python 3",
      "language": "python",
      "name": "python3"
    },
    "language_info": {
      "codemirror_mode": {
        "name": "ipython",
        "version": 3
      },
      "file_extension": ".py",
      "mimetype": "text/x-python",
      "name": "python",
      "nbconvert_exporter": "python",
      "pygments_lexer": "ipython3",
      "version": "3.6.1"
    }
  },
  "nbformat": 4,
  "nbformat_minor": 2
}