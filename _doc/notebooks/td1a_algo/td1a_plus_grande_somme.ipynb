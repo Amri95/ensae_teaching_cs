{
  "cells": [
    {
      "cell_type": "markdown",
      "metadata": {},
      "source": [
        "# 1A.algo - la plus grande sous-s\u00e9quence croissante\n",
        "\n",
        "Un exercice classique : trouver la plus grande sous-s\u00e9quence croissante. Celle-ci n'est pas n\u00e9cessairement un bloc contig\u00fc de la liste initiale mais les entiers apparaissent dans le m\u00eame ordre."
      ]
    },
    {
      "cell_type": "markdown",
      "metadata": {},
      "source": [
        "Le point de d\u00e9part est une liste d'entiers $L=(a_1, ..., a_n)$. On veut trouver la plus grande liste $l$ d'entiers croissante incluse dans $L$. Cette liste $l$ n'est pas n\u00e9cessairement un bloc contig\u00fc de la liste $L$ mais les entiers apparaissent dans le m\u00eame ordre que dans la liste initiale. Ce probl\u00e8me est connu sous le nom [LIS: longest increasing sequence](http://en.wikipedia.org/wiki/Longest_increasing_subsequence). L'algorithme le plus rapide est en $O(n \\ln n)$. Le logarithme est souvent le signe qu'un algorithme utilise la dichotomie. L'objectif de cet exercice est d'\u00e9crire un algorithme qui r\u00e9soud le probl\u00e8me, tout en sachant que le plus performant introduire n\u00e9cessairement une dichotomie."
      ]
    },
    {
      "cell_type": "code",
      "execution_count": 1,
      "metadata": {
        "collapsed": true
      },
      "outputs": [],
      "source": []
    }
  ],
  "metadata": {
    "kernelspec": {
      "display_name": "Python 3",
      "language": "python",
      "name": "python3"
    },
    "language_info": {
      "codemirror_mode": {
        "name": "ipython",
        "version": 3
      },
      "file_extension": ".py",
      "mimetype": "text/x-python",
      "name": "python",
      "nbconvert_exporter": "python",
      "pygments_lexer": "ipython3",
      "version": "3.7.2"
    }
  },
  "nbformat": 4,
  "nbformat_minor": 1
}