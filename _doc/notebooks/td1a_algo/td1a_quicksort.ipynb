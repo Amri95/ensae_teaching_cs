{
  "cells": [
    {
      "cell_type": "markdown",
      "metadata": {},
      "source": [
        "# 1A.algo - Quicksort\n",
        "\n",
        "Cet \u00e9nonc\u00e9 a pour objectif de pr\u00e9senter l'algorithme de tri [quicksort](https://fr.wikipedia.org/wiki/Tri_rapide) qui permet de trier par ordre croissant un ensemble d'\u00e9l\u00e9ments (ici des cha\u00eenes de caract\u00e8res) avec un co\u00fbt moyen."
      ]
    },
    {
      "cell_type": "markdown",
      "metadata": {},
      "source": [
        "Lorsqu'on parle de co\u00fbt moyen, cela signifie que le co\u00fbt n'est pas constant en fonction de la dimension du probl\u00e8me. Ici, le co\u00fbt moyen d\u00e9signe le co\u00fbt moyen d'un tri \\textit{quicksort} obtenu en faisant la moyenne du co\u00fbt du m\u00eame algorithme sur toutes les permutations possibles de l'ensemble de d\u00e9part. en $O(n \\ln n)$ o\u00f9 $n$ est le nombre d'\u00e9l\u00e9ments \u00e0 classer. Le tri *quicksort* appara\u00eet rarement sous la forme d'un graphe : il est plus simple \u00e0 programmer sans les graphes mais il est plus simple \u00e0 appr\u00e9hender avec les graphes. Dans cette derni\u00e8re version, l'algorithme ins\u00e8re un \u00e0 un les \u00e9l\u00e9ments d'une liste \u00e0 trier dans un graphe. Chaque noeud de ce graphe est reli\u00e9 \u00e0 deux autres noeuds."
      ]
    },
    {
      "cell_type": "markdown",
      "metadata": {},
      "source": [
        "* Un noeud ``avant`` ou ``\"<\"`` qui permet d'acc\u00e9der \u00e0 des \u00e9l\u00e9ments class\u00e9s avant celui de ce noeud.\n",
        "* Un noeud ``apres`` ou ``\">\"`` qui permet d'acc\u00e9der \u00e0 des \u00e9l\u00e9ments class\u00e9s apr\u00e8s celui de ce noeud.\n"
      ]
    },
    {
      "cell_type": "markdown",
      "metadata": {},
      "source": [
        "Les noeuds ``avant`` et ``apres`` sont appel\u00e9s les successeurs. Le terme oppos\u00e9 est pr\u00e9d\u00e9cesseur. Ces deux noeuds ont n\u00e9cessairement un pr\u00e9d\u00e9cesseur mais un noeud n'a pas forc\u00e9ment de successeurs. S'il en avait toujours un, l'arbre serait infini."
      ]
    },
    {
      "cell_type": "code",
      "execution_count": 1,
      "metadata": {},
      "outputs": [
        {
          "data": {
            "text/html": [
              "<div id=\"my_id_menu_nb\">run previous cell, wait for 2 seconds</div>\n",
              "<script>\n",
              "function repeat_indent_string(n){\n",
              "    var a = \"\" ;\n",
              "    for ( ; n > 0 ; --n)\n",
              "        a += \"    \";\n",
              "    return a;\n",
              "}\n",
              "var update_menu_string = function(begin, lfirst, llast, sformat, send, keep_item, begin_format, end_format) {\n",
              "    var anchors = document.getElementsByClassName(\"section\");\n",
              "    if (anchors.length == 0) {\n",
              "        anchors = document.getElementsByClassName(\"text_cell_render rendered_html\");\n",
              "    }\n",
              "    var i,t;\n",
              "    var text_menu = begin;\n",
              "    var text_memo = \"<pre>\\nlength:\" + anchors.length + \"\\n\";\n",
              "    var ind = \"\";\n",
              "    var memo_level = 1;\n",
              "    var href;\n",
              "    var tags = [];\n",
              "    var main_item = 0;\n",
              "    var format_open = 0;\n",
              "    for (i = 0; i <= llast; i++)\n",
              "        tags.push(\"h\" + i);\n",
              "\n",
              "    for (i = 0; i < anchors.length; i++) {\n",
              "        text_memo += \"**\" + anchors[i].id + \"--\\n\";\n",
              "\n",
              "        var child = null;\n",
              "        for(t = 0; t < tags.length; t++) {\n",
              "            var r = anchors[i].getElementsByTagName(tags[t]);\n",
              "            if (r.length > 0) {\n",
              "child = r[0];\n",
              "break;\n",
              "            }\n",
              "        }\n",
              "        if (child == null) {\n",
              "            text_memo += \"null\\n\";\n",
              "            continue;\n",
              "        }\n",
              "        if (anchors[i].hasAttribute(\"id\")) {\n",
              "            // when converted in RST\n",
              "            href = anchors[i].id;\n",
              "            text_memo += \"#1-\" + href;\n",
              "            // passer \u00e0 child suivant (le chercher)\n",
              "        }\n",
              "        else if (child.hasAttribute(\"id\")) {\n",
              "            // in a notebook\n",
              "            href = child.id;\n",
              "            text_memo += \"#2-\" + href;\n",
              "        }\n",
              "        else {\n",
              "            text_memo += \"#3-\" + \"*\" + \"\\n\";\n",
              "            continue;\n",
              "        }\n",
              "        var title = child.textContent;\n",
              "        var level = parseInt(child.tagName.substring(1,2));\n",
              "\n",
              "        text_memo += \"--\" + level + \"?\" + lfirst + \"--\" + title + \"\\n\";\n",
              "\n",
              "        if ((level < lfirst) || (level > llast)) {\n",
              "            continue ;\n",
              "        }\n",
              "        if (title.endsWith('\u00b6')) {\n",
              "            title = title.substring(0,title.length-1).replace(\"<\", \"&lt;\")\n",
              "         .replace(\">\", \"&gt;\").replace(\"&\", \"&amp;\");\n",
              "        }\n",
              "        if (title.length == 0) {\n",
              "            continue;\n",
              "        }\n",
              "\n",
              "        while (level < memo_level) {\n",
              "            text_menu += end_format + \"</ul>\\n\";\n",
              "            format_open -= 1;\n",
              "            memo_level -= 1;\n",
              "        }\n",
              "        if (level == lfirst) {\n",
              "            main_item += 1;\n",
              "        }\n",
              "        if (keep_item != -1 && main_item != keep_item + 1) {\n",
              "            // alert(main_item + \" - \" + level + \" - \" + keep_item);\n",
              "            continue;\n",
              "        }\n",
              "        while (level > memo_level) {\n",
              "            text_menu += \"<ul>\\n\";\n",
              "            memo_level += 1;\n",
              "        }\n",
              "        text_menu += repeat_indent_string(level-2);\n",
              "        text_menu += begin_format + sformat.replace(\"__HREF__\", href).replace(\"__TITLE__\", title);\n",
              "        format_open += 1;\n",
              "    }\n",
              "    while (1 < memo_level) {\n",
              "        text_menu += end_format + \"</ul>\\n\";\n",
              "        memo_level -= 1;\n",
              "        format_open -= 1;\n",
              "    }\n",
              "    text_menu += send;\n",
              "    //text_menu += \"\\n\" + text_memo;\n",
              "\n",
              "    while (format_open > 0) {\n",
              "        text_menu += end_format;\n",
              "        format_open -= 1;\n",
              "    }\n",
              "    return text_menu;\n",
              "};\n",
              "var update_menu = function() {\n",
              "    var sbegin = \"\";\n",
              "    var sformat = '<a href=\"#__HREF__\">__TITLE__</a>';\n",
              "    var send = \"\";\n",
              "    var begin_format = '<li>';\n",
              "    var end_format = '</li>';\n",
              "    var keep_item = -1;\n",
              "    var text_menu = update_menu_string(sbegin, 2, 4, sformat, send, keep_item,\n",
              "       begin_format, end_format);\n",
              "    var menu = document.getElementById(\"my_id_menu_nb\");\n",
              "    menu.innerHTML=text_menu;\n",
              "};\n",
              "window.setTimeout(update_menu,2000);\n",
              "            </script>"
            ],
            "text/plain": [
              "<IPython.core.display.HTML object>"
            ]
          },
          "execution_count": 2,
          "metadata": {},
          "output_type": "execute_result"
        }
      ],
      "source": [
        "from jyquickhelper import add_notebook_menu\n",
        "add_notebook_menu()"
      ]
    },
    {
      "cell_type": "markdown",
      "metadata": {},
      "source": [
        "## Q1 : classe\n",
        "\n",
        "On cherche \u00e0 construire une classe ayant pour nom ``NoeudTri`` et qui contient une cha\u00eene de caract\u00e8res initialis\u00e9e lors de la cr\u00e9ation de la classe : ``n = NoeudTri(\"essai\")``."
      ]
    },
    {
      "cell_type": "code",
      "execution_count": 3,
      "metadata": {
        "collapsed": true
      },
      "outputs": [],
      "source": []
    },
    {
      "cell_type": "markdown",
      "metadata": {},
      "source": [
        "## Q2 : __str__\n",
        "\n",
        "On \u00e9crit la m\u00e9thode ``__str__`` de sorte que l'instruction ``print(n)`` affiche la cha\u00eene de caract\u00e8res que contient ``n``."
      ]
    },
    {
      "cell_type": "code",
      "execution_count": 4,
      "metadata": {
        "collapsed": true
      },
      "outputs": [],
      "source": []
    },
    {
      "cell_type": "markdown",
      "metadata": {},
      "source": [
        "## Q3 : avant, apr\u00e8s\n",
        "\n",
        "On cherche maintenant \u00e0 d\u00e9finir d'autres noeuds, reli\u00e9s \u00e0 des attributs ``avant`` et ``apres``. On suppose que les noeuds utilisent l'attribut ``mot``, on cr\u00e9e alors une m\u00e9thode ``insere(s)`` qui :\n",
        "\n",
        "* Si ``s < self.mot``, alors on ajoute l'attribut ``avant = NoeudTri(s)``.\n",
        "* Si ``s > self.mot``, alors on ajoute l'attribut ``apres = NoeudTri(s)``."
      ]
    },
    {
      "cell_type": "code",
      "execution_count": 5,
      "metadata": {
        "collapsed": true
      },
      "outputs": [],
      "source": []
    },
    {
      "cell_type": "markdown",
      "metadata": {},
      "source": [
        "## Q4 : __str__\n",
        "\n",
        "La m\u00e9thode ``__str__`` n'affiche pour le moment qu'un mot. Il s'agit maintenant de prendre en compte les attributs ``avant`` et ``apres`` afin que l'instruction ``print(n)`` affiche ``avant.__str__()`` et ``apres.__str__()``. Il faudra \u00e9galement faire en sorte que la m\u00e9thode ``avant.__str__()`` ne soit appel\u00e9e que si l'attribut ``avant`` existe. Comme la liste des mots \u00e0 trier est finie, il faut bien que certains n\\oe uds n'aient pas de successeurs. Qu'est-ce qu'affiche le programme suivant ? "
      ]
    },
    {
      "cell_type": "code",
      "execution_count": 6,
      "metadata": {},
      "outputs": [
        {
          "ename": "NameError",
          "evalue": "name 'NoeudTri' is not defined",
          "output_type": "error",
          "traceback": [
            "\u001b[1;31m---------------------------------------------------------------------------\u001b[0m",
            "\u001b[1;31mNameError\u001b[0m                                 Traceback (most recent call last)",
            "\u001b[1;32m<ipython-input-6-2f354be36812>\u001b[0m in \u001b[0;36m<module>\u001b[1;34m()\u001b[0m\n\u001b[1;32m----> 1\u001b[1;33m \u001b[0mracine\u001b[0m \u001b[1;33m=\u001b[0m \u001b[0mNoeudTri\u001b[0m\u001b[1;33m(\u001b[0m\u001b[1;34m\"un\"\u001b[0m\u001b[1;33m)\u001b[0m  \u001b[1;31m# noeud tri n'est pas encore d\u00e9fini\u001b[0m\u001b[1;33m\u001b[0m\u001b[0m\n\u001b[0m\u001b[0;32m      2\u001b[0m \u001b[0mracine\u001b[0m\u001b[1;33m.\u001b[0m\u001b[0minsere\u001b[0m \u001b[1;33m(\u001b[0m\u001b[1;34m\"unite\"\u001b[0m\u001b[1;33m)\u001b[0m\u001b[1;33m\u001b[0m\u001b[0m\n\u001b[0;32m      3\u001b[0m \u001b[0mracine\u001b[0m\u001b[1;33m.\u001b[0m\u001b[0minsere\u001b[0m \u001b[1;33m(\u001b[0m\u001b[1;34m\"deux\"\u001b[0m\u001b[1;33m)\u001b[0m\u001b[1;33m\u001b[0m\u001b[0m\n\u001b[0;32m      4\u001b[0m \u001b[0mprint\u001b[0m\u001b[1;33m(\u001b[0m\u001b[0mracine\u001b[0m\u001b[1;33m)\u001b[0m\u001b[1;33m\u001b[0m\u001b[0m\n",
            "\u001b[1;31mNameError\u001b[0m: name 'NoeudTri' is not defined"
          ]
        }
      ],
      "source": [
        "racine = NoeudTri(\"un\")  # noeud tri n'est pas encore d\u00e9fini\n",
        "racine.insere (\"unite\")\n",
        "racine.insere (\"deux\")\n",
        "print(racine)"
      ]
    },
    {
      "cell_type": "markdown",
      "metadata": {},
      "source": [
        "## Q5 : insere\n",
        "\n",
        "Est-il possible de trier plus de trois mots avec ce programme ? Que faut-il modifier dans la m\u00e9thode ``insere`` afin de pouvoir trier un nombre quelconque de mots ?"
      ]
    },
    {
      "cell_type": "markdown",
      "metadata": {},
      "source": [
        "## Q6 : exception\n",
        "\n",
        "Ajouter le code n\u00e9cessaire afin que la m\u00e9thode ``insere`` g\u00e9n\u00e8re une exception lorsqu'un mot d\u00e9j\u00e0 pr\u00e9sent dans l'arbre est \u00e0 nouveau ins\u00e9r\u00e9."
      ]
    },
    {
      "cell_type": "code",
      "execution_count": 7,
      "metadata": {
        "collapsed": true
      },
      "outputs": [],
      "source": []
    },
    {
      "cell_type": "markdown",
      "metadata": {},
      "source": [
        "## Q7 : graph\n",
        "\n",
        "On se propose de construire une image repr\u00e9sentant l'arbre contenant les mots tri\u00e9s par l'algorithme *quicksort*. Cette repr\u00e9sentation utilise le module [blocdiag](http://blockdiag.com/en/) ou on peut utiliser la fonction [draw_diagram](http://www.xavierdupre.fr/app/pyensae/helpsphinx/pyensae/graph_helper/blockdiag_helper.html?highlight=draw_diagram#pyensae.graph_helper.blockdiag_helper.draw_diagram)."
      ]
    },
    {
      "cell_type": "code",
      "execution_count": 8,
      "metadata": {},
      "outputs": [
        {
          "data": {
            "image/png": "[encoded data removed]",
            "text/plain": [
              "<PIL.PngImagePlugin.PngImageFile image mode=RGB size=832x200 at 0x210A29C3FD0>"
            ]
          },
          "execution_count": 9,
          "metadata": {},
          "output_type": "execute_result"
        }
      ],
      "source": [
        "from pyensae.graph_helper import draw_diagram\n",
        "img = draw_diagram(\"\"\"\n",
        "        blockdiag {\n",
        "            A -> B -> C -> D;\n",
        "            A -> E -> F;\n",
        "            F -> G [label = \"edge-FG\"];\n",
        "            E [label=\"label-E\"]\n",
        "        }\n",
        "        \"\"\")\n",
        "img"
      ]
    },
    {
      "cell_type": "code",
      "execution_count": 10,
      "metadata": {
        "collapsed": true
      },
      "outputs": [],
      "source": []
    }
  ],
  "metadata": {
    "kernelspec": {
      "display_name": "Python 3",
      "language": "python",
      "name": "python3"
    },
    "language_info": {
      "codemirror_mode": {
        "name": "ipython",
        "version": 3
      },
      "file_extension": ".py",
      "mimetype": "text/x-python",
      "name": "python",
      "nbconvert_exporter": "python",
      "pygments_lexer": "ipython3",
      "version": "3.6.1"
    }
  },
  "nbformat": 4,
  "nbformat_minor": 2
}