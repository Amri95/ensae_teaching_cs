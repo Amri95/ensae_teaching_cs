{
  "cells": [
    {
      "cell_type": "markdown",
      "metadata": {},
      "source": [
        "# 1A.algo - Tri plus rapide que pr\u00e9vu\n",
        "\n",
        "Dans le cas g\u00e9n\u00e9ral, le co\u00fbt d'un algorithme de tri est en $O(n \\ln n)$. Mais il existe des cas particuliers pour lesquels on peut faire plus court. Par exemple, on suppose que l'ensemble \u00e0 trier contient plein de fois le m\u00eame \u00e9l\u00e9ment."
      ]
    },
    {
      "cell_type": "code",
      "execution_count": 1,
      "metadata": {},
      "outputs": [
        {
          "data": {
            "text/html": [
              "<div id=\"my_id_menu_nb\">run previous cell, wait for 2 seconds</div>\n",
              "<script>\n",
              "function repeat_indent_string(n){\n",
              "    var a = \"\" ;\n",
              "    for ( ; n > 0 ; --n) {\n",
              "        a += \"    \";\n",
              "    }\n",
              "    return a;\n",
              "}\n",
              "var update_menu_string = function(begin, lfirst, llast, sformat, send, keep_item) {\n",
              "    var anchors = document.getElementsByClassName(\"section\");\n",
              "    if (anchors.length == 0) {\n",
              "        anchors = document.getElementsByClassName(\"text_cell_render rendered_html\");\n",
              "    }\n",
              "    var i,t;\n",
              "    var text_menu = begin;\n",
              "    var text_memo = \"<pre>\\nlength:\" + anchors.length + \"\\n\";\n",
              "    var ind = \"\";\n",
              "    var memo_level = 1;\n",
              "    var href;\n",
              "    var tags = [];\n",
              "    var main_item = 0;\n",
              "    for (i = 0; i <= llast; i++) {\n",
              "        tags.push(\"h\" + i);\n",
              "    }\n",
              "\n",
              "    for (i = 0; i < anchors.length; i++) {\n",
              "        text_memo += \"**\" + anchors[i].id + \"--\\n\";\n",
              "\n",
              "        var child = null;\n",
              "        for(t = 0; t < tags.length; t++) {\n",
              "            var r = anchors[i].getElementsByTagName(tags[t]);\n",
              "            if (r.length > 0) {\n",
              "child = r[0];\n",
              "break;\n",
              "            }\n",
              "        }\n",
              "        if (child == null){\n",
              "            text_memo += \"null\\n\";\n",
              "            continue;\n",
              "        }\n",
              "        if (anchors[i].hasAttribute(\"id\")) {\n",
              "            // when converted in RST\n",
              "            href = anchors[i].id;\n",
              "            text_memo += \"#1-\" + href;\n",
              "            // passer \u00e0 child suivant (le chercher)\n",
              "        }\n",
              "        else if (child.hasAttribute(\"id\")) {\n",
              "            // in a notebook\n",
              "            href = child.id;\n",
              "            text_memo += \"#2-\" + href;\n",
              "        }\n",
              "        else {\n",
              "            text_memo += \"#3-\" + \"*\" + \"\\n\";\n",
              "            continue;\n",
              "        }\n",
              "        var title = child.textContent;\n",
              "        var level = parseInt(child.tagName.substring(1,2));\n",
              "\n",
              "        text_memo += \"--\" + level + \"?\" + lfirst + \"--\" + title + \"\\n\";\n",
              "\n",
              "        if ((level < lfirst) || (level > llast)) {\n",
              "            continue ;\n",
              "        }\n",
              "        if (title.endsWith('\u00b6')) {\n",
              "            title = title.substring(0,title.length-1).replace(\"<\", \"&lt;\").replace(\">\", \"&gt;\").replace(\"&\", \"&amp;\")\n",
              "        }\n",
              "\n",
              "        if (title.length == 0) {\n",
              "            continue;\n",
              "        }\n",
              "\n",
              "        while (level < memo_level) {\n",
              "            text_menu += \"</ul>\\n\";\n",
              "            memo_level -= 1;\n",
              "        }\n",
              "        if (level == lfirst) {\n",
              "            main_item += 1;\n",
              "        }\n",
              "        if (keep_item != -1 && main_item != keep_item + 1) {\n",
              "            // alert(main_item + \" - \" + level + \" - \" + keep_item);\n",
              "            continue;\n",
              "        }\n",
              "        while (level > memo_level) {\n",
              "            text_menu += \"<ul>\\n\";\n",
              "            memo_level += 1;\n",
              "        }\n",
              "        text_menu += repeat_indent_string(level-2) + sformat.replace(\"__HREF__\", href).replace(\"__TITLE__\", title);\n",
              "    }\n",
              "    while (1 < memo_level) {\n",
              "        text_menu += \"</ul>\\n\";\n",
              "        memo_level -= 1;\n",
              "    }\n",
              "    text_menu += send;\n",
              "    //text_menu += \"\\n\" + text_memo;\n",
              "    return text_menu;\n",
              "};\n",
              "var update_menu = function() {\n",
              "    var sbegin = \"\";\n",
              "    var sformat = '<li><a href=\"#__HREF__\">__TITLE__</a></li>';\n",
              "    var send = \"\";\n",
              "    var keep_item = -1;\n",
              "    var text_menu = update_menu_string(sbegin, 2, 4, sformat, send, keep_item);\n",
              "    var menu = document.getElementById(\"my_id_menu_nb\");\n",
              "    menu.innerHTML=text_menu;\n",
              "};\n",
              "window.setTimeout(update_menu,2000);\n",
              "            </script>"
            ],
            "text/plain": [
              "<IPython.core.display.HTML object>"
            ]
          },
          "execution_count": 2,
          "metadata": {},
          "output_type": "execute_result"
        }
      ],
      "source": [
        "from jyquickhelper import add_notebook_menu\n",
        "add_notebook_menu()"
      ]
    },
    {
      "cell_type": "code",
      "execution_count": 2,
      "metadata": {
        "collapsed": true
      },
      "outputs": [],
      "source": [
        "%matplotlib inline"
      ]
    },
    {
      "cell_type": "markdown",
      "metadata": {},
      "source": [
        "## trier un plus petit ensemble"
      ]
    },
    {
      "cell_type": "code",
      "execution_count": 3,
      "metadata": {
        "collapsed": true
      },
      "outputs": [],
      "source": [
        "import random\n",
        "ens = [random.randint(0,99) for i in range(10000)]"
      ]
    },
    {
      "cell_type": "markdown",
      "metadata": {},
      "source": [
        "On peut calculer la distribution de ces \u00e9l\u00e9ments."
      ]
    },
    {
      "cell_type": "code",
      "execution_count": 4,
      "metadata": {},
      "outputs": [
        {
          "data": {
            "text/plain": [
              "[(0, 91), (1, 97), (2, 101), (3, 99), (4, 87)]"
            ]
          },
          "execution_count": 5,
          "metadata": {},
          "output_type": "execute_result"
        }
      ],
      "source": [
        "def histogram(ens):\n",
        "    hist = {}\n",
        "    for e in ens:\n",
        "        hist[e] = hist.get(e, 0) + 1\n",
        "    return hist\n",
        "\n",
        "hist = histogram(ens)\n",
        "list(hist.items())[:5]"
      ]
    },
    {
      "cell_type": "markdown",
      "metadata": {},
      "source": [
        "Plut\u00f4t que de trier le tableau initial, on peut trier l'histogramme qui contient moins d'\u00e9l\u00e9ment."
      ]
    },
    {
      "cell_type": "code",
      "execution_count": 5,
      "metadata": {
        "collapsed": true
      },
      "outputs": [],
      "source": [
        "sorted_hist = list(hist.items())\n",
        "sorted_hist.sort()"
      ]
    },
    {
      "cell_type": "markdown",
      "metadata": {},
      "source": [
        "Puis on recontruit le tableau initial mais tri\u00e9 :"
      ]
    },
    {
      "cell_type": "code",
      "execution_count": 6,
      "metadata": {},
      "outputs": [
        {
          "data": {
            "text/plain": [
              "[0, 0, 0, 0, 0]"
            ]
          },
          "execution_count": 7,
          "metadata": {},
          "output_type": "execute_result"
        }
      ],
      "source": [
        "def tableau(sorted_hist):\n",
        "    res = []\n",
        "    for k, v in sorted_hist:\n",
        "        for i in range(v):\n",
        "            res.append(k)\n",
        "    return res\n",
        "\n",
        "sorted_ens = tableau(sorted_hist)\n",
        "sorted_ens[:5]"
      ]
    },
    {
      "cell_type": "markdown",
      "metadata": {},
      "source": [
        "On cr\u00e9e une fonction qui assemble toutes les op\u00e9rations. Le co\u00fbt du nivrau tri est en $O(d \\ln d + n)$ o\u00f9 $d$ est le nombre d'\u00e9l\u00e9ments distincts de l'ensemble initial."
      ]
    },
    {
      "cell_type": "code",
      "execution_count": 7,
      "metadata": {},
      "outputs": [
        {
          "name": "stdout",
          "output_type": "stream",
          "text": [
            "100 loops, best of 3: 3.23 ms per loop\n"
          ]
        }
      ],
      "source": [
        "def sort_with_hist(ens):\n",
        "    hist = histogram(ens)\n",
        "    sorted_hist = list(hist.items())\n",
        "    sorted_hist.sort()    \n",
        "    return tableau(sorted_hist)\n",
        "\n",
        "from random import shuffle\n",
        "shuffle(ens)\n",
        "%timeit sort_with_hist(ens)"
      ]
    },
    {
      "cell_type": "code",
      "execution_count": 8,
      "metadata": {
        "collapsed": true
      },
      "outputs": [],
      "source": [
        "def sort_with_nohist(ens):\n",
        "    return list(sorted(ens))"
      ]
    },
    {
      "cell_type": "code",
      "execution_count": 9,
      "metadata": {},
      "outputs": [
        {
          "name": "stdout",
          "output_type": "stream",
          "text": [
            "100 loops, best of 3: 2.9 ms per loop\n"
          ]
        }
      ],
      "source": [
        "shuffle(ens)\n",
        "%timeit sort_with_nohist(ens)"
      ]
    },
    {
      "cell_type": "markdown",
      "metadata": {},
      "source": [
        "Les temps d'ex\u00e9cution ne sont pas tr\u00e8s probants car la fonction `sort` est immpl\u00e9ment\u00e9e en C et qu'elle utilise l'algorithme [timsort](https://en.wikipedia.org/wiki/Timsort). Cet algorithme est un algorithme adaptatif tel que [smoothsort](https://en.wikipedia.org/wiki/Smoothsort). Le co\u00fbt varie en fonction des donn\u00e9es \u00e0 trier. Il identifie d'abord les s\u00e9quences d\u00e9j\u00e0 tri\u00e9es, trie les autres parties et fusionne l'ensemble. Trier un tableau d\u00e9j\u00e0 tri\u00e9 revient \u00e0 d\u00e9tecter qu'il est d\u00e9j\u00e0 tri\u00e9. Le co\u00fbt est alors lin\u00e9aire $O(n)$. Cela explique le commentaire *The slowest run took 19.47 times longer than the fastest.* ci-dessous o\u00f9 le premier tri est beaucoup plus long que les suivant qui s'appliquent \u00e0 un tableau d\u00e9j\u00e0 tri\u00e9. Quoiqu'il en soit, il n'est pas facile de comparer les deux impl\u00e9mentations en terme de temps."
      ]
    },
    {
      "cell_type": "code",
      "execution_count": 10,
      "metadata": {},
      "outputs": [
        {
          "name": "stdout",
          "output_type": "stream",
          "text": [
            "The slowest run took 21.88 times longer than the fastest. This could mean that an intermediate result is being cached.\n",
            "10000 loops, best of 3: 164 \u00b5s per loop\n"
          ]
        }
      ],
      "source": [
        "def sort_with_nohist_nocopy(ens):\n",
        "    ens.sort()\n",
        "    return ens\n",
        "shuffle(ens)\n",
        "%timeit sort_with_nohist_nocopy(ens)"
      ]
    },
    {
      "cell_type": "markdown",
      "metadata": {
        "collapsed": true
      },
      "source": [
        "## \u00e9volution en fonction de n\n",
        "\n",
        "Pour r\u00e9ussir \u00e0 valider l'id\u00e9e de d\u00e9part. On regarde l'\u00e9volution des deux algorithmes en fonction du nombre d'observations."
      ]
    },
    {
      "cell_type": "code",
      "execution_count": 11,
      "metadata": {},
      "outputs": [
        {
          "data": {
            "text/plain": [
              "<matplotlib.axes._subplots.AxesSubplot at 0x219ef99ebe0>"
            ]
          },
          "execution_count": 12,
          "metadata": {},
          "output_type": "execute_result"
        },
        {
          "data": {
            "image/png": "[encoded data removed]",
            "text/plain": [
              "<matplotlib.figure.Figure at 0x219ef99e358>"
            ]
          },
          "metadata": {},
          "output_type": "display_data"
        }
      ],
      "source": [
        "def tableaux_aleatoires(ns, d):\n",
        "    for n in ns:\n",
        "        yield [random.randint(0,d-1) for i in range(n)]\n",
        "        \n",
        "import pandas\n",
        "import time\n",
        "def mesure(enss, fonc):\n",
        "    res = []\n",
        "    for ens in enss:\n",
        "        cl = time.clock()\n",
        "        fonc(ens)\n",
        "        diff = time.clock() - cl\n",
        "        res.append(dict(n=len(ens), time=diff))\n",
        "    return pandas.DataFrame(res)\n",
        "\n",
        "df = mesure(tableaux_aleatoires(range(100, 30000, 100), 100), sort_with_nohist)\n",
        "df.plot(x=\"n\", y=\"time\")"
      ]
    },
    {
      "cell_type": "code",
      "execution_count": 12,
      "metadata": {},
      "outputs": [
        {
          "data": {
            "text/plain": [
              "<matplotlib.axes._subplots.AxesSubplot at 0x219eb2ea2b0>"
            ]
          },
          "execution_count": 13,
          "metadata": {},
          "output_type": "execute_result"
        },
        {
          "data": {
            "image/png": "[encoded data removed]",
            "text/plain": [
              "<matplotlib.figure.Figure at 0x219eb2bec88>"
            ]
          },
          "metadata": {},
          "output_type": "display_data"
        }
      ],
      "source": [
        "df = mesure(tableaux_aleatoires(range(100, 30000, 100), 100), sort_with_hist)\n",
        "df.plot(x=\"n\", y=\"time\")"
      ]
    },
    {
      "cell_type": "markdown",
      "metadata": {},
      "source": [
        "L'algorithme de tri de Python est plut\u00f4t efficace puisque son co\u00fbt para\u00eet lin\u00e9aire en apparence."
      ]
    },
    {
      "cell_type": "code",
      "execution_count": 13,
      "metadata": {},
      "outputs": [
        {
          "data": {
            "text/plain": [
              "<matplotlib.axes._subplots.AxesSubplot at 0x219efdadf98>"
            ]
          },
          "execution_count": 14,
          "metadata": {},
          "output_type": "execute_result"
        },
        {
          "data": {
            "image/png": "[encoded data removed]",
            "text/plain": [
              "<matplotlib.figure.Figure at 0x219f01bc390>"
            ]
          },
          "metadata": {},
          "output_type": "display_data"
        }
      ],
      "source": [
        "df = mesure(tableaux_aleatoires(range(100, 30000, 200), int(1e10)), sort_with_nohist)\n",
        "df.plot(x=\"n\", y=\"time\")"
      ]
    },
    {
      "cell_type": "markdown",
      "metadata": {},
      "source": [
        "On ajoute un logarithme."
      ]
    },
    {
      "cell_type": "code",
      "execution_count": 14,
      "metadata": {},
      "outputs": [
        {
          "data": {
            "text/plain": [
              "<matplotlib.axes._subplots.AxesSubplot at 0x219f00cefd0>"
            ]
          },
          "execution_count": 15,
          "metadata": {},
          "output_type": "execute_result"
        },
        {
          "data": {
            "image/png": "[encoded data removed]",
            "text/plain": [
              "<matplotlib.figure.Figure at 0x219f011f7f0>"
            ]
          },
          "metadata": {},
          "output_type": "display_data"
        }
      ],
      "source": [
        "from math import log\n",
        "df[\"nlnn\"] = df[\"n\"] * df[\"n\"].apply(log) * 4.6e-8\n",
        "df.plot(x=\"n\", y=[\"time\", \"nlnn\"])"
      ]
    },
    {
      "cell_type": "markdown",
      "metadata": {},
      "source": [
        "Il faut grossier le trait."
      ]
    },
    {
      "cell_type": "code",
      "execution_count": 15,
      "metadata": {},
      "outputs": [
        {
          "data": {
            "text/plain": [
              "[148, 403, 1096, 2980, 8103, 22026, 59874, 162754, 442413]"
            ]
          },
          "execution_count": 16,
          "metadata": {},
          "output_type": "execute_result"
        }
      ],
      "source": [
        "from math import exp\n",
        "list(map(int, map(exp, range(5, 14))))"
      ]
    },
    {
      "cell_type": "code",
      "execution_count": 16,
      "metadata": {},
      "outputs": [
        {
          "data": {
            "text/plain": [
              "<matplotlib.axes._subplots.AxesSubplot at 0x219f147dfd0>"
            ]
          },
          "execution_count": 17,
          "metadata": {},
          "output_type": "execute_result"
        },
        {
          "data": {
            "image/png": "[encoded data removed]",
            "text/plain": [
              "<matplotlib.figure.Figure at 0x219f14b2ef0>"
            ]
          },
          "metadata": {},
          "output_type": "display_data"
        }
      ],
      "source": [
        "df100 = mesure(tableaux_aleatoires(map(int, map(exp, range(5, 14))), 100), sort_with_nohist)\n",
        "dfM = mesure(tableaux_aleatoires(map(int, map(exp, range(5, 14))), 1e9), sort_with_nohist)\n",
        "df = df100.copy()\n",
        "df.columns = [\"n\", \"d=100\"]\n",
        "df[\"d=1e9\"] = dfM[\"time\"]\n",
        "df.plot(x=\"n\", y=[\"d=100\", \"d=1e9\"])"
      ]
    },
    {
      "cell_type": "markdown",
      "metadata": {},
      "source": [
        "L'algorithme de tri [timsort](https://en.wikipedia.org/wiki/Timsort) est optimis\u00e9 pour le cas o\u00f9 le nombre de valeurs distinctes est faible par rapport \u00e0 la taille du tableau \u00e0 trier."
      ]
    },
    {
      "cell_type": "code",
      "execution_count": 17,
      "metadata": {
        "collapsed": true
      },
      "outputs": [],
      "source": []
    }
  ],
  "metadata": {
    "kernelspec": {
      "display_name": "Python 3",
      "language": "python",
      "name": "python3"
    },
    "language_info": {
      "codemirror_mode": {
        "name": "ipython",
        "version": 3
      },
      "file_extension": ".py",
      "mimetype": "text/x-python",
      "name": "python",
      "nbconvert_exporter": "python",
      "pygments_lexer": "ipython3",
      "version": "3.6.1"
    }
  },
  "nbformat": 4,
  "nbformat_minor": 1
}