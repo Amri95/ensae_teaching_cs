{
  "cells": [
    {
      "cell_type": "markdown",
      "metadata": {},
      "source": [
        "# Histogramme et dictionnaire\n",
        "\n",
        "Compter les occurences de nombres dans une liste est assez facile avec un dictionnaire."
      ]
    },
    {
      "cell_type": "code",
      "execution_count": null,
      "metadata": {
        "collapsed": true
      },
      "outputs": [],
      "source": [
        "import random\n",
        "num = [random.randint(0,10) for i in range(1000)]"
      ]
    },
    {
      "cell_type": "code",
      "execution_count": null,
      "metadata": {
        "collapsed": true
      },
      "outputs": [],
      "source": [
        "hist = {}\n",
        "for i in num:\n",
        "    hist[i] = hist.get(i, 0) + 1"
      ]
    },
    {
      "cell_type": "code",
      "execution_count": null,
      "metadata": {},
      "outputs": [
        {
          "data": {
            "text/plain": [
              "{0: 87,\n",
              " 1: 80,\n",
              " 2: 81,\n",
              " 3: 90,\n",
              " 4: 95,\n",
              " 5: 74,\n",
              " 6: 101,\n",
              " 7: 111,\n",
              " 8: 78,\n",
              " 9: 104,\n",
              " 10: 99}"
            ]
          },
          "execution_count": null,
          "metadata": {},
          "output_type": "execute_result"
        }
      ],
      "source": [
        "hist"
      ]
    },
    {
      "cell_type": "markdown",
      "metadata": {},
      "source": [
        "Mesurer le temps que cela prend :"
      ]
    },
    {
      "cell_type": "code",
      "execution_count": null,
      "metadata": {},
      "outputs": [
        {
          "name": "stdout",
          "output_type": "stream",
          "text": [
            "160 \u00b5s \u00b1 4.17 \u00b5s per loop (mean \u00b1 std. dev. of 7 runs, 10000 loops each)\n"
          ]
        }
      ],
      "source": [
        "def count1(num):\n",
        "    hist = {}\n",
        "    for i in num:\n",
        "        hist[i] = hist.get(i, 0) + 1\n",
        "    return hist\n",
        "\n",
        "%timeit count1(num)"
      ]
    },
    {
      "cell_type": "markdown",
      "metadata": {},
      "source": [
        "Comparons avec une autre impl\u00e9mentation :"
      ]
    },
    {
      "cell_type": "code",
      "execution_count": null,
      "metadata": {},
      "outputs": [
        {
          "name": "stdout",
          "output_type": "stream",
          "text": [
            "122 \u00b5s \u00b1 25.6 \u00b5s per loop (mean \u00b1 std. dev. of 7 runs, 10000 loops each)\n"
          ]
        }
      ],
      "source": [
        "def count2(num):\n",
        "    hist = {}\n",
        "    for i in num:\n",
        "        if i in hist:\n",
        "            hist[i] += 1\n",
        "        else:\n",
        "            hist[i] = 1\n",
        "    return hist\n",
        "\n",
        "%timeit count2(num)"
      ]
    },
    {
      "cell_type": "markdown",
      "metadata": {},
      "source": [
        "Et une derni\u00e8re version, la plus rapide :"
      ]
    },
    {
      "cell_type": "code",
      "execution_count": null,
      "metadata": {},
      "outputs": [
        {
          "name": "stdout",
          "output_type": "stream",
          "text": [
            "43 \u00b5s \u00b1 954 ns per loop (mean \u00b1 std. dev. of 7 runs, 10000 loops each)\n"
          ]
        }
      ],
      "source": [
        "from collections import Counter\n",
        "\n",
        "def count3(num):\n",
        "    return Counter(num)\n",
        "\n",
        "%timeit count3(num)"
      ]
    },
    {
      "cell_type": "code",
      "execution_count": null,
      "metadata": {
        "collapsed": true
      },
      "outputs": [],
      "source": []
    }
  ],
  "metadata": {
    "kernelspec": {
      "display_name": "Python 3",
      "language": "python",
      "name": "python3"
    },
    "language_info": {
      "codemirror_mode": {
        "name": "ipython",
        "version": 3
      },
      "file_extension": ".py",
      "mimetype": "text/x-python",
      "name": "python",
      "nbconvert_exporter": "python",
      "pygments_lexer": "ipython3",
      "version": "3.6.1"
    }
  },
  "nbformat": 4,
  "nbformat_minor": 1
}