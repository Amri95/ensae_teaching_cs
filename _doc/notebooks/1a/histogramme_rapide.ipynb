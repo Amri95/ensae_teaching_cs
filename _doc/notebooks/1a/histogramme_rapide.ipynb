{
  "cells": [
    {
      "cell_type": "markdown",
      "metadata": {},
      "source": [
        "# 1A.1 - Histogramme et dictionnaire\n",
        "\n",
        "Compter les occurences de nombres dans une liste est assez facile avec un dictionnaire et on peut l'\u00e9crire de plusieurs mani\u00e8res diff\u00e9rentes."
      ]
    },
    {
      "cell_type": "code",
      "execution_count": null,
      "metadata": {
        "collapsed": true
      },
      "outputs": [],
      "source": [
        "import random\n",
        "num = [random.randint(0,10) for i in range(1000)]"
      ]
    },
    {
      "cell_type": "code",
      "execution_count": null,
      "metadata": {
        "collapsed": true
      },
      "outputs": [],
      "source": [
        "hist = {}\n",
        "for i in num:\n",
        "    hist[i] = hist.get(i, 0) + 1"
      ]
    },
    {
      "cell_type": "code",
      "execution_count": null,
      "metadata": {},
      "outputs": [
        {
          "data": {
            "text/plain": [
              "{0: 81,\n",
              " 1: 90,\n",
              " 2: 104,\n",
              " 3: 85,\n",
              " 4: 87,\n",
              " 5: 85,\n",
              " 6: 114,\n",
              " 7: 87,\n",
              " 8: 87,\n",
              " 9: 96,\n",
              " 10: 84}"
            ]
          },
          "execution_count": null,
          "metadata": {},
          "output_type": "execute_result"
        }
      ],
      "source": [
        "hist"
      ]
    },
    {
      "cell_type": "markdown",
      "metadata": {},
      "source": [
        "Mesurer le temps que cela prend :"
      ]
    },
    {
      "cell_type": "code",
      "execution_count": null,
      "metadata": {},
      "outputs": [
        {
          "name": "stdout",
          "output_type": "stream",
          "text": [
            "195 \u00b5s \u00b1 44.9 \u00b5s per loop (mean \u00b1 std. dev. of 7 runs, 1000 loops each)\n"
          ]
        }
      ],
      "source": [
        "def count1(num):\n",
        "    hist = {}\n",
        "    for i in num:\n",
        "        hist[i] = hist.get(i, 0) + 1\n",
        "    return hist\n",
        "\n",
        "%timeit count1(num)"
      ]
    },
    {
      "cell_type": "markdown",
      "metadata": {},
      "source": [
        "Comparons avec une autre impl\u00e9mentation :"
      ]
    },
    {
      "cell_type": "code",
      "execution_count": null,
      "metadata": {},
      "outputs": [
        {
          "name": "stdout",
          "output_type": "stream",
          "text": [
            "102 \u00b5s \u00b1 6.24 \u00b5s per loop (mean \u00b1 std. dev. of 7 runs, 10000 loops each)\n"
          ]
        }
      ],
      "source": [
        "def count2(num):\n",
        "    hist = {}\n",
        "    for i in num:\n",
        "        if i in hist:\n",
        "            hist[i] += 1\n",
        "        else:\n",
        "            hist[i] = 1\n",
        "    return hist\n",
        "\n",
        "%timeit count2(num)"
      ]
    },
    {
      "cell_type": "markdown",
      "metadata": {},
      "source": [
        "Une version plus rapide :"
      ]
    },
    {
      "cell_type": "code",
      "execution_count": null,
      "metadata": {},
      "outputs": [
        {
          "name": "stdout",
          "output_type": "stream",
          "text": [
            "44.4 \u00b5s \u00b1 3.86 \u00b5s per loop (mean \u00b1 std. dev. of 7 runs, 10000 loops each)\n"
          ]
        }
      ],
      "source": [
        "from collections import Counter\n",
        "\n",
        "def count3(num):\n",
        "    return Counter(num)\n",
        "\n",
        "%timeit count3(num)"
      ]
    },
    {
      "cell_type": "markdown",
      "metadata": {
        "collapsed": true
      },
      "source": [
        "Une derni\u00e8re avec [cytoolz](https://toolz.readthedocs.io/en/latest/) :"
      ]
    },
    {
      "cell_type": "code",
      "execution_count": null,
      "metadata": {},
      "outputs": [
        {
          "name": "stdout",
          "output_type": "stream",
          "text": [
            "106 \u00b5s \u00b1 3.23 \u00b5s per loop (mean \u00b1 std. dev. of 7 runs, 10000 loops each)\n"
          ]
        }
      ],
      "source": [
        "from cytoolz import count, groupby\n",
        "import cytoolz\n",
        "\n",
        "def count4(num):\n",
        "    return list(cytoolz.map(lambda x: (x[0], count(x[1])), \n",
        "                    groupby(lambda x:x, num).items()))\n",
        "\n",
        "%timeit count4(num)"
      ]
    },
    {
      "cell_type": "code",
      "execution_count": null,
      "metadata": {
        "collapsed": true
      },
      "outputs": [],
      "source": []
    }
  ],
  "metadata": {
    "kernelspec": {
      "display_name": "Python 3",
      "language": "python",
      "name": "python3"
    },
    "language_info": {
      "codemirror_mode": {
        "name": "ipython",
        "version": 3
      },
      "file_extension": ".py",
      "mimetype": "text/x-python",
      "name": "python",
      "nbconvert_exporter": "python",
      "pygments_lexer": "ipython3",
      "version": "3.6.1"
    }
  },
  "nbformat": 4,
  "nbformat_minor": 1
}