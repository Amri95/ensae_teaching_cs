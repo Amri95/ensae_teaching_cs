{
  "cells": [
    {
      "cell_type": "markdown",
      "metadata": {},
      "source": [
        "# Heap\n",
        "\n",
        "La structure *heap* ou [tas](https://fr.wikipedia.org/wiki/Tas_(informatique)) en fran\u00e7ais est utilis\u00e9e pour trier. Elle peut \u00e9galement servir \u00e0 obtenir les *k* premiers \u00e9l\u00e9ments d'une liste."
      ]
    },
    {
      "cell_type": "code",
      "execution_count": 1,
      "metadata": {},
      "outputs": [
        {
          "data": {
            "text/html": [
              "<div id=\"my_id_menu_nb\">run previous cell, wait for 2 seconds</div>\n",
              "<script>\n",
              "function repeat_indent_string(n){\n",
              "    var a = \"\" ;\n",
              "    for ( ; n > 0 ; --n)\n",
              "        a += \"    \";\n",
              "    return a;\n",
              "}\n",
              "// look up into all sections and builds an automated menu //\n",
              "var update_menu_string = function(begin, lfirst, llast, sformat, send, keep_item, begin_format, end_format) {\n",
              "    var anchors = document.getElementsByClassName(\"section\");\n",
              "    if (anchors.length == 0) {\n",
              "        anchors = document.getElementsByClassName(\"text_cell_render rendered_html\");\n",
              "    }\n",
              "    var i,t;\n",
              "    var text_menu = begin;\n",
              "    var text_memo = \"<pre>\\nlength:\" + anchors.length + \"\\n\";\n",
              "    var ind = \"\";\n",
              "    var memo_level = 1;\n",
              "    var href;\n",
              "    var tags = [];\n",
              "    var main_item = 0;\n",
              "    var format_open = 0;\n",
              "    for (i = 0; i <= llast; i++)\n",
              "        tags.push(\"h\" + i);\n",
              "\n",
              "    for (i = 0; i < anchors.length; i++) {\n",
              "        text_memo += \"**\" + anchors[i].id + \"--\\n\";\n",
              "\n",
              "        var child = null;\n",
              "        for(t = 0; t < tags.length; t++) {\n",
              "            var r = anchors[i].getElementsByTagName(tags[t]);\n",
              "            if (r.length > 0) {\n",
              "child = r[0];\n",
              "break;\n",
              "            }\n",
              "        }\n",
              "        if (child == null) {\n",
              "            text_memo += \"null\\n\";\n",
              "            continue;\n",
              "        }\n",
              "        if (anchors[i].hasAttribute(\"id\")) {\n",
              "            // when converted in RST\n",
              "            href = anchors[i].id;\n",
              "            text_memo += \"#1-\" + href;\n",
              "            // passer \u00e0 child suivant (le chercher)\n",
              "        }\n",
              "        else if (child.hasAttribute(\"id\")) {\n",
              "            // in a notebook\n",
              "            href = child.id;\n",
              "            text_memo += \"#2-\" + href;\n",
              "        }\n",
              "        else {\n",
              "            text_memo += \"#3-\" + \"*\" + \"\\n\";\n",
              "            continue;\n",
              "        }\n",
              "        var title = child.textContent;\n",
              "        var level = parseInt(child.tagName.substring(1,2));\n",
              "\n",
              "        text_memo += \"--\" + level + \"?\" + lfirst + \"--\" + title + \"\\n\";\n",
              "\n",
              "        if ((level < lfirst) || (level > llast)) {\n",
              "            continue ;\n",
              "        }\n",
              "        if (title.endsWith('\u00b6')) {\n",
              "            title = title.substring(0,title.length-1).replace(\"<\", \"&lt;\")\n",
              "         .replace(\">\", \"&gt;\").replace(\"&\", \"&amp;\");\n",
              "        }\n",
              "        if (title.length == 0) {\n",
              "            continue;\n",
              "        }\n",
              "\n",
              "        while (level < memo_level) {\n",
              "            text_menu += end_format + \"</ul>\\n\";\n",
              "            format_open -= 1;\n",
              "            memo_level -= 1;\n",
              "        }\n",
              "        if (level == lfirst) {\n",
              "            main_item += 1;\n",
              "        }\n",
              "        if (keep_item != -1 && main_item != keep_item + 1) {\n",
              "            // alert(main_item + \" - \" + level + \" - \" + keep_item);\n",
              "            continue;\n",
              "        }\n",
              "        while (level > memo_level) {\n",
              "            text_menu += \"<ul>\\n\";\n",
              "            memo_level += 1;\n",
              "        }\n",
              "        text_menu += repeat_indent_string(level-2);\n",
              "        text_menu += begin_format + sformat.replace(\"__HREF__\", href).replace(\"__TITLE__\", title);\n",
              "        format_open += 1;\n",
              "    }\n",
              "    while (1 < memo_level) {\n",
              "        text_menu += end_format + \"</ul>\\n\";\n",
              "        memo_level -= 1;\n",
              "        format_open -= 1;\n",
              "    }\n",
              "    text_menu += send;\n",
              "    //text_menu += \"\\n\" + text_memo;\n",
              "\n",
              "    while (format_open > 0) {\n",
              "        text_menu += end_format;\n",
              "        format_open -= 1;\n",
              "    }\n",
              "    return text_menu;\n",
              "};\n",
              "var update_menu = function() {\n",
              "    var sbegin = \"\";\n",
              "    var sformat = '<a href=\"#__HREF__\">__TITLE__</a>';\n",
              "    var send = \"\";\n",
              "    var begin_format = '<li>';\n",
              "    var end_format = '</li>';\n",
              "    var keep_item = -1;\n",
              "    var text_menu = update_menu_string(sbegin, 2, 4, sformat, send, keep_item,\n",
              "       begin_format, end_format);\n",
              "    var menu = document.getElementById(\"my_id_menu_nb\");\n",
              "    menu.innerHTML=text_menu;\n",
              "};\n",
              "window.setTimeout(update_menu,2000);\n",
              "            </script>"
            ],
            "text/plain": [
              "<IPython.core.display.HTML object>"
            ]
          },
          "execution_count": 2,
          "metadata": {},
          "output_type": "execute_result"
        }
      ],
      "source": [
        "from jyquickhelper import add_notebook_menu\n",
        "add_notebook_menu()"
      ]
    },
    {
      "cell_type": "markdown",
      "metadata": {},
      "source": [
        "Un tas est peut \u00eatre consid\u00e9r\u00e9 comme un tableau $T$ qui v\u00e9rifie une condition assez simple, pour tout indice $i$, alors $T[i] \\geqslant \\max(T[2i+1], T[2i+2])$. On en d\u00e9duit n\u00e9cessairement que le premier \u00e9l\u00e9ment du tableau est le plus grand. Maintenant comment transformer un tableau en un autre qui respecte cette contrainte ?"
      ]
    },
    {
      "cell_type": "code",
      "execution_count": 2,
      "metadata": {},
      "outputs": [],
      "source": [
        "%matplotlib inline"
      ]
    },
    {
      "cell_type": "markdown",
      "metadata": {},
      "source": [
        "## Transformer en tas"
      ]
    },
    {
      "cell_type": "code",
      "execution_count": 3,
      "metadata": {},
      "outputs": [
        {
          "data": {
            "text/plain": [
              "[12, 11, 5, 10, 7, 3, 1, 6, 4, 3, 2]"
            ]
          },
          "execution_count": 4,
          "metadata": {},
          "output_type": "execute_result"
        }
      ],
      "source": [
        "def swap(tab, i, j):\n",
        "    \"Echange deux \u00e9l\u00e9ments.\"\n",
        "    tab[i], tab[j] = tab[j], tab[i]\n",
        "\n",
        "\n",
        "def entas(heap):\n",
        "    \"Organise un ensemble selon un tas.\"\n",
        "    modif = 1\n",
        "    while modif > 0:\n",
        "        modif = 0\n",
        "        i = len(heap) - 1\n",
        "        while i > 0:\n",
        "            root = (i-1) // 2\n",
        "            if heap[root] < heap[i]:\n",
        "                swap(heap, root, i)\n",
        "                modif += 1\n",
        "            i -= 1\n",
        "    return heap\n",
        "\n",
        "ens = [1,2,3,4,7,10,5,6,11,12,3]\n",
        "entas(ens)"
      ]
    },
    {
      "cell_type": "markdown",
      "metadata": {},
      "source": [
        "Comme ce n'est pas facile de v\u00e9rifer que c'est un tas, on le dessine."
      ]
    },
    {
      "cell_type": "markdown",
      "metadata": {},
      "source": [
        "## Dessiner un tas"
      ]
    },
    {
      "cell_type": "code",
      "execution_count": 4,
      "metadata": {},
      "outputs": [
        {
          "data": {
            "image/png": "[encoded data removed]",
            "text/plain": [
              "<PIL.PngImagePlugin.PngImageFile image mode=RGB size=832x520 at 0x1A099AFE9E8>"
            ]
          },
          "execution_count": 5,
          "metadata": {},
          "output_type": "execute_result"
        }
      ],
      "source": [
        "from pyensae.graphhelper import draw_diagram\n",
        "\n",
        "def dessine_tas(heap):\n",
        "    rows = [\"blockdiag {\"]\n",
        "    for i, v in enumerate(heap):\n",
        "        if i*2+1 < len(heap):\n",
        "            rows.append('\"[{}]={}\" -> \"[{}]={}\";'.format(\n",
        "                i, heap[i], i * 2 + 1, heap[i*2+1]))\n",
        "            if i*2+2 < len(heap):\n",
        "                rows.append('\"[{}]={}\" -> \"[{}]={}\";'.format(\n",
        "                    i, heap[i], i * 2 + 2, heap[i*2+2]))\n",
        "    rows.append(\"}\")\n",
        "    return draw_diagram(\"\\n\".join(rows))\n",
        "\n",
        "ens = [1,2,3,4,7,10,5,6,11,12,3]\n",
        "dessine_tas(entas(ens))"
      ]
    },
    {
      "cell_type": "markdown",
      "metadata": {},
      "source": [
        "Le nombre entre crochets est la position, l'autre nombre est la valeur \u00e0 cette position. Cette repr\u00e9sentation fait appara\u00eetre une structure d'arbre binaire."
      ]
    },
    {
      "cell_type": "markdown",
      "metadata": {},
      "source": [
        "## Premi\u00e8re version"
      ]
    },
    {
      "cell_type": "code",
      "execution_count": 5,
      "metadata": {},
      "outputs": [
        {
          "name": "stdout",
          "output_type": "stream",
          "text": [
            "1 [1]\n",
            "2 [2, 1]\n",
            "3 [3, 2, 1]\n",
            "4 [3, 3, 1, 2]\n",
            "5 [4, 3, 1, 3, 2]\n",
            "6 [5, 4, 3, 3, 2, 1]\n",
            "7 [5, 6, 3, 4, 2, 3, 1]\n",
            "8 [5, 7, 3, 6, 2, 3, 1, 4]\n",
            "9 [5, 10, 3, 7, 2, 3, 1, 6, 4]\n"
          ]
        }
      ],
      "source": [
        "def swap(tab, i, j):\n",
        "    \"Echange deux \u00e9l\u00e9ments.\"\n",
        "    tab[i], tab[j] = tab[j], tab[i]\n",
        "\n",
        "\n",
        "def _heapify_max_bottom(heap):\n",
        "    \"Organise un ensemble selon un tas.\"\n",
        "    modif = 1\n",
        "    while modif > 0:\n",
        "        modif = 0\n",
        "        i = len(heap) - 1\n",
        "        while i > 0:\n",
        "            root = (i-1) // 2\n",
        "            if heap[root] < heap[i]:\n",
        "                swap(heap, root, i)\n",
        "                modif += 1\n",
        "            i -= 1\n",
        "\n",
        "\n",
        "def _heapify_max_up(heap):\n",
        "    \"Organise un ensemble selon un tas.\"\n",
        "    i = 0\n",
        "    while True:\n",
        "        left = 2*i + 1\n",
        "        right = left+1\n",
        "        if right < len(heap):\n",
        "            if heap[left] > heap[i] >= heap[right]:\n",
        "                swap(heap, i, left)\n",
        "                i = left\n",
        "            elif heap[right] > heap[i]:\n",
        "                swap(heap, i, right)\n",
        "                i = right\n",
        "            else:\n",
        "                break\n",
        "        elif left < len(heap) and heap[left] > heap[i]:\n",
        "            swap(heap, i, left)\n",
        "            i = left\n",
        "        else:\n",
        "            break\n",
        "\n",
        "\n",
        "def topk_min(ens, k):\n",
        "    \"Retourne les k plus petits \u00e9l\u00e9ments d'un ensemble.\"\n",
        "    \n",
        "    heap = ens[:k]\n",
        "    _heapify_max_bottom(heap)\n",
        "    \n",
        "    for el in ens[k:]:\n",
        "        if el < heap[0]:\n",
        "            heap[0] = el\n",
        "            _heapify_max_up(heap)\n",
        "    return heap\n",
        "\n",
        "    \n",
        "ens = [1,2,3,4,7,10,5,6,11,12,3]\n",
        "for k in range(1, len(ens)-1):\n",
        "    print(k, topk_min(ens, k))"
      ]
    },
    {
      "cell_type": "markdown",
      "metadata": {},
      "source": [
        "## M\u00eame chose avec les indices au lieu des valeurs"
      ]
    },
    {
      "cell_type": "code",
      "execution_count": 6,
      "metadata": {},
      "outputs": [
        {
          "name": "stdout",
          "output_type": "stream",
          "text": [
            "1 [0] [1]\n",
            "2 [1, 0] [2, 1]\n",
            "3 [2, 1, 0] [3, 2, 1]\n",
            "4 [10, 2, 0, 1] [3, 3, 1, 2]\n",
            "5 [5, 10, 0, 2, 1] [4, 3, 1, 3, 2]\n",
            "6 [6, 5, 2, 10, 1, 0] [5, 4, 3, 3, 2, 1]\n",
            "7 [5, 7, 10, 6, 1, 2, 0] [4, 6, 3, 5, 2, 3, 1]\n",
            "8 [5, 3, 10, 7, 1, 2, 0, 6] [4, 7, 3, 6, 2, 3, 1, 5]\n",
            "9 [5, 4, 10, 3, 1, 2, 0, 7, 6] [4, 10, 3, 7, 2, 3, 1, 6, 5]\n"
          ]
        }
      ],
      "source": [
        "def _heapify_max_bottom_position(ens, pos):\n",
        "    \"Organise un ensemble selon un tas.\"\n",
        "    modif = 1\n",
        "    while modif > 0:\n",
        "        modif = 0\n",
        "        i = len(pos) - 1\n",
        "        while i > 0:\n",
        "            root = (i-1) // 2\n",
        "            if ens[pos[root]] < ens[pos[i]]:\n",
        "                swap(pos, root, i)\n",
        "                modif += 1\n",
        "            i -= 1\n",
        "\n",
        "\n",
        "def _heapify_max_up_position(ens, pos):\n",
        "    \"Organise un ensemble selon un tas.\"\n",
        "    i = 0\n",
        "    while True:\n",
        "        left = 2*i + 1\n",
        "        right = left+1\n",
        "        if right < len(pos):\n",
        "            if ens[pos[left]] > ens[pos[i]] >= ens[pos[right]]:\n",
        "                swap(pos, i, left)\n",
        "                i = left\n",
        "            elif ens[pos[right]] > ens[pos[i]]:\n",
        "                swap(pos, i, right)\n",
        "                i = right\n",
        "            else:\n",
        "                break\n",
        "        elif left < len(pos) and ens[pos[left]] > ens[pos[i]]:\n",
        "            swap(pos, i, left)\n",
        "            i = left\n",
        "        else:\n",
        "            break\n",
        "\n",
        "\n",
        "def topk_min_position(ens, k):\n",
        "    \"Retourne les positions des k plus petits \u00e9l\u00e9ments d'un ensemble.\"\n",
        "    \n",
        "    pos = list(range(k))\n",
        "    _heapify_max_bottom_position(ens, pos)\n",
        "    \n",
        "    for i, el in enumerate(ens[k:]):\n",
        "        if el < ens[pos[0]]:\n",
        "            pos[0] = k + i\n",
        "            _heapify_max_up_position(ens, pos)\n",
        "    return pos\n",
        "\n",
        "    \n",
        "ens = [1,2,3,7,10,4,5,6,11,12,3]\n",
        "for k in range(1, len(ens)-1):\n",
        "    pos = topk_min_position(ens, k)\n",
        "    print(k, pos, [ens[i] for i in pos])"
      ]
    },
    {
      "cell_type": "code",
      "execution_count": 7,
      "metadata": {},
      "outputs": [
        {
          "name": "stdout",
          "output_type": "stream",
          "text": [
            "5.59 ms \u00b1 728 \u00b5s per loop (mean \u00b1 std. dev. of 7 runs, 100 loops each)\n"
          ]
        }
      ],
      "source": [
        "import numpy.random as rnd\n",
        "\n",
        "X = rnd.randn(10000)\n",
        "\n",
        "%timeit topk_min(X, 20)"
      ]
    },
    {
      "cell_type": "code",
      "execution_count": 8,
      "metadata": {},
      "outputs": [
        {
          "name": "stdout",
          "output_type": "stream",
          "text": [
            "7.85 ms \u00b1 544 \u00b5s per loop (mean \u00b1 std. dev. of 7 runs, 100 loops each)\n"
          ]
        }
      ],
      "source": [
        "%timeit topk_min_position(X, 20)"
      ]
    },
    {
      "cell_type": "markdown",
      "metadata": {},
      "source": [
        "## Co\u00fbt de l'algorithme"
      ]
    },
    {
      "cell_type": "code",
      "execution_count": 9,
      "metadata": {},
      "outputs": [
        {
          "name": "stderr",
          "output_type": "stream",
          "text": [
            "100%|\u2588\u2588\u2588\u2588\u2588\u2588\u2588\u2588\u2588\u2588| 20/20 [00:23<00:00,  1.78s/it]\n"
          ]
        },
        {
          "data": {
            "text/html": [
              "<div>\n",
              "<style scoped>\n",
              "    .dataframe tbody tr th:only-of-type {\n",
              "        vertical-align: middle;\n",
              "    }\n",
              "\n",
              "    .dataframe tbody tr th {\n",
              "        vertical-align: top;\n",
              "    }\n",
              "\n",
              "    .dataframe thead th {\n",
              "        text-align: right;\n",
              "    }\n",
              "</style>\n",
              "<table border=\"1\" class=\"dataframe\">\n",
              "  <thead>\n",
              "    <tr style=\"text-align: right;\">\n",
              "      <th></th>\n",
              "      <th>average</th>\n",
              "      <th>deviation</th>\n",
              "      <th>min_exec</th>\n",
              "      <th>max_exec</th>\n",
              "      <th>repeat</th>\n",
              "      <th>number</th>\n",
              "      <th>context_size</th>\n",
              "      <th>size</th>\n",
              "    </tr>\n",
              "  </thead>\n",
              "  <tbody>\n",
              "    <tr>\n",
              "      <th>0</th>\n",
              "      <td>0.003916</td>\n",
              "      <td>0.000363</td>\n",
              "      <td>0.003336</td>\n",
              "      <td>0.004570</td>\n",
              "      <td>10</td>\n",
              "      <td>10</td>\n",
              "      <td>240</td>\n",
              "      <td>1000</td>\n",
              "    </tr>\n",
              "    <tr>\n",
              "      <th>1</th>\n",
              "      <td>0.005436</td>\n",
              "      <td>0.001039</td>\n",
              "      <td>0.004235</td>\n",
              "      <td>0.007412</td>\n",
              "      <td>10</td>\n",
              "      <td>10</td>\n",
              "      <td>240</td>\n",
              "      <td>2000</td>\n",
              "    </tr>\n",
              "    <tr>\n",
              "      <th>2</th>\n",
              "      <td>0.005306</td>\n",
              "      <td>0.001051</td>\n",
              "      <td>0.004090</td>\n",
              "      <td>0.007401</td>\n",
              "      <td>10</td>\n",
              "      <td>10</td>\n",
              "      <td>240</td>\n",
              "      <td>3000</td>\n",
              "    </tr>\n",
              "    <tr>\n",
              "      <th>3</th>\n",
              "      <td>0.005341</td>\n",
              "      <td>0.000830</td>\n",
              "      <td>0.004376</td>\n",
              "      <td>0.007003</td>\n",
              "      <td>10</td>\n",
              "      <td>10</td>\n",
              "      <td>240</td>\n",
              "      <td>4000</td>\n",
              "    </tr>\n",
              "    <tr>\n",
              "      <th>4</th>\n",
              "      <td>0.007047</td>\n",
              "      <td>0.001786</td>\n",
              "      <td>0.005223</td>\n",
              "      <td>0.012082</td>\n",
              "      <td>10</td>\n",
              "      <td>10</td>\n",
              "      <td>240</td>\n",
              "      <td>5000</td>\n",
              "    </tr>\n",
              "  </tbody>\n",
              "</table>\n",
              "</div>"
            ],
            "text/plain": [
              "    average  deviation  min_exec  max_exec  repeat  number  context_size  size\n",
              "0  0.003916   0.000363  0.003336  0.004570      10      10           240  1000\n",
              "1  0.005436   0.001039  0.004235  0.007412      10      10           240  2000\n",
              "2  0.005306   0.001051  0.004090  0.007401      10      10           240  3000\n",
              "3  0.005341   0.000830  0.004376  0.007003      10      10           240  4000\n",
              "4  0.007047   0.001786  0.005223  0.012082      10      10           240  5000"
            ]
          },
          "execution_count": 10,
          "metadata": {},
          "output_type": "execute_result"
        }
      ],
      "source": [
        "from cpyquickhelper.numbers import measure_time\n",
        "from tqdm import tqdm\n",
        "from pandas import DataFrame\n",
        "\n",
        "rows = []\n",
        "for n in tqdm(list(range(1000, 20001, 1000))):\n",
        "    X = rnd.randn(n)\n",
        "    res = measure_time('topk_min_position(X, 100)', \n",
        "                       {'X': X, 'topk_min_position': topk_min_position},\n",
        "                       div_by_number=True,\n",
        "                       number=10)\n",
        "    res[\"size\"] = n\n",
        "    rows.append(res)\n",
        "    \n",
        "df = DataFrame(rows)\n",
        "df.head()"
      ]
    },
    {
      "cell_type": "code",
      "execution_count": 10,
      "metadata": {},
      "outputs": [
        {
          "data": {
            "image/png": "[encoded data removed]",
            "text/plain": [
              "<Figure size 432x288 with 1 Axes>"
            ]
          },
          "metadata": {
            "needs_background": "light"
          },
          "output_type": "display_data"
        }
      ],
      "source": [
        "import matplotlib.pyplot as plt\n",
        "df[['size', 'average']].set_index('size').plot()\n",
        "plt.title(\"Co\u00fbt topk en fonction de la taille du tableau\");"
      ]
    },
    {
      "cell_type": "markdown",
      "metadata": {},
      "source": [
        "A peu pr\u00e8s lin\u00e9aire comme attendu."
      ]
    },
    {
      "cell_type": "code",
      "execution_count": 11,
      "metadata": {},
      "outputs": [
        {
          "name": "stderr",
          "output_type": "stream",
          "text": [
            "\n",
            "  0%|          | 0/11 [00:00<?, ?it/s]\n",
            "  9%|\u2589         | 1/11 [00:00<00:09,  1.11it/s]\n",
            " 18%|\u2588\u258a        | 2/11 [00:02<00:09,  1.05s/it]\n",
            " 27%|\u2588\u2588\u258b       | 3/11 [00:03<00:09,  1.20s/it]\n",
            " 36%|\u2588\u2588\u2588\u258b      | 4/11 [00:05<00:09,  1.34s/it]\n",
            " 45%|\u2588\u2588\u2588\u2588\u258c     | 5/11 [00:07<00:08,  1.44s/it]\n",
            " 55%|\u2588\u2588\u2588\u2588\u2588\u258d    | 6/11 [00:08<00:07,  1.54s/it]\n",
            " 64%|\u2588\u2588\u2588\u2588\u2588\u2588\u258e   | 7/11 [00:10<00:06,  1.64s/it]\n",
            " 73%|\u2588\u2588\u2588\u2588\u2588\u2588\u2588\u258e  | 8/11 [00:13<00:05,  1.86s/it]\n",
            " 82%|\u2588\u2588\u2588\u2588\u2588\u2588\u2588\u2588\u258f | 9/11 [00:15<00:03,  1.93s/it]\n",
            " 91%|\u2588\u2588\u2588\u2588\u2588\u2588\u2588\u2588\u2588 | 10/11 [00:17<00:01,  1.98s/it]\n",
            "100%|\u2588\u2588\u2588\u2588\u2588\u2588\u2588\u2588\u2588\u2588| 11/11 [00:19<00:00,  2.16s/it]"
          ]
        },
        {
          "data": {
            "text/html": [
              "<div>\n",
              "<style scoped>\n",
              "    .dataframe tbody tr th:only-of-type {\n",
              "        vertical-align: middle;\n",
              "    }\n",
              "\n",
              "    .dataframe tbody tr th {\n",
              "        vertical-align: top;\n",
              "    }\n",
              "\n",
              "    .dataframe thead th {\n",
              "        text-align: right;\n",
              "    }\n",
              "</style>\n",
              "<table border=\"1\" class=\"dataframe\">\n",
              "  <thead>\n",
              "    <tr style=\"text-align: right;\">\n",
              "      <th></th>\n",
              "      <th>average</th>\n",
              "      <th>deviation</th>\n",
              "      <th>min_exec</th>\n",
              "      <th>max_exec</th>\n",
              "      <th>repeat</th>\n",
              "      <th>number</th>\n",
              "      <th>context_size</th>\n",
              "      <th>k</th>\n",
              "    </tr>\n",
              "  </thead>\n",
              "  <tbody>\n",
              "    <tr>\n",
              "      <th>0</th>\n",
              "      <td>0.018026</td>\n",
              "      <td>0.002823</td>\n",
              "      <td>0.015226</td>\n",
              "      <td>0.025344</td>\n",
              "      <td>10</td>\n",
              "      <td>5</td>\n",
              "      <td>240</td>\n",
              "      <td>500</td>\n",
              "    </tr>\n",
              "    <tr>\n",
              "      <th>1</th>\n",
              "      <td>0.027577</td>\n",
              "      <td>0.008949</td>\n",
              "      <td>0.018939</td>\n",
              "      <td>0.043367</td>\n",
              "      <td>10</td>\n",
              "      <td>5</td>\n",
              "      <td>240</td>\n",
              "      <td>650</td>\n",
              "    </tr>\n",
              "    <tr>\n",
              "      <th>2</th>\n",
              "      <td>0.031409</td>\n",
              "      <td>0.011282</td>\n",
              "      <td>0.020159</td>\n",
              "      <td>0.056507</td>\n",
              "      <td>10</td>\n",
              "      <td>5</td>\n",
              "      <td>240</td>\n",
              "      <td>800</td>\n",
              "    </tr>\n",
              "    <tr>\n",
              "      <th>3</th>\n",
              "      <td>0.032973</td>\n",
              "      <td>0.007518</td>\n",
              "      <td>0.025192</td>\n",
              "      <td>0.047946</td>\n",
              "      <td>10</td>\n",
              "      <td>5</td>\n",
              "      <td>240</td>\n",
              "      <td>950</td>\n",
              "    </tr>\n",
              "    <tr>\n",
              "      <th>4</th>\n",
              "      <td>0.033467</td>\n",
              "      <td>0.007725</td>\n",
              "      <td>0.025187</td>\n",
              "      <td>0.051844</td>\n",
              "      <td>10</td>\n",
              "      <td>5</td>\n",
              "      <td>240</td>\n",
              "      <td>1100</td>\n",
              "    </tr>\n",
              "  </tbody>\n",
              "</table>\n",
              "</div>"
            ],
            "text/plain": [
              "    average  deviation  min_exec  max_exec  repeat  number  context_size     k\n",
              "0  0.018026   0.002823  0.015226  0.025344      10       5           240   500\n",
              "1  0.027577   0.008949  0.018939  0.043367      10       5           240   650\n",
              "2  0.031409   0.011282  0.020159  0.056507      10       5           240   800\n",
              "3  0.032973   0.007518  0.025192  0.047946      10       5           240   950\n",
              "4  0.033467   0.007725  0.025187  0.051844      10       5           240  1100"
            ]
          },
          "execution_count": 12,
          "metadata": {},
          "output_type": "execute_result"
        }
      ],
      "source": [
        "rows = []\n",
        "X = rnd.randn(10000)\n",
        "for k in tqdm(list(range(500, 2001, 150))):\n",
        "    res = measure_time('topk_min_position(X, k)', \n",
        "                       {'X': X, 'topk_min_position': topk_min_position, 'k': k},\n",
        "                       div_by_number=True,\n",
        "                       number=5)\n",
        "    res[\"k\"] = k\n",
        "    rows.append(res)\n",
        "    \n",
        "df = DataFrame(rows)\n",
        "df.head()"
      ]
    },
    {
      "cell_type": "code",
      "execution_count": 12,
      "metadata": {},
      "outputs": [
        {
          "data": {
            "image/png": "[encoded data removed]",
            "text/plain": [
              "<Figure size 432x288 with 1 Axes>"
            ]
          },
          "metadata": {
            "needs_background": "light"
          },
          "output_type": "display_data"
        }
      ],
      "source": [
        "df[['k', 'average']].set_index('k').plot()\n",
        "plt.title(\"Co\u00fbt topk en fonction de k\");"
      ]
    },
    {
      "cell_type": "markdown",
      "metadata": {},
      "source": [
        "Pas \u00e9vident, au pire en $O(n\\ln n)$, au mieux en $O(n)$."
      ]
    },
    {
      "cell_type": "markdown",
      "metadata": {},
      "source": [
        "## Version simplifi\u00e9e\n",
        "\n",
        "A-t-on vraiment besoin de `_heapify_max_bottom_position` ?"
      ]
    },
    {
      "cell_type": "code",
      "execution_count": 13,
      "metadata": {},
      "outputs": [
        {
          "name": "stdout",
          "output_type": "stream",
          "text": [
            "1 [0] [1]\n",
            "2 [1, 0] [2, 1]\n",
            "3 [2, 1, 0] [3, 2, 1]\n",
            "4 [10, 2, 1, 0] [3, 3, 2, 1]\n",
            "5 [5, 10, 2, 1, 0] [4, 3, 3, 2, 1]\n",
            "6 [5, 6, 10, 2, 1, 0] [4, 5, 3, 3, 2, 1]\n",
            "7 [6, 7, 10, 5, 2, 1, 0] [5, 6, 3, 4, 3, 2, 1]\n",
            "8 [5, 4, 10, 7, 6, 2, 1, 0] [4, 10, 3, 6, 5, 3, 2, 1]\n",
            "9 [3, 4, 6, 5, 7, 10, 2, 1, 0] [7, 10, 5, 4, 6, 3, 3, 2, 1]\n"
          ]
        }
      ],
      "source": [
        "def _heapify_max_up_position_simple(ens, pos, first):\n",
        "    \"Organise un ensemble selon un tas.\"\n",
        "    i = first\n",
        "    while True:\n",
        "        left = 2*i + 1\n",
        "        right = left+1\n",
        "        if right < len(pos):\n",
        "            if ens[pos[left]] > ens[pos[i]] >= ens[pos[right]]:\n",
        "                swap(pos, i, left)\n",
        "                i = left\n",
        "            elif ens[pos[right]] > ens[pos[i]]:\n",
        "                swap(pos, i, right)\n",
        "                i = right\n",
        "            else:\n",
        "                break\n",
        "        elif left < len(pos) and ens[pos[left]] > ens[pos[i]]:\n",
        "            swap(pos, i, left)\n",
        "            i = left\n",
        "        else:\n",
        "            break\n",
        "\n",
        "\n",
        "def topk_min_position_simple(ens, k):\n",
        "    \"Retourne les positions des k plus petits \u00e9l\u00e9ments d'un ensemble.\"\n",
        "    \n",
        "    pos = list(range(k))\n",
        "    pos[k-1] = 0\n",
        "    \n",
        "    for i in range(1, k):\n",
        "        pos[k-i-1] = i\n",
        "        _heapify_max_up_position_simple(ens, pos, k-i-1)\n",
        "        \n",
        "    for i, el in enumerate(ens[k:]):\n",
        "        if el < ens[pos[0]]:\n",
        "            pos[0] = k + i\n",
        "            _heapify_max_up_position_simple(ens, pos, 0)\n",
        "    return pos\n",
        "\n",
        "    \n",
        "ens = [1,2,3,7,10,4,5,6,11,12,3]\n",
        "for k in range(1, len(ens)-1):\n",
        "    pos = topk_min_position_simple(ens, k)\n",
        "    print(k, pos, [ens[i] for i in pos])"
      ]
    },
    {
      "cell_type": "code",
      "execution_count": 14,
      "metadata": {},
      "outputs": [
        {
          "name": "stdout",
          "output_type": "stream",
          "text": [
            "7.5 ms \u00b1 810 \u00b5s per loop (mean \u00b1 std. dev. of 7 runs, 100 loops each)\n"
          ]
        }
      ],
      "source": [
        "X = rnd.randn(10000)\n",
        "\n",
        "%timeit topk_min_position_simple(X, 20)"
      ]
    },
    {
      "cell_type": "code",
      "execution_count": 15,
      "metadata": {},
      "outputs": [],
      "source": []
    }
  ],
  "metadata": {
    "kernelspec": {
      "display_name": "Python 3",
      "language": "python",
      "name": "python3"
    }
  },
  "nbformat": 4,
  "nbformat_minor": 2
}