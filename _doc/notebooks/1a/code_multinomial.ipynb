{
  "cells": [
    {
      "cell_type": "markdown",
      "metadata": {},
      "source": [
        "# 1A.1 - Simuler une loi multinomiale\n",
        "\n",
        "On part d'une loi uniforme et on simule une loi multinomiale."
      ]
    },
    {
      "cell_type": "code",
      "execution_count": 1,
      "metadata": {},
      "outputs": [
        {
          "name": "stdout",
          "output_type": "stream",
          "text": [
            "Populating the interactive namespace from numpy and matplotlib\n"
          ]
        }
      ],
      "source": [
        "%matplotlib inline"
      ]
    },
    {
      "cell_type": "code",
      "execution_count": 2,
      "metadata": {},
      "outputs": [
        {
          "data": {
            "text/html": [
              "<b>Plan</b>\n",
              "<div id=\"my_menu_id\">run previous cell, wait for 2 seconds</div>\n",
              "<script>\n",
              "function repeat_indent_string(n){\n",
              "    var a = \"\" ;\n",
              "    for ( ; n > 0 ; --n) {\n",
              "        a += \"    \";\n",
              "    }\n",
              "    return a;\n",
              "}\n",
              "var update_menu_string = function(begin, lfirst, llast, sformat, send) {\n",
              "    var anchors = document.getElementsByClassName(\"section\");\n",
              "    if (anchors.length == 0) {\n",
              "        anchors = document.getElementsByClassName(\"text_cell_render rendered_html\");\n",
              "    }\n",
              "    var i,t;\n",
              "    var text_menu = begin;\n",
              "    var text_memo = \"<pre>\\nlength:\" + anchors.length + \"\\n\";\n",
              "    var ind = \"\";\n",
              "    var memo_level = 1;\n",
              "    var href;\n",
              "    var tags = [];\n",
              "    for (i = 0; i <= llast; i++) {\n",
              "        tags.push(\"h\" + i);\n",
              "    }\n",
              "\n",
              "    for (i = 0; i < anchors.length; i++) {\n",
              "        text_memo += \"**\" + anchors[i].id + \"--\\n\";\n",
              "\n",
              "        var child = null;\n",
              "        for(t = 0; t < tags.length; t++) {\n",
              "            var r = anchors[i].getElementsByTagName(tags[t]);\n",
              "            if (r.length > 0) {\n",
              "child = r[0];\n",
              "break;\n",
              "            }\n",
              "        }\n",
              "        if (child == null){\n",
              "            text_memo += \"null\\n\";\n",
              "            continue;\n",
              "        }\n",
              "\n",
              "        if (anchors[i].hasAttribute(\"id\")) {\n",
              "            // when converted in RST\n",
              "            href = anchors[i].id;\n",
              "            text_memo += \"#1-\" + href;\n",
              "            // passer \u00e0 child suivant (le chercher)\n",
              "        }\n",
              "        else if (child.hasAttribute(\"id\")) {\n",
              "            // in a notebook\n",
              "            href = child.id;\n",
              "            text_memo += \"#2-\" + href;\n",
              "        }\n",
              "        else {\n",
              "            text_memo += \"#3-\" + \"*\" + \"\\n\";\n",
              "            continue;\n",
              "        }\n",
              "        var title = child.textContent;\n",
              "        var level = parseInt(child.tagName.substring(1,2));\n",
              "\n",
              "        text_memo += \"--\" + level + \"?\" + lfirst + \"--\" + title + \"\\n\";\n",
              "\n",
              "        if ((level < lfirst) || (level > llast)) {\n",
              "            continue ;\n",
              "        }\n",
              "        if (title.endsWith('\u00b6')) {\n",
              "            title = title.substring(0,title.length-1).replace(\"<\", \"&lt;\").replace(\">\", \"&gt;\").replace(\"&\", \"&amp;\")\n",
              "        }\n",
              "\n",
              "        if (title.length == 0) {\n",
              "            continue;\n",
              "        }\n",
              "        while (level > memo_level) {\n",
              "            text_menu += \"<ul>\\n\";\n",
              "            memo_level += 1;\n",
              "        }\n",
              "        while (level < memo_level) {\n",
              "            text_menu += \"</ul>\\n\";\n",
              "            memo_level -= 1;\n",
              "        }\n",
              "        text_menu += repeat_indent_string(level-2) + sformat.replace(\"__HREF__\", href).replace(\"__TITLE__\", title);\n",
              "    }\n",
              "    while (1 < memo_level) {\n",
              "        text_menu += \"</ul>\\n\";\n",
              "        memo_level -= 1;\n",
              "    }\n",
              "    text_menu += send;\n",
              "    //text_menu += \"\\n\" + text_memo;\n",
              "    return text_menu;\n",
              "};\n",
              "var update_menu = function() {\n",
              "    var sbegin = \"\";\n",
              "    var sformat = '<li><a href=\"#__HREF__\">__TITLE__</a></li>';\n",
              "    var send = \"\";\n",
              "    var text_menu = update_menu_string(sbegin, 2, 4, sformat, send);\n",
              "    var menu = document.getElementById(\"my_menu_id\");\n",
              "    menu.innerHTML=text_menu;\n",
              "};\n",
              "window.setTimeout(update_menu,2000);\n",
              "            </script>"
            ],
            "text/plain": [
              "<IPython.core.display.HTML object>"
            ]
          },
          "execution_count": 3,
          "metadata": {},
          "output_type": "execute_result"
        }
      ],
      "source": [
        "from jyquickhelper import add_notebook_menu\n",
        "add_notebook_menu()"
      ]
    },
    {
      "cell_type": "markdown",
      "metadata": {},
      "source": [
        "Une variable qui suit une [loi multinomiale](http://fr.wikipedia.org/wiki/Loi_multinomiale) est une variable \u00e0 valeurs enti\u00e8res qui prend ses valeurs dans un ensemble fini, et chacune de ces valeurs a une probabilit\u00e9 diff\u00e9rente."
      ]
    },
    {
      "cell_type": "code",
      "execution_count": 3,
      "metadata": {},
      "outputs": [
        {
          "data": {
            "text/plain": [
              "<Container object of 5 artists>"
            ]
          },
          "execution_count": 4,
          "metadata": {},
          "output_type": "execute_result"
        },
        {
          "data": {
            "image/png": "[encoded data removed]",
            "text/plain": [
              "<matplotlib.figure.Figure at 0x6be47b0>"
            ]
          },
          "metadata": {},
          "output_type": "display_data"
        }
      ],
      "source": [
        "import matplotlib.pyplot as plt\n",
        "poids = [ 0.2, 0.15, 0.15, 0.1, 0.4 ]\n",
        "valeur = [ 0,1,2,3,4 ]\n",
        "plt.figure(figsize=(8,4))\n",
        "plt.bar(valeur,poids)"
      ]
    },
    {
      "cell_type": "markdown",
      "metadata": {},
      "source": [
        "Lorsqu'on simule une telle loi, chaque valeur a une probabilit\u00e9 de sortir proportionnelle \u00e0 chaque poids. La fonction [numpy.random.multinomial](http://docs.scipy.org/doc/numpy/reference/generated/numpy.random.multinomial.html#numpy.random.multinomial) permet de calculer cela."
      ]
    },
    {
      "cell_type": "code",
      "execution_count": 4,
      "metadata": {},
      "outputs": [
        {
          "data": {
            "text/plain": [
              "array([ 0.211,  0.148,  0.15 ,  0.089,  0.402])"
            ]
          },
          "execution_count": 5,
          "metadata": {},
          "output_type": "execute_result"
        }
      ],
      "source": [
        "import numpy.random as rnd\n",
        "draw = rnd.multinomial(1000, poids)\n",
        "draw / sum(draw)"
      ]
    },
    {
      "cell_type": "markdown",
      "metadata": {},
      "source": [
        "Pour avoir 1000 tirages plut\u00f4t que l'aggr\u00e9gation des 1000 tirages :"
      ]
    },
    {
      "cell_type": "code",
      "execution_count": 5,
      "metadata": {},
      "outputs": [
        {
          "data": {
            "text/plain": [
              "array([[0, 0, 0, 1, 0],\n",
              "       [0, 0, 1, 0, 0],\n",
              "       [0, 1, 0, 0, 0],\n",
              "       ..., \n",
              "       [0, 0, 0, 0, 1],\n",
              "       [0, 0, 1, 0, 0],\n",
              "       [0, 1, 0, 0, 0]])"
            ]
          },
          "execution_count": 6,
          "metadata": {},
          "output_type": "execute_result"
        }
      ],
      "source": [
        "draw = rnd.multinomial(1, poids, 1000)\n",
        "draw"
      ]
    },
    {
      "cell_type": "markdown",
      "metadata": {},
      "source": [
        "### Algorithme de simulation\n",
        "\n",
        "Tout d'abord, on calcule la distribution cumul\u00e9e (ou [fonction de r\u00e9partition](http://fr.wikipedia.org/wiki/Fonction_de_r%C3%A9partition)). Le calcule propos\u00e9 utilise la fonction [numpy.cumsum](http://docs.scipy.org/doc/numpy/reference/generated/numpy.cumsum.html)."
      ]
    },
    {
      "cell_type": "code",
      "execution_count": 6,
      "metadata": {},
      "outputs": [
        {
          "name": "stdout",
          "output_type": "stream",
          "text": [
            "[ 0.2   0.35  0.5   0.6   1.  ]\n"
          ]
        },
        {
          "data": {
            "text/plain": [
              "<Container object of 5 artists>"
            ]
          },
          "execution_count": 7,
          "metadata": {},
          "output_type": "execute_result"
        },
        {
          "data": {
            "image/png": "[encoded data removed]",
            "text/plain": [
              "<matplotlib.figure.Figure at 0x6d03c90>"
            ]
          },
          "metadata": {},
          "output_type": "display_data"
        }
      ],
      "source": [
        "import numpy\n",
        "cum = numpy.cumsum( poids )   # voir http://docs.scipy.org/doc/numpy/reference/generated/numpy.cumsum.html\n",
        "print(cum)\n",
        "plt.bar( valeur, cum)"
      ]
    },
    {
      "cell_type": "markdown",
      "metadata": {},
      "source": [
        "Cette fonction de r\u00e9partition $(x,F(x))$ est croissante. On d\u00e9finit les cinq intervalles : $A_i=]F(i),F(i+1)]$. Pour simuler une loi multinomiale, il suffit de tirer un nombre al\u00e9atoire dans $[0,1]$ puis de trouver l'intervalle $A_i$ auquel il appartient. $i$ est le r\u00e9sultat cherch\u00e9. Le calcul de la distribution cumul\u00e9e utilise une autre alternative : [functools.reduce](https://docs.python.org/3.4/library/functools.html#functools.reduce)."
      ]
    },
    {
      "cell_type": "code",
      "execution_count": 7,
      "metadata": {},
      "outputs": [
        {
          "data": {
            "text/plain": [
              "[0, 4, 2, 4, 2, 3, 4, 4, 4, 4]"
            ]
          },
          "execution_count": 8,
          "metadata": {},
          "output_type": "execute_result"
        }
      ],
      "source": [
        "import functools, random\n",
        "def simulation_multinomiale(poids):\n",
        "    # calcule la fonction de r\u00e9partition\n",
        "    # voir https://docs.python.org/3.4/library/functools.html#functools.reduce\n",
        "    def agg(x,y): \n",
        "        x.append(y)\n",
        "        return x\n",
        "    cum = functools.reduce(agg, poids, []) \n",
        "    \n",
        "    x = random.random()\n",
        "    s = 0\n",
        "    i = 0\n",
        "    while s <= x and i < len(cum):\n",
        "        s += cum[i]\n",
        "        i += 1\n",
        "    return i-1\n",
        "\n",
        "alea = [ simulation_multinomiale(poids) for i in range(0,1000) ]\n",
        "alea[:10]"
      ]
    },
    {
      "cell_type": "markdown",
      "metadata": {},
      "source": [
        "On v\u00e9rifie que les probabilit\u00e9s d'apparition de chaque nombre sont celles attendues."
      ]
    },
    {
      "cell_type": "code",
      "execution_count": 8,
      "metadata": {},
      "outputs": [
        {
          "data": {
            "text/plain": [
              "Counter({4: 405, 0: 185, 2: 153, 1: 150, 3: 107})"
            ]
          },
          "execution_count": 9,
          "metadata": {},
          "output_type": "execute_result"
        }
      ],
      "source": [
        "import collections\n",
        "c = collections.Counter(alea)\n",
        "c"
      ]
    },
    {
      "cell_type": "markdown",
      "metadata": {},
      "source": [
        "### Une premi\u00e8re optimisation : tri des poids\n",
        "\n",
        "L'algorithme fait intervenir le calcul de la distribution cumul\u00e9e. Lorsqu'on tire un grand nombre de variable al\u00e9atoire, il est int\u00e9ressant de ne faire ce calcul qu'une seule fois puisqu'il ne change jamais. De m\u00eame, il est plus int\u00e9ressant de mettre les valeurs de plus grand poids en premier. La boucle de la fonction ``simulation_multinomiale`` s'arr\u00eatera plus t\u00f4t."
      ]
    },
    {
      "cell_type": "code",
      "execution_count": 9,
      "metadata": {},
      "outputs": [
        {
          "name": "stdout",
          "output_type": "stream",
          "text": [
            "[0.2, 0.15, 0.15, 0.1, 0.4] [0.4, 0.2, 0.15, 0.15, 0.1]\n",
            "passage 0\n",
            "  non tri\u00e9 0.052738262983552886\n",
            "  tri\u00e9 0.026375759856477998\n",
            "passage 1\n",
            "  non tri\u00e9 0.04119122404517839\n",
            "  tri\u00e9 0.01982565262665048\n",
            "passage 2\n",
            "  non tri\u00e9 0.025675719017215215\n",
            "  tri\u00e9 0.020590266567126037\n"
          ]
        }
      ],
      "source": [
        "def simulation_multinomiale(pc):\n",
        "    x = random.random()\n",
        "    s = 0\n",
        "    i = 0\n",
        "    while s <= x and i < len(pc):\n",
        "        s += pc[i]\n",
        "        i += 1\n",
        "    return i-1\n",
        "\n",
        "def agg(x,y): \n",
        "    x.append(y)\n",
        "    return x\n",
        "poids_cumule = functools.reduce(agg, poids, []) \n",
        "poids_cumule_trie = functools.reduce(agg, sorted(poids, reverse=True), []) \n",
        "print(poids_cumule, poids_cumule_trie)\n",
        "\n",
        "import time\n",
        "for p in range(0,3):\n",
        "    print(\"passage\",p)\n",
        "    a = time.perf_counter()\n",
        "    alea = [ simulation_multinomiale(poids_cumule) for i in range(0,10000) ]\n",
        "    b = time.perf_counter()\n",
        "    print(\"  non tri\u00e9\", b-a)\n",
        "    a = time.perf_counter()\n",
        "    alea = [ simulation_multinomiale(poids_cumule_trie) for i in range(0,10000) ]\n",
        "    b = time.perf_counter()\n",
        "    print(\"  tri\u00e9\", b-a)"
      ]
    },
    {
      "cell_type": "markdown",
      "metadata": {},
      "source": [
        "La seconde version est plus rapide.Son int\u00e9r\u00eat d\u00e9pend du nombre d'observations al\u00e9atoire \u00e0 tirer. En effet, si $K$ est le nombre de valeurs distinctes, les co\u00fbts fixes des deux m\u00e9thodes sont les suivants :\n",
        "\n",
        "- non tri\u00e9 : $O(K)$ (distribution cumulative)\n",
        "- tri\u00e9 : $O(K + K\\ln K)$ ((distribution cumulative + tri)\n",
        "\n",
        "Qu'en est-il pour la fonction [numpy.random.multinomial](http://docs.scipy.org/doc/numpy/reference/generated/numpy.random.multinomial.html#numpy.random.multinomial) ?"
      ]
    },
    {
      "cell_type": "code",
      "execution_count": 10,
      "metadata": {},
      "outputs": [
        {
          "name": "stdout",
          "output_type": "stream",
          "text": [
            "passage 0\n",
            "  non tri\u00e9 0.00011246838175793528\n",
            "  tri\u00e9 5.6020372539933305e-05\n",
            "passage 1\n",
            "  non tri\u00e9 4.96058262342558e-05\n",
            "  tri\u00e9 4.704000753008586e-05\n",
            "passage 2\n",
            "  non tri\u00e9 7.483637568839185e-05\n",
            "  tri\u00e9 4.8750553105492145e-05\n"
          ]
        }
      ],
      "source": [
        "poids_trie = list(sorted(poids, reverse=True))\n",
        "\n",
        "for p in range(0,3):\n",
        "    print(\"passage\",p)\n",
        "    a = time.perf_counter()\n",
        "    rnd.multinomial(10000, poids)\n",
        "    b = time.perf_counter()\n",
        "    print(\"  non tri\u00e9\", b-a)\n",
        "    a = time.perf_counter()\n",
        "    rnd.multinomial(10000, poids_trie)\n",
        "    b = time.perf_counter()\n",
        "    print(\"  tri\u00e9\", b-a)"
      ]
    },
    {
      "cell_type": "markdown",
      "metadata": {},
      "source": [
        "C'est plus rapide aussi. On voit aussi que cette fa\u00e7on de faire est beaucoup plus rapide que la version impl\u00e9ment\u00e9e en Python pur. Cela vient du faire que le module [numpy](http://www.numpy.org/) est optimis\u00e9 pour le calcul num\u00e9rique et surtout impl\u00e9ment\u00e9 en langages [C++](http://fr.wikipedia.org/wiki/C%2B%2B) et [Fortran](http://fr.wikipedia.org/wiki/Fortran)."
      ]
    },
    {
      "cell_type": "markdown",
      "metadata": {},
      "source": [
        "### Optimisation bootstrap\n",
        "\n",
        "C'est une technique inspir\u00e9 du [bootstrap](http://fr.wikipedia.org/wiki/Bootstrap_%28statistiques%29) qui est un peu moins pr\u00e9cise que la version pr\u00e9c\u00e9dente mais qui peut suffire dans bien des cas. Elle est int\u00e9ressante si on tire un grand nomrbre d'observations al\u00e9atoire de la m\u00eame loi et si $K$ est grand ($K$ = nombre de valeurs distinctes). L'id\u00e9e consiste \u00e0 g\u00e9n\u00e9rer un premier grand vecteur de nombres al\u00e9atoires puis \u00e0 tirer des nombres al\u00e9atoire dans ce vecteur."
      ]
    },
    {
      "cell_type": "code",
      "execution_count": 11,
      "metadata": {},
      "outputs": [
        {
          "name": "stdout",
          "output_type": "stream",
          "text": [
            "passage 0\n",
            "  simulation_multinomiale 0.20075264012029947\n",
            "  bootstrap 0.03310761256989281\n",
            "passage 1\n",
            "  simulation_multinomiale 0.20289253282658137\n",
            "  bootstrap 0.033825186502781435\n",
            "passage 2\n",
            "  simulation_multinomiale 0.22474218868592288\n",
            "  bootstrap 0.04704770498210564\n"
          ]
        }
      ],
      "source": [
        "K = 100\n",
        "poids = [ 1/K for i in range(0,K) ]\n",
        "poids_cumule = functools.reduce(agg, poids, []) \n",
        "vecteur = [ simulation_multinomiale(poids_cumule) for i in range(0,100000) ]\n",
        "N = len(vecteur)-1\n",
        "\n",
        "for p in range(0,3):\n",
        "    print(\"passage\",p)\n",
        "    a = time.perf_counter()\n",
        "    alea = [ simulation_multinomiale(poids_cumule) for i in range(0,10000) ]\n",
        "    b = time.perf_counter()\n",
        "    print(\"  simulation_multinomiale\", b-a)\n",
        "    a = time.perf_counter()\n",
        "    alea = [ vecteur [ random.randint(0,N) ]  for i in range(0,10000) ]\n",
        "    b = time.perf_counter()\n",
        "    print(\"  bootstrap\", b-a)"
      ]
    },
    {
      "cell_type": "markdown",
      "metadata": {},
      "source": [
        "Cette fa\u00e7on de faire implique le stockage d'un grand nombre de variables al\u00e9atoires dans ``vecteur``. Ce proc\u00e9d\u00e9 est plus rapide car tirer un nombre al\u00e9atoire entier est plus rapide que de simuler une variable de loi multinomial."
      ]
    },
    {
      "cell_type": "code",
      "execution_count": 12,
      "metadata": {
        "collapsed": true
      },
      "outputs": [],
      "source": []
    }
  ],
  "metadata": {
    "kernelspec": {
      "display_name": "Python 3",
      "language": "python",
      "name": "python3"
    },
    "language_info": {
      "codemirror_mode": {
        "name": "ipython",
        "version": 3
      },
      "file_extension": ".py",
      "mimetype": "text/x-python",
      "name": "python",
      "nbconvert_exporter": "python",
      "pygments_lexer": "ipython3",
      "version": "3.6.1"
    }
  },
  "nbformat": 4,
  "nbformat_minor": 1
}