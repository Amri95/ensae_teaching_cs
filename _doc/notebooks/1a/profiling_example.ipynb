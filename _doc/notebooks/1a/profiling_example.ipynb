{
  "cells": [
    {
      "cell_type": "markdown",
      "metadata": {},
      "source": [
        "# 1A.soft : Exemple de profiling\n",
        "\n",
        "Profiling et fonction *pdf*. Le profiling est utilis\u00e9 pour mesurer le temps que passe un programme dans chaque fonction."
      ]
    },
    {
      "cell_type": "markdown",
      "metadata": {},
      "source": [
        "## Bizarrerie"
      ]
    },
    {
      "cell_type": "markdown",
      "metadata": {},
      "source": [
        "C'est un exemple qui m'a \u00e9t\u00e9 envoy\u00e9 par un \u00e9tudiant pendant l'\u00e9t\u00e9 pour montrer que la fonction [pdf](http://docs.scipy.org/doc/scipy-0.16.0/reference/generated/scipy.stats.norm.html) est plus lente qu'une r\u00e9impl\u00e9mentation simple qui fait \u00e0 la m\u00eame chose."
      ]
    },
    {
      "cell_type": "code",
      "execution_count": null,
      "metadata": {
        "collapsed": true
      },
      "outputs": [],
      "source": [
        "import time\n",
        "from scipy.stats import norm\n",
        "import numpy as np"
      ]
    },
    {
      "cell_type": "code",
      "execution_count": null,
      "metadata": {},
      "outputs": [
        {
          "data": {
            "text/plain": [
              "1.5188484191894531"
            ]
          },
          "execution_count": null,
          "metadata": {},
          "output_type": "execute_result"
        }
      ],
      "source": [
        "debut=time.time()\n",
        "for i in range(10**3):\n",
        "    norm(2,3).pdf(4)\n",
        "fin=time.time()\n",
        "fin-debut"
      ]
    },
    {
      "cell_type": "code",
      "execution_count": null,
      "metadata": {},
      "outputs": [
        {
          "data": {
            "text/plain": [
              "0.008997917175292969"
            ]
          },
          "execution_count": null,
          "metadata": {},
          "output_type": "execute_result"
        }
      ],
      "source": [
        "def density(x,mean,sigma2):\n",
        "    return np.exp(-(x-mean)**2/(2*sigma2))/(2*np.pi*sigma2)**0.5\n",
        "\n",
        "debut=time.time()\n",
        "for i in range(10**3):\n",
        "    density(4,2,3)\n",
        "fin=time.time()\n",
        "fin-debut"
      ]
    },
    {
      "cell_type": "markdown",
      "metadata": {},
      "source": [
        "**Que se passe-t-il ?**\n",
        "\n",
        "Tout d'abord la fonction [pdf](http://docs.scipy.org/doc/scipy-0.16.0/reference/generated/scipy.stats.norm.html) comme toute les fonctions des librairies num\u00e9riques sont optimis\u00e9es pour le calcul sur des matrices ou des vecteurs et non sur des nombres. Pour la suite, on utilise un profileur."
      ]
    },
    {
      "cell_type": "markdown",
      "metadata": {},
      "source": [
        "## Profiler"
      ]
    },
    {
      "cell_type": "code",
      "execution_count": null,
      "metadata": {
        "collapsed": true
      },
      "outputs": [],
      "source": [
        "import cProfile, io, pstats, os, sys\n",
        "def doprofile(func, filename, *l):\n",
        "    pr = cProfile.Profile()\n",
        "    pr.enable()  # d\u00e9but du profiling\n",
        "    func(*l)     # appel de la fonction                \n",
        "    pr.disable() # fin du profiling\n",
        "    s = io.StringIO()\n",
        "    ps = pstats.Stats(pr, stream=s).sort_stats('cumulative')\n",
        "    ps.print_stats()\n",
        "    rem = os.path.normpath(os.path.join(os.getcwd(), \"..\", \"..\", \"..\"))\n",
        "    res = s.getvalue().replace(rem, \"\")\n",
        "    res = res.replace(sys.base_prefix, \"\").replace(\"\\\\\", \"/\")\n",
        "    ps.dump_stats(filename)\n",
        "    return res"
      ]
    },
    {
      "cell_type": "code",
      "execution_count": null,
      "metadata": {},
      "outputs": [
        {
          "data": {
            "text/plain": [
              "(10000000, 1)"
            ]
          },
          "execution_count": null,
          "metadata": {},
          "output_type": "execute_result"
        }
      ],
      "source": [
        "import numpy\n",
        "x = numpy.ones((10000000, 1))*4\n",
        "x.shape"
      ]
    },
    {
      "cell_type": "code",
      "execution_count": null,
      "metadata": {},
      "outputs": [
        {
          "name": "stdout",
          "output_type": "stream",
          "text": [
            "1.1308369636535645 (10000000, 1) [ 0.00013383]\n"
          ]
        }
      ],
      "source": [
        "debut=time.time()\n",
        "y = norm.pdf(x)\n",
        "fin=time.time()\n",
        "print(fin-debut, y.shape, y[0])"
      ]
    },
    {
      "cell_type": "code",
      "execution_count": null,
      "metadata": {},
      "outputs": [
        {
          "name": "stdout",
          "output_type": "stream",
          "text": [
            "         106 function calls in 1.086 seconds\n",
            "\n",
            "   Ordered by: cumulative time\n",
            "\n",
            "   ncalls  tottime  percall  cumtime  percall filename:lineno(function)\n",
            "        1    0.213    0.213    1.086    1.086 /lib/site-packages/scipy/stats/_distn_infrastructure.py:1619(pdf)\n",
            "        1    0.011    0.011    0.303    0.303 /lib/site-packages/scipy/stats/_distn_infrastructure.py:520(argsreduce)\n",
            "        1    0.080    0.080    0.292    0.292 /lib/site-packages/scipy/stats/_distn_infrastructure.py:545(<listcomp>)\n",
            "        1    0.000    0.000    0.286    0.286 /lib/site-packages/scipy/stats/_continuous_distns.py:129(_pdf)\n",
            "        1    0.286    0.286    0.286    0.286 /lib/site-packages/scipy/stats/_continuous_distns.py:79(_norm_pdf)\n",
            "        1    0.000    0.000    0.226    0.226 /lib/site-packages/numpy/lib/function_base.py:1964(place)\n",
            "        1    0.226    0.226    0.226    0.226 {built-in method numpy.core.multiarray._insert}\n",
            "        2    0.012    0.006    0.212    0.106 /lib/site-packages/numpy/lib/function_base.py:1913(extract)\n",
            "        2    0.000    0.000    0.127    0.063 /lib/site-packages/numpy/core/fromnumeric.py:1491(nonzero)\n",
            "        2    0.127    0.063    0.127    0.063 {method 'nonzero' of 'numpy.ndarray' objects}\n",
            "        2    0.000    0.000    0.073    0.037 /lib/site-packages/numpy/core/fromnumeric.py:56(take)\n",
            "        2    0.073    0.037    0.073    0.037 {method 'take' of 'numpy.ndarray' objects}\n",
            "        1    0.032    0.032    0.032    0.032 /lib/site-packages/scipy/stats/_distn_infrastructure.py:871(_support_mask)\n",
            "        1    0.018    0.018    0.018    0.018 {built-in method numpy.core.multiarray.putmask}\n",
            "        1    0.000    0.000    0.009    0.009 /lib/site-packages/numpy/core/fromnumeric.py:1901(any)\n",
            "        1    0.000    0.000    0.009    0.009 {method 'any' of 'numpy.ndarray' objects}\n",
            "        1    0.000    0.000    0.009    0.009 /lib/site-packages/numpy/core/_methods.py:37(_any)\n",
            "        1    0.008    0.008    0.008    0.008 {method 'reduce' of 'numpy.ufunc' objects}\n",
            "        1    0.000    0.000    0.000    0.000 {built-in method numpy.core.multiarray.zeros}\n",
            "        4    0.000    0.000    0.000    0.000 /lib/site-packages/numpy/core/fromnumeric.py:1384(ravel)\n",
            "        1    0.000    0.000    0.000    0.000 /lib/site-packages/numpy/core/numerictypes.py:964(find_common_type)\n",
            "        2    0.000    0.000    0.000    0.000 /lib/site-packages/numpy/core/numerictypes.py:942(_can_coerce_all)\n",
            "        1    0.000    0.000    0.000    0.000 /lib/site-packages/numpy/core/shape_base.py:9(atleast_1d)\n",
            "        4    0.000    0.000    0.000    0.000 /lib/site-packages/numpy/core/numeric.py:414(asarray)\n",
            "        7    0.000    0.000    0.000    0.000 /lib/site-packages/numpy/core/numeric.py:484(asanyarray)\n",
            "       11    0.000    0.000    0.000    0.000 {built-in method numpy.core.multiarray.array}\n",
            "        4    0.000    0.000    0.000    0.000 {method 'ravel' of 'numpy.ndarray' objects}\n",
            "        1    0.000    0.000    0.000    0.000 {method 'reshape' of 'numpy.ndarray' objects}\n",
            "        6    0.000    0.000    0.000    0.000 {built-in method builtins.isinstance}\n",
            "       14    0.000    0.000    0.000    0.000 /lib/site-packages/numpy/core/numerictypes.py:951(<listcomp>)\n",
            "        1    0.000    0.000    0.000    0.000 /lib/site-packages/numpy/core/fromnumeric.py:1575(shape)\n",
            "        1    0.000    0.000    0.000    0.000 /lib/site-packages/numpy/core/numerictypes.py:1015(<listcomp>)\n",
            "        1    0.000    0.000    0.000    0.000 /lib/site-packages/scipy/stats/_distn_infrastructure.py:859(_argcheck)\n",
            "       19    0.000    0.000    0.000    0.000 {built-in method builtins.len}\n",
            "        2    0.000    0.000    0.000    0.000 {method 'append' of 'list' objects}\n",
            "        1    0.000    0.000    0.000    0.000 <string>:2(_parse_args)\n",
            "        1    0.000    0.000    0.000    0.000 /lib/site-packages/numpy/core/numerictypes.py:1016(<listcomp>)\n",
            "        1    0.000    0.000    0.000    0.000 {method 'disable' of '_lsprof.Profiler' objects}\n",
            "\n",
            "\n",
            "\n"
          ]
        }
      ],
      "source": [
        "r = doprofile(norm.pdf, \"pdf.prof\", x)\n",
        "print(r)"
      ]
    },
    {
      "cell_type": "code",
      "execution_count": null,
      "metadata": {},
      "outputs": [
        {
          "name": "stdout",
          "output_type": "stream",
          "text": [
            "0.36240410804748535 (10000000, 1) [ 0.00013383]\n"
          ]
        }
      ],
      "source": [
        "def density(x,mean,sigma2):\n",
        "    return np.exp(-(x-mean)**2/(2*sigma2))/(2*np.pi*sigma2)**0.5\n",
        "\n",
        "debut=time.time()\n",
        "y = density(x,0.0,1.0)\n",
        "fin=time.time()\n",
        "print(fin-debut, y.shape, y[0])"
      ]
    },
    {
      "cell_type": "code",
      "execution_count": null,
      "metadata": {},
      "outputs": [
        {
          "name": "stdout",
          "output_type": "stream",
          "text": [
            "         2 function calls in 0.341 seconds\n",
            "\n",
            "   Ordered by: cumulative time\n",
            "\n",
            "   ncalls  tottime  percall  cumtime  percall filename:lineno(function)\n",
            "        1    0.341    0.341    0.341    0.341 <ipython-input-15-e74f743d975f>:1(density)\n",
            "        1    0.000    0.000    0.000    0.000 {method 'disable' of '_lsprof.Profiler' objects}\n",
            "\n",
            "\n",
            "\n"
          ]
        }
      ],
      "source": [
        "r = doprofile(density, \"pdf.prof\", x, 0, 1)\n",
        "print(r)"
      ]
    },
    {
      "cell_type": "markdown",
      "metadata": {
        "collapsed": true
      },
      "source": [
        "Quand on regarde le code de la fonction, on s'aper\u00e7oit que la fonction perd du temps dans [argsreduce](https://github.com/scipy/scipy/blob/v0.17.1/scipy/stats/_distn_infrastructure.py#L521). Elle fait aussi d'autres choses comme regarder les valeurs manquantes. En guise de conclusion, lorsqu'une fonction g\u00e8re trop de cas particuliers (type, valeurs), elle est n\u00e9cessairement plus lente qu'une fonction qu'on impl\u00e9mente soi-m\u00eame."
      ]
    },
    {
      "cell_type": "code",
      "execution_count": null,
      "metadata": {
        "collapsed": true
      },
      "outputs": [],
      "source": []
    },
    {
      "cell_type": "code",
      "execution_count": null,
      "metadata": {
        "collapsed": true
      },
      "outputs": [],
      "source": []
    }
  ],
  "metadata": {
    "kernelspec": {
      "display_name": "Python 3",
      "language": "python",
      "name": "python3"
    },
    "language_info": {
      "codemirror_mode": {
        "name": "ipython",
        "version": 3
      },
      "file_extension": ".py",
      "mimetype": "text/x-python",
      "name": "python",
      "nbconvert_exporter": "python",
      "pygments_lexer": "ipython3",
      "version": "3.6.1"
    }
  },
  "nbformat": 4,
  "nbformat_minor": 1
}