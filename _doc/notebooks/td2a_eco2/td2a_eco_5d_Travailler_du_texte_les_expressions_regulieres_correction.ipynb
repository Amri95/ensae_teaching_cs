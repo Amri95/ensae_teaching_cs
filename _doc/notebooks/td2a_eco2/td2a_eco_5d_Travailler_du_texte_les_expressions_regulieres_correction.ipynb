{
  "cells": [
    {
      "cell_type": "markdown",
      "metadata": {},
      "source": [
        "# 2A.eco - A quoi \u00e7a sert ? - correction\n",
        "\n",
        "Correction du TD portant le m\u00eame titre."
      ]
    },
    {
      "cell_type": "markdown",
      "metadata": {},
      "source": [
        "## Exercice 1 : \n",
        "\n",
        "Recherchez les dates pr\u00e9sentes dans la phrase suivante"
      ]
    },
    {
      "cell_type": "code",
      "execution_count": 1,
      "metadata": {
        "collapsed": true
      },
      "outputs": [],
      "source": [
        "texte = \"\"\"Je suis n\u00e9 le 28/12/1903 et je suis mort le 08/02/1957. Ma seconde femme est morte le 10/11/1963. \n",
        "J'ai \u00e9crit un livre intitul\u00e9 'Comprendre les fractions : les exemples en page 12/46/83' \"\"\""
      ]
    },
    {
      "cell_type": "code",
      "execution_count": 2,
      "metadata": {},
      "outputs": [
        {
          "name": "stdout",
          "output_type": "stream",
          "text": [
            "['28/12/1903', '08/02/1957', '10/11/1963']\n"
          ]
        }
      ],
      "source": [
        "import re\n",
        "expression = re.compile(\"[0-9]{2}/[0-9]{2}/[0-9]{4}\")\n",
        "cherche = expression.findall(texte)\n",
        "print(cherche)   "
      ]
    },
    {
      "cell_type": "markdown",
      "metadata": {},
      "source": [
        "Puis dans celle-ci : "
      ]
    },
    {
      "cell_type": "code",
      "execution_count": 3,
      "metadata": {
        "collapsed": true
      },
      "outputs": [],
      "source": [
        "texte = \"\"\"Je suis n\u00e9 le 28/12/1903 et je suis mort le 08/02/1957. Je me suis mari\u00e9 le 8/5/45. \n",
        "J'ai \u00e9crit un livre intitul\u00e9 'Comprendre les fractions : les exemples en page 12/46/83' \"\"\""
      ]
    },
    {
      "cell_type": "code",
      "execution_count": 4,
      "metadata": {},
      "outputs": [
        {
          "name": "stdout",
          "output_type": "stream",
          "text": [
            "['28/12/1903', '08/02/1957', '8/5/45']\n"
          ]
        }
      ],
      "source": [
        "expression = re.compile(\"[0-3]?[0-9]/[0-1]?[0-9]/[0-1]?[0-9]?[0-9]{2}\")\n",
        "cherche = expression.findall(texte)\n",
        "print(cherche)   "
      ]
    },
    {
      "cell_type": "code",
      "execution_count": 5,
      "metadata": {
        "collapsed": true
      },
      "outputs": [],
      "source": []
    }
  ],
  "metadata": {
    "kernelspec": {
      "display_name": "Python 3",
      "language": "python",
      "name": "python3"
    },
    "language_info": {
      "codemirror_mode": {
        "name": "ipython",
        "version": 3
      },
      "file_extension": ".py",
      "mimetype": "text/x-python",
      "name": "python",
      "nbconvert_exporter": "python",
      "pygments_lexer": "ipython3",
      "version": "3.6.1"
    }
  },
  "nbformat": 4,
  "nbformat_minor": 2
}