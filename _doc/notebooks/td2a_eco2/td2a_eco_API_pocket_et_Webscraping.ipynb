{
  "cells": [
    {
      "cell_type": "markdown",
      "metadata": {},
      "source": [
        "# 2A.eco - Web Scrapping et API avec Pocket\n",
        "\n",
        "Le notebook revient sur le webscrapping et l'utilisation d'API avec [pocket](https://getpocket.com/)."
      ]
    },
    {
      "cell_type": "code",
      "execution_count": null,
      "metadata": {},
      "outputs": [
        {
          "data": {
            "text/html": [
              "<div id=\"my_id_menu_nb\">run previous cell, wait for 2 seconds</div>\n",
              "<script>\n",
              "function repeat_indent_string(n){\n",
              "    var a = \"\" ;\n",
              "    for ( ; n > 0 ; --n)\n",
              "        a += \"    \";\n",
              "    return a;\n",
              "}\n",
              "var update_menu_string = function(begin, lfirst, llast, sformat, send, keep_item, begin_format, end_format) {\n",
              "    var anchors = document.getElementsByClassName(\"section\");\n",
              "    if (anchors.length == 0) {\n",
              "        anchors = document.getElementsByClassName(\"text_cell_render rendered_html\");\n",
              "    }\n",
              "    var i,t;\n",
              "    var text_menu = begin;\n",
              "    var text_memo = \"<pre>\\nlength:\" + anchors.length + \"\\n\";\n",
              "    var ind = \"\";\n",
              "    var memo_level = 1;\n",
              "    var href;\n",
              "    var tags = [];\n",
              "    var main_item = 0;\n",
              "    var format_open = 0;\n",
              "    for (i = 0; i <= llast; i++)\n",
              "        tags.push(\"h\" + i);\n",
              "\n",
              "    for (i = 0; i < anchors.length; i++) {\n",
              "        text_memo += \"**\" + anchors[i].id + \"--\\n\";\n",
              "\n",
              "        var child = null;\n",
              "        for(t = 0; t < tags.length; t++) {\n",
              "            var r = anchors[i].getElementsByTagName(tags[t]);\n",
              "            if (r.length > 0) {\n",
              "child = r[0];\n",
              "break;\n",
              "            }\n",
              "        }\n",
              "        if (child == null) {\n",
              "            text_memo += \"null\\n\";\n",
              "            continue;\n",
              "        }\n",
              "        if (anchors[i].hasAttribute(\"id\")) {\n",
              "            // when converted in RST\n",
              "            href = anchors[i].id;\n",
              "            text_memo += \"#1-\" + href;\n",
              "            // passer \u00e0 child suivant (le chercher)\n",
              "        }\n",
              "        else if (child.hasAttribute(\"id\")) {\n",
              "            // in a notebook\n",
              "            href = child.id;\n",
              "            text_memo += \"#2-\" + href;\n",
              "        }\n",
              "        else {\n",
              "            text_memo += \"#3-\" + \"*\" + \"\\n\";\n",
              "            continue;\n",
              "        }\n",
              "        var title = child.textContent;\n",
              "        var level = parseInt(child.tagName.substring(1,2));\n",
              "\n",
              "        text_memo += \"--\" + level + \"?\" + lfirst + \"--\" + title + \"\\n\";\n",
              "\n",
              "        if ((level < lfirst) || (level > llast)) {\n",
              "            continue ;\n",
              "        }\n",
              "        if (title.endsWith('\u00b6')) {\n",
              "            title = title.substring(0,title.length-1).replace(\"<\", \"&lt;\")\n",
              "         .replace(\">\", \"&gt;\").replace(\"&\", \"&amp;\");\n",
              "        }\n",
              "        if (title.length == 0) {\n",
              "            continue;\n",
              "        }\n",
              "\n",
              "        while (level < memo_level) {\n",
              "            text_menu += end_format + \"</ul>\\n\";\n",
              "            format_open -= 1;\n",
              "            memo_level -= 1;\n",
              "        }\n",
              "        if (level == lfirst) {\n",
              "            main_item += 1;\n",
              "        }\n",
              "        if (keep_item != -1 && main_item != keep_item + 1) {\n",
              "            // alert(main_item + \" - \" + level + \" - \" + keep_item);\n",
              "            continue;\n",
              "        }\n",
              "        while (level > memo_level) {\n",
              "            text_menu += \"<ul>\\n\";\n",
              "            memo_level += 1;\n",
              "        }\n",
              "        text_menu += repeat_indent_string(level-2);\n",
              "        text_menu += begin_format + sformat.replace(\"__HREF__\", href).replace(\"__TITLE__\", title);\n",
              "        format_open += 1;\n",
              "    }\n",
              "    while (1 < memo_level) {\n",
              "        text_menu += end_format + \"</ul>\\n\";\n",
              "        memo_level -= 1;\n",
              "        format_open -= 1;\n",
              "    }\n",
              "    text_menu += send;\n",
              "    //text_menu += \"\\n\" + text_memo;\n",
              "\n",
              "    while (format_open > 0) {\n",
              "        text_menu += end_format;\n",
              "        format_open -= 1;\n",
              "    }\n",
              "    return text_menu;\n",
              "};\n",
              "var update_menu = function() {\n",
              "    var sbegin = \"\";\n",
              "    var sformat = '<a href=\"#__HREF__\">__TITLE__</a>';\n",
              "    var send = \"\";\n",
              "    var begin_format = '<li>';\n",
              "    var end_format = '</li>';\n",
              "    var keep_item = -1;\n",
              "    var text_menu = update_menu_string(sbegin, 2, 4, sformat, send, keep_item,\n",
              "       begin_format, end_format);\n",
              "    var menu = document.getElementById(\"my_id_menu_nb\");\n",
              "    menu.innerHTML=text_menu;\n",
              "};\n",
              "window.setTimeout(update_menu,2000);\n",
              "            </script>"
            ],
            "text/plain": [
              "<IPython.core.display.HTML object>"
            ]
          },
          "execution_count": null,
          "metadata": {},
          "output_type": "execute_result"
        }
      ],
      "source": [
        "from jyquickhelper import add_notebook_menu\n",
        "add_notebook_menu()"
      ]
    },
    {
      "cell_type": "markdown",
      "metadata": {},
      "source": [
        "## Objectifs des prochaines s\u00e9ances"
      ]
    },
    {
      "cell_type": "markdown",
      "metadata": {},
      "source": [
        "Connaissez-vous l'application [Pocket](https://getpocket.com/) ? C'est une application qui simplifie le bookmarking. Elle prend la forme d'une extension Chrome / Firefox. Quand on tombe sur un site int\u00e9ressant, on peut le bookmaker, et ajouter, ou non, des tags pour \"qualifier\" le contenu.\n",
        "\n",
        "Cette application r\u00e9pond au besoin de conserver le contenu web pertinent et de le classer."
      ]
    },
    {
      "cell_type": "markdown",
      "metadata": {},
      "source": [
        "Au cours des prochaines s\u00e9ances, nous allons construire un outil de machine learning qui :\n",
        "- se connecte \u00e0 un compte pocket\n",
        "- r\u00e9cup\u00e8re les sites bookmarqu\u00e9s et les tags \u00e9ventuels\n",
        "- \u00e0 partir des articles tagg\u00e9s, pr\u00e9dit les meilleurs tags des sites non-tagg\u00e9s\n",
        "- tag les articles non tagg\u00e9s"
      ]
    },
    {
      "cell_type": "markdown",
      "metadata": {},
      "source": [
        "Bref, nous allons concevoir un programme de classification automatique des articles !"
      ]
    },
    {
      "cell_type": "markdown",
      "metadata": {},
      "source": [
        "## Objectif de la s\u00e9ance"
      ]
    },
    {
      "cell_type": "markdown",
      "metadata": {},
      "source": [
        "- Cr\u00e9er un compte Pocket\n",
        "- S'authentifier aupr\u00e8s de l'API\n",
        "- Populer le compte avec des donn\u00e9es via l'API\n",
        "- R\u00e9cup\u00e9rer les donn\u00e9es via l'API\n",
        "- Scraper les sites bookmarqu\u00e9s pour enrichir les donn\u00e9es"
      ]
    },
    {
      "cell_type": "markdown",
      "metadata": {},
      "source": [
        "## Mais c'est quoi une API ?"
      ]
    },
    {
      "cell_type": "markdown",
      "metadata": {},
      "source": [
        "On vous explique tout ici :  \n",
        "- [D\u00e9finition](http://www.xavierdupre.fr/app/ensae_teaching_cs/helpsphinx/notebooks/TD2A_eco_les_API.html#definition)\n",
        "- [Les API qui existent](http://www.xavierdupre.fr/app/ensae_teaching_cs/helpsphinx/notebooks/TD2A_eco_les_API.html#les-api-qui-existent)\n",
        "- [Comment parler \u00e0 une API ?](http://www.xavierdupre.fr/app/ensae_teaching_cs/helpsphinx/notebooks/TD2A_eco_les_API.html#comment-parler-a-une-api)"
      ]
    },
    {
      "cell_type": "markdown",
      "metadata": {},
      "source": [
        "Donc un API est une interface permettant de _communiquer_ avec une application. En g\u00e9n\u00e9ral, on veut r\u00e9cup\u00e9rer des donn\u00e9es. Donc la communication consiste \u00e0 envoyer une requete HTTP (le plus souvent GET ou POST) et \u00e0 r\u00e9cup\u00e9rer des donn\u00e9es, souvent au format json. Ici nous voulons r\u00e9cup\u00e9rer des donn\u00e9es d'un compte utilisateur pocket. \n",
        "\n",
        "Pour savoir comment on communique pr\u00e9cis\u00e9ment avec l'API de pocket, il n'y a pas de secret : il faut lire la doc de ceux qui l'ont cod\u00e9e. On vous a simplifi\u00e9 un peu les \u00e9tapes ci-apr\u00e8s."
      ]
    },
    {
      "cell_type": "markdown",
      "metadata": {},
      "source": [
        "## Cr\u00e9ation d'un compte Pocket"
      ]
    },
    {
      "cell_type": "markdown",
      "metadata": {},
      "source": [
        "Cr\u00e9er un compte sur https://getpocket.com/signup?ep=4. Il n'y a pas de v\u00e9rification d'email, donc vous pouvez mettre un faux mail."
      ]
    },
    {
      "cell_type": "markdown",
      "metadata": {},
      "source": [
        "Aller sur la _console developer_ de pocket: https://getpocket.com/developer/apps/index.php"
      ]
    },
    {
      "cell_type": "markdown",
      "metadata": {},
      "source": [
        "<img src=\"./images/console_developer_pocket.png\" width=\"450\"/>"
      ]
    },
    {
      "cell_type": "markdown",
      "metadata": {},
      "source": [
        "Cliquer sur CREATE AN APPLICATION"
      ]
    },
    {
      "cell_type": "markdown",
      "metadata": {},
      "source": [
        "Compl\u00e9ter le formulaire comme suit (vous pouvez changer le nom de l'application et la description)"
      ]
    },
    {
      "cell_type": "markdown",
      "metadata": {},
      "source": [
        "<img src=\"./images/screen_consumer_key.png\" width=\"450\"/>"
      ]
    },
    {
      "cell_type": "markdown",
      "metadata": {},
      "source": [
        "Cliquer sur CREATE APPLICATION"
      ]
    },
    {
      "cell_type": "code",
      "execution_count": null,
      "metadata": {
        "collapsed": true
      },
      "outputs": [],
      "source": [
        "# keyring pour r\u00e9cup\u00e9rer un mot de passe\n",
        "import keyring\n",
        "import os\n",
        "CONSUMER_KEY = keyring.get_password(\"web\", os.environ[\"COMPUTERNAME\"] + \"pocket\")\n",
        "# input pour le demander\n",
        "# CONSUMER_KEY = input(\"Ins\u00e9rer ici le CONSUMER KEY de la plateform WEB \")"
      ]
    },
    {
      "cell_type": "markdown",
      "metadata": {},
      "source": [
        "<img src=\"./images/screen_consumer_key2.png\" width=\"450\"/>"
      ]
    },
    {
      "cell_type": "markdown",
      "metadata": {},
      "source": [
        "Vous en aurez besoin pour vous connecter \u00e0 l'API de pocket."
      ]
    },
    {
      "cell_type": "markdown",
      "metadata": {},
      "source": [
        "## Authentification"
      ]
    },
    {
      "cell_type": "markdown",
      "metadata": {},
      "source": [
        "D'abord il faut s'[authentifier](https://getpocket.com/developer/docs/authentication)"
      ]
    },
    {
      "cell_type": "markdown",
      "metadata": {},
      "source": [
        "Protocole utilis\u00e9 ici : [OAUTH2](https://tools.ietf.org/html/rfc6749) (tr\u00e8s classique). "
      ]
    },
    {
      "cell_type": "markdown",
      "metadata": {},
      "source": [
        "<img src=\"./images/screen_oauth2.png\"/>"
      ]
    },
    {
      "cell_type": "markdown",
      "metadata": {},
      "source": [
        "6 \u00e9tapes donc avant d'avoir le droit de r\u00e9cup\u00e9rer les donn\u00e9es. De temps en temps, il existe une librairie python. C'est notre cas : https://github.com/tapanpandita/pocket. On va s'en servir pour s'authentifier. Mais pas pour r\u00e9cup\u00e9rer les donn\u00e9es (elle n'est plus \u00e0 jour pour faire \u00e7a)."
      ]
    },
    {
      "cell_type": "markdown",
      "metadata": {},
      "source": [
        "### Etape 1 : Obtenir un code d'authorisation => get_request_token"
      ]
    },
    {
      "cell_type": "code",
      "execution_count": null,
      "metadata": {
        "collapsed": true
      },
      "outputs": [],
      "source": [
        "import pocket\n",
        "from pocket import Pocket\n",
        "\n",
        "REDIRECT_URI = \"http://localhost:8888/notebooks/API%20Pocket.ipynb\"\n",
        "# c'est l'url \u00e0 laquelle vous allez rediriger l'utilisateur (ici, vous) apr\u00e8s que pocket a authentifi\u00e9 l'utilisateur (vous)\n",
        "REQUEST_TOKEN = Pocket.get_request_token(consumer_key=CONSUMER_KEY, redirect_uri=REDIRECT_URI)\n",
        "# print(REQUEST_TOKEN)"
      ]
    },
    {
      "cell_type": "markdown",
      "metadata": {},
      "source": [
        "### Etape 2: Authoriser l'acc\u00e8s\n",
        "\n",
        "Il faut le faire \u00e0 chaque ex\u00e9cution du notebook."
      ]
    },
    {
      "cell_type": "code",
      "execution_count": null,
      "metadata": {},
      "outputs": [
        {
          "name": "stdout",
          "output_type": "stream",
          "text": [
            "Aller \u00e0 l'url : \n",
            "https://getpocket.com/auth/authorize?request_token=REQUEST_TOKEN&redirect_uri=http://localhost:8888/notebooks/API%20Pocket.ipynb\n"
          ]
        }
      ],
      "source": [
        "# Enlever les guillemets autour de REQUEST_TOKEN\n",
        "url = \"https://getpocket.com/auth/authorize?request_token={0}&redirect_uri={1}\".format(\"REQUEST_TOKEN\", REDIRECT_URI)\n",
        "print(\"Aller \u00e0 l'url : \\n\" + url)"
      ]
    },
    {
      "cell_type": "markdown",
      "metadata": {},
      "source": [
        "<img src=\"./images/screen_authorization_pocket.png\" width=\"450\"/>"
      ]
    },
    {
      "cell_type": "markdown",
      "metadata": {},
      "source": [
        "Cliquer sur Autoriser."
      ]
    },
    {
      "cell_type": "markdown",
      "metadata": {},
      "source": [
        "### Etape 3: R\u00e9cup\u00e9rer le token d'acc\u00e8s"
      ]
    },
    {
      "cell_type": "code",
      "execution_count": null,
      "metadata": {
        "collapsed": true
      },
      "outputs": [],
      "source": [
        "try:\n",
        "    USER_CREDENTIALS = Pocket.get_credentials(consumer_key=CONSUMER_KEY, code=REQUEST_TOKEN)\n",
        "except Exception as e:\n",
        "    print(e)\n",
        "# print(USER_CREDENTIALS)"
      ]
    },
    {
      "cell_type": "code",
      "execution_count": null,
      "metadata": {
        "collapsed": true
      },
      "outputs": [],
      "source": [
        "ACCESS_TOKEN = USER_CREDENTIALS['access_token']\n",
        "# print(ACCESS_TOKEN)"
      ]
    },
    {
      "cell_type": "markdown",
      "metadata": {},
      "source": [
        "## Chargement de donn\u00e9es sur le nouveau compte"
      ]
    },
    {
      "cell_type": "markdown",
      "metadata": {},
      "source": [
        "Comme vous venez de cr\u00e9er un compte, vous n'avez pas encore d'articles sauvegard\u00e9s. On vous a pr\u00e9par\u00e9 un peu moins de 500 articles (format json). Un tiers de ces articles sont tagg\u00e9s (cat\u00e9goris\u00e9s). Un article peut comprendre un ou plusieurs tags.\n",
        "\n",
        "On vous rappelle que l'objectif \u00e0 termes sera de pr\u00e9dire les meilleurs tags pour les articles non tagg\u00e9s, \u00e9tant donn\u00e9s les mots qui caract\u00e9risent ces articles (titre, r\u00e9sum\u00e9, et ensemble des mots pr\u00e9sents dans le html de la page)."
      ]
    },
    {
      "cell_type": "markdown",
      "metadata": {},
      "source": [
        "### Chargement du fichier json en m\u00e9moire"
      ]
    },
    {
      "cell_type": "code",
      "execution_count": null,
      "metadata": {
        "collapsed": true
      },
      "outputs": [],
      "source": [
        "import json\n",
        "\n",
        "with open('./images/data_pocket.json') as fp:    \n",
        "    data = json.load(fp)"
      ]
    },
    {
      "cell_type": "markdown",
      "metadata": {},
      "source": [
        "On affiche le premier \u00e9l\u00e9ment."
      ]
    },
    {
      "cell_type": "code",
      "execution_count": null,
      "metadata": {},
      "outputs": [
        {
          "name": "stdout",
          "output_type": "stream",
          "text": [
            "{'authors': {'2832761': {'author_id': '2832761',\n",
            "                         'item_id': '1883956314',\n",
            "                         'name': 'float',\n",
            "                         'url': ''}},\n",
            " 'excerpt': 'Il est impossible d\u2019\u00e9crire un programme sans utiliser de '\n",
            "            'variable. Ce terme d\u00e9signe le fait d\u2019attribuer un nom ou '\n",
            "            'identificateur \u00e0 des informations : en les nommant, on peut '\n",
            "            'manipuler ces informations beaucoup plus facilement.',\n",
            " 'favorite': '0',\n",
            " 'given_title': 'Types et variables du langage python \u2014 Programmation avec le '\n",
            "                'langage Python',\n",
            " 'given_url': 'http://www.xavierdupre.fr/app/teachpyx/helpsphinx/c_lang/types.html',\n",
            " 'has_image': '1',\n",
            " 'has_video': '0',\n",
            " 'image': {'height': '0',\n",
            "           'item_id': '1883956314',\n",
            "           'src': 'http://www.xavierdupre.fr/app/teachpyx/helpsphinx/_images/math/a283b6104f42fc7a8bf845790aa022ac525329f0.png',\n",
            "           'width': '0'},\n",
            " 'images': {'1': {'caption': '',\n",
            "                  'credit': '',\n",
            "                  'height': '0',\n",
            "                  'image_id': '1',\n",
            "                  'item_id': '1883956314',\n",
            "                  'src': 'http://www.xavierdupre.fr/app/teachpyx/helpsphinx/_images/math/a283b6104f42fc7a8bf845790aa022ac525329f0.png',\n",
            "                  'width': '0'},\n",
            "            '2': {'caption': '',\n",
            "                  'credit': '',\n",
            "                  'height': '0',\n",
            "                  'image_id': '2',\n",
            "                  'item_id': '1883956314',\n",
            "                  'src': 'http://www.xavierdupre.fr/app/teachpyx/helpsphinx/_images/math/d88bf614100dc9561ab4b951b22f965c77da355d.png',\n",
            "                  'width': '0'},\n",
            "            '3': {'caption': '',\n",
            "                  'credit': '',\n",
            "                  'height': '0',\n",
            "                  'image_id': '3',\n",
            "                  'item_id': '1883956314',\n",
            "                  'src': 'http://www.xavierdupre.fr/app/teachpyx/helpsphinx/_images/math/e39ddf05c56c382e29aa91aaceca2d5de5c4bd29.png',\n",
            "                  'width': '0'}},\n",
            " 'is_article': '0',\n",
            " 'is_index': '0',\n",
            " 'item_id': '1883956314',\n",
            " 'resolved_id': '1883956314',\n",
            " 'resolved_title': 'Types et variables du langage python\u00b6',\n",
            " 'resolved_url': 'http://www.xavierdupre.fr/app/teachpyx/helpsphinx/c_lang/types.html',\n",
            " 'sort_id': 0,\n",
            " 'status': '0',\n",
            " 'tags': {'python': {'item_id': '1883956314', 'tag': 'python'}},\n",
            " 'time_added': '1507548626',\n",
            " 'time_favorited': '0',\n",
            " 'time_read': '0',\n",
            " 'time_updated': '1507548631',\n",
            " 'word_count': '7921'}\n"
          ]
        }
      ],
      "source": [
        "from pprint import pprint\n",
        "keys = list(data.keys())\n",
        "pprint(data[keys[0]])"
      ]
    },
    {
      "cell_type": "markdown",
      "metadata": {},
      "source": [
        "### Exercice 1"
      ]
    },
    {
      "cell_type": "markdown",
      "metadata": {},
      "source": [
        "Chargement des donn\u00e9es du json dans le compte nouvellement cr\u00e9\u00e9."
      ]
    },
    {
      "cell_type": "markdown",
      "metadata": {},
      "source": [
        "Pour communiquer avec une API, il faut envoyer des requ\u00eates HTTP. Ici on veut ajouter les donn\u00e9es du fichier json (\"given_url\" et \"tags\") dans le compte Pocket.\n",
        "\n",
        "Que nous dit la doc ? Consulter https://getpocket.com/developer/docs/v3/add.\n",
        "\n",
        "Par exemple, pour l'ajout d'un seul item, la doc nous donne l'url \u00e0 laquelle il faut envoyer une requ\u00eate (https://getpocket.com/v3/add), et la m\u00e9thode qu'il faut employer. Ici, il s'agit d'une m\u00e9thode [POST](https://en.wikipedia.org/wiki/POST_(HTTP)).\n",
        "\n",
        "Pour envoyer une requ\u00eate en python, il y a plusieurs solutions. Un des plus simples consiste \u00e0 utiliser la librairie [requests](http://docs.python-requests.org/en/master/user/quickstart/#make-a-request).\n",
        "\n",
        "A vous de jouer ! Commencez par un seul (par exemple http://docs.python-requests.org/en/master/user/quickstart/ avec les tags \"python, requests\"), puis si cela a fonctionn\u00e9, vous pouvez passer 100 items (pas plus, le maximum de requ\u00eates autoris\u00e9es par l'API est de 500 par heure et par utilisateur).\n",
        "\n",
        "Pour voir si cela a march\u00e9, il suffit d'aller sur votre compte Pocket :)"
      ]
    },
    {
      "cell_type": "markdown",
      "metadata": {},
      "source": [
        "## R\u00e9cup\u00e9ration des donn\u00e9es disponibles dans l'API"
      ]
    },
    {
      "cell_type": "markdown",
      "metadata": {},
      "source": [
        "### Exercice 2"
      ]
    },
    {
      "cell_type": "markdown",
      "metadata": {},
      "source": [
        "R\u00e9cup\u00e9rer les urls et les tags des items qui contiennent le tag \"python\"."
      ]
    },
    {
      "cell_type": "markdown",
      "metadata": {},
      "source": [
        "C'est par ici : https://getpocket.com/developer/docs/v3/retrieve. A vous de jouer !"
      ]
    },
    {
      "cell_type": "markdown",
      "metadata": {},
      "source": [
        "### Exercice 3"
      ]
    },
    {
      "cell_type": "markdown",
      "metadata": {},
      "source": [
        "R\u00e9cup\u00e9rer les urls et les titres des items qui contiennent le mot \"python\" dans le titre ou l'url"
      ]
    },
    {
      "cell_type": "markdown",
      "metadata": {},
      "source": [
        "Dans le fichier qui servira \u00e0 la cat\u00e9gorisation automatique, nous allons avoir besoin : de l'url, du titre, de l'extrait, des tags et du contenu.\n",
        "    \n",
        "L'api ne permet pas d'acc\u00e9der au contenu des sites \u00e9pingl\u00e9s. Mais nous pouvons le r\u00e9cup\u00e9rer gr\u00e2ce \u00e0 l'url."
      ]
    },
    {
      "cell_type": "markdown",
      "metadata": {},
      "source": [
        "### Exercice 4"
      ]
    },
    {
      "cell_type": "markdown",
      "metadata": {},
      "source": [
        "Constituer d'abord un DataFrame avec les champs resolved_url, resolved_title, excerpt, et les tags des items comprenant le terme python."
      ]
    },
    {
      "cell_type": "markdown",
      "metadata": {},
      "source": [
        "## Compl\u00e9ter les donn\u00e9es avec du webscraping"
      ]
    },
    {
      "cell_type": "markdown",
      "metadata": {},
      "source": [
        "### Mais c'est quoi le webscraping ? "
      ]
    },
    {
      "cell_type": "markdown",
      "metadata": {},
      "source": [
        "On vous explique tout ici :  \n",
        "- [D\u00e9finition](http://www.xavierdupre.fr/app/ensae_teaching_cs/helpsphinx/notebooks/TD2A_Eco_Web_Scraping.html#a-eco-web-scraping)\n",
        "- [Un d\u00e9tour par le Web : comment fonctionne un site ?](http://www.xavierdupre.fr/app/ensae_teaching_cs/helpsphinx/notebooks/TD2A_Eco_Web_Scraping.html#un-detour-par-le-web-comment-fonctionne-un-site)\n",
        "- [Scrapper avec python](http://www.xavierdupre.fr/app/ensae_teaching_cs/helpsphinx/notebooks/TD2A_Eco_Web_Scraping.html#scrapper-avec-python)"
      ]
    },
    {
      "cell_type": "markdown",
      "metadata": {},
      "source": [
        "### Beautiful Soup \n",
        "\n",
        "Reprenons notre liste de sites sur python et analysons le contenu HTML."
      ]
    },
    {
      "cell_type": "code",
      "execution_count": null,
      "metadata": {
        "collapsed": true
      },
      "outputs": [],
      "source": [
        "from bs4 import BeautifulSoup"
      ]
    },
    {
      "cell_type": "code",
      "execution_count": null,
      "metadata": {},
      "outputs": [
        {
          "name": "stdout",
          "output_type": "stream",
          "text": [
            "('<?xml version=\"1.0\" encoding=\"utf-8\"?>\\n'\n",
            " '<html>\\n'\n",
            " '<head>\\n'\n",
            " '<link TYPE=\"text/css\" href=\"pMenu2.css\" rel=\"stylesheet\"/>\\n'\n",
            " '<title>Xavier Dupr\u00c3\u00a9, ENSAE, Microsoft</title>\\n'\n",
            " '<meta content=\"xavier dupr\u00c3\u00a9, dupre, ENSAE, Microsoft, Bing, Azure ML, '\n",
            " 'Azure\" name=\"keywords\"/>\\n'\n",
            " '<meta content=\"text/html; charset=utf-8\" http-equiv=\"Content-Type\"/>\\n'\n",
            " '<link rel=\"shortcut icon\" href=\"pyhome3.ico\" />\\n'\n",
            " '<meta content=\"\" name=\"description\" />\\n'\n",
            " '</head>\\n'\n",
            " '<body>\\n'\n",
            " '\\n'\n",
            " '<div class=\"maintitle\">\\n'\n",
            " '<h1>Xavier Dupr\u00c3\u00a9\\n'\n",
            " '<a href=\"https://www.linkedin.com/in/xavier-dupr%C3%A9-780924\"><img '\n",
            " 'src=\"blog/documents/linkedin.png\" width=\"15\"/></a>\\n'\n",
            " '<font size=\"4\"><a '\n",
            " 'href=\"http://www.xavierdupre.fr/blog/xd_blog_nojs.html\">Blog</a></font>\\n'\n",
            " '<a href=\"blog/xdbrss.xml\"><img '\n",
            " 'src=\"blog/documents/feed-icon-16x16.png\"/></a>\\n'\n",
            " '</h1>\\n'\n",
            " '</div>\\n'\n",
            " '\\n'\n",
            " '\\n'\n",
            " '<div style=\"position:absolute; top:1%; left:5%; width:120px;\">\\n'\n",
            " '\\n'\n",
            " '<p>\\n'\n",
            " '<a style=\"padding:5px;\" '\n",
            " 'href=\"app/ensae_teaching_cs/helpsphinx3/index.html\"><img '\n",
            " 'src=\"app/ensae_teaching_cs/helpsphinx/_static/project_ico.png\" width=\"40px\" '\n",
            " '/></\\n'\n",
            " '...')\n"
          ]
        }
      ],
      "source": [
        "from pprint import pprint\n",
        "\n",
        "#premi\u00e8re url de la liste\n",
        "if 'df' in locals():\n",
        "    url = df['url'].iloc[0]\n",
        "    print(url)\n",
        "else:\n",
        "    url = \"http://www.xavierdupre.fr\"\n",
        "\n",
        "# r\u00e9cup\u00e9ration du contenu (m\u00eame librairie que pour les requetes api => \n",
        "#requests est une librairie qui permet de faire des requetes http, que cela soit pour des api ou du webscraping)\n",
        "\n",
        "import requests\n",
        "r = requests.get(url)\n",
        "\n",
        "#pprint : librairie pour \"pretty print\" (essayer sans : on voit pas grand chose)\n",
        "text = r.text if len(r.text) < 1000 else r.text[:1000] + \"\\n...\"\n",
        "pprint(text)"
      ]
    },
    {
      "cell_type": "code",
      "execution_count": null,
      "metadata": {},
      "outputs": [
        {
          "data": {
            "text/plain": [
              "<!--?xml version=\"1.0\" encoding=\"utf-8\"?--><html><head>\n",
              "<link href=\"pMenu2.css\" rel=\"stylesheet\" type=\"text/css\"/>\n",
              "<title>Xavier Dupr\u00c3\u00a9, ENSAE, Microsoft</title>\n",
              "<meta content=\"xavier dupr\u00c3\u00a9, dupre, ENSAE, Microsoft, Bing, Azure ML, Azure\" name=\"keywords\"/>\n",
              "<meta content=\"text/html; charset=utf-8\" http-equiv=\"Content-Type\"/>\n",
              "<link href=\"pyhome3.ico\" rel=\"shortcut icon\"/>\n",
              "<meta content=\"\" name=\"description\"/>\n",
              "</head>\n",
              "<body>\n",
              "\n",
              "<div class=\"maintitle\">\n",
              "<h1>Xavier Dupr\u00c3\u00a9\n",
              "<a href=\"https://www.linkedin.com/in/xavier-dupr%C3%A9-780924\"><img src=\"blog/documents/linkedin.png\" width=\"15\"/></a>\n",
              "<font size=\"4\"><a href=\"http://www.xavierdupre.fr/blog/xd_blog_nojs.html\">Blog</a></font>\n",
              "<a href=\"blog/xdbrss.xml\"><img src=\"blog/documents/feed-icon-16x16.png\"/></a>\n",
              "</h1>\n",
              "</div>\n",
              "\n",
              "\n",
              "<div style=\"position:absolute; top:1%; left:5%; width:120px;\">\n",
              "\n",
              "<p>\n",
              "<a href=\"app/ensae_teaching_cs/helpsphinx3/index.html\" style=\"padding:5px;\"><img src=\"app/ensae_teaching_cs/helpsphinx/_static/project_ico.png\" width=\"40px\"/></a>\n",
              "<a href=\"app/actuariat_python/helpsphinx/index.html\" style=\"padding:5px;\"><img src=\"app/actuariat_python/helpsphinx/_static/project_ico.png\" width=\"40px\"/></a>\n",
              "<a href=\"app/ensae_projects/helpsphinx/index.html\" style=\"padding:5px;\"><img src=\"app/ensae_projects/helpsphinx/_static/project_ico.png\" width=\"40px\"/></a>\n",
              "<a href=\"app/jupytalk/helpsphinx/index.html#jupytalk\" style=\"padding:5px;\"><img src=\"app/jupytalk/helpsphinx/_static/project_ico.png\" width=\"40px\"/></a>\n",
              "</p>\n",
              "<hr/>\n",
              "<p>\n",
              "<a href=\"http://lesenfantscodaient.fr/\" style=\"padding:5px;\"><img src=\"http://lesenfantscodaient.fr/_static/project_ico.png\" width=\"40px\"/></a>\n",
              "</p>\n",
              "<hr/>\n",
              "<p>\n",
              "<a href=\"app/mlstatpy/helpsphinx/index.html#mlstatpy\" style=\"padding:5px;\"><img src=\"app/mlstatpy/helpsphinx/_static/project_ico.png\" width=\"40px\"/></a>\n",
              "<a href=\"app/teachpyx/helpsphinx/index.html#teachpyx\" style=\"padding:5px;\"><img src=\"app/teachpyx/helpsphinx/_static/project_ico.png\" width=\"40px\"/></a>\n",
              "</p>\n",
              "<hr/>\n",
              "<p>\n",
              "<a href=\"app/pyquickhelper/helpsphinx/index.html\" style=\"padding:5px;\"><img src=\"app/pyquickhelper/helpsphinx/_static/project_ico.png\" width=\"40px\"/></a>\n",
              "<a href=\"app/pymyinstall/helpsphinx/index.html\" style=\"padding:5px;\"><img src=\"app/pymyinstall/helpsphinx/_static/project_ico.png\" width=\"40px\"/></a>\n",
              "<a href=\"app/pyensae/helpsphinx/index.html\" style=\"padding:5px;\"><img src=\"app/pyensae/helpsphinx/_static/project_ico.png\" width=\"40px\"/></a>\n",
              "<a href=\"app/jyquickhelper/helpsphinx/index.html\" style=\"padding:5px;\"><img src=\"app/jyquickhelper/helpsphinx/_static/project_ico.png\" width=\"40px\"/></a>\n",
              "<a href=\"app/cpyquickhelper/helpsphinx/index.html\" style=\"padding:5px;\"><img src=\"app/cpyquickhelper/helpsphinx/_static/project_ico.png\" width=\"40px\"/></a>\n",
              "<a href=\"app/pandas_streaming/helpsphinx/index.html\" style=\"padding:5px;\"><img src=\"app/pandas_streaming/helpsphinx/_static/project_ico.png\" width=\"40px\"/></a>\n",
              "</p>\n",
              "<hr/>\n",
              "<p>\n",
              "<a href=\"app/pymmails/helpsphinx/index.html\" style=\"padding:5px;\"><img src=\"app/pymmails/helpsphinx/_static/project_ico.png\" width=\"40px\"/></a>\n",
              "<a href=\"app/pyrsslocal/helpsphinx/index.html\" style=\"padding:5px;\"><img src=\"app/pyrsslocal/helpsphinx/_static/project_ico.png\" width=\"40px\"/></a>\n",
              "<a href=\"app/pysqllike/helpsphinx/index.html\" style=\"padding:5px;\"><img src=\"app/pysqllike/helpsphinx/_static/project_ico.png\" width=\"40px\"/></a>\n",
              "<a href=\"app/tkinterquickhelper/helpsphinx/index.html\" style=\"padding:5px;\"><img src=\"app/tkinterquickhelper/helpsphinx/_static/project_ico.png\" width=\"40px\"/></a>\n",
              "</p>\n",
              "<hr/>\n",
              "<p>\n",
              "<a href=\"app/python3_module_template/helpsphinx/index.html\" style=\"padding:5px;\"><img src=\"app/python3_module_template/helpsphinx/_static/project_ico.png\" width=\"40px\"/></a>\n",
              "<a href=\"app/python3_module_template/helpsphinx2/index.html\" style=\"padding:5px;\"><img src=\"app/python3_module_template/helpsphinx2/_static/project_ico.png\" width=\"40px\"/></a>\n",
              "</p>\n",
              "\n",
              "</div>\n",
              "\n",
              "<div style=\"position:absolute; top:40%; left:75%; \">\n",
              "<img src=\"xd_portrait2.jpg\" width=\"250px\"/>\n",
              "</div>\n",
              "\n",
              "<!-- #################################\" -->\n",
              "\n",
              "<div class=\"mainbody\">\n",
              "\n",
              "<h3>Enseignements ENSAE / Teachings</h3>\n",
              "\n",
              "\n",
              "<p>\n",
              "</p><ul>\n",
              "<li>    <a href=\"app/ensae_teaching_cs/helpsphinx3/index.html\">Enseignements</a>        \n",
              "        <img src=\"app/ensae_teaching_cs/helpsphinx3/_static/project_ico.png\" width=\"15px\"/>\n",
              "        \n",
              "        <small>\n",
              "        <a href=\"app/ensae_teaching_cs/helpsphinx/index.html\">version mobile</a>\n",
              "        </small>\n",
              "        </li>\n",
              "<li><a href=\"app/ensae_teaching_cs/helpsphinx3/ci_status.html\">Modules Python pour les enseignements</a>\n",
              "    <a href=\"app/pyquickhelper/helpsphinx/index.html\"><img src=\"app/pyquickhelper/helpsphinx/_static/project_ico.png\" width=\"15px\"/></a>\n",
              "    <a href=\"app/pymyinstall/helpsphinx/index.html\"><img src=\"app/pymyinstall/helpsphinx/_static/project_ico.png\" width=\"15px\"/></a>\n",
              "    <a href=\"app/pyensae/helpsphinx/index.html\"><img src=\"app/pyensae/helpsphinx/_static/project_ico.png\" width=\"15px\"/></a>\n",
              "    <a href=\"app/jyquickhelper/helpsphinx/index.html\"><img src=\"app/jyquickhelper/helpsphinx/_static/project_ico.png\" width=\"15px\"/></a>\n",
              "    <a href=\"app/pymmails/helpsphinx/index.html\"><img src=\"app/pymmails/helpsphinx/_static/project_ico.png\" width=\"15px\"/></a>\n",
              "    <a href=\"app/pyrsslocal/helpsphinx/index.html\"><img src=\"app/pyrsslocal/helpsphinx/_static/project_ico.png\" width=\"15px\"/></a>\n",
              "    <a href=\"app/pysqllike/helpsphinx/index.html\"><img src=\"app/pysqllike/helpsphinx/_static/project_ico.png\" width=\"15px\"/></a>\n",
              "    </li>\n",
              "<li><a href=\"http://www.xavierdupre.fr/app/teachpyx/helpsphinx/c_resume/python_sheet.html\">R\u00c3\u00a9sum\u00c3\u00a9 de la syntaxe Python</a>\n",
              "    <a href=\"app/teachpyx/helpsphinx/index.html#teachpyx\"><img src=\"app/teachpyx/helpsphinx/_static/project_ico.png\" width=\"15px\"/></a>\n",
              "    (<a href=\"http://www.xavierdupre.fr/site2013/documents/python/resume_utile.pdf\">pdf non maintenu</a>)</li>\n",
              "</ul>\n",
              "<p></p>\n",
              "<p>\n",
              "</p><ul>\n",
              "<li><a href=\"app/ensae_teaching_cs/helpsphinx/td_2a.html\">Python pour un Data Scientist / Economiste</a> \n",
              "    <a href=\"app/ensae_projects/helpsphinx/index.html\"><img src=\"app/ensae_projects/helpsphinx/_static/project_ico.png\" width=\"15px\"/></a>\n",
              "    </li>\n",
              "<li><a href=\"app/actuariat_python/helpsphinx/index.html\">Python pour un Actuaire</a> \n",
              "    <a href=\"app/actuariat_python/helpsphinx/index.html\"><img src=\"app/actuariat_python/helpsphinx/_static/project_ico.png\" width=\"15px\"/></a>\n",
              "    </li>\n",
              "<li><a href=\"app/jupytalk/helpsphinx/index.html\">Talks, pr\u00c3\u00a9sentations</a>\n",
              "    <a href=\"app/jupytalk/helpsphinx/index.html#jupytalk\"><img src=\"app/jupytalk/helpsphinx/_static/project_ico.png\" width=\"15px\"/></a>\n",
              "    </li>\n",
              "<li><a href=\"app/teachpyx/helpsphinx/index.html\">Apprendre la programmation avec Python</a> \n",
              "    <a href=\"app/teachpyx/helpsphinx/index.html#teachpyx\"><img src=\"app/teachpyx/helpsphinx/_static/project_ico.png\" width=\"15px\"/></a>\n",
              "    (en construction)\n",
              "    <a href=\"site2013/index_documents.html\"><small>Versions pr\u00c3\u00a9c\u00c3\u00a9dentes PDF</small></a>\n",
              "    </li>\n",
              "<li><a href=\"app/mlstatpy/helpsphinx/index.html#mlstatpy\">Machine Learning, Statistiques et Programmation</a>\n",
              "    <a href=\"app/mlstatpy/helpsphinx/index.html#mlstatpy\"><img src=\"app/mlstatpy/helpsphinx/_static/project_ico.png\" width=\"15px\"/></a>\n",
              "    </li>\n",
              "</ul>\n",
              "<p></p>\n",
              "\n",
              "<h3>Programmation pour les enfants</h3>\n",
              "<p>\n",
              "</p><ul>\n",
              "<li><a href=\"http://lesenfantscodaient.fr/\">Les enfants codaient</a>\n",
              "    <a href=\"http://lesenfantscodaient.fr/\"><img src=\"http://lesenfantscodaient.fr/_static/project_ico.png\" width=\"15px\"/></a>\n",
              "    </li>\n",
              "</ul>\n",
              "<p></p>\n",
              "\n",
              " \n",
              "<h3>Publications</h3>\n",
              "<p>\n",
              "</p><ul>\n",
              "<li>2009 : <a href=\"http://www.editions-ellipses.fr/product_info.php?products_id=6891\">Programmation avec le langage Python aux Editions Ellipses</a> (actualisation en 2010)</li>\n",
              "<li>2004 : <a href=\"http://www.xavierdupre.fr/site2013/these/xd_these.pdf\">Th\u00c3\u00a8se : reconnaissance de l'\u00c3\u00a9criture manuscrite</a>, \n",
              "    <a href=\"http://www.xavierdupre.fr/site2013/these/these.zip\">pr\u00c3\u00a9sentation anim\u00c3\u00a9e</a></li>\n",
              "<li>2004 : <a href=\"http://dl.acm.org/citation.cfm?id=1020787\">Hidden Markov models for couples of letters applied to handwriting recognition</a></li>\n",
              "</ul>\n",
              "<p></p>\n",
              "\n",
              "\n",
              "<h3>CV</h3>\n",
              "<p>\n",
              "</p><ul>\n",
              "<li><b>2017 :</b> pr\u00c3\u00a9sentation \u00c3\u00a0 Microsoft Experiences <a href=\"https://experiences17.microsoft.fr/session/5ec43c76-8b50-e711-80c2-000d3a21081a\">Deep Learning: choisir son framework et entrainer ses mod\u00c3\u00a8les dans Azure</a>\n",
              "       avec Olivier Grisel</li>\n",
              "<li><b>2017 :</b> pr\u00c3\u00a9sentation \u00c3\u00a0 la <a href=\"https://www.meshs.fr/page/algorithmes_les_nouveaux_decideurs\">Maison europ\u00c3\u00a9enne des sciences de l'homme et de la soci\u00c3\u00a9t\u00c3\u00a9</a></li>\n",
              "<li><b>2017 :</b> pr\u00c3\u00a9sentation \u00c3\u00a0 <a href=\"http://www.xavierdupre.fr/app/jupytalk/helpsphinx/2017/devoxx2017.html\">Devoxx.fr</a></li>\n",
              "<li><b>2016 :</b> organisation d'un hackathon <a href=\"http://www.xavierdupre.fr/blog/2016-12-20_nojs.html\">ENSAE / EY / La Croix-Rouge / Cr\u00c3\u00a9sus</a></li>\n",
              "<li><b>2016 :</b> participation au jury <a href=\"https://www.etalab.gouv.fr/decouvrez-la-1e-promotion-des-entrepreneurs-dinteret-general\">Entrepeneurs d'int\u00c3\u00a9r\u00c3\u00aat g\u00c3\u00a9n\u00c3\u00a9ral</a></li>\n",
              "<li><b>2016 :</b> participation \u00c3\u00a0 la <a href=\"http://blog.codeweekfrance.org/best-of-jour-2-4-bordeaux-troyes-le-touquet-vannes-paris-2/\">CodeWeek</a> au Touquet</li>\n",
              "<li><b>2016 :</b> jury et mentor au <a href=\"http://www.datasciencegame.com/\">Data Science Game</a></li>\n",
              "<li><b>2016 :</b> pr\u00c3\u00a9sentation \u00c3\u00a0 <a href=\"http://pydata.org/paris2016/schedule/\">PyData 2016</a></li>\n",
              "<li><b>2016 :</b> animation de coding go\u00c3\u00bbters avec Microsoft <a href=\"http://www.leparisien.fr/issy-les-moulineaux-92130/a-issy-les-collegiennes-passent-leurs-vacances-en-colo-numerique-22-04-2016-5737487.php\">A Issy, les coll\u00c3\u00a9giennes passent leurs vacances en \u00c2\u00ab colo \u00c2\u00bb num\u00c3\u00a9rique</a></li>\n",
              "<li><b>2015 :</b> organisation d'un hackathon <a href=\"http://www.xavierdupre.fr/blog/2016-04-14_nojs.html\">Microsoft / ENSAE / Croix-Rouge</a></li>\n",
              "<li><b>2015 :</b> invited speaker at <a href=\"http://www.datalead2015.com/\">DataLead 2015</a> in Paris</li>\n",
              "<li><b>2015 :</b> participation \u00c3\u00a0 une table ronde \u00c3\u00a0 Dunkerque \n",
              "            <a href=\"http://www.urbislemag.fr/big-data-quels-enjeux-et-quels-risques--billet-156-urbis-le-mag.html\">Big data et villes intelligentes</a>\n",
              "            (<a href=\"exposes/xd_vill_et_numerique_2015.pdf\">slides</a>)</li>\n",
              "<li><b>2015 - today :</b> intervenant, formation <a href=\"http://www.institutdesactuaires.com/gene/main.php?base=294\">Actuaire Data Scientist</a></li>\n",
              "<li><b>2015 - today :</b> animation de <a href=\"http://lesenfantscodaient.fr/\">coding go\u00c3\u00bbters</a></li>\n",
              "<li><b>2010 - today :</b> data scientist, Microsoft</li>\n",
              "<li><b>2000 - today :</b> enseignant, ENSAE</li>\n",
              "<li><a href=\"https://www.linkedin.com/in/xavier-dupr%C3%A9-780924\">profil Linkedin</a></li>\n",
              "</ul>\n",
              "<p></p>\n",
              "\n",
              "<hr/>\n",
              "<p class=\"footnotename\">Xavier Dupr\u00c3\u00a9\n",
              "</p>\n",
              "\n",
              "\n",
              "\n",
              "</div>\n",
              "\n",
              "<div class=\"rightbody\">\n",
              "\n",
              "\n",
              "<h3>Digressions</h3>\n",
              "<p>\n",
              "</p><ul>\n",
              "<li><a href=\"http://www.xavierdupre.fr/site2013/documents/book/index.html\">Livres illustr\u00c3\u00a9s</a></li>\n",
              "</ul>\n",
              "<p></p>\n",
              "\n",
              "\n",
              "\n",
              "\n",
              "</div>\n",
              "\n",
              "<script src=\"http://www.google-analytics.com/urchin.js\" type=\"text/javascript\"></script>\n",
              "<script type=\"text/javascript\">\n",
              "_uacct = \"UA-2815364-1\";\n",
              "urchinTracker();\n",
              "</script>\n",
              "\n",
              "\n",
              "\n",
              "\n",
              "</body></html>"
            ]
          },
          "execution_count": null,
          "metadata": {},
          "output_type": "execute_result"
        }
      ],
      "source": [
        "# on stock le contenu html dans la variable html\n",
        "html = r.text\n",
        "\n",
        "# on \"parse\" le html gr\u00e2ce \u00e0 la librairie beautiful soup\n",
        "soup = BeautifulSoup(html, \"html5lib\")\n",
        "\n",
        "# c'est plus \"joli\" encore que pprint et surtout, \n",
        "# il y a plein de m\u00e9thodes pour extraire les informations que l'on souhaite\n",
        "soup"
      ]
    },
    {
      "cell_type": "code",
      "execution_count": null,
      "metadata": {},
      "outputs": [
        {
          "data": {
            "text/plain": [
              "bs4.BeautifulSoup"
            ]
          },
          "execution_count": null,
          "metadata": {},
          "output_type": "execute_result"
        }
      ],
      "source": [
        "type(soup)"
      ]
    },
    {
      "cell_type": "markdown",
      "metadata": {},
      "source": [
        "_soup_ est une instance de la classe BeautifulSoup (que l'on a import\u00e9 de la librairie bs4). C'est une repr\u00e9sentation du code html avec des m\u00e9thodes pratiques, telles que __find__. __find__ permet de trouver la premi\u00e8re occurence d'une balise html qu'on lui passe. Par exemple le 1er lien de la page :"
      ]
    },
    {
      "cell_type": "code",
      "execution_count": null,
      "metadata": {},
      "outputs": [
        {
          "data": {
            "text/plain": [
              "<a href=\"https://www.linkedin.com/in/xavier-dupr%C3%A9-780924\"><img src=\"blog/documents/linkedin.png\" width=\"15\"/></a>"
            ]
          },
          "execution_count": null,
          "metadata": {},
          "output_type": "execute_result"
        }
      ],
      "source": [
        "soup.find(\"a\")"
      ]
    },
    {
      "cell_type": "markdown",
      "metadata": {},
      "source": [
        "Si on veut tous les liens, il faut utiliser __findAll__. Cela renvoie une objet qui se comporte comme une liste. On peut it\u00e9rer dessus, ou facilement le transformer en objet \"list\" (en faisant list())"
      ]
    },
    {
      "cell_type": "code",
      "execution_count": null,
      "metadata": {},
      "outputs": [
        {
          "name": "stdout",
          "output_type": "stream",
          "text": [
            "<class 'bs4.element.ResultSet'>\n"
          ]
        },
        {
          "data": {
            "text/plain": [
              "[<a href=\"https://www.linkedin.com/in/xavier-dupr%C3%A9-780924\"><img src=\"blog/documents/linkedin.png\" width=\"15\"/></a>,\n",
              " <a href=\"http://www.xavierdupre.fr/blog/xd_blog_nojs.html\">Blog</a>,\n",
              " <a href=\"blog/xdbrss.xml\"><img src=\"blog/documents/feed-icon-16x16.png\"/></a>,\n",
              " <a href=\"app/ensae_teaching_cs/helpsphinx3/index.html\" style=\"padding:5px;\"><img src=\"app/ensae_teaching_cs/helpsphinx/_static/project_ico.png\" width=\"40px\"/></a>,\n",
              " <a href=\"app/actuariat_python/helpsphinx/index.html\" style=\"padding:5px;\"><img src=\"app/actuariat_python/helpsphinx/_static/project_ico.png\" width=\"40px\"/></a>,\n",
              " <a href=\"app/ensae_projects/helpsphinx/index.html\" style=\"padding:5px;\"><img src=\"app/ensae_projects/helpsphinx/_static/project_ico.png\" width=\"40px\"/></a>,\n",
              " <a href=\"app/jupytalk/helpsphinx/index.html#jupytalk\" style=\"padding:5px;\"><img src=\"app/jupytalk/helpsphinx/_static/project_ico.png\" width=\"40px\"/></a>,\n",
              " <a href=\"http://lesenfantscodaient.fr/\" style=\"padding:5px;\"><img src=\"http://lesenfantscodaient.fr/_static/project_ico.png\" width=\"40px\"/></a>,\n",
              " <a href=\"app/mlstatpy/helpsphinx/index.html#mlstatpy\" style=\"padding:5px;\"><img src=\"app/mlstatpy/helpsphinx/_static/project_ico.png\" width=\"40px\"/></a>,\n",
              " <a href=\"app/teachpyx/helpsphinx/index.html#teachpyx\" style=\"padding:5px;\"><img src=\"app/teachpyx/helpsphinx/_static/project_ico.png\" width=\"40px\"/></a>,\n",
              " <a href=\"app/pyquickhelper/helpsphinx/index.html\" style=\"padding:5px;\"><img src=\"app/pyquickhelper/helpsphinx/_static/project_ico.png\" width=\"40px\"/></a>,\n",
              " <a href=\"app/pymyinstall/helpsphinx/index.html\" style=\"padding:5px;\"><img src=\"app/pymyinstall/helpsphinx/_static/project_ico.png\" width=\"40px\"/></a>,\n",
              " <a href=\"app/pyensae/helpsphinx/index.html\" style=\"padding:5px;\"><img src=\"app/pyensae/helpsphinx/_static/project_ico.png\" width=\"40px\"/></a>,\n",
              " <a href=\"app/jyquickhelper/helpsphinx/index.html\" style=\"padding:5px;\"><img src=\"app/jyquickhelper/helpsphinx/_static/project_ico.png\" width=\"40px\"/></a>,\n",
              " <a href=\"app/cpyquickhelper/helpsphinx/index.html\" style=\"padding:5px;\"><img src=\"app/cpyquickhelper/helpsphinx/_static/project_ico.png\" width=\"40px\"/></a>,\n",
              " <a href=\"app/pandas_streaming/helpsphinx/index.html\" style=\"padding:5px;\"><img src=\"app/pandas_streaming/helpsphinx/_static/project_ico.png\" width=\"40px\"/></a>,\n",
              " <a href=\"app/pymmails/helpsphinx/index.html\" style=\"padding:5px;\"><img src=\"app/pymmails/helpsphinx/_static/project_ico.png\" width=\"40px\"/></a>,\n",
              " <a href=\"app/pyrsslocal/helpsphinx/index.html\" style=\"padding:5px;\"><img src=\"app/pyrsslocal/helpsphinx/_static/project_ico.png\" width=\"40px\"/></a>,\n",
              " <a href=\"app/pysqllike/helpsphinx/index.html\" style=\"padding:5px;\"><img src=\"app/pysqllike/helpsphinx/_static/project_ico.png\" width=\"40px\"/></a>,\n",
              " <a href=\"app/tkinterquickhelper/helpsphinx/index.html\" style=\"padding:5px;\"><img src=\"app/tkinterquickhelper/helpsphinx/_static/project_ico.png\" width=\"40px\"/></a>,\n",
              " <a href=\"app/python3_module_template/helpsphinx/index.html\" style=\"padding:5px;\"><img src=\"app/python3_module_template/helpsphinx/_static/project_ico.png\" width=\"40px\"/></a>,\n",
              " <a href=\"app/python3_module_template/helpsphinx2/index.html\" style=\"padding:5px;\"><img src=\"app/python3_module_template/helpsphinx2/_static/project_ico.png\" width=\"40px\"/></a>,\n",
              " <a href=\"app/ensae_teaching_cs/helpsphinx3/index.html\">Enseignements</a>,\n",
              " <a href=\"app/ensae_teaching_cs/helpsphinx/index.html\">version mobile</a>,\n",
              " <a href=\"app/ensae_teaching_cs/helpsphinx3/ci_status.html\">Modules Python pour les enseignements</a>,\n",
              " <a href=\"app/pyquickhelper/helpsphinx/index.html\"><img src=\"app/pyquickhelper/helpsphinx/_static/project_ico.png\" width=\"15px\"/></a>,\n",
              " <a href=\"app/pymyinstall/helpsphinx/index.html\"><img src=\"app/pymyinstall/helpsphinx/_static/project_ico.png\" width=\"15px\"/></a>,\n",
              " <a href=\"app/pyensae/helpsphinx/index.html\"><img src=\"app/pyensae/helpsphinx/_static/project_ico.png\" width=\"15px\"/></a>,\n",
              " <a href=\"app/jyquickhelper/helpsphinx/index.html\"><img src=\"app/jyquickhelper/helpsphinx/_static/project_ico.png\" width=\"15px\"/></a>,\n",
              " <a href=\"app/pymmails/helpsphinx/index.html\"><img src=\"app/pymmails/helpsphinx/_static/project_ico.png\" width=\"15px\"/></a>,\n",
              " <a href=\"app/pyrsslocal/helpsphinx/index.html\"><img src=\"app/pyrsslocal/helpsphinx/_static/project_ico.png\" width=\"15px\"/></a>,\n",
              " <a href=\"app/pysqllike/helpsphinx/index.html\"><img src=\"app/pysqllike/helpsphinx/_static/project_ico.png\" width=\"15px\"/></a>,\n",
              " <a href=\"http://www.xavierdupre.fr/app/teachpyx/helpsphinx/c_resume/python_sheet.html\">R\u00c3\u00a9sum\u00c3\u00a9 de la syntaxe Python</a>,\n",
              " <a href=\"app/teachpyx/helpsphinx/index.html#teachpyx\"><img src=\"app/teachpyx/helpsphinx/_static/project_ico.png\" width=\"15px\"/></a>,\n",
              " <a href=\"http://www.xavierdupre.fr/site2013/documents/python/resume_utile.pdf\">pdf non maintenu</a>,\n",
              " <a href=\"app/ensae_teaching_cs/helpsphinx/td_2a.html\">Python pour un Data Scientist / Economiste</a>,\n",
              " <a href=\"app/ensae_projects/helpsphinx/index.html\"><img src=\"app/ensae_projects/helpsphinx/_static/project_ico.png\" width=\"15px\"/></a>,\n",
              " <a href=\"app/actuariat_python/helpsphinx/index.html\">Python pour un Actuaire</a>,\n",
              " <a href=\"app/actuariat_python/helpsphinx/index.html\"><img src=\"app/actuariat_python/helpsphinx/_static/project_ico.png\" width=\"15px\"/></a>,\n",
              " <a href=\"app/jupytalk/helpsphinx/index.html\">Talks, pr\u00c3\u00a9sentations</a>,\n",
              " <a href=\"app/jupytalk/helpsphinx/index.html#jupytalk\"><img src=\"app/jupytalk/helpsphinx/_static/project_ico.png\" width=\"15px\"/></a>,\n",
              " <a href=\"app/teachpyx/helpsphinx/index.html\">Apprendre la programmation avec Python</a>,\n",
              " <a href=\"app/teachpyx/helpsphinx/index.html#teachpyx\"><img src=\"app/teachpyx/helpsphinx/_static/project_ico.png\" width=\"15px\"/></a>,\n",
              " <a href=\"site2013/index_documents.html\"><small>Versions pr\u00c3\u00a9c\u00c3\u00a9dentes PDF</small></a>,\n",
              " <a href=\"app/mlstatpy/helpsphinx/index.html#mlstatpy\">Machine Learning, Statistiques et Programmation</a>,\n",
              " <a href=\"app/mlstatpy/helpsphinx/index.html#mlstatpy\"><img src=\"app/mlstatpy/helpsphinx/_static/project_ico.png\" width=\"15px\"/></a>,\n",
              " <a href=\"http://lesenfantscodaient.fr/\">Les enfants codaient</a>,\n",
              " <a href=\"http://lesenfantscodaient.fr/\"><img src=\"http://lesenfantscodaient.fr/_static/project_ico.png\" width=\"15px\"/></a>,\n",
              " <a href=\"http://www.editions-ellipses.fr/product_info.php?products_id=6891\">Programmation avec le langage Python aux Editions Ellipses</a>,\n",
              " <a href=\"http://www.xavierdupre.fr/site2013/these/xd_these.pdf\">Th\u00c3\u00a8se : reconnaissance de l'\u00c3\u00a9criture manuscrite</a>,\n",
              " <a href=\"http://www.xavierdupre.fr/site2013/these/these.zip\">pr\u00c3\u00a9sentation anim\u00c3\u00a9e</a>,\n",
              " <a href=\"http://dl.acm.org/citation.cfm?id=1020787\">Hidden Markov models for couples of letters applied to handwriting recognition</a>,\n",
              " <a href=\"https://experiences17.microsoft.fr/session/5ec43c76-8b50-e711-80c2-000d3a21081a\">Deep Learning: choisir son framework et entrainer ses mod\u00c3\u00a8les dans Azure</a>,\n",
              " <a href=\"https://www.meshs.fr/page/algorithmes_les_nouveaux_decideurs\">Maison europ\u00c3\u00a9enne des sciences de l'homme et de la soci\u00c3\u00a9t\u00c3\u00a9</a>,\n",
              " <a href=\"http://www.xavierdupre.fr/app/jupytalk/helpsphinx/2017/devoxx2017.html\">Devoxx.fr</a>,\n",
              " <a href=\"http://www.xavierdupre.fr/blog/2016-12-20_nojs.html\">ENSAE / EY / La Croix-Rouge / Cr\u00c3\u00a9sus</a>,\n",
              " <a href=\"https://www.etalab.gouv.fr/decouvrez-la-1e-promotion-des-entrepreneurs-dinteret-general\">Entrepeneurs d'int\u00c3\u00a9r\u00c3\u00aat g\u00c3\u00a9n\u00c3\u00a9ral</a>,\n",
              " <a href=\"http://blog.codeweekfrance.org/best-of-jour-2-4-bordeaux-troyes-le-touquet-vannes-paris-2/\">CodeWeek</a>,\n",
              " <a href=\"http://www.datasciencegame.com/\">Data Science Game</a>,\n",
              " <a href=\"http://pydata.org/paris2016/schedule/\">PyData 2016</a>,\n",
              " <a href=\"http://www.leparisien.fr/issy-les-moulineaux-92130/a-issy-les-collegiennes-passent-leurs-vacances-en-colo-numerique-22-04-2016-5737487.php\">A Issy, les coll\u00c3\u00a9giennes passent leurs vacances en \u00c2\u00ab colo \u00c2\u00bb num\u00c3\u00a9rique</a>,\n",
              " <a href=\"http://www.xavierdupre.fr/blog/2016-04-14_nojs.html\">Microsoft / ENSAE / Croix-Rouge</a>,\n",
              " <a href=\"http://www.datalead2015.com/\">DataLead 2015</a>,\n",
              " <a href=\"http://www.urbislemag.fr/big-data-quels-enjeux-et-quels-risques--billet-156-urbis-le-mag.html\">Big data et villes intelligentes</a>,\n",
              " <a href=\"exposes/xd_vill_et_numerique_2015.pdf\">slides</a>,\n",
              " <a href=\"http://www.institutdesactuaires.com/gene/main.php?base=294\">Actuaire Data Scientist</a>,\n",
              " <a href=\"http://lesenfantscodaient.fr/\">coding go\u00c3\u00bbters</a>,\n",
              " <a href=\"https://www.linkedin.com/in/xavier-dupr%C3%A9-780924\">profil Linkedin</a>,\n",
              " <a href=\"http://www.xavierdupre.fr/site2013/documents/book/index.html\">Livres illustr\u00c3\u00a9s</a>]"
            ]
          },
          "execution_count": null,
          "metadata": {},
          "output_type": "execute_result"
        }
      ],
      "source": [
        "print(type(soup.findAll(\"a\")))\n",
        "soup.findAll(\"a\")"
      ]
    },
    {
      "cell_type": "markdown",
      "metadata": {},
      "source": [
        "On peut s\u00e9lectionner des tags qui ont certains attributs css. Par exemple ici, on peut vouloir seulement les liens internes du site. Ils ont la classe \"internal\". Les autres \"external\"."
      ]
    },
    {
      "cell_type": "code",
      "execution_count": null,
      "metadata": {},
      "outputs": [
        {
          "data": {
            "text/plain": [
              "[]"
            ]
          },
          "execution_count": null,
          "metadata": {},
          "output_type": "execute_result"
        }
      ],
      "source": [
        "list(soup.findAll(\"a\", {\"class\": \"internal\"}))"
      ]
    },
    {
      "cell_type": "markdown",
      "metadata": {},
      "source": [
        "Ce n'est pas toujours comme \u00e7a, la plupart du temps, il faudra la forme de la valeur de l'attribut href. les liens externes pourront etre identifi\u00e9s parce qu'ils sont absolus (on indique l'ensemble du lien comme href=\"https://docs.python.org/3/reference/expressions.html etc. et non pas un lien relatif comme href=\"../c_exception/exception.html ('..' signifie \"le r\u00e9pertoire parent)."
      ]
    },
    {
      "cell_type": "markdown",
      "metadata": {},
      "source": [
        "On peut lister toutes les balises h1 et h2 de cette page, en une ligne."
      ]
    },
    {
      "cell_type": "code",
      "execution_count": null,
      "metadata": {},
      "outputs": [
        {
          "data": {
            "text/plain": [
              "[<h1>Xavier Dupr\u00c3\u00a9\n",
              " <a href=\"https://www.linkedin.com/in/xavier-dupr%C3%A9-780924\"><img src=\"blog/documents/linkedin.png\" width=\"15\"/></a>\n",
              " <font size=\"4\"><a href=\"http://www.xavierdupre.fr/blog/xd_blog_nojs.html\">Blog</a></font>\n",
              " <a href=\"blog/xdbrss.xml\"><img src=\"blog/documents/feed-icon-16x16.png\"/></a>\n",
              " </h1>]"
            ]
          },
          "execution_count": null,
          "metadata": {},
          "output_type": "execute_result"
        }
      ],
      "source": [
        "list(soup.findAll({\"h1\", \"h2\"}))"
      ]
    },
    {
      "cell_type": "markdown",
      "metadata": {},
      "source": [
        "Naviguer vers les enfants"
      ]
    },
    {
      "cell_type": "code",
      "execution_count": null,
      "metadata": {},
      "outputs": [
        {
          "data": {
            "text/plain": [
              "<a href=\"https://www.linkedin.com/in/xavier-dupr%C3%A9-780924\"><img src=\"blog/documents/linkedin.png\" width=\"15\"/></a>"
            ]
          },
          "execution_count": null,
          "metadata": {},
          "output_type": "execute_result"
        }
      ],
      "source": [
        "h1 = soup.find(\"h1\")\n",
        "child = h1.a if h1 else None\n",
        "child if child else \"vide\""
      ]
    },
    {
      "cell_type": "markdown",
      "metadata": {},
      "source": [
        "Retrouver le parent"
      ]
    },
    {
      "cell_type": "code",
      "execution_count": null,
      "metadata": {},
      "outputs": [
        {
          "data": {
            "text/plain": [
              "<h1>Xavier Dupr\u00c3\u00a9\n",
              "<a href=\"https://www.linkedin.com/in/xavier-dupr%C3%A9-780924\"><img src=\"blog/documents/linkedin.png\" width=\"15\"/></a>\n",
              "<font size=\"4\"><a href=\"http://www.xavierdupre.fr/blog/xd_blog_nojs.html\">Blog</a></font>\n",
              "<a href=\"blog/xdbrss.xml\"><img src=\"blog/documents/feed-icon-16x16.png\"/></a>\n",
              "</h1>"
            ]
          },
          "execution_count": null,
          "metadata": {},
          "output_type": "execute_result"
        }
      ],
      "source": [
        "child.parent"
      ]
    },
    {
      "cell_type": "markdown",
      "metadata": {},
      "source": [
        "R\u00e9cup\u00e9rer tous les enfants"
      ]
    },
    {
      "cell_type": "code",
      "execution_count": null,
      "metadata": {},
      "outputs": [
        {
          "data": {
            "text/plain": [
              "[<a href=\"https://www.linkedin.com/in/xavier-dupr%C3%A9-780924\"><img src=\"blog/documents/linkedin.png\" width=\"15\"/></a>,\n",
              " <a href=\"http://www.xavierdupre.fr/blog/xd_blog_nojs.html\">Blog</a>,\n",
              " <a href=\"blog/xdbrss.xml\"><img src=\"blog/documents/feed-icon-16x16.png\"/></a>]"
            ]
          },
          "execution_count": null,
          "metadata": {},
          "output_type": "execute_result"
        }
      ],
      "source": [
        "children = soup.find(\"h1\").findAll(\"a\")\n",
        "children"
      ]
    },
    {
      "cell_type": "markdown",
      "metadata": {},
      "source": [
        "R\u00e9cup\u00e9rer les attributs des \u00e9l\u00e9ments html"
      ]
    },
    {
      "cell_type": "code",
      "execution_count": null,
      "metadata": {},
      "outputs": [
        {
          "data": {
            "text/plain": [
              "[{'href': 'https://www.linkedin.com/in/xavier-dupr%C3%A9-780924'},\n",
              " {'href': 'http://www.xavierdupre.fr/blog/xd_blog_nojs.html'},\n",
              " {'href': 'blog/xdbrss.xml'}]"
            ]
          },
          "execution_count": null,
          "metadata": {},
          "output_type": "execute_result"
        }
      ],
      "source": [
        "[c.attrs for c in children]"
      ]
    },
    {
      "cell_type": "markdown",
      "metadata": {},
      "source": [
        "Acc\u00e9der \u00e0 la valeur d'un attribut en particulier"
      ]
    },
    {
      "cell_type": "code",
      "execution_count": null,
      "metadata": {},
      "outputs": [
        {
          "data": {
            "text/plain": [
              "['https://www.linkedin.com/in/xavier-dupr%C3%A9-780924',\n",
              " 'http://www.xavierdupre.fr/blog/xd_blog_nojs.html',\n",
              " 'blog/xdbrss.xml']"
            ]
          },
          "execution_count": null,
          "metadata": {},
          "output_type": "execute_result"
        }
      ],
      "source": [
        "[c.attrs['href'] for c in children]"
      ]
    },
    {
      "cell_type": "markdown",
      "metadata": {},
      "source": [
        "Jusqu'ici, on passe syst\u00e9matiquement par une balise html. Comment faire si on veut r\u00e9cup\u00e9rer les \u00e9lements qui ont une class css, quelle que soit la balise html ?"
      ]
    },
    {
      "cell_type": "code",
      "execution_count": null,
      "metadata": {},
      "outputs": [
        {
          "data": {
            "text/plain": [
              "[]"
            ]
          },
          "execution_count": null,
          "metadata": {},
          "output_type": "execute_result"
        }
      ],
      "source": [
        "internals = soup.findAll(\"\", {\"class\": \"internal\"})\n",
        "internals"
      ]
    },
    {
      "cell_type": "markdown",
      "metadata": {},
      "source": [
        "On a presque fini de passer en revue la librairie. Il reste la notion de \"sibling\", pratique pour parcourir un tableau. nextSibling : permet de r\u00e9cup\u00e9rer l'\u00e9l\u00e9ment html suivant et \"de m\u00eame niveau\" dans l'arbre (le prochain fr\u00e8re), previousSibling, le pr\u00e9c\u00e9dent. findChildren permet de trouver tous les enfants."
      ]
    },
    {
      "cell_type": "markdown",
      "metadata": {},
      "source": [
        "Enfin la m\u00e9thode \"get_text()\" pour r\u00e9cup\u00e9rer le contenu des balises html. A appliquer en dernier ! En effet, une fois appliquer, on perd toute trace \u00e0 l'arbre html. SI vous voulez aller plus loin, la doc est bien faite : https://www.crummy.com/software/BeautifulSoup/bs4/doc/"
      ]
    },
    {
      "cell_type": "markdown",
      "metadata": {},
      "source": [
        "### Exercice 5"
      ]
    },
    {
      "cell_type": "markdown",
      "metadata": {},
      "source": [
        "R\u00e9cup\u00e9rer le contenu des code snippets de la page : http://www.xavierdupre.fr/app/teachpyx/helpsphinx/c_lang/types.html"
      ]
    },
    {
      "cell_type": "markdown",
      "metadata": {},
      "source": [
        "### Exercice 6"
      ]
    },
    {
      "cell_type": "markdown",
      "metadata": {},
      "source": [
        "R\u00e9cup\u00e9rer la 3\u00e8me colonne (intitul\u00e9e \"exemples\") du tableau des op\u00e9rateurs : http://www.xavierdupre.fr/app/teachpyx/helpsphinx/c_lang/types.html"
      ]
    },
    {
      "cell_type": "markdown",
      "metadata": {},
      "source": [
        "Astuce : explorer les CSS selectors : https://www.crummy.com/software/BeautifulSoup/bs4/doc/."
      ]
    },
    {
      "cell_type": "markdown",
      "metadata": {},
      "source": [
        "### Exercice 7"
      ]
    },
    {
      "cell_type": "markdown",
      "metadata": {},
      "source": [
        "R\u00e9cup\u00e9rer le contenu des titres (h1, h2, h3, etc.) et des balise p de l'ensemble des liens de notre liste et compter le nombre d'occurences du mot python, et la porportion que cela repr\u00e9sente dans l'ensemble des mots"
      ]
    },
    {
      "cell_type": "code",
      "execution_count": null,
      "metadata": {
        "collapsed": true
      },
      "outputs": [],
      "source": []
    },
    {
      "cell_type": "code",
      "execution_count": null,
      "metadata": {
        "collapsed": true
      },
      "outputs": [],
      "source": []
    }
  ],
  "metadata": {
    "anaconda-cloud": {},
    "kernelspec": {
      "display_name": "Python 3",
      "language": "python",
      "name": "python3"
    },
    "language_info": {
      "codemirror_mode": {
        "name": "ipython",
        "version": 3
      },
      "file_extension": ".py",
      "mimetype": "text/x-python",
      "name": "python",
      "nbconvert_exporter": "python",
      "pygments_lexer": "ipython3",
      "version": "3.6.1"
    }
  },
  "nbformat": 4,
  "nbformat_minor": 1
}