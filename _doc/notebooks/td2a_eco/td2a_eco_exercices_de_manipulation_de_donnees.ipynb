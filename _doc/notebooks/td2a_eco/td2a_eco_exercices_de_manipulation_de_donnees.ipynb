{
  "cells": [
    {
      "cell_type": "markdown",
      "metadata": {},
      "source": [
        "# TD 3 - Mise en pratique des s\u00e9ances 1 et 2 - Utilisation de pandas et visualisation"
      ]
    },
    {
      "cell_type": "code",
      "execution_count": null,
      "metadata": {},
      "outputs": [
        {
          "data": {
            "text/html": [
              "<div id=\"my_id_menu_nb\">run previous cell, wait for 2 seconds</div>\n",
              "<script>\n",
              "function repeat_indent_string(n){\n",
              "    var a = \"\" ;\n",
              "    for ( ; n > 0 ; --n)\n",
              "        a += \"    \";\n",
              "    return a;\n",
              "}\n",
              "var update_menu_string = function(begin, lfirst, llast, sformat, send, keep_item, begin_format, end_format) {\n",
              "    var anchors = document.getElementsByClassName(\"section\");\n",
              "    if (anchors.length == 0) {\n",
              "        anchors = document.getElementsByClassName(\"text_cell_render rendered_html\");\n",
              "    }\n",
              "    var i,t;\n",
              "    var text_menu = begin;\n",
              "    var text_memo = \"<pre>\\nlength:\" + anchors.length + \"\\n\";\n",
              "    var ind = \"\";\n",
              "    var memo_level = 1;\n",
              "    var href;\n",
              "    var tags = [];\n",
              "    var main_item = 0;\n",
              "    var format_open = 0;\n",
              "    for (i = 0; i <= llast; i++)\n",
              "        tags.push(\"h\" + i);\n",
              "\n",
              "    for (i = 0; i < anchors.length; i++) {\n",
              "        text_memo += \"**\" + anchors[i].id + \"--\\n\";\n",
              "\n",
              "        var child = null;\n",
              "        for(t = 0; t < tags.length; t++) {\n",
              "            var r = anchors[i].getElementsByTagName(tags[t]);\n",
              "            if (r.length > 0) {\n",
              "child = r[0];\n",
              "break;\n",
              "            }\n",
              "        }\n",
              "        if (child == null) {\n",
              "            text_memo += \"null\\n\";\n",
              "            continue;\n",
              "        }\n",
              "        if (anchors[i].hasAttribute(\"id\")) {\n",
              "            // when converted in RST\n",
              "            href = anchors[i].id;\n",
              "            text_memo += \"#1-\" + href;\n",
              "            // passer \u00e0 child suivant (le chercher)\n",
              "        }\n",
              "        else if (child.hasAttribute(\"id\")) {\n",
              "            // in a notebook\n",
              "            href = child.id;\n",
              "            text_memo += \"#2-\" + href;\n",
              "        }\n",
              "        else {\n",
              "            text_memo += \"#3-\" + \"*\" + \"\\n\";\n",
              "            continue;\n",
              "        }\n",
              "        var title = child.textContent;\n",
              "        var level = parseInt(child.tagName.substring(1,2));\n",
              "\n",
              "        text_memo += \"--\" + level + \"?\" + lfirst + \"--\" + title + \"\\n\";\n",
              "\n",
              "        if ((level < lfirst) || (level > llast)) {\n",
              "            continue ;\n",
              "        }\n",
              "        if (title.endsWith('\u00b6')) {\n",
              "            title = title.substring(0,title.length-1).replace(\"<\", \"&lt;\")\n",
              "         .replace(\">\", \"&gt;\").replace(\"&\", \"&amp;\");\n",
              "        }\n",
              "        if (title.length == 0) {\n",
              "            continue;\n",
              "        }\n",
              "\n",
              "        while (level < memo_level) {\n",
              "            text_menu += end_format + \"</ul>\\n\";\n",
              "            format_open -= 1;\n",
              "            memo_level -= 1;\n",
              "        }\n",
              "        if (level == lfirst) {\n",
              "            main_item += 1;\n",
              "        }\n",
              "        if (keep_item != -1 && main_item != keep_item + 1) {\n",
              "            // alert(main_item + \" - \" + level + \" - \" + keep_item);\n",
              "            continue;\n",
              "        }\n",
              "        while (level > memo_level) {\n",
              "            text_menu += \"<ul>\\n\";\n",
              "            memo_level += 1;\n",
              "        }\n",
              "        text_menu += repeat_indent_string(level-2);\n",
              "        text_menu += begin_format + sformat.replace(\"__HREF__\", href).replace(\"__TITLE__\", title);\n",
              "        format_open += 1;\n",
              "    }\n",
              "    while (1 < memo_level) {\n",
              "        text_menu += end_format + \"</ul>\\n\";\n",
              "        memo_level -= 1;\n",
              "        format_open -= 1;\n",
              "    }\n",
              "    text_menu += send;\n",
              "    //text_menu += \"\\n\" + text_memo;\n",
              "\n",
              "    while (format_open > 0) {\n",
              "        text_menu += end_format;\n",
              "        format_open -= 1;\n",
              "    }\n",
              "    return text_menu;\n",
              "};\n",
              "var update_menu = function() {\n",
              "    var sbegin = \"\";\n",
              "    var sformat = '<a href=\"#__HREF__\">__TITLE__</a>';\n",
              "    var send = \"\";\n",
              "    var begin_format = '<li>';\n",
              "    var end_format = '</li>';\n",
              "    var keep_item = -1;\n",
              "    var text_menu = update_menu_string(sbegin, 2, 4, sformat, send, keep_item,\n",
              "       begin_format, end_format);\n",
              "    var menu = document.getElementById(\"my_id_menu_nb\");\n",
              "    menu.innerHTML=text_menu;\n",
              "};\n",
              "window.setTimeout(update_menu,2000);\n",
              "            </script>"
            ],
            "text/plain": [
              "<IPython.core.display.HTML object>"
            ]
          },
          "execution_count": null,
          "metadata": {},
          "output_type": "execute_result"
        }
      ],
      "source": [
        "from jyquickhelper import add_notebook_menu\n",
        "add_notebook_menu()"
      ]
    },
    {
      "cell_type": "markdown",
      "metadata": {},
      "source": [
        "## Donn\u00e9es\n",
        "\n",
        "Les donn\u00e9es sont t\u00e9l\u00e9chargeables \u00e0 cette adresse : [td2a_eco_exercices_de_manipulation_de_donnees.zip](https://github.com/sdpython/ensae_teaching_cs/raw/master/_doc/notebooks/td2a_eco/data/td2a_eco_exercices_de_manipulation_de_donnees.zip). Le code suivant permet de les t\u00e9l\u00e9charger automatiquement."
      ]
    },
    {
      "cell_type": "code",
      "execution_count": null,
      "metadata": {},
      "outputs": [
        {
          "data": {
            "text/plain": [
              "['.\\\\Players_WC2014.xlsx',\n",
              " '.\\\\velib_t1.txt',\n",
              " '.\\\\velib_t2.txt',\n",
              " '.\\\\villes.txt']"
            ]
          },
          "execution_count": null,
          "metadata": {},
          "output_type": "execute_result"
        }
      ],
      "source": [
        "from pyensae.datasource import download_data\n",
        "files = download_data(\"td2a_eco_exercices_de_manipulation_de_donnees.zip\",\n",
        "                      url=\"https://github.com/sdpython/ensae_teaching_cs/raw/master/_doc/notebooks/td2a_eco/data/\")\n",
        "files"
      ]
    },
    {
      "cell_type": "markdown",
      "metadata": {},
      "source": [
        "## Exercice 1 - manipulation des textes\n",
        "\n",
        "Dur\u00e9e : 20 minutes\n",
        "\n",
        "1. Importer la base de donn\u00e9es relatives aux joueurs de la Coupe du Monde 2014 >> `Players_WC2014.xlsx`\n",
        "2. D\u00e9terminer le nombre de joueurs dans chaque \u00e9quipe et cr\u00e9er un dictionnaire { \u00e9quipe : Nombre de joueurs}\n",
        "3. D\u00e9terminer quels sont les 3 joueurs qui ont couvert le plus de distance. Y a t il un biais de s\u00e9lection ?\n",
        "4. Parmis les joueurs qui sont dans le premier d\u00e9cile des joueurs plus rapides, qui a pass\u00e9 le plus clair de son temps \u00e0 courrir sans la balle ?"
      ]
    },
    {
      "cell_type": "markdown",
      "metadata": {},
      "source": [
        "## Exercice 2 - Les villes\n",
        "\n",
        "Dur\u00e9e : 40 minutes\n",
        "\n",
        "1. Importer la base des villes villes.xls\n",
        "2. Les noms de variables et les observations contiennent des espaces inutiles (exemple : 'MAJ   ') : commnecer par nettoyer l'ensemble des chaines de caract\u00e8res (\u00e0 la fois dans les noms de colonnes et dans les observations)\n",
        "3. Trouver le nombre de codes INSEE diff\u00e9rents (attention aux doublons)\n",
        "4. Comment calculer rapidement la moyenne, le nombre et le maximum pour chaque variable num\u00e9rique ? (une ligne de code)\n",
        "5. Compter le nombre de villes dans chaque Region et en faire un dictionnaire o\u00f9 la cl\u00e9 est la r\u00e9gion et la valeur le nombre de villes\n",
        "6. Repr\u00e9senter les communes en utilisant  \n",
        "\n",
        "    * matplotlib   \n",
        "    * une librairie de cartographie (ex : folium) "
      ]
    },
    {
      "cell_type": "markdown",
      "metadata": {},
      "source": [
        "## Exercice 3 - Disponibilit\u00e9 des v\u00e9libs\n",
        "\n",
        "Dur\u00e9e : 30 minutes\n",
        "\n",
        "1. Importer les donn\u00e9es sous la forme d'un dataFrame \n",
        "\n",
        "    - `velib_t1.txt` - avec les donn\u00e9es des stations \u00e0 un instant $t$\n",
        "    - `velib_t2.txt` - avec les donn\u00e9es des stations \u00e0 un instant $t + 1$\n",
        "\n",
        "2. Repr\u00e9senter la localisation des stations v\u00e9lib dans Paris\n",
        "\n",
        "    - repr\u00e9senter les stations en fonction du nombre de places avec un gradient\n",
        "\n",
        "3. Comparer pour une station donn\u00e9e l'\u00e9volution de la disponibilit\u00e9 (en fusionnant les deux bases $t$ et $t+1$)\n",
        "\n",
        "    - repr\u00e9senter les stations qui ont connu une \u00e9volution significative (plus de 5 changements) avec un gradient de couleurs "
      ]
    },
    {
      "cell_type": "code",
      "execution_count": null,
      "metadata": {
        "collapsed": true
      },
      "outputs": [],
      "source": []
    }
  ],
  "metadata": {
    "kernelspec": {
      "display_name": "Python 3",
      "language": "python",
      "name": "python3"
    },
    "language_info": {
      "codemirror_mode": {
        "name": "ipython",
        "version": 3
      },
      "file_extension": ".py",
      "mimetype": "text/x-python",
      "name": "python",
      "nbconvert_exporter": "python",
      "pygments_lexer": "ipython3",
      "version": "3.6.1"
    }
  },
  "nbformat": 4,
  "nbformat_minor": 2
}