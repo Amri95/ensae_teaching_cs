{
  "cells": [
    {
      "cell_type": "markdown",
      "metadata": {},
      "source": [
        "# 2A.eco - Exercice API SNCF corrig\u00e9\n",
        "\n",
        "Manipulation d'une [API REST](https://fr.wikipedia.org/wiki/Representational_state_transfer), celle de la SNCF est prise comme exemple. Correction d'exercices."
      ]
    },
    {
      "cell_type": "code",
      "execution_count": 1,
      "metadata": {
        "ExecuteTime": {
          "end_time": "2016-10-31T22:28:01.178979",
          "start_time": "2016-10-31T22:28:01.147978"
        },
        "scrolled": true
      },
      "outputs": [
        {
          "data": {
            "text/html": [
              "<div id=\"my_id_menu_nb\">run previous cell, wait for 2 seconds</div>\n",
              "<script>\n",
              "function repeat_indent_string(n){\n",
              "    var a = \"\" ;\n",
              "    for ( ; n > 0 ; --n)\n",
              "        a += \"    \";\n",
              "    return a;\n",
              "}\n",
              "var update_menu_string = function(begin, lfirst, llast, sformat, send, keep_item, begin_format, end_format) {\n",
              "    var anchors = document.getElementsByClassName(\"section\");\n",
              "    if (anchors.length == 0) {\n",
              "        anchors = document.getElementsByClassName(\"text_cell_render rendered_html\");\n",
              "    }\n",
              "    var i,t;\n",
              "    var text_menu = begin;\n",
              "    var text_memo = \"<pre>\\nlength:\" + anchors.length + \"\\n\";\n",
              "    var ind = \"\";\n",
              "    var memo_level = 1;\n",
              "    var href;\n",
              "    var tags = [];\n",
              "    var main_item = 0;\n",
              "    var format_open = 0;\n",
              "    for (i = 0; i <= llast; i++)\n",
              "        tags.push(\"h\" + i);\n",
              "\n",
              "    for (i = 0; i < anchors.length; i++) {\n",
              "        text_memo += \"**\" + anchors[i].id + \"--\\n\";\n",
              "\n",
              "        var child = null;\n",
              "        for(t = 0; t < tags.length; t++) {\n",
              "            var r = anchors[i].getElementsByTagName(tags[t]);\n",
              "            if (r.length > 0) {\n",
              "child = r[0];\n",
              "break;\n",
              "            }\n",
              "        }\n",
              "        if (child == null) {\n",
              "            text_memo += \"null\\n\";\n",
              "            continue;\n",
              "        }\n",
              "        if (anchors[i].hasAttribute(\"id\")) {\n",
              "            // when converted in RST\n",
              "            href = anchors[i].id;\n",
              "            text_memo += \"#1-\" + href;\n",
              "            // passer \u00e0 child suivant (le chercher)\n",
              "        }\n",
              "        else if (child.hasAttribute(\"id\")) {\n",
              "            // in a notebook\n",
              "            href = child.id;\n",
              "            text_memo += \"#2-\" + href;\n",
              "        }\n",
              "        else {\n",
              "            text_memo += \"#3-\" + \"*\" + \"\\n\";\n",
              "            continue;\n",
              "        }\n",
              "        var title = child.textContent;\n",
              "        var level = parseInt(child.tagName.substring(1,2));\n",
              "\n",
              "        text_memo += \"--\" + level + \"?\" + lfirst + \"--\" + title + \"\\n\";\n",
              "\n",
              "        if ((level < lfirst) || (level > llast)) {\n",
              "            continue ;\n",
              "        }\n",
              "        if (title.endsWith('\u00b6')) {\n",
              "            title = title.substring(0,title.length-1).replace(\"<\", \"&lt;\")\n",
              "         .replace(\">\", \"&gt;\").replace(\"&\", \"&amp;\");\n",
              "        }\n",
              "        if (title.length == 0) {\n",
              "            continue;\n",
              "        }\n",
              "\n",
              "        while (level < memo_level) {\n",
              "            text_menu += end_format + \"</ul>\\n\";\n",
              "            format_open -= 1;\n",
              "            memo_level -= 1;\n",
              "        }\n",
              "        if (level == lfirst) {\n",
              "            main_item += 1;\n",
              "        }\n",
              "        if (keep_item != -1 && main_item != keep_item + 1) {\n",
              "            // alert(main_item + \" - \" + level + \" - \" + keep_item);\n",
              "            continue;\n",
              "        }\n",
              "        while (level > memo_level) {\n",
              "            text_menu += \"<ul>\\n\";\n",
              "            memo_level += 1;\n",
              "        }\n",
              "        text_menu += repeat_indent_string(level-2);\n",
              "        text_menu += begin_format + sformat.replace(\"__HREF__\", href).replace(\"__TITLE__\", title);\n",
              "        format_open += 1;\n",
              "    }\n",
              "    while (1 < memo_level) {\n",
              "        text_menu += end_format + \"</ul>\\n\";\n",
              "        memo_level -= 1;\n",
              "        format_open -= 1;\n",
              "    }\n",
              "    text_menu += send;\n",
              "    //text_menu += \"\\n\" + text_memo;\n",
              "\n",
              "    while (format_open > 0) {\n",
              "        text_menu += end_format;\n",
              "        format_open -= 1;\n",
              "    }\n",
              "    return text_menu;\n",
              "};\n",
              "var update_menu = function() {\n",
              "    var sbegin = \"\";\n",
              "    var sformat = '<a href=\"#__HREF__\">__TITLE__</a>';\n",
              "    var send = \"\";\n",
              "    var begin_format = '<li>';\n",
              "    var end_format = '</li>';\n",
              "    var keep_item = -1;\n",
              "    var text_menu = update_menu_string(sbegin, 2, 4, sformat, send, keep_item,\n",
              "       begin_format, end_format);\n",
              "    var menu = document.getElementById(\"my_id_menu_nb\");\n",
              "    menu.innerHTML=text_menu;\n",
              "};\n",
              "window.setTimeout(update_menu,2000);\n",
              "            </script>"
            ],
            "text/plain": [
              "<IPython.core.display.HTML object>"
            ]
          },
          "execution_count": 2,
          "metadata": {},
          "output_type": "execute_result"
        }
      ],
      "source": [
        "from jyquickhelper import add_notebook_menu\n",
        "add_notebook_menu()"
      ]
    },
    {
      "cell_type": "markdown",
      "metadata": {},
      "source": [
        "## Partie 0 - modules recommand\u00e9s et connexion \u00e0 l'API \n",
        "\n",
        "Il vous faudra s\u00fbrement les modules suivant : \n",
        "\n",
        "- requests\n",
        "- datetime\n",
        "- pandas\n",
        "- matplotlib\n",
        "\n",
        "Cr\u00e9er un login pour vous connecter \u00e0 l'API de la SNCF https://data.sncf.com/api \n",
        "\n",
        "Vous pouvez maintenant commencer. Ce notebook peut prendre du temps \u00e0 s'\u00e9x\u00e9cuter, surout \u00e0 partir de la partie 3"
      ]
    },
    {
      "cell_type": "code",
      "execution_count": 3,
      "metadata": {
        "ExecuteTime": {
          "end_time": "2016-10-31T22:28:01.188478",
          "start_time": "2016-10-31T22:28:01.182482"
        },
        "collapsed": true
      },
      "outputs": [],
      "source": [
        "# !!!!! Attention \u00e0 bien mettre votre token ici  !!!!!\n",
        "\n",
        "token_auth = 'XXXXXXXXXXXXXXXXXXXXXXXXXXXXXX'"
      ]
    },
    {
      "cell_type": "code",
      "execution_count": 4,
      "metadata": {
        "ExecuteTime": {
          "end_time": "2016-10-31T22:28:01.286480",
          "start_time": "2016-10-31T22:28:01.193478"
        },
        "collapsed": true
      },
      "outputs": [],
      "source": [
        "import keyring, os\n",
        "if \"XXXXXX\" in token_auth:\n",
        "    token_auth = keyring.get_password(\"sncf\", os.environ[\"COMPUTERNAME\"] + \"key\")"
      ]
    },
    {
      "cell_type": "markdown",
      "metadata": {},
      "source": [
        "## Partie 1 - Trouver les gares accessibles _via_ la SNCF\n",
        "\n",
        "- Trouver l'ensemble des gares disponibles sur l'API et cr\u00e9er un fichier csv avec les codes de la gare, son nom et ses coordonn\u00e9es latitude et longitude, ainsi que les informations administratives de la r\u00e9gion quand elles sont disponibles\n",
        "\n",
        "- Repr\u00e9sentez les sur un graphique"
      ]
    },
    {
      "cell_type": "code",
      "execution_count": 5,
      "metadata": {
        "ExecuteTime": {
          "end_time": "2016-10-31T22:28:02.003606",
          "start_time": "2016-10-31T22:28:01.290481"
        },
        "collapsed": true
      },
      "outputs": [],
      "source": [
        "import pandas as pd\n",
        "import requests"
      ]
    },
    {
      "cell_type": "code",
      "execution_count": 6,
      "metadata": {
        "ExecuteTime": {
          "end_time": "2016-10-31T22:28:42.662787",
          "start_time": "2016-10-31T22:28:02.006100"
        }
      },
      "outputs": [
        {
          "name": "stdout",
          "output_type": "stream",
          "text": [
            "key 'insee' not here but name,level,coord,label,id,zip_code\n",
            "key 'name' not here but zip_code,id,coord,level\n",
            "key 'label' not here but zip_code,id,coord,level\n",
            "je suis \u00e0 la page 0 --- (25, 10)\n",
            "je suis \u00e0 la page 10 --- (25, 11)\n",
            "je suis \u00e0 la page 20 --- (25, 11)\n",
            "je suis \u00e0 la page 30 --- (25, 11)\n",
            "je suis \u00e0 la page 40 --- (25, 11)\n",
            "je suis \u00e0 la page 50 --- (25, 11)\n",
            "je suis \u00e0 la page 60 --- (25, 11)\n",
            "je suis \u00e0 la page 70 --- (25, 11)\n",
            "je suis \u00e0 la page 80 --- (25, 11)\n",
            "je suis \u00e0 la page 90 --- (25, 11)\n",
            "je suis \u00e0 la page 100 --- (25, 11)\n",
            "je suis \u00e0 la page 110 --- (25, 11)\n",
            "je suis \u00e0 la page 120 --- (25, 11)\n",
            "(3030, 11)\n"
          ]
        },
        {
          "data": {
            "text/html": [
              "<div>\n",
              "<style>\n",
              "    .dataframe thead tr:only-child th {\n",
              "        text-align: right;\n",
              "    }\n",
              "\n",
              "    .dataframe thead th {\n",
              "        text-align: left;\n",
              "    }\n",
              "\n",
              "    .dataframe tbody tr th {\n",
              "        vertical-align: top;\n",
              "    }\n",
              "</style>\n",
              "<table border=\"1\" class=\"dataframe\">\n",
              "  <thead>\n",
              "    <tr style=\"text-align: right;\">\n",
              "      <th></th>\n",
              "      <th>id</th>\n",
              "      <th>id_region</th>\n",
              "      <th>insee</th>\n",
              "      <th>label</th>\n",
              "      <th>label_region</th>\n",
              "      <th>lat</th>\n",
              "      <th>lon</th>\n",
              "      <th>name</th>\n",
              "      <th>region</th>\n",
              "      <th>timezone</th>\n",
              "      <th>zip_code</th>\n",
              "    </tr>\n",
              "  </thead>\n",
              "  <tbody>\n",
              "    <tr>\n",
              "      <th>0</th>\n",
              "      <td>stop_area:OCE:SA:70154005</td>\n",
              "      <td>admin:osm:51827</td>\n",
              "      <td>NaN</td>\n",
              "      <td>St-Pancras-Internationa (London Borough of Cam...</td>\n",
              "      <td>London Borough of Camden</td>\n",
              "      <td>51.530842</td>\n",
              "      <td>-0.125729</td>\n",
              "      <td>St-Pancras-Internationa</td>\n",
              "      <td>London Borough of Camden</td>\n",
              "      <td>Europe/Paris</td>\n",
              "      <td></td>\n",
              "    </tr>\n",
              "    <tr>\n",
              "      <th>1</th>\n",
              "      <td>stop_area:OCE:SA:70154401</td>\n",
              "      <td>admin:osm:2210488</td>\n",
              "      <td>NaN</td>\n",
              "      <td>Ebbsfleet-International (Dartford)</td>\n",
              "      <td>Dartford</td>\n",
              "      <td>51.443667</td>\n",
              "      <td>0.320752</td>\n",
              "      <td>Ebbsfleet-International</td>\n",
              "      <td>Dartford</td>\n",
              "      <td>Europe/Paris</td>\n",
              "      <td></td>\n",
              "    </tr>\n",
              "    <tr>\n",
              "      <th>2</th>\n",
              "      <td>stop_area:OCE:SA:70546606</td>\n",
              "      <td>admin:osm:2068847</td>\n",
              "      <td>NaN</td>\n",
              "      <td>Ashford-International (Ashford)</td>\n",
              "      <td>Ashford</td>\n",
              "      <td>51.14354</td>\n",
              "      <td>0.874814</td>\n",
              "      <td>Ashford-International</td>\n",
              "      <td>Ashford</td>\n",
              "      <td>Europe/Paris</td>\n",
              "      <td></td>\n",
              "    </tr>\n",
              "    <tr>\n",
              "      <th>3</th>\n",
              "      <td>stop_area:OCE:SA:71116000</td>\n",
              "      <td>admin:osm:346782</td>\n",
              "      <td>NaN</td>\n",
              "      <td>Irun (Irun)</td>\n",
              "      <td>Irun</td>\n",
              "      <td>43.339432</td>\n",
              "      <td>-1.801337</td>\n",
              "      <td>Irun</td>\n",
              "      <td>Irun</td>\n",
              "      <td>Europe/Paris</td>\n",
              "      <td></td>\n",
              "    </tr>\n",
              "    <tr>\n",
              "      <th>4</th>\n",
              "      <td>stop_area:OCE:SA:71793150</td>\n",
              "      <td>admin:osm:345217</td>\n",
              "      <td>NaN</td>\n",
              "      <td>Port-Bou (Portbou)</td>\n",
              "      <td>Portbou</td>\n",
              "      <td>42.424467</td>\n",
              "      <td>3.15786</td>\n",
              "      <td>Port-Bou</td>\n",
              "      <td>Portbou</td>\n",
              "      <td>Europe/Paris</td>\n",
              "      <td></td>\n",
              "    </tr>\n",
              "  </tbody>\n",
              "</table>\n",
              "</div>"
            ],
            "text/plain": [
              "                          id          id_region insee  \\\n",
              "0  stop_area:OCE:SA:70154005    admin:osm:51827   NaN   \n",
              "1  stop_area:OCE:SA:70154401  admin:osm:2210488   NaN   \n",
              "2  stop_area:OCE:SA:70546606  admin:osm:2068847   NaN   \n",
              "3  stop_area:OCE:SA:71116000   admin:osm:346782   NaN   \n",
              "4  stop_area:OCE:SA:71793150   admin:osm:345217   NaN   \n",
              "\n",
              "                                               label  \\\n",
              "0  St-Pancras-Internationa (London Borough of Cam...   \n",
              "1                 Ebbsfleet-International (Dartford)   \n",
              "2                    Ashford-International (Ashford)   \n",
              "3                                        Irun (Irun)   \n",
              "4                                 Port-Bou (Portbou)   \n",
              "\n",
              "               label_region        lat        lon                     name  \\\n",
              "0  London Borough of Camden  51.530842  -0.125729  St-Pancras-Internationa   \n",
              "1                  Dartford  51.443667   0.320752  Ebbsfleet-International   \n",
              "2                   Ashford   51.14354   0.874814    Ashford-International   \n",
              "3                      Irun  43.339432  -1.801337                     Irun   \n",
              "4                   Portbou  42.424467    3.15786                 Port-Bou   \n",
              "\n",
              "                     region      timezone zip_code  \n",
              "0  London Borough of Camden  Europe/Paris           \n",
              "1                  Dartford  Europe/Paris           \n",
              "2                   Ashford  Europe/Paris           \n",
              "3                      Irun  Europe/Paris           \n",
              "4                   Portbou  Europe/Paris           "
            ]
          },
          "execution_count": 7,
          "metadata": {},
          "output_type": "execute_result"
        }
      ],
      "source": [
        "def page_gares(numero_page) :\n",
        "    return requests.get('https://api.sncf.com/v1/coverage/sncf/stop_areas?start_page={}'.format(numero_page), \n",
        "                        auth=(token_auth, ''))\n",
        "\n",
        "######################################\n",
        "# on commence par la premi\u00e8re page qui nous donne le nombre de r\u00e9sultats par page ainsi que le nombre total de r\u00e9sultats                    \n",
        "\n",
        "page_initiale = page_gares(0)                        \n",
        "item_per_page = page_initiale.json()['pagination']['items_per_page']\n",
        "total_items = page_initiale.json()['pagination']['total_result']\n",
        "dfs = []\n",
        "\n",
        "# on fait une boucle sur toutes les pages suivantes \n",
        "print_done = {}\n",
        "\n",
        "for page in range(int(total_items/item_per_page)+1) : \n",
        "    stations_page = page_gares(page)\n",
        "    \n",
        "    ensemble_stations = stations_page.json()\n",
        "    \n",
        "    if 'stop_areas' not in ensemble_stations:\n",
        "        # pas d'arr\u00eat\n",
        "        continue\n",
        "    \n",
        "    # on ne retient que les informations qui nous int\u00e9ressent \n",
        "    for station in ensemble_stations['stop_areas']:\n",
        "\n",
        "        station['lat'] = station['coord']['lat']\n",
        "        station[\"lon\"]  = station['coord']['lon']\n",
        "\n",
        "        if 'administrative_regions' in station.keys() : \n",
        "            for var_api, var_df in zip(['insee','name','label','id','zip_code'],\n",
        "                                       ['insee','region','label_region','id_region','zip_code']) : \n",
        "                try:\n",
        "                    station[var_df] = station['administrative_regions'][0][var_api]\n",
        "                except KeyError:\n",
        "                    if var_api not in print_done:\n",
        "                        print(\"key '{0}' not here but {1}\".format(var_api, \n",
        "                                \",\".join(station['administrative_regions'][0].keys())))\n",
        "                        print_done[var_api] = var_api\n",
        "\n",
        "        [station.pop(k,None) for k in ['coord','links','administrative_regions', 'type', 'codes']]\n",
        "\n",
        "    stations = ensemble_stations['stop_areas']\n",
        "    try:\n",
        "        dp = pd.DataFrame(stations)\n",
        "    except Exception as e:\n",
        "        # La SNCF modifie parfois le sch\u00e9ma de ses donn\u00e9es.\n",
        "        # On affiche station pour avoir une meilleure id\u00e9e que l'erreur retourn\u00e9e par pandas\n",
        "        raise Exception(\"Probl\u00e8me de donn\u00e9es\\n{0}\".format(stations)) from e\n",
        "        \n",
        "    dfs.append(dp)\n",
        "    if page % 10 == 0:\n",
        "        print(\"je suis \u00e0 la page\", page, \"---\", dp.shape)\n",
        "\n",
        "import pandas\n",
        "df = pandas.concat(dfs)\n",
        "df.to_csv(\"./ensemble_gares.csv\")  \n",
        "print(df.shape)\n",
        "df.head()"
      ]
    },
    {
      "cell_type": "code",
      "execution_count": 8,
      "metadata": {
        "ExecuteTime": {
          "end_time": "2016-10-31T22:28:42.713781",
          "start_time": "2016-10-31T22:28:42.665782"
        }
      },
      "outputs": [
        {
          "name": "stdout",
          "output_type": "stream",
          "text": [
            "Index(['Unnamed: 0', 'id', 'id_region', 'insee', 'label', 'label_region',\n",
            "       'lat', 'lon', 'name', 'region', 'timezone', 'zip_code'],\n",
            "      dtype='object')\n",
            "(3030, 12)\n"
          ]
        },
        {
          "data": {
            "text/plain": [
              "Unnamed: 0                             17\n",
              "id              stop_area:OCE:SA:87182600\n",
              "id_region                  admin:fr:68292\n",
              "insee                               68292\n",
              "label            St-Amarin (Saint-Amarin)\n",
              "label_region         Saint-Amarin (68550)\n",
              "lat                                47.873\n",
              "lon                               7.02868\n",
              "name                            St-Amarin\n",
              "region                       Saint-Amarin\n",
              "timezone                     Europe/Paris\n",
              "zip_code                            68550\n",
              "Name: 317, dtype: object"
            ]
          },
          "execution_count": 9,
          "metadata": {},
          "output_type": "execute_result"
        }
      ],
      "source": [
        "df = pd.read_csv(\"./ensemble_gares.csv\", encoding = \"ISO-8859-1\")\n",
        "print(df.columns)\n",
        "print(df.shape)\n",
        "# Exemple des informations sur une gare\n",
        "df.iloc[317]"
      ]
    },
    {
      "cell_type": "code",
      "execution_count": 10,
      "metadata": {
        "ExecuteTime": {
          "end_time": "2016-10-31T22:28:42.732284",
          "start_time": "2016-10-31T22:28:42.716783"
        },
        "collapsed": true
      },
      "outputs": [],
      "source": [
        "# on cr\u00e9e un dictionnaire des correspondances entre les noms et les codes des gares\n",
        "dict_label_gare_code = df[['label','id']].set_index('label').to_dict()['id']\n",
        "dict_nom_gare_code = df[['name','id']].set_index('name').to_dict()['id']"
      ]
    },
    {
      "cell_type": "code",
      "execution_count": 11,
      "metadata": {
        "ExecuteTime": {
          "end_time": "2016-10-31T22:37:58.586054",
          "start_time": "2016-10-31T22:37:58.102547"
        }
      },
      "outputs": [
        {
          "name": "stdout",
          "output_type": "stream",
          "text": [
            "Index(['Unnamed: 0', 'id', 'id_region', 'insee', 'label', 'label_region',\n",
            "       'lat', 'lon', 'name', 'region', 'timezone', 'zip_code'],\n",
            "      dtype='object')\n"
          ]
        },
        {
          "data": {
            "text/plain": [
              "<matplotlib.collections.PathCollection at 0x27192d3d978>"
            ]
          },
          "execution_count": 12,
          "metadata": {},
          "output_type": "execute_result"
        },
        {
          "data": {
            "image/png": "[encoded data removed]",
            "text/plain": [
              "<matplotlib.figure.Figure at 0x271965de4a8>"
            ]
          },
          "metadata": {},
          "output_type": "display_data"
        }
      ],
      "source": [
        "print(df.columns)\n",
        "\n",
        "# graphique dans le plan des gares\n",
        "%matplotlib inline\n",
        "import matplotlib.pyplot as plt\n",
        "lng_var = df[(df['lat']>35) & (df['lat']<60)][\"lon\"].tolist()\n",
        "lat_var = df[(df['lat']>35) & (df['lat']<60)][\"lat\"].tolist()\n",
        "plt.scatter(x = lng_var , y = lat_var,marker = \"o\")"
      ]
    },
    {
      "cell_type": "markdown",
      "metadata": {},
      "source": [
        "## Les trajets depuis la Gare de Lyon\n",
        "\n",
        "### Partons \u00e0 Lyon : le 17 novembre 2016 \u00e0 19h57\n",
        "\n",
        "Imaginez que vous vouliez un peu voyager hors de Paris, et il se trouve que justement on vous propose de passer quelques jours \u00e0 Lyon. Vous partez le 17 novembre vers 19h50 pour ne pas trop \u00e9courter votre journ\u00e9e de travail. \n",
        "\n",
        "#### Question 1\n",
        "\n",
        "- Commencez par r\u00e9cup\u00e9rer les informations sur le trajet entre Paris Gare de Lyon et Lyon Perrache le 17 novembre \u00e0 19h57\n",
        "\n",
        "    - Paris - Gare de Lyon (code de la gare : __stop\\_area:OCE:SA:87686006__)\n",
        "\n",
        "    - Lyon - Gare Lyon Perrache (code de la gare : __stop\\_area:OCE:SA:87722025__)\n",
        "    \n",
        "    - Indice : utiliser la requ\u00eate \"journeys\"\n",
        "    \n",
        "    - Autre indice : le format de la date est AAAAMMJJTHHMMSS (Ann\u00e9e, mois, jour, heure, minutes, secondes)\n",
        "    \n",
        "- R\u00e9pondez aux questions suivantes \n",
        "    - combien y a-t-il d'arr\u00eats entre ces deux gares ? (utilisez la cl\u00e9 'journeys')\n",
        "    - combien de temps d'arr\u00eat \u00e0 chacune d'elles ?"
      ]
    },
    {
      "cell_type": "code",
      "execution_count": 13,
      "metadata": {
        "ExecuteTime": {
          "end_time": "2016-10-31T22:28:43.364179",
          "start_time": "2016-10-31T22:28:43.355677"
        },
        "collapsed": true
      },
      "outputs": [],
      "source": [
        "##### une fonction qui sera utile pour calculer des temps\n",
        "\n",
        "from datetime import datetime, timedelta\n",
        "\n",
        "def convertir_en_temps(chaine) : \n",
        "    ''' on convertit en date la chaine de caract\u00e8res de l API'''\n",
        "    return datetime.strptime(chaine.replace('T',''),'%Y%m%d%H%M%S')"
      ]
    },
    {
      "cell_type": "markdown",
      "metadata": {},
      "source": [
        "Et l'inverse :"
      ]
    },
    {
      "cell_type": "code",
      "execution_count": 14,
      "metadata": {
        "collapsed": true
      },
      "outputs": [],
      "source": [
        "def convertir_en_chaine(dt) : \n",
        "    ''' on convertit en cha\u00eene de caract\u00e8res un datetime'''\n",
        "    return datetime.strftime(dt, '%Y%m%dT%H%M%S')"
      ]
    },
    {
      "cell_type": "code",
      "execution_count": 15,
      "metadata": {
        "ExecuteTime": {
          "end_time": "2016-10-31T22:28:43.722293",
          "start_time": "2016-10-31T22:28:43.368183"
        }
      },
      "outputs": [
        {
          "data": {
            "text/plain": [
              "'20170824T110703'"
            ]
          },
          "execution_count": 16,
          "metadata": {},
          "output_type": "execute_result"
        }
      ],
      "source": [
        "# informations sur le trajet qu'on choisit dans le futur\n",
        "# l'API ne retourne pas de r\u00e9sultatq tr\u00e8s loin dans le pass\u00e9\n",
        "now = datetime.now()\n",
        "dt = now + timedelta(14)  # dans deux semaines\n",
        "\n",
        "date_depart = convertir_en_chaine(dt)\n",
        "gare_depart = 'stop_area:OCE:SA:87686006'\n",
        "gare_arrivee = 'stop_area:OCE:SA:87722025'\n",
        "\n",
        "# ensemble des d\u00e9parts \n",
        "\n",
        "paris_lyon = requests.get('https://api.sncf.com/v1/coverage/sncf/journeys?'\\\n",
        "                          'from={}&to={}&datetime={}'.format(gare_depart, gare_arrivee, date_depart), \\\n",
        "                         auth=(token_auth, '')).json()\n",
        "\n",
        "date_depart"
      ]
    },
    {
      "cell_type": "code",
      "execution_count": 17,
      "metadata": {
        "ExecuteTime": {
          "end_time": "2016-10-31T22:28:43.732622",
          "start_time": "2016-10-31T22:28:43.724623"
        }
      },
      "outputs": [
        {
          "name": "stdout",
          "output_type": "stream",
          "text": [
            "Paris-Gare-de-Lyon 0:00:00 minutes d'arr\u00eat\n",
            "Creusot - TGV (le) 0:03:00 minutes d'arr\u00eat\n",
            "Lyon-Part-Dieu 0:05:00 minutes d'arr\u00eat\n",
            "Lyon-Perrache 0:00:00 minutes d'arr\u00eat\n"
          ]
        }
      ],
      "source": [
        "# les gares du chemin entre Paris et Lyon sur ce trajet\n",
        "# ainsi que le temps d'arr\u00eat\n",
        "session = paris_lyon['journeys'][0]['sections'][1]\n",
        "if \"stop_date_times\" in session:\n",
        "    for i in session['stop_date_times'] : \n",
        "        print(i['stop_point']['name'], \n",
        "              convertir_en_temps(i['departure_date_time'])-convertir_en_temps(i['arrival_date_time']),\"minutes d'arr\u00eat\")"
      ]
    },
    {
      "cell_type": "markdown",
      "metadata": {},
      "source": [
        "#### Question 2\n",
        "Vous \u00eates un peu press\u00e9 et vous avez peur de vous tromper en arrivant \u00e0 la gare car d'autres TGV partent \u00e0 peu pr\u00e8s en m\u00eame temps (\u00e0 partir de 19h00) de la gare de Lyon. \n",
        "\n",
        "- Si vous demandez \u00e0 l'API, combien de r\u00e9sultats vous donne-t-elle ?"
      ]
    },
    {
      "cell_type": "code",
      "execution_count": 18,
      "metadata": {
        "ExecuteTime": {
          "end_time": "2016-10-31T22:28:44.077096",
          "start_time": "2016-10-31T22:28:43.736625"
        }
      },
      "outputs": [
        {
          "name": "stdout",
          "output_type": "stream",
          "text": [
            "10\n"
          ]
        }
      ],
      "source": [
        "### les trains qui partent autour de 19h00\n",
        "departs_paris = requests.get('https://api.sncf.com/v1/coverage/sncf/stop_points/stop_point:OCE:SP:'\\\n",
        "                             'TGV-87686006/departures?from_datetime={}'.format(date_depart) ,\n",
        "                        auth=(token_auth, '')).json()\n",
        "\n",
        "# Nombre de trains que l'API renvoit \u00e0 partir de cet horaire-l\u00e0\n",
        "print(len(departs_paris['departures']))"
      ]
    },
    {
      "cell_type": "markdown",
      "metadata": {},
      "source": [
        "- Quels sont les horaires de d\u00e9part de ces trains ? "
      ]
    },
    {
      "cell_type": "code",
      "execution_count": 19,
      "metadata": {
        "ExecuteTime": {
          "end_time": "2016-10-31T22:28:44.086095",
          "start_time": "2016-10-31T22:28:44.080093"
        }
      },
      "outputs": [
        {
          "name": "stdout",
          "output_type": "stream",
          "text": [
            "20170824T111900\n",
            "20170824T112300\n",
            "20170824T113700\n",
            "20170824T114100\n",
            "20170824T114100\n",
            "20170824T115300\n",
            "20170824T120700\n",
            "20170824T120700\n",
            "20170824T123600\n",
            "20170824T124300\n"
          ]
        }
      ],
      "source": [
        "for i in range(len(departs_paris['departures'])) :\n",
        "    print(departs_paris['departures'][i]['stop_date_time']['departure_date_time'])"
      ]
    },
    {
      "cell_type": "markdown",
      "metadata": {},
      "source": [
        "- Parmi ces trains, combien de trains ont pour destination finale Lyon et qui partent le 17 novembre ?"
      ]
    },
    {
      "cell_type": "code",
      "execution_count": 20,
      "metadata": {
        "ExecuteTime": {
          "end_time": "2016-10-31T22:28:44.109595",
          "start_time": "2016-10-31T22:28:44.090095"
        }
      },
      "outputs": [
        {
          "name": "stdout",
          "output_type": "stream",
          "text": [
            "Il y a 0 train(s) pour Lyon dans les trains propos\u00e9s par l'API qui partent encore le 17 novembre\n"
          ]
        }
      ],
      "source": [
        "nombre_trains_pour_lyon = 0\n",
        "\n",
        "for depart in departs_paris['departures'] :     \n",
        "    if \"Lyon\" in depart['display_informations']['direction'] : \n",
        "        if convertir_en_temps(depart['stop_date_time']['arrival_date_time']) > convertir_en_temps(date_depart) and \\\n",
        "        convertir_en_temps(depart['stop_date_time']['arrival_date_time']) < datetime(2016,11,18,0,0,0):\n",
        "            nombre_trains_pour_lyon += 1\n",
        "            print(\"le prochain d\u00e9part pour Lyon sera le\", convertir_en_temps(depart['stop_date_time']['arrival_date_time']))\n",
        "        \n",
        "print(\"Il y a\" , nombre_trains_pour_lyon, \"train(s) pour Lyon dans les trains propos\u00e9s\", \n",
        "      \"par l'API qui partent encore le 17 novembre\")"
      ]
    },
    {
      "cell_type": "markdown",
      "metadata": {},
      "source": [
        "-------------------------\n",
        "\n",
        "### C'est quand qu'on va o\u00f9 ?\n",
        "- En fait, vous n'\u00eates plus tr\u00e8s s\u00fbr de vouloir aller \u00e0 Lyon. Mais bon maintenant vous \u00eates Gare de Lyon et il est 18h00. \n",
        "\n",
        "#### Question 3\n",
        "- Combien de tgv partent entre 18h00 et 20h00 ?\n",
        "- Lequel arrive le plus t\u00f4t \u00e0 sa destination finale ?"
      ]
    },
    {
      "cell_type": "code",
      "execution_count": 21,
      "metadata": {
        "ExecuteTime": {
          "end_time": "2016-10-31T22:28:44.140593",
          "start_time": "2016-10-31T22:28:44.113095"
        },
        "collapsed": true
      },
      "outputs": [],
      "source": [
        "# on cr\u00e9e deux fonctions : \n",
        "\n",
        "def trouver_destination_tgv(origine, datetime) : \n",
        "    '''Permet d avoir les 10 prochains d\u00e9parts d une gare donn\u00e9e '''\n",
        "    return requests.get('https://api.sncf.com/v1/coverage/sncf/stop_points/{}/' \\\n",
        "                        'departures?from_datetime={}'.format(origine, datetime) ,\n",
        "                        auth=(token_auth, '')).json()\n",
        "\n",
        "def trouver_trajet_dispo_max_heure(gare_depart, date_heure_depart, date_heure_max) : \n",
        "    ''' Permet d avoir toutes les informations sur des trajets partant d une gare entre une date X et une date Y '''\n",
        "    \n",
        "    destinations = []\n",
        "    \n",
        "# on interroge l'API tant qu'il renvoie des informations sur les trains partant de Gare de lyon \n",
        "\n",
        "    while convertir_en_temps(date_heure_depart) <  convertir_en_temps(date_heure_max) :\n",
        "    # on prend toutes les destinations qui partent \u00e0 partir d'une certaine heure\n",
        "        destinations = destinations + trouver_destination_tgv(gare_depart, date_heure_depart)['departures']\n",
        "        \n",
        "        nombre_resultats = trouver_destination_tgv(gare_depart, date_heure_depart)['pagination']['items_on_page']\n",
        "        \n",
        "        # on trouve l'heure max de la premi\u00e8re s\u00e9rie de 10 solutions que l'application renvoie\n",
        "        # on remplace l'heure qu'on cherche par celle l\u00e0\n",
        "        date_heure_depart = trouver_destination_tgv(gare_depart,\n",
        "                                     date_heure_depart)['departures'][nombre_resultats-1]['stop_date_time']['departure_date_time']\n",
        "\n",
        "    return destinations"
      ]
    },
    {
      "cell_type": "code",
      "execution_count": 22,
      "metadata": {
        "ExecuteTime": {
          "end_time": "2016-10-31T22:28:45.992030",
          "start_time": "2016-10-31T22:28:44.145095"
        }
      },
      "outputs": [
        {
          "name": "stdout",
          "output_type": "stream",
          "text": [
            "entre 20170824T110704 et 20170824T150704\n",
            "Nice-Ville (Nice) 20170824T111900\n",
            "Mulhouse (Mulhouse) 20170824T112300\n",
            "Marseille-St-Charles (Marseille) 20170824T113700\n",
            "Grenoble (Grenoble) 20170824T114100\n",
            "Miramas (Miramas) 20170824T114100\n",
            "Lyon-Perrache (Lyon) 20170824T115300\n",
            "B\u00e9ziers (B\u00e9ziers) 20170824T120700\n",
            "B\u00e9ziers (B\u00e9ziers) 20170824T120700\n",
            "Nice-Ville (Nice) 20170824T123600\n",
            "Annecy (Annecy) 20170824T124300\n",
            "Annecy (Annecy) 20170824T124300\n",
            "St-Etienne-Ch\u00e2teaucreux (Saint-\u00c9tienne) 20170824T125900\n",
            "Lyon-Perrache (Lyon) 20170824T135300\n",
            "Perpignan (Perpignan) 20170824T140700\n",
            "Nice-Ville (Nice) 20170824T141900\n",
            "Nice-Ville (Nice) 20170824T141900\n",
            "Ventimiglia-Stazione (Ventimiglia) 20170824T141900\n",
            "Marseille-St-Charles (Marseille) 20170824T143700\n",
            "Marseille-St-Charles (Marseille) 20170824T143700\n",
            "Grenoble (Grenoble) 20170824T144100\n",
            "Grenoble (Grenoble) 20170824T144100\n",
            "Milano-Porta-Garibaldi (Milano) 20170824T144100\n",
            "Besan\u00e7on-Viotte (Besan\u00e7on) 20170824T145300\n",
            "Lyon-Perrache (Lyon) 20170824T145900\n",
            "Nice-Ville (Nice) 20170824T151900\n",
            "Nice-Ville (Nice) 20170824T151900\n",
            "Nice-Ville (Nice) 20170824T151900\n",
            "Marseille-St-Charles (Marseille) 20170824T153700\n",
            "Lyon-Perrache (Lyon) 20170824T155200\n",
            "Perpignan (Perpignan) 20170824T160700\n",
            "Je peux prendre 24 trains qui partent entre 18h et 20h de Gare de Lyon le 17 novembre 2016\n"
          ]
        }
      ],
      "source": [
        "# on trouve l'ensemble des trajets dont le d\u00e9part est compris entre deux horaires\n",
        "# informations sur le trajet qu'on choisit dans le futur\n",
        "# l'API ne retourne pas de r\u00e9sultatq tr\u00e8s loin dans le pass\u00e9\n",
        "now = datetime.now()\n",
        "if now.hour < 6:\n",
        "    # pas trop t\u00f4t\n",
        "    now += timedelta(hours=4)\n",
        "dt = now + timedelta(14)  # dans deux semaines\n",
        "\n",
        "date_heure = convertir_en_chaine(dt)\n",
        "max_date_heure = convertir_en_chaine(dt + timedelta(hours=4))\n",
        "print(\"entre\", date_heure, \"et\", max_date_heure)\n",
        "\n",
        "gare_initiale = 'stop_point:OCE:SP:TGV-87686006'\n",
        "\n",
        "# on demande \u00e0 avoir tous les trajets partant de gare de lyon entre 18h et 20h\n",
        "\n",
        "destinations_depuis_paris_max_20h = trouver_trajet_dispo_max_heure(gare_initiale, date_heure, max_date_heure)\n",
        "\n",
        "# on veut supprimer ceux pour lesquels le d\u00e9part est apr\u00e8s 20h00\n",
        "\n",
        "dictionnaire_destinations = {}\n",
        "\n",
        "i = 0\n",
        "\n",
        "for depart in destinations_depuis_paris_max_20h :    \n",
        "    print(depart['display_informations']['direction'],depart['stop_date_time']['departure_date_time'])\n",
        "    if convertir_en_temps(depart['stop_date_time']['departure_date_time']) < convertir_en_temps(max_date_heure) : \n",
        "        i += 1\n",
        "        dictionnaire_destinations[i] = depart \n",
        "    \n",
        "print(\"Je peux prendre\", len(dictionnaire_destinations.keys()), \n",
        "      \"trains qui partent entre 18h et 20h de Gare de Lyon le 17 novembre 2016\")"
      ]
    },
    {
      "cell_type": "code",
      "execution_count": 23,
      "metadata": {
        "ExecuteTime": {
          "end_time": "2016-10-31T22:28:50.170515",
          "start_time": "2016-10-31T22:28:45.997536"
        }
      },
      "outputs": [
        {
          "name": "stdout",
          "output_type": "stream",
          "text": [
            "heure_minimale 2017-08-24 19:07:04.558499  len  24\n"
          ]
        }
      ],
      "source": [
        "# on cherche celui qui arrive le plus t\u00f4t \u00e0 sa destination\n",
        "\n",
        "def trouver_info_trajet(dep, arr, heure) :\n",
        "     return requests.get('https://api.sncf.com/v1/coverage/sncf/journeys?from={}&to={}&datetime={}'.format(dep,arr,heure), \\\n",
        "                         auth=(token_auth, '')).json()['journeys'][0]\n",
        "\n",
        "# on initiale l'heure \u00e0 la fin de la journ\u00e9e : on veut r\u00e9duire cette variable au maximum\n",
        "# on veut 6h apr\u00e8s le d\u00e9part\n",
        "heure_minimale = dt + timedelta(hours=8)\n",
        "destination_la_plus_rapide = None\n",
        "print(\"heure_minimale\", heure_minimale, \" len \", len(dictionnaire_destinations))\n",
        "\n",
        "# parmi toutes les destinations possibles, on recherche le train qui arrive le plus t\u00f4t \u00e0 sa destination finale\n",
        "for code, valeurs in dictionnaire_destinations.items() : \n",
        "    ''' on prend le code de la gare'''\n",
        "    code_destination = dictionnaire_destinations[code]['route']['direction']['id']\n",
        "    ''' on regarde \u00e0 quelle heure arrive le train'''\n",
        "    trajet = trouver_info_trajet('stop_area:OCE:SA:87686006',code_destination,\n",
        "                                   dictionnaire_destinations[code]['stop_date_time']['arrival_date_time'])    \n",
        "    if heure_minimale > convertir_en_temps(trajet['arrival_date_time']) : \n",
        "        heure_minimale = convertir_en_temps(trajet['arrival_date_time'])\n",
        "        destination_la_plus_rapide = dictionnaire_destinations[code]"
      ]
    },
    {
      "cell_type": "code",
      "execution_count": 24,
      "metadata": {
        "ExecuteTime": {
          "end_time": "2016-10-31T22:28:50.192983",
          "start_time": "2016-10-31T22:28:50.179500"
        }
      },
      "outputs": [
        {
          "name": "stdout",
          "output_type": "stream",
          "text": [
            "Mulhouse (Mulhouse) 2017-08-24 11:45:00\n"
          ]
        }
      ],
      "source": [
        "if destination_la_plus_rapide is not None:\n",
        "    print(destination_la_plus_rapide['display_informations']['direction'], heure_minimale)\n",
        "else:\n",
        "    print(\"pas de r\u00e9sultat\")"
      ]
    },
    {
      "cell_type": "markdown",
      "metadata": {},
      "source": [
        "### Et les correspondances ? \n",
        "\n",
        "#### Question 4\n",
        "\n",
        "- On va essayer de voir jusqu'o\u00f9 on peut aller, en prenant des trains au d\u00e9part de la Gare de Lyon : \n",
        "    - Quelles sont toutes les gares atteignables en partant le 17 novembre, sans faire de changement et sans partir apr\u00e8s minuit ?\n",
        "    - Si on prend un de ces trains, jusqu'o\u00f9 peut-on aller, avec une correspondance, sans partir apr\u00e8s 8h le lendemain matin ?"
      ]
    },
    {
      "cell_type": "code",
      "execution_count": 25,
      "metadata": {
        "ExecuteTime": {
          "end_time": "2016-10-31T22:28:50.218482",
          "start_time": "2016-10-31T22:28:50.198985"
        },
        "collapsed": true
      },
      "outputs": [],
      "source": [
        "# on va trouver toutes les gares qui sont sur les trajets des trains retenus donc atteignables sans correspondance\n",
        "\n",
        "def trouver_toutes_les_gares_du_trajet(gare_depart, gare_arrivee_finale, horaire_depart) :\n",
        "    return requests.get('https://api.sncf.com/v1/coverage/sncf/journeys?from={}&to={}' \\\n",
        "                          '&datetime={}'.format(gare_depart,gare_arrivee_finale,horaire_depart), \\\n",
        "                         auth=(token_auth, '')).json()"
      ]
    },
    {
      "cell_type": "code",
      "execution_count": 26,
      "metadata": {
        "ExecuteTime": {
          "end_time": "2016-10-31T22:28:50.477570",
          "start_time": "2016-10-31T22:28:50.222980"
        },
        "scrolled": true
      },
      "outputs": [
        {
          "name": "stdout",
          "output_type": "stream",
          "text": [
            "Paris-Gare-de-Lyon\n",
            "Avignon-TGV\n",
            "Toulon\n",
            "St-Rapha\u00ebl-Valescure\n",
            "Cannes\n",
            "Antibes\n",
            "Nice-Ville\n"
          ]
        }
      ],
      "source": [
        "# Exemple pour la premi\u00e8re gare de la liste \n",
        "gare_depart = dictionnaire_destinations[1]['stop_point']['id']\n",
        "gare_arrivee = dictionnaire_destinations[1]['route']['direction']['id']\n",
        "horaire_train = dictionnaire_destinations[1]['stop_date_time']['arrival_date_time']\n",
        "\n",
        "######################\n",
        "trajet_recherche = trouver_toutes_les_gares_du_trajet(gare_depart,gare_arrivee,horaire_train)\n",
        "session = trajet_recherche['journeys'][0]['sections'][0]\n",
        "if \"stop_date_times\" in session:\n",
        "    for i in session['stop_date_times']:\n",
        "        print(i['stop_point']['name'])"
      ]
    },
    {
      "cell_type": "code",
      "execution_count": 27,
      "metadata": {
        "ExecuteTime": {
          "end_time": "2016-10-31T22:28:54.060163",
          "start_time": "2016-10-31T22:28:50.486560"
        },
        "scrolled": false
      },
      "outputs": [
        {
          "name": "stdout",
          "output_type": "stream",
          "text": [
            "Paris-Gare-de-Lyon 20170824T111900\n",
            "Avignon-TGV 20170824T135700\n",
            "Toulon 20170824T150600\n",
            "St-Rapha\u00ebl-Valescure 20170824T155900\n",
            "Cannes 20170824T162600\n",
            "Antibes 20170824T163900\n",
            "Nice-Ville 20170824T165600\n",
            "-------------\n",
            "Paris-Gare-de-Lyon 20170824T113700\n",
            "Avignon-TGV 20170824T141700\n",
            "Aix-en-Provence-TGV 20170824T143900\n",
            "Marseille-St-Charles 20170824T145400\n",
            "-------------\n",
            "Paris-Gare-de-Lyon 20170824T114100\n",
            "Lyon-Saint-Exupery-Tgv 20170824T133400\n",
            "Grenoble 20170824T144200\n",
            "-------------\n",
            "Paris-Gare-de-Lyon 20170824T114100\n",
            "Lyon-Saint-Exupery-Tgv 20170824T133400\n",
            "Valence-Ville 20170824T141100\n",
            "Mont\u00e9limar 20170824T143500\n",
            "Orange 20170824T150000\n",
            "Avignon-Centre 20170824T151600\n",
            "Arles 20170824T153900\n",
            "Miramas 20170824T160100\n",
            "-------------\n",
            "Paris-Gare-de-Lyon 20170824T115300\n",
            "Creusot - TGV (le) 20170824T130900\n",
            "Lyon-Part-Dieu 20170824T135600\n",
            "Lyon-Perrache 20170824T140900\n",
            "-------------\n",
            "Paris-Gare-de-Lyon 20170824T120700\n",
            "N\u00eemes 20170824T150500\n",
            "Montpellier-Saint-Roch 20170824T153400\n",
            "B\u00e9ziers 20170824T162700\n",
            "-------------\n",
            "Paris-Gare-de-Lyon 20170824T120700\n",
            "N\u00eemes 20170824T150500\n",
            "Montpellier-Saint-Roch 20170824T153400\n",
            "B\u00e9ziers 20170824T162700\n",
            "-------------\n",
            "Paris-Gare-de-Lyon 20170824T123600\n",
            "Aix-en-Provence-TGV 20170824T152900\n",
            "Marseille-St-Charles 20170824T154600\n",
            "Toulon 20170824T164000\n",
            "Les Arcs-Draguignan 20170824T171700\n",
            "St-Rapha\u00ebl-Valescure 20170824T173500\n",
            "Cannes 20170824T180200\n",
            "Antibes 20170824T181400\n",
            "Nice-Ville 20170824T183000\n",
            "-------------\n",
            "Paris-Gare-de-Lyon 20170824T124300\n",
            "M\u00e2con-Loch\u00e9-TGV 20170824T142000\n",
            "Chamb\u00e9ry-Chal.-les-Eaux 20170824T153800\n",
            "Aix-les-Bains-le-Revard 20170824T155900\n",
            "Annecy 20170824T162900\n",
            "-------------\n",
            "Paris-Gare-de-Lyon 20170824T124300\n",
            "M\u00e2con-Loch\u00e9-TGV 20170824T142000\n",
            "Chamb\u00e9ry-Chal.-les-Eaux 20170824T153800\n",
            "Aix-les-Bains-le-Revard 20170824T155900\n",
            "Annecy 20170824T162900\n",
            "-------------\n",
            "Paris-Gare-de-Lyon 20170824T125900\n",
            "Lyon-Part-Dieu 20170824T145600\n",
            "St-Etienne-Ch\u00e2teaucreux 20170824T154700\n",
            "-------------\n",
            "Paris-Gare-de-Lyon 20170824T135300\n",
            "Creusot - TGV (le) 20170824T151100\n",
            "Lyon-Part-Dieu 20170824T155600\n",
            "Lyon-Perrache 20170824T160900\n",
            "-------------\n",
            "Paris-Gare-de-Lyon 20170824T140700\n",
            "Valence-TGV 20170824T161800\n",
            "N\u00eemes 20170824T170500\n",
            "Montpellier-Saint-Roch 20170824T173400\n",
            "Narbonne 20170824T183200\n",
            "Perpignan 20170824T190800\n",
            "-------------\n",
            "Paris-Gare-de-Lyon 20170824T141900\n",
            "Aix-en-Provence-TGV 20170824T171400\n",
            "Toulon 20170824T180800\n",
            "St-Rapha\u00ebl-Valescure 20170824T190100\n",
            "Cannes 20170824T192700\n",
            "Antibes 20170824T193900\n",
            "Nice-Ville 20170824T195700\n",
            "-------------\n",
            "Paris-Gare-de-Lyon 20170824T141900\n",
            "Aix-en-Provence-TGV 20170824T171400\n",
            "Toulon 20170824T180800\n",
            "St-Rapha\u00ebl-Valescure 20170824T190100\n",
            "Cannes 20170824T192700\n",
            "Antibes 20170824T193900\n",
            "Nice-Ville 20170824T195700\n",
            "-------------\n",
            "Paris-Gare-de-Lyon 20170824T141900\n",
            "Aix-en-Provence-TGV 20170824T171400\n",
            "Toulon 20170824T180800\n",
            "St-Rapha\u00ebl-Valescure 20170824T190100\n",
            "Cannes 20170824T192700\n",
            "Antibes 20170824T193900\n",
            "Nice-Ville 20170824T195700\n",
            "-------------\n",
            "Paris-Gare-de-Lyon 20170824T143700\n",
            "Avignon-TGV 20170824T171700\n",
            "Aix-en-Provence-TGV 20170824T173900\n",
            "Marseille-St-Charles 20170824T175400\n",
            "-------------\n",
            "Paris-Gare-de-Lyon 20170824T143700\n",
            "Avignon-TGV 20170824T171700\n",
            "Aix-en-Provence-TGV 20170824T173900\n",
            "Marseille-St-Charles 20170824T175400\n",
            "-------------\n",
            "Paris-Gare-de-Lyon 20170824T144100\n",
            "Lyon-Saint-Exupery-Tgv 20170824T163400\n",
            "Grenoble 20170824T174500\n",
            "-------------\n",
            "Paris-Gare-de-Lyon 20170824T144100\n",
            "Lyon-Saint-Exupery-Tgv 20170824T163400\n",
            "Grenoble 20170824T174500\n",
            "-------------\n",
            "Paris-Gare-de-Lyon 20170824T144100\n",
            "Lyon-Saint-Exupery-Tgv 20170824T163400\n",
            "Chamb\u00e9ry-Chal.-les-Eaux 20170824T173800\n",
            "St-Jean-de-Maurienne-A. 20170824T182200\n",
            "Modane 20170824T185500\n",
            "Bardonecchia-Stazione 20170824T193300\n",
            "Oulx-Cesana-Clav-Sestri 20170824T194500\n",
            "Torino-Porta-Susa 20170824T204400\n",
            "Milano-Porta-Garibaldi 20170824T221600\n",
            "-------------\n",
            "Paris-Gare-de-Lyon 20170824T145900\n",
            "Lyon-Part-Dieu 20170824T165600\n",
            "Lyon-Perrache 20170824T170900\n",
            "-------------\n"
          ]
        }
      ],
      "source": [
        "#### on fait la liste des gares o\u00f9 on peut aller sans correspondance\n",
        "\n",
        "liste_gares_direct = []\n",
        "\n",
        "for x in dictionnaire_destinations.keys():\n",
        "    # on prend les deux gares d\u00e9part + finale\n",
        "    gare_depart = dictionnaire_destinations[x]['stop_point']['id']\n",
        "    gare_arrivee = dictionnaire_destinations[x]['route']['direction']['id']\n",
        "    horaire_train = dictionnaire_destinations[x]['stop_date_time']['arrival_date_time']\n",
        "    \n",
        "    # on appelle la fonction d\u00e9finie pr\u00e9c\u00e9demment\n",
        "    trajet_recherche = trouver_toutes_les_gares_du_trajet(gare_depart,gare_arrivee,horaire_train)\n",
        "    session = trajet_recherche['journeys'][0]['sections'][0]\n",
        "    if \"stop_date_times\" in session:\n",
        "        for i in session['stop_date_times']: \n",
        "            print(i['stop_point']['name'], i['arrival_date_time'])\n",
        "            liste_gares_direct.append(i['stop_point']['name'])\n",
        "        print(\"-------------\")    \n",
        "    \n",
        "#### l\u00e0 on a la liste des gares atteignables sans correspondance    \n",
        "liste_gares_direct = set(liste_gares_direct)"
      ]
    },
    {
      "cell_type": "markdown",
      "metadata": {},
      "source": [
        "#### Exemple : trouver toutes les correspondances possibles depuis le trajet entre les gares de Paris et de Perpignan"
      ]
    },
    {
      "cell_type": "code",
      "execution_count": 28,
      "metadata": {
        "ExecuteTime": {
          "end_time": "2016-10-31T22:28:54.070863",
          "start_time": "2016-10-31T22:28:54.063361"
        }
      },
      "outputs": [
        {
          "name": "stdout",
          "output_type": "stream",
          "text": [
            "horaire_max 20170824T190704\n"
          ]
        }
      ],
      "source": [
        "# pour le premier trajet gare de la liste trouv\u00e9e \u00e0 l'\u00e9tape pr\u00e9c\u00e9dente\n",
        "# on va chercher toutes les connexions des gares possibles, entre le moment de l'arriv\u00e9e \n",
        "# et 8 heures le lendemain matin\n",
        "\n",
        "gare_depart = dictionnaire_destinations[1]['stop_point']['id']\n",
        "gare_arrivee = dictionnaire_destinations[1]['route']['direction']['id']\n",
        "horaire_train = dictionnaire_destinations[1]['stop_date_time']['arrival_date_time']\n",
        "\n",
        "horaire_max = convertir_en_chaine(dt + timedelta(hours=8))\n",
        "print(\"horaire_max\", horaire_max)"
      ]
    },
    {
      "cell_type": "code",
      "execution_count": 29,
      "metadata": {
        "ExecuteTime": {
          "end_time": "2016-10-31T22:29:01.132682",
          "start_time": "2016-10-31T22:28:54.075860"
        }
      },
      "outputs": [
        {
          "data": {
            "text/plain": [
              "{('Antibes', '20170824T164200'): 'Nice-Ville (Nice)',\n",
              " ('Antibes', '20170824T172000'): 'Paris-Gare-de-Lyon (Paris)',\n",
              " ('Antibes', '20170824T174400'): 'Lyon-Part-Dieu (Lyon)',\n",
              " ('Antibes', '20170824T181700'): 'Nice-Ville (Nice)',\n",
              " ('Avignon-TGV', '20170824T140100'): 'Paris-Gare-de-Lyon (Paris)',\n",
              " ('Avignon-TGV', '20170824T142000'): 'Marseille-St-Charles (Marseille)',\n",
              " ('Avignon-TGV', '20170824T142800'): 'Marseille-St-Charles (Marseille)',\n",
              " ('Avignon-TGV', '20170824T144300'): 'Paris-Gare-de-Lyon (Paris)',\n",
              " ('Avignon-TGV', '20170824T145100'): 'Lille Flandres (Lille)',\n",
              " ('Avignon-TGV', '20170824T150200'): 'Paris-Gare-de-Lyon (Paris)',\n",
              " ('Avignon-TGV', '20170824T152100'): 'Nantes (Nantes)',\n",
              " ('Avignon-TGV', '20170824T154300'): 'Paris-Gare-de-Lyon (Paris)',\n",
              " ('Avignon-TGV', '20170824T155100'): 'Metz-Ville (Metz)',\n",
              " ('Avignon-TGV', '20170824T161400'): 'Le Havre (Le Havre)',\n",
              " ('Avignon-TGV', '20170824T164500'): 'Luxembourg (Luxembourg)',\n",
              " ('Avignon-TGV', '20170824T164800'): 'Marseille-St-Charles (Marseille)',\n",
              " ('Avignon-TGV', '20170824T170100'): 'Paris-Gare-de-Lyon (Paris)',\n",
              " ('Avignon-TGV', '20170824T171200'): 'Nice-Ville (Nice)',\n",
              " ('Avignon-TGV', '20170824T172000'): 'Marseille-St-Charles (Marseille)',\n",
              " ('Avignon-TGV', '20170824T174300'): 'Paris-Gare-de-Lyon (Paris)',\n",
              " ('Avignon-TGV',\n",
              "  '20170824T175100'): 'Bruxelles-M./Brussel-Z. (Saint-Gilles - Sint-Gillis)',\n",
              " ('Avignon-TGV', '20170824T180100'): 'Paris-Gare-de-Lyon (Paris)',\n",
              " ('Avignon-TGV', '20170824T180200'): 'Nice-Ville (Nice)',\n",
              " ('Avignon-TGV', '20170824T182000'): 'Marseille-St-Charles (Marseille)',\n",
              " ('Avignon-TGV', '20170824T184300'): 'Paris-Gare-de-Lyon (Paris)',\n",
              " ('Avignon-TGV', '20170824T184700'): 'Marseille-St-Charles (Marseille)',\n",
              " ('Avignon-TGV', '20170824T185200'): 'Lille Europe (Lille)',\n",
              " ('Cannes', '20170824T163000'): 'Nice-Ville (Nice)',\n",
              " ('Cannes', '20170824T173200'): 'Paris-Gare-de-Lyon (Paris)',\n",
              " ('Cannes', '20170824T175600'): 'Lyon-Part-Dieu (Lyon)',\n",
              " ('Cannes', '20170824T180600'): 'Nice-Ville (Nice)',\n",
              " ('Nice-Ville', '20170824T170400'): 'Paris-Gare-de-Lyon (Paris)',\n",
              " ('Nice-Ville', '20170824T172600'): 'Lyon-Part-Dieu (Lyon)',\n",
              " ('St-Rapha\u00ebl-Valescure', '20170824T160200'): 'Nice-Ville (Nice)',\n",
              " ('St-Rapha\u00ebl-Valescure', '20170824T164800'): 'Paris-Gare-de-Lyon (Paris)',\n",
              " ('St-Rapha\u00ebl-Valescure', '20170824T173800'): 'Nice-Ville (Nice)',\n",
              " ('St-Rapha\u00ebl-Valescure', '20170824T182300'): 'Lyon-Part-Dieu (Lyon)',\n",
              " ('St-Rapha\u00ebl-Valescure',\n",
              "  '20170824T190400'): 'Ventimiglia-Stazione (Ventimiglia)',\n",
              " ('Toulon', '20170824T151000'): 'Nice-Ville (Nice)',\n",
              " ('Toulon', '20170824T155200'): 'Paris-Gare-de-Lyon (Paris)',\n",
              " ('Toulon', '20170824T164300'): 'Nice-Ville (Nice)',\n",
              " ('Toulon', '20170824T165000'): 'Paris-Gare-de-Lyon (Paris)',\n",
              " ('Toulon', '20170824T174600'): 'Paris-Gare-de-Lyon (Paris)',\n",
              " ('Toulon', '20170824T181200'): 'Nice-Ville (Nice)',\n",
              " ('Toulon', '20170824T184400'): 'Nice-Ville (Nice)',\n",
              " ('Toulon', '20170824T185200'): 'Paris-Gare-de-Lyon (Paris)'}"
            ]
          },
          "execution_count": 30,
          "metadata": {},
          "output_type": "execute_result"
        }
      ],
      "source": [
        "###################### en partant de gare de lyon en direction de Perpignan\n",
        "\n",
        "trajet_recherche = trouver_toutes_les_gares_du_trajet(gare_depart,gare_arrivee,horaire_train)\n",
        "\n",
        "dictionnaire_correspondances = {}\n",
        "\n",
        "for i in trajet_recherche['journeys'][0]['sections'][0]['stop_date_times']: \n",
        "\n",
        "    #print(\"la gare o\u00f9 on est descendu depuis Paris\", i['stop_point']['name'])\n",
        "\n",
        "    if i['stop_point']['id'] == \"stop_point:OCE:SP:TGV-87686006\" : \n",
        "        #print(\"on ne prend pas la gare de Lyon - ce n'est pas une gare du trajet\")\n",
        "        pass\n",
        "            \n",
        "    else :\n",
        "        # on va appliquer \u00e0 nouveau la fonction des trajets disponibles mais pour l'ensemble des gares\n",
        "        gare_dep_connexion = i['stop_point']['id']\n",
        "        nom_gare_dep = i['stop_point']['name']\n",
        "        heure_dep_connexion = i['arrival_date_time']\n",
        "    \n",
        "        trajet_recherche_connexion = trouver_trajet_dispo_max_heure(gare_dep_connexion, heure_dep_connexion, horaire_max)\n",
        "        \n",
        "        test_as_connexion_on_time = True\n",
        "        \n",
        "        # pour chaque trajet possible depuis la gare o\u00f9 on est arriv\u00e9 depuis paris, on va v\u00e9rifier qu'on part bien  \n",
        "        # avant 8h le lendemain\n",
        "        autre_gare = None\n",
        "        for vers_autre_gare in trajet_recherche_connexion :  \n",
        "            heure_depart_depuis_autre_gare = vers_autre_gare['stop_date_time']['departure_date_time']\n",
        "            destination_trajet = vers_autre_gare['display_informations']['direction']\n",
        "            \n",
        "            if convertir_en_temps(heure_depart_depuis_autre_gare) < convertir_en_temps(horaire_max) : \n",
        "                dictionnaire_correspondances[(nom_gare_dep,heure_depart_depuis_autre_gare)] = destination_trajet  \n",
        "                test_as_connexion_on_time = False\n",
        "                # print(nom_gare_dep,heure_depart_depuis_autre_gare, \"gare finale du trajet\", destination_trajet)\n",
        "                autre_gare = vers_autre_gare\n",
        "        \n",
        "        if autre_gare and test_as_connexion_on_time: \n",
        "            dictionnaire_correspondances[(nom_gare_dep,autre_gare['stop_date_time']['departure_date_time'])] = \"\"\n",
        "                \n",
        "# on garde toutes les gares o\u00f9 on peut aller depuis une des gares de correspondance, avec un d\u00e9part avant 8H\n",
        "dictionnaire_correspondances"
      ]
    },
    {
      "cell_type": "code",
      "execution_count": 31,
      "metadata": {
        "ExecuteTime": {
          "end_time": "2016-10-31T22:29:13.601156",
          "start_time": "2016-10-31T22:29:01.141674"
        },
        "collapsed": true
      },
      "outputs": [],
      "source": [
        "# Pour les trajets qui partent avant 8h des gares, on va chercher toutes les gares qui sont sur le trajet\n",
        "gares_avec_connexion = []\n",
        "for k,v in dictionnaire_correspondances.items() : \n",
        "    if len(v) == 0 : \n",
        "        pass\n",
        "    else :\n",
        "        gares_entre_dep_arr = trouver_toutes_les_gares_du_trajet(dict_nom_gare_code[k[0]],dict_label_gare_code[v],k[1])\n",
        "        for gare in gares_entre_dep_arr['journeys'][0]['sections'][1]['stop_date_times']: \n",
        "            #print(\"gare depart:\", k[0], gare['stop_point']['name'])\n",
        "            gares_avec_connexion.append(gare['stop_point']['name'])\n",
        "            \n",
        "# la liste des gares atteignables avec 1 correspondance            \n",
        "gares_avec_connexion = set(gares_avec_connexion)"
      ]
    },
    {
      "cell_type": "code",
      "execution_count": 32,
      "metadata": {
        "ExecuteTime": {
          "end_time": "2016-10-31T22:29:13.621150",
          "start_time": "2016-10-31T22:29:13.609156"
        }
      },
      "outputs": [
        {
          "name": "stdout",
          "output_type": "stream",
          "text": [
            "{'St-Rapha\u00ebl-Valescure', 'Valence-TGV', 'Nice-Ville', 'Les Arcs-Draguignan', 'Paris-Gare-de-Lyon', 'A\u00e9ropt-C-de-Gaulle-TGV', 'Rouen-Rive-Droite', 'Antibes', 'Marne-la-Vall\u00e9e-Chessy.', 'Ventimiglia-Stazione', 'Monaco-Monte-Carlo', 'Le Mans', 'Lille Europe', 'Lyon-Saint-Exupery-Tgv', 'Menton', 'Avignon-TGV', 'Aix-en-Provence-TGV', 'Lyon-Part-Dieu', 'Toulon', 'Nantes', 'Versailles-Chantiers', 'Mantes-la-Jolie-TGV', 'Massy-TGV', 'Angers-St-Laud', 'Le Havre', 'TGV Haute-Picardie', 'Marseille-St-Charles', 'Massy-Palaiseau', 'Bruxelles-M./Brussel-Z.', 'Cannes'}\n"
          ]
        }
      ],
      "source": [
        "print(gares_avec_connexion)"
      ]
    },
    {
      "cell_type": "code",
      "execution_count": 33,
      "metadata": {
        "ExecuteTime": {
          "end_time": "2016-10-31T22:29:13.643652",
          "start_time": "2016-10-31T22:29:13.625651"
        }
      },
      "outputs": [
        {
          "name": "stdout",
          "output_type": "stream",
          "text": [
            "['A\u00e9ropt-C-de-Gaulle-TGV', 'Rouen-Rive-Droite', 'Marne-la-Vall\u00e9e-Chessy.', 'Ventimiglia-Stazione', 'Monaco-Monte-Carlo', 'Le Mans', 'Lille Europe', 'Menton', 'Nantes', 'Versailles-Chantiers', 'Mantes-la-Jolie-TGV', 'Massy-TGV', 'Angers-St-Laud', 'Le Havre', 'TGV Haute-Picardie', 'Massy-Palaiseau', 'Bruxelles-M./Brussel-Z.']\n"
          ]
        }
      ],
      "source": [
        "# on cr\u00e9e la liste des gares atteignables seulement avec une correspondance (pas directement atteignable)\n",
        "gares_atteintes_avec_connexion = [a for a in gares_avec_connexion if (a not in liste_gares_direct)]\n",
        "print(gares_atteintes_avec_connexion)"
      ]
    },
    {
      "cell_type": "markdown",
      "metadata": {},
      "source": [
        "##### Exemple : trouver toutes les correspondances possibles depuis les trains qu'on prend de la Gare de Lyon\n",
        "\n",
        "Maintenant qu'on a fait un exemple, on le fait pour tous les trajets qui partent de la Gare de Lyon\n",
        "\n",
        "!!! Attention cette celulle prend du temps (beaucoup beaucoup de temps) !!!!"
      ]
    },
    {
      "cell_type": "code",
      "execution_count": 34,
      "metadata": {
        "ExecuteTime": {
          "end_time": "2016-10-31T22:31:46.483477",
          "start_time": "2016-10-31T22:29:13.648151"
        }
      },
      "outputs": [
        {
          "name": "stdout",
          "output_type": "stream",
          "text": [
            "1 / 24\n",
            "2 / 24\n",
            "3 / 24\n",
            "4 / 24\n",
            "5 / 24\n",
            "6 / 24\n",
            "7 / 24\n",
            "8 / 24\n",
            "9 / 24\n",
            "10 / 24\n",
            "11 / 24\n",
            "12 / 24\n",
            "13 / 24\n",
            "14 / 24\n",
            "15 / 24\n",
            "16 / 24\n",
            "17 / 24\n",
            "18 / 24\n",
            "19 / 24\n",
            "20 / 24\n",
            "21 / 24\n",
            "22 / 24\n",
            "23 / 24\n",
            "24 / 24\n"
          ]
        }
      ],
      "source": [
        "gares_avec_connexion = []\n",
        "\n",
        "for gare_initiale in dictionnaire_destinations: \n",
        "    # pour le premier trajet gare de la liste trouv\u00e9e \u00e0 l'\u00e9tape pr\u00e9c\u00e9dente\n",
        "    # on va chercher toutes les connexions des gares possibles\n",
        "    print(gare_initiale, \"/\", len(dictionnaire_destinations))\n",
        "\n",
        "    gare_depart = dictionnaire_destinations[gare_initiale]['stop_point']['id']\n",
        "    gare_arrivee = dictionnaire_destinations[gare_initiale]['route']['direction']['id']\n",
        "    horaire_train = dictionnaire_destinations[gare_initiale]['stop_date_time']['arrival_date_time']\n",
        "    \n",
        "    # Pour les trajets qui partent avant 8h des gares, on va chercher toutes les gares qui sont sur le trajet\n",
        "    \n",
        "    trajet_recherche = trouver_toutes_les_gares_du_trajet(gare_depart, gare_arrivee, horaire_train)\n",
        "\n",
        "    dictionnaire_correspondances = {}\n",
        "    session = trajet_recherche['journeys'][0]['sections'][0] \n",
        "\n",
        "    if \"stop_date_times\" in session:\n",
        "        for i in session['stop_date_times']: \n",
        "\n",
        "            if i['stop_point']['id'] == \"stop_point:OCE:SP:TGV-87686006\" : \n",
        "                #print(\"on ne prend pas la gare de Lyon - ce n'est pas une gare du trajet\")\n",
        "                pass\n",
        "\n",
        "            else :\n",
        "                # on va appliquer \u00e0 nouveau la fonction des trajets disponibles mais pour l'ensemble des gares\n",
        "                gare_dep_connexion = i['stop_point']['id']\n",
        "                nom_gare_dep = i['stop_point']['name']\n",
        "                heure_dep_connexion = i['arrival_date_time']\n",
        "\n",
        "                trajet_recherche_connexion = trouver_trajet_dispo_max_heure(gare_dep_connexion, heure_dep_connexion, horaire_max)\n",
        "\n",
        "                test_as_connexion_on_time = True\n",
        "\n",
        "                # pour chaque trajet possible depuis la gare o\u00f9 on est arriv\u00e9 depuis paris, on va v\u00e9rifier qu'on part bien  \n",
        "                # avant 8h le lendemain\n",
        "                for vers_autre_gare in trajet_recherche_connexion :  \n",
        "                    heure_depart_depuis_autre_gare = vers_autre_gare['stop_date_time']['departure_date_time']\n",
        "                    destination_trajet = vers_autre_gare['display_informations']['direction']\n",
        "\n",
        "                    if convertir_en_temps(heure_depart_depuis_autre_gare) < convertir_en_temps(horaire_max) : \n",
        "                        dictionnaire_correspondances[(nom_gare_dep,heure_depart_depuis_autre_gare)] = destination_trajet  \n",
        "                        test_as_connexion_on_time = False\n",
        "\n",
        "                if test_as_connexion_on_time == True : \n",
        "                        dictionnaire_correspondances[(nom_gare_dep,vers_autre_gare['stop_date_time']['departure_date_time'])] = \"\"\n",
        "\n",
        "    # on garde toutes les gares o\u00f9 on peut aller depuis une des gares de correspondance, avec un d\u00e9part avant 8H\n",
        "\n",
        "\n",
        "    for k,v in dictionnaire_correspondances.items() : \n",
        "        if len(v) == 0 : \n",
        "            pass\n",
        "        else :\n",
        "            gares_entre_dep_arr = trouver_toutes_les_gares_du_trajet(dict_nom_gare_code[k[0]], dict_label_gare_code[v], k[1])\n",
        "            session = gares_entre_dep_arr['journeys'][0]['sections'][1]\n",
        "            if \"stop_date_times\" in session:\n",
        "                for gare in session['stop_date_times'] : \n",
        "                    gares_avec_connexion.append(gare['stop_point']['name'])"
      ]
    },
    {
      "cell_type": "code",
      "execution_count": 35,
      "metadata": {
        "ExecuteTime": {
          "end_time": "2016-10-31T22:31:46.495972",
          "start_time": "2016-10-31T22:31:46.488473"
        },
        "collapsed": true
      },
      "outputs": [],
      "source": [
        "# la liste des gares atteignables avec 1 correspondance            \n",
        "gares_avec_connexion = set(gares_avec_connexion)"
      ]
    },
    {
      "cell_type": "code",
      "execution_count": 36,
      "metadata": {
        "ExecuteTime": {
          "end_time": "2016-10-31T22:31:46.531470",
          "start_time": "2016-10-31T22:31:46.501971"
        }
      },
      "outputs": [
        {
          "name": "stdout",
          "output_type": "stream",
          "text": [
            "['Belfort-Montb\u00e9liard-TGV', 'Douai', 'Agde', 'St-Pierre-des-Corps', 'Colmar', 'Laval', 'Strasbourg', 'A\u00e9ropt-C-de-Gaulle-TGV', 'Rouen-Rive-Droite', 'Bourg-en-Bresse', 'Marne-la-Vall\u00e9e-Chessy.', 'Ventimiglia-Stazione', 'Arras', 'Luxembourg', 'S\u00e8te', 'Monaco-Monte-Carlo', 'Besan\u00e7on-Franche-Comt\u00e9', 'Le Mans', 'Lille Europe', 'Mulhouse', 'M\u00e2con-Ville', 'Lons-le-Saunier', 'Menton', 'Lille Flandres', 'Thionville', 'Dijon-Ville', 'Saumur', 'Metz-Ville', 'Besan\u00e7on-Viotte', 'Nantes', 'Versailles-Chantiers', 'Mantes-la-Jolie-TGV', 'Massy-TGV', 'Angers-St-Laud', 'St-Michel-Valloire', 'Le Havre', 'TGV Haute-Picardie', 'Massy-Palaiseau', 'Bruxelles-M./Brussel-Z.', 'Rennes']\n"
          ]
        }
      ],
      "source": [
        "gares_connexion = [a for a in gares_avec_connexion if a not in liste_gares_direct]\n",
        "print(gares_connexion)"
      ]
    },
    {
      "cell_type": "markdown",
      "metadata": {},
      "source": [
        "#### Question 5\n",
        "- Repr\u00e9senter toutes les gares atteignables avec un graphique de type scatter. Distinguer les gares atteintes en un seul trajet et celles atteintes avec une correspondance."
      ]
    },
    {
      "cell_type": "code",
      "execution_count": 37,
      "metadata": {
        "ExecuteTime": {
          "end_time": "2016-10-31T22:31:46.568470",
          "start_time": "2016-10-31T22:31:46.535469"
        }
      },
      "outputs": [
        {
          "data": {
            "text/plain": [
              "{'Agde': 'correspondance',\n",
              " 'Aix-en-Provence-TGV': 'direct',\n",
              " 'Aix-les-Bains-le-Revard': 'direct',\n",
              " 'Angers-St-Laud': 'correspondance',\n",
              " 'Annecy': 'direct',\n",
              " 'Antibes': 'direct',\n",
              " 'Arles': 'direct',\n",
              " 'Arras': 'correspondance',\n",
              " 'Avignon-Centre': 'direct',\n",
              " 'Avignon-TGV': 'direct',\n",
              " 'A\u00e9ropt-C-de-Gaulle-TGV': 'correspondance',\n",
              " 'Bardonecchia-Stazione': 'direct',\n",
              " 'Belfort-Montb\u00e9liard-TGV': 'correspondance',\n",
              " 'Besan\u00e7on-Franche-Comt\u00e9': 'correspondance',\n",
              " 'Besan\u00e7on-Viotte': 'correspondance',\n",
              " 'Bourg-en-Bresse': 'correspondance',\n",
              " 'Bruxelles-M./Brussel-Z.': 'correspondance',\n",
              " 'B\u00e9ziers': 'direct',\n",
              " 'Cannes': 'direct',\n",
              " 'Chamb\u00e9ry-Chal.-les-Eaux': 'direct',\n",
              " 'Colmar': 'correspondance',\n",
              " 'Creusot - TGV (le)': 'direct',\n",
              " 'Dijon-Ville': 'correspondance',\n",
              " 'Douai': 'correspondance',\n",
              " 'Grenoble': 'direct',\n",
              " 'Laval': 'correspondance',\n",
              " 'Le Havre': 'correspondance',\n",
              " 'Le Mans': 'correspondance',\n",
              " 'Les Arcs-Draguignan': 'direct',\n",
              " 'Lille Europe': 'correspondance',\n",
              " 'Lille Flandres': 'correspondance',\n",
              " 'Lons-le-Saunier': 'correspondance',\n",
              " 'Luxembourg': 'correspondance',\n",
              " 'Lyon-Part-Dieu': 'direct',\n",
              " 'Lyon-Perrache': 'direct',\n",
              " 'Lyon-Saint-Exupery-Tgv': 'direct',\n",
              " 'Mantes-la-Jolie-TGV': 'correspondance',\n",
              " 'Marne-la-Vall\u00e9e-Chessy.': 'correspondance',\n",
              " 'Marseille-St-Charles': 'direct',\n",
              " 'Massy-Palaiseau': 'correspondance',\n",
              " 'Massy-TGV': 'correspondance',\n",
              " 'Menton': 'correspondance',\n",
              " 'Metz-Ville': 'correspondance',\n",
              " 'Milano-Porta-Garibaldi': 'direct',\n",
              " 'Miramas': 'direct',\n",
              " 'Modane': 'direct',\n",
              " 'Monaco-Monte-Carlo': 'correspondance',\n",
              " 'Montpellier-Saint-Roch': 'direct',\n",
              " 'Mont\u00e9limar': 'direct',\n",
              " 'Mulhouse': 'correspondance',\n",
              " 'M\u00e2con-Loch\u00e9-TGV': 'direct',\n",
              " 'M\u00e2con-Ville': 'correspondance',\n",
              " 'Nantes': 'correspondance',\n",
              " 'Narbonne': 'direct',\n",
              " 'Nice-Ville': 'direct',\n",
              " 'N\u00eemes': 'direct',\n",
              " 'Orange': 'direct',\n",
              " 'Oulx-Cesana-Clav-Sestri': 'direct',\n",
              " 'Paris-Gare-de-Lyon': 'depart',\n",
              " 'Perpignan': 'direct',\n",
              " 'Rennes': 'correspondance',\n",
              " 'Rouen-Rive-Droite': 'correspondance',\n",
              " 'Saumur': 'correspondance',\n",
              " 'St-Etienne-Ch\u00e2teaucreux': 'direct',\n",
              " 'St-Jean-de-Maurienne-A.': 'direct',\n",
              " 'St-Michel-Valloire': 'correspondance',\n",
              " 'St-Pierre-des-Corps': 'correspondance',\n",
              " 'St-Rapha\u00ebl-Valescure': 'direct',\n",
              " 'Strasbourg': 'correspondance',\n",
              " 'S\u00e8te': 'correspondance',\n",
              " 'TGV Haute-Picardie': 'correspondance',\n",
              " 'Thionville': 'correspondance',\n",
              " 'Torino-Porta-Susa': 'direct',\n",
              " 'Toulon': 'direct',\n",
              " 'Valence-TGV': 'direct',\n",
              " 'Valence-Ville': 'direct',\n",
              " 'Ventimiglia-Stazione': 'correspondance',\n",
              " 'Versailles-Chantiers': 'correspondance'}"
            ]
          },
          "execution_count": 38,
          "metadata": {},
          "output_type": "execute_result"
        }
      ],
      "source": [
        "######### Type de chaque gare pour le graphique\n",
        "dict_type_gares = {}\n",
        "for a in liste_gares_direct :\n",
        "    dict_type_gares[a] = \"direct\"\n",
        "for a in gares_connexion :\n",
        "    dict_type_gares[a] = \"correspondance\"    \n",
        "dict_type_gares['Paris-Gare-de-Lyon'] = 'depart'\n",
        "dict_type_gares"
      ]
    },
    {
      "cell_type": "markdown",
      "metadata": {},
      "source": [
        "On repr\u00e9sente tout \u00e7a sur un graphique"
      ]
    },
    {
      "cell_type": "code",
      "execution_count": 39,
      "metadata": {
        "ExecuteTime": {
          "end_time": "2016-10-31T22:31:46.634977",
          "start_time": "2016-10-31T22:31:46.572473"
        },
        "collapsed": true
      },
      "outputs": [],
      "source": [
        "# on va les repr\u00e9senter gr\u00e2ce \u00e0 la base des latitude / longitude\n",
        "\n",
        "import pandas as pd\n",
        "import matplotlib.pyplot as plt\n",
        "import matplotlib as mpl\n",
        "from matplotlib.lines import Line2D \n",
        "\n",
        "mpl.rcParams['axes.facecolor'] = \"whitesmoke\"\n",
        "\n",
        "palette = plt.cm.spring \n",
        "\n",
        "liste_couleurs = [palette(0), palette(0.5), palette(0.8)]\n",
        "\n",
        "data_all = pd.read_csv(\"./ensemble_gares.csv\", encoding = \"ISO-8859-1\")\n",
        "\n",
        "connexions = []\n",
        "lat = []\n",
        "lon = []\n",
        "labels = []\n",
        "\n",
        "dict_lat = data_all.set_index('name')['lat'].to_dict()\n",
        "dict_lon = data_all.set_index('name')['lon'].to_dict()\n",
        "#dict_lab = data_all.set_index('name')['name'].str.replace(\"gare de\",\"\").to_dict()\n",
        "\n",
        "\n",
        "for gare in dict_type_gares.keys() : \n",
        "    lat.append(dict_lat[gare])                              \n",
        "    lon.append(dict_lon[gare])\n",
        "    labels.append(gare)"
      ]
    },
    {
      "cell_type": "code",
      "execution_count": 40,
      "metadata": {
        "ExecuteTime": {
          "end_time": "2016-10-31T22:31:48.233605",
          "start_time": "2016-10-31T22:31:46.638970"
        }
      },
      "outputs": [
        {
          "data": {
            "text/plain": [
              "<matplotlib.text.Text at 0x27196be6208>"
            ]
          },
          "execution_count": 41,
          "metadata": {},
          "output_type": "execute_result"
        },
        {
          "data": {
            "image/png": "[encoded data removed]",
            "text/html": [
              "\n",
              "\n",
              "<style>\n",
              "\n",
              "</style>\n",
              "\n",
              "<div id=\"fig_el81602686871255640830553839\"></div>\n",
              "<script>\n",
              "function mpld3_load_lib(url, callback){\n",
              "  var s = document.createElement('script');\n",
              "  s.src = url;\n",
              "  s.async = true;\n",
              "  s.onreadystatechange = s.onload = callback;\n",
              "  s.onerror = function(){console.warn(\"failed to load library \" + url);};\n",
              "  document.getElementsByTagName(\"head\")[0].appendChild(s);\n",
              "}\n",
              "\n",
              "if(typeof(mpld3) !== \"undefined\" && mpld3._mpld3IsLoaded){\n",
              "   // already loaded: just create the figure\n",
              "   !function(mpld3){\n",
              "       \n",
              "       mpld3.draw_figure(\"fig_el81602686871255640830553839\", {\"width\": 864.0, \"height\": 720.0, \"axes\": [{\"bbox\": [0.125, 0.125, 0.775, 0.755], \"xlim\": [-2.2235295090203104, 9.738780509020307], \"ylim\": [42.278990716372334, 51.25235828362766], \"xdomain\": [-2.2235295090203104, 9.738780509020307], \"ydomain\": [42.278990716372334, 51.25235828362766], \"xscale\": \"linear\", \"yscale\": \"linear\", \"axes\": [{\"position\": \"bottom\", \"nticks\": 8, \"tickvalues\": null, \"tickformat\": null, \"scale\": \"linear\", \"fontsize\": 10.0, \"grid\": {\"gridOn\": false}, \"visible\": true}, {\"position\": \"left\", \"nticks\": 11, \"tickvalues\": null, \"tickformat\": null, \"scale\": \"linear\", \"fontsize\": 10.0, \"grid\": {\"gridOn\": false}, \"visible\": true}], \"axesbg\": \"#F5F5F5\", \"axesbgalpha\": null, \"zoomable\": true, \"id\": \"el81602686882968184\", \"lines\": [], \"paths\": [{\"data\": \"data03\", \"xindex\": 0, \"yindex\": 1, \"coordinates\": \"axes\", \"pathcodes\": [\"M\", \"L\", \"S\", \"L\", \"S\", \"L\", \"S\", \"L\", \"S\", \"Z\"], \"id\": \"el81602686884012888\", \"dasharray\": \"none\", \"alpha\": 0.8, \"facecolor\": \"#FFFFFF\", \"edgecolor\": \"#CCCCCC\", \"edgewidth\": 1.0, \"zorder\": 1000000.0}], \"markers\": [{\"data\": \"data02\", \"xindex\": 0, \"yindex\": 1, \"coordinates\": \"axes\", \"id\": \"el81602686884015072pts\", \"facecolor\": \"#FF00FF\", \"edgecolor\": \"#1F77B4\", \"edgewidth\": 1.0, \"alpha\": 0.5, \"zorder\": 1000002.0, \"markerpath\": [[[0.0, 5.0], [1.3260155, 5.0], [2.597899353924267, 4.473168457941209], [3.5355339059327378, 3.5355339059327378], [4.473168457941209, 2.597899353924267], [5.0, 1.3260155], [5.0, 0.0], [5.0, -1.3260155], [4.473168457941209, -2.597899353924267], [3.5355339059327378, -3.5355339059327378], [2.597899353924267, -4.473168457941209], [1.3260155, -5.0], [0.0, -5.0], [-1.3260155, -5.0], [-2.597899353924267, -4.473168457941209], [-3.5355339059327378, -3.5355339059327378], [-4.473168457941209, -2.597899353924267], [-5.0, -1.3260155], [-5.0, 0.0], [-5.0, 1.3260155], [-4.473168457941209, 2.597899353924267], [-3.5355339059327378, 3.5355339059327378], [-2.597899353924267, 4.473168457941209], [-1.3260155, 5.0], [0.0, 5.0]], [\"M\", \"C\", \"C\", \"C\", \"C\", \"C\", \"C\", \"C\", \"C\", \"Z\"]]}, {\"data\": \"data02\", \"xindex\": 0, \"yindex\": 2, \"coordinates\": \"axes\", \"id\": \"el81602686884042736pts\", \"facecolor\": \"#FF807F\", \"edgecolor\": \"#1F77B4\", \"edgewidth\": 1.0, \"alpha\": 0.5, \"zorder\": 1000002.0, \"markerpath\": [[[0.0, 5.0], [1.3260155, 5.0], [2.597899353924267, 4.473168457941209], [3.5355339059327378, 3.5355339059327378], [4.473168457941209, 2.597899353924267], [5.0, 1.3260155], [5.0, 0.0], [5.0, -1.3260155], [4.473168457941209, -2.597899353924267], [3.5355339059327378, -3.5355339059327378], [2.597899353924267, -4.473168457941209], [1.3260155, -5.0], [0.0, -5.0], [-1.3260155, -5.0], [-2.597899353924267, -4.473168457941209], [-3.5355339059327378, -3.5355339059327378], [-4.473168457941209, -2.597899353924267], [-5.0, -1.3260155], [-5.0, 0.0], [-5.0, 1.3260155], [-4.473168457941209, 2.597899353924267], [-3.5355339059327378, 3.5355339059327378], [-2.597899353924267, 4.473168457941209], [-1.3260155, 5.0], [0.0, 5.0]], [\"M\", \"C\", \"C\", \"C\", \"C\", \"C\", \"C\", \"C\", \"C\", \"Z\"]]}, {\"data\": \"data02\", \"xindex\": 0, \"yindex\": 3, \"coordinates\": \"axes\", \"id\": \"el81602686884082464pts\", \"facecolor\": \"#FFCC32\", \"edgecolor\": \"#1F77B4\", \"edgewidth\": 1.0, \"alpha\": 0.5, \"zorder\": 1000002.0, \"markerpath\": [[[0.0, 5.0], [1.3260155, 5.0], [2.597899353924267, 4.473168457941209], [3.5355339059327378, 3.5355339059327378], [4.473168457941209, 2.597899353924267], [5.0, 1.3260155], [5.0, 0.0], [5.0, -1.3260155], [4.473168457941209, -2.597899353924267], [3.5355339059327378, -3.5355339059327378], [2.597899353924267, -4.473168457941209], [1.3260155, -5.0], [0.0, -5.0], [-1.3260155, -5.0], [-2.597899353924267, -4.473168457941209], [-3.5355339059327378, -3.5355339059327378], [-4.473168457941209, -2.597899353924267], [-5.0, -1.3260155], [-5.0, 0.0], [-5.0, 1.3260155], [-4.473168457941209, 2.597899353924267], [-3.5355339059327378, 3.5355339059327378], [-2.597899353924267, 4.473168457941209], [-1.3260155, 5.0], [0.0, 5.0]], [\"M\", \"C\", \"C\", \"C\", \"C\", \"C\", \"C\", \"C\", \"C\", \"Z\"]]}], \"texts\": [{\"text\": \"Mulhouse\", \"position\": [7.392833, 47.791785999999995], \"coordinates\": \"data\", \"h_anchor\": \"start\", \"v_baseline\": \"auto\", \"rotation\": -0.0, \"fontsize\": 13.0, \"color\": \"#000000\", \"alpha\": 1, \"zorder\": 3, \"id\": \"el81602686883781544\"}, {\"text\": \"Modane\", \"position\": [6.609172, 45.14355200000001], \"coordinates\": \"data\", \"h_anchor\": \"end\", \"v_baseline\": \"auto\", \"rotation\": -0.0, \"fontsize\": 13.0, \"color\": \"#000000\", \"alpha\": 1, \"zorder\": 3, \"id\": \"el81602686883781880\"}, {\"text\": \"Milano-Porta-Garibaldi\", \"position\": [9.137571999999999, 45.434967], \"coordinates\": \"data\", \"h_anchor\": \"end\", \"v_baseline\": \"auto\", \"rotation\": -0.0, \"fontsize\": 13.0, \"color\": \"#000000\", \"alpha\": 1, \"zorder\": 3, \"id\": \"el81602686883782216\"}, {\"text\": \"Thionville\", \"position\": [6.2188609999999995, 49.403893], \"coordinates\": \"data\", \"h_anchor\": \"start\", \"v_baseline\": \"auto\", \"rotation\": -0.0, \"fontsize\": 13.0, \"color\": \"#000000\", \"alpha\": 1, \"zorder\": 3, \"id\": \"el81602686883782552\"}, {\"text\": \"St-Etienne-Ch\\u00e2teaucreux\", \"position\": [4.349999, 45.393376], \"coordinates\": \"data\", \"h_anchor\": \"end\", \"v_baseline\": \"auto\", \"rotation\": -0.0, \"fontsize\": 13.0, \"color\": \"#000000\", \"alpha\": 1, \"zorder\": 3, \"id\": \"el81602686883803432\"}, {\"text\": \"Avignon-TGV\", \"position\": [4.73616, 43.871963], \"coordinates\": \"data\", \"h_anchor\": \"end\", \"v_baseline\": \"auto\", \"rotation\": -0.0, \"fontsize\": 13.0, \"color\": \"#000000\", \"alpha\": 1, \"zorder\": 3, \"id\": \"el81602686883803768\"}, {\"text\": \"Chamb\\u00e9ry-Chal.-les-Eaux\", \"position\": [5.8697989999999995, 45.521032000000005], \"coordinates\": \"data\", \"h_anchor\": \"end\", \"v_baseline\": \"auto\", \"rotation\": -0.0, \"fontsize\": 13.0, \"color\": \"#000000\", \"alpha\": 1, \"zorder\": 3, \"id\": \"el81602686883804104\"}, {\"text\": \"Cannes\", \"position\": [6.969722, 43.503918], \"coordinates\": \"data\", \"h_anchor\": \"end\", \"v_baseline\": \"auto\", \"rotation\": -0.0, \"fontsize\": 13.0, \"color\": \"#000000\", \"alpha\": 1, \"zorder\": 3, \"id\": \"el81602686883804440\"}, {\"text\": \"Marne-la-Vall\\u00e9e-Chessy.\", \"position\": [2.832899, 48.920598999999996], \"coordinates\": \"data\", \"h_anchor\": \"start\", \"v_baseline\": \"auto\", \"rotation\": -0.0, \"fontsize\": 13.0, \"color\": \"#000000\", \"alpha\": 1, \"zorder\": 3, \"id\": \"el81602686883804776\"}, {\"text\": \"Mantes-la-Jolie-TGV\", \"position\": [1.753309, 49.039691999999995], \"coordinates\": \"data\", \"h_anchor\": \"start\", \"v_baseline\": \"auto\", \"rotation\": -0.0, \"fontsize\": 13.0, \"color\": \"#000000\", \"alpha\": 1, \"zorder\": 3, \"id\": \"el81602686883805112\"}, {\"text\": \"Aix-en-Provence-TGV\", \"position\": [5.267273, 43.405151000000004], \"coordinates\": \"data\", \"h_anchor\": \"end\", \"v_baseline\": \"auto\", \"rotation\": -0.0, \"fontsize\": 13.0, \"color\": \"#000000\", \"alpha\": 1, \"zorder\": 3, \"id\": \"el81602686883805448\"}, {\"text\": \"N\\u00eemes\", \"position\": [4.315840000000001, 43.78229], \"coordinates\": \"data\", \"h_anchor\": \"end\", \"v_baseline\": \"auto\", \"rotation\": -0.0, \"fontsize\": 13.0, \"color\": \"#000000\", \"alpha\": 1, \"zorder\": 3, \"id\": \"el81602686883805784\"}, {\"text\": \"Massy-TGV\", \"position\": [2.3115849999999996, 48.776030999999996], \"coordinates\": \"data\", \"h_anchor\": \"start\", \"v_baseline\": \"auto\", \"rotation\": -0.0, \"fontsize\": 13.0, \"color\": \"#000000\", \"alpha\": 1, \"zorder\": 3, \"id\": \"el81602686883806120\"}, {\"text\": \"St-Rapha\\u00ebl-Valescure\", \"position\": [6.719011999999999, 43.373611000000004], \"coordinates\": \"data\", \"h_anchor\": \"end\", \"v_baseline\": \"auto\", \"rotation\": -0.0, \"fontsize\": 13.0, \"color\": \"#000000\", \"alpha\": 1, \"zorder\": 3, \"id\": \"el81602686883806456\"}, {\"text\": \"TGV Haute-Picardie\", \"position\": [2.8816819999999996, 49.909209], \"coordinates\": \"data\", \"h_anchor\": \"start\", \"v_baseline\": \"auto\", \"rotation\": -0.0, \"fontsize\": 13.0, \"color\": \"#000000\", \"alpha\": 1, \"zorder\": 3, \"id\": \"el81602686883806792\"}, {\"text\": \"B\\u00e9ziers\", \"position\": [3.169225, 43.286216], \"coordinates\": \"data\", \"h_anchor\": \"end\", \"v_baseline\": \"auto\", \"rotation\": -0.0, \"fontsize\": 13.0, \"color\": \"#000000\", \"alpha\": 1, \"zorder\": 3, \"id\": \"el81602686883807128\"}, {\"text\": \"Massy-Palaiseau\", \"position\": [2.3066139999999997, 48.77490399999999], \"coordinates\": \"data\", \"h_anchor\": \"start\", \"v_baseline\": \"auto\", \"rotation\": -0.0, \"fontsize\": 13.0, \"color\": \"#000000\", \"alpha\": 1, \"zorder\": 3, \"id\": \"el81602686883832104\"}, {\"text\": \"Lille Europe\", \"position\": [3.125774, 50.688860999999996], \"coordinates\": \"data\", \"h_anchor\": \"start\", \"v_baseline\": \"auto\", \"rotation\": -0.0, \"fontsize\": 13.0, \"color\": \"#000000\", \"alpha\": 1, \"zorder\": 3, \"id\": \"el81602686883832440\"}, {\"text\": \"M\\u00e2con-Loch\\u00e9-TGV\", \"position\": [4.728947000000001, 46.232892], \"coordinates\": \"data\", \"h_anchor\": \"end\", \"v_baseline\": \"auto\", \"rotation\": -0.0, \"fontsize\": 13.0, \"color\": \"#000000\", \"alpha\": 1, \"zorder\": 3, \"id\": \"el81602686883832776\"}, {\"text\": \"Marseille-St-Charles\", \"position\": [5.330659, 43.25273], \"coordinates\": \"data\", \"h_anchor\": \"end\", \"v_baseline\": \"auto\", \"rotation\": -0.0, \"fontsize\": 13.0, \"color\": \"#000000\", \"alpha\": 1, \"zorder\": 3, \"id\": \"el81602686883833112\"}, {\"text\": \"Douai\", \"position\": [3.1399919999999995, 50.421687], \"coordinates\": \"data\", \"h_anchor\": \"start\", \"v_baseline\": \"auto\", \"rotation\": -0.0, \"fontsize\": 13.0, \"color\": \"#000000\", \"alpha\": 1, \"zorder\": 3, \"id\": \"el81602686883833448\"}, {\"text\": \"Torino-Porta-Susa\", \"position\": [7.617503999999999, 45.023891], \"coordinates\": \"data\", \"h_anchor\": \"end\", \"v_baseline\": \"auto\", \"rotation\": -0.0, \"fontsize\": 13.0, \"color\": \"#000000\", \"alpha\": 1, \"zorder\": 3, \"id\": \"el81602686883833784\"}, {\"text\": \"Monaco-Monte-Carlo\", \"position\": [7.469664999999999, 43.788488], \"coordinates\": \"data\", \"h_anchor\": \"start\", \"v_baseline\": \"auto\", \"rotation\": -0.0, \"fontsize\": 13.0, \"color\": \"#000000\", \"alpha\": 1, \"zorder\": 3, \"id\": \"el81602686883834120\"}, {\"text\": \"Metz-Ville\", \"position\": [6.2271980000000005, 49.159759], \"coordinates\": \"data\", \"h_anchor\": \"start\", \"v_baseline\": \"auto\", \"rotation\": -0.0, \"fontsize\": 13.0, \"color\": \"#000000\", \"alpha\": 1, \"zorder\": 3, \"id\": \"el81602686883834456\"}, {\"text\": \"Saumur\", \"position\": [-0.021427, 47.318974999999995], \"coordinates\": \"data\", \"h_anchor\": \"start\", \"v_baseline\": \"auto\", \"rotation\": -0.0, \"fontsize\": 13.0, \"color\": \"#000000\", \"alpha\": 1, \"zorder\": 3, \"id\": \"el81602686883834792\"}, {\"text\": \"St-Michel-Valloire\", \"position\": [6.521113, 45.26724099999999], \"coordinates\": \"data\", \"h_anchor\": \"start\", \"v_baseline\": \"auto\", \"rotation\": -0.0, \"fontsize\": 13.0, \"color\": \"#000000\", \"alpha\": 1, \"zorder\": 3, \"id\": \"el81602686883835128\"}, {\"text\": \"Le Havre\", \"position\": [0.174845, 49.542657], \"coordinates\": \"data\", \"h_anchor\": \"start\", \"v_baseline\": \"auto\", \"rotation\": -0.0, \"fontsize\": 13.0, \"color\": \"#000000\", \"alpha\": 1, \"zorder\": 3, \"id\": \"el81602686883835464\"}, {\"text\": \"Laval\", \"position\": [-0.7109289999999999, 48.126265], \"coordinates\": \"data\", \"h_anchor\": \"start\", \"v_baseline\": \"auto\", \"rotation\": -0.0, \"fontsize\": 13.0, \"color\": \"#000000\", \"alpha\": 1, \"zorder\": 3, \"id\": \"el81602686883835800\"}, {\"text\": \"St-Pierre-des-Corps\", \"position\": [0.7750560000000001, 47.435733], \"coordinates\": \"data\", \"h_anchor\": \"start\", \"v_baseline\": \"auto\", \"rotation\": -0.0, \"fontsize\": 13.0, \"color\": \"#000000\", \"alpha\": 1, \"zorder\": 3, \"id\": \"el81602686883868968\"}, {\"text\": \"Lyon-Saint-Exupery-Tgv\", \"position\": [5.025836, 45.670923], \"coordinates\": \"data\", \"h_anchor\": \"end\", \"v_baseline\": \"auto\", \"rotation\": -0.0, \"fontsize\": 13.0, \"color\": \"#000000\", \"alpha\": 1, \"zorder\": 3, \"id\": \"el81602686883869304\"}, {\"text\": \"Bruxelles-M./Brussel-Z.\", \"position\": [4.385886, 50.885279999999995], \"coordinates\": \"data\", \"h_anchor\": \"start\", \"v_baseline\": \"auto\", \"rotation\": -0.0, \"fontsize\": 13.0, \"color\": \"#000000\", \"alpha\": 1, \"zorder\": 3, \"id\": \"el81602686883869640\"}, {\"text\": \"Strasbourg\", \"position\": [7.783944999999999, 48.635151], \"coordinates\": \"data\", \"h_anchor\": \"start\", \"v_baseline\": \"auto\", \"rotation\": -0.0, \"fontsize\": 13.0, \"color\": \"#000000\", \"alpha\": 1, \"zorder\": 3, \"id\": \"el81602686883869976\"}, {\"text\": \"Grenoble\", \"position\": [5.664527, 45.141456000000005], \"coordinates\": \"data\", \"h_anchor\": \"end\", \"v_baseline\": \"auto\", \"rotation\": -0.0, \"fontsize\": 13.0, \"color\": \"#000000\", \"alpha\": 1, \"zorder\": 3, \"id\": \"el81602686883870312\"}, {\"text\": \"A\\u00e9ropt-C-de-Gaulle-TGV\", \"position\": [2.621609, 49.054021], \"coordinates\": \"data\", \"h_anchor\": \"start\", \"v_baseline\": \"auto\", \"rotation\": -0.0, \"fontsize\": 13.0, \"color\": \"#000000\", \"alpha\": 1, \"zorder\": 3, \"id\": \"el81602686883870648\"}, {\"text\": \"Lille Flandres\", \"position\": [3.1210519999999997, 50.686215], \"coordinates\": \"data\", \"h_anchor\": \"start\", \"v_baseline\": \"auto\", \"rotation\": -0.0, \"fontsize\": 13.0, \"color\": \"#000000\", \"alpha\": 1, \"zorder\": 3, \"id\": \"el81602686883870984\"}, {\"text\": \"Oulx-Cesana-Clav-Sestri\", \"position\": [6.7815330000000005, 44.988782], \"coordinates\": \"data\", \"h_anchor\": \"end\", \"v_baseline\": \"auto\", \"rotation\": -0.0, \"fontsize\": 13.0, \"color\": \"#000000\", \"alpha\": 1, \"zorder\": 3, \"id\": \"el81602686883871320\"}, {\"text\": \"Antibes\", \"position\": [7.069512, 43.535794], \"coordinates\": \"data\", \"h_anchor\": \"end\", \"v_baseline\": \"auto\", \"rotation\": -0.0, \"fontsize\": 13.0, \"color\": \"#000000\", \"alpha\": 1, \"zorder\": 3, \"id\": \"el81602686883871656\"}, {\"text\": \"Creusot - TGV (le)\", \"position\": [4.449387000000001, 46.715300000000006], \"coordinates\": \"data\", \"h_anchor\": \"end\", \"v_baseline\": \"auto\", \"rotation\": -0.0, \"fontsize\": 13.0, \"color\": \"#000000\", \"alpha\": 1, \"zorder\": 3, \"id\": \"el81602686883871992\"}, {\"text\": \"Belfort-Montb\\u00e9liard-TGV\", \"position\": [6.949019, 47.636579], \"coordinates\": \"data\", \"h_anchor\": \"start\", \"v_baseline\": \"auto\", \"rotation\": -0.0, \"fontsize\": 13.0, \"color\": \"#000000\", \"alpha\": 1, \"zorder\": 3, \"id\": \"el81602686883872328\"}, {\"text\": \"Nice-Ville\", \"position\": [7.211781, 43.654716], \"coordinates\": \"data\", \"h_anchor\": \"end\", \"v_baseline\": \"auto\", \"rotation\": -0.0, \"fontsize\": 13.0, \"color\": \"#000000\", \"alpha\": 1, \"zorder\": 3, \"id\": \"el81602686883872664\"}, {\"text\": \"Arles\", \"position\": [4.582025, 43.634842], \"coordinates\": \"data\", \"h_anchor\": \"end\", \"v_baseline\": \"auto\", \"rotation\": -0.0, \"fontsize\": 13.0, \"color\": \"#000000\", \"alpha\": 1, \"zorder\": 3, \"id\": \"el81602686883889448\"}, {\"text\": \"Lyon-Part-Dieu\", \"position\": [4.809438, 45.71058], \"coordinates\": \"data\", \"h_anchor\": \"end\", \"v_baseline\": \"auto\", \"rotation\": -0.0, \"fontsize\": 13.0, \"color\": \"#000000\", \"alpha\": 1, \"zorder\": 3, \"id\": \"el81602686883889784\"}, {\"text\": \"St-Jean-de-Maurienne-A.\", \"position\": [6.304194000000001, 45.227835], \"coordinates\": \"data\", \"h_anchor\": \"end\", \"v_baseline\": \"auto\", \"rotation\": -0.0, \"fontsize\": 13.0, \"color\": \"#000000\", \"alpha\": 1, \"zorder\": 3, \"id\": \"el81602686883890120\"}, {\"text\": \"Bardonecchia-Stazione\", \"position\": [6.659629, 45.02642], \"coordinates\": \"data\", \"h_anchor\": \"end\", \"v_baseline\": \"auto\", \"rotation\": -0.0, \"fontsize\": 13.0, \"color\": \"#000000\", \"alpha\": 1, \"zorder\": 3, \"id\": \"el81602686883890456\"}, {\"text\": \"S\\u00e8te\", \"position\": [3.746404, 43.462804], \"coordinates\": \"data\", \"h_anchor\": \"start\", \"v_baseline\": \"auto\", \"rotation\": -0.0, \"fontsize\": 13.0, \"color\": \"#000000\", \"alpha\": 1, \"zorder\": 3, \"id\": \"el81602686883890792\"}, {\"text\": \"Aix-les-Bains-le-Revard\", \"position\": [5.859349, 45.637856], \"coordinates\": \"data\", \"h_anchor\": \"end\", \"v_baseline\": \"auto\", \"rotation\": -0.0, \"fontsize\": 13.0, \"color\": \"#000000\", \"alpha\": 1, \"zorder\": 3, \"id\": \"el81602686883891128\"}, {\"text\": \"Colmar\", \"position\": [7.397065, 48.123137], \"coordinates\": \"data\", \"h_anchor\": \"start\", \"v_baseline\": \"auto\", \"rotation\": -0.0, \"fontsize\": 13.0, \"color\": \"#000000\", \"alpha\": 1, \"zorder\": 3, \"id\": \"el81602686883891464\"}, {\"text\": \"Luxembourg\", \"position\": [6.184022, 49.64962], \"coordinates\": \"data\", \"h_anchor\": \"start\", \"v_baseline\": \"auto\", \"rotation\": -0.0, \"fontsize\": 13.0, \"color\": \"#000000\", \"alpha\": 1, \"zorder\": 3, \"id\": \"el81602686883891800\"}, {\"text\": \"Arras\", \"position\": [2.8311539999999997, 50.336827], \"coordinates\": \"data\", \"h_anchor\": \"start\", \"v_baseline\": \"auto\", \"rotation\": -0.0, \"fontsize\": 13.0, \"color\": \"#000000\", \"alpha\": 1, \"zorder\": 3, \"id\": \"el81602686883892136\"}, {\"text\": \"Lons-le-Saunier\", \"position\": [5.600873999999999, 46.71839], \"coordinates\": \"data\", \"h_anchor\": \"start\", \"v_baseline\": \"auto\", \"rotation\": -0.0, \"fontsize\": 13.0, \"color\": \"#000000\", \"alpha\": 1, \"zorder\": 3, \"id\": \"el81602686883892472\"}, {\"text\": \"M\\u00e2con-Ville\", \"position\": [4.875146, 46.352653999999994], \"coordinates\": \"data\", \"h_anchor\": \"start\", \"v_baseline\": \"auto\", \"rotation\": -0.0, \"fontsize\": 13.0, \"color\": \"#000000\", \"alpha\": 1, \"zorder\": 3, \"id\": \"el81602686883892808\"}, {\"text\": \"Montpellier-Saint-Roch\", \"position\": [3.832368, 43.555829], \"coordinates\": \"data\", \"h_anchor\": \"end\", \"v_baseline\": \"auto\", \"rotation\": -0.0, \"fontsize\": 13.0, \"color\": \"#000000\", \"alpha\": 1, \"zorder\": 3, \"id\": \"el81602686883893144\"}, {\"text\": \"Dijon-Ville\", \"position\": [5.077278, 47.373391999999996], \"coordinates\": \"data\", \"h_anchor\": \"start\", \"v_baseline\": \"auto\", \"rotation\": -0.0, \"fontsize\": 13.0, \"color\": \"#000000\", \"alpha\": 1, \"zorder\": 3, \"id\": \"el81602686883918120\"}, {\"text\": \"Versailles-Chantiers\", \"position\": [2.185482, 48.845569999999995], \"coordinates\": \"data\", \"h_anchor\": \"start\", \"v_baseline\": \"auto\", \"rotation\": -0.0, \"fontsize\": 13.0, \"color\": \"#000000\", \"alpha\": 1, \"zorder\": 3, \"id\": \"el81602686883918456\"}, {\"text\": \"Orange\", \"position\": [4.769499, 44.087304], \"coordinates\": \"data\", \"h_anchor\": \"end\", \"v_baseline\": \"auto\", \"rotation\": -0.0, \"fontsize\": 13.0, \"color\": \"#000000\", \"alpha\": 1, \"zorder\": 3, \"id\": \"el81602686883918792\"}, {\"text\": \"Miramas\", \"position\": [4.949609, 43.53074000000001], \"coordinates\": \"data\", \"h_anchor\": \"end\", \"v_baseline\": \"auto\", \"rotation\": -0.0, \"fontsize\": 13.0, \"color\": \"#000000\", \"alpha\": 1, \"zorder\": 3, \"id\": \"el81602686883919128\"}, {\"text\": \"Agde\", \"position\": [3.516029, 43.367566], \"coordinates\": \"data\", \"h_anchor\": \"start\", \"v_baseline\": \"auto\", \"rotation\": -0.0, \"fontsize\": 13.0, \"color\": \"#000000\", \"alpha\": 1, \"zorder\": 3, \"id\": \"el81602686883919464\"}, {\"text\": \"Paris-Gare-de-Lyon\", \"position\": [2.4234809999999998, 48.894923999999996], \"coordinates\": \"data\", \"h_anchor\": \"start\", \"v_baseline\": \"auto\", \"rotation\": -0.0, \"fontsize\": 13.0, \"color\": \"#000000\", \"alpha\": 1, \"zorder\": 3, \"id\": \"el81602686883919800\"}, {\"text\": \"Besan\\u00e7on-Viotte\", \"position\": [6.071904, 47.297027], \"coordinates\": \"data\", \"h_anchor\": \"start\", \"v_baseline\": \"auto\", \"rotation\": -0.0, \"fontsize\": 13.0, \"color\": \"#000000\", \"alpha\": 1, \"zorder\": 3, \"id\": \"el81602686883920136\"}, {\"text\": \"Avignon-Centre\", \"position\": [4.755268, 43.89187700000001], \"coordinates\": \"data\", \"h_anchor\": \"end\", \"v_baseline\": \"auto\", \"rotation\": -0.0, \"fontsize\": 13.0, \"color\": \"#000000\", \"alpha\": 1, \"zorder\": 3, \"id\": \"el81602686883920472\"}, {\"text\": \"Valence-Ville\", \"position\": [4.8432960000000005, 44.87806500000001], \"coordinates\": \"data\", \"h_anchor\": \"end\", \"v_baseline\": \"auto\", \"rotation\": -0.0, \"fontsize\": 13.0, \"color\": \"#000000\", \"alpha\": 1, \"zorder\": 3, \"id\": \"el81602686883920808\"}, {\"text\": \"Menton\", \"position\": [7.543163000000001, 43.824405], \"coordinates\": \"data\", \"h_anchor\": \"start\", \"v_baseline\": \"auto\", \"rotation\": -0.0, \"fontsize\": 13.0, \"color\": \"#000000\", \"alpha\": 1, \"zorder\": 3, \"id\": \"el81602686883921144\"}, {\"text\": \"Les Arcs-Draguignan\", \"position\": [6.432463, 43.405732], \"coordinates\": \"data\", \"h_anchor\": \"end\", \"v_baseline\": \"auto\", \"rotation\": -0.0, \"fontsize\": 13.0, \"color\": \"#000000\", \"alpha\": 1, \"zorder\": 3, \"id\": \"el81602686883921480\"}, {\"text\": \"Ventimiglia-Stazione\", \"position\": [7.659675999999999, 43.842175], \"coordinates\": \"data\", \"h_anchor\": \"start\", \"v_baseline\": \"auto\", \"rotation\": -0.0, \"fontsize\": 13.0, \"color\": \"#000000\", \"alpha\": 1, \"zorder\": 3, \"id\": \"el81602686883921816\"}, {\"text\": \"Annecy\", \"position\": [6.07182, 45.85205200000001], \"coordinates\": \"data\", \"h_anchor\": \"end\", \"v_baseline\": \"auto\", \"rotation\": -0.0, \"fontsize\": 13.0, \"color\": \"#000000\", \"alpha\": 1, \"zorder\": 3, \"id\": \"el81602686883946792\"}, {\"text\": \"Angers-St-Laud\", \"position\": [-0.5069499999999999, 47.514441999999995], \"coordinates\": \"data\", \"h_anchor\": \"start\", \"v_baseline\": \"auto\", \"rotation\": -0.0, \"fontsize\": 13.0, \"color\": \"#000000\", \"alpha\": 1, \"zorder\": 3, \"id\": \"el81602686883947128\"}, {\"text\": \"Rennes\", \"position\": [-1.622321, 48.153532999999996], \"coordinates\": \"data\", \"h_anchor\": \"start\", \"v_baseline\": \"auto\", \"rotation\": -0.0, \"fontsize\": 13.0, \"color\": \"#000000\", \"alpha\": 1, \"zorder\": 3, \"id\": \"el81602686883947464\"}, {\"text\": \"Narbonne\", \"position\": [2.955962, 43.141024], \"coordinates\": \"data\", \"h_anchor\": \"end\", \"v_baseline\": \"auto\", \"rotation\": -0.0, \"fontsize\": 13.0, \"color\": \"#000000\", \"alpha\": 1, \"zorder\": 3, \"id\": \"el81602686883947800\"}, {\"text\": \"Besan\\u00e7on-Franche-Comt\\u00e9\", \"position\": [6.004751, 47.357459999999996], \"coordinates\": \"data\", \"h_anchor\": \"start\", \"v_baseline\": \"auto\", \"rotation\": -0.0, \"fontsize\": 13.0, \"color\": \"#000000\", \"alpha\": 1, \"zorder\": 3, \"id\": \"el81602686883948136\"}, {\"text\": \"Mont\\u00e9limar\", \"position\": [4.694792, 44.508995000000006], \"coordinates\": \"data\", \"h_anchor\": \"end\", \"v_baseline\": \"auto\", \"rotation\": -0.0, \"fontsize\": 13.0, \"color\": \"#000000\", \"alpha\": 1, \"zorder\": 3, \"id\": \"el81602686883948472\"}, {\"text\": \"Perpignan\", \"position\": [2.8296270000000003, 42.646069000000004], \"coordinates\": \"data\", \"h_anchor\": \"end\", \"v_baseline\": \"auto\", \"rotation\": -0.0, \"fontsize\": 13.0, \"color\": \"#000000\", \"alpha\": 1, \"zorder\": 3, \"id\": \"el81602686883948808\"}, {\"text\": \"Valence-TGV\", \"position\": [4.928944, 44.941366], \"coordinates\": \"data\", \"h_anchor\": \"end\", \"v_baseline\": \"auto\", \"rotation\": -0.0, \"fontsize\": 13.0, \"color\": \"#000000\", \"alpha\": 1, \"zorder\": 3, \"id\": \"el81602686883949144\"}, {\"text\": \"Bourg-en-Bresse\", \"position\": [5.264968, 46.250119], \"coordinates\": \"data\", \"h_anchor\": \"start\", \"v_baseline\": \"auto\", \"rotation\": -0.0, \"fontsize\": 13.0, \"color\": \"#000000\", \"alpha\": 1, \"zorder\": 3, \"id\": \"el81602686883949480\"}, {\"text\": \"Rouen-Rive-Droite\", \"position\": [1.144165, 49.499036], \"coordinates\": \"data\", \"h_anchor\": \"start\", \"v_baseline\": \"auto\", \"rotation\": -0.0, \"fontsize\": 13.0, \"color\": \"#000000\", \"alpha\": 1, \"zorder\": 3, \"id\": \"el81602686883949816\"}, {\"text\": \"Toulon\", \"position\": [5.879467, 43.078319], \"coordinates\": \"data\", \"h_anchor\": \"end\", \"v_baseline\": \"auto\", \"rotation\": -0.0, \"fontsize\": 13.0, \"color\": \"#000000\", \"alpha\": 1, \"zorder\": 3, \"id\": \"el81602686883950152\"}, {\"text\": \"Le Mans\", \"position\": [0.24215199999999998, 48.045590999999995], \"coordinates\": \"data\", \"h_anchor\": \"start\", \"v_baseline\": \"auto\", \"rotation\": -0.0, \"fontsize\": 13.0, \"color\": \"#000000\", \"alpha\": 1, \"zorder\": 3, \"id\": \"el81602686883950488\"}, {\"text\": \"Nantes\", \"position\": [-1.491943, 47.26751599999999], \"coordinates\": \"data\", \"h_anchor\": \"start\", \"v_baseline\": \"auto\", \"rotation\": -0.0, \"fontsize\": 13.0, \"color\": \"#000000\", \"alpha\": 1, \"zorder\": 3, \"id\": \"el81602686883983656\"}, {\"text\": \"Lyon-Perrache\", \"position\": [4.7757510000000005, 45.698488000000005], \"coordinates\": \"data\", \"h_anchor\": \"end\", \"v_baseline\": \"auto\", \"rotation\": -0.0, \"fontsize\": 13.0, \"color\": \"#000000\", \"alpha\": 1, \"zorder\": 3, \"id\": \"el81602686883983992\"}, {\"text\": \"Gares atteignables avant minuit depuis la Gare de Lyon\", \"position\": [0.49999999999999994, 1.011037527593819], \"coordinates\": \"axes\", \"h_anchor\": \"middle\", \"v_baseline\": \"auto\", \"rotation\": -0.0, \"fontsize\": 20.0, \"color\": \"#000000\", \"alpha\": 1, \"zorder\": 3, \"id\": \"el81602686883619336\"}, {\"text\": \"Gare de d\\u00e9part\", \"position\": [0.6053614097968937, 0.9678072111846947], \"coordinates\": \"axes\", \"h_anchor\": \"start\", \"v_baseline\": \"auto\", \"rotation\": -0.0, \"fontsize\": 10.0, \"color\": \"#000000\", \"alpha\": 1, \"zorder\": 1000003.0, \"id\": \"el81602686884013616\"}, {\"text\": \"Direct depuis Gare de Lyon le soir du 17 novembre\", \"position\": [0.6053614097968937, 0.9402133922001472], \"coordinates\": \"axes\", \"h_anchor\": \"start\", \"v_baseline\": \"auto\", \"rotation\": -0.0, \"fontsize\": 10.0, \"color\": \"#000000\", \"alpha\": 1, \"zorder\": 1000003.0, \"id\": \"el81602686884041224\"}, {\"text\": \"Avec une correspondance depuis une gare directe\", \"position\": [0.6053614097968937, 0.9126195732155997], \"coordinates\": \"axes\", \"h_anchor\": \"start\", \"v_baseline\": \"auto\", \"rotation\": -0.0, \"fontsize\": 10.0, \"color\": \"#000000\", \"alpha\": 1, \"zorder\": 1000003.0, \"id\": \"el81602686884044024\"}], \"collections\": [{\"offsets\": \"data01\", \"xindex\": 0, \"yindex\": 1, \"paths\": [[[[0.0, -0.5], [0.13260155, -0.5], [0.25978993539242673, -0.44731684579412084], [0.3535533905932738, -0.3535533905932738], [0.44731684579412084, -0.25978993539242673], [0.5, -0.13260155], [0.5, 0.0], [0.5, 0.13260155], [0.44731684579412084, 0.25978993539242673], [0.3535533905932738, 0.3535533905932738], [0.25978993539242673, 0.44731684579412084], [0.13260155, 0.5], [0.0, 0.5], [-0.13260155, 0.5], [-0.25978993539242673, 0.44731684579412084], [-0.3535533905932738, 0.3535533905932738], [-0.44731684579412084, 0.25978993539242673], [-0.5, 0.13260155], [-0.5, 0.0], [-0.5, -0.13260155], [-0.44731684579412084, -0.25978993539242673], [-0.3535533905932738, -0.3535533905932738], [-0.25978993539242673, -0.44731684579412084], [-0.13260155, -0.5], [0.0, -0.5]], [\"M\", \"C\", \"C\", \"C\", \"C\", \"C\", \"C\", \"C\", \"C\", \"Z\"]]], \"pathtransforms\": [[10.0, 0.0, 0.0, 10.0, 0.0, 0.0]], \"alphas\": [0.5], \"edgecolors\": [\"#FF807F\", \"#FF807F\", \"#FF807F\", \"#FF807F\", \"#FF807F\", \"#FF807F\", \"#FF807F\", \"#FF807F\", \"#FF807F\", \"#FF807F\", \"#FF807F\", \"#FF807F\", \"#FF00FF\", \"#FF807F\", \"#FF807F\", \"#FF807F\", \"#FF807F\", \"#FF807F\", \"#FF807F\", \"#FF807F\", \"#FF807F\", \"#FF807F\", \"#FF807F\", \"#FF807F\", \"#FF807F\", \"#FF807F\", \"#FF807F\", \"#FF807F\", \"#FF807F\", \"#FF807F\", \"#FF807F\", \"#FF807F\", \"#FF807F\", \"#FF807F\", \"#FF807F\", \"#FF807F\", \"#FF807F\", \"#FF807F\", \"#FFCC32\", \"#FFCC32\", \"#FFCC32\", \"#FFCC32\", \"#FFCC32\", \"#FFCC32\", \"#FFCC32\", \"#FFCC32\", \"#FFCC32\", \"#FFCC32\", \"#FFCC32\", \"#FFCC32\", \"#FFCC32\", \"#FFCC32\", \"#FFCC32\", \"#FFCC32\", \"#FFCC32\", \"#FFCC32\", \"#FFCC32\", \"#FFCC32\", \"#FFCC32\", \"#FFCC32\", \"#FFCC32\", \"#FFCC32\", \"#FFCC32\", \"#FFCC32\", \"#FFCC32\", \"#FFCC32\", \"#FFCC32\", \"#FFCC32\", \"#FFCC32\", \"#FFCC32\", \"#FFCC32\", \"#FFCC32\", \"#FFCC32\", \"#FFCC32\", \"#FFCC32\", \"#FFCC32\", \"#FFCC32\", \"#FFCC32\"], \"facecolors\": [\"#FF807F\", \"#FF807F\", \"#FF807F\", \"#FF807F\", \"#FF807F\", \"#FF807F\", \"#FF807F\", \"#FF807F\", \"#FF807F\", \"#FF807F\", \"#FF807F\", \"#FF807F\", \"#FF00FF\", \"#FF807F\", \"#FF807F\", \"#FF807F\", \"#FF807F\", \"#FF807F\", \"#FF807F\", \"#FF807F\", \"#FF807F\", \"#FF807F\", \"#FF807F\", \"#FF807F\", \"#FF807F\", \"#FF807F\", \"#FF807F\", \"#FF807F\", \"#FF807F\", \"#FF807F\", \"#FF807F\", \"#FF807F\", \"#FF807F\", \"#FF807F\", \"#FF807F\", \"#FF807F\", \"#FF807F\", \"#FF807F\", \"#FFCC32\", \"#FFCC32\", \"#FFCC32\", \"#FFCC32\", \"#FFCC32\", \"#FFCC32\", \"#FFCC32\", \"#FFCC32\", \"#FFCC32\", \"#FFCC32\", \"#FFCC32\", \"#FFCC32\", \"#FFCC32\", \"#FFCC32\", \"#FFCC32\", \"#FFCC32\", \"#FFCC32\", \"#FFCC32\", \"#FFCC32\", \"#FFCC32\", \"#FFCC32\", \"#FFCC32\", \"#FFCC32\", \"#FFCC32\", \"#FFCC32\", \"#FFCC32\", \"#FFCC32\", \"#FFCC32\", \"#FFCC32\", \"#FFCC32\", \"#FFCC32\", \"#FFCC32\", \"#FFCC32\", \"#FFCC32\", \"#FFCC32\", \"#FFCC32\", \"#FFCC32\", \"#FFCC32\", \"#FFCC32\", \"#FFCC32\"], \"edgewidths\": [1.0], \"offsetcoordinates\": \"data\", \"pathcoordinates\": \"display\", \"zorder\": 1, \"id\": \"el81602686883984496\"}], \"images\": [], \"sharex\": [], \"sharey\": []}], \"data\": {\"data01\": [[3.005962, 43.191024], [6.769011999999999, 43.423611], [4.36584, 43.83229], [4.978944, 44.991366], [6.354194000000001, 45.277834999999996], [6.709629, 45.07642], [7.261781, 43.704716], [5.7145269999999995, 45.191456], [3.219225, 43.336216], [4.632025, 43.684841999999996], [6.482463, 43.455732], [4.399999, 45.443376], [2.373481, 48.844924], [4.7447919999999995, 44.558995], [3.882368, 43.605829], [5.919798999999999, 45.571032], [6.12182, 45.902052000000005], [4.8194989999999995, 44.137304], [6.831533, 45.038782], [7.119511999999999, 43.585794], [5.075836, 45.720923], [7.667503999999999, 45.073890999999996], [6.659172, 45.193552000000004], [5.909349, 45.687856], [4.78616, 43.921963], [4.825751, 45.748488], [9.187572, 45.484967], [5.317273, 43.455151], [4.4993870000000005, 46.7653], [4.859438, 45.76058], [5.929467, 43.128319], [4.7789470000000005, 46.282892], [2.879627, 42.696069], [4.805268, 43.941877000000005], [5.380659, 43.30273], [4.9996089999999995, 43.580740000000006], [4.893296, 44.928065000000004], [7.019722, 43.553917999999996], [6.899019, 47.586579], [3.0899919999999996, 50.371687], [3.4660290000000002, 43.317566], [0.725056, 47.385733], [7.347065, 48.073137], [-0.760929, 48.076265], [7.733944999999999, 48.585151], [2.571609, 49.004021], [1.094165, 49.449036], [5.214968, 46.200119], [2.782899, 48.870599], [7.609675999999999, 43.792175], [2.781154, 50.286827], [6.134022, 49.59962], [3.6964040000000002, 43.412804], [7.419664999999999, 43.738488000000004], [5.954751, 47.30746], [0.192152, 47.995591], [3.075774, 50.638861], [7.342833000000001, 47.741786], [4.825146, 46.302654], [5.550873999999999, 46.66839], [7.493163000000001, 43.774405], [3.071052, 50.636215], [6.168861, 49.353893], [5.027278, 47.323392], [-0.071427, 47.268975], [6.177198000000001, 49.109759000000004], [6.021904, 47.247027], [-1.541943, 47.217515999999996], [2.135482, 48.79557], [1.703309, 48.989692], [2.2615849999999997, 48.726031], [-0.55695, 47.464442], [6.471113, 45.217240999999994], [0.124845, 49.492657], [2.831682, 49.859209], [2.256614, 48.724903999999995], [4.335886, 50.83528], [-1.672321, 48.103533]], \"data02\": [[0.5784796893667862, 0.9742457689477558, 0.9466519499632083, 0.9190581309786608]], \"data03\": [[0.5605585424133811, 0.9015820456217809], [0.9895459976105138, 0.9015820456217809], [0.9925328554360812, 0.9015820456217809], [0.9925328554360812, 0.9052612214863871], [0.9925328554360812, 0.987122884473878], [0.9925328554360812, 0.9908020603384842], [0.9895459976105138, 0.9908020603384842], [0.5605585424133811, 0.9908020603384842], [0.5575716845878136, 0.9908020603384842], [0.5575716845878136, 0.987122884473878], [0.5575716845878136, 0.9052612214863871], [0.5575716845878136, 0.9015820456217809], [0.5605585424133811, 0.9015820456217809]]}, \"id\": \"el81602686871255640\", \"plugins\": [{\"type\": \"reset\"}, {\"type\": \"zoom\", \"button\": true, \"enabled\": false}, {\"type\": \"boxzoom\", \"button\": true, \"enabled\": false}]});\n",
              "   }(mpld3);\n",
              "}else if(typeof define === \"function\" && define.amd){\n",
              "   // require.js is available: use it to load d3/mpld3\n",
              "   require.config({paths: {d3: \"https://mpld3.github.io/js/d3.v3.min\"}});\n",
              "   require([\"d3\"], function(d3){\n",
              "      window.d3 = d3;\n",
              "      mpld3_load_lib(\"https://mpld3.github.io/js/mpld3.v0.3.js\", function(){\n",
              "         \n",
              "         mpld3.draw_figure(\"fig_el81602686871255640830553839\", {\"width\": 864.0, \"height\": 720.0, \"axes\": [{\"bbox\": [0.125, 0.125, 0.775, 0.755], \"xlim\": [-2.2235295090203104, 9.738780509020307], \"ylim\": [42.278990716372334, 51.25235828362766], \"xdomain\": [-2.2235295090203104, 9.738780509020307], \"ydomain\": [42.278990716372334, 51.25235828362766], \"xscale\": \"linear\", \"yscale\": \"linear\", \"axes\": [{\"position\": \"bottom\", \"nticks\": 8, \"tickvalues\": null, \"tickformat\": null, \"scale\": \"linear\", \"fontsize\": 10.0, \"grid\": {\"gridOn\": false}, \"visible\": true}, {\"position\": \"left\", \"nticks\": 11, \"tickvalues\": null, \"tickformat\": null, \"scale\": \"linear\", \"fontsize\": 10.0, \"grid\": {\"gridOn\": false}, \"visible\": true}], \"axesbg\": \"#F5F5F5\", \"axesbgalpha\": null, \"zoomable\": true, \"id\": \"el81602686882968184\", \"lines\": [], \"paths\": [{\"data\": \"data03\", \"xindex\": 0, \"yindex\": 1, \"coordinates\": \"axes\", \"pathcodes\": [\"M\", \"L\", \"S\", \"L\", \"S\", \"L\", \"S\", \"L\", \"S\", \"Z\"], \"id\": \"el81602686884012888\", \"dasharray\": \"none\", \"alpha\": 0.8, \"facecolor\": \"#FFFFFF\", \"edgecolor\": \"#CCCCCC\", \"edgewidth\": 1.0, \"zorder\": 1000000.0}], \"markers\": [{\"data\": \"data02\", \"xindex\": 0, \"yindex\": 1, \"coordinates\": \"axes\", \"id\": \"el81602686884015072pts\", \"facecolor\": \"#FF00FF\", \"edgecolor\": \"#1F77B4\", \"edgewidth\": 1.0, \"alpha\": 0.5, \"zorder\": 1000002.0, \"markerpath\": [[[0.0, 5.0], [1.3260155, 5.0], [2.597899353924267, 4.473168457941209], [3.5355339059327378, 3.5355339059327378], [4.473168457941209, 2.597899353924267], [5.0, 1.3260155], [5.0, 0.0], [5.0, -1.3260155], [4.473168457941209, -2.597899353924267], [3.5355339059327378, -3.5355339059327378], [2.597899353924267, -4.473168457941209], [1.3260155, -5.0], [0.0, -5.0], [-1.3260155, -5.0], [-2.597899353924267, -4.473168457941209], [-3.5355339059327378, -3.5355339059327378], [-4.473168457941209, -2.597899353924267], [-5.0, -1.3260155], [-5.0, 0.0], [-5.0, 1.3260155], [-4.473168457941209, 2.597899353924267], [-3.5355339059327378, 3.5355339059327378], [-2.597899353924267, 4.473168457941209], [-1.3260155, 5.0], [0.0, 5.0]], [\"M\", \"C\", \"C\", \"C\", \"C\", \"C\", \"C\", \"C\", \"C\", \"Z\"]]}, {\"data\": \"data02\", \"xindex\": 0, \"yindex\": 2, \"coordinates\": \"axes\", \"id\": \"el81602686884042736pts\", \"facecolor\": \"#FF807F\", \"edgecolor\": \"#1F77B4\", \"edgewidth\": 1.0, \"alpha\": 0.5, \"zorder\": 1000002.0, \"markerpath\": [[[0.0, 5.0], [1.3260155, 5.0], [2.597899353924267, 4.473168457941209], [3.5355339059327378, 3.5355339059327378], [4.473168457941209, 2.597899353924267], [5.0, 1.3260155], [5.0, 0.0], [5.0, -1.3260155], [4.473168457941209, -2.597899353924267], [3.5355339059327378, -3.5355339059327378], [2.597899353924267, -4.473168457941209], [1.3260155, -5.0], [0.0, -5.0], [-1.3260155, -5.0], [-2.597899353924267, -4.473168457941209], [-3.5355339059327378, -3.5355339059327378], [-4.473168457941209, -2.597899353924267], [-5.0, -1.3260155], [-5.0, 0.0], [-5.0, 1.3260155], [-4.473168457941209, 2.597899353924267], [-3.5355339059327378, 3.5355339059327378], [-2.597899353924267, 4.473168457941209], [-1.3260155, 5.0], [0.0, 5.0]], [\"M\", \"C\", \"C\", \"C\", \"C\", \"C\", \"C\", \"C\", \"C\", \"Z\"]]}, {\"data\": \"data02\", \"xindex\": 0, \"yindex\": 3, \"coordinates\": \"axes\", \"id\": \"el81602686884082464pts\", \"facecolor\": \"#FFCC32\", \"edgecolor\": \"#1F77B4\", \"edgewidth\": 1.0, \"alpha\": 0.5, \"zorder\": 1000002.0, \"markerpath\": [[[0.0, 5.0], [1.3260155, 5.0], [2.597899353924267, 4.473168457941209], [3.5355339059327378, 3.5355339059327378], [4.473168457941209, 2.597899353924267], [5.0, 1.3260155], [5.0, 0.0], [5.0, -1.3260155], [4.473168457941209, -2.597899353924267], [3.5355339059327378, -3.5355339059327378], [2.597899353924267, -4.473168457941209], [1.3260155, -5.0], [0.0, -5.0], [-1.3260155, -5.0], [-2.597899353924267, -4.473168457941209], [-3.5355339059327378, -3.5355339059327378], [-4.473168457941209, -2.597899353924267], [-5.0, -1.3260155], [-5.0, 0.0], [-5.0, 1.3260155], [-4.473168457941209, 2.597899353924267], [-3.5355339059327378, 3.5355339059327378], [-2.597899353924267, 4.473168457941209], [-1.3260155, 5.0], [0.0, 5.0]], [\"M\", \"C\", \"C\", \"C\", \"C\", \"C\", \"C\", \"C\", \"C\", \"Z\"]]}], \"texts\": [{\"text\": \"Mulhouse\", \"position\": [7.392833, 47.791785999999995], \"coordinates\": \"data\", \"h_anchor\": \"start\", \"v_baseline\": \"auto\", \"rotation\": -0.0, \"fontsize\": 13.0, \"color\": \"#000000\", \"alpha\": 1, \"zorder\": 3, \"id\": \"el81602686883781544\"}, {\"text\": \"Modane\", \"position\": [6.609172, 45.14355200000001], \"coordinates\": \"data\", \"h_anchor\": \"end\", \"v_baseline\": \"auto\", \"rotation\": -0.0, \"fontsize\": 13.0, \"color\": \"#000000\", \"alpha\": 1, \"zorder\": 3, \"id\": \"el81602686883781880\"}, {\"text\": \"Milano-Porta-Garibaldi\", \"position\": [9.137571999999999, 45.434967], \"coordinates\": \"data\", \"h_anchor\": \"end\", \"v_baseline\": \"auto\", \"rotation\": -0.0, \"fontsize\": 13.0, \"color\": \"#000000\", \"alpha\": 1, \"zorder\": 3, \"id\": \"el81602686883782216\"}, {\"text\": \"Thionville\", \"position\": [6.2188609999999995, 49.403893], \"coordinates\": \"data\", \"h_anchor\": \"start\", \"v_baseline\": \"auto\", \"rotation\": -0.0, \"fontsize\": 13.0, \"color\": \"#000000\", \"alpha\": 1, \"zorder\": 3, \"id\": \"el81602686883782552\"}, {\"text\": \"St-Etienne-Ch\\u00e2teaucreux\", \"position\": [4.349999, 45.393376], \"coordinates\": \"data\", \"h_anchor\": \"end\", \"v_baseline\": \"auto\", \"rotation\": -0.0, \"fontsize\": 13.0, \"color\": \"#000000\", \"alpha\": 1, \"zorder\": 3, \"id\": \"el81602686883803432\"}, {\"text\": \"Avignon-TGV\", \"position\": [4.73616, 43.871963], \"coordinates\": \"data\", \"h_anchor\": \"end\", \"v_baseline\": \"auto\", \"rotation\": -0.0, \"fontsize\": 13.0, \"color\": \"#000000\", \"alpha\": 1, \"zorder\": 3, \"id\": \"el81602686883803768\"}, {\"text\": \"Chamb\\u00e9ry-Chal.-les-Eaux\", \"position\": [5.8697989999999995, 45.521032000000005], \"coordinates\": \"data\", \"h_anchor\": \"end\", \"v_baseline\": \"auto\", \"rotation\": -0.0, \"fontsize\": 13.0, \"color\": \"#000000\", \"alpha\": 1, \"zorder\": 3, \"id\": \"el81602686883804104\"}, {\"text\": \"Cannes\", \"position\": [6.969722, 43.503918], \"coordinates\": \"data\", \"h_anchor\": \"end\", \"v_baseline\": \"auto\", \"rotation\": -0.0, \"fontsize\": 13.0, \"color\": \"#000000\", \"alpha\": 1, \"zorder\": 3, \"id\": \"el81602686883804440\"}, {\"text\": \"Marne-la-Vall\\u00e9e-Chessy.\", \"position\": [2.832899, 48.920598999999996], \"coordinates\": \"data\", \"h_anchor\": \"start\", \"v_baseline\": \"auto\", \"rotation\": -0.0, \"fontsize\": 13.0, \"color\": \"#000000\", \"alpha\": 1, \"zorder\": 3, \"id\": \"el81602686883804776\"}, {\"text\": \"Mantes-la-Jolie-TGV\", \"position\": [1.753309, 49.039691999999995], \"coordinates\": \"data\", \"h_anchor\": \"start\", \"v_baseline\": \"auto\", \"rotation\": -0.0, \"fontsize\": 13.0, \"color\": \"#000000\", \"alpha\": 1, \"zorder\": 3, \"id\": \"el81602686883805112\"}, {\"text\": \"Aix-en-Provence-TGV\", \"position\": [5.267273, 43.405151000000004], \"coordinates\": \"data\", \"h_anchor\": \"end\", \"v_baseline\": \"auto\", \"rotation\": -0.0, \"fontsize\": 13.0, \"color\": \"#000000\", \"alpha\": 1, \"zorder\": 3, \"id\": \"el81602686883805448\"}, {\"text\": \"N\\u00eemes\", \"position\": [4.315840000000001, 43.78229], \"coordinates\": \"data\", \"h_anchor\": \"end\", \"v_baseline\": \"auto\", \"rotation\": -0.0, \"fontsize\": 13.0, \"color\": \"#000000\", \"alpha\": 1, \"zorder\": 3, \"id\": \"el81602686883805784\"}, {\"text\": \"Massy-TGV\", \"position\": [2.3115849999999996, 48.776030999999996], \"coordinates\": \"data\", \"h_anchor\": \"start\", \"v_baseline\": \"auto\", \"rotation\": -0.0, \"fontsize\": 13.0, \"color\": \"#000000\", \"alpha\": 1, \"zorder\": 3, \"id\": \"el81602686883806120\"}, {\"text\": \"St-Rapha\\u00ebl-Valescure\", \"position\": [6.719011999999999, 43.373611000000004], \"coordinates\": \"data\", \"h_anchor\": \"end\", \"v_baseline\": \"auto\", \"rotation\": -0.0, \"fontsize\": 13.0, \"color\": \"#000000\", \"alpha\": 1, \"zorder\": 3, \"id\": \"el81602686883806456\"}, {\"text\": \"TGV Haute-Picardie\", \"position\": [2.8816819999999996, 49.909209], \"coordinates\": \"data\", \"h_anchor\": \"start\", \"v_baseline\": \"auto\", \"rotation\": -0.0, \"fontsize\": 13.0, \"color\": \"#000000\", \"alpha\": 1, \"zorder\": 3, \"id\": \"el81602686883806792\"}, {\"text\": \"B\\u00e9ziers\", \"position\": [3.169225, 43.286216], \"coordinates\": \"data\", \"h_anchor\": \"end\", \"v_baseline\": \"auto\", \"rotation\": -0.0, \"fontsize\": 13.0, \"color\": \"#000000\", \"alpha\": 1, \"zorder\": 3, \"id\": \"el81602686883807128\"}, {\"text\": \"Massy-Palaiseau\", \"position\": [2.3066139999999997, 48.77490399999999], \"coordinates\": \"data\", \"h_anchor\": \"start\", \"v_baseline\": \"auto\", \"rotation\": -0.0, \"fontsize\": 13.0, \"color\": \"#000000\", \"alpha\": 1, \"zorder\": 3, \"id\": \"el81602686883832104\"}, {\"text\": \"Lille Europe\", \"position\": [3.125774, 50.688860999999996], \"coordinates\": \"data\", \"h_anchor\": \"start\", \"v_baseline\": \"auto\", \"rotation\": -0.0, \"fontsize\": 13.0, \"color\": \"#000000\", \"alpha\": 1, \"zorder\": 3, \"id\": \"el81602686883832440\"}, {\"text\": \"M\\u00e2con-Loch\\u00e9-TGV\", \"position\": [4.728947000000001, 46.232892], \"coordinates\": \"data\", \"h_anchor\": \"end\", \"v_baseline\": \"auto\", \"rotation\": -0.0, \"fontsize\": 13.0, \"color\": \"#000000\", \"alpha\": 1, \"zorder\": 3, \"id\": \"el81602686883832776\"}, {\"text\": \"Marseille-St-Charles\", \"position\": [5.330659, 43.25273], \"coordinates\": \"data\", \"h_anchor\": \"end\", \"v_baseline\": \"auto\", \"rotation\": -0.0, \"fontsize\": 13.0, \"color\": \"#000000\", \"alpha\": 1, \"zorder\": 3, \"id\": \"el81602686883833112\"}, {\"text\": \"Douai\", \"position\": [3.1399919999999995, 50.421687], \"coordinates\": \"data\", \"h_anchor\": \"start\", \"v_baseline\": \"auto\", \"rotation\": -0.0, \"fontsize\": 13.0, \"color\": \"#000000\", \"alpha\": 1, \"zorder\": 3, \"id\": \"el81602686883833448\"}, {\"text\": \"Torino-Porta-Susa\", \"position\": [7.617503999999999, 45.023891], \"coordinates\": \"data\", \"h_anchor\": \"end\", \"v_baseline\": \"auto\", \"rotation\": -0.0, \"fontsize\": 13.0, \"color\": \"#000000\", \"alpha\": 1, \"zorder\": 3, \"id\": \"el81602686883833784\"}, {\"text\": \"Monaco-Monte-Carlo\", \"position\": [7.469664999999999, 43.788488], \"coordinates\": \"data\", \"h_anchor\": \"start\", \"v_baseline\": \"auto\", \"rotation\": -0.0, \"fontsize\": 13.0, \"color\": \"#000000\", \"alpha\": 1, \"zorder\": 3, \"id\": \"el81602686883834120\"}, {\"text\": \"Metz-Ville\", \"position\": [6.2271980000000005, 49.159759], \"coordinates\": \"data\", \"h_anchor\": \"start\", \"v_baseline\": \"auto\", \"rotation\": -0.0, \"fontsize\": 13.0, \"color\": \"#000000\", \"alpha\": 1, \"zorder\": 3, \"id\": \"el81602686883834456\"}, {\"text\": \"Saumur\", \"position\": [-0.021427, 47.318974999999995], \"coordinates\": \"data\", \"h_anchor\": \"start\", \"v_baseline\": \"auto\", \"rotation\": -0.0, \"fontsize\": 13.0, \"color\": \"#000000\", \"alpha\": 1, \"zorder\": 3, \"id\": \"el81602686883834792\"}, {\"text\": \"St-Michel-Valloire\", \"position\": [6.521113, 45.26724099999999], \"coordinates\": \"data\", \"h_anchor\": \"start\", \"v_baseline\": \"auto\", \"rotation\": -0.0, \"fontsize\": 13.0, \"color\": \"#000000\", \"alpha\": 1, \"zorder\": 3, \"id\": \"el81602686883835128\"}, {\"text\": \"Le Havre\", \"position\": [0.174845, 49.542657], \"coordinates\": \"data\", \"h_anchor\": \"start\", \"v_baseline\": \"auto\", \"rotation\": -0.0, \"fontsize\": 13.0, \"color\": \"#000000\", \"alpha\": 1, \"zorder\": 3, \"id\": \"el81602686883835464\"}, {\"text\": \"Laval\", \"position\": [-0.7109289999999999, 48.126265], \"coordinates\": \"data\", \"h_anchor\": \"start\", \"v_baseline\": \"auto\", \"rotation\": -0.0, \"fontsize\": 13.0, \"color\": \"#000000\", \"alpha\": 1, \"zorder\": 3, \"id\": \"el81602686883835800\"}, {\"text\": \"St-Pierre-des-Corps\", \"position\": [0.7750560000000001, 47.435733], \"coordinates\": \"data\", \"h_anchor\": \"start\", \"v_baseline\": \"auto\", \"rotation\": -0.0, \"fontsize\": 13.0, \"color\": \"#000000\", \"alpha\": 1, \"zorder\": 3, \"id\": \"el81602686883868968\"}, {\"text\": \"Lyon-Saint-Exupery-Tgv\", \"position\": [5.025836, 45.670923], \"coordinates\": \"data\", \"h_anchor\": \"end\", \"v_baseline\": \"auto\", \"rotation\": -0.0, \"fontsize\": 13.0, \"color\": \"#000000\", \"alpha\": 1, \"zorder\": 3, \"id\": \"el81602686883869304\"}, {\"text\": \"Bruxelles-M./Brussel-Z.\", \"position\": [4.385886, 50.885279999999995], \"coordinates\": \"data\", \"h_anchor\": \"start\", \"v_baseline\": \"auto\", \"rotation\": -0.0, \"fontsize\": 13.0, \"color\": \"#000000\", \"alpha\": 1, \"zorder\": 3, \"id\": \"el81602686883869640\"}, {\"text\": \"Strasbourg\", \"position\": [7.783944999999999, 48.635151], \"coordinates\": \"data\", \"h_anchor\": \"start\", \"v_baseline\": \"auto\", \"rotation\": -0.0, \"fontsize\": 13.0, \"color\": \"#000000\", \"alpha\": 1, \"zorder\": 3, \"id\": \"el81602686883869976\"}, {\"text\": \"Grenoble\", \"position\": [5.664527, 45.141456000000005], \"coordinates\": \"data\", \"h_anchor\": \"end\", \"v_baseline\": \"auto\", \"rotation\": -0.0, \"fontsize\": 13.0, \"color\": \"#000000\", \"alpha\": 1, \"zorder\": 3, \"id\": \"el81602686883870312\"}, {\"text\": \"A\\u00e9ropt-C-de-Gaulle-TGV\", \"position\": [2.621609, 49.054021], \"coordinates\": \"data\", \"h_anchor\": \"start\", \"v_baseline\": \"auto\", \"rotation\": -0.0, \"fontsize\": 13.0, \"color\": \"#000000\", \"alpha\": 1, \"zorder\": 3, \"id\": \"el81602686883870648\"}, {\"text\": \"Lille Flandres\", \"position\": [3.1210519999999997, 50.686215], \"coordinates\": \"data\", \"h_anchor\": \"start\", \"v_baseline\": \"auto\", \"rotation\": -0.0, \"fontsize\": 13.0, \"color\": \"#000000\", \"alpha\": 1, \"zorder\": 3, \"id\": \"el81602686883870984\"}, {\"text\": \"Oulx-Cesana-Clav-Sestri\", \"position\": [6.7815330000000005, 44.988782], \"coordinates\": \"data\", \"h_anchor\": \"end\", \"v_baseline\": \"auto\", \"rotation\": -0.0, \"fontsize\": 13.0, \"color\": \"#000000\", \"alpha\": 1, \"zorder\": 3, \"id\": \"el81602686883871320\"}, {\"text\": \"Antibes\", \"position\": [7.069512, 43.535794], \"coordinates\": \"data\", \"h_anchor\": \"end\", \"v_baseline\": \"auto\", \"rotation\": -0.0, \"fontsize\": 13.0, \"color\": \"#000000\", \"alpha\": 1, \"zorder\": 3, \"id\": \"el81602686883871656\"}, {\"text\": \"Creusot - TGV (le)\", \"position\": [4.449387000000001, 46.715300000000006], \"coordinates\": \"data\", \"h_anchor\": \"end\", \"v_baseline\": \"auto\", \"rotation\": -0.0, \"fontsize\": 13.0, \"color\": \"#000000\", \"alpha\": 1, \"zorder\": 3, \"id\": \"el81602686883871992\"}, {\"text\": \"Belfort-Montb\\u00e9liard-TGV\", \"position\": [6.949019, 47.636579], \"coordinates\": \"data\", \"h_anchor\": \"start\", \"v_baseline\": \"auto\", \"rotation\": -0.0, \"fontsize\": 13.0, \"color\": \"#000000\", \"alpha\": 1, \"zorder\": 3, \"id\": \"el81602686883872328\"}, {\"text\": \"Nice-Ville\", \"position\": [7.211781, 43.654716], \"coordinates\": \"data\", \"h_anchor\": \"end\", \"v_baseline\": \"auto\", \"rotation\": -0.0, \"fontsize\": 13.0, \"color\": \"#000000\", \"alpha\": 1, \"zorder\": 3, \"id\": \"el81602686883872664\"}, {\"text\": \"Arles\", \"position\": [4.582025, 43.634842], \"coordinates\": \"data\", \"h_anchor\": \"end\", \"v_baseline\": \"auto\", \"rotation\": -0.0, \"fontsize\": 13.0, \"color\": \"#000000\", \"alpha\": 1, \"zorder\": 3, \"id\": \"el81602686883889448\"}, {\"text\": \"Lyon-Part-Dieu\", \"position\": [4.809438, 45.71058], \"coordinates\": \"data\", \"h_anchor\": \"end\", \"v_baseline\": \"auto\", \"rotation\": -0.0, \"fontsize\": 13.0, \"color\": \"#000000\", \"alpha\": 1, \"zorder\": 3, \"id\": \"el81602686883889784\"}, {\"text\": \"St-Jean-de-Maurienne-A.\", \"position\": [6.304194000000001, 45.227835], \"coordinates\": \"data\", \"h_anchor\": \"end\", \"v_baseline\": \"auto\", \"rotation\": -0.0, \"fontsize\": 13.0, \"color\": \"#000000\", \"alpha\": 1, \"zorder\": 3, \"id\": \"el81602686883890120\"}, {\"text\": \"Bardonecchia-Stazione\", \"position\": [6.659629, 45.02642], \"coordinates\": \"data\", \"h_anchor\": \"end\", \"v_baseline\": \"auto\", \"rotation\": -0.0, \"fontsize\": 13.0, \"color\": \"#000000\", \"alpha\": 1, \"zorder\": 3, \"id\": \"el81602686883890456\"}, {\"text\": \"S\\u00e8te\", \"position\": [3.746404, 43.462804], \"coordinates\": \"data\", \"h_anchor\": \"start\", \"v_baseline\": \"auto\", \"rotation\": -0.0, \"fontsize\": 13.0, \"color\": \"#000000\", \"alpha\": 1, \"zorder\": 3, \"id\": \"el81602686883890792\"}, {\"text\": \"Aix-les-Bains-le-Revard\", \"position\": [5.859349, 45.637856], \"coordinates\": \"data\", \"h_anchor\": \"end\", \"v_baseline\": \"auto\", \"rotation\": -0.0, \"fontsize\": 13.0, \"color\": \"#000000\", \"alpha\": 1, \"zorder\": 3, \"id\": \"el81602686883891128\"}, {\"text\": \"Colmar\", \"position\": [7.397065, 48.123137], \"coordinates\": \"data\", \"h_anchor\": \"start\", \"v_baseline\": \"auto\", \"rotation\": -0.0, \"fontsize\": 13.0, \"color\": \"#000000\", \"alpha\": 1, \"zorder\": 3, \"id\": \"el81602686883891464\"}, {\"text\": \"Luxembourg\", \"position\": [6.184022, 49.64962], \"coordinates\": \"data\", \"h_anchor\": \"start\", \"v_baseline\": \"auto\", \"rotation\": -0.0, \"fontsize\": 13.0, \"color\": \"#000000\", \"alpha\": 1, \"zorder\": 3, \"id\": \"el81602686883891800\"}, {\"text\": \"Arras\", \"position\": [2.8311539999999997, 50.336827], \"coordinates\": \"data\", \"h_anchor\": \"start\", \"v_baseline\": \"auto\", \"rotation\": -0.0, \"fontsize\": 13.0, \"color\": \"#000000\", \"alpha\": 1, \"zorder\": 3, \"id\": \"el81602686883892136\"}, {\"text\": \"Lons-le-Saunier\", \"position\": [5.600873999999999, 46.71839], \"coordinates\": \"data\", \"h_anchor\": \"start\", \"v_baseline\": \"auto\", \"rotation\": -0.0, \"fontsize\": 13.0, \"color\": \"#000000\", \"alpha\": 1, \"zorder\": 3, \"id\": \"el81602686883892472\"}, {\"text\": \"M\\u00e2con-Ville\", \"position\": [4.875146, 46.352653999999994], \"coordinates\": \"data\", \"h_anchor\": \"start\", \"v_baseline\": \"auto\", \"rotation\": -0.0, \"fontsize\": 13.0, \"color\": \"#000000\", \"alpha\": 1, \"zorder\": 3, \"id\": \"el81602686883892808\"}, {\"text\": \"Montpellier-Saint-Roch\", \"position\": [3.832368, 43.555829], \"coordinates\": \"data\", \"h_anchor\": \"end\", \"v_baseline\": \"auto\", \"rotation\": -0.0, \"fontsize\": 13.0, \"color\": \"#000000\", \"alpha\": 1, \"zorder\": 3, \"id\": \"el81602686883893144\"}, {\"text\": \"Dijon-Ville\", \"position\": [5.077278, 47.373391999999996], \"coordinates\": \"data\", \"h_anchor\": \"start\", \"v_baseline\": \"auto\", \"rotation\": -0.0, \"fontsize\": 13.0, \"color\": \"#000000\", \"alpha\": 1, \"zorder\": 3, \"id\": \"el81602686883918120\"}, {\"text\": \"Versailles-Chantiers\", \"position\": [2.185482, 48.845569999999995], \"coordinates\": \"data\", \"h_anchor\": \"start\", \"v_baseline\": \"auto\", \"rotation\": -0.0, \"fontsize\": 13.0, \"color\": \"#000000\", \"alpha\": 1, \"zorder\": 3, \"id\": \"el81602686883918456\"}, {\"text\": \"Orange\", \"position\": [4.769499, 44.087304], \"coordinates\": \"data\", \"h_anchor\": \"end\", \"v_baseline\": \"auto\", \"rotation\": -0.0, \"fontsize\": 13.0, \"color\": \"#000000\", \"alpha\": 1, \"zorder\": 3, \"id\": \"el81602686883918792\"}, {\"text\": \"Miramas\", \"position\": [4.949609, 43.53074000000001], \"coordinates\": \"data\", \"h_anchor\": \"end\", \"v_baseline\": \"auto\", \"rotation\": -0.0, \"fontsize\": 13.0, \"color\": \"#000000\", \"alpha\": 1, \"zorder\": 3, \"id\": \"el81602686883919128\"}, {\"text\": \"Agde\", \"position\": [3.516029, 43.367566], \"coordinates\": \"data\", \"h_anchor\": \"start\", \"v_baseline\": \"auto\", \"rotation\": -0.0, \"fontsize\": 13.0, \"color\": \"#000000\", \"alpha\": 1, \"zorder\": 3, \"id\": \"el81602686883919464\"}, {\"text\": \"Paris-Gare-de-Lyon\", \"position\": [2.4234809999999998, 48.894923999999996], \"coordinates\": \"data\", \"h_anchor\": \"start\", \"v_baseline\": \"auto\", \"rotation\": -0.0, \"fontsize\": 13.0, \"color\": \"#000000\", \"alpha\": 1, \"zorder\": 3, \"id\": \"el81602686883919800\"}, {\"text\": \"Besan\\u00e7on-Viotte\", \"position\": [6.071904, 47.297027], \"coordinates\": \"data\", \"h_anchor\": \"start\", \"v_baseline\": \"auto\", \"rotation\": -0.0, \"fontsize\": 13.0, \"color\": \"#000000\", \"alpha\": 1, \"zorder\": 3, \"id\": \"el81602686883920136\"}, {\"text\": \"Avignon-Centre\", \"position\": [4.755268, 43.89187700000001], \"coordinates\": \"data\", \"h_anchor\": \"end\", \"v_baseline\": \"auto\", \"rotation\": -0.0, \"fontsize\": 13.0, \"color\": \"#000000\", \"alpha\": 1, \"zorder\": 3, \"id\": \"el81602686883920472\"}, {\"text\": \"Valence-Ville\", \"position\": [4.8432960000000005, 44.87806500000001], \"coordinates\": \"data\", \"h_anchor\": \"end\", \"v_baseline\": \"auto\", \"rotation\": -0.0, \"fontsize\": 13.0, \"color\": \"#000000\", \"alpha\": 1, \"zorder\": 3, \"id\": \"el81602686883920808\"}, {\"text\": \"Menton\", \"position\": [7.543163000000001, 43.824405], \"coordinates\": \"data\", \"h_anchor\": \"start\", \"v_baseline\": \"auto\", \"rotation\": -0.0, \"fontsize\": 13.0, \"color\": \"#000000\", \"alpha\": 1, \"zorder\": 3, \"id\": \"el81602686883921144\"}, {\"text\": \"Les Arcs-Draguignan\", \"position\": [6.432463, 43.405732], \"coordinates\": \"data\", \"h_anchor\": \"end\", \"v_baseline\": \"auto\", \"rotation\": -0.0, \"fontsize\": 13.0, \"color\": \"#000000\", \"alpha\": 1, \"zorder\": 3, \"id\": \"el81602686883921480\"}, {\"text\": \"Ventimiglia-Stazione\", \"position\": [7.659675999999999, 43.842175], \"coordinates\": \"data\", \"h_anchor\": \"start\", \"v_baseline\": \"auto\", \"rotation\": -0.0, \"fontsize\": 13.0, \"color\": \"#000000\", \"alpha\": 1, \"zorder\": 3, \"id\": \"el81602686883921816\"}, {\"text\": \"Annecy\", \"position\": [6.07182, 45.85205200000001], \"coordinates\": \"data\", \"h_anchor\": \"end\", \"v_baseline\": \"auto\", \"rotation\": -0.0, \"fontsize\": 13.0, \"color\": \"#000000\", \"alpha\": 1, \"zorder\": 3, \"id\": \"el81602686883946792\"}, {\"text\": \"Angers-St-Laud\", \"position\": [-0.5069499999999999, 47.514441999999995], \"coordinates\": \"data\", \"h_anchor\": \"start\", \"v_baseline\": \"auto\", \"rotation\": -0.0, \"fontsize\": 13.0, \"color\": \"#000000\", \"alpha\": 1, \"zorder\": 3, \"id\": \"el81602686883947128\"}, {\"text\": \"Rennes\", \"position\": [-1.622321, 48.153532999999996], \"coordinates\": \"data\", \"h_anchor\": \"start\", \"v_baseline\": \"auto\", \"rotation\": -0.0, \"fontsize\": 13.0, \"color\": \"#000000\", \"alpha\": 1, \"zorder\": 3, \"id\": \"el81602686883947464\"}, {\"text\": \"Narbonne\", \"position\": [2.955962, 43.141024], \"coordinates\": \"data\", \"h_anchor\": \"end\", \"v_baseline\": \"auto\", \"rotation\": -0.0, \"fontsize\": 13.0, \"color\": \"#000000\", \"alpha\": 1, \"zorder\": 3, \"id\": \"el81602686883947800\"}, {\"text\": \"Besan\\u00e7on-Franche-Comt\\u00e9\", \"position\": [6.004751, 47.357459999999996], \"coordinates\": \"data\", \"h_anchor\": \"start\", \"v_baseline\": \"auto\", \"rotation\": -0.0, \"fontsize\": 13.0, \"color\": \"#000000\", \"alpha\": 1, \"zorder\": 3, \"id\": \"el81602686883948136\"}, {\"text\": \"Mont\\u00e9limar\", \"position\": [4.694792, 44.508995000000006], \"coordinates\": \"data\", \"h_anchor\": \"end\", \"v_baseline\": \"auto\", \"rotation\": -0.0, \"fontsize\": 13.0, \"color\": \"#000000\", \"alpha\": 1, \"zorder\": 3, \"id\": \"el81602686883948472\"}, {\"text\": \"Perpignan\", \"position\": [2.8296270000000003, 42.646069000000004], \"coordinates\": \"data\", \"h_anchor\": \"end\", \"v_baseline\": \"auto\", \"rotation\": -0.0, \"fontsize\": 13.0, \"color\": \"#000000\", \"alpha\": 1, \"zorder\": 3, \"id\": \"el81602686883948808\"}, {\"text\": \"Valence-TGV\", \"position\": [4.928944, 44.941366], \"coordinates\": \"data\", \"h_anchor\": \"end\", \"v_baseline\": \"auto\", \"rotation\": -0.0, \"fontsize\": 13.0, \"color\": \"#000000\", \"alpha\": 1, \"zorder\": 3, \"id\": \"el81602686883949144\"}, {\"text\": \"Bourg-en-Bresse\", \"position\": [5.264968, 46.250119], \"coordinates\": \"data\", \"h_anchor\": \"start\", \"v_baseline\": \"auto\", \"rotation\": -0.0, \"fontsize\": 13.0, \"color\": \"#000000\", \"alpha\": 1, \"zorder\": 3, \"id\": \"el81602686883949480\"}, {\"text\": \"Rouen-Rive-Droite\", \"position\": [1.144165, 49.499036], \"coordinates\": \"data\", \"h_anchor\": \"start\", \"v_baseline\": \"auto\", \"rotation\": -0.0, \"fontsize\": 13.0, \"color\": \"#000000\", \"alpha\": 1, \"zorder\": 3, \"id\": \"el81602686883949816\"}, {\"text\": \"Toulon\", \"position\": [5.879467, 43.078319], \"coordinates\": \"data\", \"h_anchor\": \"end\", \"v_baseline\": \"auto\", \"rotation\": -0.0, \"fontsize\": 13.0, \"color\": \"#000000\", \"alpha\": 1, \"zorder\": 3, \"id\": \"el81602686883950152\"}, {\"text\": \"Le Mans\", \"position\": [0.24215199999999998, 48.045590999999995], \"coordinates\": \"data\", \"h_anchor\": \"start\", \"v_baseline\": \"auto\", \"rotation\": -0.0, \"fontsize\": 13.0, \"color\": \"#000000\", \"alpha\": 1, \"zorder\": 3, \"id\": \"el81602686883950488\"}, {\"text\": \"Nantes\", \"position\": [-1.491943, 47.26751599999999], \"coordinates\": \"data\", \"h_anchor\": \"start\", \"v_baseline\": \"auto\", \"rotation\": -0.0, \"fontsize\": 13.0, \"color\": \"#000000\", \"alpha\": 1, \"zorder\": 3, \"id\": \"el81602686883983656\"}, {\"text\": \"Lyon-Perrache\", \"position\": [4.7757510000000005, 45.698488000000005], \"coordinates\": \"data\", \"h_anchor\": \"end\", \"v_baseline\": \"auto\", \"rotation\": -0.0, \"fontsize\": 13.0, \"color\": \"#000000\", \"alpha\": 1, \"zorder\": 3, \"id\": \"el81602686883983992\"}, {\"text\": \"Gares atteignables avant minuit depuis la Gare de Lyon\", \"position\": [0.49999999999999994, 1.011037527593819], \"coordinates\": \"axes\", \"h_anchor\": \"middle\", \"v_baseline\": \"auto\", \"rotation\": -0.0, \"fontsize\": 20.0, \"color\": \"#000000\", \"alpha\": 1, \"zorder\": 3, \"id\": \"el81602686883619336\"}, {\"text\": \"Gare de d\\u00e9part\", \"position\": [0.6053614097968937, 0.9678072111846947], \"coordinates\": \"axes\", \"h_anchor\": \"start\", \"v_baseline\": \"auto\", \"rotation\": -0.0, \"fontsize\": 10.0, \"color\": \"#000000\", \"alpha\": 1, \"zorder\": 1000003.0, \"id\": \"el81602686884013616\"}, {\"text\": \"Direct depuis Gare de Lyon le soir du 17 novembre\", \"position\": [0.6053614097968937, 0.9402133922001472], \"coordinates\": \"axes\", \"h_anchor\": \"start\", \"v_baseline\": \"auto\", \"rotation\": -0.0, \"fontsize\": 10.0, \"color\": \"#000000\", \"alpha\": 1, \"zorder\": 1000003.0, \"id\": \"el81602686884041224\"}, {\"text\": \"Avec une correspondance depuis une gare directe\", \"position\": [0.6053614097968937, 0.9126195732155997], \"coordinates\": \"axes\", \"h_anchor\": \"start\", \"v_baseline\": \"auto\", \"rotation\": -0.0, \"fontsize\": 10.0, \"color\": \"#000000\", \"alpha\": 1, \"zorder\": 1000003.0, \"id\": \"el81602686884044024\"}], \"collections\": [{\"offsets\": \"data01\", \"xindex\": 0, \"yindex\": 1, \"paths\": [[[[0.0, -0.5], [0.13260155, -0.5], [0.25978993539242673, -0.44731684579412084], [0.3535533905932738, -0.3535533905932738], [0.44731684579412084, -0.25978993539242673], [0.5, -0.13260155], [0.5, 0.0], [0.5, 0.13260155], [0.44731684579412084, 0.25978993539242673], [0.3535533905932738, 0.3535533905932738], [0.25978993539242673, 0.44731684579412084], [0.13260155, 0.5], [0.0, 0.5], [-0.13260155, 0.5], [-0.25978993539242673, 0.44731684579412084], [-0.3535533905932738, 0.3535533905932738], [-0.44731684579412084, 0.25978993539242673], [-0.5, 0.13260155], [-0.5, 0.0], [-0.5, -0.13260155], [-0.44731684579412084, -0.25978993539242673], [-0.3535533905932738, -0.3535533905932738], [-0.25978993539242673, -0.44731684579412084], [-0.13260155, -0.5], [0.0, -0.5]], [\"M\", \"C\", \"C\", \"C\", \"C\", \"C\", \"C\", \"C\", \"C\", \"Z\"]]], \"pathtransforms\": [[10.0, 0.0, 0.0, 10.0, 0.0, 0.0]], \"alphas\": [0.5], \"edgecolors\": [\"#FF807F\", \"#FF807F\", \"#FF807F\", \"#FF807F\", \"#FF807F\", \"#FF807F\", \"#FF807F\", \"#FF807F\", \"#FF807F\", \"#FF807F\", \"#FF807F\", \"#FF807F\", \"#FF00FF\", \"#FF807F\", \"#FF807F\", \"#FF807F\", \"#FF807F\", \"#FF807F\", \"#FF807F\", \"#FF807F\", \"#FF807F\", \"#FF807F\", \"#FF807F\", \"#FF807F\", \"#FF807F\", \"#FF807F\", \"#FF807F\", \"#FF807F\", \"#FF807F\", \"#FF807F\", \"#FF807F\", \"#FF807F\", \"#FF807F\", \"#FF807F\", \"#FF807F\", \"#FF807F\", \"#FF807F\", \"#FF807F\", \"#FFCC32\", \"#FFCC32\", \"#FFCC32\", \"#FFCC32\", \"#FFCC32\", \"#FFCC32\", \"#FFCC32\", \"#FFCC32\", \"#FFCC32\", \"#FFCC32\", \"#FFCC32\", \"#FFCC32\", \"#FFCC32\", \"#FFCC32\", \"#FFCC32\", \"#FFCC32\", \"#FFCC32\", \"#FFCC32\", \"#FFCC32\", \"#FFCC32\", \"#FFCC32\", \"#FFCC32\", \"#FFCC32\", \"#FFCC32\", \"#FFCC32\", \"#FFCC32\", \"#FFCC32\", \"#FFCC32\", \"#FFCC32\", \"#FFCC32\", \"#FFCC32\", \"#FFCC32\", \"#FFCC32\", \"#FFCC32\", \"#FFCC32\", \"#FFCC32\", \"#FFCC32\", \"#FFCC32\", \"#FFCC32\", \"#FFCC32\"], \"facecolors\": [\"#FF807F\", \"#FF807F\", \"#FF807F\", \"#FF807F\", \"#FF807F\", \"#FF807F\", \"#FF807F\", \"#FF807F\", \"#FF807F\", \"#FF807F\", \"#FF807F\", \"#FF807F\", \"#FF00FF\", \"#FF807F\", \"#FF807F\", \"#FF807F\", \"#FF807F\", \"#FF807F\", \"#FF807F\", \"#FF807F\", \"#FF807F\", \"#FF807F\", \"#FF807F\", \"#FF807F\", \"#FF807F\", \"#FF807F\", \"#FF807F\", \"#FF807F\", \"#FF807F\", \"#FF807F\", \"#FF807F\", \"#FF807F\", \"#FF807F\", \"#FF807F\", \"#FF807F\", \"#FF807F\", \"#FF807F\", \"#FF807F\", \"#FFCC32\", \"#FFCC32\", \"#FFCC32\", \"#FFCC32\", \"#FFCC32\", \"#FFCC32\", \"#FFCC32\", \"#FFCC32\", \"#FFCC32\", \"#FFCC32\", \"#FFCC32\", \"#FFCC32\", \"#FFCC32\", \"#FFCC32\", \"#FFCC32\", \"#FFCC32\", \"#FFCC32\", \"#FFCC32\", \"#FFCC32\", \"#FFCC32\", \"#FFCC32\", \"#FFCC32\", \"#FFCC32\", \"#FFCC32\", \"#FFCC32\", \"#FFCC32\", \"#FFCC32\", \"#FFCC32\", \"#FFCC32\", \"#FFCC32\", \"#FFCC32\", \"#FFCC32\", \"#FFCC32\", \"#FFCC32\", \"#FFCC32\", \"#FFCC32\", \"#FFCC32\", \"#FFCC32\", \"#FFCC32\", \"#FFCC32\"], \"edgewidths\": [1.0], \"offsetcoordinates\": \"data\", \"pathcoordinates\": \"display\", \"zorder\": 1, \"id\": \"el81602686883984496\"}], \"images\": [], \"sharex\": [], \"sharey\": []}], \"data\": {\"data01\": [[3.005962, 43.191024], [6.769011999999999, 43.423611], [4.36584, 43.83229], [4.978944, 44.991366], [6.354194000000001, 45.277834999999996], [6.709629, 45.07642], [7.261781, 43.704716], [5.7145269999999995, 45.191456], [3.219225, 43.336216], [4.632025, 43.684841999999996], [6.482463, 43.455732], [4.399999, 45.443376], [2.373481, 48.844924], [4.7447919999999995, 44.558995], [3.882368, 43.605829], [5.919798999999999, 45.571032], [6.12182, 45.902052000000005], [4.8194989999999995, 44.137304], [6.831533, 45.038782], [7.119511999999999, 43.585794], [5.075836, 45.720923], [7.667503999999999, 45.073890999999996], [6.659172, 45.193552000000004], [5.909349, 45.687856], [4.78616, 43.921963], [4.825751, 45.748488], [9.187572, 45.484967], [5.317273, 43.455151], [4.4993870000000005, 46.7653], [4.859438, 45.76058], [5.929467, 43.128319], [4.7789470000000005, 46.282892], [2.879627, 42.696069], [4.805268, 43.941877000000005], [5.380659, 43.30273], [4.9996089999999995, 43.580740000000006], [4.893296, 44.928065000000004], [7.019722, 43.553917999999996], [6.899019, 47.586579], [3.0899919999999996, 50.371687], [3.4660290000000002, 43.317566], [0.725056, 47.385733], [7.347065, 48.073137], [-0.760929, 48.076265], [7.733944999999999, 48.585151], [2.571609, 49.004021], [1.094165, 49.449036], [5.214968, 46.200119], [2.782899, 48.870599], [7.609675999999999, 43.792175], [2.781154, 50.286827], [6.134022, 49.59962], [3.6964040000000002, 43.412804], [7.419664999999999, 43.738488000000004], [5.954751, 47.30746], [0.192152, 47.995591], [3.075774, 50.638861], [7.342833000000001, 47.741786], [4.825146, 46.302654], [5.550873999999999, 46.66839], [7.493163000000001, 43.774405], [3.071052, 50.636215], [6.168861, 49.353893], [5.027278, 47.323392], [-0.071427, 47.268975], [6.177198000000001, 49.109759000000004], [6.021904, 47.247027], [-1.541943, 47.217515999999996], [2.135482, 48.79557], [1.703309, 48.989692], [2.2615849999999997, 48.726031], [-0.55695, 47.464442], [6.471113, 45.217240999999994], [0.124845, 49.492657], [2.831682, 49.859209], [2.256614, 48.724903999999995], [4.335886, 50.83528], [-1.672321, 48.103533]], \"data02\": [[0.5784796893667862, 0.9742457689477558, 0.9466519499632083, 0.9190581309786608]], \"data03\": [[0.5605585424133811, 0.9015820456217809], [0.9895459976105138, 0.9015820456217809], [0.9925328554360812, 0.9015820456217809], [0.9925328554360812, 0.9052612214863871], [0.9925328554360812, 0.987122884473878], [0.9925328554360812, 0.9908020603384842], [0.9895459976105138, 0.9908020603384842], [0.5605585424133811, 0.9908020603384842], [0.5575716845878136, 0.9908020603384842], [0.5575716845878136, 0.987122884473878], [0.5575716845878136, 0.9052612214863871], [0.5575716845878136, 0.9015820456217809], [0.5605585424133811, 0.9015820456217809]]}, \"id\": \"el81602686871255640\", \"plugins\": [{\"type\": \"reset\"}, {\"type\": \"zoom\", \"button\": true, \"enabled\": false}, {\"type\": \"boxzoom\", \"button\": true, \"enabled\": false}]});\n",
              "      });\n",
              "    });\n",
              "}else{\n",
              "    // require.js not available: dynamically load d3 & mpld3\n",
              "    mpld3_load_lib(\"https://mpld3.github.io/js/d3.v3.min.js\", function(){\n",
              "         mpld3_load_lib(\"https://mpld3.github.io/js/mpld3.v0.3.js\", function(){\n",
              "                 \n",
              "                 mpld3.draw_figure(\"fig_el81602686871255640830553839\", {\"width\": 864.0, \"height\": 720.0, \"axes\": [{\"bbox\": [0.125, 0.125, 0.775, 0.755], \"xlim\": [-2.2235295090203104, 9.738780509020307], \"ylim\": [42.278990716372334, 51.25235828362766], \"xdomain\": [-2.2235295090203104, 9.738780509020307], \"ydomain\": [42.278990716372334, 51.25235828362766], \"xscale\": \"linear\", \"yscale\": \"linear\", \"axes\": [{\"position\": \"bottom\", \"nticks\": 8, \"tickvalues\": null, \"tickformat\": null, \"scale\": \"linear\", \"fontsize\": 10.0, \"grid\": {\"gridOn\": false}, \"visible\": true}, {\"position\": \"left\", \"nticks\": 11, \"tickvalues\": null, \"tickformat\": null, \"scale\": \"linear\", \"fontsize\": 10.0, \"grid\": {\"gridOn\": false}, \"visible\": true}], \"axesbg\": \"#F5F5F5\", \"axesbgalpha\": null, \"zoomable\": true, \"id\": \"el81602686882968184\", \"lines\": [], \"paths\": [{\"data\": \"data03\", \"xindex\": 0, \"yindex\": 1, \"coordinates\": \"axes\", \"pathcodes\": [\"M\", \"L\", \"S\", \"L\", \"S\", \"L\", \"S\", \"L\", \"S\", \"Z\"], \"id\": \"el81602686884012888\", \"dasharray\": \"none\", \"alpha\": 0.8, \"facecolor\": \"#FFFFFF\", \"edgecolor\": \"#CCCCCC\", \"edgewidth\": 1.0, \"zorder\": 1000000.0}], \"markers\": [{\"data\": \"data02\", \"xindex\": 0, \"yindex\": 1, \"coordinates\": \"axes\", \"id\": \"el81602686884015072pts\", \"facecolor\": \"#FF00FF\", \"edgecolor\": \"#1F77B4\", \"edgewidth\": 1.0, \"alpha\": 0.5, \"zorder\": 1000002.0, \"markerpath\": [[[0.0, 5.0], [1.3260155, 5.0], [2.597899353924267, 4.473168457941209], [3.5355339059327378, 3.5355339059327378], [4.473168457941209, 2.597899353924267], [5.0, 1.3260155], [5.0, 0.0], [5.0, -1.3260155], [4.473168457941209, -2.597899353924267], [3.5355339059327378, -3.5355339059327378], [2.597899353924267, -4.473168457941209], [1.3260155, -5.0], [0.0, -5.0], [-1.3260155, -5.0], [-2.597899353924267, -4.473168457941209], [-3.5355339059327378, -3.5355339059327378], [-4.473168457941209, -2.597899353924267], [-5.0, -1.3260155], [-5.0, 0.0], [-5.0, 1.3260155], [-4.473168457941209, 2.597899353924267], [-3.5355339059327378, 3.5355339059327378], [-2.597899353924267, 4.473168457941209], [-1.3260155, 5.0], [0.0, 5.0]], [\"M\", \"C\", \"C\", \"C\", \"C\", \"C\", \"C\", \"C\", \"C\", \"Z\"]]}, {\"data\": \"data02\", \"xindex\": 0, \"yindex\": 2, \"coordinates\": \"axes\", \"id\": \"el81602686884042736pts\", \"facecolor\": \"#FF807F\", \"edgecolor\": \"#1F77B4\", \"edgewidth\": 1.0, \"alpha\": 0.5, \"zorder\": 1000002.0, \"markerpath\": [[[0.0, 5.0], [1.3260155, 5.0], [2.597899353924267, 4.473168457941209], [3.5355339059327378, 3.5355339059327378], [4.473168457941209, 2.597899353924267], [5.0, 1.3260155], [5.0, 0.0], [5.0, -1.3260155], [4.473168457941209, -2.597899353924267], [3.5355339059327378, -3.5355339059327378], [2.597899353924267, -4.473168457941209], [1.3260155, -5.0], [0.0, -5.0], [-1.3260155, -5.0], [-2.597899353924267, -4.473168457941209], [-3.5355339059327378, -3.5355339059327378], [-4.473168457941209, -2.597899353924267], [-5.0, -1.3260155], [-5.0, 0.0], [-5.0, 1.3260155], [-4.473168457941209, 2.597899353924267], [-3.5355339059327378, 3.5355339059327378], [-2.597899353924267, 4.473168457941209], [-1.3260155, 5.0], [0.0, 5.0]], [\"M\", \"C\", \"C\", \"C\", \"C\", \"C\", \"C\", \"C\", \"C\", \"Z\"]]}, {\"data\": \"data02\", \"xindex\": 0, \"yindex\": 3, \"coordinates\": \"axes\", \"id\": \"el81602686884082464pts\", \"facecolor\": \"#FFCC32\", \"edgecolor\": \"#1F77B4\", \"edgewidth\": 1.0, \"alpha\": 0.5, \"zorder\": 1000002.0, \"markerpath\": [[[0.0, 5.0], [1.3260155, 5.0], [2.597899353924267, 4.473168457941209], [3.5355339059327378, 3.5355339059327378], [4.473168457941209, 2.597899353924267], [5.0, 1.3260155], [5.0, 0.0], [5.0, -1.3260155], [4.473168457941209, -2.597899353924267], [3.5355339059327378, -3.5355339059327378], [2.597899353924267, -4.473168457941209], [1.3260155, -5.0], [0.0, -5.0], [-1.3260155, -5.0], [-2.597899353924267, -4.473168457941209], [-3.5355339059327378, -3.5355339059327378], [-4.473168457941209, -2.597899353924267], [-5.0, -1.3260155], [-5.0, 0.0], [-5.0, 1.3260155], [-4.473168457941209, 2.597899353924267], [-3.5355339059327378, 3.5355339059327378], [-2.597899353924267, 4.473168457941209], [-1.3260155, 5.0], [0.0, 5.0]], [\"M\", \"C\", \"C\", \"C\", \"C\", \"C\", \"C\", \"C\", \"C\", \"Z\"]]}], \"texts\": [{\"text\": \"Mulhouse\", \"position\": [7.392833, 47.791785999999995], \"coordinates\": \"data\", \"h_anchor\": \"start\", \"v_baseline\": \"auto\", \"rotation\": -0.0, \"fontsize\": 13.0, \"color\": \"#000000\", \"alpha\": 1, \"zorder\": 3, \"id\": \"el81602686883781544\"}, {\"text\": \"Modane\", \"position\": [6.609172, 45.14355200000001], \"coordinates\": \"data\", \"h_anchor\": \"end\", \"v_baseline\": \"auto\", \"rotation\": -0.0, \"fontsize\": 13.0, \"color\": \"#000000\", \"alpha\": 1, \"zorder\": 3, \"id\": \"el81602686883781880\"}, {\"text\": \"Milano-Porta-Garibaldi\", \"position\": [9.137571999999999, 45.434967], \"coordinates\": \"data\", \"h_anchor\": \"end\", \"v_baseline\": \"auto\", \"rotation\": -0.0, \"fontsize\": 13.0, \"color\": \"#000000\", \"alpha\": 1, \"zorder\": 3, \"id\": \"el81602686883782216\"}, {\"text\": \"Thionville\", \"position\": [6.2188609999999995, 49.403893], \"coordinates\": \"data\", \"h_anchor\": \"start\", \"v_baseline\": \"auto\", \"rotation\": -0.0, \"fontsize\": 13.0, \"color\": \"#000000\", \"alpha\": 1, \"zorder\": 3, \"id\": \"el81602686883782552\"}, {\"text\": \"St-Etienne-Ch\\u00e2teaucreux\", \"position\": [4.349999, 45.393376], \"coordinates\": \"data\", \"h_anchor\": \"end\", \"v_baseline\": \"auto\", \"rotation\": -0.0, \"fontsize\": 13.0, \"color\": \"#000000\", \"alpha\": 1, \"zorder\": 3, \"id\": \"el81602686883803432\"}, {\"text\": \"Avignon-TGV\", \"position\": [4.73616, 43.871963], \"coordinates\": \"data\", \"h_anchor\": \"end\", \"v_baseline\": \"auto\", \"rotation\": -0.0, \"fontsize\": 13.0, \"color\": \"#000000\", \"alpha\": 1, \"zorder\": 3, \"id\": \"el81602686883803768\"}, {\"text\": \"Chamb\\u00e9ry-Chal.-les-Eaux\", \"position\": [5.8697989999999995, 45.521032000000005], \"coordinates\": \"data\", \"h_anchor\": \"end\", \"v_baseline\": \"auto\", \"rotation\": -0.0, \"fontsize\": 13.0, \"color\": \"#000000\", \"alpha\": 1, \"zorder\": 3, \"id\": \"el81602686883804104\"}, {\"text\": \"Cannes\", \"position\": [6.969722, 43.503918], \"coordinates\": \"data\", \"h_anchor\": \"end\", \"v_baseline\": \"auto\", \"rotation\": -0.0, \"fontsize\": 13.0, \"color\": \"#000000\", \"alpha\": 1, \"zorder\": 3, \"id\": \"el81602686883804440\"}, {\"text\": \"Marne-la-Vall\\u00e9e-Chessy.\", \"position\": [2.832899, 48.920598999999996], \"coordinates\": \"data\", \"h_anchor\": \"start\", \"v_baseline\": \"auto\", \"rotation\": -0.0, \"fontsize\": 13.0, \"color\": \"#000000\", \"alpha\": 1, \"zorder\": 3, \"id\": \"el81602686883804776\"}, {\"text\": \"Mantes-la-Jolie-TGV\", \"position\": [1.753309, 49.039691999999995], \"coordinates\": \"data\", \"h_anchor\": \"start\", \"v_baseline\": \"auto\", \"rotation\": -0.0, \"fontsize\": 13.0, \"color\": \"#000000\", \"alpha\": 1, \"zorder\": 3, \"id\": \"el81602686883805112\"}, {\"text\": \"Aix-en-Provence-TGV\", \"position\": [5.267273, 43.405151000000004], \"coordinates\": \"data\", \"h_anchor\": \"end\", \"v_baseline\": \"auto\", \"rotation\": -0.0, \"fontsize\": 13.0, \"color\": \"#000000\", \"alpha\": 1, \"zorder\": 3, \"id\": \"el81602686883805448\"}, {\"text\": \"N\\u00eemes\", \"position\": [4.315840000000001, 43.78229], \"coordinates\": \"data\", \"h_anchor\": \"end\", \"v_baseline\": \"auto\", \"rotation\": -0.0, \"fontsize\": 13.0, \"color\": \"#000000\", \"alpha\": 1, \"zorder\": 3, \"id\": \"el81602686883805784\"}, {\"text\": \"Massy-TGV\", \"position\": [2.3115849999999996, 48.776030999999996], \"coordinates\": \"data\", \"h_anchor\": \"start\", \"v_baseline\": \"auto\", \"rotation\": -0.0, \"fontsize\": 13.0, \"color\": \"#000000\", \"alpha\": 1, \"zorder\": 3, \"id\": \"el81602686883806120\"}, {\"text\": \"St-Rapha\\u00ebl-Valescure\", \"position\": [6.719011999999999, 43.373611000000004], \"coordinates\": \"data\", \"h_anchor\": \"end\", \"v_baseline\": \"auto\", \"rotation\": -0.0, \"fontsize\": 13.0, \"color\": \"#000000\", \"alpha\": 1, \"zorder\": 3, \"id\": \"el81602686883806456\"}, {\"text\": \"TGV Haute-Picardie\", \"position\": [2.8816819999999996, 49.909209], \"coordinates\": \"data\", \"h_anchor\": \"start\", \"v_baseline\": \"auto\", \"rotation\": -0.0, \"fontsize\": 13.0, \"color\": \"#000000\", \"alpha\": 1, \"zorder\": 3, \"id\": \"el81602686883806792\"}, {\"text\": \"B\\u00e9ziers\", \"position\": [3.169225, 43.286216], \"coordinates\": \"data\", \"h_anchor\": \"end\", \"v_baseline\": \"auto\", \"rotation\": -0.0, \"fontsize\": 13.0, \"color\": \"#000000\", \"alpha\": 1, \"zorder\": 3, \"id\": \"el81602686883807128\"}, {\"text\": \"Massy-Palaiseau\", \"position\": [2.3066139999999997, 48.77490399999999], \"coordinates\": \"data\", \"h_anchor\": \"start\", \"v_baseline\": \"auto\", \"rotation\": -0.0, \"fontsize\": 13.0, \"color\": \"#000000\", \"alpha\": 1, \"zorder\": 3, \"id\": \"el81602686883832104\"}, {\"text\": \"Lille Europe\", \"position\": [3.125774, 50.688860999999996], \"coordinates\": \"data\", \"h_anchor\": \"start\", \"v_baseline\": \"auto\", \"rotation\": -0.0, \"fontsize\": 13.0, \"color\": \"#000000\", \"alpha\": 1, \"zorder\": 3, \"id\": \"el81602686883832440\"}, {\"text\": \"M\\u00e2con-Loch\\u00e9-TGV\", \"position\": [4.728947000000001, 46.232892], \"coordinates\": \"data\", \"h_anchor\": \"end\", \"v_baseline\": \"auto\", \"rotation\": -0.0, \"fontsize\": 13.0, \"color\": \"#000000\", \"alpha\": 1, \"zorder\": 3, \"id\": \"el81602686883832776\"}, {\"text\": \"Marseille-St-Charles\", \"position\": [5.330659, 43.25273], \"coordinates\": \"data\", \"h_anchor\": \"end\", \"v_baseline\": \"auto\", \"rotation\": -0.0, \"fontsize\": 13.0, \"color\": \"#000000\", \"alpha\": 1, \"zorder\": 3, \"id\": \"el81602686883833112\"}, {\"text\": \"Douai\", \"position\": [3.1399919999999995, 50.421687], \"coordinates\": \"data\", \"h_anchor\": \"start\", \"v_baseline\": \"auto\", \"rotation\": -0.0, \"fontsize\": 13.0, \"color\": \"#000000\", \"alpha\": 1, \"zorder\": 3, \"id\": \"el81602686883833448\"}, {\"text\": \"Torino-Porta-Susa\", \"position\": [7.617503999999999, 45.023891], \"coordinates\": \"data\", \"h_anchor\": \"end\", \"v_baseline\": \"auto\", \"rotation\": -0.0, \"fontsize\": 13.0, \"color\": \"#000000\", \"alpha\": 1, \"zorder\": 3, \"id\": \"el81602686883833784\"}, {\"text\": \"Monaco-Monte-Carlo\", \"position\": [7.469664999999999, 43.788488], \"coordinates\": \"data\", \"h_anchor\": \"start\", \"v_baseline\": \"auto\", \"rotation\": -0.0, \"fontsize\": 13.0, \"color\": \"#000000\", \"alpha\": 1, \"zorder\": 3, \"id\": \"el81602686883834120\"}, {\"text\": \"Metz-Ville\", \"position\": [6.2271980000000005, 49.159759], \"coordinates\": \"data\", \"h_anchor\": \"start\", \"v_baseline\": \"auto\", \"rotation\": -0.0, \"fontsize\": 13.0, \"color\": \"#000000\", \"alpha\": 1, \"zorder\": 3, \"id\": \"el81602686883834456\"}, {\"text\": \"Saumur\", \"position\": [-0.021427, 47.318974999999995], \"coordinates\": \"data\", \"h_anchor\": \"start\", \"v_baseline\": \"auto\", \"rotation\": -0.0, \"fontsize\": 13.0, \"color\": \"#000000\", \"alpha\": 1, \"zorder\": 3, \"id\": \"el81602686883834792\"}, {\"text\": \"St-Michel-Valloire\", \"position\": [6.521113, 45.26724099999999], \"coordinates\": \"data\", \"h_anchor\": \"start\", \"v_baseline\": \"auto\", \"rotation\": -0.0, \"fontsize\": 13.0, \"color\": \"#000000\", \"alpha\": 1, \"zorder\": 3, \"id\": \"el81602686883835128\"}, {\"text\": \"Le Havre\", \"position\": [0.174845, 49.542657], \"coordinates\": \"data\", \"h_anchor\": \"start\", \"v_baseline\": \"auto\", \"rotation\": -0.0, \"fontsize\": 13.0, \"color\": \"#000000\", \"alpha\": 1, \"zorder\": 3, \"id\": \"el81602686883835464\"}, {\"text\": \"Laval\", \"position\": [-0.7109289999999999, 48.126265], \"coordinates\": \"data\", \"h_anchor\": \"start\", \"v_baseline\": \"auto\", \"rotation\": -0.0, \"fontsize\": 13.0, \"color\": \"#000000\", \"alpha\": 1, \"zorder\": 3, \"id\": \"el81602686883835800\"}, {\"text\": \"St-Pierre-des-Corps\", \"position\": [0.7750560000000001, 47.435733], \"coordinates\": \"data\", \"h_anchor\": \"start\", \"v_baseline\": \"auto\", \"rotation\": -0.0, \"fontsize\": 13.0, \"color\": \"#000000\", \"alpha\": 1, \"zorder\": 3, \"id\": \"el81602686883868968\"}, {\"text\": \"Lyon-Saint-Exupery-Tgv\", \"position\": [5.025836, 45.670923], \"coordinates\": \"data\", \"h_anchor\": \"end\", \"v_baseline\": \"auto\", \"rotation\": -0.0, \"fontsize\": 13.0, \"color\": \"#000000\", \"alpha\": 1, \"zorder\": 3, \"id\": \"el81602686883869304\"}, {\"text\": \"Bruxelles-M./Brussel-Z.\", \"position\": [4.385886, 50.885279999999995], \"coordinates\": \"data\", \"h_anchor\": \"start\", \"v_baseline\": \"auto\", \"rotation\": -0.0, \"fontsize\": 13.0, \"color\": \"#000000\", \"alpha\": 1, \"zorder\": 3, \"id\": \"el81602686883869640\"}, {\"text\": \"Strasbourg\", \"position\": [7.783944999999999, 48.635151], \"coordinates\": \"data\", \"h_anchor\": \"start\", \"v_baseline\": \"auto\", \"rotation\": -0.0, \"fontsize\": 13.0, \"color\": \"#000000\", \"alpha\": 1, \"zorder\": 3, \"id\": \"el81602686883869976\"}, {\"text\": \"Grenoble\", \"position\": [5.664527, 45.141456000000005], \"coordinates\": \"data\", \"h_anchor\": \"end\", \"v_baseline\": \"auto\", \"rotation\": -0.0, \"fontsize\": 13.0, \"color\": \"#000000\", \"alpha\": 1, \"zorder\": 3, \"id\": \"el81602686883870312\"}, {\"text\": \"A\\u00e9ropt-C-de-Gaulle-TGV\", \"position\": [2.621609, 49.054021], \"coordinates\": \"data\", \"h_anchor\": \"start\", \"v_baseline\": \"auto\", \"rotation\": -0.0, \"fontsize\": 13.0, \"color\": \"#000000\", \"alpha\": 1, \"zorder\": 3, \"id\": \"el81602686883870648\"}, {\"text\": \"Lille Flandres\", \"position\": [3.1210519999999997, 50.686215], \"coordinates\": \"data\", \"h_anchor\": \"start\", \"v_baseline\": \"auto\", \"rotation\": -0.0, \"fontsize\": 13.0, \"color\": \"#000000\", \"alpha\": 1, \"zorder\": 3, \"id\": \"el81602686883870984\"}, {\"text\": \"Oulx-Cesana-Clav-Sestri\", \"position\": [6.7815330000000005, 44.988782], \"coordinates\": \"data\", \"h_anchor\": \"end\", \"v_baseline\": \"auto\", \"rotation\": -0.0, \"fontsize\": 13.0, \"color\": \"#000000\", \"alpha\": 1, \"zorder\": 3, \"id\": \"el81602686883871320\"}, {\"text\": \"Antibes\", \"position\": [7.069512, 43.535794], \"coordinates\": \"data\", \"h_anchor\": \"end\", \"v_baseline\": \"auto\", \"rotation\": -0.0, \"fontsize\": 13.0, \"color\": \"#000000\", \"alpha\": 1, \"zorder\": 3, \"id\": \"el81602686883871656\"}, {\"text\": \"Creusot - TGV (le)\", \"position\": [4.449387000000001, 46.715300000000006], \"coordinates\": \"data\", \"h_anchor\": \"end\", \"v_baseline\": \"auto\", \"rotation\": -0.0, \"fontsize\": 13.0, \"color\": \"#000000\", \"alpha\": 1, \"zorder\": 3, \"id\": \"el81602686883871992\"}, {\"text\": \"Belfort-Montb\\u00e9liard-TGV\", \"position\": [6.949019, 47.636579], \"coordinates\": \"data\", \"h_anchor\": \"start\", \"v_baseline\": \"auto\", \"rotation\": -0.0, \"fontsize\": 13.0, \"color\": \"#000000\", \"alpha\": 1, \"zorder\": 3, \"id\": \"el81602686883872328\"}, {\"text\": \"Nice-Ville\", \"position\": [7.211781, 43.654716], \"coordinates\": \"data\", \"h_anchor\": \"end\", \"v_baseline\": \"auto\", \"rotation\": -0.0, \"fontsize\": 13.0, \"color\": \"#000000\", \"alpha\": 1, \"zorder\": 3, \"id\": \"el81602686883872664\"}, {\"text\": \"Arles\", \"position\": [4.582025, 43.634842], \"coordinates\": \"data\", \"h_anchor\": \"end\", \"v_baseline\": \"auto\", \"rotation\": -0.0, \"fontsize\": 13.0, \"color\": \"#000000\", \"alpha\": 1, \"zorder\": 3, \"id\": \"el81602686883889448\"}, {\"text\": \"Lyon-Part-Dieu\", \"position\": [4.809438, 45.71058], \"coordinates\": \"data\", \"h_anchor\": \"end\", \"v_baseline\": \"auto\", \"rotation\": -0.0, \"fontsize\": 13.0, \"color\": \"#000000\", \"alpha\": 1, \"zorder\": 3, \"id\": \"el81602686883889784\"}, {\"text\": \"St-Jean-de-Maurienne-A.\", \"position\": [6.304194000000001, 45.227835], \"coordinates\": \"data\", \"h_anchor\": \"end\", \"v_baseline\": \"auto\", \"rotation\": -0.0, \"fontsize\": 13.0, \"color\": \"#000000\", \"alpha\": 1, \"zorder\": 3, \"id\": \"el81602686883890120\"}, {\"text\": \"Bardonecchia-Stazione\", \"position\": [6.659629, 45.02642], \"coordinates\": \"data\", \"h_anchor\": \"end\", \"v_baseline\": \"auto\", \"rotation\": -0.0, \"fontsize\": 13.0, \"color\": \"#000000\", \"alpha\": 1, \"zorder\": 3, \"id\": \"el81602686883890456\"}, {\"text\": \"S\\u00e8te\", \"position\": [3.746404, 43.462804], \"coordinates\": \"data\", \"h_anchor\": \"start\", \"v_baseline\": \"auto\", \"rotation\": -0.0, \"fontsize\": 13.0, \"color\": \"#000000\", \"alpha\": 1, \"zorder\": 3, \"id\": \"el81602686883890792\"}, {\"text\": \"Aix-les-Bains-le-Revard\", \"position\": [5.859349, 45.637856], \"coordinates\": \"data\", \"h_anchor\": \"end\", \"v_baseline\": \"auto\", \"rotation\": -0.0, \"fontsize\": 13.0, \"color\": \"#000000\", \"alpha\": 1, \"zorder\": 3, \"id\": \"el81602686883891128\"}, {\"text\": \"Colmar\", \"position\": [7.397065, 48.123137], \"coordinates\": \"data\", \"h_anchor\": \"start\", \"v_baseline\": \"auto\", \"rotation\": -0.0, \"fontsize\": 13.0, \"color\": \"#000000\", \"alpha\": 1, \"zorder\": 3, \"id\": \"el81602686883891464\"}, {\"text\": \"Luxembourg\", \"position\": [6.184022, 49.64962], \"coordinates\": \"data\", \"h_anchor\": \"start\", \"v_baseline\": \"auto\", \"rotation\": -0.0, \"fontsize\": 13.0, \"color\": \"#000000\", \"alpha\": 1, \"zorder\": 3, \"id\": \"el81602686883891800\"}, {\"text\": \"Arras\", \"position\": [2.8311539999999997, 50.336827], \"coordinates\": \"data\", \"h_anchor\": \"start\", \"v_baseline\": \"auto\", \"rotation\": -0.0, \"fontsize\": 13.0, \"color\": \"#000000\", \"alpha\": 1, \"zorder\": 3, \"id\": \"el81602686883892136\"}, {\"text\": \"Lons-le-Saunier\", \"position\": [5.600873999999999, 46.71839], \"coordinates\": \"data\", \"h_anchor\": \"start\", \"v_baseline\": \"auto\", \"rotation\": -0.0, \"fontsize\": 13.0, \"color\": \"#000000\", \"alpha\": 1, \"zorder\": 3, \"id\": \"el81602686883892472\"}, {\"text\": \"M\\u00e2con-Ville\", \"position\": [4.875146, 46.352653999999994], \"coordinates\": \"data\", \"h_anchor\": \"start\", \"v_baseline\": \"auto\", \"rotation\": -0.0, \"fontsize\": 13.0, \"color\": \"#000000\", \"alpha\": 1, \"zorder\": 3, \"id\": \"el81602686883892808\"}, {\"text\": \"Montpellier-Saint-Roch\", \"position\": [3.832368, 43.555829], \"coordinates\": \"data\", \"h_anchor\": \"end\", \"v_baseline\": \"auto\", \"rotation\": -0.0, \"fontsize\": 13.0, \"color\": \"#000000\", \"alpha\": 1, \"zorder\": 3, \"id\": \"el81602686883893144\"}, {\"text\": \"Dijon-Ville\", \"position\": [5.077278, 47.373391999999996], \"coordinates\": \"data\", \"h_anchor\": \"start\", \"v_baseline\": \"auto\", \"rotation\": -0.0, \"fontsize\": 13.0, \"color\": \"#000000\", \"alpha\": 1, \"zorder\": 3, \"id\": \"el81602686883918120\"}, {\"text\": \"Versailles-Chantiers\", \"position\": [2.185482, 48.845569999999995], \"coordinates\": \"data\", \"h_anchor\": \"start\", \"v_baseline\": \"auto\", \"rotation\": -0.0, \"fontsize\": 13.0, \"color\": \"#000000\", \"alpha\": 1, \"zorder\": 3, \"id\": \"el81602686883918456\"}, {\"text\": \"Orange\", \"position\": [4.769499, 44.087304], \"coordinates\": \"data\", \"h_anchor\": \"end\", \"v_baseline\": \"auto\", \"rotation\": -0.0, \"fontsize\": 13.0, \"color\": \"#000000\", \"alpha\": 1, \"zorder\": 3, \"id\": \"el81602686883918792\"}, {\"text\": \"Miramas\", \"position\": [4.949609, 43.53074000000001], \"coordinates\": \"data\", \"h_anchor\": \"end\", \"v_baseline\": \"auto\", \"rotation\": -0.0, \"fontsize\": 13.0, \"color\": \"#000000\", \"alpha\": 1, \"zorder\": 3, \"id\": \"el81602686883919128\"}, {\"text\": \"Agde\", \"position\": [3.516029, 43.367566], \"coordinates\": \"data\", \"h_anchor\": \"start\", \"v_baseline\": \"auto\", \"rotation\": -0.0, \"fontsize\": 13.0, \"color\": \"#000000\", \"alpha\": 1, \"zorder\": 3, \"id\": \"el81602686883919464\"}, {\"text\": \"Paris-Gare-de-Lyon\", \"position\": [2.4234809999999998, 48.894923999999996], \"coordinates\": \"data\", \"h_anchor\": \"start\", \"v_baseline\": \"auto\", \"rotation\": -0.0, \"fontsize\": 13.0, \"color\": \"#000000\", \"alpha\": 1, \"zorder\": 3, \"id\": \"el81602686883919800\"}, {\"text\": \"Besan\\u00e7on-Viotte\", \"position\": [6.071904, 47.297027], \"coordinates\": \"data\", \"h_anchor\": \"start\", \"v_baseline\": \"auto\", \"rotation\": -0.0, \"fontsize\": 13.0, \"color\": \"#000000\", \"alpha\": 1, \"zorder\": 3, \"id\": \"el81602686883920136\"}, {\"text\": \"Avignon-Centre\", \"position\": [4.755268, 43.89187700000001], \"coordinates\": \"data\", \"h_anchor\": \"end\", \"v_baseline\": \"auto\", \"rotation\": -0.0, \"fontsize\": 13.0, \"color\": \"#000000\", \"alpha\": 1, \"zorder\": 3, \"id\": \"el81602686883920472\"}, {\"text\": \"Valence-Ville\", \"position\": [4.8432960000000005, 44.87806500000001], \"coordinates\": \"data\", \"h_anchor\": \"end\", \"v_baseline\": \"auto\", \"rotation\": -0.0, \"fontsize\": 13.0, \"color\": \"#000000\", \"alpha\": 1, \"zorder\": 3, \"id\": \"el81602686883920808\"}, {\"text\": \"Menton\", \"position\": [7.543163000000001, 43.824405], \"coordinates\": \"data\", \"h_anchor\": \"start\", \"v_baseline\": \"auto\", \"rotation\": -0.0, \"fontsize\": 13.0, \"color\": \"#000000\", \"alpha\": 1, \"zorder\": 3, \"id\": \"el81602686883921144\"}, {\"text\": \"Les Arcs-Draguignan\", \"position\": [6.432463, 43.405732], \"coordinates\": \"data\", \"h_anchor\": \"end\", \"v_baseline\": \"auto\", \"rotation\": -0.0, \"fontsize\": 13.0, \"color\": \"#000000\", \"alpha\": 1, \"zorder\": 3, \"id\": \"el81602686883921480\"}, {\"text\": \"Ventimiglia-Stazione\", \"position\": [7.659675999999999, 43.842175], \"coordinates\": \"data\", \"h_anchor\": \"start\", \"v_baseline\": \"auto\", \"rotation\": -0.0, \"fontsize\": 13.0, \"color\": \"#000000\", \"alpha\": 1, \"zorder\": 3, \"id\": \"el81602686883921816\"}, {\"text\": \"Annecy\", \"position\": [6.07182, 45.85205200000001], \"coordinates\": \"data\", \"h_anchor\": \"end\", \"v_baseline\": \"auto\", \"rotation\": -0.0, \"fontsize\": 13.0, \"color\": \"#000000\", \"alpha\": 1, \"zorder\": 3, \"id\": \"el81602686883946792\"}, {\"text\": \"Angers-St-Laud\", \"position\": [-0.5069499999999999, 47.514441999999995], \"coordinates\": \"data\", \"h_anchor\": \"start\", \"v_baseline\": \"auto\", \"rotation\": -0.0, \"fontsize\": 13.0, \"color\": \"#000000\", \"alpha\": 1, \"zorder\": 3, \"id\": \"el81602686883947128\"}, {\"text\": \"Rennes\", \"position\": [-1.622321, 48.153532999999996], \"coordinates\": \"data\", \"h_anchor\": \"start\", \"v_baseline\": \"auto\", \"rotation\": -0.0, \"fontsize\": 13.0, \"color\": \"#000000\", \"alpha\": 1, \"zorder\": 3, \"id\": \"el81602686883947464\"}, {\"text\": \"Narbonne\", \"position\": [2.955962, 43.141024], \"coordinates\": \"data\", \"h_anchor\": \"end\", \"v_baseline\": \"auto\", \"rotation\": -0.0, \"fontsize\": 13.0, \"color\": \"#000000\", \"alpha\": 1, \"zorder\": 3, \"id\": \"el81602686883947800\"}, {\"text\": \"Besan\\u00e7on-Franche-Comt\\u00e9\", \"position\": [6.004751, 47.357459999999996], \"coordinates\": \"data\", \"h_anchor\": \"start\", \"v_baseline\": \"auto\", \"rotation\": -0.0, \"fontsize\": 13.0, \"color\": \"#000000\", \"alpha\": 1, \"zorder\": 3, \"id\": \"el81602686883948136\"}, {\"text\": \"Mont\\u00e9limar\", \"position\": [4.694792, 44.508995000000006], \"coordinates\": \"data\", \"h_anchor\": \"end\", \"v_baseline\": \"auto\", \"rotation\": -0.0, \"fontsize\": 13.0, \"color\": \"#000000\", \"alpha\": 1, \"zorder\": 3, \"id\": \"el81602686883948472\"}, {\"text\": \"Perpignan\", \"position\": [2.8296270000000003, 42.646069000000004], \"coordinates\": \"data\", \"h_anchor\": \"end\", \"v_baseline\": \"auto\", \"rotation\": -0.0, \"fontsize\": 13.0, \"color\": \"#000000\", \"alpha\": 1, \"zorder\": 3, \"id\": \"el81602686883948808\"}, {\"text\": \"Valence-TGV\", \"position\": [4.928944, 44.941366], \"coordinates\": \"data\", \"h_anchor\": \"end\", \"v_baseline\": \"auto\", \"rotation\": -0.0, \"fontsize\": 13.0, \"color\": \"#000000\", \"alpha\": 1, \"zorder\": 3, \"id\": \"el81602686883949144\"}, {\"text\": \"Bourg-en-Bresse\", \"position\": [5.264968, 46.250119], \"coordinates\": \"data\", \"h_anchor\": \"start\", \"v_baseline\": \"auto\", \"rotation\": -0.0, \"fontsize\": 13.0, \"color\": \"#000000\", \"alpha\": 1, \"zorder\": 3, \"id\": \"el81602686883949480\"}, {\"text\": \"Rouen-Rive-Droite\", \"position\": [1.144165, 49.499036], \"coordinates\": \"data\", \"h_anchor\": \"start\", \"v_baseline\": \"auto\", \"rotation\": -0.0, \"fontsize\": 13.0, \"color\": \"#000000\", \"alpha\": 1, \"zorder\": 3, \"id\": \"el81602686883949816\"}, {\"text\": \"Toulon\", \"position\": [5.879467, 43.078319], \"coordinates\": \"data\", \"h_anchor\": \"end\", \"v_baseline\": \"auto\", \"rotation\": -0.0, \"fontsize\": 13.0, \"color\": \"#000000\", \"alpha\": 1, \"zorder\": 3, \"id\": \"el81602686883950152\"}, {\"text\": \"Le Mans\", \"position\": [0.24215199999999998, 48.045590999999995], \"coordinates\": \"data\", \"h_anchor\": \"start\", \"v_baseline\": \"auto\", \"rotation\": -0.0, \"fontsize\": 13.0, \"color\": \"#000000\", \"alpha\": 1, \"zorder\": 3, \"id\": \"el81602686883950488\"}, {\"text\": \"Nantes\", \"position\": [-1.491943, 47.26751599999999], \"coordinates\": \"data\", \"h_anchor\": \"start\", \"v_baseline\": \"auto\", \"rotation\": -0.0, \"fontsize\": 13.0, \"color\": \"#000000\", \"alpha\": 1, \"zorder\": 3, \"id\": \"el81602686883983656\"}, {\"text\": \"Lyon-Perrache\", \"position\": [4.7757510000000005, 45.698488000000005], \"coordinates\": \"data\", \"h_anchor\": \"end\", \"v_baseline\": \"auto\", \"rotation\": -0.0, \"fontsize\": 13.0, \"color\": \"#000000\", \"alpha\": 1, \"zorder\": 3, \"id\": \"el81602686883983992\"}, {\"text\": \"Gares atteignables avant minuit depuis la Gare de Lyon\", \"position\": [0.49999999999999994, 1.011037527593819], \"coordinates\": \"axes\", \"h_anchor\": \"middle\", \"v_baseline\": \"auto\", \"rotation\": -0.0, \"fontsize\": 20.0, \"color\": \"#000000\", \"alpha\": 1, \"zorder\": 3, \"id\": \"el81602686883619336\"}, {\"text\": \"Gare de d\\u00e9part\", \"position\": [0.6053614097968937, 0.9678072111846947], \"coordinates\": \"axes\", \"h_anchor\": \"start\", \"v_baseline\": \"auto\", \"rotation\": -0.0, \"fontsize\": 10.0, \"color\": \"#000000\", \"alpha\": 1, \"zorder\": 1000003.0, \"id\": \"el81602686884013616\"}, {\"text\": \"Direct depuis Gare de Lyon le soir du 17 novembre\", \"position\": [0.6053614097968937, 0.9402133922001472], \"coordinates\": \"axes\", \"h_anchor\": \"start\", \"v_baseline\": \"auto\", \"rotation\": -0.0, \"fontsize\": 10.0, \"color\": \"#000000\", \"alpha\": 1, \"zorder\": 1000003.0, \"id\": \"el81602686884041224\"}, {\"text\": \"Avec une correspondance depuis une gare directe\", \"position\": [0.6053614097968937, 0.9126195732155997], \"coordinates\": \"axes\", \"h_anchor\": \"start\", \"v_baseline\": \"auto\", \"rotation\": -0.0, \"fontsize\": 10.0, \"color\": \"#000000\", \"alpha\": 1, \"zorder\": 1000003.0, \"id\": \"el81602686884044024\"}], \"collections\": [{\"offsets\": \"data01\", \"xindex\": 0, \"yindex\": 1, \"paths\": [[[[0.0, -0.5], [0.13260155, -0.5], [0.25978993539242673, -0.44731684579412084], [0.3535533905932738, -0.3535533905932738], [0.44731684579412084, -0.25978993539242673], [0.5, -0.13260155], [0.5, 0.0], [0.5, 0.13260155], [0.44731684579412084, 0.25978993539242673], [0.3535533905932738, 0.3535533905932738], [0.25978993539242673, 0.44731684579412084], [0.13260155, 0.5], [0.0, 0.5], [-0.13260155, 0.5], [-0.25978993539242673, 0.44731684579412084], [-0.3535533905932738, 0.3535533905932738], [-0.44731684579412084, 0.25978993539242673], [-0.5, 0.13260155], [-0.5, 0.0], [-0.5, -0.13260155], [-0.44731684579412084, -0.25978993539242673], [-0.3535533905932738, -0.3535533905932738], [-0.25978993539242673, -0.44731684579412084], [-0.13260155, -0.5], [0.0, -0.5]], [\"M\", \"C\", \"C\", \"C\", \"C\", \"C\", \"C\", \"C\", \"C\", \"Z\"]]], \"pathtransforms\": [[10.0, 0.0, 0.0, 10.0, 0.0, 0.0]], \"alphas\": [0.5], \"edgecolors\": [\"#FF807F\", \"#FF807F\", \"#FF807F\", \"#FF807F\", \"#FF807F\", \"#FF807F\", \"#FF807F\", \"#FF807F\", \"#FF807F\", \"#FF807F\", \"#FF807F\", \"#FF807F\", \"#FF00FF\", \"#FF807F\", \"#FF807F\", \"#FF807F\", \"#FF807F\", \"#FF807F\", \"#FF807F\", \"#FF807F\", \"#FF807F\", \"#FF807F\", \"#FF807F\", \"#FF807F\", \"#FF807F\", \"#FF807F\", \"#FF807F\", \"#FF807F\", \"#FF807F\", \"#FF807F\", \"#FF807F\", \"#FF807F\", \"#FF807F\", \"#FF807F\", \"#FF807F\", \"#FF807F\", \"#FF807F\", \"#FF807F\", \"#FFCC32\", \"#FFCC32\", \"#FFCC32\", \"#FFCC32\", \"#FFCC32\", \"#FFCC32\", \"#FFCC32\", \"#FFCC32\", \"#FFCC32\", \"#FFCC32\", \"#FFCC32\", \"#FFCC32\", \"#FFCC32\", \"#FFCC32\", \"#FFCC32\", \"#FFCC32\", \"#FFCC32\", \"#FFCC32\", \"#FFCC32\", \"#FFCC32\", \"#FFCC32\", \"#FFCC32\", \"#FFCC32\", \"#FFCC32\", \"#FFCC32\", \"#FFCC32\", \"#FFCC32\", \"#FFCC32\", \"#FFCC32\", \"#FFCC32\", \"#FFCC32\", \"#FFCC32\", \"#FFCC32\", \"#FFCC32\", \"#FFCC32\", \"#FFCC32\", \"#FFCC32\", \"#FFCC32\", \"#FFCC32\", \"#FFCC32\"], \"facecolors\": [\"#FF807F\", \"#FF807F\", \"#FF807F\", \"#FF807F\", \"#FF807F\", \"#FF807F\", \"#FF807F\", \"#FF807F\", \"#FF807F\", \"#FF807F\", \"#FF807F\", \"#FF807F\", \"#FF00FF\", \"#FF807F\", \"#FF807F\", \"#FF807F\", \"#FF807F\", \"#FF807F\", \"#FF807F\", \"#FF807F\", \"#FF807F\", \"#FF807F\", \"#FF807F\", \"#FF807F\", \"#FF807F\", \"#FF807F\", \"#FF807F\", \"#FF807F\", \"#FF807F\", \"#FF807F\", \"#FF807F\", \"#FF807F\", \"#FF807F\", \"#FF807F\", \"#FF807F\", \"#FF807F\", \"#FF807F\", \"#FF807F\", \"#FFCC32\", \"#FFCC32\", \"#FFCC32\", \"#FFCC32\", \"#FFCC32\", \"#FFCC32\", \"#FFCC32\", \"#FFCC32\", \"#FFCC32\", \"#FFCC32\", \"#FFCC32\", \"#FFCC32\", \"#FFCC32\", \"#FFCC32\", \"#FFCC32\", \"#FFCC32\", \"#FFCC32\", \"#FFCC32\", \"#FFCC32\", \"#FFCC32\", \"#FFCC32\", \"#FFCC32\", \"#FFCC32\", \"#FFCC32\", \"#FFCC32\", \"#FFCC32\", \"#FFCC32\", \"#FFCC32\", \"#FFCC32\", \"#FFCC32\", \"#FFCC32\", \"#FFCC32\", \"#FFCC32\", \"#FFCC32\", \"#FFCC32\", \"#FFCC32\", \"#FFCC32\", \"#FFCC32\", \"#FFCC32\", \"#FFCC32\"], \"edgewidths\": [1.0], \"offsetcoordinates\": \"data\", \"pathcoordinates\": \"display\", \"zorder\": 1, \"id\": \"el81602686883984496\"}], \"images\": [], \"sharex\": [], \"sharey\": []}], \"data\": {\"data01\": [[3.005962, 43.191024], [6.769011999999999, 43.423611], [4.36584, 43.83229], [4.978944, 44.991366], [6.354194000000001, 45.277834999999996], [6.709629, 45.07642], [7.261781, 43.704716], [5.7145269999999995, 45.191456], [3.219225, 43.336216], [4.632025, 43.684841999999996], [6.482463, 43.455732], [4.399999, 45.443376], [2.373481, 48.844924], [4.7447919999999995, 44.558995], [3.882368, 43.605829], [5.919798999999999, 45.571032], [6.12182, 45.902052000000005], [4.8194989999999995, 44.137304], [6.831533, 45.038782], [7.119511999999999, 43.585794], [5.075836, 45.720923], [7.667503999999999, 45.073890999999996], [6.659172, 45.193552000000004], [5.909349, 45.687856], [4.78616, 43.921963], [4.825751, 45.748488], [9.187572, 45.484967], [5.317273, 43.455151], [4.4993870000000005, 46.7653], [4.859438, 45.76058], [5.929467, 43.128319], [4.7789470000000005, 46.282892], [2.879627, 42.696069], [4.805268, 43.941877000000005], [5.380659, 43.30273], [4.9996089999999995, 43.580740000000006], [4.893296, 44.928065000000004], [7.019722, 43.553917999999996], [6.899019, 47.586579], [3.0899919999999996, 50.371687], [3.4660290000000002, 43.317566], [0.725056, 47.385733], [7.347065, 48.073137], [-0.760929, 48.076265], [7.733944999999999, 48.585151], [2.571609, 49.004021], [1.094165, 49.449036], [5.214968, 46.200119], [2.782899, 48.870599], [7.609675999999999, 43.792175], [2.781154, 50.286827], [6.134022, 49.59962], [3.6964040000000002, 43.412804], [7.419664999999999, 43.738488000000004], [5.954751, 47.30746], [0.192152, 47.995591], [3.075774, 50.638861], [7.342833000000001, 47.741786], [4.825146, 46.302654], [5.550873999999999, 46.66839], [7.493163000000001, 43.774405], [3.071052, 50.636215], [6.168861, 49.353893], [5.027278, 47.323392], [-0.071427, 47.268975], [6.177198000000001, 49.109759000000004], [6.021904, 47.247027], [-1.541943, 47.217515999999996], [2.135482, 48.79557], [1.703309, 48.989692], [2.2615849999999997, 48.726031], [-0.55695, 47.464442], [6.471113, 45.217240999999994], [0.124845, 49.492657], [2.831682, 49.859209], [2.256614, 48.724903999999995], [4.335886, 50.83528], [-1.672321, 48.103533]], \"data02\": [[0.5784796893667862, 0.9742457689477558, 0.9466519499632083, 0.9190581309786608]], \"data03\": [[0.5605585424133811, 0.9015820456217809], [0.9895459976105138, 0.9015820456217809], [0.9925328554360812, 0.9015820456217809], [0.9925328554360812, 0.9052612214863871], [0.9925328554360812, 0.987122884473878], [0.9925328554360812, 0.9908020603384842], [0.9895459976105138, 0.9908020603384842], [0.5605585424133811, 0.9908020603384842], [0.5575716845878136, 0.9908020603384842], [0.5575716845878136, 0.987122884473878], [0.5575716845878136, 0.9052612214863871], [0.5575716845878136, 0.9015820456217809], [0.5605585424133811, 0.9015820456217809]]}, \"id\": \"el81602686871255640\", \"plugins\": [{\"type\": \"reset\"}, {\"type\": \"zoom\", \"button\": true, \"enabled\": false}, {\"type\": \"boxzoom\", \"button\": true, \"enabled\": false}]});\n",
              "            })\n",
              "         });\n",
              "}\n",
              "</script>"
            ],
            "text/plain": [
              "<matplotlib.figure.Figure at 0x2719601ba58>"
            ]
          },
          "metadata": {},
          "output_type": "display_data"
        }
      ],
      "source": [
        "### La carte \n",
        "###################################################################################################\n",
        "\n",
        "import mpld3\n",
        "%matplotlib inline\n",
        "\n",
        "mpld3.enable_notebook()\n",
        "\n",
        "def liste_unique(liste) : \n",
        "    unicite = [] \n",
        "    for x in liste : \n",
        "        if x in unicite :\n",
        "            pass\n",
        "        else :\n",
        "            unicite.append(x)\n",
        "    return unicite\n",
        "\n",
        "lab_un = liste_unique(labels)\n",
        "lat_un = liste_unique(lat)\n",
        "lon_un = liste_unique(lon)\n",
        "\n",
        "fig = plt.figure(figsize=(12,10))\n",
        "\n",
        "for label, x, y in set(zip(labels, lon, lat)) :\n",
        "    if dict_type_gares[label] == \"direct\" :  \n",
        "        plt.annotate(label, xy = (x - 0.05, y - 0.05), horizontalalignment = 'right', size = 13)\n",
        "    else :\n",
        "        plt.annotate(label, xy = (x + 0.05, y + 0.05), horizontalalignment = 'left', size = 13)\n",
        "\n",
        "colors = []     \n",
        "for x in lab_un : \n",
        "    if dict_type_gares[x] == \"depart\" : \n",
        "        colors.append(liste_couleurs[0])\n",
        "    if dict_type_gares[x] == \"direct\" :\n",
        "        colors.append(liste_couleurs[1])\n",
        "    if dict_type_gares[x] == \"correspondance\" : \n",
        "        colors.append(liste_couleurs[2])\n",
        "                \n",
        "        \n",
        "plt.scatter(x = lon_un , y = lat_un, marker = \"o\", c = colors, s = 100, alpha = 0.5)\n",
        "\n",
        "#### Legende\n",
        "\n",
        "circ1 = Line2D([0], [0], linestyle=\"none\", marker=\"o\", alpha=0.5, markersize=10, markerfacecolor = liste_couleurs[0])\n",
        "circ2 = Line2D([0], [0], linestyle=\"none\", marker=\"o\", alpha=0.5, markersize=10, markerfacecolor = liste_couleurs[1])\n",
        "circ3 = Line2D([0], [0], linestyle=\"none\", marker=\"o\", alpha=0.5, markersize=10, markerfacecolor = liste_couleurs[2])\n",
        "\n",
        "legende = plt.legend((circ1, circ2, circ3), (\"Gare de d\u00e9part\", \"Direct depuis Gare de Lyon le soir du 17 novembre\", \n",
        "                                             \"Avec une correspondance depuis une gare directe\"), numpoints=1, loc=\"best\")\n",
        "\n",
        "legende.get_frame().set_facecolor('white')\n",
        "\n",
        "plt.title(\"Gares atteignables avant minuit depuis la Gare de Lyon\", size = 20)"
      ]
    },
    {
      "cell_type": "code",
      "execution_count": 42,
      "metadata": {
        "collapsed": true
      },
      "outputs": [],
      "source": []
    }
  ],
  "metadata": {
    "kernelspec": {
      "display_name": "Python 3",
      "language": "python",
      "name": "python3"
    },
    "language_info": {
      "codemirror_mode": {
        "name": "ipython",
        "version": 3
      },
      "file_extension": ".py",
      "mimetype": "text/x-python",
      "name": "python",
      "nbconvert_exporter": "python",
      "pygments_lexer": "ipython3",
      "version": "3.6.1"
    }
  },
  "nbformat": 4,
  "nbformat_minor": 1
}