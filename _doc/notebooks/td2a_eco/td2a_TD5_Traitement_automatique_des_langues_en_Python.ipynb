{
  "cells": [
    {
      "cell_type": "markdown",
      "metadata": {},
      "source": [
        "# 2A.eco : Traitement automatique de la langue en Python\n",
        "\n",
        "Aper\u00e7u de ce qu'est le traitement automatique du langage naturel ([NLP](https://fr.wikipedia.org/wiki/Traitement_automatique_du_langage_naturel)) et quelques exercices."
      ]
    },
    {
      "cell_type": "code",
      "execution_count": null,
      "metadata": {
        "ExecuteTime": {
          "end_time": "2016-11-07T17:27:35.827423",
          "start_time": "2016-11-07T17:27:35.762915"
        }
      },
      "outputs": [
        {
          "data": {
            "text/html": [
              "<div id=\"my_id_menu_nb\">run previous cell, wait for 2 seconds</div>\n",
              "<script>\n",
              "function repeat_indent_string(n){\n",
              "    var a = \"\" ;\n",
              "    for ( ; n > 0 ; --n)\n",
              "        a += \"    \";\n",
              "    return a;\n",
              "}\n",
              "var update_menu_string = function(begin, lfirst, llast, sformat, send, keep_item, begin_format, end_format) {\n",
              "    var anchors = document.getElementsByClassName(\"section\");\n",
              "    if (anchors.length == 0) {\n",
              "        anchors = document.getElementsByClassName(\"text_cell_render rendered_html\");\n",
              "    }\n",
              "    var i,t;\n",
              "    var text_menu = begin;\n",
              "    var text_memo = \"<pre>\\nlength:\" + anchors.length + \"\\n\";\n",
              "    var ind = \"\";\n",
              "    var memo_level = 1;\n",
              "    var href;\n",
              "    var tags = [];\n",
              "    var main_item = 0;\n",
              "    var format_open = 0;\n",
              "    for (i = 0; i <= llast; i++)\n",
              "        tags.push(\"h\" + i);\n",
              "\n",
              "    for (i = 0; i < anchors.length; i++) {\n",
              "        text_memo += \"**\" + anchors[i].id + \"--\\n\";\n",
              "\n",
              "        var child = null;\n",
              "        for(t = 0; t < tags.length; t++) {\n",
              "            var r = anchors[i].getElementsByTagName(tags[t]);\n",
              "            if (r.length > 0) {\n",
              "child = r[0];\n",
              "break;\n",
              "            }\n",
              "        }\n",
              "        if (child == null) {\n",
              "            text_memo += \"null\\n\";\n",
              "            continue;\n",
              "        }\n",
              "        if (anchors[i].hasAttribute(\"id\")) {\n",
              "            // when converted in RST\n",
              "            href = anchors[i].id;\n",
              "            text_memo += \"#1-\" + href;\n",
              "            // passer \u00e0 child suivant (le chercher)\n",
              "        }\n",
              "        else if (child.hasAttribute(\"id\")) {\n",
              "            // in a notebook\n",
              "            href = child.id;\n",
              "            text_memo += \"#2-\" + href;\n",
              "        }\n",
              "        else {\n",
              "            text_memo += \"#3-\" + \"*\" + \"\\n\";\n",
              "            continue;\n",
              "        }\n",
              "        var title = child.textContent;\n",
              "        var level = parseInt(child.tagName.substring(1,2));\n",
              "\n",
              "        text_memo += \"--\" + level + \"?\" + lfirst + \"--\" + title + \"\\n\";\n",
              "\n",
              "        if ((level < lfirst) || (level > llast)) {\n",
              "            continue ;\n",
              "        }\n",
              "        if (title.endsWith('\u00b6')) {\n",
              "            title = title.substring(0,title.length-1).replace(\"<\", \"&lt;\")\n",
              "         .replace(\">\", \"&gt;\").replace(\"&\", \"&amp;\");\n",
              "        }\n",
              "        if (title.length == 0) {\n",
              "            continue;\n",
              "        }\n",
              "\n",
              "        while (level < memo_level) {\n",
              "            text_menu += end_format + \"</ul>\\n\";\n",
              "            format_open -= 1;\n",
              "            memo_level -= 1;\n",
              "        }\n",
              "        if (level == lfirst) {\n",
              "            main_item += 1;\n",
              "        }\n",
              "        if (keep_item != -1 && main_item != keep_item + 1) {\n",
              "            // alert(main_item + \" - \" + level + \" - \" + keep_item);\n",
              "            continue;\n",
              "        }\n",
              "        while (level > memo_level) {\n",
              "            text_menu += \"<ul>\\n\";\n",
              "            memo_level += 1;\n",
              "        }\n",
              "        text_menu += repeat_indent_string(level-2);\n",
              "        text_menu += begin_format + sformat.replace(\"__HREF__\", href).replace(\"__TITLE__\", title);\n",
              "        format_open += 1;\n",
              "    }\n",
              "    while (1 < memo_level) {\n",
              "        text_menu += end_format + \"</ul>\\n\";\n",
              "        memo_level -= 1;\n",
              "        format_open -= 1;\n",
              "    }\n",
              "    text_menu += send;\n",
              "    //text_menu += \"\\n\" + text_memo;\n",
              "\n",
              "    while (format_open > 0) {\n",
              "        text_menu += end_format;\n",
              "        format_open -= 1;\n",
              "    }\n",
              "    return text_menu;\n",
              "};\n",
              "var update_menu = function() {\n",
              "    var sbegin = \"\";\n",
              "    var sformat = '<a href=\"#__HREF__\">__TITLE__</a>';\n",
              "    var send = \"\";\n",
              "    var begin_format = '<li>';\n",
              "    var end_format = '</li>';\n",
              "    var keep_item = -1;\n",
              "    var text_menu = update_menu_string(sbegin, 2, 4, sformat, send, keep_item,\n",
              "       begin_format, end_format);\n",
              "    var menu = document.getElementById(\"my_id_menu_nb\");\n",
              "    menu.innerHTML=text_menu;\n",
              "};\n",
              "window.setTimeout(update_menu,2000);\n",
              "            </script>"
            ],
            "text/plain": [
              "<IPython.core.display.HTML object>"
            ]
          },
          "execution_count": null,
          "metadata": {},
          "output_type": "execute_result"
        }
      ],
      "source": [
        "from jyquickhelper import add_notebook_menu\n",
        "add_notebook_menu()"
      ]
    },
    {
      "cell_type": "markdown",
      "metadata": {},
      "source": [
        "Le traitement automatique des langues (ou Natural Language Processing) propose un ensemble de m\u00e9thodes permettant (entre autres) : \n",
        "- d'extraire automatiquement les informations voulues de donn\u00e9es textuelles brutes (comme apr exemple les noms propres)\n",
        "- indexer des documents et permettre une recherche par mot-cl\u00e9s (cf. Moteurs de recherche, ou, moins ambitieux, moteurs d'auto-compl\u00e9tion)\n",
        "- r\u00e9sumer automatiquement des documents,\n",
        "- comparer la similarit\u00e9 entre plusieurs documents,\n",
        "- traduction automatique,\n",
        "- g\u00e9n\u00e9ration de textes automatiques,\n",
        "- analyse de sentiments,\n",
        "- agents conversationnels (cf. [ELIZA](https://fr.wikipedia.org/wiki/ELIZA) en 1966). Si vous voulez savoir ce qu'il se passe quand deux agents conversationnels discutent ensemble c'est [ici](https://www.youtube.com/watch?v=WnzlbyTZsQY&feature=youtu.be).  \n",
        "\n",
        "Le traitement automatique des langues a fait ses premiers pas dans le contexte de la guerre froide, o\u00f9 la traduction automatique \u00e9tait devenu un enjeu geopolitique. En 1950, dans sont article \u00ab Computing machinery and intelligence \u00bb, Alan Turing d\u00e9fini ce qui est appell\u00e9 plus tartd, le [test de Turing](https://en.wikipedia.org/wiki/Turing_test). On dit qu'un programme passe le test de Turing s'il parvient \u00e0 personnifier un humain dans une conversation \u00e9crite en temps r\u00e9el, de fa\u00e7on suffisamment convaincante pour que l'interlocuteur humain ne puisse pas distinguer avec certitude \u2014 sur la base du seul contenu de la conversation \u2014 s'il interagit avec un programme ou avec un autre humain. \n",
        "\n",
        "Les progr\u00e8s en traitement automatique des langues ont \u00e9t\u00e9 beaucoup plus lents qu'initialement pr\u00e9vus. Cependant certains consid\u00e8rent que pour la premi\u00e8re fois en 2014, gr\u00e2ce aux progr\u00e8s en machine learning [une machine a pass\u00e9 le test](http://www.theverge.com/2012/6/27/3120135/eugene-goostman-ukrainian-boy-ai-turing-test) en se faisant passer pour un enfant de 13 ans. "
      ]
    },
    {
      "cell_type": "markdown",
      "metadata": {},
      "source": [
        "L'objet de ce TD  est de pr\u00e9senter l'essentiel du traitement automatique des langues, selon trois approches : \n",
        "\n",
        "- L'approche *bag of words* : on ne tient pas compte de l'ordre des mots, ni du contexte dans lequel ils interviennent (ou alors de mani\u00e8re tr\u00e8s partielle, en \u00e9tudiant par exemple le mot suivant). L'id\u00e9e est d'\u00e9tudier la fr\u00e9quence des mots d'un document et la surrepr\u00e9sentation des mots par rapport \u00e0 un document de r\u00e9f\u00e9rence (appel\u00e9 corpus). Cette approche un peu simpliste mais tr\u00e8s efficace : on peut calculer des scores permettant par exemple de faire de classification automatique de document par th\u00e8me, de comparer la similarit\u00e9 de deux documents. Elle est souvent utilis\u00e9e en premi\u00e8re analyse, et elle reste la r\u00e9f\u00e9rence pour l'analyse de textes mal structur\u00e9s (tweets, dialogue tchat, etc.) Mot-cl\u00e9s : td-idf, indice de similarit\u00e9 cosine\n",
        "\n",
        "- L'approche *contextuelle* : on s'int\u00e9resse non seulement aux mots et \u00e0 leur fr\u00e9quence, mais aussi aux mots qui suivent. Cette approche est essentielle pour d\u00e9sambiguiser les homonymes. Elle permet aussi d'affiner les mod\u00e8les \"bag-of-words\". Le calcul de n-grams (bigrams pour les co-occurences de mots deux-\u00e0-deux, tri-grams pour les co-occurences trois-\u00e0-trois, etc.) constitue la m\u00e9thode la plus simple pour tenir compte du contexte.\n",
        "\n",
        "- L'approche *structurelle* : on s'int\u00e9resse \u00e0 la structure des phrases, des mots (stemming, lemmatisation), aux r\u00e8gles syntaxiques, au sens des phrases. L'id\u00e9e est d'introduire de la structure dans l'analyse du langage, \u00e0 partir de r\u00e8gles connues et mod\u00e9lis\u00e9es (par des expressions r\u00e9guli\u00e8res, ou formalisation des r\u00e8gles syntaxiques), enrichies manuellement par des contributeurs, ou apprises par des m\u00e9thodes de machine learning. Mots-cl\u00e9s : tokenisation des phrases et des mots, Part-Of-Speech tagging, extraction d'entit\u00e9 etc. Cette approche est beaucoup plus co\u00fbteuse et longue \u00e0 mettre en place, mais c'est la seule capable de r\u00e9pondre \u00e0 des besoins de traitement automatique des langues plus ambitieux tels que la traduction automatique, les agents conversationnels, et permet d'augmenter la performance des mod\u00e8les de classifications de documents, de pr\u00e9diction du sentiment, etc."
      ]
    },
    {
      "cell_type": "markdown",
      "metadata": {},
      "source": [
        "# Approche \"bag of words\""
      ]
    },
    {
      "cell_type": "markdown",
      "metadata": {},
      "source": [
        "## R\u00e9cup\u00e9ration de donn\u00e9es textuelles gr\u00e2ce \u00e0 l'API Google +"
      ]
    },
    {
      "cell_type": "markdown",
      "metadata": {},
      "source": [
        "### Installation "
      ]
    },
    {
      "cell_type": "code",
      "execution_count": null,
      "metadata": {
        "ExecuteTime": {
          "end_time": "2016-11-07T17:37:07.995162",
          "start_time": "2016-11-07T17:37:01.928935"
        },
        "collapsed": true
      },
      "outputs": [],
      "source": [
        "import httplib2 # pip install httplib2\n",
        "import json # d\u00e9j\u00e0 install\u00e9e, sinon : pip install json\n",
        "import apiclient.discovery  # pip install google-api-python-client\n",
        "import bs4  # d\u00e9j\u00e0 ja install\u00e9e, sinon : pip install bs4\n",
        "import nltk  # pip install nltk --> sous Windows, il faut aller \u00e0 http://www.lfd.uci.edu/~gohlke/pythonlibs/"
      ]
    },
    {
      "cell_type": "markdown",
      "metadata": {},
      "source": [
        "### R\u00e9cup\u00e9ration de la cl\u00e9 d'API Google + "
      ]
    },
    {
      "cell_type": "markdown",
      "metadata": {},
      "source": [
        "Pour obtenir une cl\u00e9 d'API google plus, il faut :\n",
        " - avoir un compte gmail (si vous n'en avez pas, c'est rapide \u00e0 cr\u00e9er)\n",
        " - aller sur l'[interface developeurs de Google](https://code.google.com/apis/console)\n",
        " - se connecter \u00e0 son compte gmail (en haut \u00e0 droite)\n",
        " - \u00e0 droite, s\u00e9lectionner \"biblioth\u00e8que\", s\u00e9lectionner \"Google +\" \n",
        " - s\u00e9lectionner \"ACTIVER\" (en bleu en haut)\n",
        " - \u00e0 droite \"Acc\u00e9der \u00e0 identifiants\"\n",
        " - choisissez \"cl\u00e9 API\"\n",
        " - puis \"aucun\" et cliquer sur le bouton \"Cr\u00e9er\"\n",
        " - recopier votre cl\u00e9 ci-dessous"
      ]
    },
    {
      "cell_type": "code",
      "execution_count": null,
      "metadata": {
        "ExecuteTime": {
          "end_time": "2016-11-07T17:58:01.718410",
          "start_time": "2016-11-07T17:58:01.540295"
        },
        "collapsed": true
      },
      "outputs": [],
      "source": [
        "#remplacer par VOTRE cl\u00e9\n",
        "import os\n",
        "import keyring\n",
        "API_KEY = keyring.get_password(\"gapi\", os.environ[\"COMPUTERNAME\"] + \"key\")"
      ]
    },
    {
      "cell_type": "markdown",
      "metadata": {},
      "source": [
        "### Connexion \u00e0 l'API, et requ\u00eate d'une personne ayant un compte Google + (avec activit\u00e9s publiques)"
      ]
    },
    {
      "cell_type": "code",
      "execution_count": null,
      "metadata": {
        "ExecuteTime": {
          "end_time": "2016-11-07T17:58:03.824516",
          "start_time": "2016-11-07T17:58:03.560801"
        }
      },
      "outputs": [
        {
          "name": "stdout",
          "output_type": "stream",
          "text": [
            "[\n",
            " {\n",
            "  \"kind\": \"plus#person\",\n",
            "  \"etag\": \"\\\"Sh4n9u6EtD24TM0RmWv7jTXojqc/tjedXFyeIkzudZzRey5EJb8iZIk\\\"\",\n",
            "  \"objectType\": \"person\",\n",
            "  \"id\": \"107033731246200681024\",\n",
            "  \"displayName\": \"Tim O'Reilly\",\n",
            "  \"url\": \"https://plus.google.com/107033731246200681024\",\n",
            "  \"image\": {\n",
            "   \"url\": \"https://lh4.googleusercontent.com/-J8nmMwIhpiA/AAAAAAAAAAI/AAAAAAADdg4/68r2hyFUgzI/photo.jpg?sz=50\"\n",
            "  }\n",
            " },\n",
            " {\n",
            "  \"kind\": \"plus#person\",\n",
            "  \"etag\": \"\\\"Sh4n9u6EtD24TM0RmWv7jTXojqc/bMltloEYgECFQYgmmtJJ3R6E-44\\\"\",\n",
            "  \"objectType\": \"person\",\n",
            "  \"id\": \"108869213167055456475\",\n",
            "  \"displayName\": \"Tim O'Reilly\",\n",
            "  \"url\": \"https://plus.google.com/108869213167055456475\",\n",
            "  \"image\": {\n",
            "   \"url\": \"https://lh4.googleusercontent.com/-K_U9Tbas8kE/AAAAAAAAAAI/AAAAAAAACYs/QThoMgwUxak/photo.jpg?sz=50\"\n",
            "  }\n",
            " },\n",
            " {\n",
            "  \"kind\": \"plus#person\",\n",
            "  \"etag\": \"\\\"Sh4n9u6EtD24TM0RmWv7jTXojqc/ofg-30rIv-rKw7XTBBnDA1i3I_Y\\\"\",\n",
            "  \"objectType\": \"person\",\n",
            "  \"id\": \"110160587587635791009\",\n",
            "  \"displayName\": \"TIM O'REILLY\",\n",
            "  \"url\": \"https://plus.google.com/11016...\n"
          ]
        }
      ],
      "source": [
        "# Entrer le nom d'une personne ayant un compte google plus public\n",
        "Q = \"Tim O'Reilly\"\n",
        "\n",
        "# Se connecter \u00e0 l'API (m\u00e9thode Oauth2)\n",
        "service = apiclient.discovery.build('plus', 'v1', http=httplib2.Http(), \n",
        "                                    developerKey=API_KEY)\n",
        "\n",
        "# R\u00e9cup\u00e9rer les feeds\n",
        "people_feed = service.people().search(query=Q).execute()\n",
        "\n",
        "# Imprimer le json r\u00e9cup\u00e9r\u00e9\n",
        "res = json.dumps(people_feed['items'], indent=1)\n",
        "print(res if len(res) < 1000 else res[:1000] + \"...\")"
      ]
    },
    {
      "cell_type": "code",
      "execution_count": null,
      "metadata": {
        "ExecuteTime": {
          "end_time": "2016-11-07T17:58:05.561883",
          "start_time": "2016-11-07T17:58:05.549715"
        }
      },
      "outputs": [
        {
          "data": {
            "text/html": [
              "<p><img src=\"https://lh4.googleusercontent.com/-J8nmMwIhpiA/AAAAAAAAAAI/AAAAAAADdg4/68r2hyFUgzI/photo.jpg?sz=50\" /> 107033731246200681024: Tim O'Reilly</p><p><img src=\"https://lh4.googleusercontent.com/-K_U9Tbas8kE/AAAAAAAAAAI/AAAAAAAACYs/QThoMgwUxak/photo.jpg?sz=50\" /> 108869213167055456475: Tim O'Reilly</p><p><img src=\"https://lh4.googleusercontent.com/-gWq9vr_JEnc/AAAAAAAAAAI/AAAAAAAAADI/zwCXKP4QeiU/photo.jpg?sz=50\" /> 110160587587635791009: TIM O'REILLY</p><p><img src=\"https://lh3.googleusercontent.com/-S5DUz4QdL4k/AAAAAAAAAAI/AAAAAAAAAcc/iS9VLgbCTJw/photo.jpg?sz=50\" /> 106492472890341598734: Tim O'Reilly</p><p><img src=\"https://lh6.googleusercontent.com/-_VkHCqX9n5k/AAAAAAAAAAI/AAAAAAAAABE/EHbj9yl--M8/photo.jpg?sz=50\" /> 111152572505390475891: Tim O'Reilly</p>"
            ],
            "text/plain": [
              "<IPython.core.display.HTML object>"
            ]
          },
          "execution_count": null,
          "metadata": {},
          "output_type": "execute_result"
        }
      ],
      "source": [
        "# Parce que l'on travaille sur un Notebook il est possible d'afficher facilement les images correspondantes\n",
        "# l'identifiant unique d'avatar google plus et le nom\n",
        "\n",
        "from IPython.core.display import HTML\n",
        "\n",
        "html = []\n",
        "\n",
        "for p in people_feed['items']:\n",
        "    html += ['<p><img src=\"{}\" /> {}: {}</p>'.format(p['image']['url'], p['id'], p['displayName'])]\n",
        "\n",
        "HTML(''.join(html[:5]))"
      ]
    },
    {
      "cell_type": "markdown",
      "metadata": {},
      "source": [
        "### Requete sur l'activit\u00e9 de la personne s\u00e9lectionn\u00e9e"
      ]
    },
    {
      "cell_type": "code",
      "execution_count": null,
      "metadata": {
        "ExecuteTime": {
          "end_time": "2016-11-07T17:37:52.613148",
          "start_time": "2016-11-07T17:37:51.242289"
        }
      },
      "outputs": [
        {
          "name": "stdout",
          "output_type": "stream",
          "text": [
            "{\n",
            " \"kind\": \"plus#activityFeed\",\n",
            " \"etag\": \"\\\"Sh4n9u6EtD24TM0RmWv7jTXojqc/e8G8e3LYPdJv_-ZTG35a7aB-MDE\\\"\",\n",
            " \"nextPageToken\": \"ADSJ_i3ZeNlIv9Y5mpEfrbNg7LM_QEaEhI2BPlvh14cg5x5jsDPiU0pbukTYB-2brt8v4UAtyJCEeg9qTwt3NQDM5NhmZWm3RWYxYRGzoqp75fyQojuo\",\n",
            " \"title\": \"Google+ List of Activities for Collection PUBLIC\",\n",
            " \"updated\": \"2017-07-19T19:34:21.998Z\",\n",
            " \"items\": [\n",
            "  {\n",
            "   \"kind\": \"plus#activity\",\n",
            "   \"etag\": \"\\\"Sh4n9u6EtD24TM0RmWv7jTXojqc/P_Jlyfz-wBzgQCJokJHW5mO6lcY\\\"\",\n",
            "   \"title\": \"Billionaire Nick Hanauer has some blistering advice for his fellow plutocrats on the left. If you want...\",\n",
            "   \"published\": \"2017-07-19T19:34:21.998Z\",\n",
            "   \"updated\": \"2017-07-19T19:34:21.998Z\",\n",
            "   \"id\": \"z12vtjni3kius1tlo23gcxizetybvpydh\",\n",
            "   \"url\": \"https://plus.google.com/+TimOReilly/posts/9qCNaPQFYdL\",\n",
            "   \"actor\": {\n",
            "    \"id\": \"107033731246200681024\",\n",
            "    \"displayName\": \"Tim O'Reilly\",\n",
            "    \"url\": \"https://plus.google.com/107033731246200681024\",\n",
            "    \"image\": {\n",
            "     \"url\": \"https://lh4.googleusercontent.com/-J8nmMwIhpiA...\n"
          ]
        }
      ],
      "source": [
        "USER_ID = '107033731246200681024'\n",
        "\n",
        "activity_feed = service.activities().list(\n",
        "  userId=USER_ID,\n",
        "  collection='public',\n",
        "  maxResults='100' # Max allowed per API\n",
        ").execute()\n",
        "\n",
        "res = json.dumps(activity_feed, indent=1)\n",
        "print(res if len(res) < 1000 else res[:1000] + \"...\")"
      ]
    },
    {
      "cell_type": "markdown",
      "metadata": {},
      "source": [
        "### Nettoyage des donn\u00e9es textuelles avec BS4 "
      ]
    },
    {
      "cell_type": "code",
      "execution_count": null,
      "metadata": {
        "ExecuteTime": {
          "end_time": "2016-11-07T17:37:59.638823",
          "start_time": "2016-11-07T17:37:59.627328"
        }
      },
      "outputs": [
        {
          "name": "stdout",
          "output_type": "stream",
          "text": [
            "Billionaire Nick Hanauer has some blistering advice for his fellow plutocrats on the left. If you want to do something about Trump, don&#39;t &quot;#resist&quot;, pay ordinary people more of the extraordinary gains brought to the economy by rising productivity.<br /><br />He writes &quot;Many of my peers prefer to hide behind the enduring myth that today\u2019s crisis of economic inequality and insecurity is the result of forces unleashed by unstoppable trends in technology and globalization. \u201cIt\u2019s not my fault I have so much while others have so little,\u201d we comfort ourselves, \u201cit\u2019s the economy.\u201d That is nonsense. There\u2019s no intrinsic reason why the social and political changes delivered by technological advances and globalization have to massively concentrate wealth in the hands of the few. We simply exploited changing circumstances to take advantage of people with less power than us.&quot;<br />\ufeff\n",
            "\n",
            "\n",
            "Billionaire Nick Hanauer has some blistering advice for his fellow plutocrats on the left. If you want to do something about Trump, don't \"#resist\", pay ordinary people more of the extraordinary gains brought to the economy by rising productivity.He writes \"Many of my peers prefer to hide behind the enduring myth that today\u2019s crisis of economic inequality and insecurity is the result of forces unleashed by unstoppable trends in technology and globalization. \u201cIt\u2019s not my fault I have so much while others have so little,\u201d we comfort ourselves, \u201cit\u2019s the economy.\u201d That is nonsense. There\u2019s no intrinsic reason why the social and political changes delivered by technological advances and globalization have to massively concentrate wealth in the hands of the few. We simply exploited changing circumstances to take advantage of people with less power than us.\"\ufeff\n"
          ]
        }
      ],
      "source": [
        "from bs4 import BeautifulSoup\n",
        "\n",
        "def cleanHtml(html):\n",
        "    if html == \"\": return \"\"\n",
        "    return BeautifulSoup(html, 'html.parser').get_text()\n",
        "\n",
        "print(activity_feed['items'][0]['object']['content'])\n",
        "print(\"\\n\")\n",
        "print(cleanHtml(activity_feed['items'][0]['object']['content']))"
      ]
    },
    {
      "cell_type": "markdown",
      "metadata": {},
      "source": [
        "### R\u00e9cup\u00e9ration des donn\u00e9es et stockage"
      ]
    },
    {
      "cell_type": "markdown",
      "metadata": {},
      "source": [
        "Cr\u00e9er un dossier \"ressources_googleplus\" dans votre r\u00e9pertoire courant (%pwd pour le connaitre)"
      ]
    },
    {
      "cell_type": "code",
      "execution_count": null,
      "metadata": {
        "ExecuteTime": {
          "end_time": "2016-11-07T17:38:09.375859",
          "start_time": "2016-11-07T17:38:09.367859"
        }
      },
      "outputs": [
        {
          "data": {
            "text/plain": [
              "'C:\\\\xavierdupre\\\\__home_\\\\GitHub\\\\ensae_teaching_cs\\\\_doc\\\\notebooks\\\\td2a_eco'"
            ]
          },
          "execution_count": null,
          "metadata": {},
          "output_type": "execute_result"
        }
      ],
      "source": [
        "%pwd"
      ]
    },
    {
      "cell_type": "code",
      "execution_count": null,
      "metadata": {
        "ExecuteTime": {
          "end_time": "2016-11-07T17:39:11.984585",
          "start_time": "2016-11-07T17:39:07.838088"
        }
      },
      "outputs": [
        {
          "name": "stdout",
          "output_type": "stream",
          "text": [
            "273 activit\u00e9s \u00e9crites dans ./ressources_googleplus/107033731246200681024.json\n"
          ]
        }
      ],
      "source": [
        "import json\n",
        "import apiclient.discovery\n",
        "\n",
        "MAX_RESULTS = 200 # limite fix\u00e9e \u00e0 100 r\u00e9sultats par requete => on va it\u00e9rer sur une boucle pour en avoir 200\n",
        "\n",
        "activity_feed = service.activities().list(\n",
        "  userId=USER_ID,\n",
        "  collection='public',\n",
        "  maxResults='100' \n",
        ")\n",
        "\n",
        "activity_results = []\n",
        "\n",
        "while activity_feed != None and len(activity_results) < MAX_RESULTS:\n",
        "    activities = activity_feed.execute()\n",
        "    \n",
        "    if 'items' in activities:\n",
        "        for activity in activities['items']:\n",
        "            if activity['object']['objectType'] == 'note' and activity['object']['content'] != '':\n",
        "                activity['title'] = cleanHtml(activity['title'])\n",
        "                activity['object']['content'] = cleanHtml(activity['object']['content'])\n",
        "                activity_results += [activity]\n",
        "                \n",
        "    # list_next permet de passer \u00e0 la requete suivante\n",
        "    activity_feed = service.activities().list_next(activity_feed, activities)\n",
        "\n",
        "# on \u00e9crit le r\u00e9sultat dans un fichier json\n",
        "import os\n",
        "if not os.path.exists(\"ressources_googleplus\"):\n",
        "    os.mkdir(\"ressources_googleplus\")\n",
        "f = open('./ressources_googleplus/' + USER_ID + '.json', 'w')\n",
        "f.write(json.dumps(activity_results, indent=1))\n",
        "f.close()\n",
        "\n",
        "print(str(len(activity_results)), \"activit\u00e9s \u00e9crites dans\", f.name)"
      ]
    },
    {
      "cell_type": "markdown",
      "metadata": {},
      "source": [
        "## Analyse des donn\u00e9es textuelles - TD-IDF, similarit\u00e9 cosine et n-grams"
      ]
    },
    {
      "cell_type": "markdown",
      "metadata": {},
      "source": [
        "Le calcul [tf-idf](https://en.wikipedia.org/wiki/Tf%E2%80%93idf) (term frequency\u2013inverse document frequency) permet de calculer un score de proximit\u00e9 entre un terme de recherche et un document (c'est ce que font les moteurs de recherche). La partie tf calcule une fonction croissante de la fr\u00e9quence du terme de recherche dans le document \u00e0 l'\u00e9tude, la partie idf calcule une fonction inversement proportionnelle \u00e0 la fr\u00e9quence du terme dans l'ensemble des documents (ou corpus). Le score total, obtenu en multipliant les deux composantes, permet ainsi de donner un score d'autant plus \u00e9lev\u00e9 que le terme est surr\u00e9pr\u00e9sent\u00e9 dans un document (par rapport \u00e0 l'ensemble des documents). Il existe plusieurs fonctions, qui p\u00e9nalisent plus ou moins les documents longs, ou qui sont plus ou moins smooth."
      ]
    },
    {
      "cell_type": "markdown",
      "metadata": {},
      "source": [
        "### Exemple sur un petit corpus de 3 documents"
      ]
    },
    {
      "cell_type": "code",
      "execution_count": null,
      "metadata": {
        "ExecuteTime": {
          "end_time": "2016-11-07T17:39:18.720128",
          "start_time": "2016-11-07T17:39:18.714131"
        },
        "collapsed": true
      },
      "outputs": [],
      "source": [
        "corpus = { \n",
        " 'a' : \"Mr. Green killed Colonel Mustard in the study with the candlestick. \\\n",
        "Mr. Green is not a very nice fellow.\",\n",
        " 'b' : \"Professor Plum has a green plant in his study.\",\n",
        " 'c' : \"Miss Scarlett watered Professor Plum's green plant while he was away \\\n",
        "from his office last week.\"\n",
        "}\n",
        "terms = {\n",
        " 'a' : [ i.lower() for i in corpus['a'].split() ],\n",
        " 'b' : [ i.lower() for i in corpus['b'].split() ],\n",
        " 'c' : [ i.lower() for i in corpus['c'].split() ]\n",
        " }"
      ]
    },
    {
      "cell_type": "code",
      "execution_count": null,
      "metadata": {
        "ExecuteTime": {
          "end_time": "2016-11-07T17:39:21.928677",
          "start_time": "2016-11-07T17:39:21.911675"
        },
        "collapsed": true
      },
      "outputs": [],
      "source": [
        "from math import log\n",
        "\n",
        "QUERY_TERMS = ['mr.', 'green']\n",
        "\n",
        "def tf(term, doc, normalize=True):\n",
        "    doc = doc.lower().split()\n",
        "    if normalize:\n",
        "        return doc.count(term.lower()) / float(len(doc))\n",
        "    else:\n",
        "        return doc.count(term.lower()) / 1.0\n",
        "\n",
        "\n",
        "def idf(term, corpus):\n",
        "    num_texts_with_term = len([True for text in corpus if term.lower() \\\n",
        "                              in text.lower().split()])\n",
        "    try:\n",
        "        return 1.0 + log(float(len(corpus)) / num_texts_with_term)\n",
        "    except ZeroDivisionError:\n",
        "        return 1.0\n",
        "    \n",
        "def tf_idf(term, doc, corpus):\n",
        "    return tf(term, doc) * idf(term, corpus)"
      ]
    },
    {
      "cell_type": "code",
      "execution_count": null,
      "metadata": {
        "ExecuteTime": {
          "end_time": "2016-11-07T17:39:26.546524",
          "start_time": "2016-11-07T17:39:26.520509"
        }
      },
      "outputs": [
        {
          "name": "stdout",
          "output_type": "stream",
          "text": [
            "a : Mr. Green killed Colonel Mustard in the study with the candlestick. Mr. Green is not a very nice fellow.\n",
            "b : Professor Plum has a green plant in his study.\n",
            "c : Miss Scarlett watered Professor Plum's green plant while he was away from his office last week.\n",
            "\n",
            "\n",
            "TF(a): mr. 0.10526315789473684\n",
            "TF(b): mr. 0.0\n",
            "TF(c): mr. 0.0\n",
            "IDF: mr. 2.09861228866811\n",
            "\n",
            "\n",
            "TF-IDF(a): mr. 0.22090655670190631\n",
            "TF-IDF(b): mr. 0.0\n",
            "TF-IDF(c): mr. 0.0\n",
            "\n",
            "\n",
            "TF(a): green 0.10526315789473684\n",
            "TF(b): green 0.1111111111111111\n",
            "TF(c): green 0.0625\n",
            "IDF: green 1.0\n",
            "\n",
            "\n",
            "TF-IDF(a): green 0.10526315789473684\n",
            "TF-IDF(b): green 0.1111111111111111\n",
            "TF-IDF(c): green 0.0625\n",
            "\n",
            "\n",
            "Score TF-IDF total pour le terme 'mr. green'\n",
            "a 0.3261697145966431\n",
            "b 0.1111111111111111\n",
            "c 0.0625\n"
          ]
        }
      ],
      "source": [
        "for (k, v) in sorted(corpus.items()):\n",
        "    print(k, ':', v)\n",
        "print('\\n')\n",
        "\n",
        "query_scores = {'a': 0, 'b': 0, 'c': 0}\n",
        "for term in [t.lower() for t in QUERY_TERMS]:\n",
        "    for doc in sorted(corpus):\n",
        "        print('TF({}): {}'.format(doc, term), tf(term, corpus[doc]))\n",
        "    print('IDF: {}'.format(term, ), idf(term, corpus.values()))\n",
        "    print('\\n')\n",
        "    for doc in sorted(corpus):\n",
        "        score = tf_idf(term, corpus[doc], corpus.values())\n",
        "        print('TF-IDF({}): {}'.format(doc, term), score)\n",
        "        query_scores[doc] += score\n",
        "    print('\\n')\n",
        "\n",
        "print(\"Score TF-IDF total pour le terme '{}'\".format(' '.join(QUERY_TERMS), ))\n",
        "for (doc, score) in sorted(query_scores.items()):\n",
        "    print(doc, score)"
      ]
    },
    {
      "cell_type": "markdown",
      "metadata": {},
      "source": [
        "Le score td-idf pour le terme \"Mr. Green\" est le plus \u00e9lev\u00e9 pour le document a. "
      ]
    },
    {
      "cell_type": "markdown",
      "metadata": {},
      "source": [
        "### Exercice 1"
      ]
    },
    {
      "cell_type": "markdown",
      "metadata": {},
      "source": [
        "Quel document est le plus proche du terme \"green plant ? Calculer les scores TF-IDF pour le terme \"green plan\". Cela correspond-il \u00e0 vos attentes ? Que se passe-t-il si vous inversez les termes \"green\" et \"plant\" ? Que se passe-t-il avec \"green\" seul ? "
      ]
    },
    {
      "cell_type": "markdown",
      "metadata": {},
      "source": [
        "### Introduction \u00e0 NLTK"
      ]
    },
    {
      "cell_type": "code",
      "execution_count": null,
      "metadata": {
        "ExecuteTime": {
          "end_time": "2016-11-07T17:39:37.808182",
          "start_time": "2016-11-07T17:39:36.557533"
        }
      },
      "outputs": [
        {
          "name": "stdout",
          "output_type": "stream",
          "text": [
            "[nltk_data] Downloading package stopwords to\n",
            "[nltk_data]     C:\\Users\\xavie\\AppData\\Roaming\\nltk_data...\n",
            "[nltk_data]   Package stopwords is already up-to-date!\n"
          ]
        },
        {
          "data": {
            "text/plain": [
              "True"
            ]
          },
          "execution_count": null,
          "metadata": {},
          "output_type": "execute_result"
        }
      ],
      "source": [
        "import nltk\n",
        "\n",
        "# nltk donne acc\u00e8s a des methodes, mais aussi \u00e0 des donn\u00e9es, qui faut t\u00e9l\u00e9charge gr\u00e2ce \u00e0 la commande .download()\n",
        "nltk.download('stopwords')"
      ]
    },
    {
      "cell_type": "code",
      "execution_count": null,
      "metadata": {
        "ExecuteTime": {
          "end_time": "2016-11-07T17:39:45.618720",
          "start_time": "2016-11-07T17:39:45.614724"
        },
        "collapsed": true
      },
      "outputs": [],
      "source": [
        "from pprint import pprint"
      ]
    },
    {
      "cell_type": "code",
      "execution_count": null,
      "metadata": {
        "ExecuteTime": {
          "end_time": "2016-11-07T17:39:46.177081",
          "start_time": "2016-11-07T17:39:46.171077"
        }
      },
      "outputs": [
        {
          "data": {
            "text/plain": [
              "273"
            ]
          },
          "execution_count": null,
          "metadata": {},
          "output_type": "execute_result"
        }
      ],
      "source": [
        "len(activity_results)"
      ]
    },
    {
      "cell_type": "code",
      "execution_count": null,
      "metadata": {},
      "outputs": [
        {
          "name": "stdout",
          "output_type": "stream",
          "text": [
            "{'access': {'description': 'Public',\n",
            "            'items': [{'type': 'public'}],\n",
            "            'kind': 'plus#acl'},\n",
            " 'actor': {'displayName': \"Tim O'Reilly\",\n",
            "           'id': '107033731246200681024',\n",
            "           'image': {'url': 'https://lh4.googleusercontent.com/-J8nmMwIhpiA/AAAAAAAAAAI/AAAAAAADdg4/68r2hyFUgzI/photo.jpg?sz=50'},\n",
            "           'url': 'https://plus.google.com/107033731246200681024',\n",
            "           'verification': {'adHocVerified': 'PASSED'}},\n",
            " 'etag': '\"Sh4n9u6EtD24TM0RmWv7jTXojqc/P_Jlyfz-wBzgQCJokJHW5mO6lcY\"',\n",
            " 'id': 'z12vtjni3kius1tlo23gcxizetybvpydh',\n",
            " 'kind': 'plus#activity',\n",
            " 'object': {'actor': {'verification': {'adHocVerified': 'PASSED'}},\n",
            "            'attachments': [{'content': 'Don\u2019t console yourself for a minute '\n",
            "                                        'that in electing a fellow plutocrat, '\n",
            "                                        'our side won. President Trump isn\u2019t '\n",
            "                                        'on any side but his own.',\n",
            "                             'displayName': 'To My Fellow Plutocrats: You Can '\n",
            "                                            'Cure Trumpism',\n",
            "                             'fullImage': {'type': 'image/jpeg',\n",
            "                                           'url': 'http://static.politico.com/c9/90/5f8562ab44b69eeb98421a1b0814/170718-mag-plutocrats-gty-1160jpg.jpg'},\n",
            "                             'image': {'height': 910,\n",
            "                                       'type': 'image/jpeg',\n",
            "                                       'url': 'https://lh3.googleusercontent.com/proxy/mEDdPrSUAQbLMmSNT02vMcry78mUPMdR2wkqxccgBzp2FhdvqLDqJUIlBYZoahK5t32dDDkTKEfTnPS72SYoKKqxx2oy9-idsFuhire4IG0t-0TxKcy7tU4C98EUW2bXDdHFnC_erGgYVGY6tpEqmd-lzg=w506-h910',\n",
            "                                       'width': 506},\n",
            "                             'objectType': 'article',\n",
            "                             'url': 'http://www.politico.com/magazine/story/2017/07/18/to-my-fellow-plutocrats-you-can-cure-trumpism-215347'}],\n",
            "            'content': 'Billionaire Nick Hanauer has some blistering advice '\n",
            "                       'for his fellow plutocrats on the left. If you want to '\n",
            "                       'do something about Trump, don\\'t \"#resist\", pay '\n",
            "                       'ordinary people more of the extraordinary gains '\n",
            "                       'brought to the economy by rising productivity.He '\n",
            "                       'writes \"Many of my peers prefer to hide behind the '\n",
            "                       'enduring myth that today\u2019s crisis of economic '\n",
            "                       'inequality and insecurity is the result of forces '\n",
            "                       'unleashed by unstoppable trends in technology and '\n",
            "                       'globalization. \u201cIt\u2019s not my fault I have so much while '\n",
            "                       'others have so little,\u201d we comfort ourselves, \u201cit\u2019s '\n",
            "                       'the economy.\u201d That is nonsense. There\u2019s no intrinsic '\n",
            "                       'reason why the social and political changes delivered '\n",
            "                       'by technological advances and globalization have to '\n",
            "                       'massively concentrate wealth in the hands of the few. '\n",
            "                       'We simply exploited changing circumstances to take '\n",
            "                       'advantage of people with less power than us.\"\\ufeff',\n",
            "            'objectType': 'note',\n",
            "            'plusoners': {'selfLink': 'https://www.googleapis.com/plus/v1/activities/z12vtjni3kius1tlo23gcxizetybvpydh/people/plusoners',\n",
            "                          'totalItems': 61},\n",
            "            'replies': {'selfLink': 'https://www.googleapis.com/plus/v1/activities/z12vtjni3kius1tlo23gcxizetybvpydh/comments',\n",
            "                        'totalItems': 11},\n",
            "            'resharers': {'selfLink': 'https://www.googleapis.com/plus/v1/activities/z12vtjni3kius1tlo23gcxizetybvpydh/people/resharers',\n",
            "                          'totalItems': 10},\n",
            "            'url': 'https://plus.google.com/+TimOReilly/posts/9qCNaPQFYdL'},\n",
            " 'provider': {'title': 'Google+'},\n",
            " 'published': '2017-07-19T19:34:21.998Z',\n",
            " 'title': 'Billionaire Nick Hanauer has some blistering advice for his fellow '\n",
            "          'plutocrats on the left. If you want...',\n",
            " 'updated': '2017-07-19T19:34:21.998Z',\n",
            " 'url': 'https://plus.google.com/+TimOReilly/posts/9qCNaPQFYdL',\n",
            " 'verb': 'post'}\n"
          ]
        }
      ],
      "source": [
        "pprint(activity_results[0])"
      ]
    },
    {
      "cell_type": "code",
      "execution_count": null,
      "metadata": {
        "ExecuteTime": {
          "end_time": "2016-11-07T17:39:56.218387",
          "start_time": "2016-11-07T17:39:56.212885"
        }
      },
      "outputs": [
        {
          "name": "stdout",
          "output_type": "stream",
          "text": [
            "('Billionaire Nick Hanauer has some blistering advice for his fellow '\n",
            " \"plutocrats on the left. If you want to do something about Trump, don't \"\n",
            " '\"#resist\", pay ordinary people more of the extraordinary gains brought to '\n",
            " 'the economy by rising productivity.He writes \"Many of my peers prefer to '\n",
            " 'hide behind the enduring myth that today\u2019s crisis of economic inequality and '\n",
            " 'insecurity is the result of forces unleashed by unstoppable trends in '\n",
            " 'technology and globalization. \u201cIt\u2019s not my fault I have so much while others '\n",
            " 'have so little,\u201d we comfort ourselves, \u201cit\u2019s the economy.\u201d That is nonsense. '\n",
            " 'There\u2019s no intrinsic reason why the social and political changes delivered '\n",
            " 'by technological advances and globalization have to massively concentrate '\n",
            " 'wealth in the hands of the few. We simply exploited changing circumstances '\n",
            " 'to take advantage of people with less power than us.\"\\ufeff')\n"
          ]
        }
      ],
      "source": [
        "pprint(activity_results[0]['object']['content'])"
      ]
    },
    {
      "cell_type": "code",
      "execution_count": null,
      "metadata": {
        "ExecuteTime": {
          "end_time": "2016-11-07T17:41:08.764658",
          "start_time": "2016-11-07T17:41:08.442688"
        },
        "scrolled": false
      },
      "outputs": [
        {
          "name": "stdout",
          "output_type": "stream",
          "text": [
            "Nombre de caract\u00e8res :  103392\n",
            "\n",
            "\n",
            "Exemples d'occurences du terme 'open' :\n",
            "Displaying 13 of 13 matches:\n",
            ", and how at least one team is using open source to let others see inside the \n",
            "ear that computational biologist and open science advocate (UC Berkeley profes\n",
            ": magazine slogan say, \"If you can't open it, you don't own it.\" \ufeff Predictive \n",
            " I'm proud to be a signatory to this open letter calling for this key policy i\n",
            "st, I've focused a lot on areas like open source software and the implications\n",
            "opic at greater length in my article Open Data and Algorithmic Regulation: htt\n",
            "cessful participatory projects, from open source software to wikis to social m\n",
            "ere isn't one (except that it's only open to US students - sorry. If anyone ha\n",
            "new contract that conformed with the open data mandate. If it were consistent \n",
            "If it were consistent with the Obama open data guidance, that RFP would requir\n",
            "ut of step with the administration\u2019s open data policy.The founder of Hipcamp, \n",
            "is is a really important piece about open data and platforms.\ufeff Work on sh-t th\n",
            ".\ufeff An excellent demonstration of why Open Access lowers the barriers to knowle\n",
            "\n",
            "\n",
            "Co-occurences fr\u00e9quentes :\n",
            "Silicon Valley; O'Reilly Media; New York; Common Core; +Jennifer\n",
            "Pahlka; Next:Economy Summit; Brett Goldstein; Cabo Pulmo; on-demand\n",
            "economy,; Bay Mini; East Bay; White House; granite workers; Maker\n",
            "Faire; Mini Maker; Real businesses; Well worth; Barre Historical;\n",
            "Historical Society; NBC Press:Here\n",
            "\n",
            "\n",
            "Nombre de mots : 17177\n",
            "\n",
            "\n",
            "Nombre de mots uniques : 5614\n",
            "\n",
            "\n",
            "Nombre de mots uniques v2 : 5614\n",
            "Nombre d'occurences du terme 'open' : 11\n",
            "Nombre d'occurences du terme 'source' : 5\n",
            "Nombre d'occurences du terme 'web' : 1\n",
            "Nombre d'occurences du terme 'API' : 2\n",
            "\n",
            "\n",
            "Top 100 : ['the', 'to', 'of', 'and', 'a', 'in', 'is', 'for', 'that', 'I', 'on', 'about', 'with', 'it', 'at', 'are', 'this', 'you', 'as', 'from', 'have', 'be', 'my', 'an', 'by', 'how', 'we', '\\ufeff', 'what', 'was', 'but', 'This', 'not', 'they', 'The', 'their', 'has', 'his', 'so', 'than', 'do', 'new', 'like', 'can', 'more', 'or', 'out', 'who', 'make', 'our', '-', 'one', 'people', 'will', 'good', 'when', 'all', 'just', 'work', 'up', 'if', 'see', 'should', 'them', 'We', 'me', 'which', 'get', 'way', 'It', 'its', 'he', 'why', 'data', 'piece', 'also', 'And', 'government', \"I'm\", 'us', 'some', \"O'Reilly\", 'better', 'love', 'If', 'been', 'think', 'your', 'great', 'technology', 'many', 'now', 'time', 'no', \"It's\", 'other', 'help', 'into', 'had', 'business']\n",
            "\n",
            "\n",
            "Top 100 sans les mots fr\u00e9quents : ['\\ufeff', 'new', 'like', 'make', '-', 'one', 'people', 'good', 'work', 'see', 'get', 'way', 'data', 'piece', 'also', 'government', \"I'm\", 'us', \"O'Reilly\", 'better', 'love', 'think', 'great', 'technology', 'many', 'time', \"It's\", 'help', 'business']\n",
            "\n",
            "\n",
            "Longs mots sans les urls : ['impossible.Technology', 'financialization,', 'collusion...could', 'transformative.)', 'public-relations', 'self-assessment!', 'forward-thinking', '\u201cattend-listen-embarrass\u201d', 'algorithmically,', 'you!https://www.crowdpac.com/campaigns/100604\\ufeff', '#OReillySecurity', '#makesecurityeasy', 'doing.Individually,', 'profitability.\u201d\\ufeff', 'producers....Like', 'October.http://www.inc.com/magazine/201606/sheila-marikar/lola-paul-english-uber.html\\ufeff', 'nyti.ms/1UbkG1J\\ufeff', 'entrepreneurship', '(http://conferences.oreilly.com/nextcon/money-fintech-us)\\ufeff', 'life-threatening', \"Thursday.\u201dThat's\", 'post.)http://www.pressheretv.com/tim-oreilly/\\ufeff', 'humansofnewyork.com', 'sustainability.\\ufeff', '(https://medium.com/the-wtf-economy/the-wtf-economy-a3bd5f52ef00)', '(https://medium.com/the-wtf-economy/networks-and-the-nature-of-the-firm-28790b6afdcc).', '(http://conferences.oreilly.com/next-economy)\\ufeff', 'underrepresented', 'Republican-controlled', 'philanthropists,', 'Foundation.http://www.wsj.com/articles/sean-parker-philanthropy-for-hackers-1435345787\\ufeff', 'Michener)quoteinvestigator.com/2010/08/27/master/Thanks', '#LeanInTogether\\ufeff', '#FutureCrimesConvo,', 'www.futurecrimes.com\\ufeff', 'statistics:\"Typically,', 'Super-interesting.', 'Brothers....\"Their', 'innovation-resistant', 'software....\"Get', 'Ireland.Incidentally,', 'level-headedness.\\ufeff', 'administration\u2019s', 'jasonmking@fs.fed.us', 'available:http://ebmakerfaire2014.eventbrite.com\\ufeff', 'Makers/Exhibitors/Performers,', 'Regulations?Evgeny', \"backwards.Here's\", 'opens:\"Regulation', 'results.\"Consider,', 'outcome\"Real-time', 'achieved\"Algorithms', 'quasi-governmental', 'everyone\"Adjustments', 'achieved\"Contrast', 'outcome?\"(http://beyondtransparency.org/chapters/part-5/open-data-and-algorithmic-regulation/).\\ufeff', 'condition.\"Lovely.And', 'opens:\"Something\u2019s', 'codeforamerica.org.', 'interoperability', 'customizability.', '(drnkwines.com),', 'stream-processing', 'knowledge-sharing', 'Healthcare.govDraw', 'IndependenceThis', 'Palestinians:\"This', 'national-authority', 'significantly.\"It']\n",
            "\n",
            "\n",
            "Nombre d'urls : 29\n",
            "\n",
            "\n",
            "0 ('the', 850)\n",
            "1 ('to', 515)\n",
            "2 ('of', 459)\n",
            "3 ('and', 424)\n",
            "4 ('a', 362)\n",
            "5 ('in', 267)\n",
            "6 ('is', 241)\n",
            "7 ('for', 210)\n",
            "8 ('that', 190)\n",
            "9 ('I', 172)\n",
            "10 ('on', 156)\n",
            "11 ('about', 122)\n",
            "12 ('with', 119)\n",
            "13 ('it', 111)\n",
            "14 ('at', 105)\n",
            "15 ('are', 105)\n",
            "16 ('this', 98)\n",
            "17 ('you', 96)\n",
            "18 ('as', 84)\n",
            "19 ('from', 83)\n",
            "20 ('have', 78)\n",
            "21 ('be', 76)\n",
            "22 ('my', 72)\n",
            "23 ('an', 71)\n",
            "24 ('by', 70)\n",
            "25 ('how', 69)\n",
            "26 ('we', 65)\n",
            "27 ('\\ufeff', 60)\n",
            "28 ('what', 58)\n",
            "29 ('was', 57)\n",
            "30 ('but', 57)\n",
            "31 ('This', 53)\n",
            "32 ('not', 51)\n",
            "33 ('they', 51)\n",
            "34 ('The', 49)\n",
            "35 ('their', 49)\n",
            "36 ('has', 47)\n",
            "37 ('his', 46)\n",
            "38 ('so', 46)\n",
            "39 ('than', 46)\n",
            "40 ('do', 42)\n",
            "41 ('new', 42)\n",
            "42 ('like', 42)\n",
            "43 ('can', 41)\n",
            "44 ('more', 39)\n",
            "45 ('or', 39)\n",
            "46 ('out', 39)\n",
            "47 ('who', 38)\n",
            "48 ('make', 35)\n",
            "49 ('our', 35)\n",
            "50 ('-', 34)\n",
            "51 ('one', 33)\n",
            "52 ('people', 32)\n",
            "53 ('will', 31)\n",
            "54 ('good', 31)\n",
            "55 ('when', 30)\n",
            "56 ('all', 30)\n",
            "57 ('just', 30)\n",
            "58 ('work', 30)\n",
            "59 ('up', 30)\n",
            "60 ('if', 29)\n",
            "61 ('see', 28)\n",
            "62 ('should', 28)\n",
            "63 ('them', 28)\n",
            "64 ('We', 27)\n",
            "65 ('me', 27)\n",
            "66 ('which', 27)\n",
            "67 ('get', 27)\n",
            "68 ('way', 27)\n",
            "69 ('It', 26)\n",
            "70 ('its', 26)\n",
            "71 ('he', 26)\n",
            "72 ('why', 25)\n",
            "73 ('data', 25)\n",
            "74 ('piece', 25)\n",
            "75 ('also', 24)\n",
            "76 ('And', 24)\n",
            "....\n"
          ]
        }
      ],
      "source": [
        "all_content = \" \".join([ a['object']['content'] for a in activity_results ])\n",
        "\n",
        "print(\"Nombre de caract\u00e8res : \",len(all_content))\n",
        "print('\\n')\n",
        "\n",
        "#Tokenisation na\u00efve sur les espaces entre les mots => on obtient une liste de mots\n",
        "tokens = all_content.split()\n",
        "\n",
        "#On transforme cette liste en objet nltk \"Text\" (objet chaine de caract\u00e8re qui conserve la notion de tokens, et qui \n",
        "#comprend  un certain nombre de m\u00e9thodes utiles pour explorer les donn\u00e9es.\n",
        "text = nltk.Text(tokens)\n",
        "\n",
        "#Comme par exemple \"concordance\" : montre les occurences d'un mot dans son contexte\n",
        "print(\"Exemples d'occurences du terme 'open' :\")\n",
        "text.concordance(\"open\")\n",
        "print('\\n')\n",
        "\n",
        "\n",
        "# Analyse de la fr\u00e9quence des termes d'int\u00e9r\u00eat \n",
        "fdist = text.vocab()\n",
        "\n",
        "print(\"Co-occurences fr\u00e9quentes :\")\n",
        "text.collocations()\n",
        "print('\\n')\n",
        "print(\"Nombre de mots :\", len(tokens))\n",
        "print('\\n')\n",
        "print(\"Nombre de mots uniques :\",len(fdist.keys()))\n",
        "print('\\n')\n",
        "print(\"Nombre de mots uniques v2 :\",len(set(tokens)))\n",
        "\n",
        "\n",
        "print(\"Nombre d'occurences du terme 'open' :\",fdist[\"open\"])\n",
        "print(\"Nombre d'occurences du terme 'source' :\", fdist[\"source\"])\n",
        "print(\"Nombre d'occurences du terme 'web' :\", fdist[\"web\"])\n",
        "print(\"Nombre d'occurences du terme 'API' :\",fdist[\"API\"])\n",
        "print('\\n')\n",
        "\n",
        "#100 tokens les plus fr\u00e9quents\n",
        "top100_items = sorted(fdist.items(),key=lambda x: x[1],reverse=True)[:100]\n",
        "#sans les fr\u00e9quences\n",
        "top100 = [t[0] for t in top100_items]\n",
        "print(\"Top 100 :\", top100)\n",
        "print('\\n')\n",
        "\n",
        "#sans les termes trop frequents (\"stopwords\")\n",
        "top100_without_stopwords = [w for w in top100 if w.lower() \\\n",
        "                         not in nltk.corpus.stopwords.words('english')]\n",
        "print(\"Top 100 sans les mots fr\u00e9quents :\", top100_without_stopwords)\n",
        "print('\\n')\n",
        "\n",
        "long_words_not_urls = [w for w in fdist.keys() if len(w) > 15 and not w.startswith(\"http\")]\n",
        "print(\"Longs mots sans les urls :\", long_words_not_urls)\n",
        "print('\\n')\n",
        "\n",
        "# Nombre d'urls\n",
        "print(\"Nombre d'urls :\", len([w for w in fdist.keys() if w.startswith(\"http\")]))\n",
        "print('\\n')\n",
        "\n",
        "# Enumerate the frequency distribution\n",
        "for rank, word in enumerate(sorted(fdist.items(),key=lambda x: x[1],reverse=True)): \n",
        "    print(rank, word)\n",
        "    if rank > 75:\n",
        "        print(\"....\")\n",
        "        break"
      ]
    },
    {
      "cell_type": "code",
      "execution_count": null,
      "metadata": {
        "ExecuteTime": {
          "end_time": "2016-11-07T17:41:15.341582",
          "start_time": "2016-11-07T17:41:15.337581"
        },
        "collapsed": true
      },
      "outputs": [],
      "source": [
        "fdist = text.vocab()"
      ]
    },
    {
      "cell_type": "code",
      "execution_count": null,
      "metadata": {
        "ExecuteTime": {
          "end_time": "2016-11-07T17:41:16.614070",
          "start_time": "2016-11-07T17:41:15.689847"
        },
        "collapsed": true
      },
      "outputs": [],
      "source": [
        "%matplotlib inline"
      ]
    },
    {
      "cell_type": "code",
      "execution_count": null,
      "metadata": {
        "ExecuteTime": {
          "end_time": "2016-11-07T17:44:08.573650",
          "start_time": "2016-11-07T17:44:07.696937"
        }
      },
      "outputs": [
        {
          "data": {
            "image/png": "[encoded data removed]",
            "text/plain": [
              "<matplotlib.figure.Figure at 0x1f0af2cc940>"
            ]
          },
          "metadata": {},
          "output_type": "display_data"
        }
      ],
      "source": [
        "fdist.plot(100,cumulative=True)"
      ]
    },
    {
      "cell_type": "markdown",
      "metadata": {},
      "source": [
        "### Exercice 2"
      ]
    },
    {
      "cell_type": "markdown",
      "metadata": {},
      "source": [
        "Les notes de Tim O'Reilly parlent-elles des \u00e9lections am\u00e9ricaines ? Avec quelle fr\u00e9quence ? Essayer \"Hillary\",\"Trump\", \"vote\", d'autres id\u00e9es ? \n",
        "\n",
        "Quelle distribution des termes sans les stopwords ? V\u00e9rifie-t-on la loi [Zipf](https://en.wikipedia.org/wiki/Zipf%27s_law) selon laquelle la fr\u00e9quence des mots est inversement proportionnelle \u00e0 son rang  (le 10 \u00e8me mot est 10 fois moins pr\u00e9sent que le premier) ? Et si l'on laisse les \"stopwords\" ?\n",
        "\n",
        "Proposer un indice du calcul de la diversit\u00e9 du vocabulaire de Tim O'Reilly. "
      ]
    },
    {
      "cell_type": "markdown",
      "metadata": {},
      "source": [
        "### Requeter les donn\u00e9es Google + avec TF-IDF"
      ]
    },
    {
      "cell_type": "markdown",
      "metadata": {},
      "source": [
        "Le code ci-apr\u00e8s permet d'indexer des textes en fonction d'un score de pertinence pour une requ\u00eate donn\u00e9e. En d'autres termes, vous avez un petit moteur de recherche :)"
      ]
    },
    {
      "cell_type": "code",
      "execution_count": null,
      "metadata": {
        "ExecuteTime": {
          "end_time": "2016-11-07T17:44:12.821415",
          "start_time": "2016-11-07T17:44:12.754870"
        }
      },
      "outputs": [
        {
          "name": "stdout",
          "output_type": "stream",
          "text": [
            "This is a really important piece about open data and platforms.\n",
            "\tLink: https://plus.google.com/+TimOReilly/posts/fo9uxWTctHb\n",
            "\tScore: 0.5498599632119789\n",
            "I love new sources of trend data about technology adoption. We've used variations of this for years ...\n",
            "\tLink: https://plus.google.com/+TimOReilly/posts/FetXVRJeJFv\n",
            "\tScore: 0.1702129843767107\n",
            "If you love Hamilton, as I do, and you're interested in data visualization, you'll find this fascinating...\n",
            "\tLink: https://plus.google.com/+TimOReilly/posts/NNsiSo8K7B7\n",
            "\tScore: 0.16687547487912816\n",
            "Data can play a great role in advancing sustainability. I'm quoted in this short video from Planet Labs...\n",
            "\tLink: https://plus.google.com/+TimOReilly/posts/45KX41Q2LN4\n",
            "\tScore: 0.15760461516362104\n",
            "Mark Cuban's tweet about data science in the NBA, featuring the image of his screen and an O'Reilly ...\n",
            "\tLink: https://plus.google.com/+TimOReilly/posts/2hCQhfTaX5g\n",
            "\tScore: 0.14184415364725894\n",
            "An excellent demonstration of why Open Access lowers the barriers to knowledge-sharing in science. This...\n",
            "\tLink: https://plus.google.com/+TimOReilly/posts/iQ4RdspWxbY\n",
            "\tScore: 0.13381568843277453\n"
          ]
        }
      ],
      "source": [
        "import json\n",
        "import nltk\n",
        "\n",
        "path = 'ressources_googleplus/107033731246200681024.json'\n",
        "text_data = json.loads(open(path).read())\n",
        "\n",
        "QUERY_TERMS = ['open','data']\n",
        "\n",
        "activities = [activity['object']['content'].lower().split() \\\n",
        "              for activity in text_data \\\n",
        "                if activity['object']['content'] != \"\"]\n",
        "\n",
        "# Le package TextCollection contient un module tf-idf\n",
        "tc = nltk.TextCollection(activities)\n",
        "\n",
        "relevant_activities = []\n",
        "\n",
        "for idx in range(len(activities)):\n",
        "    score = 0\n",
        "    for term in [t.lower() for t in QUERY_TERMS]:\n",
        "        score += tc.tf_idf(term, activities[idx])\n",
        "    if score > 0:\n",
        "        relevant_activities.append({'score': score, 'title': text_data[idx]['title'],\n",
        "                              'url': text_data[idx]['url']})\n",
        "\n",
        "# Tri par score et pr\u00e9sentation des r\u00e9sultats \n",
        "\n",
        "relevant_activities = sorted(relevant_activities, \n",
        "                             key=lambda p: p['score'], reverse=True)\n",
        "c=0\n",
        "for activity in relevant_activities:\n",
        "    if c < 6:\n",
        "        print(activity['title'])\n",
        "        print('\\tLink: {}'.format(activity['url']))\n",
        "        print('\\tScore: {}'.format(activity['score']))\n",
        "        c+=1"
      ]
    },
    {
      "cell_type": "markdown",
      "metadata": {},
      "source": [
        "### Exercice 3"
      ]
    },
    {
      "cell_type": "markdown",
      "metadata": {},
      "source": [
        "- Tester d'autres termes de recherche (easy). Quelles limites voyez-vous ? \n",
        "- Tester d'autres fonctions [tf-idf](https://en.wikipedia.org/wiki/Tf%E2%80%93idf) (faites par vous, en vous inspirant du code \" Exemple sur un petit corpus de 3 documents\")"
      ]
    },
    {
      "cell_type": "markdown",
      "metadata": {},
      "source": [
        "### Trouver des documents proches avec la similarit\u00e9 cosine"
      ]
    },
    {
      "cell_type": "code",
      "execution_count": null,
      "metadata": {
        "ExecuteTime": {
          "end_time": "2016-11-07T17:44:18.836170",
          "start_time": "2016-11-07T17:44:18.126215"
        },
        "collapsed": true
      },
      "outputs": [],
      "source": [
        "import json\n",
        "import nltk\n",
        "\n",
        "\n",
        "path = 'ressources_googleplus/107033731246200681024.json'\n",
        "data = json.loads(open(path).read())\n",
        "\n",
        "# S\u00e9lection des textes qui ont plus de 1000 mots\n",
        "data = [ post for post in json.loads(open(path).read()) \\\n",
        "         if len(post['object']['content']) > 1000 ]\n",
        "\n",
        "all_posts = [post['object']['content'].lower().split() \n",
        "             for post in data ]\n",
        "\n",
        "tc = nltk.TextCollection(all_posts)\n",
        "\n",
        "# Calcul d'une matrice terme de recherche x document\n",
        "# Renvoie un score tf-idf pour le terme dans le document\n",
        "\n",
        "td_matrix = {}\n",
        "for idx in range(len(all_posts)):\n",
        "    post = all_posts[idx]\n",
        "    fdist = nltk.FreqDist(post)\n",
        "\n",
        "    doc_title = data[idx]['title']\n",
        "    url = data[idx]['url']\n",
        "    td_matrix[(doc_title, url)] = {}\n",
        "\n",
        "    for term in fdist.keys():\n",
        "        td_matrix[(doc_title, url)][term] = tc.tf_idf(term, post)"
      ]
    },
    {
      "cell_type": "code",
      "execution_count": null,
      "metadata": {
        "ExecuteTime": {
          "end_time": "2016-11-07T17:44:20.455219",
          "start_time": "2016-11-07T17:44:19.786910"
        },
        "collapsed": true
      },
      "outputs": [],
      "source": [
        "distances = {}\n",
        "\n",
        "for (title1, url1) in td_matrix.keys():\n",
        "    \n",
        "    distances[(title1, url1)] = {}\n",
        "    (min_dist, most_similar) = (1.0, ('', ''))\n",
        "    \n",
        "    for (title2, url2) in td_matrix.keys():\n",
        "        \n",
        "        #copie des valeurs (un dictionnaire \u00e9tant mutable)\n",
        "        terms1 = td_matrix[(title1, url1)].copy()\n",
        "        terms2 = td_matrix[(title2, url2)].copy()\n",
        "        \n",
        "        #on complete les gaps pour avoir des vecteurs de m\u00eame longueur\n",
        "        for term1 in terms1:\n",
        "            if term1 not in terms2:\n",
        "                terms2[term1] = 0\n",
        "\n",
        "        for term2 in terms2:\n",
        "            if term2 not in terms1:\n",
        "                terms1[term2] = 0\n",
        "                \n",
        "        #on cr\u00e9\u00e9 des vecteurs de score pour l'ensemble des terms de chaque document\n",
        "        v1 = [score for (term, score) in sorted(terms1.items())]\n",
        "        v2 = [score for (term, score) in sorted(terms2.items())]\n",
        "\n",
        "        #calcul des similarit\u00e9 entre documents : distance cosine entre les deux vecteurs de scores tf-idf\n",
        "        distances[(title1, url1)][(title2, url2)] = \\\n",
        "            nltk.cluster.util.cosine_distance(v1, v2)"
      ]
    },
    {
      "cell_type": "code",
      "execution_count": null,
      "metadata": {
        "ExecuteTime": {
          "end_time": "2016-11-07T17:44:21.252441",
          "start_time": "2016-11-07T17:44:20.804663"
        }
      },
      "outputs": [
        {
          "data": {
            "text/html": [
              "<div>\n",
              "<style>\n",
              "    .dataframe thead tr:only-child th {\n",
              "        text-align: right;\n",
              "    }\n",
              "\n",
              "    .dataframe thead th {\n",
              "        text-align: left;\n",
              "    }\n",
              "\n",
              "    .dataframe tbody tr th {\n",
              "        vertical-align: top;\n",
              "    }\n",
              "</style>\n",
              "<table border=\"1\" class=\"dataframe\">\n",
              "  <thead>\n",
              "    <tr>\n",
              "      <th></th>\n",
              "      <th></th>\n",
              "      <th>\"Surely Democrats and Republicans could agree to cut billions from a failed program like this!\" you ...</th>\n",
              "      <th>Absolutely fascinating exploration of the microbiome of a city.\\n\\nFor those who don't know what the microbiome...</th>\n",
              "      <th>Amazing story about digital transformation http://www.codeforamerica.org/blog/2015/11/30/a-new-approach...</th>\n",
              "      <th>Can We Use Data to Make Better Regulations?\\n\\nEvgeny Morozov either misunderstands or misrepresents the...</th>\n",
              "      <th>From an article about Walmart, their move to pay more, and the lessons for the broader economy: http...</th>\n",
              "    </tr>\n",
              "    <tr>\n",
              "      <th></th>\n",
              "      <th></th>\n",
              "      <th>https://plus.google.com/+TimOReilly/posts/1Lcxb3b8VPH</th>\n",
              "      <th>https://plus.google.com/+TimOReilly/posts/7EaHeYc1BiB</th>\n",
              "      <th>https://plus.google.com/+TimOReilly/posts/BRmKh2ycaPe</th>\n",
              "      <th>https://plus.google.com/+TimOReilly/posts/gboAUahQwuZ</th>\n",
              "      <th>https://plus.google.com/+TimOReilly/posts/bqErtyYp6co</th>\n",
              "    </tr>\n",
              "  </thead>\n",
              "  <tbody>\n",
              "    <tr>\n",
              "      <th>\"Surely Democrats and Republicans could agree to cut billions from a failed program like this!\" you ...</th>\n",
              "      <th>https://plus.google.com/+TimOReilly/posts/1Lcxb3b8VPH</th>\n",
              "      <td>-2.220446e-16</td>\n",
              "      <td>0.984418</td>\n",
              "      <td>9.653701e-01</td>\n",
              "      <td>8.982424e-01</td>\n",
              "      <td>0.945028</td>\n",
              "    </tr>\n",
              "    <tr>\n",
              "      <th>Absolutely fascinating exploration of the microbiome of a city.\\n\\nFor those who don't know what the microbiome...</th>\n",
              "      <th>https://plus.google.com/+TimOReilly/posts/7EaHeYc1BiB</th>\n",
              "      <td>9.844176e-01</td>\n",
              "      <td>0.000000</td>\n",
              "      <td>9.724224e-01</td>\n",
              "      <td>9.613667e-01</td>\n",
              "      <td>0.971446</td>\n",
              "    </tr>\n",
              "    <tr>\n",
              "      <th>Amazing story about digital transformation http://www.codeforamerica.org/blog/2015/11/30/a-new-approach...</th>\n",
              "      <th>https://plus.google.com/+TimOReilly/posts/BRmKh2ycaPe</th>\n",
              "      <td>9.653701e-01</td>\n",
              "      <td>0.972422</td>\n",
              "      <td>1.110223e-16</td>\n",
              "      <td>9.655602e-01</td>\n",
              "      <td>0.986376</td>\n",
              "    </tr>\n",
              "    <tr>\n",
              "      <th>Can We Use Data to Make Better Regulations?\\n\\nEvgeny Morozov either misunderstands or misrepresents the...</th>\n",
              "      <th>https://plus.google.com/+TimOReilly/posts/gboAUahQwuZ</th>\n",
              "      <td>8.982424e-01</td>\n",
              "      <td>0.961367</td>\n",
              "      <td>9.655602e-01</td>\n",
              "      <td>-2.220446e-16</td>\n",
              "      <td>0.955131</td>\n",
              "    </tr>\n",
              "    <tr>\n",
              "      <th>From an article about Walmart, their move to pay more, and the lessons for the broader economy: http...</th>\n",
              "      <th>https://plus.google.com/+TimOReilly/posts/bqErtyYp6co</th>\n",
              "      <td>9.450279e-01</td>\n",
              "      <td>0.971446</td>\n",
              "      <td>9.863758e-01</td>\n",
              "      <td>9.551314e-01</td>\n",
              "      <td>0.000000</td>\n",
              "    </tr>\n",
              "  </tbody>\n",
              "</table>\n",
              "</div>"
            ],
            "text/plain": [
              "                                                                                                      \"Surely Democrats and Republicans could agree to cut billions from a failed program like this!\" you ...  \\\n",
              "                                                                                                                                                        https://plus.google.com/+TimOReilly/posts/1Lcxb3b8VPH   \n",
              "\"Surely Democrats and Republicans could agree t... https://plus.google.com/+TimOReilly/posts/1Lcxb...                                      -2.220446e-16                                                        \n",
              "Absolutely fascinating exploration of the micro... https://plus.google.com/+TimOReilly/posts/7EaHe...                                       9.844176e-01                                                        \n",
              "Amazing story about digital transformation http... https://plus.google.com/+TimOReilly/posts/BRmKh...                                       9.653701e-01                                                        \n",
              "Can We Use Data to Make Better Regulations?\\n\\n... https://plus.google.com/+TimOReilly/posts/gboAU...                                       8.982424e-01                                                        \n",
              "From an article about Walmart, their move to pa... https://plus.google.com/+TimOReilly/posts/bqErt...                                       9.450279e-01                                                        \n",
              "\n",
              "                                                                                                      Absolutely fascinating exploration of the microbiome of a city.\\n\\nFor those who don't know what the microbiome...  \\\n",
              "                                                                                                                                                                   https://plus.google.com/+TimOReilly/posts/7EaHeYc1BiB   \n",
              "\"Surely Democrats and Republicans could agree t... https://plus.google.com/+TimOReilly/posts/1Lcxb...                                           0.984418                                                                   \n",
              "Absolutely fascinating exploration of the micro... https://plus.google.com/+TimOReilly/posts/7EaHe...                                           0.000000                                                                   \n",
              "Amazing story about digital transformation http... https://plus.google.com/+TimOReilly/posts/BRmKh...                                           0.972422                                                                   \n",
              "Can We Use Data to Make Better Regulations?\\n\\n... https://plus.google.com/+TimOReilly/posts/gboAU...                                           0.961367                                                                   \n",
              "From an article about Walmart, their move to pa... https://plus.google.com/+TimOReilly/posts/bqErt...                                           0.971446                                                                   \n",
              "\n",
              "                                                                                                      Amazing story about digital transformation http://www.codeforamerica.org/blog/2015/11/30/a-new-approach...  \\\n",
              "                                                                                                                                                           https://plus.google.com/+TimOReilly/posts/BRmKh2ycaPe   \n",
              "\"Surely Democrats and Republicans could agree t... https://plus.google.com/+TimOReilly/posts/1Lcxb...                                       9.653701e-01                                                           \n",
              "Absolutely fascinating exploration of the micro... https://plus.google.com/+TimOReilly/posts/7EaHe...                                       9.724224e-01                                                           \n",
              "Amazing story about digital transformation http... https://plus.google.com/+TimOReilly/posts/BRmKh...                                       1.110223e-16                                                           \n",
              "Can We Use Data to Make Better Regulations?\\n\\n... https://plus.google.com/+TimOReilly/posts/gboAU...                                       9.655602e-01                                                           \n",
              "From an article about Walmart, their move to pa... https://plus.google.com/+TimOReilly/posts/bqErt...                                       9.863758e-01                                                           \n",
              "\n",
              "                                                                                                      Can We Use Data to Make Better Regulations?\\n\\nEvgeny Morozov either misunderstands or misrepresents the...  \\\n",
              "                                                                                                                                                            https://plus.google.com/+TimOReilly/posts/gboAUahQwuZ   \n",
              "\"Surely Democrats and Republicans could agree t... https://plus.google.com/+TimOReilly/posts/1Lcxb...                                       8.982424e-01                                                            \n",
              "Absolutely fascinating exploration of the micro... https://plus.google.com/+TimOReilly/posts/7EaHe...                                       9.613667e-01                                                            \n",
              "Amazing story about digital transformation http... https://plus.google.com/+TimOReilly/posts/BRmKh...                                       9.655602e-01                                                            \n",
              "Can We Use Data to Make Better Regulations?\\n\\n... https://plus.google.com/+TimOReilly/posts/gboAU...                                      -2.220446e-16                                                            \n",
              "From an article about Walmart, their move to pa... https://plus.google.com/+TimOReilly/posts/bqErt...                                       9.551314e-01                                                            \n",
              "\n",
              "                                                                                                      From an article about Walmart, their move to pay more, and the lessons for the broader economy: http...  \n",
              "                                                                                                                                                        https://plus.google.com/+TimOReilly/posts/bqErtyYp6co  \n",
              "\"Surely Democrats and Republicans could agree t... https://plus.google.com/+TimOReilly/posts/1Lcxb...                                           0.945028                                                       \n",
              "Absolutely fascinating exploration of the micro... https://plus.google.com/+TimOReilly/posts/7EaHe...                                           0.971446                                                       \n",
              "Amazing story about digital transformation http... https://plus.google.com/+TimOReilly/posts/BRmKh...                                           0.986376                                                       \n",
              "Can We Use Data to Make Better Regulations?\\n\\n... https://plus.google.com/+TimOReilly/posts/gboAU...                                           0.955131                                                       \n",
              "From an article about Walmart, their move to pa... https://plus.google.com/+TimOReilly/posts/bqErt...                                           0.000000                                                       "
            ]
          },
          "execution_count": null,
          "metadata": {},
          "output_type": "execute_result"
        }
      ],
      "source": [
        "import pandas as p\n",
        "df_dist=p.DataFrame(distances)\n",
        "df_dist.iloc[:5,:5]"
      ]
    },
    {
      "cell_type": "markdown",
      "metadata": {},
      "source": [
        "### Exercice 4 "
      ]
    },
    {
      "cell_type": "markdown",
      "metadata": {},
      "source": [
        "- Quel document est le plus proche de celui-ci: https://plus.google.com/+TimOReilly/posts/7EaHeYc1BiB ?\n",
        "- Repr\u00e9senter la matrice de distance \u00e0 l'aide d'une [heatmap](http://seaborn.pydata.org/examples/heatmap_annotation.html).\n",
        "- Que donne un [clustering hi\u00e9rarchique](http://seaborn.pydata.org/generated/seaborn.clustermap.html#seaborn.clustermap) ?"
      ]
    },
    {
      "cell_type": "markdown",
      "metadata": {},
      "source": [
        "# Approche contextuelle"
      ]
    },
    {
      "cell_type": "markdown",
      "metadata": {},
      "source": [
        "Les approches bag-of-words, bien que simplistes, permettent de cr\u00e9er d'indexer et de comparer des documents. La prise en compte des suites de 2, 3 ou plus mots serait un moyen d'affiner de tels mod\u00e8les. Cela permet aussi de mieux comprendre le sens des homonymes, et des phrases (d'une mani\u00e8re g\u00e9n\u00e9rale, la s\u00e9mantique).\n",
        "\n",
        "nltk offre des methodes pour tenir compte du contexte : pour ce faire, nous calculons les n-grams, c'est-\u00e0-dire l'ensemble des co-occurrences successives de mots deux-\u00e0-deux (bigrams), trois-\u00e0-trois (tri-grams), etc. \n",
        "\n",
        "En g\u00e9n\u00e9ral, on se contente de bi-grams, au mieux de tri-grams : \n",
        "- les mod\u00e8les de classification, analyse du sentiment, comparaison de documents, etc. qui comparent des n-grams avec n trop grands sont rapidement confront\u00e9s au probl\u00e8me de donn\u00e9es sparse, cela r\u00e9duit la capacit\u00e9 pr\u00e9dictive des mod\u00e8les ; \n",
        "- les performances d\u00e9croissent tr\u00e8s rapidement en fonction de n, et les co\u00fbts de stockage des donn\u00e9es augmentent rapidement (environ n fois plus \u00e9lev\u00e9 que la base de donn\u00e9e initiale)."
      ]
    },
    {
      "cell_type": "markdown",
      "metadata": {},
      "source": [
        "### Exemple avec un petit corpus"
      ]
    },
    {
      "cell_type": "code",
      "execution_count": null,
      "metadata": {
        "ExecuteTime": {
          "end_time": "2016-11-07T17:44:25.230822",
          "start_time": "2016-11-07T17:44:25.218810"
        }
      },
      "outputs": [
        {
          "name": "stdout",
          "output_type": "stream",
          "text": [
            "<generator object ngrams at 0x000001F0AF7D74C0>\n",
            "Mr. Green\n"
          ]
        }
      ],
      "source": [
        "import nltk\n",
        "\n",
        "sentence = \"Mr. Green killed Colonel Mustard in the study with the \" + \\\n",
        "           \"candlestick. Mr. Green is not a very nice fellow.\"\n",
        "\n",
        "print(nltk.ngrams(sentence.split(), 2))\n",
        "      \n",
        "txt = nltk.Text(sentence.split())\n",
        "\n",
        "txt.collocations()"
      ]
    },
    {
      "cell_type": "markdown",
      "metadata": {},
      "source": [
        "### Analyse des co-occurences dans les donn\u00e9es textuelles issues de Google +"
      ]
    },
    {
      "cell_type": "code",
      "execution_count": null,
      "metadata": {
        "ExecuteTime": {
          "end_time": "2016-11-07T17:44:27.097337",
          "start_time": "2016-11-07T17:44:26.169765"
        }
      },
      "outputs": [
        {
          "name": "stdout",
          "output_type": "stream",
          "text": [
            "bottom, \u201ccopyright\n",
            "brett goldstein\n",
            "cabo pulmo\n",
            "nbc press:here\n",
            "nick hanauer\n",
            "press:here tv\n",
            "wood fired\n",
            "yuval noah\n",
            "child welfare\n",
            "on-demand economy,\n",
            "silicon valley\n",
            "+jennifer pahlka\n",
            "barre historical\n",
            "computational biologist\n",
            "drm-free ebooks\n",
            "mikey dickerson\n",
            "pulmo sunrise\ufeff\n",
            "saul griffith\n",
            "bay mini\n",
            "credit card\n",
            "east bay\n",
            "white house\n",
            "inca trail\n",
            "italian granite\n",
            "private sector\n"
          ]
        }
      ],
      "source": [
        "import json\n",
        "import nltk\n",
        "\n",
        "path = 'ressources_googleplus/107033731246200681024.json'\n",
        "data = json.loads(open(path).read())\n",
        "\n",
        "# Nombre de co-occurrences \u00e0 trouver\n",
        "\n",
        "N = 25\n",
        "\n",
        "all_tokens = [token for activity in data for token in \\\n",
        "              activity['object']['content'].lower().split()]\n",
        "\n",
        "finder = nltk.BigramCollocationFinder.from_words(all_tokens)\n",
        "finder.apply_freq_filter(2)\n",
        "\n",
        "#filtre des mots trop fr\u00e9quents\n",
        "\n",
        "finder.apply_word_filter(lambda w: w in nltk.corpus.stopwords.words('english'))\n",
        "\n",
        "bigram_measures = nltk.collocations.BigramAssocMeasures()\n",
        "\n",
        "collocations = finder.nbest(bigram_measures.jaccard, N)\n",
        "\n",
        "for collocation in collocations:\n",
        "    c = ' '.join(collocation)\n",
        "    print(c)"
      ]
    },
    {
      "cell_type": "markdown",
      "metadata": {},
      "source": [
        "### Exercice 5 "
      ]
    },
    {
      "cell_type": "markdown",
      "metadata": {},
      "source": [
        "- tester d'autres m\u00e9triques que la distance de jaccard et comparer les r\u00e9sultats\n",
        "- extraire les tri-grams"
      ]
    },
    {
      "cell_type": "code",
      "execution_count": null,
      "metadata": {
        "collapsed": true
      },
      "outputs": [],
      "source": []
    }
  ],
  "metadata": {
    "anaconda-cloud": {},
    "kernelspec": {
      "display_name": "Python 3",
      "language": "python",
      "name": "python3"
    },
    "language_info": {
      "codemirror_mode": {
        "name": "ipython",
        "version": 3
      },
      "file_extension": ".py",
      "mimetype": "text/x-python",
      "name": "python",
      "nbconvert_exporter": "python",
      "pygments_lexer": "ipython3",
      "version": "3.6.1"
    }
  },
  "nbformat": 4,
  "nbformat_minor": 1
}