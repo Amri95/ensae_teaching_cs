{
  "cells": [
    {
      "cell_type": "markdown",
      "metadata": {},
      "source": [
        "# 2A.eco - Exercice Python - Eco S\u00e9ance 2\n",
        "\n",
        "Voici un petit exercice qui nous permet de voir \u00e0 peu pr\u00e8s toutes les op\u00e9rations standards sur les dataframes avec un jeu de donn\u00e9es issus des \u00e9lections."
      ]
    },
    {
      "cell_type": "markdown",
      "metadata": {
        "collapsed": true
      },
      "source": [
        "\n",
        "\n",
        "En utilisant le fichier Excel [data_elections.zip](https://github.com/sdpython/ensae_teaching_cs/raw/master/src/ensae_teaching_cs/data/data_sql/data_elections.zip), r\u00e9alisez les op\u00e9rations suivantes : \n",
        "\n",
        "\n",
        "- Ouvrir le fichier Excel gr\u00e2ce \u00e0 pandas et transformer l'onglet \"d\u00e9partements T1\" en un DataFrame (r\u00e9sultats de l'\u00e9lection au premier tour)\n",
        "- Cr\u00e9er une table o\u00f9 l'observation est le d\u00e9partement  (une ligne par d\u00e9partement) avec les r\u00e9sulats de chaque candidat aux \u00e9lections dans une colonne qui porte le nom + pr\u00e9nom du candidat. Autrement dit, renommez la colonne Voix.X en nom+pr\u00e9nom du candidat;\n",
        "- Appliquer le m\u00eame traitement \u00e0 l'onglet \"d\u00e9partement T2\" (r\u00e9sultats de l'\u00e9lection aux 2\u00e8me tour)\n",
        "- Calculer le pourcentage de votes pour chaque tour et chaque candidat pr\u00e9sent au 2nd tour (F. HOLLANDE & N. SARKOZY)\n",
        "- Repr\u00e9senter la corr\u00e9lation entre les pourcentages du tour 1 et ceux du tour 2 pour Fran\u00e7ois Hollande\n",
        "- Ajouter la m\u00eame corr\u00e9lation pour N. Sarkozy\n",
        "- Repr\u00e9senter pour l'ensemble des d\u00e9partements la part des votants en faveur de l'un et de l'autre au 2nd tour (en utilisant un graphique de type stack bar)\n",
        "- Repr\u00e9senter la part des votes du candidat arriv\u00e9 en t\u00eate au premier tour"
      ]
    },
    {
      "cell_type": "code",
      "execution_count": null,
      "metadata": {
        "collapsed": true
      },
      "outputs": [],
      "source": []
    }
  ],
  "metadata": {
    "anaconda-cloud": {},
    "kernelspec": {
      "display_name": "Python 3",
      "language": "python",
      "name": "python3"
    },
    "language_info": {
      "codemirror_mode": {
        "name": "ipython",
        "version": 3
      },
      "file_extension": ".py",
      "mimetype": "text/x-python",
      "name": "python",
      "nbconvert_exporter": "python",
      "pygments_lexer": "ipython3",
      "version": "3.6.1"
    }
  },
  "nbformat": 4,
  "nbformat_minor": 1
}