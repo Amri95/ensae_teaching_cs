{
  "cells": [
    {
      "cell_type": "markdown",
      "metadata": {},
      "source": [
        "# 1A.2 : Modules, fichiers, expressions r\u00e9guli\u00e8res\n",
        "\n",
        "Le langage Python est d\u00e9fini par un ensemble de r\u00e8gle, une grammaire. Seul, il n'est bon qu'\u00e0 faire des calculs. Les modules sont des collections de fonctionnalit\u00e9s pour interagir avec des capteurs ou des \u00e9crans ou pour faire des calculs plus rapides ou plus complexes."
      ]
    },
    {
      "cell_type": "code",
      "execution_count": null,
      "metadata": {},
      "outputs": [
        {
          "data": {
            "text/html": [
              "<div id=\"my_id_menu_nb\">run previous cell, wait for 2 seconds</div>\n",
              "<script>\n",
              "function repeat_indent_string(n){\n",
              "    var a = \"\" ;\n",
              "    for ( ; n > 0 ; --n)\n",
              "        a += \"    \";\n",
              "    return a;\n",
              "}\n",
              "var update_menu_string = function(begin, lfirst, llast, sformat, send, keep_item, begin_format, end_format) {\n",
              "    var anchors = document.getElementsByClassName(\"section\");\n",
              "    if (anchors.length == 0) {\n",
              "        anchors = document.getElementsByClassName(\"text_cell_render rendered_html\");\n",
              "    }\n",
              "    var i,t;\n",
              "    var text_menu = begin;\n",
              "    var text_memo = \"<pre>\\nlength:\" + anchors.length + \"\\n\";\n",
              "    var ind = \"\";\n",
              "    var memo_level = 1;\n",
              "    var href;\n",
              "    var tags = [];\n",
              "    var main_item = 0;\n",
              "    var format_open = 0;\n",
              "    for (i = 0; i <= llast; i++)\n",
              "        tags.push(\"h\" + i);\n",
              "\n",
              "    for (i = 0; i < anchors.length; i++) {\n",
              "        text_memo += \"**\" + anchors[i].id + \"--\\n\";\n",
              "\n",
              "        var child = null;\n",
              "        for(t = 0; t < tags.length; t++) {\n",
              "            var r = anchors[i].getElementsByTagName(tags[t]);\n",
              "            if (r.length > 0) {\n",
              "child = r[0];\n",
              "break;\n",
              "            }\n",
              "        }\n",
              "        if (child == null) {\n",
              "            text_memo += \"null\\n\";\n",
              "            continue;\n",
              "        }\n",
              "        if (anchors[i].hasAttribute(\"id\")) {\n",
              "            // when converted in RST\n",
              "            href = anchors[i].id;\n",
              "            text_memo += \"#1-\" + href;\n",
              "            // passer \u00e0 child suivant (le chercher)\n",
              "        }\n",
              "        else if (child.hasAttribute(\"id\")) {\n",
              "            // in a notebook\n",
              "            href = child.id;\n",
              "            text_memo += \"#2-\" + href;\n",
              "        }\n",
              "        else {\n",
              "            text_memo += \"#3-\" + \"*\" + \"\\n\";\n",
              "            continue;\n",
              "        }\n",
              "        var title = child.textContent;\n",
              "        var level = parseInt(child.tagName.substring(1,2));\n",
              "\n",
              "        text_memo += \"--\" + level + \"?\" + lfirst + \"--\" + title + \"\\n\";\n",
              "\n",
              "        if ((level < lfirst) || (level > llast)) {\n",
              "            continue ;\n",
              "        }\n",
              "        if (title.endsWith('\u00b6')) {\n",
              "            title = title.substring(0,title.length-1).replace(\"<\", \"&lt;\")\n",
              "         .replace(\">\", \"&gt;\").replace(\"&\", \"&amp;\");\n",
              "        }\n",
              "        if (title.length == 0) {\n",
              "            continue;\n",
              "        }\n",
              "\n",
              "        while (level < memo_level) {\n",
              "            text_menu += end_format + \"</ul>\\n\";\n",
              "            format_open -= 1;\n",
              "            memo_level -= 1;\n",
              "        }\n",
              "        if (level == lfirst) {\n",
              "            main_item += 1;\n",
              "        }\n",
              "        if (keep_item != -1 && main_item != keep_item + 1) {\n",
              "            // alert(main_item + \" - \" + level + \" - \" + keep_item);\n",
              "            continue;\n",
              "        }\n",
              "        while (level > memo_level) {\n",
              "            text_menu += \"<ul>\\n\";\n",
              "            memo_level += 1;\n",
              "        }\n",
              "        text_menu += repeat_indent_string(level-2);\n",
              "        text_menu += begin_format + sformat.replace(\"__HREF__\", href).replace(\"__TITLE__\", title);\n",
              "        format_open += 1;\n",
              "    }\n",
              "    while (1 < memo_level) {\n",
              "        text_menu += end_format + \"</ul>\\n\";\n",
              "        memo_level -= 1;\n",
              "        format_open -= 1;\n",
              "    }\n",
              "    text_menu += send;\n",
              "    //text_menu += \"\\n\" + text_memo;\n",
              "\n",
              "    while (format_open > 0) {\n",
              "        text_menu += end_format;\n",
              "        format_open -= 1;\n",
              "    }\n",
              "    return text_menu;\n",
              "};\n",
              "var update_menu = function() {\n",
              "    var sbegin = \"\";\n",
              "    var sformat = '<a href=\"#__HREF__\">__TITLE__</a>';\n",
              "    var send = \"\";\n",
              "    var begin_format = '<li>';\n",
              "    var end_format = '</li>';\n",
              "    var keep_item = -1;\n",
              "    var text_menu = update_menu_string(sbegin, 2, 4, sformat, send, keep_item,\n",
              "       begin_format, end_format);\n",
              "    var menu = document.getElementById(\"my_id_menu_nb\");\n",
              "    menu.innerHTML=text_menu;\n",
              "};\n",
              "window.setTimeout(update_menu,2000);\n",
              "            </script>"
            ],
            "text/plain": [
              "<IPython.core.display.HTML object>"
            ]
          },
          "execution_count": null,
          "metadata": {},
          "output_type": "execute_result"
        }
      ],
      "source": [
        "from jyquickhelper import add_notebook_menu\n",
        "add_notebook_menu()"
      ]
    },
    {
      "cell_type": "markdown",
      "metadata": {},
      "source": [
        "### Fichiers\n",
        "\n",
        "Les fichiers permettent deux usages principaux :\n",
        "\n",
        "- r\u00e9cup\u00e9rer des donn\u00e9es d'une ex\u00e9cution du programme \u00e0 l'autre (lorsque le programme s'arr\u00eate, toutes les variables sont perdues)\n",
        "- \u00e9changer des informations avec d'autres programmes (Excel par exemple).\n",
        "\n",
        "Le format le plus souvent utilis\u00e9 est le fichier plat, texte, txt, csv, tsv. C'est un fichier qui contient une information structur\u00e9e sous forme de matrice, en ligne et colonne car c'est comme que les informations num\u00e9riques se pr\u00e9sentent le plus souvent. Un fichier est une longue s\u00e9quence de caract\u00e8res. Il a fallu choisir une convention pour dire que deux ensembles de caract\u00e8res ne font pas partie de la m\u00eame colonne ou de la m\u00eame ligne. La convention la plus r\u00e9pandue est :\n",
        "\n",
        "* ``\\t`` : s\u00e9parateur de colonnes\n",
        "* ``\\n`` : s\u00e9parateur de lignes\n",
        "\n",
        "Le caract\u00e8re ``\\`` indique au langage python que le caract\u00e8re qui suit fait partie d'un code. Vous trouverez la liste des codes : [String and Bytes literals](https://docs.python.org/3.4/reference/lexical_analysis.html#string-and-bytes-literals).\n",
        "\n",
        "**Apart\u00e9 :** aujourd'hui, lire et \u00e9crire des fichiers est tellement fr\u00e9quent qu'il existe des outils qui font \u00e7a dans une grande vari\u00e9t\u00e9 de formats. Vous d\u00e9couvrirez cela lors de la [s\u00e9ance 10](http://www.xavierdupre.fr/app/ensae_teaching_cs/helpsphinx/notebooks/td1a_cenonce_session_10.html). Il est utile pourtant de le faire au moins une fois soi-m\u00eame pour comprendre la logique des outils et pour ne pas \u00eatre bloqu\u00e9 dans les cas non pr\u00e9vus.\n",
        "\n",
        "Ecrire et lire des fichiers est beaucoup plus long que de jouer avec des variables. Ecrire signifie qu'on enregistre les donn\u00e9es sur le disque dur : elles passent du programme au disque dur (elles deviennent permanentes). Elles font le chemin inverse lors de la lecture."
      ]
    },
    {
      "cell_type": "markdown",
      "metadata": {},
      "source": [
        "#### Ecriture\n",
        "\n",
        "Il est important de retenir qu'un fichier texte ne peut recevoir que des cha\u00eenes de caract\u00e8res."
      ]
    },
    {
      "cell_type": "code",
      "execution_count": null,
      "metadata": {},
      "outputs": [
        {
          "name": "stdout",
          "output_type": "stream",
          "text": [
            "['mat.txt']\n"
          ]
        }
      ],
      "source": [
        "mat = [[1.0, 0.0],[0.0,1.0] ]                    # matrice de type liste de listes\n",
        "with open (\"mat.txt\", \"w\") as f :                # cr\u00e9ation d'un fichier en mode \u00e9criture\n",
        "    for i in range (0,len (mat)) :               # \n",
        "        for j in range (0, len (mat [i])) :      # \n",
        "            s = str (mat [i][j])                 # conversion en cha\u00eene de caract\u00e8res\n",
        "            f.write (s + \"\\t\")                   #\n",
        "        f.write (\"\\n\")                           # \n",
        "        \n",
        "# on v\u00e9rifie que le fichier existe : \n",
        "import os\n",
        "print([ _ for _ in os.listdir(\".\") if \"mat\" in _ ] )\n",
        "\n",
        "# la ligne pr\u00e9c\u00e9dente utilise le symbole _ : c'est une variable \n",
        "# le caract\u00e8re _ est une lettre comme une autre\n",
        "# on pourrait \u00e9crire :\n",
        "# print([ fichier for fichier in os.listdir(\".\") if \"mat\" in fichier ] )\n",
        "# on utilise cette convention pour dire que cette variable n'a pas vocation \u00e0 rester"
      ]
    },
    {
      "cell_type": "markdown",
      "metadata": {},
      "source": [
        "Le m\u00eame programme mais \u00e9crit avec une \u00e9criture consend\u00e9e :"
      ]
    },
    {
      "cell_type": "code",
      "execution_count": null,
      "metadata": {},
      "outputs": [
        {
          "name": "stdout",
          "output_type": "stream",
          "text": [
            "['mat.txt', 'mat2.txt']\n"
          ]
        }
      ],
      "source": [
        "mat = [[1.0, 0.0],[0.0,1.0] ]             # matrice de type liste de listes\n",
        "with open (\"mat.txt\", \"w\") as f :        # cr\u00e9ation d'un fichier\n",
        "    s = '\\n'.join ( '\\t'.join( str(x) for x in row  ) for row in mat )\n",
        "    f.write ( s )\n",
        "    \n",
        "# on v\u00e9rifie que le fichier existe : \n",
        "print([ _ for _ in os.listdir(\".\") if \"mat\" in _ ] )    "
      ]
    },
    {
      "cell_type": "markdown",
      "metadata": {},
      "source": [
        "On regare les premi\u00e8res lignes du fichier ``mat2.txt`` :"
      ]
    },
    {
      "cell_type": "code",
      "execution_count": null,
      "metadata": {},
      "outputs": [
        {
          "data": {
            "text/html": [
              "<pre>\n",
              "1.0\t0.0\n",
              "0.0\t1.0\n",
              "</pre>"
            ],
            "text/plain": [
              "<IPython.core.display.HTML at 0x87e49b0>"
            ]
          },
          "execution_count": null,
          "metadata": {},
          "output_type": "execute_result"
        }
      ],
      "source": [
        "import pyensae\n",
        "%load_ext pyensae\n",
        "%head mat.txt"
      ]
    },
    {
      "cell_type": "markdown",
      "metadata": {},
      "source": [
        "#### Lecture"
      ]
    },
    {
      "cell_type": "code",
      "execution_count": null,
      "metadata": {},
      "outputs": [
        {
          "name": "stdout",
          "output_type": "stream",
          "text": [
            "[['1.0', '0.0'], ['0.0', '1.0']]\n"
          ]
        }
      ],
      "source": [
        "with open (\"mat.txt\", \"r\") as f : # ouverture d'un fichier\n",
        "    mat = [ row.strip(' \\n').split('\\t') for row in f.readlines() ]\n",
        "print(mat)"
      ]
    },
    {
      "cell_type": "markdown",
      "metadata": {},
      "source": [
        "On retrouve les m\u00eames informations \u00e0 ceci pr\u00e8s qu'il ne faut pas oublier de convertir les nombres initiaux en ``float``."
      ]
    },
    {
      "cell_type": "code",
      "execution_count": null,
      "metadata": {},
      "outputs": [
        {
          "name": "stdout",
          "output_type": "stream",
          "text": [
            "[[1.0, 0.0], [0.0, 1.0]]\n"
          ]
        }
      ],
      "source": [
        "with open (\"mat.txt\", \"r\") as f :                # ouverture d'un fichier\n",
        "    mat = [ [ float(x) for x in row.strip(' \\n').split('\\t') ] for row in f.readlines() ]\n",
        "print(mat)"
      ]
    },
    {
      "cell_type": "markdown",
      "metadata": {},
      "source": [
        "Voil\u00e0 qui est mieux. Le module [os.path](https://docs.python.org/3.4/library/os.path.html) propose diff\u00e9rentes fonctions pour manipuler les noms de fichiers. Le module [os](http://docs.python.org/3.3/library/os.html#module-os) propose diff\u00e9rentes fonctions pour manipuler les fichiers :"
      ]
    },
    {
      "cell_type": "code",
      "execution_count": null,
      "metadata": {},
      "outputs": [
        {
          "name": "stdout",
          "output_type": "stream",
          "text": [
            ".ipynb_checkpoints\n",
            "etatcivil2012_mar2012_dbase.zip\n",
            "etatcivil2012_nais2012_dbase.zip\n",
            "example_bokeh.html\n",
            "exemple.xlsx\n",
            "facebook\n",
            "facebook.tar.gz\n",
            "graph_notebook_ski.png\n",
            "lisezmoi_MAR2012.txt\n",
            "lisezmoi_NAIS2012.txt\n",
            "mar2012.dbf\n",
            "mat.txt\n",
            "mat2.txt\n",
            "nais2012.dbf\n",
            "patates.png\n",
            "pngbokeh.png\n",
            "python_filtre.png\n",
            "python_filtre2.png\n",
            "python_filtre3.png\n",
            "td10exc.png\n",
            "td11_cor_grid.png\n",
            "td1a_cenonce_session1.ipynb\n",
            "td1a_cenonce_session2.ipynb\n",
            "td1a_cenonce_session3.ipynb\n",
            "td1a_cenonce_session4.ipynb\n",
            "td1a_cenonce_session5.ipynb\n",
            "td1a_cenonce_session6.ipynb\n",
            "td1a_cenonce_session7.ipynb\n",
            "td1a_cenonce_session8.ipynb\n",
            "td1a_cenonce_session9.ipynb\n",
            "td1a_cenonce_session_10.ipynb\n",
            "td1a_cenonce_session_11.ipynb\n",
            "td1a_cenonce_session_12.ipynb\n",
            "td1a_correction_session1.ipynb\n",
            "td1a_correction_session2.ipynb\n",
            "td1a_correction_session3.ipynb\n",
            "td1a_correction_session4.ipynb\n",
            "td1a_correction_session5.ipynb\n",
            "td1a_correction_session6.ipynb\n",
            "td1a_correction_session7.ipynb\n",
            "td1a_correction_session8.ipynb\n",
            "td1a_correction_session9.ipynb\n",
            "td1a_correction_session_10.ipynb\n",
            "td1a_correction_session_11.ipynb\n",
            "td1a_correction_session_12.ipynb\n",
            "td2_1.png\n",
            "varlist_mariages.dbf\n",
            "varlist_naissances.dbf\n",
            "varmod_mariages.dbf\n",
            "varmod_naissances.dbf\n",
            "wiki_trie.png\n",
            "wiki_trie2.png\n"
          ]
        }
      ],
      "source": [
        "import os\n",
        "for f in os.listdir('.'):\n",
        "    print (f)"
      ]
    },
    {
      "cell_type": "markdown",
      "metadata": {},
      "source": [
        "#### with\n",
        "\n",
        "De fa\u00e7on pragmatique, l'instruction [with](https://docs.python.org/3.4/reference/compound_stmts.html#with) permet d'\u00e9crire un code plus court d'une instruction : ``close``. Les deux bouts de code suivant sont \u00e9quivalents :"
      ]
    },
    {
      "cell_type": "code",
      "execution_count": null,
      "metadata": {
        "collapsed": true
      },
      "outputs": [],
      "source": [
        "with open(\"exemple_fichier.txt\", \"w\") as f:\n",
        "    f.write(\"something\")"
      ]
    },
    {
      "cell_type": "code",
      "execution_count": null,
      "metadata": {
        "collapsed": true
      },
      "outputs": [],
      "source": [
        "f = open(\"exemple_fichier.txt\", \"w\")\n",
        "f.write(\"something\")\n",
        "f.close()"
      ]
    },
    {
      "cell_type": "markdown",
      "metadata": {},
      "source": [
        "L'instruction ``close`` *ferme* le fichier. A l'ouverture, le fichier est r\u00e9serv\u00e9 par le programme Python, aucune autre application ne peut \u00e9crire dans le m\u00eame fichier. Apr\u00e8s l'instruction ``close``, une autre application pour le supprimer, le modifier. Avec le mot cl\u00e9 ``with``, la m\u00e9thode ``close`` est implicitement appel\u00e9e."
      ]
    },
    {
      "cell_type": "markdown",
      "metadata": {},
      "source": [
        "#### \u00e0 quoi \u00e7a sert ?\n",
        "\n",
        "On \u00e9crit tr\u00e8s rarement un fichier texte. Ce format est le seul reconnu par toutes les applications. Tous les logiciels, tous les langages proposent des fonctionnalit\u00e9s qui exportent les donn\u00e9es dans un format texte. Dans certaines circonstances, les outils standards ne fonctionnent pas - trop grops volumes de donn\u00e9es, probl\u00e8me d'encoding, caract\u00e8re inattendu -. Il faut se d\u00e9brouiller."
      ]
    },
    {
      "cell_type": "code",
      "execution_count": null,
      "metadata": {
        "collapsed": true
      },
      "outputs": [],
      "source": []
    },
    {
      "cell_type": "markdown",
      "metadata": {},
      "source": [
        "### Exercice 1 : Excel $\\rightarrow$ Python $\\rightarrow$ Excel\n",
        "    \n",
        "Il faut t\u00e9l\u00e9charger le fichier [seance4_excel.xlsx](http://www.xavierdupre.fr/enseignement/complements/seance4_excel.xlsx) qui contient une table de trois colonnes. Il faut :\n",
        "\n",
        "- enregistrer le fichier au format texte,\n",
        "- le lire sous python\n",
        "- cr\u00e9er une matrice carr\u00e9e 3x3 o\u00f9 chaque valeur est dans sa case (X,Y),\n",
        "- enregistrer le r\u00e9sultat sous format texte,\n",
        "- le r\u00e9cup\u00e9rer sous Excel.    "
      ]
    },
    {
      "cell_type": "markdown",
      "metadata": {},
      "source": [
        "### Autres formats de fichiers\n",
        "\n",
        "Les fichiers texte sont les plus simples \u00e0 manipuler mais il existe d'autres formats classiques~:\n",
        "\n",
        "- [html](http://fr.wikipedia.org/wiki/Hypertext_Markup_Language) : les pages web\n",
        "- [xml](http://fr.wikipedia.org/wiki/Extensible_Markup_Language) : donn\u00e9es structur\u00e9es\n",
        "- [zip](http://fr.wikipedia.org/wiki/ZIP_(format_de_fichier), [gz](http://fr.wikipedia.org/wiki/Gzip) : donn\u00e9es compress\u00e9es\n",
        "- [wav](http://fr.wikipedia.org/wiki/WAVEform_audio_format), [mp3](http://fr.wikipedia.org/wiki/MPEG-1/2_Audio_Layer_3), [ogg](http://fr.wikipedia.org/wiki/Ogg) : musique\n",
        "- [mp4](http://fr.wikipedia.org/wiki/MPEG-4), [Vorbis](http://fr.wikipedia.org/wiki/Vorbis) : vid\u00e9o\n",
        "- ..."
      ]
    },
    {
      "cell_type": "markdown",
      "metadata": {},
      "source": [
        "### Modules\n",
        "\n",
        "Les modules sont des extensions du langages. Python ne sait quasiment rien faire seul mais il b\u00e9n\u00e9ficie de nombreuses extensions. On distingue souvent les extensions pr\u00e9sentes lors de l'installation du langage (le module [math](https://docs.python.org/3.4/library/math.html)) des extensions externes qu'il faut soi-m\u00eame installer ([numpy](http://www.numpy.org/)). Deux liens :\n",
        "\n",
        "- [modules officiels](http://docs.python.org/3.4/library/)\n",
        "- [modules externes](https://pypi.python.org/pypi)\n",
        "\n",
        "Le premier r\u00e9flexe est toujours de regarder si un module ne pourrait pas vous \u00eatre utile avant de commencer \u00e0 programmer. Pour utiliser une fonction d'un module, on utilise l'une des syntaxes suivantes :"
      ]
    },
    {
      "cell_type": "code",
      "execution_count": null,
      "metadata": {},
      "outputs": [
        {
          "name": "stdout",
          "output_type": "stream",
          "text": [
            "0.5403023058681397\n",
            "0.5403023058681397\n",
            "0.5403023058681397\n"
          ]
        }
      ],
      "source": [
        "import math\n",
        "print (math.cos(1))\n",
        "\n",
        "from math import cos\n",
        "print (cos(1))\n",
        "\n",
        "from math import *    # cette syntaxe est d\u00e9conseill\u00e9e car il est possible qu'une fonction\n",
        "print (cos(1))        # porte le m\u00eame nom qu'une des v\u00f4tres"
      ]
    },
    {
      "cell_type": "markdown",
      "metadata": {},
      "source": [
        "### Exercice 2 : trouver un module (1)\n",
        "\n",
        "Aller \u00e0 la page [modules officiels](http://docs.python.org/3.4/library/) (ou utiliser un moteur de recherche) pour trouver un module permettant de g\u00e9n\u00e9rer des nombres al\u00e9atoires. Cr\u00e9er une liste de nombres al\u00e9atoires selon une loi uniforme puis faire une permutation al\u00e9atoire de cette s\u00e9quence."
      ]
    },
    {
      "cell_type": "markdown",
      "metadata": {},
      "source": [
        "### Exercice 3 : trouver un module (2)\n",
        "\n",
        "Trouver un module qui vous permette de calculer la diff\u00e9rence entre deux dates puis d\u00e9terminer le jour de la semaine o\u00f9 vous \u00eates n\u00e9s."
      ]
    },
    {
      "cell_type": "markdown",
      "metadata": {},
      "source": [
        "### Module qu'on cr\u00e9e soi-m\u00eame\n",
        "\n",
        "Il est possible de r\u00e9partir son programme en plusieurs fichiers. Par exemple, un premier fichier ``monmodule.py`` qui contient une fonction :"
      ]
    },
    {
      "cell_type": "code",
      "execution_count": null,
      "metadata": {
        "collapsed": true
      },
      "outputs": [],
      "source": [
        "# fichier monmodule.py\n",
        "import math\n",
        "\n",
        "def fonction_cos_sequence(seq) :\n",
        "    return [ math.cos(x) for x in seq ]\n",
        "\n",
        "if __name__ == \"__main__\" :\n",
        "    # et une petite astuce quand on travaille sous notebook\n",
        "    code = \"\"\"\n",
        "        # -*- coding: utf-8 -*-\n",
        "        import math\n",
        "        def fonction_cos_sequence(seq) :\n",
        "            return [ math.cos(x) for x in seq ]        \n",
        "        if __name__ == \"__main__\" :\n",
        "            print (\"ce message n'appara\u00eet que si ce programme est le point d'entr\u00e9e\")\n",
        "        \"\"\".replace(\"        \",\"\")\n",
        "    with open(\"monmodule.py\", \"w\", encoding=\"utf8\") as f :\n",
        "        f.write(code)"
      ]
    },
    {
      "cell_type": "markdown",
      "metadata": {},
      "source": [
        "Le second fichier :"
      ]
    },
    {
      "cell_type": "code",
      "execution_count": null,
      "metadata": {},
      "outputs": [
        {
          "name": "stdout",
          "output_type": "stream",
          "text": [
            "[0.5403023058681397, -0.4161468365471424, -0.9899924966004454]\n"
          ]
        }
      ],
      "source": [
        "import monmodule\n",
        "\n",
        "print ( monmodule.fonction_cos_sequence ( [ 1, 2, 3 ] ) )"
      ]
    },
    {
      "cell_type": "markdown",
      "metadata": {},
      "source": [
        "### Exercice 4 : son propre module\n",
        "\n",
        "Que se passe-t-il si vous remplacez ``if __name__ == \"__main__\":``  par ``if True :`` ?"
      ]
    },
    {
      "cell_type": "markdown",
      "metadata": {},
      "source": [
        "### Expressions r\u00e9guli\u00e8res\n",
        "\n",
        "Pour la suite de la s\u00e9ance, on utilise comme pr\u00e9ambule les instructions suivantes :"
      ]
    },
    {
      "cell_type": "code",
      "execution_count": null,
      "metadata": {},
      "outputs": [
        {
          "name": "stdout",
          "output_type": "stream",
          "text": [
            "    downloading of  http://www.xavierdupre.fr/enseignement/complements/voeux.zip  to  voeux.zip\n",
            "    unzipped  VOEUX01.txt  to  .\\VOEUX01.txt\n",
            "    unzipped  VOEUX05.txt  to  .\\VOEUX05.txt\n",
            "    unzipped  VOEUX06.txt  to  .\\VOEUX06.txt\n",
            "    unzipped  VOEUX07.txt  to  .\\VOEUX07.txt\n",
            "    unzipped  VOEUX08.txt  to  .\\VOEUX08.txt\n",
            "    unzipped  VOEUX09.txt  to  .\\VOEUX09.txt\n",
            "    unzipped  VOEUX74.txt  to  .\\VOEUX74.txt\n",
            "    unzipped  VOEUX75.txt  to  .\\VOEUX75.txt\n",
            "    unzipped  VOEUX79.txt  to  .\\VOEUX79.txt\n",
            "    unzipped  VOEUX83.txt  to  .\\VOEUX83.txt\n",
            "    unzipped  VOEUX87.txt  to  .\\VOEUX87.txt\n",
            "    unzipped  VOEUX89.txt  to  .\\VOEUX89.txt\n",
            "    unzipped  VOEUX90.txt  to  .\\VOEUX90.txt\n",
            "    unzipped  VOEUX94.txt  to  .\\VOEUX94.txt\n"
          ]
        }
      ],
      "source": [
        "import pyensae\n",
        "discours = pyensae.download_data('voeux.zip', website = 'xd')"
      ]
    },
    {
      "cell_type": "markdown",
      "metadata": {},
      "source": [
        "La documentation pour les expressions r\u00e9guli\u00e8res est ici : [regular expressions](http://docs.python.org/3.3/library/re.html). Elles permettent de rechercher des motifs dans un texte :\n",
        "\n",
        "- _4 chiffres / 2 chiffres / 2 chiffres_ correspond au motif des dates, avec une expression r\u00e9guli\u00e8re, il s'\u00e9crit : ``[0-9]{4}/[0-9]{2}/[0-9]{2}``\n",
        "- _la lettre a r\u00e9p\u00e9t\u00e9 entre 2 et 10 fois_ est un autre motif, il s'\u00e9crit : ``a{2,10}``."
      ]
    },
    {
      "cell_type": "code",
      "execution_count": null,
      "metadata": {},
      "outputs": [
        {
          "name": "stdout",
          "output_type": "stream",
          "text": [
            "['28/12/1903', '08/02/1957']\n"
          ]
        }
      ],
      "source": [
        "import re   # les expressions r\u00e9guli\u00e8res sont accessibles via le module re\n",
        "expression = re.compile(\"[0-9]{2}/[0-9]{2}/[0-9]{4}\")\n",
        "texte = \"\"\"Je suis n\u00e9 le 28/12/1903 et je suis mort le 08/02/1957. Ma seconde femme est morte le 10/11/63.\"\"\"\n",
        "cherche = expression.findall(texte)\n",
        "print(cherche)"
      ]
    },
    {
      "cell_type": "markdown",
      "metadata": {},
      "source": [
        "Pourquoi la troisi\u00e8me date n'appara\u00eet pas dans la liste de r\u00e9sultats ?"
      ]
    },
    {
      "cell_type": "markdown",
      "metadata": {},
      "source": [
        "### Exercice 5 : chercher un motif dans un texte\n",
        "\n",
        "On souhaite obtenir toutes les s\u00e9quences de lettres commen\u00e7ant par _je_ ? Quel est le motif correspondant ? Il ne reste plus qu'\u00e0 terminer le programme pr\u00e9c\u00e9dent."
      ]
    },
    {
      "cell_type": "code",
      "execution_count": null,
      "metadata": {
        "collapsed": true
      },
      "outputs": [],
      "source": []
    },
    {
      "cell_type": "markdown",
      "metadata": {},
      "source": [
        "### Exercice 6 : chercher un autre motif dans un texte\n",
        "\n",
        "Avec la m\u00eame expression r\u00e9guli\u00e8re, rechercher indiff\u00e9remment le mot _securite_ ou _insecurite_."
      ]
    },
    {
      "cell_type": "code",
      "execution_count": null,
      "metadata": {
        "collapsed": true
      },
      "outputs": [],
      "source": []
    },
    {
      "cell_type": "markdown",
      "metadata": {},
      "source": [
        "On peut passer du temps \u00e0 construire des expressions assez complexes surtout quand on oublie quelques [Petites subtilit\u00e9s avec les expressions r\u00e9guli\u00e8res en Python](http://www.xavierdupre.fr/blog/2014-12-02_nojs.html)."
      ]
    },
    {
      "cell_type": "markdown",
      "metadata": {},
      "source": [
        "### Exercice 7 : construire un texte \u00e0 motif\n",
        "\n",
        "A l'inverse des expressions r\u00e9guli\u00e8res, des modules comme [Mako](http://www.makotemplates.org/) ou [Jinja2](http://jinja.pocoo.org/docs/dev/) permettent de construire simplement des documents qui suivent des r\u00e8gles. Ces outils sont tr\u00e8s utilis\u00e9s pour la construction de page web. On appelle cela faire du [templating](https://wiki.python.org/moin/Templating). Cr\u00e9er une page web qui affiche \u00e0 l'aide d'un des modules la liste des dimanches de cette ann\u00e9e."
      ]
    },
    {
      "cell_type": "code",
      "execution_count": null,
      "metadata": {
        "collapsed": true
      },
      "outputs": [],
      "source": []
    }
  ],
  "metadata": {
    "kernelspec": {
      "display_name": "Python 3",
      "language": "python",
      "name": "python3"
    },
    "language_info": {
      "codemirror_mode": {
        "name": "ipython",
        "version": 3
      },
      "file_extension": ".py",
      "mimetype": "text/x-python",
      "name": "python",
      "nbconvert_exporter": "python",
      "pygments_lexer": "ipython3",
      "version": "3.6.1"
    }
  },
  "nbformat": 4,
  "nbformat_minor": 1
}