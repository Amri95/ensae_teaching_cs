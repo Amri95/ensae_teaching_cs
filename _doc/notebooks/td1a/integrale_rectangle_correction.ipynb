{
  "cells": [
    {
      "cell_type": "markdown",
      "metadata": {},
      "source": [
        "# 1A.1 - Int\u00e9grale et la m\u00e9thode des rectangles - correction\n",
        "\n",
        "Approximation du calcul d'une int\u00e9grale par la m\u00e9thode des rectangles."
      ]
    },
    {
      "cell_type": "code",
      "execution_count": null,
      "metadata": {
        "collapsed": true
      },
      "outputs": [],
      "source": [
        "%matplotlib inline"
      ]
    },
    {
      "cell_type": "code",
      "execution_count": null,
      "metadata": {},
      "outputs": [
        {
          "data": {
            "text/html": [
              "<div id=\"my_id_menu_nb\">run previous cell, wait for 2 seconds</div>\n",
              "<script>\n",
              "function repeat_indent_string(n){\n",
              "    var a = \"\" ;\n",
              "    for ( ; n > 0 ; --n)\n",
              "        a += \"    \";\n",
              "    return a;\n",
              "}\n",
              "var update_menu_string = function(begin, lfirst, llast, sformat, send, keep_item, begin_format, end_format) {\n",
              "    var anchors = document.getElementsByClassName(\"section\");\n",
              "    if (anchors.length == 0) {\n",
              "        anchors = document.getElementsByClassName(\"text_cell_render rendered_html\");\n",
              "    }\n",
              "    var i,t;\n",
              "    var text_menu = begin;\n",
              "    var text_memo = \"<pre>\\nlength:\" + anchors.length + \"\\n\";\n",
              "    var ind = \"\";\n",
              "    var memo_level = 1;\n",
              "    var href;\n",
              "    var tags = [];\n",
              "    var main_item = 0;\n",
              "    var format_open = 0;\n",
              "    for (i = 0; i <= llast; i++)\n",
              "        tags.push(\"h\" + i);\n",
              "\n",
              "    for (i = 0; i < anchors.length; i++) {\n",
              "        text_memo += \"**\" + anchors[i].id + \"--\\n\";\n",
              "\n",
              "        var child = null;\n",
              "        for(t = 0; t < tags.length; t++) {\n",
              "            var r = anchors[i].getElementsByTagName(tags[t]);\n",
              "            if (r.length > 0) {\n",
              "child = r[0];\n",
              "break;\n",
              "            }\n",
              "        }\n",
              "        if (child == null) {\n",
              "            text_memo += \"null\\n\";\n",
              "            continue;\n",
              "        }\n",
              "        if (anchors[i].hasAttribute(\"id\")) {\n",
              "            // when converted in RST\n",
              "            href = anchors[i].id;\n",
              "            text_memo += \"#1-\" + href;\n",
              "            // passer \u00e0 child suivant (le chercher)\n",
              "        }\n",
              "        else if (child.hasAttribute(\"id\")) {\n",
              "            // in a notebook\n",
              "            href = child.id;\n",
              "            text_memo += \"#2-\" + href;\n",
              "        }\n",
              "        else {\n",
              "            text_memo += \"#3-\" + \"*\" + \"\\n\";\n",
              "            continue;\n",
              "        }\n",
              "        var title = child.textContent;\n",
              "        var level = parseInt(child.tagName.substring(1,2));\n",
              "\n",
              "        text_memo += \"--\" + level + \"?\" + lfirst + \"--\" + title + \"\\n\";\n",
              "\n",
              "        if ((level < lfirst) || (level > llast)) {\n",
              "            continue ;\n",
              "        }\n",
              "        if (title.endsWith('\u00b6')) {\n",
              "            title = title.substring(0,title.length-1).replace(\"<\", \"&lt;\")\n",
              "         .replace(\">\", \"&gt;\").replace(\"&\", \"&amp;\");\n",
              "        }\n",
              "        if (title.length == 0) {\n",
              "            continue;\n",
              "        }\n",
              "\n",
              "        while (level < memo_level) {\n",
              "            text_menu += end_format + \"</ul>\\n\";\n",
              "            format_open -= 1;\n",
              "            memo_level -= 1;\n",
              "        }\n",
              "        if (level == lfirst) {\n",
              "            main_item += 1;\n",
              "        }\n",
              "        if (keep_item != -1 && main_item != keep_item + 1) {\n",
              "            // alert(main_item + \" - \" + level + \" - \" + keep_item);\n",
              "            continue;\n",
              "        }\n",
              "        while (level > memo_level) {\n",
              "            text_menu += \"<ul>\\n\";\n",
              "            memo_level += 1;\n",
              "        }\n",
              "        text_menu += repeat_indent_string(level-2);\n",
              "        text_menu += begin_format + sformat.replace(\"__HREF__\", href).replace(\"__TITLE__\", title);\n",
              "        format_open += 1;\n",
              "    }\n",
              "    while (1 < memo_level) {\n",
              "        text_menu += end_format + \"</ul>\\n\";\n",
              "        memo_level -= 1;\n",
              "        format_open -= 1;\n",
              "    }\n",
              "    text_menu += send;\n",
              "    //text_menu += \"\\n\" + text_memo;\n",
              "\n",
              "    while (format_open > 0) {\n",
              "        text_menu += end_format;\n",
              "        format_open -= 1;\n",
              "    }\n",
              "    return text_menu;\n",
              "};\n",
              "var update_menu = function() {\n",
              "    var sbegin = \"\";\n",
              "    var sformat = '<a href=\"#__HREF__\">__TITLE__</a>';\n",
              "    var send = \"\";\n",
              "    var begin_format = '<li>';\n",
              "    var end_format = '</li>';\n",
              "    var keep_item = -1;\n",
              "    var text_menu = update_menu_string(sbegin, 2, 4, sformat, send, keep_item,\n",
              "       begin_format, end_format);\n",
              "    var menu = document.getElementById(\"my_id_menu_nb\");\n",
              "    menu.innerHTML=text_menu;\n",
              "};\n",
              "window.setTimeout(update_menu,2000);\n",
              "            </script>"
            ],
            "text/plain": [
              "<IPython.core.display.HTML object>"
            ]
          },
          "execution_count": null,
          "metadata": {},
          "output_type": "execute_result"
        }
      ],
      "source": [
        "from jyquickhelper import add_notebook_menu\n",
        "add_notebook_menu()"
      ]
    },
    {
      "cell_type": "markdown",
      "metadata": {},
      "source": [
        "## Calcul de l'int\u00e9grale"
      ]
    },
    {
      "cell_type": "code",
      "execution_count": null,
      "metadata": {
        "collapsed": true
      },
      "outputs": [],
      "source": [
        "a = -2\n",
        "b = 3\n",
        "n = 20"
      ]
    },
    {
      "cell_type": "code",
      "execution_count": null,
      "metadata": {},
      "outputs": [
        {
          "data": {
            "text/plain": [
              "-2.6145744834544478"
            ]
          },
          "execution_count": null,
          "metadata": {},
          "output_type": "execute_result"
        }
      ],
      "source": [
        "import math\n",
        "f = lambda x: x * math.cos (x)\n",
        "f(4)"
      ]
    },
    {
      "cell_type": "code",
      "execution_count": null,
      "metadata": {},
      "outputs": [
        {
          "data": {
            "text/plain": [
              "0.55"
            ]
          },
          "execution_count": null,
          "metadata": {},
          "output_type": "execute_result"
        }
      ],
      "source": [
        "def integrale(f, a, b, n):\n",
        "    somme = 0\n",
        "    h = float(b-a) / n\n",
        "    x = a\n",
        "    for i in range(0, n + 1):\n",
        "        somme += f(x) * h\n",
        "        x += h\n",
        "    return somme\n",
        "\n",
        "# On v\u00e9rifie ave un cas simple.\n",
        "integrale(lambda x: x, 0, 1, 10)"
      ]
    },
    {
      "cell_type": "code",
      "execution_count": null,
      "metadata": {},
      "outputs": [
        {
          "data": {
            "text/plain": [
              "-2.2320146802585272"
            ]
          },
          "execution_count": null,
          "metadata": {},
          "output_type": "execute_result"
        }
      ],
      "source": [
        "integrale(f, a, b, n)"
      ]
    },
    {
      "cell_type": "markdown",
      "metadata": {},
      "source": [
        "Il faut \u00e9crire la fonction qui calcule l'int\u00e9grale."
      ]
    },
    {
      "cell_type": "markdown",
      "metadata": {},
      "source": [
        "## Calcul de pr\u00e9cision\n",
        "\n",
        "On essaye toutes les valeurs de $n$ jusqu'\u00e0 obtenir la pr\u00e9cision souhait\u00e9e en supposant qu'elle est obtenue \u00e0 partir du moment o\u00f9 la diff\u00e9rence relative entre deux valeurs successives est inf\u00e9rieure \u00e0 la pr\u00e9cision."
      ]
    },
    {
      "cell_type": "code",
      "execution_count": null,
      "metadata": {},
      "outputs": [
        {
          "data": {
            "text/plain": [
              "(0.5050000000000003, 100)"
            ]
          },
          "execution_count": null,
          "metadata": {},
          "output_type": "execute_result"
        }
      ],
      "source": [
        "def integrale_precise(f, a, b, n0, precision):\n",
        "    val = integrale(f, a, b, n0)\n",
        "    val0 = None\n",
        "    while val0 is None or abs(val - val0) / val0 > precision:\n",
        "        val0 = val\n",
        "        n0 += 1\n",
        "        val = integrale(f, a, b, n0)\n",
        "    return val, n0\n",
        "\n",
        "integrale_precise(lambda x: x, 0, 1, 10, 1e-4)"
      ]
    },
    {
      "cell_type": "markdown",
      "metadata": {},
      "source": [
        "Le deuxi\u00e8me nombre indique que la valeur de $n$ n\u00e9cessaire."
      ]
    },
    {
      "cell_type": "code",
      "execution_count": null,
      "metadata": {},
      "outputs": [
        {
          "data": {
            "text/plain": [
              "(-2.2196877891927724, 21)"
            ]
          },
          "execution_count": null,
          "metadata": {},
          "output_type": "execute_result"
        }
      ],
      "source": [
        "integrale_precise(f, a, b, n, 1e-4)"
      ]
    },
    {
      "cell_type": "markdown",
      "metadata": {},
      "source": [
        "## Calcul plus rapide\n",
        "\n",
        "Imaginez un piano. A l'it\u00e9ration $n$, on calcule les touches blanches, \u00e0 l'it\u00e9ration $n+1$, les touches noires. A l'it\u00e9ration $n$, on calcule les $k$ rectangles de hauteur rouges, puis les $k$ verts \u00e0 $n+1$ puis les $2k$ \u00e0 $n+2$."
      ]
    },
    {
      "cell_type": "code",
      "execution_count": null,
      "metadata": {},
      "outputs": [
        {
          "data": {
            "image/png": "[encoded data removed]",
            "text/plain": [
              "<IPython.core.display.Image object>"
            ]
          },
          "execution_count": null,
          "metadata": {
            "image/png": {
              "width": 400
            }
          },
          "output_type": "execute_result"
        }
      ],
      "source": [
        "from pyquickhelper.helpgen import NbImage\n",
        "NbImage(\"images/int2.png\", width=400)"
      ]
    },
    {
      "cell_type": "code",
      "execution_count": null,
      "metadata": {},
      "outputs": [
        {
          "data": {
            "text/plain": [
              "(0.5000454610560389, 81920)"
            ]
          },
          "execution_count": null,
          "metadata": {},
          "output_type": "execute_result"
        }
      ],
      "source": [
        "def integrale_precise_2n(f, a, b, n0, precision):\n",
        "    val = integrale(f, a, b, n0)    \n",
        "    val0 = None\n",
        "    h = float(b-a) / n0\n",
        "    while val0 is None or abs(val - val0) / val0 > precision:\n",
        "        val0 = val\n",
        "        n0 *= 2\n",
        "        h /= 2\n",
        "        val = (val + integrale(f, a + h, b, n0)) / 2\n",
        "    return val, n0\n",
        "\n",
        "integrale_precise_2n(lambda x: x, 0, 1, 10, 1e-4)"
      ]
    },
    {
      "cell_type": "code",
      "execution_count": null,
      "metadata": {},
      "outputs": [
        {
          "data": {
            "text/plain": [
              "(-2.2169740198498182, 40)"
            ]
          },
          "execution_count": null,
          "metadata": {},
          "output_type": "execute_result"
        }
      ],
      "source": [
        "integrale_precise_2n(f, a, b, n, 1e-4)"
      ]
    },
    {
      "cell_type": "markdown",
      "metadata": {},
      "source": [
        "Qu'est-ce qui explique les diff\u00e9rences en pr\u00e9cision ? Dans le cas de cette int\u00e9grale, on veut calculer $\\int_0^1 xdx$. A l'it\u00e9ration $n$, on a : \n",
        "\n",
        "$$I(n)=\\frac{i}{n}\\sum_{i=1}^n \\frac{i}{n} = \\frac{n(n+1)}{2n^2} = \\frac{n+1}{2n} = \\frac{1}{2} + \\frac{1}{2n}$$\n",
        "\n",
        "On en d\u00e9duit que $I(n+1) - I(n) = \\frac{1}{2n+2} - \\frac{1}{2n} \\sim O(\\frac{1}{n^2})$. Autrement dit, l'algorithme s'arr\u00eate d\u00e8s que $\\frac{1}{n^2} < precision$ mais la somme des diff\u00e9rences qui resteraient \u00e0 calculer si on continuait n'est pas n\u00e9gligeable : \n",
        "\n",
        "$$\\sum_{i>k} I(n+1) - I(n) \\sim \\frac{1}{k}$$\n",
        "\n",
        "Pour cette int\u00e9grale, l'algorithme s'arr\u00eate alors que le chemin restant \u00e0 parcourir est aussi grand que la diff\u00e9rence entre deux valeurs successives."
      ]
    },
    {
      "cell_type": "markdown",
      "metadata": {},
      "source": [
        "La seconde version multiplie le nombre de calculs par deux \u00e0 chaque fois m\u00eame si elle \u00e9vite de recalculer les m\u00eames valeurs. Une fois qu'on a commenc\u00e9 une s\u00e9rie, il faut aller jusqu'au bout. C'est int\u00e9ressant si la fonction \u00e0 int\u00e9grer est longue \u00e0 calculer. \n",
        "\n",
        "L'int\u00e9grale converge pour toute fonction r\u00e9gl\u00e9e ou si l'ensemble de ses discontinuit\u00e9 est un ensemble de mesure nulle. On peut obtenir une autre propri\u00e9t\u00e9 si on suppose que la fonction est $C^1$ (la d\u00e9riv\u00e9e est continue). La d\u00e9riv\u00e9e admet un majorant et on s'en sert pour majorer la marge d'erreur."
      ]
    },
    {
      "cell_type": "code",
      "execution_count": null,
      "metadata": {},
      "outputs": [
        {
          "data": {
            "image/png": "[encoded data removed]",
            "text/plain": [
              "<IPython.core.display.Image object>"
            ]
          },
          "execution_count": null,
          "metadata": {
            "image/png": {
              "width": 400
            }
          },
          "output_type": "execute_result"
        }
      ],
      "source": [
        "NbImage(\"images/marge.png\", width=400)"
      ]
    },
    {
      "cell_type": "markdown",
      "metadata": {},
      "source": [
        "Chaque petit rectangle est de taille $h=\\frac{b-a}{n}$ et de hauteur maximal $M'h$ o\u00f9 $M'$ est un majorant de la d\u00e9riv\u00e9e. $M'=\\underset{x \\in [a,b]}{sup} \\left|f'(x)\\right|$. La marge d'incertitude v\u00e9rifie :\n",
        "\n",
        "$$m(h) \\leqslant nM'h^2 = \\frac{M'(b-a)^2}{n}$$"
      ]
    },
    {
      "cell_type": "markdown",
      "metadata": {},
      "source": [
        "C'est une suite d\u00e9croissante et pour obtenir une pr\u00e9cision $p$, il suffit de choisir $n$ tel que :\n",
        "\n",
        "$$n > \\frac{M'(b-a)^2}{p}$$"
      ]
    },
    {
      "cell_type": "markdown",
      "metadata": {},
      "source": [
        "Il faut maintenant estimer un majorant pour la d\u00e9riv\u00e9e. Comme on calcule la fonction pour un ensemble de points pris dans l'interval $x_i=(b-a)\\frac{i}{n} + a \\in [a,b]$, On peut le faire en calculant :\n",
        "\n",
        "$$M' \\sim \\max_i\\left\\{ \\frac{\\left|f(x_{i+1}) - f(x_i)\\right|}{x_{i+1} - x_i}\\right\\}$$\n",
        "\n",
        "Si $f(x)=x^2$, $a=0$, $b=1$, $n = \\frac{1}{p}$."
      ]
    },
    {
      "cell_type": "code",
      "execution_count": null,
      "metadata": {},
      "outputs": [
        {
          "data": {
            "text/plain": [
              "(0.5004995004994989, 1001)"
            ]
          },
          "execution_count": null,
          "metadata": {},
          "output_type": "execute_result"
        }
      ],
      "source": [
        "def integrale_precision(f, a, b, n):\n",
        "    somme = 0\n",
        "    h = float(b-a) / n\n",
        "    x = a\n",
        "    max_fp = 0\n",
        "    last_f = 0\n",
        "    for i in range(0, n + 1):\n",
        "        fx = f(x)\n",
        "        somme += f(x) * h\n",
        "        x += h\n",
        "        if last_f is not None:\n",
        "            md = abs(fx - last_f) / h\n",
        "            max_fp = max(max_fp, md)\n",
        "        last_f = fx        \n",
        "    return somme, max_fp * n * h**2\n",
        "\n",
        "def integrale_precise_derivee(f, a, b, n0, precision):\n",
        "    val, prec = integrale_precision(f, a, b, n0)\n",
        "    val0 = None\n",
        "    while val0 is None or prec > precision:\n",
        "        val0 = val\n",
        "        n0 += 1\n",
        "        val, prec = integrale_precision(f, a, b, n0)\n",
        "    return val, n0\n",
        "\n",
        "integrale_precise_derivee(lambda x: x, 0, 1, 10, 1e-3)"
      ]
    },
    {
      "cell_type": "code",
      "execution_count": null,
      "metadata": {
        "collapsed": true
      },
      "outputs": [],
      "source": []
    },
    {
      "cell_type": "markdown",
      "metadata": {},
      "source": [
        "## La fonction r\u00e9calcitrante\n",
        "\n",
        "L'int\u00e9grale de Rienmann converge pour toute fonction dont les discontinuit\u00e9s sont de mesures nulles. Num\u00e9riquement, c'est autre chose. On peut construire une telle fonction pour laquelle le calcule de l'int\u00e9grale ne converge pas.\n",
        "\n",
        "$$f(x) = \\left\\{ \\begin{array}{ll}2 \\text{ si } x = k2^{-n} \\forall k,n \\in \\mathbb{N} \\\\ 1 \\text{ sinon } \\end{array}\\right.$$"
      ]
    },
    {
      "cell_type": "code",
      "execution_count": null,
      "metadata": {},
      "outputs": [
        {
          "data": {
            "text/plain": [
              "(1, 2, 2)"
            ]
          },
          "execution_count": null,
          "metadata": {},
          "output_type": "execute_result"
        }
      ],
      "source": [
        "import math\n",
        "\n",
        "def bizarre(x, n):\n",
        "    if x == 0:\n",
        "        return 1\n",
        "    kn = int(math.log(n) / math.log(2)) + 1\n",
        "    a = 2**kn * x\n",
        "    d = abs(int(a + 1e-10) - a)\n",
        "    if d < 1e-10:\n",
        "        return 2\n",
        "    else:\n",
        "        return 1\n",
        "\n",
        "bizarre(0.33, 8), bizarre(0.5, 8), bizarre(0.125, 8)"
      ]
    },
    {
      "cell_type": "code",
      "execution_count": null,
      "metadata": {},
      "outputs": [],
      "source": [
        "def integrale_bizarre(f, a, b, n):\n",
        "    somme = 0\n",
        "    h = float(b-a) / n\n",
        "    x = a\n",
        "    for i in range(0, n + 1):\n",
        "        # m\u00eame fonction mais on passe n \u00e9galement\n",
        "        somme += f(x, n) * h\n",
        "        x += h\n",
        "    return somme\n",
        "\n",
        "px = list(range(1,257))\n",
        "py = [integrale_bizarre(bizarre, 0, 1, i) for i in px]"
      ]
    },
    {
      "cell_type": "code",
      "execution_count": null,
      "metadata": {},
      "outputs": [
        {
          "data": {
            "text/plain": [
              "2.125"
            ]
          },
          "execution_count": null,
          "metadata": {},
          "output_type": "execute_result"
        }
      ],
      "source": [
        "integrale_bizarre(bizarre, 0, 1, 8)"
      ]
    },
    {
      "cell_type": "code",
      "execution_count": null,
      "metadata": {},
      "outputs": [
        {
          "data": {
            "text/plain": [
              "2.0625"
            ]
          },
          "execution_count": null,
          "metadata": {},
          "output_type": "execute_result"
        }
      ],
      "source": [
        "integrale_bizarre(bizarre, 0, 1, 16)"
      ]
    },
    {
      "cell_type": "code",
      "execution_count": null,
      "metadata": {},
      "outputs": [
        {
          "data": {
            "text/plain": [
              "1.2857142857142856"
            ]
          },
          "execution_count": null,
          "metadata": {},
          "output_type": "execute_result"
        }
      ],
      "source": [
        "integrale_bizarre(bizarre, 0, 1, 7)"
      ]
    },
    {
      "cell_type": "code",
      "execution_count": null,
      "metadata": {},
      "outputs": [
        {
          "data": {
            "text/plain": [
              "[<matplotlib.lines.Line2D at 0x23617171da0>]"
            ]
          },
          "execution_count": null,
          "metadata": {},
          "output_type": "execute_result"
        },
        {
          "data": {
            "image/png": "[encoded data removed]",
            "text/plain": [
              "<matplotlib.figure.Figure at 0x23617171d30>"
            ]
          },
          "metadata": {},
          "output_type": "display_data"
        }
      ],
      "source": [
        "import matplotlib.pyplot as plt\n",
        "fig, ax = plt.subplots(1,1)\n",
        "ax.plot(px, py)"
      ]
    },
    {
      "cell_type": "markdown",
      "metadata": {},
      "source": [
        "La fonction est born\u00e9e, int\u00e9grable car elle est constante partout sauf sur un ensemble de mesure nulle qui est plus petit que l'ensemble des rationnels. Pourtant le calcul informatique associ\u00e9e ne converge pas car pour certaines valeurs de $n$, les valeurs prises tombent pour la plupart dans cet ensemble."
      ]
    },
    {
      "cell_type": "markdown",
      "metadata": {},
      "source": [
        "## Calcul de Monte Carlo\n",
        "\n",
        "Ce calcul consiste simplement \u00e0 tirer des valeurs al\u00e9atoirement dans l'intervalle \u00e0 int\u00e9grer puis \u00e0 en faire la moyenne."
      ]
    },
    {
      "cell_type": "code",
      "execution_count": null,
      "metadata": {},
      "outputs": [
        {
          "data": {
            "text/plain": [
              "0.4988542665465702"
            ]
          },
          "execution_count": null,
          "metadata": {},
          "output_type": "execute_result"
        }
      ],
      "source": [
        "import random\n",
        "\n",
        "def integrale_mc(f, a, b, n):\n",
        "    somme = 0\n",
        "    for i in range(0, n):\n",
        "        x = random.uniform(a, b)\n",
        "        somme += f(x)\n",
        "    return somme / n\n",
        "\n",
        "# On v\u00e9rifie ave un cas simple.\n",
        "integrale_mc(lambda x: x, 0, 1, 100)"
      ]
    },
    {
      "cell_type": "markdown",
      "metadata": {},
      "source": [
        "On peut appeler plusieurs fois la fonction et faire la moyenne des valeurs obtenues pour obtenir un algorithme qui s'arr\u00eate \u00e0 partir d'une certaine pr\u00e9cision."
      ]
    },
    {
      "cell_type": "code",
      "execution_count": null,
      "metadata": {},
      "outputs": [
        {
          "data": {
            "text/plain": [
              "(0.500918333560406, 100)"
            ]
          },
          "execution_count": null,
          "metadata": {},
          "output_type": "execute_result"
        }
      ],
      "source": [
        "def integrale_mc_precise(f, a, b, n0, precision):\n",
        "    val = integrale(f, a, b, n0)\n",
        "    moy = val\n",
        "    moy0 = None\n",
        "    nb = 1\n",
        "    while moy0 is None or abs(moy - moy0) / moy0 > precision:\n",
        "        val += integrale_mc(f, a, b, n0)\n",
        "        nb += 1\n",
        "        moy0 = moy\n",
        "        moy = val / nb\n",
        "    return moy, n0\n",
        "\n",
        "integrale_mc_precise(lambda x: x, 0, 1, 100, 1e-4)"
      ]
    },
    {
      "cell_type": "markdown",
      "metadata": {},
      "source": [
        "## Quand s'arr\u00eater ?\n",
        "\n",
        "L'int\u00e9grale de [Monte Carlo](https://fr.wikipedia.org/wiki/M%C3%A9thode_de_Monte-Carlo) est une variable al\u00e9atoire qui est une moyenne. $I_n(f)=\\frac{1}{n} \\sum_{i=1}^n f((b-a)U_i + b)$ o\u00f9 $U_i$ est une variable al\u00e9atoire uniforme dans l'intervalle $[0,1]$. $f((b-a)U_i + b)$ est une variable al\u00e9atoire qui n'est a priori pas uniforme. Elle est born\u00e9e si fonction $f$ est born\u00e9e. En utilisant le th\u00e9or\u00e8me centrale limite, on sait que $\\sqrt{n}I_n(f)$ tend vers une loi normale dont on peut majorer la variance par $M^2$ o\u00f9 $M=max(\\{f(x) | x \\in [a,b]\\})$. Il suffit ensuite de choisir un $n$ suffisant grand telle sorte que l'intervalle de confiance \u00e0 95% soit suffisamment petit. Si $p$ est la pr\u00e9cision, $\\frac{1.96 M}{\\sqrt{n}} < \\frac{p}{2}$ et donc $n > \\frac{16M^2}{p^2}$.\n",
        "\n",
        "Pour une pr\u00e9cision \u00e0 $10^{-2}$ :"
      ]
    },
    {
      "cell_type": "code",
      "execution_count": null,
      "metadata": {},
      "outputs": [
        {
          "data": {
            "text/plain": [
              "0.500765653300686"
            ]
          },
          "execution_count": null,
          "metadata": {},
          "output_type": "execute_result"
        }
      ],
      "source": [
        "integrale_mc(lambda x: x, 0, 1, int(16e4))"
      ]
    },
    {
      "cell_type": "markdown",
      "metadata": {},
      "source": [
        "## Mesure du temps\n",
        "\n",
        "Les temps ne sont pas vraiment comparables puisque les conditions d'arr\u00eat de chaque fonction ne correspondent pas aux m\u00eame pr\u00e9cisions."
      ]
    },
    {
      "cell_type": "code",
      "execution_count": null,
      "metadata": {},
      "outputs": [
        {
          "name": "stdout",
          "output_type": "stream",
          "text": [
            "14.3 \u00b5s \u00b1 215 ns per loop (mean \u00b1 std. dev. of 7 runs, 100000 loops each)\n"
          ]
        }
      ],
      "source": [
        "%timeit integrale_precise(f, a, b, n, 1e-4)"
      ]
    },
    {
      "cell_type": "code",
      "execution_count": null,
      "metadata": {},
      "outputs": [
        {
          "name": "stdout",
          "output_type": "stream",
          "text": [
            "20 \u00b5s \u00b1 197 ns per loop (mean \u00b1 std. dev. of 7 runs, 10000 loops each)\n"
          ]
        }
      ],
      "source": [
        "%timeit integrale_precise_2n(f, a, b, n, 1e-4)"
      ]
    },
    {
      "cell_type": "code",
      "execution_count": null,
      "metadata": {},
      "outputs": [
        {
          "name": "stdout",
          "output_type": "stream",
          "text": [
            "19.4 \u00b5s \u00b1 394 ns per loop (mean \u00b1 std. dev. of 7 runs, 10000 loops each)\n"
          ]
        }
      ],
      "source": [
        "%timeit integrale_mc_precise(f, a, b, n, 1e-4)"
      ]
    },
    {
      "cell_type": "code",
      "execution_count": null,
      "metadata": {},
      "outputs": [
        {
          "name": "stdout",
          "output_type": "stream",
          "text": [
            "765 \u00b5s \u00b1 4.29 \u00b5s per loop (mean \u00b1 std. dev. of 7 runs, 1000 loops each)\n"
          ]
        }
      ],
      "source": [
        "%timeit integrale_precise(lambda x: x, 0, 1, 10, 1e-4)"
      ]
    },
    {
      "cell_type": "code",
      "execution_count": null,
      "metadata": {},
      "outputs": [
        {
          "name": "stdout",
          "output_type": "stream",
          "text": [
            "25.6 ms \u00b1 661 \u00b5s per loop (mean \u00b1 std. dev. of 7 runs, 10 loops each)\n"
          ]
        }
      ],
      "source": [
        "%timeit integrale_precise_2n(lambda x: x, 0, 1, 10, 1e-4)"
      ]
    },
    {
      "cell_type": "code",
      "execution_count": null,
      "metadata": {},
      "outputs": [
        {
          "name": "stdout",
          "output_type": "stream",
          "text": [
            "291 \u00b5s \u00b1 4.86 \u00b5s per loop (mean \u00b1 std. dev. of 7 runs, 1000 loops each)\n"
          ]
        }
      ],
      "source": [
        "%timeit integrale_mc_precise(lambda x: x, 0, 1, 10, 1e-4)"
      ]
    },
    {
      "cell_type": "code",
      "execution_count": null,
      "metadata": {
        "collapsed": true
      },
      "outputs": [],
      "source": []
    }
  ],
  "metadata": {
    "kernelspec": {
      "display_name": "Python 3",
      "language": "python",
      "name": "python3"
    },
    "language_info": {
      "codemirror_mode": {
        "name": "ipython",
        "version": 3
      },
      "file_extension": ".py",
      "mimetype": "text/x-python",
      "name": "python",
      "nbconvert_exporter": "python",
      "pygments_lexer": "ipython3",
      "version": "3.6.1"
    }
  },
  "nbformat": 4,
  "nbformat_minor": 2
}