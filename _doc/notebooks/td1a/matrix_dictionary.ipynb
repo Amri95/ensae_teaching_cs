{
  "cells": [
    {
      "cell_type": "markdown",
      "metadata": {},
      "source": [
        "# Produit matriciel avec une matrice creuse\n",
        "\n",
        "Les dictionnaires sont une fa\u00e7on assez de repr\u00e9senter les matrices creuses en ne conservant que les coefficients non nuls. Comment \u00e9crire alors le produit matriciel ?"
      ]
    },
    {
      "cell_type": "code",
      "execution_count": 1,
      "metadata": {},
      "outputs": [
        {
          "data": {
            "text/html": [
              "<div id=\"my_id_menu_nb\">run previous cell, wait for 2 seconds</div>\n",
              "<script>\n",
              "function repeat_indent_string(n){\n",
              "    var a = \"\" ;\n",
              "    for ( ; n > 0 ; --n)\n",
              "        a += \"    \";\n",
              "    return a;\n",
              "}\n",
              "// look up into all sections and builds an automated menu //\n",
              "var update_menu_string = function(begin, lfirst, llast, sformat, send, keep_item, begin_format, end_format) {\n",
              "    var anchors = document.getElementsByClassName(\"section\");\n",
              "    if (anchors.length == 0) {\n",
              "        anchors = document.getElementsByClassName(\"text_cell_render rendered_html\");\n",
              "    }\n",
              "    var i,t;\n",
              "    var text_menu = begin;\n",
              "    var text_memo = \"<pre>\\nlength:\" + anchors.length + \"\\n\";\n",
              "    var ind = \"\";\n",
              "    var memo_level = 1;\n",
              "    var href;\n",
              "    var tags = [];\n",
              "    var main_item = 0;\n",
              "    var format_open = 0;\n",
              "    for (i = 0; i <= llast; i++)\n",
              "        tags.push(\"h\" + i);\n",
              "\n",
              "    for (i = 0; i < anchors.length; i++) {\n",
              "        text_memo += \"**\" + anchors[i].id + \"--\\n\";\n",
              "\n",
              "        var child = null;\n",
              "        for(t = 0; t < tags.length; t++) {\n",
              "            var r = anchors[i].getElementsByTagName(tags[t]);\n",
              "            if (r.length > 0) {\n",
              "child = r[0];\n",
              "break;\n",
              "            }\n",
              "        }\n",
              "        if (child == null) {\n",
              "            text_memo += \"null\\n\";\n",
              "            continue;\n",
              "        }\n",
              "        if (anchors[i].hasAttribute(\"id\")) {\n",
              "            // when converted in RST\n",
              "            href = anchors[i].id;\n",
              "            text_memo += \"#1-\" + href;\n",
              "            // passer \u00e0 child suivant (le chercher)\n",
              "        }\n",
              "        else if (child.hasAttribute(\"id\")) {\n",
              "            // in a notebook\n",
              "            href = child.id;\n",
              "            text_memo += \"#2-\" + href;\n",
              "        }\n",
              "        else {\n",
              "            text_memo += \"#3-\" + \"*\" + \"\\n\";\n",
              "            continue;\n",
              "        }\n",
              "        var title = child.textContent;\n",
              "        var level = parseInt(child.tagName.substring(1,2));\n",
              "\n",
              "        text_memo += \"--\" + level + \"?\" + lfirst + \"--\" + title + \"\\n\";\n",
              "\n",
              "        if ((level < lfirst) || (level > llast)) {\n",
              "            continue ;\n",
              "        }\n",
              "        if (title.endsWith('\u00b6')) {\n",
              "            title = title.substring(0,title.length-1).replace(\"<\", \"&lt;\")\n",
              "         .replace(\">\", \"&gt;\").replace(\"&\", \"&amp;\");\n",
              "        }\n",
              "        if (title.length == 0) {\n",
              "            continue;\n",
              "        }\n",
              "\n",
              "        while (level < memo_level) {\n",
              "            text_menu += end_format + \"</ul>\\n\";\n",
              "            format_open -= 1;\n",
              "            memo_level -= 1;\n",
              "        }\n",
              "        if (level == lfirst) {\n",
              "            main_item += 1;\n",
              "        }\n",
              "        if (keep_item != -1 && main_item != keep_item + 1) {\n",
              "            // alert(main_item + \" - \" + level + \" - \" + keep_item);\n",
              "            continue;\n",
              "        }\n",
              "        while (level > memo_level) {\n",
              "            text_menu += \"<ul>\\n\";\n",
              "            memo_level += 1;\n",
              "        }\n",
              "        text_menu += repeat_indent_string(level-2);\n",
              "        text_menu += begin_format + sformat.replace(\"__HREF__\", href).replace(\"__TITLE__\", title);\n",
              "        format_open += 1;\n",
              "    }\n",
              "    while (1 < memo_level) {\n",
              "        text_menu += end_format + \"</ul>\\n\";\n",
              "        memo_level -= 1;\n",
              "        format_open -= 1;\n",
              "    }\n",
              "    text_menu += send;\n",
              "    //text_menu += \"\\n\" + text_memo;\n",
              "\n",
              "    while (format_open > 0) {\n",
              "        text_menu += end_format;\n",
              "        format_open -= 1;\n",
              "    }\n",
              "    return text_menu;\n",
              "};\n",
              "var update_menu = function() {\n",
              "    var sbegin = \"\";\n",
              "    var sformat = '<a href=\"#__HREF__\">__TITLE__</a>';\n",
              "    var send = \"\";\n",
              "    var begin_format = '<li>';\n",
              "    var end_format = '</li>';\n",
              "    var keep_item = -1;\n",
              "    var text_menu = update_menu_string(sbegin, 2, 4, sformat, send, keep_item,\n",
              "       begin_format, end_format);\n",
              "    var menu = document.getElementById(\"my_id_menu_nb\");\n",
              "    menu.innerHTML=text_menu;\n",
              "};\n",
              "window.setTimeout(update_menu,2000);\n",
              "            </script>"
            ],
            "text/plain": [
              "<IPython.core.display.HTML object>"
            ]
          },
          "execution_count": 2,
          "metadata": {},
          "output_type": "execute_result"
        }
      ],
      "source": [
        "from jyquickhelper import add_notebook_menu\n",
        "add_notebook_menu()"
      ]
    },
    {
      "cell_type": "markdown",
      "metadata": {},
      "source": [
        "## Matrice creuse et dictionnaire\n",
        "\n",
        "Une [matrice creuse](https://fr.wikipedia.org/wiki/Matrice_creuse) ou [sparse matrix](https://en.wikipedia.org/wiki/Sparse_matrix) est constitu\u00e9e majoritairement de 0. On utilise un dictionnaire avec les coefficients non nuls. La fonction suivante pour cr\u00e9er une matrice al\u00e9atoire."
      ]
    },
    {
      "cell_type": "code",
      "execution_count": 2,
      "metadata": {},
      "outputs": [
        {
          "data": {
            "text/plain": [
              "{(2, 1): 1, (2, 2): 1, (1, 1): 1, (0, 0): 1, (1, 2): 1}"
            ]
          },
          "execution_count": 3,
          "metadata": {},
          "output_type": "execute_result"
        }
      ],
      "source": [
        "import random\n",
        "\n",
        "def random_matrix(n, m, ratio=0.1):\n",
        "    mat = {}\n",
        "    nb = min(n * m, int(ratio * n * m + 0.5))\n",
        "    while len(mat) < nb:\n",
        "        i = random.randint(0, n-1)\n",
        "        j = random.randint(0, m-1)\n",
        "        mat[i, j] = 1\n",
        "    return mat\n",
        "\n",
        "mat = random_matrix(3, 3, ratio=0.5)\n",
        "mat"
      ]
    },
    {
      "cell_type": "markdown",
      "metadata": {},
      "source": [
        "## Calcul de la dimension\n",
        "\n",
        "Pour obtenir la dimension de la matrice, il faut parcourir toutes les cl\u00e9s du dictionnaire."
      ]
    },
    {
      "cell_type": "code",
      "execution_count": 3,
      "metadata": {},
      "outputs": [
        {
          "data": {
            "text/plain": [
              "(3, 3)"
            ]
          },
          "execution_count": 4,
          "metadata": {},
          "output_type": "execute_result"
        }
      ],
      "source": [
        "def dimension(mat):\n",
        "    maxi, maxj = 0, 0\n",
        "    for k in mat:\n",
        "        maxi = max(maxi, k[0])\n",
        "        maxj = max(maxj, k[1])\n",
        "    return maxi + 1, maxj + 1\n",
        "\n",
        "dimension(mat)"
      ]
    },
    {
      "cell_type": "markdown",
      "metadata": {},
      "source": [
        "Cette fonction poss\u00e8de l'inconv\u00e9nient de retourner une valeur fausse si la matrice ne poss\u00e8de aucun coefficient non nul sur la derni\u00e8re ligne ou la derni\u00e8re colonne. Cela peut \u00eatre embarrassant, tout d\u00e9pend de l'usage."
      ]
    },
    {
      "cell_type": "markdown",
      "metadata": {},
      "source": [
        "## Produit matriciel classique\n",
        "\n",
        "On impl\u00e9mente le produit matriciel classique, \u00e0 trois boucles."
      ]
    },
    {
      "cell_type": "code",
      "execution_count": 4,
      "metadata": {},
      "outputs": [
        {
          "data": {
            "text/plain": [
              "{(0, 0): 1, (1, 1): 1}"
            ]
          },
          "execution_count": 5,
          "metadata": {},
          "output_type": "execute_result"
        }
      ],
      "source": [
        "def produit_classique(m1, m2):\n",
        "    dim1 = dimension(m1)\n",
        "    dim2 = dimension(m2)\n",
        "    if dim1[1] != dim2[0]:\n",
        "        raise Exception(\"Impossible de multiplier {0}, {1}\".format(\n",
        "                            dim1, dim2))\n",
        "    res = {}\n",
        "    for i in range(dim1[0]):\n",
        "        for j in range(dim2[1]):\n",
        "            s = 0\n",
        "            for k in range(dim1[1]):\n",
        "                s += m1.get((i, k), 0) * m2.get((k, j), 0)\n",
        "            if s != 0:  # Pour \u00e9viter de garder les coefficients non nuls.\n",
        "                res[i, j] = s            \n",
        "    return res\n",
        "\n",
        "simple = {(0, 1): 1, (1, 0): 1}\n",
        "produit_classique(simple, simple)"
      ]
    },
    {
      "cell_type": "markdown",
      "metadata": {},
      "source": [
        "Sur la matrice al\u00e9atoire..."
      ]
    },
    {
      "cell_type": "code",
      "execution_count": 5,
      "metadata": {},
      "outputs": [
        {
          "data": {
            "text/plain": [
              "{(0, 0): 1, (1, 1): 2, (1, 2): 2, (2, 1): 2, (2, 2): 2}"
            ]
          },
          "execution_count": 6,
          "metadata": {},
          "output_type": "execute_result"
        }
      ],
      "source": [
        "produit_classique(mat, mat)"
      ]
    },
    {
      "cell_type": "markdown",
      "metadata": {},
      "source": [
        "## Produit matriciel plus \u00e9l\u00e9gant\n",
        "\n",
        "A-t-on vraiment besoin de s'enqu\u00e9rir des dimensions de la matrice pour faire le produit matriciel ? Ne peut-on pas tout simplement faire une boucle sur les coefficients non nul ?"
      ]
    },
    {
      "cell_type": "code",
      "execution_count": 6,
      "metadata": {},
      "outputs": [
        {
          "data": {
            "text/plain": [
              "{(0, 0): 1, (1, 1): 1}"
            ]
          },
          "execution_count": 7,
          "metadata": {},
          "output_type": "execute_result"
        }
      ],
      "source": [
        "def produit_elegant(m1, m2):\n",
        "    res = {}\n",
        "    for (i, k1), v1 in m1.items():\n",
        "        if v1 == 0:\n",
        "            continue\n",
        "        for (k2, j), v2 in m2.items(): \n",
        "            if v2 == 0:\n",
        "                continue\n",
        "            if k1 == k2:\n",
        "                if (i, j) in res:\n",
        "                    res[i, j] += v1 * v2\n",
        "                else :\n",
        "                    res[i, j] = v1 * v2\n",
        "    return res\n",
        "\n",
        "produit_elegant(simple, simple)"
      ]
    },
    {
      "cell_type": "code",
      "execution_count": 7,
      "metadata": {},
      "outputs": [
        {
          "data": {
            "text/plain": [
              "{(2, 1): 2, (2, 2): 2, (1, 1): 2, (1, 2): 2, (0, 0): 1}"
            ]
          },
          "execution_count": 8,
          "metadata": {},
          "output_type": "execute_result"
        }
      ],
      "source": [
        "produit_elegant(mat, mat)"
      ]
    },
    {
      "cell_type": "markdown",
      "metadata": {},
      "source": [
        "## Mesure du temps\n",
        "\n",
        "A priori, la seconde m\u00e9thode est plus rapide puisque son co\u00fbt est proportionnel au produit du nombre de coefficients non nuls dans les deux matrices. V\u00e9rifions."
      ]
    },
    {
      "cell_type": "code",
      "execution_count": 8,
      "metadata": {},
      "outputs": [
        {
          "name": "stdout",
          "output_type": "stream",
          "text": [
            "658 ms \u00b1 81.3 ms per loop (mean \u00b1 std. dev. of 7 runs, 1 loop each)\n"
          ]
        }
      ],
      "source": [
        "bigmat = random_matrix(100, 100)\n",
        "%timeit produit_classique(bigmat, bigmat)"
      ]
    },
    {
      "cell_type": "code",
      "execution_count": 9,
      "metadata": {},
      "outputs": [
        {
          "name": "stdout",
          "output_type": "stream",
          "text": [
            "157 ms \u00b1 9.33 ms per loop (mean \u00b1 std. dev. of 7 runs, 10 loops each)\n"
          ]
        }
      ],
      "source": [
        "%timeit produit_elegant(bigmat, bigmat)"
      ]
    },
    {
      "cell_type": "markdown",
      "metadata": {},
      "source": [
        "C'est beaucoup mieux. Mais peut-on encore faire mieux ?"
      ]
    },
    {
      "cell_type": "markdown",
      "metadata": {},
      "source": [
        "## Dictionnaires de dictionnaires\n",
        "\n",
        "Ca sonne un peu comme [mille millions de mille sabords](https://fr.wikipedia.org/wiki/Vocabulaire_du_capitaine_Haddock) mais le dictionnaire que nous avons cr\u00e9\u00e9 a pour cl\u00e9 un couple de coordonn\u00e9es et valeur des coefficients. La fonction ``produit_elegant`` fait plein d'it\u00e9rations inutiles en quelque sorte puisque les coefficients sont nuls. Peut-on \u00e9viter \u00e7a ?\n",
        "\n",
        "Et si on utilisait des dictionnaires de dictionnaires : ``{ ligne : { colonne : valeur } }``."
      ]
    },
    {
      "cell_type": "code",
      "execution_count": 10,
      "metadata": {},
      "outputs": [
        {
          "data": {
            "text/plain": [
              "{0: {1: 1}, 1: {0: 1}}"
            ]
          },
          "execution_count": 11,
          "metadata": {},
          "output_type": "execute_result"
        }
      ],
      "source": [
        "def matrice_dicodico(mat):\n",
        "    res = {}\n",
        "    for (i, j), v in mat.items():\n",
        "        if i not in res:\n",
        "            res[i] = {j: v}\n",
        "        else:\n",
        "            res[i][j] = v\n",
        "    return res\n",
        "\n",
        "matrice_dicodico(simple)"
      ]
    },
    {
      "cell_type": "markdown",
      "metadata": {},
      "source": [
        "Peut-on adapter le calcul matriciel \u00e9l\u00e9gant ? Il reste \u00e0 associer les indices de colonnes de la premi\u00e8re avec les indices de lignes de la seconde. Cela pose probl\u00e8me en l'\u00e9tat quand les indices de colonnes sont inaccessibles sans conna\u00eetre les indices de lignes d'abord \u00e0 moins d'\u00e9changer l'ordre pour la seconde matrice."
      ]
    },
    {
      "cell_type": "code",
      "execution_count": 11,
      "metadata": {},
      "outputs": [
        {
          "data": {
            "text/plain": [
              "{1: {0: 1}, 0: {1: 1}}"
            ]
          },
          "execution_count": 12,
          "metadata": {},
          "output_type": "execute_result"
        }
      ],
      "source": [
        "def matrice_dicodico_lc(mat, ligne=True):\n",
        "    res = {}\n",
        "    if ligne:\n",
        "        for (i, j), v in mat.items():\n",
        "            if i not in res:\n",
        "                res[i] = {j: v}\n",
        "            else:\n",
        "                res[i][j] = v\n",
        "    else:\n",
        "        for (j, i), v in mat.items():\n",
        "            if i not in res:\n",
        "                res[i] = {j: v}\n",
        "            else:\n",
        "                res[i][j] = v\n",
        "    return res\n",
        "\n",
        "matrice_dicodico_lc(simple, ligne=False)"
      ]
    },
    {
      "cell_type": "markdown",
      "metadata": {},
      "source": [
        "Maintenant qu'on a fait \u00e7a, on peut songer au produit matriciel."
      ]
    },
    {
      "cell_type": "code",
      "execution_count": 12,
      "metadata": {},
      "outputs": [
        {
          "data": {
            "text/plain": [
              "{(0, 0): 1, (1, 1): 1}"
            ]
          },
          "execution_count": 13,
          "metadata": {},
          "output_type": "execute_result"
        }
      ],
      "source": [
        "def produit_elegant_rapide(m1, m2):\n",
        "    res = {}\n",
        "    for k, vs in m1.items():\n",
        "        if k in m2:\n",
        "            for i, v1 in vs.items():\n",
        "                for j, v2 in m2[k].items():\n",
        "                    if (i, j) in res:\n",
        "                        res[i, j] += v1 * v2\n",
        "                    else :\n",
        "                        res[i, j] = v1 * v2\n",
        "\n",
        "    return res\n",
        "\n",
        "m1 = matrice_dicodico_lc(simple, ligne=False)\n",
        "m2 = matrice_dicodico_lc(simple)\n",
        "produit_elegant_rapide(m1, m2)"
      ]
    },
    {
      "cell_type": "code",
      "execution_count": 13,
      "metadata": {},
      "outputs": [
        {
          "data": {
            "text/plain": [
              "{(2, 1): 2, (2, 2): 2, (1, 1): 2, (1, 2): 2, (0, 0): 1}"
            ]
          },
          "execution_count": 14,
          "metadata": {},
          "output_type": "execute_result"
        }
      ],
      "source": [
        "m1 = matrice_dicodico_lc(mat, ligne=False)\n",
        "m2 = matrice_dicodico_lc(mat)\n",
        "produit_elegant_rapide(m1, m2)"
      ]
    },
    {
      "cell_type": "markdown",
      "metadata": {},
      "source": [
        "On mesure le temps avec une grande matrice."
      ]
    },
    {
      "cell_type": "code",
      "execution_count": 14,
      "metadata": {},
      "outputs": [
        {
          "name": "stdout",
          "output_type": "stream",
          "text": [
            "6.46 ms \u00b1 348 \u00b5s per loop (mean \u00b1 std. dev. of 7 runs, 100 loops each)\n"
          ]
        }
      ],
      "source": [
        "m1 = matrice_dicodico_lc(bigmat, ligne=False)\n",
        "m2 = matrice_dicodico_lc(bigmat)\n",
        "%timeit produit_elegant_rapide(m1, m2)"
      ]
    },
    {
      "cell_type": "markdown",
      "metadata": {},
      "source": [
        "Beaucoup plus rapide, il n'y a plus besoin de tester les coefficients non nuls. La comparaison n'est pas tr\u00e8s juste n\u00e9anmoins car il faut transformer les deux matrices avant de faire le calcul. Et si on l'incluait ?"
      ]
    },
    {
      "cell_type": "code",
      "execution_count": 15,
      "metadata": {},
      "outputs": [
        {
          "data": {
            "text/plain": [
              "{(0, 0): 1, (1, 1): 1}"
            ]
          },
          "execution_count": 16,
          "metadata": {},
          "output_type": "execute_result"
        }
      ],
      "source": [
        "def produit_elegant_rapide_transformation(mat1, mat2):\n",
        "    m1 = matrice_dicodico_lc(mat1, ligne=False)\n",
        "    m2 = matrice_dicodico_lc(mat2)\n",
        "    return produit_elegant_rapide(m1, m2)\n",
        "\n",
        "produit_elegant_rapide_transformation(simple, simple)"
      ]
    },
    {
      "cell_type": "code",
      "execution_count": 16,
      "metadata": {},
      "outputs": [
        {
          "name": "stdout",
          "output_type": "stream",
          "text": [
            "7.17 ms \u00b1 635 \u00b5s per loop (mean \u00b1 std. dev. of 7 runs, 100 loops each)\n"
          ]
        }
      ],
      "source": [
        "%timeit produit_elegant_rapide_transformation(bigmat, bigmat)"
      ]
    },
    {
      "cell_type": "markdown",
      "metadata": {},
      "source": [
        "Finalement \u00e7a vaut le coup... mais est-ce le cas pour toutes les matrices."
      ]
    },
    {
      "cell_type": "code",
      "execution_count": 17,
      "metadata": {},
      "outputs": [],
      "source": [
        "%matplotlib inline"
      ]
    },
    {
      "cell_type": "code",
      "execution_count": 18,
      "metadata": {},
      "outputs": [
        {
          "name": "stdout",
          "output_type": "stream",
          "text": [
            "{'dicodico': 0.005037441000240506, 'ratio': 0.1, 'dico': 0.14238126200052648, 'classique': 0.6123743010002727}\n",
            "{'dicodico': 0.026836189999812632, 'ratio': 0.2, 'dico': 0.6422706439998365, 'classique': 0.6319077640000614}\n",
            "{'dicodico': 0.05713747299978422, 'ratio': 0.3, 'dico': 1.5467935550004768, 'classique': 0.6079049600002691}\n",
            "{'dicodico': 0.11274368399972445, 'ratio': 0.4, 'classique': 0.6851242430002458}\n",
            "{'dicodico': 0.16862485899946478, 'ratio': 0.5, 'classique': 0.6875519010000062}\n",
            "{'dicodico': 0.22460795999995753, 'ratio': 0.6, 'classique': 0.7007410579999487}\n",
            "{'dicodico': 0.3225403609994828, 'ratio': 0.7, 'classique': 0.6795763820000502}\n",
            "{'dicodico': 0.40570493699942745, 'ratio': 0.8, 'classique': 0.6769405260001804}\n",
            "{'dicodico': 0.5422258439994039, 'ratio': 0.9, 'classique': 0.6723052600000301}\n",
            "{'dicodico': 0.6474834919999921, 'ratio': 0.99, 'classique': 0.6958359640002527}\n"
          ]
        }
      ],
      "source": [
        "import time\n",
        "mesures = []\n",
        "\n",
        "for ratio in [0.1, 0.2, 0.3, 0.4, 0.5, 0.6, 0.7, 0.8, 0.9, 0.99]:\n",
        "    big = random_matrix(100, 100, ratio=ratio)\n",
        "    \n",
        "    t1 = time.perf_counter()\n",
        "    produit_elegant_rapide_transformation(big, big)\n",
        "    t2 = time.perf_counter()\n",
        "    dt = (t2 - t1)\n",
        "    obs = {\"dicodico\": dt, \"ratio\": ratio}\n",
        "    \n",
        "    if ratio <= 0.3:\n",
        "        # apr\u00e8s c'est trop lent\n",
        "        t1 = time.perf_counter()\n",
        "        produit_elegant(big, big)\n",
        "        t2 = time.perf_counter()\n",
        "        dt = (t2 - t1)\n",
        "        obs[\"dico\"] = dt\n",
        "    \n",
        "    t1 = time.perf_counter()\n",
        "    produit_classique(big, big)\n",
        "    t2 = time.perf_counter()\n",
        "    dt = (t2 - t1)\n",
        "    obs[\"classique\"] = dt\n",
        "\n",
        "    mesures.append(obs)\n",
        "    print(obs)    "
      ]
    },
    {
      "cell_type": "code",
      "execution_count": 19,
      "metadata": {},
      "outputs": [
        {
          "data": {
            "image/png": "[encoded data removed]",
            "text/plain": [
              "<Figure size 432x288 with 1 Axes>"
            ]
          },
          "metadata": {},
          "output_type": "display_data"
        }
      ],
      "source": [
        "from pandas import DataFrame\n",
        "df = DataFrame(mesures)\n",
        "ax = df.plot(x=\"ratio\", y=\"dicodico\", label=\"dico dico\")\n",
        "df.plot(x=\"ratio\", y=\"dico\", label=\"dico\", ax=ax)\n",
        "df.plot(x=\"ratio\", y=\"classique\", label=\"classique\", ax=ax)\n",
        "ax.legend();"
      ]
    },
    {
      "cell_type": "markdown",
      "metadata": {},
      "source": [
        "Cette derni\u00e8re version est efficace."
      ]
    },
    {
      "cell_type": "code",
      "execution_count": 20,
      "metadata": {},
      "outputs": [],
      "source": []
    }
  ],
  "metadata": {
    "kernelspec": {
      "display_name": "Python 3",
      "language": "python",
      "name": "python3"
    },
    "language_info": {
      "codemirror_mode": {
        "name": "ipython",
        "version": 3
      },
      "file_extension": ".py",
      "mimetype": "text/x-python",
      "name": "python",
      "nbconvert_exporter": "python",
      "pygments_lexer": "ipython3",
      "version": "3.7.2"
    }
  },
  "nbformat": 4,
  "nbformat_minor": 2
}