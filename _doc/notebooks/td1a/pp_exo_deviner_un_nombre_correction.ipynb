{
  "cells": [
    {
      "cell_type": "markdown",
      "metadata": {},
      "source": [
        "# 1A : Deviner un nombre al\u00e9atoire (correction)\n",
        "\n",
        "On reprend la fonction introduite dans l'\u00e9nonc\u00e9 et qui permet de saisir un nombre."
      ]
    },
    {
      "cell_type": "code",
      "execution_count": null,
      "metadata": {
        "collapsed": true
      },
      "outputs": [],
      "source": [
        "import random"
      ]
    },
    {
      "cell_type": "code",
      "execution_count": null,
      "metadata": {},
      "outputs": [
        {
          "name": "stdout",
          "output_type": "stream",
          "text": [
            "Entrez un nombre7\n"
          ]
        }
      ],
      "source": [
        "nombre = input(\"Entrez un nombre\")"
      ]
    },
    {
      "cell_type": "code",
      "execution_count": null,
      "metadata": {},
      "outputs": [
        {
          "data": {
            "text/plain": [
              "'7'"
            ]
          },
          "execution_count": null,
          "metadata": {},
          "output_type": "execute_result"
        }
      ],
      "source": [
        "nombre"
      ]
    },
    {
      "cell_type": "markdown",
      "metadata": {},
      "source": [
        "**Q1 :** Ecrire une jeu dans lequel python choisi al\u00e9atoirement un nombre entre 0 et 100, et essayer de trouver ce nombre en 10 \u00e9tapes."
      ]
    },
    {
      "cell_type": "code",
      "execution_count": null,
      "metadata": {},
      "outputs": [
        {
          "name": "stdout",
          "output_type": "stream",
          "text": [
            "Entrez un nombre7\n",
            "7 trop bas\n",
            "Entrez un nombre10\n",
            "10 trop bas\n",
            "Entrez un nombre100\n",
            "100 trop haut\n",
            "Entrez un nombre50\n",
            "50 trop bas\n",
            "Entrez un nombre75\n",
            "75 trop haut\n",
            "Entrez un nombre60\n",
            "60 trop haut\n",
            "Entrez un nombre55\n",
            "55 trop haut\n",
            "Entrez un nombre53\n",
            "53 trop haut\n",
            "Entrez un nombre52\n",
            "52 trop haut\n",
            "Entrez un nombre51\n",
            "51 trop haut\n",
            "51 bravo !\n"
          ]
        }
      ],
      "source": [
        "n = random.randint(0,100)\n",
        "appreciation = \"?\"\n",
        "while True:\n",
        "    var = input(\"Entrez un nombre\")\n",
        "    var = int(var)\n",
        "    if var < n : \n",
        "        appreciation = \"trop bas\"\n",
        "        print(var, appreciation)\n",
        "        \n",
        "    else : \n",
        "        appreciation = \"trop haut\"\n",
        "        print(var, appreciation)\n",
        "    if var == n:\n",
        "        appreciation = \"bravo !\"\n",
        "        print(var, appreciation)\n",
        "        break"
      ]
    },
    {
      "cell_type": "markdown",
      "metadata": {},
      "source": [
        "**Q2 :** Transformer ce jeu en une fonction ``jeu(nVies)`` o\u00f9 ``nVies`` est le nombre d'it\u00e9rations maximum."
      ]
    },
    {
      "cell_type": "code",
      "execution_count": null,
      "metadata": {},
      "outputs": [
        {
          "name": "stdout",
          "output_type": "stream",
          "text": [
            "Entrez un nombre50\n",
            "10 50 trop bas\n",
            "Entrez un nombre75\n",
            "9 75 trop haut\n",
            "Entrez un nombre60\n",
            "8 60 trop bas\n",
            "Entrez un nombre65\n",
            "7 65 trop bas\n",
            "Entrez un nombre70\n",
            "6 70 trop bas\n",
            "Entrez un nombre73\n",
            "5 73 trop haut\n",
            "Entrez un nombre72\n",
            "4 72 trop haut\n",
            "Entrez un nombre71\n",
            "3 71 trop haut\n",
            "3 71 bravo !\n"
          ]
        }
      ],
      "source": [
        "import random\n",
        "n = random.randint(0,100)\n",
        "vies = 10\n",
        "appreciation = \"?\"\n",
        "while vies > 0:\n",
        "    var = input(\"Entrez un nombre\")\n",
        "    var = int(var)\n",
        "    if var < n : \n",
        "        appreciation = \"trop bas\"\n",
        "        print(vies, var, appreciation)\n",
        "    else : \n",
        "        appreciation = \"trop haut\"\n",
        "        print(vies, var, appreciation)\n",
        "    if var == n:\n",
        "        appreciation = \"bravo !\"\n",
        "        print(vies, var, appreciation)\n",
        "        break\n",
        "\n",
        "    vies -= 1"
      ]
    },
    {
      "cell_type": "markdown",
      "metadata": {},
      "source": [
        "**Q3 :** Adapter le code pour faire une classe joueur avec une m\u00e9thode jouer, o\u00f9 un joueur est d\u00e9fini par un pseudo et son nombre de vies. Faire jouer deux joueurs et d\u00e9terminer le vainqueur."
      ]
    },
    {
      "cell_type": "code",
      "execution_count": null,
      "metadata": {},
      "outputs": [
        {
          "name": "stdout",
          "output_type": "stream",
          "text": [
            "? -- joueur 1 : 10 vies restantes. Nombre choisi : 50\n",
            "3 50 trop haut\n",
            "trop haut -- joueur 1 : 9 vies restantes. Nombre choisi : 25\n",
            "3 25 trop haut\n",
            "trop haut -- joueur 1 : 8 vies restantes. Nombre choisi : 10\n",
            "3 10 trop haut\n",
            "trop haut -- joueur 1 : 7 vies restantes. Nombre choisi : 5\n",
            "3 5 trop bas\n",
            "trop bas -- joueur 1 : 6 vies restantes. Nombre choisi : 7\n",
            "3 7 trop haut\n",
            "3 7 bravo !\n",
            "? -- joueur 2 : 10 vies restantes. Nombre choisi : 50\n",
            "3 50 trop haut\n",
            "trop haut -- joueur 2 : 9 vies restantes. Nombre choisi : 25\n",
            "3 25 trop bas\n",
            "trop bas -- joueur 2 : 8 vies restantes. Nombre choisi : 30\n",
            "3 30 trop haut\n",
            "3 30 bravo !\n",
            "Nombre de vies restantes \u00e0 chaque joueur\n",
            "joueur 1 : 6 restantes\n",
            "joueur 2 : 8 restantes\n",
            "R\u00e9sultat de la partie\n",
            "joueur 1a gagn\u00e9 la partie\n"
          ]
        }
      ],
      "source": [
        "class joueur:\n",
        "    def __init__(self, vies, pseudo):\n",
        "        self.vies = vies\n",
        "        self.pseudo = pseudo\n",
        "    \n",
        "    def jouer(self):\n",
        "        appreciation = \"?\"\n",
        "        n = random.randint(0,100)\n",
        "        while self.vies > 0:\n",
        "            message = appreciation + \" -- \" + self.pseudo + \" : \" + str(self.vies) + \" vies restantes. Nombre choisi : \"\n",
        "            var = input(message)\n",
        "            var = int(var)\n",
        "            if var < n : \n",
        "                appreciation = \"trop bas\"\n",
        "                print(vies, var, appreciation)\n",
        "            else : \n",
        "                appreciation = \"trop haut\"\n",
        "                print(vies, var, appreciation)\n",
        "            if var == n:\n",
        "                appreciation = \"bravo !\"\n",
        "                print(vies, var, appreciation)\n",
        "                break\n",
        "\n",
        "            self.vies -= 1\n",
        "\n",
        "# Initialisation des deux joueurs\n",
        "j1 = joueur(10, \"joueur 1\")\n",
        "j2 = joueur(10, \"joueur 2\")\n",
        "\n",
        "# j1 et j2 jouent\n",
        "j1.jouer()\n",
        "j2.jouer()\n",
        "\n",
        "# Nombre de vies restantes \u00e0 chaque joueur\n",
        "print(\"Nombre de vies restantes \u00e0 chaque joueur\")\n",
        "print(j1.pseudo  + \" : \" + str(j1.vies) + \" restantes\")\n",
        "print(j2.pseudo  + \" : \" + str(j2.vies) + \" restantes\")\n",
        "\n",
        "# R\u00e9sultat de la partie\n",
        "print(\"R\u00e9sultat de la partie\")\n",
        "if j1.vies < j2.vies:\n",
        "    print(j1.pseudo + \"a gagn\u00e9 la partie\")\n",
        "elif j1.vies == j2.vies:\n",
        "    print(\"match nul\")\n",
        "else: print(j2.pseudo + \" a gagn\u00e9 la partie\")"
      ]
    },
    {
      "cell_type": "code",
      "execution_count": null,
      "metadata": {
        "collapsed": true
      },
      "outputs": [],
      "source": []
    }
  ],
  "metadata": {
    "kernelspec": {
      "display_name": "Python 3",
      "language": "python",
      "name": "python3"
    },
    "language_info": {
      "codemirror_mode": {
        "name": "ipython",
        "version": 3
      },
      "file_extension": ".py",
      "mimetype": "text/x-python",
      "name": "python",
      "nbconvert_exporter": "python",
      "pygments_lexer": "ipython3",
      "version": "3.6.1"
    }
  },
  "nbformat": 4,
  "nbformat_minor": 1
}