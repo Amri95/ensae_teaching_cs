{
  "cells": [
    {
      "cell_type": "markdown",
      "metadata": {},
      "source": [
        "# 1A.1 - Variables, boucles, tests (correction)\n",
        "\n",
        "Boucles, tests, correction."
      ]
    },
    {
      "cell_type": "code",
      "execution_count": 1,
      "metadata": {},
      "outputs": [
        {
          "data": {
            "text/html": [
              "<b>Plan</b>\n",
              "<div id=\"my_menu_id\">run previous cell, wait for 2 seconds</div>\n",
              "<script>\n",
              "function repeat_indent_string(n){\n",
              "    var a = \"\" ;\n",
              "    for ( ; n > 0 ; --n) {\n",
              "        a += \"    \";\n",
              "    }\n",
              "    return a;\n",
              "}\n",
              "var update_menu_string = function(begin, lfirst, llast, sformat, send) {\n",
              "    var anchors = document.getElementsByClassName(\"section\");\n",
              "    if (anchors.length == 0) {\n",
              "        anchors = document.getElementsByClassName(\"text_cell_render rendered_html\");\n",
              "    }\n",
              "    var i,t;\n",
              "    var text_menu = begin;\n",
              "    var text_memo = \"<pre>\\nlength:\" + anchors.length + \"\\n\";\n",
              "    var ind = \"\";\n",
              "    var memo_level = 1;\n",
              "    var href;\n",
              "    var tags = [];\n",
              "    for (i = lfirst; i <= llast; i++) {\n",
              "        tags.push(\"h\" + i);\n",
              "    }\n",
              "\n",
              "    for (i = 0; i < anchors.length; i++) {\n",
              "        text_memo += \"**\" + anchors[i].id + \"--\\n\";\n",
              "\n",
              "        var child = null;\n",
              "        for(t = 0; t < tags.length; t++) {\n",
              "            var r = anchors[i].getElementsByTagName(tags[t]);\n",
              "            if (r.length > 0) {\n",
              "child = r[0];\n",
              "break;\n",
              "            }\n",
              "        }\n",
              "        if (child == null){\n",
              "            text_memo += \"null\\n\";\n",
              "            continue;\n",
              "        }\n",
              "\n",
              "        if (anchors[i].hasAttribute(\"id\")) {\n",
              "            // when converted in RST\n",
              "            href = anchors[i].id;\n",
              "            text_memo += \"#1-\" + href;\n",
              "            // passer \u00e0 child suivant (le chercher)\n",
              "        }\n",
              "        else if (child.hasAttribute(\"id\")) {\n",
              "            // in a notebook\n",
              "            href = child.id;\n",
              "            text_memo += \"#2-\" + href;\n",
              "        }\n",
              "        else {\n",
              "            text_memo += \"#3-\" + \"*\" + \"\\n\";\n",
              "            continue;\n",
              "        }\n",
              "        var title = child.textContent;\n",
              "        var level = parseInt(child.tagName.substring(1,2));\n",
              "\n",
              "        text_memo += \"--\" + level + \"?\" + lfirst + \"--\" + title + \"\\n\";\n",
              "\n",
              "        if ((level < lfirst) || (level > llast)) {\n",
              "            continue ;\n",
              "        }\n",
              "        if (title.endsWith('\u00b6')) {\n",
              "            title = title.substring(0,title.length-1).replace(\"<\", \"&lt;\").replace(\">\", \"&gt;\").replace(\"&\", \"&amp;\")\n",
              "        }\n",
              "\n",
              "        if (title.length == 0) {\n",
              "            continue;\n",
              "        }\n",
              "        while (level > memo_level) {\n",
              "            text_menu += \"<ul>\\n\";\n",
              "            memo_level += 1;\n",
              "        }\n",
              "        while (level < memo_level) {\n",
              "            text_menu += \"</ul>\\n\";\n",
              "            memo_level -= 1;\n",
              "        }\n",
              "        text_menu += repeat_indent_string(level-2) + sformat.replace(\"__HREF__\", href).replace(\"__TITLE__\", title);\n",
              "    }\n",
              "    while (1 < memo_level) {\n",
              "        text_menu += \"</ul>\\n\";\n",
              "        memo_level -= 1;\n",
              "    }\n",
              "    text_menu += send;\n",
              "    //text_menu += \"\\n\" + text_memo;\n",
              "    return text_menu;\n",
              "};\n",
              "var update_menu = function() {\n",
              "    var sbegin = \"\";\n",
              "    var sformat = '<li><a href=\"#__HREF__\">__TITLE__</a></li>';\n",
              "    var send = \"\";\n",
              "    var text_menu = update_menu_string(sbegin, 2, 4, sformat, send);\n",
              "    var menu = document.getElementById(\"my_menu_id\");\n",
              "    menu.innerHTML=text_menu;\n",
              "};\n",
              "window.setTimeout(update_menu,2000);\n",
              "            </script>"
            ],
            "text/plain": [
              "<IPython.core.display.HTML object>"
            ]
          },
          "execution_count": 2,
          "metadata": {},
          "output_type": "execute_result"
        }
      ],
      "source": [
        "from jyquickhelper import add_notebook_menu\n",
        "add_notebook_menu()"
      ]
    },
    {
      "cell_type": "markdown",
      "metadata": {},
      "source": [
        "### Partie 3 : boucles (exercice)"
      ]
    },
    {
      "cell_type": "code",
      "execution_count": 2,
      "metadata": {},
      "outputs": [
        {
          "name": "stdout",
          "output_type": "stream",
          "text": [
            "4\n",
            "1\n",
            "3\n",
            "2\n"
          ]
        }
      ],
      "source": [
        "l = [ 4, 3, 0, 2, 1 ]\n",
        "i = 0\n",
        "while l[i] != 0 :\n",
        "    i = l[i]\n",
        "    print (i)            # que vaut l[i] \u00e0 la fin ?"
      ]
    },
    {
      "cell_type": "markdown",
      "metadata": {},
      "source": [
        "Cet exercice montre une fa\u00e7on curieuse de se d\u00e9placer dans un tableau puisqu'on commence \u00e0 la premi\u00e8re position puis on va la position indiqu\u00e9 par le premier \u00e9l\u00e9ment du tableau et ainsi de suite. On s'arr\u00eate quand on tombe sur la valeur z\u00e9ro."
      ]
    },
    {
      "cell_type": "code",
      "execution_count": 3,
      "metadata": {},
      "outputs": [
        {
          "data": {
            "image/png": "[encoded data removed]",
            "text/plain": [
              "<IPython.core.display.Image at 0x6c08b50>"
            ]
          },
          "execution_count": 4,
          "metadata": {},
          "output_type": "execute_result"
        }
      ],
      "source": [
        "from IPython.display import Image\n",
        "Image(\"td2_1.png\")"
      ]
    },
    {
      "cell_type": "markdown",
      "metadata": {},
      "source": [
        "### Partie 5 : recherche non dichotomique (exercice)\n",
        "\n",
        "Il n'y a pas d'autres moyens que de passer tous les \u00e9l\u00e9ments en revue et de conserver la position du premier \u00e9l\u00e9ment dans la liste qui v\u00e9rifie le crit\u00e8re de recherche."
      ]
    },
    {
      "cell_type": "code",
      "execution_count": 4,
      "metadata": {},
      "outputs": [
        {
          "name": "stdout",
          "output_type": "stream",
          "text": [
            "3\n"
          ]
        }
      ],
      "source": [
        "l = [ 3, 6, 2 , 7, 9 ]\n",
        "x = 7\n",
        "\n",
        "for i,v in enumerate(l) :\n",
        "    if v == x :\n",
        "        position = i\n",
        "\n",
        "print ( position )"
      ]
    },
    {
      "cell_type": "markdown",
      "metadata": {},
      "source": [
        "### Partie 6 : recherche dichotomique (exercice)"
      ]
    },
    {
      "cell_type": "markdown",
      "metadata": {},
      "source": [
        "La recherche dichotomique s'applique uniquement sur un tableau tri\u00e9e. A chaque it\u00e9ration, on vise le milieu du tableau pour savoir dans quelle moiti\u00e9 chercher."
      ]
    },
    {
      "cell_type": "code",
      "execution_count": 5,
      "metadata": {},
      "outputs": [
        {
          "name": "stdout",
          "output_type": "stream",
          "text": [
            "3\n"
          ]
        }
      ],
      "source": [
        "l = [2, 3, 6, 7, 9]\n",
        "# si la liste n'est pas tri\u00e9e, il faut \u00e9crire : \n",
        "l.sort ()\n",
        "x = 7\n",
        "\n",
        "a = 0\n",
        "b = len(l)-1\n",
        "while a <= b :\n",
        "    m = (a+b)//2  # ne pas oublier // sinon la division est r\u00e9elle\n",
        "    if l[m] == x : \n",
        "        position = m   # ligne A\n",
        "        break          # pas la peine de continuer, on quitte la boucle\n",
        "    elif l[m] < x :\n",
        "        a = m+1\n",
        "    else :\n",
        "        b = m-1\n",
        "\n",
        "print ( position )"
      ]
    },
    {
      "cell_type": "markdown",
      "metadata": {},
      "source": [
        "### Partie 7 : pour aller plus loin (exercice)"
      ]
    },
    {
      "cell_type": "markdown",
      "metadata": {},
      "source": [
        "Lorsque l'\u00e9l\u00e9ment \u00e0 chercher n'est pas dans la liste, cela d\u00e9clenche une erreur :"
      ]
    },
    {
      "cell_type": "code",
      "execution_count": 6,
      "metadata": {},
      "outputs": [
        {
          "name": "stdout",
          "output_type": "stream",
          "text": [
            "None\n"
          ]
        }
      ],
      "source": [
        "l = [2, 3, 6, 7, 9]\n",
        "l.sort ()\n",
        "x = 5\n",
        "\n",
        "position = -1\n",
        "\n",
        "a = 0\n",
        "b = len(l)-1\n",
        "while a <= b :\n",
        "    m = (a+b)//2\n",
        "    if l[m] == x : \n",
        "        position = m\n",
        "        break      \n",
        "    elif l[m] < x :\n",
        "        a = m+1\n",
        "    else :\n",
        "        b = m-1\n",
        "\n",
        "print ( position )"
      ]
    },
    {
      "cell_type": "markdown",
      "metadata": {},
      "source": [
        "Le programme affiche ``None`` qui \u00e9tait la valeur par d\u00e9faut de la variable position. La boucle n'a pas chang\u00e9 le contenu de la variable. Donc, lorsque ``position==-1``, cela veut dire que le r\u00e9sultat n'a pas \u00e9t\u00e9 trouv\u00e9.\n",
        "\n",
        "**Co\u00fbt**\n",
        "\n",
        "Comme \u00e0 chaque it\u00e9ration, on divise la taille du probl\u00e8me par deux, on est s\u00fbr que l'algorithme a trouv\u00e9 la r\u00e9ponse lorsque $\\frac{n}{2^k} < 1$ o\u00f9 $n$ est le nombre d'\u00e9l\u00e9ments du tableau et $k$ le nombre d'it\u00e9rations. Par cons\u00e9quent, $k \\sim \\ln_2 n$. On note cela $O(\\ln_2 n)$. Le programme suivant v\u00e9rifie cela :"
      ]
    },
    {
      "cell_type": "code",
      "execution_count": 7,
      "metadata": {},
      "outputs": [
        {
          "name": "stdout",
          "output_type": "stream",
          "text": [
            "k= 0 x= 298775 it\u00e9ration= 20  log2(len(l))= 19.931568569324174\n",
            "k= 1 x= 941582 it\u00e9ration= 19  log2(len(l))= 19.931568569324174\n",
            "k= 2 x= 74686 it\u00e9ration= 20  log2(len(l))= 19.931568569324174\n",
            "k= 3 x= 274574 it\u00e9ration= 20  log2(len(l))= 19.931568569324174\n",
            "k= 4 x= 573574 it\u00e9ration= 20  log2(len(l))= 19.931568569324174\n",
            "k= 5 x= 351579 it\u00e9ration= 18  log2(len(l))= 19.931568569324174\n",
            "k= 6 x= 414944 it\u00e9ration= 20  log2(len(l))= 19.931568569324174\n",
            "k= 7 x= 556908 it\u00e9ration= 20  log2(len(l))= 19.931568569324174\n",
            "k= 8 x= 894863 it\u00e9ration= 19  log2(len(l))= 19.931568569324174\n",
            "k= 9 x= 651824 it\u00e9ration= 20  log2(len(l))= 19.931568569324174\n"
          ]
        }
      ],
      "source": [
        "import random, math\n",
        "l = list(range(0,1000000))\n",
        "\n",
        "for k in range(0,10):\n",
        "    x = random.randint(0,l[-1])\n",
        "    \n",
        "    iter = 0\n",
        "    a = 0\n",
        "    b = len(l)-1\n",
        "    while a <= b :\n",
        "        iter += 1\n",
        "        m = (a+b)//2\n",
        "        if l[m] == x : \n",
        "            position = m\n",
        "            break      \n",
        "        elif l[m] < x :\n",
        "            a = m+1\n",
        "        else :\n",
        "            b = m-1\n",
        "            \n",
        "    print (\"k=\",k, \"x=\", x, \"it\u00e9ration=\", iter, \" log2(len(l))=\", math.log(len(l))/math.log(2))"
      ]
    },
    {
      "cell_type": "code",
      "execution_count": 8,
      "metadata": {},
      "outputs": [],
      "source": []
    }
  ],
  "metadata": {
    "kernelspec": {
      "display_name": "Python 3",
      "language": "python",
      "name": "python3"
    },
    "language_info": {
      "codemirror_mode": {
        "name": "ipython",
        "version": 3
      },
      "file_extension": ".py",
      "mimetype": "text/x-python",
      "name": "python",
      "nbconvert_exporter": "python",
      "pygments_lexer": "ipython3",
      "version": "3.6.1"
    }
  },
  "nbformat": 4,
  "nbformat_minor": 1
}