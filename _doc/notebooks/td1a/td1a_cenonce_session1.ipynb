{
  "cells": [
    {
      "cell_type": "markdown",
      "metadata": {},
      "source": [
        "# 1A.0 : Premiers pas en Python\n",
        "\n",
        "Questions tr\u00e8s simples pour ceux qui savent coder, quelques \u00e9l\u00e9ments principaux du langage Python pour les autres."
      ]
    },
    {
      "cell_type": "code",
      "execution_count": null,
      "metadata": {},
      "outputs": [
        {
          "data": {
            "text/html": [
              "<div id=\"my_id_menu_nb\">run previous cell, wait for 2 seconds</div>\n",
              "<script>\n",
              "function repeat_indent_string(n){\n",
              "    var a = \"\" ;\n",
              "    for ( ; n > 0 ; --n)\n",
              "        a += \"    \";\n",
              "    return a;\n",
              "}\n",
              "var update_menu_string = function(begin, lfirst, llast, sformat, send, keep_item, begin_format, end_format) {\n",
              "    var anchors = document.getElementsByClassName(\"section\");\n",
              "    if (anchors.length == 0) {\n",
              "        anchors = document.getElementsByClassName(\"text_cell_render rendered_html\");\n",
              "    }\n",
              "    var i,t;\n",
              "    var text_menu = begin;\n",
              "    var text_memo = \"<pre>\\nlength:\" + anchors.length + \"\\n\";\n",
              "    var ind = \"\";\n",
              "    var memo_level = 1;\n",
              "    var href;\n",
              "    var tags = [];\n",
              "    var main_item = 0;\n",
              "    var format_open = 0;\n",
              "    for (i = 0; i <= llast; i++)\n",
              "        tags.push(\"h\" + i);\n",
              "\n",
              "    for (i = 0; i < anchors.length; i++) {\n",
              "        text_memo += \"**\" + anchors[i].id + \"--\\n\";\n",
              "\n",
              "        var child = null;\n",
              "        for(t = 0; t < tags.length; t++) {\n",
              "            var r = anchors[i].getElementsByTagName(tags[t]);\n",
              "            if (r.length > 0) {\n",
              "child = r[0];\n",
              "break;\n",
              "            }\n",
              "        }\n",
              "        if (child == null) {\n",
              "            text_memo += \"null\\n\";\n",
              "            continue;\n",
              "        }\n",
              "        if (anchors[i].hasAttribute(\"id\")) {\n",
              "            // when converted in RST\n",
              "            href = anchors[i].id;\n",
              "            text_memo += \"#1-\" + href;\n",
              "            // passer \u00e0 child suivant (le chercher)\n",
              "        }\n",
              "        else if (child.hasAttribute(\"id\")) {\n",
              "            // in a notebook\n",
              "            href = child.id;\n",
              "            text_memo += \"#2-\" + href;\n",
              "        }\n",
              "        else {\n",
              "            text_memo += \"#3-\" + \"*\" + \"\\n\";\n",
              "            continue;\n",
              "        }\n",
              "        var title = child.textContent;\n",
              "        var level = parseInt(child.tagName.substring(1,2));\n",
              "\n",
              "        text_memo += \"--\" + level + \"?\" + lfirst + \"--\" + title + \"\\n\";\n",
              "\n",
              "        if ((level < lfirst) || (level > llast)) {\n",
              "            continue ;\n",
              "        }\n",
              "        if (title.endsWith('\u00b6')) {\n",
              "            title = title.substring(0,title.length-1).replace(\"<\", \"&lt;\")\n",
              "         .replace(\">\", \"&gt;\").replace(\"&\", \"&amp;\");\n",
              "        }\n",
              "        if (title.length == 0) {\n",
              "            continue;\n",
              "        }\n",
              "\n",
              "        while (level < memo_level) {\n",
              "            text_menu += end_format + \"</ul>\\n\";\n",
              "            format_open -= 1;\n",
              "            memo_level -= 1;\n",
              "        }\n",
              "        if (level == lfirst) {\n",
              "            main_item += 1;\n",
              "        }\n",
              "        if (keep_item != -1 && main_item != keep_item + 1) {\n",
              "            // alert(main_item + \" - \" + level + \" - \" + keep_item);\n",
              "            continue;\n",
              "        }\n",
              "        while (level > memo_level) {\n",
              "            text_menu += \"<ul>\\n\";\n",
              "            memo_level += 1;\n",
              "        }\n",
              "        text_menu += repeat_indent_string(level-2);\n",
              "        text_menu += begin_format + sformat.replace(\"__HREF__\", href).replace(\"__TITLE__\", title);\n",
              "        format_open += 1;\n",
              "    }\n",
              "    while (1 < memo_level) {\n",
              "        text_menu += end_format + \"</ul>\\n\";\n",
              "        memo_level -= 1;\n",
              "        format_open -= 1;\n",
              "    }\n",
              "    text_menu += send;\n",
              "    //text_menu += \"\\n\" + text_memo;\n",
              "\n",
              "    while (format_open > 0) {\n",
              "        text_menu += end_format;\n",
              "        format_open -= 1;\n",
              "    }\n",
              "    return text_menu;\n",
              "};\n",
              "var update_menu = function() {\n",
              "    var sbegin = \"\";\n",
              "    var sformat = '<a href=\"#__HREF__\">__TITLE__</a>';\n",
              "    var send = \"\";\n",
              "    var begin_format = '<li>';\n",
              "    var end_format = '</li>';\n",
              "    var keep_item = -1;\n",
              "    var text_menu = update_menu_string(sbegin, 2, 4, sformat, send, keep_item,\n",
              "       begin_format, end_format);\n",
              "    var menu = document.getElementById(\"my_id_menu_nb\");\n",
              "    menu.innerHTML=text_menu;\n",
              "};\n",
              "window.setTimeout(update_menu,2000);\n",
              "            </script>"
            ],
            "text/plain": [
              "<IPython.core.display.HTML object>"
            ]
          },
          "execution_count": null,
          "metadata": {},
          "output_type": "execute_result"
        }
      ],
      "source": [
        "from jyquickhelper import add_notebook_menu\n",
        "add_notebook_menu()"
      ]
    },
    {
      "cell_type": "markdown",
      "metadata": {},
      "source": [
        "### Partie 1"
      ]
    },
    {
      "cell_type": "markdown",
      "metadata": {},
      "source": [
        "Un langage de programmation permet de d\u00e9crire avec pr\u00e9cision des op\u00e9rations tr\u00e8s simples sur des donn\u00e9es. Comme tout langage, il a une grammaire et des **mot-cl\u00e9s**. La complexit\u00e9 d'un programme vient de ce qu'il faut beaucoup d'op\u00e9rations simples pour arriver \u00e0 ses fins. Voyons cela quelques usages simples. Il vous suffit d'ex\u00e9cuter chaque petit extrait en appuyant sur le triangle pointant vers la droite ci-dessus. N'h\u00e9sitez pas \u00e0 modifier les extraits pour mieux comprendre ce que le programme fait.\n",
        "\n",
        "**La calculatrice**"
      ]
    },
    {
      "cell_type": "code",
      "execution_count": null,
      "metadata": {},
      "outputs": [
        {
          "name": "stdout",
          "output_type": "stream",
          "text": [
            "15\n"
          ]
        }
      ],
      "source": [
        "x = 5\n",
        "y = 10\n",
        "z = x + y\n",
        "print(z)    # affiche z"
      ]
    },
    {
      "cell_type": "markdown",
      "metadata": {},
      "source": [
        "On programme sert souvent \u00e0 automatiser un calcul comme le calcul mensuel du taux de ch\u00f4mage, le taux d'inflation, le temps qu'il fera demain... Pour pouvoir r\u00e9p\u00e9ter ce m\u00eame calcul sur des valeurs diff\u00e9rentes, il faut pouvoir d\u00e9crire ce calcul sans savoir ce que sont ces valeurs. Un moyen simple est de les nommer : on utilise des variables. Une variable d\u00e9signe des donn\u00e9es. ``x=5`` signifie que la variable ``x``contient 5. ``x+3`` signifie qu'on ajoute 3 \u00e0 ``x`` sans avoir besoin de savoir ce que ``x`` d\u00e9signe.\n",
        "\n",
        "**L'addition, l'incr\u00e9mentation**"
      ]
    },
    {
      "cell_type": "code",
      "execution_count": null,
      "metadata": {},
      "outputs": [
        {
          "name": "stdout",
          "output_type": "stream",
          "text": [
            "3\n",
            "7\n"
          ]
        }
      ],
      "source": [
        "x = 2\n",
        "y = x + 1\n",
        "print(y)\n",
        "x += 5\n",
        "print(x)"
      ]
    },
    {
      "cell_type": "markdown",
      "metadata": {},
      "source": [
        "Lorsqu'on programme, on passe son temps \u00e0 \u00e9crire des calculs \u00e0 partir de variables pour les stocker dans d'autres variables voire dans les m\u00eames variables. Lorsqu'on \u00e9crit ``y=x+5``, cela veut dire qu'on doit ajouter 5 \u00e0 ``x`` et qu'on stocke le r\u00e9sultat dans ``y``. Lorsqu'on \u00e9crit ``x += 5``, cela veut dire qu'on doit ajouter 5 \u00e0 ``x`` et qu'on n'a plus besoin de la valeur que ``x`` contenait avant l'op\u00e9ration.\n",
        "\n",
        "**La r\u00e9p\u00e9tition ou les boucles**"
      ]
    },
    {
      "cell_type": "code",
      "execution_count": null,
      "metadata": {},
      "outputs": [
        {
          "name": "stdout",
          "output_type": "stream",
          "text": [
            "45\n"
          ]
        }
      ],
      "source": [
        "a = 0\n",
        "for i in range (0, 10) :\n",
        "    a = a + i             # r\u00e9p\u00e8te dix fois cette ligne\n",
        "print (a)   "
      ]
    },
    {
      "cell_type": "markdown",
      "metadata": {},
      "source": [
        "Le mot-cl\u00e9 ``print`` n'a pas d'incidence sur le programme. En revanche, il permet d'afficher l'\u00e9tat d'une variable au moment o\u00f9 on ex\u00e9cute l'instruction ``print``.\n",
        "\n",
        "**L'aiguillage ou les tests**"
      ]
    },
    {
      "cell_type": "code",
      "execution_count": null,
      "metadata": {},
      "outputs": [
        {
          "name": "stdout",
          "output_type": "stream",
          "text": [
            "10\n"
          ]
        }
      ],
      "source": [
        "a = 10\n",
        "if a > 0 :\n",
        "    print(a)     # un seul des deux blocs est pris en consid\u00e9ration\n",
        "else:\n",
        "    a -=  1\n",
        "    print(a)"
      ]
    },
    {
      "cell_type": "markdown",
      "metadata": {},
      "source": [
        "**Les cha\u00eenes de caract\u00e8res**"
      ]
    },
    {
      "cell_type": "code",
      "execution_count": null,
      "metadata": {},
      "outputs": [
        {
          "name": "stdout",
          "output_type": "stream",
          "text": [
            "10\n",
            "a\n",
            "textec\n"
          ]
        }
      ],
      "source": [
        "a = 10\n",
        "print(a)     # quelle est la diff\u00e9rence\n",
        "print(\"a\")   # entre les deux lignes\n",
        "s = \"texte\"\n",
        "s += \"c\"\n",
        "print(s)   "
      ]
    },
    {
      "cell_type": "markdown",
      "metadata": {},
      "source": [
        "Toute valeur a un type et cela d\u00e9termine les op\u00e9rations qu'on peut faire dessus. ``2 + 2`` fait ``4`` pour tout le monde. ``2 + \"2\"`` fait quatre pour un humain, mais est incompr\u00e9hensible pour l'ordinateur car on ajoute deux choses diff\u00e9rentes (``torchon + serviette``)."
      ]
    },
    {
      "cell_type": "code",
      "execution_count": null,
      "metadata": {},
      "outputs": [
        {
          "name": "stdout",
          "output_type": "stream",
          "text": [
            "23\n",
            "5\n"
          ]
        }
      ],
      "source": [
        "print(\"2\" + \"3\")\n",
        "print(2+3)"
      ]
    },
    {
      "cell_type": "markdown",
      "metadata": {},
      "source": [
        "### Partie 2"
      ]
    },
    {
      "cell_type": "markdown",
      "metadata": {},
      "source": [
        "Dans cette seconde s\u00e9rie, partie, il s'agit d'interpr\u00e9ter pourquoi un programme ne fait pas ce qu'il est cens\u00e9 faire ou pourquoi il provoque une erreur, et si possible, de corriger cette erreur.\n",
        "\n",
        "**Un oubli**"
      ]
    },
    {
      "cell_type": "code",
      "execution_count": null,
      "metadata": {},
      "outputs": [
        {
          "name": "stdout",
          "output_type": "stream",
          "text": [
            "9\n"
          ]
        }
      ],
      "source": [
        "a = 5\n",
        "a +=  4\n",
        "print(a)   # on voudrait voir 9 mais c'est 5 qui appara\u00eet"
      ]
    },
    {
      "cell_type": "markdown",
      "metadata": {},
      "source": [
        "**Une erreur de syntaxe**"
      ]
    },
    {
      "cell_type": "code",
      "execution_count": null,
      "metadata": {},
      "outputs": [
        {
          "name": "stdout",
          "output_type": "stream",
          "text": [
            "45\n"
          ]
        }
      ],
      "source": [
        "a = 0\n",
        "for i in range (0, 10):   # il manque quelque chose sur cette ligne\n",
        "    a = a + i\n",
        "print(a)"
      ]
    },
    {
      "cell_type": "markdown",
      "metadata": {},
      "source": [
        "**Une autre erreur de syntaxe**"
      ]
    },
    {
      "cell_type": "code",
      "execution_count": null,
      "metadata": {},
      "outputs": [
        {
          "name": "stdout",
          "output_type": "stream",
          "text": [
            "45\n"
          ]
        }
      ],
      "source": [
        "a = 0\n",
        "for i in range (0, 10):\n",
        "    a = a + i                # regardez bien\n",
        "print(a)   "
      ]
    },
    {
      "cell_type": "markdown",
      "metadata": {},
      "source": [
        "**Une op\u00e9ration interdite**"
      ]
    },
    {
      "cell_type": "code",
      "execution_count": null,
      "metadata": {},
      "outputs": [
        {
          "ename": "TypeError",
          "evalue": "unsupported operand type(s) for +: 'int' and 'str'",
          "output_type": "error",
          "traceback": [
            "\u001b[1;31m---------------------------------------------------------------------------\u001b[0m\n\u001b[1;31mTypeError\u001b[0m                                 Traceback (most recent call last)",
            "\u001b[1;32m<ipython-input-11-6600ae759b48>\u001b[0m in \u001b[0;36m<module>\u001b[1;34m()\u001b[0m\n\u001b[0;32m      1\u001b[0m \u001b[0ma\u001b[0m \u001b[1;33m=\u001b[0m \u001b[1;36m0\u001b[0m\u001b[1;33m\u001b[0m\u001b[0m\n\u001b[0;32m      2\u001b[0m \u001b[0ms\u001b[0m \u001b[1;33m=\u001b[0m \u001b[1;34m\"e\"\u001b[0m\u001b[1;33m\u001b[0m\u001b[0m\n\u001b[1;32m----> 3\u001b[1;33m \u001b[0mprint\u001b[0m \u001b[1;33m(\u001b[0m\u001b[0ma\u001b[0m \u001b[1;33m+\u001b[0m \u001b[0ms\u001b[0m\u001b[1;33m)\u001b[0m\u001b[1;33m\u001b[0m\u001b[0m\n\u001b[0m",
            "\u001b[1;31mTypeError\u001b[0m: unsupported operand type(s) for +: 'int' and 'str'"
          ]
        }
      ],
      "source": [
        "a = 0\n",
        "s = \"e\"\n",
        "print(a + s)    # petit probl\u00e8me de type"
      ]
    },
    {
      "cell_type": "markdown",
      "metadata": {},
      "source": [
        "**Un nombre impair de...**"
      ]
    },
    {
      "cell_type": "code",
      "execution_count": null,
      "metadata": {},
      "outputs": [
        {
          "name": "stdout",
          "output_type": "stream",
          "text": [
            "195\n"
          ]
        }
      ],
      "source": [
        "a = 0\n",
        "for i in range (0, 10) :\n",
        "      a = (a + (i+2)*3  )       # comptez bien\n",
        "print(a)   "
      ]
    },
    {
      "cell_type": "markdown",
      "metadata": {},
      "source": [
        "### Partie 3"
      ]
    },
    {
      "cell_type": "markdown",
      "metadata": {},
      "source": [
        "Il faut maintenant \u00e9crire trois programmes qui :\n",
        "\n",
        "+   Ecrire un programme qui calcule la somme des 10 premiers entiers au carr\u00e9.\n",
        "+   Ecrire un programme qui calcule la somme des 5 premiers entiers impairs au carr\u00e9.\n",
        "+   Ecrire un programme qui calcule la somme des qui 10 premi\u00e8res factorielles : $\\sum_{i=1}^{10} i!$.\n",
        "\n",
        "A propos de la parit\u00e9 :"
      ]
    },
    {
      "cell_type": "code",
      "execution_count": null,
      "metadata": {},
      "outputs": [
        {
          "data": {
            "text/plain": [
              "(0, 1)"
            ]
          },
          "execution_count": null,
          "metadata": {},
          "output_type": "execute_result"
        }
      ],
      "source": [
        "14%2, 233%2"
      ]
    },
    {
      "cell_type": "markdown",
      "metadata": {},
      "source": [
        "### Tutor Magic"
      ]
    },
    {
      "cell_type": "markdown",
      "metadata": {},
      "source": [
        "Cet outil permet de visualiser le d\u00e9roulement des programmes (pas trop grand, site original [pythontutor.com](http://www.pythontutor.com/))."
      ]
    },
    {
      "cell_type": "code",
      "execution_count": null,
      "metadata": {
        "collapsed": true
      },
      "outputs": [],
      "source": [
        "%load_ext tutormagic"
      ]
    },
    {
      "cell_type": "code",
      "execution_count": null,
      "metadata": {},
      "outputs": [
        {
          "data": {
            "text/html": [
              "\n",
              "        <iframe\n",
              "            width=\"90%\"\n",
              "            height=\"350\"\n",
              "            src=\"http://pythontutor.com/iframe-embed.html#code=%0Aa%20%3D%200%0Afor%20i%20in%20range%20%280%2C%2010%29%3A%0A%20%20%20%20a%20%3D%20a%20%2B%20i&origin=opt-frontend.js&cumulative=false&heapPrimitives=false&textReferences=false&py=3&rawInputLstJSON=%5B%5D&curInstr=0&codeDivWidth=50%25&codeDivHeight=100%25\"\n",
              "            frameborder=\"0\"\n",
              "            allowfullscreen\n",
              "        ></iframe>\n",
              "        "
            ],
            "text/plain": [
              "<IPython.lib.display.IFrame at 0x958af60>"
            ]
          },
          "metadata": {},
          "output_type": "display_data"
        }
      ],
      "source": [
        "%%tutor --lang python3\n",
        "\n",
        "a = 0\n",
        "for i in range (0, 10):\n",
        "    a = a + i"
      ]
    },
    {
      "cell_type": "markdown",
      "metadata": {},
      "source": [
        "Arriverez-vous \u00e0 r\u00e9soudre le premi\u00e8re exercice du site [CodinGame](https://www.codingame.com/) ?"
      ]
    },
    {
      "cell_type": "code",
      "execution_count": null,
      "metadata": {
        "collapsed": true
      },
      "outputs": [],
      "source": []
    }
  ],
  "metadata": {
    "kernelspec": {
      "display_name": "Python 3",
      "language": "python",
      "name": "python3"
    },
    "language_info": {
      "codemirror_mode": {
        "name": "ipython",
        "version": 3
      },
      "file_extension": ".py",
      "mimetype": "text/x-python",
      "name": "python",
      "nbconvert_exporter": "python",
      "pygments_lexer": "ipython3",
      "version": "3.6.1"
    }
  },
  "nbformat": 4,
  "nbformat_minor": 1
}