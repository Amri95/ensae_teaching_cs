{
  "cells": [
    {
      "cell_type": "markdown",
      "metadata": {},
      "source": [
        "# Jeux de coloriage\n",
        "\n",
        "Le notebook explore quelques probl\u00e8mes de g\u00e9om\u00e9trie dans un carr\u00e9."
      ]
    },
    {
      "cell_type": "code",
      "execution_count": 1,
      "metadata": {},
      "outputs": [
        {
          "data": {
            "text/html": [
              "<div id=\"my_id_menu_nb\">run previous cell, wait for 2 seconds</div>\n",
              "<script>\n",
              "function repeat_indent_string(n){\n",
              "    var a = \"\" ;\n",
              "    for ( ; n > 0 ; --n)\n",
              "        a += \"    \";\n",
              "    return a;\n",
              "}\n",
              "// look up into all sections and builds an automated menu //\n",
              "var update_menu_string = function(begin, lfirst, llast, sformat, send, keep_item, begin_format, end_format) {\n",
              "    var anchors = document.getElementsByClassName(\"section\");\n",
              "    if (anchors.length == 0) {\n",
              "        anchors = document.getElementsByClassName(\"text_cell_render rendered_html\");\n",
              "    }\n",
              "    var i,t;\n",
              "    var text_menu = begin;\n",
              "    var text_memo = \"<pre>\\nlength:\" + anchors.length + \"\\n\";\n",
              "    var ind = \"\";\n",
              "    var memo_level = 1;\n",
              "    var href;\n",
              "    var tags = [];\n",
              "    var main_item = 0;\n",
              "    var format_open = 0;\n",
              "    for (i = 0; i <= llast; i++)\n",
              "        tags.push(\"h\" + i);\n",
              "\n",
              "    for (i = 0; i < anchors.length; i++) {\n",
              "        text_memo += \"**\" + anchors[i].id + \"--\\n\";\n",
              "\n",
              "        var child = null;\n",
              "        for(t = 0; t < tags.length; t++) {\n",
              "            var r = anchors[i].getElementsByTagName(tags[t]);\n",
              "            if (r.length > 0) {\n",
              "child = r[0];\n",
              "break;\n",
              "            }\n",
              "        }\n",
              "        if (child == null) {\n",
              "            text_memo += \"null\\n\";\n",
              "            continue;\n",
              "        }\n",
              "        if (anchors[i].hasAttribute(\"id\")) {\n",
              "            // when converted in RST\n",
              "            href = anchors[i].id;\n",
              "            text_memo += \"#1-\" + href;\n",
              "            // passer \u00e0 child suivant (le chercher)\n",
              "        }\n",
              "        else if (child.hasAttribute(\"id\")) {\n",
              "            // in a notebook\n",
              "            href = child.id;\n",
              "            text_memo += \"#2-\" + href;\n",
              "        }\n",
              "        else {\n",
              "            text_memo += \"#3-\" + \"*\" + \"\\n\";\n",
              "            continue;\n",
              "        }\n",
              "        var title = child.textContent;\n",
              "        var level = parseInt(child.tagName.substring(1,2));\n",
              "\n",
              "        text_memo += \"--\" + level + \"?\" + lfirst + \"--\" + title + \"\\n\";\n",
              "\n",
              "        if ((level < lfirst) || (level > llast)) {\n",
              "            continue ;\n",
              "        }\n",
              "        if (title.endsWith('\u00b6')) {\n",
              "            title = title.substring(0,title.length-1).replace(\"<\", \"&lt;\")\n",
              "         .replace(\">\", \"&gt;\").replace(\"&\", \"&amp;\");\n",
              "        }\n",
              "        if (title.length == 0) {\n",
              "            continue;\n",
              "        }\n",
              "\n",
              "        while (level < memo_level) {\n",
              "            text_menu += end_format + \"</ul>\\n\";\n",
              "            format_open -= 1;\n",
              "            memo_level -= 1;\n",
              "        }\n",
              "        if (level == lfirst) {\n",
              "            main_item += 1;\n",
              "        }\n",
              "        if (keep_item != -1 && main_item != keep_item + 1) {\n",
              "            // alert(main_item + \" - \" + level + \" - \" + keep_item);\n",
              "            continue;\n",
              "        }\n",
              "        while (level > memo_level) {\n",
              "            text_menu += \"<ul>\\n\";\n",
              "            memo_level += 1;\n",
              "        }\n",
              "        text_menu += repeat_indent_string(level-2);\n",
              "        text_menu += begin_format + sformat.replace(\"__HREF__\", href).replace(\"__TITLE__\", title);\n",
              "        format_open += 1;\n",
              "    }\n",
              "    while (1 < memo_level) {\n",
              "        text_menu += end_format + \"</ul>\\n\";\n",
              "        memo_level -= 1;\n",
              "        format_open -= 1;\n",
              "    }\n",
              "    text_menu += send;\n",
              "    //text_menu += \"\\n\" + text_memo;\n",
              "\n",
              "    while (format_open > 0) {\n",
              "        text_menu += end_format;\n",
              "        format_open -= 1;\n",
              "    }\n",
              "    return text_menu;\n",
              "};\n",
              "var update_menu = function() {\n",
              "    var sbegin = \"\";\n",
              "    var sformat = '<a href=\"#__HREF__\">__TITLE__</a>';\n",
              "    var send = \"\";\n",
              "    var begin_format = '<li>';\n",
              "    var end_format = '</li>';\n",
              "    var keep_item = -1;\n",
              "    var text_menu = update_menu_string(sbegin, 2, 4, sformat, send, keep_item,\n",
              "       begin_format, end_format);\n",
              "    var menu = document.getElementById(\"my_id_menu_nb\");\n",
              "    menu.innerHTML=text_menu;\n",
              "};\n",
              "window.setTimeout(update_menu,2000);\n",
              "            </script>"
            ],
            "text/plain": [
              "<IPython.core.display.HTML object>"
            ]
          },
          "execution_count": 2,
          "metadata": {},
          "output_type": "execute_result"
        }
      ],
      "source": [
        "from jyquickhelper import add_notebook_menu\n",
        "add_notebook_menu()"
      ]
    },
    {
      "cell_type": "code",
      "execution_count": 2,
      "metadata": {},
      "outputs": [],
      "source": [
        "%matplotlib inline"
      ]
    },
    {
      "cell_type": "markdown",
      "metadata": {},
      "source": [
        "## Colorier un carr\u00e9 \u00e0 proportion\n",
        "\n",
        "On souhaite colorier 20% d'un carr\u00e9. Facile !"
      ]
    },
    {
      "cell_type": "code",
      "execution_count": 3,
      "metadata": {},
      "outputs": [
        {
          "data": {
            "image/png": "[encoded data removed]",
            "text/plain": [
              "<Figure size 144x144 with 1 Axes>"
            ]
          },
          "metadata": {
            "needs_background": "light"
          },
          "output_type": "display_data"
        }
      ],
      "source": [
        "import matplotlib.pyplot as plt\n",
        "import matplotlib.patches as pch\n",
        "\n",
        "def carre(ax=None):\n",
        "    if ax is None:\n",
        "        fig, ax = plt.subplots(1, 1, figsize=(2, 2))\n",
        "    ax.plot([0, 0, 1, 1 ,0], [0, 1, 1, 0 ,0], 'k-')\n",
        "    ax.set_title(\"Carr\u00e9\")\n",
        "    return ax\n",
        "\n",
        "ax = carre()\n",
        "ax.add_patch(pch.Rectangle((0, 0), 0.2, 1, color=\"blue\"));"
      ]
    },
    {
      "cell_type": "markdown",
      "metadata": {},
      "source": [
        "## Colorier en diagonale"
      ]
    },
    {
      "cell_type": "code",
      "execution_count": 4,
      "metadata": {},
      "outputs": [
        {
          "data": {
            "image/png": "[encoded data removed]",
            "text/plain": [
              "<Figure size 144x144 with 1 Axes>"
            ]
          },
          "metadata": {
            "needs_background": "light"
          },
          "output_type": "display_data"
        }
      ],
      "source": [
        "import numpy\n",
        "ax = carre()\n",
        "ax.add_patch(pch.Polygon(numpy.array([(0, 0), (0.2, 0), (0, 0.2), (0, 0)]), color=\"blue\"));"
      ]
    },
    {
      "cell_type": "markdown",
      "metadata": {},
      "source": [
        "Moins facile..."
      ]
    },
    {
      "cell_type": "markdown",
      "metadata": {},
      "source": [
        "## Fonction de la surface couverte"
      ]
    },
    {
      "cell_type": "code",
      "execution_count": 5,
      "metadata": {},
      "outputs": [
        {
          "data": {
            "image/png": "[encoded data removed]",
            "text/plain": [
              "<Figure size 576x288 with 1 Axes>"
            ]
          },
          "metadata": {
            "needs_background": "light"
          },
          "output_type": "display_data"
        }
      ],
      "source": [
        "def surface(x):\n",
        "    if x <= 1.:\n",
        "        return x**2 / 2\n",
        "    if x <= 2.:\n",
        "        return surface(1) + 0.5 - surface(2 - x)\n",
        "    \n",
        "fig, ax = plt.subplots(1, 1, figsize=(8, 4))\n",
        "X = numpy.arange(0, 200) / 100\n",
        "Y = [surface(x) for x in X]\n",
        "ax.plot(X, Y)\n",
        "ax.set_title(\"Surface diagonale en fonction de x\")\n",
        "ax.set_xlabel(\"x\")\n",
        "ax.set_ylabel(\"% couvert\");"
      ]
    },
    {
      "cell_type": "markdown",
      "metadata": {},
      "source": [
        "Ce qui nous int\u00e9resse en fait, c'est la r\u00e9ciproque de la fonction. Premi\u00e8re version, sans savoir calculer mais en supposant qu'elle est croissante."
      ]
    },
    {
      "cell_type": "code",
      "execution_count": 6,
      "metadata": {},
      "outputs": [
        {
          "data": {
            "text/plain": [
              "0.6325000000000005"
            ]
          },
          "execution_count": 7,
          "metadata": {},
          "output_type": "execute_result"
        }
      ],
      "source": [
        "def surface_inverse(y, precision=1e-3):\n",
        "    x = 0\n",
        "    while x <= 2:\n",
        "        s = surface(x)\n",
        "        if s >= y:\n",
        "            break\n",
        "        x += precision\n",
        "    return x - precision / 2\n",
        "\n",
        "surface_inverse(0.2)"
      ]
    },
    {
      "cell_type": "code",
      "execution_count": 7,
      "metadata": {},
      "outputs": [
        {
          "data": {
            "image/png": "[encoded data removed]",
            "text/plain": [
              "<Figure size 288x288 with 1 Axes>"
            ]
          },
          "metadata": {
            "needs_background": "light"
          },
          "output_type": "display_data"
        }
      ],
      "source": [
        "fig, ax = plt.subplots(1, 1, figsize=(4, 4))\n",
        "X = numpy.arange(0, 200) / 100\n",
        "Y = [surface(x) for x in X]\n",
        "ax.plot(X, Y, label=\"surface\")\n",
        "X2 = numpy.arange(0, 100) / 100\n",
        "Y2 = [surface_inverse(x) for x in X2]\n",
        "ax.plot(X2, Y2, label=\"surface_inverse\")\n",
        "ax.set_title(\"Surface diagonale en fonction de x\")\n",
        "ax.legend();"
      ]
    },
    {
      "cell_type": "markdown",
      "metadata": {},
      "source": [
        "Ca marche mais..."
      ]
    },
    {
      "cell_type": "code",
      "execution_count": 8,
      "metadata": {},
      "outputs": [
        {
          "name": "stdout",
          "output_type": "stream",
          "text": [
            "357 ns \u00b1 16.7 ns per loop (mean \u00b1 std. dev. of 7 runs, 1000000 loops each)\n"
          ]
        }
      ],
      "source": [
        "%timeit surface(0.6)"
      ]
    },
    {
      "cell_type": "code",
      "execution_count": 9,
      "metadata": {},
      "outputs": [
        {
          "name": "stdout",
          "output_type": "stream",
          "text": [
            "271 \u00b5s \u00b1 27.4 \u00b5s per loop (mean \u00b1 std. dev. of 7 runs, 1000 loops each)\n"
          ]
        }
      ],
      "source": [
        "y = surface(0.6)\n",
        "%timeit surface_inverse(y)"
      ]
    },
    {
      "cell_type": "markdown",
      "metadata": {},
      "source": [
        "Et c'est de plus en plus long."
      ]
    },
    {
      "cell_type": "code",
      "execution_count": 10,
      "metadata": {},
      "outputs": [
        {
          "name": "stdout",
          "output_type": "stream",
          "text": [
            "399 \u00b5s \u00b1 20.6 \u00b5s per loop (mean \u00b1 std. dev. of 7 runs, 1000 loops each)\n"
          ]
        }
      ],
      "source": [
        "%timeit surface_inverse(y * 2)"
      ]
    },
    {
      "cell_type": "markdown",
      "metadata": {},
      "source": [
        "Il y a plus court."
      ]
    },
    {
      "cell_type": "code",
      "execution_count": 11,
      "metadata": {},
      "outputs": [
        {
          "data": {
            "text/plain": [
              "0.63232421875"
            ]
          },
          "execution_count": 12,
          "metadata": {},
          "output_type": "execute_result"
        }
      ],
      "source": [
        "def surface_inverse_dicho(y, a=0., b=2., precision=1e-3):\n",
        "    while abs(a - b) >= precision:\n",
        "        m = (a + b) / 2.\n",
        "        s = surface(m)\n",
        "        if s >= y:\n",
        "            b = m\n",
        "        else:\n",
        "            a = m\n",
        "    return (a + b) / 2.\n",
        "\n",
        "surface_inverse_dicho(0.2)"
      ]
    },
    {
      "cell_type": "code",
      "execution_count": 12,
      "metadata": {},
      "outputs": [
        {
          "data": {
            "image/png": "[encoded data removed]",
            "text/plain": [
              "<Figure size 288x288 with 1 Axes>"
            ]
          },
          "metadata": {
            "needs_background": "light"
          },
          "output_type": "display_data"
        }
      ],
      "source": [
        "fig, ax = plt.subplots(1, 1, figsize=(4, 4))\n",
        "X = numpy.arange(0, 200) / 100\n",
        "Y = [surface(x) for x in X]\n",
        "ax.plot(X, Y, label=\"surface\")\n",
        "X2 = numpy.arange(0, 100) / 100\n",
        "Y2 = [surface_inverse(x) for x in X2]\n",
        "ax.plot(X2, Y2, label=\"surface_inverse\")\n",
        "X3 = numpy.arange(0, 100) / 100\n",
        "Y3 = [surface_inverse_dicho(x) for x in X2]\n",
        "ax.plot(X2, Y2, '.', label=\"surface_inverse_dicho\")\n",
        "ax.set_title(\"Surface diagonale en fonction de x\")\n",
        "ax.legend();"
      ]
    },
    {
      "cell_type": "markdown",
      "metadata": {},
      "source": [
        "Ca marche."
      ]
    },
    {
      "cell_type": "code",
      "execution_count": 13,
      "metadata": {},
      "outputs": [
        {
          "name": "stdout",
          "output_type": "stream",
          "text": [
            "6.9 \u00b5s \u00b1 75.7 ns per loop (mean \u00b1 std. dev. of 7 runs, 100000 loops each)\n"
          ]
        }
      ],
      "source": [
        "y = surface(0.6)\n",
        "%timeit surface_inverse_dicho(y)"
      ]
    },
    {
      "cell_type": "code",
      "execution_count": 14,
      "metadata": {},
      "outputs": [
        {
          "name": "stdout",
          "output_type": "stream",
          "text": [
            "7.36 \u00b5s \u00b1 216 ns per loop (mean \u00b1 std. dev. of 7 runs, 100000 loops each)\n"
          ]
        }
      ],
      "source": [
        "%timeit surface_inverse_dicho(y * 2)"
      ]
    },
    {
      "cell_type": "markdown",
      "metadata": {},
      "source": [
        "Pr\u00e8s de 50 fois plus rapide et cela ne d\u00e9pend pas de *y* cette fois-ci. Peut-on faire mieux ? On peut tabuler."
      ]
    },
    {
      "cell_type": "code",
      "execution_count": 15,
      "metadata": {},
      "outputs": [
        {
          "data": {
            "text/plain": [
              "0.63234375"
            ]
          },
          "execution_count": 16,
          "metadata": {},
          "output_type": "execute_result"
        }
      ],
      "source": [
        "N = 100\n",
        "table = {int(surface(x * 1. / N) * N): x * 1. / N for x in range(0, N+1)}\n",
        "\n",
        "def surface_inv_table(y, N=N, precision=1e-3):\n",
        "    i = int(y * N)\n",
        "    a = table[i-1]\n",
        "    b = table[i+1]\n",
        "    return surface_inverse_dicho(y, a, b, precision=precision)\n",
        "\n",
        "surface_inv_table(0.2)"
      ]
    },
    {
      "cell_type": "code",
      "execution_count": 16,
      "metadata": {},
      "outputs": [
        {
          "name": "stdout",
          "output_type": "stream",
          "text": [
            "4.5 \u00b5s \u00b1 199 ns per loop (mean \u00b1 std. dev. of 7 runs, 100000 loops each)\n"
          ]
        }
      ],
      "source": [
        "y = surface(0.6)\n",
        "%timeit surface_inv_table(y)"
      ]
    },
    {
      "cell_type": "code",
      "execution_count": 17,
      "metadata": {},
      "outputs": [
        {
          "name": "stdout",
          "output_type": "stream",
          "text": [
            "3.92 \u00b5s \u00b1 87.1 ns per loop (mean \u00b1 std. dev. of 7 runs, 100000 loops each)\n"
          ]
        }
      ],
      "source": [
        "y = surface(0.6)\n",
        "%timeit surface_inv_table(y * 2)"
      ]
    },
    {
      "cell_type": "markdown",
      "metadata": {},
      "source": [
        "C'est mieux mais cette solution est un peu d\u00e9fectueuse en l'\u00e9tat, trouverez-vous pourquoi ? L'expression ``len(table)`` devrait vous y aider."
      ]
    },
    {
      "cell_type": "code",
      "execution_count": 18,
      "metadata": {},
      "outputs": [
        {
          "data": {
            "text/plain": [
              "51"
            ]
          },
          "execution_count": 19,
          "metadata": {},
          "output_type": "execute_result"
        }
      ],
      "source": [
        "len(table)"
      ]
    },
    {
      "cell_type": "markdown",
      "metadata": {},
      "source": [
        "## Version math\u00e9matique\n",
        "\n",
        "Pour cette fonction, on sait calculer la r\u00e9ciproque de fa\u00e7on exacte."
      ]
    },
    {
      "cell_type": "code",
      "execution_count": 19,
      "metadata": {},
      "outputs": [
        {
          "data": {
            "text/plain": [
              "(0.6324555320336759, 1.3675444679663242)"
            ]
          },
          "execution_count": 20,
          "metadata": {},
          "output_type": "execute_result"
        }
      ],
      "source": [
        "def surface(x):\n",
        "    if x <= 1.:\n",
        "        return x**2 / 2\n",
        "    if x <= 2.:\n",
        "        return surface(1) + 0.5 - surface(2 - x)\n",
        "    \n",
        "def surface_inv_math(y):\n",
        "    if y <= 0.5:\n",
        "        # y = x**2 / 2\n",
        "        return (y * 2) ** 0.5\n",
        "    else:\n",
        "        # y = 1 - (2-x)**2 / 2\n",
        "        return 2 - ((1 - y ) * 2) ** 0.5\n",
        "\n",
        "surface_inv_math(0.2), surface_inv_math(0.8)"
      ]
    },
    {
      "cell_type": "code",
      "execution_count": 20,
      "metadata": {},
      "outputs": [
        {
          "name": "stdout",
          "output_type": "stream",
          "text": [
            "364 ns \u00b1 10.5 ns per loop (mean \u00b1 std. dev. of 7 runs, 1000000 loops each)\n"
          ]
        }
      ],
      "source": [
        "y = surface(0.6)\n",
        "%timeit surface_inv_math(y)"
      ]
    },
    {
      "cell_type": "code",
      "execution_count": 21,
      "metadata": {},
      "outputs": [
        {
          "name": "stdout",
          "output_type": "stream",
          "text": [
            "434 ns \u00b1 12.1 ns per loop (mean \u00b1 std. dev. of 7 runs, 1000000 loops each)\n"
          ]
        }
      ],
      "source": [
        "y = surface(0.6)\n",
        "%timeit surface_inv_math(y * 2)"
      ]
    },
    {
      "cell_type": "markdown",
      "metadata": {},
      "source": [
        "Il n'y a pas plus rapide mais cette option n'est pas toujours possible. Je passe la version \u00e9crite en C++, hors sujet pour le moment."
      ]
    },
    {
      "cell_type": "markdown",
      "metadata": {},
      "source": [
        "## Retour au coloriage"
      ]
    },
    {
      "cell_type": "code",
      "execution_count": 22,
      "metadata": {},
      "outputs": [
        {
          "data": {
            "image/png": "[encoded data removed]",
            "text/plain": [
              "<Figure size 432x216 with 2 Axes>"
            ]
          },
          "metadata": {
            "needs_background": "light"
          },
          "output_type": "display_data"
        }
      ],
      "source": [
        "def coloriage_diagonale(y, ax=None):\n",
        "    ax = carre(ax)\n",
        "    if y <= 0.5:\n",
        "        x = surface_inv_math(y)\n",
        "        ax.add_patch(pch.Polygon(numpy.array([(0, 0), (x, 0), (0, x), (0, 0)]), color=\"blue\"))\n",
        "    else:\n",
        "        ax.add_patch(pch.Polygon(numpy.array([(0, 0), (1, 0), (0, 1), (0, 0)]), color=\"blue\"))\n",
        "        x = surface_inv_math(y) - 1\n",
        "        ax.add_patch(pch.Polygon(\n",
        "            numpy.array([(1, 0), (1, x), (x, 1), (0, 1)]),\n",
        "            color=\"blue\"))\n",
        "    return ax\n",
        "\n",
        "fig, ax = plt.subplots(1, 2, figsize=(6, 3))\n",
        "coloriage_diagonale(0.2, ax=ax[0])\n",
        "coloriage_diagonale(0.8, ax=ax[1])\n",
        "ax[0].set_title(\"20%\")\n",
        "ax[1].set_title(\"80%\");"
      ]
    },
    {
      "cell_type": "markdown",
      "metadata": {},
      "source": [
        "## A quoi \u00e7a sert ?\n",
        "\n",
        "Une programme est la concr\u00e9tisation d'une id\u00e9e et il y a souvent un compromis entre le temps pass\u00e9 \u00e0 la r\u00e9aliser et la performance qu'on souhaite obtenir. Et c'est souvent sans fin car les machines \u00e9voluent rapidement ces temps-ci."
      ]
    },
    {
      "cell_type": "code",
      "execution_count": 23,
      "metadata": {},
      "outputs": [],
      "source": []
    }
  ],
  "metadata": {
    "kernelspec": {
      "display_name": "Python 3",
      "language": "python",
      "name": "python3"
    },
    "language_info": {
      "codemirror_mode": {
        "name": "ipython",
        "version": 3
      },
      "file_extension": ".py",
      "mimetype": "text/x-python",
      "name": "python",
      "nbconvert_exporter": "python",
      "pygments_lexer": "ipython3",
      "version": "3.7.2"
    }
  },
  "nbformat": 4,
  "nbformat_minor": 2
}