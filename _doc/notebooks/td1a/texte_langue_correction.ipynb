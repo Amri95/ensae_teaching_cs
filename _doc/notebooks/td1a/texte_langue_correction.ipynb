{
  "cells": [
    {
      "cell_type": "markdown",
      "metadata": {},
      "source": [
        "# 1A.2 - Deviner la langue d'un texte (correction)\n",
        "\n",
        "Calcul d'un score pour d\u00e9tecter la langue d'un texte. Ce notebook aborde les dictionnaires, les fichiers et les graphiques (correction)."
      ]
    },
    {
      "cell_type": "code",
      "execution_count": null,
      "metadata": {},
      "outputs": [
        {
          "data": {
            "text/html": [
              "<div id=\"my_id_menu_nb\">run previous cell, wait for 2 seconds</div>\n",
              "<script>\n",
              "function repeat_indent_string(n){\n",
              "    var a = \"\" ;\n",
              "    for ( ; n > 0 ; --n)\n",
              "        a += \"    \";\n",
              "    return a;\n",
              "}\n",
              "var update_menu_string = function(begin, lfirst, llast, sformat, send, keep_item, begin_format, end_format) {\n",
              "    var anchors = document.getElementsByClassName(\"section\");\n",
              "    if (anchors.length == 0) {\n",
              "        anchors = document.getElementsByClassName(\"text_cell_render rendered_html\");\n",
              "    }\n",
              "    var i,t;\n",
              "    var text_menu = begin;\n",
              "    var text_memo = \"<pre>\\nlength:\" + anchors.length + \"\\n\";\n",
              "    var ind = \"\";\n",
              "    var memo_level = 1;\n",
              "    var href;\n",
              "    var tags = [];\n",
              "    var main_item = 0;\n",
              "    var format_open = 0;\n",
              "    for (i = 0; i <= llast; i++)\n",
              "        tags.push(\"h\" + i);\n",
              "\n",
              "    for (i = 0; i < anchors.length; i++) {\n",
              "        text_memo += \"**\" + anchors[i].id + \"--\\n\";\n",
              "\n",
              "        var child = null;\n",
              "        for(t = 0; t < tags.length; t++) {\n",
              "            var r = anchors[i].getElementsByTagName(tags[t]);\n",
              "            if (r.length > 0) {\n",
              "child = r[0];\n",
              "break;\n",
              "            }\n",
              "        }\n",
              "        if (child == null) {\n",
              "            text_memo += \"null\\n\";\n",
              "            continue;\n",
              "        }\n",
              "        if (anchors[i].hasAttribute(\"id\")) {\n",
              "            // when converted in RST\n",
              "            href = anchors[i].id;\n",
              "            text_memo += \"#1-\" + href;\n",
              "            // passer \u00e0 child suivant (le chercher)\n",
              "        }\n",
              "        else if (child.hasAttribute(\"id\")) {\n",
              "            // in a notebook\n",
              "            href = child.id;\n",
              "            text_memo += \"#2-\" + href;\n",
              "        }\n",
              "        else {\n",
              "            text_memo += \"#3-\" + \"*\" + \"\\n\";\n",
              "            continue;\n",
              "        }\n",
              "        var title = child.textContent;\n",
              "        var level = parseInt(child.tagName.substring(1,2));\n",
              "\n",
              "        text_memo += \"--\" + level + \"?\" + lfirst + \"--\" + title + \"\\n\";\n",
              "\n",
              "        if ((level < lfirst) || (level > llast)) {\n",
              "            continue ;\n",
              "        }\n",
              "        if (title.endsWith('\u00b6')) {\n",
              "            title = title.substring(0,title.length-1).replace(\"<\", \"&lt;\")\n",
              "         .replace(\">\", \"&gt;\").replace(\"&\", \"&amp;\");\n",
              "        }\n",
              "        if (title.length == 0) {\n",
              "            continue;\n",
              "        }\n",
              "\n",
              "        while (level < memo_level) {\n",
              "            text_menu += end_format + \"</ul>\\n\";\n",
              "            format_open -= 1;\n",
              "            memo_level -= 1;\n",
              "        }\n",
              "        if (level == lfirst) {\n",
              "            main_item += 1;\n",
              "        }\n",
              "        if (keep_item != -1 && main_item != keep_item + 1) {\n",
              "            // alert(main_item + \" - \" + level + \" - \" + keep_item);\n",
              "            continue;\n",
              "        }\n",
              "        while (level > memo_level) {\n",
              "            text_menu += \"<ul>\\n\";\n",
              "            memo_level += 1;\n",
              "        }\n",
              "        text_menu += repeat_indent_string(level-2);\n",
              "        text_menu += begin_format + sformat.replace(\"__HREF__\", href).replace(\"__TITLE__\", title);\n",
              "        format_open += 1;\n",
              "    }\n",
              "    while (1 < memo_level) {\n",
              "        text_menu += end_format + \"</ul>\\n\";\n",
              "        memo_level -= 1;\n",
              "        format_open -= 1;\n",
              "    }\n",
              "    text_menu += send;\n",
              "    //text_menu += \"\\n\" + text_memo;\n",
              "\n",
              "    while (format_open > 0) {\n",
              "        text_menu += end_format;\n",
              "        format_open -= 1;\n",
              "    }\n",
              "    return text_menu;\n",
              "};\n",
              "var update_menu = function() {\n",
              "    var sbegin = \"\";\n",
              "    var sformat = '<a href=\"#__HREF__\">__TITLE__</a>';\n",
              "    var send = \"\";\n",
              "    var begin_format = '<li>';\n",
              "    var end_format = '</li>';\n",
              "    var keep_item = -1;\n",
              "    var text_menu = update_menu_string(sbegin, 2, 4, sformat, send, keep_item,\n",
              "       begin_format, end_format);\n",
              "    var menu = document.getElementById(\"my_id_menu_nb\");\n",
              "    menu.innerHTML=text_menu;\n",
              "};\n",
              "window.setTimeout(update_menu,2000);\n",
              "            </script>"
            ],
            "text/plain": [
              "<IPython.core.display.HTML object>"
            ]
          },
          "execution_count": null,
          "metadata": {},
          "output_type": "execute_result"
        }
      ],
      "source": [
        "from jyquickhelper import add_notebook_menu\n",
        "add_notebook_menu()"
      ]
    },
    {
      "cell_type": "code",
      "execution_count": null,
      "metadata": {
        "collapsed": true
      },
      "outputs": [],
      "source": [
        "%matplotlib inline"
      ]
    },
    {
      "cell_type": "markdown",
      "metadata": {},
      "source": [
        "## Q1 : lire un fichier"
      ]
    },
    {
      "cell_type": "code",
      "execution_count": null,
      "metadata": {
        "collapsed": true
      },
      "outputs": [],
      "source": [
        "def read_file(filename):\n",
        "    with open(filename, \"r\", encoding=\"utf-8\") as f:\n",
        "        return f.read()"
      ]
    },
    {
      "cell_type": "markdown",
      "metadata": {},
      "source": [
        "Les probl\u00e8mes d'[encoding](https://fr.wikipedia.org/wiki/Codage_des_caract%C3%A8res) sont toujours d\u00e9licats. Un encoding d\u00e9finit la fa\u00e7on dont une s\u00e9quence d'octets repr\u00e9sente une cha\u00eene de caract\u00e8res. Il y a 256 valeurs possible d'octets et la langue chinoise contient beaucoup plus de caract\u00e8res. Il faut donc utiliser plusieurs octets pour repr\u00e9senter un caract\u00e8re un peu comme le Morse qui n'utilise que deux symboles pour repr\u00e9senter 26 lettres. Quand on ne conna\u00eet pas l'encoding, on utilise un module [chardet](http://chardet.readthedocs.io/en/latest/index.html) et la fonction [detect](http://chardet.readthedocs.io/en/latest/usage.html)."
      ]
    },
    {
      "cell_type": "code",
      "execution_count": null,
      "metadata": {
        "collapsed": true
      },
      "outputs": [],
      "source": [
        "import chardet\n",
        "\n",
        "def read_file_enc(filename):\n",
        "    with open(filename, \"rb\") as f:\n",
        "        b = f.read()\n",
        "    res = chardet.detect(b)\n",
        "    enc = res[\"encoding\"]\n",
        "    return res, b.decode(enc)"
      ]
    },
    {
      "cell_type": "markdown",
      "metadata": {},
      "source": [
        "On teste la fonction avec un petit fichier qu'on cr\u00e9e pour l'occasion."
      ]
    },
    {
      "cell_type": "code",
      "execution_count": null,
      "metadata": {
        "collapsed": true
      },
      "outputs": [],
      "source": [
        "with open(\"texte.txt\", \"w\", encoding=\"utf-8\") as f:\n",
        "    f.write(\"un corbeau sur un arbre perch\u00e9 tenait en son bec un fromage\")"
      ]
    },
    {
      "cell_type": "code",
      "execution_count": null,
      "metadata": {},
      "outputs": [
        {
          "data": {
            "text/plain": [
              "'un corbeau sur un arbre perch\u00e9 tenait en son bec un fromage'"
            ]
          },
          "execution_count": null,
          "metadata": {},
          "output_type": "execute_result"
        }
      ],
      "source": [
        "lu = read_file(\"texte.txt\")\n",
        "lu"
      ]
    },
    {
      "cell_type": "code",
      "execution_count": null,
      "metadata": {},
      "outputs": [
        {
          "data": {
            "text/plain": [
              "'un corbeau sur un arbre perch\u00c3\u00a9 tenait en son bec un fromage'"
            ]
          },
          "execution_count": null,
          "metadata": {},
          "output_type": "execute_result"
        }
      ],
      "source": [
        "enc, lu = read_file_enc('texte.txt')\n",
        "lu"
      ]
    },
    {
      "cell_type": "markdown",
      "metadata": {},
      "source": [
        "Visiblement, ce n'est pas toujours \u00e9vident mais suffisant pour ce qu'on veut en faire \u00e0 savoir des statistiques. Les probl\u00e8mes avec la langue latine devraient \u00eatre statistiquement n\u00e9gligeables pour ce que nous souhaitons en faire."
      ]
    },
    {
      "cell_type": "code",
      "execution_count": null,
      "metadata": {},
      "outputs": [
        {
          "data": {
            "text/plain": [
              "{'confidence': 0.6213765491709115,\n",
              " 'encoding': 'ISO-8859-9',\n",
              " 'language': 'Turkish'}"
            ]
          },
          "execution_count": null,
          "metadata": {},
          "output_type": "execute_result"
        }
      ],
      "source": [
        "enc"
      ]
    },
    {
      "cell_type": "markdown",
      "metadata": {},
      "source": [
        "## Q2 : histogramme"
      ]
    },
    {
      "cell_type": "code",
      "execution_count": null,
      "metadata": {
        "collapsed": true
      },
      "outputs": [],
      "source": [
        "def histogram(texte):\n",
        "    d = {}\n",
        "    for c in texte:\n",
        "        d[c] = d.get(c, 0) + 1\n",
        "    return d"
      ]
    },
    {
      "cell_type": "code",
      "execution_count": null,
      "metadata": {},
      "outputs": [
        {
          "data": {
            "text/plain": [
              "{' ': 11,\n",
              " 'a': 4,\n",
              " 'b': 3,\n",
              " 'c': 3,\n",
              " 'e': 7,\n",
              " 'f': 1,\n",
              " 'g': 1,\n",
              " 'h': 1,\n",
              " 'i': 1,\n",
              " 'm': 1,\n",
              " 'n': 6,\n",
              " 'o': 3,\n",
              " 'p': 1,\n",
              " 'r': 6,\n",
              " 's': 2,\n",
              " 't': 2,\n",
              " 'u': 5,\n",
              " '\u00a9': 1,\n",
              " '\u00c3': 1}"
            ]
          },
          "execution_count": null,
          "metadata": {},
          "output_type": "execute_result"
        }
      ],
      "source": [
        "histogram(lu)"
      ]
    },
    {
      "cell_type": "markdown",
      "metadata": {},
      "source": [
        "Le module [collections](https://docs.python.org/3/library/collections.html) propose un objet [Counter](https://docs.python.org/3/library/collections.html#collections.Counter) qui impl\u00e9mente ce calcul."
      ]
    },
    {
      "cell_type": "code",
      "execution_count": null,
      "metadata": {},
      "outputs": [
        {
          "data": {
            "text/plain": [
              "Counter({' ': 11,\n",
              "         'a': 4,\n",
              "         'b': 3,\n",
              "         'c': 3,\n",
              "         'e': 7,\n",
              "         'f': 1,\n",
              "         'g': 1,\n",
              "         'h': 1,\n",
              "         'i': 1,\n",
              "         'm': 1,\n",
              "         'n': 6,\n",
              "         'o': 3,\n",
              "         'p': 1,\n",
              "         'r': 6,\n",
              "         's': 2,\n",
              "         't': 2,\n",
              "         'u': 5,\n",
              "         '\u00a9': 1,\n",
              "         '\u00c3': 1})"
            ]
          },
          "execution_count": null,
          "metadata": {},
          "output_type": "execute_result"
        }
      ],
      "source": [
        "from collections import Counter\n",
        "\n",
        "def histogram2(texte):\n",
        "    return Counter(texte)\n",
        "\n",
        "histogram2(lu)"
      ]
    },
    {
      "cell_type": "markdown",
      "metadata": {},
      "source": [
        "Comme pour beaucoup de fonctions faisant partie des extensions du langage Python, elle est plus rapide que la version que nous pourrions impl\u00e9menter."
      ]
    },
    {
      "cell_type": "code",
      "execution_count": null,
      "metadata": {},
      "outputs": [
        {
          "name": "stdout",
          "output_type": "stream",
          "text": [
            "13.8 \u00b5s \u00b1 1.17 \u00b5s per loop (mean \u00b1 std. dev. of 7 runs, 100000 loops each)\n"
          ]
        }
      ],
      "source": [
        "%timeit histogram(lu)"
      ]
    },
    {
      "cell_type": "code",
      "execution_count": null,
      "metadata": {},
      "outputs": [
        {
          "name": "stdout",
          "output_type": "stream",
          "text": [
            "7.56 \u00b5s \u00b1 546 ns per loop (mean \u00b1 std. dev. of 7 runs, 100000 loops each)\n"
          ]
        }
      ],
      "source": [
        "%timeit histogram2(lu)"
      ]
    },
    {
      "cell_type": "markdown",
      "metadata": {},
      "source": [
        "## Q3 : normalisation"
      ]
    },
    {
      "cell_type": "code",
      "execution_count": null,
      "metadata": {},
      "outputs": [
        {
          "data": {
            "text/plain": [
              "{' ': 0.18333333333333332,\n",
              " 'a': 0.06666666666666667,\n",
              " 'b': 0.05,\n",
              " 'c': 0.05,\n",
              " 'e': 0.11666666666666667,\n",
              " 'f': 0.016666666666666666,\n",
              " 'g': 0.016666666666666666,\n",
              " 'h': 0.016666666666666666,\n",
              " 'i': 0.016666666666666666,\n",
              " 'm': 0.016666666666666666,\n",
              " 'n': 0.1,\n",
              " 'o': 0.05,\n",
              " 'p': 0.016666666666666666,\n",
              " 'r': 0.1,\n",
              " 's': 0.03333333333333333,\n",
              " 't': 0.03333333333333333,\n",
              " 'u': 0.08333333333333333,\n",
              " '\u00a9': 0.016666666666666666,\n",
              " '\u00c3': 0.016666666666666666}"
            ]
          },
          "execution_count": null,
          "metadata": {},
          "output_type": "execute_result"
        }
      ],
      "source": [
        "def normalize(hist):\n",
        "    s = sum(hist.values())\n",
        "    if s == 0:\n",
        "        return {}\n",
        "    else:\n",
        "        return {k: v/s for k,v in hist.items()}\n",
        "    \n",
        "normalize(histogram2(lu))"
      ]
    },
    {
      "cell_type": "markdown",
      "metadata": {},
      "source": [
        "## Q4 : calcul\n",
        "\n",
        "On essaye avec la fr\u00e9quence de la lettre ``H``."
      ]
    },
    {
      "cell_type": "code",
      "execution_count": null,
      "metadata": {},
      "outputs": [
        {
          "data": {
            "text/plain": [
              "{'afp1.txt': 0.0067247820672478205,\n",
              " 'afp2.txt': 0.007575757575757576,\n",
              " 'arthur_charpentier1.txt': 0.007012142979305627,\n",
              " 'arthur_charpentier2.txt': 0.02588801926550271,\n",
              " 'arthur_charpentier3.txt': 0.004853022739877981,\n",
              " 'blog1.txt': 0.010752688172043012,\n",
              " 'blog2.txt': 0.007556675062972292,\n",
              " 'blog3.txt': 0.010554089709762533,\n",
              " 'blogny1.txt': 0.029830508474576273,\n",
              " 'elpais1.txt': 0.01349112426035503,\n",
              " 'elpais2.txt': 0.005625270445694505,\n",
              " 'elpais3.txt': 0.005441436539246361,\n",
              " 'elpais4.txt': 0.00224408769204212,\n",
              " 'elpais5.txt': 0.009715025906735751,\n",
              " 'elpais6.txt': 0.0051919661155895615,\n",
              " 'elpais7.txt': 0.005625270445694505,\n",
              " 'inconnu1.txt': 0,\n",
              " 'inconnu2.txt': 0.00016849199663016007,\n",
              " 'lemonde1.txt': 0.010804020100502512,\n",
              " 'lemonde10.txt': 0.007139797229758675,\n",
              " 'lemonde11.txt': 0.0021551724137931034,\n",
              " 'lemonde2.txt': 0.0055272108843537416,\n",
              " 'lemonde3.txt': 0.0014691478942213516,\n",
              " 'lemonde4.txt': 0.004875076173065204,\n",
              " 'lemonde5.txt': 0.0044822949350067235,\n",
              " 'lemonde6.txt': 0.007034547444114429,\n",
              " 'lemonde7.txt': 0.0020463847203274215,\n",
              " 'lemonde8.txt': 0.0034299968818210166,\n",
              " 'lemonde9.txt': 0.008162299639202697,\n",
              " 'lequipe1.txt': 0.00572041473006793,\n",
              " 'lequipe2.txt': 0.005029013539651838,\n",
              " 'nytimes1.txt': 0.030130034887408817,\n",
              " 'nytimes2.txt': 0.031933508311461065,\n",
              " 'nytimes3.txt': 0.02547634339541854,\n",
              " 'nytimes4.txt': 0.03934426229508197,\n",
              " 'nytimes5.txt': 0.035542582417582416,\n",
              " 'nytimes6.txt': 0.030610255410411385,\n",
              " 'nytimes7.txt': 0.04194094414143314,\n",
              " 'nytimes8.txt': 0.03151779230210603,\n",
              " 'nytimes9.txt': 0.03840526700804682}"
            ]
          },
          "execution_count": null,
          "metadata": {},
          "output_type": "execute_result"
        }
      ],
      "source": [
        "from pyensae.datasource import download_data\n",
        "texts = download_data(\"articles.zip\")\n",
        "\n",
        "h = {text: normalize(histogram2(read_file_enc(text)[1])).get('h', 0) for text in texts}\n",
        "h"
      ]
    },
    {
      "cell_type": "markdown",
      "metadata": {},
      "source": [
        "On regarde les valeurs obtenus pour les articles du monde et du new-york time."
      ]
    },
    {
      "cell_type": "code",
      "execution_count": null,
      "metadata": {},
      "outputs": [
        {
          "data": {
            "text/plain": [
              "<matplotlib.legend.Legend at 0x153646d5f28>"
            ]
          },
          "execution_count": null,
          "metadata": {},
          "output_type": "execute_result"
        },
        {
          "data": {
            "image/png": "[encoded data removed]",
            "text/plain": [
              "<matplotlib.figure.Figure at 0x153643030b8>"
            ]
          },
          "metadata": {},
          "output_type": "display_data"
        }
      ],
      "source": [
        "import matplotlib.pyplot as plt\n",
        "lemonde = list(sorted(v for k,v in h.items() if \"lemonde\" in k))\n",
        "ny = list(sorted(v for k,v in h.items() if \"times\" in k))\n",
        "plt.plot(lemonde, label=\"lemonde\")\n",
        "plt.plot(ny, label=\"times\")\n",
        "plt.legend()"
      ]
    },
    {
      "cell_type": "markdown",
      "metadata": {},
      "source": [
        "Ca marche plut\u00f4t bien."
      ]
    },
    {
      "cell_type": "markdown",
      "metadata": {},
      "source": [
        "## Q5 : score\n",
        "\n",
        "On recommence avec deux lettres et on trace un nuage de points pour les articles des m\u00eames journaux."
      ]
    },
    {
      "cell_type": "code",
      "execution_count": null,
      "metadata": {
        "collapsed": true
      },
      "outputs": [],
      "source": [
        "scores = {}\n",
        "for text in texts:\n",
        "    norm = normalize(histogram2(read_file_enc(text)[1]))\n",
        "    h, w = norm.get('h', 0), norm.get('w', 0)\n",
        "    scores[text] = (h, w)\n",
        "\n",
        "lem = [v for k,v in scores.items() if \"lemonde\" in k]\n",
        "ny = [v for k,v in scores.items() if \"times\" in k]"
      ]
    },
    {
      "cell_type": "code",
      "execution_count": null,
      "metadata": {},
      "outputs": [
        {
          "data": {
            "text/plain": [
              "<matplotlib.legend.Legend at 0x15364cadb70>"
            ]
          },
          "execution_count": null,
          "metadata": {},
          "output_type": "execute_result"
        },
        {
          "data": {
            "image/png": "[encoded data removed]",
            "text/plain": [
              "<matplotlib.figure.Figure at 0x15364bc5748>"
            ]
          },
          "metadata": {},
          "output_type": "display_data"
        }
      ],
      "source": [
        "plt.scatter(x=[_[0] for _ in lem], y=[_[1] for _ in lem], label=\"lemonde\")\n",
        "plt.scatter(x=[_[0] for _ in ny], y=[_[1] for _ in ny], label=\"times\")\n",
        "plt.xlabel(\"h\")\n",
        "plt.ylabel(\"w\")\n",
        "plt.legend()"
      ]
    },
    {
      "cell_type": "markdown",
      "metadata": {},
      "source": [
        "Les textes anglais et fran\u00e7ais apparaissent bien s\u00e9par\u00e9s. On place les autres."
      ]
    },
    {
      "cell_type": "code",
      "execution_count": null,
      "metadata": {
        "collapsed": true
      },
      "outputs": [],
      "source": [
        "other = [v for k,v in scores.items() if \"times\" not in k and \"monde\" not in k]"
      ]
    },
    {
      "cell_type": "code",
      "execution_count": null,
      "metadata": {},
      "outputs": [
        {
          "data": {
            "text/plain": [
              "<matplotlib.legend.Legend at 0x15364ed8c50>"
            ]
          },
          "execution_count": null,
          "metadata": {},
          "output_type": "execute_result"
        },
        {
          "data": {
            "image/png": "[encoded data removed]",
            "text/plain": [
              "<matplotlib.figure.Figure at 0x15364c2cac8>"
            ]
          },
          "metadata": {},
          "output_type": "display_data"
        }
      ],
      "source": [
        "plt.scatter(x=[_[0] for _ in lem], y=[_[1] for _ in lem], label=\"lemonde\")\n",
        "plt.scatter(x=[_[0] for _ in ny], y=[_[1] for _ in ny], label=\"times\")\n",
        "plt.scatter(x=[_[0] for _ in other], y=[_[1] for _ in other], label=\"autres\", s=15)\n",
        "plt.xlabel(\"h\")\n",
        "plt.ylabel(\"w\")\n",
        "plt.legend()"
      ]
    },
    {
      "cell_type": "markdown",
      "metadata": {},
      "source": [
        "On ajoute le nom du texte sur le graphique."
      ]
    },
    {
      "cell_type": "code",
      "execution_count": null,
      "metadata": {
        "collapsed": true
      },
      "outputs": [],
      "source": [
        "text_others = [k for k,v in scores.items() if \"times\" not in k and \"monde\" not in k]"
      ]
    },
    {
      "cell_type": "code",
      "execution_count": null,
      "metadata": {},
      "outputs": [
        {
          "data": {
            "text/plain": [
              "<matplotlib.legend.Legend at 0x15366bb7d30>"
            ]
          },
          "execution_count": null,
          "metadata": {},
          "output_type": "execute_result"
        },
        {
          "data": {
            "image/png": "[encoded data removed]",
            "text/plain": [
              "<matplotlib.figure.Figure at 0x153667dd668>"
            ]
          },
          "metadata": {},
          "output_type": "display_data"
        }
      ],
      "source": [
        "fig, ax = plt.subplots(1, 1, figsize=(10,10))\n",
        "ax.scatter(x=[_[0] for _ in lem], y=[_[1] for _ in lem], label=\"lemonde\")\n",
        "ax.scatter(x=[_[0] for _ in ny], y=[_[1] for _ in ny], label=\"times\")\n",
        "ax.scatter(x=[_[0] for _ in other], y=[_[1] for _ in other], label=\"autres\", s=15)\n",
        "for (x,y), t in zip(other, text_others):\n",
        "    ax.text(x, y, t, ha='right', rotation=-30, wrap=True)\n",
        "ax.set_xlabel(\"h\")\n",
        "ax.set_ylabel(\"w\")\n",
        "ax.legend()"
      ]
    },
    {
      "cell_type": "code",
      "execution_count": null,
      "metadata": {
        "collapsed": true
      },
      "outputs": [],
      "source": []
    }
  ],
  "metadata": {
    "kernelspec": {
      "display_name": "Python 3",
      "language": "python",
      "name": "python3"
    },
    "language_info": {
      "codemirror_mode": {
        "name": "ipython",
        "version": 3
      },
      "file_extension": ".py",
      "mimetype": "text/x-python",
      "name": "python",
      "nbconvert_exporter": "python",
      "pygments_lexer": "ipython3",
      "version": "3.6.1"
    }
  },
  "nbformat": 4,
  "nbformat_minor": 2
}