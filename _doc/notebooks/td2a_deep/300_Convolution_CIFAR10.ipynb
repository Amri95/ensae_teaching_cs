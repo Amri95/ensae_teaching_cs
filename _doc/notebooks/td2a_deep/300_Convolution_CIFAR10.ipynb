{
  "cells": [
    {
      "cell_type": "markdown",
      "metadata": {},
      "source": [
        "# 300 - Convolution network, gradient, tweaks, with pytorch\n",
        "\n",
        "Object detection on [CIFAR10](https://www.kaggle.com/c/cifar-10)."
      ]
    },
    {
      "cell_type": "markdown",
      "metadata": {},
      "source": [
        "**Note:** install [tqdm](https://pypi.python.org/pypi/tqdm) if not installed: ``!pip install tqdm``"
      ]
    },
    {
      "cell_type": "code",
      "execution_count": 1,
      "metadata": {},
      "outputs": [
        {
          "name": "stdout",
          "output_type": "stream",
          "text": [
            "torch 0.2.0_4\n"
          ]
        }
      ],
      "source": [
        "%matplotlib inline\n",
        "import time\n",
        "import numpy as np\n",
        "import pandas as pd\n",
        "import torch\n",
        "import torch.nn as nn\n",
        "import torch.nn.functional as F\n",
        "import torch.optim as optim\n",
        "from torch.autograd import Variable\n",
        "print(\"torch\", torch.__version__)\n",
        "from torchvision import datasets, transforms\n",
        "from tqdm import tqdm"
      ]
    },
    {
      "cell_type": "code",
      "execution_count": 2,
      "metadata": {
        "collapsed": true
      },
      "outputs": [],
      "source": [
        "BATCH_SIZE = 64\n",
        "TEST_BATCH_SIZE = 64\n",
        "DATA_DIR = '/home/xd_ensae/data/'\n",
        "USE_CUDA = True\n",
        "N_EPOCHS = 50"
      ]
    },
    {
      "cell_type": "code",
      "execution_count": 3,
      "metadata": {},
      "outputs": [
        {
          "name": "stdout",
          "output_type": "stream",
          "text": [
            "Files already downloaded and verified\n"
          ]
        }
      ],
      "source": [
        "train_loader = torch.utils.data.DataLoader(\n",
        "    datasets.CIFAR10(DATA_DIR, train=True, download=True,\n",
        "                   transform=transforms.Compose([\n",
        "                       transforms.ToTensor(),\n",
        "                       transforms.Normalize((0.1307,), (0.3081,))\n",
        "                   ])),\n",
        "    batch_size=BATCH_SIZE, shuffle=True)\n",
        "test_loader = torch.utils.data.DataLoader(\n",
        "    datasets.CIFAR10(DATA_DIR, train=False, transform=transforms.Compose([\n",
        "                       transforms.ToTensor(),\n",
        "                       transforms.Normalize((0.1307,), (0.3081,))\n",
        "                   ])),\n",
        "    batch_size=TEST_BATCH_SIZE, shuffle=True)"
      ]
    },
    {
      "cell_type": "code",
      "execution_count": 4,
      "metadata": {},
      "outputs": [],
      "source": [
        "class Net(nn.Module):\n",
        "    def __init__(self):\n",
        "        super(Net, self).__init__()\n",
        "        self.conv1 = nn.Conv2d(3, 10, kernel_size=5)\n",
        "        self.conv2 = nn.Conv2d(10, 20, kernel_size=5)\n",
        "        self.conv2_drop = nn.Dropout2d()\n",
        "        self.fc1 = nn.Linear(500, 50)\n",
        "        self.fc2 = nn.Linear(50, 64)\n",
        "\n",
        "    def forward(self, x):\n",
        "        x = F.relu(F.max_pool2d(self.conv1(x), 2))\n",
        "        x = F.relu(F.max_pool2d(self.conv2_drop(self.conv2(x)), 2))\n",
        "        x = x.view(-1, 500)\n",
        "        x = F.relu(self.fc1(x))\n",
        "        x = F.dropout(x, training=self.training)\n",
        "        x = self.fc2(x)\n",
        "        return F.log_softmax(x)"
      ]
    },
    {
      "cell_type": "code",
      "execution_count": 5,
      "metadata": {
        "collapsed": true
      },
      "outputs": [],
      "source": [
        "model = Net()\n",
        "if USE_CUDA: model = model.cuda()"
      ]
    },
    {
      "cell_type": "code",
      "execution_count": 6,
      "metadata": {
        "collapsed": true
      },
      "outputs": [],
      "source": [
        "optimizer = optim.Adam(model.parameters())"
      ]
    },
    {
      "cell_type": "code",
      "execution_count": 7,
      "metadata": {},
      "outputs": [],
      "source": [
        "def train(epoch, verbose=True):\n",
        "    model.train()\n",
        "    losses = []\n",
        "    loader = tqdm(train_loader, total=len(train_loader))\n",
        "    for batch_idx, (data, target) in enumerate(loader):\n",
        "        if USE_CUDA:\n",
        "            data, target = data.cuda(), target.cuda()\n",
        "        data, target = Variable(data), Variable(target)\n",
        "        optimizer.zero_grad()\n",
        "        output = model(data)\n",
        "        loss = F.nll_loss(output, target)\n",
        "        loss.backward()\n",
        "        optimizer.step()\n",
        "        losses.append(float(loss.data[0]))\n",
        "        if verbose and batch_idx % 100 == 0:\n",
        "            print('Train Epoch: {} [{}/{} ({:.0f}%)]\\tLoss: {:.6f}'.format(\n",
        "                epoch, batch_idx * len(data), len(train_loader.dataset),\n",
        "                100. * batch_idx / len(train_loader), loss.data[0]))\n",
        "    return np.mean(losses)"
      ]
    },
    {
      "cell_type": "code",
      "execution_count": 8,
      "metadata": {
        "collapsed": true
      },
      "outputs": [],
      "source": [
        "def test(verbose=True):\n",
        "    model.eval()\n",
        "    test_loss = 0\n",
        "    correct = 0\n",
        "    for data, target in test_loader:\n",
        "        if USE_CUDA: data, target = data.cuda(), target.cuda()\n",
        "        data, target = Variable(data, volatile=True), Variable(target)\n",
        "        output = model(data)\n",
        "        test_loss += F.nll_loss(output, target, size_average=False).data[0] # sum up batch loss\n",
        "        pred = output.data.max(1, keepdim=True)[1] # get the index of the max log-probability\n",
        "        correct += pred.eq(target.data.view_as(pred)).cpu().sum()\n",
        "\n",
        "    test_loss /= len(test_loader.dataset)\n",
        "    if verbose:\n",
        "        print('\\nTest set: Average loss: {:.4f}, Accuracy: {}/{} ({:.0f}%)\\n'.format(\n",
        "            test_loss, correct, len(test_loader.dataset),\n",
        "            100. * correct / len(test_loader.dataset)))\n",
        "    return [float(test_loss), correct]"
      ]
    },
    {
      "cell_type": "code",
      "execution_count": 9,
      "metadata": {
        "scrolled": false
      },
      "outputs": [
        {
          "name": "stderr",
          "output_type": "stream",
          "text": [
            "100%|\u2588\u2588\u2588\u2588\u2588\u2588\u2588\u2588\u2588\u2588| 782/782 [00:10<00:00, 74.27it/s]\n",
            "  1%|          | 9/782 [00:00<00:09, 80.81it/s]"
          ]
        },
        {
          "name": "stdout",
          "output_type": "stream",
          "text": [
            "epoch 1: train loss 2.1699, test loss 1.7524, accuracy 3675/10000 in 12.01s\n"
          ]
        },
        {
          "name": "stderr",
          "output_type": "stream",
          "text": [
            "100%|\u2588\u2588\u2588\u2588\u2588\u2588\u2588\u2588\u2588\u2588| 782/782 [00:09<00:00, 78.76it/s]\n",
            "  1%|          | 8/782 [00:00<00:09, 78.71it/s]"
          ]
        },
        {
          "name": "stdout",
          "output_type": "stream",
          "text": [
            "epoch 2: train loss 1.8401, test loss 1.6206, accuracy 4170/10000 in 11.40s\n"
          ]
        },
        {
          "name": "stderr",
          "output_type": "stream",
          "text": [
            "100%|\u2588\u2588\u2588\u2588\u2588\u2588\u2588\u2588\u2588\u2588| 782/782 [00:10<00:00, 77.53it/s]\n",
            "  1%|          | 8/782 [00:00<00:10, 73.86it/s]"
          ]
        },
        {
          "name": "stdout",
          "output_type": "stream",
          "text": [
            "epoch 3: train loss 1.7630, test loss 1.5700, accuracy 4266/10000 in 11.57s\n"
          ]
        },
        {
          "name": "stderr",
          "output_type": "stream",
          "text": [
            "100%|\u2588\u2588\u2588\u2588\u2588\u2588\u2588\u2588\u2588\u2588| 782/782 [00:10<00:00, 75.87it/s]\n",
            "  1%|          | 9/782 [00:00<00:09, 80.37it/s]"
          ]
        },
        {
          "name": "stdout",
          "output_type": "stream",
          "text": [
            "epoch 4: train loss 1.7248, test loss 1.5173, accuracy 4500/10000 in 11.88s\n"
          ]
        },
        {
          "name": "stderr",
          "output_type": "stream",
          "text": [
            "100%|\u2588\u2588\u2588\u2588\u2588\u2588\u2588\u2588\u2588\u2588| 782/782 [00:09<00:00, 79.68it/s]\n",
            "  1%|          | 8/782 [00:00<00:09, 79.96it/s]"
          ]
        },
        {
          "name": "stdout",
          "output_type": "stream",
          "text": [
            "epoch 5: train loss 1.6856, test loss 1.5035, accuracy 4717/10000 in 11.28s\n"
          ]
        },
        {
          "name": "stderr",
          "output_type": "stream",
          "text": [
            "100%|\u2588\u2588\u2588\u2588\u2588\u2588\u2588\u2588\u2588\u2588| 782/782 [00:10<00:00, 76.23it/s]\n",
            "  1%|          | 8/782 [00:00<00:09, 79.90it/s]"
          ]
        },
        {
          "name": "stdout",
          "output_type": "stream",
          "text": [
            "epoch 6: train loss 1.6623, test loss 1.4833, accuracy 4761/10000 in 11.77s\n"
          ]
        },
        {
          "name": "stderr",
          "output_type": "stream",
          "text": [
            "100%|\u2588\u2588\u2588\u2588\u2588\u2588\u2588\u2588\u2588\u2588| 782/782 [00:09<00:00, 78.71it/s]\n",
            "  1%|          | 9/782 [00:00<00:09, 80.12it/s]"
          ]
        },
        {
          "name": "stdout",
          "output_type": "stream",
          "text": [
            "epoch 7: train loss 1.6410, test loss 1.4474, accuracy 4833/10000 in 11.40s\n"
          ]
        },
        {
          "name": "stderr",
          "output_type": "stream",
          "text": [
            "100%|\u2588\u2588\u2588\u2588\u2588\u2588\u2588\u2588\u2588\u2588| 782/782 [00:10<00:00, 78.05it/s]\n",
            "  1%|          | 9/782 [00:00<00:09, 80.62it/s]"
          ]
        },
        {
          "name": "stdout",
          "output_type": "stream",
          "text": [
            "epoch 8: train loss 1.6247, test loss 1.4428, accuracy 4869/10000 in 11.57s\n"
          ]
        },
        {
          "name": "stderr",
          "output_type": "stream",
          "text": [
            "100%|\u2588\u2588\u2588\u2588\u2588\u2588\u2588\u2588\u2588\u2588| 782/782 [00:10<00:00, 77.19it/s]\n",
            "  1%|          | 8/782 [00:00<00:10, 72.82it/s]"
          ]
        },
        {
          "name": "stdout",
          "output_type": "stream",
          "text": [
            "epoch 9: train loss 1.6130, test loss 1.3940, accuracy 4994/10000 in 11.68s\n"
          ]
        },
        {
          "name": "stderr",
          "output_type": "stream",
          "text": [
            "100%|\u2588\u2588\u2588\u2588\u2588\u2588\u2588\u2588\u2588\u2588| 782/782 [00:10<00:00, 77.85it/s]\n",
            "  1%|          | 8/782 [00:00<00:10, 74.79it/s]"
          ]
        },
        {
          "name": "stdout",
          "output_type": "stream",
          "text": [
            "epoch 10: train loss 1.6038, test loss 1.3807, accuracy 5107/10000 in 11.62s\n"
          ]
        },
        {
          "name": "stderr",
          "output_type": "stream",
          "text": [
            "100%|\u2588\u2588\u2588\u2588\u2588\u2588\u2588\u2588\u2588\u2588| 782/782 [00:10<00:00, 77.45it/s]\n",
            "  1%|          | 9/782 [00:00<00:09, 80.61it/s]"
          ]
        },
        {
          "name": "stdout",
          "output_type": "stream",
          "text": [
            "epoch 11: train loss 1.5972, test loss 1.3783, accuracy 5171/10000 in 11.56s\n"
          ]
        },
        {
          "name": "stderr",
          "output_type": "stream",
          "text": [
            "100%|\u2588\u2588\u2588\u2588\u2588\u2588\u2588\u2588\u2588\u2588| 782/782 [00:10<00:00, 78.16it/s]\n",
            "  1%|          | 8/782 [00:00<00:10, 75.84it/s]"
          ]
        },
        {
          "name": "stdout",
          "output_type": "stream",
          "text": [
            "epoch 12: train loss 1.5815, test loss 1.3714, accuracy 5168/10000 in 11.54s\n"
          ]
        },
        {
          "name": "stderr",
          "output_type": "stream",
          "text": [
            "100%|\u2588\u2588\u2588\u2588\u2588\u2588\u2588\u2588\u2588\u2588| 782/782 [00:10<00:00, 75.56it/s]\n",
            "  1%|          | 9/782 [00:00<00:09, 79.67it/s]"
          ]
        },
        {
          "name": "stdout",
          "output_type": "stream",
          "text": [
            "epoch 13: train loss 1.5705, test loss 1.3465, accuracy 5320/10000 in 11.86s\n"
          ]
        },
        {
          "name": "stderr",
          "output_type": "stream",
          "text": [
            "100%|\u2588\u2588\u2588\u2588\u2588\u2588\u2588\u2588\u2588\u2588| 782/782 [00:09<00:00, 79.23it/s]\n",
            "  1%|          | 9/782 [00:00<00:09, 81.09it/s]"
          ]
        },
        {
          "name": "stdout",
          "output_type": "stream",
          "text": [
            "epoch 14: train loss 1.5621, test loss 1.3515, accuracy 5294/10000 in 11.34s\n"
          ]
        },
        {
          "name": "stderr",
          "output_type": "stream",
          "text": [
            "100%|\u2588\u2588\u2588\u2588\u2588\u2588\u2588\u2588\u2588\u2588| 782/782 [00:10<00:00, 77.62it/s]\n",
            "  1%|          | 8/782 [00:00<00:10, 72.21it/s]"
          ]
        },
        {
          "name": "stdout",
          "output_type": "stream",
          "text": [
            "epoch 15: train loss 1.5545, test loss 1.3307, accuracy 5337/10000 in 11.54s\n"
          ]
        },
        {
          "name": "stderr",
          "output_type": "stream",
          "text": [
            "100%|\u2588\u2588\u2588\u2588\u2588\u2588\u2588\u2588\u2588\u2588| 782/782 [00:10<00:00, 76.00it/s]\n",
            "  1%|          | 8/782 [00:00<00:10, 73.62it/s]"
          ]
        },
        {
          "name": "stdout",
          "output_type": "stream",
          "text": [
            "epoch 16: train loss 1.5551, test loss 1.3463, accuracy 5409/10000 in 11.83s\n"
          ]
        },
        {
          "name": "stderr",
          "output_type": "stream",
          "text": [
            "100%|\u2588\u2588\u2588\u2588\u2588\u2588\u2588\u2588\u2588\u2588| 782/782 [00:10<00:00, 76.99it/s]\n",
            "  1%|          | 8/782 [00:00<00:10, 76.30it/s]"
          ]
        },
        {
          "name": "stdout",
          "output_type": "stream",
          "text": [
            "epoch 17: train loss 1.5352, test loss 1.3289, accuracy 5437/10000 in 11.64s\n"
          ]
        },
        {
          "name": "stderr",
          "output_type": "stream",
          "text": [
            "100%|\u2588\u2588\u2588\u2588\u2588\u2588\u2588\u2588\u2588\u2588| 782/782 [00:09<00:00, 79.17it/s]\n",
            "  1%|          | 7/782 [00:00<00:12, 64.47it/s]"
          ]
        },
        {
          "name": "stdout",
          "output_type": "stream",
          "text": [
            "epoch 18: train loss 1.5381, test loss 1.3338, accuracy 5352/10000 in 11.36s\n"
          ]
        },
        {
          "name": "stderr",
          "output_type": "stream",
          "text": [
            "100%|\u2588\u2588\u2588\u2588\u2588\u2588\u2588\u2588\u2588\u2588| 782/782 [00:10<00:00, 75.31it/s]\n",
            "  1%|          | 9/782 [00:00<00:09, 80.71it/s]"
          ]
        },
        {
          "name": "stdout",
          "output_type": "stream",
          "text": [
            "epoch 19: train loss 1.5311, test loss 1.3088, accuracy 5489/10000 in 11.85s\n"
          ]
        },
        {
          "name": "stderr",
          "output_type": "stream",
          "text": [
            "100%|\u2588\u2588\u2588\u2588\u2588\u2588\u2588\u2588\u2588\u2588| 782/782 [00:09<00:00, 78.75it/s]\n",
            "  1%|          | 9/782 [00:00<00:09, 80.16it/s]"
          ]
        },
        {
          "name": "stdout",
          "output_type": "stream",
          "text": [
            "epoch 20: train loss 1.5289, test loss 1.3119, accuracy 5459/10000 in 11.39s\n"
          ]
        },
        {
          "name": "stderr",
          "output_type": "stream",
          "text": [
            "100%|\u2588\u2588\u2588\u2588\u2588\u2588\u2588\u2588\u2588\u2588| 782/782 [00:09<00:00, 78.45it/s]\n",
            "  1%|          | 9/782 [00:00<00:09, 80.80it/s]"
          ]
        },
        {
          "name": "stdout",
          "output_type": "stream",
          "text": [
            "epoch 21: train loss 1.5192, test loss 1.2950, accuracy 5571/10000 in 11.46s\n"
          ]
        },
        {
          "name": "stderr",
          "output_type": "stream",
          "text": [
            "100%|\u2588\u2588\u2588\u2588\u2588\u2588\u2588\u2588\u2588\u2588| 782/782 [00:09<00:00, 78.36it/s]\n",
            "  1%|          | 9/782 [00:00<00:09, 80.24it/s]"
          ]
        },
        {
          "name": "stdout",
          "output_type": "stream",
          "text": [
            "epoch 22: train loss 1.5242, test loss 1.2995, accuracy 5499/10000 in 11.48s\n"
          ]
        },
        {
          "name": "stderr",
          "output_type": "stream",
          "text": [
            "100%|\u2588\u2588\u2588\u2588\u2588\u2588\u2588\u2588\u2588\u2588| 782/782 [00:09<00:00, 79.89it/s]\n",
            "  1%|          | 9/782 [00:00<00:09, 80.72it/s]"
          ]
        },
        {
          "name": "stdout",
          "output_type": "stream",
          "text": [
            "epoch 23: train loss 1.5155, test loss 1.2938, accuracy 5599/10000 in 11.32s\n"
          ]
        },
        {
          "name": "stderr",
          "output_type": "stream",
          "text": [
            "100%|\u2588\u2588\u2588\u2588\u2588\u2588\u2588\u2588\u2588\u2588| 782/782 [00:09<00:00, 79.00it/s]\n",
            "  1%|          | 8/782 [00:00<00:09, 79.68it/s]"
          ]
        },
        {
          "name": "stdout",
          "output_type": "stream",
          "text": [
            "epoch 24: train loss 1.5097, test loss 1.2939, accuracy 5523/10000 in 11.37s\n"
          ]
        },
        {
          "name": "stderr",
          "output_type": "stream",
          "text": [
            "100%|\u2588\u2588\u2588\u2588\u2588\u2588\u2588\u2588\u2588\u2588| 782/782 [00:10<00:00, 73.65it/s]\n",
            "  1%|          | 9/782 [00:00<00:09, 80.95it/s]"
          ]
        },
        {
          "name": "stdout",
          "output_type": "stream",
          "text": [
            "epoch 25: train loss 1.5009, test loss 1.2907, accuracy 5525/10000 in 12.07s\n"
          ]
        },
        {
          "name": "stderr",
          "output_type": "stream",
          "text": [
            "100%|\u2588\u2588\u2588\u2588\u2588\u2588\u2588\u2588\u2588\u2588| 782/782 [00:09<00:00, 78.63it/s]\n",
            "  1%|          | 7/782 [00:00<00:12, 63.68it/s]"
          ]
        },
        {
          "name": "stdout",
          "output_type": "stream",
          "text": [
            "epoch 26: train loss 1.5020, test loss 1.2845, accuracy 5609/10000 in 11.49s\n"
          ]
        },
        {
          "name": "stderr",
          "output_type": "stream",
          "text": [
            "100%|\u2588\u2588\u2588\u2588\u2588\u2588\u2588\u2588\u2588\u2588| 782/782 [00:10<00:00, 74.79it/s]\n",
            "  1%|          | 8/782 [00:00<00:10, 72.94it/s]"
          ]
        },
        {
          "name": "stdout",
          "output_type": "stream",
          "text": [
            "epoch 27: train loss 1.4933, test loss 1.2742, accuracy 5641/10000 in 11.93s\n"
          ]
        },
        {
          "name": "stderr",
          "output_type": "stream",
          "text": [
            "100%|\u2588\u2588\u2588\u2588\u2588\u2588\u2588\u2588\u2588\u2588| 782/782 [00:10<00:00, 77.25it/s]\n",
            "  1%|          | 8/782 [00:00<00:09, 78.93it/s]"
          ]
        },
        {
          "name": "stdout",
          "output_type": "stream",
          "text": [
            "epoch 28: train loss 1.4967, test loss 1.2796, accuracy 5583/10000 in 11.58s\n"
          ]
        },
        {
          "name": "stderr",
          "output_type": "stream",
          "text": [
            "100%|\u2588\u2588\u2588\u2588\u2588\u2588\u2588\u2588\u2588\u2588| 782/782 [00:10<00:00, 77.23it/s]\n",
            "  1%|          | 9/782 [00:00<00:09, 80.03it/s]"
          ]
        },
        {
          "name": "stdout",
          "output_type": "stream",
          "text": [
            "epoch 29: train loss 1.4880, test loss 1.2805, accuracy 5700/10000 in 11.59s\n"
          ]
        },
        {
          "name": "stderr",
          "output_type": "stream",
          "text": [
            "100%|\u2588\u2588\u2588\u2588\u2588\u2588\u2588\u2588\u2588\u2588| 782/782 [00:10<00:00, 78.14it/s]\n",
            "  1%|          | 8/782 [00:00<00:10, 74.00it/s]"
          ]
        },
        {
          "name": "stdout",
          "output_type": "stream",
          "text": [
            "epoch 30: train loss 1.4812, test loss 1.2367, accuracy 5757/10000 in 11.47s\n"
          ]
        },
        {
          "name": "stderr",
          "output_type": "stream",
          "text": [
            "100%|\u2588\u2588\u2588\u2588\u2588\u2588\u2588\u2588\u2588\u2588| 782/782 [00:10<00:00, 78.19it/s]\n",
            "  1%|          | 9/782 [00:00<00:09, 80.74it/s]"
          ]
        },
        {
          "name": "stdout",
          "output_type": "stream",
          "text": [
            "epoch 31: train loss 1.4891, test loss 1.2586, accuracy 5648/10000 in 11.49s\n"
          ]
        },
        {
          "name": "stderr",
          "output_type": "stream",
          "text": [
            "100%|\u2588\u2588\u2588\u2588\u2588\u2588\u2588\u2588\u2588\u2588| 782/782 [00:10<00:00, 77.20it/s]\n",
            "  1%|          | 8/782 [00:00<00:09, 78.61it/s]"
          ]
        },
        {
          "name": "stdout",
          "output_type": "stream",
          "text": [
            "epoch 32: train loss 1.4858, test loss 1.2723, accuracy 5584/10000 in 11.84s\n"
          ]
        },
        {
          "name": "stderr",
          "output_type": "stream",
          "text": [
            "100%|\u2588\u2588\u2588\u2588\u2588\u2588\u2588\u2588\u2588\u2588| 782/782 [00:10<00:00, 74.57it/s]\n",
            "  1%|          | 8/782 [00:00<00:09, 78.32it/s]"
          ]
        },
        {
          "name": "stdout",
          "output_type": "stream",
          "text": [
            "epoch 33: train loss 1.4731, test loss 1.2514, accuracy 5725/10000 in 11.98s\n"
          ]
        },
        {
          "name": "stderr",
          "output_type": "stream",
          "text": [
            "100%|\u2588\u2588\u2588\u2588\u2588\u2588\u2588\u2588\u2588\u2588| 782/782 [00:10<00:00, 77.61it/s]\n",
            "  1%|          | 8/782 [00:00<00:09, 79.99it/s]"
          ]
        },
        {
          "name": "stdout",
          "output_type": "stream",
          "text": [
            "epoch 34: train loss 1.4764, test loss 1.2729, accuracy 5765/10000 in 11.62s\n"
          ]
        },
        {
          "name": "stderr",
          "output_type": "stream",
          "text": [
            "100%|\u2588\u2588\u2588\u2588\u2588\u2588\u2588\u2588\u2588\u2588| 782/782 [00:10<00:00, 75.92it/s]\n",
            "  1%|          | 8/782 [00:00<00:09, 78.55it/s]"
          ]
        },
        {
          "name": "stdout",
          "output_type": "stream",
          "text": [
            "epoch 35: train loss 1.4606, test loss 1.2519, accuracy 5755/10000 in 11.77s\n"
          ]
        },
        {
          "name": "stderr",
          "output_type": "stream",
          "text": [
            "100%|\u2588\u2588\u2588\u2588\u2588\u2588\u2588\u2588\u2588\u2588| 782/782 [00:09<00:00, 79.81it/s]\n",
            "  1%|          | 9/782 [00:00<00:09, 80.85it/s]"
          ]
        },
        {
          "name": "stdout",
          "output_type": "stream",
          "text": [
            "epoch 36: train loss 1.4640, test loss 1.2352, accuracy 5820/10000 in 11.26s\n"
          ]
        },
        {
          "name": "stderr",
          "output_type": "stream",
          "text": [
            "100%|\u2588\u2588\u2588\u2588\u2588\u2588\u2588\u2588\u2588\u2588| 782/782 [00:10<00:00, 77.59it/s]\n",
            "  1%|          | 9/782 [00:00<00:09, 81.90it/s]"
          ]
        },
        {
          "name": "stdout",
          "output_type": "stream",
          "text": [
            "epoch 37: train loss 1.4711, test loss 1.2235, accuracy 5779/10000 in 11.55s\n"
          ]
        },
        {
          "name": "stderr",
          "output_type": "stream",
          "text": [
            "100%|\u2588\u2588\u2588\u2588\u2588\u2588\u2588\u2588\u2588\u2588| 782/782 [00:10<00:00, 78.15it/s]\n",
            "  1%|          | 8/782 [00:00<00:09, 79.43it/s]"
          ]
        },
        {
          "name": "stdout",
          "output_type": "stream",
          "text": [
            "epoch 38: train loss 1.4510, test loss 1.2238, accuracy 5780/10000 in 11.47s\n"
          ]
        },
        {
          "name": "stderr",
          "output_type": "stream",
          "text": [
            "100%|\u2588\u2588\u2588\u2588\u2588\u2588\u2588\u2588\u2588\u2588| 782/782 [00:09<00:00, 79.02it/s]\n",
            "  1%|          | 9/782 [00:00<00:09, 81.16it/s]"
          ]
        },
        {
          "name": "stdout",
          "output_type": "stream",
          "text": [
            "epoch 39: train loss 1.4588, test loss 1.2213, accuracy 5872/10000 in 11.35s\n"
          ]
        },
        {
          "name": "stderr",
          "output_type": "stream",
          "text": [
            "100%|\u2588\u2588\u2588\u2588\u2588\u2588\u2588\u2588\u2588\u2588| 782/782 [00:10<00:00, 76.28it/s]\n",
            "  1%|          | 8/782 [00:00<00:10, 71.97it/s]"
          ]
        },
        {
          "name": "stdout",
          "output_type": "stream",
          "text": [
            "epoch 40: train loss 1.4567, test loss 1.2324, accuracy 5788/10000 in 11.74s\n"
          ]
        },
        {
          "name": "stderr",
          "output_type": "stream",
          "text": [
            "100%|\u2588\u2588\u2588\u2588\u2588\u2588\u2588\u2588\u2588\u2588| 782/782 [00:10<00:00, 78.02it/s]\n",
            "  1%|          | 8/782 [00:00<00:09, 78.79it/s]"
          ]
        },
        {
          "name": "stdout",
          "output_type": "stream",
          "text": [
            "epoch 41: train loss 1.4502, test loss 1.2370, accuracy 5728/10000 in 11.51s\n"
          ]
        },
        {
          "name": "stderr",
          "output_type": "stream",
          "text": [
            "100%|\u2588\u2588\u2588\u2588\u2588\u2588\u2588\u2588\u2588\u2588| 782/782 [00:09<00:00, 79.36it/s]\n",
            "  1%|          | 8/782 [00:00<00:10, 76.57it/s]"
          ]
        },
        {
          "name": "stdout",
          "output_type": "stream",
          "text": [
            "epoch 42: train loss 1.4514, test loss 1.1933, accuracy 5909/10000 in 11.31s\n"
          ]
        },
        {
          "name": "stderr",
          "output_type": "stream",
          "text": [
            "100%|\u2588\u2588\u2588\u2588\u2588\u2588\u2588\u2588\u2588\u2588| 782/782 [00:10<00:00, 76.06it/s]\n",
            "  1%|          | 9/782 [00:00<00:09, 80.75it/s]"
          ]
        },
        {
          "name": "stdout",
          "output_type": "stream",
          "text": [
            "epoch 43: train loss 1.4440, test loss 1.2293, accuracy 5890/10000 in 11.77s\n"
          ]
        },
        {
          "name": "stderr",
          "output_type": "stream",
          "text": [
            "100%|\u2588\u2588\u2588\u2588\u2588\u2588\u2588\u2588\u2588\u2588| 782/782 [00:09<00:00, 79.46it/s]\n",
            "  1%|          | 9/782 [00:00<00:09, 80.64it/s]"
          ]
        },
        {
          "name": "stdout",
          "output_type": "stream",
          "text": [
            "epoch 44: train loss 1.4462, test loss 1.2149, accuracy 5865/10000 in 11.30s\n"
          ]
        },
        {
          "name": "stderr",
          "output_type": "stream",
          "text": [
            "100%|\u2588\u2588\u2588\u2588\u2588\u2588\u2588\u2588\u2588\u2588| 782/782 [00:10<00:00, 76.20it/s]\n",
            "  1%|          | 9/782 [00:00<00:09, 81.64it/s]"
          ]
        },
        {
          "name": "stdout",
          "output_type": "stream",
          "text": [
            "epoch 45: train loss 1.4481, test loss 1.2120, accuracy 5894/10000 in 11.72s\n"
          ]
        },
        {
          "name": "stderr",
          "output_type": "stream",
          "text": [
            "100%|\u2588\u2588\u2588\u2588\u2588\u2588\u2588\u2588\u2588\u2588| 782/782 [00:10<00:00, 76.46it/s]\n",
            "  1%|          | 8/782 [00:00<00:09, 79.71it/s]"
          ]
        },
        {
          "name": "stdout",
          "output_type": "stream",
          "text": [
            "epoch 46: train loss 1.4446, test loss 1.2138, accuracy 5854/10000 in 11.68s\n"
          ]
        },
        {
          "name": "stderr",
          "output_type": "stream",
          "text": [
            "100%|\u2588\u2588\u2588\u2588\u2588\u2588\u2588\u2588\u2588\u2588| 782/782 [00:10<00:00, 76.98it/s]\n",
            "  1%|          | 9/782 [00:00<00:09, 81.29it/s]"
          ]
        },
        {
          "name": "stdout",
          "output_type": "stream",
          "text": [
            "epoch 47: train loss 1.4439, test loss 1.1978, accuracy 5919/10000 in 11.61s\n"
          ]
        },
        {
          "name": "stderr",
          "output_type": "stream",
          "text": [
            "100%|\u2588\u2588\u2588\u2588\u2588\u2588\u2588\u2588\u2588\u2588| 782/782 [00:10<00:00, 77.00it/s]\n",
            "  1%|          | 8/782 [00:00<00:10, 72.58it/s]"
          ]
        },
        {
          "name": "stdout",
          "output_type": "stream",
          "text": [
            "epoch 48: train loss 1.4389, test loss 1.2077, accuracy 5914/10000 in 11.70s\n"
          ]
        },
        {
          "name": "stderr",
          "output_type": "stream",
          "text": [
            "100%|\u2588\u2588\u2588\u2588\u2588\u2588\u2588\u2588\u2588\u2588| 782/782 [00:09<00:00, 78.56it/s]\n",
            "  1%|          | 8/782 [00:00<00:10, 74.84it/s]"
          ]
        },
        {
          "name": "stdout",
          "output_type": "stream",
          "text": [
            "epoch 49: train loss 1.4449, test loss 1.1982, accuracy 5958/10000 in 11.50s\n"
          ]
        },
        {
          "name": "stderr",
          "output_type": "stream",
          "text": [
            "100%|\u2588\u2588\u2588\u2588\u2588\u2588\u2588\u2588\u2588\u2588| 782/782 [00:10<00:00, 75.38it/s]\n"
          ]
        },
        {
          "name": "stdout",
          "output_type": "stream",
          "text": [
            "epoch 50: train loss 1.4356, test loss 1.2071, accuracy 5910/10000 in 11.86s\n"
          ]
        }
      ],
      "source": [
        "perfs = []\n",
        "for epoch in range(1, N_EPOCHS + 1):\n",
        "    t0 = time.time()\n",
        "    train_loss = train(epoch, verbose=False)\n",
        "    test_loss, correct = test(verbose=False)\n",
        "    perfs.append([epoch, train_loss, test_loss, correct, len(test_loader.dataset), time.time() - t0])\n",
        "    print(\"epoch {}: train loss {:.4f}, test loss {:.4f}, accuracy {}/{} in {:.2f}s\".format(*perfs[-1]))"
      ]
    },
    {
      "cell_type": "code",
      "execution_count": 10,
      "metadata": {
        "scrolled": true
      },
      "outputs": [
        {
          "data": {
            "text/html": [
              "<div>\n",
              "<table border=\"1\" class=\"dataframe\">\n",
              "  <thead>\n",
              "    <tr style=\"text-align: right;\">\n",
              "      <th></th>\n",
              "      <th>epoch</th>\n",
              "      <th>train_loss</th>\n",
              "      <th>test_loss</th>\n",
              "      <th>accuracy</th>\n",
              "      <th>n_test</th>\n",
              "      <th>time</th>\n",
              "    </tr>\n",
              "  </thead>\n",
              "  <tbody>\n",
              "    <tr>\n",
              "      <th>0</th>\n",
              "      <td>1</td>\n",
              "      <td>2.169914</td>\n",
              "      <td>1.752367</td>\n",
              "      <td>3675</td>\n",
              "      <td>10000</td>\n",
              "      <td>12.012165</td>\n",
              "    </tr>\n",
              "    <tr>\n",
              "      <th>1</th>\n",
              "      <td>2</td>\n",
              "      <td>1.840080</td>\n",
              "      <td>1.620591</td>\n",
              "      <td>4170</td>\n",
              "      <td>10000</td>\n",
              "      <td>11.397995</td>\n",
              "    </tr>\n",
              "    <tr>\n",
              "      <th>2</th>\n",
              "      <td>3</td>\n",
              "      <td>1.763046</td>\n",
              "      <td>1.570013</td>\n",
              "      <td>4266</td>\n",
              "      <td>10000</td>\n",
              "      <td>11.570542</td>\n",
              "    </tr>\n",
              "    <tr>\n",
              "      <th>3</th>\n",
              "      <td>4</td>\n",
              "      <td>1.724817</td>\n",
              "      <td>1.517299</td>\n",
              "      <td>4500</td>\n",
              "      <td>10000</td>\n",
              "      <td>11.876798</td>\n",
              "    </tr>\n",
              "    <tr>\n",
              "      <th>4</th>\n",
              "      <td>5</td>\n",
              "      <td>1.685609</td>\n",
              "      <td>1.503470</td>\n",
              "      <td>4717</td>\n",
              "      <td>10000</td>\n",
              "      <td>11.277871</td>\n",
              "    </tr>\n",
              "    <tr>\n",
              "      <th>5</th>\n",
              "      <td>6</td>\n",
              "      <td>1.662315</td>\n",
              "      <td>1.483279</td>\n",
              "      <td>4761</td>\n",
              "      <td>10000</td>\n",
              "      <td>11.765396</td>\n",
              "    </tr>\n",
              "    <tr>\n",
              "      <th>6</th>\n",
              "      <td>7</td>\n",
              "      <td>1.640964</td>\n",
              "      <td>1.447362</td>\n",
              "      <td>4833</td>\n",
              "      <td>10000</td>\n",
              "      <td>11.396923</td>\n",
              "    </tr>\n",
              "    <tr>\n",
              "      <th>7</th>\n",
              "      <td>8</td>\n",
              "      <td>1.624725</td>\n",
              "      <td>1.442763</td>\n",
              "      <td>4869</td>\n",
              "      <td>10000</td>\n",
              "      <td>11.572115</td>\n",
              "    </tr>\n",
              "    <tr>\n",
              "      <th>8</th>\n",
              "      <td>9</td>\n",
              "      <td>1.613046</td>\n",
              "      <td>1.393994</td>\n",
              "      <td>4994</td>\n",
              "      <td>10000</td>\n",
              "      <td>11.684517</td>\n",
              "    </tr>\n",
              "    <tr>\n",
              "      <th>9</th>\n",
              "      <td>10</td>\n",
              "      <td>1.603802</td>\n",
              "      <td>1.380717</td>\n",
              "      <td>5107</td>\n",
              "      <td>10000</td>\n",
              "      <td>11.619156</td>\n",
              "    </tr>\n",
              "    <tr>\n",
              "      <th>10</th>\n",
              "      <td>11</td>\n",
              "      <td>1.597191</td>\n",
              "      <td>1.378265</td>\n",
              "      <td>5171</td>\n",
              "      <td>10000</td>\n",
              "      <td>11.558745</td>\n",
              "    </tr>\n",
              "    <tr>\n",
              "      <th>11</th>\n",
              "      <td>12</td>\n",
              "      <td>1.581511</td>\n",
              "      <td>1.371412</td>\n",
              "      <td>5168</td>\n",
              "      <td>10000</td>\n",
              "      <td>11.544060</td>\n",
              "    </tr>\n",
              "    <tr>\n",
              "      <th>12</th>\n",
              "      <td>13</td>\n",
              "      <td>1.570523</td>\n",
              "      <td>1.346479</td>\n",
              "      <td>5320</td>\n",
              "      <td>10000</td>\n",
              "      <td>11.859860</td>\n",
              "    </tr>\n",
              "    <tr>\n",
              "      <th>13</th>\n",
              "      <td>14</td>\n",
              "      <td>1.562144</td>\n",
              "      <td>1.351548</td>\n",
              "      <td>5294</td>\n",
              "      <td>10000</td>\n",
              "      <td>11.335763</td>\n",
              "    </tr>\n",
              "    <tr>\n",
              "      <th>14</th>\n",
              "      <td>15</td>\n",
              "      <td>1.554499</td>\n",
              "      <td>1.330698</td>\n",
              "      <td>5337</td>\n",
              "      <td>10000</td>\n",
              "      <td>11.541710</td>\n",
              "    </tr>\n",
              "    <tr>\n",
              "      <th>15</th>\n",
              "      <td>16</td>\n",
              "      <td>1.555082</td>\n",
              "      <td>1.346293</td>\n",
              "      <td>5409</td>\n",
              "      <td>10000</td>\n",
              "      <td>11.833996</td>\n",
              "    </tr>\n",
              "    <tr>\n",
              "      <th>16</th>\n",
              "      <td>17</td>\n",
              "      <td>1.535244</td>\n",
              "      <td>1.328871</td>\n",
              "      <td>5437</td>\n",
              "      <td>10000</td>\n",
              "      <td>11.638510</td>\n",
              "    </tr>\n",
              "    <tr>\n",
              "      <th>17</th>\n",
              "      <td>18</td>\n",
              "      <td>1.538110</td>\n",
              "      <td>1.333755</td>\n",
              "      <td>5352</td>\n",
              "      <td>10000</td>\n",
              "      <td>11.361728</td>\n",
              "    </tr>\n",
              "    <tr>\n",
              "      <th>18</th>\n",
              "      <td>19</td>\n",
              "      <td>1.531073</td>\n",
              "      <td>1.308771</td>\n",
              "      <td>5489</td>\n",
              "      <td>10000</td>\n",
              "      <td>11.847419</td>\n",
              "    </tr>\n",
              "    <tr>\n",
              "      <th>19</th>\n",
              "      <td>20</td>\n",
              "      <td>1.528905</td>\n",
              "      <td>1.311850</td>\n",
              "      <td>5459</td>\n",
              "      <td>10000</td>\n",
              "      <td>11.391759</td>\n",
              "    </tr>\n",
              "    <tr>\n",
              "      <th>20</th>\n",
              "      <td>21</td>\n",
              "      <td>1.519237</td>\n",
              "      <td>1.294963</td>\n",
              "      <td>5571</td>\n",
              "      <td>10000</td>\n",
              "      <td>11.456195</td>\n",
              "    </tr>\n",
              "    <tr>\n",
              "      <th>21</th>\n",
              "      <td>22</td>\n",
              "      <td>1.524166</td>\n",
              "      <td>1.299526</td>\n",
              "      <td>5499</td>\n",
              "      <td>10000</td>\n",
              "      <td>11.482363</td>\n",
              "    </tr>\n",
              "    <tr>\n",
              "      <th>22</th>\n",
              "      <td>23</td>\n",
              "      <td>1.515454</td>\n",
              "      <td>1.293815</td>\n",
              "      <td>5599</td>\n",
              "      <td>10000</td>\n",
              "      <td>11.319931</td>\n",
              "    </tr>\n",
              "    <tr>\n",
              "      <th>23</th>\n",
              "      <td>24</td>\n",
              "      <td>1.509727</td>\n",
              "      <td>1.293865</td>\n",
              "      <td>5523</td>\n",
              "      <td>10000</td>\n",
              "      <td>11.369551</td>\n",
              "    </tr>\n",
              "    <tr>\n",
              "      <th>24</th>\n",
              "      <td>25</td>\n",
              "      <td>1.500931</td>\n",
              "      <td>1.290735</td>\n",
              "      <td>5525</td>\n",
              "      <td>10000</td>\n",
              "      <td>12.065733</td>\n",
              "    </tr>\n",
              "    <tr>\n",
              "      <th>25</th>\n",
              "      <td>26</td>\n",
              "      <td>1.501995</td>\n",
              "      <td>1.284510</td>\n",
              "      <td>5609</td>\n",
              "      <td>10000</td>\n",
              "      <td>11.489279</td>\n",
              "    </tr>\n",
              "    <tr>\n",
              "      <th>26</th>\n",
              "      <td>27</td>\n",
              "      <td>1.493296</td>\n",
              "      <td>1.274153</td>\n",
              "      <td>5641</td>\n",
              "      <td>10000</td>\n",
              "      <td>11.933470</td>\n",
              "    </tr>\n",
              "    <tr>\n",
              "      <th>27</th>\n",
              "      <td>28</td>\n",
              "      <td>1.496725</td>\n",
              "      <td>1.279568</td>\n",
              "      <td>5583</td>\n",
              "      <td>10000</td>\n",
              "      <td>11.576827</td>\n",
              "    </tr>\n",
              "    <tr>\n",
              "      <th>28</th>\n",
              "      <td>29</td>\n",
              "      <td>1.487993</td>\n",
              "      <td>1.280478</td>\n",
              "      <td>5700</td>\n",
              "      <td>10000</td>\n",
              "      <td>11.587391</td>\n",
              "    </tr>\n",
              "    <tr>\n",
              "      <th>29</th>\n",
              "      <td>30</td>\n",
              "      <td>1.481239</td>\n",
              "      <td>1.236744</td>\n",
              "      <td>5757</td>\n",
              "      <td>10000</td>\n",
              "      <td>11.469432</td>\n",
              "    </tr>\n",
              "    <tr>\n",
              "      <th>30</th>\n",
              "      <td>31</td>\n",
              "      <td>1.489067</td>\n",
              "      <td>1.258646</td>\n",
              "      <td>5648</td>\n",
              "      <td>10000</td>\n",
              "      <td>11.486207</td>\n",
              "    </tr>\n",
              "    <tr>\n",
              "      <th>31</th>\n",
              "      <td>32</td>\n",
              "      <td>1.485838</td>\n",
              "      <td>1.272255</td>\n",
              "      <td>5584</td>\n",
              "      <td>10000</td>\n",
              "      <td>11.843412</td>\n",
              "    </tr>\n",
              "    <tr>\n",
              "      <th>32</th>\n",
              "      <td>33</td>\n",
              "      <td>1.473095</td>\n",
              "      <td>1.251402</td>\n",
              "      <td>5725</td>\n",
              "      <td>10000</td>\n",
              "      <td>11.977185</td>\n",
              "    </tr>\n",
              "    <tr>\n",
              "      <th>33</th>\n",
              "      <td>34</td>\n",
              "      <td>1.476354</td>\n",
              "      <td>1.272901</td>\n",
              "      <td>5765</td>\n",
              "      <td>10000</td>\n",
              "      <td>11.623793</td>\n",
              "    </tr>\n",
              "    <tr>\n",
              "      <th>34</th>\n",
              "      <td>35</td>\n",
              "      <td>1.460555</td>\n",
              "      <td>1.251890</td>\n",
              "      <td>5755</td>\n",
              "      <td>10000</td>\n",
              "      <td>11.768436</td>\n",
              "    </tr>\n",
              "    <tr>\n",
              "      <th>35</th>\n",
              "      <td>36</td>\n",
              "      <td>1.463994</td>\n",
              "      <td>1.235249</td>\n",
              "      <td>5820</td>\n",
              "      <td>10000</td>\n",
              "      <td>11.258665</td>\n",
              "    </tr>\n",
              "    <tr>\n",
              "      <th>36</th>\n",
              "      <td>37</td>\n",
              "      <td>1.471099</td>\n",
              "      <td>1.223512</td>\n",
              "      <td>5779</td>\n",
              "      <td>10000</td>\n",
              "      <td>11.546394</td>\n",
              "    </tr>\n",
              "    <tr>\n",
              "      <th>37</th>\n",
              "      <td>38</td>\n",
              "      <td>1.450969</td>\n",
              "      <td>1.223793</td>\n",
              "      <td>5780</td>\n",
              "      <td>10000</td>\n",
              "      <td>11.473965</td>\n",
              "    </tr>\n",
              "    <tr>\n",
              "      <th>38</th>\n",
              "      <td>39</td>\n",
              "      <td>1.458825</td>\n",
              "      <td>1.221349</td>\n",
              "      <td>5872</td>\n",
              "      <td>10000</td>\n",
              "      <td>11.347558</td>\n",
              "    </tr>\n",
              "    <tr>\n",
              "      <th>39</th>\n",
              "      <td>40</td>\n",
              "      <td>1.456747</td>\n",
              "      <td>1.232436</td>\n",
              "      <td>5788</td>\n",
              "      <td>10000</td>\n",
              "      <td>11.742687</td>\n",
              "    </tr>\n",
              "    <tr>\n",
              "      <th>40</th>\n",
              "      <td>41</td>\n",
              "      <td>1.450242</td>\n",
              "      <td>1.237012</td>\n",
              "      <td>5728</td>\n",
              "      <td>10000</td>\n",
              "      <td>11.507917</td>\n",
              "    </tr>\n",
              "    <tr>\n",
              "      <th>41</th>\n",
              "      <td>42</td>\n",
              "      <td>1.451354</td>\n",
              "      <td>1.193295</td>\n",
              "      <td>5909</td>\n",
              "      <td>10000</td>\n",
              "      <td>11.306072</td>\n",
              "    </tr>\n",
              "    <tr>\n",
              "      <th>42</th>\n",
              "      <td>43</td>\n",
              "      <td>1.444023</td>\n",
              "      <td>1.229257</td>\n",
              "      <td>5890</td>\n",
              "      <td>10000</td>\n",
              "      <td>11.767976</td>\n",
              "    </tr>\n",
              "    <tr>\n",
              "      <th>43</th>\n",
              "      <td>44</td>\n",
              "      <td>1.446178</td>\n",
              "      <td>1.214856</td>\n",
              "      <td>5865</td>\n",
              "      <td>10000</td>\n",
              "      <td>11.298105</td>\n",
              "    </tr>\n",
              "    <tr>\n",
              "      <th>44</th>\n",
              "      <td>45</td>\n",
              "      <td>1.448117</td>\n",
              "      <td>1.211978</td>\n",
              "      <td>5894</td>\n",
              "      <td>10000</td>\n",
              "      <td>11.719686</td>\n",
              "    </tr>\n",
              "    <tr>\n",
              "      <th>45</th>\n",
              "      <td>46</td>\n",
              "      <td>1.444610</td>\n",
              "      <td>1.213834</td>\n",
              "      <td>5854</td>\n",
              "      <td>10000</td>\n",
              "      <td>11.684426</td>\n",
              "    </tr>\n",
              "    <tr>\n",
              "      <th>46</th>\n",
              "      <td>47</td>\n",
              "      <td>1.443885</td>\n",
              "      <td>1.197752</td>\n",
              "      <td>5919</td>\n",
              "      <td>10000</td>\n",
              "      <td>11.606272</td>\n",
              "    </tr>\n",
              "    <tr>\n",
              "      <th>47</th>\n",
              "      <td>48</td>\n",
              "      <td>1.438910</td>\n",
              "      <td>1.207737</td>\n",
              "      <td>5914</td>\n",
              "      <td>10000</td>\n",
              "      <td>11.698304</td>\n",
              "    </tr>\n",
              "    <tr>\n",
              "      <th>48</th>\n",
              "      <td>49</td>\n",
              "      <td>1.444946</td>\n",
              "      <td>1.198205</td>\n",
              "      <td>5958</td>\n",
              "      <td>10000</td>\n",
              "      <td>11.495326</td>\n",
              "    </tr>\n",
              "    <tr>\n",
              "      <th>49</th>\n",
              "      <td>50</td>\n",
              "      <td>1.435570</td>\n",
              "      <td>1.207149</td>\n",
              "      <td>5910</td>\n",
              "      <td>10000</td>\n",
              "      <td>11.858316</td>\n",
              "    </tr>\n",
              "  </tbody>\n",
              "</table>\n",
              "</div>"
            ],
            "text/plain": [
              "    epoch  train_loss  test_loss  accuracy  n_test       time\n",
              "0       1    2.169914   1.752367      3675   10000  12.012165\n",
              "1       2    1.840080   1.620591      4170   10000  11.397995\n",
              "2       3    1.763046   1.570013      4266   10000  11.570542\n",
              "3       4    1.724817   1.517299      4500   10000  11.876798\n",
              "4       5    1.685609   1.503470      4717   10000  11.277871\n",
              "5       6    1.662315   1.483279      4761   10000  11.765396\n",
              "6       7    1.640964   1.447362      4833   10000  11.396923\n",
              "7       8    1.624725   1.442763      4869   10000  11.572115\n",
              "8       9    1.613046   1.393994      4994   10000  11.684517\n",
              "9      10    1.603802   1.380717      5107   10000  11.619156\n",
              "10     11    1.597191   1.378265      5171   10000  11.558745\n",
              "11     12    1.581511   1.371412      5168   10000  11.544060\n",
              "12     13    1.570523   1.346479      5320   10000  11.859860\n",
              "13     14    1.562144   1.351548      5294   10000  11.335763\n",
              "14     15    1.554499   1.330698      5337   10000  11.541710\n",
              "15     16    1.555082   1.346293      5409   10000  11.833996\n",
              "16     17    1.535244   1.328871      5437   10000  11.638510\n",
              "17     18    1.538110   1.333755      5352   10000  11.361728\n",
              "18     19    1.531073   1.308771      5489   10000  11.847419\n",
              "19     20    1.528905   1.311850      5459   10000  11.391759\n",
              "20     21    1.519237   1.294963      5571   10000  11.456195\n",
              "21     22    1.524166   1.299526      5499   10000  11.482363\n",
              "22     23    1.515454   1.293815      5599   10000  11.319931\n",
              "23     24    1.509727   1.293865      5523   10000  11.369551\n",
              "24     25    1.500931   1.290735      5525   10000  12.065733\n",
              "25     26    1.501995   1.284510      5609   10000  11.489279\n",
              "26     27    1.493296   1.274153      5641   10000  11.933470\n",
              "27     28    1.496725   1.279568      5583   10000  11.576827\n",
              "28     29    1.487993   1.280478      5700   10000  11.587391\n",
              "29     30    1.481239   1.236744      5757   10000  11.469432\n",
              "30     31    1.489067   1.258646      5648   10000  11.486207\n",
              "31     32    1.485838   1.272255      5584   10000  11.843412\n",
              "32     33    1.473095   1.251402      5725   10000  11.977185\n",
              "33     34    1.476354   1.272901      5765   10000  11.623793\n",
              "34     35    1.460555   1.251890      5755   10000  11.768436\n",
              "35     36    1.463994   1.235249      5820   10000  11.258665\n",
              "36     37    1.471099   1.223512      5779   10000  11.546394\n",
              "37     38    1.450969   1.223793      5780   10000  11.473965\n",
              "38     39    1.458825   1.221349      5872   10000  11.347558\n",
              "39     40    1.456747   1.232436      5788   10000  11.742687\n",
              "40     41    1.450242   1.237012      5728   10000  11.507917\n",
              "41     42    1.451354   1.193295      5909   10000  11.306072\n",
              "42     43    1.444023   1.229257      5890   10000  11.767976\n",
              "43     44    1.446178   1.214856      5865   10000  11.298105\n",
              "44     45    1.448117   1.211978      5894   10000  11.719686\n",
              "45     46    1.444610   1.213834      5854   10000  11.684426\n",
              "46     47    1.443885   1.197752      5919   10000  11.606272\n",
              "47     48    1.438910   1.207737      5914   10000  11.698304\n",
              "48     49    1.444946   1.198205      5958   10000  11.495326\n",
              "49     50    1.435570   1.207149      5910   10000  11.858316"
            ]
          },
          "execution_count": 11,
          "metadata": {},
          "output_type": "execute_result"
        }
      ],
      "source": [
        "df_perfs = pd.DataFrame(perfs, columns=[\"epoch\", \"train_loss\", \"test_loss\", \"accuracy\", \"n_test\", \"time\"])\n",
        "df_perfs"
      ]
    },
    {
      "cell_type": "code",
      "execution_count": 11,
      "metadata": {},
      "outputs": [
        {
          "data": {
            "image/png": "[encoded data removed]",
            "text/plain": [
              "<matplotlib.figure.Figure at 0x7f33281b00b8>"
            ]
          },
          "metadata": {},
          "output_type": "display_data"
        }
      ],
      "source": [
        "df_perfs[[\"train_loss\", \"test_loss\"]].plot();"
      ]
    },
    {
      "cell_type": "code",
      "execution_count": 12,
      "metadata": {
        "collapsed": true
      },
      "outputs": [],
      "source": []
    }
  ],
  "metadata": {
    "kernelspec": {
      "display_name": "Python 3",
      "language": "python",
      "name": "python3"
    },
    "language_info": {
      "codemirror_mode": {
        "name": "ipython",
        "version": 3
      },
      "file_extension": ".py",
      "mimetype": "text/x-python",
      "name": "python",
      "nbconvert_exporter": "python",
      "pygments_lexer": "ipython3",
      "version": "3.6.1"
    }
  },
  "nbformat": 4,
  "nbformat_minor": 2
}