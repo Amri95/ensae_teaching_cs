{
  "cells": [
    {
      "cell_type": "markdown",
      "metadata": {},
      "source": [
        "# 210 - First convolution network (CNN) with pytorch\n",
        "\n",
        "First convolution network on MNIST database."
      ]
    },
    {
      "cell_type": "markdown",
      "metadata": {},
      "source": [
        "**Note:** install [tqdm](https://pypi.python.org/pypi/tqdm) if not installed: ``!pip install tqdm``"
      ]
    },
    {
      "cell_type": "code",
      "execution_count": 1,
      "metadata": {},
      "outputs": [
        {
          "name": "stdout",
          "output_type": "stream",
          "text": [
            "torch 0.2.0_4\n"
          ]
        }
      ],
      "source": [
        "%matplotlib inline\n",
        "import time\n",
        "import numpy as np\n",
        "import pandas as pd\n",
        "from pylab import plt\n",
        "import torch\n",
        "import torch.nn as nn\n",
        "import torch.nn.functional as F\n",
        "import torch.optim as optim\n",
        "from torch.autograd import Variable\n",
        "print(\"torch\", torch.__version__)\n",
        "from torchvision import datasets, transforms\n",
        "from tqdm import tqdm"
      ]
    },
    {
      "cell_type": "code",
      "execution_count": 2,
      "metadata": {
        "collapsed": true
      },
      "outputs": [],
      "source": [
        "BATCH_SIZE = 64\n",
        "TEST_BATCH_SIZE = 64\n",
        "DATA_DIR = '/home/xd_ensae/data/'\n",
        "USE_CUDA = True\n",
        "N_EPOCHS = 50"
      ]
    },
    {
      "cell_type": "code",
      "execution_count": 3,
      "metadata": {},
      "outputs": [],
      "source": [
        "train_loader = torch.utils.data.DataLoader(\n",
        "    datasets.MNIST(DATA_DIR, train=True, download=True,\n",
        "                   transform=transforms.Compose([\n",
        "                       transforms.ToTensor(),\n",
        "                       transforms.Normalize((0.1307,), (0.3081,))\n",
        "                   ])),\n",
        "    batch_size=BATCH_SIZE, shuffle=True)\n",
        "test_loader = torch.utils.data.DataLoader(\n",
        "    datasets.MNIST(DATA_DIR, train=False, transform=transforms.Compose([\n",
        "                       transforms.ToTensor(),\n",
        "                       transforms.Normalize((0.1307,), (0.3081,))\n",
        "                   ])),\n",
        "    batch_size=TEST_BATCH_SIZE, shuffle=True)"
      ]
    },
    {
      "cell_type": "code",
      "execution_count": 4,
      "metadata": {},
      "outputs": [],
      "source": [
        "class Net(nn.Module):\n",
        "    def __init__(self):\n",
        "        super(Net, self).__init__()\n",
        "        self.conv1 = nn.Conv2d(1, 10, kernel_size=5)\n",
        "        self.conv2 = nn.Conv2d(10, 20, kernel_size=5)\n",
        "        self.conv2_drop = nn.Dropout2d()\n",
        "        self.fc1 = nn.Linear(320, 50)\n",
        "        self.fc2 = nn.Linear(50, 10)\n",
        "\n",
        "    def forward(self, x):\n",
        "        x = F.relu(F.max_pool2d(self.conv1(x), 2))\n",
        "        x = F.relu(F.max_pool2d(self.conv2_drop(self.conv2(x)), 2))\n",
        "        x = x.view(-1, 320)\n",
        "        x = F.relu(self.fc1(x))\n",
        "        x = F.dropout(x, training=self.training)\n",
        "        x = self.fc2(x)\n",
        "        return F.log_softmax(x)"
      ]
    },
    {
      "cell_type": "code",
      "execution_count": 5,
      "metadata": {
        "collapsed": true
      },
      "outputs": [],
      "source": [
        "model = Net()\n",
        "if USE_CUDA: model = model.cuda()"
      ]
    },
    {
      "cell_type": "code",
      "execution_count": 6,
      "metadata": {
        "collapsed": true
      },
      "outputs": [],
      "source": [
        "optimizer = optim.Adam(model.parameters())"
      ]
    },
    {
      "cell_type": "code",
      "execution_count": 7,
      "metadata": {},
      "outputs": [],
      "source": [
        "def train(epoch, verbose=True):\n",
        "    model.train()\n",
        "    losses = []\n",
        "    loader = tqdm(train_loader, total=len(train_loader))\n",
        "    for batch_idx, (data, target) in enumerate(loader):\n",
        "        if USE_CUDA:\n",
        "            data, target = data.cuda(), target.cuda()\n",
        "        data, target = Variable(data), Variable(target)\n",
        "        optimizer.zero_grad()\n",
        "        output = model(data)\n",
        "        loss = F.nll_loss(output, target)\n",
        "        loss.backward()\n",
        "        optimizer.step()\n",
        "        losses.append(float(loss.data[0]))\n",
        "        if verbose and batch_idx % 100 == 0:\n",
        "            print('Train Epoch: {} [{}/{} ({:.0f}%)]\\tLoss: {:.6f}'.format(\n",
        "                epoch, batch_idx * len(data), len(train_loader.dataset),\n",
        "                100. * batch_idx / len(train_loader), loss.data[0]))\n",
        "    return np.mean(losses)"
      ]
    },
    {
      "cell_type": "code",
      "execution_count": 8,
      "metadata": {
        "collapsed": true
      },
      "outputs": [],
      "source": [
        "def test(verbose=True):\n",
        "    model.eval()\n",
        "    test_loss = 0\n",
        "    correct = 0\n",
        "    for data, target in test_loader:\n",
        "        if USE_CUDA: data, target = data.cuda(), target.cuda()\n",
        "        data, target = Variable(data, volatile=True), Variable(target)\n",
        "        output = model(data)\n",
        "        test_loss += F.nll_loss(output, target, size_average=False).data[0] # sum up batch loss\n",
        "        pred = output.data.max(1, keepdim=True)[1] # get the index of the max log-probability\n",
        "        correct += pred.eq(target.data.view_as(pred)).cpu().sum()\n",
        "\n",
        "    test_loss /= len(test_loader.dataset)\n",
        "    if verbose:\n",
        "        print('\\nTest set: Average loss: {:.4f}, Accuracy: {}/{} ({:.0f}%)\\n'.format(\n",
        "            test_loss, correct, len(test_loader.dataset),\n",
        "            100. * correct / len(test_loader.dataset)))\n",
        "    return [float(test_loss), correct]"
      ]
    },
    {
      "cell_type": "code",
      "execution_count": 9,
      "metadata": {
        "scrolled": false
      },
      "outputs": [
        {
          "name": "stderr",
          "output_type": "stream",
          "text": [
            "100%|\u2588\u2588\u2588\u2588\u2588\u2588\u2588\u2588\u2588\u2588| 938/938 [00:09<00:00, 102.88it/s]\n",
            "  1%|          | 11/938 [00:00<00:08, 107.57it/s]"
          ]
        },
        {
          "name": "stdout",
          "output_type": "stream",
          "text": [
            "epoch 1: train loss 0.5119, test loss 0.0911, accuracy 9723/10000 in 10.12s\n"
          ]
        },
        {
          "name": "stderr",
          "output_type": "stream",
          "text": [
            "100%|\u2588\u2588\u2588\u2588\u2588\u2588\u2588\u2588\u2588\u2588| 938/938 [00:08<00:00, 107.19it/s]\n",
            "  1%|          | 11/938 [00:00<00:08, 108.18it/s]"
          ]
        },
        {
          "name": "stdout",
          "output_type": "stream",
          "text": [
            "epoch 2: train loss 0.2388, test loss 0.0679, accuracy 9778/10000 in 9.75s\n"
          ]
        },
        {
          "name": "stderr",
          "output_type": "stream",
          "text": [
            "100%|\u2588\u2588\u2588\u2588\u2588\u2588\u2588\u2588\u2588\u2588| 938/938 [00:08<00:00, 104.97it/s]\n",
            "  1%|          | 11/938 [00:00<00:09, 101.93it/s]"
          ]
        },
        {
          "name": "stdout",
          "output_type": "stream",
          "text": [
            "epoch 3: train loss 0.1990, test loss 0.0565, accuracy 9832/10000 in 9.93s\n"
          ]
        },
        {
          "name": "stderr",
          "output_type": "stream",
          "text": [
            "100%|\u2588\u2588\u2588\u2588\u2588\u2588\u2588\u2588\u2588\u2588| 938/938 [00:08<00:00, 107.53it/s]\n",
            "  1%|          | 11/938 [00:00<00:08, 107.10it/s]"
          ]
        },
        {
          "name": "stdout",
          "output_type": "stream",
          "text": [
            "epoch 4: train loss 0.1784, test loss 0.0504, accuracy 9846/10000 in 9.74s\n"
          ]
        },
        {
          "name": "stderr",
          "output_type": "stream",
          "text": [
            "100%|\u2588\u2588\u2588\u2588\u2588\u2588\u2588\u2588\u2588\u2588| 938/938 [00:08<00:00, 106.40it/s]\n",
            "  1%|          | 11/938 [00:00<00:09, 102.07it/s]"
          ]
        },
        {
          "name": "stdout",
          "output_type": "stream",
          "text": [
            "epoch 5: train loss 0.1649, test loss 0.0508, accuracy 9834/10000 in 9.79s\n"
          ]
        },
        {
          "name": "stderr",
          "output_type": "stream",
          "text": [
            "100%|\u2588\u2588\u2588\u2588\u2588\u2588\u2588\u2588\u2588\u2588| 938/938 [00:08<00:00, 106.27it/s]\n",
            "  1%|          | 11/938 [00:00<00:08, 104.79it/s]"
          ]
        },
        {
          "name": "stdout",
          "output_type": "stream",
          "text": [
            "epoch 6: train loss 0.1533, test loss 0.0463, accuracy 9850/10000 in 9.83s\n"
          ]
        },
        {
          "name": "stderr",
          "output_type": "stream",
          "text": [
            "100%|\u2588\u2588\u2588\u2588\u2588\u2588\u2588\u2588\u2588\u2588| 938/938 [00:08<00:00, 106.30it/s]\n",
            "  1%|          | 11/938 [00:00<00:08, 108.45it/s]"
          ]
        },
        {
          "name": "stdout",
          "output_type": "stream",
          "text": [
            "epoch 7: train loss 0.1502, test loss 0.0412, accuracy 9870/10000 in 9.82s\n"
          ]
        },
        {
          "name": "stderr",
          "output_type": "stream",
          "text": [
            "100%|\u2588\u2588\u2588\u2588\u2588\u2588\u2588\u2588\u2588\u2588| 938/938 [00:08<00:00, 108.62it/s]\n",
            "  1%|          | 11/938 [00:00<00:08, 106.89it/s]"
          ]
        },
        {
          "name": "stdout",
          "output_type": "stream",
          "text": [
            "epoch 8: train loss 0.1405, test loss 0.0408, accuracy 9875/10000 in 9.63s\n"
          ]
        },
        {
          "name": "stderr",
          "output_type": "stream",
          "text": [
            "100%|\u2588\u2588\u2588\u2588\u2588\u2588\u2588\u2588\u2588\u2588| 938/938 [00:08<00:00, 108.22it/s]\n",
            "  1%|          | 11/938 [00:00<00:08, 108.87it/s]"
          ]
        },
        {
          "name": "stdout",
          "output_type": "stream",
          "text": [
            "epoch 9: train loss 0.1363, test loss 0.0384, accuracy 9875/10000 in 9.67s\n"
          ]
        },
        {
          "name": "stderr",
          "output_type": "stream",
          "text": [
            "100%|\u2588\u2588\u2588\u2588\u2588\u2588\u2588\u2588\u2588\u2588| 938/938 [00:08<00:00, 106.68it/s]\n",
            "  1%|          | 11/938 [00:00<00:08, 104.47it/s]"
          ]
        },
        {
          "name": "stdout",
          "output_type": "stream",
          "text": [
            "epoch 10: train loss 0.1340, test loss 0.0408, accuracy 9863/10000 in 9.83s\n"
          ]
        },
        {
          "name": "stderr",
          "output_type": "stream",
          "text": [
            "100%|\u2588\u2588\u2588\u2588\u2588\u2588\u2588\u2588\u2588\u2588| 938/938 [00:08<00:00, 106.47it/s]\n",
            "  1%|          | 11/938 [00:00<00:08, 105.57it/s]"
          ]
        },
        {
          "name": "stdout",
          "output_type": "stream",
          "text": [
            "epoch 11: train loss 0.1255, test loss 0.0357, accuracy 9883/10000 in 9.80s\n"
          ]
        },
        {
          "name": "stderr",
          "output_type": "stream",
          "text": [
            "100%|\u2588\u2588\u2588\u2588\u2588\u2588\u2588\u2588\u2588\u2588| 938/938 [00:08<00:00, 105.40it/s]\n",
            "  1%|          | 11/938 [00:00<00:08, 108.28it/s]"
          ]
        },
        {
          "name": "stdout",
          "output_type": "stream",
          "text": [
            "epoch 12: train loss 0.1247, test loss 0.0373, accuracy 9879/10000 in 9.91s\n"
          ]
        },
        {
          "name": "stderr",
          "output_type": "stream",
          "text": [
            "100%|\u2588\u2588\u2588\u2588\u2588\u2588\u2588\u2588\u2588\u2588| 938/938 [00:08<00:00, 108.04it/s]\n",
            "  1%|          | 11/938 [00:00<00:09, 102.90it/s]"
          ]
        },
        {
          "name": "stdout",
          "output_type": "stream",
          "text": [
            "epoch 13: train loss 0.1226, test loss 0.0336, accuracy 9884/10000 in 9.70s\n"
          ]
        },
        {
          "name": "stderr",
          "output_type": "stream",
          "text": [
            "100%|\u2588\u2588\u2588\u2588\u2588\u2588\u2588\u2588\u2588\u2588| 938/938 [00:08<00:00, 106.87it/s]\n",
            "  1%|          | 11/938 [00:00<00:08, 105.48it/s]"
          ]
        },
        {
          "name": "stdout",
          "output_type": "stream",
          "text": [
            "epoch 14: train loss 0.1205, test loss 0.0353, accuracy 9882/10000 in 9.78s\n"
          ]
        },
        {
          "name": "stderr",
          "output_type": "stream",
          "text": [
            "100%|\u2588\u2588\u2588\u2588\u2588\u2588\u2588\u2588\u2588\u2588| 938/938 [00:08<00:00, 106.23it/s]\n",
            "  1%|          | 11/938 [00:00<00:09, 101.07it/s]"
          ]
        },
        {
          "name": "stdout",
          "output_type": "stream",
          "text": [
            "epoch 15: train loss 0.1194, test loss 0.0372, accuracy 9884/10000 in 9.87s\n"
          ]
        },
        {
          "name": "stderr",
          "output_type": "stream",
          "text": [
            "100%|\u2588\u2588\u2588\u2588\u2588\u2588\u2588\u2588\u2588\u2588| 938/938 [00:08<00:00, 106.87it/s]\n",
            "  1%|          | 11/938 [00:00<00:08, 104.71it/s]"
          ]
        },
        {
          "name": "stdout",
          "output_type": "stream",
          "text": [
            "epoch 16: train loss 0.1150, test loss 0.0346, accuracy 9886/10000 in 9.79s\n"
          ]
        },
        {
          "name": "stderr",
          "output_type": "stream",
          "text": [
            "100%|\u2588\u2588\u2588\u2588\u2588\u2588\u2588\u2588\u2588\u2588| 938/938 [00:09<00:00, 103.71it/s]\n",
            "  1%|          | 10/938 [00:00<00:10, 92.67it/s]"
          ]
        },
        {
          "name": "stdout",
          "output_type": "stream",
          "text": [
            "epoch 17: train loss 0.1117, test loss 0.0335, accuracy 9894/10000 in 10.16s\n"
          ]
        },
        {
          "name": "stderr",
          "output_type": "stream",
          "text": [
            "100%|\u2588\u2588\u2588\u2588\u2588\u2588\u2588\u2588\u2588\u2588| 938/938 [00:09<00:00, 104.15it/s]\n",
            "  1%|          | 11/938 [00:00<00:08, 108.69it/s]"
          ]
        },
        {
          "name": "stdout",
          "output_type": "stream",
          "text": [
            "epoch 18: train loss 0.1097, test loss 0.0321, accuracy 9898/10000 in 10.01s\n"
          ]
        },
        {
          "name": "stderr",
          "output_type": "stream",
          "text": [
            "100%|\u2588\u2588\u2588\u2588\u2588\u2588\u2588\u2588\u2588\u2588| 938/938 [00:08<00:00, 106.33it/s]\n",
            "  1%|          | 11/938 [00:00<00:08, 109.12it/s]"
          ]
        },
        {
          "name": "stdout",
          "output_type": "stream",
          "text": [
            "epoch 19: train loss 0.1086, test loss 0.0327, accuracy 9900/10000 in 9.84s\n"
          ]
        },
        {
          "name": "stderr",
          "output_type": "stream",
          "text": [
            "100%|\u2588\u2588\u2588\u2588\u2588\u2588\u2588\u2588\u2588\u2588| 938/938 [00:08<00:00, 105.82it/s]\n",
            "  1%|          | 11/938 [00:00<00:08, 104.64it/s]"
          ]
        },
        {
          "name": "stdout",
          "output_type": "stream",
          "text": [
            "epoch 20: train loss 0.1090, test loss 0.0354, accuracy 9895/10000 in 9.89s\n"
          ]
        },
        {
          "name": "stderr",
          "output_type": "stream",
          "text": [
            "100%|\u2588\u2588\u2588\u2588\u2588\u2588\u2588\u2588\u2588\u2588| 938/938 [00:09<00:00, 104.12it/s]\n",
            "  1%|          | 11/938 [00:00<00:08, 107.76it/s]"
          ]
        },
        {
          "name": "stdout",
          "output_type": "stream",
          "text": [
            "epoch 21: train loss 0.1066, test loss 0.0319, accuracy 9897/10000 in 10.00s\n"
          ]
        },
        {
          "name": "stderr",
          "output_type": "stream",
          "text": [
            "100%|\u2588\u2588\u2588\u2588\u2588\u2588\u2588\u2588\u2588\u2588| 938/938 [00:08<00:00, 107.03it/s]\n",
            "  1%|          | 11/938 [00:00<00:08, 105.95it/s]"
          ]
        },
        {
          "name": "stdout",
          "output_type": "stream",
          "text": [
            "epoch 22: train loss 0.1061, test loss 0.0333, accuracy 9889/10000 in 9.78s\n"
          ]
        },
        {
          "name": "stderr",
          "output_type": "stream",
          "text": [
            "100%|\u2588\u2588\u2588\u2588\u2588\u2588\u2588\u2588\u2588\u2588| 938/938 [00:09<00:00, 103.53it/s]\n",
            "  1%|          | 10/938 [00:00<00:09, 99.41it/s]"
          ]
        },
        {
          "name": "stdout",
          "output_type": "stream",
          "text": [
            "epoch 23: train loss 0.1039, test loss 0.0314, accuracy 9907/10000 in 10.13s\n"
          ]
        },
        {
          "name": "stderr",
          "output_type": "stream",
          "text": [
            "100%|\u2588\u2588\u2588\u2588\u2588\u2588\u2588\u2588\u2588\u2588| 938/938 [00:08<00:00, 104.62it/s]\n",
            "  1%|          | 11/938 [00:00<00:08, 106.03it/s]"
          ]
        },
        {
          "name": "stdout",
          "output_type": "stream",
          "text": [
            "epoch 24: train loss 0.1019, test loss 0.0313, accuracy 9901/10000 in 9.97s\n"
          ]
        },
        {
          "name": "stderr",
          "output_type": "stream",
          "text": [
            "100%|\u2588\u2588\u2588\u2588\u2588\u2588\u2588\u2588\u2588\u2588| 938/938 [00:09<00:00, 103.60it/s]\n",
            "  1%|          | 11/938 [00:00<00:09, 100.25it/s]"
          ]
        },
        {
          "name": "stdout",
          "output_type": "stream",
          "text": [
            "epoch 25: train loss 0.1019, test loss 0.0326, accuracy 9898/10000 in 10.13s\n"
          ]
        },
        {
          "name": "stderr",
          "output_type": "stream",
          "text": [
            "100%|\u2588\u2588\u2588\u2588\u2588\u2588\u2588\u2588\u2588\u2588| 938/938 [00:08<00:00, 106.58it/s]\n",
            "  1%|          | 11/938 [00:00<00:08, 103.92it/s]"
          ]
        },
        {
          "name": "stdout",
          "output_type": "stream",
          "text": [
            "epoch 26: train loss 0.0999, test loss 0.0326, accuracy 9901/10000 in 9.84s\n"
          ]
        },
        {
          "name": "stderr",
          "output_type": "stream",
          "text": [
            "100%|\u2588\u2588\u2588\u2588\u2588\u2588\u2588\u2588\u2588\u2588| 938/938 [00:08<00:00, 107.13it/s]\n",
            "  1%|          | 11/938 [00:00<00:08, 108.56it/s]"
          ]
        },
        {
          "name": "stdout",
          "output_type": "stream",
          "text": [
            "epoch 27: train loss 0.1014, test loss 0.0326, accuracy 9901/10000 in 9.75s\n"
          ]
        },
        {
          "name": "stderr",
          "output_type": "stream",
          "text": [
            "100%|\u2588\u2588\u2588\u2588\u2588\u2588\u2588\u2588\u2588\u2588| 938/938 [00:08<00:00, 109.08it/s]\n",
            "  1%|          | 11/938 [00:00<00:09, 102.53it/s]"
          ]
        },
        {
          "name": "stdout",
          "output_type": "stream",
          "text": [
            "epoch 28: train loss 0.0986, test loss 0.0322, accuracy 9906/10000 in 9.63s\n"
          ]
        },
        {
          "name": "stderr",
          "output_type": "stream",
          "text": [
            "100%|\u2588\u2588\u2588\u2588\u2588\u2588\u2588\u2588\u2588\u2588| 938/938 [00:09<00:00, 103.07it/s]\n",
            "  1%|          | 11/938 [00:00<00:08, 107.72it/s]"
          ]
        },
        {
          "name": "stdout",
          "output_type": "stream",
          "text": [
            "epoch 29: train loss 0.1005, test loss 0.0302, accuracy 9897/10000 in 10.10s\n"
          ]
        },
        {
          "name": "stderr",
          "output_type": "stream",
          "text": [
            "100%|\u2588\u2588\u2588\u2588\u2588\u2588\u2588\u2588\u2588\u2588| 938/938 [00:08<00:00, 105.81it/s]\n",
            "  1%|          | 11/938 [00:00<00:08, 103.58it/s]"
          ]
        },
        {
          "name": "stdout",
          "output_type": "stream",
          "text": [
            "epoch 30: train loss 0.1001, test loss 0.0309, accuracy 9908/10000 in 9.87s\n"
          ]
        },
        {
          "name": "stderr",
          "output_type": "stream",
          "text": [
            "100%|\u2588\u2588\u2588\u2588\u2588\u2588\u2588\u2588\u2588\u2588| 938/938 [00:09<00:00, 102.37it/s]\n",
            "  1%|          | 11/938 [00:00<00:08, 108.25it/s]"
          ]
        },
        {
          "name": "stdout",
          "output_type": "stream",
          "text": [
            "epoch 31: train loss 0.0968, test loss 0.0317, accuracy 9905/10000 in 10.25s\n"
          ]
        },
        {
          "name": "stderr",
          "output_type": "stream",
          "text": [
            "100%|\u2588\u2588\u2588\u2588\u2588\u2588\u2588\u2588\u2588\u2588| 938/938 [00:08<00:00, 106.66it/s]\n",
            "  1%|          | 11/938 [00:00<00:08, 105.79it/s]"
          ]
        },
        {
          "name": "stdout",
          "output_type": "stream",
          "text": [
            "epoch 32: train loss 0.0955, test loss 0.0308, accuracy 9905/10000 in 9.86s\n"
          ]
        },
        {
          "name": "stderr",
          "output_type": "stream",
          "text": [
            "100%|\u2588\u2588\u2588\u2588\u2588\u2588\u2588\u2588\u2588\u2588| 938/938 [00:09<00:00, 103.80it/s]\n",
            "  1%|          | 11/938 [00:00<00:08, 106.80it/s]"
          ]
        },
        {
          "name": "stdout",
          "output_type": "stream",
          "text": [
            "epoch 33: train loss 0.0947, test loss 0.0291, accuracy 9910/10000 in 10.03s\n"
          ]
        },
        {
          "name": "stderr",
          "output_type": "stream",
          "text": [
            "100%|\u2588\u2588\u2588\u2588\u2588\u2588\u2588\u2588\u2588\u2588| 938/938 [00:08<00:00, 106.56it/s]\n",
            "  1%|          | 11/938 [00:00<00:08, 105.10it/s]"
          ]
        },
        {
          "name": "stdout",
          "output_type": "stream",
          "text": [
            "epoch 34: train loss 0.0941, test loss 0.0284, accuracy 9912/10000 in 9.81s\n"
          ]
        },
        {
          "name": "stderr",
          "output_type": "stream",
          "text": [
            "100%|\u2588\u2588\u2588\u2588\u2588\u2588\u2588\u2588\u2588\u2588| 938/938 [00:08<00:00, 106.49it/s]\n",
            "  1%|          | 10/938 [00:00<00:09, 96.53it/s]"
          ]
        },
        {
          "name": "stdout",
          "output_type": "stream",
          "text": [
            "epoch 35: train loss 0.0934, test loss 0.0311, accuracy 9913/10000 in 9.81s\n"
          ]
        },
        {
          "name": "stderr",
          "output_type": "stream",
          "text": [
            "100%|\u2588\u2588\u2588\u2588\u2588\u2588\u2588\u2588\u2588\u2588| 938/938 [00:08<00:00, 106.55it/s]\n",
            "  1%|          | 10/938 [00:00<00:09, 96.10it/s]"
          ]
        },
        {
          "name": "stdout",
          "output_type": "stream",
          "text": [
            "epoch 36: train loss 0.0952, test loss 0.0295, accuracy 9909/10000 in 9.89s\n"
          ]
        },
        {
          "name": "stderr",
          "output_type": "stream",
          "text": [
            "100%|\u2588\u2588\u2588\u2588\u2588\u2588\u2588\u2588\u2588\u2588| 938/938 [00:08<00:00, 107.04it/s]\n",
            "  1%|          | 10/938 [00:00<00:09, 98.96it/s]"
          ]
        },
        {
          "name": "stdout",
          "output_type": "stream",
          "text": [
            "epoch 37: train loss 0.0925, test loss 0.0275, accuracy 9915/10000 in 9.79s\n"
          ]
        },
        {
          "name": "stderr",
          "output_type": "stream",
          "text": [
            "100%|\u2588\u2588\u2588\u2588\u2588\u2588\u2588\u2588\u2588\u2588| 938/938 [00:08<00:00, 106.90it/s]\n",
            "  1%|          | 10/938 [00:00<00:09, 97.61it/s]"
          ]
        },
        {
          "name": "stdout",
          "output_type": "stream",
          "text": [
            "epoch 38: train loss 0.0928, test loss 0.0306, accuracy 9903/10000 in 9.78s\n"
          ]
        },
        {
          "name": "stderr",
          "output_type": "stream",
          "text": [
            "100%|\u2588\u2588\u2588\u2588\u2588\u2588\u2588\u2588\u2588\u2588| 938/938 [00:08<00:00, 107.00it/s]\n",
            "  1%|          | 11/938 [00:00<00:08, 104.07it/s]"
          ]
        },
        {
          "name": "stdout",
          "output_type": "stream",
          "text": [
            "epoch 39: train loss 0.0907, test loss 0.0305, accuracy 9905/10000 in 9.78s\n"
          ]
        },
        {
          "name": "stderr",
          "output_type": "stream",
          "text": [
            "100%|\u2588\u2588\u2588\u2588\u2588\u2588\u2588\u2588\u2588\u2588| 938/938 [00:08<00:00, 104.49it/s]\n",
            "  1%|          | 11/938 [00:00<00:08, 107.08it/s]"
          ]
        },
        {
          "name": "stdout",
          "output_type": "stream",
          "text": [
            "epoch 40: train loss 0.0944, test loss 0.0302, accuracy 9900/10000 in 10.04s\n"
          ]
        },
        {
          "name": "stderr",
          "output_type": "stream",
          "text": [
            "100%|\u2588\u2588\u2588\u2588\u2588\u2588\u2588\u2588\u2588\u2588| 938/938 [00:09<00:00, 104.07it/s]\n",
            "  1%|          | 10/938 [00:00<00:09, 97.66it/s]"
          ]
        },
        {
          "name": "stdout",
          "output_type": "stream",
          "text": [
            "epoch 41: train loss 0.0926, test loss 0.0283, accuracy 9915/10000 in 10.14s\n"
          ]
        },
        {
          "name": "stderr",
          "output_type": "stream",
          "text": [
            "100%|\u2588\u2588\u2588\u2588\u2588\u2588\u2588\u2588\u2588\u2588| 938/938 [00:08<00:00, 105.26it/s]\n",
            "  1%|          | 11/938 [00:00<00:08, 106.69it/s]"
          ]
        },
        {
          "name": "stdout",
          "output_type": "stream",
          "text": [
            "epoch 42: train loss 0.0903, test loss 0.0313, accuracy 9902/10000 in 9.91s\n"
          ]
        },
        {
          "name": "stderr",
          "output_type": "stream",
          "text": [
            "100%|\u2588\u2588\u2588\u2588\u2588\u2588\u2588\u2588\u2588\u2588| 938/938 [00:08<00:00, 108.20it/s]\n",
            "  1%|          | 11/938 [00:00<00:08, 107.95it/s]"
          ]
        },
        {
          "name": "stdout",
          "output_type": "stream",
          "text": [
            "epoch 43: train loss 0.0894, test loss 0.0298, accuracy 9918/10000 in 9.69s\n"
          ]
        },
        {
          "name": "stderr",
          "output_type": "stream",
          "text": [
            "100%|\u2588\u2588\u2588\u2588\u2588\u2588\u2588\u2588\u2588\u2588| 938/938 [00:09<00:00, 103.59it/s]\n",
            "  1%|          | 11/938 [00:00<00:09, 101.87it/s]"
          ]
        },
        {
          "name": "stdout",
          "output_type": "stream",
          "text": [
            "epoch 44: train loss 0.0902, test loss 0.0272, accuracy 9921/10000 in 10.06s\n"
          ]
        },
        {
          "name": "stderr",
          "output_type": "stream",
          "text": [
            "100%|\u2588\u2588\u2588\u2588\u2588\u2588\u2588\u2588\u2588\u2588| 938/938 [00:08<00:00, 106.90it/s]\n",
            "  1%|          | 11/938 [00:00<00:08, 106.83it/s]"
          ]
        },
        {
          "name": "stdout",
          "output_type": "stream",
          "text": [
            "epoch 45: train loss 0.0918, test loss 0.0274, accuracy 9912/10000 in 9.78s\n"
          ]
        },
        {
          "name": "stderr",
          "output_type": "stream",
          "text": [
            "100%|\u2588\u2588\u2588\u2588\u2588\u2588\u2588\u2588\u2588\u2588| 938/938 [00:08<00:00, 107.98it/s]\n",
            "  1%|          | 11/938 [00:00<00:08, 107.77it/s]"
          ]
        },
        {
          "name": "stdout",
          "output_type": "stream",
          "text": [
            "epoch 46: train loss 0.0892, test loss 0.0291, accuracy 9914/10000 in 9.69s\n"
          ]
        },
        {
          "name": "stderr",
          "output_type": "stream",
          "text": [
            "100%|\u2588\u2588\u2588\u2588\u2588\u2588\u2588\u2588\u2588\u2588| 938/938 [00:08<00:00, 107.11it/s]\n",
            "  1%|          | 11/938 [00:00<00:08, 107.35it/s]"
          ]
        },
        {
          "name": "stdout",
          "output_type": "stream",
          "text": [
            "epoch 47: train loss 0.0902, test loss 0.0289, accuracy 9912/10000 in 9.80s\n"
          ]
        },
        {
          "name": "stderr",
          "output_type": "stream",
          "text": [
            "100%|\u2588\u2588\u2588\u2588\u2588\u2588\u2588\u2588\u2588\u2588| 938/938 [00:08<00:00, 104.70it/s]\n",
            "  1%|          | 11/938 [00:00<00:08, 106.33it/s]"
          ]
        },
        {
          "name": "stdout",
          "output_type": "stream",
          "text": [
            "epoch 48: train loss 0.0891, test loss 0.0286, accuracy 9915/10000 in 10.03s\n"
          ]
        },
        {
          "name": "stderr",
          "output_type": "stream",
          "text": [
            "100%|\u2588\u2588\u2588\u2588\u2588\u2588\u2588\u2588\u2588\u2588| 938/938 [00:09<00:00, 101.60it/s]\n",
            "  1%|          | 11/938 [00:00<00:09, 102.15it/s]"
          ]
        },
        {
          "name": "stdout",
          "output_type": "stream",
          "text": [
            "epoch 49: train loss 0.0877, test loss 0.0286, accuracy 9916/10000 in 10.24s\n"
          ]
        },
        {
          "name": "stderr",
          "output_type": "stream",
          "text": [
            "100%|\u2588\u2588\u2588\u2588\u2588\u2588\u2588\u2588\u2588\u2588| 938/938 [00:08<00:00, 105.30it/s]\n"
          ]
        },
        {
          "name": "stdout",
          "output_type": "stream",
          "text": [
            "epoch 50: train loss 0.0889, test loss 0.0288, accuracy 9920/10000 in 9.92s\n"
          ]
        }
      ],
      "source": [
        "perfs = []\n",
        "for epoch in range(1, N_EPOCHS + 1):\n",
        "    t0 = time.time()\n",
        "    train_loss = train(epoch, verbose=False)\n",
        "    test_loss, correct = test(verbose=False)\n",
        "    perfs.append([epoch, train_loss, test_loss, correct, len(test_loader.dataset), time.time() - t0])\n",
        "    print(\"epoch {}: train loss {:.4f}, test loss {:.4f}, accuracy {}/{} in {:.2f}s\".format(*perfs[-1]))"
      ]
    },
    {
      "cell_type": "code",
      "execution_count": 10,
      "metadata": {},
      "outputs": [
        {
          "data": {
            "text/html": [
              "<div>\n",
              "<table border=\"1\" class=\"dataframe\">\n",
              "  <thead>\n",
              "    <tr style=\"text-align: right;\">\n",
              "      <th></th>\n",
              "      <th>epoch</th>\n",
              "      <th>train_loss</th>\n",
              "      <th>test_loss</th>\n",
              "      <th>accuracy</th>\n",
              "      <th>n_test</th>\n",
              "      <th>time</th>\n",
              "    </tr>\n",
              "  </thead>\n",
              "  <tbody>\n",
              "    <tr>\n",
              "      <th>0</th>\n",
              "      <td>1</td>\n",
              "      <td>0.511903</td>\n",
              "      <td>0.091148</td>\n",
              "      <td>9723</td>\n",
              "      <td>10000</td>\n",
              "      <td>10.115877</td>\n",
              "    </tr>\n",
              "    <tr>\n",
              "      <th>1</th>\n",
              "      <td>2</td>\n",
              "      <td>0.238817</td>\n",
              "      <td>0.067904</td>\n",
              "      <td>9778</td>\n",
              "      <td>10000</td>\n",
              "      <td>9.749331</td>\n",
              "    </tr>\n",
              "    <tr>\n",
              "      <th>2</th>\n",
              "      <td>3</td>\n",
              "      <td>0.199042</td>\n",
              "      <td>0.056497</td>\n",
              "      <td>9832</td>\n",
              "      <td>10000</td>\n",
              "      <td>9.934167</td>\n",
              "    </tr>\n",
              "    <tr>\n",
              "      <th>3</th>\n",
              "      <td>4</td>\n",
              "      <td>0.178387</td>\n",
              "      <td>0.050351</td>\n",
              "      <td>9846</td>\n",
              "      <td>10000</td>\n",
              "      <td>9.742947</td>\n",
              "    </tr>\n",
              "    <tr>\n",
              "      <th>4</th>\n",
              "      <td>5</td>\n",
              "      <td>0.164874</td>\n",
              "      <td>0.050779</td>\n",
              "      <td>9834</td>\n",
              "      <td>10000</td>\n",
              "      <td>9.793737</td>\n",
              "    </tr>\n",
              "    <tr>\n",
              "      <th>5</th>\n",
              "      <td>6</td>\n",
              "      <td>0.153300</td>\n",
              "      <td>0.046292</td>\n",
              "      <td>9850</td>\n",
              "      <td>10000</td>\n",
              "      <td>9.828929</td>\n",
              "    </tr>\n",
              "    <tr>\n",
              "      <th>6</th>\n",
              "      <td>7</td>\n",
              "      <td>0.150222</td>\n",
              "      <td>0.041247</td>\n",
              "      <td>9870</td>\n",
              "      <td>10000</td>\n",
              "      <td>9.819250</td>\n",
              "    </tr>\n",
              "    <tr>\n",
              "      <th>7</th>\n",
              "      <td>8</td>\n",
              "      <td>0.140527</td>\n",
              "      <td>0.040820</td>\n",
              "      <td>9875</td>\n",
              "      <td>10000</td>\n",
              "      <td>9.634565</td>\n",
              "    </tr>\n",
              "    <tr>\n",
              "      <th>8</th>\n",
              "      <td>9</td>\n",
              "      <td>0.136299</td>\n",
              "      <td>0.038373</td>\n",
              "      <td>9875</td>\n",
              "      <td>10000</td>\n",
              "      <td>9.670320</td>\n",
              "    </tr>\n",
              "    <tr>\n",
              "      <th>9</th>\n",
              "      <td>10</td>\n",
              "      <td>0.134012</td>\n",
              "      <td>0.040793</td>\n",
              "      <td>9863</td>\n",
              "      <td>10000</td>\n",
              "      <td>9.830047</td>\n",
              "    </tr>\n",
              "    <tr>\n",
              "      <th>10</th>\n",
              "      <td>11</td>\n",
              "      <td>0.125546</td>\n",
              "      <td>0.035728</td>\n",
              "      <td>9883</td>\n",
              "      <td>10000</td>\n",
              "      <td>9.801438</td>\n",
              "    </tr>\n",
              "    <tr>\n",
              "      <th>11</th>\n",
              "      <td>12</td>\n",
              "      <td>0.124689</td>\n",
              "      <td>0.037279</td>\n",
              "      <td>9879</td>\n",
              "      <td>10000</td>\n",
              "      <td>9.913231</td>\n",
              "    </tr>\n",
              "    <tr>\n",
              "      <th>12</th>\n",
              "      <td>13</td>\n",
              "      <td>0.122573</td>\n",
              "      <td>0.033577</td>\n",
              "      <td>9884</td>\n",
              "      <td>10000</td>\n",
              "      <td>9.695886</td>\n",
              "    </tr>\n",
              "    <tr>\n",
              "      <th>13</th>\n",
              "      <td>14</td>\n",
              "      <td>0.120506</td>\n",
              "      <td>0.035299</td>\n",
              "      <td>9882</td>\n",
              "      <td>10000</td>\n",
              "      <td>9.781535</td>\n",
              "    </tr>\n",
              "    <tr>\n",
              "      <th>14</th>\n",
              "      <td>15</td>\n",
              "      <td>0.119394</td>\n",
              "      <td>0.037158</td>\n",
              "      <td>9884</td>\n",
              "      <td>10000</td>\n",
              "      <td>9.871949</td>\n",
              "    </tr>\n",
              "    <tr>\n",
              "      <th>15</th>\n",
              "      <td>16</td>\n",
              "      <td>0.114981</td>\n",
              "      <td>0.034634</td>\n",
              "      <td>9886</td>\n",
              "      <td>10000</td>\n",
              "      <td>9.789374</td>\n",
              "    </tr>\n",
              "    <tr>\n",
              "      <th>16</th>\n",
              "      <td>17</td>\n",
              "      <td>0.111695</td>\n",
              "      <td>0.033527</td>\n",
              "      <td>9894</td>\n",
              "      <td>10000</td>\n",
              "      <td>10.155947</td>\n",
              "    </tr>\n",
              "    <tr>\n",
              "      <th>17</th>\n",
              "      <td>18</td>\n",
              "      <td>0.109723</td>\n",
              "      <td>0.032105</td>\n",
              "      <td>9898</td>\n",
              "      <td>10000</td>\n",
              "      <td>10.007467</td>\n",
              "    </tr>\n",
              "    <tr>\n",
              "      <th>18</th>\n",
              "      <td>19</td>\n",
              "      <td>0.108626</td>\n",
              "      <td>0.032700</td>\n",
              "      <td>9900</td>\n",
              "      <td>10000</td>\n",
              "      <td>9.844123</td>\n",
              "    </tr>\n",
              "    <tr>\n",
              "      <th>19</th>\n",
              "      <td>20</td>\n",
              "      <td>0.109027</td>\n",
              "      <td>0.035354</td>\n",
              "      <td>9895</td>\n",
              "      <td>10000</td>\n",
              "      <td>9.886183</td>\n",
              "    </tr>\n",
              "    <tr>\n",
              "      <th>20</th>\n",
              "      <td>21</td>\n",
              "      <td>0.106609</td>\n",
              "      <td>0.031945</td>\n",
              "      <td>9897</td>\n",
              "      <td>10000</td>\n",
              "      <td>9.998963</td>\n",
              "    </tr>\n",
              "    <tr>\n",
              "      <th>21</th>\n",
              "      <td>22</td>\n",
              "      <td>0.106137</td>\n",
              "      <td>0.033312</td>\n",
              "      <td>9889</td>\n",
              "      <td>10000</td>\n",
              "      <td>9.775989</td>\n",
              "    </tr>\n",
              "    <tr>\n",
              "      <th>22</th>\n",
              "      <td>23</td>\n",
              "      <td>0.103945</td>\n",
              "      <td>0.031381</td>\n",
              "      <td>9907</td>\n",
              "      <td>10000</td>\n",
              "      <td>10.130879</td>\n",
              "    </tr>\n",
              "    <tr>\n",
              "      <th>23</th>\n",
              "      <td>24</td>\n",
              "      <td>0.101869</td>\n",
              "      <td>0.031349</td>\n",
              "      <td>9901</td>\n",
              "      <td>10000</td>\n",
              "      <td>9.966370</td>\n",
              "    </tr>\n",
              "    <tr>\n",
              "      <th>24</th>\n",
              "      <td>25</td>\n",
              "      <td>0.101855</td>\n",
              "      <td>0.032617</td>\n",
              "      <td>9898</td>\n",
              "      <td>10000</td>\n",
              "      <td>10.133352</td>\n",
              "    </tr>\n",
              "    <tr>\n",
              "      <th>25</th>\n",
              "      <td>26</td>\n",
              "      <td>0.099940</td>\n",
              "      <td>0.032640</td>\n",
              "      <td>9901</td>\n",
              "      <td>10000</td>\n",
              "      <td>9.837271</td>\n",
              "    </tr>\n",
              "    <tr>\n",
              "      <th>26</th>\n",
              "      <td>27</td>\n",
              "      <td>0.101436</td>\n",
              "      <td>0.032574</td>\n",
              "      <td>9901</td>\n",
              "      <td>10000</td>\n",
              "      <td>9.747868</td>\n",
              "    </tr>\n",
              "    <tr>\n",
              "      <th>27</th>\n",
              "      <td>28</td>\n",
              "      <td>0.098589</td>\n",
              "      <td>0.032180</td>\n",
              "      <td>9906</td>\n",
              "      <td>10000</td>\n",
              "      <td>9.625327</td>\n",
              "    </tr>\n",
              "    <tr>\n",
              "      <th>28</th>\n",
              "      <td>29</td>\n",
              "      <td>0.100489</td>\n",
              "      <td>0.030212</td>\n",
              "      <td>9897</td>\n",
              "      <td>10000</td>\n",
              "      <td>10.103363</td>\n",
              "    </tr>\n",
              "    <tr>\n",
              "      <th>29</th>\n",
              "      <td>30</td>\n",
              "      <td>0.100090</td>\n",
              "      <td>0.030873</td>\n",
              "      <td>9908</td>\n",
              "      <td>10000</td>\n",
              "      <td>9.873614</td>\n",
              "    </tr>\n",
              "    <tr>\n",
              "      <th>30</th>\n",
              "      <td>31</td>\n",
              "      <td>0.096790</td>\n",
              "      <td>0.031703</td>\n",
              "      <td>9905</td>\n",
              "      <td>10000</td>\n",
              "      <td>10.248318</td>\n",
              "    </tr>\n",
              "    <tr>\n",
              "      <th>31</th>\n",
              "      <td>32</td>\n",
              "      <td>0.095477</td>\n",
              "      <td>0.030756</td>\n",
              "      <td>9905</td>\n",
              "      <td>10000</td>\n",
              "      <td>9.861681</td>\n",
              "    </tr>\n",
              "    <tr>\n",
              "      <th>32</th>\n",
              "      <td>33</td>\n",
              "      <td>0.094678</td>\n",
              "      <td>0.029098</td>\n",
              "      <td>9910</td>\n",
              "      <td>10000</td>\n",
              "      <td>10.026035</td>\n",
              "    </tr>\n",
              "    <tr>\n",
              "      <th>33</th>\n",
              "      <td>34</td>\n",
              "      <td>0.094051</td>\n",
              "      <td>0.028443</td>\n",
              "      <td>9912</td>\n",
              "      <td>10000</td>\n",
              "      <td>9.813464</td>\n",
              "    </tr>\n",
              "    <tr>\n",
              "      <th>34</th>\n",
              "      <td>35</td>\n",
              "      <td>0.093364</td>\n",
              "      <td>0.031064</td>\n",
              "      <td>9913</td>\n",
              "      <td>10000</td>\n",
              "      <td>9.812366</td>\n",
              "    </tr>\n",
              "    <tr>\n",
              "      <th>35</th>\n",
              "      <td>36</td>\n",
              "      <td>0.095213</td>\n",
              "      <td>0.029536</td>\n",
              "      <td>9909</td>\n",
              "      <td>10000</td>\n",
              "      <td>9.885899</td>\n",
              "    </tr>\n",
              "    <tr>\n",
              "      <th>36</th>\n",
              "      <td>37</td>\n",
              "      <td>0.092515</td>\n",
              "      <td>0.027533</td>\n",
              "      <td>9915</td>\n",
              "      <td>10000</td>\n",
              "      <td>9.785886</td>\n",
              "    </tr>\n",
              "    <tr>\n",
              "      <th>37</th>\n",
              "      <td>38</td>\n",
              "      <td>0.092807</td>\n",
              "      <td>0.030602</td>\n",
              "      <td>9903</td>\n",
              "      <td>10000</td>\n",
              "      <td>9.783801</td>\n",
              "    </tr>\n",
              "    <tr>\n",
              "      <th>38</th>\n",
              "      <td>39</td>\n",
              "      <td>0.090710</td>\n",
              "      <td>0.030475</td>\n",
              "      <td>9905</td>\n",
              "      <td>10000</td>\n",
              "      <td>9.779509</td>\n",
              "    </tr>\n",
              "    <tr>\n",
              "      <th>39</th>\n",
              "      <td>40</td>\n",
              "      <td>0.094418</td>\n",
              "      <td>0.030183</td>\n",
              "      <td>9900</td>\n",
              "      <td>10000</td>\n",
              "      <td>10.039759</td>\n",
              "    </tr>\n",
              "    <tr>\n",
              "      <th>40</th>\n",
              "      <td>41</td>\n",
              "      <td>0.092630</td>\n",
              "      <td>0.028299</td>\n",
              "      <td>9915</td>\n",
              "      <td>10000</td>\n",
              "      <td>10.140071</td>\n",
              "    </tr>\n",
              "    <tr>\n",
              "      <th>41</th>\n",
              "      <td>42</td>\n",
              "      <td>0.090284</td>\n",
              "      <td>0.031331</td>\n",
              "      <td>9902</td>\n",
              "      <td>10000</td>\n",
              "      <td>9.910259</td>\n",
              "    </tr>\n",
              "    <tr>\n",
              "      <th>42</th>\n",
              "      <td>43</td>\n",
              "      <td>0.089386</td>\n",
              "      <td>0.029752</td>\n",
              "      <td>9918</td>\n",
              "      <td>10000</td>\n",
              "      <td>9.688508</td>\n",
              "    </tr>\n",
              "    <tr>\n",
              "      <th>43</th>\n",
              "      <td>44</td>\n",
              "      <td>0.090233</td>\n",
              "      <td>0.027154</td>\n",
              "      <td>9921</td>\n",
              "      <td>10000</td>\n",
              "      <td>10.057807</td>\n",
              "    </tr>\n",
              "    <tr>\n",
              "      <th>44</th>\n",
              "      <td>45</td>\n",
              "      <td>0.091789</td>\n",
              "      <td>0.027438</td>\n",
              "      <td>9912</td>\n",
              "      <td>10000</td>\n",
              "      <td>9.784763</td>\n",
              "    </tr>\n",
              "    <tr>\n",
              "      <th>45</th>\n",
              "      <td>46</td>\n",
              "      <td>0.089212</td>\n",
              "      <td>0.029053</td>\n",
              "      <td>9914</td>\n",
              "      <td>10000</td>\n",
              "      <td>9.694730</td>\n",
              "    </tr>\n",
              "    <tr>\n",
              "      <th>46</th>\n",
              "      <td>47</td>\n",
              "      <td>0.090173</td>\n",
              "      <td>0.028948</td>\n",
              "      <td>9912</td>\n",
              "      <td>10000</td>\n",
              "      <td>9.799206</td>\n",
              "    </tr>\n",
              "    <tr>\n",
              "      <th>47</th>\n",
              "      <td>48</td>\n",
              "      <td>0.089133</td>\n",
              "      <td>0.028567</td>\n",
              "      <td>9915</td>\n",
              "      <td>10000</td>\n",
              "      <td>10.033967</td>\n",
              "    </tr>\n",
              "    <tr>\n",
              "      <th>48</th>\n",
              "      <td>49</td>\n",
              "      <td>0.087729</td>\n",
              "      <td>0.028587</td>\n",
              "      <td>9916</td>\n",
              "      <td>10000</td>\n",
              "      <td>10.236544</td>\n",
              "    </tr>\n",
              "    <tr>\n",
              "      <th>49</th>\n",
              "      <td>50</td>\n",
              "      <td>0.088853</td>\n",
              "      <td>0.028798</td>\n",
              "      <td>9920</td>\n",
              "      <td>10000</td>\n",
              "      <td>9.920882</td>\n",
              "    </tr>\n",
              "  </tbody>\n",
              "</table>\n",
              "</div>"
            ],
            "text/plain": [
              "    epoch  train_loss  test_loss  accuracy  n_test       time\n",
              "0       1    0.511903   0.091148      9723   10000  10.115877\n",
              "1       2    0.238817   0.067904      9778   10000   9.749331\n",
              "2       3    0.199042   0.056497      9832   10000   9.934167\n",
              "3       4    0.178387   0.050351      9846   10000   9.742947\n",
              "4       5    0.164874   0.050779      9834   10000   9.793737\n",
              "5       6    0.153300   0.046292      9850   10000   9.828929\n",
              "6       7    0.150222   0.041247      9870   10000   9.819250\n",
              "7       8    0.140527   0.040820      9875   10000   9.634565\n",
              "8       9    0.136299   0.038373      9875   10000   9.670320\n",
              "9      10    0.134012   0.040793      9863   10000   9.830047\n",
              "10     11    0.125546   0.035728      9883   10000   9.801438\n",
              "11     12    0.124689   0.037279      9879   10000   9.913231\n",
              "12     13    0.122573   0.033577      9884   10000   9.695886\n",
              "13     14    0.120506   0.035299      9882   10000   9.781535\n",
              "14     15    0.119394   0.037158      9884   10000   9.871949\n",
              "15     16    0.114981   0.034634      9886   10000   9.789374\n",
              "16     17    0.111695   0.033527      9894   10000  10.155947\n",
              "17     18    0.109723   0.032105      9898   10000  10.007467\n",
              "18     19    0.108626   0.032700      9900   10000   9.844123\n",
              "19     20    0.109027   0.035354      9895   10000   9.886183\n",
              "20     21    0.106609   0.031945      9897   10000   9.998963\n",
              "21     22    0.106137   0.033312      9889   10000   9.775989\n",
              "22     23    0.103945   0.031381      9907   10000  10.130879\n",
              "23     24    0.101869   0.031349      9901   10000   9.966370\n",
              "24     25    0.101855   0.032617      9898   10000  10.133352\n",
              "25     26    0.099940   0.032640      9901   10000   9.837271\n",
              "26     27    0.101436   0.032574      9901   10000   9.747868\n",
              "27     28    0.098589   0.032180      9906   10000   9.625327\n",
              "28     29    0.100489   0.030212      9897   10000  10.103363\n",
              "29     30    0.100090   0.030873      9908   10000   9.873614\n",
              "30     31    0.096790   0.031703      9905   10000  10.248318\n",
              "31     32    0.095477   0.030756      9905   10000   9.861681\n",
              "32     33    0.094678   0.029098      9910   10000  10.026035\n",
              "33     34    0.094051   0.028443      9912   10000   9.813464\n",
              "34     35    0.093364   0.031064      9913   10000   9.812366\n",
              "35     36    0.095213   0.029536      9909   10000   9.885899\n",
              "36     37    0.092515   0.027533      9915   10000   9.785886\n",
              "37     38    0.092807   0.030602      9903   10000   9.783801\n",
              "38     39    0.090710   0.030475      9905   10000   9.779509\n",
              "39     40    0.094418   0.030183      9900   10000  10.039759\n",
              "40     41    0.092630   0.028299      9915   10000  10.140071\n",
              "41     42    0.090284   0.031331      9902   10000   9.910259\n",
              "42     43    0.089386   0.029752      9918   10000   9.688508\n",
              "43     44    0.090233   0.027154      9921   10000  10.057807\n",
              "44     45    0.091789   0.027438      9912   10000   9.784763\n",
              "45     46    0.089212   0.029053      9914   10000   9.694730\n",
              "46     47    0.090173   0.028948      9912   10000   9.799206\n",
              "47     48    0.089133   0.028567      9915   10000  10.033967\n",
              "48     49    0.087729   0.028587      9916   10000  10.236544\n",
              "49     50    0.088853   0.028798      9920   10000   9.920882"
            ]
          },
          "execution_count": 11,
          "metadata": {},
          "output_type": "execute_result"
        }
      ],
      "source": [
        "df_perfs = pd.DataFrame(perfs, columns=[\"epoch\", \"train_loss\", \"test_loss\", \"accuracy\", \"n_test\", \"time\"])\n",
        "df_perfs"
      ]
    },
    {
      "cell_type": "code",
      "execution_count": 11,
      "metadata": {},
      "outputs": [
        {
          "data": {
            "image/png": "[encoded data removed]",
            "text/plain": [
              "<matplotlib.figure.Figure at 0x7f9ad9b6b128>"
            ]
          },
          "metadata": {},
          "output_type": "display_data"
        }
      ],
      "source": [
        "df_perfs[[\"train_loss\", \"test_loss\"]].plot();"
      ]
    },
    {
      "cell_type": "code",
      "execution_count": 12,
      "metadata": {},
      "outputs": [
        {
          "data": {
            "image/png": "[encoded data removed]",
            "text/plain": [
              "<matplotlib.figure.Figure at 0x7f9ad9a536a0>"
            ]
          },
          "metadata": {},
          "output_type": "display_data"
        }
      ],
      "source": [
        "df_perfs[[\"train_loss\", \"test_loss\"]].plot(ylim=(0, 0.2));"
      ]
    },
    {
      "cell_type": "code",
      "execution_count": 13,
      "metadata": {
        "collapsed": true
      },
      "outputs": [],
      "source": []
    }
  ],
  "metadata": {
    "kernelspec": {
      "display_name": "Python 3",
      "language": "python",
      "name": "python3"
    },
    "language_info": {
      "codemirror_mode": {
        "name": "ipython",
        "version": 3
      },
      "file_extension": ".py",
      "mimetype": "text/x-python",
      "name": "python",
      "nbconvert_exporter": "python",
      "pygments_lexer": "ipython3",
      "version": "3.6.1"
    }
  },
  "nbformat": 4,
  "nbformat_minor": 2
}