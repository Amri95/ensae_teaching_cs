{
  "cells": [
    {
      "cell_type": "markdown",
      "metadata": {},
      "source": [
        "# 200 - First percepton with pytorch\n",
        "\n",
        "First perception on MNIST database."
      ]
    },
    {
      "cell_type": "markdown",
      "metadata": {},
      "source": [
        "**Note:** install [tqdm](https://pypi.python.org/pypi/tqdm) if not installed: ``!pip install tqdm``"
      ]
    },
    {
      "cell_type": "code",
      "execution_count": 1,
      "metadata": {},
      "outputs": [
        {
          "name": "stdout",
          "output_type": "stream",
          "text": [
            "torch 0.2.0_4\n"
          ]
        }
      ],
      "source": [
        "%matplotlib inline\n",
        "import time\n",
        "import numpy as np\n",
        "import pandas as pd\n",
        "from pylab import plt\n",
        "import torch\n",
        "import torch.nn as nn\n",
        "import torch.nn.functional as F\n",
        "import torch.optim as optim\n",
        "from torch.autograd import Variable\n",
        "print(\"torch\", torch.__version__)\n",
        "from torchvision import datasets, transforms\n",
        "from tqdm import tqdm"
      ]
    },
    {
      "cell_type": "code",
      "execution_count": 2,
      "metadata": {
        "collapsed": true
      },
      "outputs": [],
      "source": [
        "BATCH_SIZE = 64\n",
        "TEST_BATCH_SIZE = 64\n",
        "DATA_DIR = '/home/xd_ensae/data/'\n",
        "USE_CUDA = True\n",
        "N_EPOCHS = 100"
      ]
    },
    {
      "cell_type": "code",
      "execution_count": 3,
      "metadata": {},
      "outputs": [],
      "source": [
        "train_loader = torch.utils.data.DataLoader(\n",
        "    datasets.MNIST(DATA_DIR, train=True, download=True,\n",
        "                   transform=transforms.Compose([\n",
        "                       transforms.ToTensor(),\n",
        "                       transforms.Normalize((0.1307,), (0.3081,))\n",
        "                   ])),\n",
        "    batch_size=BATCH_SIZE, shuffle=True)\n",
        "test_loader = torch.utils.data.DataLoader(\n",
        "    datasets.MNIST(DATA_DIR, train=False, transform=transforms.Compose([\n",
        "                       transforms.ToTensor(),\n",
        "                       transforms.Normalize((0.1307,), (0.3081,))\n",
        "                   ])),\n",
        "    batch_size=TEST_BATCH_SIZE, shuffle=True)"
      ]
    },
    {
      "cell_type": "code",
      "execution_count": 4,
      "metadata": {
        "collapsed": true
      },
      "outputs": [],
      "source": [
        "data, target = next(i for i in train_loader)"
      ]
    },
    {
      "cell_type": "code",
      "execution_count": 5,
      "metadata": {},
      "outputs": [],
      "source": [
        "class Net(nn.Module):\n",
        "    def __init__(self):\n",
        "        super(Net, self).__init__()\n",
        "        self.fc1 = nn.Linear(28*28, 50)\n",
        "        self.fc2 = nn.Linear(50, 10)\n",
        "\n",
        "    def forward(self, x):\n",
        "        x = x.view(-1, 28*28)\n",
        "        x = F.tanh(self.fc1(x))\n",
        "        x = F.dropout(x, training=self.training)\n",
        "        x = self.fc2(x)\n",
        "        return F.log_softmax(x)"
      ]
    },
    {
      "cell_type": "code",
      "execution_count": 6,
      "metadata": {
        "collapsed": true
      },
      "outputs": [],
      "source": [
        "model = Net()\n",
        "if USE_CUDA: model = model.cuda()"
      ]
    },
    {
      "cell_type": "code",
      "execution_count": 7,
      "metadata": {
        "collapsed": true
      },
      "outputs": [],
      "source": [
        "optimizer = optim.Adam(model.parameters())"
      ]
    },
    {
      "cell_type": "code",
      "execution_count": 8,
      "metadata": {},
      "outputs": [],
      "source": [
        "def train(epoch, verbose=True):\n",
        "    model.train()\n",
        "    losses = []\n",
        "    loader = tqdm(train_loader, total=len(train_loader))\n",
        "    for batch_idx, (data, target) in enumerate(loader):\n",
        "        if USE_CUDA:\n",
        "            data, target = data.cuda(), target.cuda()\n",
        "        data, target = Variable(data), Variable(target)\n",
        "        optimizer.zero_grad()\n",
        "        output = model(data)\n",
        "        loss = F.nll_loss(output, target)\n",
        "        loss.backward()\n",
        "        optimizer.step()\n",
        "        losses.append(float(loss.data[0]))\n",
        "        if verbose and batch_idx % 100 == 0:\n",
        "            print('Train Epoch: {} [{}/{} ({:.0f}%)]\\tLoss: {:.6f}'.format(\n",
        "                epoch, batch_idx * len(data), len(train_loader.dataset),\n",
        "                100. * batch_idx / len(train_loader), loss.data[0]))\n",
        "    return np.mean(losses)"
      ]
    },
    {
      "cell_type": "code",
      "execution_count": 9,
      "metadata": {
        "collapsed": true
      },
      "outputs": [],
      "source": [
        "def test(verbose=True):\n",
        "    model.eval()\n",
        "    test_loss = 0\n",
        "    correct = 0\n",
        "    for data, target in test_loader:\n",
        "        if USE_CUDA: data, target = data.cuda(), target.cuda()\n",
        "        data, target = Variable(data, volatile=True), Variable(target)\n",
        "        output = model(data)\n",
        "        test_loss += F.nll_loss(output, target, size_average=False).data[0] # sum up batch loss\n",
        "        pred = output.data.max(1, keepdim=True)[1] # get the index of the max log-probability\n",
        "        correct += pred.eq(target.data.view_as(pred)).cpu().sum()\n",
        "\n",
        "    test_loss /= len(test_loader.dataset)\n",
        "    if verbose:\n",
        "        print('\\nTest set: Average loss: {:.4f}, Accuracy: {}/{} ({:.0f}%)\\n'.format(\n",
        "            test_loss, correct, len(test_loader.dataset),\n",
        "            100. * correct / len(test_loader.dataset)))\n",
        "    return [float(test_loss), correct]"
      ]
    },
    {
      "cell_type": "code",
      "execution_count": 10,
      "metadata": {
        "scrolled": false
      },
      "outputs": [
        {
          "name": "stderr",
          "output_type": "stream",
          "text": [
            "100%|\u2588\u2588\u2588\u2588\u2588\u2588\u2588\u2588\u2588\u2588| 938/938 [00:12<00:00, 74.36it/s]\n",
            "  2%|\u258f         | 15/938 [00:00<00:06, 144.52it/s]"
          ]
        },
        {
          "name": "stdout",
          "output_type": "stream",
          "text": [
            "epoch 1: train loss 0.4945, test loss 0.2533, accuracy 9245/10000 in 13.55s\n"
          ]
        },
        {
          "name": "stderr",
          "output_type": "stream",
          "text": [
            "100%|\u2588\u2588\u2588\u2588\u2588\u2588\u2588\u2588\u2588\u2588| 938/938 [00:06<00:00, 142.09it/s]\n",
            "  2%|\u258f         | 15/938 [00:00<00:06, 141.64it/s]"
          ]
        },
        {
          "name": "stdout",
          "output_type": "stream",
          "text": [
            "epoch 2: train loss 0.3382, test loss 0.2157, accuracy 9357/10000 in 7.50s\n"
          ]
        },
        {
          "name": "stderr",
          "output_type": "stream",
          "text": [
            "100%|\u2588\u2588\u2588\u2588\u2588\u2588\u2588\u2588\u2588\u2588| 938/938 [00:06<00:00, 135.91it/s]\n",
            "  2%|\u258f         | 16/938 [00:00<00:06, 150.40it/s]"
          ]
        },
        {
          "name": "stdout",
          "output_type": "stream",
          "text": [
            "epoch 3: train loss 0.3137, test loss 0.2005, accuracy 9386/10000 in 7.82s\n"
          ]
        },
        {
          "name": "stderr",
          "output_type": "stream",
          "text": [
            "100%|\u2588\u2588\u2588\u2588\u2588\u2588\u2588\u2588\u2588\u2588| 938/938 [00:06<00:00, 140.39it/s]\n",
            "  1%|\u258f         | 13/938 [00:00<00:07, 123.93it/s]"
          ]
        },
        {
          "name": "stdout",
          "output_type": "stream",
          "text": [
            "epoch 4: train loss 0.2998, test loss 0.1927, accuracy 9427/10000 in 7.67s\n"
          ]
        },
        {
          "name": "stderr",
          "output_type": "stream",
          "text": [
            "100%|\u2588\u2588\u2588\u2588\u2588\u2588\u2588\u2588\u2588\u2588| 938/938 [00:07<00:00, 132.40it/s]\n",
            "  2%|\u258f         | 15/938 [00:00<00:06, 144.06it/s]"
          ]
        },
        {
          "name": "stdout",
          "output_type": "stream",
          "text": [
            "epoch 5: train loss 0.2896, test loss 0.1879, accuracy 9429/10000 in 8.00s\n"
          ]
        },
        {
          "name": "stderr",
          "output_type": "stream",
          "text": [
            "100%|\u2588\u2588\u2588\u2588\u2588\u2588\u2588\u2588\u2588\u2588| 938/938 [00:06<00:00, 139.17it/s]\n",
            "  2%|\u258f         | 16/938 [00:00<00:06, 150.61it/s]"
          ]
        },
        {
          "name": "stdout",
          "output_type": "stream",
          "text": [
            "epoch 6: train loss 0.2800, test loss 0.1839, accuracy 9459/10000 in 7.72s\n"
          ]
        },
        {
          "name": "stderr",
          "output_type": "stream",
          "text": [
            "100%|\u2588\u2588\u2588\u2588\u2588\u2588\u2588\u2588\u2588\u2588| 938/938 [00:06<00:00, 139.55it/s]\n",
            "  1%|\u258f         | 13/938 [00:00<00:07, 122.23it/s]"
          ]
        },
        {
          "name": "stdout",
          "output_type": "stream",
          "text": [
            "epoch 7: train loss 0.2720, test loss 0.1812, accuracy 9460/10000 in 7.63s\n"
          ]
        },
        {
          "name": "stderr",
          "output_type": "stream",
          "text": [
            "100%|\u2588\u2588\u2588\u2588\u2588\u2588\u2588\u2588\u2588\u2588| 938/938 [00:06<00:00, 135.64it/s]\n",
            "  2%|\u258f         | 15/938 [00:00<00:06, 148.61it/s]"
          ]
        },
        {
          "name": "stdout",
          "output_type": "stream",
          "text": [
            "epoch 8: train loss 0.2677, test loss 0.1764, accuracy 9454/10000 in 7.83s\n"
          ]
        },
        {
          "name": "stderr",
          "output_type": "stream",
          "text": [
            "100%|\u2588\u2588\u2588\u2588\u2588\u2588\u2588\u2588\u2588\u2588| 938/938 [00:06<00:00, 142.47it/s]\n",
            "  1%|\u258f         | 14/938 [00:00<00:06, 138.63it/s]"
          ]
        },
        {
          "name": "stdout",
          "output_type": "stream",
          "text": [
            "epoch 9: train loss 0.2619, test loss 0.1717, accuracy 9506/10000 in 7.47s\n"
          ]
        },
        {
          "name": "stderr",
          "output_type": "stream",
          "text": [
            "100%|\u2588\u2588\u2588\u2588\u2588\u2588\u2588\u2588\u2588\u2588| 938/938 [00:06<00:00, 138.26it/s]\n",
            "  2%|\u258f         | 15/938 [00:00<00:06, 148.08it/s]"
          ]
        },
        {
          "name": "stdout",
          "output_type": "stream",
          "text": [
            "epoch 10: train loss 0.2596, test loss 0.1633, accuracy 9522/10000 in 7.64s\n"
          ]
        },
        {
          "name": "stderr",
          "output_type": "stream",
          "text": [
            "100%|\u2588\u2588\u2588\u2588\u2588\u2588\u2588\u2588\u2588\u2588| 938/938 [00:06<00:00, 137.77it/s]\n",
            "  1%|\u258f         | 13/938 [00:00<00:07, 128.22it/s]"
          ]
        },
        {
          "name": "stdout",
          "output_type": "stream",
          "text": [
            "epoch 11: train loss 0.2569, test loss 0.1645, accuracy 9516/10000 in 7.73s\n"
          ]
        },
        {
          "name": "stderr",
          "output_type": "stream",
          "text": [
            "100%|\u2588\u2588\u2588\u2588\u2588\u2588\u2588\u2588\u2588\u2588| 938/938 [00:06<00:00, 135.16it/s]\n",
            "  2%|\u258f         | 15/938 [00:00<00:06, 148.66it/s]"
          ]
        },
        {
          "name": "stdout",
          "output_type": "stream",
          "text": [
            "epoch 12: train loss 0.2529, test loss 0.1651, accuracy 9513/10000 in 7.81s\n"
          ]
        },
        {
          "name": "stderr",
          "output_type": "stream",
          "text": [
            "100%|\u2588\u2588\u2588\u2588\u2588\u2588\u2588\u2588\u2588\u2588| 938/938 [00:06<00:00, 145.41it/s]\n",
            "  1%|\u258f         | 13/938 [00:00<00:07, 122.19it/s]"
          ]
        },
        {
          "name": "stdout",
          "output_type": "stream",
          "text": [
            "epoch 13: train loss 0.2478, test loss 0.1614, accuracy 9505/10000 in 7.37s\n"
          ]
        },
        {
          "name": "stderr",
          "output_type": "stream",
          "text": [
            "100%|\u2588\u2588\u2588\u2588\u2588\u2588\u2588\u2588\u2588\u2588| 938/938 [00:06<00:00, 138.16it/s]\n",
            "  2%|\u258f         | 16/938 [00:00<00:06, 150.41it/s]"
          ]
        },
        {
          "name": "stdout",
          "output_type": "stream",
          "text": [
            "epoch 14: train loss 0.2452, test loss 0.1548, accuracy 9535/10000 in 7.69s\n"
          ]
        },
        {
          "name": "stderr",
          "output_type": "stream",
          "text": [
            "100%|\u2588\u2588\u2588\u2588\u2588\u2588\u2588\u2588\u2588\u2588| 938/938 [00:06<00:00, 140.04it/s]\n",
            "  1%|\u258f         | 13/938 [00:00<00:07, 123.85it/s]"
          ]
        },
        {
          "name": "stdout",
          "output_type": "stream",
          "text": [
            "epoch 15: train loss 0.2463, test loss 0.1553, accuracy 9528/10000 in 7.76s\n"
          ]
        },
        {
          "name": "stderr",
          "output_type": "stream",
          "text": [
            "100%|\u2588\u2588\u2588\u2588\u2588\u2588\u2588\u2588\u2588\u2588| 938/938 [00:06<00:00, 137.56it/s]\n",
            "  2%|\u258f         | 15/938 [00:00<00:06, 147.43it/s]"
          ]
        },
        {
          "name": "stdout",
          "output_type": "stream",
          "text": [
            "epoch 16: train loss 0.2411, test loss 0.1600, accuracy 9513/10000 in 7.74s\n"
          ]
        },
        {
          "name": "stderr",
          "output_type": "stream",
          "text": [
            "100%|\u2588\u2588\u2588\u2588\u2588\u2588\u2588\u2588\u2588\u2588| 938/938 [00:06<00:00, 142.45it/s]\n",
            "  2%|\u258f         | 16/938 [00:00<00:06, 152.30it/s]"
          ]
        },
        {
          "name": "stdout",
          "output_type": "stream",
          "text": [
            "epoch 17: train loss 0.2395, test loss 0.1558, accuracy 9524/10000 in 7.45s\n"
          ]
        },
        {
          "name": "stderr",
          "output_type": "stream",
          "text": [
            "100%|\u2588\u2588\u2588\u2588\u2588\u2588\u2588\u2588\u2588\u2588| 938/938 [00:06<00:00, 142.77it/s]\n",
            "  1%|\u258f         | 14/938 [00:00<00:06, 137.53it/s]"
          ]
        },
        {
          "name": "stdout",
          "output_type": "stream",
          "text": [
            "epoch 18: train loss 0.2385, test loss 0.1563, accuracy 9521/10000 in 7.65s\n"
          ]
        },
        {
          "name": "stderr",
          "output_type": "stream",
          "text": [
            "100%|\u2588\u2588\u2588\u2588\u2588\u2588\u2588\u2588\u2588\u2588| 938/938 [00:06<00:00, 139.26it/s]\n",
            "  2%|\u258f         | 15/938 [00:00<00:06, 148.00it/s]"
          ]
        },
        {
          "name": "stdout",
          "output_type": "stream",
          "text": [
            "epoch 19: train loss 0.2385, test loss 0.1568, accuracy 9520/10000 in 7.60s\n"
          ]
        },
        {
          "name": "stderr",
          "output_type": "stream",
          "text": [
            "100%|\u2588\u2588\u2588\u2588\u2588\u2588\u2588\u2588\u2588\u2588| 938/938 [00:06<00:00, 140.29it/s]\n",
            "  1%|\u258f         | 14/938 [00:00<00:06, 134.37it/s]"
          ]
        },
        {
          "name": "stdout",
          "output_type": "stream",
          "text": [
            "epoch 20: train loss 0.2307, test loss 0.1535, accuracy 9530/10000 in 7.75s\n"
          ]
        },
        {
          "name": "stderr",
          "output_type": "stream",
          "text": [
            "100%|\u2588\u2588\u2588\u2588\u2588\u2588\u2588\u2588\u2588\u2588| 938/938 [00:06<00:00, 138.32it/s]\n",
            "  1%|\u258f         | 14/938 [00:00<00:06, 133.26it/s]"
          ]
        },
        {
          "name": "stdout",
          "output_type": "stream",
          "text": [
            "epoch 21: train loss 0.2350, test loss 0.1525, accuracy 9540/10000 in 7.82s\n"
          ]
        },
        {
          "name": "stderr",
          "output_type": "stream",
          "text": [
            "100%|\u2588\u2588\u2588\u2588\u2588\u2588\u2588\u2588\u2588\u2588| 938/938 [00:06<00:00, 134.67it/s]\n",
            "  2%|\u258f         | 16/938 [00:00<00:05, 154.29it/s]"
          ]
        },
        {
          "name": "stdout",
          "output_type": "stream",
          "text": [
            "epoch 22: train loss 0.2323, test loss 0.1559, accuracy 9531/10000 in 7.85s\n"
          ]
        },
        {
          "name": "stderr",
          "output_type": "stream",
          "text": [
            "100%|\u2588\u2588\u2588\u2588\u2588\u2588\u2588\u2588\u2588\u2588| 938/938 [00:06<00:00, 135.63it/s]\n",
            "  2%|\u258f         | 15/938 [00:00<00:06, 147.43it/s]"
          ]
        },
        {
          "name": "stdout",
          "output_type": "stream",
          "text": [
            "epoch 23: train loss 0.2284, test loss 0.1557, accuracy 9514/10000 in 7.92s\n"
          ]
        },
        {
          "name": "stderr",
          "output_type": "stream",
          "text": [
            "100%|\u2588\u2588\u2588\u2588\u2588\u2588\u2588\u2588\u2588\u2588| 938/938 [00:07<00:00, 132.48it/s]\n",
            "  2%|\u258f         | 15/938 [00:00<00:06, 141.12it/s]"
          ]
        },
        {
          "name": "stdout",
          "output_type": "stream",
          "text": [
            "epoch 24: train loss 0.2293, test loss 0.1560, accuracy 9505/10000 in 7.97s\n"
          ]
        },
        {
          "name": "stderr",
          "output_type": "stream",
          "text": [
            "100%|\u2588\u2588\u2588\u2588\u2588\u2588\u2588\u2588\u2588\u2588| 938/938 [00:07<00:00, 133.99it/s]\n",
            "  2%|\u258f         | 16/938 [00:00<00:06, 151.68it/s]"
          ]
        },
        {
          "name": "stdout",
          "output_type": "stream",
          "text": [
            "epoch 25: train loss 0.2268, test loss 0.1505, accuracy 9551/10000 in 7.90s\n"
          ]
        },
        {
          "name": "stderr",
          "output_type": "stream",
          "text": [
            "100%|\u2588\u2588\u2588\u2588\u2588\u2588\u2588\u2588\u2588\u2588| 938/938 [00:06<00:00, 141.34it/s]\n",
            "  1%|\u258f         | 14/938 [00:00<00:06, 135.96it/s]"
          ]
        },
        {
          "name": "stdout",
          "output_type": "stream",
          "text": [
            "epoch 26: train loss 0.2251, test loss 0.1502, accuracy 9547/10000 in 7.53s\n"
          ]
        },
        {
          "name": "stderr",
          "output_type": "stream",
          "text": [
            "100%|\u2588\u2588\u2588\u2588\u2588\u2588\u2588\u2588\u2588\u2588| 938/938 [00:07<00:00, 128.83it/s]\n",
            "  1%|\u258f         | 13/938 [00:00<00:07, 127.48it/s]"
          ]
        },
        {
          "name": "stdout",
          "output_type": "stream",
          "text": [
            "epoch 27: train loss 0.2278, test loss 0.1517, accuracy 9540/10000 in 8.31s\n"
          ]
        },
        {
          "name": "stderr",
          "output_type": "stream",
          "text": [
            "100%|\u2588\u2588\u2588\u2588\u2588\u2588\u2588\u2588\u2588\u2588| 938/938 [00:07<00:00, 133.07it/s]\n",
            "  2%|\u258f         | 15/938 [00:00<00:06, 132.38it/s]"
          ]
        },
        {
          "name": "stdout",
          "output_type": "stream",
          "text": [
            "epoch 28: train loss 0.2251, test loss 0.1521, accuracy 9548/10000 in 7.93s\n"
          ]
        },
        {
          "name": "stderr",
          "output_type": "stream",
          "text": [
            "100%|\u2588\u2588\u2588\u2588\u2588\u2588\u2588\u2588\u2588\u2588| 938/938 [00:06<00:00, 139.38it/s]\n",
            "  1%|\u258f         | 12/938 [00:00<00:08, 112.14it/s]"
          ]
        },
        {
          "name": "stdout",
          "output_type": "stream",
          "text": [
            "epoch 29: train loss 0.2217, test loss 0.1511, accuracy 9549/10000 in 7.81s\n"
          ]
        },
        {
          "name": "stderr",
          "output_type": "stream",
          "text": [
            "100%|\u2588\u2588\u2588\u2588\u2588\u2588\u2588\u2588\u2588\u2588| 938/938 [00:07<00:00, 132.86it/s]\n",
            "  1%|\u258f         | 13/938 [00:00<00:07, 124.97it/s]"
          ]
        },
        {
          "name": "stdout",
          "output_type": "stream",
          "text": [
            "epoch 30: train loss 0.2199, test loss 0.1442, accuracy 9569/10000 in 7.95s\n"
          ]
        },
        {
          "name": "stderr",
          "output_type": "stream",
          "text": [
            "100%|\u2588\u2588\u2588\u2588\u2588\u2588\u2588\u2588\u2588\u2588| 938/938 [00:06<00:00, 141.30it/s]\n",
            "  1%|\u258f         | 13/938 [00:00<00:07, 129.82it/s]"
          ]
        },
        {
          "name": "stdout",
          "output_type": "stream",
          "text": [
            "epoch 31: train loss 0.2187, test loss 0.1514, accuracy 9538/10000 in 7.60s\n"
          ]
        },
        {
          "name": "stderr",
          "output_type": "stream",
          "text": [
            "100%|\u2588\u2588\u2588\u2588\u2588\u2588\u2588\u2588\u2588\u2588| 938/938 [00:06<00:00, 134.64it/s]\n",
            "  1%|\u258f         | 14/938 [00:00<00:06, 135.11it/s]"
          ]
        },
        {
          "name": "stdout",
          "output_type": "stream",
          "text": [
            "epoch 32: train loss 0.2214, test loss 0.1463, accuracy 9556/10000 in 7.93s\n"
          ]
        },
        {
          "name": "stderr",
          "output_type": "stream",
          "text": [
            "100%|\u2588\u2588\u2588\u2588\u2588\u2588\u2588\u2588\u2588\u2588| 938/938 [00:06<00:00, 134.49it/s]\n",
            "  2%|\u258f         | 15/938 [00:00<00:06, 146.29it/s]"
          ]
        },
        {
          "name": "stdout",
          "output_type": "stream",
          "text": [
            "epoch 33: train loss 0.2189, test loss 0.1460, accuracy 9548/10000 in 7.93s\n"
          ]
        },
        {
          "name": "stderr",
          "output_type": "stream",
          "text": [
            "100%|\u2588\u2588\u2588\u2588\u2588\u2588\u2588\u2588\u2588\u2588| 938/938 [00:06<00:00, 136.91it/s]\n",
            "  1%|\u258f         | 12/938 [00:00<00:07, 118.99it/s]"
          ]
        },
        {
          "name": "stdout",
          "output_type": "stream",
          "text": [
            "epoch 34: train loss 0.2179, test loss 0.1463, accuracy 9548/10000 in 7.78s\n"
          ]
        },
        {
          "name": "stderr",
          "output_type": "stream",
          "text": [
            "100%|\u2588\u2588\u2588\u2588\u2588\u2588\u2588\u2588\u2588\u2588| 938/938 [00:06<00:00, 136.68it/s]\n",
            "  2%|\u258f         | 16/938 [00:00<00:06, 151.54it/s]"
          ]
        },
        {
          "name": "stdout",
          "output_type": "stream",
          "text": [
            "epoch 35: train loss 0.2171, test loss 0.1468, accuracy 9558/10000 in 7.74s\n"
          ]
        },
        {
          "name": "stderr",
          "output_type": "stream",
          "text": [
            "100%|\u2588\u2588\u2588\u2588\u2588\u2588\u2588\u2588\u2588\u2588| 938/938 [00:06<00:00, 137.55it/s]\n",
            "  1%|\u258f         | 14/938 [00:00<00:06, 136.80it/s]"
          ]
        },
        {
          "name": "stdout",
          "output_type": "stream",
          "text": [
            "epoch 36: train loss 0.2202, test loss 0.1499, accuracy 9554/10000 in 7.71s\n"
          ]
        },
        {
          "name": "stderr",
          "output_type": "stream",
          "text": [
            "100%|\u2588\u2588\u2588\u2588\u2588\u2588\u2588\u2588\u2588\u2588| 938/938 [00:06<00:00, 134.49it/s]\n",
            "  2%|\u258f         | 15/938 [00:00<00:06, 146.11it/s]"
          ]
        },
        {
          "name": "stdout",
          "output_type": "stream",
          "text": [
            "epoch 37: train loss 0.2177, test loss 0.1468, accuracy 9548/10000 in 7.88s\n"
          ]
        },
        {
          "name": "stderr",
          "output_type": "stream",
          "text": [
            "100%|\u2588\u2588\u2588\u2588\u2588\u2588\u2588\u2588\u2588\u2588| 938/938 [00:07<00:00, 133.52it/s]\n",
            "  1%|\u258f         | 13/938 [00:00<00:07, 127.63it/s]"
          ]
        },
        {
          "name": "stdout",
          "output_type": "stream",
          "text": [
            "epoch 38: train loss 0.2171, test loss 0.1484, accuracy 9542/10000 in 8.06s\n"
          ]
        },
        {
          "name": "stderr",
          "output_type": "stream",
          "text": [
            "100%|\u2588\u2588\u2588\u2588\u2588\u2588\u2588\u2588\u2588\u2588| 938/938 [00:07<00:00, 133.65it/s]\n",
            "  1%|\u258f         | 14/938 [00:00<00:06, 138.77it/s]"
          ]
        },
        {
          "name": "stdout",
          "output_type": "stream",
          "text": [
            "epoch 39: train loss 0.2139, test loss 0.1471, accuracy 9558/10000 in 7.88s\n"
          ]
        },
        {
          "name": "stderr",
          "output_type": "stream",
          "text": [
            "100%|\u2588\u2588\u2588\u2588\u2588\u2588\u2588\u2588\u2588\u2588| 938/938 [00:06<00:00, 139.41it/s]\n",
            "  2%|\u258f         | 15/938 [00:00<00:06, 141.51it/s]"
          ]
        },
        {
          "name": "stdout",
          "output_type": "stream",
          "text": [
            "epoch 40: train loss 0.2125, test loss 0.1419, accuracy 9582/10000 in 7.66s\n"
          ]
        },
        {
          "name": "stderr",
          "output_type": "stream",
          "text": [
            "100%|\u2588\u2588\u2588\u2588\u2588\u2588\u2588\u2588\u2588\u2588| 938/938 [00:06<00:00, 138.89it/s]\n",
            "  1%|\u258f         | 13/938 [00:00<00:07, 128.24it/s]"
          ]
        },
        {
          "name": "stdout",
          "output_type": "stream",
          "text": [
            "epoch 41: train loss 0.2153, test loss 0.1485, accuracy 9556/10000 in 7.77s\n"
          ]
        },
        {
          "name": "stderr",
          "output_type": "stream",
          "text": [
            "100%|\u2588\u2588\u2588\u2588\u2588\u2588\u2588\u2588\u2588\u2588| 938/938 [00:06<00:00, 136.66it/s]\n",
            "  2%|\u258f         | 15/938 [00:00<00:06, 146.25it/s]"
          ]
        },
        {
          "name": "stdout",
          "output_type": "stream",
          "text": [
            "epoch 42: train loss 0.2123, test loss 0.1488, accuracy 9544/10000 in 7.73s\n"
          ]
        },
        {
          "name": "stderr",
          "output_type": "stream",
          "text": [
            "100%|\u2588\u2588\u2588\u2588\u2588\u2588\u2588\u2588\u2588\u2588| 938/938 [00:06<00:00, 138.98it/s]\n",
            "  2%|\u258f         | 15/938 [00:00<00:06, 142.67it/s]"
          ]
        },
        {
          "name": "stdout",
          "output_type": "stream",
          "text": [
            "epoch 43: train loss 0.2091, test loss 0.1500, accuracy 9553/10000 in 7.65s\n"
          ]
        },
        {
          "name": "stderr",
          "output_type": "stream",
          "text": [
            "100%|\u2588\u2588\u2588\u2588\u2588\u2588\u2588\u2588\u2588\u2588| 938/938 [00:06<00:00, 136.70it/s]\n",
            "  1%|\u258f         | 14/938 [00:00<00:06, 134.07it/s]"
          ]
        },
        {
          "name": "stdout",
          "output_type": "stream",
          "text": [
            "epoch 44: train loss 0.2124, test loss 0.1453, accuracy 9560/10000 in 7.75s\n"
          ]
        },
        {
          "name": "stderr",
          "output_type": "stream",
          "text": [
            "100%|\u2588\u2588\u2588\u2588\u2588\u2588\u2588\u2588\u2588\u2588| 938/938 [00:06<00:00, 136.55it/s]\n",
            "  1%|\u258f         | 14/938 [00:00<00:06, 133.09it/s]"
          ]
        },
        {
          "name": "stdout",
          "output_type": "stream",
          "text": [
            "epoch 45: train loss 0.2088, test loss 0.1436, accuracy 9560/10000 in 7.78s\n"
          ]
        },
        {
          "name": "stderr",
          "output_type": "stream",
          "text": [
            "100%|\u2588\u2588\u2588\u2588\u2588\u2588\u2588\u2588\u2588\u2588| 938/938 [00:06<00:00, 138.30it/s]\n",
            "  2%|\u258f         | 16/938 [00:00<00:06, 150.32it/s]"
          ]
        },
        {
          "name": "stdout",
          "output_type": "stream",
          "text": [
            "epoch 46: train loss 0.2107, test loss 0.1417, accuracy 9574/10000 in 7.67s\n"
          ]
        },
        {
          "name": "stderr",
          "output_type": "stream",
          "text": [
            "100%|\u2588\u2588\u2588\u2588\u2588\u2588\u2588\u2588\u2588\u2588| 938/938 [00:07<00:00, 133.51it/s]\n",
            "  2%|\u258f         | 16/938 [00:00<00:05, 155.72it/s]"
          ]
        },
        {
          "name": "stdout",
          "output_type": "stream",
          "text": [
            "epoch 47: train loss 0.2081, test loss 0.1411, accuracy 9559/10000 in 8.01s\n"
          ]
        },
        {
          "name": "stderr",
          "output_type": "stream",
          "text": [
            "100%|\u2588\u2588\u2588\u2588\u2588\u2588\u2588\u2588\u2588\u2588| 938/938 [00:07<00:00, 133.96it/s]\n",
            "  2%|\u258f         | 16/938 [00:00<00:06, 151.18it/s]"
          ]
        },
        {
          "name": "stdout",
          "output_type": "stream",
          "text": [
            "epoch 48: train loss 0.2076, test loss 0.1483, accuracy 9538/10000 in 7.88s\n"
          ]
        },
        {
          "name": "stderr",
          "output_type": "stream",
          "text": [
            "100%|\u2588\u2588\u2588\u2588\u2588\u2588\u2588\u2588\u2588\u2588| 938/938 [00:06<00:00, 136.50it/s]\n",
            "  2%|\u258f         | 16/938 [00:00<00:06, 146.36it/s]"
          ]
        },
        {
          "name": "stdout",
          "output_type": "stream",
          "text": [
            "epoch 49: train loss 0.2028, test loss 0.1437, accuracy 9561/10000 in 7.76s\n"
          ]
        },
        {
          "name": "stderr",
          "output_type": "stream",
          "text": [
            "100%|\u2588\u2588\u2588\u2588\u2588\u2588\u2588\u2588\u2588\u2588| 938/938 [00:06<00:00, 135.25it/s]\n",
            "  1%|\u258f         | 13/938 [00:00<00:07, 124.97it/s]"
          ]
        },
        {
          "name": "stdout",
          "output_type": "stream",
          "text": [
            "epoch 50: train loss 0.2096, test loss 0.1436, accuracy 9575/10000 in 7.80s\n"
          ]
        },
        {
          "name": "stderr",
          "output_type": "stream",
          "text": [
            "100%|\u2588\u2588\u2588\u2588\u2588\u2588\u2588\u2588\u2588\u2588| 938/938 [00:07<00:00, 131.08it/s]\n",
            "  1%|\u258f         | 14/938 [00:00<00:07, 131.43it/s]"
          ]
        },
        {
          "name": "stdout",
          "output_type": "stream",
          "text": [
            "epoch 51: train loss 0.2058, test loss 0.1418, accuracy 9575/10000 in 8.18s\n"
          ]
        },
        {
          "name": "stderr",
          "output_type": "stream",
          "text": [
            "100%|\u2588\u2588\u2588\u2588\u2588\u2588\u2588\u2588\u2588\u2588| 938/938 [00:06<00:00, 137.88it/s]\n",
            "  2%|\u258f         | 15/938 [00:00<00:06, 149.22it/s]"
          ]
        },
        {
          "name": "stdout",
          "output_type": "stream",
          "text": [
            "epoch 52: train loss 0.2064, test loss 0.1455, accuracy 9559/10000 in 7.73s\n"
          ]
        },
        {
          "name": "stderr",
          "output_type": "stream",
          "text": [
            "100%|\u2588\u2588\u2588\u2588\u2588\u2588\u2588\u2588\u2588\u2588| 938/938 [00:06<00:00, 137.23it/s]\n",
            "  1%|\u258f         | 14/938 [00:00<00:06, 136.65it/s]"
          ]
        },
        {
          "name": "stdout",
          "output_type": "stream",
          "text": [
            "epoch 53: train loss 0.2060, test loss 0.1486, accuracy 9564/10000 in 7.75s\n"
          ]
        },
        {
          "name": "stderr",
          "output_type": "stream",
          "text": [
            "100%|\u2588\u2588\u2588\u2588\u2588\u2588\u2588\u2588\u2588\u2588| 938/938 [00:06<00:00, 136.19it/s]\n",
            "  1%|\u258f         | 14/938 [00:00<00:06, 136.16it/s]"
          ]
        },
        {
          "name": "stdout",
          "output_type": "stream",
          "text": [
            "epoch 54: train loss 0.2061, test loss 0.1456, accuracy 9564/10000 in 7.83s\n"
          ]
        },
        {
          "name": "stderr",
          "output_type": "stream",
          "text": [
            "100%|\u2588\u2588\u2588\u2588\u2588\u2588\u2588\u2588\u2588\u2588| 938/938 [00:06<00:00, 135.44it/s]\n",
            "  2%|\u258f         | 16/938 [00:00<00:06, 150.93it/s]"
          ]
        },
        {
          "name": "stdout",
          "output_type": "stream",
          "text": [
            "epoch 55: train loss 0.2057, test loss 0.1441, accuracy 9550/10000 in 7.85s\n"
          ]
        },
        {
          "name": "stderr",
          "output_type": "stream",
          "text": [
            "100%|\u2588\u2588\u2588\u2588\u2588\u2588\u2588\u2588\u2588\u2588| 938/938 [00:07<00:00, 125.89it/s]\n",
            "  2%|\u258f         | 16/938 [00:00<00:06, 152.82it/s]"
          ]
        },
        {
          "name": "stdout",
          "output_type": "stream",
          "text": [
            "epoch 56: train loss 0.2007, test loss 0.1454, accuracy 9568/10000 in 8.42s\n"
          ]
        },
        {
          "name": "stderr",
          "output_type": "stream",
          "text": [
            "100%|\u2588\u2588\u2588\u2588\u2588\u2588\u2588\u2588\u2588\u2588| 938/938 [00:07<00:00, 133.93it/s]\n",
            "  2%|\u258f         | 15/938 [00:00<00:06, 145.46it/s]"
          ]
        },
        {
          "name": "stdout",
          "output_type": "stream",
          "text": [
            "epoch 57: train loss 0.2046, test loss 0.1468, accuracy 9565/10000 in 7.91s\n"
          ]
        },
        {
          "name": "stderr",
          "output_type": "stream",
          "text": [
            "100%|\u2588\u2588\u2588\u2588\u2588\u2588\u2588\u2588\u2588\u2588| 938/938 [00:06<00:00, 140.19it/s]\n",
            "  2%|\u258f         | 15/938 [00:00<00:06, 149.61it/s]"
          ]
        },
        {
          "name": "stdout",
          "output_type": "stream",
          "text": [
            "epoch 58: train loss 0.2022, test loss 0.1475, accuracy 9558/10000 in 7.70s\n"
          ]
        },
        {
          "name": "stderr",
          "output_type": "stream",
          "text": [
            "100%|\u2588\u2588\u2588\u2588\u2588\u2588\u2588\u2588\u2588\u2588| 938/938 [00:06<00:00, 134.21it/s]\n",
            "  1%|\u258f         | 13/938 [00:00<00:07, 122.64it/s]"
          ]
        },
        {
          "name": "stdout",
          "output_type": "stream",
          "text": [
            "epoch 59: train loss 0.2019, test loss 0.1455, accuracy 9568/10000 in 7.92s\n"
          ]
        },
        {
          "name": "stderr",
          "output_type": "stream",
          "text": [
            "100%|\u2588\u2588\u2588\u2588\u2588\u2588\u2588\u2588\u2588\u2588| 938/938 [00:07<00:00, 130.49it/s]\n",
            "  2%|\u258f         | 15/938 [00:00<00:06, 144.20it/s]"
          ]
        },
        {
          "name": "stdout",
          "output_type": "stream",
          "text": [
            "epoch 60: train loss 0.1996, test loss 0.1458, accuracy 9558/10000 in 8.12s\n"
          ]
        },
        {
          "name": "stderr",
          "output_type": "stream",
          "text": [
            "100%|\u2588\u2588\u2588\u2588\u2588\u2588\u2588\u2588\u2588\u2588| 938/938 [00:07<00:00, 132.76it/s]\n",
            "  1%|\u258f         | 12/938 [00:00<00:08, 115.30it/s]"
          ]
        },
        {
          "name": "stdout",
          "output_type": "stream",
          "text": [
            "epoch 61: train loss 0.2035, test loss 0.1452, accuracy 9569/10000 in 7.97s\n"
          ]
        },
        {
          "name": "stderr",
          "output_type": "stream",
          "text": [
            "100%|\u2588\u2588\u2588\u2588\u2588\u2588\u2588\u2588\u2588\u2588| 938/938 [00:07<00:00, 132.04it/s]\n",
            "  1%|\u258f         | 13/938 [00:00<00:07, 123.79it/s]"
          ]
        },
        {
          "name": "stdout",
          "output_type": "stream",
          "text": [
            "epoch 62: train loss 0.2028, test loss 0.1441, accuracy 9575/10000 in 8.06s\n"
          ]
        },
        {
          "name": "stderr",
          "output_type": "stream",
          "text": [
            "100%|\u2588\u2588\u2588\u2588\u2588\u2588\u2588\u2588\u2588\u2588| 938/938 [00:06<00:00, 136.71it/s]\n",
            "  1%|\u258f         | 12/938 [00:00<00:07, 116.79it/s]"
          ]
        },
        {
          "name": "stdout",
          "output_type": "stream",
          "text": [
            "epoch 63: train loss 0.1968, test loss 0.1436, accuracy 9570/10000 in 7.87s\n"
          ]
        },
        {
          "name": "stderr",
          "output_type": "stream",
          "text": [
            "100%|\u2588\u2588\u2588\u2588\u2588\u2588\u2588\u2588\u2588\u2588| 938/938 [00:06<00:00, 135.44it/s]\n",
            "  2%|\u258f         | 15/938 [00:00<00:06, 142.38it/s]"
          ]
        },
        {
          "name": "stdout",
          "output_type": "stream",
          "text": [
            "epoch 64: train loss 0.1962, test loss 0.1461, accuracy 9551/10000 in 7.81s\n"
          ]
        },
        {
          "name": "stderr",
          "output_type": "stream",
          "text": [
            "100%|\u2588\u2588\u2588\u2588\u2588\u2588\u2588\u2588\u2588\u2588| 938/938 [00:07<00:00, 124.62it/s]\n",
            "  2%|\u258f         | 15/938 [00:00<00:06, 147.73it/s]"
          ]
        },
        {
          "name": "stdout",
          "output_type": "stream",
          "text": [
            "epoch 65: train loss 0.2037, test loss 0.1430, accuracy 9556/10000 in 8.59s\n"
          ]
        },
        {
          "name": "stderr",
          "output_type": "stream",
          "text": [
            "100%|\u2588\u2588\u2588\u2588\u2588\u2588\u2588\u2588\u2588\u2588| 938/938 [00:07<00:00, 133.13it/s]\n",
            "  1%|\u258f         | 13/938 [00:00<00:07, 123.15it/s]"
          ]
        },
        {
          "name": "stdout",
          "output_type": "stream",
          "text": [
            "epoch 66: train loss 0.2005, test loss 0.1437, accuracy 9556/10000 in 7.96s\n"
          ]
        },
        {
          "name": "stderr",
          "output_type": "stream",
          "text": [
            "100%|\u2588\u2588\u2588\u2588\u2588\u2588\u2588\u2588\u2588\u2588| 938/938 [00:07<00:00, 128.23it/s]\n",
            "  1%|\u258f         | 14/938 [00:00<00:07, 131.23it/s]"
          ]
        },
        {
          "name": "stdout",
          "output_type": "stream",
          "text": [
            "epoch 67: train loss 0.1980, test loss 0.1440, accuracy 9563/10000 in 8.23s\n"
          ]
        },
        {
          "name": "stderr",
          "output_type": "stream",
          "text": [
            "100%|\u2588\u2588\u2588\u2588\u2588\u2588\u2588\u2588\u2588\u2588| 938/938 [00:07<00:00, 131.94it/s]\n",
            "  2%|\u258f         | 15/938 [00:00<00:06, 145.95it/s]"
          ]
        },
        {
          "name": "stdout",
          "output_type": "stream",
          "text": [
            "epoch 68: train loss 0.1967, test loss 0.1451, accuracy 9565/10000 in 8.05s\n"
          ]
        },
        {
          "name": "stderr",
          "output_type": "stream",
          "text": [
            "100%|\u2588\u2588\u2588\u2588\u2588\u2588\u2588\u2588\u2588\u2588| 938/938 [00:07<00:00, 132.25it/s]\n",
            "  2%|\u258f         | 15/938 [00:00<00:06, 146.35it/s]"
          ]
        },
        {
          "name": "stdout",
          "output_type": "stream",
          "text": [
            "epoch 69: train loss 0.1972, test loss 0.1423, accuracy 9562/10000 in 8.11s\n"
          ]
        },
        {
          "name": "stderr",
          "output_type": "stream",
          "text": [
            "100%|\u2588\u2588\u2588\u2588\u2588\u2588\u2588\u2588\u2588\u2588| 938/938 [00:07<00:00, 133.66it/s]\n",
            "  2%|\u258f         | 15/938 [00:00<00:06, 146.52it/s]"
          ]
        },
        {
          "name": "stdout",
          "output_type": "stream",
          "text": [
            "epoch 70: train loss 0.1961, test loss 0.1448, accuracy 9576/10000 in 7.94s\n"
          ]
        },
        {
          "name": "stderr",
          "output_type": "stream",
          "text": [
            "100%|\u2588\u2588\u2588\u2588\u2588\u2588\u2588\u2588\u2588\u2588| 938/938 [00:06<00:00, 137.74it/s]\n",
            "  2%|\u258f         | 15/938 [00:00<00:06, 143.13it/s]"
          ]
        },
        {
          "name": "stdout",
          "output_type": "stream",
          "text": [
            "epoch 71: train loss 0.1965, test loss 0.1485, accuracy 9545/10000 in 7.73s\n"
          ]
        },
        {
          "name": "stderr",
          "output_type": "stream",
          "text": [
            "100%|\u2588\u2588\u2588\u2588\u2588\u2588\u2588\u2588\u2588\u2588| 938/938 [00:07<00:00, 125.92it/s]\n",
            "  1%|\u258f         | 13/938 [00:00<00:07, 116.79it/s]"
          ]
        },
        {
          "name": "stdout",
          "output_type": "stream",
          "text": [
            "epoch 72: train loss 0.1977, test loss 0.1456, accuracy 9559/10000 in 8.34s\n"
          ]
        },
        {
          "name": "stderr",
          "output_type": "stream",
          "text": [
            "100%|\u2588\u2588\u2588\u2588\u2588\u2588\u2588\u2588\u2588\u2588| 938/938 [00:07<00:00, 130.74it/s]\n",
            "  1%|\u258f         | 12/938 [00:00<00:08, 113.25it/s]"
          ]
        },
        {
          "name": "stdout",
          "output_type": "stream",
          "text": [
            "epoch 73: train loss 0.1979, test loss 0.1477, accuracy 9574/10000 in 8.13s\n"
          ]
        },
        {
          "name": "stderr",
          "output_type": "stream",
          "text": [
            "100%|\u2588\u2588\u2588\u2588\u2588\u2588\u2588\u2588\u2588\u2588| 938/938 [00:07<00:00, 128.97it/s]\n",
            "  1%|\u258f         | 13/938 [00:00<00:07, 120.10it/s]"
          ]
        },
        {
          "name": "stdout",
          "output_type": "stream",
          "text": [
            "epoch 74: train loss 0.1972, test loss 0.1469, accuracy 9553/10000 in 8.23s\n"
          ]
        },
        {
          "name": "stderr",
          "output_type": "stream",
          "text": [
            "100%|\u2588\u2588\u2588\u2588\u2588\u2588\u2588\u2588\u2588\u2588| 938/938 [00:07<00:00, 131.96it/s]\n",
            "  1%|\u258f         | 12/938 [00:00<00:07, 118.04it/s]"
          ]
        },
        {
          "name": "stdout",
          "output_type": "stream",
          "text": [
            "epoch 75: train loss 0.1947, test loss 0.1473, accuracy 9561/10000 in 8.08s\n"
          ]
        },
        {
          "name": "stderr",
          "output_type": "stream",
          "text": [
            "100%|\u2588\u2588\u2588\u2588\u2588\u2588\u2588\u2588\u2588\u2588| 938/938 [00:06<00:00, 137.80it/s]\n",
            "  1%|\u258f         | 13/938 [00:00<00:07, 126.30it/s]"
          ]
        },
        {
          "name": "stdout",
          "output_type": "stream",
          "text": [
            "epoch 76: train loss 0.1928, test loss 0.1440, accuracy 9575/10000 in 7.73s\n"
          ]
        },
        {
          "name": "stderr",
          "output_type": "stream",
          "text": [
            "100%|\u2588\u2588\u2588\u2588\u2588\u2588\u2588\u2588\u2588\u2588| 938/938 [00:07<00:00, 127.53it/s]\n",
            "  2%|\u258f         | 16/938 [00:00<00:06, 150.76it/s]"
          ]
        },
        {
          "name": "stdout",
          "output_type": "stream",
          "text": [
            "epoch 77: train loss 0.1926, test loss 0.1494, accuracy 9560/10000 in 8.24s\n"
          ]
        },
        {
          "name": "stderr",
          "output_type": "stream",
          "text": [
            "100%|\u2588\u2588\u2588\u2588\u2588\u2588\u2588\u2588\u2588\u2588| 938/938 [00:06<00:00, 134.20it/s]\n",
            "  2%|\u258f         | 16/938 [00:00<00:05, 153.73it/s]"
          ]
        },
        {
          "name": "stdout",
          "output_type": "stream",
          "text": [
            "epoch 78: train loss 0.1940, test loss 0.1508, accuracy 9542/10000 in 7.87s\n"
          ]
        },
        {
          "name": "stderr",
          "output_type": "stream",
          "text": [
            "100%|\u2588\u2588\u2588\u2588\u2588\u2588\u2588\u2588\u2588\u2588| 938/938 [00:06<00:00, 134.45it/s]\n",
            "  1%|\u258f         | 14/938 [00:00<00:06, 139.66it/s]"
          ]
        },
        {
          "name": "stdout",
          "output_type": "stream",
          "text": [
            "epoch 79: train loss 0.1966, test loss 0.1422, accuracy 9569/10000 in 7.86s\n"
          ]
        },
        {
          "name": "stderr",
          "output_type": "stream",
          "text": [
            "100%|\u2588\u2588\u2588\u2588\u2588\u2588\u2588\u2588\u2588\u2588| 938/938 [00:07<00:00, 133.73it/s]\n",
            "  2%|\u258f         | 15/938 [00:00<00:06, 142.33it/s]"
          ]
        },
        {
          "name": "stdout",
          "output_type": "stream",
          "text": [
            "epoch 80: train loss 0.1921, test loss 0.1423, accuracy 9577/10000 in 7.93s\n"
          ]
        },
        {
          "name": "stderr",
          "output_type": "stream",
          "text": [
            "100%|\u2588\u2588\u2588\u2588\u2588\u2588\u2588\u2588\u2588\u2588| 938/938 [00:06<00:00, 137.43it/s]\n",
            "  1%|\u258f         | 14/938 [00:00<00:06, 132.42it/s]"
          ]
        },
        {
          "name": "stdout",
          "output_type": "stream",
          "text": [
            "epoch 81: train loss 0.1894, test loss 0.1409, accuracy 9580/10000 in 7.86s\n"
          ]
        },
        {
          "name": "stderr",
          "output_type": "stream",
          "text": [
            "100%|\u2588\u2588\u2588\u2588\u2588\u2588\u2588\u2588\u2588\u2588| 938/938 [00:07<00:00, 126.46it/s]\n",
            "  2%|\u258f         | 15/938 [00:00<00:06, 140.80it/s]"
          ]
        },
        {
          "name": "stdout",
          "output_type": "stream",
          "text": [
            "epoch 82: train loss 0.1920, test loss 0.1426, accuracy 9561/10000 in 8.36s\n"
          ]
        },
        {
          "name": "stderr",
          "output_type": "stream",
          "text": [
            "100%|\u2588\u2588\u2588\u2588\u2588\u2588\u2588\u2588\u2588\u2588| 938/938 [00:06<00:00, 136.49it/s]\n",
            "  1%|          | 11/938 [00:00<00:08, 107.12it/s]"
          ]
        },
        {
          "name": "stdout",
          "output_type": "stream",
          "text": [
            "epoch 83: train loss 0.1929, test loss 0.1453, accuracy 9570/10000 in 7.87s\n"
          ]
        },
        {
          "name": "stderr",
          "output_type": "stream",
          "text": [
            "100%|\u2588\u2588\u2588\u2588\u2588\u2588\u2588\u2588\u2588\u2588| 938/938 [00:07<00:00, 133.70it/s]\n",
            "  2%|\u258f         | 16/938 [00:00<00:06, 150.83it/s]"
          ]
        },
        {
          "name": "stdout",
          "output_type": "stream",
          "text": [
            "epoch 84: train loss 0.1953, test loss 0.1446, accuracy 9574/10000 in 7.92s\n"
          ]
        },
        {
          "name": "stderr",
          "output_type": "stream",
          "text": [
            "100%|\u2588\u2588\u2588\u2588\u2588\u2588\u2588\u2588\u2588\u2588| 938/938 [00:07<00:00, 133.98it/s]\n",
            "  2%|\u258f         | 15/938 [00:00<00:06, 146.67it/s]"
          ]
        },
        {
          "name": "stdout",
          "output_type": "stream",
          "text": [
            "epoch 85: train loss 0.1906, test loss 0.1450, accuracy 9558/10000 in 7.93s\n"
          ]
        },
        {
          "name": "stderr",
          "output_type": "stream",
          "text": [
            "100%|\u2588\u2588\u2588\u2588\u2588\u2588\u2588\u2588\u2588\u2588| 938/938 [00:06<00:00, 136.08it/s]\n",
            "  2%|\u258f         | 16/938 [00:00<00:06, 152.96it/s]"
          ]
        },
        {
          "name": "stdout",
          "output_type": "stream",
          "text": [
            "epoch 86: train loss 0.1915, test loss 0.1473, accuracy 9555/10000 in 7.84s\n"
          ]
        },
        {
          "name": "stderr",
          "output_type": "stream",
          "text": [
            "100%|\u2588\u2588\u2588\u2588\u2588\u2588\u2588\u2588\u2588\u2588| 938/938 [00:07<00:00, 131.12it/s]\n",
            "  1%|\u258f         | 13/938 [00:00<00:07, 125.15it/s]"
          ]
        },
        {
          "name": "stdout",
          "output_type": "stream",
          "text": [
            "epoch 87: train loss 0.1913, test loss 0.1441, accuracy 9572/10000 in 8.19s\n"
          ]
        },
        {
          "name": "stderr",
          "output_type": "stream",
          "text": [
            "100%|\u2588\u2588\u2588\u2588\u2588\u2588\u2588\u2588\u2588\u2588| 938/938 [00:06<00:00, 135.33it/s]\n",
            "  1%|\u258f         | 12/938 [00:00<00:07, 117.76it/s]"
          ]
        },
        {
          "name": "stdout",
          "output_type": "stream",
          "text": [
            "epoch 88: train loss 0.1931, test loss 0.1450, accuracy 9562/10000 in 7.84s\n"
          ]
        },
        {
          "name": "stderr",
          "output_type": "stream",
          "text": [
            "100%|\u2588\u2588\u2588\u2588\u2588\u2588\u2588\u2588\u2588\u2588| 938/938 [00:06<00:00, 139.07it/s]\n",
            "  1%|\u258f         | 13/938 [00:00<00:07, 119.79it/s]"
          ]
        },
        {
          "name": "stdout",
          "output_type": "stream",
          "text": [
            "epoch 89: train loss 0.1908, test loss 0.1465, accuracy 9550/10000 in 7.71s\n"
          ]
        },
        {
          "name": "stderr",
          "output_type": "stream",
          "text": [
            "100%|\u2588\u2588\u2588\u2588\u2588\u2588\u2588\u2588\u2588\u2588| 938/938 [00:07<00:00, 131.55it/s]\n",
            "  2%|\u258f         | 16/938 [00:00<00:06, 149.96it/s]"
          ]
        },
        {
          "name": "stdout",
          "output_type": "stream",
          "text": [
            "epoch 90: train loss 0.1920, test loss 0.1463, accuracy 9564/10000 in 8.07s\n"
          ]
        },
        {
          "name": "stderr",
          "output_type": "stream",
          "text": [
            "100%|\u2588\u2588\u2588\u2588\u2588\u2588\u2588\u2588\u2588\u2588| 938/938 [00:06<00:00, 136.17it/s]\n",
            "  1%|\u258f         | 13/938 [00:00<00:07, 120.85it/s]"
          ]
        },
        {
          "name": "stdout",
          "output_type": "stream",
          "text": [
            "epoch 91: train loss 0.1871, test loss 0.1406, accuracy 9582/10000 in 7.81s\n"
          ]
        },
        {
          "name": "stderr",
          "output_type": "stream",
          "text": [
            "100%|\u2588\u2588\u2588\u2588\u2588\u2588\u2588\u2588\u2588\u2588| 938/938 [00:06<00:00, 135.46it/s]\n",
            "  2%|\u258f         | 16/938 [00:00<00:05, 154.12it/s]"
          ]
        },
        {
          "name": "stdout",
          "output_type": "stream",
          "text": [
            "epoch 92: train loss 0.1946, test loss 0.1431, accuracy 9587/10000 in 7.79s\n"
          ]
        },
        {
          "name": "stderr",
          "output_type": "stream",
          "text": [
            "100%|\u2588\u2588\u2588\u2588\u2588\u2588\u2588\u2588\u2588\u2588| 938/938 [00:06<00:00, 137.68it/s]\n",
            "  2%|\u258f         | 15/938 [00:00<00:06, 149.10it/s]"
          ]
        },
        {
          "name": "stdout",
          "output_type": "stream",
          "text": [
            "epoch 93: train loss 0.1909, test loss 0.1472, accuracy 9563/10000 in 7.69s\n"
          ]
        },
        {
          "name": "stderr",
          "output_type": "stream",
          "text": [
            "100%|\u2588\u2588\u2588\u2588\u2588\u2588\u2588\u2588\u2588\u2588| 938/938 [00:06<00:00, 140.16it/s]\n",
            "  2%|\u258f         | 15/938 [00:00<00:06, 147.31it/s]"
          ]
        },
        {
          "name": "stdout",
          "output_type": "stream",
          "text": [
            "epoch 94: train loss 0.1926, test loss 0.1407, accuracy 9574/10000 in 7.60s\n"
          ]
        },
        {
          "name": "stderr",
          "output_type": "stream",
          "text": [
            "100%|\u2588\u2588\u2588\u2588\u2588\u2588\u2588\u2588\u2588\u2588| 938/938 [00:07<00:00, 133.50it/s]\n",
            "  2%|\u258f         | 15/938 [00:00<00:06, 149.45it/s]"
          ]
        },
        {
          "name": "stdout",
          "output_type": "stream",
          "text": [
            "epoch 95: train loss 0.1905, test loss 0.1415, accuracy 9569/10000 in 8.07s\n"
          ]
        },
        {
          "name": "stderr",
          "output_type": "stream",
          "text": [
            "100%|\u2588\u2588\u2588\u2588\u2588\u2588\u2588\u2588\u2588\u2588| 938/938 [00:06<00:00, 135.18it/s]\n",
            "  1%|\u258f         | 13/938 [00:00<00:07, 128.08it/s]"
          ]
        },
        {
          "name": "stdout",
          "output_type": "stream",
          "text": [
            "epoch 96: train loss 0.1910, test loss 0.1437, accuracy 9569/10000 in 7.93s\n"
          ]
        },
        {
          "name": "stderr",
          "output_type": "stream",
          "text": [
            "100%|\u2588\u2588\u2588\u2588\u2588\u2588\u2588\u2588\u2588\u2588| 938/938 [00:07<00:00, 132.35it/s]\n",
            "  2%|\u258f         | 15/938 [00:00<00:06, 147.29it/s]"
          ]
        },
        {
          "name": "stdout",
          "output_type": "stream",
          "text": [
            "epoch 97: train loss 0.1923, test loss 0.1389, accuracy 9576/10000 in 7.98s\n"
          ]
        },
        {
          "name": "stderr",
          "output_type": "stream",
          "text": [
            "100%|\u2588\u2588\u2588\u2588\u2588\u2588\u2588\u2588\u2588\u2588| 938/938 [00:06<00:00, 136.57it/s]\n",
            "  1%|\u258f         | 13/938 [00:00<00:07, 129.88it/s]"
          ]
        },
        {
          "name": "stdout",
          "output_type": "stream",
          "text": [
            "epoch 98: train loss 0.1873, test loss 0.1435, accuracy 9568/10000 in 7.75s\n"
          ]
        },
        {
          "name": "stderr",
          "output_type": "stream",
          "text": [
            "100%|\u2588\u2588\u2588\u2588\u2588\u2588\u2588\u2588\u2588\u2588| 938/938 [00:06<00:00, 137.80it/s]\n",
            "  2%|\u258f         | 16/938 [00:00<00:06, 153.02it/s]"
          ]
        },
        {
          "name": "stdout",
          "output_type": "stream",
          "text": [
            "epoch 99: train loss 0.1893, test loss 0.1454, accuracy 9566/10000 in 7.77s\n"
          ]
        },
        {
          "name": "stderr",
          "output_type": "stream",
          "text": [
            "100%|\u2588\u2588\u2588\u2588\u2588\u2588\u2588\u2588\u2588\u2588| 938/938 [00:06<00:00, 140.92it/s]\n"
          ]
        },
        {
          "name": "stdout",
          "output_type": "stream",
          "text": [
            "epoch 100: train loss 0.1871, test loss 0.1421, accuracy 9577/10000 in 7.67s\n"
          ]
        }
      ],
      "source": [
        "perfs = []\n",
        "for epoch in range(1, N_EPOCHS + 1):\n",
        "    t0 = time.time()\n",
        "    train_loss = train(epoch, verbose=False)\n",
        "    test_loss, correct = test(verbose=False)\n",
        "    perfs.append([epoch, train_loss, test_loss, correct, len(test_loader.dataset), time.time() - t0])\n",
        "    print(\"epoch {}: train loss {:.4f}, test loss {:.4f}, accuracy {}/{} in {:.2f}s\".format(*perfs[-1]))"
      ]
    },
    {
      "cell_type": "code",
      "execution_count": 11,
      "metadata": {
        "scrolled": false
      },
      "outputs": [
        {
          "data": {
            "text/html": [
              "<div>\n",
              "<table border=\"1\" class=\"dataframe\">\n",
              "  <thead>\n",
              "    <tr style=\"text-align: right;\">\n",
              "      <th></th>\n",
              "      <th>epoch</th>\n",
              "      <th>train_loss</th>\n",
              "      <th>test_loss</th>\n",
              "      <th>accuracy</th>\n",
              "      <th>n_test</th>\n",
              "      <th>time</th>\n",
              "    </tr>\n",
              "  </thead>\n",
              "  <tbody>\n",
              "    <tr>\n",
              "      <th>0</th>\n",
              "      <td>1</td>\n",
              "      <td>0.494527</td>\n",
              "      <td>0.253278</td>\n",
              "      <td>9245</td>\n",
              "      <td>10000</td>\n",
              "      <td>13.551054</td>\n",
              "    </tr>\n",
              "    <tr>\n",
              "      <th>1</th>\n",
              "      <td>2</td>\n",
              "      <td>0.338234</td>\n",
              "      <td>0.215682</td>\n",
              "      <td>9357</td>\n",
              "      <td>10000</td>\n",
              "      <td>7.502503</td>\n",
              "    </tr>\n",
              "    <tr>\n",
              "      <th>2</th>\n",
              "      <td>3</td>\n",
              "      <td>0.313669</td>\n",
              "      <td>0.200523</td>\n",
              "      <td>9386</td>\n",
              "      <td>10000</td>\n",
              "      <td>7.816235</td>\n",
              "    </tr>\n",
              "    <tr>\n",
              "      <th>3</th>\n",
              "      <td>4</td>\n",
              "      <td>0.299771</td>\n",
              "      <td>0.192725</td>\n",
              "      <td>9427</td>\n",
              "      <td>10000</td>\n",
              "      <td>7.671069</td>\n",
              "    </tr>\n",
              "    <tr>\n",
              "      <th>4</th>\n",
              "      <td>5</td>\n",
              "      <td>0.289576</td>\n",
              "      <td>0.187909</td>\n",
              "      <td>9429</td>\n",
              "      <td>10000</td>\n",
              "      <td>7.998625</td>\n",
              "    </tr>\n",
              "    <tr>\n",
              "      <th>5</th>\n",
              "      <td>6</td>\n",
              "      <td>0.280034</td>\n",
              "      <td>0.183928</td>\n",
              "      <td>9459</td>\n",
              "      <td>10000</td>\n",
              "      <td>7.723974</td>\n",
              "    </tr>\n",
              "    <tr>\n",
              "      <th>6</th>\n",
              "      <td>7</td>\n",
              "      <td>0.271956</td>\n",
              "      <td>0.181222</td>\n",
              "      <td>9460</td>\n",
              "      <td>10000</td>\n",
              "      <td>7.626516</td>\n",
              "    </tr>\n",
              "    <tr>\n",
              "      <th>7</th>\n",
              "      <td>8</td>\n",
              "      <td>0.267716</td>\n",
              "      <td>0.176355</td>\n",
              "      <td>9454</td>\n",
              "      <td>10000</td>\n",
              "      <td>7.825798</td>\n",
              "    </tr>\n",
              "    <tr>\n",
              "      <th>8</th>\n",
              "      <td>9</td>\n",
              "      <td>0.261895</td>\n",
              "      <td>0.171745</td>\n",
              "      <td>9506</td>\n",
              "      <td>10000</td>\n",
              "      <td>7.468393</td>\n",
              "    </tr>\n",
              "    <tr>\n",
              "      <th>9</th>\n",
              "      <td>10</td>\n",
              "      <td>0.259575</td>\n",
              "      <td>0.163313</td>\n",
              "      <td>9522</td>\n",
              "      <td>10000</td>\n",
              "      <td>7.642768</td>\n",
              "    </tr>\n",
              "    <tr>\n",
              "      <th>10</th>\n",
              "      <td>11</td>\n",
              "      <td>0.256912</td>\n",
              "      <td>0.164548</td>\n",
              "      <td>9516</td>\n",
              "      <td>10000</td>\n",
              "      <td>7.730207</td>\n",
              "    </tr>\n",
              "    <tr>\n",
              "      <th>11</th>\n",
              "      <td>12</td>\n",
              "      <td>0.252907</td>\n",
              "      <td>0.165133</td>\n",
              "      <td>9513</td>\n",
              "      <td>10000</td>\n",
              "      <td>7.807777</td>\n",
              "    </tr>\n",
              "    <tr>\n",
              "      <th>12</th>\n",
              "      <td>13</td>\n",
              "      <td>0.247821</td>\n",
              "      <td>0.161450</td>\n",
              "      <td>9505</td>\n",
              "      <td>10000</td>\n",
              "      <td>7.365123</td>\n",
              "    </tr>\n",
              "    <tr>\n",
              "      <th>13</th>\n",
              "      <td>14</td>\n",
              "      <td>0.245158</td>\n",
              "      <td>0.154792</td>\n",
              "      <td>9535</td>\n",
              "      <td>10000</td>\n",
              "      <td>7.691522</td>\n",
              "    </tr>\n",
              "    <tr>\n",
              "      <th>14</th>\n",
              "      <td>15</td>\n",
              "      <td>0.246256</td>\n",
              "      <td>0.155270</td>\n",
              "      <td>9528</td>\n",
              "      <td>10000</td>\n",
              "      <td>7.755370</td>\n",
              "    </tr>\n",
              "    <tr>\n",
              "      <th>15</th>\n",
              "      <td>16</td>\n",
              "      <td>0.241067</td>\n",
              "      <td>0.160027</td>\n",
              "      <td>9513</td>\n",
              "      <td>10000</td>\n",
              "      <td>7.743759</td>\n",
              "    </tr>\n",
              "    <tr>\n",
              "      <th>16</th>\n",
              "      <td>17</td>\n",
              "      <td>0.239481</td>\n",
              "      <td>0.155844</td>\n",
              "      <td>9524</td>\n",
              "      <td>10000</td>\n",
              "      <td>7.449129</td>\n",
              "    </tr>\n",
              "    <tr>\n",
              "      <th>17</th>\n",
              "      <td>18</td>\n",
              "      <td>0.238472</td>\n",
              "      <td>0.156290</td>\n",
              "      <td>9521</td>\n",
              "      <td>10000</td>\n",
              "      <td>7.649972</td>\n",
              "    </tr>\n",
              "    <tr>\n",
              "      <th>18</th>\n",
              "      <td>19</td>\n",
              "      <td>0.238457</td>\n",
              "      <td>0.156804</td>\n",
              "      <td>9520</td>\n",
              "      <td>10000</td>\n",
              "      <td>7.601892</td>\n",
              "    </tr>\n",
              "    <tr>\n",
              "      <th>19</th>\n",
              "      <td>20</td>\n",
              "      <td>0.230660</td>\n",
              "      <td>0.153518</td>\n",
              "      <td>9530</td>\n",
              "      <td>10000</td>\n",
              "      <td>7.751732</td>\n",
              "    </tr>\n",
              "    <tr>\n",
              "      <th>20</th>\n",
              "      <td>21</td>\n",
              "      <td>0.234987</td>\n",
              "      <td>0.152524</td>\n",
              "      <td>9540</td>\n",
              "      <td>10000</td>\n",
              "      <td>7.819755</td>\n",
              "    </tr>\n",
              "    <tr>\n",
              "      <th>21</th>\n",
              "      <td>22</td>\n",
              "      <td>0.232256</td>\n",
              "      <td>0.155853</td>\n",
              "      <td>9531</td>\n",
              "      <td>10000</td>\n",
              "      <td>7.848339</td>\n",
              "    </tr>\n",
              "    <tr>\n",
              "      <th>22</th>\n",
              "      <td>23</td>\n",
              "      <td>0.228381</td>\n",
              "      <td>0.155742</td>\n",
              "      <td>9514</td>\n",
              "      <td>10000</td>\n",
              "      <td>7.921079</td>\n",
              "    </tr>\n",
              "    <tr>\n",
              "      <th>23</th>\n",
              "      <td>24</td>\n",
              "      <td>0.229251</td>\n",
              "      <td>0.156047</td>\n",
              "      <td>9505</td>\n",
              "      <td>10000</td>\n",
              "      <td>7.969275</td>\n",
              "    </tr>\n",
              "    <tr>\n",
              "      <th>24</th>\n",
              "      <td>25</td>\n",
              "      <td>0.226772</td>\n",
              "      <td>0.150544</td>\n",
              "      <td>9551</td>\n",
              "      <td>10000</td>\n",
              "      <td>7.898954</td>\n",
              "    </tr>\n",
              "    <tr>\n",
              "      <th>25</th>\n",
              "      <td>26</td>\n",
              "      <td>0.225146</td>\n",
              "      <td>0.150173</td>\n",
              "      <td>9547</td>\n",
              "      <td>10000</td>\n",
              "      <td>7.530386</td>\n",
              "    </tr>\n",
              "    <tr>\n",
              "      <th>26</th>\n",
              "      <td>27</td>\n",
              "      <td>0.227765</td>\n",
              "      <td>0.151731</td>\n",
              "      <td>9540</td>\n",
              "      <td>10000</td>\n",
              "      <td>8.309177</td>\n",
              "    </tr>\n",
              "    <tr>\n",
              "      <th>27</th>\n",
              "      <td>28</td>\n",
              "      <td>0.225098</td>\n",
              "      <td>0.152131</td>\n",
              "      <td>9548</td>\n",
              "      <td>10000</td>\n",
              "      <td>7.928070</td>\n",
              "    </tr>\n",
              "    <tr>\n",
              "      <th>28</th>\n",
              "      <td>29</td>\n",
              "      <td>0.221652</td>\n",
              "      <td>0.151058</td>\n",
              "      <td>9549</td>\n",
              "      <td>10000</td>\n",
              "      <td>7.809933</td>\n",
              "    </tr>\n",
              "    <tr>\n",
              "      <th>29</th>\n",
              "      <td>30</td>\n",
              "      <td>0.219905</td>\n",
              "      <td>0.144245</td>\n",
              "      <td>9569</td>\n",
              "      <td>10000</td>\n",
              "      <td>7.952228</td>\n",
              "    </tr>\n",
              "    <tr>\n",
              "      <th>...</th>\n",
              "      <td>...</td>\n",
              "      <td>...</td>\n",
              "      <td>...</td>\n",
              "      <td>...</td>\n",
              "      <td>...</td>\n",
              "      <td>...</td>\n",
              "    </tr>\n",
              "    <tr>\n",
              "      <th>70</th>\n",
              "      <td>71</td>\n",
              "      <td>0.196526</td>\n",
              "      <td>0.148501</td>\n",
              "      <td>9545</td>\n",
              "      <td>10000</td>\n",
              "      <td>7.725303</td>\n",
              "    </tr>\n",
              "    <tr>\n",
              "      <th>71</th>\n",
              "      <td>72</td>\n",
              "      <td>0.197695</td>\n",
              "      <td>0.145592</td>\n",
              "      <td>9559</td>\n",
              "      <td>10000</td>\n",
              "      <td>8.343373</td>\n",
              "    </tr>\n",
              "    <tr>\n",
              "      <th>72</th>\n",
              "      <td>73</td>\n",
              "      <td>0.197872</td>\n",
              "      <td>0.147750</td>\n",
              "      <td>9574</td>\n",
              "      <td>10000</td>\n",
              "      <td>8.133776</td>\n",
              "    </tr>\n",
              "    <tr>\n",
              "      <th>73</th>\n",
              "      <td>74</td>\n",
              "      <td>0.197234</td>\n",
              "      <td>0.146930</td>\n",
              "      <td>9553</td>\n",
              "      <td>10000</td>\n",
              "      <td>8.226058</td>\n",
              "    </tr>\n",
              "    <tr>\n",
              "      <th>74</th>\n",
              "      <td>75</td>\n",
              "      <td>0.194730</td>\n",
              "      <td>0.147326</td>\n",
              "      <td>9561</td>\n",
              "      <td>10000</td>\n",
              "      <td>8.075005</td>\n",
              "    </tr>\n",
              "    <tr>\n",
              "      <th>75</th>\n",
              "      <td>76</td>\n",
              "      <td>0.192790</td>\n",
              "      <td>0.143966</td>\n",
              "      <td>9575</td>\n",
              "      <td>10000</td>\n",
              "      <td>7.731289</td>\n",
              "    </tr>\n",
              "    <tr>\n",
              "      <th>76</th>\n",
              "      <td>77</td>\n",
              "      <td>0.192640</td>\n",
              "      <td>0.149409</td>\n",
              "      <td>9560</td>\n",
              "      <td>10000</td>\n",
              "      <td>8.236305</td>\n",
              "    </tr>\n",
              "    <tr>\n",
              "      <th>77</th>\n",
              "      <td>78</td>\n",
              "      <td>0.194029</td>\n",
              "      <td>0.150779</td>\n",
              "      <td>9542</td>\n",
              "      <td>10000</td>\n",
              "      <td>7.865428</td>\n",
              "    </tr>\n",
              "    <tr>\n",
              "      <th>78</th>\n",
              "      <td>79</td>\n",
              "      <td>0.196597</td>\n",
              "      <td>0.142171</td>\n",
              "      <td>9569</td>\n",
              "      <td>10000</td>\n",
              "      <td>7.857145</td>\n",
              "    </tr>\n",
              "    <tr>\n",
              "      <th>79</th>\n",
              "      <td>80</td>\n",
              "      <td>0.192058</td>\n",
              "      <td>0.142334</td>\n",
              "      <td>9577</td>\n",
              "      <td>10000</td>\n",
              "      <td>7.927725</td>\n",
              "    </tr>\n",
              "    <tr>\n",
              "      <th>80</th>\n",
              "      <td>81</td>\n",
              "      <td>0.189368</td>\n",
              "      <td>0.140902</td>\n",
              "      <td>9580</td>\n",
              "      <td>10000</td>\n",
              "      <td>7.861316</td>\n",
              "    </tr>\n",
              "    <tr>\n",
              "      <th>81</th>\n",
              "      <td>82</td>\n",
              "      <td>0.192028</td>\n",
              "      <td>0.142610</td>\n",
              "      <td>9561</td>\n",
              "      <td>10000</td>\n",
              "      <td>8.362408</td>\n",
              "    </tr>\n",
              "    <tr>\n",
              "      <th>82</th>\n",
              "      <td>83</td>\n",
              "      <td>0.192885</td>\n",
              "      <td>0.145287</td>\n",
              "      <td>9570</td>\n",
              "      <td>10000</td>\n",
              "      <td>7.873674</td>\n",
              "    </tr>\n",
              "    <tr>\n",
              "      <th>83</th>\n",
              "      <td>84</td>\n",
              "      <td>0.195332</td>\n",
              "      <td>0.144589</td>\n",
              "      <td>9574</td>\n",
              "      <td>10000</td>\n",
              "      <td>7.918109</td>\n",
              "    </tr>\n",
              "    <tr>\n",
              "      <th>84</th>\n",
              "      <td>85</td>\n",
              "      <td>0.190568</td>\n",
              "      <td>0.145003</td>\n",
              "      <td>9558</td>\n",
              "      <td>10000</td>\n",
              "      <td>7.926193</td>\n",
              "    </tr>\n",
              "    <tr>\n",
              "      <th>85</th>\n",
              "      <td>86</td>\n",
              "      <td>0.191523</td>\n",
              "      <td>0.147349</td>\n",
              "      <td>9555</td>\n",
              "      <td>10000</td>\n",
              "      <td>7.843411</td>\n",
              "    </tr>\n",
              "    <tr>\n",
              "      <th>86</th>\n",
              "      <td>87</td>\n",
              "      <td>0.191348</td>\n",
              "      <td>0.144101</td>\n",
              "      <td>9572</td>\n",
              "      <td>10000</td>\n",
              "      <td>8.186501</td>\n",
              "    </tr>\n",
              "    <tr>\n",
              "      <th>87</th>\n",
              "      <td>88</td>\n",
              "      <td>0.193132</td>\n",
              "      <td>0.145013</td>\n",
              "      <td>9562</td>\n",
              "      <td>10000</td>\n",
              "      <td>7.836302</td>\n",
              "    </tr>\n",
              "    <tr>\n",
              "      <th>88</th>\n",
              "      <td>89</td>\n",
              "      <td>0.190814</td>\n",
              "      <td>0.146525</td>\n",
              "      <td>9550</td>\n",
              "      <td>10000</td>\n",
              "      <td>7.705874</td>\n",
              "    </tr>\n",
              "    <tr>\n",
              "      <th>89</th>\n",
              "      <td>90</td>\n",
              "      <td>0.191983</td>\n",
              "      <td>0.146322</td>\n",
              "      <td>9564</td>\n",
              "      <td>10000</td>\n",
              "      <td>8.068844</td>\n",
              "    </tr>\n",
              "    <tr>\n",
              "      <th>90</th>\n",
              "      <td>91</td>\n",
              "      <td>0.187114</td>\n",
              "      <td>0.140642</td>\n",
              "      <td>9582</td>\n",
              "      <td>10000</td>\n",
              "      <td>7.805223</td>\n",
              "    </tr>\n",
              "    <tr>\n",
              "      <th>91</th>\n",
              "      <td>92</td>\n",
              "      <td>0.194622</td>\n",
              "      <td>0.143083</td>\n",
              "      <td>9587</td>\n",
              "      <td>10000</td>\n",
              "      <td>7.792501</td>\n",
              "    </tr>\n",
              "    <tr>\n",
              "      <th>92</th>\n",
              "      <td>93</td>\n",
              "      <td>0.190948</td>\n",
              "      <td>0.147248</td>\n",
              "      <td>9563</td>\n",
              "      <td>10000</td>\n",
              "      <td>7.691107</td>\n",
              "    </tr>\n",
              "    <tr>\n",
              "      <th>93</th>\n",
              "      <td>94</td>\n",
              "      <td>0.192584</td>\n",
              "      <td>0.140690</td>\n",
              "      <td>9574</td>\n",
              "      <td>10000</td>\n",
              "      <td>7.601056</td>\n",
              "    </tr>\n",
              "    <tr>\n",
              "      <th>94</th>\n",
              "      <td>95</td>\n",
              "      <td>0.190534</td>\n",
              "      <td>0.141526</td>\n",
              "      <td>9569</td>\n",
              "      <td>10000</td>\n",
              "      <td>8.073773</td>\n",
              "    </tr>\n",
              "    <tr>\n",
              "      <th>95</th>\n",
              "      <td>96</td>\n",
              "      <td>0.191047</td>\n",
              "      <td>0.143724</td>\n",
              "      <td>9569</td>\n",
              "      <td>10000</td>\n",
              "      <td>7.925585</td>\n",
              "    </tr>\n",
              "    <tr>\n",
              "      <th>96</th>\n",
              "      <td>97</td>\n",
              "      <td>0.192336</td>\n",
              "      <td>0.138875</td>\n",
              "      <td>9576</td>\n",
              "      <td>10000</td>\n",
              "      <td>7.978878</td>\n",
              "    </tr>\n",
              "    <tr>\n",
              "      <th>97</th>\n",
              "      <td>98</td>\n",
              "      <td>0.187329</td>\n",
              "      <td>0.143542</td>\n",
              "      <td>9568</td>\n",
              "      <td>10000</td>\n",
              "      <td>7.746755</td>\n",
              "    </tr>\n",
              "    <tr>\n",
              "      <th>98</th>\n",
              "      <td>99</td>\n",
              "      <td>0.189254</td>\n",
              "      <td>0.145394</td>\n",
              "      <td>9566</td>\n",
              "      <td>10000</td>\n",
              "      <td>7.774829</td>\n",
              "    </tr>\n",
              "    <tr>\n",
              "      <th>99</th>\n",
              "      <td>100</td>\n",
              "      <td>0.187061</td>\n",
              "      <td>0.142057</td>\n",
              "      <td>9577</td>\n",
              "      <td>10000</td>\n",
              "      <td>7.673164</td>\n",
              "    </tr>\n",
              "  </tbody>\n",
              "</table>\n",
              "<p>100 rows \u00d7 6 columns</p>\n",
              "</div>"
            ],
            "text/plain": [
              "    epoch  train_loss  test_loss  accuracy  n_test       time\n",
              "0       1    0.494527   0.253278      9245   10000  13.551054\n",
              "1       2    0.338234   0.215682      9357   10000   7.502503\n",
              "2       3    0.313669   0.200523      9386   10000   7.816235\n",
              "3       4    0.299771   0.192725      9427   10000   7.671069\n",
              "4       5    0.289576   0.187909      9429   10000   7.998625\n",
              "5       6    0.280034   0.183928      9459   10000   7.723974\n",
              "6       7    0.271956   0.181222      9460   10000   7.626516\n",
              "7       8    0.267716   0.176355      9454   10000   7.825798\n",
              "8       9    0.261895   0.171745      9506   10000   7.468393\n",
              "9      10    0.259575   0.163313      9522   10000   7.642768\n",
              "10     11    0.256912   0.164548      9516   10000   7.730207\n",
              "11     12    0.252907   0.165133      9513   10000   7.807777\n",
              "12     13    0.247821   0.161450      9505   10000   7.365123\n",
              "13     14    0.245158   0.154792      9535   10000   7.691522\n",
              "14     15    0.246256   0.155270      9528   10000   7.755370\n",
              "15     16    0.241067   0.160027      9513   10000   7.743759\n",
              "16     17    0.239481   0.155844      9524   10000   7.449129\n",
              "17     18    0.238472   0.156290      9521   10000   7.649972\n",
              "18     19    0.238457   0.156804      9520   10000   7.601892\n",
              "19     20    0.230660   0.153518      9530   10000   7.751732\n",
              "20     21    0.234987   0.152524      9540   10000   7.819755\n",
              "21     22    0.232256   0.155853      9531   10000   7.848339\n",
              "22     23    0.228381   0.155742      9514   10000   7.921079\n",
              "23     24    0.229251   0.156047      9505   10000   7.969275\n",
              "24     25    0.226772   0.150544      9551   10000   7.898954\n",
              "25     26    0.225146   0.150173      9547   10000   7.530386\n",
              "26     27    0.227765   0.151731      9540   10000   8.309177\n",
              "27     28    0.225098   0.152131      9548   10000   7.928070\n",
              "28     29    0.221652   0.151058      9549   10000   7.809933\n",
              "29     30    0.219905   0.144245      9569   10000   7.952228\n",
              "..    ...         ...        ...       ...     ...        ...\n",
              "70     71    0.196526   0.148501      9545   10000   7.725303\n",
              "71     72    0.197695   0.145592      9559   10000   8.343373\n",
              "72     73    0.197872   0.147750      9574   10000   8.133776\n",
              "73     74    0.197234   0.146930      9553   10000   8.226058\n",
              "74     75    0.194730   0.147326      9561   10000   8.075005\n",
              "75     76    0.192790   0.143966      9575   10000   7.731289\n",
              "76     77    0.192640   0.149409      9560   10000   8.236305\n",
              "77     78    0.194029   0.150779      9542   10000   7.865428\n",
              "78     79    0.196597   0.142171      9569   10000   7.857145\n",
              "79     80    0.192058   0.142334      9577   10000   7.927725\n",
              "80     81    0.189368   0.140902      9580   10000   7.861316\n",
              "81     82    0.192028   0.142610      9561   10000   8.362408\n",
              "82     83    0.192885   0.145287      9570   10000   7.873674\n",
              "83     84    0.195332   0.144589      9574   10000   7.918109\n",
              "84     85    0.190568   0.145003      9558   10000   7.926193\n",
              "85     86    0.191523   0.147349      9555   10000   7.843411\n",
              "86     87    0.191348   0.144101      9572   10000   8.186501\n",
              "87     88    0.193132   0.145013      9562   10000   7.836302\n",
              "88     89    0.190814   0.146525      9550   10000   7.705874\n",
              "89     90    0.191983   0.146322      9564   10000   8.068844\n",
              "90     91    0.187114   0.140642      9582   10000   7.805223\n",
              "91     92    0.194622   0.143083      9587   10000   7.792501\n",
              "92     93    0.190948   0.147248      9563   10000   7.691107\n",
              "93     94    0.192584   0.140690      9574   10000   7.601056\n",
              "94     95    0.190534   0.141526      9569   10000   8.073773\n",
              "95     96    0.191047   0.143724      9569   10000   7.925585\n",
              "96     97    0.192336   0.138875      9576   10000   7.978878\n",
              "97     98    0.187329   0.143542      9568   10000   7.746755\n",
              "98     99    0.189254   0.145394      9566   10000   7.774829\n",
              "99    100    0.187061   0.142057      9577   10000   7.673164\n",
              "\n",
              "[100 rows x 6 columns]"
            ]
          },
          "execution_count": 12,
          "metadata": {},
          "output_type": "execute_result"
        }
      ],
      "source": [
        "df_perfs = pd.DataFrame(perfs, columns=[\"epoch\", \"train_loss\", \"test_loss\", \"accuracy\", \"n_test\", \"time\"])\n",
        "df_perfs"
      ]
    },
    {
      "cell_type": "code",
      "execution_count": 12,
      "metadata": {},
      "outputs": [
        {
          "data": {
            "image/png": "[encoded data removed]",
            "text/plain": [
              "<matplotlib.figure.Figure at 0x7f0ad4901d68>"
            ]
          },
          "metadata": {},
          "output_type": "display_data"
        }
      ],
      "source": [
        "df_perfs[[\"train_loss\", \"test_loss\"]].plot();"
      ]
    },
    {
      "cell_type": "code",
      "execution_count": 13,
      "metadata": {},
      "outputs": [
        {
          "data": {
            "image/png": "[encoded data removed]",
            "text/plain": [
              "<matplotlib.figure.Figure at 0x7f0ad4837208>"
            ]
          },
          "metadata": {},
          "output_type": "display_data"
        }
      ],
      "source": [
        "df_perfs[[\"train_loss\", \"test_loss\"]].plot(ylim=(0, 0.2));"
      ]
    },
    {
      "cell_type": "code",
      "execution_count": 14,
      "metadata": {
        "collapsed": true
      },
      "outputs": [],
      "source": []
    }
  ],
  "metadata": {
    "kernelspec": {
      "display_name": "Python 3",
      "language": "python",
      "name": "python3"
    },
    "language_info": {
      "codemirror_mode": {
        "name": "ipython",
        "version": 3
      },
      "file_extension": ".py",
      "mimetype": "text/x-python",
      "name": "python",
      "nbconvert_exporter": "python",
      "pygments_lexer": "ipython3",
      "version": "3.6.1"
    }
  },
  "nbformat": 4,
  "nbformat_minor": 2
}