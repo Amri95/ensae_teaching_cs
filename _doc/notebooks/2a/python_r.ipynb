{
  "cells": [
    {
      "cell_type": "markdown",
      "metadata": {},
      "source": [
        "# 2A.soft - R et notebooks\n",
        "\n",
        "Ex\u00e9cuter du code [R](https://cran.r-project.org/) depuis un notebook python avec le module [rpy2](https://rpy2.readthedocs.io/en/version_2.8.x/)."
      ]
    },
    {
      "cell_type": "markdown",
      "metadata": {},
      "source": [
        "<!--RST ..index:: R !RST-->\n",
        "\n",
        "Tout d'abord, il faut ajouter les variables d'environnement suivantes et si besoin relancer le notebook pour que les modifications soient prises en compte. Il faut mettre \u00e0 jour ce code en fonction de la version R install\u00e9e. Elle doit correspondre \u00e0 celle utilis\u00e9e pour cr\u00e9er le package *rpy2*."
      ]
    },
    {
      "cell_type": "code",
      "execution_count": null,
      "metadata": {
        "collapsed": true
      },
      "outputs": [],
      "source": [
        "import os, sys\n",
        "if sys.platform.startswith(\"win\"):\n",
        "    if os.environ.get(\"R_LIBS_USER\") is None:\n",
        "        os.environ[\"R_LIBS_USER\"] = os.path.join(os.environ[\"USERPROFILE\"], \"Documents\")\n",
        "    if os.environ.get(\"R_USER\") is None:\n",
        "        os.environ[\"R_USER\"] = os.path.join(os.environ[\"USERPROFILE\"], \"Documents\")"
      ]
    },
    {
      "cell_type": "code",
      "execution_count": null,
      "metadata": {},
      "outputs": [
        {
          "name": "stdout",
          "output_type": "stream",
          "text": [
            "local version: ['R-3.3.3']\n",
            "['R_HOME is empty, example: C:\\\\Program Files\\\\R\\\\R-3.3.3', '%USERPROFILE%\\\\Documents', '%USERPROFILE%\\\\Documents']\n"
          ]
        }
      ],
      "source": [
        "import os, sys\n",
        "if sys.platform.startswith(\"win\"):\n",
        "    print(\"local version:\", os.listdir(r\"C:\\Program Files\\R\"))\n",
        "    version = os.listdir(r\"C:\\Program Files\\R\")[-1]\n",
        "    p = [ os.environ.get(\"R_HOME\", \"R_HOME is empty, example: C:\\\\Program Files\\\\R\\\\R-3.3.3\"), \n",
        "          os.environ.get (\"R_LIBS_USER\", \"R_LIBS_USER is empty, example: %USERPROFILE%\\\\Documents\"), \n",
        "          os.environ.get (\"R_USER\", \"R_USER is empty, example: %USERPROFILE%\\\\Documents\") ]\n",
        "    print([ _.replace(os.environ[\"USERPROFILE\"],\"%USERPROFILE%\") for _ in p ])\n",
        "    ok = [_ for _ in p if version in _]\n",
        "    if len(ok) == 0:\n",
        "        raise Exception(\"version '{0}' not found in {1}\".format(version, p))"
      ]
    },
    {
      "cell_type": "markdown",
      "metadata": {},
      "source": [
        "Un autre petit pr\u00e9liminaire aga\u00e7ant sur Windows. Lorsqu'on ex\u00e9cute l'instruction ``%load_ext rpy2.ipython`` ou ``import win32api``, on obtient parfois l'exception ``ImportError: DLL load failed: Le module sp\u00e9cifi\u00e9 est introuvable.`` Ceci explique la pr\u00e9sence des deux premi\u00e8res lignes du code qui suit."
      ]
    },
    {
      "cell_type": "code",
      "execution_count": null,
      "metadata": {},
      "outputs": [
        {
          "data": {
            "text/plain": [
              "'2.8.6'"
            ]
          },
          "execution_count": null,
          "metadata": {},
          "output_type": "execute_result"
        }
      ],
      "source": [
        "from pyquickhelper.helpgen.utils_pywin32 import import_pywin32\n",
        "import_pywin32()\n",
        "import rpy2\n",
        "rpy2.__version__"
      ]
    },
    {
      "cell_type": "code",
      "execution_count": null,
      "metadata": {},
      "outputs": [
        {
          "data": {
            "text/plain": [
              "('3', '3.3', '', 72310)"
            ]
          },
          "execution_count": null,
          "metadata": {},
          "output_type": "execute_result"
        }
      ],
      "source": [
        "from rpy2.rinterface import R_VERSION_BUILD\n",
        "R_VERSION_BUILD"
      ]
    },
    {
      "cell_type": "code",
      "execution_count": null,
      "metadata": {},
      "outputs": [],
      "source": [
        "%load_ext rpy2.ipython  "
      ]
    },
    {
      "cell_type": "code",
      "execution_count": null,
      "metadata": {
        "collapsed": true
      },
      "outputs": [],
      "source": [
        "%%R -o x\n",
        "\n",
        "x <- version"
      ]
    },
    {
      "cell_type": "code",
      "execution_count": null,
      "metadata": {},
      "outputs": [
        {
          "name": "stdout",
          "output_type": "stream",
          "text": [
            "[1] \"x86_64-w64-mingw32\"\n",
            "\n",
            "[1] \"x86_64\"\n",
            "\n",
            "[1] \"mingw32\"\n",
            "\n",
            "[1] \"x86_64, mingw32\"\n",
            "\n",
            "[1] \"\"\n",
            "\n",
            "[1] \"3\"\n",
            "\n",
            "[1] \"3.3\"\n",
            "\n",
            "[1] \"2017\"\n",
            "\n",
            "[1] \"03\"\n",
            "\n",
            "[1] \"06\"\n",
            "\n",
            "[1] \"72310\"\n",
            "\n",
            "[1] \"R\"\n",
            "\n",
            "[1] \"R version 3.3.3 (2017-03-06)\"\n",
            "\n",
            "[1] \"Another Canoe\"\n",
            "\n"
          ]
        }
      ],
      "source": [
        "for _ in x:\n",
        "    print(_)"
      ]
    },
    {
      "cell_type": "markdown",
      "metadata": {},
      "source": [
        "Ce notebook utilise les outils pr\u00e9sent\u00e9s ici : [rmagic](http://rpy2.readthedocs.io/en/version_2.7.x/interactive.html?highlight=rmagic)."
      ]
    },
    {
      "cell_type": "markdown",
      "metadata": {},
      "source": [
        "**Important :** sous Windows, le module [rpy2](http://rpy2.readthedocs.io/en/) est habituellement install\u00e9 avec un setup (voir [setup pour rpy2](http://www.lfd.uci.edu/~gohlke/pythonlibs/#rpy2)). Il est compil\u00e9 pour une version sp\u00e9cifique de Python et une version sp\u00e9cifique de R qui doit \u00eatre install\u00e9e. Des erreurs se produisent si les versions ne correspondent pas.\n",
        "\n",
        "On cherche \u00e0 ex\u00e9cuter le code propos\u00e9 ici : [Convolution(s) et lois compos\u00e9es, aspects num\u00e9riques](http://freakonometrics.hypotheses.org/1813) qui requiert la librairie [actuar](http://cran.r-project.org/web/packages/actuar/index.html) qu'il faut installer si cela n'a pas \u00e9t\u00e9 fait.\n",
        "\n",
        "Le code suivant d\u00e9finit le source de t\u00e9l\u00e9chargement par d\u00e9faut pour les packages R de fa\u00e7on \u00e0 \u00e9viter l'affichage d'une fen\u00eatre popup poru le choisir (voir [Installing R packages](http://www.r-bloggers.com/installing-r-packages/))."
      ]
    },
    {
      "cell_type": "code",
      "execution_count": null,
      "metadata": {},
      "outputs": [],
      "source": [
        "%%R\n",
        "cat(\".Rprofile: Setting UK repository\")\n",
        "r = getOption(\"repos\") \n",
        "r[\"CRAN\"] = \"http://cran.uk.r-project.org\"\n",
        "options(repos = r)\n",
        "rm(r)"
      ]
    },
    {
      "cell_type": "markdown",
      "metadata": {},
      "source": [
        "Le code suivant installe effectivement le package. On peut v\u00e9rifier que le package est disponible pour la version de R consid\u00e9r\u00e9e : [actuar](https://cran.r-project.org/web/packages/actuar/index.html)."
      ]
    },
    {
      "cell_type": "code",
      "execution_count": null,
      "metadata": {},
      "outputs": [],
      "source": [
        "%%R\n",
        "# install.packages(\"actuar\", quiet=TRUE)\n",
        "install.packages('actuar')"
      ]
    },
    {
      "cell_type": "markdown",
      "metadata": {},
      "source": [
        "Cette commande a l'inconv\u00e9nient d'ouvrir une fen\u00eatre pop up pour s\u00e9lectionner le site du t\u00e9l\u00e9chargement du package. Cela ne fonctionnera pas sur un serveur de notebook. Certaines des commandes suivantes peuvent \u00e9chouer pour les m\u00eames raisons. On peut v\u00e9rifier que l'import du package a fonctionn\u00e9 avec le programme suivant :"
      ]
    },
    {
      "cell_type": "code",
      "execution_count": null,
      "metadata": {},
      "outputs": [
        {
          "data": {
            "image/png": "[encoded data removed]"
          },
          "metadata": {},
          "output_type": "display_data"
        }
      ],
      "source": [
        "%%R -o fx,x\n",
        "library(\"actuar\")\n",
        "fx <- c(0, 0.15, 0.2, 0.25, 0.125, 0.075, 0.05, 0.05, 0.05, 0.025, 0.025)\n",
        "pn <- c(0.05, 0.1, 0.15, 0.2, 0.25, 0.15, 0.06, 0.03, 0.01)\n",
        "Fs <- aggregateDist(\"convolution\", model.freq = pn, model.sev = fx, x.scale = 25)\n",
        "x <- c(Fs(0), diff(Fs(25 * 0:21)))\n",
        "print(summary(fx))\n",
        "plot(Fs)"
      ]
    },
    {
      "cell_type": "markdown",
      "metadata": {},
      "source": [
        "On peut extraire la variable ``x`` :"
      ]
    },
    {
      "cell_type": "code",
      "execution_count": null,
      "metadata": {},
      "outputs": [
        {
          "data": {
            "text/plain": [
              "array([ 0.05      ,  0.015     ,  0.023375  ,  0.034675  ,  0.03257656,\n",
              "        0.03578639,  0.03980787,  0.04356232,  0.047518  ,  0.0490338 ,\n",
              "        0.05189806,  0.05137886,  0.05118691,  0.05030486,  0.04818189,\n",
              "        0.04575882,  0.0428089 ,  0.03937836,  0.03574568,  0.03196808,\n",
              "        0.02832446,  0.02478833])"
            ]
          },
          "execution_count": null,
          "metadata": {},
          "output_type": "execute_result"
        }
      ],
      "source": [
        "%Rget x"
      ]
    },
    {
      "cell_type": "markdown",
      "metadata": {},
      "source": [
        "Quelques notebooks \u00e0 lire pour aller plus loin :\n",
        "\n",
        "* [Four issues I had when using IPython, R and rmagic](http://www.xavierdupre.fr/blog/2014-09-07_nojs.html)\n",
        "* [Example of using ggplot2 from Jupyter notebook](http://nbviewer.jupyter.org/gist/yoavram/5280132)\n",
        "* [Rmagic Functions Extension](http://nbviewer.jupyter.org/github/jupyter/jupyter/blob/3607712653c66d63e0d7f13f073bde8c0f209ba8/docs/examples/notebooks/rmagic_extension.ipynb)\n",
        "\n",
        "On peut sauver son workspace et le r\u00e9cup\u00e9rer sous R si besoin."
      ]
    },
    {
      "cell_type": "code",
      "execution_count": null,
      "metadata": {},
      "outputs": [],
      "source": [
        "%%R\n",
        "save.image(\"C:\\\\temp\\\\python2.RData\")"
      ]
    },
    {
      "cell_type": "markdown",
      "metadata": {},
      "source": [
        "On peut \u00e9galement diriger la sortie standard dans un fichier texte pour voir ce qu'il s'y passe."
      ]
    },
    {
      "cell_type": "code",
      "execution_count": null,
      "metadata": {},
      "outputs": [],
      "source": [
        "%%R\n",
        "\n",
        "zz <- file(\"C:\\\\temp\\\\rlog.txt\", open = \"wt\");\n",
        "sink(zz);\n",
        "sink(zz, type = \"message\");"
      ]
    },
    {
      "cell_type": "code",
      "execution_count": null,
      "metadata": {},
      "outputs": [
        {
          "name": "stdout",
          "output_type": "stream",
          "text": [
            "The pyensae extension is already loaded. To reload it, use:\n",
            "  %reload_ext pyensae\n"
          ]
        }
      ],
      "source": [
        "%load_ext pyensae"
      ]
    },
    {
      "cell_type": "code",
      "execution_count": null,
      "metadata": {},
      "outputs": [
        {
          "data": {
            "text/html": [
              "<pre>\n",
              "\n",
              "</pre>"
            ],
            "text/plain": [
              "<IPython.core.display.HTML object>"
            ]
          },
          "execution_count": null,
          "metadata": {},
          "output_type": "execute_result"
        }
      ],
      "source": [
        "%tail c:/temp/rlog.txt"
      ]
    },
    {
      "cell_type": "code",
      "execution_count": null,
      "metadata": {
        "collapsed": true
      },
      "outputs": [],
      "source": []
    },
    {
      "cell_type": "code",
      "execution_count": null,
      "metadata": {
        "collapsed": true
      },
      "outputs": [],
      "source": []
    }
  ],
  "metadata": {
    "kernelspec": {
      "display_name": "Python 3",
      "language": "python",
      "name": "python3"
    },
    "language_info": {
      "codemirror_mode": {
        "name": "ipython",
        "version": 3
      },
      "file_extension": ".py",
      "mimetype": "text/x-python",
      "name": "python",
      "nbconvert_exporter": "python",
      "pygments_lexer": "ipython3",
      "version": "3.6.1"
    }
  },
  "nbformat": 4,
  "nbformat_minor": 1
}