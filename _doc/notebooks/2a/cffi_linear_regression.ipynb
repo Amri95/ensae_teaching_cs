{
  "cells": [
    {
      "cell_type": "markdown",
      "metadata": {},
      "source": [
        "# Optimisation de code avec cffi, numba, cython\n",
        "\n",
        "L'id\u00e9e est de recoder une fonction en C. On prend comme exemple la fonction de pr\u00e9diction de la r\u00e9gression lin\u00e9aire de [scikit-learn](http://scikit-learn.org/stable/modules/generated/sklearn.linear_model.LinearRegression.html) et de pr\u00e9voir le gain de temps qu'on obtient en recodant la fonction dans un langage plus rapide."
      ]
    },
    {
      "cell_type": "code",
      "execution_count": 1,
      "metadata": {},
      "outputs": [
        {
          "data": {
            "text/html": [
              "<div id=\"my_id_menu_nb\">run previous cell, wait for 2 seconds</div>\n",
              "<script>\n",
              "function repeat_indent_string(n){\n",
              "    var a = \"\" ;\n",
              "    for ( ; n > 0 ; --n)\n",
              "        a += \"    \";\n",
              "    return a;\n",
              "}\n",
              "// look up into all sections and builds an automated menu //\n",
              "var update_menu_string = function(begin, lfirst, llast, sformat, send, keep_item, begin_format, end_format) {\n",
              "    var anchors = document.getElementsByClassName(\"section\");\n",
              "    if (anchors.length == 0) {\n",
              "        anchors = document.getElementsByClassName(\"text_cell_render rendered_html\");\n",
              "    }\n",
              "    var i,t;\n",
              "    var text_menu = begin;\n",
              "    var text_memo = \"<pre>\\nlength:\" + anchors.length + \"\\n\";\n",
              "    var ind = \"\";\n",
              "    var memo_level = 1;\n",
              "    var href;\n",
              "    var tags = [];\n",
              "    var main_item = 0;\n",
              "    var format_open = 0;\n",
              "    for (i = 0; i <= llast; i++)\n",
              "        tags.push(\"h\" + i);\n",
              "\n",
              "    for (i = 0; i < anchors.length; i++) {\n",
              "        text_memo += \"**\" + anchors[i].id + \"--\\n\";\n",
              "\n",
              "        var child = null;\n",
              "        for(t = 0; t < tags.length; t++) {\n",
              "            var r = anchors[i].getElementsByTagName(tags[t]);\n",
              "            if (r.length > 0) {\n",
              "child = r[0];\n",
              "break;\n",
              "            }\n",
              "        }\n",
              "        if (child == null) {\n",
              "            text_memo += \"null\\n\";\n",
              "            continue;\n",
              "        }\n",
              "        if (anchors[i].hasAttribute(\"id\")) {\n",
              "            // when converted in RST\n",
              "            href = anchors[i].id;\n",
              "            text_memo += \"#1-\" + href;\n",
              "            // passer \u00e0 child suivant (le chercher)\n",
              "        }\n",
              "        else if (child.hasAttribute(\"id\")) {\n",
              "            // in a notebook\n",
              "            href = child.id;\n",
              "            text_memo += \"#2-\" + href;\n",
              "        }\n",
              "        else {\n",
              "            text_memo += \"#3-\" + \"*\" + \"\\n\";\n",
              "            continue;\n",
              "        }\n",
              "        var title = child.textContent;\n",
              "        var level = parseInt(child.tagName.substring(1,2));\n",
              "\n",
              "        text_memo += \"--\" + level + \"?\" + lfirst + \"--\" + title + \"\\n\";\n",
              "\n",
              "        if ((level < lfirst) || (level > llast)) {\n",
              "            continue ;\n",
              "        }\n",
              "        if (title.endsWith('\u00b6')) {\n",
              "            title = title.substring(0,title.length-1).replace(\"<\", \"&lt;\")\n",
              "         .replace(\">\", \"&gt;\").replace(\"&\", \"&amp;\");\n",
              "        }\n",
              "        if (title.length == 0) {\n",
              "            continue;\n",
              "        }\n",
              "\n",
              "        while (level < memo_level) {\n",
              "            text_menu += end_format + \"</ul>\\n\";\n",
              "            format_open -= 1;\n",
              "            memo_level -= 1;\n",
              "        }\n",
              "        if (level == lfirst) {\n",
              "            main_item += 1;\n",
              "        }\n",
              "        if (keep_item != -1 && main_item != keep_item + 1) {\n",
              "            // alert(main_item + \" - \" + level + \" - \" + keep_item);\n",
              "            continue;\n",
              "        }\n",
              "        while (level > memo_level) {\n",
              "            text_menu += \"<ul>\\n\";\n",
              "            memo_level += 1;\n",
              "        }\n",
              "        text_menu += repeat_indent_string(level-2);\n",
              "        text_menu += begin_format + sformat.replace(\"__HREF__\", href).replace(\"__TITLE__\", title);\n",
              "        format_open += 1;\n",
              "    }\n",
              "    while (1 < memo_level) {\n",
              "        text_menu += end_format + \"</ul>\\n\";\n",
              "        memo_level -= 1;\n",
              "        format_open -= 1;\n",
              "    }\n",
              "    text_menu += send;\n",
              "    //text_menu += \"\\n\" + text_memo;\n",
              "\n",
              "    while (format_open > 0) {\n",
              "        text_menu += end_format;\n",
              "        format_open -= 1;\n",
              "    }\n",
              "    return text_menu;\n",
              "};\n",
              "var update_menu = function() {\n",
              "    var sbegin = \"\";\n",
              "    var sformat = '<a href=\"#__HREF__\">__TITLE__</a>';\n",
              "    var send = \"\";\n",
              "    var begin_format = '<li>';\n",
              "    var end_format = '</li>';\n",
              "    var keep_item = -1;\n",
              "    var text_menu = update_menu_string(sbegin, 2, 4, sformat, send, keep_item,\n",
              "       begin_format, end_format);\n",
              "    var menu = document.getElementById(\"my_id_menu_nb\");\n",
              "    menu.innerHTML=text_menu;\n",
              "};\n",
              "window.setTimeout(update_menu,2000);\n",
              "            </script>"
            ],
            "text/plain": [
              "<IPython.core.display.HTML object>"
            ]
          },
          "execution_count": 2,
          "metadata": {},
          "output_type": "execute_result"
        }
      ],
      "source": [
        "from jyquickhelper import add_notebook_menu\n",
        "add_notebook_menu()"
      ]
    },
    {
      "cell_type": "code",
      "execution_count": 2,
      "metadata": {},
      "outputs": [],
      "source": [
        "memo_time = []\n",
        "import timeit\n",
        "\n",
        "def unit(x):\n",
        "    if x >= 1: return \"%1.2f s\" % x\n",
        "    elif x >= 1e-3: return \"%1.2f ms\" % (x* 1000)\n",
        "    elif x >= 1e-6: return \"%1.2f \u00b5s\" % (x* 1000**2)\n",
        "    elif x >= 1e-9: return \"%1.2f ns\" % (x* 1000**3)\n",
        "    else:\n",
        "        return \"%1.2g s\" % x\n",
        "\n",
        "def timeexe(legend, code, number=100, repeat=1000):\n",
        "    rep = timeit.repeat(code, number=number, repeat=repeat, globals=globals())\n",
        "    ave = sum(rep) / (number * repeat)\n",
        "    std = (sum((x/number - ave)**2 for x in rep) / repeat)**0.5\n",
        "    fir = rep[0]/number\n",
        "    fir3 = sum(rep[:3]) / (3 * number)\n",
        "    las3 = sum(rep[-3:]) / (3 * number)\n",
        "    rep.sort()\n",
        "    mini = rep[len(rep)//20] / number\n",
        "    maxi = rep[-len(rep)//20] / number\n",
        "    print(\"Moyenne: %s Ecart-type %s (with %d runs) in [%s, %s]\" % (\n",
        "                unit(ave), unit(std), number, unit(mini), unit(maxi)))\n",
        "    return dict(legend=legend, average=ave, deviation=std, first=fir, first3=fir3,\n",
        "                last3=las3, repeat=repeat, min5=mini, max5=maxi, code=code, run=number)"
      ]
    },
    {
      "cell_type": "markdown",
      "metadata": {},
      "source": [
        "## R\u00e9gression lin\u00e9aire"
      ]
    },
    {
      "cell_type": "code",
      "execution_count": 3,
      "metadata": {},
      "outputs": [],
      "source": [
        "from sklearn.datasets import load_diabetes\n",
        "diabetes = load_diabetes()\n",
        "diabetes_X_train = diabetes.data[:-20]\n",
        "diabetes_X_test  = diabetes.data[-20:]\n",
        "diabetes_y_train = diabetes.target[:-20]\n",
        "diabetes_y_test  = diabetes.target[-20:]"
      ]
    },
    {
      "cell_type": "code",
      "execution_count": 4,
      "metadata": {},
      "outputs": [
        {
          "data": {
            "text/plain": [
              "LinearRegression(copy_X=True, fit_intercept=True, n_jobs=None,\n",
              "         normalize=False)"
            ]
          },
          "execution_count": 5,
          "metadata": {},
          "output_type": "execute_result"
        }
      ],
      "source": [
        "from sklearn.linear_model import LinearRegression\n",
        "clr = LinearRegression()\n",
        "clr.fit(diabetes_X_train, diabetes_y_train)"
      ]
    },
    {
      "cell_type": "code",
      "execution_count": 5,
      "metadata": {},
      "outputs": [
        {
          "data": {
            "text/plain": [
              "array([ 3.03499549e-01, -2.37639315e+02,  5.10530605e+02,  3.27736980e+02,\n",
              "       -8.14131709e+02,  4.92814588e+02,  1.02848452e+02,  1.84606489e+02,\n",
              "        7.43519617e+02,  7.60951722e+01])"
            ]
          },
          "execution_count": 6,
          "metadata": {},
          "output_type": "execute_result"
        }
      ],
      "source": [
        "clr.coef_"
      ]
    },
    {
      "cell_type": "code",
      "execution_count": 6,
      "metadata": {},
      "outputs": [
        {
          "data": {
            "text/plain": [
              "152.76430691633442"
            ]
          },
          "execution_count": 7,
          "metadata": {},
          "output_type": "execute_result"
        }
      ],
      "source": [
        "clr.intercept_"
      ]
    },
    {
      "cell_type": "code",
      "execution_count": 7,
      "metadata": {},
      "outputs": [
        {
          "name": "stdout",
          "output_type": "stream",
          "text": [
            "Moyenne: 60.98 \u00b5s Ecart-type 15.76 \u00b5s (with 100 runs) in [44.42 \u00b5s, 92.97 \u00b5s]\n"
          ]
        }
      ],
      "source": [
        "z = diabetes_X_test[0:1,:]\n",
        "memo_time.append(timeexe(\"sklearn.predict\", \"clr.predict(z)\"))"
      ]
    },
    {
      "cell_type": "code",
      "execution_count": 8,
      "metadata": {},
      "outputs": [
        {
          "name": "stdout",
          "output_type": "stream",
          "text": [
            "58.3 \u00b5s \u00b1 3.72 \u00b5s per loop (mean \u00b1 std. dev. of 7 runs, 10000 loops each)\n"
          ]
        }
      ],
      "source": [
        "%timeit clr.predict(z)"
      ]
    },
    {
      "cell_type": "markdown",
      "metadata": {},
      "source": [
        "### optimisation avec cffi\n",
        "\n",
        "On s'inspire de l'exemple [Purely for performance (API level, out-of-line)](http://cffi.readthedocs.io/en/latest/overview.html?highlight=example#purely-for-performance-api-level-out-of-line)."
      ]
    },
    {
      "cell_type": "code",
      "execution_count": 9,
      "metadata": {
        "scrolled": false
      },
      "outputs": [
        {
          "name": "stdout",
          "output_type": "stream",
          "text": [
            "generating .\\_linear_regression.c\n",
            "(already up-to-date)\n",
            "the current directory is 'C:\\\\xavierdupre\\\\__home_\\\\GitHub\\\\ensae_teaching_cs\\\\_doc\\\\notebooks\\\\2a'\n",
            "running build_ext\n",
            "building '_linear_regression' extension\n",
            "C:\\Program Files (x86)\\Microsoft Visual Studio\\2017\\Community\\VC\\Tools\\MSVC\\14.15.26726\\bin\\HostX86\\x64\\cl.exe /c /nologo /Ox /W3 /GL /DNDEBUG /MD -Ic:\\python370_x64\\include -Ic:\\python370_x64\\include \"-IC:\\Program Files (x86)\\Microsoft Visual Studio\\2017\\Community\\VC\\Tools\\MSVC\\14.15.26726\\ATLMFC\\include\" \"-IC:\\Program Files (x86)\\Microsoft Visual Studio\\2017\\Community\\VC\\Tools\\MSVC\\14.15.26726\\include\" \"-IC:\\Program Files (x86)\\Windows Kits\\NETFXSDK\\4.6.1\\include\\um\" \"-IC:\\Program Files (x86)\\Windows Kits\\10\\include\\10.0.17134.0\\ucrt\" \"-IC:\\Program Files (x86)\\Windows Kits\\10\\include\\10.0.17134.0\\shared\" \"-IC:\\Program Files (x86)\\Windows Kits\\10\\include\\10.0.17134.0\\um\" \"-IC:\\Program Files (x86)\\Windows Kits\\10\\include\\10.0.17134.0\\winrt\" \"-IC:\\Program Files (x86)\\Windows Kits\\10\\include\\10.0.17134.0\\cppwinrt\" /Tc_linear_regression.c /Fo.\\Release\\_linear_regression.obj\n",
            "C:\\Program Files (x86)\\Microsoft Visual Studio\\2017\\Community\\VC\\Tools\\MSVC\\14.15.26726\\bin\\HostX86\\x64\\link.exe /nologo /INCREMENTAL:NO /LTCG /DLL /MANIFEST:EMBED,ID=2 /MANIFESTUAC:NO /LIBPATH:c:\\python370_x64\\libs /LIBPATH:c:\\python370_x64\\PCbuild\\amd64 \"/LIBPATH:C:\\Program Files (x86)\\Microsoft Visual Studio\\2017\\Community\\VC\\Tools\\MSVC\\14.15.26726\\ATLMFC\\lib\\x64\" \"/LIBPATH:C:\\Program Files (x86)\\Microsoft Visual Studio\\2017\\Community\\VC\\Tools\\MSVC\\14.15.26726\\lib\\x64\" \"/LIBPATH:C:\\Program Files (x86)\\Windows Kits\\NETFXSDK\\4.6.1\\lib\\um\\x64\" \"/LIBPATH:C:\\Program Files (x86)\\Windows Kits\\10\\lib\\10.0.17134.0\\ucrt\\x64\" \"/LIBPATH:C:\\Program Files (x86)\\Windows Kits\\10\\lib\\10.0.17134.0\\um\\x64\" /EXPORT:PyInit__linear_regression .\\Release\\_linear_regression.obj /OUT:.\\_linear_regression.cp37-win_amd64.pyd /IMPLIB:.\\Release\\_linear_regression.cp37-win_amd64.lib\n"
          ]
        },
        {
          "data": {
            "text/plain": [
              "'C:\\\\xavierdupre\\\\__home_\\\\GitHub\\\\ensae_teaching_cs\\\\_doc\\\\notebooks\\\\2a\\\\_linear_regression.cp37-win_amd64.pyd'"
            ]
          },
          "execution_count": 10,
          "metadata": {},
          "output_type": "execute_result"
        }
      ],
      "source": [
        "from cffi import FFI\n",
        "ffibuilder = FFI()\n",
        "\n",
        "ffibuilder.cdef(\"int linreg(int, double *, double *, double, double *);\")\n",
        "\n",
        "ffibuilder.set_source(\"_linear_regression\",\n",
        "r\"\"\"\n",
        "    static int linreg(int dimension, double * x, double *coef, double intercept, double * out)\n",
        "    {\n",
        "        for(; dimension > 0; --dimension, ++x, ++coef)\n",
        "            intercept += *x * *coef;\n",
        "        *out = intercept;\n",
        "        return 1;\n",
        "    }\n",
        "\"\"\")\n",
        "\n",
        "ffibuilder.compile(verbose=True)"
      ]
    },
    {
      "cell_type": "markdown",
      "metadata": {},
      "source": [
        "La fonction compil\u00e9e est accessible comme suit."
      ]
    },
    {
      "cell_type": "code",
      "execution_count": 10,
      "metadata": {},
      "outputs": [
        {
          "data": {
            "text/plain": [
              "<function _linear_regression.CompiledLib.linreg>"
            ]
          },
          "execution_count": 11,
          "metadata": {},
          "output_type": "execute_result"
        }
      ],
      "source": [
        "from _linear_regression import ffi, lib\n",
        "lib.linreg"
      ]
    },
    {
      "cell_type": "markdown",
      "metadata": {},
      "source": [
        "On s'inspire de l'exemple [How to pass a Numpy array into a cffi function and how to get one back out?](https://stackoverflow.com/questions/16276268/how-to-pass-a-numpy-array-into-a-cffi-function-and-how-to-get-one-back-out)."
      ]
    },
    {
      "cell_type": "code",
      "execution_count": 11,
      "metadata": {},
      "outputs": [],
      "source": [
        "import numpy\n",
        "out = numpy.zeros(1)"
      ]
    },
    {
      "cell_type": "code",
      "execution_count": 12,
      "metadata": {},
      "outputs": [],
      "source": [
        "ptr_coef = clr.coef_.__array_interface__['data'][0]\n",
        "cptr_coef = ffi.cast ( \"double*\" , ptr_coef )"
      ]
    },
    {
      "cell_type": "code",
      "execution_count": 13,
      "metadata": {},
      "outputs": [],
      "source": [
        "x = diabetes_X_test[0:1,:]\n",
        "ptr_x = x.__array_interface__['data'][0]\n",
        "cptr_x = ffi.cast ( \"double*\" , ptr_x )"
      ]
    },
    {
      "cell_type": "code",
      "execution_count": 14,
      "metadata": {},
      "outputs": [],
      "source": [
        "ptr_out = out.__array_interface__['data'][0]\n",
        "cptr_out = ffi.cast ( \"double*\" , ptr_out )"
      ]
    },
    {
      "cell_type": "code",
      "execution_count": 15,
      "metadata": {},
      "outputs": [
        {
          "data": {
            "text/plain": [
              "1"
            ]
          },
          "execution_count": 16,
          "metadata": {},
          "output_type": "execute_result"
        }
      ],
      "source": [
        "n = len(clr.coef_)\n",
        "lib.linreg(n, cptr_x, cptr_coef, clr.intercept_, cptr_out)"
      ]
    },
    {
      "cell_type": "code",
      "execution_count": 16,
      "metadata": {},
      "outputs": [
        {
          "data": {
            "text/plain": [
              "array([197.61846908])"
            ]
          },
          "execution_count": 17,
          "metadata": {},
          "output_type": "execute_result"
        }
      ],
      "source": [
        "out"
      ]
    },
    {
      "cell_type": "markdown",
      "metadata": {},
      "source": [
        "On v\u00e9rifie qu'on obtient bien la m\u00eame chose."
      ]
    },
    {
      "cell_type": "code",
      "execution_count": 17,
      "metadata": {},
      "outputs": [
        {
          "data": {
            "text/plain": [
              "array([197.61846908])"
            ]
          },
          "execution_count": 18,
          "metadata": {},
          "output_type": "execute_result"
        }
      ],
      "source": [
        "clr.predict(x)"
      ]
    },
    {
      "cell_type": "markdown",
      "metadata": {},
      "source": [
        "Et on mesure le temps d'ex\u00e9cution :"
      ]
    },
    {
      "cell_type": "code",
      "execution_count": 18,
      "metadata": {},
      "outputs": [
        {
          "name": "stdout",
          "output_type": "stream",
          "text": [
            "Moyenne: 794.61 ns Ecart-type 417.41 ns (with 100 runs) in [462.23 ns, 1.37 \u00b5s]\n"
          ]
        }
      ],
      "source": [
        "memo_time.append(timeexe(\"cffi-linreg\", \"lib.linreg(n, cptr_x, cptr_coef, clr.intercept_, cptr_out)\"))"
      ]
    },
    {
      "cell_type": "markdown",
      "metadata": {},
      "source": [
        "C'est beaucoup plus rapide. Pour \u00eatre totalement honn\u00eate, il faut mesurer les \u00e9tapes qui consiste \u00e0 extraire les pointeurs."
      ]
    },
    {
      "cell_type": "code",
      "execution_count": 19,
      "metadata": {},
      "outputs": [
        {
          "data": {
            "text/plain": [
              "array([152.74058378])"
            ]
          },
          "execution_count": 20,
          "metadata": {},
          "output_type": "execute_result"
        }
      ],
      "source": [
        "def predict_clr(x, clr):\n",
        "    out = numpy.zeros(1)\n",
        "    ptr_coef = clr.coef_.__array_interface__['data'][0]\n",
        "    cptr_coef = ffi.cast ( \"double*\" , ptr_coef )\n",
        "    ptr_x = x.__array_interface__['data'][0]\n",
        "    cptr_x = ffi.cast ( \"double*\" , ptr_x )  \n",
        "    ptr_out = out.__array_interface__['data'][0]\n",
        "    cptr_out = ffi.cast ( \"double*\" , ptr_out ) \n",
        "    lib.linreg(len(x), cptr_x, cptr_coef, clr.intercept_, cptr_out)\n",
        "    return out\n",
        "\n",
        "predict_clr(x, clr)"
      ]
    },
    {
      "cell_type": "code",
      "execution_count": 20,
      "metadata": {},
      "outputs": [
        {
          "name": "stdout",
          "output_type": "stream",
          "text": [
            "Moyenne: 16.11 \u00b5s Ecart-type 6.78 \u00b5s (with 100 runs) in [8.44 \u00b5s, 27.62 \u00b5s]\n"
          ]
        }
      ],
      "source": [
        "memo_time.append(timeexe(\"cffi-linreg-wrapped\", \"predict_clr(x, clr)\"))"
      ]
    },
    {
      "cell_type": "markdown",
      "metadata": {},
      "source": [
        "Cela reste plus rapide."
      ]
    },
    {
      "cell_type": "markdown",
      "metadata": {},
      "source": [
        "### cffi - seconde version\n",
        "\n",
        "Comme on construit la fonction en dynamique (le code est connu lors de l'ex\u00e9cution), on peut facilement se passer de la boucle et \u00e9crire le code sans boucle et avec les coefficients."
      ]
    },
    {
      "cell_type": "code",
      "execution_count": 21,
      "metadata": {},
      "outputs": [
        {
          "data": {
            "text/plain": [
              "'0.3034995490660432*x[0] + -237.63931533353403*x[1] + 510.5306054362253*x[2] + 327.7369804093466*x[3] + -814.1317093725387*x[4] + 492.81458798373217*x[5] + 102.8484521916802*x[6] + 184.60648905984*x[7] + 743.519616750542*x[8] + 76.09517221662392*x[9]'"
            ]
          },
          "execution_count": 22,
          "metadata": {},
          "output_type": "execute_result"
        }
      ],
      "source": [
        "res = \" + \".join(\"{0}*x[{1}]\".format(c, i) for i, c in enumerate(clr.coef_))\n",
        "res"
      ]
    },
    {
      "cell_type": "code",
      "execution_count": 22,
      "metadata": {},
      "outputs": [
        {
          "name": "stdout",
          "output_type": "stream",
          "text": [
            "\n",
            "    static int linreg_custom(double * x, double * out)\n",
            "    {\n",
            "        out[0] = 152.76430691633442 + 0.3034995490660432*x[0] + -237.63931533353403*x[1] + 510.5306054362253*x[2] + 327.7369804093466*x[3] + -814.1317093725387*x[4] + 492.81458798373217*x[5] + 102.8484521916802*x[6] + 184.60648905984*x[7] + 743.519616750542*x[8] + 76.09517221662392*x[9];\n",
            "    }\n",
            "\n"
          ]
        }
      ],
      "source": [
        "code = \"\"\"\n",
        "    static int linreg_custom(double * x, double * out)\n",
        "    {{\n",
        "        out[0] = {0} + {1};\n",
        "    }}\n",
        "\"\"\".format(clr.intercept_, res)\n",
        "print(code)"
      ]
    },
    {
      "cell_type": "code",
      "execution_count": 23,
      "metadata": {
        "scrolled": false
      },
      "outputs": [
        {
          "name": "stdout",
          "output_type": "stream",
          "text": [
            "generating .\\_linear_regression_custom.c\n",
            "(already up-to-date)\n",
            "the current directory is 'C:\\\\xavierdupre\\\\__home_\\\\GitHub\\\\ensae_teaching_cs\\\\_doc\\\\notebooks\\\\2a'\n",
            "running build_ext\n",
            "building '_linear_regression_custom' extension\n",
            "C:\\Program Files (x86)\\Microsoft Visual Studio\\2017\\Community\\VC\\Tools\\MSVC\\14.15.26726\\bin\\HostX86\\x64\\cl.exe /c /nologo /Ox /W3 /GL /DNDEBUG /MD -Ic:\\python370_x64\\include -Ic:\\python370_x64\\include \"-IC:\\Program Files (x86)\\Microsoft Visual Studio\\2017\\Community\\VC\\Tools\\MSVC\\14.15.26726\\ATLMFC\\include\" \"-IC:\\Program Files (x86)\\Microsoft Visual Studio\\2017\\Community\\VC\\Tools\\MSVC\\14.15.26726\\include\" \"-IC:\\Program Files (x86)\\Windows Kits\\NETFXSDK\\4.6.1\\include\\um\" \"-IC:\\Program Files (x86)\\Windows Kits\\10\\include\\10.0.17134.0\\ucrt\" \"-IC:\\Program Files (x86)\\Windows Kits\\10\\include\\10.0.17134.0\\shared\" \"-IC:\\Program Files (x86)\\Windows Kits\\10\\include\\10.0.17134.0\\um\" \"-IC:\\Program Files (x86)\\Windows Kits\\10\\include\\10.0.17134.0\\winrt\" \"-IC:\\Program Files (x86)\\Windows Kits\\10\\include\\10.0.17134.0\\cppwinrt\" /Tc_linear_regression_custom.c /Fo.\\Release\\_linear_regression_custom.obj\n",
            "C:\\Program Files (x86)\\Microsoft Visual Studio\\2017\\Community\\VC\\Tools\\MSVC\\14.15.26726\\bin\\HostX86\\x64\\link.exe /nologo /INCREMENTAL:NO /LTCG /DLL /MANIFEST:EMBED,ID=2 /MANIFESTUAC:NO /LIBPATH:c:\\python370_x64\\libs /LIBPATH:c:\\python370_x64\\PCbuild\\amd64 \"/LIBPATH:C:\\Program Files (x86)\\Microsoft Visual Studio\\2017\\Community\\VC\\Tools\\MSVC\\14.15.26726\\ATLMFC\\lib\\x64\" \"/LIBPATH:C:\\Program Files (x86)\\Microsoft Visual Studio\\2017\\Community\\VC\\Tools\\MSVC\\14.15.26726\\lib\\x64\" \"/LIBPATH:C:\\Program Files (x86)\\Windows Kits\\NETFXSDK\\4.6.1\\lib\\um\\x64\" \"/LIBPATH:C:\\Program Files (x86)\\Windows Kits\\10\\lib\\10.0.17134.0\\ucrt\\x64\" \"/LIBPATH:C:\\Program Files (x86)\\Windows Kits\\10\\lib\\10.0.17134.0\\um\\x64\" /EXPORT:PyInit__linear_regression_custom .\\Release\\_linear_regression_custom.obj /OUT:.\\_linear_regression_custom.cp37-win_amd64.pyd /IMPLIB:.\\Release\\_linear_regression_custom.cp37-win_amd64.lib\n"
          ]
        },
        {
          "data": {
            "text/plain": [
              "'C:\\\\xavierdupre\\\\__home_\\\\GitHub\\\\ensae_teaching_cs\\\\_doc\\\\notebooks\\\\2a\\\\_linear_regression_custom.cp37-win_amd64.pyd'"
            ]
          },
          "execution_count": 24,
          "metadata": {},
          "output_type": "execute_result"
        }
      ],
      "source": [
        "from cffi import FFI\n",
        "ffibuilder = FFI()\n",
        "\n",
        "ffibuilder.cdef(\"int linreg_custom(double *, double *);\")\n",
        "ffibuilder.set_source(\"_linear_regression_custom\", code)\n",
        "ffibuilder.compile(verbose=True)"
      ]
    },
    {
      "cell_type": "code",
      "execution_count": 24,
      "metadata": {},
      "outputs": [
        {
          "data": {
            "text/plain": [
              "array([197.61846908])"
            ]
          },
          "execution_count": 25,
          "metadata": {},
          "output_type": "execute_result"
        }
      ],
      "source": [
        "from _linear_regression_custom.lib import linreg_custom\n",
        "linreg_custom(cptr_x, cptr_out)\n",
        "out"
      ]
    },
    {
      "cell_type": "code",
      "execution_count": 25,
      "metadata": {},
      "outputs": [
        {
          "name": "stdout",
          "output_type": "stream",
          "text": [
            "Moyenne: 694.52 ns Ecart-type 592.96 ns (with 100 runs) in [395.06 ns, 1.19 \u00b5s]\n"
          ]
        }
      ],
      "source": [
        "memo_time.append(timeexe(\"cffi-linreg-custom\", \"linreg_custom(cptr_x, cptr_out)\"))"
      ]
    },
    {
      "cell_type": "markdown",
      "metadata": {},
      "source": [
        "On a gagn\u00e9 un facteur 2."
      ]
    },
    {
      "cell_type": "code",
      "execution_count": 26,
      "metadata": {},
      "outputs": [
        {
          "data": {
            "text/plain": [
              "array([197.61846908])"
            ]
          },
          "execution_count": 27,
          "metadata": {},
          "output_type": "execute_result"
        }
      ],
      "source": [
        "def predict_clr_custom(x):\n",
        "    out = numpy.zeros(1)\n",
        "    ptr_x = x.__array_interface__['data'][0]\n",
        "    cptr_x = ffi.cast ( \"double*\" , ptr_x )  \n",
        "    ptr_out = out.__array_interface__['data'][0]\n",
        "    cptr_out = ffi.cast ( \"double*\" , ptr_out ) \n",
        "    linreg_custom(cptr_x, cptr_out)\n",
        "    return out\n",
        "\n",
        "predict_clr_custom(x)"
      ]
    },
    {
      "cell_type": "code",
      "execution_count": 27,
      "metadata": {},
      "outputs": [
        {
          "name": "stdout",
          "output_type": "stream",
          "text": [
            "Moyenne: 9.71 \u00b5s Ecart-type 2.86 \u00b5s (with 100 runs) in [5.88 \u00b5s, 16.23 \u00b5s]\n"
          ]
        }
      ],
      "source": [
        "memo_time.append(timeexe(\"cffi-linreg-custom wrapped\", \"predict_clr_custom(x)\"))"
      ]
    },
    {
      "cell_type": "markdown",
      "metadata": {},
      "source": [
        "C'est un peu plus rapide."
      ]
    },
    {
      "cell_type": "markdown",
      "metadata": {
        "collapsed": true
      },
      "source": [
        "### et en float?\n",
        "\n",
        "L'ordinateur fait la distinction entre les [double](https://en.wikipedia.org/wiki/Double-precision_floating-point_format) code sur 64 bit et les [float](https://en.wikipedia.org/wiki/Single-precision_floating-point_format) cod\u00e9 sur 32 bits. La pr\u00e9cision est meilleure dans le premier cas et les calculs sont plus rapides dans le second. Dans le cas du machine learning, on pr\u00e9f\u00e8re la rapidit\u00e9 \u00e0 une perte pr\u00e9cision en pr\u00e9cision qui est souvent compens\u00e9e par l'optimisation inh\u00e9rente \u00e0 tout probl\u00e8me de machine learning. Ce qu'on perd sur une observation, on le retrouve sur une autre."
      ]
    },
    {
      "cell_type": "code",
      "execution_count": 28,
      "metadata": {},
      "outputs": [
        {
          "data": {
            "text/plain": [
              "'0.3034995490660432f*x[0] + -237.63931533353403f*x[1] + 510.5306054362253f*x[2] + 327.7369804093466f*x[3] + -814.1317093725387f*x[4] + 492.81458798373217f*x[5] + 102.8484521916802f*x[6] + 184.60648905984f*x[7] + 743.519616750542f*x[8] + 76.09517221662392f*x[9]'"
            ]
          },
          "execution_count": 29,
          "metadata": {},
          "output_type": "execute_result"
        }
      ],
      "source": [
        "res = \" + \".join(\"{0}f*x[{1}]\".format(c, i) for i, c in enumerate(clr.coef_))\n",
        "res"
      ]
    },
    {
      "cell_type": "code",
      "execution_count": 29,
      "metadata": {},
      "outputs": [
        {
          "name": "stdout",
          "output_type": "stream",
          "text": [
            "\n",
            "    static int linreg_custom_float(float * x, float * out)\n",
            "    {\n",
            "        out[0] = 152.76430691633442f + 0.3034995490660432f*x[0] + -237.63931533353403f*x[1] + 510.5306054362253f*x[2] + 327.7369804093466f*x[3] + -814.1317093725387f*x[4] + 492.81458798373217f*x[5] + 102.8484521916802f*x[6] + 184.60648905984f*x[7] + 743.519616750542f*x[8] + 76.09517221662392f*x[9];\n",
            "    }\n",
            "\n"
          ]
        }
      ],
      "source": [
        "code = \"\"\"\n",
        "    static int linreg_custom_float(float * x, float * out)\n",
        "    {{\n",
        "        out[0] = {0}f + {1};\n",
        "    }}\n",
        "\"\"\".format(clr.intercept_, res)\n",
        "print(code)"
      ]
    },
    {
      "cell_type": "code",
      "execution_count": 30,
      "metadata": {},
      "outputs": [
        {
          "name": "stdout",
          "output_type": "stream",
          "text": [
            "generating .\\_linear_regression_custom_float.c\n",
            "(already up-to-date)\n",
            "the current directory is 'C:\\\\xavierdupre\\\\__home_\\\\GitHub\\\\ensae_teaching_cs\\\\_doc\\\\notebooks\\\\2a'\n",
            "running build_ext\n",
            "building '_linear_regression_custom_float' extension\n",
            "C:\\Program Files (x86)\\Microsoft Visual Studio\\2017\\Community\\VC\\Tools\\MSVC\\14.15.26726\\bin\\HostX86\\x64\\cl.exe /c /nologo /Ox /W3 /GL /DNDEBUG /MD -Ic:\\python370_x64\\include -Ic:\\python370_x64\\include \"-IC:\\Program Files (x86)\\Microsoft Visual Studio\\2017\\Community\\VC\\Tools\\MSVC\\14.15.26726\\ATLMFC\\include\" \"-IC:\\Program Files (x86)\\Microsoft Visual Studio\\2017\\Community\\VC\\Tools\\MSVC\\14.15.26726\\include\" \"-IC:\\Program Files (x86)\\Windows Kits\\NETFXSDK\\4.6.1\\include\\um\" \"-IC:\\Program Files (x86)\\Windows Kits\\10\\include\\10.0.17134.0\\ucrt\" \"-IC:\\Program Files (x86)\\Windows Kits\\10\\include\\10.0.17134.0\\shared\" \"-IC:\\Program Files (x86)\\Windows Kits\\10\\include\\10.0.17134.0\\um\" \"-IC:\\Program Files (x86)\\Windows Kits\\10\\include\\10.0.17134.0\\winrt\" \"-IC:\\Program Files (x86)\\Windows Kits\\10\\include\\10.0.17134.0\\cppwinrt\" /Tc_linear_regression_custom_float.c /Fo.\\Release\\_linear_regression_custom_float.obj\n",
            "C:\\Program Files (x86)\\Microsoft Visual Studio\\2017\\Community\\VC\\Tools\\MSVC\\14.15.26726\\bin\\HostX86\\x64\\link.exe /nologo /INCREMENTAL:NO /LTCG /DLL /MANIFEST:EMBED,ID=2 /MANIFESTUAC:NO /LIBPATH:c:\\python370_x64\\libs /LIBPATH:c:\\python370_x64\\PCbuild\\amd64 \"/LIBPATH:C:\\Program Files (x86)\\Microsoft Visual Studio\\2017\\Community\\VC\\Tools\\MSVC\\14.15.26726\\ATLMFC\\lib\\x64\" \"/LIBPATH:C:\\Program Files (x86)\\Microsoft Visual Studio\\2017\\Community\\VC\\Tools\\MSVC\\14.15.26726\\lib\\x64\" \"/LIBPATH:C:\\Program Files (x86)\\Windows Kits\\NETFXSDK\\4.6.1\\lib\\um\\x64\" \"/LIBPATH:C:\\Program Files (x86)\\Windows Kits\\10\\lib\\10.0.17134.0\\ucrt\\x64\" \"/LIBPATH:C:\\Program Files (x86)\\Windows Kits\\10\\lib\\10.0.17134.0\\um\\x64\" /EXPORT:PyInit__linear_regression_custom_float .\\Release\\_linear_regression_custom_float.obj /OUT:.\\_linear_regression_custom_float.cp37-win_amd64.pyd /IMPLIB:.\\Release\\_linear_regression_custom_float.cp37-win_amd64.lib\n"
          ]
        },
        {
          "data": {
            "text/plain": [
              "'C:\\\\xavierdupre\\\\__home_\\\\GitHub\\\\ensae_teaching_cs\\\\_doc\\\\notebooks\\\\2a\\\\_linear_regression_custom_float.cp37-win_amd64.pyd'"
            ]
          },
          "execution_count": 31,
          "metadata": {},
          "output_type": "execute_result"
        }
      ],
      "source": [
        "from cffi import FFI\n",
        "ffibuilder = FFI()\n",
        "\n",
        "ffibuilder.cdef(\"int linreg_custom_float(float *, float *);\")\n",
        "ffibuilder.set_source(\"_linear_regression_custom_float\", code)\n",
        "ffibuilder.compile(verbose=True)"
      ]
    },
    {
      "cell_type": "code",
      "execution_count": 31,
      "metadata": {},
      "outputs": [],
      "source": [
        "from _linear_regression_custom_float.lib import linreg_custom_float"
      ]
    },
    {
      "cell_type": "code",
      "execution_count": 32,
      "metadata": {},
      "outputs": [],
      "source": [
        "def predict_clr_custom_float(x):\n",
        "    out = numpy.zeros(1, dtype=numpy.float32)\n",
        "    ptr_x = x.__array_interface__['data'][0]\n",
        "    cptr_x = ffi.cast ( \"float*\" , ptr_x )  \n",
        "    ptr_out = out.__array_interface__['data'][0]\n",
        "    cptr_out = ffi.cast ( \"float*\" , ptr_out ) \n",
        "    linreg_custom_float(cptr_x, cptr_out)\n",
        "    return out"
      ]
    },
    {
      "cell_type": "markdown",
      "metadata": {},
      "source": [
        "Avant d'appeler la fonction, on doit transformer le vecteur iniatial en [float32](https://docs.scipy.org/doc/numpy/user/basics.types.html)."
      ]
    },
    {
      "cell_type": "code",
      "execution_count": 33,
      "metadata": {},
      "outputs": [
        {
          "data": {
            "text/plain": [
              "array([152.76430692])"
            ]
          },
          "execution_count": 34,
          "metadata": {},
          "output_type": "execute_result"
        }
      ],
      "source": [
        "x32 = x.astype(numpy.float32)\n",
        "predict_clr_custom(x32)"
      ]
    },
    {
      "cell_type": "code",
      "execution_count": 34,
      "metadata": {},
      "outputs": [
        {
          "name": "stdout",
          "output_type": "stream",
          "text": [
            "Moyenne: 12.26 \u00b5s Ecart-type 5.06 \u00b5s (with 100 runs) in [6.64 \u00b5s, 22.58 \u00b5s]\n"
          ]
        }
      ],
      "source": [
        "memo_time.append(timeexe(\"cffi-linreg-custom-float wrapped\", \"predict_clr_custom(x32)\"))"
      ]
    },
    {
      "cell_type": "markdown",
      "metadata": {},
      "source": [
        "La diff\u00e9rence n'est pas flagrante. Mesurons le code C uniquement m\u00eame si la partie Python ne peut pas \u00eatre compl\u00e8tement \u00e9vit\u00e9e."
      ]
    },
    {
      "cell_type": "code",
      "execution_count": 35,
      "metadata": {},
      "outputs": [
        {
          "name": "stdout",
          "output_type": "stream",
          "text": [
            "Moyenne: 1.12 \u00b5s Ecart-type 1.17 \u00b5s (with 100 runs) in [691.36 ns, 2.34 \u00b5s]\n"
          ]
        }
      ],
      "source": [
        "out = numpy.zeros(1, dtype=numpy.float32)\n",
        "ptr_x = x32.__array_interface__['data'][0]\n",
        "cptr_x = ffi.cast ( \"float*\" , ptr_x )  \n",
        "ptr_out = out.__array_interface__['data'][0]\n",
        "cptr_out = ffi.cast ( \"float*\" , ptr_out ) \n",
        "\n",
        "memo_time.append(timeexe(\"cffi-linreg-custom-float32\", \"linreg_custom_float(cptr_x, cptr_out)\"))"
      ]
    },
    {
      "cell_type": "markdown",
      "metadata": {},
      "source": [
        "La diff\u00e9rence n'est pas significative."
      ]
    },
    {
      "cell_type": "markdown",
      "metadata": {},
      "source": [
        "### SIMD\n",
        "\n",
        "C'est un ensemble d'instructions processeur pour faire des op\u00e9rations terme \u00e0 terme sur 4 float32 aussi rapidement qu'une seule. Le processeur ne peut faire des op\u00e9rations que les nombres sont copi\u00e9s dans ses registres. Le programme passe alors son temps \u00e0 copier des nombres depuis la m\u00e9moire vers les registres du processeur puis \u00e0 faire la copie dans le chemin inverse pour le r\u00e9sultat. Les instructions [SIMD](https://en.wikipedia.org/wiki/SIMD) font gagner du temps du niveau du calcul. Au lieu de faire 4 op\u00e9rations de multiplication terme \u00e0 terme, il n'en fait plus qu'une. Il suffit de savoir comment utiliser ces instructions. Avec Visual Studio, elles sont accessible via ces fonctions [Memory and Initialization Using Streaming SIMD Extensions](https://msdn.microsoft.com/en-us/library/0hey67c0%28v=vs.100%29.aspx).\n",
        "Le code suivant n'est probablement pas optimal mais il n'est pas trop compliqu\u00e9 \u00e0 suivre."
      ]
    },
    {
      "cell_type": "code",
      "execution_count": 36,
      "metadata": {},
      "outputs": [],
      "source": [
        "code = \"\"\"\n",
        "#include <xmmintrin.h> \n",
        "\n",
        "static int linreg_custom_float_simd(float * x, float * out)\n",
        "{\n",
        "    __m128 c1 = _mm_set_ps(0.3034995490664121f, -237.63931533353392f, 510.5306054362245f, 327.7369804093466f);\n",
        "    __m128 c2 = _mm_set_ps(-814.1317093725389f, 492.81458798373245f, 102.84845219168025f, 184.60648905984064f);\n",
        "    __m128 r1 = _mm_set_ss(152.76430691633442f);\n",
        "    r1 = _mm_add_ss(r1, _mm_mul_ps(c1, _mm_load_ps(x)));\n",
        "    r1 = _mm_add_ss(r1, _mm_mul_ps(c2, _mm_load_ps(x+4)));\n",
        "    float r[4];\n",
        "    _mm_store_ps(r, r1);    \n",
        "    out[0] = r[0] + r[1] + r[2] + r[3] + 743.5196167505419f * x[8] + 76.095172216624f * x[9];\n",
        "    return 1;\n",
        "}\n",
        "\"\"\""
      ]
    },
    {
      "cell_type": "code",
      "execution_count": 37,
      "metadata": {
        "scrolled": false
      },
      "outputs": [
        {
          "name": "stdout",
          "output_type": "stream",
          "text": [
            "generating .\\_linear_regression_custom_float_simd.c\n",
            "(already up-to-date)\n",
            "the current directory is 'C:\\\\xavierdupre\\\\__home_\\\\GitHub\\\\ensae_teaching_cs\\\\_doc\\\\notebooks\\\\2a'\n",
            "running build_ext\n",
            "building '_linear_regression_custom_float_simd' extension\n",
            "C:\\Program Files (x86)\\Microsoft Visual Studio\\2017\\Community\\VC\\Tools\\MSVC\\14.15.26726\\bin\\HostX86\\x64\\cl.exe /c /nologo /Ox /W3 /GL /DNDEBUG /MD -Ic:\\python370_x64\\include -Ic:\\python370_x64\\include \"-IC:\\Program Files (x86)\\Microsoft Visual Studio\\2017\\Community\\VC\\Tools\\MSVC\\14.15.26726\\ATLMFC\\include\" \"-IC:\\Program Files (x86)\\Microsoft Visual Studio\\2017\\Community\\VC\\Tools\\MSVC\\14.15.26726\\include\" \"-IC:\\Program Files (x86)\\Windows Kits\\NETFXSDK\\4.6.1\\include\\um\" \"-IC:\\Program Files (x86)\\Windows Kits\\10\\include\\10.0.17134.0\\ucrt\" \"-IC:\\Program Files (x86)\\Windows Kits\\10\\include\\10.0.17134.0\\shared\" \"-IC:\\Program Files (x86)\\Windows Kits\\10\\include\\10.0.17134.0\\um\" \"-IC:\\Program Files (x86)\\Windows Kits\\10\\include\\10.0.17134.0\\winrt\" \"-IC:\\Program Files (x86)\\Windows Kits\\10\\include\\10.0.17134.0\\cppwinrt\" /Tc_linear_regression_custom_float_simd.c /Fo.\\Release\\_linear_regression_custom_float_simd.obj\n",
            "C:\\Program Files (x86)\\Microsoft Visual Studio\\2017\\Community\\VC\\Tools\\MSVC\\14.15.26726\\bin\\HostX86\\x64\\link.exe /nologo /INCREMENTAL:NO /LTCG /DLL /MANIFEST:EMBED,ID=2 /MANIFESTUAC:NO /LIBPATH:c:\\python370_x64\\libs /LIBPATH:c:\\python370_x64\\PCbuild\\amd64 \"/LIBPATH:C:\\Program Files (x86)\\Microsoft Visual Studio\\2017\\Community\\VC\\Tools\\MSVC\\14.15.26726\\ATLMFC\\lib\\x64\" \"/LIBPATH:C:\\Program Files (x86)\\Microsoft Visual Studio\\2017\\Community\\VC\\Tools\\MSVC\\14.15.26726\\lib\\x64\" \"/LIBPATH:C:\\Program Files (x86)\\Windows Kits\\NETFXSDK\\4.6.1\\lib\\um\\x64\" \"/LIBPATH:C:\\Program Files (x86)\\Windows Kits\\10\\lib\\10.0.17134.0\\ucrt\\x64\" \"/LIBPATH:C:\\Program Files (x86)\\Windows Kits\\10\\lib\\10.0.17134.0\\um\\x64\" /EXPORT:PyInit__linear_regression_custom_float_simd .\\Release\\_linear_regression_custom_float_simd.obj /OUT:.\\_linear_regression_custom_float_simd.cp37-win_amd64.pyd /IMPLIB:.\\Release\\_linear_regression_custom_float_simd.cp37-win_amd64.lib\n"
          ]
        },
        {
          "data": {
            "text/plain": [
              "'C:\\\\xavierdupre\\\\__home_\\\\GitHub\\\\ensae_teaching_cs\\\\_doc\\\\notebooks\\\\2a\\\\_linear_regression_custom_float_simd.cp37-win_amd64.pyd'"
            ]
          },
          "execution_count": 38,
          "metadata": {},
          "output_type": "execute_result"
        }
      ],
      "source": [
        "from cffi import FFI\n",
        "ffibuilder = FFI()\n",
        "\n",
        "ffibuilder.cdef(\"int linreg_custom_float_simd(float *, float *);\")\n",
        "ffibuilder.set_source(\"_linear_regression_custom_float_simd\", code)\n",
        "ffibuilder.compile(verbose=True)"
      ]
    },
    {
      "cell_type": "code",
      "execution_count": 38,
      "metadata": {},
      "outputs": [],
      "source": [
        "from _linear_regression_custom_float_simd.lib import linreg_custom_float_simd"
      ]
    },
    {
      "cell_type": "code",
      "execution_count": 39,
      "metadata": {},
      "outputs": [
        {
          "data": {
            "text/plain": [
              "array([171.1178], dtype=float32)"
            ]
          },
          "execution_count": 40,
          "metadata": {},
          "output_type": "execute_result"
        }
      ],
      "source": [
        "out = numpy.zeros(1, dtype=numpy.float32)\n",
        "ptr_x = x32.__array_interface__['data'][0]\n",
        "cptr_x = ffi.cast ( \"float*\" , ptr_x )  \n",
        "ptr_out = out.__array_interface__['data'][0]\n",
        "cptr_out = ffi.cast ( \"float*\" , ptr_out ) \n",
        "\n",
        "linreg_custom_float_simd(cptr_x, cptr_out)\n",
        "out"
      ]
    },
    {
      "cell_type": "code",
      "execution_count": 40,
      "metadata": {},
      "outputs": [
        {
          "name": "stdout",
          "output_type": "stream",
          "text": [
            "Moyenne: 550.92 ns Ecart-type 380.50 ns (with 100 runs) in [355.55 ns, 813.83 ns]\n"
          ]
        }
      ],
      "source": [
        "memo_time.append(timeexe(\"cffi-linreg-custom-float32-simd\", \"linreg_custom_float_simd(cptr_x, cptr_out)\"))"
      ]
    },
    {
      "cell_type": "markdown",
      "metadata": {},
      "source": [
        "C'est l\u00e9g\u00e8rement mieux, quelques r\u00e9f\u00e9rences :\n",
        "\n",
        "* [aligned_vs_unaligned_load.c](https://gist.github.com/rmcgibbo/7689820) : c'est du code mais facile \u00e0 lire.\n",
        "* [How to Write Fast Numerical Code](https://www.inf.ethz.ch/personal/markusp/teaching/263-2300-ETH-spring11/slides/class17.pdf)\n",
        "\n",
        "Les processeurs \u00e9voluent au fil du temps, 4 float, 8 float, [SIMD2](https://msdn.microsoft.com/en-us/library/kcwz153a%28v=vs.100%29.aspx), [FMA4 Intrinsics Added for Visual Studio 2010 SP1](https://msdn.microsoft.com/en-us/library/gg445134%28v=vs.100%29.aspx), [AVX](https://software.intel.com/en-us/articles/introduction-to-intel-advanced-vector-extensions/)."
      ]
    },
    {
      "cell_type": "markdown",
      "metadata": {
        "collapsed": true
      },
      "source": [
        "### R\u00e9\u00e9criture purement Python\n",
        "\n",
        "On continue avec uniquement du Python sans numpy."
      ]
    },
    {
      "cell_type": "code",
      "execution_count": 41,
      "metadata": {},
      "outputs": [
        {
          "data": {
            "text/plain": [
              "[0.3034995490660432,\n",
              " -237.63931533353403,\n",
              " 510.5306054362253,\n",
              " 327.7369804093466,\n",
              " -814.1317093725387,\n",
              " 492.81458798373217,\n",
              " 102.8484521916802,\n",
              " 184.60648905984,\n",
              " 743.519616750542,\n",
              " 76.09517221662392]"
            ]
          },
          "execution_count": 42,
          "metadata": {},
          "output_type": "execute_result"
        }
      ],
      "source": [
        "coef = clr.coef_\n",
        "list(coef)"
      ]
    },
    {
      "cell_type": "code",
      "execution_count": 42,
      "metadata": {},
      "outputs": [
        {
          "data": {
            "text/plain": [
              "'152.76430691633442+x[0]*(0.3034995490660432)+x[1]*(-237.63931533353403)+x[2]*(510.5306054362253)+x[3]*(327.7369804093466)+x[4]*(-814.1317093725387)+x[5]*(492.81458798373217)+x[6]*(102.8484521916802)+x[7]*(184.60648905984)+x[8]*(743.519616750542)+x[9]*(76.09517221662392)'"
            ]
          },
          "execution_count": 43,
          "metadata": {},
          "output_type": "execute_result"
        }
      ],
      "source": [
        "code = str(clr.intercept_) + \"+\" + \"+\".join(\"x[{0}]*({1})\".format(i, c) for i, c in enumerate(coef))\n",
        "code"
      ]
    },
    {
      "cell_type": "code",
      "execution_count": 43,
      "metadata": {},
      "outputs": [
        {
          "data": {
            "text/plain": [
              "197.61846907469848"
            ]
          },
          "execution_count": 44,
          "metadata": {},
          "output_type": "execute_result"
        }
      ],
      "source": [
        "def predict_clr_python(x):\n",
        "    return 152.764306916+x[0]*0.3034995490664121+x[1]*(-237.63931533353392)+x[2]*510.5306054362245+ \\\n",
        "            x[3]*327.7369804093466+ \\\n",
        "            x[4]*(-814.1317093725389)+x[5]*492.81458798373245+x[6]*102.84845219168025+ \\\n",
        "            x[7]*184.60648905984064+x[8]*743.5196167505419+x[9]*76.095172216624\n",
        "            \n",
        "predict_clr_python(x[0])"
      ]
    },
    {
      "cell_type": "code",
      "execution_count": 44,
      "metadata": {},
      "outputs": [
        {
          "name": "stdout",
          "output_type": "stream",
          "text": [
            "Moyenne: 5.20 \u00b5s Ecart-type 2.36 \u00b5s (with 100 runs) in [2.39 \u00b5s, 9.22 \u00b5s]\n"
          ]
        }
      ],
      "source": [
        "z = list(x[0])\n",
        "memo_time.append(timeexe(\"python-linreg-custom\", \"predict_clr_python(z)\"))"
      ]
    },
    {
      "cell_type": "markdown",
      "metadata": {},
      "source": [
        "De fa\u00e7on assez surprenante, c'est plut\u00f4t rapide. Et si on y mettait une boucle."
      ]
    },
    {
      "cell_type": "code",
      "execution_count": 45,
      "metadata": {},
      "outputs": [
        {
          "data": {
            "text/plain": [
              "197.61846907503298"
            ]
          },
          "execution_count": 46,
          "metadata": {},
          "output_type": "execute_result"
        }
      ],
      "source": [
        "def predict_clr_python_loop(x, coef, intercept):    \n",
        "    return intercept + sum(a*b for a, b in zip(x, coef))\n",
        "            \n",
        "predict_clr_python_loop(x[0], list(clr.coef_), clr.intercept_)"
      ]
    },
    {
      "cell_type": "code",
      "execution_count": 46,
      "metadata": {},
      "outputs": [
        {
          "name": "stdout",
          "output_type": "stream",
          "text": [
            "Moyenne: 8.13 \u00b5s Ecart-type 3.23 \u00b5s (with 100 runs) in [4.15 \u00b5s, 13.61 \u00b5s]\n"
          ]
        }
      ],
      "source": [
        "coef = list(clr.coef_)\n",
        "intercept = clr.intercept_\n",
        "memo_time.append(timeexe(\"python-linreg\", \"predict_clr_python_loop(z, coef, intercept)\"))"
      ]
    },
    {
      "cell_type": "markdown",
      "metadata": {},
      "source": [
        "A peine plus long."
      ]
    },
    {
      "cell_type": "markdown",
      "metadata": {},
      "source": [
        "### R\u00e9\u00e9criture avec Python et numpy"
      ]
    },
    {
      "cell_type": "code",
      "execution_count": 47,
      "metadata": {},
      "outputs": [
        {
          "data": {
            "text/plain": [
              "197.61846907503298"
            ]
          },
          "execution_count": 48,
          "metadata": {},
          "output_type": "execute_result"
        }
      ],
      "source": [
        "def predict_clr_numpy(x, coef, intercept):    \n",
        "    return intercept + numpy.dot(coef, x).sum()\n",
        "            \n",
        "predict_clr_numpy(x[0], clr.coef_, clr.intercept_)"
      ]
    },
    {
      "cell_type": "code",
      "execution_count": 48,
      "metadata": {},
      "outputs": [
        {
          "name": "stdout",
          "output_type": "stream",
          "text": [
            "Moyenne: 15.41 \u00b5s Ecart-type 4.78 \u00b5s (with 100 runs) in [8.38 \u00b5s, 24.64 \u00b5s]\n"
          ]
        }
      ],
      "source": [
        "memo_time.append(timeexe(\"numpy-linreg-numpy\", \"predict_clr_numpy(z, coef, clr.intercept_)\"))"
      ]
    },
    {
      "cell_type": "markdown",
      "metadata": {},
      "source": [
        "Les dimensions des tableaux sont trop petites pour que le calcul matriciel apporte une diff\u00e9rence. On se retrouve dans le cas *cffi* o\u00f9 les \u00e9changes Python - C grignotent tout le temps de calcul."
      ]
    },
    {
      "cell_type": "markdown",
      "metadata": {},
      "source": [
        "### numba\n",
        "\n",
        "[numba](http://numba.pydata.org/) essaye de compiler \u00e0 la vol\u00e9e des bouts de codes \u00e9crits en Python. On induque quelle fonction optimiser en faisant pr\u00e9c\u00e9der la fonction de ``@jit``. Toutes les \u00e9critures ne fonctionnent, typiquement, certaines listes en compr\u00e9hension soul\u00e8vent une exception. Il faut donc \u00e9crire son code en Python d'une fa\u00e7on assez proche de ce qu'il serait en C."
      ]
    },
    {
      "cell_type": "code",
      "execution_count": 49,
      "metadata": {},
      "outputs": [],
      "source": [
        "from numba import jit"
      ]
    },
    {
      "cell_type": "code",
      "execution_count": 50,
      "metadata": {
        "scrolled": false
      },
      "outputs": [
        {
          "data": {
            "text/plain": [
              "197.61846907503298"
            ]
          },
          "execution_count": 51,
          "metadata": {},
          "output_type": "execute_result"
        }
      ],
      "source": [
        "@jit\n",
        "def predict_clr_numba(x, coef, intercept):\n",
        "    s = intercept\n",
        "    for i in range(0, len(x)):\n",
        "        s += coef[i] * x[i]\n",
        "    return s\n",
        "            \n",
        "predict_clr_numba(z, clr.coef_, clr.intercept_)"
      ]
    },
    {
      "cell_type": "code",
      "execution_count": 51,
      "metadata": {},
      "outputs": [
        {
          "name": "stdout",
          "output_type": "stream",
          "text": [
            "Moyenne: 47.39 \u00b5s Ecart-type 12.68 \u00b5s (with 100 runs) in [33.73 \u00b5s, 73.24 \u00b5s]\n"
          ]
        }
      ],
      "source": [
        "memo_time.append(timeexe(\"numba-linreg-notype\", \"predict_clr_numba(z, clr.coef_, clr.intercept_)\"))"
      ]
    },
    {
      "cell_type": "markdown",
      "metadata": {},
      "source": [
        "Plut\u00f4t rapide !"
      ]
    },
    {
      "cell_type": "code",
      "execution_count": 52,
      "metadata": {},
      "outputs": [
        {
          "data": {
            "text/plain": [
              "197.61846907503298"
            ]
          },
          "execution_count": 53,
          "metadata": {},
          "output_type": "execute_result"
        }
      ],
      "source": [
        "@jit('double(double[:], double[:], double)')\n",
        "def predict_clr_numba_cast(x, coef, intercept):\n",
        "    s = intercept\n",
        "    for i in range(0, len(x)):\n",
        "        s += coef[i] * x[i]\n",
        "    return s\n",
        "            \n",
        "# La fonction ne fonctionne qu'avec un numpy.array car le langage C est fortement typ\u00e9.\n",
        "predict_clr_numba_cast(x[0], clr.coef_, clr.intercept_)"
      ]
    },
    {
      "cell_type": "code",
      "execution_count": 53,
      "metadata": {},
      "outputs": [
        {
          "name": "stdout",
          "output_type": "stream",
          "text": [
            "Moyenne: 1.73 \u00b5s Ecart-type 1.25 \u00b5s (with 100 runs) in [841.48 ns, 3.49 \u00b5s]\n"
          ]
        }
      ],
      "source": [
        "memo_time.append(timeexe(\"numba-linreg-type\", \"predict_clr_numba_cast(x[0], clr.coef_, clr.intercept_)\"))"
      ]
    },
    {
      "cell_type": "markdown",
      "metadata": {},
      "source": [
        "On voit que plus on donne d'information au compilateur, plus il est capable d'optimiser."
      ]
    },
    {
      "cell_type": "code",
      "execution_count": 54,
      "metadata": {},
      "outputs": [
        {
          "data": {
            "text/plain": [
              "197.61846923828125"
            ]
          },
          "execution_count": 55,
          "metadata": {},
          "output_type": "execute_result"
        }
      ],
      "source": [
        "@jit('float32(float32[:], float32[:], float32)')\n",
        "def predict_clr_numba_cast_float(x, coef, intercept):\n",
        "    s = intercept\n",
        "    for i in range(0, len(x)):\n",
        "        s += coef[i] * x[i]\n",
        "    return s\n",
        "            \n",
        "# La fonction ne fonctionne qu'avec un numpy.array car le langage C est fortement typ\u00e9.\n",
        "x32 = x[0].astype(numpy.float32)\n",
        "c32 = clr.coef_.astype(numpy.float32)\n",
        "i32 = numpy.float32(clr.intercept_)\n",
        "predict_clr_numba_cast_float(x32, c32, i32)"
      ]
    },
    {
      "cell_type": "code",
      "execution_count": 55,
      "metadata": {},
      "outputs": [
        {
          "name": "stdout",
          "output_type": "stream",
          "text": [
            "Moyenne: 1.19 \u00b5s Ecart-type 620.34 ns (with 100 runs) in [628.15 ns, 2.18 \u00b5s]\n"
          ]
        }
      ],
      "source": [
        "memo_time.append(timeexe(\"numba-linreg-type-float32\", \"predict_clr_numba_cast_float(x32, c32, i32)\"))"
      ]
    },
    {
      "cell_type": "markdown",
      "metadata": {},
      "source": [
        "On essaye avec les coefficients dans la fonction."
      ]
    },
    {
      "cell_type": "code",
      "execution_count": 56,
      "metadata": {},
      "outputs": [
        {
          "data": {
            "text/plain": [
              "197.61846907190048"
            ]
          },
          "execution_count": 57,
          "metadata": {},
          "output_type": "execute_result"
        }
      ],
      "source": [
        "@jit('double(double[:])')\n",
        "def predict_clr_numba_cast_custom(x):\n",
        "    coef = [ 3.03499549e-01, -2.37639315e+02,  5.10530605e+02,  3.27736980e+02,\n",
        "            -8.14131709e+02,  4.92814588e+02,  1.02848452e+02,  1.84606489e+02,\n",
        "             7.43519617e+02,  7.60951722e+01]\n",
        "    s = 152.76430691633442\n",
        "    for i in range(0, len(x)):\n",
        "        s += coef[i] * x[i]\n",
        "    return s\n",
        "            \n",
        "predict_clr_numba_cast_custom(x[0])"
      ]
    },
    {
      "cell_type": "code",
      "execution_count": 57,
      "metadata": {},
      "outputs": [
        {
          "name": "stdout",
          "output_type": "stream",
          "text": [
            "Moyenne: 1.59 \u00b5s Ecart-type 706.24 ns (with 100 runs) in [813.83 ns, 2.93 \u00b5s]\n"
          ]
        }
      ],
      "source": [
        "memo_time.append(timeexe(\"numba-linreg-type-custom\", \"predict_clr_numba_cast_custom(x[0])\"))"
      ]
    },
    {
      "cell_type": "markdown",
      "metadata": {},
      "source": [
        "On se rapproche des temps obtenus avec *cffi* sans *wrapping*, cela signifie que *numba* fait un bien meilleur travail \u00e0 ce niveau que le wrapper rapidement cr\u00e9\u00e9."
      ]
    },
    {
      "cell_type": "code",
      "execution_count": 58,
      "metadata": {},
      "outputs": [
        {
          "data": {
            "text/plain": [
              "197.61846907503298"
            ]
          },
          "execution_count": 59,
          "metadata": {},
          "output_type": "execute_result"
        }
      ],
      "source": [
        "@jit('double(double[:], double[:], double)')\n",
        "def predict_clr_numba_numpy(x, coef, intercept):    \n",
        "    return intercept + numpy.dot(coef, x).sum()\n",
        "\n",
        "predict_clr_numba_numpy(x[0], clr.coef_, clr.intercept_)"
      ]
    },
    {
      "cell_type": "code",
      "execution_count": 59,
      "metadata": {},
      "outputs": [
        {
          "name": "stdout",
          "output_type": "stream",
          "text": [
            "Moyenne: 12.51 \u00b5s Ecart-type 5.14 \u00b5s (with 100 runs) in [6.95 \u00b5s, 20.01 \u00b5s]\n"
          ]
        }
      ],
      "source": [
        "memo_time.append(timeexe(\"numba-linreg-type-numpy\", \"predict_clr_numba_numpy(x[0], clr.coef_, clr.intercept_)\"))"
      ]
    },
    {
      "cell_type": "markdown",
      "metadata": {},
      "source": [
        "*numba* est moins performant quand *numpy* est impliqu\u00e9 car le code de numpy n'est pas r\u00e9\u00e9crit, il est appel\u00e9."
      ]
    },
    {
      "cell_type": "markdown",
      "metadata": {},
      "source": [
        "### cython\n",
        "\n",
        "[cython](http://cython.org/) permet de cr\u00e9er des extensions C de plus grande envergure que *numba*. C'est l'option choisie par [scikit-learn](http://scikit-learn.org/stable/). Il vaut mieux conna\u00eetre le C pour s'en servir et l\u00e0 encore, l'objectif est de r\u00e9duire les \u00e9changes Python / C qui co\u00fbtent cher."
      ]
    },
    {
      "cell_type": "code",
      "execution_count": 60,
      "metadata": {},
      "outputs": [],
      "source": [
        "%load_ext cython"
      ]
    },
    {
      "cell_type": "code",
      "execution_count": 61,
      "metadata": {},
      "outputs": [],
      "source": [
        "%%cython\n",
        "def predict_clr_cython(x, coef, intercept):\n",
        "    s = intercept\n",
        "    for i in range(0, len(x)):\n",
        "        s += coef[i] * x[i]\n",
        "    return s"
      ]
    },
    {
      "cell_type": "code",
      "execution_count": 62,
      "metadata": {},
      "outputs": [
        {
          "data": {
            "text/plain": [
              "197.61846907503298"
            ]
          },
          "execution_count": 63,
          "metadata": {},
          "output_type": "execute_result"
        }
      ],
      "source": [
        "predict_clr_cython(x[0], clr.coef_, clr.intercept_)"
      ]
    },
    {
      "cell_type": "code",
      "execution_count": 63,
      "metadata": {},
      "outputs": [
        {
          "name": "stdout",
          "output_type": "stream",
          "text": [
            "Moyenne: 5.29 \u00b5s Ecart-type 2.55 \u00b5s (with 100 runs) in [2.62 \u00b5s, 8.99 \u00b5s]\n"
          ]
        }
      ],
      "source": [
        "memo_time.append(timeexe(\"cython-linreg\", \"predict_clr_cython(x[0], clr.coef_, clr.intercept_)\"))"
      ]
    },
    {
      "cell_type": "markdown",
      "metadata": {},
      "source": [
        "Cython fait moins bien que *numba* dans notre cas et l'optimisation propos\u00e9e est assez proche du temps d\u00e9j\u00e0 obtenue avec le langage Python seul. Cela est d\u00fb au fait que la plupart des objets tels que du code associ\u00e9 aux listes ou aux dictionnaires ont \u00e9t\u00e9 r\u00e9\u00e9crits en C."
      ]
    },
    {
      "cell_type": "code",
      "execution_count": 64,
      "metadata": {},
      "outputs": [],
      "source": [
        "%%cython\n",
        "cimport numpy as npc\n",
        "\n",
        "def predict_clr_cython_type(npc.ndarray[double, ndim=1, mode='c'] x,\n",
        "                            npc.ndarray[double, ndim=1, mode='c'] coef,\n",
        "                            double intercept):\n",
        "    cdef double s = intercept\n",
        "    for i in range(0, x.shape[0]):\n",
        "        s += coef[i] * x[i]\n",
        "    return s"
      ]
    },
    {
      "cell_type": "code",
      "execution_count": 65,
      "metadata": {},
      "outputs": [
        {
          "data": {
            "text/plain": [
              "197.61846907503298"
            ]
          },
          "execution_count": 66,
          "metadata": {},
          "output_type": "execute_result"
        }
      ],
      "source": [
        "predict_clr_cython_type(x[0], clr.coef_, clr.intercept_)"
      ]
    },
    {
      "cell_type": "code",
      "execution_count": 66,
      "metadata": {},
      "outputs": [
        {
          "name": "stdout",
          "output_type": "stream",
          "text": [
            "Moyenne: 2.68 \u00b5s Ecart-type 892.33 ns (with 100 runs) in [1.57 \u00b5s, 3.96 \u00b5s]\n"
          ]
        }
      ],
      "source": [
        "memo_time.append(timeexe(\"cython-linreg-type\", \"predict_clr_cython_type(x[0], clr.coef_, clr.intercept_)\"))"
      ]
    },
    {
      "cell_type": "markdown",
      "metadata": {},
      "source": [
        "Le temps est quasi identique avec un \u00e9cart type moins grand de fa\u00e7on significative."
      ]
    },
    {
      "cell_type": "markdown",
      "metadata": {},
      "source": [
        "### Une derni\u00e8re option : ONNX\n",
        "\n",
        "[ONNX](https://onnx.ai/) est un format de s\u00e9rialisation qui permet de d\u00e9crire un mod\u00e8le de mod\u00e8le de machine learning ou de deep learning. Cela permet de dissocer le mod\u00e8le de la librairie qui a servi \u00e0 le produire (voir [ML.net and ONNX](http://www.xavierdupre.fr/app/machinelearningext/helpsphinx/aonnx.html)."
      ]
    },
    {
      "cell_type": "code",
      "execution_count": 67,
      "metadata": {},
      "outputs": [
        {
          "name": "stdout",
          "output_type": "stream",
          "text": [
            "onnx, onnxmltools, onnxruntime sont disponibles.\n"
          ]
        }
      ],
      "source": [
        "try:\n",
        "    from onnxmltools import convert_sklearn\n",
        "    from onnxmltools.utils import save_model\n",
        "    from onnxmltools.convert.common.data_types import FloatTensorType\n",
        "    import onnxruntime\n",
        "    import onnx\n",
        "    ok_onnx = True\n",
        "    print(\"onnx, onnxmltools, onnxruntime sont disponibles.\")\n",
        "except ImportError as e:\n",
        "    print(\"La suite requiert onnx, onnxmltools et onnxruntime.\")\n",
        "    print(e)\n",
        "    ok_onnx = False"
      ]
    },
    {
      "cell_type": "markdown",
      "metadata": {},
      "source": [
        "On convertit le mod\u00e8le au format [ONNX](https://onnx.ai/)."
      ]
    },
    {
      "cell_type": "code",
      "execution_count": 68,
      "metadata": {},
      "outputs": [
        {
          "name": "stdout",
          "output_type": "stream",
          "text": [
            "Mod\u00e8le s\u00e9rialis\u00e9 au format ONNX\n",
            "ir_version: 3\n",
            "producer_name: \"OnnxMLTools\"\n",
            "producer_version: \"1.3.0.1000\"\n",
            "domain: \"onnxml\"\n",
            "model_version: 0\n",
            "doc_string: \"\"\n",
            "graph {\n",
            "  node {\n",
            "    input: \"input\"\n",
            "    output: \"variable\"\n",
            "    name: \"LinearRegressor\"\n",
            "    op_type: \"LinearRegressor\"\n",
            "    attribute {\n",
            "      name: \"coefficients\"\n",
            "      floats: 0.3034995496273041\n",
            "      floats: -237.63931274414062\n",
            "      floats: 510.5306091308594\n",
            "      floats: 327.7369689941406\n",
            "      floats: -814.1317138671875\n",
            "      floats: 492.8145751953125\n",
            "      floats: 102.84844970703125\n",
            "      floats: 184.6064910888672\n",
            "      floats: 743.5195922851562\n",
            "      floats: 76.09516906738281\n",
            "      type: FLOATS\n",
            "    }\n",
            "    attribute {\n",
            "      name: \"intercepts\"\n",
            "      floats: 152.76431274414062\n",
            "      type: FLOATS\n",
            "    }\n",
            "    domain: \"ai.onnx.ml\"\n",
            "  }\n",
            "  name: \"model\"\n",
            "  input {\n",
            "    name: \"input\"\n",
            "    type {\n",
            "      tensor_type {\n",
            "        elem_type: FLOAT\n",
            "        shape {\n",
            "          dim {\n",
            "            dim_value: 1\n",
            "          }\n",
            "          dim {\n",
            "            dim_value: 10\n",
            "          }\n",
            "        }\n",
            "      }\n",
            "    }\n",
            "  }\n",
            "  output {\n",
            "    name: \"variable\"\n",
            "    type {\n",
            "      tensor_type {\n",
            "        elem_type: FLOAT\n",
            "        shape {\n",
            "          dim {\n",
            "            dim_value: 1\n",
            "          }\n",
            "          dim {\n",
            "            dim_value: 1\n",
            "          }\n",
            "        }\n",
            "      }\n",
            "    }\n",
            "  }\n",
            "}\n",
            "opset_import {\n",
            "  domain: \"ai.onnx.ml\"\n",
            "  version: 1\n",
            "}\n",
            "\n"
          ]
        }
      ],
      "source": [
        "if ok_onnx:\n",
        "    onnx_model = convert_sklearn(clr, 'model', [('input', FloatTensorType([1, clr.coef_.shape[0]]))])\n",
        "    save_model(onnx_model, 'model.onnx')\n",
        "    \n",
        "    model_onnx = onnx.load('model.onnx')\n",
        "    print(\"Mod\u00e8le s\u00e9rialis\u00e9 au format ONNX\")\n",
        "    print(model_onnx)\n",
        "else:\n",
        "    print(\"onnx, onnxmltools, onnxruntime sont disponibles.\")"
      ]
    },
    {
      "cell_type": "markdown",
      "metadata": {},
      "source": [
        "On calcule les pr\u00e9dictions. Le module {onnxruntime](https://docs.microsoft.com/en-us/python/api/overview/azure/onnx/intro?view=azure-onnx-py) optimise les calculs pour des mod\u00e8les de deep learning. Cela explique pourquoi tous les calculs sont r\u00e9alis\u00e9s avec des r\u00e9els repr\u00e9sent\u00e9s sur 4 octets [numpy.float32](https://docs.scipy.org/doc/numpy/user/basics.types.html?highlight=float32)."
      ]
    },
    {
      "cell_type": "code",
      "execution_count": 69,
      "metadata": {},
      "outputs": [
        {
          "name": "stdout",
          "output_type": "stream",
          "text": [
            "Input: NodeArg(name='input', type='tensor(float)', shape=[1, 10])\n",
            "Output: NodeArg(name='variable', type='tensor(float)', shape=[1, 1])\n",
            "Prediction: [array([[197.61847]], dtype=float32)]\n"
          ]
        }
      ],
      "source": [
        "if ok_onnx:\n",
        "    sess = onnxruntime.InferenceSession(\"model.onnx\")\n",
        "    for i in sess.get_inputs():\n",
        "        print('Input:', i)\n",
        "    for o in sess.get_outputs():\n",
        "        print('Output:', o)\n",
        "    \n",
        "    def predict_onnxrt(x):    \n",
        "        return sess.run([\"variable\"], {'input': x})\n",
        "    \n",
        "    print(\"Prediction:\", predict_onnxrt(x.astype(numpy.float32)))"
      ]
    },
    {
      "cell_type": "code",
      "execution_count": 70,
      "metadata": {},
      "outputs": [
        {
          "name": "stdout",
          "output_type": "stream",
          "text": [
            "Moyenne: 26.25 \u00b5s Ecart-type 8.79 \u00b5s (with 100 runs) in [16.11 \u00b5s, 42.13 \u00b5s]\n",
            "Moyenne: 32.46 \u00b5s Ecart-type 7.86 \u00b5s (with 100 runs) in [23.06 \u00b5s, 48.51 \u00b5s]\n"
          ]
        }
      ],
      "source": [
        "if ok_onnx:\n",
        "    x32 = x.astype(numpy.float32)\n",
        "    memo_time.append(timeexe(\"onnxruntime-float32\", \"predict_onnxrt(x32)\"))\n",
        "    memo_time.append(timeexe(\"onnxruntime-float64\", \"predict_onnxrt(x.astype(numpy.float32))\"))"
      ]
    },
    {
      "cell_type": "markdown",
      "metadata": {},
      "source": [
        "### NimbusML\n",
        "\n",
        "[NimbusML](https://github.com/Microsoft/NimbusML) est un wrapper python de la librairie [ML.net](https://github.com/dotnet/machinelearning) qui propose diff\u00e9rents algorithmes d'apprentissage et dont l'impl\u00e9mentation s'appuie pour une grande part sur du *C#* et du *C++*."
      ]
    },
    {
      "cell_type": "code",
      "execution_count": 71,
      "metadata": {},
      "outputs": [
        {
          "name": "stdout",
          "output_type": "stream",
          "text": [
            "Automatically adding a MinMax normalization transform, use 'norm=Warn' or 'norm=No' to turn this behavior off.\n",
            "Trainer solving for 11 parameters across 422 examples\n",
            "Coefficient of determination R2 = 0.512226221150138, or 0.500358245995641 (adjusted)\n",
            "Not training a calibrator because it is not needed.\n",
            "Elapsed time: 00:00:01.9415383\n"
          ]
        }
      ],
      "source": [
        "try:\n",
        "    from nimbusml.linear_model import OrdinaryLeastSquaresRegressor\n",
        "    ok_nimbus = True\n",
        "except ImportError:\n",
        "    ok_nimbus = False\n",
        "if ok_nimbus:\n",
        "    nlr = OrdinaryLeastSquaresRegressor()\n",
        "    nlr.fit(diabetes_X_train, diabetes_y_train)"
      ]
    },
    {
      "cell_type": "markdown",
      "metadata": {},
      "source": [
        "Les coefficients sont acessibles via la m\u00e9thode [summary](https://docs.microsoft.com/en-us/python/api/nimbusml/nimbusml.pipeline?view=nimbusml-py-latest#summary)."
      ]
    },
    {
      "cell_type": "code",
      "execution_count": 72,
      "metadata": {},
      "outputs": [
        {
          "name": "stdout",
          "output_type": "stream",
          "text": [
            "         Bias  Weights.F0  Weights.F1  Weights.F2  Weights.F3  Weights.F4  \\\n",
            "0  152.764313    0.033607  -12.043589   87.073662   43.275772 -125.306023   \n",
            "\n",
            "   Weights.F5  Weights.F6  Weights.F7  Weights.F8  Weights.F9  \n",
            "0   97.965599   18.633986   34.195492   99.333458   10.483422  \n"
          ]
        }
      ],
      "source": [
        "if ok_nimbus:\n",
        "    df = nlr.summary()\n",
        "    print(df)"
      ]
    },
    {
      "cell_type": "code",
      "execution_count": 73,
      "metadata": {},
      "outputs": [
        {
          "name": "stdout",
          "output_type": "stream",
          "text": [
            "0    197.618484\n",
            "Name: Score, dtype: float32\n"
          ]
        }
      ],
      "source": [
        "if ok_nimbus:\n",
        "    x = diabetes_X_test[0:1]\n",
        "    print(nlr.predict(x))"
      ]
    },
    {
      "cell_type": "code",
      "execution_count": 74,
      "metadata": {},
      "outputs": [
        {
          "name": "stdout",
          "output_type": "stream",
          "text": [
            "Moyenne: 461.28 ms Ecart-type 59.72 ms (with 5 runs) in [404.02 ms, 557.38 ms]\n"
          ]
        }
      ],
      "source": [
        "if ok_nimbus:    \n",
        "    memo_time.append(timeexe(\"nimbusml.predict\", \"nlr.predict(x)\", repeat=5, number=5))"
      ]
    },
    {
      "cell_type": "markdown",
      "metadata": {},
      "source": [
        "Le module *nimbusml* est optimis\u00e9 pour l'apprentissage et les pr\u00e9dictions par batch."
      ]
    },
    {
      "cell_type": "markdown",
      "metadata": {},
      "source": [
        "### csharpyml\n",
        "\n",
        "[csharpyml](http://www.xavierdupre.fr/app/csharpyml/helpsphinx/) est un wrapper autour de [ML.net](https://github.com/dotnet/machinelearning) utilisant [pythonnet](https://github.com/pythonnet/pythonnet)."
      ]
    },
    {
      "cell_type": "code",
      "execution_count": 75,
      "metadata": {},
      "outputs": [
        {
          "data": {
            "text/html": [
              "<div>\n",
              "<style scoped>\n",
              "    .dataframe tbody tr th:only-of-type {\n",
              "        vertical-align: middle;\n",
              "    }\n",
              "\n",
              "    .dataframe tbody tr th {\n",
              "        vertical-align: top;\n",
              "    }\n",
              "\n",
              "    .dataframe thead th {\n",
              "        text-align: right;\n",
              "    }\n",
              "</style>\n",
              "<table border=\"1\" class=\"dataframe\">\n",
              "  <thead>\n",
              "    <tr style=\"text-align: right;\">\n",
              "      <th></th>\n",
              "      <th>F0</th>\n",
              "      <th>F1</th>\n",
              "      <th>F2</th>\n",
              "      <th>F3</th>\n",
              "      <th>F4</th>\n",
              "      <th>F5</th>\n",
              "      <th>F6</th>\n",
              "      <th>F7</th>\n",
              "      <th>F8</th>\n",
              "      <th>F9</th>\n",
              "      <th>Label</th>\n",
              "    </tr>\n",
              "  </thead>\n",
              "  <tbody>\n",
              "    <tr>\n",
              "      <th>0</th>\n",
              "      <td>0.038076</td>\n",
              "      <td>0.050680</td>\n",
              "      <td>0.061696</td>\n",
              "      <td>0.021872</td>\n",
              "      <td>-0.044223</td>\n",
              "      <td>-0.034821</td>\n",
              "      <td>-0.043401</td>\n",
              "      <td>-0.002592</td>\n",
              "      <td>0.019908</td>\n",
              "      <td>-0.017646</td>\n",
              "      <td>151.0</td>\n",
              "    </tr>\n",
              "    <tr>\n",
              "      <th>1</th>\n",
              "      <td>-0.001882</td>\n",
              "      <td>-0.044642</td>\n",
              "      <td>-0.051474</td>\n",
              "      <td>-0.026328</td>\n",
              "      <td>-0.008449</td>\n",
              "      <td>-0.019163</td>\n",
              "      <td>0.074412</td>\n",
              "      <td>-0.039493</td>\n",
              "      <td>-0.068330</td>\n",
              "      <td>-0.092204</td>\n",
              "      <td>75.0</td>\n",
              "    </tr>\n",
              "  </tbody>\n",
              "</table>\n",
              "</div>"
            ],
            "text/plain": [
              "         F0        F1        F2        F3        F4        F5        F6  \\\n",
              "0  0.038076  0.050680  0.061696  0.021872 -0.044223 -0.034821 -0.043401   \n",
              "1 -0.001882 -0.044642 -0.051474 -0.026328 -0.008449 -0.019163  0.074412   \n",
              "\n",
              "         F7        F8        F9  Label  \n",
              "0 -0.002592  0.019908 -0.017646  151.0  \n",
              "1 -0.039493 -0.068330 -0.092204   75.0  "
            ]
          },
          "execution_count": 76,
          "metadata": {},
          "output_type": "execute_result"
        }
      ],
      "source": [
        "from pandas import DataFrame\n",
        "conc = DataFrame(diabetes_X_train.astype(numpy.float32))\n",
        "features = conc.columns = [\"F%d\" % i for i in range(0, conc.shape[1])]\n",
        "conc[\"Label\"] = diabetes_y_train.astype(numpy.float32)\n",
        "conc.head(n=2)"
      ]
    },
    {
      "cell_type": "code",
      "execution_count": 76,
      "metadata": {},
      "outputs": [
        {
          "data": {
            "text/plain": [
              "'concat{col=Feature:F0,F1,F2,F3,F4,F5,F6,F7,F8,F9}'"
            ]
          },
          "execution_count": 77,
          "metadata": {},
          "output_type": "execute_result"
        }
      ],
      "source": [
        "concatation = f\"concat{{col=Feature:{','.join(features)}}}\"\n",
        "concatation"
      ]
    },
    {
      "cell_type": "code",
      "execution_count": 77,
      "metadata": {},
      "outputs": [],
      "source": [
        "try:\n",
        "    from csharpyml.binaries import CSPipeline\n",
        "    ok_csharpyml = True\n",
        "except ImportError:\n",
        "    ok_csharpyml = False\n",
        "if ok_csharpyml:\n",
        "    pipe = CSPipeline([concatation], \"ols\")\n",
        "    pipe.fit(conc, feature=\"Feature\", label=\"Label\")"
      ]
    },
    {
      "cell_type": "code",
      "execution_count": 78,
      "metadata": {},
      "outputs": [
        {
          "name": "stdout",
          "output_type": "stream",
          "text": [
            "         F0       F1        F2        F3        F4        F5        F6  \\\n",
            "0 -0.078165  0.05068  0.077863  0.052858  0.078236  0.064447  0.026550   \n",
            "1  0.009016  0.05068 -0.039618  0.028758  0.038334  0.073529 -0.072854   \n",
            "\n",
            "         F7        F8        F9     ...      Feature.1  Feature.2  Feature.3  \\\n",
            "0 -0.002592  0.040672 -0.009362     ...        0.05068   0.077863   0.052858   \n",
            "1  0.108111  0.015567 -0.046641     ...        0.05068  -0.039618   0.028758   \n",
            "\n",
            "   Feature.4  Feature.5  Feature.6  Feature.7  Feature.8  Feature.9  \\\n",
            "0   0.078236   0.064447   0.026550  -0.002592   0.040672  -0.009362   \n",
            "1   0.038334   0.073529  -0.072854   0.108111   0.015567  -0.046641   \n",
            "\n",
            "        Score  \n",
            "0  197.618500  \n",
            "1  155.439804  \n",
            "\n",
            "[2 rows x 22 columns]\n"
          ]
        }
      ],
      "source": [
        "if ok_csharpyml:\n",
        "    conc_test = DataFrame(diabetes_X_test.astype(numpy.float32))\n",
        "    conc_test.columns = [\"F%d\" % i for i in range(0, conc_test.shape[1])]\n",
        "    # Le label est requis car le pipeline interne suppose qu'il y est...\n",
        "    conc_test[\"Label\"] = numpy.zeros((conc_test.shape[0],), dtype=numpy.float32)\n",
        "    print(pipe.predict(conc_test).head(n=2))"
      ]
    },
    {
      "cell_type": "code",
      "execution_count": 79,
      "metadata": {},
      "outputs": [
        {
          "name": "stdout",
          "output_type": "stream",
          "text": [
            "Moyenne: 22.52 ms Ecart-type 5.92 ms (with 10 runs) in [16.32 ms, 38.24 ms]\n"
          ]
        }
      ],
      "source": [
        "if ok_csharpyml:\n",
        "    obs = conc_test[:1]\n",
        "    memo_time.append(timeexe(\"csharpyml.predict\", \"pipe.predict(obs)\", repeat=30, number=10))"
      ]
    },
    {
      "cell_type": "markdown",
      "metadata": {},
      "source": [
        "Pour fonctionner, le module convertit le dataframe en [dataframe C#](http://www.xavierdupre.fr/app/machinelearningext/helpsphinx/dataframe.html). On enl\u00e8ve ce co\u00fbt pour \u00eatre plus proche du temps de calcul li\u00e9 \u00e0 la fonction C#."
      ]
    },
    {
      "cell_type": "code",
      "execution_count": 80,
      "metadata": {},
      "outputs": [
        {
          "name": "stdout",
          "output_type": "stream",
          "text": [
            "Moyenne: 20.45 \u00b5s Ecart-type 7.31 \u00b5s (with 100 runs) in [11.36 \u00b5s, 34.37 \u00b5s]\n"
          ]
        }
      ],
      "source": [
        "if ok_csharpyml:\n",
        "    from csharpyml.binaries import CSDataFrame\n",
        "    obs = CSDataFrame.read_df(conc_test[:1])\n",
        "    memo_time.append(timeexe(\"csharpyml.predict-C#\", \"pipe.predict(obs)\"))"
      ]
    },
    {
      "cell_type": "markdown",
      "metadata": {},
      "source": [
        "### R\u00e9capitulatif"
      ]
    },
    {
      "cell_type": "code",
      "execution_count": 81,
      "metadata": {},
      "outputs": [
        {
          "data": {
            "text/html": [
              "<div>\n",
              "<style scoped>\n",
              "    .dataframe tbody tr th:only-of-type {\n",
              "        vertical-align: middle;\n",
              "    }\n",
              "\n",
              "    .dataframe tbody tr th {\n",
              "        vertical-align: top;\n",
              "    }\n",
              "\n",
              "    .dataframe thead th {\n",
              "        text-align: right;\n",
              "    }\n",
              "</style>\n",
              "<table border=\"1\" class=\"dataframe\">\n",
              "  <thead>\n",
              "    <tr style=\"text-align: right;\">\n",
              "      <th></th>\n",
              "      <th>average</th>\n",
              "      <th>code</th>\n",
              "      <th>deviation</th>\n",
              "      <th>first</th>\n",
              "      <th>first3</th>\n",
              "      <th>last3</th>\n",
              "      <th>max5</th>\n",
              "      <th>min5</th>\n",
              "      <th>repeat</th>\n",
              "      <th>run</th>\n",
              "    </tr>\n",
              "    <tr>\n",
              "      <th>legend</th>\n",
              "      <th></th>\n",
              "      <th></th>\n",
              "      <th></th>\n",
              "      <th></th>\n",
              "      <th></th>\n",
              "      <th></th>\n",
              "      <th></th>\n",
              "      <th></th>\n",
              "      <th></th>\n",
              "      <th></th>\n",
              "    </tr>\n",
              "  </thead>\n",
              "  <tbody>\n",
              "    <tr>\n",
              "      <th>cffi-linreg-custom-float32-simd</th>\n",
              "      <td>5.509177e-07</td>\n",
              "      <td>linreg_custom_float_simd(cptr_x, cptr_out)</td>\n",
              "      <td>3.804967e-07</td>\n",
              "      <td>0.000001</td>\n",
              "      <td>8.678167e-07</td>\n",
              "      <td>3.608233e-07</td>\n",
              "      <td>8.138300e-07</td>\n",
              "      <td>3.555500e-07</td>\n",
              "      <td>1000</td>\n",
              "      <td>100</td>\n",
              "    </tr>\n",
              "    <tr>\n",
              "      <th>cffi-linreg-custom</th>\n",
              "      <td>6.945190e-07</td>\n",
              "      <td>linreg_custom(cptr_x, cptr_out)</td>\n",
              "      <td>5.929634e-07</td>\n",
              "      <td>0.000003</td>\n",
              "      <td>2.864197e-06</td>\n",
              "      <td>6.834600e-07</td>\n",
              "      <td>1.193090e-06</td>\n",
              "      <td>3.950600e-07</td>\n",
              "      <td>1000</td>\n",
              "      <td>100</td>\n",
              "    </tr>\n",
              "    <tr>\n",
              "      <th>cffi-linreg</th>\n",
              "      <td>7.946076e-07</td>\n",
              "      <td>lib.linreg(n, cptr_x, cptr_coef, clr.intercept...</td>\n",
              "      <td>4.174084e-07</td>\n",
              "      <td>0.000003</td>\n",
              "      <td>2.216297e-06</td>\n",
              "      <td>8.928400e-07</td>\n",
              "      <td>1.374820e-06</td>\n",
              "      <td>4.622300e-07</td>\n",
              "      <td>1000</td>\n",
              "      <td>100</td>\n",
              "    </tr>\n",
              "    <tr>\n",
              "      <th>cffi-linreg-custom-float32</th>\n",
              "      <td>1.122592e-06</td>\n",
              "      <td>linreg_custom_float(cptr_x, cptr_out)</td>\n",
              "      <td>1.166959e-06</td>\n",
              "      <td>0.000024</td>\n",
              "      <td>9.311607e-06</td>\n",
              "      <td>6.966267e-07</td>\n",
              "      <td>2.342720e-06</td>\n",
              "      <td>6.913600e-07</td>\n",
              "      <td>1000</td>\n",
              "      <td>100</td>\n",
              "    </tr>\n",
              "    <tr>\n",
              "      <th>numba-linreg-type-float32</th>\n",
              "      <td>1.190092e-06</td>\n",
              "      <td>predict_clr_numba_cast_float(x32, c32, i32)</td>\n",
              "      <td>6.203381e-07</td>\n",
              "      <td>0.000001</td>\n",
              "      <td>1.164117e-06</td>\n",
              "      <td>1.984530e-06</td>\n",
              "      <td>2.176790e-06</td>\n",
              "      <td>6.281500e-07</td>\n",
              "      <td>1000</td>\n",
              "      <td>100</td>\n",
              "    </tr>\n",
              "    <tr>\n",
              "      <th>numba-linreg-type-custom</th>\n",
              "      <td>1.587967e-06</td>\n",
              "      <td>predict_clr_numba_cast_custom(x[0])</td>\n",
              "      <td>7.062380e-07</td>\n",
              "      <td>0.000001</td>\n",
              "      <td>9.204900e-07</td>\n",
              "      <td>1.351110e-06</td>\n",
              "      <td>2.927400e-06</td>\n",
              "      <td>8.138300e-07</td>\n",
              "      <td>1000</td>\n",
              "      <td>100</td>\n",
              "    </tr>\n",
              "    <tr>\n",
              "      <th>numba-linreg-type</th>\n",
              "      <td>1.730193e-06</td>\n",
              "      <td>predict_clr_numba_cast(x[0], clr.coef_, clr.in...</td>\n",
              "      <td>1.246255e-06</td>\n",
              "      <td>0.000005</td>\n",
              "      <td>4.196877e-06</td>\n",
              "      <td>1.569717e-06</td>\n",
              "      <td>3.492350e-06</td>\n",
              "      <td>8.414800e-07</td>\n",
              "      <td>1000</td>\n",
              "      <td>100</td>\n",
              "    </tr>\n",
              "    <tr>\n",
              "      <th>cython-linreg-type</th>\n",
              "      <td>2.684370e-06</td>\n",
              "      <td>predict_clr_cython_type(x[0], clr.coef_, clr.i...</td>\n",
              "      <td>8.923258e-07</td>\n",
              "      <td>0.000002</td>\n",
              "      <td>2.409877e-06</td>\n",
              "      <td>2.812843e-06</td>\n",
              "      <td>3.958520e-06</td>\n",
              "      <td>1.572350e-06</td>\n",
              "      <td>1000</td>\n",
              "      <td>100</td>\n",
              "    </tr>\n",
              "    <tr>\n",
              "      <th>python-linreg-custom</th>\n",
              "      <td>5.198307e-06</td>\n",
              "      <td>predict_clr_python(z)</td>\n",
              "      <td>2.358929e-06</td>\n",
              "      <td>0.000006</td>\n",
              "      <td>6.716053e-06</td>\n",
              "      <td>2.392760e-06</td>\n",
              "      <td>9.220750e-06</td>\n",
              "      <td>2.386170e-06</td>\n",
              "      <td>1000</td>\n",
              "      <td>100</td>\n",
              "    </tr>\n",
              "    <tr>\n",
              "      <th>cython-linreg</th>\n",
              "      <td>5.289535e-06</td>\n",
              "      <td>predict_clr_cython(x[0], clr.coef_, clr.interc...</td>\n",
              "      <td>2.545080e-06</td>\n",
              "      <td>0.000005</td>\n",
              "      <td>4.107327e-06</td>\n",
              "      <td>4.374653e-06</td>\n",
              "      <td>8.987660e-06</td>\n",
              "      <td>2.615300e-06</td>\n",
              "      <td>1000</td>\n",
              "      <td>100</td>\n",
              "    </tr>\n",
              "    <tr>\n",
              "      <th>python-linreg</th>\n",
              "      <td>8.126214e-06</td>\n",
              "      <td>predict_clr_python_loop(z, coef, intercept)</td>\n",
              "      <td>3.229416e-06</td>\n",
              "      <td>0.000006</td>\n",
              "      <td>5.899590e-06</td>\n",
              "      <td>6.951773e-06</td>\n",
              "      <td>1.360988e-05</td>\n",
              "      <td>4.152100e-06</td>\n",
              "      <td>1000</td>\n",
              "      <td>100</td>\n",
              "    </tr>\n",
              "    <tr>\n",
              "      <th>cffi-linreg-custom wrapped</th>\n",
              "      <td>9.714181e-06</td>\n",
              "      <td>predict_clr_custom(x)</td>\n",
              "      <td>2.861559e-06</td>\n",
              "      <td>0.000025</td>\n",
              "      <td>2.240527e-05</td>\n",
              "      <td>9.818607e-06</td>\n",
              "      <td>1.622519e-05</td>\n",
              "      <td>5.878520e-06</td>\n",
              "      <td>1000</td>\n",
              "      <td>100</td>\n",
              "    </tr>\n",
              "    <tr>\n",
              "      <th>cffi-linreg-custom-float wrapped</th>\n",
              "      <td>1.226456e-05</td>\n",
              "      <td>predict_clr_custom(x32)</td>\n",
              "      <td>5.064189e-06</td>\n",
              "      <td>0.000015</td>\n",
              "      <td>1.491754e-05</td>\n",
              "      <td>1.953318e-05</td>\n",
              "      <td>2.258174e-05</td>\n",
              "      <td>6.637040e-06</td>\n",
              "      <td>1000</td>\n",
              "      <td>100</td>\n",
              "    </tr>\n",
              "    <tr>\n",
              "      <th>numba-linreg-type-numpy</th>\n",
              "      <td>1.251224e-05</td>\n",
              "      <td>predict_clr_numba_numpy(x[0], clr.coef_, clr.i...</td>\n",
              "      <td>5.142496e-06</td>\n",
              "      <td>0.000062</td>\n",
              "      <td>4.541236e-05</td>\n",
              "      <td>2.328758e-05</td>\n",
              "      <td>2.000988e-05</td>\n",
              "      <td>6.945180e-06</td>\n",
              "      <td>1000</td>\n",
              "      <td>100</td>\n",
              "    </tr>\n",
              "    <tr>\n",
              "      <th>numpy-linreg-numpy</th>\n",
              "      <td>1.541223e-05</td>\n",
              "      <td>predict_clr_numpy(z, coef, clr.intercept_)</td>\n",
              "      <td>4.782486e-06</td>\n",
              "      <td>0.000018</td>\n",
              "      <td>1.726157e-05</td>\n",
              "      <td>1.396148e-05</td>\n",
              "      <td>2.464001e-05</td>\n",
              "      <td>8.379260e-06</td>\n",
              "      <td>1000</td>\n",
              "      <td>100</td>\n",
              "    </tr>\n",
              "    <tr>\n",
              "      <th>cffi-linreg-wrapped</th>\n",
              "      <td>1.610619e-05</td>\n",
              "      <td>predict_clr(x, clr)</td>\n",
              "      <td>6.783167e-06</td>\n",
              "      <td>0.000020</td>\n",
              "      <td>2.203919e-05</td>\n",
              "      <td>1.371128e-05</td>\n",
              "      <td>2.762273e-05</td>\n",
              "      <td>8.438520e-06</td>\n",
              "      <td>1000</td>\n",
              "      <td>100</td>\n",
              "    </tr>\n",
              "    <tr>\n",
              "      <th>csharpyml.predict-C#</th>\n",
              "      <td>2.045361e-05</td>\n",
              "      <td>pipe.predict(obs)</td>\n",
              "      <td>7.309846e-06</td>\n",
              "      <td>0.000047</td>\n",
              "      <td>3.968397e-05</td>\n",
              "      <td>1.500313e-05</td>\n",
              "      <td>3.436644e-05</td>\n",
              "      <td>1.136198e-05</td>\n",
              "      <td>1000</td>\n",
              "      <td>100</td>\n",
              "    </tr>\n",
              "    <tr>\n",
              "      <th>onnxruntime-float32</th>\n",
              "      <td>2.625491e-05</td>\n",
              "      <td>predict_onnxrt(x32)</td>\n",
              "      <td>8.793059e-06</td>\n",
              "      <td>0.000018</td>\n",
              "      <td>2.664166e-05</td>\n",
              "      <td>2.437664e-05</td>\n",
              "      <td>4.212545e-05</td>\n",
              "      <td>1.610668e-05</td>\n",
              "      <td>1000</td>\n",
              "      <td>100</td>\n",
              "    </tr>\n",
              "    <tr>\n",
              "      <th>onnxruntime-float64</th>\n",
              "      <td>3.246068e-05</td>\n",
              "      <td>predict_onnxrt(x.astype(numpy.float32))</td>\n",
              "      <td>7.862068e-06</td>\n",
              "      <td>0.000033</td>\n",
              "      <td>3.339590e-05</td>\n",
              "      <td>4.624199e-05</td>\n",
              "      <td>4.851360e-05</td>\n",
              "      <td>2.305581e-05</td>\n",
              "      <td>1000</td>\n",
              "      <td>100</td>\n",
              "    </tr>\n",
              "    <tr>\n",
              "      <th>numba-linreg-notype</th>\n",
              "      <td>4.739361e-05</td>\n",
              "      <td>predict_clr_numba(z, clr.coef_, clr.intercept_)</td>\n",
              "      <td>1.267786e-05</td>\n",
              "      <td>0.000062</td>\n",
              "      <td>6.863147e-05</td>\n",
              "      <td>3.973269e-05</td>\n",
              "      <td>7.324448e-05</td>\n",
              "      <td>3.373434e-05</td>\n",
              "      <td>1000</td>\n",
              "      <td>100</td>\n",
              "    </tr>\n",
              "    <tr>\n",
              "      <th>sklearn.predict</th>\n",
              "      <td>6.097874e-05</td>\n",
              "      <td>clr.predict(z)</td>\n",
              "      <td>1.576137e-05</td>\n",
              "      <td>0.000061</td>\n",
              "      <td>7.176562e-05</td>\n",
              "      <td>7.813797e-05</td>\n",
              "      <td>9.297386e-05</td>\n",
              "      <td>4.442076e-05</td>\n",
              "      <td>1000</td>\n",
              "      <td>100</td>\n",
              "    </tr>\n",
              "    <tr>\n",
              "      <th>csharpyml.predict</th>\n",
              "      <td>2.251525e-02</td>\n",
              "      <td>pipe.predict(obs)</td>\n",
              "      <td>5.917796e-03</td>\n",
              "      <td>0.024580</td>\n",
              "      <td>2.933990e-02</td>\n",
              "      <td>1.774908e-02</td>\n",
              "      <td>3.824456e-02</td>\n",
              "      <td>1.632412e-02</td>\n",
              "      <td>30</td>\n",
              "      <td>10</td>\n",
              "    </tr>\n",
              "    <tr>\n",
              "      <th>nimbusml.predict</th>\n",
              "      <td>4.612751e-01</td>\n",
              "      <td>nlr.predict(x)</td>\n",
              "      <td>5.971978e-02</td>\n",
              "      <td>0.404017</td>\n",
              "      <td>4.887386e-01</td>\n",
              "      <td>4.658451e-01</td>\n",
              "      <td>5.573754e-01</td>\n",
              "      <td>4.040165e-01</td>\n",
              "      <td>5</td>\n",
              "      <td>5</td>\n",
              "    </tr>\n",
              "  </tbody>\n",
              "</table>\n",
              "</div>"
            ],
            "text/plain": [
              "                                       average  \\\n",
              "legend                                           \n",
              "cffi-linreg-custom-float32-simd   5.509177e-07   \n",
              "cffi-linreg-custom                6.945190e-07   \n",
              "cffi-linreg                       7.946076e-07   \n",
              "cffi-linreg-custom-float32        1.122592e-06   \n",
              "numba-linreg-type-float32         1.190092e-06   \n",
              "numba-linreg-type-custom          1.587967e-06   \n",
              "numba-linreg-type                 1.730193e-06   \n",
              "cython-linreg-type                2.684370e-06   \n",
              "python-linreg-custom              5.198307e-06   \n",
              "cython-linreg                     5.289535e-06   \n",
              "python-linreg                     8.126214e-06   \n",
              "cffi-linreg-custom wrapped        9.714181e-06   \n",
              "cffi-linreg-custom-float wrapped  1.226456e-05   \n",
              "numba-linreg-type-numpy           1.251224e-05   \n",
              "numpy-linreg-numpy                1.541223e-05   \n",
              "cffi-linreg-wrapped               1.610619e-05   \n",
              "csharpyml.predict-C#              2.045361e-05   \n",
              "onnxruntime-float32               2.625491e-05   \n",
              "onnxruntime-float64               3.246068e-05   \n",
              "numba-linreg-notype               4.739361e-05   \n",
              "sklearn.predict                   6.097874e-05   \n",
              "csharpyml.predict                 2.251525e-02   \n",
              "nimbusml.predict                  4.612751e-01   \n",
              "\n",
              "                                                                               code  \\\n",
              "legend                                                                                \n",
              "cffi-linreg-custom-float32-simd          linreg_custom_float_simd(cptr_x, cptr_out)   \n",
              "cffi-linreg-custom                                  linreg_custom(cptr_x, cptr_out)   \n",
              "cffi-linreg                       lib.linreg(n, cptr_x, cptr_coef, clr.intercept...   \n",
              "cffi-linreg-custom-float32                    linreg_custom_float(cptr_x, cptr_out)   \n",
              "numba-linreg-type-float32               predict_clr_numba_cast_float(x32, c32, i32)   \n",
              "numba-linreg-type-custom                        predict_clr_numba_cast_custom(x[0])   \n",
              "numba-linreg-type                 predict_clr_numba_cast(x[0], clr.coef_, clr.in...   \n",
              "cython-linreg-type                predict_clr_cython_type(x[0], clr.coef_, clr.i...   \n",
              "python-linreg-custom                                          predict_clr_python(z)   \n",
              "cython-linreg                     predict_clr_cython(x[0], clr.coef_, clr.interc...   \n",
              "python-linreg                           predict_clr_python_loop(z, coef, intercept)   \n",
              "cffi-linreg-custom wrapped                                    predict_clr_custom(x)   \n",
              "cffi-linreg-custom-float wrapped                            predict_clr_custom(x32)   \n",
              "numba-linreg-type-numpy           predict_clr_numba_numpy(x[0], clr.coef_, clr.i...   \n",
              "numpy-linreg-numpy                       predict_clr_numpy(z, coef, clr.intercept_)   \n",
              "cffi-linreg-wrapped                                             predict_clr(x, clr)   \n",
              "csharpyml.predict-C#                                              pipe.predict(obs)   \n",
              "onnxruntime-float32                                             predict_onnxrt(x32)   \n",
              "onnxruntime-float64                         predict_onnxrt(x.astype(numpy.float32))   \n",
              "numba-linreg-notype                 predict_clr_numba(z, clr.coef_, clr.intercept_)   \n",
              "sklearn.predict                                                      clr.predict(z)   \n",
              "csharpyml.predict                                                 pipe.predict(obs)   \n",
              "nimbusml.predict                                                     nlr.predict(x)   \n",
              "\n",
              "                                     deviation     first        first3  \\\n",
              "legend                                                                   \n",
              "cffi-linreg-custom-float32-simd   3.804967e-07  0.000001  8.678167e-07   \n",
              "cffi-linreg-custom                5.929634e-07  0.000003  2.864197e-06   \n",
              "cffi-linreg                       4.174084e-07  0.000003  2.216297e-06   \n",
              "cffi-linreg-custom-float32        1.166959e-06  0.000024  9.311607e-06   \n",
              "numba-linreg-type-float32         6.203381e-07  0.000001  1.164117e-06   \n",
              "numba-linreg-type-custom          7.062380e-07  0.000001  9.204900e-07   \n",
              "numba-linreg-type                 1.246255e-06  0.000005  4.196877e-06   \n",
              "cython-linreg-type                8.923258e-07  0.000002  2.409877e-06   \n",
              "python-linreg-custom              2.358929e-06  0.000006  6.716053e-06   \n",
              "cython-linreg                     2.545080e-06  0.000005  4.107327e-06   \n",
              "python-linreg                     3.229416e-06  0.000006  5.899590e-06   \n",
              "cffi-linreg-custom wrapped        2.861559e-06  0.000025  2.240527e-05   \n",
              "cffi-linreg-custom-float wrapped  5.064189e-06  0.000015  1.491754e-05   \n",
              "numba-linreg-type-numpy           5.142496e-06  0.000062  4.541236e-05   \n",
              "numpy-linreg-numpy                4.782486e-06  0.000018  1.726157e-05   \n",
              "cffi-linreg-wrapped               6.783167e-06  0.000020  2.203919e-05   \n",
              "csharpyml.predict-C#              7.309846e-06  0.000047  3.968397e-05   \n",
              "onnxruntime-float32               8.793059e-06  0.000018  2.664166e-05   \n",
              "onnxruntime-float64               7.862068e-06  0.000033  3.339590e-05   \n",
              "numba-linreg-notype               1.267786e-05  0.000062  6.863147e-05   \n",
              "sklearn.predict                   1.576137e-05  0.000061  7.176562e-05   \n",
              "csharpyml.predict                 5.917796e-03  0.024580  2.933990e-02   \n",
              "nimbusml.predict                  5.971978e-02  0.404017  4.887386e-01   \n",
              "\n",
              "                                         last3          max5          min5  \\\n",
              "legend                                                                       \n",
              "cffi-linreg-custom-float32-simd   3.608233e-07  8.138300e-07  3.555500e-07   \n",
              "cffi-linreg-custom                6.834600e-07  1.193090e-06  3.950600e-07   \n",
              "cffi-linreg                       8.928400e-07  1.374820e-06  4.622300e-07   \n",
              "cffi-linreg-custom-float32        6.966267e-07  2.342720e-06  6.913600e-07   \n",
              "numba-linreg-type-float32         1.984530e-06  2.176790e-06  6.281500e-07   \n",
              "numba-linreg-type-custom          1.351110e-06  2.927400e-06  8.138300e-07   \n",
              "numba-linreg-type                 1.569717e-06  3.492350e-06  8.414800e-07   \n",
              "cython-linreg-type                2.812843e-06  3.958520e-06  1.572350e-06   \n",
              "python-linreg-custom              2.392760e-06  9.220750e-06  2.386170e-06   \n",
              "cython-linreg                     4.374653e-06  8.987660e-06  2.615300e-06   \n",
              "python-linreg                     6.951773e-06  1.360988e-05  4.152100e-06   \n",
              "cffi-linreg-custom wrapped        9.818607e-06  1.622519e-05  5.878520e-06   \n",
              "cffi-linreg-custom-float wrapped  1.953318e-05  2.258174e-05  6.637040e-06   \n",
              "numba-linreg-type-numpy           2.328758e-05  2.000988e-05  6.945180e-06   \n",
              "numpy-linreg-numpy                1.396148e-05  2.464001e-05  8.379260e-06   \n",
              "cffi-linreg-wrapped               1.371128e-05  2.762273e-05  8.438520e-06   \n",
              "csharpyml.predict-C#              1.500313e-05  3.436644e-05  1.136198e-05   \n",
              "onnxruntime-float32               2.437664e-05  4.212545e-05  1.610668e-05   \n",
              "onnxruntime-float64               4.624199e-05  4.851360e-05  2.305581e-05   \n",
              "numba-linreg-notype               3.973269e-05  7.324448e-05  3.373434e-05   \n",
              "sklearn.predict                   7.813797e-05  9.297386e-05  4.442076e-05   \n",
              "csharpyml.predict                 1.774908e-02  3.824456e-02  1.632412e-02   \n",
              "nimbusml.predict                  4.658451e-01  5.573754e-01  4.040165e-01   \n",
              "\n",
              "                                  repeat  run  \n",
              "legend                                         \n",
              "cffi-linreg-custom-float32-simd     1000  100  \n",
              "cffi-linreg-custom                  1000  100  \n",
              "cffi-linreg                         1000  100  \n",
              "cffi-linreg-custom-float32          1000  100  \n",
              "numba-linreg-type-float32           1000  100  \n",
              "numba-linreg-type-custom            1000  100  \n",
              "numba-linreg-type                   1000  100  \n",
              "cython-linreg-type                  1000  100  \n",
              "python-linreg-custom                1000  100  \n",
              "cython-linreg                       1000  100  \n",
              "python-linreg                       1000  100  \n",
              "cffi-linreg-custom wrapped          1000  100  \n",
              "cffi-linreg-custom-float wrapped    1000  100  \n",
              "numba-linreg-type-numpy             1000  100  \n",
              "numpy-linreg-numpy                  1000  100  \n",
              "cffi-linreg-wrapped                 1000  100  \n",
              "csharpyml.predict-C#                1000  100  \n",
              "onnxruntime-float32                 1000  100  \n",
              "onnxruntime-float64                 1000  100  \n",
              "numba-linreg-notype                 1000  100  \n",
              "sklearn.predict                     1000  100  \n",
              "csharpyml.predict                     30   10  \n",
              "nimbusml.predict                       5    5  "
            ]
          },
          "execution_count": 82,
          "metadata": {},
          "output_type": "execute_result"
        }
      ],
      "source": [
        "import pandas\n",
        "df = pandas.DataFrame(data=memo_time)\n",
        "df = df.set_index(\"legend\").sort_values(\"average\")\n",
        "df"
      ]
    },
    {
      "cell_type": "markdown",
      "metadata": {},
      "source": [
        "On enl\u00e8ve quelques colonnes et on rappelle :\n",
        "\n",
        "* **cffi**: signifie optimis\u00e9 avec cffi\n",
        "* **custom**: pas de boucle mais la fonction ne peut pr\u00e9dire qu'une seule r\u00e9gression lin\u00e9aire\n",
        "* **float32**: utilise des float et non des double\n",
        "* **linreg**: r\u00e9gression lin\u00e9aire\n",
        "* **numba**: optimisation avec numba\n",
        "* **numpy**: optimisation avec numpy\n",
        "* **python**: pas de C, que du python\n",
        "* **simd**: optimis\u00e9 avec les instructions SIMD\n",
        "* **sklearn**: fonction sklearn.predict\n",
        "* **static**: la fonction utilise des variables statiques\n",
        "* **type**: la fonction est typ\u00e9e et ne fonctionne qu'avec un type pr\u00e9cis en entr\u00e9e.\n",
        "* **wrapped**: code optimis\u00e9 mais embabll\u00e9 dans une fonction Python qui elle ne l'est pas (les containers sont recr\u00e9\u00e9s \u00e0 chaque fois)"
      ]
    },
    {
      "cell_type": "code",
      "execution_count": 82,
      "metadata": {
        "scrolled": false
      },
      "outputs": [
        {
          "data": {
            "text/html": [
              "<div>\n",
              "<style scoped>\n",
              "    .dataframe tbody tr th:only-of-type {\n",
              "        vertical-align: middle;\n",
              "    }\n",
              "\n",
              "    .dataframe tbody tr th {\n",
              "        vertical-align: top;\n",
              "    }\n",
              "\n",
              "    .dataframe thead th {\n",
              "        text-align: right;\n",
              "    }\n",
              "</style>\n",
              "<table border=\"1\" class=\"dataframe\">\n",
              "  <thead>\n",
              "    <tr style=\"text-align: right;\">\n",
              "      <th></th>\n",
              "      <th>average</th>\n",
              "      <th>deviation</th>\n",
              "      <th>min5</th>\n",
              "      <th>max5</th>\n",
              "      <th>run</th>\n",
              "      <th>code</th>\n",
              "    </tr>\n",
              "    <tr>\n",
              "      <th>legend</th>\n",
              "      <th></th>\n",
              "      <th></th>\n",
              "      <th></th>\n",
              "      <th></th>\n",
              "      <th></th>\n",
              "      <th></th>\n",
              "    </tr>\n",
              "  </thead>\n",
              "  <tbody>\n",
              "    <tr>\n",
              "      <th>cffi-linreg-custom-float32-simd</th>\n",
              "      <td>5.509177e-07</td>\n",
              "      <td>3.804967e-07</td>\n",
              "      <td>3.555500e-07</td>\n",
              "      <td>8.138300e-07</td>\n",
              "      <td>100</td>\n",
              "      <td>linreg_custom_float_simd(cptr_x, cptr_out)</td>\n",
              "    </tr>\n",
              "    <tr>\n",
              "      <th>cffi-linreg-custom</th>\n",
              "      <td>6.945190e-07</td>\n",
              "      <td>5.929634e-07</td>\n",
              "      <td>3.950600e-07</td>\n",
              "      <td>1.193090e-06</td>\n",
              "      <td>100</td>\n",
              "      <td>linreg_custom(cptr_x, cptr_out)</td>\n",
              "    </tr>\n",
              "    <tr>\n",
              "      <th>cffi-linreg</th>\n",
              "      <td>7.946076e-07</td>\n",
              "      <td>4.174084e-07</td>\n",
              "      <td>4.622300e-07</td>\n",
              "      <td>1.374820e-06</td>\n",
              "      <td>100</td>\n",
              "      <td>lib.linreg(n, cptr_x, cptr_coef, clr.intercept...</td>\n",
              "    </tr>\n",
              "    <tr>\n",
              "      <th>cffi-linreg-custom-float32</th>\n",
              "      <td>1.122592e-06</td>\n",
              "      <td>1.166959e-06</td>\n",
              "      <td>6.913600e-07</td>\n",
              "      <td>2.342720e-06</td>\n",
              "      <td>100</td>\n",
              "      <td>linreg_custom_float(cptr_x, cptr_out)</td>\n",
              "    </tr>\n",
              "    <tr>\n",
              "      <th>numba-linreg-type-float32</th>\n",
              "      <td>1.190092e-06</td>\n",
              "      <td>6.203381e-07</td>\n",
              "      <td>6.281500e-07</td>\n",
              "      <td>2.176790e-06</td>\n",
              "      <td>100</td>\n",
              "      <td>predict_clr_numba_cast_float(x32, c32, i32)</td>\n",
              "    </tr>\n",
              "    <tr>\n",
              "      <th>numba-linreg-type-custom</th>\n",
              "      <td>1.587967e-06</td>\n",
              "      <td>7.062380e-07</td>\n",
              "      <td>8.138300e-07</td>\n",
              "      <td>2.927400e-06</td>\n",
              "      <td>100</td>\n",
              "      <td>predict_clr_numba_cast_custom(x[0])</td>\n",
              "    </tr>\n",
              "    <tr>\n",
              "      <th>numba-linreg-type</th>\n",
              "      <td>1.730193e-06</td>\n",
              "      <td>1.246255e-06</td>\n",
              "      <td>8.414800e-07</td>\n",
              "      <td>3.492350e-06</td>\n",
              "      <td>100</td>\n",
              "      <td>predict_clr_numba_cast(x[0], clr.coef_, clr.in...</td>\n",
              "    </tr>\n",
              "    <tr>\n",
              "      <th>cython-linreg-type</th>\n",
              "      <td>2.684370e-06</td>\n",
              "      <td>8.923258e-07</td>\n",
              "      <td>1.572350e-06</td>\n",
              "      <td>3.958520e-06</td>\n",
              "      <td>100</td>\n",
              "      <td>predict_clr_cython_type(x[0], clr.coef_, clr.i...</td>\n",
              "    </tr>\n",
              "    <tr>\n",
              "      <th>python-linreg-custom</th>\n",
              "      <td>5.198307e-06</td>\n",
              "      <td>2.358929e-06</td>\n",
              "      <td>2.386170e-06</td>\n",
              "      <td>9.220750e-06</td>\n",
              "      <td>100</td>\n",
              "      <td>predict_clr_python(z)</td>\n",
              "    </tr>\n",
              "    <tr>\n",
              "      <th>cython-linreg</th>\n",
              "      <td>5.289535e-06</td>\n",
              "      <td>2.545080e-06</td>\n",
              "      <td>2.615300e-06</td>\n",
              "      <td>8.987660e-06</td>\n",
              "      <td>100</td>\n",
              "      <td>predict_clr_cython(x[0], clr.coef_, clr.interc...</td>\n",
              "    </tr>\n",
              "    <tr>\n",
              "      <th>python-linreg</th>\n",
              "      <td>8.126214e-06</td>\n",
              "      <td>3.229416e-06</td>\n",
              "      <td>4.152100e-06</td>\n",
              "      <td>1.360988e-05</td>\n",
              "      <td>100</td>\n",
              "      <td>predict_clr_python_loop(z, coef, intercept)</td>\n",
              "    </tr>\n",
              "    <tr>\n",
              "      <th>cffi-linreg-custom wrapped</th>\n",
              "      <td>9.714181e-06</td>\n",
              "      <td>2.861559e-06</td>\n",
              "      <td>5.878520e-06</td>\n",
              "      <td>1.622519e-05</td>\n",
              "      <td>100</td>\n",
              "      <td>predict_clr_custom(x)</td>\n",
              "    </tr>\n",
              "    <tr>\n",
              "      <th>cffi-linreg-custom-float wrapped</th>\n",
              "      <td>1.226456e-05</td>\n",
              "      <td>5.064189e-06</td>\n",
              "      <td>6.637040e-06</td>\n",
              "      <td>2.258174e-05</td>\n",
              "      <td>100</td>\n",
              "      <td>predict_clr_custom(x32)</td>\n",
              "    </tr>\n",
              "    <tr>\n",
              "      <th>numba-linreg-type-numpy</th>\n",
              "      <td>1.251224e-05</td>\n",
              "      <td>5.142496e-06</td>\n",
              "      <td>6.945180e-06</td>\n",
              "      <td>2.000988e-05</td>\n",
              "      <td>100</td>\n",
              "      <td>predict_clr_numba_numpy(x[0], clr.coef_, clr.i...</td>\n",
              "    </tr>\n",
              "    <tr>\n",
              "      <th>numpy-linreg-numpy</th>\n",
              "      <td>1.541223e-05</td>\n",
              "      <td>4.782486e-06</td>\n",
              "      <td>8.379260e-06</td>\n",
              "      <td>2.464001e-05</td>\n",
              "      <td>100</td>\n",
              "      <td>predict_clr_numpy(z, coef, clr.intercept_)</td>\n",
              "    </tr>\n",
              "    <tr>\n",
              "      <th>cffi-linreg-wrapped</th>\n",
              "      <td>1.610619e-05</td>\n",
              "      <td>6.783167e-06</td>\n",
              "      <td>8.438520e-06</td>\n",
              "      <td>2.762273e-05</td>\n",
              "      <td>100</td>\n",
              "      <td>predict_clr(x, clr)</td>\n",
              "    </tr>\n",
              "    <tr>\n",
              "      <th>csharpyml.predict-C#</th>\n",
              "      <td>2.045361e-05</td>\n",
              "      <td>7.309846e-06</td>\n",
              "      <td>1.136198e-05</td>\n",
              "      <td>3.436644e-05</td>\n",
              "      <td>100</td>\n",
              "      <td>pipe.predict(obs)</td>\n",
              "    </tr>\n",
              "    <tr>\n",
              "      <th>onnxruntime-float32</th>\n",
              "      <td>2.625491e-05</td>\n",
              "      <td>8.793059e-06</td>\n",
              "      <td>1.610668e-05</td>\n",
              "      <td>4.212545e-05</td>\n",
              "      <td>100</td>\n",
              "      <td>predict_onnxrt(x32)</td>\n",
              "    </tr>\n",
              "    <tr>\n",
              "      <th>onnxruntime-float64</th>\n",
              "      <td>3.246068e-05</td>\n",
              "      <td>7.862068e-06</td>\n",
              "      <td>2.305581e-05</td>\n",
              "      <td>4.851360e-05</td>\n",
              "      <td>100</td>\n",
              "      <td>predict_onnxrt(x.astype(numpy.float32))</td>\n",
              "    </tr>\n",
              "    <tr>\n",
              "      <th>numba-linreg-notype</th>\n",
              "      <td>4.739361e-05</td>\n",
              "      <td>1.267786e-05</td>\n",
              "      <td>3.373434e-05</td>\n",
              "      <td>7.324448e-05</td>\n",
              "      <td>100</td>\n",
              "      <td>predict_clr_numba(z, clr.coef_, clr.intercept_)</td>\n",
              "    </tr>\n",
              "    <tr>\n",
              "      <th>sklearn.predict</th>\n",
              "      <td>6.097874e-05</td>\n",
              "      <td>1.576137e-05</td>\n",
              "      <td>4.442076e-05</td>\n",
              "      <td>9.297386e-05</td>\n",
              "      <td>100</td>\n",
              "      <td>clr.predict(z)</td>\n",
              "    </tr>\n",
              "    <tr>\n",
              "      <th>csharpyml.predict</th>\n",
              "      <td>2.251525e-02</td>\n",
              "      <td>5.917796e-03</td>\n",
              "      <td>1.632412e-02</td>\n",
              "      <td>3.824456e-02</td>\n",
              "      <td>10</td>\n",
              "      <td>pipe.predict(obs)</td>\n",
              "    </tr>\n",
              "    <tr>\n",
              "      <th>nimbusml.predict</th>\n",
              "      <td>4.612751e-01</td>\n",
              "      <td>5.971978e-02</td>\n",
              "      <td>4.040165e-01</td>\n",
              "      <td>5.573754e-01</td>\n",
              "      <td>5</td>\n",
              "      <td>nlr.predict(x)</td>\n",
              "    </tr>\n",
              "  </tbody>\n",
              "</table>\n",
              "</div>"
            ],
            "text/plain": [
              "                                       average     deviation          min5  \\\n",
              "legend                                                                       \n",
              "cffi-linreg-custom-float32-simd   5.509177e-07  3.804967e-07  3.555500e-07   \n",
              "cffi-linreg-custom                6.945190e-07  5.929634e-07  3.950600e-07   \n",
              "cffi-linreg                       7.946076e-07  4.174084e-07  4.622300e-07   \n",
              "cffi-linreg-custom-float32        1.122592e-06  1.166959e-06  6.913600e-07   \n",
              "numba-linreg-type-float32         1.190092e-06  6.203381e-07  6.281500e-07   \n",
              "numba-linreg-type-custom          1.587967e-06  7.062380e-07  8.138300e-07   \n",
              "numba-linreg-type                 1.730193e-06  1.246255e-06  8.414800e-07   \n",
              "cython-linreg-type                2.684370e-06  8.923258e-07  1.572350e-06   \n",
              "python-linreg-custom              5.198307e-06  2.358929e-06  2.386170e-06   \n",
              "cython-linreg                     5.289535e-06  2.545080e-06  2.615300e-06   \n",
              "python-linreg                     8.126214e-06  3.229416e-06  4.152100e-06   \n",
              "cffi-linreg-custom wrapped        9.714181e-06  2.861559e-06  5.878520e-06   \n",
              "cffi-linreg-custom-float wrapped  1.226456e-05  5.064189e-06  6.637040e-06   \n",
              "numba-linreg-type-numpy           1.251224e-05  5.142496e-06  6.945180e-06   \n",
              "numpy-linreg-numpy                1.541223e-05  4.782486e-06  8.379260e-06   \n",
              "cffi-linreg-wrapped               1.610619e-05  6.783167e-06  8.438520e-06   \n",
              "csharpyml.predict-C#              2.045361e-05  7.309846e-06  1.136198e-05   \n",
              "onnxruntime-float32               2.625491e-05  8.793059e-06  1.610668e-05   \n",
              "onnxruntime-float64               3.246068e-05  7.862068e-06  2.305581e-05   \n",
              "numba-linreg-notype               4.739361e-05  1.267786e-05  3.373434e-05   \n",
              "sklearn.predict                   6.097874e-05  1.576137e-05  4.442076e-05   \n",
              "csharpyml.predict                 2.251525e-02  5.917796e-03  1.632412e-02   \n",
              "nimbusml.predict                  4.612751e-01  5.971978e-02  4.040165e-01   \n",
              "\n",
              "                                          max5  run  \\\n",
              "legend                                                \n",
              "cffi-linreg-custom-float32-simd   8.138300e-07  100   \n",
              "cffi-linreg-custom                1.193090e-06  100   \n",
              "cffi-linreg                       1.374820e-06  100   \n",
              "cffi-linreg-custom-float32        2.342720e-06  100   \n",
              "numba-linreg-type-float32         2.176790e-06  100   \n",
              "numba-linreg-type-custom          2.927400e-06  100   \n",
              "numba-linreg-type                 3.492350e-06  100   \n",
              "cython-linreg-type                3.958520e-06  100   \n",
              "python-linreg-custom              9.220750e-06  100   \n",
              "cython-linreg                     8.987660e-06  100   \n",
              "python-linreg                     1.360988e-05  100   \n",
              "cffi-linreg-custom wrapped        1.622519e-05  100   \n",
              "cffi-linreg-custom-float wrapped  2.258174e-05  100   \n",
              "numba-linreg-type-numpy           2.000988e-05  100   \n",
              "numpy-linreg-numpy                2.464001e-05  100   \n",
              "cffi-linreg-wrapped               2.762273e-05  100   \n",
              "csharpyml.predict-C#              3.436644e-05  100   \n",
              "onnxruntime-float32               4.212545e-05  100   \n",
              "onnxruntime-float64               4.851360e-05  100   \n",
              "numba-linreg-notype               7.324448e-05  100   \n",
              "sklearn.predict                   9.297386e-05  100   \n",
              "csharpyml.predict                 3.824456e-02   10   \n",
              "nimbusml.predict                  5.573754e-01    5   \n",
              "\n",
              "                                                                               code  \n",
              "legend                                                                               \n",
              "cffi-linreg-custom-float32-simd          linreg_custom_float_simd(cptr_x, cptr_out)  \n",
              "cffi-linreg-custom                                  linreg_custom(cptr_x, cptr_out)  \n",
              "cffi-linreg                       lib.linreg(n, cptr_x, cptr_coef, clr.intercept...  \n",
              "cffi-linreg-custom-float32                    linreg_custom_float(cptr_x, cptr_out)  \n",
              "numba-linreg-type-float32               predict_clr_numba_cast_float(x32, c32, i32)  \n",
              "numba-linreg-type-custom                        predict_clr_numba_cast_custom(x[0])  \n",
              "numba-linreg-type                 predict_clr_numba_cast(x[0], clr.coef_, clr.in...  \n",
              "cython-linreg-type                predict_clr_cython_type(x[0], clr.coef_, clr.i...  \n",
              "python-linreg-custom                                          predict_clr_python(z)  \n",
              "cython-linreg                     predict_clr_cython(x[0], clr.coef_, clr.interc...  \n",
              "python-linreg                           predict_clr_python_loop(z, coef, intercept)  \n",
              "cffi-linreg-custom wrapped                                    predict_clr_custom(x)  \n",
              "cffi-linreg-custom-float wrapped                            predict_clr_custom(x32)  \n",
              "numba-linreg-type-numpy           predict_clr_numba_numpy(x[0], clr.coef_, clr.i...  \n",
              "numpy-linreg-numpy                       predict_clr_numpy(z, coef, clr.intercept_)  \n",
              "cffi-linreg-wrapped                                             predict_clr(x, clr)  \n",
              "csharpyml.predict-C#                                              pipe.predict(obs)  \n",
              "onnxruntime-float32                                             predict_onnxrt(x32)  \n",
              "onnxruntime-float64                         predict_onnxrt(x.astype(numpy.float32))  \n",
              "numba-linreg-notype                 predict_clr_numba(z, clr.coef_, clr.intercept_)  \n",
              "sklearn.predict                                                      clr.predict(z)  \n",
              "csharpyml.predict                                                 pipe.predict(obs)  \n",
              "nimbusml.predict                                                     nlr.predict(x)  "
            ]
          },
          "execution_count": 83,
          "metadata": {},
          "output_type": "execute_result"
        }
      ],
      "source": [
        "cols = [\"average\", \"deviation\", \"min5\", \"max5\", \"run\", \"code\"]\n",
        "df[cols]"
      ]
    },
    {
      "cell_type": "code",
      "execution_count": 83,
      "metadata": {},
      "outputs": [
        {
          "data": {
            "image/png": "[encoded data removed]",
            "text/plain": [
              "<Figure size 1008x432 with 1 Axes>"
            ]
          },
          "metadata": {
            "needs_background": "light"
          },
          "output_type": "display_data"
        }
      ],
      "source": [
        "%matplotlib inline\n",
        "import matplotlib.pyplot as plt\n",
        "fig, ax = plt.subplots(1, 1, figsize=(14,6))\n",
        "df[[\"average\", \"deviation\"]].plot(kind=\"barh\", logx=True, ax=ax, xerr=\"deviation\",\n",
        "                                  legend=False, fontsize=12, width=0.8)\n",
        "ax.set_ylabel(\"\")\n",
        "ax.grid(b=True, which=\"major\")\n",
        "ax.grid(b=True, which=\"minor\");"
      ]
    },
    {
      "cell_type": "markdown",
      "metadata": {},
      "source": [
        "Il manque \u00e0 ce comparatif le [GPU](https://en.wikipedia.org/wiki/Graphics_processing_unit) mais c'est un peu plus complexe \u00e0 mettre en oeuvre, il faut une carte [GPU](https://fr.wikipedia.org/wiki/Processeur_graphique) et la parall\u00e9lisation n'apporterait pas \u00e9norm\u00e9ment compte tenu de la faible dimension du probl\u00e8me."
      ]
    },
    {
      "cell_type": "markdown",
      "metadata": {},
      "source": [
        "### Pr\u00e9diction one-off et biais de mesure\n",
        "\n",
        "Le graphique pr\u00e9c\u00e9dent montre que la fonction ``predict`` de *scikit-learn* est la plus lente. La premi\u00e8re raison est que ce code est valable pour toutes les r\u00e9gresssions lin\u00e9aires alors que toutes les autres fonctions sont sp\u00e9cialis\u00e9es pour un seul mod\u00e8le. La seconde raison est que le code de *scikit-learn* est optimis\u00e9 pour le calcul de plusieurs pr\u00e9dictions \u00e0 la fois alors que toutes les autres fonctions n'en calcule qu'une seule (sc\u00e9nario dit *one-off*). On compare \u00e0 ce que donnerait unev version purement python et numpy."
      ]
    },
    {
      "cell_type": "code",
      "execution_count": 84,
      "metadata": {},
      "outputs": [
        {
          "data": {
            "text/plain": [
              "array([[197.61846908],\n",
              "       [155.43979328]])"
            ]
          },
          "execution_count": 85,
          "metadata": {},
          "output_type": "execute_result"
        }
      ],
      "source": [
        "def predict_clr_python_loop_multi(x, coef, intercept):    \n",
        "    # On s'attend \u00e0 deux dimension.\n",
        "    res = numpy.zeros((x.shape[0], 1))\n",
        "    res[:, 0] = intercept\n",
        "    for i in range(0, x.shape[0]):\n",
        "        res[i, 0] += sum(a*b for a, b in zip(x[i, :], coef))\n",
        "    return res\n",
        "\n",
        "predict_clr_python_loop_multi(diabetes_X_test[:2], clr.coef_, clr.intercept_)"
      ]
    },
    {
      "cell_type": "code",
      "execution_count": 85,
      "metadata": {},
      "outputs": [
        {
          "data": {
            "text/plain": [
              "array([[197.61846908],\n",
              "       [155.43979328]])"
            ]
          },
          "execution_count": 86,
          "metadata": {},
          "output_type": "execute_result"
        }
      ],
      "source": [
        "def predict_clr_numpy_loop_multi(x, coef, intercept):    \n",
        "    # On s'attend \u00e0 deux dimension.\n",
        "    res = numpy.ones((x.shape[0], 1)) * intercept\n",
        "    res += x @ coef.reshape((len(coef), 1))\n",
        "    return res\n",
        "\n",
        "predict_clr_numpy_loop_multi(diabetes_X_test[:2], clr.coef_, clr.intercept_)"
      ]
    },
    {
      "cell_type": "code",
      "execution_count": 86,
      "metadata": {},
      "outputs": [
        {
          "data": {
            "text/plain": [
              "[197.61846907503298, 155.43979327521237]"
            ]
          },
          "execution_count": 87,
          "metadata": {},
          "output_type": "execute_result"
        }
      ],
      "source": [
        "def predict_clr_numba_cast_multi(X, coef, intercept):\n",
        "    return [predict_clr_numba_cast(x, coef, intercept) for x in X]\n",
        "\n",
        "predict_clr_numba_cast_multi(diabetes_X_test[:2], clr.coef_, clr.intercept_)"
      ]
    },
    {
      "cell_type": "code",
      "execution_count": 87,
      "metadata": {
        "scrolled": false
      },
      "outputs": [
        {
          "name": "stdout",
          "output_type": "stream",
          "text": [
            "batch = 1\n",
            "Moyenne: 66.11 \u00b5s Ecart-type 55.35 \u00b5s (with 10 runs) in [29.47 \u00b5s, 118.60 \u00b5s]\n",
            "Moyenne: 592.30 ms Ecart-type 13.63 ms (with 2 runs) in [578.67 ms, 605.93 ms]\n",
            "Moyenne: 15.48 \u00b5s Ecart-type 822.30 ns (with 10 runs) in [15.09 \u00b5s, 18.69 \u00b5s]\n",
            "Moyenne: 19.65 \u00b5s Ecart-type 8.93 \u00b5s (with 10 runs) in [13.59 \u00b5s, 38.72 \u00b5s]\n",
            "Moyenne: 4.86 \u00b5s Ecart-type 1.56 \u00b5s (with 10 runs) in [4.31 \u00b5s, 8.89 \u00b5s]\n",
            "Moyenne: 36.93 \u00b5s Ecart-type 12.37 \u00b5s (with 10 runs) in [32.47 \u00b5s, 58.71 \u00b5s]\n",
            "batch = 10\n",
            "Moyenne: 65.85 \u00b5s Ecart-type 15.85 \u00b5s (with 10 runs) in [59.34 \u00b5s, 102.76 \u00b5s]\n",
            "Moyenne: 418.67 ms Ecart-type 399.41 \u00b5s (with 2 runs) in [418.27 ms, 419.07 ms]\n",
            "Moyenne: 130.64 \u00b5s Ecart-type 24.81 \u00b5s (with 10 runs) in [113.11 \u00b5s, 208.91 \u00b5s]\n",
            "Moyenne: 15.95 \u00b5s Ecart-type 9.21 \u00b5s (with 10 runs) in [12.40 \u00b5s, 40.77 \u00b5s]\n",
            "Moyenne: 19.89 \u00b5s Ecart-type 5.00 \u00b5s (with 10 runs) in [18.13 \u00b5s, 33.66 \u00b5s]\n",
            "Moyenne: 36.74 \u00b5s Ecart-type 12.61 \u00b5s (with 10 runs) in [29.67 \u00b5s, 65.30 \u00b5s]\n",
            "batch = 100\n",
            "Moyenne: 55.08 \u00b5s Ecart-type 29.04 \u00b5s (with 10 runs) in [31.17 \u00b5s, 113.98 \u00b5s]\n",
            "Moyenne: 469.03 ms Ecart-type 49.26 ms (with 2 runs) in [419.78 ms, 518.29 ms]\n",
            "Moyenne: 1.29 ms Ecart-type 171.10 \u00b5s (with 10 runs) in [1.07 ms, 1.73 ms]\n",
            "Moyenne: 16.05 \u00b5s Ecart-type 12.06 \u00b5s (with 10 runs) in [8.57 \u00b5s, 25.40 \u00b5s]\n",
            "Moyenne: 165.51 \u00b5s Ecart-type 34.63 \u00b5s (with 10 runs) in [101.14 \u00b5s, 253.75 \u00b5s]\n",
            "Moyenne: 41.49 \u00b5s Ecart-type 16.13 \u00b5s (with 10 runs) in [22.68 \u00b5s, 72.69 \u00b5s]\n",
            "batch = 200\n",
            "Moyenne: 69.74 \u00b5s Ecart-type 34.22 \u00b5s (with 10 runs) in [34.65 \u00b5s, 152.97 \u00b5s]\n",
            "Moyenne: 536.49 ms Ecart-type 45.92 ms (with 2 runs) in [490.56 ms, 582.41 ms]\n",
            "Moyenne: 2.30 ms Ecart-type 110.87 \u00b5s (with 10 runs) in [2.14 ms, 2.53 ms]\n",
            "Moyenne: 23.68 \u00b5s Ecart-type 15.38 \u00b5s (with 10 runs) in [9.52 \u00b5s, 59.26 \u00b5s]\n",
            "Moyenne: 362.40 \u00b5s Ecart-type 89.71 \u00b5s (with 10 runs) in [267.22 \u00b5s, 563.28 \u00b5s]\n",
            "Moyenne: 49.71 \u00b5s Ecart-type 15.31 \u00b5s (with 10 runs) in [40.93 \u00b5s, 85.85 \u00b5s]\n",
            "batch = 500\n",
            "Moyenne: 77.50 \u00b5s Ecart-type 29.02 \u00b5s (with 10 runs) in [65.15 \u00b5s, 122.79 \u00b5s]\n",
            "Moyenne: 406.04 ms Ecart-type 5.91 ms (with 2 runs) in [400.13 ms, 411.95 ms]\n",
            "Moyenne: 5.72 ms Ecart-type 258.95 \u00b5s (with 10 runs) in [5.28 ms, 6.16 ms]\n",
            "Moyenne: 19.57 \u00b5s Ecart-type 8.24 \u00b5s (with 10 runs) in [11.14 \u00b5s, 35.71 \u00b5s]\n",
            "Moyenne: 919.31 \u00b5s Ecart-type 202.77 \u00b5s (with 10 runs) in [701.87 \u00b5s, 1.30 ms]\n",
            "Moyenne: 56.63 \u00b5s Ecart-type 14.92 \u00b5s (with 10 runs) in [35.28 \u00b5s, 83.24 \u00b5s]\n",
            "batch = 1000\n",
            "Moyenne: 93.47 \u00b5s Ecart-type 38.36 \u00b5s (with 10 runs) in [48.63 \u00b5s, 131.63 \u00b5s]\n",
            "Moyenne: 575.11 ms Ecart-type 183.62 ms (with 2 runs) in [391.49 ms, 758.74 ms]\n",
            "Moyenne: 11.68 ms Ecart-type 842.74 \u00b5s (with 10 runs) in [10.65 ms, 13.72 ms]\n",
            "Moyenne: 28.35 \u00b5s Ecart-type 11.67 \u00b5s (with 10 runs) in [25.56 \u00b5s, 38.91 \u00b5s]\n",
            "Moyenne: 1.82 ms Ecart-type 341.89 \u00b5s (with 10 runs) in [1.40 ms, 2.52 ms]\n",
            "Moyenne: 87.00 \u00b5s Ecart-type 13.41 \u00b5s (with 10 runs) in [84.66 \u00b5s, 123.69 \u00b5s]\n",
            "batch = 2000\n",
            "Moyenne: 116.13 \u00b5s Ecart-type 37.31 \u00b5s (with 10 runs) in [59.69 \u00b5s, 172.01 \u00b5s]\n",
            "Moyenne: 408.42 ms Ecart-type 9.74 ms (with 2 runs) in [398.67 ms, 418.16 ms]\n",
            "Moyenne: 40.98 \u00b5s Ecart-type 12.62 \u00b5s (with 10 runs) in [31.01 \u00b5s, 59.50 \u00b5s]\n",
            "Moyenne: 3.32 ms Ecart-type 460.19 \u00b5s (with 10 runs) in [2.82 ms, 4.48 ms]\n",
            "Moyenne: 142.49 \u00b5s Ecart-type 32.35 \u00b5s (with 10 runs) in [88.22 \u00b5s, 243.52 \u00b5s]\n",
            "batch = 3000\n",
            "Moyenne: 131.44 \u00b5s Ecart-type 41.20 \u00b5s (with 10 runs) in [64.71 \u00b5s, 181.45 \u00b5s]\n",
            "Moyenne: 409.94 ms Ecart-type 14.04 ms (with 2 runs) in [395.90 ms, 423.98 ms]\n",
            "Moyenne: 39.85 \u00b5s Ecart-type 13.62 \u00b5s (with 10 runs) in [22.99 \u00b5s, 71.94 \u00b5s]\n",
            "Moyenne: 5.21 ms Ecart-type 770.62 \u00b5s (with 10 runs) in [4.38 ms, 6.73 ms]\n",
            "Moyenne: 231.05 \u00b5s Ecart-type 55.42 \u00b5s (with 10 runs) in [189.31 \u00b5s, 329.01 \u00b5s]\n",
            "batch = 4000\n",
            "Moyenne: 150.87 \u00b5s Ecart-type 41.17 \u00b5s (with 10 runs) in [121.21 \u00b5s, 215.74 \u00b5s]\n",
            "Moyenne: 408.31 ms Ecart-type 17.37 ms (with 2 runs) in [390.94 ms, 425.69 ms]\n",
            "Moyenne: 46.04 \u00b5s Ecart-type 15.51 \u00b5s (with 10 runs) in [26.43 \u00b5s, 76.01 \u00b5s]\n",
            "Moyenne: 6.74 ms Ecart-type 1.52 ms (with 10 runs) in [4.88 ms, 10.21 ms]\n",
            "Moyenne: 250.30 \u00b5s Ecart-type 74.88 \u00b5s (with 10 runs) in [155.77 \u00b5s, 407.78 \u00b5s]\n",
            "batch = 5000\n",
            "Moyenne: 175.07 \u00b5s Ecart-type 50.92 \u00b5s (with 10 runs) in [112.87 \u00b5s, 332.84 \u00b5s]\n",
            "Moyenne: 400.47 ms Ecart-type 3.32 ms (with 2 runs) in [397.16 ms, 403.79 ms]\n",
            "Moyenne: 54.68 \u00b5s Ecart-type 15.54 \u00b5s (with 10 runs) in [48.04 \u00b5s, 113.26 \u00b5s]\n",
            "Moyenne: 8.52 ms Ecart-type 1.52 ms (with 10 runs) in [7.12 ms, 12.84 ms]\n",
            "Moyenne: 287.25 \u00b5s Ecart-type 71.18 \u00b5s (with 10 runs) in [173.12 \u00b5s, 441.36 \u00b5s]\n",
            "batch = 10000\n",
            "Moyenne: 245.55 \u00b5s Ecart-type 71.10 \u00b5s (with 10 runs) in [160.24 \u00b5s, 397.55 \u00b5s]\n",
            "Moyenne: 431.50 ms Ecart-type 7.84 ms (with 2 runs) in [423.65 ms, 439.34 ms]\n",
            "Moyenne: 90.02 \u00b5s Ecart-type 46.60 \u00b5s (with 10 runs) in [50.09 \u00b5s, 234.55 \u00b5s]\n",
            "Moyenne: 16.31 ms Ecart-type 1.05 ms (with 10 runs) in [15.22 ms, 19.15 ms]\n",
            "Moyenne: 590.63 \u00b5s Ecart-type 204.07 \u00b5s (with 10 runs) in [380.05 \u00b5s, 1.29 ms]\n",
            "batch = 20000\n",
            "Moyenne: 527.64 \u00b5s Ecart-type 180.13 \u00b5s (with 10 runs) in [320.28 \u00b5s, 1.06 ms]\n",
            "Moyenne: 438.45 ms Ecart-type 746.57 \u00b5s (with 2 runs) in [437.71 ms, 439.20 ms]\n",
            "Moyenne: 175.81 \u00b5s Ecart-type 63.59 \u00b5s (with 10 runs) in [92.88 \u00b5s, 306.17 \u00b5s]\n",
            "Moyenne: 1.35 ms Ecart-type 299.42 \u00b5s (with 10 runs) in [1.08 ms, 1.96 ms]\n",
            "batch = 50000\n",
            "Moyenne: 1.80 ms Ecart-type 751.18 \u00b5s (with 10 runs) in [1.33 ms, 4.90 ms]\n",
            "Moyenne: 443.91 ms Ecart-type 10.87 ms (with 2 runs) in [433.03 ms, 454.78 ms]\n",
            "Moyenne: 435.21 \u00b5s Ecart-type 83.65 \u00b5s (with 10 runs) in [316.41 \u00b5s, 585.88 \u00b5s]\n",
            "Moyenne: 5.64 ms Ecart-type 1.05 ms (with 10 runs) in [4.36 ms, 7.91 ms]\n",
            "batch = 75000\n",
            "Moyenne: 2.07 ms Ecart-type 351.14 \u00b5s (with 10 runs) in [1.50 ms, 2.80 ms]\n",
            "Moyenne: 453.49 ms Ecart-type 1.56 ms (with 2 runs) in [451.93 ms, 455.04 ms]\n",
            "Moyenne: 586.91 \u00b5s Ecart-type 71.69 \u00b5s (with 10 runs) in [516.62 \u00b5s, 757.61 \u00b5s]\n",
            "Moyenne: 8.94 ms Ecart-type 1.04 ms (with 10 runs) in [7.65 ms, 11.38 ms]\n",
            "batch = 100000\n",
            "Moyenne: 2.57 ms Ecart-type 223.69 \u00b5s (with 10 runs) in [2.33 ms, 3.28 ms]\n",
            "Moyenne: 507.15 ms Ecart-type 26.96 ms (with 2 runs) in [480.19 ms, 534.12 ms]\n",
            "Moyenne: 802.65 \u00b5s Ecart-type 134.98 \u00b5s (with 10 runs) in [580.50 \u00b5s, 1.05 ms]\n",
            "Moyenne: 12.54 ms Ecart-type 1.11 ms (with 10 runs) in [10.65 ms, 15.22 ms]\n",
            "batch = 150000\n",
            "Moyenne: 6.53 ms Ecart-type 402.31 \u00b5s (with 10 runs) in [6.06 ms, 7.23 ms]\n",
            "Moyenne: 531.57 ms Ecart-type 9.46 ms (with 2 runs) in [522.11 ms, 541.03 ms]\n",
            "Moyenne: 4.98 ms Ecart-type 388.77 \u00b5s (with 10 runs) in [4.38 ms, 5.72 ms]\n",
            "Moyenne: 18.44 ms Ecart-type 1.45 ms (with 10 runs) in [16.56 ms, 21.21 ms]\n",
            "batch = 200000\n",
            "Moyenne: 8.59 ms Ecart-type 636.86 \u00b5s (with 10 runs) in [7.51 ms, 9.85 ms]\n",
            "Moyenne: 613.15 ms Ecart-type 2.69 ms (with 2 runs) in [610.46 ms, 615.84 ms]\n",
            "Moyenne: 6.45 ms Ecart-type 542.18 \u00b5s (with 10 runs) in [5.74 ms, 7.68 ms]\n",
            "Moyenne: 25.32 ms Ecart-type 3.26 ms (with 10 runs) in [22.83 ms, 35.46 ms]\n",
            "batch = 300000\n",
            "Moyenne: 11.70 ms Ecart-type 1.57 ms (with 10 runs) in [9.68 ms, 14.26 ms]\n",
            "Moyenne: 849.83 ms Ecart-type 22.12 ms (with 2 runs) in [827.71 ms, 871.96 ms]\n",
            "Moyenne: 9.00 ms Ecart-type 911.11 \u00b5s (with 10 runs) in [8.07 ms, 11.53 ms]\n",
            "Moyenne: 38.63 ms Ecart-type 3.44 ms (with 10 runs) in [31.65 ms, 44.07 ms]\n",
            "batch = 400000\n",
            "Moyenne: 15.67 ms Ecart-type 861.19 \u00b5s (with 10 runs) in [14.59 ms, 17.50 ms]\n",
            "Moyenne: 1.07 s Ecart-type 18.64 ms (with 2 runs) in [1.05 s, 1.09 s]\n",
            "Moyenne: 12.73 ms Ecart-type 1.45 ms (with 10 runs) in [9.61 ms, 14.14 ms]\n",
            "Moyenne: 51.42 ms Ecart-type 6.55 ms (with 10 runs) in [41.90 ms, 62.90 ms]\n",
            "batch = 500000\n",
            "Moyenne: 19.82 ms Ecart-type 2.00 ms (with 10 runs) in [16.57 ms, 23.15 ms]\n",
            "Moyenne: 1.26 s Ecart-type 6.61 ms (with 2 runs) in [1.25 s, 1.26 s]\n",
            "Moyenne: 16.03 ms Ecart-type 1.02 ms (with 10 runs) in [14.14 ms, 17.45 ms]\n",
            "Moyenne: 66.45 ms Ecart-type 5.87 ms (with 10 runs) in [59.36 ms, 79.10 ms]\n",
            "batch = 600000\n",
            "Moyenne: 25.01 ms Ecart-type 1.03 ms (with 10 runs) in [23.19 ms, 26.39 ms]\n",
            "Moyenne: 1.54 s Ecart-type 22.09 ms (with 2 runs) in [1.52 s, 1.57 s]\n",
            "Moyenne: 19.92 ms Ecart-type 1.21 ms (with 10 runs) in [18.89 ms, 21.52 ms]\n",
            "Moyenne: 76.00 ms Ecart-type 10.64 ms (with 10 runs) in [60.07 ms, 96.82 ms]\n"
          ]
        }
      ],
      "source": [
        "memo = []\n",
        "batch = [1, 10, 100, 200, 500, 1000, 2000, 3000, 4000, 5000, 10000,\n",
        "         20000, 50000, 75000, 100000, 150000, 200000, 300000, 400000,\n",
        "         500000, 600000]\n",
        "number = 10\n",
        "for i in batch:\n",
        "    if i <= diabetes_X_test.shape[0]:\n",
        "        mx = diabetes_X_test[:i]\n",
        "    else:\n",
        "        mxs = [diabetes_X_test] * (i // diabetes_X_test.shape[0] + 1)\n",
        "        mx = numpy.vstack(mxs)\n",
        "        mx = mx[:i]\n",
        "\n",
        "    print(\"batch\", \"=\", i)\n",
        "    repeat=20 if i >= 5000 else 100\n",
        "    \n",
        "    memo.append(timeexe(\"sklearn.predict %d\" % i, \"clr.predict(mx)\", \n",
        "                        repeat=repeat, number=number))\n",
        "    memo[-1][\"batch\"] = i\n",
        "    memo[-1][\"lib\"] = \"sklearn\"\n",
        "    \n",
        "    if ok_nimbus:\n",
        "        memo.append(timeexe(\"nimbus.predict %d\" % i, \"nlr.predict(mx)\", \n",
        "                            repeat=2, number=2))\n",
        "        memo[-1][\"batch\"] = i\n",
        "        memo[-1][\"lib\"] = \"nimbus\"\n",
        "\n",
        "    if i <= 1000:\n",
        "        # tr\u00e8s lent\n",
        "        memo.append(timeexe(\"python %d\" % i, \"predict_clr_python_loop_multi(mx, clr.coef_, clr.intercept_)\",\n",
        "                            repeat=20, number=number))\n",
        "        memo[-1][\"batch\"] = i\n",
        "        memo[-1][\"lib\"] = \"python\"\n",
        "    \n",
        "    memo.append(timeexe(\"numpy %d\" % i, \"predict_clr_numpy_loop_multi(mx, clr.coef_, clr.intercept_)\",\n",
        "                        repeat=repeat, number=number))\n",
        "    memo[-1][\"batch\"] = i\n",
        "    memo[-1][\"lib\"] = \"numpy\"\n",
        "    \n",
        "    if i <= 10000:\n",
        "        # tr\u00e8s lent\n",
        "        memo.append(timeexe(\"numba %d\" % i, \"predict_clr_numba_cast_multi(mx, clr.coef_, clr.intercept_)\",\n",
        "                            repeat=repeat, number=number))\n",
        "        memo[-1][\"batch\"] = i\n",
        "        memo[-1][\"lib\"] = \"numba\"\n",
        "    \n",
        "    if ok_onnx:\n",
        "        memo.append(timeexe(\"onnxruntime %d\" % i, \"predict_onnxrt(mx.astype(numpy.float32))\",\n",
        "                            repeat=repeat, number=number))\n",
        "        memo[-1][\"batch\"] = i\n",
        "        memo[-1][\"lib\"] = \"onnxruntime\""
      ]
    },
    {
      "cell_type": "code",
      "execution_count": 88,
      "metadata": {},
      "outputs": [
        {
          "data": {
            "text/html": [
              "<div>\n",
              "<style scoped>\n",
              "    .dataframe tbody tr th:only-of-type {\n",
              "        vertical-align: middle;\n",
              "    }\n",
              "\n",
              "    .dataframe tbody tr th {\n",
              "        vertical-align: top;\n",
              "    }\n",
              "\n",
              "    .dataframe thead th {\n",
              "        text-align: right;\n",
              "    }\n",
              "</style>\n",
              "<table border=\"1\" class=\"dataframe\">\n",
              "  <thead>\n",
              "    <tr style=\"text-align: right;\">\n",
              "      <th>lib</th>\n",
              "      <th>nimbus</th>\n",
              "      <th>numba</th>\n",
              "      <th>numpy</th>\n",
              "      <th>onnxruntime</th>\n",
              "      <th>python</th>\n",
              "      <th>sklearn</th>\n",
              "    </tr>\n",
              "    <tr>\n",
              "      <th>batch</th>\n",
              "      <th></th>\n",
              "      <th></th>\n",
              "      <th></th>\n",
              "      <th></th>\n",
              "      <th></th>\n",
              "      <th></th>\n",
              "    </tr>\n",
              "  </thead>\n",
              "  <tbody>\n",
              "    <tr>\n",
              "      <th>1</th>\n",
              "      <td>0.592297</td>\n",
              "      <td>0.000005</td>\n",
              "      <td>0.000020</td>\n",
              "      <td>0.000037</td>\n",
              "      <td>0.000015</td>\n",
              "      <td>0.000066</td>\n",
              "    </tr>\n",
              "    <tr>\n",
              "      <th>10</th>\n",
              "      <td>0.418668</td>\n",
              "      <td>0.000020</td>\n",
              "      <td>0.000016</td>\n",
              "      <td>0.000037</td>\n",
              "      <td>0.000131</td>\n",
              "      <td>0.000066</td>\n",
              "    </tr>\n",
              "    <tr>\n",
              "      <th>100</th>\n",
              "      <td>0.469035</td>\n",
              "      <td>0.000166</td>\n",
              "      <td>0.000016</td>\n",
              "      <td>0.000041</td>\n",
              "      <td>0.001286</td>\n",
              "      <td>0.000055</td>\n",
              "    </tr>\n",
              "    <tr>\n",
              "      <th>200</th>\n",
              "      <td>0.536486</td>\n",
              "      <td>0.000362</td>\n",
              "      <td>0.000024</td>\n",
              "      <td>0.000050</td>\n",
              "      <td>0.002297</td>\n",
              "      <td>0.000070</td>\n",
              "    </tr>\n",
              "    <tr>\n",
              "      <th>500</th>\n",
              "      <td>0.406039</td>\n",
              "      <td>0.000919</td>\n",
              "      <td>0.000020</td>\n",
              "      <td>0.000057</td>\n",
              "      <td>0.005716</td>\n",
              "      <td>0.000078</td>\n",
              "    </tr>\n",
              "    <tr>\n",
              "      <th>1000</th>\n",
              "      <td>0.575115</td>\n",
              "      <td>0.001820</td>\n",
              "      <td>0.000028</td>\n",
              "      <td>0.000087</td>\n",
              "      <td>0.011675</td>\n",
              "      <td>0.000093</td>\n",
              "    </tr>\n",
              "    <tr>\n",
              "      <th>2000</th>\n",
              "      <td>0.408418</td>\n",
              "      <td>0.003323</td>\n",
              "      <td>0.000041</td>\n",
              "      <td>0.000142</td>\n",
              "      <td>NaN</td>\n",
              "      <td>0.000116</td>\n",
              "    </tr>\n",
              "    <tr>\n",
              "      <th>3000</th>\n",
              "      <td>0.409942</td>\n",
              "      <td>0.005206</td>\n",
              "      <td>0.000040</td>\n",
              "      <td>0.000231</td>\n",
              "      <td>NaN</td>\n",
              "      <td>0.000131</td>\n",
              "    </tr>\n",
              "    <tr>\n",
              "      <th>4000</th>\n",
              "      <td>0.408313</td>\n",
              "      <td>0.006739</td>\n",
              "      <td>0.000046</td>\n",
              "      <td>0.000250</td>\n",
              "      <td>NaN</td>\n",
              "      <td>0.000151</td>\n",
              "    </tr>\n",
              "    <tr>\n",
              "      <th>5000</th>\n",
              "      <td>0.400474</td>\n",
              "      <td>0.008520</td>\n",
              "      <td>0.000055</td>\n",
              "      <td>0.000287</td>\n",
              "      <td>NaN</td>\n",
              "      <td>0.000175</td>\n",
              "    </tr>\n",
              "    <tr>\n",
              "      <th>10000</th>\n",
              "      <td>0.431496</td>\n",
              "      <td>0.016312</td>\n",
              "      <td>0.000090</td>\n",
              "      <td>0.000591</td>\n",
              "      <td>NaN</td>\n",
              "      <td>0.000246</td>\n",
              "    </tr>\n",
              "    <tr>\n",
              "      <th>20000</th>\n",
              "      <td>0.438452</td>\n",
              "      <td>NaN</td>\n",
              "      <td>0.000176</td>\n",
              "      <td>0.001346</td>\n",
              "      <td>NaN</td>\n",
              "      <td>0.000528</td>\n",
              "    </tr>\n",
              "    <tr>\n",
              "      <th>50000</th>\n",
              "      <td>0.443906</td>\n",
              "      <td>NaN</td>\n",
              "      <td>0.000435</td>\n",
              "      <td>0.005636</td>\n",
              "      <td>NaN</td>\n",
              "      <td>0.001803</td>\n",
              "    </tr>\n",
              "    <tr>\n",
              "      <th>75000</th>\n",
              "      <td>0.453490</td>\n",
              "      <td>NaN</td>\n",
              "      <td>0.000587</td>\n",
              "      <td>0.008943</td>\n",
              "      <td>NaN</td>\n",
              "      <td>0.002069</td>\n",
              "    </tr>\n",
              "    <tr>\n",
              "      <th>100000</th>\n",
              "      <td>0.507152</td>\n",
              "      <td>NaN</td>\n",
              "      <td>0.000803</td>\n",
              "      <td>0.012535</td>\n",
              "      <td>NaN</td>\n",
              "      <td>0.002571</td>\n",
              "    </tr>\n",
              "    <tr>\n",
              "      <th>150000</th>\n",
              "      <td>0.531567</td>\n",
              "      <td>NaN</td>\n",
              "      <td>0.004980</td>\n",
              "      <td>0.018435</td>\n",
              "      <td>NaN</td>\n",
              "      <td>0.006531</td>\n",
              "    </tr>\n",
              "    <tr>\n",
              "      <th>200000</th>\n",
              "      <td>0.613150</td>\n",
              "      <td>NaN</td>\n",
              "      <td>0.006451</td>\n",
              "      <td>0.025321</td>\n",
              "      <td>NaN</td>\n",
              "      <td>0.008589</td>\n",
              "    </tr>\n",
              "    <tr>\n",
              "      <th>300000</th>\n",
              "      <td>0.849833</td>\n",
              "      <td>NaN</td>\n",
              "      <td>0.009000</td>\n",
              "      <td>0.038631</td>\n",
              "      <td>NaN</td>\n",
              "      <td>0.011699</td>\n",
              "    </tr>\n",
              "    <tr>\n",
              "      <th>400000</th>\n",
              "      <td>1.072258</td>\n",
              "      <td>NaN</td>\n",
              "      <td>0.012731</td>\n",
              "      <td>0.051418</td>\n",
              "      <td>NaN</td>\n",
              "      <td>0.015670</td>\n",
              "    </tr>\n",
              "    <tr>\n",
              "      <th>500000</th>\n",
              "      <td>1.257586</td>\n",
              "      <td>NaN</td>\n",
              "      <td>0.016030</td>\n",
              "      <td>0.066452</td>\n",
              "      <td>NaN</td>\n",
              "      <td>0.019817</td>\n",
              "    </tr>\n",
              "    <tr>\n",
              "      <th>600000</th>\n",
              "      <td>1.543260</td>\n",
              "      <td>NaN</td>\n",
              "      <td>0.019922</td>\n",
              "      <td>0.076000</td>\n",
              "      <td>NaN</td>\n",
              "      <td>0.025006</td>\n",
              "    </tr>\n",
              "  </tbody>\n",
              "</table>\n",
              "</div>"
            ],
            "text/plain": [
              "lib       nimbus     numba     numpy  onnxruntime    python   sklearn\n",
              "batch                                                                \n",
              "1       0.592297  0.000005  0.000020     0.000037  0.000015  0.000066\n",
              "10      0.418668  0.000020  0.000016     0.000037  0.000131  0.000066\n",
              "100     0.469035  0.000166  0.000016     0.000041  0.001286  0.000055\n",
              "200     0.536486  0.000362  0.000024     0.000050  0.002297  0.000070\n",
              "500     0.406039  0.000919  0.000020     0.000057  0.005716  0.000078\n",
              "1000    0.575115  0.001820  0.000028     0.000087  0.011675  0.000093\n",
              "2000    0.408418  0.003323  0.000041     0.000142       NaN  0.000116\n",
              "3000    0.409942  0.005206  0.000040     0.000231       NaN  0.000131\n",
              "4000    0.408313  0.006739  0.000046     0.000250       NaN  0.000151\n",
              "5000    0.400474  0.008520  0.000055     0.000287       NaN  0.000175\n",
              "10000   0.431496  0.016312  0.000090     0.000591       NaN  0.000246\n",
              "20000   0.438452       NaN  0.000176     0.001346       NaN  0.000528\n",
              "50000   0.443906       NaN  0.000435     0.005636       NaN  0.001803\n",
              "75000   0.453490       NaN  0.000587     0.008943       NaN  0.002069\n",
              "100000  0.507152       NaN  0.000803     0.012535       NaN  0.002571\n",
              "150000  0.531567       NaN  0.004980     0.018435       NaN  0.006531\n",
              "200000  0.613150       NaN  0.006451     0.025321       NaN  0.008589\n",
              "300000  0.849833       NaN  0.009000     0.038631       NaN  0.011699\n",
              "400000  1.072258       NaN  0.012731     0.051418       NaN  0.015670\n",
              "500000  1.257586       NaN  0.016030     0.066452       NaN  0.019817\n",
              "600000  1.543260       NaN  0.019922     0.076000       NaN  0.025006"
            ]
          },
          "execution_count": 89,
          "metadata": {},
          "output_type": "execute_result"
        }
      ],
      "source": [
        "dfb = pandas.DataFrame(memo)[[\"average\", \"lib\", \"batch\"]]\n",
        "piv = dfb.pivot(\"batch\", \"lib\", \"average\")\n",
        "piv"
      ]
    },
    {
      "cell_type": "code",
      "execution_count": 89,
      "metadata": {},
      "outputs": [
        {
          "data": {
            "text/html": [
              "<div>\n",
              "<style scoped>\n",
              "    .dataframe tbody tr th:only-of-type {\n",
              "        vertical-align: middle;\n",
              "    }\n",
              "\n",
              "    .dataframe tbody tr th {\n",
              "        vertical-align: top;\n",
              "    }\n",
              "\n",
              "    .dataframe thead th {\n",
              "        text-align: right;\n",
              "    }\n",
              "</style>\n",
              "<table border=\"1\" class=\"dataframe\">\n",
              "  <thead>\n",
              "    <tr style=\"text-align: right;\">\n",
              "      <th>lib</th>\n",
              "      <th>nimbus</th>\n",
              "      <th>numba</th>\n",
              "      <th>numpy</th>\n",
              "      <th>onnxruntime</th>\n",
              "      <th>python</th>\n",
              "      <th>sklearn</th>\n",
              "      <th>ave_nimbus</th>\n",
              "      <th>ave_numba</th>\n",
              "      <th>ave_numpy</th>\n",
              "      <th>ave_onnxruntime</th>\n",
              "      <th>ave_python</th>\n",
              "      <th>ave_sklearn</th>\n",
              "    </tr>\n",
              "    <tr>\n",
              "      <th>batch</th>\n",
              "      <th></th>\n",
              "      <th></th>\n",
              "      <th></th>\n",
              "      <th></th>\n",
              "      <th></th>\n",
              "      <th></th>\n",
              "      <th></th>\n",
              "      <th></th>\n",
              "      <th></th>\n",
              "      <th></th>\n",
              "      <th></th>\n",
              "      <th></th>\n",
              "    </tr>\n",
              "  </thead>\n",
              "  <tbody>\n",
              "    <tr>\n",
              "      <th>1</th>\n",
              "      <td>0.592297</td>\n",
              "      <td>0.000005</td>\n",
              "      <td>0.000020</td>\n",
              "      <td>0.000037</td>\n",
              "      <td>0.000015</td>\n",
              "      <td>0.000066</td>\n",
              "      <td>0.592297</td>\n",
              "      <td>0.000005</td>\n",
              "      <td>1.964997e-05</td>\n",
              "      <td>3.693276e-05</td>\n",
              "      <td>0.000015</td>\n",
              "      <td>6.610610e-05</td>\n",
              "    </tr>\n",
              "    <tr>\n",
              "      <th>10</th>\n",
              "      <td>0.418668</td>\n",
              "      <td>0.000020</td>\n",
              "      <td>0.000016</td>\n",
              "      <td>0.000037</td>\n",
              "      <td>0.000131</td>\n",
              "      <td>0.000066</td>\n",
              "      <td>0.041867</td>\n",
              "      <td>0.000002</td>\n",
              "      <td>1.594786e-06</td>\n",
              "      <td>3.674391e-06</td>\n",
              "      <td>0.000013</td>\n",
              "      <td>6.584654e-06</td>\n",
              "    </tr>\n",
              "    <tr>\n",
              "      <th>100</th>\n",
              "      <td>0.469035</td>\n",
              "      <td>0.000166</td>\n",
              "      <td>0.000016</td>\n",
              "      <td>0.000041</td>\n",
              "      <td>0.001286</td>\n",
              "      <td>0.000055</td>\n",
              "      <td>0.004690</td>\n",
              "      <td>0.000002</td>\n",
              "      <td>1.604505e-07</td>\n",
              "      <td>4.149494e-07</td>\n",
              "      <td>0.000013</td>\n",
              "      <td>5.507597e-07</td>\n",
              "    </tr>\n",
              "    <tr>\n",
              "      <th>200</th>\n",
              "      <td>0.536486</td>\n",
              "      <td>0.000362</td>\n",
              "      <td>0.000024</td>\n",
              "      <td>0.000050</td>\n",
              "      <td>0.002297</td>\n",
              "      <td>0.000070</td>\n",
              "      <td>0.002682</td>\n",
              "      <td>0.000002</td>\n",
              "      <td>1.183823e-07</td>\n",
              "      <td>2.485275e-07</td>\n",
              "      <td>0.000011</td>\n",
              "      <td>3.486915e-07</td>\n",
              "    </tr>\n",
              "    <tr>\n",
              "      <th>500</th>\n",
              "      <td>0.406039</td>\n",
              "      <td>0.000919</td>\n",
              "      <td>0.000020</td>\n",
              "      <td>0.000057</td>\n",
              "      <td>0.005716</td>\n",
              "      <td>0.000078</td>\n",
              "      <td>0.000812</td>\n",
              "      <td>0.000002</td>\n",
              "      <td>3.914826e-08</td>\n",
              "      <td>1.132690e-07</td>\n",
              "      <td>0.000011</td>\n",
              "      <td>1.550096e-07</td>\n",
              "    </tr>\n",
              "    <tr>\n",
              "      <th>1000</th>\n",
              "      <td>0.575115</td>\n",
              "      <td>0.001820</td>\n",
              "      <td>0.000028</td>\n",
              "      <td>0.000087</td>\n",
              "      <td>0.011675</td>\n",
              "      <td>0.000093</td>\n",
              "      <td>0.000575</td>\n",
              "      <td>0.000002</td>\n",
              "      <td>2.834648e-08</td>\n",
              "      <td>8.700013e-08</td>\n",
              "      <td>0.000012</td>\n",
              "      <td>9.346848e-08</td>\n",
              "    </tr>\n",
              "    <tr>\n",
              "      <th>2000</th>\n",
              "      <td>0.408418</td>\n",
              "      <td>0.003323</td>\n",
              "      <td>0.000041</td>\n",
              "      <td>0.000142</td>\n",
              "      <td>NaN</td>\n",
              "      <td>0.000116</td>\n",
              "      <td>0.000204</td>\n",
              "      <td>0.000002</td>\n",
              "      <td>2.049028e-08</td>\n",
              "      <td>7.124368e-08</td>\n",
              "      <td>NaN</td>\n",
              "      <td>5.806521e-08</td>\n",
              "    </tr>\n",
              "    <tr>\n",
              "      <th>3000</th>\n",
              "      <td>0.409942</td>\n",
              "      <td>0.005206</td>\n",
              "      <td>0.000040</td>\n",
              "      <td>0.000231</td>\n",
              "      <td>NaN</td>\n",
              "      <td>0.000131</td>\n",
              "      <td>0.000137</td>\n",
              "      <td>0.000002</td>\n",
              "      <td>1.328474e-08</td>\n",
              "      <td>7.701560e-08</td>\n",
              "      <td>NaN</td>\n",
              "      <td>4.381170e-08</td>\n",
              "    </tr>\n",
              "    <tr>\n",
              "      <th>4000</th>\n",
              "      <td>0.408313</td>\n",
              "      <td>0.006739</td>\n",
              "      <td>0.000046</td>\n",
              "      <td>0.000250</td>\n",
              "      <td>NaN</td>\n",
              "      <td>0.000151</td>\n",
              "      <td>0.000102</td>\n",
              "      <td>0.000002</td>\n",
              "      <td>1.150973e-08</td>\n",
              "      <td>6.257395e-08</td>\n",
              "      <td>NaN</td>\n",
              "      <td>3.771745e-08</td>\n",
              "    </tr>\n",
              "    <tr>\n",
              "      <th>5000</th>\n",
              "      <td>0.400474</td>\n",
              "      <td>0.008520</td>\n",
              "      <td>0.000055</td>\n",
              "      <td>0.000287</td>\n",
              "      <td>NaN</td>\n",
              "      <td>0.000175</td>\n",
              "      <td>0.000080</td>\n",
              "      <td>0.000002</td>\n",
              "      <td>1.093650e-08</td>\n",
              "      <td>5.745029e-08</td>\n",
              "      <td>NaN</td>\n",
              "      <td>3.501355e-08</td>\n",
              "    </tr>\n",
              "    <tr>\n",
              "      <th>10000</th>\n",
              "      <td>0.431496</td>\n",
              "      <td>0.016312</td>\n",
              "      <td>0.000090</td>\n",
              "      <td>0.000591</td>\n",
              "      <td>NaN</td>\n",
              "      <td>0.000246</td>\n",
              "      <td>0.000043</td>\n",
              "      <td>0.000002</td>\n",
              "      <td>9.002472e-09</td>\n",
              "      <td>5.906294e-08</td>\n",
              "      <td>NaN</td>\n",
              "      <td>2.455487e-08</td>\n",
              "    </tr>\n",
              "    <tr>\n",
              "      <th>20000</th>\n",
              "      <td>0.438452</td>\n",
              "      <td>NaN</td>\n",
              "      <td>0.000176</td>\n",
              "      <td>0.001346</td>\n",
              "      <td>NaN</td>\n",
              "      <td>0.000528</td>\n",
              "      <td>0.000022</td>\n",
              "      <td>NaN</td>\n",
              "      <td>8.790622e-09</td>\n",
              "      <td>6.730423e-08</td>\n",
              "      <td>NaN</td>\n",
              "      <td>2.638184e-08</td>\n",
              "    </tr>\n",
              "    <tr>\n",
              "      <th>50000</th>\n",
              "      <td>0.443906</td>\n",
              "      <td>NaN</td>\n",
              "      <td>0.000435</td>\n",
              "      <td>0.005636</td>\n",
              "      <td>NaN</td>\n",
              "      <td>0.001803</td>\n",
              "      <td>0.000009</td>\n",
              "      <td>NaN</td>\n",
              "      <td>8.704280e-09</td>\n",
              "      <td>1.127115e-07</td>\n",
              "      <td>NaN</td>\n",
              "      <td>3.605019e-08</td>\n",
              "    </tr>\n",
              "    <tr>\n",
              "      <th>75000</th>\n",
              "      <td>0.453490</td>\n",
              "      <td>NaN</td>\n",
              "      <td>0.000587</td>\n",
              "      <td>0.008943</td>\n",
              "      <td>NaN</td>\n",
              "      <td>0.002069</td>\n",
              "      <td>0.000006</td>\n",
              "      <td>NaN</td>\n",
              "      <td>7.825438e-09</td>\n",
              "      <td>1.192387e-07</td>\n",
              "      <td>NaN</td>\n",
              "      <td>2.758325e-08</td>\n",
              "    </tr>\n",
              "    <tr>\n",
              "      <th>100000</th>\n",
              "      <td>0.507152</td>\n",
              "      <td>NaN</td>\n",
              "      <td>0.000803</td>\n",
              "      <td>0.012535</td>\n",
              "      <td>NaN</td>\n",
              "      <td>0.002571</td>\n",
              "      <td>0.000005</td>\n",
              "      <td>NaN</td>\n",
              "      <td>8.026492e-09</td>\n",
              "      <td>1.253538e-07</td>\n",
              "      <td>NaN</td>\n",
              "      <td>2.570573e-08</td>\n",
              "    </tr>\n",
              "    <tr>\n",
              "      <th>150000</th>\n",
              "      <td>0.531567</td>\n",
              "      <td>NaN</td>\n",
              "      <td>0.004980</td>\n",
              "      <td>0.018435</td>\n",
              "      <td>NaN</td>\n",
              "      <td>0.006531</td>\n",
              "      <td>0.000004</td>\n",
              "      <td>NaN</td>\n",
              "      <td>3.319770e-08</td>\n",
              "      <td>1.229013e-07</td>\n",
              "      <td>NaN</td>\n",
              "      <td>4.353777e-08</td>\n",
              "    </tr>\n",
              "    <tr>\n",
              "      <th>200000</th>\n",
              "      <td>0.613150</td>\n",
              "      <td>NaN</td>\n",
              "      <td>0.006451</td>\n",
              "      <td>0.025321</td>\n",
              "      <td>NaN</td>\n",
              "      <td>0.008589</td>\n",
              "      <td>0.000003</td>\n",
              "      <td>NaN</td>\n",
              "      <td>3.225735e-08</td>\n",
              "      <td>1.266035e-07</td>\n",
              "      <td>NaN</td>\n",
              "      <td>4.294423e-08</td>\n",
              "    </tr>\n",
              "    <tr>\n",
              "      <th>300000</th>\n",
              "      <td>0.849833</td>\n",
              "      <td>NaN</td>\n",
              "      <td>0.009000</td>\n",
              "      <td>0.038631</td>\n",
              "      <td>NaN</td>\n",
              "      <td>0.011699</td>\n",
              "      <td>0.000003</td>\n",
              "      <td>NaN</td>\n",
              "      <td>2.999960e-08</td>\n",
              "      <td>1.287707e-07</td>\n",
              "      <td>NaN</td>\n",
              "      <td>3.899577e-08</td>\n",
              "    </tr>\n",
              "    <tr>\n",
              "      <th>400000</th>\n",
              "      <td>1.072258</td>\n",
              "      <td>NaN</td>\n",
              "      <td>0.012731</td>\n",
              "      <td>0.051418</td>\n",
              "      <td>NaN</td>\n",
              "      <td>0.015670</td>\n",
              "      <td>0.000003</td>\n",
              "      <td>NaN</td>\n",
              "      <td>3.182658e-08</td>\n",
              "      <td>1.285457e-07</td>\n",
              "      <td>NaN</td>\n",
              "      <td>3.917440e-08</td>\n",
              "    </tr>\n",
              "    <tr>\n",
              "      <th>500000</th>\n",
              "      <td>1.257586</td>\n",
              "      <td>NaN</td>\n",
              "      <td>0.016030</td>\n",
              "      <td>0.066452</td>\n",
              "      <td>NaN</td>\n",
              "      <td>0.019817</td>\n",
              "      <td>0.000003</td>\n",
              "      <td>NaN</td>\n",
              "      <td>3.206050e-08</td>\n",
              "      <td>1.329033e-07</td>\n",
              "      <td>NaN</td>\n",
              "      <td>3.963485e-08</td>\n",
              "    </tr>\n",
              "    <tr>\n",
              "      <th>600000</th>\n",
              "      <td>1.543260</td>\n",
              "      <td>NaN</td>\n",
              "      <td>0.019922</td>\n",
              "      <td>0.076000</td>\n",
              "      <td>NaN</td>\n",
              "      <td>0.025006</td>\n",
              "      <td>0.000003</td>\n",
              "      <td>NaN</td>\n",
              "      <td>3.320313e-08</td>\n",
              "      <td>1.266671e-07</td>\n",
              "      <td>NaN</td>\n",
              "      <td>4.167692e-08</td>\n",
              "    </tr>\n",
              "  </tbody>\n",
              "</table>\n",
              "</div>"
            ],
            "text/plain": [
              "lib       nimbus     numba     numpy  onnxruntime    python   sklearn  \\\n",
              "batch                                                                   \n",
              "1       0.592297  0.000005  0.000020     0.000037  0.000015  0.000066   \n",
              "10      0.418668  0.000020  0.000016     0.000037  0.000131  0.000066   \n",
              "100     0.469035  0.000166  0.000016     0.000041  0.001286  0.000055   \n",
              "200     0.536486  0.000362  0.000024     0.000050  0.002297  0.000070   \n",
              "500     0.406039  0.000919  0.000020     0.000057  0.005716  0.000078   \n",
              "1000    0.575115  0.001820  0.000028     0.000087  0.011675  0.000093   \n",
              "2000    0.408418  0.003323  0.000041     0.000142       NaN  0.000116   \n",
              "3000    0.409942  0.005206  0.000040     0.000231       NaN  0.000131   \n",
              "4000    0.408313  0.006739  0.000046     0.000250       NaN  0.000151   \n",
              "5000    0.400474  0.008520  0.000055     0.000287       NaN  0.000175   \n",
              "10000   0.431496  0.016312  0.000090     0.000591       NaN  0.000246   \n",
              "20000   0.438452       NaN  0.000176     0.001346       NaN  0.000528   \n",
              "50000   0.443906       NaN  0.000435     0.005636       NaN  0.001803   \n",
              "75000   0.453490       NaN  0.000587     0.008943       NaN  0.002069   \n",
              "100000  0.507152       NaN  0.000803     0.012535       NaN  0.002571   \n",
              "150000  0.531567       NaN  0.004980     0.018435       NaN  0.006531   \n",
              "200000  0.613150       NaN  0.006451     0.025321       NaN  0.008589   \n",
              "300000  0.849833       NaN  0.009000     0.038631       NaN  0.011699   \n",
              "400000  1.072258       NaN  0.012731     0.051418       NaN  0.015670   \n",
              "500000  1.257586       NaN  0.016030     0.066452       NaN  0.019817   \n",
              "600000  1.543260       NaN  0.019922     0.076000       NaN  0.025006   \n",
              "\n",
              "lib     ave_nimbus  ave_numba     ave_numpy  ave_onnxruntime  ave_python  \\\n",
              "batch                                                                      \n",
              "1         0.592297   0.000005  1.964997e-05     3.693276e-05    0.000015   \n",
              "10        0.041867   0.000002  1.594786e-06     3.674391e-06    0.000013   \n",
              "100       0.004690   0.000002  1.604505e-07     4.149494e-07    0.000013   \n",
              "200       0.002682   0.000002  1.183823e-07     2.485275e-07    0.000011   \n",
              "500       0.000812   0.000002  3.914826e-08     1.132690e-07    0.000011   \n",
              "1000      0.000575   0.000002  2.834648e-08     8.700013e-08    0.000012   \n",
              "2000      0.000204   0.000002  2.049028e-08     7.124368e-08         NaN   \n",
              "3000      0.000137   0.000002  1.328474e-08     7.701560e-08         NaN   \n",
              "4000      0.000102   0.000002  1.150973e-08     6.257395e-08         NaN   \n",
              "5000      0.000080   0.000002  1.093650e-08     5.745029e-08         NaN   \n",
              "10000     0.000043   0.000002  9.002472e-09     5.906294e-08         NaN   \n",
              "20000     0.000022        NaN  8.790622e-09     6.730423e-08         NaN   \n",
              "50000     0.000009        NaN  8.704280e-09     1.127115e-07         NaN   \n",
              "75000     0.000006        NaN  7.825438e-09     1.192387e-07         NaN   \n",
              "100000    0.000005        NaN  8.026492e-09     1.253538e-07         NaN   \n",
              "150000    0.000004        NaN  3.319770e-08     1.229013e-07         NaN   \n",
              "200000    0.000003        NaN  3.225735e-08     1.266035e-07         NaN   \n",
              "300000    0.000003        NaN  2.999960e-08     1.287707e-07         NaN   \n",
              "400000    0.000003        NaN  3.182658e-08     1.285457e-07         NaN   \n",
              "500000    0.000003        NaN  3.206050e-08     1.329033e-07         NaN   \n",
              "600000    0.000003        NaN  3.320313e-08     1.266671e-07         NaN   \n",
              "\n",
              "lib      ave_sklearn  \n",
              "batch                 \n",
              "1       6.610610e-05  \n",
              "10      6.584654e-06  \n",
              "100     5.507597e-07  \n",
              "200     3.486915e-07  \n",
              "500     1.550096e-07  \n",
              "1000    9.346848e-08  \n",
              "2000    5.806521e-08  \n",
              "3000    4.381170e-08  \n",
              "4000    3.771745e-08  \n",
              "5000    3.501355e-08  \n",
              "10000   2.455487e-08  \n",
              "20000   2.638184e-08  \n",
              "50000   3.605019e-08  \n",
              "75000   2.758325e-08  \n",
              "100000  2.570573e-08  \n",
              "150000  4.353777e-08  \n",
              "200000  4.294423e-08  \n",
              "300000  3.899577e-08  \n",
              "400000  3.917440e-08  \n",
              "500000  3.963485e-08  \n",
              "600000  4.167692e-08  "
            ]
          },
          "execution_count": 90,
          "metadata": {},
          "output_type": "execute_result"
        }
      ],
      "source": [
        "for c in piv.columns:\n",
        "    piv[\"ave_\" + c] = piv[c] / piv.index\n",
        "piv"
      ]
    },
    {
      "cell_type": "code",
      "execution_count": 90,
      "metadata": {},
      "outputs": [
        {
          "data": {
            "image/png": "[encoded data removed]",
            "text/plain": [
              "<Figure size 720x360 with 1 Axes>"
            ]
          },
          "metadata": {
            "needs_background": "light"
          },
          "output_type": "display_data"
        }
      ],
      "source": [
        "libs = list(c for c in piv.columns if \"ave_\" in c)\n",
        "ax = piv.plot(y=libs, logy=True, logx=True, figsize=(10, 5))\n",
        "ax.set_title(\"Evolution du temps de pr\u00e9diction selon la taille du batch\")\n",
        "ax.grid(True);"
      ]
    },
    {
      "cell_type": "markdown",
      "metadata": {},
      "source": [
        "Le minimum obtenu est pour $10^{-8} s$ soit 10 ns. Cela montre que la comparaisson pr\u00e9c\u00e9dente \u00e9tait incompl\u00e8te voire biais\u00e9e. Tout d\u00e9pend de l'usage qu'on fait de la fonction de pr\u00e9diction m\u00eame s'il sera toujours possible de d'\u00e9crire un code sp\u00e9cialis\u00e9 plus rapide que toute autre fonction g\u00e9n\u00e9rique. En g\u00e9n\u00e9ral, plus on reste du c\u00f4t\u00e9 Python, plus le programme est lent. Le nombre de passage de l'un \u00e0 l'autre, selon la fa\u00e7on dont il est fait ralenti aussi. En tenant compte de cela, le programme rouge sera plus lent que le vert."
      ]
    },
    {
      "cell_type": "code",
      "execution_count": 91,
      "metadata": {},
      "outputs": [
        {
          "data": {
            "image/png": "[encoded data removed]",
            "text/plain": [
              "<IPython.core.display.Image object>"
            ]
          },
          "execution_count": 92,
          "metadata": {},
          "output_type": "execute_result"
        }
      ],
      "source": [
        "from pyquickhelper.helpgen import NbImage\n",
        "NbImage(\"pycpp.png\")"
      ]
    },
    {
      "cell_type": "markdown",
      "metadata": {},
      "source": [
        "Ces r\u00e9sultats sont d'une fa\u00e7on g\u00e9n\u00e9rale assez volatile car le temps de calcul est enrob\u00e9 dans plusieurs fonctions Python qui rendent une mesure pr\u00e9cise difficile. Il reste n\u00e9anmoins une bonne id\u00e9e des ordres de grandeurs."
      ]
    },
    {
      "cell_type": "markdown",
      "metadata": {},
      "source": [
        "## Random Forest\n",
        "\n",
        "On reproduit les m\u00eames r\u00e9sultats pour une random forest mais la r\u00e9\u00e9criture n'est plus aussi simple qu'une r\u00e9gression lin\u00e9aire."
      ]
    },
    {
      "cell_type": "markdown",
      "metadata": {},
      "source": [
        "### Une pr\u00e9diction \u00e0 la fois"
      ]
    },
    {
      "cell_type": "code",
      "execution_count": 92,
      "metadata": {},
      "outputs": [],
      "source": [
        "from sklearn.datasets import load_diabetes\n",
        "diabetes = load_diabetes()\n",
        "diabetes_X_train = diabetes.data[:-20]\n",
        "diabetes_X_test  = diabetes.data[-20:]\n",
        "diabetes_y_train = diabetes.target[:-20]\n",
        "diabetes_y_test  = diabetes.target[-20:]"
      ]
    },
    {
      "cell_type": "code",
      "execution_count": 93,
      "metadata": {},
      "outputs": [
        {
          "data": {
            "text/plain": [
              "RandomForestRegressor(bootstrap=True, criterion='mse', max_depth=None,\n",
              "           max_features='auto', max_leaf_nodes=None,\n",
              "           min_impurity_decrease=0.0, min_impurity_split=None,\n",
              "           min_samples_leaf=1, min_samples_split=2,\n",
              "           min_weight_fraction_leaf=0.0, n_estimators=10, n_jobs=None,\n",
              "           oob_score=False, random_state=None, verbose=0, warm_start=False)"
            ]
          },
          "execution_count": 94,
          "metadata": {},
          "output_type": "execute_result"
        }
      ],
      "source": [
        "from sklearn.ensemble import RandomForestRegressor\n",
        "rf = RandomForestRegressor(n_estimators=10)\n",
        "rf.fit(diabetes_X_train, diabetes_y_train)"
      ]
    },
    {
      "cell_type": "code",
      "execution_count": 94,
      "metadata": {},
      "outputs": [
        {
          "name": "stdout",
          "output_type": "stream",
          "text": [
            "Moyenne: 923.47 \u00b5s Ecart-type 397.55 \u00b5s (with 20 runs) in [600.06 \u00b5s, 1.71 ms]\n"
          ]
        }
      ],
      "source": [
        "memo_time = []\n",
        "x = diabetes_X_test[:1]\n",
        "memo_time.append(timeexe(\"sklearn-rf\", \"rf.predict(x)\", repeat=100, number=20))"
      ]
    },
    {
      "cell_type": "markdown",
      "metadata": {},
      "source": [
        "C'est beaucoup plus long que la r\u00e9gression lin\u00e9aire. On essaye avec *onnx*."
      ]
    },
    {
      "cell_type": "code",
      "execution_count": 95,
      "metadata": {
        "scrolled": false
      },
      "outputs": [],
      "source": [
        "if ok_onnx:\n",
        "    onnxrf_model = convert_sklearn(rf, 'model', [('input', FloatTensorType([1, clr.coef_.shape[0]]))])\n",
        "    save_model(onnxrf_model, 'model_rf.onnx')    \n",
        "    model_onnx = onnx.load('model_rf.onnx')"
      ]
    },
    {
      "cell_type": "code",
      "execution_count": 96,
      "metadata": {},
      "outputs": [
        {
          "name": "stdout",
          "output_type": "stream",
          "text": [
            "Input: NodeArg(name='input', type='tensor(float)', shape=[1, 10])\n",
            "Output: NodeArg(name='variable', type='tensor(float)', shape=[1, 1])\n",
            "[array([[210.1]], dtype=float32)]\n",
            "Moyenne: 33.95 \u00b5s Ecart-type 11.69 \u00b5s (with 20 runs) in [18.79 \u00b5s, 63.55 \u00b5s]\n"
          ]
        }
      ],
      "source": [
        "if ok_onnx:\n",
        "    sess = onnxruntime.InferenceSession(\"model_rf.onnx\")\n",
        "    for i in sess.get_inputs():\n",
        "        print('Input:', i)\n",
        "    for o in sess.get_outputs():\n",
        "        print('Output:', o)\n",
        "    \n",
        "    def predict_onnxrt_rf(x):    \n",
        "        return sess.run([\"variable\"], {'input': x})\n",
        "\n",
        "    print(predict_onnxrt_rf(x.astype(numpy.float32)))\n",
        "    memo_time.append(timeexe(\"onnx-rf\", \"predict_onnxrt_rf(x.astype(numpy.float32))\", repeat=100, number=20))"
      ]
    },
    {
      "cell_type": "markdown",
      "metadata": {},
      "source": [
        "C'est beaucoup plus rapide."
      ]
    },
    {
      "cell_type": "code",
      "execution_count": 97,
      "metadata": {},
      "outputs": [
        {
          "name": "stdout",
          "output_type": "stream",
          "text": [
            "Not adding a normalizer.\n",
            "Making per-feature arrays\n",
            "Changing data from row-wise to column-wise\n",
            "Processed 422 instances\n",
            "Binning and forming Feature objects\n",
            "Reserved memory for tree learner: 170508 bytes\n",
            "Starting to train ...\n",
            "Not training a calibrator because it is not needed.\n",
            "Elapsed time: 00:00:00.9738875\n"
          ]
        }
      ],
      "source": [
        "if ok_nimbus:\n",
        "    from nimbusml.ensemble import FastTreesRegressor\n",
        "    nrf = FastTreesRegressor(num_trees=10)\n",
        "    nrf.fit(diabetes_X_train, diabetes_y_train)"
      ]
    },
    {
      "cell_type": "code",
      "execution_count": 98,
      "metadata": {},
      "outputs": [
        {
          "name": "stdout",
          "output_type": "stream",
          "text": [
            "Moyenne: 342.11 ms Ecart-type 47.06 ms (with 2 runs) in [299.55 ms, 472.53 ms]\n"
          ]
        }
      ],
      "source": [
        "if ok_nimbus:\n",
        "    memo_time.append(timeexe(\"nimbus-rf\", \"nrf.predict(x)\", repeat=10, number=2))"
      ]
    },
    {
      "cell_type": "markdown",
      "metadata": {},
      "source": [
        "Avec *csharpyml*."
      ]
    },
    {
      "cell_type": "code",
      "execution_count": 99,
      "metadata": {
        "scrolled": false
      },
      "outputs": [],
      "source": [
        "if ok_csharpyml:\n",
        "    piperf = CSPipeline([concatation], \"ft{iter=10}\")\n",
        "    piperf.fit(conc, feature=\"Feature\", label=\"Label\")"
      ]
    },
    {
      "cell_type": "code",
      "execution_count": 100,
      "metadata": {},
      "outputs": [
        {
          "name": "stdout",
          "output_type": "stream",
          "text": [
            "Moyenne: 23.10 ms Ecart-type 2.29 ms (with 20 runs) in [20.16 ms, 27.47 ms]\n"
          ]
        }
      ],
      "source": [
        "if ok_csharpyml:\n",
        "    x2 = conc_test[:1]\n",
        "    memo_time.append(timeexe(\"csharpyml-rf\", \"piperf.predict(x2)\", repeat=10, number=20))"
      ]
    },
    {
      "cell_type": "code",
      "execution_count": 101,
      "metadata": {},
      "outputs": [
        {
          "data": {
            "text/html": [
              "<div>\n",
              "<style scoped>\n",
              "    .dataframe tbody tr th:only-of-type {\n",
              "        vertical-align: middle;\n",
              "    }\n",
              "\n",
              "    .dataframe tbody tr th {\n",
              "        vertical-align: top;\n",
              "    }\n",
              "\n",
              "    .dataframe thead th {\n",
              "        text-align: right;\n",
              "    }\n",
              "</style>\n",
              "<table border=\"1\" class=\"dataframe\">\n",
              "  <thead>\n",
              "    <tr style=\"text-align: right;\">\n",
              "      <th></th>\n",
              "      <th>average</th>\n",
              "      <th>code</th>\n",
              "      <th>deviation</th>\n",
              "      <th>first</th>\n",
              "      <th>first3</th>\n",
              "      <th>last3</th>\n",
              "      <th>max5</th>\n",
              "      <th>min5</th>\n",
              "      <th>repeat</th>\n",
              "      <th>run</th>\n",
              "    </tr>\n",
              "    <tr>\n",
              "      <th>legend</th>\n",
              "      <th></th>\n",
              "      <th></th>\n",
              "      <th></th>\n",
              "      <th></th>\n",
              "      <th></th>\n",
              "      <th></th>\n",
              "      <th></th>\n",
              "      <th></th>\n",
              "      <th></th>\n",
              "      <th></th>\n",
              "    </tr>\n",
              "  </thead>\n",
              "  <tbody>\n",
              "    <tr>\n",
              "      <th>onnx-rf</th>\n",
              "      <td>0.000034</td>\n",
              "      <td>predict_onnxrt_rf(x.astype(numpy.float32))</td>\n",
              "      <td>0.000012</td>\n",
              "      <td>0.000077</td>\n",
              "      <td>0.000058</td>\n",
              "      <td>0.000028</td>\n",
              "      <td>0.000064</td>\n",
              "      <td>0.000019</td>\n",
              "      <td>100</td>\n",
              "      <td>20</td>\n",
              "    </tr>\n",
              "    <tr>\n",
              "      <th>sklearn-rf</th>\n",
              "      <td>0.000923</td>\n",
              "      <td>rf.predict(x)</td>\n",
              "      <td>0.000398</td>\n",
              "      <td>0.000892</td>\n",
              "      <td>0.000927</td>\n",
              "      <td>0.000847</td>\n",
              "      <td>0.001708</td>\n",
              "      <td>0.000600</td>\n",
              "      <td>100</td>\n",
              "      <td>20</td>\n",
              "    </tr>\n",
              "    <tr>\n",
              "      <th>csharpyml-rf</th>\n",
              "      <td>0.023101</td>\n",
              "      <td>piperf.predict(x2)</td>\n",
              "      <td>0.002286</td>\n",
              "      <td>0.027468</td>\n",
              "      <td>0.022702</td>\n",
              "      <td>0.021971</td>\n",
              "      <td>0.027468</td>\n",
              "      <td>0.020159</td>\n",
              "      <td>10</td>\n",
              "      <td>20</td>\n",
              "    </tr>\n",
              "    <tr>\n",
              "      <th>nimbus-rf</th>\n",
              "      <td>0.342109</td>\n",
              "      <td>nrf.predict(x)</td>\n",
              "      <td>0.047062</td>\n",
              "      <td>0.472526</td>\n",
              "      <td>0.379317</td>\n",
              "      <td>0.324538</td>\n",
              "      <td>0.472526</td>\n",
              "      <td>0.299553</td>\n",
              "      <td>10</td>\n",
              "      <td>2</td>\n",
              "    </tr>\n",
              "  </tbody>\n",
              "</table>\n",
              "</div>"
            ],
            "text/plain": [
              "               average                                        code  deviation  \\\n",
              "legend                                                                          \n",
              "onnx-rf       0.000034  predict_onnxrt_rf(x.astype(numpy.float32))   0.000012   \n",
              "sklearn-rf    0.000923                               rf.predict(x)   0.000398   \n",
              "csharpyml-rf  0.023101                          piperf.predict(x2)   0.002286   \n",
              "nimbus-rf     0.342109                              nrf.predict(x)   0.047062   \n",
              "\n",
              "                 first    first3     last3      max5      min5  repeat  run  \n",
              "legend                                                                       \n",
              "onnx-rf       0.000077  0.000058  0.000028  0.000064  0.000019     100   20  \n",
              "sklearn-rf    0.000892  0.000927  0.000847  0.001708  0.000600     100   20  \n",
              "csharpyml-rf  0.027468  0.022702  0.021971  0.027468  0.020159      10   20  \n",
              "nimbus-rf     0.472526  0.379317  0.324538  0.472526  0.299553      10    2  "
            ]
          },
          "execution_count": 102,
          "metadata": {},
          "output_type": "execute_result"
        }
      ],
      "source": [
        "import pandas\n",
        "df2 = pandas.DataFrame(data=memo_time)\n",
        "df2 = df2.set_index(\"legend\").sort_values(\"average\")\n",
        "df2"
      ]
    },
    {
      "cell_type": "code",
      "execution_count": 102,
      "metadata": {},
      "outputs": [
        {
          "data": {
            "image/png": "[encoded data removed]",
            "text/plain": [
              "<Figure size 1008x288 with 1 Axes>"
            ]
          },
          "metadata": {
            "needs_background": "light"
          },
          "output_type": "display_data"
        }
      ],
      "source": [
        "fig, ax = plt.subplots(1, 1, figsize=(14,4))\n",
        "df2[[\"average\", \"deviation\"]].plot(kind=\"barh\", logx=True, ax=ax, xerr=\"deviation\",\n",
        "                                   legend=False, fontsize=12, width=0.8)\n",
        "ax.set_ylabel(\"\")\n",
        "ax.grid(b=True, which=\"major\")\n",
        "ax.grid(b=True, which=\"minor\");"
      ]
    },
    {
      "cell_type": "markdown",
      "metadata": {},
      "source": [
        "### Pr\u00e9diction en batch"
      ]
    },
    {
      "cell_type": "code",
      "execution_count": 103,
      "metadata": {},
      "outputs": [
        {
          "name": "stdout",
          "output_type": "stream",
          "text": [
            "         F0       F1        F2        F3        F4        F5       F6  \\\n",
            "0 -0.078165  0.05068  0.077863  0.052858  0.078236  0.064447  0.02655   \n",
            "\n",
            "         F7        F8        F9     ...       Feature.3  Feature.4  Feature.5  \\\n",
            "0 -0.002592  0.040672 -0.009362     ...        0.052858   0.078236   0.064447   \n",
            "\n",
            "   Feature.6  Feature.7  Feature.8  Feature.9  PredictedLabel     Score  \\\n",
            "0    0.02655  -0.002592   0.040672  -0.009362            True  6.737847   \n",
            "\n",
            "   Probability  \n",
            "0     0.936739  \n",
            "\n",
            "[1 rows x 24 columns]\n"
          ]
        }
      ],
      "source": [
        "if ok_csharpyml:\n",
        "    def predict_csharpyml_rf(X):\n",
        "        dft = DataFrame(X.astype(numpy.float32), columns=[\"F%d\" % i for i in range(0, X.shape[1])])\n",
        "        dft[\"Label\"] = numpy.zeros((dft.shape[0],), dtype=numpy.float32)\n",
        "        return piperf.predict(dft)\n",
        "    \n",
        "    print(predict_csharpyml_rf(diabetes_X_test[:1]))"
      ]
    },
    {
      "cell_type": "code",
      "execution_count": 104,
      "metadata": {},
      "outputs": [
        {
          "name": "stdout",
          "output_type": "stream",
          "text": [
            "batch = 1\n",
            "Moyenne: 848.40 \u00b5s Ecart-type 581.56 \u00b5s (with 10 runs) in [464.71 \u00b5s, 2.09 ms]\n",
            "Moyenne: 325.06 ms Ecart-type 6.14 ms (with 2 runs) in [318.92 ms, 331.20 ms]\n",
            "Moyenne: 47.06 \u00b5s Ecart-type 14.17 \u00b5s (with 10 runs) in [38.99 \u00b5s, 75.50 \u00b5s]\n",
            "Moyenne: 20.93 ms Ecart-type 99.16 \u00b5s (with 2 runs) in [20.83 ms, 21.02 ms]\n",
            "batch = 10\n",
            "Moyenne: 941.97 \u00b5s Ecart-type 77.09 \u00b5s (with 10 runs) in [802.41 \u00b5s, 1.11 ms]\n",
            "Moyenne: 320.64 ms Ecart-type 7.00 ms (with 2 runs) in [313.63 ms, 327.64 ms]\n",
            "Moyenne: 57.75 \u00b5s Ecart-type 13.35 \u00b5s (with 10 runs) in [43.14 \u00b5s, 80.71 \u00b5s]\n",
            "Moyenne: 24.82 ms Ecart-type 518.12 \u00b5s (with 2 runs) in [24.30 ms, 25.33 ms]\n",
            "batch = 100\n",
            "Moyenne: 1.52 ms Ecart-type 577.55 \u00b5s (with 10 runs) in [799.49 \u00b5s, 2.95 ms]\n",
            "Moyenne: 348.16 ms Ecart-type 31.74 ms (with 2 runs) in [316.42 ms, 379.89 ms]\n",
            "Moyenne: 546.66 \u00b5s Ecart-type 71.10 \u00b5s (with 10 runs) in [468.23 \u00b5s, 688.71 \u00b5s]\n",
            "Moyenne: 46.86 ms Ecart-type 58.17 \u00b5s (with 2 runs) in [46.80 ms, 46.92 ms]\n",
            "batch = 200\n",
            "Moyenne: 1.04 ms Ecart-type 193.15 \u00b5s (with 10 runs) in [733.59 \u00b5s, 1.44 ms]\n",
            "Moyenne: 349.80 ms Ecart-type 12.77 ms (with 2 runs) in [337.03 ms, 362.57 ms]\n",
            "Moyenne: 835.22 \u00b5s Ecart-type 120.94 \u00b5s (with 10 runs) in [669.16 \u00b5s, 1.05 ms]\n",
            "Moyenne: 52.39 ms Ecart-type 2.55 ms (with 2 runs) in [49.84 ms, 54.95 ms]\n",
            "batch = 500\n",
            "Moyenne: 1.22 ms Ecart-type 268.18 \u00b5s (with 10 runs) in [795.34 \u00b5s, 1.65 ms]\n",
            "Moyenne: 375.55 ms Ecart-type 51.64 ms (with 2 runs) in [323.92 ms, 427.19 ms]\n",
            "Moyenne: 2.52 ms Ecart-type 197.90 \u00b5s (with 10 runs) in [2.25 ms, 2.92 ms]\n",
            "Moyenne: 92.29 ms Ecart-type 10.98 ms (with 2 runs) in [81.31 ms, 103.26 ms]\n",
            "batch = 1000\n",
            "Moyenne: 1.60 ms Ecart-type 143.34 \u00b5s (with 10 runs) in [1.35 ms, 1.79 ms]\n",
            "Moyenne: 430.68 ms Ecart-type 75.22 ms (with 2 runs) in [355.46 ms, 505.91 ms]\n",
            "Moyenne: 4.46 ms Ecart-type 344.82 \u00b5s (with 10 runs) in [4.03 ms, 5.39 ms]\n",
            "Moyenne: 170.25 ms Ecart-type 13.00 ms (with 2 runs) in [157.26 ms, 183.25 ms]\n",
            "batch = 2000\n",
            "Moyenne: 2.32 ms Ecart-type 260.86 \u00b5s (with 10 runs) in [1.73 ms, 2.82 ms]\n",
            "Moyenne: 452.81 ms Ecart-type 65.83 ms (with 2 runs) in [386.99 ms, 518.64 ms]\n",
            "Moyenne: 8.44 ms Ecart-type 497.05 \u00b5s (with 10 runs) in [7.51 ms, 9.03 ms]\n",
            "Moyenne: 294.08 ms Ecart-type 8.07 ms (with 2 runs) in [286.01 ms, 302.15 ms]\n",
            "batch = 3000\n",
            "Moyenne: 3.56 ms Ecart-type 803.14 \u00b5s (with 10 runs) in [2.63 ms, 5.05 ms]\n",
            "Moyenne: 381.12 ms Ecart-type 59.13 ms (with 2 runs) in [321.99 ms, 440.24 ms]\n",
            "Moyenne: 11.79 ms Ecart-type 757.59 \u00b5s (with 10 runs) in [10.99 ms, 13.25 ms]\n",
            "Moyenne: 452.81 ms Ecart-type 38.70 ms (with 2 runs) in [414.11 ms, 491.51 ms]\n",
            "batch = 4000\n",
            "Moyenne: 4.73 ms Ecart-type 388.83 \u00b5s (with 10 runs) in [4.12 ms, 5.39 ms]\n",
            "Moyenne: 444.54 ms Ecart-type 42.27 ms (with 2 runs) in [402.27 ms, 486.82 ms]\n",
            "Moyenne: 16.15 ms Ecart-type 2.58 ms (with 10 runs) in [10.97 ms, 20.56 ms]\n",
            "Moyenne: 526.33 ms Ecart-type 31.14 ms (with 2 runs) in [495.19 ms, 557.47 ms]\n",
            "batch = 5000\n",
            "Moyenne: 7.80 ms Ecart-type 3.29 ms (with 10 runs) in [3.28 ms, 12.37 ms]\n",
            "Moyenne: 491.09 ms Ecart-type 145.90 ms (with 2 runs) in [345.19 ms, 636.99 ms]\n",
            "Moyenne: 20.67 ms Ecart-type 2.97 ms (with 10 runs) in [15.17 ms, 25.81 ms]\n",
            "Moyenne: 726.13 ms Ecart-type 4.97 ms (with 2 runs) in [721.15 ms, 731.10 ms]\n",
            "batch = 10000\n",
            "Moyenne: 6.86 ms Ecart-type 920.91 \u00b5s (with 10 runs) in [5.11 ms, 8.51 ms]\n",
            "Moyenne: 593.54 ms Ecart-type 205.58 ms (with 2 runs) in [387.96 ms, 799.12 ms]\n",
            "Moyenne: 43.68 ms Ecart-type 5.21 ms (with 10 runs) in [36.71 ms, 56.40 ms]\n",
            "Moyenne: 1.60 s Ecart-type 147.62 ms (with 2 runs) in [1.46 s, 1.75 s]\n",
            "batch = 20000\n",
            "Moyenne: 16.04 ms Ecart-type 1.85 ms (with 10 runs) in [12.46 ms, 19.16 ms]\n",
            "Moyenne: 376.87 ms Ecart-type 46.45 ms (with 2 runs) in [330.42 ms, 423.31 ms]\n",
            "Moyenne: 86.40 ms Ecart-type 11.04 ms (with 10 runs) in [72.54 ms, 110.95 ms]\n",
            "batch = 50000\n",
            "Moyenne: 40.80 ms Ecart-type 12.48 ms (with 10 runs) in [29.52 ms, 69.32 ms]\n",
            "Moyenne: 367.42 ms Ecart-type 13.03 ms (with 2 runs) in [354.39 ms, 380.45 ms]\n",
            "Moyenne: 222.82 ms Ecart-type 18.00 ms (with 10 runs) in [194.52 ms, 258.90 ms]\n",
            "batch = 75000\n",
            "Moyenne: 61.79 ms Ecart-type 5.91 ms (with 10 runs) in [49.56 ms, 70.33 ms]\n",
            "Moyenne: 407.89 ms Ecart-type 11.15 ms (with 2 runs) in [396.75 ms, 419.04 ms]\n",
            "Moyenne: 331.76 ms Ecart-type 27.24 ms (with 10 runs) in [279.56 ms, 380.92 ms]\n",
            "batch = 100000\n",
            "Moyenne: 85.46 ms Ecart-type 5.47 ms (with 10 runs) in [73.70 ms, 92.72 ms]\n",
            "Moyenne: 442.55 ms Ecart-type 16.33 ms (with 2 runs) in [426.22 ms, 458.87 ms]\n",
            "Moyenne: 436.85 ms Ecart-type 32.68 ms (with 10 runs) in [385.22 ms, 487.51 ms]\n"
          ]
        }
      ],
      "source": [
        "memo = []\n",
        "batch = [1, 10, 100, 200, 500, 1000, 2000, 3000, 4000, 5000, 10000,\n",
        "         20000, 50000, 75000, 100000, 150000, 200000, 300000, 400000,\n",
        "         500000, 600000]\n",
        "number = 10\n",
        "repeat = 10\n",
        "for i in batch[:15]:\n",
        "    if i <= diabetes_X_test.shape[0]:\n",
        "        mx = diabetes_X_test[:i]\n",
        "    else:\n",
        "        mxs = [diabetes_X_test] * (i // diabetes_X_test.shape[0] + 1)\n",
        "        mx = numpy.vstack(mxs)\n",
        "        mx = mx[:i]\n",
        "\n",
        "    print(\"batch\", \"=\", i)\n",
        "    \n",
        "    memo.append(timeexe(\"sklearn.predict %d\" % i, \"rf.predict(mx)\", \n",
        "                        repeat=repeat, number=number))\n",
        "    memo[-1][\"batch\"] = i\n",
        "    memo[-1][\"lib\"] = \"sklearn\"\n",
        "    \n",
        "    if ok_nimbus:\n",
        "        memo.append(timeexe(\"nimbus.predict %d\" % i, \"nrf.predict(mx)\", \n",
        "                            repeat=2, number=2))\n",
        "        memo[-1][\"batch\"] = i\n",
        "        memo[-1][\"lib\"] = \"nimbus\"\n",
        "\n",
        "    if ok_onnx:\n",
        "        memo.append(timeexe(\"onnxruntime %d\" % i, \"predict_onnxrt_rf(mx.astype(numpy.float32))\",\n",
        "                            repeat=repeat, number=number))\n",
        "        memo[-1][\"batch\"] = i\n",
        "        memo[-1][\"lib\"] = \"onnxruntime\"\n",
        "        \n",
        "    if ok_csharpyml and i <= 10000:\n",
        "        memo.append(timeexe(\"csharpyml %d\" % i, \"predict_csharpyml_rf(mx.astype(numpy.float32))\",\n",
        "                            repeat=2, number=2))\n",
        "        memo[-1][\"batch\"] = i\n",
        "        memo[-1][\"lib\"] = \"csharpyml\"        "
      ]
    },
    {
      "cell_type": "code",
      "execution_count": 105,
      "metadata": {},
      "outputs": [
        {
          "data": {
            "image/png": "[encoded data removed]",
            "text/plain": [
              "<Figure size 720x360 with 1 Axes>"
            ]
          },
          "metadata": {
            "needs_background": "light"
          },
          "output_type": "display_data"
        }
      ],
      "source": [
        "dfbrf = pandas.DataFrame(memo)[[\"average\", \"lib\", \"batch\"]]\n",
        "pivrf = dfbrf.pivot(\"batch\", \"lib\", \"average\")\n",
        "for c in pivrf.columns:\n",
        "    pivrf[\"ave_\" + c] = pivrf[c] / pivrf.index\n",
        "libs = list(c for c in pivrf.columns if \"ave_\" in c)\n",
        "ax = pivrf.plot(y=libs, logy=True, logx=True, figsize=(10, 5))\n",
        "ax.set_title(\"Evolution du temps de pr\u00e9diction selon la taille du batch\\nrandom forest\")\n",
        "ax.grid(True);"
      ]
    },
    {
      "cell_type": "code",
      "execution_count": 106,
      "metadata": {},
      "outputs": [],
      "source": []
    }
  ],
  "metadata": {
    "kernelspec": {
      "display_name": "Python 3",
      "language": "python",
      "name": "python3"
    },
    "language_info": {
      "codemirror_mode": {
        "name": "ipython",
        "version": 3
      },
      "file_extension": ".py",
      "mimetype": "text/x-python",
      "name": "python",
      "nbconvert_exporter": "python",
      "pygments_lexer": "ipython3",
      "version": "3.7.0"
    }
  },
  "nbformat": 4,
  "nbformat_minor": 2
}