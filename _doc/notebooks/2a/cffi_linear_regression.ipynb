{
  "cells": [
    {
      "cell_type": "markdown",
      "metadata": {},
      "source": [
        "# Optimisation de code avec cffi, numba, cython\n",
        "\n",
        "L'id\u00e9e est de recoder une fonction en C. On prend comme exemple la fonction de pr\u00e9diction de la r\u00e9gression lin\u00e9aire de [scikit-learn](http://scikit-learn.org/stable/modules/generated/sklearn.linear_model.LinearRegression.html) et de pr\u00e9voir le gain de temps qu'on obtient en recodant la fonction dans un langage plus rapide."
      ]
    },
    {
      "cell_type": "code",
      "execution_count": 1,
      "metadata": {},
      "outputs": [
        {
          "data": {
            "text/html": [
              "<div id=\"my_id_menu_nb\">run previous cell, wait for 2 seconds</div>\n",
              "<script>\n",
              "function repeat_indent_string(n){\n",
              "    var a = \"\" ;\n",
              "    for ( ; n > 0 ; --n)\n",
              "        a += \"    \";\n",
              "    return a;\n",
              "}\n",
              "// look up into all sections and builds an automated menu //\n",
              "var update_menu_string = function(begin, lfirst, llast, sformat, send, keep_item, begin_format, end_format) {\n",
              "    var anchors = document.getElementsByClassName(\"section\");\n",
              "    if (anchors.length == 0) {\n",
              "        anchors = document.getElementsByClassName(\"text_cell_render rendered_html\");\n",
              "    }\n",
              "    var i,t;\n",
              "    var text_menu = begin;\n",
              "    var text_memo = \"<pre>\\nlength:\" + anchors.length + \"\\n\";\n",
              "    var ind = \"\";\n",
              "    var memo_level = 1;\n",
              "    var href;\n",
              "    var tags = [];\n",
              "    var main_item = 0;\n",
              "    var format_open = 0;\n",
              "    for (i = 0; i <= llast; i++)\n",
              "        tags.push(\"h\" + i);\n",
              "\n",
              "    for (i = 0; i < anchors.length; i++) {\n",
              "        text_memo += \"**\" + anchors[i].id + \"--\\n\";\n",
              "\n",
              "        var child = null;\n",
              "        for(t = 0; t < tags.length; t++) {\n",
              "            var r = anchors[i].getElementsByTagName(tags[t]);\n",
              "            if (r.length > 0) {\n",
              "child = r[0];\n",
              "break;\n",
              "            }\n",
              "        }\n",
              "        if (child == null) {\n",
              "            text_memo += \"null\\n\";\n",
              "            continue;\n",
              "        }\n",
              "        if (anchors[i].hasAttribute(\"id\")) {\n",
              "            // when converted in RST\n",
              "            href = anchors[i].id;\n",
              "            text_memo += \"#1-\" + href;\n",
              "            // passer \u00e0 child suivant (le chercher)\n",
              "        }\n",
              "        else if (child.hasAttribute(\"id\")) {\n",
              "            // in a notebook\n",
              "            href = child.id;\n",
              "            text_memo += \"#2-\" + href;\n",
              "        }\n",
              "        else {\n",
              "            text_memo += \"#3-\" + \"*\" + \"\\n\";\n",
              "            continue;\n",
              "        }\n",
              "        var title = child.textContent;\n",
              "        var level = parseInt(child.tagName.substring(1,2));\n",
              "\n",
              "        text_memo += \"--\" + level + \"?\" + lfirst + \"--\" + title + \"\\n\";\n",
              "\n",
              "        if ((level < lfirst) || (level > llast)) {\n",
              "            continue ;\n",
              "        }\n",
              "        if (title.endsWith('\u00b6')) {\n",
              "            title = title.substring(0,title.length-1).replace(\"<\", \"&lt;\")\n",
              "         .replace(\">\", \"&gt;\").replace(\"&\", \"&amp;\");\n",
              "        }\n",
              "        if (title.length == 0) {\n",
              "            continue;\n",
              "        }\n",
              "\n",
              "        while (level < memo_level) {\n",
              "            text_menu += end_format + \"</ul>\\n\";\n",
              "            format_open -= 1;\n",
              "            memo_level -= 1;\n",
              "        }\n",
              "        if (level == lfirst) {\n",
              "            main_item += 1;\n",
              "        }\n",
              "        if (keep_item != -1 && main_item != keep_item + 1) {\n",
              "            // alert(main_item + \" - \" + level + \" - \" + keep_item);\n",
              "            continue;\n",
              "        }\n",
              "        while (level > memo_level) {\n",
              "            text_menu += \"<ul>\\n\";\n",
              "            memo_level += 1;\n",
              "        }\n",
              "        text_menu += repeat_indent_string(level-2);\n",
              "        text_menu += begin_format + sformat.replace(\"__HREF__\", href).replace(\"__TITLE__\", title);\n",
              "        format_open += 1;\n",
              "    }\n",
              "    while (1 < memo_level) {\n",
              "        text_menu += end_format + \"</ul>\\n\";\n",
              "        memo_level -= 1;\n",
              "        format_open -= 1;\n",
              "    }\n",
              "    text_menu += send;\n",
              "    //text_menu += \"\\n\" + text_memo;\n",
              "\n",
              "    while (format_open > 0) {\n",
              "        text_menu += end_format;\n",
              "        format_open -= 1;\n",
              "    }\n",
              "    return text_menu;\n",
              "};\n",
              "var update_menu = function() {\n",
              "    var sbegin = \"\";\n",
              "    var sformat = '<a href=\"#__HREF__\">__TITLE__</a>';\n",
              "    var send = \"\";\n",
              "    var begin_format = '<li>';\n",
              "    var end_format = '</li>';\n",
              "    var keep_item = -1;\n",
              "    var text_menu = update_menu_string(sbegin, 2, 4, sformat, send, keep_item,\n",
              "       begin_format, end_format);\n",
              "    var menu = document.getElementById(\"my_id_menu_nb\");\n",
              "    menu.innerHTML=text_menu;\n",
              "};\n",
              "window.setTimeout(update_menu,2000);\n",
              "            </script>"
            ],
            "text/plain": [
              "<IPython.core.display.HTML object>"
            ]
          },
          "execution_count": 2,
          "metadata": {},
          "output_type": "execute_result"
        }
      ],
      "source": [
        "from jyquickhelper import add_notebook_menu\n",
        "add_notebook_menu()"
      ]
    },
    {
      "cell_type": "code",
      "execution_count": 2,
      "metadata": {},
      "outputs": [],
      "source": [
        "memo_time = []\n",
        "import timeit\n",
        "\n",
        "def unit(x):\n",
        "    if x >= 1: return \"%1.2f s\" % x\n",
        "    elif x >= 1e-3: return \"%1.2f ms\" % (x* 1000)\n",
        "    elif x >= 1e-6: return \"%1.2f \u00b5s\" % (x* 1000**2)\n",
        "    elif x >= 1e-9: return \"%1.2f ns\" % (x* 1000**3)\n",
        "    else:\n",
        "        return \"%1.2g s\" % x\n",
        "\n",
        "def timeexe(legend, code, number=100, repeat=1000):\n",
        "    rep = timeit.repeat(code, number=number, repeat=repeat, globals=globals())\n",
        "    ave = sum(rep) / (number * repeat)\n",
        "    std = (sum((x/number - ave)**2 for x in rep) / repeat)**0.5\n",
        "    fir = rep[0]/number\n",
        "    fir3 = sum(rep[:3]) / (3 * number)\n",
        "    las3 = sum(rep[-3:]) / (3 * number)\n",
        "    rep.sort()\n",
        "    mini = rep[len(rep)//20] / number\n",
        "    maxi = rep[-len(rep)//20] / number\n",
        "    print(\"Moyenne: %s Ecart-type %s (with %d runs) in [%s, %s]\" % (\n",
        "                unit(ave), unit(std), number, unit(mini), unit(maxi)))\n",
        "    return dict(legend=legend, average=ave, deviation=std, first=fir, first3=fir3,\n",
        "                last3=las3, repeat=repeat, min5=mini, max5=maxi, code=code, run=number)"
      ]
    },
    {
      "cell_type": "markdown",
      "metadata": {},
      "source": [
        "## R\u00e9gression lin\u00e9aire"
      ]
    },
    {
      "cell_type": "code",
      "execution_count": 3,
      "metadata": {},
      "outputs": [],
      "source": [
        "from sklearn.datasets import load_diabetes\n",
        "diabetes = load_diabetes()\n",
        "diabetes_X_train = diabetes.data[:-20]\n",
        "diabetes_X_test  = diabetes.data[-20:]\n",
        "diabetes_y_train = diabetes.target[:-20]\n",
        "diabetes_y_test  = diabetes.target[-20:]"
      ]
    },
    {
      "cell_type": "code",
      "execution_count": 4,
      "metadata": {},
      "outputs": [
        {
          "data": {
            "text/plain": [
              "LinearRegression(copy_X=True, fit_intercept=True, n_jobs=None, normalize=False)"
            ]
          },
          "execution_count": 5,
          "metadata": {},
          "output_type": "execute_result"
        }
      ],
      "source": [
        "from sklearn.linear_model import LinearRegression\n",
        "clr = LinearRegression()\n",
        "clr.fit(diabetes_X_train, diabetes_y_train)"
      ]
    },
    {
      "cell_type": "code",
      "execution_count": 5,
      "metadata": {},
      "outputs": [
        {
          "data": {
            "text/plain": [
              "array([ 3.03499549e-01, -2.37639315e+02,  5.10530605e+02,  3.27736980e+02,\n",
              "       -8.14131709e+02,  4.92814588e+02,  1.02848452e+02,  1.84606489e+02,\n",
              "        7.43519617e+02,  7.60951722e+01])"
            ]
          },
          "execution_count": 6,
          "metadata": {},
          "output_type": "execute_result"
        }
      ],
      "source": [
        "clr.coef_"
      ]
    },
    {
      "cell_type": "code",
      "execution_count": 6,
      "metadata": {},
      "outputs": [
        {
          "data": {
            "text/plain": [
              "152.76430691633442"
            ]
          },
          "execution_count": 7,
          "metadata": {},
          "output_type": "execute_result"
        }
      ],
      "source": [
        "clr.intercept_"
      ]
    },
    {
      "cell_type": "code",
      "execution_count": 7,
      "metadata": {},
      "outputs": [
        {
          "name": "stdout",
          "output_type": "stream",
          "text": [
            "Moyenne: 37.24 \u00b5s Ecart-type 18.35 \u00b5s (with 100 runs) in [30.90 \u00b5s, 59.07 \u00b5s]\n"
          ]
        }
      ],
      "source": [
        "z = diabetes_X_test[0:1,:]\n",
        "memo_time.append(timeexe(\"sklearn.predict\", \"clr.predict(z)\"))"
      ]
    },
    {
      "cell_type": "code",
      "execution_count": 8,
      "metadata": {},
      "outputs": [
        {
          "name": "stdout",
          "output_type": "stream",
          "text": [
            "33.4 \u00b5s \u00b1 3.04 \u00b5s per loop (mean \u00b1 std. dev. of 7 runs, 10000 loops each)\n"
          ]
        }
      ],
      "source": [
        "%timeit clr.predict(z)"
      ]
    },
    {
      "cell_type": "markdown",
      "metadata": {},
      "source": [
        "### optimisation avec cffi\n",
        "\n",
        "On s'inspire de l'exemple [Purely for performance (API level, out-of-line)](http://cffi.readthedocs.io/en/latest/overview.html?highlight=example#purely-for-performance-api-level-out-of-line)."
      ]
    },
    {
      "cell_type": "code",
      "execution_count": 9,
      "metadata": {
        "scrolled": false
      },
      "outputs": [
        {
          "name": "stdout",
          "output_type": "stream",
          "text": [
            "generating .\\_linear_regression.c\n",
            "(already up-to-date)\n",
            "the current directory is 'C:\\\\xavierdupre\\\\__home_\\\\GitHub\\\\ensae_teaching_cs\\\\_doc\\\\notebooks\\\\2a'\n",
            "running build_ext\n",
            "building '_linear_regression' extension\n",
            "C:\\Program Files (x86)\\Microsoft Visual Studio\\2017\\Community\\VC\\Tools\\MSVC\\14.16.27023\\bin\\HostX86\\x64\\cl.exe /c /nologo /Ox /W3 /GL /DNDEBUG /MD -Ic:\\python370_x64\\include -Ic:\\python370_x64\\include \"-IC:\\Program Files (x86)\\Microsoft Visual Studio\\2017\\Community\\VC\\Tools\\MSVC\\14.16.27023\\ATLMFC\\include\" \"-IC:\\Program Files (x86)\\Microsoft Visual Studio\\2017\\Community\\VC\\Tools\\MSVC\\14.16.27023\\include\" \"-IC:\\Program Files (x86)\\Windows Kits\\NETFXSDK\\4.6.1\\include\\um\" \"-IC:\\Program Files (x86)\\Windows Kits\\10\\include\\10.0.17763.0\\ucrt\" \"-IC:\\Program Files (x86)\\Windows Kits\\10\\include\\10.0.17763.0\\shared\" \"-IC:\\Program Files (x86)\\Windows Kits\\10\\include\\10.0.17763.0\\um\" \"-IC:\\Program Files (x86)\\Windows Kits\\10\\include\\10.0.17763.0\\winrt\" \"-IC:\\Program Files (x86)\\Windows Kits\\10\\include\\10.0.17763.0\\cppwinrt\" /Tc_linear_regression.c /Fo.\\Release\\_linear_regression.obj\n",
            "C:\\Program Files (x86)\\Microsoft Visual Studio\\2017\\Community\\VC\\Tools\\MSVC\\14.16.27023\\bin\\HostX86\\x64\\link.exe /nologo /INCREMENTAL:NO /LTCG /DLL /MANIFEST:EMBED,ID=2 /MANIFESTUAC:NO /LIBPATH:c:\\python370_x64\\libs /LIBPATH:c:\\python370_x64\\PCbuild\\amd64 \"/LIBPATH:C:\\Program Files (x86)\\Microsoft Visual Studio\\2017\\Community\\VC\\Tools\\MSVC\\14.16.27023\\ATLMFC\\lib\\x64\" \"/LIBPATH:C:\\Program Files (x86)\\Microsoft Visual Studio\\2017\\Community\\VC\\Tools\\MSVC\\14.16.27023\\lib\\x64\" \"/LIBPATH:C:\\Program Files (x86)\\Windows Kits\\NETFXSDK\\4.6.1\\lib\\um\\x64\" \"/LIBPATH:C:\\Program Files (x86)\\Windows Kits\\10\\lib\\10.0.17763.0\\ucrt\\x64\" \"/LIBPATH:C:\\Program Files (x86)\\Windows Kits\\10\\lib\\10.0.17763.0\\um\\x64\" /EXPORT:PyInit__linear_regression .\\Release\\_linear_regression.obj /OUT:.\\_linear_regression.cp37-win_amd64.pyd /IMPLIB:.\\Release\\_linear_regression.cp37-win_amd64.lib\n"
          ]
        },
        {
          "data": {
            "text/plain": [
              "'C:\\\\xavierdupre\\\\__home_\\\\GitHub\\\\ensae_teaching_cs\\\\_doc\\\\notebooks\\\\2a\\\\_linear_regression.cp37-win_amd64.pyd'"
            ]
          },
          "execution_count": 10,
          "metadata": {},
          "output_type": "execute_result"
        }
      ],
      "source": [
        "from cffi import FFI\n",
        "ffibuilder = FFI()\n",
        "\n",
        "ffibuilder.cdef(\"int linreg(int, double *, double *, double, double *);\")\n",
        "\n",
        "ffibuilder.set_source(\"_linear_regression\",\n",
        "r\"\"\"\n",
        "    static int linreg(int dimension, double * x, double *coef, double intercept, double * out)\n",
        "    {\n",
        "        for(; dimension > 0; --dimension, ++x, ++coef)\n",
        "            intercept += *x * *coef;\n",
        "        *out = intercept;\n",
        "        return 1;\n",
        "    }\n",
        "\"\"\")\n",
        "\n",
        "ffibuilder.compile(verbose=True)"
      ]
    },
    {
      "cell_type": "markdown",
      "metadata": {},
      "source": [
        "La fonction compil\u00e9e est accessible comme suit."
      ]
    },
    {
      "cell_type": "code",
      "execution_count": 10,
      "metadata": {},
      "outputs": [
        {
          "data": {
            "text/plain": [
              "<function _linear_regression.CompiledLib.linreg>"
            ]
          },
          "execution_count": 11,
          "metadata": {},
          "output_type": "execute_result"
        }
      ],
      "source": [
        "from _linear_regression import ffi, lib\n",
        "lib.linreg"
      ]
    },
    {
      "cell_type": "markdown",
      "metadata": {},
      "source": [
        "On s'inspire de l'exemple [How to pass a Numpy array into a cffi function and how to get one back out?](https://stackoverflow.com/questions/16276268/how-to-pass-a-numpy-array-into-a-cffi-function-and-how-to-get-one-back-out)."
      ]
    },
    {
      "cell_type": "code",
      "execution_count": 11,
      "metadata": {},
      "outputs": [],
      "source": [
        "import numpy\n",
        "out = numpy.zeros(1)"
      ]
    },
    {
      "cell_type": "code",
      "execution_count": 12,
      "metadata": {},
      "outputs": [],
      "source": [
        "ptr_coef = clr.coef_.__array_interface__['data'][0]\n",
        "cptr_coef = ffi.cast ( \"double*\" , ptr_coef )"
      ]
    },
    {
      "cell_type": "code",
      "execution_count": 13,
      "metadata": {},
      "outputs": [],
      "source": [
        "x = diabetes_X_test[0:1,:]\n",
        "ptr_x = x.__array_interface__['data'][0]\n",
        "cptr_x = ffi.cast ( \"double*\" , ptr_x )"
      ]
    },
    {
      "cell_type": "code",
      "execution_count": 14,
      "metadata": {},
      "outputs": [],
      "source": [
        "ptr_out = out.__array_interface__['data'][0]\n",
        "cptr_out = ffi.cast ( \"double*\" , ptr_out )"
      ]
    },
    {
      "cell_type": "code",
      "execution_count": 15,
      "metadata": {},
      "outputs": [
        {
          "data": {
            "text/plain": [
              "1"
            ]
          },
          "execution_count": 16,
          "metadata": {},
          "output_type": "execute_result"
        }
      ],
      "source": [
        "n = len(clr.coef_)\n",
        "lib.linreg(n, cptr_x, cptr_coef, clr.intercept_, cptr_out)"
      ]
    },
    {
      "cell_type": "code",
      "execution_count": 16,
      "metadata": {},
      "outputs": [
        {
          "data": {
            "text/plain": [
              "array([197.61846908])"
            ]
          },
          "execution_count": 17,
          "metadata": {},
          "output_type": "execute_result"
        }
      ],
      "source": [
        "out"
      ]
    },
    {
      "cell_type": "markdown",
      "metadata": {},
      "source": [
        "On v\u00e9rifie qu'on obtient bien la m\u00eame chose."
      ]
    },
    {
      "cell_type": "code",
      "execution_count": 17,
      "metadata": {},
      "outputs": [
        {
          "data": {
            "text/plain": [
              "array([197.61846908])"
            ]
          },
          "execution_count": 18,
          "metadata": {},
          "output_type": "execute_result"
        }
      ],
      "source": [
        "clr.predict(x)"
      ]
    },
    {
      "cell_type": "markdown",
      "metadata": {},
      "source": [
        "Et on mesure le temps d'ex\u00e9cution :"
      ]
    },
    {
      "cell_type": "code",
      "execution_count": 18,
      "metadata": {},
      "outputs": [
        {
          "name": "stdout",
          "output_type": "stream",
          "text": [
            "Moyenne: 781.50 ns Ecart-type 541.34 ns (with 100 runs) in [458.27 ns, 1.43 \u00b5s]\n"
          ]
        }
      ],
      "source": [
        "memo_time.append(timeexe(\"cffi-linreg\", \"lib.linreg(n, cptr_x, cptr_coef, clr.intercept_, cptr_out)\"))"
      ]
    },
    {
      "cell_type": "markdown",
      "metadata": {},
      "source": [
        "C'est beaucoup plus rapide. Pour \u00eatre totalement honn\u00eate, il faut mesurer les \u00e9tapes qui consiste \u00e0 extraire les pointeurs."
      ]
    },
    {
      "cell_type": "code",
      "execution_count": 19,
      "metadata": {},
      "outputs": [
        {
          "data": {
            "text/plain": [
              "array([152.74058378])"
            ]
          },
          "execution_count": 20,
          "metadata": {},
          "output_type": "execute_result"
        }
      ],
      "source": [
        "def predict_clr(x, clr):\n",
        "    out = numpy.zeros(1)\n",
        "    ptr_coef = clr.coef_.__array_interface__['data'][0]\n",
        "    cptr_coef = ffi.cast ( \"double*\" , ptr_coef )\n",
        "    ptr_x = x.__array_interface__['data'][0]\n",
        "    cptr_x = ffi.cast ( \"double*\" , ptr_x )  \n",
        "    ptr_out = out.__array_interface__['data'][0]\n",
        "    cptr_out = ffi.cast ( \"double*\" , ptr_out ) \n",
        "    lib.linreg(len(x), cptr_x, cptr_coef, clr.intercept_, cptr_out)\n",
        "    return out\n",
        "\n",
        "predict_clr(x, clr)"
      ]
    },
    {
      "cell_type": "code",
      "execution_count": 20,
      "metadata": {},
      "outputs": [
        {
          "name": "stdout",
          "output_type": "stream",
          "text": [
            "Moyenne: 8.21 \u00b5s Ecart-type 3.68 \u00b5s (with 100 runs) in [6.86 \u00b5s, 14.30 \u00b5s]\n"
          ]
        }
      ],
      "source": [
        "memo_time.append(timeexe(\"cffi-linreg-wrapped\", \"predict_clr(x, clr)\"))"
      ]
    },
    {
      "cell_type": "markdown",
      "metadata": {},
      "source": [
        "Cela reste plus rapide."
      ]
    },
    {
      "cell_type": "markdown",
      "metadata": {},
      "source": [
        "### cffi - seconde version\n",
        "\n",
        "Comme on construit la fonction en dynamique (le code est connu lors de l'ex\u00e9cution), on peut facilement se passer de la boucle et \u00e9crire le code sans boucle et avec les coefficients."
      ]
    },
    {
      "cell_type": "code",
      "execution_count": 21,
      "metadata": {},
      "outputs": [
        {
          "data": {
            "text/plain": [
              "'0.3034995490660432*x[0] + -237.63931533353403*x[1] + 510.5306054362253*x[2] + 327.7369804093466*x[3] + -814.1317093725387*x[4] + 492.81458798373217*x[5] + 102.8484521916802*x[6] + 184.60648905984*x[7] + 743.519616750542*x[8] + 76.09517221662392*x[9]'"
            ]
          },
          "execution_count": 22,
          "metadata": {},
          "output_type": "execute_result"
        }
      ],
      "source": [
        "res = \" + \".join(\"{0}*x[{1}]\".format(c, i) for i, c in enumerate(clr.coef_))\n",
        "res"
      ]
    },
    {
      "cell_type": "code",
      "execution_count": 22,
      "metadata": {},
      "outputs": [
        {
          "name": "stdout",
          "output_type": "stream",
          "text": [
            "\n",
            "    static int linreg_custom(double * x, double * out)\n",
            "    {\n",
            "        out[0] = 152.76430691633442 + 0.3034995490660432*x[0] + -237.63931533353403*x[1] + 510.5306054362253*x[2] + 327.7369804093466*x[3] + -814.1317093725387*x[4] + 492.81458798373217*x[5] + 102.8484521916802*x[6] + 184.60648905984*x[7] + 743.519616750542*x[8] + 76.09517221662392*x[9];\n",
            "    }\n",
            "\n"
          ]
        }
      ],
      "source": [
        "code = \"\"\"\n",
        "    static int linreg_custom(double * x, double * out)\n",
        "    {{\n",
        "        out[0] = {0} + {1};\n",
        "    }}\n",
        "\"\"\".format(clr.intercept_, res)\n",
        "print(code)"
      ]
    },
    {
      "cell_type": "code",
      "execution_count": 23,
      "metadata": {
        "scrolled": false
      },
      "outputs": [
        {
          "name": "stdout",
          "output_type": "stream",
          "text": [
            "generating .\\_linear_regression_custom.c\n",
            "(already up-to-date)\n",
            "the current directory is 'C:\\\\xavierdupre\\\\__home_\\\\GitHub\\\\ensae_teaching_cs\\\\_doc\\\\notebooks\\\\2a'\n",
            "running build_ext\n",
            "building '_linear_regression_custom' extension\n",
            "C:\\Program Files (x86)\\Microsoft Visual Studio\\2017\\Community\\VC\\Tools\\MSVC\\14.16.27023\\bin\\HostX86\\x64\\cl.exe /c /nologo /Ox /W3 /GL /DNDEBUG /MD -Ic:\\python370_x64\\include -Ic:\\python370_x64\\include \"-IC:\\Program Files (x86)\\Microsoft Visual Studio\\2017\\Community\\VC\\Tools\\MSVC\\14.16.27023\\ATLMFC\\include\" \"-IC:\\Program Files (x86)\\Microsoft Visual Studio\\2017\\Community\\VC\\Tools\\MSVC\\14.16.27023\\include\" \"-IC:\\Program Files (x86)\\Windows Kits\\NETFXSDK\\4.6.1\\include\\um\" \"-IC:\\Program Files (x86)\\Windows Kits\\10\\include\\10.0.17763.0\\ucrt\" \"-IC:\\Program Files (x86)\\Windows Kits\\10\\include\\10.0.17763.0\\shared\" \"-IC:\\Program Files (x86)\\Windows Kits\\10\\include\\10.0.17763.0\\um\" \"-IC:\\Program Files (x86)\\Windows Kits\\10\\include\\10.0.17763.0\\winrt\" \"-IC:\\Program Files (x86)\\Windows Kits\\10\\include\\10.0.17763.0\\cppwinrt\" /Tc_linear_regression_custom.c /Fo.\\Release\\_linear_regression_custom.obj\n",
            "C:\\Program Files (x86)\\Microsoft Visual Studio\\2017\\Community\\VC\\Tools\\MSVC\\14.16.27023\\bin\\HostX86\\x64\\link.exe /nologo /INCREMENTAL:NO /LTCG /DLL /MANIFEST:EMBED,ID=2 /MANIFESTUAC:NO /LIBPATH:c:\\python370_x64\\libs /LIBPATH:c:\\python370_x64\\PCbuild\\amd64 \"/LIBPATH:C:\\Program Files (x86)\\Microsoft Visual Studio\\2017\\Community\\VC\\Tools\\MSVC\\14.16.27023\\ATLMFC\\lib\\x64\" \"/LIBPATH:C:\\Program Files (x86)\\Microsoft Visual Studio\\2017\\Community\\VC\\Tools\\MSVC\\14.16.27023\\lib\\x64\" \"/LIBPATH:C:\\Program Files (x86)\\Windows Kits\\NETFXSDK\\4.6.1\\lib\\um\\x64\" \"/LIBPATH:C:\\Program Files (x86)\\Windows Kits\\10\\lib\\10.0.17763.0\\ucrt\\x64\" \"/LIBPATH:C:\\Program Files (x86)\\Windows Kits\\10\\lib\\10.0.17763.0\\um\\x64\" /EXPORT:PyInit__linear_regression_custom .\\Release\\_linear_regression_custom.obj /OUT:.\\_linear_regression_custom.cp37-win_amd64.pyd /IMPLIB:.\\Release\\_linear_regression_custom.cp37-win_amd64.lib\n"
          ]
        },
        {
          "data": {
            "text/plain": [
              "'C:\\\\xavierdupre\\\\__home_\\\\GitHub\\\\ensae_teaching_cs\\\\_doc\\\\notebooks\\\\2a\\\\_linear_regression_custom.cp37-win_amd64.pyd'"
            ]
          },
          "execution_count": 24,
          "metadata": {},
          "output_type": "execute_result"
        }
      ],
      "source": [
        "from cffi import FFI\n",
        "ffibuilder = FFI()\n",
        "\n",
        "ffibuilder.cdef(\"int linreg_custom(double *, double *);\")\n",
        "ffibuilder.set_source(\"_linear_regression_custom\", code)\n",
        "ffibuilder.compile(verbose=True)"
      ]
    },
    {
      "cell_type": "code",
      "execution_count": 24,
      "metadata": {},
      "outputs": [
        {
          "data": {
            "text/plain": [
              "array([197.61846908])"
            ]
          },
          "execution_count": 25,
          "metadata": {},
          "output_type": "execute_result"
        }
      ],
      "source": [
        "from _linear_regression_custom.lib import linreg_custom\n",
        "linreg_custom(cptr_x, cptr_out)\n",
        "out"
      ]
    },
    {
      "cell_type": "code",
      "execution_count": 25,
      "metadata": {},
      "outputs": [
        {
          "name": "stdout",
          "output_type": "stream",
          "text": [
            "Moyenne: 400.93 ns Ecart-type 176.46 ns (with 100 runs) in [320.00 ns, 655.80 ns]\n"
          ]
        }
      ],
      "source": [
        "memo_time.append(timeexe(\"cffi-linreg-custom\", \"linreg_custom(cptr_x, cptr_out)\"))"
      ]
    },
    {
      "cell_type": "markdown",
      "metadata": {},
      "source": [
        "On a gagn\u00e9 un facteur 2."
      ]
    },
    {
      "cell_type": "code",
      "execution_count": 26,
      "metadata": {},
      "outputs": [
        {
          "data": {
            "text/plain": [
              "array([197.61846908])"
            ]
          },
          "execution_count": 27,
          "metadata": {},
          "output_type": "execute_result"
        }
      ],
      "source": [
        "def predict_clr_custom(x):\n",
        "    out = numpy.zeros(1)\n",
        "    ptr_x = x.__array_interface__['data'][0]\n",
        "    cptr_x = ffi.cast(\"double*\", ptr_x)\n",
        "    ptr_out = out.__array_interface__['data'][0]\n",
        "    cptr_out = ffi.cast(\"double*\", ptr_out)\n",
        "    linreg_custom(cptr_x, cptr_out)\n",
        "    return out\n",
        "\n",
        "predict_clr_custom(x)"
      ]
    },
    {
      "cell_type": "code",
      "execution_count": 27,
      "metadata": {},
      "outputs": [
        {
          "name": "stdout",
          "output_type": "stream",
          "text": [
            "Moyenne: 5.53 \u00b5s Ecart-type 2.17 \u00b5s (with 100 runs) in [4.85 \u00b5s, 8.51 \u00b5s]\n"
          ]
        }
      ],
      "source": [
        "memo_time.append(timeexe(\"cffi-linreg-custom wrapped\", \"predict_clr_custom(x)\"))"
      ]
    },
    {
      "cell_type": "markdown",
      "metadata": {},
      "source": [
        "C'est un peu plus rapide."
      ]
    },
    {
      "cell_type": "markdown",
      "metadata": {
        "collapsed": true
      },
      "source": [
        "### et en float?\n",
        "\n",
        "L'ordinateur fait la distinction entre les [double](https://en.wikipedia.org/wiki/Double-precision_floating-point_format) code sur 64 bit et les [float](https://en.wikipedia.org/wiki/Single-precision_floating-point_format) cod\u00e9 sur 32 bits. La pr\u00e9cision est meilleure dans le premier cas et les calculs sont plus rapides dans le second. Dans le cas du machine learning, on pr\u00e9f\u00e8re la rapidit\u00e9 \u00e0 une perte pr\u00e9cision en pr\u00e9cision qui est souvent compens\u00e9e par l'optimisation inh\u00e9rente \u00e0 tout probl\u00e8me de machine learning. Ce qu'on perd sur une observation, on le retrouve sur une autre."
      ]
    },
    {
      "cell_type": "code",
      "execution_count": 28,
      "metadata": {},
      "outputs": [
        {
          "data": {
            "text/plain": [
              "'0.3034995490660432f*x[0] + -237.63931533353403f*x[1] + 510.5306054362253f*x[2] + 327.7369804093466f*x[3] + -814.1317093725387f*x[4] + 492.81458798373217f*x[5] + 102.8484521916802f*x[6] + 184.60648905984f*x[7] + 743.519616750542f*x[8] + 76.09517221662392f*x[9]'"
            ]
          },
          "execution_count": 29,
          "metadata": {},
          "output_type": "execute_result"
        }
      ],
      "source": [
        "res = \" + \".join(\"{0}f*x[{1}]\".format(c, i) for i, c in enumerate(clr.coef_))\n",
        "res"
      ]
    },
    {
      "cell_type": "code",
      "execution_count": 29,
      "metadata": {},
      "outputs": [
        {
          "name": "stdout",
          "output_type": "stream",
          "text": [
            "\n",
            "    static int linreg_custom_float(float * x, float * out)\n",
            "    {\n",
            "        out[0] = 152.76430691633442f + 0.3034995490660432f*x[0] + -237.63931533353403f*x[1] + 510.5306054362253f*x[2] + 327.7369804093466f*x[3] + -814.1317093725387f*x[4] + 492.81458798373217f*x[5] + 102.8484521916802f*x[6] + 184.60648905984f*x[7] + 743.519616750542f*x[8] + 76.09517221662392f*x[9];\n",
            "    }\n",
            "\n"
          ]
        }
      ],
      "source": [
        "code = \"\"\"\n",
        "    static int linreg_custom_float(float * x, float * out)\n",
        "    {{\n",
        "        out[0] = {0}f + {1};\n",
        "    }}\n",
        "\"\"\".format(clr.intercept_, res)\n",
        "print(code)"
      ]
    },
    {
      "cell_type": "code",
      "execution_count": 30,
      "metadata": {},
      "outputs": [
        {
          "name": "stdout",
          "output_type": "stream",
          "text": [
            "generating .\\_linear_regression_custom_float.c\n",
            "(already up-to-date)\n",
            "the current directory is 'C:\\\\xavierdupre\\\\__home_\\\\GitHub\\\\ensae_teaching_cs\\\\_doc\\\\notebooks\\\\2a'\n",
            "running build_ext\n",
            "building '_linear_regression_custom_float' extension\n",
            "C:\\Program Files (x86)\\Microsoft Visual Studio\\2017\\Community\\VC\\Tools\\MSVC\\14.16.27023\\bin\\HostX86\\x64\\cl.exe /c /nologo /Ox /W3 /GL /DNDEBUG /MD -Ic:\\python370_x64\\include -Ic:\\python370_x64\\include \"-IC:\\Program Files (x86)\\Microsoft Visual Studio\\2017\\Community\\VC\\Tools\\MSVC\\14.16.27023\\ATLMFC\\include\" \"-IC:\\Program Files (x86)\\Microsoft Visual Studio\\2017\\Community\\VC\\Tools\\MSVC\\14.16.27023\\include\" \"-IC:\\Program Files (x86)\\Windows Kits\\NETFXSDK\\4.6.1\\include\\um\" \"-IC:\\Program Files (x86)\\Windows Kits\\10\\include\\10.0.17763.0\\ucrt\" \"-IC:\\Program Files (x86)\\Windows Kits\\10\\include\\10.0.17763.0\\shared\" \"-IC:\\Program Files (x86)\\Windows Kits\\10\\include\\10.0.17763.0\\um\" \"-IC:\\Program Files (x86)\\Windows Kits\\10\\include\\10.0.17763.0\\winrt\" \"-IC:\\Program Files (x86)\\Windows Kits\\10\\include\\10.0.17763.0\\cppwinrt\" /Tc_linear_regression_custom_float.c /Fo.\\Release\\_linear_regression_custom_float.obj\n",
            "C:\\Program Files (x86)\\Microsoft Visual Studio\\2017\\Community\\VC\\Tools\\MSVC\\14.16.27023\\bin\\HostX86\\x64\\link.exe /nologo /INCREMENTAL:NO /LTCG /DLL /MANIFEST:EMBED,ID=2 /MANIFESTUAC:NO /LIBPATH:c:\\python370_x64\\libs /LIBPATH:c:\\python370_x64\\PCbuild\\amd64 \"/LIBPATH:C:\\Program Files (x86)\\Microsoft Visual Studio\\2017\\Community\\VC\\Tools\\MSVC\\14.16.27023\\ATLMFC\\lib\\x64\" \"/LIBPATH:C:\\Program Files (x86)\\Microsoft Visual Studio\\2017\\Community\\VC\\Tools\\MSVC\\14.16.27023\\lib\\x64\" \"/LIBPATH:C:\\Program Files (x86)\\Windows Kits\\NETFXSDK\\4.6.1\\lib\\um\\x64\" \"/LIBPATH:C:\\Program Files (x86)\\Windows Kits\\10\\lib\\10.0.17763.0\\ucrt\\x64\" \"/LIBPATH:C:\\Program Files (x86)\\Windows Kits\\10\\lib\\10.0.17763.0\\um\\x64\" /EXPORT:PyInit__linear_regression_custom_float .\\Release\\_linear_regression_custom_float.obj /OUT:.\\_linear_regression_custom_float.cp37-win_amd64.pyd /IMPLIB:.\\Release\\_linear_regression_custom_float.cp37-win_amd64.lib\n"
          ]
        },
        {
          "data": {
            "text/plain": [
              "'C:\\\\xavierdupre\\\\__home_\\\\GitHub\\\\ensae_teaching_cs\\\\_doc\\\\notebooks\\\\2a\\\\_linear_regression_custom_float.cp37-win_amd64.pyd'"
            ]
          },
          "execution_count": 31,
          "metadata": {},
          "output_type": "execute_result"
        }
      ],
      "source": [
        "from cffi import FFI\n",
        "ffibuilder = FFI()\n",
        "\n",
        "ffibuilder.cdef(\"int linreg_custom_float(float *, float *);\")\n",
        "ffibuilder.set_source(\"_linear_regression_custom_float\", code)\n",
        "ffibuilder.compile(verbose=True)"
      ]
    },
    {
      "cell_type": "code",
      "execution_count": 31,
      "metadata": {},
      "outputs": [],
      "source": [
        "from _linear_regression_custom_float.lib import linreg_custom_float"
      ]
    },
    {
      "cell_type": "code",
      "execution_count": 32,
      "metadata": {},
      "outputs": [],
      "source": [
        "def predict_clr_custom_float(x):\n",
        "    out = numpy.zeros(1, dtype=numpy.float32)\n",
        "    ptr_x = x.__array_interface__['data'][0]\n",
        "    cptr_x = ffi.cast ( \"float*\" , ptr_x )  \n",
        "    ptr_out = out.__array_interface__['data'][0]\n",
        "    cptr_out = ffi.cast ( \"float*\" , ptr_out ) \n",
        "    linreg_custom_float(cptr_x, cptr_out)\n",
        "    return out"
      ]
    },
    {
      "cell_type": "markdown",
      "metadata": {},
      "source": [
        "Avant d'appeler la fonction, on doit transformer le vecteur iniatial en [float32](https://docs.scipy.org/doc/numpy/user/basics.types.html)."
      ]
    },
    {
      "cell_type": "code",
      "execution_count": 33,
      "metadata": {},
      "outputs": [
        {
          "data": {
            "text/plain": [
              "array([152.76430692])"
            ]
          },
          "execution_count": 34,
          "metadata": {},
          "output_type": "execute_result"
        }
      ],
      "source": [
        "x32 = x.astype(numpy.float32)\n",
        "predict_clr_custom(x32)"
      ]
    },
    {
      "cell_type": "code",
      "execution_count": 34,
      "metadata": {},
      "outputs": [
        {
          "name": "stdout",
          "output_type": "stream",
          "text": [
            "Moyenne: 7.21 \u00b5s Ecart-type 3.59 \u00b5s (with 100 runs) in [5.15 \u00b5s, 13.26 \u00b5s]\n"
          ]
        }
      ],
      "source": [
        "memo_time.append(timeexe(\"cffi-linreg-custom-float wrapped\", \"predict_clr_custom(x32)\"))"
      ]
    },
    {
      "cell_type": "markdown",
      "metadata": {},
      "source": [
        "La diff\u00e9rence n'est pas flagrante. Mesurons le code C uniquement m\u00eame si la partie Python ne peut pas \u00eatre compl\u00e8tement \u00e9vit\u00e9e."
      ]
    },
    {
      "cell_type": "code",
      "execution_count": 35,
      "metadata": {},
      "outputs": [
        {
          "name": "stdout",
          "output_type": "stream",
          "text": [
            "Moyenne: 499.05 ns Ecart-type 250.34 ns (with 100 runs) in [331.85 ns, 1.05 \u00b5s]\n"
          ]
        }
      ],
      "source": [
        "out = numpy.zeros(1, dtype=numpy.float32)\n",
        "ptr_x = x32.__array_interface__['data'][0]\n",
        "cptr_x = ffi.cast ( \"float*\" , ptr_x )  \n",
        "ptr_out = out.__array_interface__['data'][0]\n",
        "cptr_out = ffi.cast ( \"float*\" , ptr_out ) \n",
        "\n",
        "memo_time.append(timeexe(\"cffi-linreg-custom-float32\", \"linreg_custom_float(cptr_x, cptr_out)\"))"
      ]
    },
    {
      "cell_type": "markdown",
      "metadata": {},
      "source": [
        "La diff\u00e9rence n'est pas significative."
      ]
    },
    {
      "cell_type": "markdown",
      "metadata": {},
      "source": [
        "### SIMD\n",
        "\n",
        "C'est un ensemble d'instructions processeur pour faire des op\u00e9rations terme \u00e0 terme sur 4 float32 aussi rapidement qu'une seule. Le processeur ne peut faire des op\u00e9rations que les nombres sont copi\u00e9s dans ses registres. Le programme passe alors son temps \u00e0 copier des nombres depuis la m\u00e9moire vers les registres du processeur puis \u00e0 faire la copie dans le chemin inverse pour le r\u00e9sultat. Les instructions [SIMD](https://en.wikipedia.org/wiki/SIMD) font gagner du temps du niveau du calcul. Au lieu de faire 4 op\u00e9rations de multiplication terme \u00e0 terme, il n'en fait plus qu'une. Il suffit de savoir comment utiliser ces instructions. Avec Visual Studio, elles sont accessible via ces fonctions [Memory and Initialization Using Streaming SIMD Extensions](https://msdn.microsoft.com/en-us/library/0hey67c0%28v=vs.100%29.aspx).\n",
        "Le code suivant n'est probablement pas optimal mais il n'est pas trop compliqu\u00e9 \u00e0 suivre."
      ]
    },
    {
      "cell_type": "code",
      "execution_count": 36,
      "metadata": {},
      "outputs": [],
      "source": [
        "code = \"\"\"\n",
        "#include <xmmintrin.h> \n",
        "\n",
        "static int linreg_custom_float_simd(float * x, float * out)\n",
        "{\n",
        "    __m128 c1 = _mm_set_ps(0.3034995490664121f, -237.63931533353392f, 510.5306054362245f, 327.7369804093466f);\n",
        "    __m128 c2 = _mm_set_ps(-814.1317093725389f, 492.81458798373245f, 102.84845219168025f, 184.60648905984064f);\n",
        "    __m128 r1 = _mm_set_ss(152.76430691633442f);\n",
        "    r1 = _mm_add_ss(r1, _mm_mul_ps(c1, _mm_load_ps(x)));\n",
        "    r1 = _mm_add_ss(r1, _mm_mul_ps(c2, _mm_load_ps(x+4)));\n",
        "    float r[4];\n",
        "    _mm_store_ps(r, r1);    \n",
        "    out[0] = r[0] + r[1] + r[2] + r[3] + 743.5196167505419f * x[8] + 76.095172216624f * x[9];\n",
        "    return 1;\n",
        "}\n",
        "\"\"\""
      ]
    },
    {
      "cell_type": "code",
      "execution_count": 37,
      "metadata": {
        "scrolled": false
      },
      "outputs": [
        {
          "name": "stdout",
          "output_type": "stream",
          "text": [
            "generating .\\_linear_regression_custom_float_simd.c\n",
            "(already up-to-date)\n",
            "the current directory is 'C:\\\\xavierdupre\\\\__home_\\\\GitHub\\\\ensae_teaching_cs\\\\_doc\\\\notebooks\\\\2a'\n",
            "running build_ext\n",
            "building '_linear_regression_custom_float_simd' extension\n",
            "C:\\Program Files (x86)\\Microsoft Visual Studio\\2017\\Community\\VC\\Tools\\MSVC\\14.16.27023\\bin\\HostX86\\x64\\cl.exe /c /nologo /Ox /W3 /GL /DNDEBUG /MD -Ic:\\python370_x64\\include -Ic:\\python370_x64\\include \"-IC:\\Program Files (x86)\\Microsoft Visual Studio\\2017\\Community\\VC\\Tools\\MSVC\\14.16.27023\\ATLMFC\\include\" \"-IC:\\Program Files (x86)\\Microsoft Visual Studio\\2017\\Community\\VC\\Tools\\MSVC\\14.16.27023\\include\" \"-IC:\\Program Files (x86)\\Windows Kits\\NETFXSDK\\4.6.1\\include\\um\" \"-IC:\\Program Files (x86)\\Windows Kits\\10\\include\\10.0.17763.0\\ucrt\" \"-IC:\\Program Files (x86)\\Windows Kits\\10\\include\\10.0.17763.0\\shared\" \"-IC:\\Program Files (x86)\\Windows Kits\\10\\include\\10.0.17763.0\\um\" \"-IC:\\Program Files (x86)\\Windows Kits\\10\\include\\10.0.17763.0\\winrt\" \"-IC:\\Program Files (x86)\\Windows Kits\\10\\include\\10.0.17763.0\\cppwinrt\" /Tc_linear_regression_custom_float_simd.c /Fo.\\Release\\_linear_regression_custom_float_simd.obj\n",
            "C:\\Program Files (x86)\\Microsoft Visual Studio\\2017\\Community\\VC\\Tools\\MSVC\\14.16.27023\\bin\\HostX86\\x64\\link.exe /nologo /INCREMENTAL:NO /LTCG /DLL /MANIFEST:EMBED,ID=2 /MANIFESTUAC:NO /LIBPATH:c:\\python370_x64\\libs /LIBPATH:c:\\python370_x64\\PCbuild\\amd64 \"/LIBPATH:C:\\Program Files (x86)\\Microsoft Visual Studio\\2017\\Community\\VC\\Tools\\MSVC\\14.16.27023\\ATLMFC\\lib\\x64\" \"/LIBPATH:C:\\Program Files (x86)\\Microsoft Visual Studio\\2017\\Community\\VC\\Tools\\MSVC\\14.16.27023\\lib\\x64\" \"/LIBPATH:C:\\Program Files (x86)\\Windows Kits\\NETFXSDK\\4.6.1\\lib\\um\\x64\" \"/LIBPATH:C:\\Program Files (x86)\\Windows Kits\\10\\lib\\10.0.17763.0\\ucrt\\x64\" \"/LIBPATH:C:\\Program Files (x86)\\Windows Kits\\10\\lib\\10.0.17763.0\\um\\x64\" /EXPORT:PyInit__linear_regression_custom_float_simd .\\Release\\_linear_regression_custom_float_simd.obj /OUT:.\\_linear_regression_custom_float_simd.cp37-win_amd64.pyd /IMPLIB:.\\Release\\_linear_regression_custom_float_simd.cp37-win_amd64.lib\n"
          ]
        },
        {
          "data": {
            "text/plain": [
              "'C:\\\\xavierdupre\\\\__home_\\\\GitHub\\\\ensae_teaching_cs\\\\_doc\\\\notebooks\\\\2a\\\\_linear_regression_custom_float_simd.cp37-win_amd64.pyd'"
            ]
          },
          "execution_count": 38,
          "metadata": {},
          "output_type": "execute_result"
        }
      ],
      "source": [
        "from cffi import FFI\n",
        "ffibuilder = FFI()\n",
        "\n",
        "ffibuilder.cdef(\"int linreg_custom_float_simd(float *, float *);\")\n",
        "ffibuilder.set_source(\"_linear_regression_custom_float_simd\", code)\n",
        "ffibuilder.compile(verbose=True)"
      ]
    },
    {
      "cell_type": "code",
      "execution_count": 38,
      "metadata": {},
      "outputs": [],
      "source": [
        "from _linear_regression_custom_float_simd.lib import linreg_custom_float_simd"
      ]
    },
    {
      "cell_type": "code",
      "execution_count": 39,
      "metadata": {},
      "outputs": [
        {
          "data": {
            "text/plain": [
              "array([171.1178], dtype=float32)"
            ]
          },
          "execution_count": 40,
          "metadata": {},
          "output_type": "execute_result"
        }
      ],
      "source": [
        "out = numpy.zeros(1, dtype=numpy.float32)\n",
        "ptr_x = x32.__array_interface__['data'][0]\n",
        "cptr_x = ffi.cast ( \"float*\" , ptr_x )  \n",
        "ptr_out = out.__array_interface__['data'][0]\n",
        "cptr_out = ffi.cast ( \"float*\" , ptr_out ) \n",
        "\n",
        "linreg_custom_float_simd(cptr_x, cptr_out)\n",
        "out"
      ]
    },
    {
      "cell_type": "code",
      "execution_count": 40,
      "metadata": {},
      "outputs": [
        {
          "name": "stdout",
          "output_type": "stream",
          "text": [
            "Moyenne: 515.47 ns Ecart-type 663.25 ns (with 100 runs) in [316.05 ns, 987.65 ns]\n"
          ]
        }
      ],
      "source": [
        "memo_time.append(timeexe(\"cffi-linreg-custom-float32-simd\", \"linreg_custom_float_simd(cptr_x, cptr_out)\"))"
      ]
    },
    {
      "cell_type": "markdown",
      "metadata": {},
      "source": [
        "C'est l\u00e9g\u00e8rement mieux, quelques r\u00e9f\u00e9rences :\n",
        "\n",
        "* [aligned_vs_unaligned_load.c](https://gist.github.com/rmcgibbo/7689820) : c'est du code mais facile \u00e0 lire.\n",
        "* [How to Write Fast Numerical Code](https://www.inf.ethz.ch/personal/markusp/teaching/263-2300-ETH-spring11/slides/class17.pdf)\n",
        "\n",
        "Les processeurs \u00e9voluent au fil du temps, 4 float, 8 float, [SIMD2](https://msdn.microsoft.com/en-us/library/kcwz153a%28v=vs.100%29.aspx), [FMA4 Intrinsics Added for Visual Studio 2010 SP1](https://msdn.microsoft.com/en-us/library/gg445134%28v=vs.100%29.aspx), [AVX](https://software.intel.com/en-us/articles/introduction-to-intel-advanced-vector-extensions/)."
      ]
    },
    {
      "cell_type": "markdown",
      "metadata": {
        "collapsed": true
      },
      "source": [
        "### R\u00e9\u00e9criture purement Python\n",
        "\n",
        "On continue avec uniquement du Python sans numpy."
      ]
    },
    {
      "cell_type": "code",
      "execution_count": 41,
      "metadata": {},
      "outputs": [
        {
          "data": {
            "text/plain": [
              "[0.3034995490660432,\n",
              " -237.63931533353403,\n",
              " 510.5306054362253,\n",
              " 327.7369804093466,\n",
              " -814.1317093725387,\n",
              " 492.81458798373217,\n",
              " 102.8484521916802,\n",
              " 184.60648905984,\n",
              " 743.519616750542,\n",
              " 76.09517221662392]"
            ]
          },
          "execution_count": 42,
          "metadata": {},
          "output_type": "execute_result"
        }
      ],
      "source": [
        "coef = clr.coef_\n",
        "list(coef)"
      ]
    },
    {
      "cell_type": "code",
      "execution_count": 42,
      "metadata": {},
      "outputs": [
        {
          "data": {
            "text/plain": [
              "'152.76430691633442+x[0]*(0.3034995490660432)+x[1]*(-237.63931533353403)+x[2]*(510.5306054362253)+x[3]*(327.7369804093466)+x[4]*(-814.1317093725387)+x[5]*(492.81458798373217)+x[6]*(102.8484521916802)+x[7]*(184.60648905984)+x[8]*(743.519616750542)+x[9]*(76.09517221662392)'"
            ]
          },
          "execution_count": 43,
          "metadata": {},
          "output_type": "execute_result"
        }
      ],
      "source": [
        "code = str(clr.intercept_) + \"+\" + \"+\".join(\"x[{0}]*({1})\".format(i, c) for i, c in enumerate(coef))\n",
        "code"
      ]
    },
    {
      "cell_type": "code",
      "execution_count": 43,
      "metadata": {},
      "outputs": [
        {
          "data": {
            "text/plain": [
              "197.61846907469848"
            ]
          },
          "execution_count": 44,
          "metadata": {},
          "output_type": "execute_result"
        }
      ],
      "source": [
        "def predict_clr_python(x):\n",
        "    return 152.764306916+x[0]*0.3034995490664121+x[1]*(-237.63931533353392)+x[2]*510.5306054362245+ \\\n",
        "            x[3]*327.7369804093466+ \\\n",
        "            x[4]*(-814.1317093725389)+x[5]*492.81458798373245+x[6]*102.84845219168025+ \\\n",
        "            x[7]*184.60648905984064+x[8]*743.5196167505419+x[9]*76.095172216624\n",
        "            \n",
        "predict_clr_python(x[0])"
      ]
    },
    {
      "cell_type": "code",
      "execution_count": 44,
      "metadata": {},
      "outputs": [
        {
          "name": "stdout",
          "output_type": "stream",
          "text": [
            "Moyenne: 3.15 \u00b5s Ecart-type 1.81 \u00b5s (with 100 runs) in [2.00 \u00b5s, 6.32 \u00b5s]\n"
          ]
        }
      ],
      "source": [
        "z = list(x[0])\n",
        "memo_time.append(timeexe(\"python-linreg-custom\", \"predict_clr_python(z)\"))"
      ]
    },
    {
      "cell_type": "markdown",
      "metadata": {},
      "source": [
        "De fa\u00e7on assez surprenante, c'est plut\u00f4t rapide. Et si on y mettait une boucle."
      ]
    },
    {
      "cell_type": "code",
      "execution_count": 45,
      "metadata": {},
      "outputs": [
        {
          "data": {
            "text/plain": [
              "197.61846907503298"
            ]
          },
          "execution_count": 46,
          "metadata": {},
          "output_type": "execute_result"
        }
      ],
      "source": [
        "def predict_clr_python_loop(x, coef, intercept):    \n",
        "    return intercept + sum(a*b for a, b in zip(x, coef))\n",
        "            \n",
        "predict_clr_python_loop(x[0], list(clr.coef_), clr.intercept_)"
      ]
    },
    {
      "cell_type": "code",
      "execution_count": 46,
      "metadata": {},
      "outputs": [
        {
          "name": "stdout",
          "output_type": "stream",
          "text": [
            "Moyenne: 5.87 \u00b5s Ecart-type 3.95 \u00b5s (with 100 runs) in [3.48 \u00b5s, 10.08 \u00b5s]\n"
          ]
        }
      ],
      "source": [
        "coef = list(clr.coef_)\n",
        "intercept = clr.intercept_\n",
        "memo_time.append(timeexe(\"python-linreg\", \"predict_clr_python_loop(z, coef, intercept)\"))"
      ]
    },
    {
      "cell_type": "markdown",
      "metadata": {},
      "source": [
        "A peine plus long."
      ]
    },
    {
      "cell_type": "markdown",
      "metadata": {},
      "source": [
        "### R\u00e9\u00e9criture avec Python et numpy"
      ]
    },
    {
      "cell_type": "code",
      "execution_count": 47,
      "metadata": {},
      "outputs": [
        {
          "data": {
            "text/plain": [
              "197.61846907503298"
            ]
          },
          "execution_count": 48,
          "metadata": {},
          "output_type": "execute_result"
        }
      ],
      "source": [
        "def predict_clr_numpy(x, coef, intercept):    \n",
        "    return intercept + numpy.dot(coef, x).sum()\n",
        "            \n",
        "predict_clr_numpy(x[0], clr.coef_, clr.intercept_)"
      ]
    },
    {
      "cell_type": "code",
      "execution_count": 48,
      "metadata": {},
      "outputs": [
        {
          "name": "stdout",
          "output_type": "stream",
          "text": [
            "Moyenne: 9.97 \u00b5s Ecart-type 4.96 \u00b5s (with 100 runs) in [7.37 \u00b5s, 19.62 \u00b5s]\n"
          ]
        }
      ],
      "source": [
        "memo_time.append(timeexe(\"numpy-linreg-numpy\", \"predict_clr_numpy(z, coef, clr.intercept_)\"))"
      ]
    },
    {
      "cell_type": "markdown",
      "metadata": {},
      "source": [
        "Les dimensions des tableaux sont trop petites pour que le calcul matriciel apporte une diff\u00e9rence. On se retrouve dans le cas *cffi* o\u00f9 les \u00e9changes Python - C grignotent tout le temps de calcul."
      ]
    },
    {
      "cell_type": "markdown",
      "metadata": {},
      "source": [
        "### numba\n",
        "\n",
        "[numba](http://numba.pydata.org/) essaye de compiler \u00e0 la vol\u00e9e des bouts de codes \u00e9crits en Python. On induque quelle fonction optimiser en faisant pr\u00e9c\u00e9der la fonction de ``@jit``. Toutes les \u00e9critures ne fonctionnent, typiquement, certaines listes en compr\u00e9hension soul\u00e8vent une exception. Il faut donc \u00e9crire son code en Python d'une fa\u00e7on assez proche de ce qu'il serait en C."
      ]
    },
    {
      "cell_type": "code",
      "execution_count": 49,
      "metadata": {},
      "outputs": [],
      "source": [
        "from numba import jit"
      ]
    },
    {
      "cell_type": "code",
      "execution_count": 50,
      "metadata": {
        "scrolled": false
      },
      "outputs": [
        {
          "data": {
            "text/plain": [
              "197.61846907503298"
            ]
          },
          "execution_count": 51,
          "metadata": {},
          "output_type": "execute_result"
        }
      ],
      "source": [
        "@jit\n",
        "def predict_clr_numba(x, coef, intercept):\n",
        "    s = intercept\n",
        "    for i in range(0, len(x)):\n",
        "        s += coef[i] * x[i]\n",
        "    return s\n",
        "            \n",
        "predict_clr_numba(z, clr.coef_, clr.intercept_)"
      ]
    },
    {
      "cell_type": "code",
      "execution_count": 51,
      "metadata": {},
      "outputs": [
        {
          "name": "stdout",
          "output_type": "stream",
          "text": [
            "Moyenne: 32.13 \u00b5s Ecart-type 15.74 \u00b5s (with 100 runs) in [20.77 \u00b5s, 59.50 \u00b5s]\n"
          ]
        }
      ],
      "source": [
        "memo_time.append(timeexe(\"numba-linreg-notype\", \"predict_clr_numba(z, clr.coef_, clr.intercept_)\"))"
      ]
    },
    {
      "cell_type": "markdown",
      "metadata": {},
      "source": [
        "Plut\u00f4t rapide !"
      ]
    },
    {
      "cell_type": "code",
      "execution_count": 52,
      "metadata": {},
      "outputs": [
        {
          "data": {
            "text/plain": [
              "197.61846907503298"
            ]
          },
          "execution_count": 53,
          "metadata": {},
          "output_type": "execute_result"
        }
      ],
      "source": [
        "@jit('double(double[:], double[:], double)')\n",
        "def predict_clr_numba_cast(x, coef, intercept):\n",
        "    s = intercept\n",
        "    for i in range(0, len(x)):\n",
        "        s += coef[i] * x[i]\n",
        "    return s\n",
        "            \n",
        "# La fonction ne fonctionne qu'avec un numpy.array car le langage C est fortement typ\u00e9.\n",
        "predict_clr_numba_cast(x[0], clr.coef_, clr.intercept_)"
      ]
    },
    {
      "cell_type": "code",
      "execution_count": 53,
      "metadata": {},
      "outputs": [
        {
          "name": "stdout",
          "output_type": "stream",
          "text": [
            "Moyenne: 1.30 \u00b5s Ecart-type 1.45 \u00b5s (with 100 runs) in [821.72 ns, 2.50 \u00b5s]\n"
          ]
        }
      ],
      "source": [
        "memo_time.append(timeexe(\"numba-linreg-type\", \"predict_clr_numba_cast(x[0], clr.coef_, clr.intercept_)\"))"
      ]
    },
    {
      "cell_type": "markdown",
      "metadata": {},
      "source": [
        "On voit que plus on donne d'information au compilateur, plus il est capable d'optimiser."
      ]
    },
    {
      "cell_type": "code",
      "execution_count": 54,
      "metadata": {},
      "outputs": [
        {
          "data": {
            "text/plain": [
              "197.61846923828125"
            ]
          },
          "execution_count": 55,
          "metadata": {},
          "output_type": "execute_result"
        }
      ],
      "source": [
        "@jit('float32(float32[:], float32[:], float32)')\n",
        "def predict_clr_numba_cast_float(x, coef, intercept):\n",
        "    s = intercept\n",
        "    for i in range(0, len(x)):\n",
        "        s += coef[i] * x[i]\n",
        "    return s\n",
        "            \n",
        "# La fonction ne fonctionne qu'avec un numpy.array car le langage C est fortement typ\u00e9.\n",
        "x32 = x[0].astype(numpy.float32)\n",
        "c32 = clr.coef_.astype(numpy.float32)\n",
        "i32 = numpy.float32(clr.intercept_)\n",
        "predict_clr_numba_cast_float(x32, c32, i32)"
      ]
    },
    {
      "cell_type": "code",
      "execution_count": 55,
      "metadata": {},
      "outputs": [
        {
          "name": "stdout",
          "output_type": "stream",
          "text": [
            "Moyenne: 1.17 \u00b5s Ecart-type 5.36 \u00b5s (with 100 runs) in [580.73 ns, 2.03 \u00b5s]\n"
          ]
        }
      ],
      "source": [
        "memo_time.append(timeexe(\"numba-linreg-type-float32\", \"predict_clr_numba_cast_float(x32, c32, i32)\"))"
      ]
    },
    {
      "cell_type": "markdown",
      "metadata": {},
      "source": [
        "On essaye avec les coefficients dans la fonction."
      ]
    },
    {
      "cell_type": "code",
      "execution_count": 56,
      "metadata": {},
      "outputs": [
        {
          "data": {
            "text/plain": [
              "197.61846907190048"
            ]
          },
          "execution_count": 57,
          "metadata": {},
          "output_type": "execute_result"
        }
      ],
      "source": [
        "@jit('double(double[:])')\n",
        "def predict_clr_numba_cast_custom(x):\n",
        "    coef = [ 3.03499549e-01, -2.37639315e+02,  5.10530605e+02,  3.27736980e+02,\n",
        "            -8.14131709e+02,  4.92814588e+02,  1.02848452e+02,  1.84606489e+02,\n",
        "             7.43519617e+02,  7.60951722e+01]\n",
        "    s = 152.76430691633442\n",
        "    for i in range(0, len(x)):\n",
        "        s += coef[i] * x[i]\n",
        "    return s\n",
        "            \n",
        "predict_clr_numba_cast_custom(x[0])"
      ]
    },
    {
      "cell_type": "code",
      "execution_count": 57,
      "metadata": {},
      "outputs": [
        {
          "name": "stdout",
          "output_type": "stream",
          "text": [
            "Moyenne: 958.94 ns Ecart-type 492.60 ns (with 100 runs) in [687.40 ns, 1.90 \u00b5s]\n"
          ]
        }
      ],
      "source": [
        "memo_time.append(timeexe(\"numba-linreg-type-custom\", \"predict_clr_numba_cast_custom(x[0])\"))"
      ]
    },
    {
      "cell_type": "markdown",
      "metadata": {},
      "source": [
        "On se rapproche des temps obtenus avec *cffi* sans *wrapping*, cela signifie que *numba* fait un bien meilleur travail \u00e0 ce niveau que le wrapper rapidement cr\u00e9\u00e9."
      ]
    },
    {
      "cell_type": "code",
      "execution_count": 58,
      "metadata": {},
      "outputs": [
        {
          "data": {
            "text/plain": [
              "197.61846907503298"
            ]
          },
          "execution_count": 59,
          "metadata": {},
          "output_type": "execute_result"
        }
      ],
      "source": [
        "@jit('double(double[:], double[:], double)')\n",
        "def predict_clr_numba_numpy(x, coef, intercept):    \n",
        "    return intercept + numpy.dot(coef, x).sum()\n",
        "\n",
        "predict_clr_numba_numpy(x[0], clr.coef_, clr.intercept_)"
      ]
    },
    {
      "cell_type": "code",
      "execution_count": 59,
      "metadata": {},
      "outputs": [
        {
          "name": "stdout",
          "output_type": "stream",
          "text": [
            "Moyenne: 8.31 \u00b5s Ecart-type 4.03 \u00b5s (with 100 runs) in [5.84 \u00b5s, 15.30 \u00b5s]\n"
          ]
        }
      ],
      "source": [
        "memo_time.append(timeexe(\"numba-linreg-type-numpy\", \"predict_clr_numba_numpy(x[0], clr.coef_, clr.intercept_)\"))"
      ]
    },
    {
      "cell_type": "markdown",
      "metadata": {},
      "source": [
        "*numba* est moins performant quand *numpy* est impliqu\u00e9 car le code de numpy n'est pas r\u00e9\u00e9crit, il est appel\u00e9."
      ]
    },
    {
      "cell_type": "markdown",
      "metadata": {},
      "source": [
        "### cython\n",
        "\n",
        "[cython](http://cython.org/) permet de cr\u00e9er des extensions C de plus grande envergure que *numba*. C'est l'option choisie par [scikit-learn](http://scikit-learn.org/stable/). Il vaut mieux conna\u00eetre le C pour s'en servir et l\u00e0 encore, l'objectif est de r\u00e9duire les \u00e9changes Python / C qui co\u00fbtent cher."
      ]
    },
    {
      "cell_type": "code",
      "execution_count": 60,
      "metadata": {},
      "outputs": [],
      "source": [
        "%load_ext cython"
      ]
    },
    {
      "cell_type": "code",
      "execution_count": 61,
      "metadata": {},
      "outputs": [],
      "source": [
        "%%cython\n",
        "def predict_clr_cython(x, coef, intercept):\n",
        "    s = intercept\n",
        "    for i in range(0, len(x)):\n",
        "        s += coef[i] * x[i]\n",
        "    return s"
      ]
    },
    {
      "cell_type": "code",
      "execution_count": 62,
      "metadata": {},
      "outputs": [
        {
          "data": {
            "text/plain": [
              "197.61846907503298"
            ]
          },
          "execution_count": 63,
          "metadata": {},
          "output_type": "execute_result"
        }
      ],
      "source": [
        "predict_clr_cython(x[0], clr.coef_, clr.intercept_)"
      ]
    },
    {
      "cell_type": "code",
      "execution_count": 63,
      "metadata": {},
      "outputs": [
        {
          "name": "stdout",
          "output_type": "stream",
          "text": [
            "Moyenne: 3.55 \u00b5s Ecart-type 2.19 \u00b5s (with 100 runs) in [2.28 \u00b5s, 7.82 \u00b5s]\n"
          ]
        }
      ],
      "source": [
        "memo_time.append(timeexe(\"cython-linreg\", \"predict_clr_cython(x[0], clr.coef_, clr.intercept_)\"))"
      ]
    },
    {
      "cell_type": "markdown",
      "metadata": {},
      "source": [
        "Cython fait moins bien que *numba* dans notre cas et l'optimisation propos\u00e9e est assez proche du temps d\u00e9j\u00e0 obtenue avec le langage Python seul. Cela est d\u00fb au fait que la plupart des objets tels que du code associ\u00e9 aux listes ou aux dictionnaires ont \u00e9t\u00e9 r\u00e9\u00e9crits en C."
      ]
    },
    {
      "cell_type": "code",
      "execution_count": 64,
      "metadata": {},
      "outputs": [],
      "source": [
        "%%cython\n",
        "cimport numpy as npc\n",
        "\n",
        "def predict_clr_cython_type(npc.ndarray[double, ndim=1, mode='c'] x,\n",
        "                            npc.ndarray[double, ndim=1, mode='c'] coef,\n",
        "                            double intercept):\n",
        "    cdef double s = intercept\n",
        "    for i in range(0, x.shape[0]):\n",
        "        s += coef[i] * x[i]\n",
        "    return s"
      ]
    },
    {
      "cell_type": "code",
      "execution_count": 65,
      "metadata": {},
      "outputs": [
        {
          "data": {
            "text/plain": [
              "197.61846907503298"
            ]
          },
          "execution_count": 66,
          "metadata": {},
          "output_type": "execute_result"
        }
      ],
      "source": [
        "predict_clr_cython_type(x[0], clr.coef_, clr.intercept_)"
      ]
    },
    {
      "cell_type": "code",
      "execution_count": 66,
      "metadata": {},
      "outputs": [
        {
          "name": "stdout",
          "output_type": "stream",
          "text": [
            "Moyenne: 1.82 \u00b5s Ecart-type 1.10 \u00b5s (with 100 runs) in [1.37 \u00b5s, 3.66 \u00b5s]\n"
          ]
        }
      ],
      "source": [
        "memo_time.append(timeexe(\"cython-linreg-type\", \"predict_clr_cython_type(x[0], clr.coef_, clr.intercept_)\"))"
      ]
    },
    {
      "cell_type": "markdown",
      "metadata": {},
      "source": [
        "Le temps est quasi identique avec un \u00e9cart type moins grand de fa\u00e7on significative."
      ]
    },
    {
      "cell_type": "markdown",
      "metadata": {},
      "source": [
        "### Une derni\u00e8re option : ONNX\n",
        "\n",
        "[ONNX](https://onnx.ai/) est un format de s\u00e9rialisation qui permet de d\u00e9crire un mod\u00e8le de mod\u00e8le de machine learning ou de deep learning. Cela permet de dissocer le mod\u00e8le de la librairie qui a servi \u00e0 le produire (voir [ML.net and ONNX](http://www.xavierdupre.fr/app/machinelearningext/helpsphinx/aonnx.html)."
      ]
    },
    {
      "cell_type": "code",
      "execution_count": 67,
      "metadata": {},
      "outputs": [
        {
          "name": "stdout",
          "output_type": "stream",
          "text": [
            "onnx, skl2onnx, onnxruntime sont disponibles.\n"
          ]
        }
      ],
      "source": [
        "try:\n",
        "    from skl2onnx import convert_sklearn\n",
        "    from skl2onnx.common.data_types import FloatTensorType\n",
        "    import onnxruntime\n",
        "    import onnx\n",
        "    ok_onnx = True\n",
        "    print(\"onnx, skl2onnx, onnxruntime sont disponibles.\")\n",
        "    \n",
        "    def save_model(onnx_model, filename):\n",
        "        with open(filename, \"wb\") as f:\n",
        "            f.write(onnx_model.SerializeToString())\n",
        "except ImportError as e:\n",
        "    print(\"La suite requiert onnx, skl2onnx et onnxruntime.\")\n",
        "    print(e)\n",
        "    ok_onnx = False"
      ]
    },
    {
      "cell_type": "markdown",
      "metadata": {},
      "source": [
        "On convertit le mod\u00e8le au format [ONNX](https://onnx.ai/)."
      ]
    },
    {
      "cell_type": "code",
      "execution_count": 68,
      "metadata": {},
      "outputs": [
        {
          "name": "stderr",
          "output_type": "stream",
          "text": [
            "The maximum opset needed by this model is only 1.\n"
          ]
        },
        {
          "name": "stdout",
          "output_type": "stream",
          "text": [
            "Mod\u00e8le s\u00e9rialis\u00e9 au format ONNX\n",
            "ir_version: 4\n",
            "producer_name: \"skl2onnx\"\n",
            "producer_version: \"1.4.3\"\n",
            "domain: \"ai.onnx\"\n",
            "model_version: 0\n",
            "doc_string: \"\"\n",
            "graph {\n",
            "  node {\n",
            "    input: \"input\"\n",
            "    output: \"variable\"\n",
            "    name: \"LinearRegressor\"\n",
            "    op_type: \"LinearRegressor\"\n",
            "    attribute {\n",
            "      name: \"coefficients\"\n",
            "      floats: 0.3034995496273041\n",
            "      floats: -237.63931274414062\n",
            "      floats: 510.5306091308594\n",
            "      floats: 327.7369689941406\n",
            "      floats: -814.1317138671875\n",
            "      floats: 492.8145751953125\n",
            "      floats: 102.84844970703125\n",
            "      floats: 184.6064910888672\n",
            "      floats: 743.5195922851562\n",
            "      floats: 76.09516906738281\n",
            "      type: FLOATS\n",
            "    }\n",
            "    attribute {\n",
            "      name: \"intercepts\"\n",
            "      floats: 152.76431274414062\n",
            "      type: FLOATS\n",
            "    }\n",
            "    domain: \"ai.onnx.ml\"\n",
            "  }\n",
            "  name: \"model\"\n",
            "  input {\n",
            "    name: \"input\"\n",
            "    type {\n",
            "      tensor_type {\n",
            "        elem_type: 1\n",
            "        shape {\n",
            "          dim {\n",
            "            dim_value: 1\n",
            "          }\n",
            "          dim {\n",
            "            dim_value: 10\n",
            "          }\n",
            "        }\n",
            "      }\n",
            "    }\n",
            "  }\n",
            "  output {\n",
            "    name: \"variable\"\n",
            "    type {\n",
            "      tensor_type {\n",
            "        elem_type: 1\n",
            "        shape {\n",
            "          dim {\n",
            "            dim_value: 1\n",
            "          }\n",
            "          dim {\n",
            "            dim_value: 1\n",
            "          }\n",
            "        }\n",
            "      }\n",
            "    }\n",
            "  }\n",
            "}\n",
            "opset_import {\n",
            "  domain: \"ai.onnx.ml\"\n",
            "  version: 1\n",
            "}\n",
            "\n"
          ]
        }
      ],
      "source": [
        "if ok_onnx:\n",
        "    onnx_model = convert_sklearn(clr, 'model', [('input', FloatTensorType([1, clr.coef_.shape[0]]))])\n",
        "    save_model(onnx_model, 'model.onnx')\n",
        "    \n",
        "    model_onnx = onnx.load('model.onnx')\n",
        "    print(\"Mod\u00e8le s\u00e9rialis\u00e9 au format ONNX\")\n",
        "    print(model_onnx)\n",
        "else:\n",
        "    print(\"onnx, onnxmltools, onnxruntime sont disponibles.\")"
      ]
    },
    {
      "cell_type": "markdown",
      "metadata": {},
      "source": [
        "On calcule les pr\u00e9dictions. Le module {onnxruntime](https://docs.microsoft.com/en-us/python/api/overview/azure/onnx/intro?view=azure-onnx-py) optimise les calculs pour des mod\u00e8les de deep learning. Cela explique pourquoi tous les calculs sont r\u00e9alis\u00e9s avec des r\u00e9els repr\u00e9sent\u00e9s sur 4 octets [numpy.float32](https://docs.scipy.org/doc/numpy/user/basics.types.html?highlight=float32)."
      ]
    },
    {
      "cell_type": "code",
      "execution_count": 69,
      "metadata": {},
      "outputs": [
        {
          "name": "stdout",
          "output_type": "stream",
          "text": [
            "Input: NodeArg(name='input', type='tensor(float)', shape=[1, 10])\n",
            "Output: NodeArg(name='variable', type='tensor(float)', shape=[1, 1])\n",
            "Prediction: [array([[197.61847]], dtype=float32)]\n"
          ]
        }
      ],
      "source": [
        "if ok_onnx:\n",
        "    sess = onnxruntime.InferenceSession(\"model.onnx\")\n",
        "    for i in sess.get_inputs():\n",
        "        print('Input:', i)\n",
        "    for o in sess.get_outputs():\n",
        "        print('Output:', o)\n",
        "    \n",
        "    def predict_onnxrt(x):    \n",
        "        return sess.run([\"variable\"], {'input': x})\n",
        "    \n",
        "    print(\"Prediction:\", predict_onnxrt(x.astype(numpy.float32)))"
      ]
    },
    {
      "cell_type": "code",
      "execution_count": 70,
      "metadata": {},
      "outputs": [
        {
          "name": "stdout",
          "output_type": "stream",
          "text": [
            "Moyenne: 15.61 \u00b5s Ecart-type 6.97 \u00b5s (with 100 runs) in [11.03 \u00b5s, 28.25 \u00b5s]\n",
            "Moyenne: 16.05 \u00b5s Ecart-type 6.55 \u00b5s (with 100 runs) in [12.40 \u00b5s, 31.08 \u00b5s]\n"
          ]
        }
      ],
      "source": [
        "if ok_onnx:\n",
        "    x32 = x.astype(numpy.float32)\n",
        "    memo_time.append(timeexe(\"onnxruntime-float32\", \"predict_onnxrt(x32)\"))\n",
        "    memo_time.append(timeexe(\"onnxruntime-float64\", \"predict_onnxrt(x.astype(numpy.float32))\"))"
      ]
    },
    {
      "cell_type": "markdown",
      "metadata": {},
      "source": [
        "### R\u00e9capitulatif"
      ]
    },
    {
      "cell_type": "code",
      "execution_count": 71,
      "metadata": {},
      "outputs": [
        {
          "data": {
            "text/html": [
              "<div>\n",
              "<style scoped>\n",
              "    .dataframe tbody tr th:only-of-type {\n",
              "        vertical-align: middle;\n",
              "    }\n",
              "\n",
              "    .dataframe tbody tr th {\n",
              "        vertical-align: top;\n",
              "    }\n",
              "\n",
              "    .dataframe thead th {\n",
              "        text-align: right;\n",
              "    }\n",
              "</style>\n",
              "<table border=\"1\" class=\"dataframe\">\n",
              "  <thead>\n",
              "    <tr style=\"text-align: right;\">\n",
              "      <th></th>\n",
              "      <th>average</th>\n",
              "      <th>code</th>\n",
              "      <th>deviation</th>\n",
              "      <th>first</th>\n",
              "      <th>first3</th>\n",
              "      <th>last3</th>\n",
              "      <th>max5</th>\n",
              "      <th>min5</th>\n",
              "      <th>repeat</th>\n",
              "      <th>run</th>\n",
              "    </tr>\n",
              "    <tr>\n",
              "      <th>legend</th>\n",
              "      <th></th>\n",
              "      <th></th>\n",
              "      <th></th>\n",
              "      <th></th>\n",
              "      <th></th>\n",
              "      <th></th>\n",
              "      <th></th>\n",
              "      <th></th>\n",
              "      <th></th>\n",
              "      <th></th>\n",
              "    </tr>\n",
              "  </thead>\n",
              "  <tbody>\n",
              "    <tr>\n",
              "      <th>cffi-linreg-custom</th>\n",
              "      <td>4.009315e-07</td>\n",
              "      <td>linreg_custom(cptr_x, cptr_out)</td>\n",
              "      <td>1.764600e-07</td>\n",
              "      <td>6.242000e-07</td>\n",
              "      <td>4.846133e-07</td>\n",
              "      <td>3.358033e-07</td>\n",
              "      <td>6.558000e-07</td>\n",
              "      <td>3.200000e-07</td>\n",
              "      <td>1000</td>\n",
              "      <td>100</td>\n",
              "    </tr>\n",
              "    <tr>\n",
              "      <th>cffi-linreg-custom-float32</th>\n",
              "      <td>4.990487e-07</td>\n",
              "      <td>linreg_custom_float(cptr_x, cptr_out)</td>\n",
              "      <td>2.503353e-07</td>\n",
              "      <td>1.872590e-06</td>\n",
              "      <td>1.696127e-06</td>\n",
              "      <td>3.318500e-07</td>\n",
              "      <td>1.050860e-06</td>\n",
              "      <td>3.318500e-07</td>\n",
              "      <td>1000</td>\n",
              "      <td>100</td>\n",
              "    </tr>\n",
              "    <tr>\n",
              "      <th>cffi-linreg-custom-float32-simd</th>\n",
              "      <td>5.154674e-07</td>\n",
              "      <td>linreg_custom_float_simd(cptr_x, cptr_out)</td>\n",
              "      <td>6.632466e-07</td>\n",
              "      <td>1.426170e-06</td>\n",
              "      <td>8.032900e-07</td>\n",
              "      <td>3.186800e-07</td>\n",
              "      <td>9.876500e-07</td>\n",
              "      <td>3.160500e-07</td>\n",
              "      <td>1000</td>\n",
              "      <td>100</td>\n",
              "    </tr>\n",
              "    <tr>\n",
              "      <th>cffi-linreg</th>\n",
              "      <td>7.814973e-07</td>\n",
              "      <td>lib.linreg(n, cptr_x, cptr_coef, clr.intercept...</td>\n",
              "      <td>5.413422e-07</td>\n",
              "      <td>2.014810e-06</td>\n",
              "      <td>1.189137e-06</td>\n",
              "      <td>4.635367e-07</td>\n",
              "      <td>1.434070e-06</td>\n",
              "      <td>4.582700e-07</td>\n",
              "      <td>1000</td>\n",
              "      <td>100</td>\n",
              "    </tr>\n",
              "    <tr>\n",
              "      <th>numba-linreg-type-custom</th>\n",
              "      <td>9.589350e-07</td>\n",
              "      <td>predict_clr_numba_cast_custom(x[0])</td>\n",
              "      <td>4.925960e-07</td>\n",
              "      <td>2.378270e-06</td>\n",
              "      <td>1.643453e-06</td>\n",
              "      <td>7.045267e-07</td>\n",
              "      <td>1.904190e-06</td>\n",
              "      <td>6.874000e-07</td>\n",
              "      <td>1000</td>\n",
              "      <td>100</td>\n",
              "    </tr>\n",
              "    <tr>\n",
              "      <th>numba-linreg-type-float32</th>\n",
              "      <td>1.172766e-06</td>\n",
              "      <td>predict_clr_numba_cast_float(x32, c32, i32)</td>\n",
              "      <td>5.360108e-06</td>\n",
              "      <td>1.923940e-06</td>\n",
              "      <td>1.834397e-06</td>\n",
              "      <td>5.820567e-07</td>\n",
              "      <td>2.034570e-06</td>\n",
              "      <td>5.807300e-07</td>\n",
              "      <td>1000</td>\n",
              "      <td>100</td>\n",
              "    </tr>\n",
              "    <tr>\n",
              "      <th>numba-linreg-type</th>\n",
              "      <td>1.298707e-06</td>\n",
              "      <td>predict_clr_numba_cast(x[0], clr.coef_, clr.in...</td>\n",
              "      <td>1.449341e-06</td>\n",
              "      <td>1.536790e-06</td>\n",
              "      <td>1.609217e-06</td>\n",
              "      <td>8.230467e-07</td>\n",
              "      <td>2.496790e-06</td>\n",
              "      <td>8.217200e-07</td>\n",
              "      <td>1000</td>\n",
              "      <td>100</td>\n",
              "    </tr>\n",
              "    <tr>\n",
              "      <th>cython-linreg-type</th>\n",
              "      <td>1.823557e-06</td>\n",
              "      <td>predict_clr_cython_type(x[0], clr.coef_, clr.i...</td>\n",
              "      <td>1.099262e-06</td>\n",
              "      <td>2.686420e-06</td>\n",
              "      <td>2.604770e-06</td>\n",
              "      <td>1.373493e-06</td>\n",
              "      <td>3.662210e-06</td>\n",
              "      <td>1.370860e-06</td>\n",
              "      <td>1000</td>\n",
              "      <td>100</td>\n",
              "    </tr>\n",
              "    <tr>\n",
              "      <th>python-linreg-custom</th>\n",
              "      <td>3.145976e-06</td>\n",
              "      <td>predict_clr_python(z)</td>\n",
              "      <td>1.809140e-06</td>\n",
              "      <td>2.050370e-06</td>\n",
              "      <td>2.639007e-06</td>\n",
              "      <td>2.004277e-06</td>\n",
              "      <td>6.317020e-06</td>\n",
              "      <td>1.999000e-06</td>\n",
              "      <td>1000</td>\n",
              "      <td>100</td>\n",
              "    </tr>\n",
              "    <tr>\n",
              "      <th>cython-linreg</th>\n",
              "      <td>3.549171e-06</td>\n",
              "      <td>predict_clr_cython(x[0], clr.coef_, clr.interc...</td>\n",
              "      <td>2.192735e-06</td>\n",
              "      <td>2.374320e-06</td>\n",
              "      <td>5.358343e-06</td>\n",
              "      <td>2.312423e-06</td>\n",
              "      <td>7.818250e-06</td>\n",
              "      <td>2.275550e-06</td>\n",
              "      <td>1000</td>\n",
              "      <td>100</td>\n",
              "    </tr>\n",
              "    <tr>\n",
              "      <th>cffi-linreg-custom wrapped</th>\n",
              "      <td>5.525170e-06</td>\n",
              "      <td>predict_clr_custom(x)</td>\n",
              "      <td>2.166771e-06</td>\n",
              "      <td>2.072489e-05</td>\n",
              "      <td>1.716407e-05</td>\n",
              "      <td>5.105500e-06</td>\n",
              "      <td>8.505650e-06</td>\n",
              "      <td>4.851350e-06</td>\n",
              "      <td>1000</td>\n",
              "      <td>100</td>\n",
              "    </tr>\n",
              "    <tr>\n",
              "      <th>python-linreg</th>\n",
              "      <td>5.870797e-06</td>\n",
              "      <td>predict_clr_python_loop(z, coef, intercept)</td>\n",
              "      <td>3.951088e-06</td>\n",
              "      <td>7.553560e-06</td>\n",
              "      <td>7.607550e-06</td>\n",
              "      <td>8.828290e-06</td>\n",
              "      <td>1.008195e-05</td>\n",
              "      <td>3.476540e-06</td>\n",
              "      <td>1000</td>\n",
              "      <td>100</td>\n",
              "    </tr>\n",
              "    <tr>\n",
              "      <th>cffi-linreg-custom-float wrapped</th>\n",
              "      <td>7.205320e-06</td>\n",
              "      <td>predict_clr_custom(x32)</td>\n",
              "      <td>3.586173e-06</td>\n",
              "      <td>1.277626e-05</td>\n",
              "      <td>2.182579e-05</td>\n",
              "      <td>5.596693e-06</td>\n",
              "      <td>1.325824e-05</td>\n",
              "      <td>5.151590e-06</td>\n",
              "      <td>1000</td>\n",
              "      <td>100</td>\n",
              "    </tr>\n",
              "    <tr>\n",
              "      <th>cffi-linreg-wrapped</th>\n",
              "      <td>8.209533e-06</td>\n",
              "      <td>predict_clr(x, clr)</td>\n",
              "      <td>3.681237e-06</td>\n",
              "      <td>2.280685e-05</td>\n",
              "      <td>2.301624e-05</td>\n",
              "      <td>6.889860e-06</td>\n",
              "      <td>1.430121e-05</td>\n",
              "      <td>6.862210e-06</td>\n",
              "      <td>1000</td>\n",
              "      <td>100</td>\n",
              "    </tr>\n",
              "    <tr>\n",
              "      <th>numba-linreg-type-numpy</th>\n",
              "      <td>8.311518e-06</td>\n",
              "      <td>predict_clr_numba_numpy(x[0], clr.coef_, clr.i...</td>\n",
              "      <td>4.030476e-06</td>\n",
              "      <td>1.464885e-05</td>\n",
              "      <td>1.980176e-05</td>\n",
              "      <td>6.020723e-06</td>\n",
              "      <td>1.530465e-05</td>\n",
              "      <td>5.839000e-06</td>\n",
              "      <td>1000</td>\n",
              "      <td>100</td>\n",
              "    </tr>\n",
              "    <tr>\n",
              "      <th>numpy-linreg-numpy</th>\n",
              "      <td>9.970611e-06</td>\n",
              "      <td>predict_clr_numpy(z, coef, clr.intercept_)</td>\n",
              "      <td>4.957268e-06</td>\n",
              "      <td>2.051550e-05</td>\n",
              "      <td>2.859581e-05</td>\n",
              "      <td>7.527227e-06</td>\n",
              "      <td>1.961871e-05</td>\n",
              "      <td>7.367890e-06</td>\n",
              "      <td>1000</td>\n",
              "      <td>100</td>\n",
              "    </tr>\n",
              "    <tr>\n",
              "      <th>onnxruntime-float32</th>\n",
              "      <td>1.560984e-05</td>\n",
              "      <td>predict_onnxrt(x32)</td>\n",
              "      <td>6.973393e-06</td>\n",
              "      <td>1.163454e-05</td>\n",
              "      <td>1.123553e-05</td>\n",
              "      <td>1.194664e-05</td>\n",
              "      <td>2.825475e-05</td>\n",
              "      <td>1.102615e-05</td>\n",
              "      <td>1000</td>\n",
              "      <td>100</td>\n",
              "    </tr>\n",
              "    <tr>\n",
              "      <th>onnxruntime-float64</th>\n",
              "      <td>1.605105e-05</td>\n",
              "      <td>predict_onnxrt(x.astype(numpy.float32))</td>\n",
              "      <td>6.550978e-06</td>\n",
              "      <td>1.372046e-05</td>\n",
              "      <td>1.322795e-05</td>\n",
              "      <td>1.264326e-05</td>\n",
              "      <td>3.108338e-05</td>\n",
              "      <td>1.240491e-05</td>\n",
              "      <td>1000</td>\n",
              "      <td>100</td>\n",
              "    </tr>\n",
              "    <tr>\n",
              "      <th>numba-linreg-notype</th>\n",
              "      <td>3.212648e-05</td>\n",
              "      <td>predict_clr_numba(z, clr.coef_, clr.intercept_)</td>\n",
              "      <td>1.574220e-05</td>\n",
              "      <td>5.915245e-05</td>\n",
              "      <td>8.600210e-05</td>\n",
              "      <td>3.796139e-05</td>\n",
              "      <td>5.950406e-05</td>\n",
              "      <td>2.077230e-05</td>\n",
              "      <td>1000</td>\n",
              "      <td>100</td>\n",
              "    </tr>\n",
              "    <tr>\n",
              "      <th>sklearn.predict</th>\n",
              "      <td>3.723909e-05</td>\n",
              "      <td>clr.predict(z)</td>\n",
              "      <td>1.834971e-05</td>\n",
              "      <td>8.333412e-05</td>\n",
              "      <td>8.313264e-05</td>\n",
              "      <td>3.150083e-05</td>\n",
              "      <td>5.907344e-05</td>\n",
              "      <td>3.090165e-05</td>\n",
              "      <td>1000</td>\n",
              "      <td>100</td>\n",
              "    </tr>\n",
              "  </tbody>\n",
              "</table>\n",
              "</div>"
            ],
            "text/plain": [
              "                                       average  \\\n",
              "legend                                           \n",
              "cffi-linreg-custom                4.009315e-07   \n",
              "cffi-linreg-custom-float32        4.990487e-07   \n",
              "cffi-linreg-custom-float32-simd   5.154674e-07   \n",
              "cffi-linreg                       7.814973e-07   \n",
              "numba-linreg-type-custom          9.589350e-07   \n",
              "numba-linreg-type-float32         1.172766e-06   \n",
              "numba-linreg-type                 1.298707e-06   \n",
              "cython-linreg-type                1.823557e-06   \n",
              "python-linreg-custom              3.145976e-06   \n",
              "cython-linreg                     3.549171e-06   \n",
              "cffi-linreg-custom wrapped        5.525170e-06   \n",
              "python-linreg                     5.870797e-06   \n",
              "cffi-linreg-custom-float wrapped  7.205320e-06   \n",
              "cffi-linreg-wrapped               8.209533e-06   \n",
              "numba-linreg-type-numpy           8.311518e-06   \n",
              "numpy-linreg-numpy                9.970611e-06   \n",
              "onnxruntime-float32               1.560984e-05   \n",
              "onnxruntime-float64               1.605105e-05   \n",
              "numba-linreg-notype               3.212648e-05   \n",
              "sklearn.predict                   3.723909e-05   \n",
              "\n",
              "                                                                               code  \\\n",
              "legend                                                                                \n",
              "cffi-linreg-custom                                  linreg_custom(cptr_x, cptr_out)   \n",
              "cffi-linreg-custom-float32                    linreg_custom_float(cptr_x, cptr_out)   \n",
              "cffi-linreg-custom-float32-simd          linreg_custom_float_simd(cptr_x, cptr_out)   \n",
              "cffi-linreg                       lib.linreg(n, cptr_x, cptr_coef, clr.intercept...   \n",
              "numba-linreg-type-custom                        predict_clr_numba_cast_custom(x[0])   \n",
              "numba-linreg-type-float32               predict_clr_numba_cast_float(x32, c32, i32)   \n",
              "numba-linreg-type                 predict_clr_numba_cast(x[0], clr.coef_, clr.in...   \n",
              "cython-linreg-type                predict_clr_cython_type(x[0], clr.coef_, clr.i...   \n",
              "python-linreg-custom                                          predict_clr_python(z)   \n",
              "cython-linreg                     predict_clr_cython(x[0], clr.coef_, clr.interc...   \n",
              "cffi-linreg-custom wrapped                                    predict_clr_custom(x)   \n",
              "python-linreg                           predict_clr_python_loop(z, coef, intercept)   \n",
              "cffi-linreg-custom-float wrapped                            predict_clr_custom(x32)   \n",
              "cffi-linreg-wrapped                                             predict_clr(x, clr)   \n",
              "numba-linreg-type-numpy           predict_clr_numba_numpy(x[0], clr.coef_, clr.i...   \n",
              "numpy-linreg-numpy                       predict_clr_numpy(z, coef, clr.intercept_)   \n",
              "onnxruntime-float32                                             predict_onnxrt(x32)   \n",
              "onnxruntime-float64                         predict_onnxrt(x.astype(numpy.float32))   \n",
              "numba-linreg-notype                 predict_clr_numba(z, clr.coef_, clr.intercept_)   \n",
              "sklearn.predict                                                      clr.predict(z)   \n",
              "\n",
              "                                     deviation         first        first3  \\\n",
              "legend                                                                       \n",
              "cffi-linreg-custom                1.764600e-07  6.242000e-07  4.846133e-07   \n",
              "cffi-linreg-custom-float32        2.503353e-07  1.872590e-06  1.696127e-06   \n",
              "cffi-linreg-custom-float32-simd   6.632466e-07  1.426170e-06  8.032900e-07   \n",
              "cffi-linreg                       5.413422e-07  2.014810e-06  1.189137e-06   \n",
              "numba-linreg-type-custom          4.925960e-07  2.378270e-06  1.643453e-06   \n",
              "numba-linreg-type-float32         5.360108e-06  1.923940e-06  1.834397e-06   \n",
              "numba-linreg-type                 1.449341e-06  1.536790e-06  1.609217e-06   \n",
              "cython-linreg-type                1.099262e-06  2.686420e-06  2.604770e-06   \n",
              "python-linreg-custom              1.809140e-06  2.050370e-06  2.639007e-06   \n",
              "cython-linreg                     2.192735e-06  2.374320e-06  5.358343e-06   \n",
              "cffi-linreg-custom wrapped        2.166771e-06  2.072489e-05  1.716407e-05   \n",
              "python-linreg                     3.951088e-06  7.553560e-06  7.607550e-06   \n",
              "cffi-linreg-custom-float wrapped  3.586173e-06  1.277626e-05  2.182579e-05   \n",
              "cffi-linreg-wrapped               3.681237e-06  2.280685e-05  2.301624e-05   \n",
              "numba-linreg-type-numpy           4.030476e-06  1.464885e-05  1.980176e-05   \n",
              "numpy-linreg-numpy                4.957268e-06  2.051550e-05  2.859581e-05   \n",
              "onnxruntime-float32               6.973393e-06  1.163454e-05  1.123553e-05   \n",
              "onnxruntime-float64               6.550978e-06  1.372046e-05  1.322795e-05   \n",
              "numba-linreg-notype               1.574220e-05  5.915245e-05  8.600210e-05   \n",
              "sklearn.predict                   1.834971e-05  8.333412e-05  8.313264e-05   \n",
              "\n",
              "                                         last3          max5          min5  \\\n",
              "legend                                                                       \n",
              "cffi-linreg-custom                3.358033e-07  6.558000e-07  3.200000e-07   \n",
              "cffi-linreg-custom-float32        3.318500e-07  1.050860e-06  3.318500e-07   \n",
              "cffi-linreg-custom-float32-simd   3.186800e-07  9.876500e-07  3.160500e-07   \n",
              "cffi-linreg                       4.635367e-07  1.434070e-06  4.582700e-07   \n",
              "numba-linreg-type-custom          7.045267e-07  1.904190e-06  6.874000e-07   \n",
              "numba-linreg-type-float32         5.820567e-07  2.034570e-06  5.807300e-07   \n",
              "numba-linreg-type                 8.230467e-07  2.496790e-06  8.217200e-07   \n",
              "cython-linreg-type                1.373493e-06  3.662210e-06  1.370860e-06   \n",
              "python-linreg-custom              2.004277e-06  6.317020e-06  1.999000e-06   \n",
              "cython-linreg                     2.312423e-06  7.818250e-06  2.275550e-06   \n",
              "cffi-linreg-custom wrapped        5.105500e-06  8.505650e-06  4.851350e-06   \n",
              "python-linreg                     8.828290e-06  1.008195e-05  3.476540e-06   \n",
              "cffi-linreg-custom-float wrapped  5.596693e-06  1.325824e-05  5.151590e-06   \n",
              "cffi-linreg-wrapped               6.889860e-06  1.430121e-05  6.862210e-06   \n",
              "numba-linreg-type-numpy           6.020723e-06  1.530465e-05  5.839000e-06   \n",
              "numpy-linreg-numpy                7.527227e-06  1.961871e-05  7.367890e-06   \n",
              "onnxruntime-float32               1.194664e-05  2.825475e-05  1.102615e-05   \n",
              "onnxruntime-float64               1.264326e-05  3.108338e-05  1.240491e-05   \n",
              "numba-linreg-notype               3.796139e-05  5.950406e-05  2.077230e-05   \n",
              "sklearn.predict                   3.150083e-05  5.907344e-05  3.090165e-05   \n",
              "\n",
              "                                  repeat  run  \n",
              "legend                                         \n",
              "cffi-linreg-custom                  1000  100  \n",
              "cffi-linreg-custom-float32          1000  100  \n",
              "cffi-linreg-custom-float32-simd     1000  100  \n",
              "cffi-linreg                         1000  100  \n",
              "numba-linreg-type-custom            1000  100  \n",
              "numba-linreg-type-float32           1000  100  \n",
              "numba-linreg-type                   1000  100  \n",
              "cython-linreg-type                  1000  100  \n",
              "python-linreg-custom                1000  100  \n",
              "cython-linreg                       1000  100  \n",
              "cffi-linreg-custom wrapped          1000  100  \n",
              "python-linreg                       1000  100  \n",
              "cffi-linreg-custom-float wrapped    1000  100  \n",
              "cffi-linreg-wrapped                 1000  100  \n",
              "numba-linreg-type-numpy             1000  100  \n",
              "numpy-linreg-numpy                  1000  100  \n",
              "onnxruntime-float32                 1000  100  \n",
              "onnxruntime-float64                 1000  100  \n",
              "numba-linreg-notype                 1000  100  \n",
              "sklearn.predict                     1000  100  "
            ]
          },
          "execution_count": 72,
          "metadata": {},
          "output_type": "execute_result"
        }
      ],
      "source": [
        "import pandas\n",
        "df = pandas.DataFrame(data=memo_time)\n",
        "df = df.set_index(\"legend\").sort_values(\"average\")\n",
        "df"
      ]
    },
    {
      "cell_type": "markdown",
      "metadata": {},
      "source": [
        "On enl\u00e8ve quelques colonnes et on rappelle :\n",
        "\n",
        "* **cffi**: signifie optimis\u00e9 avec cffi\n",
        "* **custom**: pas de boucle mais la fonction ne peut pr\u00e9dire qu'une seule r\u00e9gression lin\u00e9aire\n",
        "* **float32**: utilise des float et non des double\n",
        "* **linreg**: r\u00e9gression lin\u00e9aire\n",
        "* **numba**: optimisation avec numba\n",
        "* **numpy**: optimisation avec numpy\n",
        "* **python**: pas de C, que du python\n",
        "* **simd**: optimis\u00e9 avec les instructions SIMD\n",
        "* **sklearn**: fonction sklearn.predict\n",
        "* **static**: la fonction utilise des variables statiques\n",
        "* **type**: la fonction est typ\u00e9e et ne fonctionne qu'avec un type pr\u00e9cis en entr\u00e9e.\n",
        "* **wrapped**: code optimis\u00e9 mais embabll\u00e9 dans une fonction Python qui elle ne l'est pas (les containers sont recr\u00e9\u00e9s \u00e0 chaque fois)"
      ]
    },
    {
      "cell_type": "code",
      "execution_count": 72,
      "metadata": {
        "scrolled": false
      },
      "outputs": [
        {
          "data": {
            "text/html": [
              "<div>\n",
              "<style scoped>\n",
              "    .dataframe tbody tr th:only-of-type {\n",
              "        vertical-align: middle;\n",
              "    }\n",
              "\n",
              "    .dataframe tbody tr th {\n",
              "        vertical-align: top;\n",
              "    }\n",
              "\n",
              "    .dataframe thead th {\n",
              "        text-align: right;\n",
              "    }\n",
              "</style>\n",
              "<table border=\"1\" class=\"dataframe\">\n",
              "  <thead>\n",
              "    <tr style=\"text-align: right;\">\n",
              "      <th></th>\n",
              "      <th>average</th>\n",
              "      <th>deviation</th>\n",
              "      <th>min5</th>\n",
              "      <th>max5</th>\n",
              "      <th>run</th>\n",
              "      <th>code</th>\n",
              "    </tr>\n",
              "    <tr>\n",
              "      <th>legend</th>\n",
              "      <th></th>\n",
              "      <th></th>\n",
              "      <th></th>\n",
              "      <th></th>\n",
              "      <th></th>\n",
              "      <th></th>\n",
              "    </tr>\n",
              "  </thead>\n",
              "  <tbody>\n",
              "    <tr>\n",
              "      <th>cffi-linreg-custom</th>\n",
              "      <td>4.009315e-07</td>\n",
              "      <td>1.764600e-07</td>\n",
              "      <td>3.200000e-07</td>\n",
              "      <td>6.558000e-07</td>\n",
              "      <td>100</td>\n",
              "      <td>linreg_custom(cptr_x, cptr_out)</td>\n",
              "    </tr>\n",
              "    <tr>\n",
              "      <th>cffi-linreg-custom-float32</th>\n",
              "      <td>4.990487e-07</td>\n",
              "      <td>2.503353e-07</td>\n",
              "      <td>3.318500e-07</td>\n",
              "      <td>1.050860e-06</td>\n",
              "      <td>100</td>\n",
              "      <td>linreg_custom_float(cptr_x, cptr_out)</td>\n",
              "    </tr>\n",
              "    <tr>\n",
              "      <th>cffi-linreg-custom-float32-simd</th>\n",
              "      <td>5.154674e-07</td>\n",
              "      <td>6.632466e-07</td>\n",
              "      <td>3.160500e-07</td>\n",
              "      <td>9.876500e-07</td>\n",
              "      <td>100</td>\n",
              "      <td>linreg_custom_float_simd(cptr_x, cptr_out)</td>\n",
              "    </tr>\n",
              "    <tr>\n",
              "      <th>cffi-linreg</th>\n",
              "      <td>7.814973e-07</td>\n",
              "      <td>5.413422e-07</td>\n",
              "      <td>4.582700e-07</td>\n",
              "      <td>1.434070e-06</td>\n",
              "      <td>100</td>\n",
              "      <td>lib.linreg(n, cptr_x, cptr_coef, clr.intercept...</td>\n",
              "    </tr>\n",
              "    <tr>\n",
              "      <th>numba-linreg-type-custom</th>\n",
              "      <td>9.589350e-07</td>\n",
              "      <td>4.925960e-07</td>\n",
              "      <td>6.874000e-07</td>\n",
              "      <td>1.904190e-06</td>\n",
              "      <td>100</td>\n",
              "      <td>predict_clr_numba_cast_custom(x[0])</td>\n",
              "    </tr>\n",
              "    <tr>\n",
              "      <th>numba-linreg-type-float32</th>\n",
              "      <td>1.172766e-06</td>\n",
              "      <td>5.360108e-06</td>\n",
              "      <td>5.807300e-07</td>\n",
              "      <td>2.034570e-06</td>\n",
              "      <td>100</td>\n",
              "      <td>predict_clr_numba_cast_float(x32, c32, i32)</td>\n",
              "    </tr>\n",
              "    <tr>\n",
              "      <th>numba-linreg-type</th>\n",
              "      <td>1.298707e-06</td>\n",
              "      <td>1.449341e-06</td>\n",
              "      <td>8.217200e-07</td>\n",
              "      <td>2.496790e-06</td>\n",
              "      <td>100</td>\n",
              "      <td>predict_clr_numba_cast(x[0], clr.coef_, clr.in...</td>\n",
              "    </tr>\n",
              "    <tr>\n",
              "      <th>cython-linreg-type</th>\n",
              "      <td>1.823557e-06</td>\n",
              "      <td>1.099262e-06</td>\n",
              "      <td>1.370860e-06</td>\n",
              "      <td>3.662210e-06</td>\n",
              "      <td>100</td>\n",
              "      <td>predict_clr_cython_type(x[0], clr.coef_, clr.i...</td>\n",
              "    </tr>\n",
              "    <tr>\n",
              "      <th>python-linreg-custom</th>\n",
              "      <td>3.145976e-06</td>\n",
              "      <td>1.809140e-06</td>\n",
              "      <td>1.999000e-06</td>\n",
              "      <td>6.317020e-06</td>\n",
              "      <td>100</td>\n",
              "      <td>predict_clr_python(z)</td>\n",
              "    </tr>\n",
              "    <tr>\n",
              "      <th>cython-linreg</th>\n",
              "      <td>3.549171e-06</td>\n",
              "      <td>2.192735e-06</td>\n",
              "      <td>2.275550e-06</td>\n",
              "      <td>7.818250e-06</td>\n",
              "      <td>100</td>\n",
              "      <td>predict_clr_cython(x[0], clr.coef_, clr.interc...</td>\n",
              "    </tr>\n",
              "    <tr>\n",
              "      <th>cffi-linreg-custom wrapped</th>\n",
              "      <td>5.525170e-06</td>\n",
              "      <td>2.166771e-06</td>\n",
              "      <td>4.851350e-06</td>\n",
              "      <td>8.505650e-06</td>\n",
              "      <td>100</td>\n",
              "      <td>predict_clr_custom(x)</td>\n",
              "    </tr>\n",
              "    <tr>\n",
              "      <th>python-linreg</th>\n",
              "      <td>5.870797e-06</td>\n",
              "      <td>3.951088e-06</td>\n",
              "      <td>3.476540e-06</td>\n",
              "      <td>1.008195e-05</td>\n",
              "      <td>100</td>\n",
              "      <td>predict_clr_python_loop(z, coef, intercept)</td>\n",
              "    </tr>\n",
              "    <tr>\n",
              "      <th>cffi-linreg-custom-float wrapped</th>\n",
              "      <td>7.205320e-06</td>\n",
              "      <td>3.586173e-06</td>\n",
              "      <td>5.151590e-06</td>\n",
              "      <td>1.325824e-05</td>\n",
              "      <td>100</td>\n",
              "      <td>predict_clr_custom(x32)</td>\n",
              "    </tr>\n",
              "    <tr>\n",
              "      <th>cffi-linreg-wrapped</th>\n",
              "      <td>8.209533e-06</td>\n",
              "      <td>3.681237e-06</td>\n",
              "      <td>6.862210e-06</td>\n",
              "      <td>1.430121e-05</td>\n",
              "      <td>100</td>\n",
              "      <td>predict_clr(x, clr)</td>\n",
              "    </tr>\n",
              "    <tr>\n",
              "      <th>numba-linreg-type-numpy</th>\n",
              "      <td>8.311518e-06</td>\n",
              "      <td>4.030476e-06</td>\n",
              "      <td>5.839000e-06</td>\n",
              "      <td>1.530465e-05</td>\n",
              "      <td>100</td>\n",
              "      <td>predict_clr_numba_numpy(x[0], clr.coef_, clr.i...</td>\n",
              "    </tr>\n",
              "    <tr>\n",
              "      <th>numpy-linreg-numpy</th>\n",
              "      <td>9.970611e-06</td>\n",
              "      <td>4.957268e-06</td>\n",
              "      <td>7.367890e-06</td>\n",
              "      <td>1.961871e-05</td>\n",
              "      <td>100</td>\n",
              "      <td>predict_clr_numpy(z, coef, clr.intercept_)</td>\n",
              "    </tr>\n",
              "    <tr>\n",
              "      <th>onnxruntime-float32</th>\n",
              "      <td>1.560984e-05</td>\n",
              "      <td>6.973393e-06</td>\n",
              "      <td>1.102615e-05</td>\n",
              "      <td>2.825475e-05</td>\n",
              "      <td>100</td>\n",
              "      <td>predict_onnxrt(x32)</td>\n",
              "    </tr>\n",
              "    <tr>\n",
              "      <th>onnxruntime-float64</th>\n",
              "      <td>1.605105e-05</td>\n",
              "      <td>6.550978e-06</td>\n",
              "      <td>1.240491e-05</td>\n",
              "      <td>3.108338e-05</td>\n",
              "      <td>100</td>\n",
              "      <td>predict_onnxrt(x.astype(numpy.float32))</td>\n",
              "    </tr>\n",
              "    <tr>\n",
              "      <th>numba-linreg-notype</th>\n",
              "      <td>3.212648e-05</td>\n",
              "      <td>1.574220e-05</td>\n",
              "      <td>2.077230e-05</td>\n",
              "      <td>5.950406e-05</td>\n",
              "      <td>100</td>\n",
              "      <td>predict_clr_numba(z, clr.coef_, clr.intercept_)</td>\n",
              "    </tr>\n",
              "    <tr>\n",
              "      <th>sklearn.predict</th>\n",
              "      <td>3.723909e-05</td>\n",
              "      <td>1.834971e-05</td>\n",
              "      <td>3.090165e-05</td>\n",
              "      <td>5.907344e-05</td>\n",
              "      <td>100</td>\n",
              "      <td>clr.predict(z)</td>\n",
              "    </tr>\n",
              "  </tbody>\n",
              "</table>\n",
              "</div>"
            ],
            "text/plain": [
              "                                       average     deviation          min5  \\\n",
              "legend                                                                       \n",
              "cffi-linreg-custom                4.009315e-07  1.764600e-07  3.200000e-07   \n",
              "cffi-linreg-custom-float32        4.990487e-07  2.503353e-07  3.318500e-07   \n",
              "cffi-linreg-custom-float32-simd   5.154674e-07  6.632466e-07  3.160500e-07   \n",
              "cffi-linreg                       7.814973e-07  5.413422e-07  4.582700e-07   \n",
              "numba-linreg-type-custom          9.589350e-07  4.925960e-07  6.874000e-07   \n",
              "numba-linreg-type-float32         1.172766e-06  5.360108e-06  5.807300e-07   \n",
              "numba-linreg-type                 1.298707e-06  1.449341e-06  8.217200e-07   \n",
              "cython-linreg-type                1.823557e-06  1.099262e-06  1.370860e-06   \n",
              "python-linreg-custom              3.145976e-06  1.809140e-06  1.999000e-06   \n",
              "cython-linreg                     3.549171e-06  2.192735e-06  2.275550e-06   \n",
              "cffi-linreg-custom wrapped        5.525170e-06  2.166771e-06  4.851350e-06   \n",
              "python-linreg                     5.870797e-06  3.951088e-06  3.476540e-06   \n",
              "cffi-linreg-custom-float wrapped  7.205320e-06  3.586173e-06  5.151590e-06   \n",
              "cffi-linreg-wrapped               8.209533e-06  3.681237e-06  6.862210e-06   \n",
              "numba-linreg-type-numpy           8.311518e-06  4.030476e-06  5.839000e-06   \n",
              "numpy-linreg-numpy                9.970611e-06  4.957268e-06  7.367890e-06   \n",
              "onnxruntime-float32               1.560984e-05  6.973393e-06  1.102615e-05   \n",
              "onnxruntime-float64               1.605105e-05  6.550978e-06  1.240491e-05   \n",
              "numba-linreg-notype               3.212648e-05  1.574220e-05  2.077230e-05   \n",
              "sklearn.predict                   3.723909e-05  1.834971e-05  3.090165e-05   \n",
              "\n",
              "                                          max5  run  \\\n",
              "legend                                                \n",
              "cffi-linreg-custom                6.558000e-07  100   \n",
              "cffi-linreg-custom-float32        1.050860e-06  100   \n",
              "cffi-linreg-custom-float32-simd   9.876500e-07  100   \n",
              "cffi-linreg                       1.434070e-06  100   \n",
              "numba-linreg-type-custom          1.904190e-06  100   \n",
              "numba-linreg-type-float32         2.034570e-06  100   \n",
              "numba-linreg-type                 2.496790e-06  100   \n",
              "cython-linreg-type                3.662210e-06  100   \n",
              "python-linreg-custom              6.317020e-06  100   \n",
              "cython-linreg                     7.818250e-06  100   \n",
              "cffi-linreg-custom wrapped        8.505650e-06  100   \n",
              "python-linreg                     1.008195e-05  100   \n",
              "cffi-linreg-custom-float wrapped  1.325824e-05  100   \n",
              "cffi-linreg-wrapped               1.430121e-05  100   \n",
              "numba-linreg-type-numpy           1.530465e-05  100   \n",
              "numpy-linreg-numpy                1.961871e-05  100   \n",
              "onnxruntime-float32               2.825475e-05  100   \n",
              "onnxruntime-float64               3.108338e-05  100   \n",
              "numba-linreg-notype               5.950406e-05  100   \n",
              "sklearn.predict                   5.907344e-05  100   \n",
              "\n",
              "                                                                               code  \n",
              "legend                                                                               \n",
              "cffi-linreg-custom                                  linreg_custom(cptr_x, cptr_out)  \n",
              "cffi-linreg-custom-float32                    linreg_custom_float(cptr_x, cptr_out)  \n",
              "cffi-linreg-custom-float32-simd          linreg_custom_float_simd(cptr_x, cptr_out)  \n",
              "cffi-linreg                       lib.linreg(n, cptr_x, cptr_coef, clr.intercept...  \n",
              "numba-linreg-type-custom                        predict_clr_numba_cast_custom(x[0])  \n",
              "numba-linreg-type-float32               predict_clr_numba_cast_float(x32, c32, i32)  \n",
              "numba-linreg-type                 predict_clr_numba_cast(x[0], clr.coef_, clr.in...  \n",
              "cython-linreg-type                predict_clr_cython_type(x[0], clr.coef_, clr.i...  \n",
              "python-linreg-custom                                          predict_clr_python(z)  \n",
              "cython-linreg                     predict_clr_cython(x[0], clr.coef_, clr.interc...  \n",
              "cffi-linreg-custom wrapped                                    predict_clr_custom(x)  \n",
              "python-linreg                           predict_clr_python_loop(z, coef, intercept)  \n",
              "cffi-linreg-custom-float wrapped                            predict_clr_custom(x32)  \n",
              "cffi-linreg-wrapped                                             predict_clr(x, clr)  \n",
              "numba-linreg-type-numpy           predict_clr_numba_numpy(x[0], clr.coef_, clr.i...  \n",
              "numpy-linreg-numpy                       predict_clr_numpy(z, coef, clr.intercept_)  \n",
              "onnxruntime-float32                                             predict_onnxrt(x32)  \n",
              "onnxruntime-float64                         predict_onnxrt(x.astype(numpy.float32))  \n",
              "numba-linreg-notype                 predict_clr_numba(z, clr.coef_, clr.intercept_)  \n",
              "sklearn.predict                                                      clr.predict(z)  "
            ]
          },
          "execution_count": 73,
          "metadata": {},
          "output_type": "execute_result"
        }
      ],
      "source": [
        "cols = [\"average\", \"deviation\", \"min5\", \"max5\", \"run\", \"code\"]\n",
        "df[cols]"
      ]
    },
    {
      "cell_type": "code",
      "execution_count": 73,
      "metadata": {},
      "outputs": [
        {
          "data": {
            "image/png": "[encoded data removed]",
            "text/plain": [
              "<Figure size 1008x432 with 1 Axes>"
            ]
          },
          "metadata": {
            "needs_background": "light"
          },
          "output_type": "display_data"
        }
      ],
      "source": [
        "%matplotlib inline\n",
        "import matplotlib.pyplot as plt\n",
        "fig, ax = plt.subplots(1, 1, figsize=(14,6))\n",
        "df[[\"average\", \"deviation\"]].plot(kind=\"barh\", logx=True, ax=ax, xerr=\"deviation\",\n",
        "                                  legend=False, fontsize=12, width=0.8)\n",
        "ax.set_ylabel(\"\")\n",
        "ax.grid(b=True, which=\"major\")\n",
        "ax.grid(b=True, which=\"minor\");"
      ]
    },
    {
      "cell_type": "markdown",
      "metadata": {},
      "source": [
        "Il manque \u00e0 ce comparatif le [GPU](https://en.wikipedia.org/wiki/Graphics_processing_unit) mais c'est un peu plus complexe \u00e0 mettre en oeuvre, il faut une carte [GPU](https://fr.wikipedia.org/wiki/Processeur_graphique) et la parall\u00e9lisation n'apporterait pas \u00e9norm\u00e9ment compte tenu de la faible dimension du probl\u00e8me."
      ]
    },
    {
      "cell_type": "markdown",
      "metadata": {},
      "source": [
        "### Pr\u00e9diction one-off et biais de mesure\n",
        "\n",
        "Le graphique pr\u00e9c\u00e9dent montre que la fonction ``predict`` de *scikit-learn* est la plus lente. La premi\u00e8re raison est que ce code est valable pour toutes les r\u00e9gresssions lin\u00e9aires alors que toutes les autres fonctions sont sp\u00e9cialis\u00e9es pour un seul mod\u00e8le. La seconde raison est que le code de *scikit-learn* est optimis\u00e9 pour le calcul de plusieurs pr\u00e9dictions \u00e0 la fois alors que toutes les autres fonctions n'en calcule qu'une seule (sc\u00e9nario dit *one-off*). On compare \u00e0 ce que donnerait unev version purement python et numpy."
      ]
    },
    {
      "cell_type": "code",
      "execution_count": 74,
      "metadata": {},
      "outputs": [
        {
          "data": {
            "text/plain": [
              "array([[197.61846908],\n",
              "       [155.43979328]])"
            ]
          },
          "execution_count": 75,
          "metadata": {},
          "output_type": "execute_result"
        }
      ],
      "source": [
        "def predict_clr_python_loop_multi(x, coef, intercept):    \n",
        "    # On s'attend \u00e0 deux dimension.\n",
        "    res = numpy.zeros((x.shape[0], 1))\n",
        "    res[:, 0] = intercept\n",
        "    for i in range(0, x.shape[0]):\n",
        "        res[i, 0] += sum(a*b for a, b in zip(x[i, :], coef))\n",
        "    return res\n",
        "\n",
        "predict_clr_python_loop_multi(diabetes_X_test[:2], clr.coef_, clr.intercept_)"
      ]
    },
    {
      "cell_type": "code",
      "execution_count": 75,
      "metadata": {},
      "outputs": [
        {
          "data": {
            "text/plain": [
              "array([[197.61846908],\n",
              "       [155.43979328]])"
            ]
          },
          "execution_count": 76,
          "metadata": {},
          "output_type": "execute_result"
        }
      ],
      "source": [
        "def predict_clr_numpy_loop_multi(x, coef, intercept):    \n",
        "    # On s'attend \u00e0 deux dimension.\n",
        "    res = numpy.ones((x.shape[0], 1)) * intercept\n",
        "    res += x @ coef.reshape((len(coef), 1))\n",
        "    return res\n",
        "\n",
        "predict_clr_numpy_loop_multi(diabetes_X_test[:2], clr.coef_, clr.intercept_)"
      ]
    },
    {
      "cell_type": "code",
      "execution_count": 76,
      "metadata": {},
      "outputs": [
        {
          "data": {
            "text/plain": [
              "[197.61846907503298, 155.43979327521237]"
            ]
          },
          "execution_count": 77,
          "metadata": {},
          "output_type": "execute_result"
        }
      ],
      "source": [
        "def predict_clr_numba_cast_multi(X, coef, intercept):\n",
        "    return [predict_clr_numba_cast(x, coef, intercept) for x in X]\n",
        "\n",
        "predict_clr_numba_cast_multi(diabetes_X_test[:2], clr.coef_, clr.intercept_)"
      ]
    },
    {
      "cell_type": "code",
      "execution_count": 77,
      "metadata": {},
      "outputs": [
        {
          "data": {
            "text/plain": [
              "[197.61846907503298, 155.43979327521237]"
            ]
          },
          "execution_count": 78,
          "metadata": {},
          "output_type": "execute_result"
        }
      ],
      "source": [
        "def predict_clr_cython_type_multi(X, coef, intercept):\n",
        "    return [predict_clr_cython_type(x, coef, intercept) for x in X]\n",
        "\n",
        "predict_clr_cython_type_multi(diabetes_X_test[:2], clr.coef_, clr.intercept_)"
      ]
    },
    {
      "cell_type": "code",
      "execution_count": 78,
      "metadata": {
        "scrolled": false
      },
      "outputs": [
        {
          "name": "stdout",
          "output_type": "stream",
          "text": [
            "batch = 1\n",
            "Moyenne: 61.72 \u00b5s Ecart-type 20.51 \u00b5s (with 10 runs) in [36.70 \u00b5s, 100.19 \u00b5s]\n",
            "Moyenne: 12.42 \u00b5s Ecart-type 6.08 \u00b5s (with 10 runs) in [9.92 \u00b5s, 36.42 \u00b5s]\n",
            "Moyenne: 8.15 \u00b5s Ecart-type 1.73 \u00b5s (with 10 runs) in [7.47 \u00b5s, 9.17 \u00b5s]\n",
            "Moyenne: 2.38 \u00b5s Ecart-type 508.42 ns (with 10 runs) in [2.21 \u00b5s, 3.16 \u00b5s]\n",
            "Moyenne: 3.34 \u00b5s Ecart-type 2.32 \u00b5s (with 10 runs) in [2.65 \u00b5s, 6.76 \u00b5s]\n",
            "Moyenne: 20.95 \u00b5s Ecart-type 10.21 \u00b5s (with 10 runs) in [14.85 \u00b5s, 40.61 \u00b5s]\n",
            "batch = 10\n",
            "Moyenne: 51.02 \u00b5s Ecart-type 19.16 \u00b5s (with 10 runs) in [36.46 \u00b5s, 93.71 \u00b5s]\n",
            "Moyenne: 131.17 \u00b5s Ecart-type 64.49 \u00b5s (with 10 runs) in [80.24 \u00b5s, 261.33 \u00b5s]\n",
            "Moyenne: 7.72 \u00b5s Ecart-type 653.54 ns (with 10 runs) in [7.59 \u00b5s, 7.74 \u00b5s]\n",
            "Moyenne: 10.04 \u00b5s Ecart-type 5.02 \u00b5s (with 10 runs) in [9.01 \u00b5s, 15.13 \u00b5s]\n",
            "Moyenne: 19.72 \u00b5s Ecart-type 9.62 \u00b5s (with 10 runs) in [13.95 \u00b5s, 36.23 \u00b5s]\n",
            "Moyenne: 36.17 \u00b5s Ecart-type 6.33 \u00b5s (with 10 runs) in [31.92 \u00b5s, 42.75 \u00b5s]\n",
            "batch = 100\n",
            "Moyenne: 74.33 \u00b5s Ecart-type 43.73 \u00b5s (with 10 runs) in [35.67 \u00b5s, 152.30 \u00b5s]\n",
            "Moyenne: 1.21 ms Ecart-type 478.46 \u00b5s (with 10 runs) in [782.46 \u00b5s, 2.28 ms]\n",
            "Moyenne: 13.86 \u00b5s Ecart-type 9.37 \u00b5s (with 10 runs) in [8.18 \u00b5s, 34.17 \u00b5s]\n",
            "Moyenne: 91.47 \u00b5s Ecart-type 39.33 \u00b5s (with 10 runs) in [75.06 \u00b5s, 205.27 \u00b5s]\n",
            "Moyenne: 166.69 \u00b5s Ecart-type 74.59 \u00b5s (with 10 runs) in [126.10 \u00b5s, 332.92 \u00b5s]\n",
            "Moyenne: 41.07 \u00b5s Ecart-type 15.02 \u00b5s (with 10 runs) in [26.03 \u00b5s, 69.77 \u00b5s]\n",
            "batch = 200\n",
            "Moyenne: 67.71 \u00b5s Ecart-type 42.18 \u00b5s (with 10 runs) in [36.15 \u00b5s, 126.30 \u00b5s]\n",
            "Moyenne: 2.53 ms Ecart-type 734.36 \u00b5s (with 10 runs) in [1.65 ms, 4.07 ms]\n",
            "Moyenne: 16.80 \u00b5s Ecart-type 6.97 \u00b5s (with 10 runs) in [9.05 \u00b5s, 24.02 \u00b5s]\n",
            "Moyenne: 182.37 \u00b5s Ecart-type 73.63 \u00b5s (with 10 runs) in [149.81 \u00b5s, 416.43 \u00b5s]\n",
            "Moyenne: 448.78 \u00b5s Ecart-type 206.74 \u00b5s (with 10 runs) in [252.88 \u00b5s, 841.91 \u00b5s]\n",
            "Moyenne: 47.45 \u00b5s Ecart-type 22.24 \u00b5s (with 10 runs) in [32.47 \u00b5s, 82.41 \u00b5s]\n",
            "batch = 500\n",
            "Moyenne: 44.61 \u00b5s Ecart-type 13.69 \u00b5s (with 10 runs) in [39.59 \u00b5s, 90.75 \u00b5s]\n",
            "Moyenne: 5.09 ms Ecart-type 923.90 \u00b5s (with 10 runs) in [3.97 ms, 7.15 ms]\n",
            "Moyenne: 10.60 \u00b5s Ecart-type 1.09 \u00b5s (with 10 runs) in [10.39 \u00b5s, 10.51 \u00b5s]\n",
            "Moyenne: 442.09 \u00b5s Ecart-type 128.29 \u00b5s (with 10 runs) in [355.32 \u00b5s, 823.74 \u00b5s]\n",
            "Moyenne: 777.43 \u00b5s Ecart-type 208.18 \u00b5s (with 10 runs) in [607.56 \u00b5s, 1.27 ms]\n",
            "Moyenne: 96.23 \u00b5s Ecart-type 50.76 \u00b5s (with 10 runs) in [60.33 \u00b5s, 219.46 \u00b5s]\n",
            "batch = 1000\n",
            "Moyenne: 67.87 \u00b5s Ecart-type 56.17 \u00b5s (with 10 runs) in [44.05 \u00b5s, 222.46 \u00b5s]\n",
            "Moyenne: 10.01 ms Ecart-type 1.75 ms (with 10 runs) in [7.98 ms, 14.46 ms]\n",
            "Moyenne: 17.70 \u00b5s Ecart-type 10.98 \u00b5s (with 10 runs) in [13.59 \u00b5s, 34.69 \u00b5s]\n",
            "Moyenne: 861.28 \u00b5s Ecart-type 216.40 \u00b5s (with 10 runs) in [721.14 \u00b5s, 1.42 ms]\n",
            "Moyenne: 1.25 ms Ecart-type 83.58 \u00b5s (with 10 runs) in [1.21 ms, 1.46 ms]\n",
            "Moyenne: 112.48 \u00b5s Ecart-type 19.49 \u00b5s (with 10 runs) in [105.96 \u00b5s, 147.99 \u00b5s]\n",
            "batch = 2000\n",
            "Moyenne: 66.24 \u00b5s Ecart-type 13.14 \u00b5s (with 10 runs) in [53.02 \u00b5s, 85.93 \u00b5s]\n",
            "Moyenne: 16.39 \u00b5s Ecart-type 570.74 ns (with 10 runs) in [16.16 \u00b5s, 17.03 \u00b5s]\n",
            "Moyenne: 1.48 ms Ecart-type 91.96 \u00b5s (with 10 runs) in [1.42 ms, 1.75 ms]\n",
            "Moyenne: 204.37 \u00b5s Ecart-type 12.70 \u00b5s (with 10 runs) in [197.41 \u00b5s, 237.55 \u00b5s]\n",
            "batch = 3000\n",
            "Moyenne: 67.97 \u00b5s Ecart-type 19.24 \u00b5s (with 10 runs) in [58.67 \u00b5s, 101.97 \u00b5s]\n",
            "Moyenne: 22.16 \u00b5s Ecart-type 5.87 \u00b5s (with 10 runs) in [19.52 \u00b5s, 29.83 \u00b5s]\n",
            "Moyenne: 2.26 ms Ecart-type 157.83 \u00b5s (with 10 runs) in [2.16 ms, 2.67 ms]\n",
            "Moyenne: 303.46 \u00b5s Ecart-type 38.51 \u00b5s (with 10 runs) in [288.95 \u00b5s, 395.06 \u00b5s]\n",
            "batch = 4000\n",
            "Moyenne: 76.48 \u00b5s Ecart-type 17.38 \u00b5s (with 10 runs) in [64.83 \u00b5s, 88.18 \u00b5s]\n",
            "Moyenne: 23.36 \u00b5s Ecart-type 5.57 \u00b5s (with 10 runs) in [22.24 \u00b5s, 25.17 \u00b5s]\n",
            "Moyenne: 2.92 ms Ecart-type 152.70 \u00b5s (with 10 runs) in [2.85 ms, 3.20 ms]\n",
            "Moyenne: 396.96 \u00b5s Ecart-type 46.83 \u00b5s (with 10 runs) in [380.32 \u00b5s, 429.04 \u00b5s]\n",
            "batch = 5000\n",
            "Moyenne: 90.18 \u00b5s Ecart-type 6.40 \u00b5s (with 10 runs) in [89.05 \u00b5s, 111.25 \u00b5s]\n",
            "Moyenne: 24.74 \u00b5s Ecart-type 1.37 \u00b5s (with 10 runs) in [24.38 \u00b5s, 30.70 \u00b5s]\n",
            "Moyenne: 3.81 ms Ecart-type 294.09 \u00b5s (with 10 runs) in [3.62 ms, 4.88 ms]\n",
            "Moyenne: 483.24 \u00b5s Ecart-type 20.95 \u00b5s (with 10 runs) in [471.78 \u00b5s, 569.48 \u00b5s]\n",
            "batch = 10000\n",
            "Moyenne: 103.63 \u00b5s Ecart-type 6.08 \u00b5s (with 10 runs) in [101.02 \u00b5s, 127.53 \u00b5s]\n",
            "Moyenne: 39.31 \u00b5s Ecart-type 3.28 \u00b5s (with 10 runs) in [37.10 \u00b5s, 49.98 \u00b5s]\n",
            "Moyenne: 7.50 ms Ecart-type 461.95 \u00b5s (with 10 runs) in [7.19 ms, 8.81 ms]\n",
            "Moyenne: 1.24 ms Ecart-type 319.43 \u00b5s (with 10 runs) in [967.50 \u00b5s, 1.82 ms]\n",
            "batch = 20000\n",
            "Moyenne: 196.19 \u00b5s Ecart-type 42.92 \u00b5s (with 10 runs) in [170.47 \u00b5s, 354.37 \u00b5s]\n",
            "Moyenne: 70.45 \u00b5s Ecart-type 11.47 \u00b5s (with 10 runs) in [62.46 \u00b5s, 103.39 \u00b5s]\n",
            "Moyenne: 2.08 ms Ecart-type 244.46 \u00b5s (with 10 runs) in [1.88 ms, 2.60 ms]\n",
            "batch = 50000\n",
            "Moyenne: 944.13 \u00b5s Ecart-type 176.43 \u00b5s (with 10 runs) in [673.07 \u00b5s, 1.28 ms]\n",
            "Moyenne: 323.42 \u00b5s Ecart-type 60.33 \u00b5s (with 10 runs) in [283.26 \u00b5s, 487.47 \u00b5s]\n",
            "Moyenne: 7.10 ms Ecart-type 691.55 \u00b5s (with 10 runs) in [6.69 ms, 9.75 ms]\n",
            "batch = 75000\n",
            "Moyenne: 1.28 ms Ecart-type 170.95 \u00b5s (with 10 runs) in [1.10 ms, 1.88 ms]\n",
            "Moyenne: 337.19 \u00b5s Ecart-type 35.55 \u00b5s (with 10 runs) in [302.46 \u00b5s, 398.42 \u00b5s]\n",
            "Moyenne: 10.44 ms Ecart-type 649.35 \u00b5s (with 10 runs) in [10.10 ms, 12.47 ms]\n",
            "batch = 100000\n",
            "Moyenne: 1.75 ms Ecart-type 199.38 \u00b5s (with 10 runs) in [1.56 ms, 2.31 ms]\n",
            "Moyenne: 487.81 \u00b5s Ecart-type 49.89 \u00b5s (with 10 runs) in [426.90 \u00b5s, 566.83 \u00b5s]\n",
            "Moyenne: 13.82 ms Ecart-type 307.45 \u00b5s (with 10 runs) in [13.60 ms, 14.58 ms]\n",
            "batch = 150000\n",
            "Moyenne: 3.92 ms Ecart-type 285.28 \u00b5s (with 10 runs) in [3.72 ms, 4.99 ms]\n",
            "Moyenne: 2.69 ms Ecart-type 106.66 \u00b5s (with 10 runs) in [2.54 ms, 2.95 ms]\n",
            "Moyenne: 20.91 ms Ecart-type 750.62 \u00b5s (with 10 runs) in [20.53 ms, 23.89 ms]\n",
            "batch = 200000\n",
            "Moyenne: 5.33 ms Ecart-type 228.93 \u00b5s (with 10 runs) in [5.04 ms, 6.02 ms]\n",
            "Moyenne: 3.58 ms Ecart-type 140.76 \u00b5s (with 10 runs) in [3.35 ms, 3.89 ms]\n",
            "Moyenne: 28.24 ms Ecart-type 1.46 ms (with 10 runs) in [27.45 ms, 33.64 ms]\n",
            "batch = 300000\n",
            "Moyenne: 9.47 ms Ecart-type 1.21 ms (with 10 runs) in [8.04 ms, 11.99 ms]\n",
            "Moyenne: 6.58 ms Ecart-type 923.96 \u00b5s (with 10 runs) in [5.45 ms, 8.43 ms]\n",
            "Moyenne: 44.73 ms Ecart-type 2.43 ms (with 10 runs) in [42.35 ms, 50.52 ms]\n",
            "batch = 400000\n",
            "Moyenne: 11.12 ms Ecart-type 751.22 \u00b5s (with 10 runs) in [10.08 ms, 12.47 ms]\n",
            "Moyenne: 7.29 ms Ecart-type 406.01 \u00b5s (with 10 runs) in [6.81 ms, 8.54 ms]\n",
            "Moyenne: 58.54 ms Ecart-type 2.16 ms (with 10 runs) in [56.73 ms, 64.76 ms]\n",
            "batch = 500000\n",
            "Moyenne: 13.46 ms Ecart-type 799.10 \u00b5s (with 10 runs) in [12.65 ms, 15.37 ms]\n",
            "Moyenne: 9.22 ms Ecart-type 720.11 \u00b5s (with 10 runs) in [8.68 ms, 11.41 ms]\n",
            "Moyenne: 72.30 ms Ecart-type 1.37 ms (with 10 runs) in [70.96 ms, 74.87 ms]\n",
            "batch = 600000\n",
            "Moyenne: 15.86 ms Ecart-type 583.58 \u00b5s (with 10 runs) in [15.16 ms, 17.41 ms]\n",
            "Moyenne: 10.88 ms Ecart-type 380.11 \u00b5s (with 10 runs) in [10.29 ms, 11.95 ms]\n",
            "Moyenne: 87.84 ms Ecart-type 3.57 ms (with 10 runs) in [84.77 ms, 97.15 ms]\n"
          ]
        }
      ],
      "source": [
        "memo = []\n",
        "batch = [1, 10, 100, 200, 500, 1000, 2000, 3000, 4000, 5000, 10000,\n",
        "         20000, 50000, 75000, 100000, 150000, 200000, 300000, 400000,\n",
        "         500000, 600000]\n",
        "number = 10\n",
        "for i in batch:\n",
        "    if i <= diabetes_X_test.shape[0]:\n",
        "        mx = diabetes_X_test[:i]\n",
        "    else:\n",
        "        mxs = [diabetes_X_test] * (i // diabetes_X_test.shape[0] + 1)\n",
        "        mx = numpy.vstack(mxs)\n",
        "        mx = mx[:i]\n",
        "\n",
        "    print(\"batch\", \"=\", i)\n",
        "    repeat=20 if i >= 5000 else 100\n",
        "    \n",
        "    memo.append(timeexe(\"sklearn.predict %d\" % i, \"clr.predict(mx)\", \n",
        "                        repeat=repeat, number=number))\n",
        "    memo[-1][\"batch\"] = i\n",
        "    memo[-1][\"lib\"] = \"sklearn\"\n",
        "    \n",
        "    if i <= 1000:\n",
        "        # tr\u00e8s lent\n",
        "        memo.append(timeexe(\"python %d\" % i, \"predict_clr_python_loop_multi(mx, clr.coef_, clr.intercept_)\",\n",
        "                            repeat=20, number=number))\n",
        "        memo[-1][\"batch\"] = i\n",
        "        memo[-1][\"lib\"] = \"python\"\n",
        "    \n",
        "    memo.append(timeexe(\"numpy %d\" % i, \"predict_clr_numpy_loop_multi(mx, clr.coef_, clr.intercept_)\",\n",
        "                        repeat=repeat, number=number))\n",
        "    memo[-1][\"batch\"] = i\n",
        "    memo[-1][\"lib\"] = \"numpy\"\n",
        "    \n",
        "    if i <= 10000:\n",
        "        # tr\u00e8s lent\n",
        "        memo.append(timeexe(\"numba %d\" % i, \"predict_clr_numba_cast_multi(mx, clr.coef_, clr.intercept_)\",\n",
        "                            repeat=repeat, number=number))\n",
        "        memo[-1][\"batch\"] = i\n",
        "        memo[-1][\"lib\"] = \"numba\"\n",
        "        \n",
        "    if i <= 1000:\n",
        "        # tr\u00e8s lent\n",
        "        memo.append(timeexe(\"cython %d\" % i, \"predict_clr_cython_type_multi(mx, clr.coef_, clr.intercept_)\",\n",
        "                            repeat=repeat, number=number))\n",
        "        memo[-1][\"batch\"] = i\n",
        "        memo[-1][\"lib\"] = \"cython\"\n",
        "        \n",
        "    if ok_onnx:\n",
        "        memo.append(timeexe(\"onnxruntime %d\" % i, \"predict_onnxrt(mx.astype(numpy.float32))\",\n",
        "                            repeat=repeat, number=number))\n",
        "        memo[-1][\"batch\"] = i\n",
        "        memo[-1][\"lib\"] = \"onnxruntime\""
      ]
    },
    {
      "cell_type": "code",
      "execution_count": 79,
      "metadata": {},
      "outputs": [
        {
          "data": {
            "text/html": [
              "<div>\n",
              "<style scoped>\n",
              "    .dataframe tbody tr th:only-of-type {\n",
              "        vertical-align: middle;\n",
              "    }\n",
              "\n",
              "    .dataframe tbody tr th {\n",
              "        vertical-align: top;\n",
              "    }\n",
              "\n",
              "    .dataframe thead th {\n",
              "        text-align: right;\n",
              "    }\n",
              "</style>\n",
              "<table border=\"1\" class=\"dataframe\">\n",
              "  <thead>\n",
              "    <tr style=\"text-align: right;\">\n",
              "      <th>lib</th>\n",
              "      <th>cython</th>\n",
              "      <th>numba</th>\n",
              "      <th>numpy</th>\n",
              "      <th>onnxruntime</th>\n",
              "      <th>python</th>\n",
              "      <th>sklearn</th>\n",
              "    </tr>\n",
              "    <tr>\n",
              "      <th>batch</th>\n",
              "      <th></th>\n",
              "      <th></th>\n",
              "      <th></th>\n",
              "      <th></th>\n",
              "      <th></th>\n",
              "      <th></th>\n",
              "    </tr>\n",
              "  </thead>\n",
              "  <tbody>\n",
              "    <tr>\n",
              "      <th>1</th>\n",
              "      <td>0.000003</td>\n",
              "      <td>0.000002</td>\n",
              "      <td>0.000008</td>\n",
              "      <td>0.000021</td>\n",
              "      <td>0.000012</td>\n",
              "      <td>0.000062</td>\n",
              "    </tr>\n",
              "    <tr>\n",
              "      <th>10</th>\n",
              "      <td>0.000020</td>\n",
              "      <td>0.000010</td>\n",
              "      <td>0.000008</td>\n",
              "      <td>0.000036</td>\n",
              "      <td>0.000131</td>\n",
              "      <td>0.000051</td>\n",
              "    </tr>\n",
              "    <tr>\n",
              "      <th>100</th>\n",
              "      <td>0.000167</td>\n",
              "      <td>0.000091</td>\n",
              "      <td>0.000014</td>\n",
              "      <td>0.000041</td>\n",
              "      <td>0.001212</td>\n",
              "      <td>0.000074</td>\n",
              "    </tr>\n",
              "    <tr>\n",
              "      <th>200</th>\n",
              "      <td>0.000449</td>\n",
              "      <td>0.000182</td>\n",
              "      <td>0.000017</td>\n",
              "      <td>0.000047</td>\n",
              "      <td>0.002532</td>\n",
              "      <td>0.000068</td>\n",
              "    </tr>\n",
              "    <tr>\n",
              "      <th>500</th>\n",
              "      <td>0.000777</td>\n",
              "      <td>0.000442</td>\n",
              "      <td>0.000011</td>\n",
              "      <td>0.000096</td>\n",
              "      <td>0.005090</td>\n",
              "      <td>0.000045</td>\n",
              "    </tr>\n",
              "    <tr>\n",
              "      <th>1000</th>\n",
              "      <td>0.001254</td>\n",
              "      <td>0.000861</td>\n",
              "      <td>0.000018</td>\n",
              "      <td>0.000112</td>\n",
              "      <td>0.010005</td>\n",
              "      <td>0.000068</td>\n",
              "    </tr>\n",
              "    <tr>\n",
              "      <th>2000</th>\n",
              "      <td>NaN</td>\n",
              "      <td>0.001475</td>\n",
              "      <td>0.000016</td>\n",
              "      <td>0.000204</td>\n",
              "      <td>NaN</td>\n",
              "      <td>0.000066</td>\n",
              "    </tr>\n",
              "    <tr>\n",
              "      <th>3000</th>\n",
              "      <td>NaN</td>\n",
              "      <td>0.002255</td>\n",
              "      <td>0.000022</td>\n",
              "      <td>0.000303</td>\n",
              "      <td>NaN</td>\n",
              "      <td>0.000068</td>\n",
              "    </tr>\n",
              "    <tr>\n",
              "      <th>4000</th>\n",
              "      <td>NaN</td>\n",
              "      <td>0.002925</td>\n",
              "      <td>0.000023</td>\n",
              "      <td>0.000397</td>\n",
              "      <td>NaN</td>\n",
              "      <td>0.000076</td>\n",
              "    </tr>\n",
              "    <tr>\n",
              "      <th>5000</th>\n",
              "      <td>NaN</td>\n",
              "      <td>0.003806</td>\n",
              "      <td>0.000025</td>\n",
              "      <td>0.000483</td>\n",
              "      <td>NaN</td>\n",
              "      <td>0.000090</td>\n",
              "    </tr>\n",
              "    <tr>\n",
              "      <th>10000</th>\n",
              "      <td>NaN</td>\n",
              "      <td>0.007497</td>\n",
              "      <td>0.000039</td>\n",
              "      <td>0.001244</td>\n",
              "      <td>NaN</td>\n",
              "      <td>0.000104</td>\n",
              "    </tr>\n",
              "    <tr>\n",
              "      <th>20000</th>\n",
              "      <td>NaN</td>\n",
              "      <td>NaN</td>\n",
              "      <td>0.000070</td>\n",
              "      <td>0.002081</td>\n",
              "      <td>NaN</td>\n",
              "      <td>0.000196</td>\n",
              "    </tr>\n",
              "    <tr>\n",
              "      <th>50000</th>\n",
              "      <td>NaN</td>\n",
              "      <td>NaN</td>\n",
              "      <td>0.000323</td>\n",
              "      <td>0.007097</td>\n",
              "      <td>NaN</td>\n",
              "      <td>0.000944</td>\n",
              "    </tr>\n",
              "    <tr>\n",
              "      <th>75000</th>\n",
              "      <td>NaN</td>\n",
              "      <td>NaN</td>\n",
              "      <td>0.000337</td>\n",
              "      <td>0.010440</td>\n",
              "      <td>NaN</td>\n",
              "      <td>0.001285</td>\n",
              "    </tr>\n",
              "    <tr>\n",
              "      <th>100000</th>\n",
              "      <td>NaN</td>\n",
              "      <td>NaN</td>\n",
              "      <td>0.000488</td>\n",
              "      <td>0.013821</td>\n",
              "      <td>NaN</td>\n",
              "      <td>0.001754</td>\n",
              "    </tr>\n",
              "    <tr>\n",
              "      <th>150000</th>\n",
              "      <td>NaN</td>\n",
              "      <td>NaN</td>\n",
              "      <td>0.002686</td>\n",
              "      <td>0.020909</td>\n",
              "      <td>NaN</td>\n",
              "      <td>0.003922</td>\n",
              "    </tr>\n",
              "    <tr>\n",
              "      <th>200000</th>\n",
              "      <td>NaN</td>\n",
              "      <td>NaN</td>\n",
              "      <td>0.003575</td>\n",
              "      <td>0.028242</td>\n",
              "      <td>NaN</td>\n",
              "      <td>0.005326</td>\n",
              "    </tr>\n",
              "    <tr>\n",
              "      <th>300000</th>\n",
              "      <td>NaN</td>\n",
              "      <td>NaN</td>\n",
              "      <td>0.006576</td>\n",
              "      <td>0.044728</td>\n",
              "      <td>NaN</td>\n",
              "      <td>0.009469</td>\n",
              "    </tr>\n",
              "    <tr>\n",
              "      <th>400000</th>\n",
              "      <td>NaN</td>\n",
              "      <td>NaN</td>\n",
              "      <td>0.007288</td>\n",
              "      <td>0.058541</td>\n",
              "      <td>NaN</td>\n",
              "      <td>0.011123</td>\n",
              "    </tr>\n",
              "    <tr>\n",
              "      <th>500000</th>\n",
              "      <td>NaN</td>\n",
              "      <td>NaN</td>\n",
              "      <td>0.009223</td>\n",
              "      <td>0.072303</td>\n",
              "      <td>NaN</td>\n",
              "      <td>0.013464</td>\n",
              "    </tr>\n",
              "    <tr>\n",
              "      <th>600000</th>\n",
              "      <td>NaN</td>\n",
              "      <td>NaN</td>\n",
              "      <td>0.010878</td>\n",
              "      <td>0.087836</td>\n",
              "      <td>NaN</td>\n",
              "      <td>0.015860</td>\n",
              "    </tr>\n",
              "  </tbody>\n",
              "</table>\n",
              "</div>"
            ],
            "text/plain": [
              "lib       cython     numba     numpy  onnxruntime    python   sklearn\n",
              "batch                                                                \n",
              "1       0.000003  0.000002  0.000008     0.000021  0.000012  0.000062\n",
              "10      0.000020  0.000010  0.000008     0.000036  0.000131  0.000051\n",
              "100     0.000167  0.000091  0.000014     0.000041  0.001212  0.000074\n",
              "200     0.000449  0.000182  0.000017     0.000047  0.002532  0.000068\n",
              "500     0.000777  0.000442  0.000011     0.000096  0.005090  0.000045\n",
              "1000    0.001254  0.000861  0.000018     0.000112  0.010005  0.000068\n",
              "2000         NaN  0.001475  0.000016     0.000204       NaN  0.000066\n",
              "3000         NaN  0.002255  0.000022     0.000303       NaN  0.000068\n",
              "4000         NaN  0.002925  0.000023     0.000397       NaN  0.000076\n",
              "5000         NaN  0.003806  0.000025     0.000483       NaN  0.000090\n",
              "10000        NaN  0.007497  0.000039     0.001244       NaN  0.000104\n",
              "20000        NaN       NaN  0.000070     0.002081       NaN  0.000196\n",
              "50000        NaN       NaN  0.000323     0.007097       NaN  0.000944\n",
              "75000        NaN       NaN  0.000337     0.010440       NaN  0.001285\n",
              "100000       NaN       NaN  0.000488     0.013821       NaN  0.001754\n",
              "150000       NaN       NaN  0.002686     0.020909       NaN  0.003922\n",
              "200000       NaN       NaN  0.003575     0.028242       NaN  0.005326\n",
              "300000       NaN       NaN  0.006576     0.044728       NaN  0.009469\n",
              "400000       NaN       NaN  0.007288     0.058541       NaN  0.011123\n",
              "500000       NaN       NaN  0.009223     0.072303       NaN  0.013464\n",
              "600000       NaN       NaN  0.010878     0.087836       NaN  0.015860"
            ]
          },
          "execution_count": 80,
          "metadata": {},
          "output_type": "execute_result"
        }
      ],
      "source": [
        "dfb = pandas.DataFrame(memo)[[\"average\", \"lib\", \"batch\"]]\n",
        "piv = dfb.pivot(\"batch\", \"lib\", \"average\")\n",
        "piv"
      ]
    },
    {
      "cell_type": "code",
      "execution_count": 80,
      "metadata": {},
      "outputs": [
        {
          "data": {
            "text/html": [
              "<div>\n",
              "<style scoped>\n",
              "    .dataframe tbody tr th:only-of-type {\n",
              "        vertical-align: middle;\n",
              "    }\n",
              "\n",
              "    .dataframe tbody tr th {\n",
              "        vertical-align: top;\n",
              "    }\n",
              "\n",
              "    .dataframe thead th {\n",
              "        text-align: right;\n",
              "    }\n",
              "</style>\n",
              "<table border=\"1\" class=\"dataframe\">\n",
              "  <thead>\n",
              "    <tr style=\"text-align: right;\">\n",
              "      <th>lib</th>\n",
              "      <th>cython</th>\n",
              "      <th>numba</th>\n",
              "      <th>numpy</th>\n",
              "      <th>onnxruntime</th>\n",
              "      <th>python</th>\n",
              "      <th>sklearn</th>\n",
              "      <th>ave_cython</th>\n",
              "      <th>ave_numba</th>\n",
              "      <th>ave_numpy</th>\n",
              "      <th>ave_onnxruntime</th>\n",
              "      <th>ave_python</th>\n",
              "      <th>ave_sklearn</th>\n",
              "    </tr>\n",
              "    <tr>\n",
              "      <th>batch</th>\n",
              "      <th></th>\n",
              "      <th></th>\n",
              "      <th></th>\n",
              "      <th></th>\n",
              "      <th></th>\n",
              "      <th></th>\n",
              "      <th></th>\n",
              "      <th></th>\n",
              "      <th></th>\n",
              "      <th></th>\n",
              "      <th></th>\n",
              "      <th></th>\n",
              "    </tr>\n",
              "  </thead>\n",
              "  <tbody>\n",
              "    <tr>\n",
              "      <th>1</th>\n",
              "      <td>0.000003</td>\n",
              "      <td>0.000002</td>\n",
              "      <td>0.000008</td>\n",
              "      <td>0.000021</td>\n",
              "      <td>0.000012</td>\n",
              "      <td>0.000062</td>\n",
              "      <td>0.000003</td>\n",
              "      <td>2.378661e-06</td>\n",
              "      <td>8.147732e-06</td>\n",
              "      <td>2.094534e-05</td>\n",
              "      <td>0.000012</td>\n",
              "      <td>6.172035e-05</td>\n",
              "    </tr>\n",
              "    <tr>\n",
              "      <th>10</th>\n",
              "      <td>0.000020</td>\n",
              "      <td>0.000010</td>\n",
              "      <td>0.000008</td>\n",
              "      <td>0.000036</td>\n",
              "      <td>0.000131</td>\n",
              "      <td>0.000051</td>\n",
              "      <td>0.000002</td>\n",
              "      <td>1.004442e-06</td>\n",
              "      <td>7.720681e-07</td>\n",
              "      <td>3.617296e-06</td>\n",
              "      <td>0.000013</td>\n",
              "      <td>5.102210e-06</td>\n",
              "    </tr>\n",
              "    <tr>\n",
              "      <th>100</th>\n",
              "      <td>0.000167</td>\n",
              "      <td>0.000091</td>\n",
              "      <td>0.000014</td>\n",
              "      <td>0.000041</td>\n",
              "      <td>0.001212</td>\n",
              "      <td>0.000074</td>\n",
              "      <td>0.000002</td>\n",
              "      <td>9.147396e-07</td>\n",
              "      <td>1.386308e-07</td>\n",
              "      <td>4.106933e-07</td>\n",
              "      <td>0.000012</td>\n",
              "      <td>7.433464e-07</td>\n",
              "    </tr>\n",
              "    <tr>\n",
              "      <th>200</th>\n",
              "      <td>0.000449</td>\n",
              "      <td>0.000182</td>\n",
              "      <td>0.000017</td>\n",
              "      <td>0.000047</td>\n",
              "      <td>0.002532</td>\n",
              "      <td>0.000068</td>\n",
              "      <td>0.000002</td>\n",
              "      <td>9.118438e-07</td>\n",
              "      <td>8.401954e-08</td>\n",
              "      <td>2.372320e-07</td>\n",
              "      <td>0.000013</td>\n",
              "      <td>3.385394e-07</td>\n",
              "    </tr>\n",
              "    <tr>\n",
              "      <th>500</th>\n",
              "      <td>0.000777</td>\n",
              "      <td>0.000442</td>\n",
              "      <td>0.000011</td>\n",
              "      <td>0.000096</td>\n",
              "      <td>0.005090</td>\n",
              "      <td>0.000045</td>\n",
              "      <td>0.000002</td>\n",
              "      <td>8.841777e-07</td>\n",
              "      <td>2.119264e-08</td>\n",
              "      <td>1.924594e-07</td>\n",
              "      <td>0.000010</td>\n",
              "      <td>8.921342e-08</td>\n",
              "    </tr>\n",
              "    <tr>\n",
              "      <th>1000</th>\n",
              "      <td>0.001254</td>\n",
              "      <td>0.000861</td>\n",
              "      <td>0.000018</td>\n",
              "      <td>0.000112</td>\n",
              "      <td>0.010005</td>\n",
              "      <td>0.000068</td>\n",
              "      <td>0.000001</td>\n",
              "      <td>8.612776e-07</td>\n",
              "      <td>1.769872e-08</td>\n",
              "      <td>1.124766e-07</td>\n",
              "      <td>0.000010</td>\n",
              "      <td>6.787302e-08</td>\n",
              "    </tr>\n",
              "    <tr>\n",
              "      <th>2000</th>\n",
              "      <td>NaN</td>\n",
              "      <td>0.001475</td>\n",
              "      <td>0.000016</td>\n",
              "      <td>0.000204</td>\n",
              "      <td>NaN</td>\n",
              "      <td>0.000066</td>\n",
              "      <td>NaN</td>\n",
              "      <td>7.375451e-07</td>\n",
              "      <td>8.196917e-09</td>\n",
              "      <td>1.021833e-07</td>\n",
              "      <td>NaN</td>\n",
              "      <td>3.312071e-08</td>\n",
              "    </tr>\n",
              "    <tr>\n",
              "      <th>3000</th>\n",
              "      <td>NaN</td>\n",
              "      <td>0.002255</td>\n",
              "      <td>0.000022</td>\n",
              "      <td>0.000303</td>\n",
              "      <td>NaN</td>\n",
              "      <td>0.000068</td>\n",
              "      <td>NaN</td>\n",
              "      <td>7.517826e-07</td>\n",
              "      <td>7.386717e-09</td>\n",
              "      <td>1.011543e-07</td>\n",
              "      <td>NaN</td>\n",
              "      <td>2.265766e-08</td>\n",
              "    </tr>\n",
              "    <tr>\n",
              "      <th>4000</th>\n",
              "      <td>NaN</td>\n",
              "      <td>0.002925</td>\n",
              "      <td>0.000023</td>\n",
              "      <td>0.000397</td>\n",
              "      <td>NaN</td>\n",
              "      <td>0.000076</td>\n",
              "      <td>NaN</td>\n",
              "      <td>7.312328e-07</td>\n",
              "      <td>5.838998e-09</td>\n",
              "      <td>9.924105e-08</td>\n",
              "      <td>NaN</td>\n",
              "      <td>1.912084e-08</td>\n",
              "    </tr>\n",
              "    <tr>\n",
              "      <th>5000</th>\n",
              "      <td>NaN</td>\n",
              "      <td>0.003806</td>\n",
              "      <td>0.000025</td>\n",
              "      <td>0.000483</td>\n",
              "      <td>NaN</td>\n",
              "      <td>0.000090</td>\n",
              "      <td>NaN</td>\n",
              "      <td>7.612837e-07</td>\n",
              "      <td>4.947741e-09</td>\n",
              "      <td>9.664728e-08</td>\n",
              "      <td>NaN</td>\n",
              "      <td>1.803571e-08</td>\n",
              "    </tr>\n",
              "    <tr>\n",
              "      <th>10000</th>\n",
              "      <td>NaN</td>\n",
              "      <td>0.007497</td>\n",
              "      <td>0.000039</td>\n",
              "      <td>0.001244</td>\n",
              "      <td>NaN</td>\n",
              "      <td>0.000104</td>\n",
              "      <td>NaN</td>\n",
              "      <td>7.497284e-07</td>\n",
              "      <td>3.931249e-09</td>\n",
              "      <td>1.244355e-07</td>\n",
              "      <td>NaN</td>\n",
              "      <td>1.036304e-08</td>\n",
              "    </tr>\n",
              "    <tr>\n",
              "      <th>20000</th>\n",
              "      <td>NaN</td>\n",
              "      <td>NaN</td>\n",
              "      <td>0.000070</td>\n",
              "      <td>0.002081</td>\n",
              "      <td>NaN</td>\n",
              "      <td>0.000196</td>\n",
              "      <td>NaN</td>\n",
              "      <td>NaN</td>\n",
              "      <td>3.522461e-09</td>\n",
              "      <td>1.040586e-07</td>\n",
              "      <td>NaN</td>\n",
              "      <td>9.809558e-09</td>\n",
              "    </tr>\n",
              "    <tr>\n",
              "      <th>50000</th>\n",
              "      <td>NaN</td>\n",
              "      <td>NaN</td>\n",
              "      <td>0.000323</td>\n",
              "      <td>0.007097</td>\n",
              "      <td>NaN</td>\n",
              "      <td>0.000944</td>\n",
              "      <td>NaN</td>\n",
              "      <td>NaN</td>\n",
              "      <td>6.468370e-09</td>\n",
              "      <td>1.419331e-07</td>\n",
              "      <td>NaN</td>\n",
              "      <td>1.888264e-08</td>\n",
              "    </tr>\n",
              "    <tr>\n",
              "      <th>75000</th>\n",
              "      <td>NaN</td>\n",
              "      <td>NaN</td>\n",
              "      <td>0.000337</td>\n",
              "      <td>0.010440</td>\n",
              "      <td>NaN</td>\n",
              "      <td>0.001285</td>\n",
              "      <td>NaN</td>\n",
              "      <td>NaN</td>\n",
              "      <td>4.495871e-09</td>\n",
              "      <td>1.391996e-07</td>\n",
              "      <td>NaN</td>\n",
              "      <td>1.713105e-08</td>\n",
              "    </tr>\n",
              "    <tr>\n",
              "      <th>100000</th>\n",
              "      <td>NaN</td>\n",
              "      <td>NaN</td>\n",
              "      <td>0.000488</td>\n",
              "      <td>0.013821</td>\n",
              "      <td>NaN</td>\n",
              "      <td>0.001754</td>\n",
              "      <td>NaN</td>\n",
              "      <td>NaN</td>\n",
              "      <td>4.878072e-09</td>\n",
              "      <td>1.382130e-07</td>\n",
              "      <td>NaN</td>\n",
              "      <td>1.753515e-08</td>\n",
              "    </tr>\n",
              "    <tr>\n",
              "      <th>150000</th>\n",
              "      <td>NaN</td>\n",
              "      <td>NaN</td>\n",
              "      <td>0.002686</td>\n",
              "      <td>0.020909</td>\n",
              "      <td>NaN</td>\n",
              "      <td>0.003922</td>\n",
              "      <td>NaN</td>\n",
              "      <td>NaN</td>\n",
              "      <td>1.790808e-08</td>\n",
              "      <td>1.393904e-07</td>\n",
              "      <td>NaN</td>\n",
              "      <td>2.614948e-08</td>\n",
              "    </tr>\n",
              "    <tr>\n",
              "      <th>200000</th>\n",
              "      <td>NaN</td>\n",
              "      <td>NaN</td>\n",
              "      <td>0.003575</td>\n",
              "      <td>0.028242</td>\n",
              "      <td>NaN</td>\n",
              "      <td>0.005326</td>\n",
              "      <td>NaN</td>\n",
              "      <td>NaN</td>\n",
              "      <td>1.787713e-08</td>\n",
              "      <td>1.412113e-07</td>\n",
              "      <td>NaN</td>\n",
              "      <td>2.663233e-08</td>\n",
              "    </tr>\n",
              "    <tr>\n",
              "      <th>300000</th>\n",
              "      <td>NaN</td>\n",
              "      <td>NaN</td>\n",
              "      <td>0.006576</td>\n",
              "      <td>0.044728</td>\n",
              "      <td>NaN</td>\n",
              "      <td>0.009469</td>\n",
              "      <td>NaN</td>\n",
              "      <td>NaN</td>\n",
              "      <td>2.191992e-08</td>\n",
              "      <td>1.490931e-07</td>\n",
              "      <td>NaN</td>\n",
              "      <td>3.156392e-08</td>\n",
              "    </tr>\n",
              "    <tr>\n",
              "      <th>400000</th>\n",
              "      <td>NaN</td>\n",
              "      <td>NaN</td>\n",
              "      <td>0.007288</td>\n",
              "      <td>0.058541</td>\n",
              "      <td>NaN</td>\n",
              "      <td>0.011123</td>\n",
              "      <td>NaN</td>\n",
              "      <td>NaN</td>\n",
              "      <td>1.821957e-08</td>\n",
              "      <td>1.463514e-07</td>\n",
              "      <td>NaN</td>\n",
              "      <td>2.780641e-08</td>\n",
              "    </tr>\n",
              "    <tr>\n",
              "      <th>500000</th>\n",
              "      <td>NaN</td>\n",
              "      <td>NaN</td>\n",
              "      <td>0.009223</td>\n",
              "      <td>0.072303</td>\n",
              "      <td>NaN</td>\n",
              "      <td>0.013464</td>\n",
              "      <td>NaN</td>\n",
              "      <td>NaN</td>\n",
              "      <td>1.844603e-08</td>\n",
              "      <td>1.446063e-07</td>\n",
              "      <td>NaN</td>\n",
              "      <td>2.692782e-08</td>\n",
              "    </tr>\n",
              "    <tr>\n",
              "      <th>600000</th>\n",
              "      <td>NaN</td>\n",
              "      <td>NaN</td>\n",
              "      <td>0.010878</td>\n",
              "      <td>0.087836</td>\n",
              "      <td>NaN</td>\n",
              "      <td>0.015860</td>\n",
              "      <td>NaN</td>\n",
              "      <td>NaN</td>\n",
              "      <td>1.812999e-08</td>\n",
              "      <td>1.463938e-07</td>\n",
              "      <td>NaN</td>\n",
              "      <td>2.643390e-08</td>\n",
              "    </tr>\n",
              "  </tbody>\n",
              "</table>\n",
              "</div>"
            ],
            "text/plain": [
              "lib       cython     numba     numpy  onnxruntime    python   sklearn  \\\n",
              "batch                                                                   \n",
              "1       0.000003  0.000002  0.000008     0.000021  0.000012  0.000062   \n",
              "10      0.000020  0.000010  0.000008     0.000036  0.000131  0.000051   \n",
              "100     0.000167  0.000091  0.000014     0.000041  0.001212  0.000074   \n",
              "200     0.000449  0.000182  0.000017     0.000047  0.002532  0.000068   \n",
              "500     0.000777  0.000442  0.000011     0.000096  0.005090  0.000045   \n",
              "1000    0.001254  0.000861  0.000018     0.000112  0.010005  0.000068   \n",
              "2000         NaN  0.001475  0.000016     0.000204       NaN  0.000066   \n",
              "3000         NaN  0.002255  0.000022     0.000303       NaN  0.000068   \n",
              "4000         NaN  0.002925  0.000023     0.000397       NaN  0.000076   \n",
              "5000         NaN  0.003806  0.000025     0.000483       NaN  0.000090   \n",
              "10000        NaN  0.007497  0.000039     0.001244       NaN  0.000104   \n",
              "20000        NaN       NaN  0.000070     0.002081       NaN  0.000196   \n",
              "50000        NaN       NaN  0.000323     0.007097       NaN  0.000944   \n",
              "75000        NaN       NaN  0.000337     0.010440       NaN  0.001285   \n",
              "100000       NaN       NaN  0.000488     0.013821       NaN  0.001754   \n",
              "150000       NaN       NaN  0.002686     0.020909       NaN  0.003922   \n",
              "200000       NaN       NaN  0.003575     0.028242       NaN  0.005326   \n",
              "300000       NaN       NaN  0.006576     0.044728       NaN  0.009469   \n",
              "400000       NaN       NaN  0.007288     0.058541       NaN  0.011123   \n",
              "500000       NaN       NaN  0.009223     0.072303       NaN  0.013464   \n",
              "600000       NaN       NaN  0.010878     0.087836       NaN  0.015860   \n",
              "\n",
              "lib     ave_cython     ave_numba     ave_numpy  ave_onnxruntime  ave_python  \\\n",
              "batch                                                                         \n",
              "1         0.000003  2.378661e-06  8.147732e-06     2.094534e-05    0.000012   \n",
              "10        0.000002  1.004442e-06  7.720681e-07     3.617296e-06    0.000013   \n",
              "100       0.000002  9.147396e-07  1.386308e-07     4.106933e-07    0.000012   \n",
              "200       0.000002  9.118438e-07  8.401954e-08     2.372320e-07    0.000013   \n",
              "500       0.000002  8.841777e-07  2.119264e-08     1.924594e-07    0.000010   \n",
              "1000      0.000001  8.612776e-07  1.769872e-08     1.124766e-07    0.000010   \n",
              "2000           NaN  7.375451e-07  8.196917e-09     1.021833e-07         NaN   \n",
              "3000           NaN  7.517826e-07  7.386717e-09     1.011543e-07         NaN   \n",
              "4000           NaN  7.312328e-07  5.838998e-09     9.924105e-08         NaN   \n",
              "5000           NaN  7.612837e-07  4.947741e-09     9.664728e-08         NaN   \n",
              "10000          NaN  7.497284e-07  3.931249e-09     1.244355e-07         NaN   \n",
              "20000          NaN           NaN  3.522461e-09     1.040586e-07         NaN   \n",
              "50000          NaN           NaN  6.468370e-09     1.419331e-07         NaN   \n",
              "75000          NaN           NaN  4.495871e-09     1.391996e-07         NaN   \n",
              "100000         NaN           NaN  4.878072e-09     1.382130e-07         NaN   \n",
              "150000         NaN           NaN  1.790808e-08     1.393904e-07         NaN   \n",
              "200000         NaN           NaN  1.787713e-08     1.412113e-07         NaN   \n",
              "300000         NaN           NaN  2.191992e-08     1.490931e-07         NaN   \n",
              "400000         NaN           NaN  1.821957e-08     1.463514e-07         NaN   \n",
              "500000         NaN           NaN  1.844603e-08     1.446063e-07         NaN   \n",
              "600000         NaN           NaN  1.812999e-08     1.463938e-07         NaN   \n",
              "\n",
              "lib      ave_sklearn  \n",
              "batch                 \n",
              "1       6.172035e-05  \n",
              "10      5.102210e-06  \n",
              "100     7.433464e-07  \n",
              "200     3.385394e-07  \n",
              "500     8.921342e-08  \n",
              "1000    6.787302e-08  \n",
              "2000    3.312071e-08  \n",
              "3000    2.265766e-08  \n",
              "4000    1.912084e-08  \n",
              "5000    1.803571e-08  \n",
              "10000   1.036304e-08  \n",
              "20000   9.809558e-09  \n",
              "50000   1.888264e-08  \n",
              "75000   1.713105e-08  \n",
              "100000  1.753515e-08  \n",
              "150000  2.614948e-08  \n",
              "200000  2.663233e-08  \n",
              "300000  3.156392e-08  \n",
              "400000  2.780641e-08  \n",
              "500000  2.692782e-08  \n",
              "600000  2.643390e-08  "
            ]
          },
          "execution_count": 81,
          "metadata": {},
          "output_type": "execute_result"
        }
      ],
      "source": [
        "for c in piv.columns:\n",
        "    piv[\"ave_\" + c] = piv[c] / piv.index\n",
        "piv"
      ]
    },
    {
      "cell_type": "code",
      "execution_count": 81,
      "metadata": {},
      "outputs": [
        {
          "data": {
            "image/png": "[encoded data removed]",
            "text/plain": [
              "<Figure size 720x360 with 1 Axes>"
            ]
          },
          "metadata": {
            "needs_background": "light"
          },
          "output_type": "display_data"
        }
      ],
      "source": [
        "libs = list(c for c in piv.columns if \"ave_\" in c)\n",
        "ax = piv.plot(y=libs, logy=True, logx=True, figsize=(10, 5))\n",
        "ax.set_title(\"Evolution du temps de pr\u00e9diction selon la taille du batch\")\n",
        "ax.grid(True);"
      ]
    },
    {
      "cell_type": "markdown",
      "metadata": {},
      "source": [
        "Le minimum obtenu est pour $10^{-8} s$ soit 10 ns. Cela montre que la comparaisson pr\u00e9c\u00e9dente \u00e9tait incompl\u00e8te voire biais\u00e9e. Tout d\u00e9pend de l'usage qu'on fait de la fonction de pr\u00e9diction m\u00eame s'il sera toujours possible de d'\u00e9crire un code sp\u00e9cialis\u00e9 plus rapide que toute autre fonction g\u00e9n\u00e9rique. En g\u00e9n\u00e9ral, plus on reste du c\u00f4t\u00e9 Python, plus le programme est lent. Le nombre de passage de l'un \u00e0 l'autre, selon la fa\u00e7on dont il est fait ralenti aussi. En tenant compte de cela, le programme rouge sera plus lent que le vert."
      ]
    },
    {
      "cell_type": "code",
      "execution_count": 82,
      "metadata": {},
      "outputs": [
        {
          "data": {
            "image/png": "[encoded data removed]",
            "text/plain": [
              "<IPython.core.display.Image object>"
            ]
          },
          "execution_count": 83,
          "metadata": {},
          "output_type": "execute_result"
        }
      ],
      "source": [
        "from pyquickhelper.helpgen import NbImage\n",
        "NbImage(\"pycpp.png\")"
      ]
    },
    {
      "cell_type": "markdown",
      "metadata": {},
      "source": [
        "Ces r\u00e9sultats sont d'une fa\u00e7on g\u00e9n\u00e9rale assez volatile car le temps de calcul est enrob\u00e9 dans plusieurs fonctions Python qui rendent une mesure pr\u00e9cise difficile. Il reste n\u00e9anmoins une bonne id\u00e9e des ordres de grandeurs."
      ]
    },
    {
      "cell_type": "markdown",
      "metadata": {},
      "source": [
        "## Random Forest\n",
        "\n",
        "On reproduit les m\u00eames r\u00e9sultats pour une random forest mais la r\u00e9\u00e9criture n'est plus aussi simple qu'une r\u00e9gression lin\u00e9aire."
      ]
    },
    {
      "cell_type": "markdown",
      "metadata": {},
      "source": [
        "### Une pr\u00e9diction \u00e0 la fois"
      ]
    },
    {
      "cell_type": "code",
      "execution_count": 83,
      "metadata": {},
      "outputs": [],
      "source": [
        "from sklearn.datasets import load_diabetes\n",
        "diabetes = load_diabetes()\n",
        "diabetes_X_train = diabetes.data[:-20]\n",
        "diabetes_X_test  = diabetes.data[-20:]\n",
        "diabetes_y_train = diabetes.target[:-20]\n",
        "diabetes_y_test  = diabetes.target[-20:]"
      ]
    },
    {
      "cell_type": "code",
      "execution_count": 84,
      "metadata": {},
      "outputs": [
        {
          "data": {
            "text/plain": [
              "RandomForestRegressor(bootstrap=True, criterion='mse', max_depth=None,\n",
              "                      max_features='auto', max_leaf_nodes=None,\n",
              "                      min_impurity_decrease=0.0, min_impurity_split=None,\n",
              "                      min_samples_leaf=1, min_samples_split=2,\n",
              "                      min_weight_fraction_leaf=0.0, n_estimators=10,\n",
              "                      n_jobs=None, oob_score=False, random_state=None,\n",
              "                      verbose=0, warm_start=False)"
            ]
          },
          "execution_count": 85,
          "metadata": {},
          "output_type": "execute_result"
        }
      ],
      "source": [
        "from sklearn.ensemble import RandomForestRegressor\n",
        "rf = RandomForestRegressor(n_estimators=10)\n",
        "rf.fit(diabetes_X_train, diabetes_y_train)"
      ]
    },
    {
      "cell_type": "code",
      "execution_count": 85,
      "metadata": {},
      "outputs": [
        {
          "name": "stdout",
          "output_type": "stream",
          "text": [
            "Moyenne: 598.88 \u00b5s Ecart-type 55.79 \u00b5s (with 20 runs) in [546.51 \u00b5s, 736.22 \u00b5s]\n"
          ]
        }
      ],
      "source": [
        "memo_time = []\n",
        "x = diabetes_X_test[:1]\n",
        "memo_time.append(timeexe(\"sklearn-rf\", \"rf.predict(x)\", repeat=100, number=20))"
      ]
    },
    {
      "cell_type": "markdown",
      "metadata": {},
      "source": [
        "C'est beaucoup plus long que la r\u00e9gression lin\u00e9aire. On essaye avec *onnx*."
      ]
    },
    {
      "cell_type": "code",
      "execution_count": 86,
      "metadata": {
        "scrolled": false
      },
      "outputs": [
        {
          "name": "stderr",
          "output_type": "stream",
          "text": [
            "The maximum opset needed by this model is only 1.\n"
          ]
        }
      ],
      "source": [
        "if ok_onnx:\n",
        "    onnxrf_model = convert_sklearn(rf, 'model', [('input', FloatTensorType([1, clr.coef_.shape[0]]))])\n",
        "    save_model(onnxrf_model, 'model_rf.onnx')    \n",
        "    model_onnx = onnx.load('model_rf.onnx')"
      ]
    },
    {
      "cell_type": "code",
      "execution_count": 87,
      "metadata": {},
      "outputs": [
        {
          "name": "stdout",
          "output_type": "stream",
          "text": [
            "Input: NodeArg(name='input', type='tensor(float)', shape=[1, 10])\n",
            "Output: NodeArg(name='variable', type='tensor(float)', shape=[1, 1])\n",
            "[array([[172.3]], dtype=float32)]\n",
            "Moyenne: 28.42 \u00b5s Ecart-type 7.85 \u00b5s (with 20 runs) in [18.47 \u00b5s, 47.33 \u00b5s]\n"
          ]
        }
      ],
      "source": [
        "if ok_onnx:\n",
        "    sess = onnxruntime.InferenceSession(\"model_rf.onnx\")\n",
        "    for i in sess.get_inputs():\n",
        "        print('Input:', i)\n",
        "    for o in sess.get_outputs():\n",
        "        print('Output:', o)\n",
        "    \n",
        "    def predict_onnxrt_rf(x):    \n",
        "        return sess.run([\"variable\"], {'input': x})\n",
        "\n",
        "    print(predict_onnxrt_rf(x.astype(numpy.float32)))\n",
        "    memo_time.append(timeexe(\"onnx-rf\", \"predict_onnxrt_rf(x.astype(numpy.float32))\", repeat=100, number=20))"
      ]
    },
    {
      "cell_type": "markdown",
      "metadata": {},
      "source": [
        "C'est beaucoup plus rapide."
      ]
    },
    {
      "cell_type": "code",
      "execution_count": 88,
      "metadata": {},
      "outputs": [
        {
          "data": {
            "text/html": [
              "<div>\n",
              "<style scoped>\n",
              "    .dataframe tbody tr th:only-of-type {\n",
              "        vertical-align: middle;\n",
              "    }\n",
              "\n",
              "    .dataframe tbody tr th {\n",
              "        vertical-align: top;\n",
              "    }\n",
              "\n",
              "    .dataframe thead th {\n",
              "        text-align: right;\n",
              "    }\n",
              "</style>\n",
              "<table border=\"1\" class=\"dataframe\">\n",
              "  <thead>\n",
              "    <tr style=\"text-align: right;\">\n",
              "      <th></th>\n",
              "      <th>average</th>\n",
              "      <th>code</th>\n",
              "      <th>deviation</th>\n",
              "      <th>first</th>\n",
              "      <th>first3</th>\n",
              "      <th>last3</th>\n",
              "      <th>max5</th>\n",
              "      <th>min5</th>\n",
              "      <th>repeat</th>\n",
              "      <th>run</th>\n",
              "    </tr>\n",
              "    <tr>\n",
              "      <th>legend</th>\n",
              "      <th></th>\n",
              "      <th></th>\n",
              "      <th></th>\n",
              "      <th></th>\n",
              "      <th></th>\n",
              "      <th></th>\n",
              "      <th></th>\n",
              "      <th></th>\n",
              "      <th></th>\n",
              "      <th></th>\n",
              "    </tr>\n",
              "  </thead>\n",
              "  <tbody>\n",
              "    <tr>\n",
              "      <th>onnx-rf</th>\n",
              "      <td>0.000028</td>\n",
              "      <td>predict_onnxrt_rf(x.astype(numpy.float32))</td>\n",
              "      <td>0.000008</td>\n",
              "      <td>0.000029</td>\n",
              "      <td>0.000027</td>\n",
              "      <td>0.000025</td>\n",
              "      <td>0.000047</td>\n",
              "      <td>0.000018</td>\n",
              "      <td>100</td>\n",
              "      <td>20</td>\n",
              "    </tr>\n",
              "    <tr>\n",
              "      <th>sklearn-rf</th>\n",
              "      <td>0.000599</td>\n",
              "      <td>rf.predict(x)</td>\n",
              "      <td>0.000056</td>\n",
              "      <td>0.000910</td>\n",
              "      <td>0.000801</td>\n",
              "      <td>0.000601</td>\n",
              "      <td>0.000736</td>\n",
              "      <td>0.000547</td>\n",
              "      <td>100</td>\n",
              "      <td>20</td>\n",
              "    </tr>\n",
              "  </tbody>\n",
              "</table>\n",
              "</div>"
            ],
            "text/plain": [
              "             average                                        code  deviation  \\\n",
              "legend                                                                        \n",
              "onnx-rf     0.000028  predict_onnxrt_rf(x.astype(numpy.float32))   0.000008   \n",
              "sklearn-rf  0.000599                               rf.predict(x)   0.000056   \n",
              "\n",
              "               first    first3     last3      max5      min5  repeat  run  \n",
              "legend                                                                     \n",
              "onnx-rf     0.000029  0.000027  0.000025  0.000047  0.000018     100   20  \n",
              "sklearn-rf  0.000910  0.000801  0.000601  0.000736  0.000547     100   20  "
            ]
          },
          "execution_count": 89,
          "metadata": {},
          "output_type": "execute_result"
        }
      ],
      "source": [
        "import pandas\n",
        "df2 = pandas.DataFrame(data=memo_time)\n",
        "df2 = df2.set_index(\"legend\").sort_values(\"average\")\n",
        "df2"
      ]
    },
    {
      "cell_type": "code",
      "execution_count": 89,
      "metadata": {},
      "outputs": [
        {
          "data": {
            "image/png": "[encoded data removed]",
            "text/plain": [
              "<Figure size 1008x288 with 1 Axes>"
            ]
          },
          "metadata": {
            "needs_background": "light"
          },
          "output_type": "display_data"
        }
      ],
      "source": [
        "fig, ax = plt.subplots(1, 1, figsize=(14,4))\n",
        "df2[[\"average\", \"deviation\"]].plot(kind=\"barh\", logx=True, ax=ax, xerr=\"deviation\",\n",
        "                                   legend=False, fontsize=12, width=0.8)\n",
        "ax.set_ylabel(\"\")\n",
        "ax.grid(b=True, which=\"major\")\n",
        "ax.grid(b=True, which=\"minor\");"
      ]
    },
    {
      "cell_type": "markdown",
      "metadata": {},
      "source": [
        "### Pr\u00e9diction en batch"
      ]
    },
    {
      "cell_type": "code",
      "execution_count": 90,
      "metadata": {},
      "outputs": [
        {
          "name": "stdout",
          "output_type": "stream",
          "text": [
            "batch = 1\n",
            "Moyenne: 674.08 \u00b5s Ecart-type 216.17 \u00b5s (with 10 runs) in [535.19 \u00b5s, 1.25 ms]\n",
            "Moyenne: 23.35 \u00b5s Ecart-type 7.29 \u00b5s (with 10 runs) in [18.57 \u00b5s, 44.44 \u00b5s]\n",
            "batch = 10\n",
            "Moyenne: 603.57 \u00b5s Ecart-type 46.82 \u00b5s (with 10 runs) in [554.90 \u00b5s, 720.59 \u00b5s]\n",
            "Moyenne: 48.79 \u00b5s Ecart-type 10.54 \u00b5s (with 10 runs) in [38.44 \u00b5s, 72.73 \u00b5s]\n",
            "batch = 100\n",
            "Moyenne: 720.38 \u00b5s Ecart-type 85.23 \u00b5s (with 10 runs) in [625.93 \u00b5s, 878.73 \u00b5s]\n",
            "Moyenne: 277.19 \u00b5s Ecart-type 61.05 \u00b5s (with 10 runs) in [234.94 \u00b5s, 434.57 \u00b5s]\n",
            "batch = 200\n",
            "Moyenne: 754.27 \u00b5s Ecart-type 89.03 \u00b5s (with 10 runs) in [666.03 \u00b5s, 1.01 ms]\n",
            "Moyenne: 469.01 \u00b5s Ecart-type 24.81 \u00b5s (with 10 runs) in [428.60 \u00b5s, 506.47 \u00b5s]\n",
            "batch = 500\n",
            "Moyenne: 937.39 \u00b5s Ecart-type 119.09 \u00b5s (with 10 runs) in [817.82 \u00b5s, 1.14 ms]\n",
            "Moyenne: 1.14 ms Ecart-type 108.41 \u00b5s (with 10 runs) in [1.03 ms, 1.39 ms]\n",
            "batch = 1000\n",
            "Moyenne: 1.14 ms Ecart-type 103.66 \u00b5s (with 10 runs) in [1.01 ms, 1.38 ms]\n",
            "Moyenne: 1.98 ms Ecart-type 60.76 \u00b5s (with 10 runs) in [1.89 ms, 2.12 ms]\n",
            "batch = 2000\n",
            "Moyenne: 1.49 ms Ecart-type 156.51 \u00b5s (with 10 runs) in [1.40 ms, 1.95 ms]\n",
            "Moyenne: 3.99 ms Ecart-type 207.44 \u00b5s (with 10 runs) in [3.76 ms, 4.41 ms]\n",
            "batch = 3000\n",
            "Moyenne: 1.81 ms Ecart-type 112.98 \u00b5s (with 10 runs) in [1.69 ms, 2.01 ms]\n",
            "Moyenne: 5.92 ms Ecart-type 213.19 \u00b5s (with 10 runs) in [5.61 ms, 6.42 ms]\n",
            "batch = 4000\n",
            "Moyenne: 2.17 ms Ecart-type 137.53 \u00b5s (with 10 runs) in [2.01 ms, 2.46 ms]\n",
            "Moyenne: 7.76 ms Ecart-type 389.39 \u00b5s (with 10 runs) in [7.36 ms, 8.73 ms]\n",
            "batch = 5000\n",
            "Moyenne: 2.61 ms Ecart-type 253.06 \u00b5s (with 10 runs) in [2.37 ms, 3.05 ms]\n",
            "Moyenne: 9.85 ms Ecart-type 415.63 \u00b5s (with 10 runs) in [9.49 ms, 10.63 ms]\n",
            "batch = 10000\n",
            "Moyenne: 4.47 ms Ecart-type 337.08 \u00b5s (with 10 runs) in [4.20 ms, 5.31 ms]\n",
            "Moyenne: 20.77 ms Ecart-type 1.84 ms (with 10 runs) in [19.49 ms, 26.13 ms]\n",
            "batch = 20000\n",
            "Moyenne: 9.72 ms Ecart-type 896.79 \u00b5s (with 10 runs) in [8.17 ms, 11.10 ms]\n",
            "Moyenne: 40.78 ms Ecart-type 4.39 ms (with 10 runs) in [36.75 ms, 47.99 ms]\n",
            "batch = 50000\n",
            "Moyenne: 19.34 ms Ecart-type 198.30 \u00b5s (with 10 runs) in [19.15 ms, 19.83 ms]\n",
            "Moyenne: 94.49 ms Ecart-type 402.90 \u00b5s (with 10 runs) in [93.97 ms, 95.18 ms]\n",
            "batch = 75000\n",
            "Moyenne: 29.40 ms Ecart-type 1.49 ms (with 10 runs) in [28.36 ms, 32.51 ms]\n",
            "Moyenne: 148.87 ms Ecart-type 9.32 ms (with 10 runs) in [141.62 ms, 166.68 ms]\n",
            "batch = 100000\n",
            "Moyenne: 39.84 ms Ecart-type 2.04 ms (with 10 runs) in [37.37 ms, 42.91 ms]\n",
            "Moyenne: 305.83 ms Ecart-type 175.02 ms (with 10 runs) in [191.99 ms, 709.25 ms]\n"
          ]
        }
      ],
      "source": [
        "memo = []\n",
        "batch = [1, 10, 100, 200, 500, 1000, 2000, 3000, 4000, 5000, 10000,\n",
        "         20000, 50000, 75000, 100000, 150000, 200000, 300000, 400000,\n",
        "         500000, 600000]\n",
        "number = 10\n",
        "repeat = 10\n",
        "for i in batch[:15]:\n",
        "    if i <= diabetes_X_test.shape[0]:\n",
        "        mx = diabetes_X_test[:i]\n",
        "    else:\n",
        "        mxs = [diabetes_X_test] * (i // diabetes_X_test.shape[0] + 1)\n",
        "        mx = numpy.vstack(mxs)\n",
        "        mx = mx[:i]\n",
        "\n",
        "    print(\"batch\", \"=\", i)\n",
        "    \n",
        "    memo.append(timeexe(\"sklearn.predict %d\" % i, \"rf.predict(mx)\", \n",
        "                        repeat=repeat, number=number))\n",
        "    memo[-1][\"batch\"] = i\n",
        "    memo[-1][\"lib\"] = \"sklearn\"\n",
        "    \n",
        "    if ok_onnx:\n",
        "        memo.append(timeexe(\"onnxruntime %d\" % i, \"predict_onnxrt_rf(mx.astype(numpy.float32))\",\n",
        "                            repeat=repeat, number=number))\n",
        "        memo[-1][\"batch\"] = i\n",
        "        memo[-1][\"lib\"] = \"onnxruntime\""
      ]
    },
    {
      "cell_type": "code",
      "execution_count": 91,
      "metadata": {},
      "outputs": [
        {
          "data": {
            "image/png": "[encoded data removed]",
            "text/plain": [
              "<Figure size 720x360 with 1 Axes>"
            ]
          },
          "metadata": {
            "needs_background": "light"
          },
          "output_type": "display_data"
        }
      ],
      "source": [
        "dfbrf = pandas.DataFrame(memo)[[\"average\", \"lib\", \"batch\"]]\n",
        "pivrf = dfbrf.pivot(\"batch\", \"lib\", \"average\")\n",
        "for c in pivrf.columns:\n",
        "    pivrf[\"ave_\" + c] = pivrf[c] / pivrf.index\n",
        "libs = list(c for c in pivrf.columns if \"ave_\" in c)\n",
        "ax = pivrf.plot(y=libs, logy=True, logx=True, figsize=(10, 5))\n",
        "ax.set_title(\"Evolution du temps de pr\u00e9diction selon la taille du batch\\nrandom forest\")\n",
        "ax.grid(True);"
      ]
    },
    {
      "cell_type": "code",
      "execution_count": 92,
      "metadata": {},
      "outputs": [],
      "source": []
    }
  ],
  "metadata": {
    "kernelspec": {
      "display_name": "Python 3",
      "language": "python",
      "name": "python3"
    },
    "language_info": {
      "codemirror_mode": {
        "name": "ipython",
        "version": 3
      },
      "file_extension": ".py",
      "mimetype": "text/x-python",
      "name": "python",
      "nbconvert_exporter": "python",
      "pygments_lexer": "ipython3",
      "version": "3.7.2"
    }
  },
  "nbformat": 4,
  "nbformat_minor": 2
}