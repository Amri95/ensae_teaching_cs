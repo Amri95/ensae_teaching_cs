{
  "cells": [
    {
      "cell_type": "markdown",
      "metadata": {},
      "source": [
        "# Optimisation de code avec cffi, numba, cython\n",
        "\n",
        "L'id\u00e9e est de recoder une fonction en C. On prend comme exemple la fonction de pr\u00e9diction de la r\u00e9gression lin\u00e9aire de [scikit-learn](http://scikit-learn.org/stable/modules/generated/sklearn.linear_model.LinearRegression.html) et de pr\u00e9voir le gain de temps qu'on obtient en recodant la fonction dans un langage plus rapide."
      ]
    },
    {
      "cell_type": "code",
      "execution_count": 1,
      "metadata": {},
      "outputs": [
        {
          "data": {
            "text/html": [
              "<div id=\"my_id_menu_nb\">run previous cell, wait for 2 seconds</div>\n",
              "<script>\n",
              "function repeat_indent_string(n){\n",
              "    var a = \"\" ;\n",
              "    for ( ; n > 0 ; --n)\n",
              "        a += \"    \";\n",
              "    return a;\n",
              "}\n",
              "// look up into all sections and builds an automated menu //\n",
              "var update_menu_string = function(begin, lfirst, llast, sformat, send, keep_item, begin_format, end_format) {\n",
              "    var anchors = document.getElementsByClassName(\"section\");\n",
              "    if (anchors.length == 0) {\n",
              "        anchors = document.getElementsByClassName(\"text_cell_render rendered_html\");\n",
              "    }\n",
              "    var i,t;\n",
              "    var text_menu = begin;\n",
              "    var text_memo = \"<pre>\\nlength:\" + anchors.length + \"\\n\";\n",
              "    var ind = \"\";\n",
              "    var memo_level = 1;\n",
              "    var href;\n",
              "    var tags = [];\n",
              "    var main_item = 0;\n",
              "    var format_open = 0;\n",
              "    for (i = 0; i <= llast; i++)\n",
              "        tags.push(\"h\" + i);\n",
              "\n",
              "    for (i = 0; i < anchors.length; i++) {\n",
              "        text_memo += \"**\" + anchors[i].id + \"--\\n\";\n",
              "\n",
              "        var child = null;\n",
              "        for(t = 0; t < tags.length; t++) {\n",
              "            var r = anchors[i].getElementsByTagName(tags[t]);\n",
              "            if (r.length > 0) {\n",
              "child = r[0];\n",
              "break;\n",
              "            }\n",
              "        }\n",
              "        if (child == null) {\n",
              "            text_memo += \"null\\n\";\n",
              "            continue;\n",
              "        }\n",
              "        if (anchors[i].hasAttribute(\"id\")) {\n",
              "            // when converted in RST\n",
              "            href = anchors[i].id;\n",
              "            text_memo += \"#1-\" + href;\n",
              "            // passer \u00e0 child suivant (le chercher)\n",
              "        }\n",
              "        else if (child.hasAttribute(\"id\")) {\n",
              "            // in a notebook\n",
              "            href = child.id;\n",
              "            text_memo += \"#2-\" + href;\n",
              "        }\n",
              "        else {\n",
              "            text_memo += \"#3-\" + \"*\" + \"\\n\";\n",
              "            continue;\n",
              "        }\n",
              "        var title = child.textContent;\n",
              "        var level = parseInt(child.tagName.substring(1,2));\n",
              "\n",
              "        text_memo += \"--\" + level + \"?\" + lfirst + \"--\" + title + \"\\n\";\n",
              "\n",
              "        if ((level < lfirst) || (level > llast)) {\n",
              "            continue ;\n",
              "        }\n",
              "        if (title.endsWith('\u00b6')) {\n",
              "            title = title.substring(0,title.length-1).replace(\"<\", \"&lt;\")\n",
              "         .replace(\">\", \"&gt;\").replace(\"&\", \"&amp;\");\n",
              "        }\n",
              "        if (title.length == 0) {\n",
              "            continue;\n",
              "        }\n",
              "\n",
              "        while (level < memo_level) {\n",
              "            text_menu += end_format + \"</ul>\\n\";\n",
              "            format_open -= 1;\n",
              "            memo_level -= 1;\n",
              "        }\n",
              "        if (level == lfirst) {\n",
              "            main_item += 1;\n",
              "        }\n",
              "        if (keep_item != -1 && main_item != keep_item + 1) {\n",
              "            // alert(main_item + \" - \" + level + \" - \" + keep_item);\n",
              "            continue;\n",
              "        }\n",
              "        while (level > memo_level) {\n",
              "            text_menu += \"<ul>\\n\";\n",
              "            memo_level += 1;\n",
              "        }\n",
              "        text_menu += repeat_indent_string(level-2);\n",
              "        text_menu += begin_format + sformat.replace(\"__HREF__\", href).replace(\"__TITLE__\", title);\n",
              "        format_open += 1;\n",
              "    }\n",
              "    while (1 < memo_level) {\n",
              "        text_menu += end_format + \"</ul>\\n\";\n",
              "        memo_level -= 1;\n",
              "        format_open -= 1;\n",
              "    }\n",
              "    text_menu += send;\n",
              "    //text_menu += \"\\n\" + text_memo;\n",
              "\n",
              "    while (format_open > 0) {\n",
              "        text_menu += end_format;\n",
              "        format_open -= 1;\n",
              "    }\n",
              "    return text_menu;\n",
              "};\n",
              "var update_menu = function() {\n",
              "    var sbegin = \"\";\n",
              "    var sformat = '<a href=\"#__HREF__\">__TITLE__</a>';\n",
              "    var send = \"\";\n",
              "    var begin_format = '<li>';\n",
              "    var end_format = '</li>';\n",
              "    var keep_item = -1;\n",
              "    var text_menu = update_menu_string(sbegin, 2, 4, sformat, send, keep_item,\n",
              "       begin_format, end_format);\n",
              "    var menu = document.getElementById(\"my_id_menu_nb\");\n",
              "    menu.innerHTML=text_menu;\n",
              "};\n",
              "window.setTimeout(update_menu,2000);\n",
              "            </script>"
            ],
            "text/plain": [
              "<IPython.core.display.HTML object>"
            ]
          },
          "execution_count": 2,
          "metadata": {},
          "output_type": "execute_result"
        }
      ],
      "source": [
        "from jyquickhelper import add_notebook_menu\n",
        "add_notebook_menu()"
      ]
    },
    {
      "cell_type": "code",
      "execution_count": 2,
      "metadata": {},
      "outputs": [],
      "source": [
        "memo_time = []\n",
        "import timeit\n",
        "\n",
        "def unit(x):\n",
        "    if x >= 1: return \"%1.2f s\" % x\n",
        "    elif x >= 1e-3: return \"%1.2f ms\" % (x* 1000)\n",
        "    elif x >= 1e-6: return \"%1.2f \u00b5s\" % (x* 1000**2)\n",
        "    elif x >= 1e-9: return \"%1.2f ns\" % (x* 1000**3)\n",
        "    else:\n",
        "        return \"%1.2g s\" % x\n",
        "\n",
        "def timeexe(legend, code, number=100, repeat=1000):\n",
        "    rep = timeit.repeat(code, number=number, repeat=repeat, globals=globals())\n",
        "    ave = sum(rep) / (number * repeat)\n",
        "    std = (sum((x/number - ave)**2 for x in rep) / repeat)**0.5\n",
        "    fir = rep[0]/number\n",
        "    fir3 = sum(rep[:3]) / (3 * number)\n",
        "    las3 = sum(rep[-3:]) / (3 * number)\n",
        "    rep.sort()\n",
        "    mini = rep[len(rep)//20] / number\n",
        "    maxi = rep[-len(rep)//20] / number\n",
        "    print(\"Moyenne: %s Ecart-type %s (with %d runs) in [%s, %s]\" % (\n",
        "                unit(ave), unit(std), number, unit(mini), unit(maxi)))\n",
        "    return dict(legend=legend, average=ave, deviation=std, first=fir, first3=fir3,\n",
        "                last3=las3, repeat=repeat, min5=mini, max5=maxi, code=code, run=number)"
      ]
    },
    {
      "cell_type": "markdown",
      "metadata": {},
      "source": [
        "## R\u00e9gression lin\u00e9aire"
      ]
    },
    {
      "cell_type": "code",
      "execution_count": 3,
      "metadata": {},
      "outputs": [],
      "source": [
        "from sklearn.datasets import load_diabetes\n",
        "diabetes = load_diabetes()\n",
        "diabetes_X_train = diabetes.data[:-20]\n",
        "diabetes_X_test  = diabetes.data[-20:]\n",
        "diabetes_y_train = diabetes.target[:-20]\n",
        "diabetes_y_test  = diabetes.target[-20:]"
      ]
    },
    {
      "cell_type": "code",
      "execution_count": 4,
      "metadata": {},
      "outputs": [
        {
          "data": {
            "text/plain": [
              "LinearRegression(copy_X=True, fit_intercept=True, n_jobs=None, normalize=False)"
            ]
          },
          "execution_count": 5,
          "metadata": {},
          "output_type": "execute_result"
        }
      ],
      "source": [
        "from sklearn.linear_model import LinearRegression\n",
        "clr = LinearRegression()\n",
        "clr.fit(diabetes_X_train, diabetes_y_train)"
      ]
    },
    {
      "cell_type": "code",
      "execution_count": 5,
      "metadata": {},
      "outputs": [
        {
          "data": {
            "text/plain": [
              "array([ 3.03499549e-01, -2.37639315e+02,  5.10530605e+02,  3.27736980e+02,\n",
              "       -8.14131709e+02,  4.92814588e+02,  1.02848452e+02,  1.84606489e+02,\n",
              "        7.43519617e+02,  7.60951722e+01])"
            ]
          },
          "execution_count": 6,
          "metadata": {},
          "output_type": "execute_result"
        }
      ],
      "source": [
        "clr.coef_"
      ]
    },
    {
      "cell_type": "code",
      "execution_count": 6,
      "metadata": {},
      "outputs": [
        {
          "data": {
            "text/plain": [
              "152.76430691633442"
            ]
          },
          "execution_count": 7,
          "metadata": {},
          "output_type": "execute_result"
        }
      ],
      "source": [
        "clr.intercept_"
      ]
    },
    {
      "cell_type": "code",
      "execution_count": 7,
      "metadata": {},
      "outputs": [
        {
          "name": "stdout",
          "output_type": "stream",
          "text": [
            "Moyenne: 79.21 \u00b5s Ecart-type 22.31 \u00b5s (with 100 runs) in [51.07 \u00b5s, 122.22 \u00b5s]\n"
          ]
        }
      ],
      "source": [
        "z = diabetes_X_test[0:1,:]\n",
        "memo_time.append(timeexe(\"sklearn.predict\", \"clr.predict(z)\"))"
      ]
    },
    {
      "cell_type": "code",
      "execution_count": 8,
      "metadata": {},
      "outputs": [
        {
          "name": "stdout",
          "output_type": "stream",
          "text": [
            "77.4 \u00b5s \u00b1 2.33 \u00b5s per loop (mean \u00b1 std. dev. of 7 runs, 10000 loops each)\n"
          ]
        }
      ],
      "source": [
        "%timeit clr.predict(z)"
      ]
    },
    {
      "cell_type": "markdown",
      "metadata": {},
      "source": [
        "### optimisation avec cffi\n",
        "\n",
        "On s'inspire de l'exemple [Purely for performance (API level, out-of-line)](http://cffi.readthedocs.io/en/latest/overview.html?highlight=example#purely-for-performance-api-level-out-of-line)."
      ]
    },
    {
      "cell_type": "code",
      "execution_count": 9,
      "metadata": {
        "scrolled": false
      },
      "outputs": [
        {
          "name": "stdout",
          "output_type": "stream",
          "text": [
            "generating .\\_linear_regression.c\n",
            "(already up-to-date)\n",
            "the current directory is 'C:\\\\xavierdupre\\\\__home_\\\\GitHub\\\\ensae_teaching_cs\\\\_doc\\\\notebooks\\\\2a'\n",
            "running build_ext\n",
            "building '_linear_regression' extension\n",
            "C:\\Program Files (x86)\\Microsoft Visual Studio\\2017\\Community\\VC\\Tools\\MSVC\\14.16.27023\\bin\\HostX86\\x64\\cl.exe /c /nologo /Ox /W3 /GL /DNDEBUG /MD -Ic:\\python372_x64\\include -Ic:\\python372_x64\\include \"-IC:\\Program Files (x86)\\Microsoft Visual Studio\\2017\\Community\\VC\\Tools\\MSVC\\14.16.27023\\ATLMFC\\include\" \"-IC:\\Program Files (x86)\\Microsoft Visual Studio\\2017\\Community\\VC\\Tools\\MSVC\\14.16.27023\\include\" \"-IC:\\Program Files (x86)\\Windows Kits\\NETFXSDK\\4.6.1\\include\\um\" \"-IC:\\Program Files (x86)\\Windows Kits\\10\\include\\10.0.17763.0\\ucrt\" \"-IC:\\Program Files (x86)\\Windows Kits\\10\\include\\10.0.17763.0\\shared\" \"-IC:\\Program Files (x86)\\Windows Kits\\10\\include\\10.0.17763.0\\um\" \"-IC:\\Program Files (x86)\\Windows Kits\\10\\include\\10.0.17763.0\\winrt\" \"-IC:\\Program Files (x86)\\Windows Kits\\10\\include\\10.0.17763.0\\cppwinrt\" /Tc_linear_regression.c /Fo.\\Release\\_linear_regression.obj\n",
            "C:\\Program Files (x86)\\Microsoft Visual Studio\\2017\\Community\\VC\\Tools\\MSVC\\14.16.27023\\bin\\HostX86\\x64\\link.exe /nologo /INCREMENTAL:NO /LTCG /DLL /MANIFEST:EMBED,ID=2 /MANIFESTUAC:NO /LIBPATH:c:\\python372_x64\\libs /LIBPATH:c:\\python372_x64\\PCbuild\\amd64 \"/LIBPATH:C:\\Program Files (x86)\\Microsoft Visual Studio\\2017\\Community\\VC\\Tools\\MSVC\\14.16.27023\\ATLMFC\\lib\\x64\" \"/LIBPATH:C:\\Program Files (x86)\\Microsoft Visual Studio\\2017\\Community\\VC\\Tools\\MSVC\\14.16.27023\\lib\\x64\" \"/LIBPATH:C:\\Program Files (x86)\\Windows Kits\\NETFXSDK\\4.6.1\\lib\\um\\x64\" \"/LIBPATH:C:\\Program Files (x86)\\Windows Kits\\10\\lib\\10.0.17763.0\\ucrt\\x64\" \"/LIBPATH:C:\\Program Files (x86)\\Windows Kits\\10\\lib\\10.0.17763.0\\um\\x64\" /EXPORT:PyInit__linear_regression .\\Release\\_linear_regression.obj /OUT:.\\_linear_regression.cp37-win_amd64.pyd /IMPLIB:.\\Release\\_linear_regression.cp37-win_amd64.lib\n"
          ]
        },
        {
          "data": {
            "text/plain": [
              "'C:\\\\xavierdupre\\\\__home_\\\\GitHub\\\\ensae_teaching_cs\\\\_doc\\\\notebooks\\\\2a\\\\_linear_regression.cp37-win_amd64.pyd'"
            ]
          },
          "execution_count": 10,
          "metadata": {},
          "output_type": "execute_result"
        }
      ],
      "source": [
        "from cffi import FFI\n",
        "ffibuilder = FFI()\n",
        "\n",
        "ffibuilder.cdef(\"int linreg(int, double *, double *, double, double *);\")\n",
        "\n",
        "ffibuilder.set_source(\"_linear_regression\",\n",
        "r\"\"\"\n",
        "    static int linreg(int dimension, double * x, double *coef, double intercept, double * out)\n",
        "    {\n",
        "        for(; dimension > 0; --dimension, ++x, ++coef)\n",
        "            intercept += *x * *coef;\n",
        "        *out = intercept;\n",
        "        return 1;\n",
        "    }\n",
        "\"\"\")\n",
        "\n",
        "ffibuilder.compile(verbose=True)"
      ]
    },
    {
      "cell_type": "markdown",
      "metadata": {},
      "source": [
        "La fonction compil\u00e9e est accessible comme suit."
      ]
    },
    {
      "cell_type": "code",
      "execution_count": 10,
      "metadata": {},
      "outputs": [
        {
          "data": {
            "text/plain": [
              "<function _linear_regression.CompiledLib.linreg>"
            ]
          },
          "execution_count": 11,
          "metadata": {},
          "output_type": "execute_result"
        }
      ],
      "source": [
        "from _linear_regression import ffi, lib\n",
        "lib.linreg"
      ]
    },
    {
      "cell_type": "markdown",
      "metadata": {},
      "source": [
        "On s'inspire de l'exemple [How to pass a Numpy array into a cffi function and how to get one back out?](https://stackoverflow.com/questions/16276268/how-to-pass-a-numpy-array-into-a-cffi-function-and-how-to-get-one-back-out)."
      ]
    },
    {
      "cell_type": "code",
      "execution_count": 11,
      "metadata": {},
      "outputs": [],
      "source": [
        "import numpy\n",
        "out = numpy.zeros(1)"
      ]
    },
    {
      "cell_type": "code",
      "execution_count": 12,
      "metadata": {},
      "outputs": [],
      "source": [
        "ptr_coef = clr.coef_.__array_interface__['data'][0]\n",
        "cptr_coef = ffi.cast ( \"double*\" , ptr_coef )"
      ]
    },
    {
      "cell_type": "code",
      "execution_count": 13,
      "metadata": {},
      "outputs": [],
      "source": [
        "x = diabetes_X_test[0:1,:]\n",
        "ptr_x = x.__array_interface__['data'][0]\n",
        "cptr_x = ffi.cast ( \"double*\" , ptr_x )"
      ]
    },
    {
      "cell_type": "code",
      "execution_count": 14,
      "metadata": {},
      "outputs": [],
      "source": [
        "ptr_out = out.__array_interface__['data'][0]\n",
        "cptr_out = ffi.cast ( \"double*\" , ptr_out )"
      ]
    },
    {
      "cell_type": "code",
      "execution_count": 15,
      "metadata": {},
      "outputs": [
        {
          "data": {
            "text/plain": [
              "1"
            ]
          },
          "execution_count": 16,
          "metadata": {},
          "output_type": "execute_result"
        }
      ],
      "source": [
        "n = len(clr.coef_)\n",
        "lib.linreg(n, cptr_x, cptr_coef, clr.intercept_, cptr_out)"
      ]
    },
    {
      "cell_type": "code",
      "execution_count": 16,
      "metadata": {},
      "outputs": [
        {
          "data": {
            "text/plain": [
              "array([197.61846908])"
            ]
          },
          "execution_count": 17,
          "metadata": {},
          "output_type": "execute_result"
        }
      ],
      "source": [
        "out"
      ]
    },
    {
      "cell_type": "markdown",
      "metadata": {},
      "source": [
        "On v\u00e9rifie qu'on obtient bien la m\u00eame chose."
      ]
    },
    {
      "cell_type": "code",
      "execution_count": 17,
      "metadata": {},
      "outputs": [
        {
          "data": {
            "text/plain": [
              "array([197.61846908])"
            ]
          },
          "execution_count": 18,
          "metadata": {},
          "output_type": "execute_result"
        }
      ],
      "source": [
        "clr.predict(x)"
      ]
    },
    {
      "cell_type": "markdown",
      "metadata": {},
      "source": [
        "Et on mesure le temps d'ex\u00e9cution :"
      ]
    },
    {
      "cell_type": "code",
      "execution_count": 18,
      "metadata": {},
      "outputs": [
        {
          "name": "stdout",
          "output_type": "stream",
          "text": [
            "Moyenne: 922.46 ns Ecart-type 835.86 ns (with 100 runs) in [513.00 ns, 1.36 \u00b5s]\n"
          ]
        }
      ],
      "source": [
        "memo_time.append(timeexe(\"cffi-linreg\", \"lib.linreg(n, cptr_x, cptr_coef, clr.intercept_, cptr_out)\"))"
      ]
    },
    {
      "cell_type": "markdown",
      "metadata": {},
      "source": [
        "C'est beaucoup plus rapide. Pour \u00eatre totalement honn\u00eate, il faut mesurer les \u00e9tapes qui consiste \u00e0 extraire les pointeurs."
      ]
    },
    {
      "cell_type": "code",
      "execution_count": 19,
      "metadata": {},
      "outputs": [
        {
          "data": {
            "text/plain": [
              "array([152.74058378])"
            ]
          },
          "execution_count": 20,
          "metadata": {},
          "output_type": "execute_result"
        }
      ],
      "source": [
        "def predict_clr(x, clr):\n",
        "    out = numpy.zeros(1)\n",
        "    ptr_coef = clr.coef_.__array_interface__['data'][0]\n",
        "    cptr_coef = ffi.cast ( \"double*\" , ptr_coef )\n",
        "    ptr_x = x.__array_interface__['data'][0]\n",
        "    cptr_x = ffi.cast ( \"double*\" , ptr_x )  \n",
        "    ptr_out = out.__array_interface__['data'][0]\n",
        "    cptr_out = ffi.cast ( \"double*\" , ptr_out ) \n",
        "    lib.linreg(len(x), cptr_x, cptr_coef, clr.intercept_, cptr_out)\n",
        "    return out\n",
        "\n",
        "predict_clr(x, clr)"
      ]
    },
    {
      "cell_type": "code",
      "execution_count": 20,
      "metadata": {},
      "outputs": [
        {
          "name": "stdout",
          "output_type": "stream",
          "text": [
            "Moyenne: 16.03 \u00b5s Ecart-type 5.63 \u00b5s (with 100 runs) in [8.77 \u00b5s, 27.25 \u00b5s]\n"
          ]
        }
      ],
      "source": [
        "memo_time.append(timeexe(\"cffi-linreg-wrapped\", \"predict_clr(x, clr)\"))"
      ]
    },
    {
      "cell_type": "markdown",
      "metadata": {},
      "source": [
        "Cela reste plus rapide."
      ]
    },
    {
      "cell_type": "markdown",
      "metadata": {},
      "source": [
        "### cffi - seconde version\n",
        "\n",
        "Comme on construit la fonction en dynamique (le code est connu lors de l'ex\u00e9cution), on peut facilement se passer de la boucle et \u00e9crire le code sans boucle et avec les coefficients."
      ]
    },
    {
      "cell_type": "code",
      "execution_count": 21,
      "metadata": {},
      "outputs": [
        {
          "data": {
            "text/plain": [
              "'0.3034995490657413*x[0] + -237.6393153335348*x[1] + 510.53060543622456*x[2] + 327.73698040934715*x[3] + -814.1317093725389*x[4] + 492.8145879837313*x[5] + 102.84845219167991*x[6] + 184.60648905984044*x[7] + 743.5196167505418*x[8] + 76.09517221662408*x[9]'"
            ]
          },
          "execution_count": 22,
          "metadata": {},
          "output_type": "execute_result"
        }
      ],
      "source": [
        "res = \" + \".join(\"{0}*x[{1}]\".format(c, i) for i, c in enumerate(clr.coef_))\n",
        "res"
      ]
    },
    {
      "cell_type": "code",
      "execution_count": 22,
      "metadata": {},
      "outputs": [
        {
          "name": "stdout",
          "output_type": "stream",
          "text": [
            "\n",
            "    static int linreg_custom(double * x, double * out)\n",
            "    {\n",
            "        out[0] = 152.76430691633442 + 0.3034995490657413*x[0] + -237.6393153335348*x[1] + 510.53060543622456*x[2] + 327.73698040934715*x[3] + -814.1317093725389*x[4] + 492.8145879837313*x[5] + 102.84845219167991*x[6] + 184.60648905984044*x[7] + 743.5196167505418*x[8] + 76.09517221662408*x[9];\n",
            "    }\n",
            "\n"
          ]
        }
      ],
      "source": [
        "code = \"\"\"\n",
        "    static int linreg_custom(double * x, double * out)\n",
        "    {{\n",
        "        out[0] = {0} + {1};\n",
        "    }}\n",
        "\"\"\".format(clr.intercept_, res)\n",
        "print(code)"
      ]
    },
    {
      "cell_type": "code",
      "execution_count": 23,
      "metadata": {
        "scrolled": false
      },
      "outputs": [
        {
          "name": "stdout",
          "output_type": "stream",
          "text": [
            "generating .\\_linear_regression_custom.c\n",
            "the current directory is 'C:\\\\xavierdupre\\\\__home_\\\\GitHub\\\\ensae_teaching_cs\\\\_doc\\\\notebooks\\\\2a'\n",
            "running build_ext\n",
            "building '_linear_regression_custom' extension\n",
            "C:\\Program Files (x86)\\Microsoft Visual Studio\\2017\\Community\\VC\\Tools\\MSVC\\14.16.27023\\bin\\HostX86\\x64\\cl.exe /c /nologo /Ox /W3 /GL /DNDEBUG /MD -Ic:\\python372_x64\\include -Ic:\\python372_x64\\include \"-IC:\\Program Files (x86)\\Microsoft Visual Studio\\2017\\Community\\VC\\Tools\\MSVC\\14.16.27023\\ATLMFC\\include\" \"-IC:\\Program Files (x86)\\Microsoft Visual Studio\\2017\\Community\\VC\\Tools\\MSVC\\14.16.27023\\include\" \"-IC:\\Program Files (x86)\\Windows Kits\\NETFXSDK\\4.6.1\\include\\um\" \"-IC:\\Program Files (x86)\\Windows Kits\\10\\include\\10.0.17763.0\\ucrt\" \"-IC:\\Program Files (x86)\\Windows Kits\\10\\include\\10.0.17763.0\\shared\" \"-IC:\\Program Files (x86)\\Windows Kits\\10\\include\\10.0.17763.0\\um\" \"-IC:\\Program Files (x86)\\Windows Kits\\10\\include\\10.0.17763.0\\winrt\" \"-IC:\\Program Files (x86)\\Windows Kits\\10\\include\\10.0.17763.0\\cppwinrt\" /Tc_linear_regression_custom.c /Fo.\\Release\\_linear_regression_custom.obj\n",
            "C:\\Program Files (x86)\\Microsoft Visual Studio\\2017\\Community\\VC\\Tools\\MSVC\\14.16.27023\\bin\\HostX86\\x64\\link.exe /nologo /INCREMENTAL:NO /LTCG /DLL /MANIFEST:EMBED,ID=2 /MANIFESTUAC:NO /LIBPATH:c:\\python372_x64\\libs /LIBPATH:c:\\python372_x64\\PCbuild\\amd64 \"/LIBPATH:C:\\Program Files (x86)\\Microsoft Visual Studio\\2017\\Community\\VC\\Tools\\MSVC\\14.16.27023\\ATLMFC\\lib\\x64\" \"/LIBPATH:C:\\Program Files (x86)\\Microsoft Visual Studio\\2017\\Community\\VC\\Tools\\MSVC\\14.16.27023\\lib\\x64\" \"/LIBPATH:C:\\Program Files (x86)\\Windows Kits\\NETFXSDK\\4.6.1\\lib\\um\\x64\" \"/LIBPATH:C:\\Program Files (x86)\\Windows Kits\\10\\lib\\10.0.17763.0\\ucrt\\x64\" \"/LIBPATH:C:\\Program Files (x86)\\Windows Kits\\10\\lib\\10.0.17763.0\\um\\x64\" /EXPORT:PyInit__linear_regression_custom .\\Release\\_linear_regression_custom.obj /OUT:.\\_linear_regression_custom.cp37-win_amd64.pyd /IMPLIB:.\\Release\\_linear_regression_custom.cp37-win_amd64.lib\n"
          ]
        },
        {
          "data": {
            "text/plain": [
              "'C:\\\\xavierdupre\\\\__home_\\\\GitHub\\\\ensae_teaching_cs\\\\_doc\\\\notebooks\\\\2a\\\\_linear_regression_custom.cp37-win_amd64.pyd'"
            ]
          },
          "execution_count": 24,
          "metadata": {},
          "output_type": "execute_result"
        }
      ],
      "source": [
        "from cffi import FFI\n",
        "ffibuilder = FFI()\n",
        "\n",
        "ffibuilder.cdef(\"int linreg_custom(double *, double *);\")\n",
        "ffibuilder.set_source(\"_linear_regression_custom\", code)\n",
        "ffibuilder.compile(verbose=True)"
      ]
    },
    {
      "cell_type": "code",
      "execution_count": 24,
      "metadata": {},
      "outputs": [
        {
          "data": {
            "text/plain": [
              "array([197.61846908])"
            ]
          },
          "execution_count": 25,
          "metadata": {},
          "output_type": "execute_result"
        }
      ],
      "source": [
        "from _linear_regression_custom.lib import linreg_custom\n",
        "linreg_custom(cptr_x, cptr_out)\n",
        "out"
      ]
    },
    {
      "cell_type": "code",
      "execution_count": 25,
      "metadata": {},
      "outputs": [
        {
          "name": "stdout",
          "output_type": "stream",
          "text": [
            "Moyenne: 646.69 ns Ecart-type 676.62 ns (with 100 runs) in [390.00 ns, 1.17 \u00b5s]\n"
          ]
        }
      ],
      "source": [
        "memo_time.append(timeexe(\"cffi-linreg-custom\", \"linreg_custom(cptr_x, cptr_out)\"))"
      ]
    },
    {
      "cell_type": "markdown",
      "metadata": {},
      "source": [
        "On a gagn\u00e9 un facteur 2."
      ]
    },
    {
      "cell_type": "code",
      "execution_count": 26,
      "metadata": {},
      "outputs": [
        {
          "data": {
            "text/plain": [
              "array([197.61846908])"
            ]
          },
          "execution_count": 27,
          "metadata": {},
          "output_type": "execute_result"
        }
      ],
      "source": [
        "def predict_clr_custom(x):\n",
        "    out = numpy.zeros(1)\n",
        "    ptr_x = x.__array_interface__['data'][0]\n",
        "    cptr_x = ffi.cast(\"double*\", ptr_x)\n",
        "    ptr_out = out.__array_interface__['data'][0]\n",
        "    cptr_out = ffi.cast(\"double*\", ptr_out)\n",
        "    linreg_custom(cptr_x, cptr_out)\n",
        "    return out\n",
        "\n",
        "predict_clr_custom(x)"
      ]
    },
    {
      "cell_type": "code",
      "execution_count": 27,
      "metadata": {},
      "outputs": [
        {
          "name": "stdout",
          "output_type": "stream",
          "text": [
            "Moyenne: 11.64 \u00b5s Ecart-type 4.67 \u00b5s (with 100 runs) in [5.88 \u00b5s, 20.57 \u00b5s]\n"
          ]
        }
      ],
      "source": [
        "memo_time.append(timeexe(\"cffi-linreg-custom wrapped\", \"predict_clr_custom(x)\"))"
      ]
    },
    {
      "cell_type": "markdown",
      "metadata": {},
      "source": [
        "C'est un peu plus rapide."
      ]
    },
    {
      "cell_type": "markdown",
      "metadata": {
        "collapsed": true
      },
      "source": [
        "### et en float?\n",
        "\n",
        "L'ordinateur fait la distinction entre les [double](https://en.wikipedia.org/wiki/Double-precision_floating-point_format) code sur 64 bit et les [float](https://en.wikipedia.org/wiki/Single-precision_floating-point_format) cod\u00e9 sur 32 bits. La pr\u00e9cision est meilleure dans le premier cas et les calculs sont plus rapides dans le second. Dans le cas du machine learning, on pr\u00e9f\u00e8re la rapidit\u00e9 \u00e0 une perte pr\u00e9cision en pr\u00e9cision qui est souvent compens\u00e9e par l'optimisation inh\u00e9rente \u00e0 tout probl\u00e8me de machine learning. Ce qu'on perd sur une observation, on le retrouve sur une autre."
      ]
    },
    {
      "cell_type": "code",
      "execution_count": 28,
      "metadata": {},
      "outputs": [
        {
          "data": {
            "text/plain": [
              "'0.3034995490657413f*x[0] + -237.6393153335348f*x[1] + 510.53060543622456f*x[2] + 327.73698040934715f*x[3] + -814.1317093725389f*x[4] + 492.8145879837313f*x[5] + 102.84845219167991f*x[6] + 184.60648905984044f*x[7] + 743.5196167505418f*x[8] + 76.09517221662408f*x[9]'"
            ]
          },
          "execution_count": 29,
          "metadata": {},
          "output_type": "execute_result"
        }
      ],
      "source": [
        "res = \" + \".join(\"{0}f*x[{1}]\".format(c, i) for i, c in enumerate(clr.coef_))\n",
        "res"
      ]
    },
    {
      "cell_type": "code",
      "execution_count": 29,
      "metadata": {},
      "outputs": [
        {
          "name": "stdout",
          "output_type": "stream",
          "text": [
            "\n",
            "    static int linreg_custom_float(float * x, float * out)\n",
            "    {\n",
            "        out[0] = 152.76430691633442f + 0.3034995490657413f*x[0] + -237.6393153335348f*x[1] + 510.53060543622456f*x[2] + 327.73698040934715f*x[3] + -814.1317093725389f*x[4] + 492.8145879837313f*x[5] + 102.84845219167991f*x[6] + 184.60648905984044f*x[7] + 743.5196167505418f*x[8] + 76.09517221662408f*x[9];\n",
            "    }\n",
            "\n"
          ]
        }
      ],
      "source": [
        "code = \"\"\"\n",
        "    static int linreg_custom_float(float * x, float * out)\n",
        "    {{\n",
        "        out[0] = {0}f + {1};\n",
        "    }}\n",
        "\"\"\".format(clr.intercept_, res)\n",
        "print(code)"
      ]
    },
    {
      "cell_type": "code",
      "execution_count": 30,
      "metadata": {},
      "outputs": [
        {
          "name": "stdout",
          "output_type": "stream",
          "text": [
            "generating .\\_linear_regression_custom_float.c\n",
            "the current directory is 'C:\\\\xavierdupre\\\\__home_\\\\GitHub\\\\ensae_teaching_cs\\\\_doc\\\\notebooks\\\\2a'\n",
            "running build_ext\n",
            "building '_linear_regression_custom_float' extension\n",
            "C:\\Program Files (x86)\\Microsoft Visual Studio\\2017\\Community\\VC\\Tools\\MSVC\\14.16.27023\\bin\\HostX86\\x64\\cl.exe /c /nologo /Ox /W3 /GL /DNDEBUG /MD -Ic:\\python372_x64\\include -Ic:\\python372_x64\\include \"-IC:\\Program Files (x86)\\Microsoft Visual Studio\\2017\\Community\\VC\\Tools\\MSVC\\14.16.27023\\ATLMFC\\include\" \"-IC:\\Program Files (x86)\\Microsoft Visual Studio\\2017\\Community\\VC\\Tools\\MSVC\\14.16.27023\\include\" \"-IC:\\Program Files (x86)\\Windows Kits\\NETFXSDK\\4.6.1\\include\\um\" \"-IC:\\Program Files (x86)\\Windows Kits\\10\\include\\10.0.17763.0\\ucrt\" \"-IC:\\Program Files (x86)\\Windows Kits\\10\\include\\10.0.17763.0\\shared\" \"-IC:\\Program Files (x86)\\Windows Kits\\10\\include\\10.0.17763.0\\um\" \"-IC:\\Program Files (x86)\\Windows Kits\\10\\include\\10.0.17763.0\\winrt\" \"-IC:\\Program Files (x86)\\Windows Kits\\10\\include\\10.0.17763.0\\cppwinrt\" /Tc_linear_regression_custom_float.c /Fo.\\Release\\_linear_regression_custom_float.obj\n",
            "C:\\Program Files (x86)\\Microsoft Visual Studio\\2017\\Community\\VC\\Tools\\MSVC\\14.16.27023\\bin\\HostX86\\x64\\link.exe /nologo /INCREMENTAL:NO /LTCG /DLL /MANIFEST:EMBED,ID=2 /MANIFESTUAC:NO /LIBPATH:c:\\python372_x64\\libs /LIBPATH:c:\\python372_x64\\PCbuild\\amd64 \"/LIBPATH:C:\\Program Files (x86)\\Microsoft Visual Studio\\2017\\Community\\VC\\Tools\\MSVC\\14.16.27023\\ATLMFC\\lib\\x64\" \"/LIBPATH:C:\\Program Files (x86)\\Microsoft Visual Studio\\2017\\Community\\VC\\Tools\\MSVC\\14.16.27023\\lib\\x64\" \"/LIBPATH:C:\\Program Files (x86)\\Windows Kits\\NETFXSDK\\4.6.1\\lib\\um\\x64\" \"/LIBPATH:C:\\Program Files (x86)\\Windows Kits\\10\\lib\\10.0.17763.0\\ucrt\\x64\" \"/LIBPATH:C:\\Program Files (x86)\\Windows Kits\\10\\lib\\10.0.17763.0\\um\\x64\" /EXPORT:PyInit__linear_regression_custom_float .\\Release\\_linear_regression_custom_float.obj /OUT:.\\_linear_regression_custom_float.cp37-win_amd64.pyd /IMPLIB:.\\Release\\_linear_regression_custom_float.cp37-win_amd64.lib\n"
          ]
        },
        {
          "data": {
            "text/plain": [
              "'C:\\\\xavierdupre\\\\__home_\\\\GitHub\\\\ensae_teaching_cs\\\\_doc\\\\notebooks\\\\2a\\\\_linear_regression_custom_float.cp37-win_amd64.pyd'"
            ]
          },
          "execution_count": 31,
          "metadata": {},
          "output_type": "execute_result"
        }
      ],
      "source": [
        "from cffi import FFI\n",
        "ffibuilder = FFI()\n",
        "\n",
        "ffibuilder.cdef(\"int linreg_custom_float(float *, float *);\")\n",
        "ffibuilder.set_source(\"_linear_regression_custom_float\", code)\n",
        "ffibuilder.compile(verbose=True)"
      ]
    },
    {
      "cell_type": "code",
      "execution_count": 31,
      "metadata": {},
      "outputs": [],
      "source": [
        "from _linear_regression_custom_float.lib import linreg_custom_float"
      ]
    },
    {
      "cell_type": "code",
      "execution_count": 32,
      "metadata": {},
      "outputs": [],
      "source": [
        "def predict_clr_custom_float(x):\n",
        "    out = numpy.zeros(1, dtype=numpy.float32)\n",
        "    ptr_x = x.__array_interface__['data'][0]\n",
        "    cptr_x = ffi.cast ( \"float*\" , ptr_x )  \n",
        "    ptr_out = out.__array_interface__['data'][0]\n",
        "    cptr_out = ffi.cast ( \"float*\" , ptr_out ) \n",
        "    linreg_custom_float(cptr_x, cptr_out)\n",
        "    return out"
      ]
    },
    {
      "cell_type": "markdown",
      "metadata": {},
      "source": [
        "Avant d'appeler la fonction, on doit transformer le vecteur iniatial en [float32](https://docs.scipy.org/doc/numpy/user/basics.types.html)."
      ]
    },
    {
      "cell_type": "code",
      "execution_count": 33,
      "metadata": {},
      "outputs": [
        {
          "data": {
            "text/plain": [
              "array([152.76430692])"
            ]
          },
          "execution_count": 34,
          "metadata": {},
          "output_type": "execute_result"
        }
      ],
      "source": [
        "x32 = x.astype(numpy.float32)\n",
        "predict_clr_custom(x32)"
      ]
    },
    {
      "cell_type": "code",
      "execution_count": 34,
      "metadata": {},
      "outputs": [
        {
          "name": "stdout",
          "output_type": "stream",
          "text": [
            "Moyenne: 11.84 \u00b5s Ecart-type 7.27 \u00b5s (with 100 runs) in [6.11 \u00b5s, 21.36 \u00b5s]\n"
          ]
        }
      ],
      "source": [
        "memo_time.append(timeexe(\"cffi-linreg-custom-float wrapped\", \"predict_clr_custom(x32)\"))"
      ]
    },
    {
      "cell_type": "markdown",
      "metadata": {},
      "source": [
        "La diff\u00e9rence n'est pas flagrante. Mesurons le code C uniquement m\u00eame si la partie Python ne peut pas \u00eatre compl\u00e8tement \u00e9vit\u00e9e."
      ]
    },
    {
      "cell_type": "code",
      "execution_count": 35,
      "metadata": {},
      "outputs": [
        {
          "name": "stdout",
          "output_type": "stream",
          "text": [
            "Moyenne: 557.92 ns Ecart-type 637.89 ns (with 100 runs) in [384.00 ns, 941.00 ns]\n"
          ]
        }
      ],
      "source": [
        "out = numpy.zeros(1, dtype=numpy.float32)\n",
        "ptr_x = x32.__array_interface__['data'][0]\n",
        "cptr_x = ffi.cast ( \"float*\" , ptr_x )  \n",
        "ptr_out = out.__array_interface__['data'][0]\n",
        "cptr_out = ffi.cast ( \"float*\" , ptr_out ) \n",
        "\n",
        "memo_time.append(timeexe(\"cffi-linreg-custom-float32\", \"linreg_custom_float(cptr_x, cptr_out)\"))"
      ]
    },
    {
      "cell_type": "markdown",
      "metadata": {},
      "source": [
        "La diff\u00e9rence n'est pas significative."
      ]
    },
    {
      "cell_type": "markdown",
      "metadata": {},
      "source": [
        "### SIMD\n",
        "\n",
        "C'est un ensemble d'instructions processeur pour faire des op\u00e9rations terme \u00e0 terme sur 4 float32 aussi rapidement qu'une seule. Le processeur ne peut faire des op\u00e9rations que les nombres sont copi\u00e9s dans ses registres. Le programme passe alors son temps \u00e0 copier des nombres depuis la m\u00e9moire vers les registres du processeur puis \u00e0 faire la copie dans le chemin inverse pour le r\u00e9sultat. Les instructions [SIMD](https://en.wikipedia.org/wiki/SIMD) font gagner du temps du niveau du calcul. Au lieu de faire 4 op\u00e9rations de multiplication terme \u00e0 terme, il n'en fait plus qu'une. Il suffit de savoir comment utiliser ces instructions. Avec Visual Studio, elles sont accessible via ces fonctions [Memory and Initialization Using Streaming SIMD Extensions](https://msdn.microsoft.com/en-us/library/0hey67c0%28v=vs.100%29.aspx).\n",
        "Le code suivant n'est probablement pas optimal mais il n'est pas trop compliqu\u00e9 \u00e0 suivre."
      ]
    },
    {
      "cell_type": "code",
      "execution_count": 36,
      "metadata": {},
      "outputs": [],
      "source": [
        "code = \"\"\"\n",
        "#include <xmmintrin.h> \n",
        "\n",
        "static int linreg_custom_float_simd(float * x, float * out)\n",
        "{\n",
        "    __m128 c1 = _mm_set_ps(0.3034995490664121f, -237.63931533353392f, 510.5306054362245f, 327.7369804093466f);\n",
        "    __m128 c2 = _mm_set_ps(-814.1317093725389f, 492.81458798373245f, 102.84845219168025f, 184.60648905984064f);\n",
        "    __m128 r1 = _mm_set_ss(152.76430691633442f);\n",
        "    r1 = _mm_add_ss(r1, _mm_mul_ps(c1, _mm_load_ps(x)));\n",
        "    r1 = _mm_add_ss(r1, _mm_mul_ps(c2, _mm_load_ps(x+4)));\n",
        "    float r[4];\n",
        "    _mm_store_ps(r, r1);    \n",
        "    out[0] = r[0] + r[1] + r[2] + r[3] + 743.5196167505419f * x[8] + 76.095172216624f * x[9];\n",
        "    return 1;\n",
        "}\n",
        "\"\"\""
      ]
    },
    {
      "cell_type": "code",
      "execution_count": 37,
      "metadata": {
        "scrolled": false
      },
      "outputs": [
        {
          "name": "stdout",
          "output_type": "stream",
          "text": [
            "generating .\\_linear_regression_custom_float_simd.c\n",
            "(already up-to-date)\n",
            "the current directory is 'C:\\\\xavierdupre\\\\__home_\\\\GitHub\\\\ensae_teaching_cs\\\\_doc\\\\notebooks\\\\2a'\n",
            "running build_ext\n",
            "building '_linear_regression_custom_float_simd' extension\n",
            "C:\\Program Files (x86)\\Microsoft Visual Studio\\2017\\Community\\VC\\Tools\\MSVC\\14.16.27023\\bin\\HostX86\\x64\\cl.exe /c /nologo /Ox /W3 /GL /DNDEBUG /MD -Ic:\\python372_x64\\include -Ic:\\python372_x64\\include \"-IC:\\Program Files (x86)\\Microsoft Visual Studio\\2017\\Community\\VC\\Tools\\MSVC\\14.16.27023\\ATLMFC\\include\" \"-IC:\\Program Files (x86)\\Microsoft Visual Studio\\2017\\Community\\VC\\Tools\\MSVC\\14.16.27023\\include\" \"-IC:\\Program Files (x86)\\Windows Kits\\NETFXSDK\\4.6.1\\include\\um\" \"-IC:\\Program Files (x86)\\Windows Kits\\10\\include\\10.0.17763.0\\ucrt\" \"-IC:\\Program Files (x86)\\Windows Kits\\10\\include\\10.0.17763.0\\shared\" \"-IC:\\Program Files (x86)\\Windows Kits\\10\\include\\10.0.17763.0\\um\" \"-IC:\\Program Files (x86)\\Windows Kits\\10\\include\\10.0.17763.0\\winrt\" \"-IC:\\Program Files (x86)\\Windows Kits\\10\\include\\10.0.17763.0\\cppwinrt\" /Tc_linear_regression_custom_float_simd.c /Fo.\\Release\\_linear_regression_custom_float_simd.obj\n",
            "C:\\Program Files (x86)\\Microsoft Visual Studio\\2017\\Community\\VC\\Tools\\MSVC\\14.16.27023\\bin\\HostX86\\x64\\link.exe /nologo /INCREMENTAL:NO /LTCG /DLL /MANIFEST:EMBED,ID=2 /MANIFESTUAC:NO /LIBPATH:c:\\python372_x64\\libs /LIBPATH:c:\\python372_x64\\PCbuild\\amd64 \"/LIBPATH:C:\\Program Files (x86)\\Microsoft Visual Studio\\2017\\Community\\VC\\Tools\\MSVC\\14.16.27023\\ATLMFC\\lib\\x64\" \"/LIBPATH:C:\\Program Files (x86)\\Microsoft Visual Studio\\2017\\Community\\VC\\Tools\\MSVC\\14.16.27023\\lib\\x64\" \"/LIBPATH:C:\\Program Files (x86)\\Windows Kits\\NETFXSDK\\4.6.1\\lib\\um\\x64\" \"/LIBPATH:C:\\Program Files (x86)\\Windows Kits\\10\\lib\\10.0.17763.0\\ucrt\\x64\" \"/LIBPATH:C:\\Program Files (x86)\\Windows Kits\\10\\lib\\10.0.17763.0\\um\\x64\" /EXPORT:PyInit__linear_regression_custom_float_simd .\\Release\\_linear_regression_custom_float_simd.obj /OUT:.\\_linear_regression_custom_float_simd.cp37-win_amd64.pyd /IMPLIB:.\\Release\\_linear_regression_custom_float_simd.cp37-win_amd64.lib\n"
          ]
        },
        {
          "data": {
            "text/plain": [
              "'C:\\\\xavierdupre\\\\__home_\\\\GitHub\\\\ensae_teaching_cs\\\\_doc\\\\notebooks\\\\2a\\\\_linear_regression_custom_float_simd.cp37-win_amd64.pyd'"
            ]
          },
          "execution_count": 38,
          "metadata": {},
          "output_type": "execute_result"
        }
      ],
      "source": [
        "from cffi import FFI\n",
        "ffibuilder = FFI()\n",
        "\n",
        "ffibuilder.cdef(\"int linreg_custom_float_simd(float *, float *);\")\n",
        "ffibuilder.set_source(\"_linear_regression_custom_float_simd\", code)\n",
        "ffibuilder.compile(verbose=True)"
      ]
    },
    {
      "cell_type": "code",
      "execution_count": 38,
      "metadata": {},
      "outputs": [],
      "source": [
        "from _linear_regression_custom_float_simd.lib import linreg_custom_float_simd"
      ]
    },
    {
      "cell_type": "code",
      "execution_count": 39,
      "metadata": {},
      "outputs": [
        {
          "data": {
            "text/plain": [
              "array([171.1178], dtype=float32)"
            ]
          },
          "execution_count": 40,
          "metadata": {},
          "output_type": "execute_result"
        }
      ],
      "source": [
        "out = numpy.zeros(1, dtype=numpy.float32)\n",
        "ptr_x = x32.__array_interface__['data'][0]\n",
        "cptr_x = ffi.cast ( \"float*\" , ptr_x )  \n",
        "ptr_out = out.__array_interface__['data'][0]\n",
        "cptr_out = ffi.cast ( \"float*\" , ptr_out ) \n",
        "\n",
        "linreg_custom_float_simd(cptr_x, cptr_out)\n",
        "out"
      ]
    },
    {
      "cell_type": "code",
      "execution_count": 40,
      "metadata": {},
      "outputs": [
        {
          "name": "stdout",
          "output_type": "stream",
          "text": [
            "Moyenne: 610.13 ns Ecart-type 238.21 ns (with 100 runs) in [323.00 ns, 783.00 ns]\n"
          ]
        }
      ],
      "source": [
        "memo_time.append(timeexe(\"cffi-linreg-custom-float32-simd\", \"linreg_custom_float_simd(cptr_x, cptr_out)\"))"
      ]
    },
    {
      "cell_type": "markdown",
      "metadata": {},
      "source": [
        "C'est l\u00e9g\u00e8rement mieux, quelques r\u00e9f\u00e9rences :\n",
        "\n",
        "* [aligned_vs_unaligned_load.c](https://gist.github.com/rmcgibbo/7689820) : c'est du code mais facile \u00e0 lire.\n",
        "* [How to Write Fast Numerical Code](https://www.inf.ethz.ch/personal/markusp/teaching/263-2300-ETH-spring11/slides/class17.pdf)\n",
        "\n",
        "Les processeurs \u00e9voluent au fil du temps, 4 float, 8 float, [SIMD2](https://msdn.microsoft.com/en-us/library/kcwz153a%28v=vs.100%29.aspx), [FMA4 Intrinsics Added for Visual Studio 2010 SP1](https://msdn.microsoft.com/en-us/library/gg445134%28v=vs.100%29.aspx), [AVX](https://software.intel.com/en-us/articles/introduction-to-intel-advanced-vector-extensions/)."
      ]
    },
    {
      "cell_type": "markdown",
      "metadata": {
        "collapsed": true
      },
      "source": [
        "### R\u00e9\u00e9criture purement Python\n",
        "\n",
        "On continue avec uniquement du Python sans numpy."
      ]
    },
    {
      "cell_type": "code",
      "execution_count": 41,
      "metadata": {},
      "outputs": [
        {
          "data": {
            "text/plain": [
              "[0.3034995490657413,\n",
              " -237.6393153335348,\n",
              " 510.53060543622456,\n",
              " 327.73698040934715,\n",
              " -814.1317093725389,\n",
              " 492.8145879837313,\n",
              " 102.84845219167991,\n",
              " 184.60648905984044,\n",
              " 743.5196167505418,\n",
              " 76.09517221662408]"
            ]
          },
          "execution_count": 42,
          "metadata": {},
          "output_type": "execute_result"
        }
      ],
      "source": [
        "coef = clr.coef_\n",
        "list(coef)"
      ]
    },
    {
      "cell_type": "code",
      "execution_count": 42,
      "metadata": {},
      "outputs": [
        {
          "data": {
            "text/plain": [
              "'152.76430691633442+x[0]*(0.3034995490657413)+x[1]*(-237.6393153335348)+x[2]*(510.53060543622456)+x[3]*(327.73698040934715)+x[4]*(-814.1317093725389)+x[5]*(492.8145879837313)+x[6]*(102.84845219167991)+x[7]*(184.60648905984044)+x[8]*(743.5196167505418)+x[9]*(76.09517221662408)'"
            ]
          },
          "execution_count": 43,
          "metadata": {},
          "output_type": "execute_result"
        }
      ],
      "source": [
        "code = str(clr.intercept_) + \"+\" + \"+\".join(\"x[{0}]*({1})\".format(i, c) for i, c in enumerate(coef))\n",
        "code"
      ]
    },
    {
      "cell_type": "code",
      "execution_count": 43,
      "metadata": {},
      "outputs": [
        {
          "data": {
            "text/plain": [
              "197.61846907469848"
            ]
          },
          "execution_count": 44,
          "metadata": {},
          "output_type": "execute_result"
        }
      ],
      "source": [
        "def predict_clr_python(x):\n",
        "    return 152.764306916+x[0]*0.3034995490664121+x[1]*(-237.63931533353392)+x[2]*510.5306054362245+ \\\n",
        "            x[3]*327.7369804093466+ \\\n",
        "            x[4]*(-814.1317093725389)+x[5]*492.81458798373245+x[6]*102.84845219168025+ \\\n",
        "            x[7]*184.60648905984064+x[8]*743.5196167505419+x[9]*76.095172216624\n",
        "            \n",
        "predict_clr_python(x[0])"
      ]
    },
    {
      "cell_type": "code",
      "execution_count": 44,
      "metadata": {},
      "outputs": [
        {
          "name": "stdout",
          "output_type": "stream",
          "text": [
            "Moyenne: 5.48 \u00b5s Ecart-type 2.11 \u00b5s (with 100 runs) in [3.15 \u00b5s, 9.04 \u00b5s]\n"
          ]
        }
      ],
      "source": [
        "z = list(x[0])\n",
        "memo_time.append(timeexe(\"python-linreg-custom\", \"predict_clr_python(z)\"))"
      ]
    },
    {
      "cell_type": "markdown",
      "metadata": {},
      "source": [
        "De fa\u00e7on assez surprenante, c'est plut\u00f4t rapide. Et si on y mettait une boucle."
      ]
    },
    {
      "cell_type": "code",
      "execution_count": 45,
      "metadata": {},
      "outputs": [
        {
          "data": {
            "text/plain": [
              "197.61846907503283"
            ]
          },
          "execution_count": 46,
          "metadata": {},
          "output_type": "execute_result"
        }
      ],
      "source": [
        "def predict_clr_python_loop(x, coef, intercept):    \n",
        "    return intercept + sum(a*b for a, b in zip(x, coef))\n",
        "            \n",
        "predict_clr_python_loop(x[0], list(clr.coef_), clr.intercept_)"
      ]
    },
    {
      "cell_type": "code",
      "execution_count": 46,
      "metadata": {},
      "outputs": [
        {
          "name": "stdout",
          "output_type": "stream",
          "text": [
            "Moyenne: 8.79 \u00b5s Ecart-type 4.94 \u00b5s (with 100 runs) in [4.48 \u00b5s, 18.63 \u00b5s]\n"
          ]
        }
      ],
      "source": [
        "coef = list(clr.coef_)\n",
        "intercept = clr.intercept_\n",
        "memo_time.append(timeexe(\"python-linreg\", \"predict_clr_python_loop(z, coef, intercept)\"))"
      ]
    },
    {
      "cell_type": "markdown",
      "metadata": {},
      "source": [
        "A peine plus long."
      ]
    },
    {
      "cell_type": "markdown",
      "metadata": {},
      "source": [
        "### R\u00e9\u00e9criture avec Python et numpy"
      ]
    },
    {
      "cell_type": "code",
      "execution_count": 47,
      "metadata": {},
      "outputs": [
        {
          "data": {
            "text/plain": [
              "197.61846907503283"
            ]
          },
          "execution_count": 48,
          "metadata": {},
          "output_type": "execute_result"
        }
      ],
      "source": [
        "def predict_clr_numpy(x, coef, intercept):    \n",
        "    return intercept + numpy.dot(coef, x).sum()\n",
        "            \n",
        "predict_clr_numpy(x[0], clr.coef_, clr.intercept_)"
      ]
    },
    {
      "cell_type": "code",
      "execution_count": 48,
      "metadata": {},
      "outputs": [
        {
          "name": "stdout",
          "output_type": "stream",
          "text": [
            "Moyenne: 14.68 \u00b5s Ecart-type 6.32 \u00b5s (with 100 runs) in [9.01 \u00b5s, 27.98 \u00b5s]\n"
          ]
        }
      ],
      "source": [
        "memo_time.append(timeexe(\"numpy-linreg-numpy\", \"predict_clr_numpy(z, coef, clr.intercept_)\"))"
      ]
    },
    {
      "cell_type": "markdown",
      "metadata": {},
      "source": [
        "Les dimensions des tableaux sont trop petites pour que le calcul matriciel apporte une diff\u00e9rence. On se retrouve dans le cas *cffi* o\u00f9 les \u00e9changes Python - C grignotent tout le temps de calcul."
      ]
    },
    {
      "cell_type": "markdown",
      "metadata": {},
      "source": [
        "### numba\n",
        "\n",
        "[numba](http://numba.pydata.org/) essaye de compiler \u00e0 la vol\u00e9e des bouts de codes \u00e9crits en Python. On induque quelle fonction optimiser en faisant pr\u00e9c\u00e9der la fonction de ``@jit``. Toutes les \u00e9critures ne fonctionnent, typiquement, certaines listes en compr\u00e9hension soul\u00e8vent une exception. Il faut donc \u00e9crire son code en Python d'une fa\u00e7on assez proche de ce qu'il serait en C."
      ]
    },
    {
      "cell_type": "code",
      "execution_count": 49,
      "metadata": {},
      "outputs": [],
      "source": [
        "from numba import jit"
      ]
    },
    {
      "cell_type": "code",
      "execution_count": 50,
      "metadata": {
        "scrolled": false
      },
      "outputs": [
        {
          "data": {
            "text/plain": [
              "197.6184690750328"
            ]
          },
          "execution_count": 51,
          "metadata": {},
          "output_type": "execute_result"
        }
      ],
      "source": [
        "@jit\n",
        "def predict_clr_numba(x, coef, intercept):\n",
        "    s = intercept\n",
        "    for i in range(0, len(x)):\n",
        "        s += coef[i] * x[i]\n",
        "    return s\n",
        "            \n",
        "predict_clr_numba(z, clr.coef_, clr.intercept_)"
      ]
    },
    {
      "cell_type": "code",
      "execution_count": 51,
      "metadata": {},
      "outputs": [
        {
          "name": "stdout",
          "output_type": "stream",
          "text": [
            "Moyenne: 48.67 \u00b5s Ecart-type 18.92 \u00b5s (with 100 runs) in [26.29 \u00b5s, 80.64 \u00b5s]\n"
          ]
        }
      ],
      "source": [
        "memo_time.append(timeexe(\"numba-linreg-notype\", \"predict_clr_numba(z, clr.coef_, clr.intercept_)\"))"
      ]
    },
    {
      "cell_type": "markdown",
      "metadata": {},
      "source": [
        "Plut\u00f4t rapide !"
      ]
    },
    {
      "cell_type": "code",
      "execution_count": 52,
      "metadata": {},
      "outputs": [
        {
          "data": {
            "text/plain": [
              "197.6184690750328"
            ]
          },
          "execution_count": 53,
          "metadata": {},
          "output_type": "execute_result"
        }
      ],
      "source": [
        "@jit('double(double[:], double[:], double)')\n",
        "def predict_clr_numba_cast(x, coef, intercept):\n",
        "    s = intercept\n",
        "    for i in range(0, len(x)):\n",
        "        s += coef[i] * x[i]\n",
        "    return s\n",
        "            \n",
        "# La fonction ne fonctionne qu'avec un numpy.array car le langage C est fortement typ\u00e9.\n",
        "predict_clr_numba_cast(x[0], clr.coef_, clr.intercept_)"
      ]
    },
    {
      "cell_type": "code",
      "execution_count": 53,
      "metadata": {},
      "outputs": [
        {
          "name": "stdout",
          "output_type": "stream",
          "text": [
            "Moyenne: 1.61 \u00b5s Ecart-type 1.03 \u00b5s (with 100 runs) in [998.00 ns, 2.69 \u00b5s]\n"
          ]
        }
      ],
      "source": [
        "memo_time.append(timeexe(\"numba-linreg-type\", \"predict_clr_numba_cast(x[0], clr.coef_, clr.intercept_)\"))"
      ]
    },
    {
      "cell_type": "markdown",
      "metadata": {},
      "source": [
        "On voit que plus on donne d'information au compilateur, plus il est capable d'optimiser."
      ]
    },
    {
      "cell_type": "code",
      "execution_count": 54,
      "metadata": {},
      "outputs": [
        {
          "data": {
            "text/plain": [
              "197.61846923828125"
            ]
          },
          "execution_count": 55,
          "metadata": {},
          "output_type": "execute_result"
        }
      ],
      "source": [
        "@jit('float32(float32[:], float32[:], float32)')\n",
        "def predict_clr_numba_cast_float(x, coef, intercept):\n",
        "    s = intercept\n",
        "    for i in range(0, len(x)):\n",
        "        s += coef[i] * x[i]\n",
        "    return s\n",
        "            \n",
        "# La fonction ne fonctionne qu'avec un numpy.array car le langage C est fortement typ\u00e9.\n",
        "x32 = x[0].astype(numpy.float32)\n",
        "c32 = clr.coef_.astype(numpy.float32)\n",
        "i32 = numpy.float32(clr.intercept_)\n",
        "predict_clr_numba_cast_float(x32, c32, i32)"
      ]
    },
    {
      "cell_type": "code",
      "execution_count": 55,
      "metadata": {},
      "outputs": [
        {
          "name": "stdout",
          "output_type": "stream",
          "text": [
            "Moyenne: 941.96 ns Ecart-type 535.21 ns (with 100 runs) in [637.00 ns, 1.55 \u00b5s]\n"
          ]
        }
      ],
      "source": [
        "memo_time.append(timeexe(\"numba-linreg-type-float32\", \"predict_clr_numba_cast_float(x32, c32, i32)\"))"
      ]
    },
    {
      "cell_type": "markdown",
      "metadata": {},
      "source": [
        "On essaye avec les coefficients dans la fonction."
      ]
    },
    {
      "cell_type": "code",
      "execution_count": 56,
      "metadata": {},
      "outputs": [
        {
          "data": {
            "text/plain": [
              "197.61846907190048"
            ]
          },
          "execution_count": 57,
          "metadata": {},
          "output_type": "execute_result"
        }
      ],
      "source": [
        "@jit('double(double[:])')\n",
        "def predict_clr_numba_cast_custom(x):\n",
        "    coef = [ 3.03499549e-01, -2.37639315e+02,  5.10530605e+02,  3.27736980e+02,\n",
        "            -8.14131709e+02,  4.92814588e+02,  1.02848452e+02,  1.84606489e+02,\n",
        "             7.43519617e+02,  7.60951722e+01]\n",
        "    s = 152.76430691633442\n",
        "    for i in range(0, len(x)):\n",
        "        s += coef[i] * x[i]\n",
        "    return s\n",
        "            \n",
        "predict_clr_numba_cast_custom(x[0])"
      ]
    },
    {
      "cell_type": "code",
      "execution_count": 57,
      "metadata": {},
      "outputs": [
        {
          "name": "stdout",
          "output_type": "stream",
          "text": [
            "Moyenne: 1.36 \u00b5s Ecart-type 1.18 \u00b5s (with 100 runs) in [842.00 ns, 2.29 \u00b5s]\n"
          ]
        }
      ],
      "source": [
        "memo_time.append(timeexe(\"numba-linreg-type-custom\", \"predict_clr_numba_cast_custom(x[0])\"))"
      ]
    },
    {
      "cell_type": "markdown",
      "metadata": {},
      "source": [
        "On se rapproche des temps obtenus avec *cffi* sans *wrapping*, cela signifie que *numba* fait un bien meilleur travail \u00e0 ce niveau que le wrapper rapidement cr\u00e9\u00e9."
      ]
    },
    {
      "cell_type": "code",
      "execution_count": 58,
      "metadata": {},
      "outputs": [
        {
          "data": {
            "text/plain": [
              "197.61846907503283"
            ]
          },
          "execution_count": 59,
          "metadata": {},
          "output_type": "execute_result"
        }
      ],
      "source": [
        "@jit('double(double[:], double[:], double)')\n",
        "def predict_clr_numba_numpy(x, coef, intercept):    \n",
        "    return intercept + numpy.dot(coef, x).sum()\n",
        "\n",
        "predict_clr_numba_numpy(x[0], clr.coef_, clr.intercept_)"
      ]
    },
    {
      "cell_type": "code",
      "execution_count": 59,
      "metadata": {},
      "outputs": [
        {
          "name": "stdout",
          "output_type": "stream",
          "text": [
            "Moyenne: 13.76 \u00b5s Ecart-type 6.01 \u00b5s (with 100 runs) in [7.52 \u00b5s, 23.82 \u00b5s]\n"
          ]
        }
      ],
      "source": [
        "memo_time.append(timeexe(\"numba-linreg-type-numpy\", \"predict_clr_numba_numpy(x[0], clr.coef_, clr.intercept_)\"))"
      ]
    },
    {
      "cell_type": "markdown",
      "metadata": {},
      "source": [
        "*numba* est moins performant quand *numpy* est impliqu\u00e9 car le code de numpy n'est pas r\u00e9\u00e9crit, il est appel\u00e9."
      ]
    },
    {
      "cell_type": "markdown",
      "metadata": {},
      "source": [
        "### cython\n",
        "\n",
        "[cython](http://cython.org/) permet de cr\u00e9er des extensions C de plus grande envergure que *numba*. C'est l'option choisie par [scikit-learn](http://scikit-learn.org/stable/). Il vaut mieux conna\u00eetre le C pour s'en servir et l\u00e0 encore, l'objectif est de r\u00e9duire les \u00e9changes Python / C qui co\u00fbtent cher."
      ]
    },
    {
      "cell_type": "code",
      "execution_count": 60,
      "metadata": {},
      "outputs": [],
      "source": [
        "%load_ext cython"
      ]
    },
    {
      "cell_type": "code",
      "execution_count": 61,
      "metadata": {},
      "outputs": [],
      "source": [
        "%%cython\n",
        "def predict_clr_cython(x, coef, intercept):\n",
        "    s = intercept\n",
        "    for i in range(0, len(x)):\n",
        "        s += coef[i] * x[i]\n",
        "    return s"
      ]
    },
    {
      "cell_type": "code",
      "execution_count": 62,
      "metadata": {},
      "outputs": [
        {
          "data": {
            "text/plain": [
              "197.6184690750328"
            ]
          },
          "execution_count": 63,
          "metadata": {},
          "output_type": "execute_result"
        }
      ],
      "source": [
        "predict_clr_cython(x[0], clr.coef_, clr.intercept_)"
      ]
    },
    {
      "cell_type": "code",
      "execution_count": 63,
      "metadata": {},
      "outputs": [
        {
          "name": "stdout",
          "output_type": "stream",
          "text": [
            "Moyenne: 7.19 \u00b5s Ecart-type 2.42 \u00b5s (with 100 runs) in [4.15 \u00b5s, 11.76 \u00b5s]\n"
          ]
        }
      ],
      "source": [
        "memo_time.append(timeexe(\"cython-linreg\", \"predict_clr_cython(x[0], clr.coef_, clr.intercept_)\"))"
      ]
    },
    {
      "cell_type": "markdown",
      "metadata": {},
      "source": [
        "Cython fait moins bien que *numba* dans notre cas et l'optimisation propos\u00e9e est assez proche du temps d\u00e9j\u00e0 obtenue avec le langage Python seul. Cela est d\u00fb au fait que la plupart des objets tels que du code associ\u00e9 aux listes ou aux dictionnaires ont \u00e9t\u00e9 r\u00e9\u00e9crits en C."
      ]
    },
    {
      "cell_type": "code",
      "execution_count": 64,
      "metadata": {},
      "outputs": [],
      "source": [
        "%%cython\n",
        "cimport numpy as npc\n",
        "\n",
        "def predict_clr_cython_type(npc.ndarray[double, ndim=1, mode='c'] x,\n",
        "                            npc.ndarray[double, ndim=1, mode='c'] coef,\n",
        "                            double intercept):\n",
        "    cdef double s = intercept\n",
        "    for i in range(0, x.shape[0]):\n",
        "        s += coef[i] * x[i]\n",
        "    return s"
      ]
    },
    {
      "cell_type": "code",
      "execution_count": 65,
      "metadata": {},
      "outputs": [
        {
          "data": {
            "text/plain": [
              "197.6184690750328"
            ]
          },
          "execution_count": 66,
          "metadata": {},
          "output_type": "execute_result"
        }
      ],
      "source": [
        "predict_clr_cython_type(x[0], clr.coef_, clr.intercept_)"
      ]
    },
    {
      "cell_type": "code",
      "execution_count": 66,
      "metadata": {},
      "outputs": [
        {
          "name": "stdout",
          "output_type": "stream",
          "text": [
            "Moyenne: 2.94 \u00b5s Ecart-type 1.73 \u00b5s (with 100 runs) in [1.56 \u00b5s, 5.73 \u00b5s]\n"
          ]
        }
      ],
      "source": [
        "memo_time.append(timeexe(\n",
        "    \"cython-linreg-type\", \"predict_clr_cython_type(x[0], clr.coef_, clr.intercept_)\"))"
      ]
    },
    {
      "cell_type": "markdown",
      "metadata": {},
      "source": [
        "Le temps est quasi identique avec un \u00e9cart type moins grand de fa\u00e7on significative."
      ]
    },
    {
      "cell_type": "markdown",
      "metadata": {},
      "source": [
        "### Une derni\u00e8re option : ONNX\n",
        "\n",
        "[ONNX](https://onnx.ai/) est un format de s\u00e9rialisation qui permet de d\u00e9crire un mod\u00e8le de mod\u00e8le de machine learning ou de deep learning. Cela permet de dissocer le mod\u00e8le de la librairie qui a servi \u00e0 le produire (voir [ML.net and ONNX](http://www.xavierdupre.fr/app/machinelearningext/helpsphinx/aonnx.html))."
      ]
    },
    {
      "cell_type": "code",
      "execution_count": 67,
      "metadata": {},
      "outputs": [
        {
          "name": "stdout",
          "output_type": "stream",
          "text": [
            "onnx, skl2onnx, onnxruntime sont disponibles.\n"
          ]
        }
      ],
      "source": [
        "try:\n",
        "    from skl2onnx import convert_sklearn\n",
        "    from skl2onnx.common.data_types import FloatTensorType\n",
        "    import onnxruntime\n",
        "    import onnx\n",
        "    ok_onnx = True\n",
        "    print(\"onnx, skl2onnx, onnxruntime sont disponibles.\")\n",
        "    \n",
        "    def save_model(onnx_model, filename):\n",
        "        with open(filename, \"wb\") as f:\n",
        "            f.write(onnx_model.SerializeToString())\n",
        "except ImportError as e:\n",
        "    print(\"La suite requiert onnx, skl2onnx et onnxruntime.\")\n",
        "    print(e)\n",
        "    ok_onnx = False"
      ]
    },
    {
      "cell_type": "markdown",
      "metadata": {},
      "source": [
        "On convertit le mod\u00e8le au format [ONNX](https://onnx.ai/)."
      ]
    },
    {
      "cell_type": "code",
      "execution_count": 68,
      "metadata": {},
      "outputs": [
        {
          "name": "stdout",
          "output_type": "stream",
          "text": [
            "Mod\u00e8le s\u00e9rialis\u00e9 au format ONNX\n",
            "ir_version: 6\n",
            "producer_name: \"skl2onnx\"\n",
            "producer_version: \"1.6.995\"\n",
            "domain: \"ai.onnx\"\n",
            "model_version: 0\n",
            "doc_string: \"\"\n",
            "graph {\n",
            "  node {\n",
            "    input: \"input\"\n",
            "    output: \"variable\"\n",
            "    name: \"LinearRegressor\"\n",
            "    op_type: \"LinearRegressor\"\n",
            "    attribute {\n",
            "      name: \"coefficients\"\n",
            "      floats: 0.3034995496273041\n",
            "      floats: -237.63931274414062\n",
            "      floats: 510.5306091308594\n",
            "      floats: 327.7369689941406\n",
            "      floats: -814.1317138671875\n",
            "      floats: 492.8145751953125\n",
            "      floats: 102.84844970703125\n",
            "      floats: 184.6064910888672\n",
            "      floats: 743.5195922851562\n",
            "      floats: 76.09516906738281\n",
            "      type: FLOATS\n",
            "    }\n",
            "    attribute {\n",
            "      name: \"intercepts\"\n",
            "      floats: 152.76431274414062\n",
            "      type: FLOATS\n",
            "    }\n",
            "    domain: \"ai.onnx.ml\"\n",
            "  }\n",
            "  name: \"model\"\n",
            "  input {\n",
            "    name: \"input\"\n",
            "    type {\n",
            "      tensor_type {\n",
            "        elem_type: 1\n",
            "        shape {\n",
            "          dim {\n",
            "          }\n",
            "          dim {\n",
            "            dim_value: 10\n",
            "          }\n",
            "        }\n",
            "      }\n",
            "    }\n",
            "  }\n",
            "  output {\n",
            "    name: \"variable\"\n",
            "    type {\n",
            "      tensor_type {\n",
            "        elem_type: 1\n",
            "        shape {\n",
            "          dim {\n",
            "          }\n",
            "          dim {\n",
            "            dim_value: 1\n",
            "          }\n",
            "        }\n",
            "      }\n",
            "    }\n",
            "  }\n",
            "}\n",
            "opset_import {\n",
            "  domain: \"ai.onnx.ml\"\n",
            "  version: 1\n",
            "}\n",
            "\n"
          ]
        }
      ],
      "source": [
        "if ok_onnx:\n",
        "    onnx_model = convert_sklearn(\n",
        "        clr, 'model', [('input', FloatTensorType([None, clr.coef_.shape[0]]))],\n",
        "        target_opset=11)\n",
        "    save_model(onnx_model, 'model.onnx')\n",
        "    \n",
        "    model_onnx = onnx.load('model.onnx')\n",
        "    print(\"Mod\u00e8le s\u00e9rialis\u00e9 au format ONNX\")\n",
        "    print(model_onnx)\n",
        "else:\n",
        "    print(\"onnx, onnxmltools, onnxruntime sont disponibles.\")"
      ]
    },
    {
      "cell_type": "markdown",
      "metadata": {},
      "source": [
        "On calcule les pr\u00e9dictions. Le module {onnxruntime](https://docs.microsoft.com/en-us/python/api/overview/azure/onnx/intro?view=azure-onnx-py) optimise les calculs pour des mod\u00e8les de deep learning. Cela explique pourquoi tous les calculs sont r\u00e9alis\u00e9s avec des r\u00e9els repr\u00e9sent\u00e9s sur 4 octets [numpy.float32](https://docs.scipy.org/doc/numpy/user/basics.types.html?highlight=float32)."
      ]
    },
    {
      "cell_type": "code",
      "execution_count": 69,
      "metadata": {},
      "outputs": [
        {
          "name": "stdout",
          "output_type": "stream",
          "text": [
            "Input: NodeArg(name='input', type='tensor(float)', shape=[None, 10])\n",
            "Output: NodeArg(name='variable', type='tensor(float)', shape=[None, 1])\n",
            "Prediction: [array([[197.61847]], dtype=float32)]\n"
          ]
        }
      ],
      "source": [
        "if ok_onnx:\n",
        "    sess = onnxruntime.InferenceSession(\"model.onnx\")\n",
        "    for i in sess.get_inputs():\n",
        "        print('Input:', i)\n",
        "    for o in sess.get_outputs():\n",
        "        print('Output:', o)\n",
        "    \n",
        "    def predict_onnxrt(x):    \n",
        "        return sess.run([\"variable\"], {'input': x})\n",
        "    \n",
        "    print(\"Prediction:\", predict_onnxrt(x.astype(numpy.float32)))"
      ]
    },
    {
      "cell_type": "code",
      "execution_count": 70,
      "metadata": {},
      "outputs": [
        {
          "name": "stdout",
          "output_type": "stream",
          "text": [
            "Moyenne: 17.47 \u00b5s Ecart-type 5.88 \u00b5s (with 100 runs) in [10.32 \u00b5s, 26.29 \u00b5s]\n",
            "Moyenne: 19.94 \u00b5s Ecart-type 5.10 \u00b5s (with 100 runs) in [12.09 \u00b5s, 26.50 \u00b5s]\n"
          ]
        }
      ],
      "source": [
        "if ok_onnx:\n",
        "    x32 = x.astype(numpy.float32)\n",
        "    memo_time.append(timeexe(\"onnxruntime-float32\", \"predict_onnxrt(x32)\"))\n",
        "    memo_time.append(timeexe(\"onnxruntime-float64\", \"predict_onnxrt(x.astype(numpy.float32))\"))"
      ]
    },
    {
      "cell_type": "markdown",
      "metadata": {},
      "source": [
        "### R\u00e9capitulatif"
      ]
    },
    {
      "cell_type": "code",
      "execution_count": 71,
      "metadata": {},
      "outputs": [
        {
          "data": {
            "text/html": [
              "<div>\n",
              "<style scoped>\n",
              "    .dataframe tbody tr th:only-of-type {\n",
              "        vertical-align: middle;\n",
              "    }\n",
              "\n",
              "    .dataframe tbody tr th {\n",
              "        vertical-align: top;\n",
              "    }\n",
              "\n",
              "    .dataframe thead th {\n",
              "        text-align: right;\n",
              "    }\n",
              "</style>\n",
              "<table border=\"1\" class=\"dataframe\">\n",
              "  <thead>\n",
              "    <tr style=\"text-align: right;\">\n",
              "      <th></th>\n",
              "      <th>average</th>\n",
              "      <th>deviation</th>\n",
              "      <th>first</th>\n",
              "      <th>first3</th>\n",
              "      <th>last3</th>\n",
              "      <th>repeat</th>\n",
              "      <th>min5</th>\n",
              "      <th>max5</th>\n",
              "      <th>code</th>\n",
              "      <th>run</th>\n",
              "    </tr>\n",
              "    <tr>\n",
              "      <th>legend</th>\n",
              "      <th></th>\n",
              "      <th></th>\n",
              "      <th></th>\n",
              "      <th></th>\n",
              "      <th></th>\n",
              "      <th></th>\n",
              "      <th></th>\n",
              "      <th></th>\n",
              "      <th></th>\n",
              "      <th></th>\n",
              "    </tr>\n",
              "  </thead>\n",
              "  <tbody>\n",
              "    <tr>\n",
              "      <th>cffi-linreg-custom-float32</th>\n",
              "      <td>5.579220e-07</td>\n",
              "      <td>6.378856e-07</td>\n",
              "      <td>7.053000e-06</td>\n",
              "      <td>2.821000e-06</td>\n",
              "      <td>1.054667e-06</td>\n",
              "      <td>1000</td>\n",
              "      <td>3.840000e-07</td>\n",
              "      <td>9.410000e-07</td>\n",
              "      <td>linreg_custom_float(cptr_x, cptr_out)</td>\n",
              "      <td>100</td>\n",
              "    </tr>\n",
              "    <tr>\n",
              "      <th>cffi-linreg-custom-float32-simd</th>\n",
              "      <td>6.101300e-07</td>\n",
              "      <td>2.382064e-07</td>\n",
              "      <td>3.309000e-06</td>\n",
              "      <td>2.582667e-06</td>\n",
              "      <td>3.226667e-07</td>\n",
              "      <td>1000</td>\n",
              "      <td>3.230000e-07</td>\n",
              "      <td>7.830000e-07</td>\n",
              "      <td>linreg_custom_float_simd(cptr_x, cptr_out)</td>\n",
              "      <td>100</td>\n",
              "    </tr>\n",
              "    <tr>\n",
              "      <th>cffi-linreg-custom</th>\n",
              "      <td>6.466910e-07</td>\n",
              "      <td>6.766165e-07</td>\n",
              "      <td>1.621000e-06</td>\n",
              "      <td>1.035333e-06</td>\n",
              "      <td>5.616667e-07</td>\n",
              "      <td>1000</td>\n",
              "      <td>3.900000e-07</td>\n",
              "      <td>1.174000e-06</td>\n",
              "      <td>linreg_custom(cptr_x, cptr_out)</td>\n",
              "      <td>100</td>\n",
              "    </tr>\n",
              "    <tr>\n",
              "      <th>cffi-linreg</th>\n",
              "      <td>9.224580e-07</td>\n",
              "      <td>8.358571e-07</td>\n",
              "      <td>8.109000e-06</td>\n",
              "      <td>3.247333e-06</td>\n",
              "      <td>1.170667e-06</td>\n",
              "      <td>1000</td>\n",
              "      <td>5.130000e-07</td>\n",
              "      <td>1.359000e-06</td>\n",
              "      <td>lib.linreg(n, cptr_x, cptr_coef, clr.intercept...</td>\n",
              "      <td>100</td>\n",
              "    </tr>\n",
              "    <tr>\n",
              "      <th>numba-linreg-type-float32</th>\n",
              "      <td>9.419560e-07</td>\n",
              "      <td>5.352065e-07</td>\n",
              "      <td>1.786000e-06</td>\n",
              "      <td>1.732333e-06</td>\n",
              "      <td>1.200667e-06</td>\n",
              "      <td>1000</td>\n",
              "      <td>6.370000e-07</td>\n",
              "      <td>1.551000e-06</td>\n",
              "      <td>predict_clr_numba_cast_float(x32, c32, i32)</td>\n",
              "      <td>100</td>\n",
              "    </tr>\n",
              "    <tr>\n",
              "      <th>numba-linreg-type-custom</th>\n",
              "      <td>1.355201e-06</td>\n",
              "      <td>1.178526e-06</td>\n",
              "      <td>9.840000e-07</td>\n",
              "      <td>8.930000e-07</td>\n",
              "      <td>1.559667e-06</td>\n",
              "      <td>1000</td>\n",
              "      <td>8.420000e-07</td>\n",
              "      <td>2.293000e-06</td>\n",
              "      <td>predict_clr_numba_cast_custom(x[0])</td>\n",
              "      <td>100</td>\n",
              "    </tr>\n",
              "    <tr>\n",
              "      <th>numba-linreg-type</th>\n",
              "      <td>1.607929e-06</td>\n",
              "      <td>1.033716e-06</td>\n",
              "      <td>2.489000e-06</td>\n",
              "      <td>2.261000e-06</td>\n",
              "      <td>2.231333e-06</td>\n",
              "      <td>1000</td>\n",
              "      <td>9.980000e-07</td>\n",
              "      <td>2.687000e-06</td>\n",
              "      <td>predict_clr_numba_cast(x[0], clr.coef_, clr.in...</td>\n",
              "      <td>100</td>\n",
              "    </tr>\n",
              "    <tr>\n",
              "      <th>cython-linreg-type</th>\n",
              "      <td>2.935830e-06</td>\n",
              "      <td>1.731925e-06</td>\n",
              "      <td>1.726000e-06</td>\n",
              "      <td>1.620667e-06</td>\n",
              "      <td>2.530667e-06</td>\n",
              "      <td>1000</td>\n",
              "      <td>1.560000e-06</td>\n",
              "      <td>5.733000e-06</td>\n",
              "      <td>predict_clr_cython_type(x[0], clr.coef_, clr.i...</td>\n",
              "      <td>100</td>\n",
              "    </tr>\n",
              "    <tr>\n",
              "      <th>python-linreg-custom</th>\n",
              "      <td>5.480978e-06</td>\n",
              "      <td>2.107939e-06</td>\n",
              "      <td>8.329000e-06</td>\n",
              "      <td>7.804667e-06</td>\n",
              "      <td>5.764667e-06</td>\n",
              "      <td>1000</td>\n",
              "      <td>3.146000e-06</td>\n",
              "      <td>9.042000e-06</td>\n",
              "      <td>predict_clr_python(z)</td>\n",
              "      <td>100</td>\n",
              "    </tr>\n",
              "    <tr>\n",
              "      <th>cython-linreg</th>\n",
              "      <td>7.191019e-06</td>\n",
              "      <td>2.424889e-06</td>\n",
              "      <td>8.505000e-06</td>\n",
              "      <td>8.531000e-06</td>\n",
              "      <td>4.053333e-06</td>\n",
              "      <td>1000</td>\n",
              "      <td>4.153000e-06</td>\n",
              "      <td>1.176400e-05</td>\n",
              "      <td>predict_clr_cython(x[0], clr.coef_, clr.interc...</td>\n",
              "      <td>100</td>\n",
              "    </tr>\n",
              "    <tr>\n",
              "      <th>python-linreg</th>\n",
              "      <td>8.788904e-06</td>\n",
              "      <td>4.939543e-06</td>\n",
              "      <td>6.188000e-06</td>\n",
              "      <td>5.493000e-06</td>\n",
              "      <td>6.777000e-06</td>\n",
              "      <td>1000</td>\n",
              "      <td>4.482000e-06</td>\n",
              "      <td>1.863100e-05</td>\n",
              "      <td>predict_clr_python_loop(z, coef, intercept)</td>\n",
              "      <td>100</td>\n",
              "    </tr>\n",
              "    <tr>\n",
              "      <th>cffi-linreg-custom wrapped</th>\n",
              "      <td>1.164268e-05</td>\n",
              "      <td>4.674990e-06</td>\n",
              "      <td>1.771900e-05</td>\n",
              "      <td>1.704433e-05</td>\n",
              "      <td>1.224700e-05</td>\n",
              "      <td>1000</td>\n",
              "      <td>5.884000e-06</td>\n",
              "      <td>2.057400e-05</td>\n",
              "      <td>predict_clr_custom(x)</td>\n",
              "      <td>100</td>\n",
              "    </tr>\n",
              "    <tr>\n",
              "      <th>cffi-linreg-custom-float wrapped</th>\n",
              "      <td>1.183906e-05</td>\n",
              "      <td>7.270050e-06</td>\n",
              "      <td>1.963400e-05</td>\n",
              "      <td>1.782900e-05</td>\n",
              "      <td>9.182000e-06</td>\n",
              "      <td>1000</td>\n",
              "      <td>6.109000e-06</td>\n",
              "      <td>2.136300e-05</td>\n",
              "      <td>predict_clr_custom(x32)</td>\n",
              "      <td>100</td>\n",
              "    </tr>\n",
              "    <tr>\n",
              "      <th>numba-linreg-type-numpy</th>\n",
              "      <td>1.376058e-05</td>\n",
              "      <td>6.013448e-06</td>\n",
              "      <td>2.297300e-05</td>\n",
              "      <td>2.389867e-05</td>\n",
              "      <td>1.324300e-05</td>\n",
              "      <td>1000</td>\n",
              "      <td>7.520000e-06</td>\n",
              "      <td>2.382400e-05</td>\n",
              "      <td>predict_clr_numba_numpy(x[0], clr.coef_, clr.i...</td>\n",
              "      <td>100</td>\n",
              "    </tr>\n",
              "    <tr>\n",
              "      <th>numpy-linreg-numpy</th>\n",
              "      <td>1.467966e-05</td>\n",
              "      <td>6.321302e-06</td>\n",
              "      <td>5.657900e-05</td>\n",
              "      <td>2.917467e-05</td>\n",
              "      <td>1.401267e-05</td>\n",
              "      <td>1000</td>\n",
              "      <td>9.008000e-06</td>\n",
              "      <td>2.798100e-05</td>\n",
              "      <td>predict_clr_numpy(z, coef, clr.intercept_)</td>\n",
              "      <td>100</td>\n",
              "    </tr>\n",
              "    <tr>\n",
              "      <th>cffi-linreg-wrapped</th>\n",
              "      <td>1.602791e-05</td>\n",
              "      <td>5.632607e-06</td>\n",
              "      <td>2.635300e-05</td>\n",
              "      <td>2.186767e-05</td>\n",
              "      <td>9.201333e-06</td>\n",
              "      <td>1000</td>\n",
              "      <td>8.766000e-06</td>\n",
              "      <td>2.724600e-05</td>\n",
              "      <td>predict_clr(x, clr)</td>\n",
              "      <td>100</td>\n",
              "    </tr>\n",
              "    <tr>\n",
              "      <th>onnxruntime-float32</th>\n",
              "      <td>1.746691e-05</td>\n",
              "      <td>5.883119e-06</td>\n",
              "      <td>2.475000e-05</td>\n",
              "      <td>2.895133e-05</td>\n",
              "      <td>1.415033e-05</td>\n",
              "      <td>1000</td>\n",
              "      <td>1.031700e-05</td>\n",
              "      <td>2.628800e-05</td>\n",
              "      <td>predict_onnxrt(x32)</td>\n",
              "      <td>100</td>\n",
              "    </tr>\n",
              "    <tr>\n",
              "      <th>onnxruntime-float64</th>\n",
              "      <td>1.993732e-05</td>\n",
              "      <td>5.104996e-06</td>\n",
              "      <td>1.713100e-05</td>\n",
              "      <td>1.742000e-05</td>\n",
              "      <td>1.567367e-05</td>\n",
              "      <td>1000</td>\n",
              "      <td>1.209000e-05</td>\n",
              "      <td>2.650300e-05</td>\n",
              "      <td>predict_onnxrt(x.astype(numpy.float32))</td>\n",
              "      <td>100</td>\n",
              "    </tr>\n",
              "    <tr>\n",
              "      <th>numba-linreg-notype</th>\n",
              "      <td>4.867396e-05</td>\n",
              "      <td>1.892473e-05</td>\n",
              "      <td>4.573700e-05</td>\n",
              "      <td>4.314167e-05</td>\n",
              "      <td>4.941933e-05</td>\n",
              "      <td>1000</td>\n",
              "      <td>2.629300e-05</td>\n",
              "      <td>8.064200e-05</td>\n",
              "      <td>predict_clr_numba(z, clr.coef_, clr.intercept_)</td>\n",
              "      <td>100</td>\n",
              "    </tr>\n",
              "    <tr>\n",
              "      <th>sklearn.predict</th>\n",
              "      <td>7.921293e-05</td>\n",
              "      <td>2.230531e-05</td>\n",
              "      <td>1.228570e-04</td>\n",
              "      <td>1.246893e-04</td>\n",
              "      <td>1.004477e-04</td>\n",
              "      <td>1000</td>\n",
              "      <td>5.106800e-05</td>\n",
              "      <td>1.222210e-04</td>\n",
              "      <td>clr.predict(z)</td>\n",
              "      <td>100</td>\n",
              "    </tr>\n",
              "  </tbody>\n",
              "</table>\n",
              "</div>"
            ],
            "text/plain": [
              "                                       average     deviation         first  \\\n",
              "legend                                                                       \n",
              "cffi-linreg-custom-float32        5.579220e-07  6.378856e-07  7.053000e-06   \n",
              "cffi-linreg-custom-float32-simd   6.101300e-07  2.382064e-07  3.309000e-06   \n",
              "cffi-linreg-custom                6.466910e-07  6.766165e-07  1.621000e-06   \n",
              "cffi-linreg                       9.224580e-07  8.358571e-07  8.109000e-06   \n",
              "numba-linreg-type-float32         9.419560e-07  5.352065e-07  1.786000e-06   \n",
              "numba-linreg-type-custom          1.355201e-06  1.178526e-06  9.840000e-07   \n",
              "numba-linreg-type                 1.607929e-06  1.033716e-06  2.489000e-06   \n",
              "cython-linreg-type                2.935830e-06  1.731925e-06  1.726000e-06   \n",
              "python-linreg-custom              5.480978e-06  2.107939e-06  8.329000e-06   \n",
              "cython-linreg                     7.191019e-06  2.424889e-06  8.505000e-06   \n",
              "python-linreg                     8.788904e-06  4.939543e-06  6.188000e-06   \n",
              "cffi-linreg-custom wrapped        1.164268e-05  4.674990e-06  1.771900e-05   \n",
              "cffi-linreg-custom-float wrapped  1.183906e-05  7.270050e-06  1.963400e-05   \n",
              "numba-linreg-type-numpy           1.376058e-05  6.013448e-06  2.297300e-05   \n",
              "numpy-linreg-numpy                1.467966e-05  6.321302e-06  5.657900e-05   \n",
              "cffi-linreg-wrapped               1.602791e-05  5.632607e-06  2.635300e-05   \n",
              "onnxruntime-float32               1.746691e-05  5.883119e-06  2.475000e-05   \n",
              "onnxruntime-float64               1.993732e-05  5.104996e-06  1.713100e-05   \n",
              "numba-linreg-notype               4.867396e-05  1.892473e-05  4.573700e-05   \n",
              "sklearn.predict                   7.921293e-05  2.230531e-05  1.228570e-04   \n",
              "\n",
              "                                        first3         last3  repeat  \\\n",
              "legend                                                                 \n",
              "cffi-linreg-custom-float32        2.821000e-06  1.054667e-06    1000   \n",
              "cffi-linreg-custom-float32-simd   2.582667e-06  3.226667e-07    1000   \n",
              "cffi-linreg-custom                1.035333e-06  5.616667e-07    1000   \n",
              "cffi-linreg                       3.247333e-06  1.170667e-06    1000   \n",
              "numba-linreg-type-float32         1.732333e-06  1.200667e-06    1000   \n",
              "numba-linreg-type-custom          8.930000e-07  1.559667e-06    1000   \n",
              "numba-linreg-type                 2.261000e-06  2.231333e-06    1000   \n",
              "cython-linreg-type                1.620667e-06  2.530667e-06    1000   \n",
              "python-linreg-custom              7.804667e-06  5.764667e-06    1000   \n",
              "cython-linreg                     8.531000e-06  4.053333e-06    1000   \n",
              "python-linreg                     5.493000e-06  6.777000e-06    1000   \n",
              "cffi-linreg-custom wrapped        1.704433e-05  1.224700e-05    1000   \n",
              "cffi-linreg-custom-float wrapped  1.782900e-05  9.182000e-06    1000   \n",
              "numba-linreg-type-numpy           2.389867e-05  1.324300e-05    1000   \n",
              "numpy-linreg-numpy                2.917467e-05  1.401267e-05    1000   \n",
              "cffi-linreg-wrapped               2.186767e-05  9.201333e-06    1000   \n",
              "onnxruntime-float32               2.895133e-05  1.415033e-05    1000   \n",
              "onnxruntime-float64               1.742000e-05  1.567367e-05    1000   \n",
              "numba-linreg-notype               4.314167e-05  4.941933e-05    1000   \n",
              "sklearn.predict                   1.246893e-04  1.004477e-04    1000   \n",
              "\n",
              "                                          min5          max5  \\\n",
              "legend                                                         \n",
              "cffi-linreg-custom-float32        3.840000e-07  9.410000e-07   \n",
              "cffi-linreg-custom-float32-simd   3.230000e-07  7.830000e-07   \n",
              "cffi-linreg-custom                3.900000e-07  1.174000e-06   \n",
              "cffi-linreg                       5.130000e-07  1.359000e-06   \n",
              "numba-linreg-type-float32         6.370000e-07  1.551000e-06   \n",
              "numba-linreg-type-custom          8.420000e-07  2.293000e-06   \n",
              "numba-linreg-type                 9.980000e-07  2.687000e-06   \n",
              "cython-linreg-type                1.560000e-06  5.733000e-06   \n",
              "python-linreg-custom              3.146000e-06  9.042000e-06   \n",
              "cython-linreg                     4.153000e-06  1.176400e-05   \n",
              "python-linreg                     4.482000e-06  1.863100e-05   \n",
              "cffi-linreg-custom wrapped        5.884000e-06  2.057400e-05   \n",
              "cffi-linreg-custom-float wrapped  6.109000e-06  2.136300e-05   \n",
              "numba-linreg-type-numpy           7.520000e-06  2.382400e-05   \n",
              "numpy-linreg-numpy                9.008000e-06  2.798100e-05   \n",
              "cffi-linreg-wrapped               8.766000e-06  2.724600e-05   \n",
              "onnxruntime-float32               1.031700e-05  2.628800e-05   \n",
              "onnxruntime-float64               1.209000e-05  2.650300e-05   \n",
              "numba-linreg-notype               2.629300e-05  8.064200e-05   \n",
              "sklearn.predict                   5.106800e-05  1.222210e-04   \n",
              "\n",
              "                                                                               code  \\\n",
              "legend                                                                                \n",
              "cffi-linreg-custom-float32                    linreg_custom_float(cptr_x, cptr_out)   \n",
              "cffi-linreg-custom-float32-simd          linreg_custom_float_simd(cptr_x, cptr_out)   \n",
              "cffi-linreg-custom                                  linreg_custom(cptr_x, cptr_out)   \n",
              "cffi-linreg                       lib.linreg(n, cptr_x, cptr_coef, clr.intercept...   \n",
              "numba-linreg-type-float32               predict_clr_numba_cast_float(x32, c32, i32)   \n",
              "numba-linreg-type-custom                        predict_clr_numba_cast_custom(x[0])   \n",
              "numba-linreg-type                 predict_clr_numba_cast(x[0], clr.coef_, clr.in...   \n",
              "cython-linreg-type                predict_clr_cython_type(x[0], clr.coef_, clr.i...   \n",
              "python-linreg-custom                                          predict_clr_python(z)   \n",
              "cython-linreg                     predict_clr_cython(x[0], clr.coef_, clr.interc...   \n",
              "python-linreg                           predict_clr_python_loop(z, coef, intercept)   \n",
              "cffi-linreg-custom wrapped                                    predict_clr_custom(x)   \n",
              "cffi-linreg-custom-float wrapped                            predict_clr_custom(x32)   \n",
              "numba-linreg-type-numpy           predict_clr_numba_numpy(x[0], clr.coef_, clr.i...   \n",
              "numpy-linreg-numpy                       predict_clr_numpy(z, coef, clr.intercept_)   \n",
              "cffi-linreg-wrapped                                             predict_clr(x, clr)   \n",
              "onnxruntime-float32                                             predict_onnxrt(x32)   \n",
              "onnxruntime-float64                         predict_onnxrt(x.astype(numpy.float32))   \n",
              "numba-linreg-notype                 predict_clr_numba(z, clr.coef_, clr.intercept_)   \n",
              "sklearn.predict                                                      clr.predict(z)   \n",
              "\n",
              "                                  run  \n",
              "legend                                 \n",
              "cffi-linreg-custom-float32        100  \n",
              "cffi-linreg-custom-float32-simd   100  \n",
              "cffi-linreg-custom                100  \n",
              "cffi-linreg                       100  \n",
              "numba-linreg-type-float32         100  \n",
              "numba-linreg-type-custom          100  \n",
              "numba-linreg-type                 100  \n",
              "cython-linreg-type                100  \n",
              "python-linreg-custom              100  \n",
              "cython-linreg                     100  \n",
              "python-linreg                     100  \n",
              "cffi-linreg-custom wrapped        100  \n",
              "cffi-linreg-custom-float wrapped  100  \n",
              "numba-linreg-type-numpy           100  \n",
              "numpy-linreg-numpy                100  \n",
              "cffi-linreg-wrapped               100  \n",
              "onnxruntime-float32               100  \n",
              "onnxruntime-float64               100  \n",
              "numba-linreg-notype               100  \n",
              "sklearn.predict                   100  "
            ]
          },
          "execution_count": 72,
          "metadata": {},
          "output_type": "execute_result"
        }
      ],
      "source": [
        "import pandas\n",
        "df = pandas.DataFrame(data=memo_time)\n",
        "df = df.set_index(\"legend\").sort_values(\"average\")\n",
        "df"
      ]
    },
    {
      "cell_type": "markdown",
      "metadata": {},
      "source": [
        "On enl\u00e8ve quelques colonnes et on rappelle :\n",
        "\n",
        "* **cffi**: signifie optimis\u00e9 avec cffi\n",
        "* **custom**: pas de boucle mais la fonction ne peut pr\u00e9dire qu'une seule r\u00e9gression lin\u00e9aire\n",
        "* **float32**: utilise des float et non des double\n",
        "* **linreg**: r\u00e9gression lin\u00e9aire\n",
        "* **numba**: optimisation avec numba\n",
        "* **numpy**: optimisation avec numpy\n",
        "* **python**: pas de C, que du python\n",
        "* **simd**: optimis\u00e9 avec les instructions SIMD\n",
        "* **sklearn**: fonction sklearn.predict\n",
        "* **static**: la fonction utilise des variables statiques\n",
        "* **type**: la fonction est typ\u00e9e et ne fonctionne qu'avec un type pr\u00e9cis en entr\u00e9e.\n",
        "* **wrapped**: code optimis\u00e9 mais embabll\u00e9 dans une fonction Python qui elle ne l'est pas (les containers sont recr\u00e9\u00e9s \u00e0 chaque fois)"
      ]
    },
    {
      "cell_type": "code",
      "execution_count": 72,
      "metadata": {
        "scrolled": false
      },
      "outputs": [
        {
          "data": {
            "text/html": [
              "<div>\n",
              "<style scoped>\n",
              "    .dataframe tbody tr th:only-of-type {\n",
              "        vertical-align: middle;\n",
              "    }\n",
              "\n",
              "    .dataframe tbody tr th {\n",
              "        vertical-align: top;\n",
              "    }\n",
              "\n",
              "    .dataframe thead th {\n",
              "        text-align: right;\n",
              "    }\n",
              "</style>\n",
              "<table border=\"1\" class=\"dataframe\">\n",
              "  <thead>\n",
              "    <tr style=\"text-align: right;\">\n",
              "      <th></th>\n",
              "      <th>average</th>\n",
              "      <th>deviation</th>\n",
              "      <th>min5</th>\n",
              "      <th>max5</th>\n",
              "      <th>run</th>\n",
              "      <th>code</th>\n",
              "    </tr>\n",
              "    <tr>\n",
              "      <th>legend</th>\n",
              "      <th></th>\n",
              "      <th></th>\n",
              "      <th></th>\n",
              "      <th></th>\n",
              "      <th></th>\n",
              "      <th></th>\n",
              "    </tr>\n",
              "  </thead>\n",
              "  <tbody>\n",
              "    <tr>\n",
              "      <th>cffi-linreg-custom-float32</th>\n",
              "      <td>5.579220e-07</td>\n",
              "      <td>6.378856e-07</td>\n",
              "      <td>3.840000e-07</td>\n",
              "      <td>9.410000e-07</td>\n",
              "      <td>100</td>\n",
              "      <td>linreg_custom_float(cptr_x, cptr_out)</td>\n",
              "    </tr>\n",
              "    <tr>\n",
              "      <th>cffi-linreg-custom-float32-simd</th>\n",
              "      <td>6.101300e-07</td>\n",
              "      <td>2.382064e-07</td>\n",
              "      <td>3.230000e-07</td>\n",
              "      <td>7.830000e-07</td>\n",
              "      <td>100</td>\n",
              "      <td>linreg_custom_float_simd(cptr_x, cptr_out)</td>\n",
              "    </tr>\n",
              "    <tr>\n",
              "      <th>cffi-linreg-custom</th>\n",
              "      <td>6.466910e-07</td>\n",
              "      <td>6.766165e-07</td>\n",
              "      <td>3.900000e-07</td>\n",
              "      <td>1.174000e-06</td>\n",
              "      <td>100</td>\n",
              "      <td>linreg_custom(cptr_x, cptr_out)</td>\n",
              "    </tr>\n",
              "    <tr>\n",
              "      <th>cffi-linreg</th>\n",
              "      <td>9.224580e-07</td>\n",
              "      <td>8.358571e-07</td>\n",
              "      <td>5.130000e-07</td>\n",
              "      <td>1.359000e-06</td>\n",
              "      <td>100</td>\n",
              "      <td>lib.linreg(n, cptr_x, cptr_coef, clr.intercept...</td>\n",
              "    </tr>\n",
              "    <tr>\n",
              "      <th>numba-linreg-type-float32</th>\n",
              "      <td>9.419560e-07</td>\n",
              "      <td>5.352065e-07</td>\n",
              "      <td>6.370000e-07</td>\n",
              "      <td>1.551000e-06</td>\n",
              "      <td>100</td>\n",
              "      <td>predict_clr_numba_cast_float(x32, c32, i32)</td>\n",
              "    </tr>\n",
              "    <tr>\n",
              "      <th>numba-linreg-type-custom</th>\n",
              "      <td>1.355201e-06</td>\n",
              "      <td>1.178526e-06</td>\n",
              "      <td>8.420000e-07</td>\n",
              "      <td>2.293000e-06</td>\n",
              "      <td>100</td>\n",
              "      <td>predict_clr_numba_cast_custom(x[0])</td>\n",
              "    </tr>\n",
              "    <tr>\n",
              "      <th>numba-linreg-type</th>\n",
              "      <td>1.607929e-06</td>\n",
              "      <td>1.033716e-06</td>\n",
              "      <td>9.980000e-07</td>\n",
              "      <td>2.687000e-06</td>\n",
              "      <td>100</td>\n",
              "      <td>predict_clr_numba_cast(x[0], clr.coef_, clr.in...</td>\n",
              "    </tr>\n",
              "    <tr>\n",
              "      <th>cython-linreg-type</th>\n",
              "      <td>2.935830e-06</td>\n",
              "      <td>1.731925e-06</td>\n",
              "      <td>1.560000e-06</td>\n",
              "      <td>5.733000e-06</td>\n",
              "      <td>100</td>\n",
              "      <td>predict_clr_cython_type(x[0], clr.coef_, clr.i...</td>\n",
              "    </tr>\n",
              "    <tr>\n",
              "      <th>python-linreg-custom</th>\n",
              "      <td>5.480978e-06</td>\n",
              "      <td>2.107939e-06</td>\n",
              "      <td>3.146000e-06</td>\n",
              "      <td>9.042000e-06</td>\n",
              "      <td>100</td>\n",
              "      <td>predict_clr_python(z)</td>\n",
              "    </tr>\n",
              "    <tr>\n",
              "      <th>cython-linreg</th>\n",
              "      <td>7.191019e-06</td>\n",
              "      <td>2.424889e-06</td>\n",
              "      <td>4.153000e-06</td>\n",
              "      <td>1.176400e-05</td>\n",
              "      <td>100</td>\n",
              "      <td>predict_clr_cython(x[0], clr.coef_, clr.interc...</td>\n",
              "    </tr>\n",
              "    <tr>\n",
              "      <th>python-linreg</th>\n",
              "      <td>8.788904e-06</td>\n",
              "      <td>4.939543e-06</td>\n",
              "      <td>4.482000e-06</td>\n",
              "      <td>1.863100e-05</td>\n",
              "      <td>100</td>\n",
              "      <td>predict_clr_python_loop(z, coef, intercept)</td>\n",
              "    </tr>\n",
              "    <tr>\n",
              "      <th>cffi-linreg-custom wrapped</th>\n",
              "      <td>1.164268e-05</td>\n",
              "      <td>4.674990e-06</td>\n",
              "      <td>5.884000e-06</td>\n",
              "      <td>2.057400e-05</td>\n",
              "      <td>100</td>\n",
              "      <td>predict_clr_custom(x)</td>\n",
              "    </tr>\n",
              "    <tr>\n",
              "      <th>cffi-linreg-custom-float wrapped</th>\n",
              "      <td>1.183906e-05</td>\n",
              "      <td>7.270050e-06</td>\n",
              "      <td>6.109000e-06</td>\n",
              "      <td>2.136300e-05</td>\n",
              "      <td>100</td>\n",
              "      <td>predict_clr_custom(x32)</td>\n",
              "    </tr>\n",
              "    <tr>\n",
              "      <th>numba-linreg-type-numpy</th>\n",
              "      <td>1.376058e-05</td>\n",
              "      <td>6.013448e-06</td>\n",
              "      <td>7.520000e-06</td>\n",
              "      <td>2.382400e-05</td>\n",
              "      <td>100</td>\n",
              "      <td>predict_clr_numba_numpy(x[0], clr.coef_, clr.i...</td>\n",
              "    </tr>\n",
              "    <tr>\n",
              "      <th>numpy-linreg-numpy</th>\n",
              "      <td>1.467966e-05</td>\n",
              "      <td>6.321302e-06</td>\n",
              "      <td>9.008000e-06</td>\n",
              "      <td>2.798100e-05</td>\n",
              "      <td>100</td>\n",
              "      <td>predict_clr_numpy(z, coef, clr.intercept_)</td>\n",
              "    </tr>\n",
              "    <tr>\n",
              "      <th>cffi-linreg-wrapped</th>\n",
              "      <td>1.602791e-05</td>\n",
              "      <td>5.632607e-06</td>\n",
              "      <td>8.766000e-06</td>\n",
              "      <td>2.724600e-05</td>\n",
              "      <td>100</td>\n",
              "      <td>predict_clr(x, clr)</td>\n",
              "    </tr>\n",
              "    <tr>\n",
              "      <th>onnxruntime-float32</th>\n",
              "      <td>1.746691e-05</td>\n",
              "      <td>5.883119e-06</td>\n",
              "      <td>1.031700e-05</td>\n",
              "      <td>2.628800e-05</td>\n",
              "      <td>100</td>\n",
              "      <td>predict_onnxrt(x32)</td>\n",
              "    </tr>\n",
              "    <tr>\n",
              "      <th>onnxruntime-float64</th>\n",
              "      <td>1.993732e-05</td>\n",
              "      <td>5.104996e-06</td>\n",
              "      <td>1.209000e-05</td>\n",
              "      <td>2.650300e-05</td>\n",
              "      <td>100</td>\n",
              "      <td>predict_onnxrt(x.astype(numpy.float32))</td>\n",
              "    </tr>\n",
              "    <tr>\n",
              "      <th>numba-linreg-notype</th>\n",
              "      <td>4.867396e-05</td>\n",
              "      <td>1.892473e-05</td>\n",
              "      <td>2.629300e-05</td>\n",
              "      <td>8.064200e-05</td>\n",
              "      <td>100</td>\n",
              "      <td>predict_clr_numba(z, clr.coef_, clr.intercept_)</td>\n",
              "    </tr>\n",
              "    <tr>\n",
              "      <th>sklearn.predict</th>\n",
              "      <td>7.921293e-05</td>\n",
              "      <td>2.230531e-05</td>\n",
              "      <td>5.106800e-05</td>\n",
              "      <td>1.222210e-04</td>\n",
              "      <td>100</td>\n",
              "      <td>clr.predict(z)</td>\n",
              "    </tr>\n",
              "  </tbody>\n",
              "</table>\n",
              "</div>"
            ],
            "text/plain": [
              "                                       average     deviation          min5  \\\n",
              "legend                                                                       \n",
              "cffi-linreg-custom-float32        5.579220e-07  6.378856e-07  3.840000e-07   \n",
              "cffi-linreg-custom-float32-simd   6.101300e-07  2.382064e-07  3.230000e-07   \n",
              "cffi-linreg-custom                6.466910e-07  6.766165e-07  3.900000e-07   \n",
              "cffi-linreg                       9.224580e-07  8.358571e-07  5.130000e-07   \n",
              "numba-linreg-type-float32         9.419560e-07  5.352065e-07  6.370000e-07   \n",
              "numba-linreg-type-custom          1.355201e-06  1.178526e-06  8.420000e-07   \n",
              "numba-linreg-type                 1.607929e-06  1.033716e-06  9.980000e-07   \n",
              "cython-linreg-type                2.935830e-06  1.731925e-06  1.560000e-06   \n",
              "python-linreg-custom              5.480978e-06  2.107939e-06  3.146000e-06   \n",
              "cython-linreg                     7.191019e-06  2.424889e-06  4.153000e-06   \n",
              "python-linreg                     8.788904e-06  4.939543e-06  4.482000e-06   \n",
              "cffi-linreg-custom wrapped        1.164268e-05  4.674990e-06  5.884000e-06   \n",
              "cffi-linreg-custom-float wrapped  1.183906e-05  7.270050e-06  6.109000e-06   \n",
              "numba-linreg-type-numpy           1.376058e-05  6.013448e-06  7.520000e-06   \n",
              "numpy-linreg-numpy                1.467966e-05  6.321302e-06  9.008000e-06   \n",
              "cffi-linreg-wrapped               1.602791e-05  5.632607e-06  8.766000e-06   \n",
              "onnxruntime-float32               1.746691e-05  5.883119e-06  1.031700e-05   \n",
              "onnxruntime-float64               1.993732e-05  5.104996e-06  1.209000e-05   \n",
              "numba-linreg-notype               4.867396e-05  1.892473e-05  2.629300e-05   \n",
              "sklearn.predict                   7.921293e-05  2.230531e-05  5.106800e-05   \n",
              "\n",
              "                                          max5  run  \\\n",
              "legend                                                \n",
              "cffi-linreg-custom-float32        9.410000e-07  100   \n",
              "cffi-linreg-custom-float32-simd   7.830000e-07  100   \n",
              "cffi-linreg-custom                1.174000e-06  100   \n",
              "cffi-linreg                       1.359000e-06  100   \n",
              "numba-linreg-type-float32         1.551000e-06  100   \n",
              "numba-linreg-type-custom          2.293000e-06  100   \n",
              "numba-linreg-type                 2.687000e-06  100   \n",
              "cython-linreg-type                5.733000e-06  100   \n",
              "python-linreg-custom              9.042000e-06  100   \n",
              "cython-linreg                     1.176400e-05  100   \n",
              "python-linreg                     1.863100e-05  100   \n",
              "cffi-linreg-custom wrapped        2.057400e-05  100   \n",
              "cffi-linreg-custom-float wrapped  2.136300e-05  100   \n",
              "numba-linreg-type-numpy           2.382400e-05  100   \n",
              "numpy-linreg-numpy                2.798100e-05  100   \n",
              "cffi-linreg-wrapped               2.724600e-05  100   \n",
              "onnxruntime-float32               2.628800e-05  100   \n",
              "onnxruntime-float64               2.650300e-05  100   \n",
              "numba-linreg-notype               8.064200e-05  100   \n",
              "sklearn.predict                   1.222210e-04  100   \n",
              "\n",
              "                                                                               code  \n",
              "legend                                                                               \n",
              "cffi-linreg-custom-float32                    linreg_custom_float(cptr_x, cptr_out)  \n",
              "cffi-linreg-custom-float32-simd          linreg_custom_float_simd(cptr_x, cptr_out)  \n",
              "cffi-linreg-custom                                  linreg_custom(cptr_x, cptr_out)  \n",
              "cffi-linreg                       lib.linreg(n, cptr_x, cptr_coef, clr.intercept...  \n",
              "numba-linreg-type-float32               predict_clr_numba_cast_float(x32, c32, i32)  \n",
              "numba-linreg-type-custom                        predict_clr_numba_cast_custom(x[0])  \n",
              "numba-linreg-type                 predict_clr_numba_cast(x[0], clr.coef_, clr.in...  \n",
              "cython-linreg-type                predict_clr_cython_type(x[0], clr.coef_, clr.i...  \n",
              "python-linreg-custom                                          predict_clr_python(z)  \n",
              "cython-linreg                     predict_clr_cython(x[0], clr.coef_, clr.interc...  \n",
              "python-linreg                           predict_clr_python_loop(z, coef, intercept)  \n",
              "cffi-linreg-custom wrapped                                    predict_clr_custom(x)  \n",
              "cffi-linreg-custom-float wrapped                            predict_clr_custom(x32)  \n",
              "numba-linreg-type-numpy           predict_clr_numba_numpy(x[0], clr.coef_, clr.i...  \n",
              "numpy-linreg-numpy                       predict_clr_numpy(z, coef, clr.intercept_)  \n",
              "cffi-linreg-wrapped                                             predict_clr(x, clr)  \n",
              "onnxruntime-float32                                             predict_onnxrt(x32)  \n",
              "onnxruntime-float64                         predict_onnxrt(x.astype(numpy.float32))  \n",
              "numba-linreg-notype                 predict_clr_numba(z, clr.coef_, clr.intercept_)  \n",
              "sklearn.predict                                                      clr.predict(z)  "
            ]
          },
          "execution_count": 73,
          "metadata": {},
          "output_type": "execute_result"
        }
      ],
      "source": [
        "cols = [\"average\", \"deviation\", \"min5\", \"max5\", \"run\", \"code\"]\n",
        "df[cols]"
      ]
    },
    {
      "cell_type": "code",
      "execution_count": 73,
      "metadata": {},
      "outputs": [
        {
          "data": {
            "image/png": "[encoded data removed]",
            "text/plain": [
              "<Figure size 1008x432 with 1 Axes>"
            ]
          },
          "metadata": {
            "needs_background": "light"
          },
          "output_type": "display_data"
        }
      ],
      "source": [
        "%matplotlib inline\n",
        "import matplotlib.pyplot as plt\n",
        "fig, ax = plt.subplots(1, 1, figsize=(14,6))\n",
        "df[[\"average\", \"deviation\"]].plot(kind=\"barh\", logx=True, ax=ax, xerr=\"deviation\",\n",
        "                                  legend=False, fontsize=12, width=0.8)\n",
        "ax.set_ylabel(\"\")\n",
        "ax.grid(b=True, which=\"major\")\n",
        "ax.grid(b=True, which=\"minor\");"
      ]
    },
    {
      "cell_type": "markdown",
      "metadata": {},
      "source": [
        "Il manque \u00e0 ce comparatif le [GPU](https://en.wikipedia.org/wiki/Graphics_processing_unit) mais c'est un peu plus complexe \u00e0 mettre en oeuvre, il faut une carte [GPU](https://fr.wikipedia.org/wiki/Processeur_graphique) et la parall\u00e9lisation n'apporterait pas \u00e9norm\u00e9ment compte tenu de la faible dimension du probl\u00e8me."
      ]
    },
    {
      "cell_type": "markdown",
      "metadata": {},
      "source": [
        "### Pr\u00e9diction one-off et biais de mesure\n",
        "\n",
        "Le graphique pr\u00e9c\u00e9dent montre que la fonction ``predict`` de *scikit-learn* est la plus lente. La premi\u00e8re raison est que ce code est valable pour toutes les r\u00e9gresssions lin\u00e9aires alors que toutes les autres fonctions sont sp\u00e9cialis\u00e9es pour un seul mod\u00e8le. La seconde raison est que le code de *scikit-learn* est optimis\u00e9 pour le calcul de plusieurs pr\u00e9dictions \u00e0 la fois alors que toutes les autres fonctions n'en calcule qu'une seule (sc\u00e9nario dit *one-off*). On compare \u00e0 ce que donnerait unev version purement python et numpy."
      ]
    },
    {
      "cell_type": "code",
      "execution_count": 74,
      "metadata": {},
      "outputs": [
        {
          "data": {
            "text/plain": [
              "array([[197.61846908],\n",
              "       [155.43979328]])"
            ]
          },
          "execution_count": 75,
          "metadata": {},
          "output_type": "execute_result"
        }
      ],
      "source": [
        "def predict_clr_python_loop_multi(x, coef, intercept):    \n",
        "    # On s'attend \u00e0 deux dimension.\n",
        "    res = numpy.zeros((x.shape[0], 1))\n",
        "    res[:, 0] = intercept\n",
        "    for i in range(0, x.shape[0]):\n",
        "        res[i, 0] += sum(a*b for a, b in zip(x[i, :], coef))\n",
        "    return res\n",
        "\n",
        "predict_clr_python_loop_multi(diabetes_X_test[:2], clr.coef_, clr.intercept_)"
      ]
    },
    {
      "cell_type": "code",
      "execution_count": 75,
      "metadata": {},
      "outputs": [
        {
          "data": {
            "text/plain": [
              "array([[197.61846908],\n",
              "       [155.43979328]])"
            ]
          },
          "execution_count": 76,
          "metadata": {},
          "output_type": "execute_result"
        }
      ],
      "source": [
        "def predict_clr_numpy_loop_multi(x, coef, intercept):    \n",
        "    # On s'attend \u00e0 deux dimension.\n",
        "    res = numpy.ones((x.shape[0], 1)) * intercept\n",
        "    res += x @ coef.reshape((len(coef), 1))\n",
        "    return res\n",
        "\n",
        "predict_clr_numpy_loop_multi(diabetes_X_test[:2], clr.coef_, clr.intercept_)"
      ]
    },
    {
      "cell_type": "code",
      "execution_count": 76,
      "metadata": {},
      "outputs": [
        {
          "data": {
            "text/plain": [
              "[197.6184690750328, 155.43979327521237]"
            ]
          },
          "execution_count": 77,
          "metadata": {},
          "output_type": "execute_result"
        }
      ],
      "source": [
        "def predict_clr_numba_cast_multi(X, coef, intercept):\n",
        "    return [predict_clr_numba_cast(x, coef, intercept) for x in X]\n",
        "\n",
        "predict_clr_numba_cast_multi(diabetes_X_test[:2], clr.coef_, clr.intercept_)"
      ]
    },
    {
      "cell_type": "code",
      "execution_count": 77,
      "metadata": {},
      "outputs": [
        {
          "data": {
            "text/plain": [
              "[197.6184690750328, 155.43979327521237]"
            ]
          },
          "execution_count": 78,
          "metadata": {},
          "output_type": "execute_result"
        }
      ],
      "source": [
        "def predict_clr_cython_type_multi(X, coef, intercept):\n",
        "    return [predict_clr_cython_type(x, coef, intercept) for x in X]\n",
        "\n",
        "predict_clr_cython_type_multi(diabetes_X_test[:2], clr.coef_, clr.intercept_)"
      ]
    },
    {
      "cell_type": "code",
      "execution_count": 78,
      "metadata": {
        "scrolled": false
      },
      "outputs": [
        {
          "name": "stdout",
          "output_type": "stream",
          "text": [
            "batch = 1\n",
            "Moyenne: 62.47 \u00b5s Ecart-type 25.32 \u00b5s (with 10 runs) in [43.47 \u00b5s, 124.43 \u00b5s]\n",
            "Moyenne: 12.82 \u00b5s Ecart-type 952.84 ns (with 10 runs) in [10.46 \u00b5s, 13.75 \u00b5s]\n",
            "Moyenne: 10.81 \u00b5s Ecart-type 2.74 \u00b5s (with 10 runs) in [9.32 \u00b5s, 15.59 \u00b5s]\n",
            "Moyenne: 2.59 \u00b5s Ecart-type 366.75 ns (with 10 runs) in [2.46 \u00b5s, 2.74 \u00b5s]\n",
            "Moyenne: 3.88 \u00b5s Ecart-type 1.36 \u00b5s (with 10 runs) in [3.00 \u00b5s, 6.70 \u00b5s]\n",
            "Moyenne: 21.51 \u00b5s Ecart-type 10.85 \u00b5s (with 10 runs) in [12.22 \u00b5s, 43.08 \u00b5s]\n",
            "batch = 10\n",
            "Moyenne: 62.02 \u00b5s Ecart-type 19.96 \u00b5s (with 10 runs) in [43.78 \u00b5s, 99.00 \u00b5s]\n",
            "Moyenne: 135.50 \u00b5s Ecart-type 26.93 \u00b5s (with 10 runs) in [96.31 \u00b5s, 166.30 \u00b5s]\n",
            "Moyenne: 13.96 \u00b5s Ecart-type 4.22 \u00b5s (with 10 runs) in [10.10 \u00b5s, 21.03 \u00b5s]\n",
            "Moyenne: 19.11 \u00b5s Ecart-type 5.97 \u00b5s (with 10 runs) in [11.26 \u00b5s, 31.73 \u00b5s]\n",
            "Moyenne: 21.76 \u00b5s Ecart-type 7.48 \u00b5s (with 10 runs) in [17.09 \u00b5s, 42.77 \u00b5s]\n",
            "Moyenne: 16.94 \u00b5s Ecart-type 7.20 \u00b5s (with 10 runs) in [14.29 \u00b5s, 27.28 \u00b5s]\n",
            "batch = 100\n",
            "Moyenne: 82.55 \u00b5s Ecart-type 19.74 \u00b5s (with 10 runs) in [47.04 \u00b5s, 109.23 \u00b5s]\n",
            "Moyenne: 1.75 ms Ecart-type 685.09 \u00b5s (with 10 runs) in [1.05 ms, 3.40 ms]\n",
            "Moyenne: 19.06 \u00b5s Ecart-type 2.21 \u00b5s (with 10 runs) in [17.89 \u00b5s, 24.30 \u00b5s]\n",
            "Moyenne: 137.78 \u00b5s Ecart-type 27.13 \u00b5s (with 10 runs) in [92.88 \u00b5s, 167.16 \u00b5s]\n",
            "Moyenne: 222.02 \u00b5s Ecart-type 55.47 \u00b5s (with 10 runs) in [152.34 \u00b5s, 312.59 \u00b5s]\n",
            "Moyenne: 50.36 \u00b5s Ecart-type 26.44 \u00b5s (with 10 runs) in [28.59 \u00b5s, 77.43 \u00b5s]\n",
            "batch = 200\n",
            "Moyenne: 91.73 \u00b5s Ecart-type 41.87 \u00b5s (with 10 runs) in [50.50 \u00b5s, 195.67 \u00b5s]\n",
            "Moyenne: 3.22 ms Ecart-type 936.03 \u00b5s (with 10 runs) in [2.55 ms, 6.53 ms]\n",
            "Moyenne: 22.51 \u00b5s Ecart-type 11.93 \u00b5s (with 10 runs) in [11.87 \u00b5s, 42.61 \u00b5s]\n",
            "Moyenne: 275.44 \u00b5s Ecart-type 83.03 \u00b5s (with 10 runs) in [175.26 \u00b5s, 415.92 \u00b5s]\n",
            "Moyenne: 459.76 \u00b5s Ecart-type 138.36 \u00b5s (with 10 runs) in [302.04 \u00b5s, 718.64 \u00b5s]\n",
            "Moyenne: 60.39 \u00b5s Ecart-type 12.31 \u00b5s (with 10 runs) in [40.33 \u00b5s, 76.97 \u00b5s]\n",
            "batch = 500\n",
            "Moyenne: 82.57 \u00b5s Ecart-type 17.60 \u00b5s (with 10 runs) in [56.40 \u00b5s, 106.12 \u00b5s]\n",
            "Moyenne: 7.69 ms Ecart-type 1.84 ms (with 10 runs) in [6.31 ms, 14.44 ms]\n",
            "Moyenne: 21.17 \u00b5s Ecart-type 4.78 \u00b5s (with 10 runs) in [13.57 \u00b5s, 29.03 \u00b5s]\n",
            "Moyenne: 754.61 \u00b5s Ecart-type 243.01 \u00b5s (with 10 runs) in [483.41 \u00b5s, 1.40 ms]\n",
            "Moyenne: 1.21 ms Ecart-type 355.41 \u00b5s (with 10 runs) in [817.69 \u00b5s, 1.91 ms]\n",
            "Moyenne: 140.35 \u00b5s Ecart-type 53.91 \u00b5s (with 10 runs) in [74.99 \u00b5s, 252.24 \u00b5s]\n",
            "batch = 1000\n",
            "Moyenne: 121.15 \u00b5s Ecart-type 52.99 \u00b5s (with 10 runs) in [85.76 \u00b5s, 173.68 \u00b5s]\n",
            "Moyenne: 15.45 ms Ecart-type 2.62 ms (with 10 runs) in [13.00 ms, 22.15 ms]\n",
            "Moyenne: 50.02 \u00b5s Ecart-type 73.85 \u00b5s (with 10 runs) in [17.74 \u00b5s, 107.51 \u00b5s]\n",
            "Moyenne: 1.60 ms Ecart-type 640.11 \u00b5s (with 10 runs) in [1.08 ms, 2.87 ms]\n",
            "Moyenne: 2.43 ms Ecart-type 562.54 \u00b5s (with 10 runs) in [1.78 ms, 3.94 ms]\n",
            "Moyenne: 197.49 \u00b5s Ecart-type 38.80 \u00b5s (with 10 runs) in [143.65 \u00b5s, 243.12 \u00b5s]\n",
            "batch = 2000\n",
            "Moyenne: 123.42 \u00b5s Ecart-type 32.04 \u00b5s (with 10 runs) in [85.75 \u00b5s, 193.81 \u00b5s]\n",
            "Moyenne: 50.52 \u00b5s Ecart-type 55.61 \u00b5s (with 10 runs) in [24.63 \u00b5s, 71.72 \u00b5s]\n",
            "Moyenne: 2.94 ms Ecart-type 743.40 \u00b5s (with 10 runs) in [2.16 ms, 4.57 ms]\n",
            "Moyenne: 436.43 \u00b5s Ecart-type 132.34 \u00b5s (with 10 runs) in [242.78 \u00b5s, 731.27 \u00b5s]\n",
            "batch = 3000\n",
            "Moyenne: 177.03 \u00b5s Ecart-type 40.23 \u00b5s (with 10 runs) in [106.32 \u00b5s, 214.98 \u00b5s]\n",
            "Moyenne: 39.83 \u00b5s Ecart-type 16.89 \u00b5s (with 10 runs) in [24.17 \u00b5s, 65.20 \u00b5s]\n",
            "Moyenne: 4.40 ms Ecart-type 554.34 \u00b5s (with 10 runs) in [3.66 ms, 5.51 ms]\n",
            "Moyenne: 588.54 \u00b5s Ecart-type 141.27 \u00b5s (with 10 runs) in [406.44 \u00b5s, 910.48 \u00b5s]\n",
            "batch = 4000\n",
            "Moyenne: 169.91 \u00b5s Ecart-type 41.72 \u00b5s (with 10 runs) in [96.86 \u00b5s, 223.16 \u00b5s]\n",
            "Moyenne: 49.73 \u00b5s Ecart-type 20.84 \u00b5s (with 10 runs) in [27.96 \u00b5s, 73.83 \u00b5s]\n",
            "Moyenne: 6.10 ms Ecart-type 1.18 ms (with 10 runs) in [4.64 ms, 7.67 ms]\n",
            "Moyenne: 778.76 \u00b5s Ecart-type 241.40 \u00b5s (with 10 runs) in [485.91 \u00b5s, 1.32 ms]\n",
            "batch = 5000\n",
            "Moyenne: 213.56 \u00b5s Ecart-type 34.43 \u00b5s (with 10 runs) in [143.56 \u00b5s, 272.57 \u00b5s]\n",
            "Moyenne: 67.98 \u00b5s Ecart-type 13.75 \u00b5s (with 10 runs) in [48.11 \u00b5s, 81.78 \u00b5s]\n",
            "Moyenne: 6.94 ms Ecart-type 907.68 \u00b5s (with 10 runs) in [5.98 ms, 9.26 ms]\n",
            "Moyenne: 990.44 \u00b5s Ecart-type 182.20 \u00b5s (with 10 runs) in [603.67 \u00b5s, 1.29 ms]\n",
            "batch = 10000\n",
            "Moyenne: 229.74 \u00b5s Ecart-type 88.56 \u00b5s (with 10 runs) in [145.75 \u00b5s, 480.67 \u00b5s]\n",
            "Moyenne: 94.15 \u00b5s Ecart-type 52.86 \u00b5s (with 10 runs) in [61.35 \u00b5s, 256.11 \u00b5s]\n",
            "Moyenne: 15.36 ms Ecart-type 2.86 ms (with 10 runs) in [12.72 ms, 24.33 ms]\n",
            "Moyenne: 1.69 ms Ecart-type 258.41 \u00b5s (with 10 runs) in [1.39 ms, 2.16 ms]\n",
            "batch = 20000\n",
            "Moyenne: 400.20 \u00b5s Ecart-type 74.87 \u00b5s (with 10 runs) in [261.56 \u00b5s, 522.24 \u00b5s]\n",
            "Moyenne: 163.33 \u00b5s Ecart-type 38.01 \u00b5s (with 10 runs) in [107.64 \u00b5s, 221.78 \u00b5s]\n",
            "Moyenne: 4.01 ms Ecart-type 751.38 \u00b5s (with 10 runs) in [3.20 ms, 6.14 ms]\n",
            "batch = 50000\n",
            "Moyenne: 1.42 ms Ecart-type 223.08 \u00b5s (with 10 runs) in [1.13 ms, 1.81 ms]\n",
            "Moyenne: 410.01 \u00b5s Ecart-type 60.07 \u00b5s (with 10 runs) in [324.57 \u00b5s, 504.86 \u00b5s]\n",
            "Moyenne: 12.00 ms Ecart-type 2.35 ms (with 10 runs) in [9.55 ms, 17.87 ms]\n",
            "batch = 75000\n",
            "Moyenne: 2.16 ms Ecart-type 290.37 \u00b5s (with 10 runs) in [1.76 ms, 3.02 ms]\n",
            "Moyenne: 607.18 \u00b5s Ecart-type 80.95 \u00b5s (with 10 runs) in [518.98 \u00b5s, 745.66 \u00b5s]\n",
            "Moyenne: 17.73 ms Ecart-type 1.93 ms (with 10 runs) in [15.40 ms, 23.72 ms]\n",
            "batch = 100000\n",
            "Moyenne: 2.78 ms Ecart-type 254.18 \u00b5s (with 10 runs) in [2.36 ms, 3.22 ms]\n",
            "Moyenne: 965.11 \u00b5s Ecart-type 158.76 \u00b5s (with 10 runs) in [709.25 \u00b5s, 1.24 ms]\n",
            "Moyenne: 22.89 ms Ecart-type 1.94 ms (with 10 runs) in [20.88 ms, 28.57 ms]\n",
            "batch = 150000\n",
            "Moyenne: 6.00 ms Ecart-type 298.91 \u00b5s (with 10 runs) in [5.67 ms, 6.65 ms]\n",
            "Moyenne: 4.36 ms Ecart-type 433.00 \u00b5s (with 10 runs) in [3.83 ms, 5.38 ms]\n",
            "Moyenne: 35.08 ms Ecart-type 1.95 ms (with 10 runs) in [32.46 ms, 40.00 ms]\n",
            "batch = 200000\n",
            "Moyenne: 7.88 ms Ecart-type 372.24 \u00b5s (with 10 runs) in [7.31 ms, 8.57 ms]\n",
            "Moyenne: 5.86 ms Ecart-type 378.38 \u00b5s (with 10 runs) in [5.12 ms, 6.57 ms]\n",
            "Moyenne: 45.66 ms Ecart-type 2.06 ms (with 10 runs) in [43.00 ms, 50.26 ms]\n",
            "batch = 300000\n",
            "Moyenne: 11.80 ms Ecart-type 513.47 \u00b5s (with 10 runs) in [11.21 ms, 12.60 ms]\n",
            "Moyenne: 8.88 ms Ecart-type 386.42 \u00b5s (with 10 runs) in [8.33 ms, 9.53 ms]\n",
            "Moyenne: 70.83 ms Ecart-type 2.92 ms (with 10 runs) in [67.03 ms, 77.25 ms]\n",
            "batch = 400000\n",
            "Moyenne: 15.86 ms Ecart-type 589.26 \u00b5s (with 10 runs) in [15.09 ms, 16.83 ms]\n",
            "Moyenne: 11.99 ms Ecart-type 426.70 \u00b5s (with 10 runs) in [11.33 ms, 12.63 ms]\n",
            "Moyenne: 91.66 ms Ecart-type 4.68 ms (with 10 runs) in [83.27 ms, 101.19 ms]\n",
            "batch = 500000\n",
            "Moyenne: 19.91 ms Ecart-type 430.63 \u00b5s (with 10 runs) in [19.32 ms, 20.94 ms]\n",
            "Moyenne: 14.95 ms Ecart-type 512.07 \u00b5s (with 10 runs) in [14.29 ms, 16.11 ms]\n",
            "Moyenne: 117.97 ms Ecart-type 3.25 ms (with 10 runs) in [112.95 ms, 125.85 ms]\n",
            "batch = 600000\n",
            "Moyenne: 23.47 ms Ecart-type 494.62 \u00b5s (with 10 runs) in [22.73 ms, 24.18 ms]\n",
            "Moyenne: 17.68 ms Ecart-type 790.79 \u00b5s (with 10 runs) in [16.46 ms, 18.84 ms]\n",
            "Moyenne: 137.66 ms Ecart-type 10.20 ms (with 10 runs) in [126.92 ms, 159.48 ms]\n"
          ]
        }
      ],
      "source": [
        "memo = []\n",
        "batch = [1, 10, 100, 200, 500, 1000, 2000, 3000, 4000, 5000, 10000,\n",
        "         20000, 50000, 75000, 100000, 150000, 200000, 300000, 400000,\n",
        "         500000, 600000]\n",
        "number = 10\n",
        "for i in batch:\n",
        "    if i <= diabetes_X_test.shape[0]:\n",
        "        mx = diabetes_X_test[:i]\n",
        "    else:\n",
        "        mxs = [diabetes_X_test] * (i // diabetes_X_test.shape[0] + 1)\n",
        "        mx = numpy.vstack(mxs)\n",
        "        mx = mx[:i]\n",
        "\n",
        "    print(\"batch\", \"=\", i)\n",
        "    repeat=20 if i >= 5000 else 100\n",
        "    \n",
        "    memo.append(timeexe(\"sklearn.predict %d\" % i, \"clr.predict(mx)\", \n",
        "                        repeat=repeat, number=number))\n",
        "    memo[-1][\"batch\"] = i\n",
        "    memo[-1][\"lib\"] = \"sklearn\"\n",
        "    \n",
        "    if i <= 1000:\n",
        "        # tr\u00e8s lent\n",
        "        memo.append(timeexe(\"python %d\" % i, \"predict_clr_python_loop_multi(mx, clr.coef_, clr.intercept_)\",\n",
        "                            repeat=20, number=number))\n",
        "        memo[-1][\"batch\"] = i\n",
        "        memo[-1][\"lib\"] = \"python\"\n",
        "    \n",
        "    memo.append(timeexe(\"numpy %d\" % i, \"predict_clr_numpy_loop_multi(mx, clr.coef_, clr.intercept_)\",\n",
        "                        repeat=repeat, number=number))\n",
        "    memo[-1][\"batch\"] = i\n",
        "    memo[-1][\"lib\"] = \"numpy\"\n",
        "    \n",
        "    if i <= 10000:\n",
        "        # tr\u00e8s lent\n",
        "        memo.append(timeexe(\"numba %d\" % i, \"predict_clr_numba_cast_multi(mx, clr.coef_, clr.intercept_)\",\n",
        "                            repeat=repeat, number=number))\n",
        "        memo[-1][\"batch\"] = i\n",
        "        memo[-1][\"lib\"] = \"numba\"\n",
        "        \n",
        "    if i <= 1000:\n",
        "        # tr\u00e8s lent\n",
        "        memo.append(timeexe(\"cython %d\" % i, \"predict_clr_cython_type_multi(mx, clr.coef_, clr.intercept_)\",\n",
        "                            repeat=repeat, number=number))\n",
        "        memo[-1][\"batch\"] = i\n",
        "        memo[-1][\"lib\"] = \"cython\"\n",
        "        \n",
        "    if ok_onnx:\n",
        "        memo.append(timeexe(\"onnxruntime %d\" % i, \"predict_onnxrt(mx.astype(numpy.float32))\",\n",
        "                            repeat=repeat, number=number))\n",
        "        memo[-1][\"batch\"] = i\n",
        "        memo[-1][\"lib\"] = \"onnxruntime\""
      ]
    },
    {
      "cell_type": "code",
      "execution_count": 79,
      "metadata": {},
      "outputs": [
        {
          "data": {
            "text/html": [
              "<div>\n",
              "<style scoped>\n",
              "    .dataframe tbody tr th:only-of-type {\n",
              "        vertical-align: middle;\n",
              "    }\n",
              "\n",
              "    .dataframe tbody tr th {\n",
              "        vertical-align: top;\n",
              "    }\n",
              "\n",
              "    .dataframe thead th {\n",
              "        text-align: right;\n",
              "    }\n",
              "</style>\n",
              "<table border=\"1\" class=\"dataframe\">\n",
              "  <thead>\n",
              "    <tr style=\"text-align: right;\">\n",
              "      <th>lib</th>\n",
              "      <th>cython</th>\n",
              "      <th>numba</th>\n",
              "      <th>numpy</th>\n",
              "      <th>onnxruntime</th>\n",
              "      <th>python</th>\n",
              "      <th>sklearn</th>\n",
              "    </tr>\n",
              "    <tr>\n",
              "      <th>batch</th>\n",
              "      <th></th>\n",
              "      <th></th>\n",
              "      <th></th>\n",
              "      <th></th>\n",
              "      <th></th>\n",
              "      <th></th>\n",
              "    </tr>\n",
              "  </thead>\n",
              "  <tbody>\n",
              "    <tr>\n",
              "      <th>1</th>\n",
              "      <td>0.000004</td>\n",
              "      <td>0.000003</td>\n",
              "      <td>0.000011</td>\n",
              "      <td>0.000022</td>\n",
              "      <td>0.000013</td>\n",
              "      <td>0.000062</td>\n",
              "    </tr>\n",
              "    <tr>\n",
              "      <th>10</th>\n",
              "      <td>0.000022</td>\n",
              "      <td>0.000019</td>\n",
              "      <td>0.000014</td>\n",
              "      <td>0.000017</td>\n",
              "      <td>0.000135</td>\n",
              "      <td>0.000062</td>\n",
              "    </tr>\n",
              "    <tr>\n",
              "      <th>100</th>\n",
              "      <td>0.000222</td>\n",
              "      <td>0.000138</td>\n",
              "      <td>0.000019</td>\n",
              "      <td>0.000050</td>\n",
              "      <td>0.001752</td>\n",
              "      <td>0.000083</td>\n",
              "    </tr>\n",
              "    <tr>\n",
              "      <th>200</th>\n",
              "      <td>0.000460</td>\n",
              "      <td>0.000275</td>\n",
              "      <td>0.000023</td>\n",
              "      <td>0.000060</td>\n",
              "      <td>0.003221</td>\n",
              "      <td>0.000092</td>\n",
              "    </tr>\n",
              "    <tr>\n",
              "      <th>500</th>\n",
              "      <td>0.001213</td>\n",
              "      <td>0.000755</td>\n",
              "      <td>0.000021</td>\n",
              "      <td>0.000140</td>\n",
              "      <td>0.007690</td>\n",
              "      <td>0.000083</td>\n",
              "    </tr>\n",
              "    <tr>\n",
              "      <th>1000</th>\n",
              "      <td>0.002432</td>\n",
              "      <td>0.001598</td>\n",
              "      <td>0.000050</td>\n",
              "      <td>0.000197</td>\n",
              "      <td>0.015449</td>\n",
              "      <td>0.000121</td>\n",
              "    </tr>\n",
              "    <tr>\n",
              "      <th>2000</th>\n",
              "      <td>NaN</td>\n",
              "      <td>0.002941</td>\n",
              "      <td>0.000051</td>\n",
              "      <td>0.000436</td>\n",
              "      <td>NaN</td>\n",
              "      <td>0.000123</td>\n",
              "    </tr>\n",
              "    <tr>\n",
              "      <th>3000</th>\n",
              "      <td>NaN</td>\n",
              "      <td>0.004397</td>\n",
              "      <td>0.000040</td>\n",
              "      <td>0.000589</td>\n",
              "      <td>NaN</td>\n",
              "      <td>0.000177</td>\n",
              "    </tr>\n",
              "    <tr>\n",
              "      <th>4000</th>\n",
              "      <td>NaN</td>\n",
              "      <td>0.006103</td>\n",
              "      <td>0.000050</td>\n",
              "      <td>0.000779</td>\n",
              "      <td>NaN</td>\n",
              "      <td>0.000170</td>\n",
              "    </tr>\n",
              "    <tr>\n",
              "      <th>5000</th>\n",
              "      <td>NaN</td>\n",
              "      <td>0.006942</td>\n",
              "      <td>0.000068</td>\n",
              "      <td>0.000990</td>\n",
              "      <td>NaN</td>\n",
              "      <td>0.000214</td>\n",
              "    </tr>\n",
              "    <tr>\n",
              "      <th>10000</th>\n",
              "      <td>NaN</td>\n",
              "      <td>0.015363</td>\n",
              "      <td>0.000094</td>\n",
              "      <td>0.001689</td>\n",
              "      <td>NaN</td>\n",
              "      <td>0.000230</td>\n",
              "    </tr>\n",
              "    <tr>\n",
              "      <th>20000</th>\n",
              "      <td>NaN</td>\n",
              "      <td>NaN</td>\n",
              "      <td>0.000163</td>\n",
              "      <td>0.004011</td>\n",
              "      <td>NaN</td>\n",
              "      <td>0.000400</td>\n",
              "    </tr>\n",
              "    <tr>\n",
              "      <th>50000</th>\n",
              "      <td>NaN</td>\n",
              "      <td>NaN</td>\n",
              "      <td>0.000410</td>\n",
              "      <td>0.011998</td>\n",
              "      <td>NaN</td>\n",
              "      <td>0.001422</td>\n",
              "    </tr>\n",
              "    <tr>\n",
              "      <th>75000</th>\n",
              "      <td>NaN</td>\n",
              "      <td>NaN</td>\n",
              "      <td>0.000607</td>\n",
              "      <td>0.017731</td>\n",
              "      <td>NaN</td>\n",
              "      <td>0.002162</td>\n",
              "    </tr>\n",
              "    <tr>\n",
              "      <th>100000</th>\n",
              "      <td>NaN</td>\n",
              "      <td>NaN</td>\n",
              "      <td>0.000965</td>\n",
              "      <td>0.022888</td>\n",
              "      <td>NaN</td>\n",
              "      <td>0.002778</td>\n",
              "    </tr>\n",
              "    <tr>\n",
              "      <th>150000</th>\n",
              "      <td>NaN</td>\n",
              "      <td>NaN</td>\n",
              "      <td>0.004361</td>\n",
              "      <td>0.035081</td>\n",
              "      <td>NaN</td>\n",
              "      <td>0.005998</td>\n",
              "    </tr>\n",
              "    <tr>\n",
              "      <th>200000</th>\n",
              "      <td>NaN</td>\n",
              "      <td>NaN</td>\n",
              "      <td>0.005860</td>\n",
              "      <td>0.045659</td>\n",
              "      <td>NaN</td>\n",
              "      <td>0.007880</td>\n",
              "    </tr>\n",
              "    <tr>\n",
              "      <th>300000</th>\n",
              "      <td>NaN</td>\n",
              "      <td>NaN</td>\n",
              "      <td>0.008884</td>\n",
              "      <td>0.070833</td>\n",
              "      <td>NaN</td>\n",
              "      <td>0.011796</td>\n",
              "    </tr>\n",
              "    <tr>\n",
              "      <th>400000</th>\n",
              "      <td>NaN</td>\n",
              "      <td>NaN</td>\n",
              "      <td>0.011994</td>\n",
              "      <td>0.091658</td>\n",
              "      <td>NaN</td>\n",
              "      <td>0.015859</td>\n",
              "    </tr>\n",
              "    <tr>\n",
              "      <th>500000</th>\n",
              "      <td>NaN</td>\n",
              "      <td>NaN</td>\n",
              "      <td>0.014948</td>\n",
              "      <td>0.117968</td>\n",
              "      <td>NaN</td>\n",
              "      <td>0.019911</td>\n",
              "    </tr>\n",
              "    <tr>\n",
              "      <th>600000</th>\n",
              "      <td>NaN</td>\n",
              "      <td>NaN</td>\n",
              "      <td>0.017677</td>\n",
              "      <td>0.137656</td>\n",
              "      <td>NaN</td>\n",
              "      <td>0.023472</td>\n",
              "    </tr>\n",
              "  </tbody>\n",
              "</table>\n",
              "</div>"
            ],
            "text/plain": [
              "lib       cython     numba     numpy  onnxruntime    python   sklearn\n",
              "batch                                                                \n",
              "1       0.000004  0.000003  0.000011     0.000022  0.000013  0.000062\n",
              "10      0.000022  0.000019  0.000014     0.000017  0.000135  0.000062\n",
              "100     0.000222  0.000138  0.000019     0.000050  0.001752  0.000083\n",
              "200     0.000460  0.000275  0.000023     0.000060  0.003221  0.000092\n",
              "500     0.001213  0.000755  0.000021     0.000140  0.007690  0.000083\n",
              "1000    0.002432  0.001598  0.000050     0.000197  0.015449  0.000121\n",
              "2000         NaN  0.002941  0.000051     0.000436       NaN  0.000123\n",
              "3000         NaN  0.004397  0.000040     0.000589       NaN  0.000177\n",
              "4000         NaN  0.006103  0.000050     0.000779       NaN  0.000170\n",
              "5000         NaN  0.006942  0.000068     0.000990       NaN  0.000214\n",
              "10000        NaN  0.015363  0.000094     0.001689       NaN  0.000230\n",
              "20000        NaN       NaN  0.000163     0.004011       NaN  0.000400\n",
              "50000        NaN       NaN  0.000410     0.011998       NaN  0.001422\n",
              "75000        NaN       NaN  0.000607     0.017731       NaN  0.002162\n",
              "100000       NaN       NaN  0.000965     0.022888       NaN  0.002778\n",
              "150000       NaN       NaN  0.004361     0.035081       NaN  0.005998\n",
              "200000       NaN       NaN  0.005860     0.045659       NaN  0.007880\n",
              "300000       NaN       NaN  0.008884     0.070833       NaN  0.011796\n",
              "400000       NaN       NaN  0.011994     0.091658       NaN  0.015859\n",
              "500000       NaN       NaN  0.014948     0.117968       NaN  0.019911\n",
              "600000       NaN       NaN  0.017677     0.137656       NaN  0.023472"
            ]
          },
          "execution_count": 80,
          "metadata": {},
          "output_type": "execute_result"
        }
      ],
      "source": [
        "dfb = pandas.DataFrame(memo)[[\"average\", \"lib\", \"batch\"]]\n",
        "piv = dfb.pivot(\"batch\", \"lib\", \"average\")\n",
        "piv"
      ]
    },
    {
      "cell_type": "code",
      "execution_count": 80,
      "metadata": {},
      "outputs": [
        {
          "data": {
            "text/html": [
              "<div>\n",
              "<style scoped>\n",
              "    .dataframe tbody tr th:only-of-type {\n",
              "        vertical-align: middle;\n",
              "    }\n",
              "\n",
              "    .dataframe tbody tr th {\n",
              "        vertical-align: top;\n",
              "    }\n",
              "\n",
              "    .dataframe thead th {\n",
              "        text-align: right;\n",
              "    }\n",
              "</style>\n",
              "<table border=\"1\" class=\"dataframe\">\n",
              "  <thead>\n",
              "    <tr style=\"text-align: right;\">\n",
              "      <th>lib</th>\n",
              "      <th>cython</th>\n",
              "      <th>numba</th>\n",
              "      <th>numpy</th>\n",
              "      <th>onnxruntime</th>\n",
              "      <th>python</th>\n",
              "      <th>sklearn</th>\n",
              "      <th>ave_cython</th>\n",
              "      <th>ave_numba</th>\n",
              "      <th>ave_numpy</th>\n",
              "      <th>ave_onnxruntime</th>\n",
              "      <th>ave_python</th>\n",
              "      <th>ave_sklearn</th>\n",
              "    </tr>\n",
              "    <tr>\n",
              "      <th>batch</th>\n",
              "      <th></th>\n",
              "      <th></th>\n",
              "      <th></th>\n",
              "      <th></th>\n",
              "      <th></th>\n",
              "      <th></th>\n",
              "      <th></th>\n",
              "      <th></th>\n",
              "      <th></th>\n",
              "      <th></th>\n",
              "      <th></th>\n",
              "      <th></th>\n",
              "    </tr>\n",
              "  </thead>\n",
              "  <tbody>\n",
              "    <tr>\n",
              "      <th>1</th>\n",
              "      <td>0.000004</td>\n",
              "      <td>0.000003</td>\n",
              "      <td>0.000011</td>\n",
              "      <td>0.000022</td>\n",
              "      <td>0.000013</td>\n",
              "      <td>0.000062</td>\n",
              "      <td>0.000004</td>\n",
              "      <td>0.000003</td>\n",
              "      <td>1.080870e-05</td>\n",
              "      <td>2.151140e-05</td>\n",
              "      <td>0.000013</td>\n",
              "      <td>6.247010e-05</td>\n",
              "    </tr>\n",
              "    <tr>\n",
              "      <th>10</th>\n",
              "      <td>0.000022</td>\n",
              "      <td>0.000019</td>\n",
              "      <td>0.000014</td>\n",
              "      <td>0.000017</td>\n",
              "      <td>0.000135</td>\n",
              "      <td>0.000062</td>\n",
              "      <td>0.000002</td>\n",
              "      <td>0.000002</td>\n",
              "      <td>1.396190e-06</td>\n",
              "      <td>1.693920e-06</td>\n",
              "      <td>0.000014</td>\n",
              "      <td>6.202100e-06</td>\n",
              "    </tr>\n",
              "    <tr>\n",
              "      <th>100</th>\n",
              "      <td>0.000222</td>\n",
              "      <td>0.000138</td>\n",
              "      <td>0.000019</td>\n",
              "      <td>0.000050</td>\n",
              "      <td>0.001752</td>\n",
              "      <td>0.000083</td>\n",
              "      <td>0.000002</td>\n",
              "      <td>0.000001</td>\n",
              "      <td>1.905660e-07</td>\n",
              "      <td>5.036020e-07</td>\n",
              "      <td>0.000018</td>\n",
              "      <td>8.254790e-07</td>\n",
              "    </tr>\n",
              "    <tr>\n",
              "      <th>200</th>\n",
              "      <td>0.000460</td>\n",
              "      <td>0.000275</td>\n",
              "      <td>0.000023</td>\n",
              "      <td>0.000060</td>\n",
              "      <td>0.003221</td>\n",
              "      <td>0.000092</td>\n",
              "      <td>0.000002</td>\n",
              "      <td>0.000001</td>\n",
              "      <td>1.125545e-07</td>\n",
              "      <td>3.019365e-07</td>\n",
              "      <td>0.000016</td>\n",
              "      <td>4.586410e-07</td>\n",
              "    </tr>\n",
              "    <tr>\n",
              "      <th>500</th>\n",
              "      <td>0.001213</td>\n",
              "      <td>0.000755</td>\n",
              "      <td>0.000021</td>\n",
              "      <td>0.000140</td>\n",
              "      <td>0.007690</td>\n",
              "      <td>0.000083</td>\n",
              "      <td>0.000002</td>\n",
              "      <td>0.000002</td>\n",
              "      <td>4.234300e-08</td>\n",
              "      <td>2.806916e-07</td>\n",
              "      <td>0.000015</td>\n",
              "      <td>1.651440e-07</td>\n",
              "    </tr>\n",
              "    <tr>\n",
              "      <th>1000</th>\n",
              "      <td>0.002432</td>\n",
              "      <td>0.001598</td>\n",
              "      <td>0.000050</td>\n",
              "      <td>0.000197</td>\n",
              "      <td>0.015449</td>\n",
              "      <td>0.000121</td>\n",
              "      <td>0.000002</td>\n",
              "      <td>0.000002</td>\n",
              "      <td>5.002070e-08</td>\n",
              "      <td>1.974908e-07</td>\n",
              "      <td>0.000015</td>\n",
              "      <td>1.211521e-07</td>\n",
              "    </tr>\n",
              "    <tr>\n",
              "      <th>2000</th>\n",
              "      <td>NaN</td>\n",
              "      <td>0.002941</td>\n",
              "      <td>0.000051</td>\n",
              "      <td>0.000436</td>\n",
              "      <td>NaN</td>\n",
              "      <td>0.000123</td>\n",
              "      <td>NaN</td>\n",
              "      <td>0.000001</td>\n",
              "      <td>2.525915e-08</td>\n",
              "      <td>2.182152e-07</td>\n",
              "      <td>NaN</td>\n",
              "      <td>6.171235e-08</td>\n",
              "    </tr>\n",
              "    <tr>\n",
              "      <th>3000</th>\n",
              "      <td>NaN</td>\n",
              "      <td>0.004397</td>\n",
              "      <td>0.000040</td>\n",
              "      <td>0.000589</td>\n",
              "      <td>NaN</td>\n",
              "      <td>0.000177</td>\n",
              "      <td>NaN</td>\n",
              "      <td>0.000001</td>\n",
              "      <td>1.327523e-08</td>\n",
              "      <td>1.961812e-07</td>\n",
              "      <td>NaN</td>\n",
              "      <td>5.901053e-08</td>\n",
              "    </tr>\n",
              "    <tr>\n",
              "      <th>4000</th>\n",
              "      <td>NaN</td>\n",
              "      <td>0.006103</td>\n",
              "      <td>0.000050</td>\n",
              "      <td>0.000779</td>\n",
              "      <td>NaN</td>\n",
              "      <td>0.000170</td>\n",
              "      <td>NaN</td>\n",
              "      <td>0.000002</td>\n",
              "      <td>1.243255e-08</td>\n",
              "      <td>1.946893e-07</td>\n",
              "      <td>NaN</td>\n",
              "      <td>4.247705e-08</td>\n",
              "    </tr>\n",
              "    <tr>\n",
              "      <th>5000</th>\n",
              "      <td>NaN</td>\n",
              "      <td>0.006942</td>\n",
              "      <td>0.000068</td>\n",
              "      <td>0.000990</td>\n",
              "      <td>NaN</td>\n",
              "      <td>0.000214</td>\n",
              "      <td>NaN</td>\n",
              "      <td>0.000001</td>\n",
              "      <td>1.359500e-08</td>\n",
              "      <td>1.980884e-07</td>\n",
              "      <td>NaN</td>\n",
              "      <td>4.271260e-08</td>\n",
              "    </tr>\n",
              "    <tr>\n",
              "      <th>10000</th>\n",
              "      <td>NaN</td>\n",
              "      <td>0.015363</td>\n",
              "      <td>0.000094</td>\n",
              "      <td>0.001689</td>\n",
              "      <td>NaN</td>\n",
              "      <td>0.000230</td>\n",
              "      <td>NaN</td>\n",
              "      <td>0.000002</td>\n",
              "      <td>9.415250e-09</td>\n",
              "      <td>1.688726e-07</td>\n",
              "      <td>NaN</td>\n",
              "      <td>2.297365e-08</td>\n",
              "    </tr>\n",
              "    <tr>\n",
              "      <th>20000</th>\n",
              "      <td>NaN</td>\n",
              "      <td>NaN</td>\n",
              "      <td>0.000163</td>\n",
              "      <td>0.004011</td>\n",
              "      <td>NaN</td>\n",
              "      <td>0.000400</td>\n",
              "      <td>NaN</td>\n",
              "      <td>NaN</td>\n",
              "      <td>8.166650e-09</td>\n",
              "      <td>2.005639e-07</td>\n",
              "      <td>NaN</td>\n",
              "      <td>2.001025e-08</td>\n",
              "    </tr>\n",
              "    <tr>\n",
              "      <th>50000</th>\n",
              "      <td>NaN</td>\n",
              "      <td>NaN</td>\n",
              "      <td>0.000410</td>\n",
              "      <td>0.011998</td>\n",
              "      <td>NaN</td>\n",
              "      <td>0.001422</td>\n",
              "      <td>NaN</td>\n",
              "      <td>NaN</td>\n",
              "      <td>8.200110e-09</td>\n",
              "      <td>2.399616e-07</td>\n",
              "      <td>NaN</td>\n",
              "      <td>2.844126e-08</td>\n",
              "    </tr>\n",
              "    <tr>\n",
              "      <th>75000</th>\n",
              "      <td>NaN</td>\n",
              "      <td>NaN</td>\n",
              "      <td>0.000607</td>\n",
              "      <td>0.017731</td>\n",
              "      <td>NaN</td>\n",
              "      <td>0.002162</td>\n",
              "      <td>NaN</td>\n",
              "      <td>NaN</td>\n",
              "      <td>8.095687e-09</td>\n",
              "      <td>2.364091e-07</td>\n",
              "      <td>NaN</td>\n",
              "      <td>2.882321e-08</td>\n",
              "    </tr>\n",
              "    <tr>\n",
              "      <th>100000</th>\n",
              "      <td>NaN</td>\n",
              "      <td>NaN</td>\n",
              "      <td>0.000965</td>\n",
              "      <td>0.022888</td>\n",
              "      <td>NaN</td>\n",
              "      <td>0.002778</td>\n",
              "      <td>NaN</td>\n",
              "      <td>NaN</td>\n",
              "      <td>9.651090e-09</td>\n",
              "      <td>2.288841e-07</td>\n",
              "      <td>NaN</td>\n",
              "      <td>2.778050e-08</td>\n",
              "    </tr>\n",
              "    <tr>\n",
              "      <th>150000</th>\n",
              "      <td>NaN</td>\n",
              "      <td>NaN</td>\n",
              "      <td>0.004361</td>\n",
              "      <td>0.035081</td>\n",
              "      <td>NaN</td>\n",
              "      <td>0.005998</td>\n",
              "      <td>NaN</td>\n",
              "      <td>NaN</td>\n",
              "      <td>2.907245e-08</td>\n",
              "      <td>2.338707e-07</td>\n",
              "      <td>NaN</td>\n",
              "      <td>3.998676e-08</td>\n",
              "    </tr>\n",
              "    <tr>\n",
              "      <th>200000</th>\n",
              "      <td>NaN</td>\n",
              "      <td>NaN</td>\n",
              "      <td>0.005860</td>\n",
              "      <td>0.045659</td>\n",
              "      <td>NaN</td>\n",
              "      <td>0.007880</td>\n",
              "      <td>NaN</td>\n",
              "      <td>NaN</td>\n",
              "      <td>2.930084e-08</td>\n",
              "      <td>2.282940e-07</td>\n",
              "      <td>NaN</td>\n",
              "      <td>3.939852e-08</td>\n",
              "    </tr>\n",
              "    <tr>\n",
              "      <th>300000</th>\n",
              "      <td>NaN</td>\n",
              "      <td>NaN</td>\n",
              "      <td>0.008884</td>\n",
              "      <td>0.070833</td>\n",
              "      <td>NaN</td>\n",
              "      <td>0.011796</td>\n",
              "      <td>NaN</td>\n",
              "      <td>NaN</td>\n",
              "      <td>2.961212e-08</td>\n",
              "      <td>2.361109e-07</td>\n",
              "      <td>NaN</td>\n",
              "      <td>3.931965e-08</td>\n",
              "    </tr>\n",
              "    <tr>\n",
              "      <th>400000</th>\n",
              "      <td>NaN</td>\n",
              "      <td>NaN</td>\n",
              "      <td>0.011994</td>\n",
              "      <td>0.091658</td>\n",
              "      <td>NaN</td>\n",
              "      <td>0.015859</td>\n",
              "      <td>NaN</td>\n",
              "      <td>NaN</td>\n",
              "      <td>2.998587e-08</td>\n",
              "      <td>2.291438e-07</td>\n",
              "      <td>NaN</td>\n",
              "      <td>3.964866e-08</td>\n",
              "    </tr>\n",
              "    <tr>\n",
              "      <th>500000</th>\n",
              "      <td>NaN</td>\n",
              "      <td>NaN</td>\n",
              "      <td>0.014948</td>\n",
              "      <td>0.117968</td>\n",
              "      <td>NaN</td>\n",
              "      <td>0.019911</td>\n",
              "      <td>NaN</td>\n",
              "      <td>NaN</td>\n",
              "      <td>2.989584e-08</td>\n",
              "      <td>2.359367e-07</td>\n",
              "      <td>NaN</td>\n",
              "      <td>3.982256e-08</td>\n",
              "    </tr>\n",
              "    <tr>\n",
              "      <th>600000</th>\n",
              "      <td>NaN</td>\n",
              "      <td>NaN</td>\n",
              "      <td>0.017677</td>\n",
              "      <td>0.137656</td>\n",
              "      <td>NaN</td>\n",
              "      <td>0.023472</td>\n",
              "      <td>NaN</td>\n",
              "      <td>NaN</td>\n",
              "      <td>2.946190e-08</td>\n",
              "      <td>2.294270e-07</td>\n",
              "      <td>NaN</td>\n",
              "      <td>3.911954e-08</td>\n",
              "    </tr>\n",
              "  </tbody>\n",
              "</table>\n",
              "</div>"
            ],
            "text/plain": [
              "lib       cython     numba     numpy  onnxruntime    python   sklearn  \\\n",
              "batch                                                                   \n",
              "1       0.000004  0.000003  0.000011     0.000022  0.000013  0.000062   \n",
              "10      0.000022  0.000019  0.000014     0.000017  0.000135  0.000062   \n",
              "100     0.000222  0.000138  0.000019     0.000050  0.001752  0.000083   \n",
              "200     0.000460  0.000275  0.000023     0.000060  0.003221  0.000092   \n",
              "500     0.001213  0.000755  0.000021     0.000140  0.007690  0.000083   \n",
              "1000    0.002432  0.001598  0.000050     0.000197  0.015449  0.000121   \n",
              "2000         NaN  0.002941  0.000051     0.000436       NaN  0.000123   \n",
              "3000         NaN  0.004397  0.000040     0.000589       NaN  0.000177   \n",
              "4000         NaN  0.006103  0.000050     0.000779       NaN  0.000170   \n",
              "5000         NaN  0.006942  0.000068     0.000990       NaN  0.000214   \n",
              "10000        NaN  0.015363  0.000094     0.001689       NaN  0.000230   \n",
              "20000        NaN       NaN  0.000163     0.004011       NaN  0.000400   \n",
              "50000        NaN       NaN  0.000410     0.011998       NaN  0.001422   \n",
              "75000        NaN       NaN  0.000607     0.017731       NaN  0.002162   \n",
              "100000       NaN       NaN  0.000965     0.022888       NaN  0.002778   \n",
              "150000       NaN       NaN  0.004361     0.035081       NaN  0.005998   \n",
              "200000       NaN       NaN  0.005860     0.045659       NaN  0.007880   \n",
              "300000       NaN       NaN  0.008884     0.070833       NaN  0.011796   \n",
              "400000       NaN       NaN  0.011994     0.091658       NaN  0.015859   \n",
              "500000       NaN       NaN  0.014948     0.117968       NaN  0.019911   \n",
              "600000       NaN       NaN  0.017677     0.137656       NaN  0.023472   \n",
              "\n",
              "lib     ave_cython  ave_numba     ave_numpy  ave_onnxruntime  ave_python  \\\n",
              "batch                                                                      \n",
              "1         0.000004   0.000003  1.080870e-05     2.151140e-05    0.000013   \n",
              "10        0.000002   0.000002  1.396190e-06     1.693920e-06    0.000014   \n",
              "100       0.000002   0.000001  1.905660e-07     5.036020e-07    0.000018   \n",
              "200       0.000002   0.000001  1.125545e-07     3.019365e-07    0.000016   \n",
              "500       0.000002   0.000002  4.234300e-08     2.806916e-07    0.000015   \n",
              "1000      0.000002   0.000002  5.002070e-08     1.974908e-07    0.000015   \n",
              "2000           NaN   0.000001  2.525915e-08     2.182152e-07         NaN   \n",
              "3000           NaN   0.000001  1.327523e-08     1.961812e-07         NaN   \n",
              "4000           NaN   0.000002  1.243255e-08     1.946893e-07         NaN   \n",
              "5000           NaN   0.000001  1.359500e-08     1.980884e-07         NaN   \n",
              "10000          NaN   0.000002  9.415250e-09     1.688726e-07         NaN   \n",
              "20000          NaN        NaN  8.166650e-09     2.005639e-07         NaN   \n",
              "50000          NaN        NaN  8.200110e-09     2.399616e-07         NaN   \n",
              "75000          NaN        NaN  8.095687e-09     2.364091e-07         NaN   \n",
              "100000         NaN        NaN  9.651090e-09     2.288841e-07         NaN   \n",
              "150000         NaN        NaN  2.907245e-08     2.338707e-07         NaN   \n",
              "200000         NaN        NaN  2.930084e-08     2.282940e-07         NaN   \n",
              "300000         NaN        NaN  2.961212e-08     2.361109e-07         NaN   \n",
              "400000         NaN        NaN  2.998587e-08     2.291438e-07         NaN   \n",
              "500000         NaN        NaN  2.989584e-08     2.359367e-07         NaN   \n",
              "600000         NaN        NaN  2.946190e-08     2.294270e-07         NaN   \n",
              "\n",
              "lib      ave_sklearn  \n",
              "batch                 \n",
              "1       6.247010e-05  \n",
              "10      6.202100e-06  \n",
              "100     8.254790e-07  \n",
              "200     4.586410e-07  \n",
              "500     1.651440e-07  \n",
              "1000    1.211521e-07  \n",
              "2000    6.171235e-08  \n",
              "3000    5.901053e-08  \n",
              "4000    4.247705e-08  \n",
              "5000    4.271260e-08  \n",
              "10000   2.297365e-08  \n",
              "20000   2.001025e-08  \n",
              "50000   2.844126e-08  \n",
              "75000   2.882321e-08  \n",
              "100000  2.778050e-08  \n",
              "150000  3.998676e-08  \n",
              "200000  3.939852e-08  \n",
              "300000  3.931965e-08  \n",
              "400000  3.964866e-08  \n",
              "500000  3.982256e-08  \n",
              "600000  3.911954e-08  "
            ]
          },
          "execution_count": 81,
          "metadata": {},
          "output_type": "execute_result"
        }
      ],
      "source": [
        "for c in piv.columns:\n",
        "    piv[\"ave_\" + c] = piv[c] / piv.index\n",
        "piv"
      ]
    },
    {
      "cell_type": "code",
      "execution_count": 81,
      "metadata": {},
      "outputs": [
        {
          "data": {
            "image/png": "[encoded data removed]",
            "text/plain": [
              "<Figure size 720x360 with 1 Axes>"
            ]
          },
          "metadata": {
            "needs_background": "light"
          },
          "output_type": "display_data"
        }
      ],
      "source": [
        "libs = list(c for c in piv.columns if \"ave_\" in c)\n",
        "ax = piv.plot(y=libs, logy=True, logx=True, figsize=(10, 5))\n",
        "ax.set_title(\"Evolution du temps de pr\u00e9diction selon la taille du batch\")\n",
        "ax.grid(True);"
      ]
    },
    {
      "cell_type": "markdown",
      "metadata": {},
      "source": [
        "Le minimum obtenu est pour $10^{-8} s$ soit 10 ns. Cela montre que la comparaisson pr\u00e9c\u00e9dente \u00e9tait incompl\u00e8te voire biais\u00e9e. Tout d\u00e9pend de l'usage qu'on fait de la fonction de pr\u00e9diction m\u00eame s'il sera toujours possible de d'\u00e9crire un code sp\u00e9cialis\u00e9 plus rapide que toute autre fonction g\u00e9n\u00e9rique. En g\u00e9n\u00e9ral, plus on reste du c\u00f4t\u00e9 Python, plus le programme est lent. Le nombre de passage de l'un \u00e0 l'autre, selon la fa\u00e7on dont il est fait ralenti aussi. En tenant compte de cela, le programme rouge sera plus lent que le vert."
      ]
    },
    {
      "cell_type": "code",
      "execution_count": 82,
      "metadata": {},
      "outputs": [
        {
          "data": {
            "image/png": "[encoded data removed]",
            "text/plain": [
              "<IPython.core.display.Image object>"
            ]
          },
          "execution_count": 83,
          "metadata": {},
          "output_type": "execute_result"
        }
      ],
      "source": [
        "from pyquickhelper.helpgen import NbImage\n",
        "NbImage(\"pycpp.png\")"
      ]
    },
    {
      "cell_type": "markdown",
      "metadata": {},
      "source": [
        "Ces r\u00e9sultats sont d'une fa\u00e7on g\u00e9n\u00e9rale assez volatile car le temps de calcul est enrob\u00e9 dans plusieurs fonctions Python qui rendent une mesure pr\u00e9cise difficile. Il reste n\u00e9anmoins une bonne id\u00e9e des ordres de grandeurs."
      ]
    },
    {
      "cell_type": "markdown",
      "metadata": {},
      "source": [
        "## Random Forest\n",
        "\n",
        "On reproduit les m\u00eames r\u00e9sultats pour une random forest mais la r\u00e9\u00e9criture n'est plus aussi simple qu'une r\u00e9gression lin\u00e9aire."
      ]
    },
    {
      "cell_type": "markdown",
      "metadata": {},
      "source": [
        "### Une pr\u00e9diction \u00e0 la fois"
      ]
    },
    {
      "cell_type": "code",
      "execution_count": 83,
      "metadata": {},
      "outputs": [],
      "source": [
        "from sklearn.datasets import load_diabetes\n",
        "diabetes = load_diabetes()\n",
        "diabetes_X_train = diabetes.data[:-20]\n",
        "diabetes_X_test  = diabetes.data[-20:]\n",
        "diabetes_y_train = diabetes.target[:-20]\n",
        "diabetes_y_test  = diabetes.target[-20:]"
      ]
    },
    {
      "cell_type": "code",
      "execution_count": 84,
      "metadata": {},
      "outputs": [
        {
          "data": {
            "text/plain": [
              "RandomForestRegressor(bootstrap=True, ccp_alpha=0.0, criterion='mse',\n",
              "                      max_depth=None, max_features='auto', max_leaf_nodes=None,\n",
              "                      max_samples=None, min_impurity_decrease=0.0,\n",
              "                      min_impurity_split=None, min_samples_leaf=1,\n",
              "                      min_samples_split=2, min_weight_fraction_leaf=0.0,\n",
              "                      n_estimators=10, n_jobs=None, oob_score=False,\n",
              "                      random_state=None, verbose=0, warm_start=False)"
            ]
          },
          "execution_count": 85,
          "metadata": {},
          "output_type": "execute_result"
        }
      ],
      "source": [
        "from sklearn.ensemble import RandomForestRegressor\n",
        "rf = RandomForestRegressor(n_estimators=10)\n",
        "rf.fit(diabetes_X_train, diabetes_y_train)"
      ]
    },
    {
      "cell_type": "code",
      "execution_count": 85,
      "metadata": {},
      "outputs": [
        {
          "name": "stdout",
          "output_type": "stream",
          "text": [
            "Moyenne: 1.24 ms Ecart-type 420.80 \u00b5s (with 20 runs) in [838.81 \u00b5s, 2.20 ms]\n"
          ]
        }
      ],
      "source": [
        "memo_time = []\n",
        "x = diabetes_X_test[:1]\n",
        "memo_time.append(timeexe(\"sklearn-rf\", \"rf.predict(x)\", repeat=100, number=20))"
      ]
    },
    {
      "cell_type": "markdown",
      "metadata": {},
      "source": [
        "C'est beaucoup plus long que la r\u00e9gression lin\u00e9aire. On essaye avec *onnx*."
      ]
    },
    {
      "cell_type": "code",
      "execution_count": 86,
      "metadata": {
        "scrolled": false
      },
      "outputs": [],
      "source": [
        "if ok_onnx:\n",
        "    onnxrf_model = convert_sklearn(\n",
        "        rf, 'model', [('input', FloatTensorType([None, clr.coef_.shape[0]]))],\n",
        "        target_opset=11)\n",
        "    save_model(onnxrf_model, 'model_rf.onnx')    \n",
        "    model_onnx = onnx.load('model_rf.onnx')"
      ]
    },
    {
      "cell_type": "code",
      "execution_count": 87,
      "metadata": {},
      "outputs": [
        {
          "name": "stdout",
          "output_type": "stream",
          "text": [
            "Input: NodeArg(name='input', type='tensor(float)', shape=[None, 10])\n",
            "Output: NodeArg(name='variable', type='tensor(float)', shape=[None, 1])\n",
            "[array([[222.3]], dtype=float32)]\n",
            "Moyenne: 28.20 \u00b5s Ecart-type 10.34 \u00b5s (with 20 runs) in [16.06 \u00b5s, 51.32 \u00b5s]\n"
          ]
        }
      ],
      "source": [
        "if ok_onnx:\n",
        "    sess = onnxruntime.InferenceSession(\"model_rf.onnx\")\n",
        "    for i in sess.get_inputs():\n",
        "        print('Input:', i)\n",
        "    for o in sess.get_outputs():\n",
        "        print('Output:', o)\n",
        "    \n",
        "    def predict_onnxrt_rf(x):    \n",
        "        return sess.run([\"variable\"], {'input': x})\n",
        "\n",
        "    print(predict_onnxrt_rf(x.astype(numpy.float32)))\n",
        "    memo_time.append(timeexe(\"onnx-rf\", \"predict_onnxrt_rf(x.astype(numpy.float32))\",\n",
        "                             repeat=100, number=20))"
      ]
    },
    {
      "cell_type": "markdown",
      "metadata": {},
      "source": [
        "C'est beaucoup plus rapide."
      ]
    },
    {
      "cell_type": "code",
      "execution_count": 88,
      "metadata": {},
      "outputs": [
        {
          "data": {
            "text/html": [
              "<div>\n",
              "<style scoped>\n",
              "    .dataframe tbody tr th:only-of-type {\n",
              "        vertical-align: middle;\n",
              "    }\n",
              "\n",
              "    .dataframe tbody tr th {\n",
              "        vertical-align: top;\n",
              "    }\n",
              "\n",
              "    .dataframe thead th {\n",
              "        text-align: right;\n",
              "    }\n",
              "</style>\n",
              "<table border=\"1\" class=\"dataframe\">\n",
              "  <thead>\n",
              "    <tr style=\"text-align: right;\">\n",
              "      <th></th>\n",
              "      <th>average</th>\n",
              "      <th>deviation</th>\n",
              "      <th>first</th>\n",
              "      <th>first3</th>\n",
              "      <th>last3</th>\n",
              "      <th>repeat</th>\n",
              "      <th>min5</th>\n",
              "      <th>max5</th>\n",
              "      <th>code</th>\n",
              "      <th>run</th>\n",
              "    </tr>\n",
              "    <tr>\n",
              "      <th>legend</th>\n",
              "      <th></th>\n",
              "      <th></th>\n",
              "      <th></th>\n",
              "      <th></th>\n",
              "      <th></th>\n",
              "      <th></th>\n",
              "      <th></th>\n",
              "      <th></th>\n",
              "      <th></th>\n",
              "      <th></th>\n",
              "    </tr>\n",
              "  </thead>\n",
              "  <tbody>\n",
              "    <tr>\n",
              "      <th>onnx-rf</th>\n",
              "      <td>0.000028</td>\n",
              "      <td>0.000010</td>\n",
              "      <td>0.000055</td>\n",
              "      <td>0.000050</td>\n",
              "      <td>0.000046</td>\n",
              "      <td>100</td>\n",
              "      <td>0.000016</td>\n",
              "      <td>0.000051</td>\n",
              "      <td>predict_onnxrt_rf(x.astype(numpy.float32))</td>\n",
              "      <td>20</td>\n",
              "    </tr>\n",
              "    <tr>\n",
              "      <th>sklearn-rf</th>\n",
              "      <td>0.001238</td>\n",
              "      <td>0.000421</td>\n",
              "      <td>0.001054</td>\n",
              "      <td>0.000929</td>\n",
              "      <td>0.000998</td>\n",
              "      <td>100</td>\n",
              "      <td>0.000839</td>\n",
              "      <td>0.002204</td>\n",
              "      <td>rf.predict(x)</td>\n",
              "      <td>20</td>\n",
              "    </tr>\n",
              "  </tbody>\n",
              "</table>\n",
              "</div>"
            ],
            "text/plain": [
              "             average  deviation     first    first3     last3  repeat  \\\n",
              "legend                                                                  \n",
              "onnx-rf     0.000028   0.000010  0.000055  0.000050  0.000046     100   \n",
              "sklearn-rf  0.001238   0.000421  0.001054  0.000929  0.000998     100   \n",
              "\n",
              "                min5      max5                                        code  \\\n",
              "legend                                                                       \n",
              "onnx-rf     0.000016  0.000051  predict_onnxrt_rf(x.astype(numpy.float32))   \n",
              "sklearn-rf  0.000839  0.002204                               rf.predict(x)   \n",
              "\n",
              "            run  \n",
              "legend           \n",
              "onnx-rf      20  \n",
              "sklearn-rf   20  "
            ]
          },
          "execution_count": 89,
          "metadata": {},
          "output_type": "execute_result"
        }
      ],
      "source": [
        "import pandas\n",
        "df2 = pandas.DataFrame(data=memo_time)\n",
        "df2 = df2.set_index(\"legend\").sort_values(\"average\")\n",
        "df2"
      ]
    },
    {
      "cell_type": "code",
      "execution_count": 89,
      "metadata": {},
      "outputs": [
        {
          "data": {
            "image/png": "[encoded data removed]",
            "text/plain": [
              "<Figure size 1008x288 with 1 Axes>"
            ]
          },
          "metadata": {
            "needs_background": "light"
          },
          "output_type": "display_data"
        }
      ],
      "source": [
        "fig, ax = plt.subplots(1, 1, figsize=(14,4))\n",
        "df2[[\"average\", \"deviation\"]].plot(kind=\"barh\", logx=True, ax=ax, xerr=\"deviation\",\n",
        "                                   legend=False, fontsize=12, width=0.8)\n",
        "ax.set_ylabel(\"\")\n",
        "ax.grid(b=True, which=\"major\")\n",
        "ax.grid(b=True, which=\"minor\");"
      ]
    },
    {
      "cell_type": "markdown",
      "metadata": {},
      "source": [
        "### Pr\u00e9diction en batch"
      ]
    },
    {
      "cell_type": "code",
      "execution_count": 90,
      "metadata": {},
      "outputs": [
        {
          "name": "stdout",
          "output_type": "stream",
          "text": [
            "batch = 1\n",
            "Moyenne: 982.71 \u00b5s Ecart-type 192.57 \u00b5s (with 10 runs) in [681.34 \u00b5s, 1.38 ms]\n",
            "Moyenne: 16.02 \u00b5s Ecart-type 5.24 \u00b5s (with 10 runs) in [14.18 \u00b5s, 31.75 \u00b5s]\n",
            "batch = 10\n",
            "Moyenne: 937.87 \u00b5s Ecart-type 136.04 \u00b5s (with 10 runs) in [681.89 \u00b5s, 1.17 ms]\n",
            "Moyenne: 38.23 \u00b5s Ecart-type 20.78 \u00b5s (with 10 runs) in [21.34 \u00b5s, 83.14 \u00b5s]\n",
            "batch = 100\n",
            "Moyenne: 1.17 ms Ecart-type 400.72 \u00b5s (with 10 runs) in [744.35 \u00b5s, 1.98 ms]\n",
            "Moyenne: 209.72 \u00b5s Ecart-type 12.82 \u00b5s (with 10 runs) in [189.36 \u00b5s, 237.52 \u00b5s]\n",
            "batch = 200\n",
            "Moyenne: 1.39 ms Ecart-type 493.00 \u00b5s (with 10 runs) in [796.22 \u00b5s, 2.51 ms]\n",
            "Moyenne: 457.02 \u00b5s Ecart-type 101.34 \u00b5s (with 10 runs) in [305.11 \u00b5s, 589.24 \u00b5s]\n",
            "batch = 500\n",
            "Moyenne: 1.83 ms Ecart-type 549.57 \u00b5s (with 10 runs) in [1.17 ms, 3.11 ms]\n",
            "Moyenne: 626.02 \u00b5s Ecart-type 134.81 \u00b5s (with 10 runs) in [483.93 \u00b5s, 916.82 \u00b5s]\n",
            "batch = 1000\n",
            "Moyenne: 1.66 ms Ecart-type 290.94 \u00b5s (with 10 runs) in [1.14 ms, 2.19 ms]\n",
            "Moyenne: 1.74 ms Ecart-type 515.67 \u00b5s (with 10 runs) in [1.06 ms, 2.86 ms]\n",
            "batch = 2000\n",
            "Moyenne: 2.51 ms Ecart-type 394.05 \u00b5s (with 10 runs) in [1.90 ms, 3.36 ms]\n",
            "Moyenne: 3.08 ms Ecart-type 707.77 \u00b5s (with 10 runs) in [1.88 ms, 4.55 ms]\n",
            "batch = 3000\n",
            "Moyenne: 3.63 ms Ecart-type 1.21 ms (with 10 runs) in [2.16 ms, 5.83 ms]\n",
            "Moyenne: 4.48 ms Ecart-type 932.33 \u00b5s (with 10 runs) in [2.84 ms, 6.21 ms]\n",
            "batch = 4000\n",
            "Moyenne: 3.42 ms Ecart-type 428.18 \u00b5s (with 10 runs) in [2.52 ms, 3.99 ms]\n",
            "Moyenne: 6.59 ms Ecart-type 1.26 ms (with 10 runs) in [4.00 ms, 8.64 ms]\n",
            "batch = 5000\n",
            "Moyenne: 5.12 ms Ecart-type 1.81 ms (with 10 runs) in [2.78 ms, 8.93 ms]\n",
            "Moyenne: 8.04 ms Ecart-type 1.51 ms (with 10 runs) in [6.57 ms, 11.97 ms]\n",
            "batch = 10000\n",
            "Moyenne: 7.70 ms Ecart-type 1.42 ms (with 10 runs) in [5.71 ms, 10.79 ms]\n",
            "Moyenne: 15.93 ms Ecart-type 1.69 ms (with 10 runs) in [13.59 ms, 19.39 ms]\n",
            "batch = 20000\n",
            "Moyenne: 13.90 ms Ecart-type 2.14 ms (with 10 runs) in [10.90 ms, 18.82 ms]\n",
            "Moyenne: 29.66 ms Ecart-type 3.18 ms (with 10 runs) in [24.06 ms, 35.90 ms]\n",
            "batch = 50000\n",
            "Moyenne: 33.44 ms Ecart-type 1.94 ms (with 10 runs) in [30.39 ms, 35.81 ms]\n",
            "Moyenne: 74.19 ms Ecart-type 4.35 ms (with 10 runs) in [67.85 ms, 79.73 ms]\n",
            "batch = 75000\n",
            "Moyenne: 48.75 ms Ecart-type 1.64 ms (with 10 runs) in [45.03 ms, 50.64 ms]\n",
            "Moyenne: 110.21 ms Ecart-type 4.51 ms (with 10 runs) in [104.40 ms, 117.95 ms]\n",
            "batch = 100000\n",
            "Moyenne: 64.60 ms Ecart-type 2.59 ms (with 10 runs) in [60.57 ms, 68.78 ms]\n",
            "Moyenne: 155.31 ms Ecart-type 11.59 ms (with 10 runs) in [133.54 ms, 176.21 ms]\n"
          ]
        }
      ],
      "source": [
        "memo = []\n",
        "batch = [1, 10, 100, 200, 500, 1000, 2000, 3000, 4000, 5000, 10000,\n",
        "         20000, 50000, 75000, 100000, 150000, 200000, 300000, 400000,\n",
        "         500000, 600000]\n",
        "number = 10\n",
        "repeat = 10\n",
        "for i in batch[:15]:\n",
        "    if i <= diabetes_X_test.shape[0]:\n",
        "        mx = diabetes_X_test[:i]\n",
        "    else:\n",
        "        mxs = [diabetes_X_test] * (i // diabetes_X_test.shape[0] + 1)\n",
        "        mx = numpy.vstack(mxs)\n",
        "        mx = mx[:i]\n",
        "\n",
        "    print(\"batch\", \"=\", i)\n",
        "    \n",
        "    memo.append(timeexe(\"sklearn.predict %d\" % i, \"rf.predict(mx)\", \n",
        "                        repeat=repeat, number=number))\n",
        "    memo[-1][\"batch\"] = i\n",
        "    memo[-1][\"lib\"] = \"sklearn\"\n",
        "    \n",
        "    if ok_onnx:\n",
        "        memo.append(timeexe(\"onnxruntime %d\" % i, \n",
        "                            \"predict_onnxrt_rf(mx.astype(numpy.float32))\",\n",
        "                            repeat=repeat, number=number))\n",
        "        memo[-1][\"batch\"] = i\n",
        "        memo[-1][\"lib\"] = \"onnxruntime\""
      ]
    },
    {
      "cell_type": "code",
      "execution_count": 91,
      "metadata": {},
      "outputs": [
        {
          "data": {
            "image/png": "[encoded data removed]",
            "text/plain": [
              "<Figure size 720x360 with 1 Axes>"
            ]
          },
          "metadata": {
            "needs_background": "light"
          },
          "output_type": "display_data"
        }
      ],
      "source": [
        "dfbrf = pandas.DataFrame(memo)[[\"average\", \"lib\", \"batch\"]]\n",
        "pivrf = dfbrf.pivot(\"batch\", \"lib\", \"average\")\n",
        "for c in pivrf.columns:\n",
        "    pivrf[\"ave_\" + c] = pivrf[c] / pivrf.index\n",
        "libs = list(c for c in pivrf.columns if \"ave_\" in c)\n",
        "ax = pivrf.plot(y=libs, logy=True, logx=True, figsize=(10, 5))\n",
        "ax.set_title(\"Evolution du temps de pr\u00e9diction selon la taille du batch\\nrandom forest\")\n",
        "ax.grid(True);"
      ]
    },
    {
      "cell_type": "code",
      "execution_count": 92,
      "metadata": {},
      "outputs": [],
      "source": []
    }
  ],
  "metadata": {
    "kernelspec": {
      "display_name": "Python 3",
      "language": "python",
      "name": "python3"
    },
    "language_info": {
      "codemirror_mode": {
        "name": "ipython",
        "version": 3
      },
      "file_extension": ".py",
      "mimetype": "text/x-python",
      "name": "python",
      "nbconvert_exporter": "python",
      "pygments_lexer": "ipython3",
      "version": "3.7.2"
    }
  },
  "nbformat": 4,
  "nbformat_minor": 2
}