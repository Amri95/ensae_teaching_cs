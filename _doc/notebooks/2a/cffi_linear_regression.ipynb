{
  "cells": [
    {
      "cell_type": "markdown",
      "metadata": {},
      "source": [
        "# Optimisation de code avec cffi, numba, cython\n",
        "\n",
        "L'id\u00e9e est de recoder une fonction en C. On prend comme exemple la fonction de pr\u00e9diction de la r\u00e9gression lin\u00e9aire de [scikit-learn](http://scikit-learn.org/stable/modules/generated/sklearn.linear_model.LinearRegression.html) et de pr\u00e9voir le gain de temps qu'on obtient en recodant la fonction dans un langage plus rapide."
      ]
    },
    {
      "cell_type": "code",
      "execution_count": 1,
      "metadata": {},
      "outputs": [
        {
          "data": {
            "text/html": [
              "<div id=\"my_id_menu_nb\">run previous cell, wait for 2 seconds</div>\n",
              "<script>\n",
              "function repeat_indent_string(n){\n",
              "    var a = \"\" ;\n",
              "    for ( ; n > 0 ; --n)\n",
              "        a += \"    \";\n",
              "    return a;\n",
              "}\n",
              "// look up into all sections and builds an automated menu //\n",
              "var update_menu_string = function(begin, lfirst, llast, sformat, send, keep_item, begin_format, end_format) {\n",
              "    var anchors = document.getElementsByClassName(\"section\");\n",
              "    if (anchors.length == 0) {\n",
              "        anchors = document.getElementsByClassName(\"text_cell_render rendered_html\");\n",
              "    }\n",
              "    var i,t;\n",
              "    var text_menu = begin;\n",
              "    var text_memo = \"<pre>\\nlength:\" + anchors.length + \"\\n\";\n",
              "    var ind = \"\";\n",
              "    var memo_level = 1;\n",
              "    var href;\n",
              "    var tags = [];\n",
              "    var main_item = 0;\n",
              "    var format_open = 0;\n",
              "    for (i = 0; i <= llast; i++)\n",
              "        tags.push(\"h\" + i);\n",
              "\n",
              "    for (i = 0; i < anchors.length; i++) {\n",
              "        text_memo += \"**\" + anchors[i].id + \"--\\n\";\n",
              "\n",
              "        var child = null;\n",
              "        for(t = 0; t < tags.length; t++) {\n",
              "            var r = anchors[i].getElementsByTagName(tags[t]);\n",
              "            if (r.length > 0) {\n",
              "child = r[0];\n",
              "break;\n",
              "            }\n",
              "        }\n",
              "        if (child == null) {\n",
              "            text_memo += \"null\\n\";\n",
              "            continue;\n",
              "        }\n",
              "        if (anchors[i].hasAttribute(\"id\")) {\n",
              "            // when converted in RST\n",
              "            href = anchors[i].id;\n",
              "            text_memo += \"#1-\" + href;\n",
              "            // passer \u00e0 child suivant (le chercher)\n",
              "        }\n",
              "        else if (child.hasAttribute(\"id\")) {\n",
              "            // in a notebook\n",
              "            href = child.id;\n",
              "            text_memo += \"#2-\" + href;\n",
              "        }\n",
              "        else {\n",
              "            text_memo += \"#3-\" + \"*\" + \"\\n\";\n",
              "            continue;\n",
              "        }\n",
              "        var title = child.textContent;\n",
              "        var level = parseInt(child.tagName.substring(1,2));\n",
              "\n",
              "        text_memo += \"--\" + level + \"?\" + lfirst + \"--\" + title + \"\\n\";\n",
              "\n",
              "        if ((level < lfirst) || (level > llast)) {\n",
              "            continue ;\n",
              "        }\n",
              "        if (title.endsWith('\u00b6')) {\n",
              "            title = title.substring(0,title.length-1).replace(\"<\", \"&lt;\")\n",
              "         .replace(\">\", \"&gt;\").replace(\"&\", \"&amp;\");\n",
              "        }\n",
              "        if (title.length == 0) {\n",
              "            continue;\n",
              "        }\n",
              "\n",
              "        while (level < memo_level) {\n",
              "            text_menu += end_format + \"</ul>\\n\";\n",
              "            format_open -= 1;\n",
              "            memo_level -= 1;\n",
              "        }\n",
              "        if (level == lfirst) {\n",
              "            main_item += 1;\n",
              "        }\n",
              "        if (keep_item != -1 && main_item != keep_item + 1) {\n",
              "            // alert(main_item + \" - \" + level + \" - \" + keep_item);\n",
              "            continue;\n",
              "        }\n",
              "        while (level > memo_level) {\n",
              "            text_menu += \"<ul>\\n\";\n",
              "            memo_level += 1;\n",
              "        }\n",
              "        text_menu += repeat_indent_string(level-2);\n",
              "        text_menu += begin_format + sformat.replace(\"__HREF__\", href).replace(\"__TITLE__\", title);\n",
              "        format_open += 1;\n",
              "    }\n",
              "    while (1 < memo_level) {\n",
              "        text_menu += end_format + \"</ul>\\n\";\n",
              "        memo_level -= 1;\n",
              "        format_open -= 1;\n",
              "    }\n",
              "    text_menu += send;\n",
              "    //text_menu += \"\\n\" + text_memo;\n",
              "\n",
              "    while (format_open > 0) {\n",
              "        text_menu += end_format;\n",
              "        format_open -= 1;\n",
              "    }\n",
              "    return text_menu;\n",
              "};\n",
              "var update_menu = function() {\n",
              "    var sbegin = \"\";\n",
              "    var sformat = '<a href=\"#__HREF__\">__TITLE__</a>';\n",
              "    var send = \"\";\n",
              "    var begin_format = '<li>';\n",
              "    var end_format = '</li>';\n",
              "    var keep_item = -1;\n",
              "    var text_menu = update_menu_string(sbegin, 2, 4, sformat, send, keep_item,\n",
              "       begin_format, end_format);\n",
              "    var menu = document.getElementById(\"my_id_menu_nb\");\n",
              "    menu.innerHTML=text_menu;\n",
              "};\n",
              "window.setTimeout(update_menu,2000);\n",
              "            </script>"
            ],
            "text/plain": [
              "<IPython.core.display.HTML object>"
            ]
          },
          "execution_count": 2,
          "metadata": {},
          "output_type": "execute_result"
        }
      ],
      "source": [
        "from jyquickhelper import add_notebook_menu\n",
        "add_notebook_menu()"
      ]
    },
    {
      "cell_type": "code",
      "execution_count": 2,
      "metadata": {},
      "outputs": [],
      "source": [
        "memo_time = []\n",
        "import timeit\n",
        "\n",
        "def unit(x):\n",
        "    if x >= 1: return \"%1.2f s\" % x\n",
        "    elif x >= 1e-3: return \"%1.2f ms\" % (x* 1000)\n",
        "    elif x >= 1e-6: return \"%1.2f \u00b5s\" % (x* 1000**2)\n",
        "    elif x >= 1e-9: return \"%1.2f ns\" % (x* 1000**3)\n",
        "    else:\n",
        "        return \"%1.2g s\" % x\n",
        "\n",
        "def timeexe(legend, code, number=100, repeat=1000):\n",
        "    rep = timeit.repeat(code, number=number, repeat=repeat, globals=globals())\n",
        "    ave = sum(rep) / (number * repeat)\n",
        "    std = (sum((x/number - ave)**2 for x in rep) / repeat)**0.5\n",
        "    fir = rep[0]/number\n",
        "    fir3 = sum(rep[:3]) / (3 * number)\n",
        "    las3 = sum(rep[-3:]) / (3 * number)\n",
        "    rep.sort()\n",
        "    mini = rep[len(rep)//20] / number\n",
        "    maxi = rep[-len(rep)//20] / number\n",
        "    print(\"Moyenne: %s Ecart-type %s (with %d runs) in [%s, %s]\" % (\n",
        "                unit(ave), unit(std), number, unit(mini), unit(maxi)))\n",
        "    return dict(legend=legend, average=ave, deviation=std, first=fir, first3=fir3,\n",
        "                last3=las3, repeat=repeat, min5=mini, max5=maxi, code=code, run=number)"
      ]
    },
    {
      "cell_type": "markdown",
      "metadata": {},
      "source": [
        "## R\u00e9gression lin\u00e9aire"
      ]
    },
    {
      "cell_type": "code",
      "execution_count": 3,
      "metadata": {},
      "outputs": [],
      "source": [
        "from sklearn.datasets import load_diabetes\n",
        "diabetes = load_diabetes()\n",
        "diabetes_X_train = diabetes.data[:-20]\n",
        "diabetes_X_test  = diabetes.data[-20:]\n",
        "diabetes_y_train = diabetes.target[:-20]\n",
        "diabetes_y_test  = diabetes.target[-20:]"
      ]
    },
    {
      "cell_type": "code",
      "execution_count": 4,
      "metadata": {},
      "outputs": [
        {
          "data": {
            "text/plain": [
              "LinearRegression(copy_X=True, fit_intercept=True, n_jobs=None, normalize=False)"
            ]
          },
          "execution_count": 5,
          "metadata": {},
          "output_type": "execute_result"
        }
      ],
      "source": [
        "from sklearn.linear_model import LinearRegression\n",
        "clr = LinearRegression()\n",
        "clr.fit(diabetes_X_train, diabetes_y_train)"
      ]
    },
    {
      "cell_type": "code",
      "execution_count": 5,
      "metadata": {},
      "outputs": [
        {
          "data": {
            "text/plain": [
              "array([ 3.03499549e-01, -2.37639315e+02,  5.10530605e+02,  3.27736980e+02,\n",
              "       -8.14131709e+02,  4.92814588e+02,  1.02848452e+02,  1.84606489e+02,\n",
              "        7.43519617e+02,  7.60951722e+01])"
            ]
          },
          "execution_count": 6,
          "metadata": {},
          "output_type": "execute_result"
        }
      ],
      "source": [
        "clr.coef_"
      ]
    },
    {
      "cell_type": "code",
      "execution_count": 6,
      "metadata": {},
      "outputs": [
        {
          "data": {
            "text/plain": [
              "152.76430691633442"
            ]
          },
          "execution_count": 7,
          "metadata": {},
          "output_type": "execute_result"
        }
      ],
      "source": [
        "clr.intercept_"
      ]
    },
    {
      "cell_type": "code",
      "execution_count": 7,
      "metadata": {},
      "outputs": [
        {
          "name": "stdout",
          "output_type": "stream",
          "text": [
            "Moyenne: 48.88 \u00b5s Ecart-type 12.74 \u00b5s (with 100 runs) in [41.40 \u00b5s, 79.02 \u00b5s]\n"
          ]
        }
      ],
      "source": [
        "z = diabetes_X_test[0:1,:]\n",
        "memo_time.append(timeexe(\"sklearn.predict\", \"clr.predict(z)\"))"
      ]
    },
    {
      "cell_type": "code",
      "execution_count": 8,
      "metadata": {},
      "outputs": [
        {
          "name": "stdout",
          "output_type": "stream",
          "text": [
            "45.6 \u00b5s \u00b1 1.21 \u00b5s per loop (mean \u00b1 std. dev. of 7 runs, 10000 loops each)\n"
          ]
        }
      ],
      "source": [
        "%timeit clr.predict(z)"
      ]
    },
    {
      "cell_type": "markdown",
      "metadata": {},
      "source": [
        "### optimisation avec cffi\n",
        "\n",
        "On s'inspire de l'exemple [Purely for performance (API level, out-of-line)](http://cffi.readthedocs.io/en/latest/overview.html?highlight=example#purely-for-performance-api-level-out-of-line)."
      ]
    },
    {
      "cell_type": "code",
      "execution_count": 9,
      "metadata": {
        "scrolled": false
      },
      "outputs": [
        {
          "name": "stdout",
          "output_type": "stream",
          "text": [
            "generating .\\_linear_regression.c\n",
            "(already up-to-date)\n",
            "the current directory is 'C:\\\\xavierdupre\\\\__home_\\\\GitHub\\\\ensae_teaching_cs\\\\_doc\\\\notebooks\\\\2a'\n",
            "running build_ext\n",
            "building '_linear_regression' extension\n",
            "C:\\Program Files (x86)\\Microsoft Visual Studio\\2017\\Community\\VC\\Tools\\MSVC\\14.16.27023\\bin\\HostX86\\x64\\cl.exe /c /nologo /Ox /W3 /GL /DNDEBUG /MD -Ic:\\python372_x64\\include -Ic:\\python372_x64\\include \"-IC:\\Program Files (x86)\\Microsoft Visual Studio\\2017\\Community\\VC\\Tools\\MSVC\\14.16.27023\\ATLMFC\\include\" \"-IC:\\Program Files (x86)\\Microsoft Visual Studio\\2017\\Community\\VC\\Tools\\MSVC\\14.16.27023\\include\" \"-IC:\\Program Files (x86)\\Windows Kits\\NETFXSDK\\4.6.1\\include\\um\" \"-IC:\\Program Files (x86)\\Windows Kits\\10\\include\\10.0.17763.0\\ucrt\" \"-IC:\\Program Files (x86)\\Windows Kits\\10\\include\\10.0.17763.0\\shared\" \"-IC:\\Program Files (x86)\\Windows Kits\\10\\include\\10.0.17763.0\\um\" \"-IC:\\Program Files (x86)\\Windows Kits\\10\\include\\10.0.17763.0\\winrt\" \"-IC:\\Program Files (x86)\\Windows Kits\\10\\include\\10.0.17763.0\\cppwinrt\" /Tc_linear_regression.c /Fo.\\Release\\_linear_regression.obj\n",
            "C:\\Program Files (x86)\\Microsoft Visual Studio\\2017\\Community\\VC\\Tools\\MSVC\\14.16.27023\\bin\\HostX86\\x64\\link.exe /nologo /INCREMENTAL:NO /LTCG /DLL /MANIFEST:EMBED,ID=2 /MANIFESTUAC:NO /LIBPATH:c:\\python372_x64\\libs /LIBPATH:c:\\python372_x64\\PCbuild\\amd64 \"/LIBPATH:C:\\Program Files (x86)\\Microsoft Visual Studio\\2017\\Community\\VC\\Tools\\MSVC\\14.16.27023\\ATLMFC\\lib\\x64\" \"/LIBPATH:C:\\Program Files (x86)\\Microsoft Visual Studio\\2017\\Community\\VC\\Tools\\MSVC\\14.16.27023\\lib\\x64\" \"/LIBPATH:C:\\Program Files (x86)\\Windows Kits\\NETFXSDK\\4.6.1\\lib\\um\\x64\" \"/LIBPATH:C:\\Program Files (x86)\\Windows Kits\\10\\lib\\10.0.17763.0\\ucrt\\x64\" \"/LIBPATH:C:\\Program Files (x86)\\Windows Kits\\10\\lib\\10.0.17763.0\\um\\x64\" /EXPORT:PyInit__linear_regression .\\Release\\_linear_regression.obj /OUT:.\\_linear_regression.cp37-win_amd64.pyd /IMPLIB:.\\Release\\_linear_regression.cp37-win_amd64.lib\n"
          ]
        },
        {
          "data": {
            "text/plain": [
              "'C:\\\\xavierdupre\\\\__home_\\\\GitHub\\\\ensae_teaching_cs\\\\_doc\\\\notebooks\\\\2a\\\\_linear_regression.cp37-win_amd64.pyd'"
            ]
          },
          "execution_count": 10,
          "metadata": {},
          "output_type": "execute_result"
        }
      ],
      "source": [
        "from cffi import FFI\n",
        "ffibuilder = FFI()\n",
        "\n",
        "ffibuilder.cdef(\"int linreg(int, double *, double *, double, double *);\")\n",
        "\n",
        "ffibuilder.set_source(\"_linear_regression\",\n",
        "r\"\"\"\n",
        "    static int linreg(int dimension, double * x, double *coef, double intercept, double * out)\n",
        "    {\n",
        "        for(; dimension > 0; --dimension, ++x, ++coef)\n",
        "            intercept += *x * *coef;\n",
        "        *out = intercept;\n",
        "        return 1;\n",
        "    }\n",
        "\"\"\")\n",
        "\n",
        "ffibuilder.compile(verbose=True)"
      ]
    },
    {
      "cell_type": "markdown",
      "metadata": {},
      "source": [
        "La fonction compil\u00e9e est accessible comme suit."
      ]
    },
    {
      "cell_type": "code",
      "execution_count": 10,
      "metadata": {},
      "outputs": [
        {
          "data": {
            "text/plain": [
              "<function _linear_regression.CompiledLib.linreg>"
            ]
          },
          "execution_count": 11,
          "metadata": {},
          "output_type": "execute_result"
        }
      ],
      "source": [
        "from _linear_regression import ffi, lib\n",
        "lib.linreg"
      ]
    },
    {
      "cell_type": "markdown",
      "metadata": {},
      "source": [
        "On s'inspire de l'exemple [How to pass a Numpy array into a cffi function and how to get one back out?](https://stackoverflow.com/questions/16276268/how-to-pass-a-numpy-array-into-a-cffi-function-and-how-to-get-one-back-out)."
      ]
    },
    {
      "cell_type": "code",
      "execution_count": 11,
      "metadata": {},
      "outputs": [],
      "source": [
        "import numpy\n",
        "out = numpy.zeros(1)"
      ]
    },
    {
      "cell_type": "code",
      "execution_count": 12,
      "metadata": {},
      "outputs": [],
      "source": [
        "ptr_coef = clr.coef_.__array_interface__['data'][0]\n",
        "cptr_coef = ffi.cast ( \"double*\" , ptr_coef )"
      ]
    },
    {
      "cell_type": "code",
      "execution_count": 13,
      "metadata": {},
      "outputs": [],
      "source": [
        "x = diabetes_X_test[0:1,:]\n",
        "ptr_x = x.__array_interface__['data'][0]\n",
        "cptr_x = ffi.cast ( \"double*\" , ptr_x )"
      ]
    },
    {
      "cell_type": "code",
      "execution_count": 14,
      "metadata": {},
      "outputs": [],
      "source": [
        "ptr_out = out.__array_interface__['data'][0]\n",
        "cptr_out = ffi.cast ( \"double*\" , ptr_out )"
      ]
    },
    {
      "cell_type": "code",
      "execution_count": 15,
      "metadata": {},
      "outputs": [
        {
          "data": {
            "text/plain": [
              "1"
            ]
          },
          "execution_count": 16,
          "metadata": {},
          "output_type": "execute_result"
        }
      ],
      "source": [
        "n = len(clr.coef_)\n",
        "lib.linreg(n, cptr_x, cptr_coef, clr.intercept_, cptr_out)"
      ]
    },
    {
      "cell_type": "code",
      "execution_count": 16,
      "metadata": {},
      "outputs": [
        {
          "data": {
            "text/plain": [
              "array([197.61846908])"
            ]
          },
          "execution_count": 17,
          "metadata": {},
          "output_type": "execute_result"
        }
      ],
      "source": [
        "out"
      ]
    },
    {
      "cell_type": "markdown",
      "metadata": {},
      "source": [
        "On v\u00e9rifie qu'on obtient bien la m\u00eame chose."
      ]
    },
    {
      "cell_type": "code",
      "execution_count": 17,
      "metadata": {},
      "outputs": [
        {
          "data": {
            "text/plain": [
              "array([197.61846908])"
            ]
          },
          "execution_count": 18,
          "metadata": {},
          "output_type": "execute_result"
        }
      ],
      "source": [
        "clr.predict(x)"
      ]
    },
    {
      "cell_type": "markdown",
      "metadata": {},
      "source": [
        "Et on mesure le temps d'ex\u00e9cution :"
      ]
    },
    {
      "cell_type": "code",
      "execution_count": 18,
      "metadata": {},
      "outputs": [
        {
          "name": "stdout",
          "output_type": "stream",
          "text": [
            "Moyenne: 985.29 ns Ecart-type 1.39 \u00b5s (with 100 runs) in [499.00 ns, 1.65 \u00b5s]\n"
          ]
        }
      ],
      "source": [
        "memo_time.append(timeexe(\"cffi-linreg\", \"lib.linreg(n, cptr_x, cptr_coef, clr.intercept_, cptr_out)\"))"
      ]
    },
    {
      "cell_type": "markdown",
      "metadata": {},
      "source": [
        "C'est beaucoup plus rapide. Pour \u00eatre totalement honn\u00eate, il faut mesurer les \u00e9tapes qui consiste \u00e0 extraire les pointeurs."
      ]
    },
    {
      "cell_type": "code",
      "execution_count": 19,
      "metadata": {},
      "outputs": [
        {
          "data": {
            "text/plain": [
              "array([152.74058378])"
            ]
          },
          "execution_count": 20,
          "metadata": {},
          "output_type": "execute_result"
        }
      ],
      "source": [
        "def predict_clr(x, clr):\n",
        "    out = numpy.zeros(1)\n",
        "    ptr_coef = clr.coef_.__array_interface__['data'][0]\n",
        "    cptr_coef = ffi.cast ( \"double*\" , ptr_coef )\n",
        "    ptr_x = x.__array_interface__['data'][0]\n",
        "    cptr_x = ffi.cast ( \"double*\" , ptr_x )  \n",
        "    ptr_out = out.__array_interface__['data'][0]\n",
        "    cptr_out = ffi.cast ( \"double*\" , ptr_out ) \n",
        "    lib.linreg(len(x), cptr_x, cptr_coef, clr.intercept_, cptr_out)\n",
        "    return out\n",
        "\n",
        "predict_clr(x, clr)"
      ]
    },
    {
      "cell_type": "code",
      "execution_count": 20,
      "metadata": {},
      "outputs": [
        {
          "name": "stdout",
          "output_type": "stream",
          "text": [
            "Moyenne: 8.50 \u00b5s Ecart-type 2.59 \u00b5s (with 100 runs) in [6.93 \u00b5s, 13.60 \u00b5s]\n"
          ]
        }
      ],
      "source": [
        "memo_time.append(timeexe(\"cffi-linreg-wrapped\", \"predict_clr(x, clr)\"))"
      ]
    },
    {
      "cell_type": "markdown",
      "metadata": {},
      "source": [
        "Cela reste plus rapide."
      ]
    },
    {
      "cell_type": "markdown",
      "metadata": {},
      "source": [
        "### cffi - seconde version\n",
        "\n",
        "Comme on construit la fonction en dynamique (le code est connu lors de l'ex\u00e9cution), on peut facilement se passer de la boucle et \u00e9crire le code sans boucle et avec les coefficients."
      ]
    },
    {
      "cell_type": "code",
      "execution_count": 21,
      "metadata": {},
      "outputs": [
        {
          "data": {
            "text/plain": [
              "'0.3034995490660432*x[0] + -237.63931533353403*x[1] + 510.5306054362253*x[2] + 327.7369804093466*x[3] + -814.1317093725387*x[4] + 492.81458798373217*x[5] + 102.8484521916802*x[6] + 184.60648905984*x[7] + 743.519616750542*x[8] + 76.09517221662392*x[9]'"
            ]
          },
          "execution_count": 22,
          "metadata": {},
          "output_type": "execute_result"
        }
      ],
      "source": [
        "res = \" + \".join(\"{0}*x[{1}]\".format(c, i) for i, c in enumerate(clr.coef_))\n",
        "res"
      ]
    },
    {
      "cell_type": "code",
      "execution_count": 22,
      "metadata": {},
      "outputs": [
        {
          "name": "stdout",
          "output_type": "stream",
          "text": [
            "\n",
            "    static int linreg_custom(double * x, double * out)\n",
            "    {\n",
            "        out[0] = 152.76430691633442 + 0.3034995490660432*x[0] + -237.63931533353403*x[1] + 510.5306054362253*x[2] + 327.7369804093466*x[3] + -814.1317093725387*x[4] + 492.81458798373217*x[5] + 102.8484521916802*x[6] + 184.60648905984*x[7] + 743.519616750542*x[8] + 76.09517221662392*x[9];\n",
            "    }\n",
            "\n"
          ]
        }
      ],
      "source": [
        "code = \"\"\"\n",
        "    static int linreg_custom(double * x, double * out)\n",
        "    {{\n",
        "        out[0] = {0} + {1};\n",
        "    }}\n",
        "\"\"\".format(clr.intercept_, res)\n",
        "print(code)"
      ]
    },
    {
      "cell_type": "code",
      "execution_count": 23,
      "metadata": {
        "scrolled": false
      },
      "outputs": [
        {
          "name": "stdout",
          "output_type": "stream",
          "text": [
            "generating .\\_linear_regression_custom.c\n",
            "(already up-to-date)\n",
            "the current directory is 'C:\\\\xavierdupre\\\\__home_\\\\GitHub\\\\ensae_teaching_cs\\\\_doc\\\\notebooks\\\\2a'\n",
            "running build_ext\n",
            "building '_linear_regression_custom' extension\n",
            "C:\\Program Files (x86)\\Microsoft Visual Studio\\2017\\Community\\VC\\Tools\\MSVC\\14.16.27023\\bin\\HostX86\\x64\\cl.exe /c /nologo /Ox /W3 /GL /DNDEBUG /MD -Ic:\\python372_x64\\include -Ic:\\python372_x64\\include \"-IC:\\Program Files (x86)\\Microsoft Visual Studio\\2017\\Community\\VC\\Tools\\MSVC\\14.16.27023\\ATLMFC\\include\" \"-IC:\\Program Files (x86)\\Microsoft Visual Studio\\2017\\Community\\VC\\Tools\\MSVC\\14.16.27023\\include\" \"-IC:\\Program Files (x86)\\Windows Kits\\NETFXSDK\\4.6.1\\include\\um\" \"-IC:\\Program Files (x86)\\Windows Kits\\10\\include\\10.0.17763.0\\ucrt\" \"-IC:\\Program Files (x86)\\Windows Kits\\10\\include\\10.0.17763.0\\shared\" \"-IC:\\Program Files (x86)\\Windows Kits\\10\\include\\10.0.17763.0\\um\" \"-IC:\\Program Files (x86)\\Windows Kits\\10\\include\\10.0.17763.0\\winrt\" \"-IC:\\Program Files (x86)\\Windows Kits\\10\\include\\10.0.17763.0\\cppwinrt\" /Tc_linear_regression_custom.c /Fo.\\Release\\_linear_regression_custom.obj\n",
            "C:\\Program Files (x86)\\Microsoft Visual Studio\\2017\\Community\\VC\\Tools\\MSVC\\14.16.27023\\bin\\HostX86\\x64\\link.exe /nologo /INCREMENTAL:NO /LTCG /DLL /MANIFEST:EMBED,ID=2 /MANIFESTUAC:NO /LIBPATH:c:\\python372_x64\\libs /LIBPATH:c:\\python372_x64\\PCbuild\\amd64 \"/LIBPATH:C:\\Program Files (x86)\\Microsoft Visual Studio\\2017\\Community\\VC\\Tools\\MSVC\\14.16.27023\\ATLMFC\\lib\\x64\" \"/LIBPATH:C:\\Program Files (x86)\\Microsoft Visual Studio\\2017\\Community\\VC\\Tools\\MSVC\\14.16.27023\\lib\\x64\" \"/LIBPATH:C:\\Program Files (x86)\\Windows Kits\\NETFXSDK\\4.6.1\\lib\\um\\x64\" \"/LIBPATH:C:\\Program Files (x86)\\Windows Kits\\10\\lib\\10.0.17763.0\\ucrt\\x64\" \"/LIBPATH:C:\\Program Files (x86)\\Windows Kits\\10\\lib\\10.0.17763.0\\um\\x64\" /EXPORT:PyInit__linear_regression_custom .\\Release\\_linear_regression_custom.obj /OUT:.\\_linear_regression_custom.cp37-win_amd64.pyd /IMPLIB:.\\Release\\_linear_regression_custom.cp37-win_amd64.lib\n"
          ]
        },
        {
          "data": {
            "text/plain": [
              "'C:\\\\xavierdupre\\\\__home_\\\\GitHub\\\\ensae_teaching_cs\\\\_doc\\\\notebooks\\\\2a\\\\_linear_regression_custom.cp37-win_amd64.pyd'"
            ]
          },
          "execution_count": 24,
          "metadata": {},
          "output_type": "execute_result"
        }
      ],
      "source": [
        "from cffi import FFI\n",
        "ffibuilder = FFI()\n",
        "\n",
        "ffibuilder.cdef(\"int linreg_custom(double *, double *);\")\n",
        "ffibuilder.set_source(\"_linear_regression_custom\", code)\n",
        "ffibuilder.compile(verbose=True)"
      ]
    },
    {
      "cell_type": "code",
      "execution_count": 24,
      "metadata": {},
      "outputs": [
        {
          "data": {
            "text/plain": [
              "array([197.61846908])"
            ]
          },
          "execution_count": 25,
          "metadata": {},
          "output_type": "execute_result"
        }
      ],
      "source": [
        "from _linear_regression_custom.lib import linreg_custom\n",
        "linreg_custom(cptr_x, cptr_out)\n",
        "out"
      ]
    },
    {
      "cell_type": "code",
      "execution_count": 25,
      "metadata": {},
      "outputs": [
        {
          "name": "stdout",
          "output_type": "stream",
          "text": [
            "Moyenne: 493.86 ns Ecart-type 218.74 ns (with 100 runs) in [359.00 ns, 832.00 ns]\n"
          ]
        }
      ],
      "source": [
        "memo_time.append(timeexe(\"cffi-linreg-custom\", \"linreg_custom(cptr_x, cptr_out)\"))"
      ]
    },
    {
      "cell_type": "markdown",
      "metadata": {},
      "source": [
        "On a gagn\u00e9 un facteur 2."
      ]
    },
    {
      "cell_type": "code",
      "execution_count": 26,
      "metadata": {},
      "outputs": [
        {
          "data": {
            "text/plain": [
              "array([197.61846908])"
            ]
          },
          "execution_count": 27,
          "metadata": {},
          "output_type": "execute_result"
        }
      ],
      "source": [
        "def predict_clr_custom(x):\n",
        "    out = numpy.zeros(1)\n",
        "    ptr_x = x.__array_interface__['data'][0]\n",
        "    cptr_x = ffi.cast(\"double*\", ptr_x)\n",
        "    ptr_out = out.__array_interface__['data'][0]\n",
        "    cptr_out = ffi.cast(\"double*\", ptr_out)\n",
        "    linreg_custom(cptr_x, cptr_out)\n",
        "    return out\n",
        "\n",
        "predict_clr_custom(x)"
      ]
    },
    {
      "cell_type": "code",
      "execution_count": 27,
      "metadata": {},
      "outputs": [
        {
          "name": "stdout",
          "output_type": "stream",
          "text": [
            "Moyenne: 5.98 \u00b5s Ecart-type 1.47 \u00b5s (with 100 runs) in [5.00 \u00b5s, 8.59 \u00b5s]\n"
          ]
        }
      ],
      "source": [
        "memo_time.append(timeexe(\"cffi-linreg-custom wrapped\", \"predict_clr_custom(x)\"))"
      ]
    },
    {
      "cell_type": "markdown",
      "metadata": {},
      "source": [
        "C'est un peu plus rapide."
      ]
    },
    {
      "cell_type": "markdown",
      "metadata": {
        "collapsed": true
      },
      "source": [
        "### et en float?\n",
        "\n",
        "L'ordinateur fait la distinction entre les [double](https://en.wikipedia.org/wiki/Double-precision_floating-point_format) code sur 64 bit et les [float](https://en.wikipedia.org/wiki/Single-precision_floating-point_format) cod\u00e9 sur 32 bits. La pr\u00e9cision est meilleure dans le premier cas et les calculs sont plus rapides dans le second. Dans le cas du machine learning, on pr\u00e9f\u00e8re la rapidit\u00e9 \u00e0 une perte pr\u00e9cision en pr\u00e9cision qui est souvent compens\u00e9e par l'optimisation inh\u00e9rente \u00e0 tout probl\u00e8me de machine learning. Ce qu'on perd sur une observation, on le retrouve sur une autre."
      ]
    },
    {
      "cell_type": "code",
      "execution_count": 28,
      "metadata": {},
      "outputs": [
        {
          "data": {
            "text/plain": [
              "'0.3034995490660432f*x[0] + -237.63931533353403f*x[1] + 510.5306054362253f*x[2] + 327.7369804093466f*x[3] + -814.1317093725387f*x[4] + 492.81458798373217f*x[5] + 102.8484521916802f*x[6] + 184.60648905984f*x[7] + 743.519616750542f*x[8] + 76.09517221662392f*x[9]'"
            ]
          },
          "execution_count": 29,
          "metadata": {},
          "output_type": "execute_result"
        }
      ],
      "source": [
        "res = \" + \".join(\"{0}f*x[{1}]\".format(c, i) for i, c in enumerate(clr.coef_))\n",
        "res"
      ]
    },
    {
      "cell_type": "code",
      "execution_count": 29,
      "metadata": {},
      "outputs": [
        {
          "name": "stdout",
          "output_type": "stream",
          "text": [
            "\n",
            "    static int linreg_custom_float(float * x, float * out)\n",
            "    {\n",
            "        out[0] = 152.76430691633442f + 0.3034995490660432f*x[0] + -237.63931533353403f*x[1] + 510.5306054362253f*x[2] + 327.7369804093466f*x[3] + -814.1317093725387f*x[4] + 492.81458798373217f*x[5] + 102.8484521916802f*x[6] + 184.60648905984f*x[7] + 743.519616750542f*x[8] + 76.09517221662392f*x[9];\n",
            "    }\n",
            "\n"
          ]
        }
      ],
      "source": [
        "code = \"\"\"\n",
        "    static int linreg_custom_float(float * x, float * out)\n",
        "    {{\n",
        "        out[0] = {0}f + {1};\n",
        "    }}\n",
        "\"\"\".format(clr.intercept_, res)\n",
        "print(code)"
      ]
    },
    {
      "cell_type": "code",
      "execution_count": 30,
      "metadata": {},
      "outputs": [
        {
          "name": "stdout",
          "output_type": "stream",
          "text": [
            "generating .\\_linear_regression_custom_float.c\n",
            "(already up-to-date)\n",
            "the current directory is 'C:\\\\xavierdupre\\\\__home_\\\\GitHub\\\\ensae_teaching_cs\\\\_doc\\\\notebooks\\\\2a'\n",
            "running build_ext\n",
            "building '_linear_regression_custom_float' extension\n",
            "C:\\Program Files (x86)\\Microsoft Visual Studio\\2017\\Community\\VC\\Tools\\MSVC\\14.16.27023\\bin\\HostX86\\x64\\cl.exe /c /nologo /Ox /W3 /GL /DNDEBUG /MD -Ic:\\python372_x64\\include -Ic:\\python372_x64\\include \"-IC:\\Program Files (x86)\\Microsoft Visual Studio\\2017\\Community\\VC\\Tools\\MSVC\\14.16.27023\\ATLMFC\\include\" \"-IC:\\Program Files (x86)\\Microsoft Visual Studio\\2017\\Community\\VC\\Tools\\MSVC\\14.16.27023\\include\" \"-IC:\\Program Files (x86)\\Windows Kits\\NETFXSDK\\4.6.1\\include\\um\" \"-IC:\\Program Files (x86)\\Windows Kits\\10\\include\\10.0.17763.0\\ucrt\" \"-IC:\\Program Files (x86)\\Windows Kits\\10\\include\\10.0.17763.0\\shared\" \"-IC:\\Program Files (x86)\\Windows Kits\\10\\include\\10.0.17763.0\\um\" \"-IC:\\Program Files (x86)\\Windows Kits\\10\\include\\10.0.17763.0\\winrt\" \"-IC:\\Program Files (x86)\\Windows Kits\\10\\include\\10.0.17763.0\\cppwinrt\" /Tc_linear_regression_custom_float.c /Fo.\\Release\\_linear_regression_custom_float.obj\n",
            "C:\\Program Files (x86)\\Microsoft Visual Studio\\2017\\Community\\VC\\Tools\\MSVC\\14.16.27023\\bin\\HostX86\\x64\\link.exe /nologo /INCREMENTAL:NO /LTCG /DLL /MANIFEST:EMBED,ID=2 /MANIFESTUAC:NO /LIBPATH:c:\\python372_x64\\libs /LIBPATH:c:\\python372_x64\\PCbuild\\amd64 \"/LIBPATH:C:\\Program Files (x86)\\Microsoft Visual Studio\\2017\\Community\\VC\\Tools\\MSVC\\14.16.27023\\ATLMFC\\lib\\x64\" \"/LIBPATH:C:\\Program Files (x86)\\Microsoft Visual Studio\\2017\\Community\\VC\\Tools\\MSVC\\14.16.27023\\lib\\x64\" \"/LIBPATH:C:\\Program Files (x86)\\Windows Kits\\NETFXSDK\\4.6.1\\lib\\um\\x64\" \"/LIBPATH:C:\\Program Files (x86)\\Windows Kits\\10\\lib\\10.0.17763.0\\ucrt\\x64\" \"/LIBPATH:C:\\Program Files (x86)\\Windows Kits\\10\\lib\\10.0.17763.0\\um\\x64\" /EXPORT:PyInit__linear_regression_custom_float .\\Release\\_linear_regression_custom_float.obj /OUT:.\\_linear_regression_custom_float.cp37-win_amd64.pyd /IMPLIB:.\\Release\\_linear_regression_custom_float.cp37-win_amd64.lib\n"
          ]
        },
        {
          "data": {
            "text/plain": [
              "'C:\\\\xavierdupre\\\\__home_\\\\GitHub\\\\ensae_teaching_cs\\\\_doc\\\\notebooks\\\\2a\\\\_linear_regression_custom_float.cp37-win_amd64.pyd'"
            ]
          },
          "execution_count": 31,
          "metadata": {},
          "output_type": "execute_result"
        }
      ],
      "source": [
        "from cffi import FFI\n",
        "ffibuilder = FFI()\n",
        "\n",
        "ffibuilder.cdef(\"int linreg_custom_float(float *, float *);\")\n",
        "ffibuilder.set_source(\"_linear_regression_custom_float\", code)\n",
        "ffibuilder.compile(verbose=True)"
      ]
    },
    {
      "cell_type": "code",
      "execution_count": 31,
      "metadata": {},
      "outputs": [],
      "source": [
        "from _linear_regression_custom_float.lib import linreg_custom_float"
      ]
    },
    {
      "cell_type": "code",
      "execution_count": 32,
      "metadata": {},
      "outputs": [],
      "source": [
        "def predict_clr_custom_float(x):\n",
        "    out = numpy.zeros(1, dtype=numpy.float32)\n",
        "    ptr_x = x.__array_interface__['data'][0]\n",
        "    cptr_x = ffi.cast ( \"float*\" , ptr_x )  \n",
        "    ptr_out = out.__array_interface__['data'][0]\n",
        "    cptr_out = ffi.cast ( \"float*\" , ptr_out ) \n",
        "    linreg_custom_float(cptr_x, cptr_out)\n",
        "    return out"
      ]
    },
    {
      "cell_type": "markdown",
      "metadata": {},
      "source": [
        "Avant d'appeler la fonction, on doit transformer le vecteur iniatial en [float32](https://docs.scipy.org/doc/numpy/user/basics.types.html)."
      ]
    },
    {
      "cell_type": "code",
      "execution_count": 33,
      "metadata": {},
      "outputs": [
        {
          "data": {
            "text/plain": [
              "array([152.76430692])"
            ]
          },
          "execution_count": 34,
          "metadata": {},
          "output_type": "execute_result"
        }
      ],
      "source": [
        "x32 = x.astype(numpy.float32)\n",
        "predict_clr_custom(x32)"
      ]
    },
    {
      "cell_type": "code",
      "execution_count": 34,
      "metadata": {},
      "outputs": [
        {
          "name": "stdout",
          "output_type": "stream",
          "text": [
            "Moyenne: 6.37 \u00b5s Ecart-type 2.71 \u00b5s (with 100 runs) in [5.09 \u00b5s, 11.23 \u00b5s]\n"
          ]
        }
      ],
      "source": [
        "memo_time.append(timeexe(\"cffi-linreg-custom-float wrapped\", \"predict_clr_custom(x32)\"))"
      ]
    },
    {
      "cell_type": "markdown",
      "metadata": {},
      "source": [
        "La diff\u00e9rence n'est pas flagrante. Mesurons le code C uniquement m\u00eame si la partie Python ne peut pas \u00eatre compl\u00e8tement \u00e9vit\u00e9e."
      ]
    },
    {
      "cell_type": "code",
      "execution_count": 35,
      "metadata": {},
      "outputs": [
        {
          "name": "stdout",
          "output_type": "stream",
          "text": [
            "Moyenne: 532.88 ns Ecart-type 521.04 ns (with 100 runs) in [368.00 ns, 928.00 ns]\n"
          ]
        }
      ],
      "source": [
        "out = numpy.zeros(1, dtype=numpy.float32)\n",
        "ptr_x = x32.__array_interface__['data'][0]\n",
        "cptr_x = ffi.cast ( \"float*\" , ptr_x )  \n",
        "ptr_out = out.__array_interface__['data'][0]\n",
        "cptr_out = ffi.cast ( \"float*\" , ptr_out ) \n",
        "\n",
        "memo_time.append(timeexe(\"cffi-linreg-custom-float32\", \"linreg_custom_float(cptr_x, cptr_out)\"))"
      ]
    },
    {
      "cell_type": "markdown",
      "metadata": {},
      "source": [
        "La diff\u00e9rence n'est pas significative."
      ]
    },
    {
      "cell_type": "markdown",
      "metadata": {},
      "source": [
        "### SIMD\n",
        "\n",
        "C'est un ensemble d'instructions processeur pour faire des op\u00e9rations terme \u00e0 terme sur 4 float32 aussi rapidement qu'une seule. Le processeur ne peut faire des op\u00e9rations que les nombres sont copi\u00e9s dans ses registres. Le programme passe alors son temps \u00e0 copier des nombres depuis la m\u00e9moire vers les registres du processeur puis \u00e0 faire la copie dans le chemin inverse pour le r\u00e9sultat. Les instructions [SIMD](https://en.wikipedia.org/wiki/SIMD) font gagner du temps du niveau du calcul. Au lieu de faire 4 op\u00e9rations de multiplication terme \u00e0 terme, il n'en fait plus qu'une. Il suffit de savoir comment utiliser ces instructions. Avec Visual Studio, elles sont accessible via ces fonctions [Memory and Initialization Using Streaming SIMD Extensions](https://msdn.microsoft.com/en-us/library/0hey67c0%28v=vs.100%29.aspx).\n",
        "Le code suivant n'est probablement pas optimal mais il n'est pas trop compliqu\u00e9 \u00e0 suivre."
      ]
    },
    {
      "cell_type": "code",
      "execution_count": 36,
      "metadata": {},
      "outputs": [],
      "source": [
        "code = \"\"\"\n",
        "#include <xmmintrin.h> \n",
        "\n",
        "static int linreg_custom_float_simd(float * x, float * out)\n",
        "{\n",
        "    __m128 c1 = _mm_set_ps(0.3034995490664121f, -237.63931533353392f, 510.5306054362245f, 327.7369804093466f);\n",
        "    __m128 c2 = _mm_set_ps(-814.1317093725389f, 492.81458798373245f, 102.84845219168025f, 184.60648905984064f);\n",
        "    __m128 r1 = _mm_set_ss(152.76430691633442f);\n",
        "    r1 = _mm_add_ss(r1, _mm_mul_ps(c1, _mm_load_ps(x)));\n",
        "    r1 = _mm_add_ss(r1, _mm_mul_ps(c2, _mm_load_ps(x+4)));\n",
        "    float r[4];\n",
        "    _mm_store_ps(r, r1);    \n",
        "    out[0] = r[0] + r[1] + r[2] + r[3] + 743.5196167505419f * x[8] + 76.095172216624f * x[9];\n",
        "    return 1;\n",
        "}\n",
        "\"\"\""
      ]
    },
    {
      "cell_type": "code",
      "execution_count": 37,
      "metadata": {
        "scrolled": false
      },
      "outputs": [
        {
          "name": "stdout",
          "output_type": "stream",
          "text": [
            "generating .\\_linear_regression_custom_float_simd.c\n",
            "(already up-to-date)\n",
            "the current directory is 'C:\\\\xavierdupre\\\\__home_\\\\GitHub\\\\ensae_teaching_cs\\\\_doc\\\\notebooks\\\\2a'\n",
            "running build_ext\n",
            "building '_linear_regression_custom_float_simd' extension\n",
            "C:\\Program Files (x86)\\Microsoft Visual Studio\\2017\\Community\\VC\\Tools\\MSVC\\14.16.27023\\bin\\HostX86\\x64\\cl.exe /c /nologo /Ox /W3 /GL /DNDEBUG /MD -Ic:\\python372_x64\\include -Ic:\\python372_x64\\include \"-IC:\\Program Files (x86)\\Microsoft Visual Studio\\2017\\Community\\VC\\Tools\\MSVC\\14.16.27023\\ATLMFC\\include\" \"-IC:\\Program Files (x86)\\Microsoft Visual Studio\\2017\\Community\\VC\\Tools\\MSVC\\14.16.27023\\include\" \"-IC:\\Program Files (x86)\\Windows Kits\\NETFXSDK\\4.6.1\\include\\um\" \"-IC:\\Program Files (x86)\\Windows Kits\\10\\include\\10.0.17763.0\\ucrt\" \"-IC:\\Program Files (x86)\\Windows Kits\\10\\include\\10.0.17763.0\\shared\" \"-IC:\\Program Files (x86)\\Windows Kits\\10\\include\\10.0.17763.0\\um\" \"-IC:\\Program Files (x86)\\Windows Kits\\10\\include\\10.0.17763.0\\winrt\" \"-IC:\\Program Files (x86)\\Windows Kits\\10\\include\\10.0.17763.0\\cppwinrt\" /Tc_linear_regression_custom_float_simd.c /Fo.\\Release\\_linear_regression_custom_float_simd.obj\n",
            "C:\\Program Files (x86)\\Microsoft Visual Studio\\2017\\Community\\VC\\Tools\\MSVC\\14.16.27023\\bin\\HostX86\\x64\\link.exe /nologo /INCREMENTAL:NO /LTCG /DLL /MANIFEST:EMBED,ID=2 /MANIFESTUAC:NO /LIBPATH:c:\\python372_x64\\libs /LIBPATH:c:\\python372_x64\\PCbuild\\amd64 \"/LIBPATH:C:\\Program Files (x86)\\Microsoft Visual Studio\\2017\\Community\\VC\\Tools\\MSVC\\14.16.27023\\ATLMFC\\lib\\x64\" \"/LIBPATH:C:\\Program Files (x86)\\Microsoft Visual Studio\\2017\\Community\\VC\\Tools\\MSVC\\14.16.27023\\lib\\x64\" \"/LIBPATH:C:\\Program Files (x86)\\Windows Kits\\NETFXSDK\\4.6.1\\lib\\um\\x64\" \"/LIBPATH:C:\\Program Files (x86)\\Windows Kits\\10\\lib\\10.0.17763.0\\ucrt\\x64\" \"/LIBPATH:C:\\Program Files (x86)\\Windows Kits\\10\\lib\\10.0.17763.0\\um\\x64\" /EXPORT:PyInit__linear_regression_custom_float_simd .\\Release\\_linear_regression_custom_float_simd.obj /OUT:.\\_linear_regression_custom_float_simd.cp37-win_amd64.pyd /IMPLIB:.\\Release\\_linear_regression_custom_float_simd.cp37-win_amd64.lib\n"
          ]
        },
        {
          "data": {
            "text/plain": [
              "'C:\\\\xavierdupre\\\\__home_\\\\GitHub\\\\ensae_teaching_cs\\\\_doc\\\\notebooks\\\\2a\\\\_linear_regression_custom_float_simd.cp37-win_amd64.pyd'"
            ]
          },
          "execution_count": 38,
          "metadata": {},
          "output_type": "execute_result"
        }
      ],
      "source": [
        "from cffi import FFI\n",
        "ffibuilder = FFI()\n",
        "\n",
        "ffibuilder.cdef(\"int linreg_custom_float_simd(float *, float *);\")\n",
        "ffibuilder.set_source(\"_linear_regression_custom_float_simd\", code)\n",
        "ffibuilder.compile(verbose=True)"
      ]
    },
    {
      "cell_type": "code",
      "execution_count": 38,
      "metadata": {},
      "outputs": [],
      "source": [
        "from _linear_regression_custom_float_simd.lib import linreg_custom_float_simd"
      ]
    },
    {
      "cell_type": "code",
      "execution_count": 39,
      "metadata": {},
      "outputs": [
        {
          "data": {
            "text/plain": [
              "array([171.1178], dtype=float32)"
            ]
          },
          "execution_count": 40,
          "metadata": {},
          "output_type": "execute_result"
        }
      ],
      "source": [
        "out = numpy.zeros(1, dtype=numpy.float32)\n",
        "ptr_x = x32.__array_interface__['data'][0]\n",
        "cptr_x = ffi.cast ( \"float*\" , ptr_x )  \n",
        "ptr_out = out.__array_interface__['data'][0]\n",
        "cptr_out = ffi.cast ( \"float*\" , ptr_out ) \n",
        "\n",
        "linreg_custom_float_simd(cptr_x, cptr_out)\n",
        "out"
      ]
    },
    {
      "cell_type": "code",
      "execution_count": 40,
      "metadata": {},
      "outputs": [
        {
          "name": "stdout",
          "output_type": "stream",
          "text": [
            "Moyenne: 455.51 ns Ecart-type 243.42 ns (with 100 runs) in [335.00 ns, 787.00 ns]\n"
          ]
        }
      ],
      "source": [
        "memo_time.append(timeexe(\"cffi-linreg-custom-float32-simd\", \"linreg_custom_float_simd(cptr_x, cptr_out)\"))"
      ]
    },
    {
      "cell_type": "markdown",
      "metadata": {},
      "source": [
        "C'est l\u00e9g\u00e8rement mieux, quelques r\u00e9f\u00e9rences :\n",
        "\n",
        "* [aligned_vs_unaligned_load.c](https://gist.github.com/rmcgibbo/7689820) : c'est du code mais facile \u00e0 lire.\n",
        "* [How to Write Fast Numerical Code](https://www.inf.ethz.ch/personal/markusp/teaching/263-2300-ETH-spring11/slides/class17.pdf)\n",
        "\n",
        "Les processeurs \u00e9voluent au fil du temps, 4 float, 8 float, [SIMD2](https://msdn.microsoft.com/en-us/library/kcwz153a%28v=vs.100%29.aspx), [FMA4 Intrinsics Added for Visual Studio 2010 SP1](https://msdn.microsoft.com/en-us/library/gg445134%28v=vs.100%29.aspx), [AVX](https://software.intel.com/en-us/articles/introduction-to-intel-advanced-vector-extensions/)."
      ]
    },
    {
      "cell_type": "markdown",
      "metadata": {
        "collapsed": true
      },
      "source": [
        "### R\u00e9\u00e9criture purement Python\n",
        "\n",
        "On continue avec uniquement du Python sans numpy."
      ]
    },
    {
      "cell_type": "code",
      "execution_count": 41,
      "metadata": {},
      "outputs": [
        {
          "data": {
            "text/plain": [
              "[0.3034995490660432,\n",
              " -237.63931533353403,\n",
              " 510.5306054362253,\n",
              " 327.7369804093466,\n",
              " -814.1317093725387,\n",
              " 492.81458798373217,\n",
              " 102.8484521916802,\n",
              " 184.60648905984,\n",
              " 743.519616750542,\n",
              " 76.09517221662392]"
            ]
          },
          "execution_count": 42,
          "metadata": {},
          "output_type": "execute_result"
        }
      ],
      "source": [
        "coef = clr.coef_\n",
        "list(coef)"
      ]
    },
    {
      "cell_type": "code",
      "execution_count": 42,
      "metadata": {},
      "outputs": [
        {
          "data": {
            "text/plain": [
              "'152.76430691633442+x[0]*(0.3034995490660432)+x[1]*(-237.63931533353403)+x[2]*(510.5306054362253)+x[3]*(327.7369804093466)+x[4]*(-814.1317093725387)+x[5]*(492.81458798373217)+x[6]*(102.8484521916802)+x[7]*(184.60648905984)+x[8]*(743.519616750542)+x[9]*(76.09517221662392)'"
            ]
          },
          "execution_count": 43,
          "metadata": {},
          "output_type": "execute_result"
        }
      ],
      "source": [
        "code = str(clr.intercept_) + \"+\" + \"+\".join(\"x[{0}]*({1})\".format(i, c) for i, c in enumerate(coef))\n",
        "code"
      ]
    },
    {
      "cell_type": "code",
      "execution_count": 43,
      "metadata": {},
      "outputs": [
        {
          "data": {
            "text/plain": [
              "197.61846907469848"
            ]
          },
          "execution_count": 44,
          "metadata": {},
          "output_type": "execute_result"
        }
      ],
      "source": [
        "def predict_clr_python(x):\n",
        "    return 152.764306916+x[0]*0.3034995490664121+x[1]*(-237.63931533353392)+x[2]*510.5306054362245+ \\\n",
        "            x[3]*327.7369804093466+ \\\n",
        "            x[4]*(-814.1317093725389)+x[5]*492.81458798373245+x[6]*102.84845219168025+ \\\n",
        "            x[7]*184.60648905984064+x[8]*743.5196167505419+x[9]*76.095172216624\n",
        "            \n",
        "predict_clr_python(x[0])"
      ]
    },
    {
      "cell_type": "code",
      "execution_count": 44,
      "metadata": {},
      "outputs": [
        {
          "name": "stdout",
          "output_type": "stream",
          "text": [
            "Moyenne: 3.40 \u00b5s Ecart-type 1.20 \u00b5s (with 100 runs) in [2.69 \u00b5s, 5.91 \u00b5s]\n"
          ]
        }
      ],
      "source": [
        "z = list(x[0])\n",
        "memo_time.append(timeexe(\"python-linreg-custom\", \"predict_clr_python(z)\"))"
      ]
    },
    {
      "cell_type": "markdown",
      "metadata": {},
      "source": [
        "De fa\u00e7on assez surprenante, c'est plut\u00f4t rapide. Et si on y mettait une boucle."
      ]
    },
    {
      "cell_type": "code",
      "execution_count": 45,
      "metadata": {},
      "outputs": [
        {
          "data": {
            "text/plain": [
              "197.61846907503298"
            ]
          },
          "execution_count": 46,
          "metadata": {},
          "output_type": "execute_result"
        }
      ],
      "source": [
        "def predict_clr_python_loop(x, coef, intercept):    \n",
        "    return intercept + sum(a*b for a, b in zip(x, coef))\n",
        "            \n",
        "predict_clr_python_loop(x[0], list(clr.coef_), clr.intercept_)"
      ]
    },
    {
      "cell_type": "code",
      "execution_count": 46,
      "metadata": {},
      "outputs": [
        {
          "name": "stdout",
          "output_type": "stream",
          "text": [
            "Moyenne: 5.43 \u00b5s Ecart-type 1.68 \u00b5s (with 100 runs) in [4.37 \u00b5s, 8.24 \u00b5s]\n"
          ]
        }
      ],
      "source": [
        "coef = list(clr.coef_)\n",
        "intercept = clr.intercept_\n",
        "memo_time.append(timeexe(\"python-linreg\", \"predict_clr_python_loop(z, coef, intercept)\"))"
      ]
    },
    {
      "cell_type": "markdown",
      "metadata": {},
      "source": [
        "A peine plus long."
      ]
    },
    {
      "cell_type": "markdown",
      "metadata": {},
      "source": [
        "### R\u00e9\u00e9criture avec Python et numpy"
      ]
    },
    {
      "cell_type": "code",
      "execution_count": 47,
      "metadata": {},
      "outputs": [
        {
          "data": {
            "text/plain": [
              "197.61846907503298"
            ]
          },
          "execution_count": 48,
          "metadata": {},
          "output_type": "execute_result"
        }
      ],
      "source": [
        "def predict_clr_numpy(x, coef, intercept):    \n",
        "    return intercept + numpy.dot(coef, x).sum()\n",
        "            \n",
        "predict_clr_numpy(x[0], clr.coef_, clr.intercept_)"
      ]
    },
    {
      "cell_type": "code",
      "execution_count": 48,
      "metadata": {},
      "outputs": [
        {
          "name": "stdout",
          "output_type": "stream",
          "text": [
            "Moyenne: 9.53 \u00b5s Ecart-type 2.24 \u00b5s (with 100 runs) in [8.34 \u00b5s, 12.44 \u00b5s]\n"
          ]
        }
      ],
      "source": [
        "memo_time.append(timeexe(\"numpy-linreg-numpy\", \"predict_clr_numpy(z, coef, clr.intercept_)\"))"
      ]
    },
    {
      "cell_type": "markdown",
      "metadata": {},
      "source": [
        "Les dimensions des tableaux sont trop petites pour que le calcul matriciel apporte une diff\u00e9rence. On se retrouve dans le cas *cffi* o\u00f9 les \u00e9changes Python - C grignotent tout le temps de calcul."
      ]
    },
    {
      "cell_type": "markdown",
      "metadata": {},
      "source": [
        "### numba\n",
        "\n",
        "[numba](http://numba.pydata.org/) essaye de compiler \u00e0 la vol\u00e9e des bouts de codes \u00e9crits en Python. On induque quelle fonction optimiser en faisant pr\u00e9c\u00e9der la fonction de ``@jit``. Toutes les \u00e9critures ne fonctionnent, typiquement, certaines listes en compr\u00e9hension soul\u00e8vent une exception. Il faut donc \u00e9crire son code en Python d'une fa\u00e7on assez proche de ce qu'il serait en C."
      ]
    },
    {
      "cell_type": "code",
      "execution_count": 49,
      "metadata": {},
      "outputs": [],
      "source": [
        "from numba import jit"
      ]
    },
    {
      "cell_type": "code",
      "execution_count": 50,
      "metadata": {
        "scrolled": false
      },
      "outputs": [
        {
          "data": {
            "text/plain": [
              "197.61846907503298"
            ]
          },
          "execution_count": 51,
          "metadata": {},
          "output_type": "execute_result"
        }
      ],
      "source": [
        "@jit\n",
        "def predict_clr_numba(x, coef, intercept):\n",
        "    s = intercept\n",
        "    for i in range(0, len(x)):\n",
        "        s += coef[i] * x[i]\n",
        "    return s\n",
        "            \n",
        "predict_clr_numba(z, clr.coef_, clr.intercept_)"
      ]
    },
    {
      "cell_type": "code",
      "execution_count": 51,
      "metadata": {},
      "outputs": [
        {
          "name": "stdout",
          "output_type": "stream",
          "text": [
            "Moyenne: 29.38 \u00b5s Ecart-type 9.80 \u00b5s (with 100 runs) in [23.60 \u00b5s, 49.54 \u00b5s]\n"
          ]
        }
      ],
      "source": [
        "memo_time.append(timeexe(\"numba-linreg-notype\", \"predict_clr_numba(z, clr.coef_, clr.intercept_)\"))"
      ]
    },
    {
      "cell_type": "markdown",
      "metadata": {},
      "source": [
        "Plut\u00f4t rapide !"
      ]
    },
    {
      "cell_type": "code",
      "execution_count": 52,
      "metadata": {},
      "outputs": [
        {
          "data": {
            "text/plain": [
              "197.61846907503298"
            ]
          },
          "execution_count": 53,
          "metadata": {},
          "output_type": "execute_result"
        }
      ],
      "source": [
        "@jit('double(double[:], double[:], double)')\n",
        "def predict_clr_numba_cast(x, coef, intercept):\n",
        "    s = intercept\n",
        "    for i in range(0, len(x)):\n",
        "        s += coef[i] * x[i]\n",
        "    return s\n",
        "            \n",
        "# La fonction ne fonctionne qu'avec un numpy.array car le langage C est fortement typ\u00e9.\n",
        "predict_clr_numba_cast(x[0], clr.coef_, clr.intercept_)"
      ]
    },
    {
      "cell_type": "code",
      "execution_count": 53,
      "metadata": {},
      "outputs": [
        {
          "name": "stdout",
          "output_type": "stream",
          "text": [
            "Moyenne: 1.04 \u00b5s Ecart-type 470.76 ns (with 100 runs) in [835.00 ns, 1.89 \u00b5s]\n"
          ]
        }
      ],
      "source": [
        "memo_time.append(timeexe(\"numba-linreg-type\", \"predict_clr_numba_cast(x[0], clr.coef_, clr.intercept_)\"))"
      ]
    },
    {
      "cell_type": "markdown",
      "metadata": {},
      "source": [
        "On voit que plus on donne d'information au compilateur, plus il est capable d'optimiser."
      ]
    },
    {
      "cell_type": "code",
      "execution_count": 54,
      "metadata": {},
      "outputs": [
        {
          "data": {
            "text/plain": [
              "197.61846923828125"
            ]
          },
          "execution_count": 55,
          "metadata": {},
          "output_type": "execute_result"
        }
      ],
      "source": [
        "@jit('float32(float32[:], float32[:], float32)')\n",
        "def predict_clr_numba_cast_float(x, coef, intercept):\n",
        "    s = intercept\n",
        "    for i in range(0, len(x)):\n",
        "        s += coef[i] * x[i]\n",
        "    return s\n",
        "            \n",
        "# La fonction ne fonctionne qu'avec un numpy.array car le langage C est fortement typ\u00e9.\n",
        "x32 = x[0].astype(numpy.float32)\n",
        "c32 = clr.coef_.astype(numpy.float32)\n",
        "i32 = numpy.float32(clr.intercept_)\n",
        "predict_clr_numba_cast_float(x32, c32, i32)"
      ]
    },
    {
      "cell_type": "code",
      "execution_count": 55,
      "metadata": {},
      "outputs": [
        {
          "name": "stdout",
          "output_type": "stream",
          "text": [
            "Moyenne: 793.32 ns Ecart-type 686.11 ns (with 100 runs) in [577.00 ns, 1.54 \u00b5s]\n"
          ]
        }
      ],
      "source": [
        "memo_time.append(timeexe(\"numba-linreg-type-float32\", \"predict_clr_numba_cast_float(x32, c32, i32)\"))"
      ]
    },
    {
      "cell_type": "markdown",
      "metadata": {},
      "source": [
        "On essaye avec les coefficients dans la fonction."
      ]
    },
    {
      "cell_type": "code",
      "execution_count": 56,
      "metadata": {},
      "outputs": [
        {
          "data": {
            "text/plain": [
              "197.61846907190048"
            ]
          },
          "execution_count": 57,
          "metadata": {},
          "output_type": "execute_result"
        }
      ],
      "source": [
        "@jit('double(double[:])')\n",
        "def predict_clr_numba_cast_custom(x):\n",
        "    coef = [ 3.03499549e-01, -2.37639315e+02,  5.10530605e+02,  3.27736980e+02,\n",
        "            -8.14131709e+02,  4.92814588e+02,  1.02848452e+02,  1.84606489e+02,\n",
        "             7.43519617e+02,  7.60951722e+01]\n",
        "    s = 152.76430691633442\n",
        "    for i in range(0, len(x)):\n",
        "        s += coef[i] * x[i]\n",
        "    return s\n",
        "            \n",
        "predict_clr_numba_cast_custom(x[0])"
      ]
    },
    {
      "cell_type": "code",
      "execution_count": 57,
      "metadata": {},
      "outputs": [
        {
          "name": "stdout",
          "output_type": "stream",
          "text": [
            "Moyenne: 1.04 \u00b5s Ecart-type 615.32 ns (with 100 runs) in [718.00 ns, 1.94 \u00b5s]\n"
          ]
        }
      ],
      "source": [
        "memo_time.append(timeexe(\"numba-linreg-type-custom\", \"predict_clr_numba_cast_custom(x[0])\"))"
      ]
    },
    {
      "cell_type": "markdown",
      "metadata": {},
      "source": [
        "On se rapproche des temps obtenus avec *cffi* sans *wrapping*, cela signifie que *numba* fait un bien meilleur travail \u00e0 ce niveau que le wrapper rapidement cr\u00e9\u00e9."
      ]
    },
    {
      "cell_type": "code",
      "execution_count": 58,
      "metadata": {},
      "outputs": [
        {
          "data": {
            "text/plain": [
              "197.61846907503298"
            ]
          },
          "execution_count": 59,
          "metadata": {},
          "output_type": "execute_result"
        }
      ],
      "source": [
        "@jit('double(double[:], double[:], double)')\n",
        "def predict_clr_numba_numpy(x, coef, intercept):    \n",
        "    return intercept + numpy.dot(coef, x).sum()\n",
        "\n",
        "predict_clr_numba_numpy(x[0], clr.coef_, clr.intercept_)"
      ]
    },
    {
      "cell_type": "code",
      "execution_count": 59,
      "metadata": {},
      "outputs": [
        {
          "name": "stdout",
          "output_type": "stream",
          "text": [
            "Moyenne: 8.54 \u00b5s Ecart-type 2.29 \u00b5s (with 100 runs) in [7.21 \u00b5s, 11.78 \u00b5s]\n"
          ]
        }
      ],
      "source": [
        "memo_time.append(timeexe(\"numba-linreg-type-numpy\", \"predict_clr_numba_numpy(x[0], clr.coef_, clr.intercept_)\"))"
      ]
    },
    {
      "cell_type": "markdown",
      "metadata": {},
      "source": [
        "*numba* est moins performant quand *numpy* est impliqu\u00e9 car le code de numpy n'est pas r\u00e9\u00e9crit, il est appel\u00e9."
      ]
    },
    {
      "cell_type": "markdown",
      "metadata": {},
      "source": [
        "### cython\n",
        "\n",
        "[cython](http://cython.org/) permet de cr\u00e9er des extensions C de plus grande envergure que *numba*. C'est l'option choisie par [scikit-learn](http://scikit-learn.org/stable/). Il vaut mieux conna\u00eetre le C pour s'en servir et l\u00e0 encore, l'objectif est de r\u00e9duire les \u00e9changes Python / C qui co\u00fbtent cher."
      ]
    },
    {
      "cell_type": "code",
      "execution_count": 60,
      "metadata": {},
      "outputs": [],
      "source": [
        "%load_ext cython"
      ]
    },
    {
      "cell_type": "code",
      "execution_count": 61,
      "metadata": {},
      "outputs": [],
      "source": [
        "%%cython\n",
        "def predict_clr_cython(x, coef, intercept):\n",
        "    s = intercept\n",
        "    for i in range(0, len(x)):\n",
        "        s += coef[i] * x[i]\n",
        "    return s"
      ]
    },
    {
      "cell_type": "code",
      "execution_count": 62,
      "metadata": {},
      "outputs": [
        {
          "data": {
            "text/plain": [
              "197.61846907503298"
            ]
          },
          "execution_count": 63,
          "metadata": {},
          "output_type": "execute_result"
        }
      ],
      "source": [
        "predict_clr_cython(x[0], clr.coef_, clr.intercept_)"
      ]
    },
    {
      "cell_type": "code",
      "execution_count": 63,
      "metadata": {},
      "outputs": [
        {
          "name": "stdout",
          "output_type": "stream",
          "text": [
            "Moyenne: 4.33 \u00b5s Ecart-type 697.40 ns (with 100 runs) in [3.76 \u00b5s, 5.54 \u00b5s]\n"
          ]
        }
      ],
      "source": [
        "memo_time.append(timeexe(\"cython-linreg\", \"predict_clr_cython(x[0], clr.coef_, clr.intercept_)\"))"
      ]
    },
    {
      "cell_type": "markdown",
      "metadata": {},
      "source": [
        "Cython fait moins bien que *numba* dans notre cas et l'optimisation propos\u00e9e est assez proche du temps d\u00e9j\u00e0 obtenue avec le langage Python seul. Cela est d\u00fb au fait que la plupart des objets tels que du code associ\u00e9 aux listes ou aux dictionnaires ont \u00e9t\u00e9 r\u00e9\u00e9crits en C."
      ]
    },
    {
      "cell_type": "code",
      "execution_count": 64,
      "metadata": {},
      "outputs": [],
      "source": [
        "%%cython\n",
        "cimport numpy as npc\n",
        "\n",
        "def predict_clr_cython_type(npc.ndarray[double, ndim=1, mode='c'] x,\n",
        "                            npc.ndarray[double, ndim=1, mode='c'] coef,\n",
        "                            double intercept):\n",
        "    cdef double s = intercept\n",
        "    for i in range(0, x.shape[0]):\n",
        "        s += coef[i] * x[i]\n",
        "    return s"
      ]
    },
    {
      "cell_type": "code",
      "execution_count": 65,
      "metadata": {},
      "outputs": [
        {
          "data": {
            "text/plain": [
              "197.61846907503298"
            ]
          },
          "execution_count": 66,
          "metadata": {},
          "output_type": "execute_result"
        }
      ],
      "source": [
        "predict_clr_cython_type(x[0], clr.coef_, clr.intercept_)"
      ]
    },
    {
      "cell_type": "code",
      "execution_count": 66,
      "metadata": {},
      "outputs": [
        {
          "name": "stdout",
          "output_type": "stream",
          "text": [
            "Moyenne: 1.70 \u00b5s Ecart-type 603.22 ns (with 100 runs) in [1.42 \u00b5s, 2.93 \u00b5s]\n"
          ]
        }
      ],
      "source": [
        "memo_time.append(timeexe(\"cython-linreg-type\", \"predict_clr_cython_type(x[0], clr.coef_, clr.intercept_)\"))"
      ]
    },
    {
      "cell_type": "markdown",
      "metadata": {},
      "source": [
        "Le temps est quasi identique avec un \u00e9cart type moins grand de fa\u00e7on significative."
      ]
    },
    {
      "cell_type": "markdown",
      "metadata": {},
      "source": [
        "### Une derni\u00e8re option : ONNX\n",
        "\n",
        "[ONNX](https://onnx.ai/) est un format de s\u00e9rialisation qui permet de d\u00e9crire un mod\u00e8le de mod\u00e8le de machine learning ou de deep learning. Cela permet de dissocer le mod\u00e8le de la librairie qui a servi \u00e0 le produire (voir [ML.net and ONNX](http://www.xavierdupre.fr/app/machinelearningext/helpsphinx/aonnx.html))."
      ]
    },
    {
      "cell_type": "code",
      "execution_count": 67,
      "metadata": {},
      "outputs": [
        {
          "name": "stdout",
          "output_type": "stream",
          "text": [
            "onnx, skl2onnx, onnxruntime sont disponibles.\n"
          ]
        }
      ],
      "source": [
        "try:\n",
        "    from skl2onnx import convert_sklearn\n",
        "    from skl2onnx.common.data_types import FloatTensorType\n",
        "    import onnxruntime\n",
        "    import onnx\n",
        "    ok_onnx = True\n",
        "    print(\"onnx, skl2onnx, onnxruntime sont disponibles.\")\n",
        "    \n",
        "    def save_model(onnx_model, filename):\n",
        "        with open(filename, \"wb\") as f:\n",
        "            f.write(onnx_model.SerializeToString())\n",
        "except ImportError as e:\n",
        "    print(\"La suite requiert onnx, skl2onnx et onnxruntime.\")\n",
        "    print(e)\n",
        "    ok_onnx = False"
      ]
    },
    {
      "cell_type": "markdown",
      "metadata": {},
      "source": [
        "On convertit le mod\u00e8le au format [ONNX](https://onnx.ai/)."
      ]
    },
    {
      "cell_type": "code",
      "execution_count": 68,
      "metadata": {},
      "outputs": [
        {
          "name": "stdout",
          "output_type": "stream",
          "text": [
            "Mod\u00e8le s\u00e9rialis\u00e9 au format ONNX\n",
            "ir_version: 6\n",
            "producer_name: \"skl2onnx\"\n",
            "producer_version: \"1.5.999996\"\n",
            "domain: \"ai.onnx\"\n",
            "model_version: 0\n",
            "doc_string: \"\"\n",
            "graph {\n",
            "  node {\n",
            "    input: \"input\"\n",
            "    output: \"variable\"\n",
            "    name: \"LinearRegressor\"\n",
            "    op_type: \"LinearRegressor\"\n",
            "    attribute {\n",
            "      name: \"coefficients\"\n",
            "      floats: 0.3034995496273041\n",
            "      floats: -237.63931274414062\n",
            "      floats: 510.5306091308594\n",
            "      floats: 327.7369689941406\n",
            "      floats: -814.1317138671875\n",
            "      floats: 492.8145751953125\n",
            "      floats: 102.84844970703125\n",
            "      floats: 184.6064910888672\n",
            "      floats: 743.5195922851562\n",
            "      floats: 76.09516906738281\n",
            "      type: FLOATS\n",
            "    }\n",
            "    attribute {\n",
            "      name: \"intercepts\"\n",
            "      floats: 152.76431274414062\n",
            "      type: FLOATS\n",
            "    }\n",
            "    domain: \"ai.onnx.ml\"\n",
            "  }\n",
            "  name: \"model\"\n",
            "  input {\n",
            "    name: \"input\"\n",
            "    type {\n",
            "      tensor_type {\n",
            "        elem_type: 1\n",
            "        shape {\n",
            "          dim {\n",
            "          }\n",
            "          dim {\n",
            "            dim_value: 10\n",
            "          }\n",
            "        }\n",
            "      }\n",
            "    }\n",
            "  }\n",
            "  output {\n",
            "    name: \"variable\"\n",
            "    type {\n",
            "      tensor_type {\n",
            "        elem_type: 1\n",
            "        shape {\n",
            "          dim {\n",
            "          }\n",
            "          dim {\n",
            "            dim_value: 1\n",
            "          }\n",
            "        }\n",
            "      }\n",
            "    }\n",
            "  }\n",
            "}\n",
            "opset_import {\n",
            "  domain: \"ai.onnx.ml\"\n",
            "  version: 1\n",
            "}\n",
            "\n"
          ]
        }
      ],
      "source": [
        "if ok_onnx:\n",
        "    onnx_model = convert_sklearn(\n",
        "        clr, 'model', [('input', FloatTensorType([None, clr.coef_.shape[0]]))])\n",
        "    save_model(onnx_model, 'model.onnx')\n",
        "    \n",
        "    model_onnx = onnx.load('model.onnx')\n",
        "    print(\"Mod\u00e8le s\u00e9rialis\u00e9 au format ONNX\")\n",
        "    print(model_onnx)\n",
        "else:\n",
        "    print(\"onnx, onnxmltools, onnxruntime sont disponibles.\")"
      ]
    },
    {
      "cell_type": "markdown",
      "metadata": {},
      "source": [
        "On calcule les pr\u00e9dictions. Le module {onnxruntime](https://docs.microsoft.com/en-us/python/api/overview/azure/onnx/intro?view=azure-onnx-py) optimise les calculs pour des mod\u00e8les de deep learning. Cela explique pourquoi tous les calculs sont r\u00e9alis\u00e9s avec des r\u00e9els repr\u00e9sent\u00e9s sur 4 octets [numpy.float32](https://docs.scipy.org/doc/numpy/user/basics.types.html?highlight=float32)."
      ]
    },
    {
      "cell_type": "code",
      "execution_count": 69,
      "metadata": {},
      "outputs": [
        {
          "name": "stdout",
          "output_type": "stream",
          "text": [
            "Input: NodeArg(name='input', type='tensor(float)', shape=[None, 10])\n",
            "Output: NodeArg(name='variable', type='tensor(float)', shape=[None, 1])\n",
            "Prediction: [array([[197.61847]], dtype=float32)]\n"
          ]
        }
      ],
      "source": [
        "if ok_onnx:\n",
        "    sess = onnxruntime.InferenceSession(\"model.onnx\")\n",
        "    for i in sess.get_inputs():\n",
        "        print('Input:', i)\n",
        "    for o in sess.get_outputs():\n",
        "        print('Output:', o)\n",
        "    \n",
        "    def predict_onnxrt(x):    \n",
        "        return sess.run([\"variable\"], {'input': x})\n",
        "    \n",
        "    print(\"Prediction:\", predict_onnxrt(x.astype(numpy.float32)))"
      ]
    },
    {
      "cell_type": "code",
      "execution_count": 70,
      "metadata": {},
      "outputs": [
        {
          "name": "stdout",
          "output_type": "stream",
          "text": [
            "Moyenne: 13.13 \u00b5s Ecart-type 7.59 \u00b5s (with 100 runs) in [9.34 \u00b5s, 24.25 \u00b5s]\n",
            "Moyenne: 12.75 \u00b5s Ecart-type 3.12 \u00b5s (with 100 runs) in [10.75 \u00b5s, 20.82 \u00b5s]\n"
          ]
        }
      ],
      "source": [
        "if ok_onnx:\n",
        "    x32 = x.astype(numpy.float32)\n",
        "    memo_time.append(timeexe(\"onnxruntime-float32\", \"predict_onnxrt(x32)\"))\n",
        "    memo_time.append(timeexe(\"onnxruntime-float64\", \"predict_onnxrt(x.astype(numpy.float32))\"))"
      ]
    },
    {
      "cell_type": "markdown",
      "metadata": {},
      "source": [
        "### R\u00e9capitulatif"
      ]
    },
    {
      "cell_type": "code",
      "execution_count": 71,
      "metadata": {},
      "outputs": [
        {
          "data": {
            "text/html": [
              "<div>\n",
              "<style scoped>\n",
              "    .dataframe tbody tr th:only-of-type {\n",
              "        vertical-align: middle;\n",
              "    }\n",
              "\n",
              "    .dataframe tbody tr th {\n",
              "        vertical-align: top;\n",
              "    }\n",
              "\n",
              "    .dataframe thead th {\n",
              "        text-align: right;\n",
              "    }\n",
              "</style>\n",
              "<table border=\"1\" class=\"dataframe\">\n",
              "  <thead>\n",
              "    <tr style=\"text-align: right;\">\n",
              "      <th></th>\n",
              "      <th>average</th>\n",
              "      <th>deviation</th>\n",
              "      <th>first</th>\n",
              "      <th>first3</th>\n",
              "      <th>last3</th>\n",
              "      <th>repeat</th>\n",
              "      <th>min5</th>\n",
              "      <th>max5</th>\n",
              "      <th>code</th>\n",
              "      <th>run</th>\n",
              "    </tr>\n",
              "    <tr>\n",
              "      <th>legend</th>\n",
              "      <th></th>\n",
              "      <th></th>\n",
              "      <th></th>\n",
              "      <th></th>\n",
              "      <th></th>\n",
              "      <th></th>\n",
              "      <th></th>\n",
              "      <th></th>\n",
              "      <th></th>\n",
              "      <th></th>\n",
              "    </tr>\n",
              "  </thead>\n",
              "  <tbody>\n",
              "    <tr>\n",
              "      <td>cffi-linreg-custom-float32-simd</td>\n",
              "      <td>4.555090e-07</td>\n",
              "      <td>2.434230e-07</td>\n",
              "      <td>6.150000e-07</td>\n",
              "      <td>6.093333e-07</td>\n",
              "      <td>3.370000e-07</td>\n",
              "      <td>1000</td>\n",
              "      <td>3.350000e-07</td>\n",
              "      <td>7.870000e-07</td>\n",
              "      <td>linreg_custom_float_simd(cptr_x, cptr_out)</td>\n",
              "      <td>100</td>\n",
              "    </tr>\n",
              "    <tr>\n",
              "      <td>cffi-linreg-custom</td>\n",
              "      <td>4.938620e-07</td>\n",
              "      <td>2.187442e-07</td>\n",
              "      <td>1.265000e-06</td>\n",
              "      <td>6.626667e-07</td>\n",
              "      <td>3.600000e-07</td>\n",
              "      <td>1000</td>\n",
              "      <td>3.590000e-07</td>\n",
              "      <td>8.320000e-07</td>\n",
              "      <td>linreg_custom(cptr_x, cptr_out)</td>\n",
              "      <td>100</td>\n",
              "    </tr>\n",
              "    <tr>\n",
              "      <td>cffi-linreg-custom-float32</td>\n",
              "      <td>5.328840e-07</td>\n",
              "      <td>5.210403e-07</td>\n",
              "      <td>7.577000e-06</td>\n",
              "      <td>3.614000e-06</td>\n",
              "      <td>3.693333e-07</td>\n",
              "      <td>1000</td>\n",
              "      <td>3.680000e-07</td>\n",
              "      <td>9.280000e-07</td>\n",
              "      <td>linreg_custom_float(cptr_x, cptr_out)</td>\n",
              "      <td>100</td>\n",
              "    </tr>\n",
              "    <tr>\n",
              "      <td>numba-linreg-type-float32</td>\n",
              "      <td>7.933220e-07</td>\n",
              "      <td>6.861051e-07</td>\n",
              "      <td>7.070000e-07</td>\n",
              "      <td>6.353333e-07</td>\n",
              "      <td>5.800000e-07</td>\n",
              "      <td>1000</td>\n",
              "      <td>5.770000e-07</td>\n",
              "      <td>1.539000e-06</td>\n",
              "      <td>predict_clr_numba_cast_float(x32, c32, i32)</td>\n",
              "      <td>100</td>\n",
              "    </tr>\n",
              "    <tr>\n",
              "      <td>cffi-linreg</td>\n",
              "      <td>9.852930e-07</td>\n",
              "      <td>1.391556e-06</td>\n",
              "      <td>3.222000e-06</td>\n",
              "      <td>3.122333e-06</td>\n",
              "      <td>5.813333e-07</td>\n",
              "      <td>1000</td>\n",
              "      <td>4.990000e-07</td>\n",
              "      <td>1.645000e-06</td>\n",
              "      <td>lib.linreg(n, cptr_x, cptr_coef, clr.intercept...</td>\n",
              "      <td>100</td>\n",
              "    </tr>\n",
              "    <tr>\n",
              "      <td>numba-linreg-type</td>\n",
              "      <td>1.041028e-06</td>\n",
              "      <td>4.707631e-07</td>\n",
              "      <td>1.128000e-06</td>\n",
              "      <td>9.326667e-07</td>\n",
              "      <td>8.393333e-07</td>\n",
              "      <td>1000</td>\n",
              "      <td>8.350000e-07</td>\n",
              "      <td>1.890000e-06</td>\n",
              "      <td>predict_clr_numba_cast(x[0], clr.coef_, clr.in...</td>\n",
              "      <td>100</td>\n",
              "    </tr>\n",
              "    <tr>\n",
              "      <td>numba-linreg-type-custom</td>\n",
              "      <td>1.043290e-06</td>\n",
              "      <td>6.153153e-07</td>\n",
              "      <td>8.910000e-07</td>\n",
              "      <td>9.123333e-07</td>\n",
              "      <td>7.183333e-07</td>\n",
              "      <td>1000</td>\n",
              "      <td>7.180000e-07</td>\n",
              "      <td>1.945000e-06</td>\n",
              "      <td>predict_clr_numba_cast_custom(x[0])</td>\n",
              "      <td>100</td>\n",
              "    </tr>\n",
              "    <tr>\n",
              "      <td>cython-linreg-type</td>\n",
              "      <td>1.699581e-06</td>\n",
              "      <td>6.032213e-07</td>\n",
              "      <td>3.837000e-06</td>\n",
              "      <td>4.730333e-06</td>\n",
              "      <td>1.546667e-06</td>\n",
              "      <td>1000</td>\n",
              "      <td>1.415000e-06</td>\n",
              "      <td>2.928000e-06</td>\n",
              "      <td>predict_clr_cython_type(x[0], clr.coef_, clr.i...</td>\n",
              "      <td>100</td>\n",
              "    </tr>\n",
              "    <tr>\n",
              "      <td>python-linreg-custom</td>\n",
              "      <td>3.398032e-06</td>\n",
              "      <td>1.199968e-06</td>\n",
              "      <td>3.790000e-06</td>\n",
              "      <td>4.507667e-06</td>\n",
              "      <td>2.915667e-06</td>\n",
              "      <td>1000</td>\n",
              "      <td>2.690000e-06</td>\n",
              "      <td>5.906000e-06</td>\n",
              "      <td>predict_clr_python(z)</td>\n",
              "      <td>100</td>\n",
              "    </tr>\n",
              "    <tr>\n",
              "      <td>cython-linreg</td>\n",
              "      <td>4.325581e-06</td>\n",
              "      <td>6.973983e-07</td>\n",
              "      <td>4.418000e-06</td>\n",
              "      <td>4.213333e-06</td>\n",
              "      <td>4.037333e-06</td>\n",
              "      <td>1000</td>\n",
              "      <td>3.764000e-06</td>\n",
              "      <td>5.543000e-06</td>\n",
              "      <td>predict_clr_cython(x[0], clr.coef_, clr.interc...</td>\n",
              "      <td>100</td>\n",
              "    </tr>\n",
              "    <tr>\n",
              "      <td>python-linreg</td>\n",
              "      <td>5.429431e-06</td>\n",
              "      <td>1.680433e-06</td>\n",
              "      <td>9.941000e-06</td>\n",
              "      <td>1.139767e-05</td>\n",
              "      <td>4.493333e-06</td>\n",
              "      <td>1000</td>\n",
              "      <td>4.367000e-06</td>\n",
              "      <td>8.237000e-06</td>\n",
              "      <td>predict_clr_python_loop(z, coef, intercept)</td>\n",
              "      <td>100</td>\n",
              "    </tr>\n",
              "    <tr>\n",
              "      <td>cffi-linreg-custom wrapped</td>\n",
              "      <td>5.977490e-06</td>\n",
              "      <td>1.474244e-06</td>\n",
              "      <td>1.025300e-05</td>\n",
              "      <td>8.704667e-06</td>\n",
              "      <td>5.141667e-06</td>\n",
              "      <td>1000</td>\n",
              "      <td>5.003000e-06</td>\n",
              "      <td>8.593000e-06</td>\n",
              "      <td>predict_clr_custom(x)</td>\n",
              "      <td>100</td>\n",
              "    </tr>\n",
              "    <tr>\n",
              "      <td>cffi-linreg-custom-float wrapped</td>\n",
              "      <td>6.365030e-06</td>\n",
              "      <td>2.707499e-06</td>\n",
              "      <td>1.443800e-05</td>\n",
              "      <td>1.581333e-05</td>\n",
              "      <td>5.183000e-06</td>\n",
              "      <td>1000</td>\n",
              "      <td>5.094000e-06</td>\n",
              "      <td>1.123300e-05</td>\n",
              "      <td>predict_clr_custom(x32)</td>\n",
              "      <td>100</td>\n",
              "    </tr>\n",
              "    <tr>\n",
              "      <td>cffi-linreg-wrapped</td>\n",
              "      <td>8.499981e-06</td>\n",
              "      <td>2.593850e-06</td>\n",
              "      <td>1.930100e-05</td>\n",
              "      <td>2.301433e-05</td>\n",
              "      <td>9.639667e-06</td>\n",
              "      <td>1000</td>\n",
              "      <td>6.925000e-06</td>\n",
              "      <td>1.360000e-05</td>\n",
              "      <td>predict_clr(x, clr)</td>\n",
              "      <td>100</td>\n",
              "    </tr>\n",
              "    <tr>\n",
              "      <td>numba-linreg-type-numpy</td>\n",
              "      <td>8.542519e-06</td>\n",
              "      <td>2.292600e-06</td>\n",
              "      <td>1.114100e-05</td>\n",
              "      <td>1.070200e-05</td>\n",
              "      <td>8.175333e-06</td>\n",
              "      <td>1000</td>\n",
              "      <td>7.213000e-06</td>\n",
              "      <td>1.178300e-05</td>\n",
              "      <td>predict_clr_numba_numpy(x[0], clr.coef_, clr.i...</td>\n",
              "      <td>100</td>\n",
              "    </tr>\n",
              "    <tr>\n",
              "      <td>numpy-linreg-numpy</td>\n",
              "      <td>9.529993e-06</td>\n",
              "      <td>2.238715e-06</td>\n",
              "      <td>2.467000e-05</td>\n",
              "      <td>2.012967e-05</td>\n",
              "      <td>9.383667e-06</td>\n",
              "      <td>1000</td>\n",
              "      <td>8.343000e-06</td>\n",
              "      <td>1.244300e-05</td>\n",
              "      <td>predict_clr_numpy(z, coef, clr.intercept_)</td>\n",
              "      <td>100</td>\n",
              "    </tr>\n",
              "    <tr>\n",
              "      <td>onnxruntime-float64</td>\n",
              "      <td>1.274827e-05</td>\n",
              "      <td>3.123604e-06</td>\n",
              "      <td>2.859500e-05</td>\n",
              "      <td>2.096967e-05</td>\n",
              "      <td>1.121667e-05</td>\n",
              "      <td>1000</td>\n",
              "      <td>1.075400e-05</td>\n",
              "      <td>2.081900e-05</td>\n",
              "      <td>predict_onnxrt(x.astype(numpy.float32))</td>\n",
              "      <td>100</td>\n",
              "    </tr>\n",
              "    <tr>\n",
              "      <td>onnxruntime-float32</td>\n",
              "      <td>1.313077e-05</td>\n",
              "      <td>7.585132e-06</td>\n",
              "      <td>2.746100e-05</td>\n",
              "      <td>2.406433e-05</td>\n",
              "      <td>1.211433e-05</td>\n",
              "      <td>1000</td>\n",
              "      <td>9.342000e-06</td>\n",
              "      <td>2.424900e-05</td>\n",
              "      <td>predict_onnxrt(x32)</td>\n",
              "      <td>100</td>\n",
              "    </tr>\n",
              "    <tr>\n",
              "      <td>numba-linreg-notype</td>\n",
              "      <td>2.937788e-05</td>\n",
              "      <td>9.797700e-06</td>\n",
              "      <td>2.517300e-05</td>\n",
              "      <td>5.948667e-05</td>\n",
              "      <td>3.185400e-05</td>\n",
              "      <td>1000</td>\n",
              "      <td>2.360400e-05</td>\n",
              "      <td>4.954300e-05</td>\n",
              "      <td>predict_clr_numba(z, clr.coef_, clr.intercept_)</td>\n",
              "      <td>100</td>\n",
              "    </tr>\n",
              "    <tr>\n",
              "      <td>sklearn.predict</td>\n",
              "      <td>4.888248e-05</td>\n",
              "      <td>1.273852e-05</td>\n",
              "      <td>1.063140e-04</td>\n",
              "      <td>1.297223e-04</td>\n",
              "      <td>4.166000e-05</td>\n",
              "      <td>1000</td>\n",
              "      <td>4.140200e-05</td>\n",
              "      <td>7.901700e-05</td>\n",
              "      <td>clr.predict(z)</td>\n",
              "      <td>100</td>\n",
              "    </tr>\n",
              "  </tbody>\n",
              "</table>\n",
              "</div>"
            ],
            "text/plain": [
              "                                       average     deviation         first  \\\n",
              "legend                                                                       \n",
              "cffi-linreg-custom-float32-simd   4.555090e-07  2.434230e-07  6.150000e-07   \n",
              "cffi-linreg-custom                4.938620e-07  2.187442e-07  1.265000e-06   \n",
              "cffi-linreg-custom-float32        5.328840e-07  5.210403e-07  7.577000e-06   \n",
              "numba-linreg-type-float32         7.933220e-07  6.861051e-07  7.070000e-07   \n",
              "cffi-linreg                       9.852930e-07  1.391556e-06  3.222000e-06   \n",
              "numba-linreg-type                 1.041028e-06  4.707631e-07  1.128000e-06   \n",
              "numba-linreg-type-custom          1.043290e-06  6.153153e-07  8.910000e-07   \n",
              "cython-linreg-type                1.699581e-06  6.032213e-07  3.837000e-06   \n",
              "python-linreg-custom              3.398032e-06  1.199968e-06  3.790000e-06   \n",
              "cython-linreg                     4.325581e-06  6.973983e-07  4.418000e-06   \n",
              "python-linreg                     5.429431e-06  1.680433e-06  9.941000e-06   \n",
              "cffi-linreg-custom wrapped        5.977490e-06  1.474244e-06  1.025300e-05   \n",
              "cffi-linreg-custom-float wrapped  6.365030e-06  2.707499e-06  1.443800e-05   \n",
              "cffi-linreg-wrapped               8.499981e-06  2.593850e-06  1.930100e-05   \n",
              "numba-linreg-type-numpy           8.542519e-06  2.292600e-06  1.114100e-05   \n",
              "numpy-linreg-numpy                9.529993e-06  2.238715e-06  2.467000e-05   \n",
              "onnxruntime-float64               1.274827e-05  3.123604e-06  2.859500e-05   \n",
              "onnxruntime-float32               1.313077e-05  7.585132e-06  2.746100e-05   \n",
              "numba-linreg-notype               2.937788e-05  9.797700e-06  2.517300e-05   \n",
              "sklearn.predict                   4.888248e-05  1.273852e-05  1.063140e-04   \n",
              "\n",
              "                                        first3         last3  repeat  \\\n",
              "legend                                                                 \n",
              "cffi-linreg-custom-float32-simd   6.093333e-07  3.370000e-07    1000   \n",
              "cffi-linreg-custom                6.626667e-07  3.600000e-07    1000   \n",
              "cffi-linreg-custom-float32        3.614000e-06  3.693333e-07    1000   \n",
              "numba-linreg-type-float32         6.353333e-07  5.800000e-07    1000   \n",
              "cffi-linreg                       3.122333e-06  5.813333e-07    1000   \n",
              "numba-linreg-type                 9.326667e-07  8.393333e-07    1000   \n",
              "numba-linreg-type-custom          9.123333e-07  7.183333e-07    1000   \n",
              "cython-linreg-type                4.730333e-06  1.546667e-06    1000   \n",
              "python-linreg-custom              4.507667e-06  2.915667e-06    1000   \n",
              "cython-linreg                     4.213333e-06  4.037333e-06    1000   \n",
              "python-linreg                     1.139767e-05  4.493333e-06    1000   \n",
              "cffi-linreg-custom wrapped        8.704667e-06  5.141667e-06    1000   \n",
              "cffi-linreg-custom-float wrapped  1.581333e-05  5.183000e-06    1000   \n",
              "cffi-linreg-wrapped               2.301433e-05  9.639667e-06    1000   \n",
              "numba-linreg-type-numpy           1.070200e-05  8.175333e-06    1000   \n",
              "numpy-linreg-numpy                2.012967e-05  9.383667e-06    1000   \n",
              "onnxruntime-float64               2.096967e-05  1.121667e-05    1000   \n",
              "onnxruntime-float32               2.406433e-05  1.211433e-05    1000   \n",
              "numba-linreg-notype               5.948667e-05  3.185400e-05    1000   \n",
              "sklearn.predict                   1.297223e-04  4.166000e-05    1000   \n",
              "\n",
              "                                          min5          max5  \\\n",
              "legend                                                         \n",
              "cffi-linreg-custom-float32-simd   3.350000e-07  7.870000e-07   \n",
              "cffi-linreg-custom                3.590000e-07  8.320000e-07   \n",
              "cffi-linreg-custom-float32        3.680000e-07  9.280000e-07   \n",
              "numba-linreg-type-float32         5.770000e-07  1.539000e-06   \n",
              "cffi-linreg                       4.990000e-07  1.645000e-06   \n",
              "numba-linreg-type                 8.350000e-07  1.890000e-06   \n",
              "numba-linreg-type-custom          7.180000e-07  1.945000e-06   \n",
              "cython-linreg-type                1.415000e-06  2.928000e-06   \n",
              "python-linreg-custom              2.690000e-06  5.906000e-06   \n",
              "cython-linreg                     3.764000e-06  5.543000e-06   \n",
              "python-linreg                     4.367000e-06  8.237000e-06   \n",
              "cffi-linreg-custom wrapped        5.003000e-06  8.593000e-06   \n",
              "cffi-linreg-custom-float wrapped  5.094000e-06  1.123300e-05   \n",
              "cffi-linreg-wrapped               6.925000e-06  1.360000e-05   \n",
              "numba-linreg-type-numpy           7.213000e-06  1.178300e-05   \n",
              "numpy-linreg-numpy                8.343000e-06  1.244300e-05   \n",
              "onnxruntime-float64               1.075400e-05  2.081900e-05   \n",
              "onnxruntime-float32               9.342000e-06  2.424900e-05   \n",
              "numba-linreg-notype               2.360400e-05  4.954300e-05   \n",
              "sklearn.predict                   4.140200e-05  7.901700e-05   \n",
              "\n",
              "                                                                               code  \\\n",
              "legend                                                                                \n",
              "cffi-linreg-custom-float32-simd          linreg_custom_float_simd(cptr_x, cptr_out)   \n",
              "cffi-linreg-custom                                  linreg_custom(cptr_x, cptr_out)   \n",
              "cffi-linreg-custom-float32                    linreg_custom_float(cptr_x, cptr_out)   \n",
              "numba-linreg-type-float32               predict_clr_numba_cast_float(x32, c32, i32)   \n",
              "cffi-linreg                       lib.linreg(n, cptr_x, cptr_coef, clr.intercept...   \n",
              "numba-linreg-type                 predict_clr_numba_cast(x[0], clr.coef_, clr.in...   \n",
              "numba-linreg-type-custom                        predict_clr_numba_cast_custom(x[0])   \n",
              "cython-linreg-type                predict_clr_cython_type(x[0], clr.coef_, clr.i...   \n",
              "python-linreg-custom                                          predict_clr_python(z)   \n",
              "cython-linreg                     predict_clr_cython(x[0], clr.coef_, clr.interc...   \n",
              "python-linreg                           predict_clr_python_loop(z, coef, intercept)   \n",
              "cffi-linreg-custom wrapped                                    predict_clr_custom(x)   \n",
              "cffi-linreg-custom-float wrapped                            predict_clr_custom(x32)   \n",
              "cffi-linreg-wrapped                                             predict_clr(x, clr)   \n",
              "numba-linreg-type-numpy           predict_clr_numba_numpy(x[0], clr.coef_, clr.i...   \n",
              "numpy-linreg-numpy                       predict_clr_numpy(z, coef, clr.intercept_)   \n",
              "onnxruntime-float64                         predict_onnxrt(x.astype(numpy.float32))   \n",
              "onnxruntime-float32                                             predict_onnxrt(x32)   \n",
              "numba-linreg-notype                 predict_clr_numba(z, clr.coef_, clr.intercept_)   \n",
              "sklearn.predict                                                      clr.predict(z)   \n",
              "\n",
              "                                  run  \n",
              "legend                                 \n",
              "cffi-linreg-custom-float32-simd   100  \n",
              "cffi-linreg-custom                100  \n",
              "cffi-linreg-custom-float32        100  \n",
              "numba-linreg-type-float32         100  \n",
              "cffi-linreg                       100  \n",
              "numba-linreg-type                 100  \n",
              "numba-linreg-type-custom          100  \n",
              "cython-linreg-type                100  \n",
              "python-linreg-custom              100  \n",
              "cython-linreg                     100  \n",
              "python-linreg                     100  \n",
              "cffi-linreg-custom wrapped        100  \n",
              "cffi-linreg-custom-float wrapped  100  \n",
              "cffi-linreg-wrapped               100  \n",
              "numba-linreg-type-numpy           100  \n",
              "numpy-linreg-numpy                100  \n",
              "onnxruntime-float64               100  \n",
              "onnxruntime-float32               100  \n",
              "numba-linreg-notype               100  \n",
              "sklearn.predict                   100  "
            ]
          },
          "execution_count": 72,
          "metadata": {},
          "output_type": "execute_result"
        }
      ],
      "source": [
        "import pandas\n",
        "df = pandas.DataFrame(data=memo_time)\n",
        "df = df.set_index(\"legend\").sort_values(\"average\")\n",
        "df"
      ]
    },
    {
      "cell_type": "markdown",
      "metadata": {},
      "source": [
        "On enl\u00e8ve quelques colonnes et on rappelle :\n",
        "\n",
        "* **cffi**: signifie optimis\u00e9 avec cffi\n",
        "* **custom**: pas de boucle mais la fonction ne peut pr\u00e9dire qu'une seule r\u00e9gression lin\u00e9aire\n",
        "* **float32**: utilise des float et non des double\n",
        "* **linreg**: r\u00e9gression lin\u00e9aire\n",
        "* **numba**: optimisation avec numba\n",
        "* **numpy**: optimisation avec numpy\n",
        "* **python**: pas de C, que du python\n",
        "* **simd**: optimis\u00e9 avec les instructions SIMD\n",
        "* **sklearn**: fonction sklearn.predict\n",
        "* **static**: la fonction utilise des variables statiques\n",
        "* **type**: la fonction est typ\u00e9e et ne fonctionne qu'avec un type pr\u00e9cis en entr\u00e9e.\n",
        "* **wrapped**: code optimis\u00e9 mais embabll\u00e9 dans une fonction Python qui elle ne l'est pas (les containers sont recr\u00e9\u00e9s \u00e0 chaque fois)"
      ]
    },
    {
      "cell_type": "code",
      "execution_count": 72,
      "metadata": {
        "scrolled": false
      },
      "outputs": [
        {
          "data": {
            "text/html": [
              "<div>\n",
              "<style scoped>\n",
              "    .dataframe tbody tr th:only-of-type {\n",
              "        vertical-align: middle;\n",
              "    }\n",
              "\n",
              "    .dataframe tbody tr th {\n",
              "        vertical-align: top;\n",
              "    }\n",
              "\n",
              "    .dataframe thead th {\n",
              "        text-align: right;\n",
              "    }\n",
              "</style>\n",
              "<table border=\"1\" class=\"dataframe\">\n",
              "  <thead>\n",
              "    <tr style=\"text-align: right;\">\n",
              "      <th></th>\n",
              "      <th>average</th>\n",
              "      <th>deviation</th>\n",
              "      <th>min5</th>\n",
              "      <th>max5</th>\n",
              "      <th>run</th>\n",
              "      <th>code</th>\n",
              "    </tr>\n",
              "    <tr>\n",
              "      <th>legend</th>\n",
              "      <th></th>\n",
              "      <th></th>\n",
              "      <th></th>\n",
              "      <th></th>\n",
              "      <th></th>\n",
              "      <th></th>\n",
              "    </tr>\n",
              "  </thead>\n",
              "  <tbody>\n",
              "    <tr>\n",
              "      <td>cffi-linreg-custom-float32-simd</td>\n",
              "      <td>4.555090e-07</td>\n",
              "      <td>2.434230e-07</td>\n",
              "      <td>3.350000e-07</td>\n",
              "      <td>7.870000e-07</td>\n",
              "      <td>100</td>\n",
              "      <td>linreg_custom_float_simd(cptr_x, cptr_out)</td>\n",
              "    </tr>\n",
              "    <tr>\n",
              "      <td>cffi-linreg-custom</td>\n",
              "      <td>4.938620e-07</td>\n",
              "      <td>2.187442e-07</td>\n",
              "      <td>3.590000e-07</td>\n",
              "      <td>8.320000e-07</td>\n",
              "      <td>100</td>\n",
              "      <td>linreg_custom(cptr_x, cptr_out)</td>\n",
              "    </tr>\n",
              "    <tr>\n",
              "      <td>cffi-linreg-custom-float32</td>\n",
              "      <td>5.328840e-07</td>\n",
              "      <td>5.210403e-07</td>\n",
              "      <td>3.680000e-07</td>\n",
              "      <td>9.280000e-07</td>\n",
              "      <td>100</td>\n",
              "      <td>linreg_custom_float(cptr_x, cptr_out)</td>\n",
              "    </tr>\n",
              "    <tr>\n",
              "      <td>numba-linreg-type-float32</td>\n",
              "      <td>7.933220e-07</td>\n",
              "      <td>6.861051e-07</td>\n",
              "      <td>5.770000e-07</td>\n",
              "      <td>1.539000e-06</td>\n",
              "      <td>100</td>\n",
              "      <td>predict_clr_numba_cast_float(x32, c32, i32)</td>\n",
              "    </tr>\n",
              "    <tr>\n",
              "      <td>cffi-linreg</td>\n",
              "      <td>9.852930e-07</td>\n",
              "      <td>1.391556e-06</td>\n",
              "      <td>4.990000e-07</td>\n",
              "      <td>1.645000e-06</td>\n",
              "      <td>100</td>\n",
              "      <td>lib.linreg(n, cptr_x, cptr_coef, clr.intercept...</td>\n",
              "    </tr>\n",
              "    <tr>\n",
              "      <td>numba-linreg-type</td>\n",
              "      <td>1.041028e-06</td>\n",
              "      <td>4.707631e-07</td>\n",
              "      <td>8.350000e-07</td>\n",
              "      <td>1.890000e-06</td>\n",
              "      <td>100</td>\n",
              "      <td>predict_clr_numba_cast(x[0], clr.coef_, clr.in...</td>\n",
              "    </tr>\n",
              "    <tr>\n",
              "      <td>numba-linreg-type-custom</td>\n",
              "      <td>1.043290e-06</td>\n",
              "      <td>6.153153e-07</td>\n",
              "      <td>7.180000e-07</td>\n",
              "      <td>1.945000e-06</td>\n",
              "      <td>100</td>\n",
              "      <td>predict_clr_numba_cast_custom(x[0])</td>\n",
              "    </tr>\n",
              "    <tr>\n",
              "      <td>cython-linreg-type</td>\n",
              "      <td>1.699581e-06</td>\n",
              "      <td>6.032213e-07</td>\n",
              "      <td>1.415000e-06</td>\n",
              "      <td>2.928000e-06</td>\n",
              "      <td>100</td>\n",
              "      <td>predict_clr_cython_type(x[0], clr.coef_, clr.i...</td>\n",
              "    </tr>\n",
              "    <tr>\n",
              "      <td>python-linreg-custom</td>\n",
              "      <td>3.398032e-06</td>\n",
              "      <td>1.199968e-06</td>\n",
              "      <td>2.690000e-06</td>\n",
              "      <td>5.906000e-06</td>\n",
              "      <td>100</td>\n",
              "      <td>predict_clr_python(z)</td>\n",
              "    </tr>\n",
              "    <tr>\n",
              "      <td>cython-linreg</td>\n",
              "      <td>4.325581e-06</td>\n",
              "      <td>6.973983e-07</td>\n",
              "      <td>3.764000e-06</td>\n",
              "      <td>5.543000e-06</td>\n",
              "      <td>100</td>\n",
              "      <td>predict_clr_cython(x[0], clr.coef_, clr.interc...</td>\n",
              "    </tr>\n",
              "    <tr>\n",
              "      <td>python-linreg</td>\n",
              "      <td>5.429431e-06</td>\n",
              "      <td>1.680433e-06</td>\n",
              "      <td>4.367000e-06</td>\n",
              "      <td>8.237000e-06</td>\n",
              "      <td>100</td>\n",
              "      <td>predict_clr_python_loop(z, coef, intercept)</td>\n",
              "    </tr>\n",
              "    <tr>\n",
              "      <td>cffi-linreg-custom wrapped</td>\n",
              "      <td>5.977490e-06</td>\n",
              "      <td>1.474244e-06</td>\n",
              "      <td>5.003000e-06</td>\n",
              "      <td>8.593000e-06</td>\n",
              "      <td>100</td>\n",
              "      <td>predict_clr_custom(x)</td>\n",
              "    </tr>\n",
              "    <tr>\n",
              "      <td>cffi-linreg-custom-float wrapped</td>\n",
              "      <td>6.365030e-06</td>\n",
              "      <td>2.707499e-06</td>\n",
              "      <td>5.094000e-06</td>\n",
              "      <td>1.123300e-05</td>\n",
              "      <td>100</td>\n",
              "      <td>predict_clr_custom(x32)</td>\n",
              "    </tr>\n",
              "    <tr>\n",
              "      <td>cffi-linreg-wrapped</td>\n",
              "      <td>8.499981e-06</td>\n",
              "      <td>2.593850e-06</td>\n",
              "      <td>6.925000e-06</td>\n",
              "      <td>1.360000e-05</td>\n",
              "      <td>100</td>\n",
              "      <td>predict_clr(x, clr)</td>\n",
              "    </tr>\n",
              "    <tr>\n",
              "      <td>numba-linreg-type-numpy</td>\n",
              "      <td>8.542519e-06</td>\n",
              "      <td>2.292600e-06</td>\n",
              "      <td>7.213000e-06</td>\n",
              "      <td>1.178300e-05</td>\n",
              "      <td>100</td>\n",
              "      <td>predict_clr_numba_numpy(x[0], clr.coef_, clr.i...</td>\n",
              "    </tr>\n",
              "    <tr>\n",
              "      <td>numpy-linreg-numpy</td>\n",
              "      <td>9.529993e-06</td>\n",
              "      <td>2.238715e-06</td>\n",
              "      <td>8.343000e-06</td>\n",
              "      <td>1.244300e-05</td>\n",
              "      <td>100</td>\n",
              "      <td>predict_clr_numpy(z, coef, clr.intercept_)</td>\n",
              "    </tr>\n",
              "    <tr>\n",
              "      <td>onnxruntime-float64</td>\n",
              "      <td>1.274827e-05</td>\n",
              "      <td>3.123604e-06</td>\n",
              "      <td>1.075400e-05</td>\n",
              "      <td>2.081900e-05</td>\n",
              "      <td>100</td>\n",
              "      <td>predict_onnxrt(x.astype(numpy.float32))</td>\n",
              "    </tr>\n",
              "    <tr>\n",
              "      <td>onnxruntime-float32</td>\n",
              "      <td>1.313077e-05</td>\n",
              "      <td>7.585132e-06</td>\n",
              "      <td>9.342000e-06</td>\n",
              "      <td>2.424900e-05</td>\n",
              "      <td>100</td>\n",
              "      <td>predict_onnxrt(x32)</td>\n",
              "    </tr>\n",
              "    <tr>\n",
              "      <td>numba-linreg-notype</td>\n",
              "      <td>2.937788e-05</td>\n",
              "      <td>9.797700e-06</td>\n",
              "      <td>2.360400e-05</td>\n",
              "      <td>4.954300e-05</td>\n",
              "      <td>100</td>\n",
              "      <td>predict_clr_numba(z, clr.coef_, clr.intercept_)</td>\n",
              "    </tr>\n",
              "    <tr>\n",
              "      <td>sklearn.predict</td>\n",
              "      <td>4.888248e-05</td>\n",
              "      <td>1.273852e-05</td>\n",
              "      <td>4.140200e-05</td>\n",
              "      <td>7.901700e-05</td>\n",
              "      <td>100</td>\n",
              "      <td>clr.predict(z)</td>\n",
              "    </tr>\n",
              "  </tbody>\n",
              "</table>\n",
              "</div>"
            ],
            "text/plain": [
              "                                       average     deviation          min5  \\\n",
              "legend                                                                       \n",
              "cffi-linreg-custom-float32-simd   4.555090e-07  2.434230e-07  3.350000e-07   \n",
              "cffi-linreg-custom                4.938620e-07  2.187442e-07  3.590000e-07   \n",
              "cffi-linreg-custom-float32        5.328840e-07  5.210403e-07  3.680000e-07   \n",
              "numba-linreg-type-float32         7.933220e-07  6.861051e-07  5.770000e-07   \n",
              "cffi-linreg                       9.852930e-07  1.391556e-06  4.990000e-07   \n",
              "numba-linreg-type                 1.041028e-06  4.707631e-07  8.350000e-07   \n",
              "numba-linreg-type-custom          1.043290e-06  6.153153e-07  7.180000e-07   \n",
              "cython-linreg-type                1.699581e-06  6.032213e-07  1.415000e-06   \n",
              "python-linreg-custom              3.398032e-06  1.199968e-06  2.690000e-06   \n",
              "cython-linreg                     4.325581e-06  6.973983e-07  3.764000e-06   \n",
              "python-linreg                     5.429431e-06  1.680433e-06  4.367000e-06   \n",
              "cffi-linreg-custom wrapped        5.977490e-06  1.474244e-06  5.003000e-06   \n",
              "cffi-linreg-custom-float wrapped  6.365030e-06  2.707499e-06  5.094000e-06   \n",
              "cffi-linreg-wrapped               8.499981e-06  2.593850e-06  6.925000e-06   \n",
              "numba-linreg-type-numpy           8.542519e-06  2.292600e-06  7.213000e-06   \n",
              "numpy-linreg-numpy                9.529993e-06  2.238715e-06  8.343000e-06   \n",
              "onnxruntime-float64               1.274827e-05  3.123604e-06  1.075400e-05   \n",
              "onnxruntime-float32               1.313077e-05  7.585132e-06  9.342000e-06   \n",
              "numba-linreg-notype               2.937788e-05  9.797700e-06  2.360400e-05   \n",
              "sklearn.predict                   4.888248e-05  1.273852e-05  4.140200e-05   \n",
              "\n",
              "                                          max5  run  \\\n",
              "legend                                                \n",
              "cffi-linreg-custom-float32-simd   7.870000e-07  100   \n",
              "cffi-linreg-custom                8.320000e-07  100   \n",
              "cffi-linreg-custom-float32        9.280000e-07  100   \n",
              "numba-linreg-type-float32         1.539000e-06  100   \n",
              "cffi-linreg                       1.645000e-06  100   \n",
              "numba-linreg-type                 1.890000e-06  100   \n",
              "numba-linreg-type-custom          1.945000e-06  100   \n",
              "cython-linreg-type                2.928000e-06  100   \n",
              "python-linreg-custom              5.906000e-06  100   \n",
              "cython-linreg                     5.543000e-06  100   \n",
              "python-linreg                     8.237000e-06  100   \n",
              "cffi-linreg-custom wrapped        8.593000e-06  100   \n",
              "cffi-linreg-custom-float wrapped  1.123300e-05  100   \n",
              "cffi-linreg-wrapped               1.360000e-05  100   \n",
              "numba-linreg-type-numpy           1.178300e-05  100   \n",
              "numpy-linreg-numpy                1.244300e-05  100   \n",
              "onnxruntime-float64               2.081900e-05  100   \n",
              "onnxruntime-float32               2.424900e-05  100   \n",
              "numba-linreg-notype               4.954300e-05  100   \n",
              "sklearn.predict                   7.901700e-05  100   \n",
              "\n",
              "                                                                               code  \n",
              "legend                                                                               \n",
              "cffi-linreg-custom-float32-simd          linreg_custom_float_simd(cptr_x, cptr_out)  \n",
              "cffi-linreg-custom                                  linreg_custom(cptr_x, cptr_out)  \n",
              "cffi-linreg-custom-float32                    linreg_custom_float(cptr_x, cptr_out)  \n",
              "numba-linreg-type-float32               predict_clr_numba_cast_float(x32, c32, i32)  \n",
              "cffi-linreg                       lib.linreg(n, cptr_x, cptr_coef, clr.intercept...  \n",
              "numba-linreg-type                 predict_clr_numba_cast(x[0], clr.coef_, clr.in...  \n",
              "numba-linreg-type-custom                        predict_clr_numba_cast_custom(x[0])  \n",
              "cython-linreg-type                predict_clr_cython_type(x[0], clr.coef_, clr.i...  \n",
              "python-linreg-custom                                          predict_clr_python(z)  \n",
              "cython-linreg                     predict_clr_cython(x[0], clr.coef_, clr.interc...  \n",
              "python-linreg                           predict_clr_python_loop(z, coef, intercept)  \n",
              "cffi-linreg-custom wrapped                                    predict_clr_custom(x)  \n",
              "cffi-linreg-custom-float wrapped                            predict_clr_custom(x32)  \n",
              "cffi-linreg-wrapped                                             predict_clr(x, clr)  \n",
              "numba-linreg-type-numpy           predict_clr_numba_numpy(x[0], clr.coef_, clr.i...  \n",
              "numpy-linreg-numpy                       predict_clr_numpy(z, coef, clr.intercept_)  \n",
              "onnxruntime-float64                         predict_onnxrt(x.astype(numpy.float32))  \n",
              "onnxruntime-float32                                             predict_onnxrt(x32)  \n",
              "numba-linreg-notype                 predict_clr_numba(z, clr.coef_, clr.intercept_)  \n",
              "sklearn.predict                                                      clr.predict(z)  "
            ]
          },
          "execution_count": 73,
          "metadata": {},
          "output_type": "execute_result"
        }
      ],
      "source": [
        "cols = [\"average\", \"deviation\", \"min5\", \"max5\", \"run\", \"code\"]\n",
        "df[cols]"
      ]
    },
    {
      "cell_type": "code",
      "execution_count": 73,
      "metadata": {},
      "outputs": [
        {
          "data": {
            "image/png": "[encoded data removed]",
            "text/plain": [
              "<Figure size 1008x432 with 1 Axes>"
            ]
          },
          "metadata": {
            "needs_background": "light"
          },
          "output_type": "display_data"
        }
      ],
      "source": [
        "%matplotlib inline\n",
        "import matplotlib.pyplot as plt\n",
        "fig, ax = plt.subplots(1, 1, figsize=(14,6))\n",
        "df[[\"average\", \"deviation\"]].plot(kind=\"barh\", logx=True, ax=ax, xerr=\"deviation\",\n",
        "                                  legend=False, fontsize=12, width=0.8)\n",
        "ax.set_ylabel(\"\")\n",
        "ax.grid(b=True, which=\"major\")\n",
        "ax.grid(b=True, which=\"minor\");"
      ]
    },
    {
      "cell_type": "markdown",
      "metadata": {},
      "source": [
        "Il manque \u00e0 ce comparatif le [GPU](https://en.wikipedia.org/wiki/Graphics_processing_unit) mais c'est un peu plus complexe \u00e0 mettre en oeuvre, il faut une carte [GPU](https://fr.wikipedia.org/wiki/Processeur_graphique) et la parall\u00e9lisation n'apporterait pas \u00e9norm\u00e9ment compte tenu de la faible dimension du probl\u00e8me."
      ]
    },
    {
      "cell_type": "markdown",
      "metadata": {},
      "source": [
        "### Pr\u00e9diction one-off et biais de mesure\n",
        "\n",
        "Le graphique pr\u00e9c\u00e9dent montre que la fonction ``predict`` de *scikit-learn* est la plus lente. La premi\u00e8re raison est que ce code est valable pour toutes les r\u00e9gresssions lin\u00e9aires alors que toutes les autres fonctions sont sp\u00e9cialis\u00e9es pour un seul mod\u00e8le. La seconde raison est que le code de *scikit-learn* est optimis\u00e9 pour le calcul de plusieurs pr\u00e9dictions \u00e0 la fois alors que toutes les autres fonctions n'en calcule qu'une seule (sc\u00e9nario dit *one-off*). On compare \u00e0 ce que donnerait unev version purement python et numpy."
      ]
    },
    {
      "cell_type": "code",
      "execution_count": 74,
      "metadata": {},
      "outputs": [
        {
          "data": {
            "text/plain": [
              "array([[197.61846908],\n",
              "       [155.43979328]])"
            ]
          },
          "execution_count": 75,
          "metadata": {},
          "output_type": "execute_result"
        }
      ],
      "source": [
        "def predict_clr_python_loop_multi(x, coef, intercept):    \n",
        "    # On s'attend \u00e0 deux dimension.\n",
        "    res = numpy.zeros((x.shape[0], 1))\n",
        "    res[:, 0] = intercept\n",
        "    for i in range(0, x.shape[0]):\n",
        "        res[i, 0] += sum(a*b for a, b in zip(x[i, :], coef))\n",
        "    return res\n",
        "\n",
        "predict_clr_python_loop_multi(diabetes_X_test[:2], clr.coef_, clr.intercept_)"
      ]
    },
    {
      "cell_type": "code",
      "execution_count": 75,
      "metadata": {},
      "outputs": [
        {
          "data": {
            "text/plain": [
              "array([[197.61846908],\n",
              "       [155.43979328]])"
            ]
          },
          "execution_count": 76,
          "metadata": {},
          "output_type": "execute_result"
        }
      ],
      "source": [
        "def predict_clr_numpy_loop_multi(x, coef, intercept):    \n",
        "    # On s'attend \u00e0 deux dimension.\n",
        "    res = numpy.ones((x.shape[0], 1)) * intercept\n",
        "    res += x @ coef.reshape((len(coef), 1))\n",
        "    return res\n",
        "\n",
        "predict_clr_numpy_loop_multi(diabetes_X_test[:2], clr.coef_, clr.intercept_)"
      ]
    },
    {
      "cell_type": "code",
      "execution_count": 76,
      "metadata": {},
      "outputs": [
        {
          "data": {
            "text/plain": [
              "[197.61846907503298, 155.43979327521237]"
            ]
          },
          "execution_count": 77,
          "metadata": {},
          "output_type": "execute_result"
        }
      ],
      "source": [
        "def predict_clr_numba_cast_multi(X, coef, intercept):\n",
        "    return [predict_clr_numba_cast(x, coef, intercept) for x in X]\n",
        "\n",
        "predict_clr_numba_cast_multi(diabetes_X_test[:2], clr.coef_, clr.intercept_)"
      ]
    },
    {
      "cell_type": "code",
      "execution_count": 77,
      "metadata": {},
      "outputs": [
        {
          "data": {
            "text/plain": [
              "[197.61846907503298, 155.43979327521237]"
            ]
          },
          "execution_count": 78,
          "metadata": {},
          "output_type": "execute_result"
        }
      ],
      "source": [
        "def predict_clr_cython_type_multi(X, coef, intercept):\n",
        "    return [predict_clr_cython_type(x, coef, intercept) for x in X]\n",
        "\n",
        "predict_clr_cython_type_multi(diabetes_X_test[:2], clr.coef_, clr.intercept_)"
      ]
    },
    {
      "cell_type": "code",
      "execution_count": 78,
      "metadata": {
        "scrolled": false
      },
      "outputs": [
        {
          "name": "stdout",
          "output_type": "stream",
          "text": [
            "batch = 1\n",
            "Moyenne: 50.35 \u00b5s Ecart-type 23.49 \u00b5s (with 10 runs) in [40.27 \u00b5s, 79.36 \u00b5s]\n",
            "Moyenne: 9.94 \u00b5s Ecart-type 1.25 \u00b5s (with 10 runs) in [9.40 \u00b5s, 14.17 \u00b5s]\n",
            "Moyenne: 9.97 \u00b5s Ecart-type 3.45 \u00b5s (with 10 runs) in [8.65 \u00b5s, 13.33 \u00b5s]\n",
            "Moyenne: 2.37 \u00b5s Ecart-type 334.38 ns (with 10 runs) in [2.28 \u00b5s, 3.68 \u00b5s]\n",
            "Moyenne: 2.99 \u00b5s Ecart-type 608.86 ns (with 10 runs) in [2.72 \u00b5s, 4.30 \u00b5s]\n",
            "Moyenne: 12.64 \u00b5s Ecart-type 4.66 \u00b5s (with 10 runs) in [10.74 \u00b5s, 22.58 \u00b5s]\n",
            "batch = 10\n",
            "Moyenne: 47.90 \u00b5s Ecart-type 10.74 \u00b5s (with 10 runs) in [40.60 \u00b5s, 69.84 \u00b5s]\n",
            "Moyenne: 91.47 \u00b5s Ecart-type 21.35 \u00b5s (with 10 runs) in [76.69 \u00b5s, 162.05 \u00b5s]\n",
            "Moyenne: 9.04 \u00b5s Ecart-type 2.60 \u00b5s (with 10 runs) in [8.34 \u00b5s, 12.59 \u00b5s]\n",
            "Moyenne: 10.53 \u00b5s Ecart-type 3.26 \u00b5s (with 10 runs) in [8.89 \u00b5s, 15.77 \u00b5s]\n",
            "Moyenne: 15.71 \u00b5s Ecart-type 3.38 \u00b5s (with 10 runs) in [14.42 \u00b5s, 20.20 \u00b5s]\n",
            "Moyenne: 13.88 \u00b5s Ecart-type 4.31 \u00b5s (with 10 runs) in [11.91 \u00b5s, 21.98 \u00b5s]\n",
            "batch = 100\n",
            "Moyenne: 57.76 \u00b5s Ecart-type 16.27 \u00b5s (with 10 runs) in [47.91 \u00b5s, 77.18 \u00b5s]\n",
            "Moyenne: 885.09 \u00b5s Ecart-type 131.30 \u00b5s (with 10 runs) in [775.95 \u00b5s, 1.35 ms]\n",
            "Moyenne: 10.77 \u00b5s Ecart-type 7.87 \u00b5s (with 10 runs) in [8.48 \u00b5s, 25.84 \u00b5s]\n",
            "Moyenne: 90.62 \u00b5s Ecart-type 33.39 \u00b5s (with 10 runs) in [73.73 \u00b5s, 173.64 \u00b5s]\n",
            "Moyenne: 144.72 \u00b5s Ecart-type 15.74 \u00b5s (with 10 runs) in [132.52 \u00b5s, 178.49 \u00b5s]\n",
            "Moyenne: 28.30 \u00b5s Ecart-type 11.68 \u00b5s (with 10 runs) in [22.42 \u00b5s, 56.08 \u00b5s]\n",
            "batch = 200\n",
            "Moyenne: 60.08 \u00b5s Ecart-type 15.13 \u00b5s (with 10 runs) in [50.28 \u00b5s, 90.78 \u00b5s]\n",
            "Moyenne: 1.77 ms Ecart-type 195.29 \u00b5s (with 10 runs) in [1.60 ms, 2.24 ms]\n",
            "Moyenne: 11.61 \u00b5s Ecart-type 6.22 \u00b5s (with 10 runs) in [9.39 \u00b5s, 19.78 \u00b5s]\n",
            "Moyenne: 187.73 \u00b5s Ecart-type 38.67 \u00b5s (with 10 runs) in [150.68 \u00b5s, 257.26 \u00b5s]\n",
            "Moyenne: 301.04 \u00b5s Ecart-type 33.93 \u00b5s (with 10 runs) in [269.85 \u00b5s, 365.77 \u00b5s]\n",
            "Moyenne: 37.89 \u00b5s Ecart-type 9.72 \u00b5s (with 10 runs) in [33.59 \u00b5s, 52.36 \u00b5s]\n",
            "batch = 500\n",
            "Moyenne: 51.65 \u00b5s Ecart-type 10.25 \u00b5s (with 10 runs) in [46.24 \u00b5s, 67.69 \u00b5s]\n",
            "Moyenne: 4.50 ms Ecart-type 530.44 \u00b5s (with 10 runs) in [4.02 ms, 6.08 ms]\n",
            "Moyenne: 12.14 \u00b5s Ecart-type 5.46 \u00b5s (with 10 runs) in [11.00 \u00b5s, 14.76 \u00b5s]\n",
            "Moyenne: 463.39 \u00b5s Ecart-type 111.25 \u00b5s (with 10 runs) in [377.28 \u00b5s, 719.88 \u00b5s]\n",
            "Moyenne: 719.70 \u00b5s Ecart-type 59.80 \u00b5s (with 10 runs) in [670.67 \u00b5s, 842.77 \u00b5s]\n",
            "Moyenne: 80.06 \u00b5s Ecart-type 21.94 \u00b5s (with 10 runs) in [66.55 \u00b5s, 144.40 \u00b5s]\n",
            "batch = 1000\n",
            "Moyenne: 71.72 \u00b5s Ecart-type 24.80 \u00b5s (with 10 runs) in [54.10 \u00b5s, 116.16 \u00b5s]\n",
            "Moyenne: 8.54 ms Ecart-type 553.03 \u00b5s (with 10 runs) in [8.12 ms, 10.20 ms]\n",
            "Moyenne: 16.38 \u00b5s Ecart-type 6.89 \u00b5s (with 10 runs) in [15.04 \u00b5s, 18.62 \u00b5s]\n",
            "Moyenne: 891.24 \u00b5s Ecart-type 114.73 \u00b5s (with 10 runs) in [782.39 \u00b5s, 1.09 ms]\n",
            "Moyenne: 1.57 ms Ecart-type 277.73 \u00b5s (with 10 runs) in [1.37 ms, 2.40 ms]\n",
            "Moyenne: 138.39 \u00b5s Ecart-type 37.89 \u00b5s (with 10 runs) in [121.21 \u00b5s, 260.11 \u00b5s]\n",
            "batch = 2000\n",
            "Moyenne: 75.68 \u00b5s Ecart-type 30.55 \u00b5s (with 10 runs) in [61.40 \u00b5s, 172.43 \u00b5s]\n",
            "Moyenne: 21.46 \u00b5s Ecart-type 7.02 \u00b5s (with 10 runs) in [17.78 \u00b5s, 35.19 \u00b5s]\n",
            "Moyenne: 2.22 ms Ecart-type 507.56 \u00b5s (with 10 runs) in [1.69 ms, 3.17 ms]\n",
            "Moyenne: 299.72 \u00b5s Ecart-type 85.13 \u00b5s (with 10 runs) in [233.49 \u00b5s, 506.91 \u00b5s]\n",
            "batch = 3000\n",
            "Moyenne: 82.98 \u00b5s Ecart-type 20.79 \u00b5s (with 10 runs) in [68.78 \u00b5s, 139.49 \u00b5s]\n",
            "Moyenne: 25.64 \u00b5s Ecart-type 8.20 \u00b5s (with 10 runs) in [21.03 \u00b5s, 49.53 \u00b5s]\n",
            "Moyenne: 2.67 ms Ecart-type 409.03 \u00b5s (with 10 runs) in [2.32 ms, 3.65 ms]\n",
            "Moyenne: 404.86 \u00b5s Ecart-type 53.73 \u00b5s (with 10 runs) in [353.84 \u00b5s, 530.68 \u00b5s]\n",
            "batch = 4000\n",
            "Moyenne: 96.00 \u00b5s Ecart-type 19.23 \u00b5s (with 10 runs) in [76.39 \u00b5s, 138.20 \u00b5s]\n",
            "Moyenne: 29.33 \u00b5s Ecart-type 7.03 \u00b5s (with 10 runs) in [23.92 \u00b5s, 41.40 \u00b5s]\n",
            "Moyenne: 4.02 ms Ecart-type 932.71 \u00b5s (with 10 runs) in [3.12 ms, 5.86 ms]\n",
            "Moyenne: 513.18 \u00b5s Ecart-type 58.34 \u00b5s (with 10 runs) in [465.11 \u00b5s, 628.91 \u00b5s]\n",
            "batch = 5000\n",
            "Moyenne: 98.52 \u00b5s Ecart-type 19.78 \u00b5s (with 10 runs) in [80.50 \u00b5s, 138.15 \u00b5s]\n",
            "Moyenne: 41.03 \u00b5s Ecart-type 6.99 \u00b5s (with 10 runs) in [38.43 \u00b5s, 70.88 \u00b5s]\n",
            "Moyenne: 4.64 ms Ecart-type 737.53 \u00b5s (with 10 runs) in [3.99 ms, 7.57 ms]\n",
            "Moyenne: 692.20 \u00b5s Ecart-type 93.68 \u00b5s (with 10 runs) in [600.67 \u00b5s, 956.01 \u00b5s]\n",
            "batch = 10000\n",
            "Moyenne: 142.41 \u00b5s Ecart-type 39.43 \u00b5s (with 10 runs) in [110.04 \u00b5s, 236.68 \u00b5s]\n",
            "Moyenne: 48.44 \u00b5s Ecart-type 14.84 \u00b5s (with 10 runs) in [38.57 \u00b5s, 99.60 \u00b5s]\n",
            "Moyenne: 8.80 ms Ecart-type 711.78 \u00b5s (with 10 runs) in [7.95 ms, 10.70 ms]\n",
            "Moyenne: 1.37 ms Ecart-type 232.85 \u00b5s (with 10 runs) in [1.16 ms, 1.90 ms]\n",
            "batch = 20000\n",
            "Moyenne: 214.34 \u00b5s Ecart-type 35.58 \u00b5s (with 10 runs) in [184.11 \u00b5s, 298.01 \u00b5s]\n",
            "Moyenne: 91.49 \u00b5s Ecart-type 13.14 \u00b5s (with 10 runs) in [64.97 \u00b5s, 107.83 \u00b5s]\n",
            "Moyenne: 2.74 ms Ecart-type 426.36 \u00b5s (with 10 runs) in [2.41 ms, 4.06 ms]\n",
            "batch = 50000\n",
            "Moyenne: 848.59 \u00b5s Ecart-type 126.64 \u00b5s (with 10 runs) in [736.89 \u00b5s, 1.10 ms]\n",
            "Moyenne: 449.14 \u00b5s Ecart-type 213.65 \u00b5s (with 10 runs) in [218.42 \u00b5s, 1.05 ms]\n",
            "Moyenne: 8.82 ms Ecart-type 974.88 \u00b5s (with 10 runs) in [8.16 ms, 11.62 ms]\n",
            "batch = 75000\n",
            "Moyenne: 1.53 ms Ecart-type 257.07 \u00b5s (with 10 runs) in [1.23 ms, 2.03 ms]\n",
            "Moyenne: 402.40 \u00b5s Ecart-type 58.03 \u00b5s (with 10 runs) in [344.18 \u00b5s, 548.16 \u00b5s]\n",
            "Moyenne: 12.99 ms Ecart-type 897.92 \u00b5s (with 10 runs) in [12.37 ms, 16.15 ms]\n",
            "batch = 100000\n",
            "Moyenne: 2.09 ms Ecart-type 361.05 \u00b5s (with 10 runs) in [1.65 ms, 2.80 ms]\n",
            "Moyenne: 578.85 \u00b5s Ecart-type 128.11 \u00b5s (with 10 runs) in [475.55 \u00b5s, 888.45 \u00b5s]\n",
            "Moyenne: 17.41 ms Ecart-type 925.97 \u00b5s (with 10 runs) in [16.55 ms, 20.79 ms]\n",
            "batch = 150000\n",
            "Moyenne: 3.97 ms Ecart-type 362.63 \u00b5s (with 10 runs) in [3.66 ms, 5.27 ms]\n",
            "Moyenne: 2.96 ms Ecart-type 367.98 \u00b5s (with 10 runs) in [2.67 ms, 3.98 ms]\n",
            "Moyenne: 26.08 ms Ecart-type 1.16 ms (with 10 runs) in [24.98 ms, 28.89 ms]\n",
            "batch = 200000\n",
            "Moyenne: 6.32 ms Ecart-type 1.00 ms (with 10 runs) in [5.17 ms, 8.88 ms]\n",
            "Moyenne: 4.46 ms Ecart-type 393.71 \u00b5s (with 10 runs) in [3.98 ms, 5.52 ms]\n",
            "Moyenne: 37.52 ms Ecart-type 2.93 ms (with 10 runs) in [33.46 ms, 44.12 ms]\n",
            "batch = 300000\n",
            "Moyenne: 8.16 ms Ecart-type 665.57 \u00b5s (with 10 runs) in [7.38 ms, 10.13 ms]\n",
            "Moyenne: 6.27 ms Ecart-type 496.69 \u00b5s (with 10 runs) in [5.68 ms, 7.76 ms]\n",
            "Moyenne: 58.99 ms Ecart-type 10.29 ms (with 10 runs) in [52.32 ms, 94.43 ms]\n",
            "batch = 400000\n",
            "Moyenne: 11.32 ms Ecart-type 1.30 ms (with 10 runs) in [9.81 ms, 15.90 ms]\n",
            "Moyenne: 8.24 ms Ecart-type 1.46 ms (with 10 runs) in [7.16 ms, 12.86 ms]\n",
            "Moyenne: 70.63 ms Ecart-type 4.47 ms (with 10 runs) in [66.20 ms, 84.17 ms]\n",
            "batch = 500000\n",
            "Moyenne: 12.85 ms Ecart-type 676.87 \u00b5s (with 10 runs) in [12.20 ms, 14.35 ms]\n",
            "Moyenne: 9.43 ms Ecart-type 459.49 \u00b5s (with 10 runs) in [8.97 ms, 10.61 ms]\n",
            "Moyenne: 85.97 ms Ecart-type 2.29 ms (with 10 runs) in [82.79 ms, 90.99 ms]\n",
            "batch = 600000\n",
            "Moyenne: 17.03 ms Ecart-type 1.72 ms (with 10 runs) in [15.52 ms, 22.10 ms]\n",
            "Moyenne: 11.96 ms Ecart-type 732.75 \u00b5s (with 10 runs) in [11.01 ms, 13.59 ms]\n",
            "Moyenne: 104.53 ms Ecart-type 4.12 ms (with 10 runs) in [100.67 ms, 116.83 ms]\n"
          ]
        }
      ],
      "source": [
        "memo = []\n",
        "batch = [1, 10, 100, 200, 500, 1000, 2000, 3000, 4000, 5000, 10000,\n",
        "         20000, 50000, 75000, 100000, 150000, 200000, 300000, 400000,\n",
        "         500000, 600000]\n",
        "number = 10\n",
        "for i in batch:\n",
        "    if i <= diabetes_X_test.shape[0]:\n",
        "        mx = diabetes_X_test[:i]\n",
        "    else:\n",
        "        mxs = [diabetes_X_test] * (i // diabetes_X_test.shape[0] + 1)\n",
        "        mx = numpy.vstack(mxs)\n",
        "        mx = mx[:i]\n",
        "\n",
        "    print(\"batch\", \"=\", i)\n",
        "    repeat=20 if i >= 5000 else 100\n",
        "    \n",
        "    memo.append(timeexe(\"sklearn.predict %d\" % i, \"clr.predict(mx)\", \n",
        "                        repeat=repeat, number=number))\n",
        "    memo[-1][\"batch\"] = i\n",
        "    memo[-1][\"lib\"] = \"sklearn\"\n",
        "    \n",
        "    if i <= 1000:\n",
        "        # tr\u00e8s lent\n",
        "        memo.append(timeexe(\"python %d\" % i, \"predict_clr_python_loop_multi(mx, clr.coef_, clr.intercept_)\",\n",
        "                            repeat=20, number=number))\n",
        "        memo[-1][\"batch\"] = i\n",
        "        memo[-1][\"lib\"] = \"python\"\n",
        "    \n",
        "    memo.append(timeexe(\"numpy %d\" % i, \"predict_clr_numpy_loop_multi(mx, clr.coef_, clr.intercept_)\",\n",
        "                        repeat=repeat, number=number))\n",
        "    memo[-1][\"batch\"] = i\n",
        "    memo[-1][\"lib\"] = \"numpy\"\n",
        "    \n",
        "    if i <= 10000:\n",
        "        # tr\u00e8s lent\n",
        "        memo.append(timeexe(\"numba %d\" % i, \"predict_clr_numba_cast_multi(mx, clr.coef_, clr.intercept_)\",\n",
        "                            repeat=repeat, number=number))\n",
        "        memo[-1][\"batch\"] = i\n",
        "        memo[-1][\"lib\"] = \"numba\"\n",
        "        \n",
        "    if i <= 1000:\n",
        "        # tr\u00e8s lent\n",
        "        memo.append(timeexe(\"cython %d\" % i, \"predict_clr_cython_type_multi(mx, clr.coef_, clr.intercept_)\",\n",
        "                            repeat=repeat, number=number))\n",
        "        memo[-1][\"batch\"] = i\n",
        "        memo[-1][\"lib\"] = \"cython\"\n",
        "        \n",
        "    if ok_onnx:\n",
        "        memo.append(timeexe(\"onnxruntime %d\" % i, \"predict_onnxrt(mx.astype(numpy.float32))\",\n",
        "                            repeat=repeat, number=number))\n",
        "        memo[-1][\"batch\"] = i\n",
        "        memo[-1][\"lib\"] = \"onnxruntime\""
      ]
    },
    {
      "cell_type": "code",
      "execution_count": 79,
      "metadata": {},
      "outputs": [
        {
          "data": {
            "text/html": [
              "<div>\n",
              "<style scoped>\n",
              "    .dataframe tbody tr th:only-of-type {\n",
              "        vertical-align: middle;\n",
              "    }\n",
              "\n",
              "    .dataframe tbody tr th {\n",
              "        vertical-align: top;\n",
              "    }\n",
              "\n",
              "    .dataframe thead th {\n",
              "        text-align: right;\n",
              "    }\n",
              "</style>\n",
              "<table border=\"1\" class=\"dataframe\">\n",
              "  <thead>\n",
              "    <tr style=\"text-align: right;\">\n",
              "      <th>lib</th>\n",
              "      <th>cython</th>\n",
              "      <th>numba</th>\n",
              "      <th>numpy</th>\n",
              "      <th>onnxruntime</th>\n",
              "      <th>python</th>\n",
              "      <th>sklearn</th>\n",
              "    </tr>\n",
              "    <tr>\n",
              "      <th>batch</th>\n",
              "      <th></th>\n",
              "      <th></th>\n",
              "      <th></th>\n",
              "      <th></th>\n",
              "      <th></th>\n",
              "      <th></th>\n",
              "    </tr>\n",
              "  </thead>\n",
              "  <tbody>\n",
              "    <tr>\n",
              "      <td>1</td>\n",
              "      <td>0.000003</td>\n",
              "      <td>0.000002</td>\n",
              "      <td>0.000010</td>\n",
              "      <td>0.000013</td>\n",
              "      <td>0.000010</td>\n",
              "      <td>0.000050</td>\n",
              "    </tr>\n",
              "    <tr>\n",
              "      <td>10</td>\n",
              "      <td>0.000016</td>\n",
              "      <td>0.000011</td>\n",
              "      <td>0.000009</td>\n",
              "      <td>0.000014</td>\n",
              "      <td>0.000091</td>\n",
              "      <td>0.000048</td>\n",
              "    </tr>\n",
              "    <tr>\n",
              "      <td>100</td>\n",
              "      <td>0.000145</td>\n",
              "      <td>0.000091</td>\n",
              "      <td>0.000011</td>\n",
              "      <td>0.000028</td>\n",
              "      <td>0.000885</td>\n",
              "      <td>0.000058</td>\n",
              "    </tr>\n",
              "    <tr>\n",
              "      <td>200</td>\n",
              "      <td>0.000301</td>\n",
              "      <td>0.000188</td>\n",
              "      <td>0.000012</td>\n",
              "      <td>0.000038</td>\n",
              "      <td>0.001767</td>\n",
              "      <td>0.000060</td>\n",
              "    </tr>\n",
              "    <tr>\n",
              "      <td>500</td>\n",
              "      <td>0.000720</td>\n",
              "      <td>0.000463</td>\n",
              "      <td>0.000012</td>\n",
              "      <td>0.000080</td>\n",
              "      <td>0.004504</td>\n",
              "      <td>0.000052</td>\n",
              "    </tr>\n",
              "    <tr>\n",
              "      <td>1000</td>\n",
              "      <td>0.001569</td>\n",
              "      <td>0.000891</td>\n",
              "      <td>0.000016</td>\n",
              "      <td>0.000138</td>\n",
              "      <td>0.008544</td>\n",
              "      <td>0.000072</td>\n",
              "    </tr>\n",
              "    <tr>\n",
              "      <td>2000</td>\n",
              "      <td>NaN</td>\n",
              "      <td>0.002224</td>\n",
              "      <td>0.000021</td>\n",
              "      <td>0.000300</td>\n",
              "      <td>NaN</td>\n",
              "      <td>0.000076</td>\n",
              "    </tr>\n",
              "    <tr>\n",
              "      <td>3000</td>\n",
              "      <td>NaN</td>\n",
              "      <td>0.002674</td>\n",
              "      <td>0.000026</td>\n",
              "      <td>0.000405</td>\n",
              "      <td>NaN</td>\n",
              "      <td>0.000083</td>\n",
              "    </tr>\n",
              "    <tr>\n",
              "      <td>4000</td>\n",
              "      <td>NaN</td>\n",
              "      <td>0.004018</td>\n",
              "      <td>0.000029</td>\n",
              "      <td>0.000513</td>\n",
              "      <td>NaN</td>\n",
              "      <td>0.000096</td>\n",
              "    </tr>\n",
              "    <tr>\n",
              "      <td>5000</td>\n",
              "      <td>NaN</td>\n",
              "      <td>0.004644</td>\n",
              "      <td>0.000041</td>\n",
              "      <td>0.000692</td>\n",
              "      <td>NaN</td>\n",
              "      <td>0.000099</td>\n",
              "    </tr>\n",
              "    <tr>\n",
              "      <td>10000</td>\n",
              "      <td>NaN</td>\n",
              "      <td>0.008801</td>\n",
              "      <td>0.000048</td>\n",
              "      <td>0.001369</td>\n",
              "      <td>NaN</td>\n",
              "      <td>0.000142</td>\n",
              "    </tr>\n",
              "    <tr>\n",
              "      <td>20000</td>\n",
              "      <td>NaN</td>\n",
              "      <td>NaN</td>\n",
              "      <td>0.000091</td>\n",
              "      <td>0.002738</td>\n",
              "      <td>NaN</td>\n",
              "      <td>0.000214</td>\n",
              "    </tr>\n",
              "    <tr>\n",
              "      <td>50000</td>\n",
              "      <td>NaN</td>\n",
              "      <td>NaN</td>\n",
              "      <td>0.000449</td>\n",
              "      <td>0.008820</td>\n",
              "      <td>NaN</td>\n",
              "      <td>0.000849</td>\n",
              "    </tr>\n",
              "    <tr>\n",
              "      <td>75000</td>\n",
              "      <td>NaN</td>\n",
              "      <td>NaN</td>\n",
              "      <td>0.000402</td>\n",
              "      <td>0.012992</td>\n",
              "      <td>NaN</td>\n",
              "      <td>0.001533</td>\n",
              "    </tr>\n",
              "    <tr>\n",
              "      <td>100000</td>\n",
              "      <td>NaN</td>\n",
              "      <td>NaN</td>\n",
              "      <td>0.000579</td>\n",
              "      <td>0.017411</td>\n",
              "      <td>NaN</td>\n",
              "      <td>0.002090</td>\n",
              "    </tr>\n",
              "    <tr>\n",
              "      <td>150000</td>\n",
              "      <td>NaN</td>\n",
              "      <td>NaN</td>\n",
              "      <td>0.002956</td>\n",
              "      <td>0.026082</td>\n",
              "      <td>NaN</td>\n",
              "      <td>0.003969</td>\n",
              "    </tr>\n",
              "    <tr>\n",
              "      <td>200000</td>\n",
              "      <td>NaN</td>\n",
              "      <td>NaN</td>\n",
              "      <td>0.004460</td>\n",
              "      <td>0.037523</td>\n",
              "      <td>NaN</td>\n",
              "      <td>0.006321</td>\n",
              "    </tr>\n",
              "    <tr>\n",
              "      <td>300000</td>\n",
              "      <td>NaN</td>\n",
              "      <td>NaN</td>\n",
              "      <td>0.006267</td>\n",
              "      <td>0.058988</td>\n",
              "      <td>NaN</td>\n",
              "      <td>0.008155</td>\n",
              "    </tr>\n",
              "    <tr>\n",
              "      <td>400000</td>\n",
              "      <td>NaN</td>\n",
              "      <td>NaN</td>\n",
              "      <td>0.008238</td>\n",
              "      <td>0.070634</td>\n",
              "      <td>NaN</td>\n",
              "      <td>0.011321</td>\n",
              "    </tr>\n",
              "    <tr>\n",
              "      <td>500000</td>\n",
              "      <td>NaN</td>\n",
              "      <td>NaN</td>\n",
              "      <td>0.009431</td>\n",
              "      <td>0.085967</td>\n",
              "      <td>NaN</td>\n",
              "      <td>0.012851</td>\n",
              "    </tr>\n",
              "    <tr>\n",
              "      <td>600000</td>\n",
              "      <td>NaN</td>\n",
              "      <td>NaN</td>\n",
              "      <td>0.011956</td>\n",
              "      <td>0.104532</td>\n",
              "      <td>NaN</td>\n",
              "      <td>0.017034</td>\n",
              "    </tr>\n",
              "  </tbody>\n",
              "</table>\n",
              "</div>"
            ],
            "text/plain": [
              "lib       cython     numba     numpy  onnxruntime    python   sklearn\n",
              "batch                                                                \n",
              "1       0.000003  0.000002  0.000010     0.000013  0.000010  0.000050\n",
              "10      0.000016  0.000011  0.000009     0.000014  0.000091  0.000048\n",
              "100     0.000145  0.000091  0.000011     0.000028  0.000885  0.000058\n",
              "200     0.000301  0.000188  0.000012     0.000038  0.001767  0.000060\n",
              "500     0.000720  0.000463  0.000012     0.000080  0.004504  0.000052\n",
              "1000    0.001569  0.000891  0.000016     0.000138  0.008544  0.000072\n",
              "2000         NaN  0.002224  0.000021     0.000300       NaN  0.000076\n",
              "3000         NaN  0.002674  0.000026     0.000405       NaN  0.000083\n",
              "4000         NaN  0.004018  0.000029     0.000513       NaN  0.000096\n",
              "5000         NaN  0.004644  0.000041     0.000692       NaN  0.000099\n",
              "10000        NaN  0.008801  0.000048     0.001369       NaN  0.000142\n",
              "20000        NaN       NaN  0.000091     0.002738       NaN  0.000214\n",
              "50000        NaN       NaN  0.000449     0.008820       NaN  0.000849\n",
              "75000        NaN       NaN  0.000402     0.012992       NaN  0.001533\n",
              "100000       NaN       NaN  0.000579     0.017411       NaN  0.002090\n",
              "150000       NaN       NaN  0.002956     0.026082       NaN  0.003969\n",
              "200000       NaN       NaN  0.004460     0.037523       NaN  0.006321\n",
              "300000       NaN       NaN  0.006267     0.058988       NaN  0.008155\n",
              "400000       NaN       NaN  0.008238     0.070634       NaN  0.011321\n",
              "500000       NaN       NaN  0.009431     0.085967       NaN  0.012851\n",
              "600000       NaN       NaN  0.011956     0.104532       NaN  0.017034"
            ]
          },
          "execution_count": 80,
          "metadata": {},
          "output_type": "execute_result"
        }
      ],
      "source": [
        "dfb = pandas.DataFrame(memo)[[\"average\", \"lib\", \"batch\"]]\n",
        "piv = dfb.pivot(\"batch\", \"lib\", \"average\")\n",
        "piv"
      ]
    },
    {
      "cell_type": "code",
      "execution_count": 80,
      "metadata": {},
      "outputs": [
        {
          "data": {
            "text/html": [
              "<div>\n",
              "<style scoped>\n",
              "    .dataframe tbody tr th:only-of-type {\n",
              "        vertical-align: middle;\n",
              "    }\n",
              "\n",
              "    .dataframe tbody tr th {\n",
              "        vertical-align: top;\n",
              "    }\n",
              "\n",
              "    .dataframe thead th {\n",
              "        text-align: right;\n",
              "    }\n",
              "</style>\n",
              "<table border=\"1\" class=\"dataframe\">\n",
              "  <thead>\n",
              "    <tr style=\"text-align: right;\">\n",
              "      <th>lib</th>\n",
              "      <th>cython</th>\n",
              "      <th>numba</th>\n",
              "      <th>numpy</th>\n",
              "      <th>onnxruntime</th>\n",
              "      <th>python</th>\n",
              "      <th>sklearn</th>\n",
              "      <th>ave_cython</th>\n",
              "      <th>ave_numba</th>\n",
              "      <th>ave_numpy</th>\n",
              "      <th>ave_onnxruntime</th>\n",
              "      <th>ave_python</th>\n",
              "      <th>ave_sklearn</th>\n",
              "    </tr>\n",
              "    <tr>\n",
              "      <th>batch</th>\n",
              "      <th></th>\n",
              "      <th></th>\n",
              "      <th></th>\n",
              "      <th></th>\n",
              "      <th></th>\n",
              "      <th></th>\n",
              "      <th></th>\n",
              "      <th></th>\n",
              "      <th></th>\n",
              "      <th></th>\n",
              "      <th></th>\n",
              "      <th></th>\n",
              "    </tr>\n",
              "  </thead>\n",
              "  <tbody>\n",
              "    <tr>\n",
              "      <td>1</td>\n",
              "      <td>0.000003</td>\n",
              "      <td>0.000002</td>\n",
              "      <td>0.000010</td>\n",
              "      <td>0.000013</td>\n",
              "      <td>0.000010</td>\n",
              "      <td>0.000050</td>\n",
              "      <td>0.000003</td>\n",
              "      <td>2.374700e-06</td>\n",
              "      <td>9.969800e-06</td>\n",
              "      <td>1.263570e-05</td>\n",
              "      <td>0.000010</td>\n",
              "      <td>5.035390e-05</td>\n",
              "    </tr>\n",
              "    <tr>\n",
              "      <td>10</td>\n",
              "      <td>0.000016</td>\n",
              "      <td>0.000011</td>\n",
              "      <td>0.000009</td>\n",
              "      <td>0.000014</td>\n",
              "      <td>0.000091</td>\n",
              "      <td>0.000048</td>\n",
              "      <td>0.000002</td>\n",
              "      <td>1.052880e-06</td>\n",
              "      <td>9.039700e-07</td>\n",
              "      <td>1.387610e-06</td>\n",
              "      <td>0.000009</td>\n",
              "      <td>4.789650e-06</td>\n",
              "    </tr>\n",
              "    <tr>\n",
              "      <td>100</td>\n",
              "      <td>0.000145</td>\n",
              "      <td>0.000091</td>\n",
              "      <td>0.000011</td>\n",
              "      <td>0.000028</td>\n",
              "      <td>0.000885</td>\n",
              "      <td>0.000058</td>\n",
              "      <td>0.000001</td>\n",
              "      <td>9.061520e-07</td>\n",
              "      <td>1.077050e-07</td>\n",
              "      <td>2.830330e-07</td>\n",
              "      <td>0.000009</td>\n",
              "      <td>5.776300e-07</td>\n",
              "    </tr>\n",
              "    <tr>\n",
              "      <td>200</td>\n",
              "      <td>0.000301</td>\n",
              "      <td>0.000188</td>\n",
              "      <td>0.000012</td>\n",
              "      <td>0.000038</td>\n",
              "      <td>0.001767</td>\n",
              "      <td>0.000060</td>\n",
              "      <td>0.000002</td>\n",
              "      <td>9.386710e-07</td>\n",
              "      <td>5.805900e-08</td>\n",
              "      <td>1.894435e-07</td>\n",
              "      <td>0.000009</td>\n",
              "      <td>3.003940e-07</td>\n",
              "    </tr>\n",
              "    <tr>\n",
              "      <td>500</td>\n",
              "      <td>0.000720</td>\n",
              "      <td>0.000463</td>\n",
              "      <td>0.000012</td>\n",
              "      <td>0.000080</td>\n",
              "      <td>0.004504</td>\n",
              "      <td>0.000052</td>\n",
              "      <td>0.000001</td>\n",
              "      <td>9.267770e-07</td>\n",
              "      <td>2.428640e-08</td>\n",
              "      <td>1.601118e-07</td>\n",
              "      <td>0.000009</td>\n",
              "      <td>1.033056e-07</td>\n",
              "    </tr>\n",
              "    <tr>\n",
              "      <td>1000</td>\n",
              "      <td>0.001569</td>\n",
              "      <td>0.000891</td>\n",
              "      <td>0.000016</td>\n",
              "      <td>0.000138</td>\n",
              "      <td>0.008544</td>\n",
              "      <td>0.000072</td>\n",
              "      <td>0.000002</td>\n",
              "      <td>8.912436e-07</td>\n",
              "      <td>1.637500e-08</td>\n",
              "      <td>1.383949e-07</td>\n",
              "      <td>0.000009</td>\n",
              "      <td>7.172380e-08</td>\n",
              "    </tr>\n",
              "    <tr>\n",
              "      <td>2000</td>\n",
              "      <td>NaN</td>\n",
              "      <td>0.002224</td>\n",
              "      <td>0.000021</td>\n",
              "      <td>0.000300</td>\n",
              "      <td>NaN</td>\n",
              "      <td>0.000076</td>\n",
              "      <td>NaN</td>\n",
              "      <td>1.112160e-06</td>\n",
              "      <td>1.073035e-08</td>\n",
              "      <td>1.498589e-07</td>\n",
              "      <td>NaN</td>\n",
              "      <td>3.783965e-08</td>\n",
              "    </tr>\n",
              "    <tr>\n",
              "      <td>3000</td>\n",
              "      <td>NaN</td>\n",
              "      <td>0.002674</td>\n",
              "      <td>0.000026</td>\n",
              "      <td>0.000405</td>\n",
              "      <td>NaN</td>\n",
              "      <td>0.000083</td>\n",
              "      <td>NaN</td>\n",
              "      <td>8.911731e-07</td>\n",
              "      <td>8.547533e-09</td>\n",
              "      <td>1.349518e-07</td>\n",
              "      <td>NaN</td>\n",
              "      <td>2.766113e-08</td>\n",
              "    </tr>\n",
              "    <tr>\n",
              "      <td>4000</td>\n",
              "      <td>NaN</td>\n",
              "      <td>0.004018</td>\n",
              "      <td>0.000029</td>\n",
              "      <td>0.000513</td>\n",
              "      <td>NaN</td>\n",
              "      <td>0.000096</td>\n",
              "      <td>NaN</td>\n",
              "      <td>1.004487e-06</td>\n",
              "      <td>7.331600e-09</td>\n",
              "      <td>1.282948e-07</td>\n",
              "      <td>NaN</td>\n",
              "      <td>2.399990e-08</td>\n",
              "    </tr>\n",
              "    <tr>\n",
              "      <td>5000</td>\n",
              "      <td>NaN</td>\n",
              "      <td>0.004644</td>\n",
              "      <td>0.000041</td>\n",
              "      <td>0.000692</td>\n",
              "      <td>NaN</td>\n",
              "      <td>0.000099</td>\n",
              "      <td>NaN</td>\n",
              "      <td>9.288056e-07</td>\n",
              "      <td>8.205800e-09</td>\n",
              "      <td>1.384403e-07</td>\n",
              "      <td>NaN</td>\n",
              "      <td>1.970420e-08</td>\n",
              "    </tr>\n",
              "    <tr>\n",
              "      <td>10000</td>\n",
              "      <td>NaN</td>\n",
              "      <td>0.008801</td>\n",
              "      <td>0.000048</td>\n",
              "      <td>0.001369</td>\n",
              "      <td>NaN</td>\n",
              "      <td>0.000142</td>\n",
              "      <td>NaN</td>\n",
              "      <td>8.800830e-07</td>\n",
              "      <td>4.844200e-09</td>\n",
              "      <td>1.368824e-07</td>\n",
              "      <td>NaN</td>\n",
              "      <td>1.424145e-08</td>\n",
              "    </tr>\n",
              "    <tr>\n",
              "      <td>20000</td>\n",
              "      <td>NaN</td>\n",
              "      <td>NaN</td>\n",
              "      <td>0.000091</td>\n",
              "      <td>0.002738</td>\n",
              "      <td>NaN</td>\n",
              "      <td>0.000214</td>\n",
              "      <td>NaN</td>\n",
              "      <td>NaN</td>\n",
              "      <td>4.574600e-09</td>\n",
              "      <td>1.369245e-07</td>\n",
              "      <td>NaN</td>\n",
              "      <td>1.071715e-08</td>\n",
              "    </tr>\n",
              "    <tr>\n",
              "      <td>50000</td>\n",
              "      <td>NaN</td>\n",
              "      <td>NaN</td>\n",
              "      <td>0.000449</td>\n",
              "      <td>0.008820</td>\n",
              "      <td>NaN</td>\n",
              "      <td>0.000849</td>\n",
              "      <td>NaN</td>\n",
              "      <td>NaN</td>\n",
              "      <td>8.982860e-09</td>\n",
              "      <td>1.764029e-07</td>\n",
              "      <td>NaN</td>\n",
              "      <td>1.697171e-08</td>\n",
              "    </tr>\n",
              "    <tr>\n",
              "      <td>75000</td>\n",
              "      <td>NaN</td>\n",
              "      <td>NaN</td>\n",
              "      <td>0.000402</td>\n",
              "      <td>0.012992</td>\n",
              "      <td>NaN</td>\n",
              "      <td>0.001533</td>\n",
              "      <td>NaN</td>\n",
              "      <td>NaN</td>\n",
              "      <td>5.365300e-09</td>\n",
              "      <td>1.732245e-07</td>\n",
              "      <td>NaN</td>\n",
              "      <td>2.044074e-08</td>\n",
              "    </tr>\n",
              "    <tr>\n",
              "      <td>100000</td>\n",
              "      <td>NaN</td>\n",
              "      <td>NaN</td>\n",
              "      <td>0.000579</td>\n",
              "      <td>0.017411</td>\n",
              "      <td>NaN</td>\n",
              "      <td>0.002090</td>\n",
              "      <td>NaN</td>\n",
              "      <td>NaN</td>\n",
              "      <td>5.788455e-09</td>\n",
              "      <td>1.741052e-07</td>\n",
              "      <td>NaN</td>\n",
              "      <td>2.089537e-08</td>\n",
              "    </tr>\n",
              "    <tr>\n",
              "      <td>150000</td>\n",
              "      <td>NaN</td>\n",
              "      <td>NaN</td>\n",
              "      <td>0.002956</td>\n",
              "      <td>0.026082</td>\n",
              "      <td>NaN</td>\n",
              "      <td>0.003969</td>\n",
              "      <td>NaN</td>\n",
              "      <td>NaN</td>\n",
              "      <td>1.970775e-08</td>\n",
              "      <td>1.738810e-07</td>\n",
              "      <td>NaN</td>\n",
              "      <td>2.645820e-08</td>\n",
              "    </tr>\n",
              "    <tr>\n",
              "      <td>200000</td>\n",
              "      <td>NaN</td>\n",
              "      <td>NaN</td>\n",
              "      <td>0.004460</td>\n",
              "      <td>0.037523</td>\n",
              "      <td>NaN</td>\n",
              "      <td>0.006321</td>\n",
              "      <td>NaN</td>\n",
              "      <td>NaN</td>\n",
              "      <td>2.229910e-08</td>\n",
              "      <td>1.876159e-07</td>\n",
              "      <td>NaN</td>\n",
              "      <td>3.160423e-08</td>\n",
              "    </tr>\n",
              "    <tr>\n",
              "      <td>300000</td>\n",
              "      <td>NaN</td>\n",
              "      <td>NaN</td>\n",
              "      <td>0.006267</td>\n",
              "      <td>0.058988</td>\n",
              "      <td>NaN</td>\n",
              "      <td>0.008155</td>\n",
              "      <td>NaN</td>\n",
              "      <td>NaN</td>\n",
              "      <td>2.089083e-08</td>\n",
              "      <td>1.966262e-07</td>\n",
              "      <td>NaN</td>\n",
              "      <td>2.718413e-08</td>\n",
              "    </tr>\n",
              "    <tr>\n",
              "      <td>400000</td>\n",
              "      <td>NaN</td>\n",
              "      <td>NaN</td>\n",
              "      <td>0.008238</td>\n",
              "      <td>0.070634</td>\n",
              "      <td>NaN</td>\n",
              "      <td>0.011321</td>\n",
              "      <td>NaN</td>\n",
              "      <td>NaN</td>\n",
              "      <td>2.059604e-08</td>\n",
              "      <td>1.765860e-07</td>\n",
              "      <td>NaN</td>\n",
              "      <td>2.830290e-08</td>\n",
              "    </tr>\n",
              "    <tr>\n",
              "      <td>500000</td>\n",
              "      <td>NaN</td>\n",
              "      <td>NaN</td>\n",
              "      <td>0.009431</td>\n",
              "      <td>0.085967</td>\n",
              "      <td>NaN</td>\n",
              "      <td>0.012851</td>\n",
              "      <td>NaN</td>\n",
              "      <td>NaN</td>\n",
              "      <td>1.886231e-08</td>\n",
              "      <td>1.719346e-07</td>\n",
              "      <td>NaN</td>\n",
              "      <td>2.570212e-08</td>\n",
              "    </tr>\n",
              "    <tr>\n",
              "      <td>600000</td>\n",
              "      <td>NaN</td>\n",
              "      <td>NaN</td>\n",
              "      <td>0.011956</td>\n",
              "      <td>0.104532</td>\n",
              "      <td>NaN</td>\n",
              "      <td>0.017034</td>\n",
              "      <td>NaN</td>\n",
              "      <td>NaN</td>\n",
              "      <td>1.992636e-08</td>\n",
              "      <td>1.742197e-07</td>\n",
              "      <td>NaN</td>\n",
              "      <td>2.838989e-08</td>\n",
              "    </tr>\n",
              "  </tbody>\n",
              "</table>\n",
              "</div>"
            ],
            "text/plain": [
              "lib       cython     numba     numpy  onnxruntime    python   sklearn  \\\n",
              "batch                                                                   \n",
              "1       0.000003  0.000002  0.000010     0.000013  0.000010  0.000050   \n",
              "10      0.000016  0.000011  0.000009     0.000014  0.000091  0.000048   \n",
              "100     0.000145  0.000091  0.000011     0.000028  0.000885  0.000058   \n",
              "200     0.000301  0.000188  0.000012     0.000038  0.001767  0.000060   \n",
              "500     0.000720  0.000463  0.000012     0.000080  0.004504  0.000052   \n",
              "1000    0.001569  0.000891  0.000016     0.000138  0.008544  0.000072   \n",
              "2000         NaN  0.002224  0.000021     0.000300       NaN  0.000076   \n",
              "3000         NaN  0.002674  0.000026     0.000405       NaN  0.000083   \n",
              "4000         NaN  0.004018  0.000029     0.000513       NaN  0.000096   \n",
              "5000         NaN  0.004644  0.000041     0.000692       NaN  0.000099   \n",
              "10000        NaN  0.008801  0.000048     0.001369       NaN  0.000142   \n",
              "20000        NaN       NaN  0.000091     0.002738       NaN  0.000214   \n",
              "50000        NaN       NaN  0.000449     0.008820       NaN  0.000849   \n",
              "75000        NaN       NaN  0.000402     0.012992       NaN  0.001533   \n",
              "100000       NaN       NaN  0.000579     0.017411       NaN  0.002090   \n",
              "150000       NaN       NaN  0.002956     0.026082       NaN  0.003969   \n",
              "200000       NaN       NaN  0.004460     0.037523       NaN  0.006321   \n",
              "300000       NaN       NaN  0.006267     0.058988       NaN  0.008155   \n",
              "400000       NaN       NaN  0.008238     0.070634       NaN  0.011321   \n",
              "500000       NaN       NaN  0.009431     0.085967       NaN  0.012851   \n",
              "600000       NaN       NaN  0.011956     0.104532       NaN  0.017034   \n",
              "\n",
              "lib     ave_cython     ave_numba     ave_numpy  ave_onnxruntime  ave_python  \\\n",
              "batch                                                                         \n",
              "1         0.000003  2.374700e-06  9.969800e-06     1.263570e-05    0.000010   \n",
              "10        0.000002  1.052880e-06  9.039700e-07     1.387610e-06    0.000009   \n",
              "100       0.000001  9.061520e-07  1.077050e-07     2.830330e-07    0.000009   \n",
              "200       0.000002  9.386710e-07  5.805900e-08     1.894435e-07    0.000009   \n",
              "500       0.000001  9.267770e-07  2.428640e-08     1.601118e-07    0.000009   \n",
              "1000      0.000002  8.912436e-07  1.637500e-08     1.383949e-07    0.000009   \n",
              "2000           NaN  1.112160e-06  1.073035e-08     1.498589e-07         NaN   \n",
              "3000           NaN  8.911731e-07  8.547533e-09     1.349518e-07         NaN   \n",
              "4000           NaN  1.004487e-06  7.331600e-09     1.282948e-07         NaN   \n",
              "5000           NaN  9.288056e-07  8.205800e-09     1.384403e-07         NaN   \n",
              "10000          NaN  8.800830e-07  4.844200e-09     1.368824e-07         NaN   \n",
              "20000          NaN           NaN  4.574600e-09     1.369245e-07         NaN   \n",
              "50000          NaN           NaN  8.982860e-09     1.764029e-07         NaN   \n",
              "75000          NaN           NaN  5.365300e-09     1.732245e-07         NaN   \n",
              "100000         NaN           NaN  5.788455e-09     1.741052e-07         NaN   \n",
              "150000         NaN           NaN  1.970775e-08     1.738810e-07         NaN   \n",
              "200000         NaN           NaN  2.229910e-08     1.876159e-07         NaN   \n",
              "300000         NaN           NaN  2.089083e-08     1.966262e-07         NaN   \n",
              "400000         NaN           NaN  2.059604e-08     1.765860e-07         NaN   \n",
              "500000         NaN           NaN  1.886231e-08     1.719346e-07         NaN   \n",
              "600000         NaN           NaN  1.992636e-08     1.742197e-07         NaN   \n",
              "\n",
              "lib      ave_sklearn  \n",
              "batch                 \n",
              "1       5.035390e-05  \n",
              "10      4.789650e-06  \n",
              "100     5.776300e-07  \n",
              "200     3.003940e-07  \n",
              "500     1.033056e-07  \n",
              "1000    7.172380e-08  \n",
              "2000    3.783965e-08  \n",
              "3000    2.766113e-08  \n",
              "4000    2.399990e-08  \n",
              "5000    1.970420e-08  \n",
              "10000   1.424145e-08  \n",
              "20000   1.071715e-08  \n",
              "50000   1.697171e-08  \n",
              "75000   2.044074e-08  \n",
              "100000  2.089537e-08  \n",
              "150000  2.645820e-08  \n",
              "200000  3.160423e-08  \n",
              "300000  2.718413e-08  \n",
              "400000  2.830290e-08  \n",
              "500000  2.570212e-08  \n",
              "600000  2.838989e-08  "
            ]
          },
          "execution_count": 81,
          "metadata": {},
          "output_type": "execute_result"
        }
      ],
      "source": [
        "for c in piv.columns:\n",
        "    piv[\"ave_\" + c] = piv[c] / piv.index\n",
        "piv"
      ]
    },
    {
      "cell_type": "code",
      "execution_count": 81,
      "metadata": {},
      "outputs": [
        {
          "data": {
            "image/png": "[encoded data removed]",
            "text/plain": [
              "<Figure size 720x360 with 1 Axes>"
            ]
          },
          "metadata": {
            "needs_background": "light"
          },
          "output_type": "display_data"
        }
      ],
      "source": [
        "libs = list(c for c in piv.columns if \"ave_\" in c)\n",
        "ax = piv.plot(y=libs, logy=True, logx=True, figsize=(10, 5))\n",
        "ax.set_title(\"Evolution du temps de pr\u00e9diction selon la taille du batch\")\n",
        "ax.grid(True);"
      ]
    },
    {
      "cell_type": "markdown",
      "metadata": {},
      "source": [
        "Le minimum obtenu est pour $10^{-8} s$ soit 10 ns. Cela montre que la comparaisson pr\u00e9c\u00e9dente \u00e9tait incompl\u00e8te voire biais\u00e9e. Tout d\u00e9pend de l'usage qu'on fait de la fonction de pr\u00e9diction m\u00eame s'il sera toujours possible de d'\u00e9crire un code sp\u00e9cialis\u00e9 plus rapide que toute autre fonction g\u00e9n\u00e9rique. En g\u00e9n\u00e9ral, plus on reste du c\u00f4t\u00e9 Python, plus le programme est lent. Le nombre de passage de l'un \u00e0 l'autre, selon la fa\u00e7on dont il est fait ralenti aussi. En tenant compte de cela, le programme rouge sera plus lent que le vert."
      ]
    },
    {
      "cell_type": "code",
      "execution_count": 82,
      "metadata": {},
      "outputs": [
        {
          "data": {
            "image/png": "[encoded data removed]",
            "text/plain": [
              "<IPython.core.display.Image object>"
            ]
          },
          "execution_count": 83,
          "metadata": {},
          "output_type": "execute_result"
        }
      ],
      "source": [
        "from pyquickhelper.helpgen import NbImage\n",
        "NbImage(\"pycpp.png\")"
      ]
    },
    {
      "cell_type": "markdown",
      "metadata": {},
      "source": [
        "Ces r\u00e9sultats sont d'une fa\u00e7on g\u00e9n\u00e9rale assez volatile car le temps de calcul est enrob\u00e9 dans plusieurs fonctions Python qui rendent une mesure pr\u00e9cise difficile. Il reste n\u00e9anmoins une bonne id\u00e9e des ordres de grandeurs."
      ]
    },
    {
      "cell_type": "markdown",
      "metadata": {},
      "source": [
        "## Random Forest\n",
        "\n",
        "On reproduit les m\u00eames r\u00e9sultats pour une random forest mais la r\u00e9\u00e9criture n'est plus aussi simple qu'une r\u00e9gression lin\u00e9aire."
      ]
    },
    {
      "cell_type": "markdown",
      "metadata": {},
      "source": [
        "### Une pr\u00e9diction \u00e0 la fois"
      ]
    },
    {
      "cell_type": "code",
      "execution_count": 83,
      "metadata": {},
      "outputs": [],
      "source": [
        "from sklearn.datasets import load_diabetes\n",
        "diabetes = load_diabetes()\n",
        "diabetes_X_train = diabetes.data[:-20]\n",
        "diabetes_X_test  = diabetes.data[-20:]\n",
        "diabetes_y_train = diabetes.target[:-20]\n",
        "diabetes_y_test  = diabetes.target[-20:]"
      ]
    },
    {
      "cell_type": "code",
      "execution_count": 84,
      "metadata": {},
      "outputs": [
        {
          "data": {
            "text/plain": [
              "RandomForestRegressor(bootstrap=True, ccp_alpha=0.0, criterion='mse',\n",
              "                      max_depth=None, max_features='auto', max_leaf_nodes=None,\n",
              "                      max_samples=None, min_impurity_decrease=0.0,\n",
              "                      min_impurity_split=None, min_samples_leaf=1,\n",
              "                      min_samples_split=2, min_weight_fraction_leaf=0.0,\n",
              "                      n_estimators=10, n_jobs=None, oob_score=False,\n",
              "                      random_state=None, verbose=0, warm_start=False)"
            ]
          },
          "execution_count": 85,
          "metadata": {},
          "output_type": "execute_result"
        }
      ],
      "source": [
        "from sklearn.ensemble import RandomForestRegressor\n",
        "rf = RandomForestRegressor(n_estimators=10)\n",
        "rf.fit(diabetes_X_train, diabetes_y_train)"
      ]
    },
    {
      "cell_type": "code",
      "execution_count": 85,
      "metadata": {},
      "outputs": [
        {
          "name": "stdout",
          "output_type": "stream",
          "text": [
            "Moyenne: 691.37 \u00b5s Ecart-type 89.73 \u00b5s (with 20 runs) in [638.31 \u00b5s, 946.03 \u00b5s]\n"
          ]
        }
      ],
      "source": [
        "memo_time = []\n",
        "x = diabetes_X_test[:1]\n",
        "memo_time.append(timeexe(\"sklearn-rf\", \"rf.predict(x)\", repeat=100, number=20))"
      ]
    },
    {
      "cell_type": "markdown",
      "metadata": {},
      "source": [
        "C'est beaucoup plus long que la r\u00e9gression lin\u00e9aire. On essaye avec *onnx*."
      ]
    },
    {
      "cell_type": "code",
      "execution_count": 86,
      "metadata": {
        "scrolled": false
      },
      "outputs": [],
      "source": [
        "if ok_onnx:\n",
        "    onnxrf_model = convert_sklearn(\n",
        "        rf, 'model', [('input', FloatTensorType([None, clr.coef_.shape[0]]))])\n",
        "    save_model(onnxrf_model, 'model_rf.onnx')    \n",
        "    model_onnx = onnx.load('model_rf.onnx')"
      ]
    },
    {
      "cell_type": "code",
      "execution_count": 87,
      "metadata": {},
      "outputs": [
        {
          "name": "stdout",
          "output_type": "stream",
          "text": [
            "Input: NodeArg(name='input', type='tensor(float)', shape=[None, 10])\n",
            "Output: NodeArg(name='variable', type='tensor(float)', shape=[None, 1])\n",
            "[array([[193.4]], dtype=float32)]\n",
            "Moyenne: 15.61 \u00b5s Ecart-type 10.12 \u00b5s (with 20 runs) in [12.68 \u00b5s, 25.82 \u00b5s]\n"
          ]
        }
      ],
      "source": [
        "if ok_onnx:\n",
        "    sess = onnxruntime.InferenceSession(\"model_rf.onnx\")\n",
        "    for i in sess.get_inputs():\n",
        "        print('Input:', i)\n",
        "    for o in sess.get_outputs():\n",
        "        print('Output:', o)\n",
        "    \n",
        "    def predict_onnxrt_rf(x):    \n",
        "        return sess.run([\"variable\"], {'input': x})\n",
        "\n",
        "    print(predict_onnxrt_rf(x.astype(numpy.float32)))\n",
        "    memo_time.append(timeexe(\"onnx-rf\", \"predict_onnxrt_rf(x.astype(numpy.float32))\", repeat=100, number=20))"
      ]
    },
    {
      "cell_type": "markdown",
      "metadata": {},
      "source": [
        "C'est beaucoup plus rapide."
      ]
    },
    {
      "cell_type": "code",
      "execution_count": 88,
      "metadata": {},
      "outputs": [
        {
          "data": {
            "text/html": [
              "<div>\n",
              "<style scoped>\n",
              "    .dataframe tbody tr th:only-of-type {\n",
              "        vertical-align: middle;\n",
              "    }\n",
              "\n",
              "    .dataframe tbody tr th {\n",
              "        vertical-align: top;\n",
              "    }\n",
              "\n",
              "    .dataframe thead th {\n",
              "        text-align: right;\n",
              "    }\n",
              "</style>\n",
              "<table border=\"1\" class=\"dataframe\">\n",
              "  <thead>\n",
              "    <tr style=\"text-align: right;\">\n",
              "      <th></th>\n",
              "      <th>average</th>\n",
              "      <th>deviation</th>\n",
              "      <th>first</th>\n",
              "      <th>first3</th>\n",
              "      <th>last3</th>\n",
              "      <th>repeat</th>\n",
              "      <th>min5</th>\n",
              "      <th>max5</th>\n",
              "      <th>code</th>\n",
              "      <th>run</th>\n",
              "    </tr>\n",
              "    <tr>\n",
              "      <th>legend</th>\n",
              "      <th></th>\n",
              "      <th></th>\n",
              "      <th></th>\n",
              "      <th></th>\n",
              "      <th></th>\n",
              "      <th></th>\n",
              "      <th></th>\n",
              "      <th></th>\n",
              "      <th></th>\n",
              "      <th></th>\n",
              "    </tr>\n",
              "  </thead>\n",
              "  <tbody>\n",
              "    <tr>\n",
              "      <td>onnx-rf</td>\n",
              "      <td>0.000016</td>\n",
              "      <td>0.00001</td>\n",
              "      <td>0.000109</td>\n",
              "      <td>0.000053</td>\n",
              "      <td>0.000018</td>\n",
              "      <td>100</td>\n",
              "      <td>0.000013</td>\n",
              "      <td>0.000026</td>\n",
              "      <td>predict_onnxrt_rf(x.astype(numpy.float32))</td>\n",
              "      <td>20</td>\n",
              "    </tr>\n",
              "    <tr>\n",
              "      <td>sklearn-rf</td>\n",
              "      <td>0.000691</td>\n",
              "      <td>0.00009</td>\n",
              "      <td>0.001059</td>\n",
              "      <td>0.000838</td>\n",
              "      <td>0.000650</td>\n",
              "      <td>100</td>\n",
              "      <td>0.000638</td>\n",
              "      <td>0.000946</td>\n",
              "      <td>rf.predict(x)</td>\n",
              "      <td>20</td>\n",
              "    </tr>\n",
              "  </tbody>\n",
              "</table>\n",
              "</div>"
            ],
            "text/plain": [
              "             average  deviation     first    first3     last3  repeat  \\\n",
              "legend                                                                  \n",
              "onnx-rf     0.000016    0.00001  0.000109  0.000053  0.000018     100   \n",
              "sklearn-rf  0.000691    0.00009  0.001059  0.000838  0.000650     100   \n",
              "\n",
              "                min5      max5                                        code  \\\n",
              "legend                                                                       \n",
              "onnx-rf     0.000013  0.000026  predict_onnxrt_rf(x.astype(numpy.float32))   \n",
              "sklearn-rf  0.000638  0.000946                               rf.predict(x)   \n",
              "\n",
              "            run  \n",
              "legend           \n",
              "onnx-rf      20  \n",
              "sklearn-rf   20  "
            ]
          },
          "execution_count": 89,
          "metadata": {},
          "output_type": "execute_result"
        }
      ],
      "source": [
        "import pandas\n",
        "df2 = pandas.DataFrame(data=memo_time)\n",
        "df2 = df2.set_index(\"legend\").sort_values(\"average\")\n",
        "df2"
      ]
    },
    {
      "cell_type": "code",
      "execution_count": 89,
      "metadata": {},
      "outputs": [
        {
          "data": {
            "image/png": "[encoded data removed]",
            "text/plain": [
              "<Figure size 1008x288 with 1 Axes>"
            ]
          },
          "metadata": {
            "needs_background": "light"
          },
          "output_type": "display_data"
        }
      ],
      "source": [
        "fig, ax = plt.subplots(1, 1, figsize=(14,4))\n",
        "df2[[\"average\", \"deviation\"]].plot(kind=\"barh\", logx=True, ax=ax, xerr=\"deviation\",\n",
        "                                   legend=False, fontsize=12, width=0.8)\n",
        "ax.set_ylabel(\"\")\n",
        "ax.grid(b=True, which=\"major\")\n",
        "ax.grid(b=True, which=\"minor\");"
      ]
    },
    {
      "cell_type": "markdown",
      "metadata": {},
      "source": [
        "### Pr\u00e9diction en batch"
      ]
    },
    {
      "cell_type": "code",
      "execution_count": 90,
      "metadata": {},
      "outputs": [
        {
          "name": "stdout",
          "output_type": "stream",
          "text": [
            "batch = 1\n",
            "Moyenne: 837.72 \u00b5s Ecart-type 230.66 \u00b5s (with 10 runs) in [656.11 \u00b5s, 1.46 ms]\n",
            "Moyenne: 18.29 \u00b5s Ecart-type 11.65 \u00b5s (with 10 runs) in [12.57 \u00b5s, 52.32 \u00b5s]\n",
            "batch = 10\n",
            "Moyenne: 695.72 \u00b5s Ecart-type 70.97 \u00b5s (with 10 runs) in [640.66 \u00b5s, 897.78 \u00b5s]\n",
            "Moyenne: 34.93 \u00b5s Ecart-type 11.24 \u00b5s (with 10 runs) in [29.73 \u00b5s, 68.25 \u00b5s]\n",
            "batch = 100\n",
            "Moyenne: 854.57 \u00b5s Ecart-type 209.18 \u00b5s (with 10 runs) in [715.64 \u00b5s, 1.45 ms]\n",
            "Moyenne: 217.84 \u00b5s Ecart-type 16.69 \u00b5s (with 10 runs) in [205.13 \u00b5s, 261.42 \u00b5s]\n",
            "batch = 200\n",
            "Moyenne: 797.57 \u00b5s Ecart-type 31.20 \u00b5s (with 10 runs) in [758.16 \u00b5s, 843.70 \u00b5s]\n",
            "Moyenne: 411.66 \u00b5s Ecart-type 18.53 \u00b5s (with 10 runs) in [388.02 \u00b5s, 450.80 \u00b5s]\n",
            "batch = 500\n",
            "Moyenne: 1.06 ms Ecart-type 199.81 \u00b5s (with 10 runs) in [887.37 \u00b5s, 1.48 ms]\n",
            "Moyenne: 991.69 \u00b5s Ecart-type 24.41 \u00b5s (with 10 runs) in [956.97 \u00b5s, 1.03 ms]\n",
            "batch = 1000\n",
            "Moyenne: 1.11 ms Ecart-type 54.61 \u00b5s (with 10 runs) in [1.06 ms, 1.22 ms]\n",
            "Moyenne: 2.00 ms Ecart-type 141.03 \u00b5s (with 10 runs) in [1.93 ms, 2.42 ms]\n",
            "batch = 2000\n",
            "Moyenne: 1.51 ms Ecart-type 144.95 \u00b5s (with 10 runs) in [1.41 ms, 1.93 ms]\n",
            "Moyenne: 4.01 ms Ecart-type 224.46 \u00b5s (with 10 runs) in [3.81 ms, 4.60 ms]\n",
            "batch = 3000\n",
            "Moyenne: 1.80 ms Ecart-type 41.07 \u00b5s (with 10 runs) in [1.77 ms, 1.89 ms]\n",
            "Moyenne: 6.15 ms Ecart-type 1.06 ms (with 10 runs) in [5.66 ms, 9.30 ms]\n",
            "batch = 4000\n",
            "Moyenne: 2.37 ms Ecart-type 366.07 \u00b5s (with 10 runs) in [2.12 ms, 3.39 ms]\n",
            "Moyenne: 7.97 ms Ecart-type 679.47 \u00b5s (with 10 runs) in [7.48 ms, 9.91 ms]\n",
            "batch = 5000\n",
            "Moyenne: 2.57 ms Ecart-type 171.02 \u00b5s (with 10 runs) in [2.43 ms, 3.03 ms]\n",
            "Moyenne: 9.60 ms Ecart-type 253.97 \u00b5s (with 10 runs) in [9.23 ms, 10.02 ms]\n",
            "batch = 10000\n",
            "Moyenne: 4.28 ms Ecart-type 103.22 \u00b5s (with 10 runs) in [4.15 ms, 4.51 ms]\n",
            "Moyenne: 19.20 ms Ecart-type 289.60 \u00b5s (with 10 runs) in [18.83 ms, 19.91 ms]\n",
            "batch = 20000\n",
            "Moyenne: 7.84 ms Ecart-type 198.24 \u00b5s (with 10 runs) in [7.59 ms, 8.22 ms]\n",
            "Moyenne: 38.51 ms Ecart-type 394.95 \u00b5s (with 10 runs) in [38.01 ms, 39.10 ms]\n",
            "batch = 50000\n",
            "Moyenne: 19.40 ms Ecart-type 256.43 \u00b5s (with 10 runs) in [19.09 ms, 19.84 ms]\n",
            "Moyenne: 97.66 ms Ecart-type 740.01 \u00b5s (with 10 runs) in [96.60 ms, 99.54 ms]\n",
            "batch = 75000\n",
            "Moyenne: 28.80 ms Ecart-type 332.27 \u00b5s (with 10 runs) in [28.29 ms, 29.40 ms]\n",
            "Moyenne: 147.44 ms Ecart-type 3.00 ms (with 10 runs) in [145.41 ms, 155.52 ms]\n",
            "batch = 100000\n",
            "Moyenne: 37.85 ms Ecart-type 416.17 \u00b5s (with 10 runs) in [37.13 ms, 38.36 ms]\n",
            "Moyenne: 213.95 ms Ecart-type 16.26 ms (with 10 runs) in [195.66 ms, 247.30 ms]\n"
          ]
        }
      ],
      "source": [
        "memo = []\n",
        "batch = [1, 10, 100, 200, 500, 1000, 2000, 3000, 4000, 5000, 10000,\n",
        "         20000, 50000, 75000, 100000, 150000, 200000, 300000, 400000,\n",
        "         500000, 600000]\n",
        "number = 10\n",
        "repeat = 10\n",
        "for i in batch[:15]:\n",
        "    if i <= diabetes_X_test.shape[0]:\n",
        "        mx = diabetes_X_test[:i]\n",
        "    else:\n",
        "        mxs = [diabetes_X_test] * (i // diabetes_X_test.shape[0] + 1)\n",
        "        mx = numpy.vstack(mxs)\n",
        "        mx = mx[:i]\n",
        "\n",
        "    print(\"batch\", \"=\", i)\n",
        "    \n",
        "    memo.append(timeexe(\"sklearn.predict %d\" % i, \"rf.predict(mx)\", \n",
        "                        repeat=repeat, number=number))\n",
        "    memo[-1][\"batch\"] = i\n",
        "    memo[-1][\"lib\"] = \"sklearn\"\n",
        "    \n",
        "    if ok_onnx:\n",
        "        memo.append(timeexe(\"onnxruntime %d\" % i, \"predict_onnxrt_rf(mx.astype(numpy.float32))\",\n",
        "                            repeat=repeat, number=number))\n",
        "        memo[-1][\"batch\"] = i\n",
        "        memo[-1][\"lib\"] = \"onnxruntime\""
      ]
    },
    {
      "cell_type": "code",
      "execution_count": 91,
      "metadata": {},
      "outputs": [
        {
          "data": {
            "image/png": "[encoded data removed]",
            "text/plain": [
              "<Figure size 720x360 with 1 Axes>"
            ]
          },
          "metadata": {
            "needs_background": "light"
          },
          "output_type": "display_data"
        }
      ],
      "source": [
        "dfbrf = pandas.DataFrame(memo)[[\"average\", \"lib\", \"batch\"]]\n",
        "pivrf = dfbrf.pivot(\"batch\", \"lib\", \"average\")\n",
        "for c in pivrf.columns:\n",
        "    pivrf[\"ave_\" + c] = pivrf[c] / pivrf.index\n",
        "libs = list(c for c in pivrf.columns if \"ave_\" in c)\n",
        "ax = pivrf.plot(y=libs, logy=True, logx=True, figsize=(10, 5))\n",
        "ax.set_title(\"Evolution du temps de pr\u00e9diction selon la taille du batch\\nrandom forest\")\n",
        "ax.grid(True);"
      ]
    },
    {
      "cell_type": "code",
      "execution_count": 92,
      "metadata": {},
      "outputs": [],
      "source": []
    }
  ],
  "metadata": {
    "kernelspec": {
      "display_name": "Python 3",
      "language": "python",
      "name": "python3"
    },
    "language_info": {
      "codemirror_mode": {
        "name": "ipython",
        "version": 3
      },
      "file_extension": ".py",
      "mimetype": "text/x-python",
      "name": "python",
      "nbconvert_exporter": "python",
      "pygments_lexer": "ipython3",
      "version": "3.7.2"
    }
  },
  "nbformat": 4,
  "nbformat_minor": 2
}