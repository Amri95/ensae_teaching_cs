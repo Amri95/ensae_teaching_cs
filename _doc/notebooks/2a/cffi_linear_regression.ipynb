{
  "cells": [
    {
      "cell_type": "markdown",
      "metadata": {},
      "source": [
        "# Optimisation de code avec cffi, numba, cython\n",
        "\n",
        "L'id\u00e9e est de recoder une fonction en C. On prend comme exemple la fonction de pr\u00e9diction de la r\u00e9gression lin\u00e9aire de [scikit-learn](http://scikit-learn.org/stable/modules/generated/sklearn.linear_model.LinearRegression.html) et de pr\u00e9voir le gain de temps qu'on obtient en recodant la fonction dans un langage plus rapide."
      ]
    },
    {
      "cell_type": "code",
      "execution_count": null,
      "metadata": {},
      "outputs": [
        {
          "data": {
            "text/html": [
              "<div id=\"my_id_menu_nb\">run previous cell, wait for 2 seconds</div>\n",
              "<script>\n",
              "function repeat_indent_string(n){\n",
              "    var a = \"\" ;\n",
              "    for ( ; n > 0 ; --n)\n",
              "        a += \"    \";\n",
              "    return a;\n",
              "}\n",
              "var update_menu_string = function(begin, lfirst, llast, sformat, send, keep_item, begin_format, end_format) {\n",
              "    var anchors = document.getElementsByClassName(\"section\");\n",
              "    if (anchors.length == 0) {\n",
              "        anchors = document.getElementsByClassName(\"text_cell_render rendered_html\");\n",
              "    }\n",
              "    var i,t;\n",
              "    var text_menu = begin;\n",
              "    var text_memo = \"<pre>\\nlength:\" + anchors.length + \"\\n\";\n",
              "    var ind = \"\";\n",
              "    var memo_level = 1;\n",
              "    var href;\n",
              "    var tags = [];\n",
              "    var main_item = 0;\n",
              "    var format_open = 0;\n",
              "    for (i = 0; i <= llast; i++)\n",
              "        tags.push(\"h\" + i);\n",
              "\n",
              "    for (i = 0; i < anchors.length; i++) {\n",
              "        text_memo += \"**\" + anchors[i].id + \"--\\n\";\n",
              "\n",
              "        var child = null;\n",
              "        for(t = 0; t < tags.length; t++) {\n",
              "            var r = anchors[i].getElementsByTagName(tags[t]);\n",
              "            if (r.length > 0) {\n",
              "child = r[0];\n",
              "break;\n",
              "            }\n",
              "        }\n",
              "        if (child == null) {\n",
              "            text_memo += \"null\\n\";\n",
              "            continue;\n",
              "        }\n",
              "        if (anchors[i].hasAttribute(\"id\")) {\n",
              "            // when converted in RST\n",
              "            href = anchors[i].id;\n",
              "            text_memo += \"#1-\" + href;\n",
              "            // passer \u00e0 child suivant (le chercher)\n",
              "        }\n",
              "        else if (child.hasAttribute(\"id\")) {\n",
              "            // in a notebook\n",
              "            href = child.id;\n",
              "            text_memo += \"#2-\" + href;\n",
              "        }\n",
              "        else {\n",
              "            text_memo += \"#3-\" + \"*\" + \"\\n\";\n",
              "            continue;\n",
              "        }\n",
              "        var title = child.textContent;\n",
              "        var level = parseInt(child.tagName.substring(1,2));\n",
              "\n",
              "        text_memo += \"--\" + level + \"?\" + lfirst + \"--\" + title + \"\\n\";\n",
              "\n",
              "        if ((level < lfirst) || (level > llast)) {\n",
              "            continue ;\n",
              "        }\n",
              "        if (title.endsWith('\u00b6')) {\n",
              "            title = title.substring(0,title.length-1).replace(\"<\", \"&lt;\")\n",
              "         .replace(\">\", \"&gt;\").replace(\"&\", \"&amp;\");\n",
              "        }\n",
              "        if (title.length == 0) {\n",
              "            continue;\n",
              "        }\n",
              "\n",
              "        while (level < memo_level) {\n",
              "            text_menu += end_format + \"</ul>\\n\";\n",
              "            format_open -= 1;\n",
              "            memo_level -= 1;\n",
              "        }\n",
              "        if (level == lfirst) {\n",
              "            main_item += 1;\n",
              "        }\n",
              "        if (keep_item != -1 && main_item != keep_item + 1) {\n",
              "            // alert(main_item + \" - \" + level + \" - \" + keep_item);\n",
              "            continue;\n",
              "        }\n",
              "        while (level > memo_level) {\n",
              "            text_menu += \"<ul>\\n\";\n",
              "            memo_level += 1;\n",
              "        }\n",
              "        text_menu += repeat_indent_string(level-2);\n",
              "        text_menu += begin_format + sformat.replace(\"__HREF__\", href).replace(\"__TITLE__\", title);\n",
              "        format_open += 1;\n",
              "    }\n",
              "    while (1 < memo_level) {\n",
              "        text_menu += end_format + \"</ul>\\n\";\n",
              "        memo_level -= 1;\n",
              "        format_open -= 1;\n",
              "    }\n",
              "    text_menu += send;\n",
              "    //text_menu += \"\\n\" + text_memo;\n",
              "\n",
              "    while (format_open > 0) {\n",
              "        text_menu += end_format;\n",
              "        format_open -= 1;\n",
              "    }\n",
              "    return text_menu;\n",
              "};\n",
              "var update_menu = function() {\n",
              "    var sbegin = \"\";\n",
              "    var sformat = '<a href=\"#__HREF__\">__TITLE__</a>';\n",
              "    var send = \"\";\n",
              "    var begin_format = '<li>';\n",
              "    var end_format = '</li>';\n",
              "    var keep_item = -1;\n",
              "    var text_menu = update_menu_string(sbegin, 2, 4, sformat, send, keep_item,\n",
              "       begin_format, end_format);\n",
              "    var menu = document.getElementById(\"my_id_menu_nb\");\n",
              "    menu.innerHTML=text_menu;\n",
              "};\n",
              "window.setTimeout(update_menu,2000);\n",
              "            </script>"
            ],
            "text/plain": [
              "<IPython.core.display.HTML object>"
            ]
          },
          "execution_count": null,
          "metadata": {},
          "output_type": "execute_result"
        }
      ],
      "source": [
        "from jyquickhelper import add_notebook_menu\n",
        "add_notebook_menu()"
      ]
    },
    {
      "cell_type": "code",
      "execution_count": null,
      "metadata": {
        "collapsed": true
      },
      "outputs": [],
      "source": [
        "memo_time = []\n",
        "import timeit\n",
        "\n",
        "def unit(x):\n",
        "    if x >= 1: return \"%1.2f s\" % x\n",
        "    elif x >= 1e-3: return \"%1.2f ms\" % (x* 1000)\n",
        "    elif x >= 1e-6: return \"%1.2f \u00b5s\" % (x* 1000**2)\n",
        "    elif x >= 1e-9: return \"%1.2f ns\" % (x* 1000**3)\n",
        "    else:\n",
        "        return \"%1.2g s\" % x\n",
        "\n",
        "def timeexe(legend, code, number=100, repeat=10000):\n",
        "    rep = timeit.repeat(code, number=number, repeat=repeat, globals=globals())\n",
        "    ave = sum(rep) / (number * repeat)\n",
        "    std = (sum((x/number - ave)**2 for x in rep) / repeat)**0.5\n",
        "    fir = rep[0]/number\n",
        "    fir3 = sum(rep[:3]) / (3 * number)\n",
        "    las3 = sum(rep[-3:]) / (3 * number)\n",
        "    rep.sort()\n",
        "    mini = rep[len(rep)//20] / number\n",
        "    maxi = rep[-len(rep)//20] / number\n",
        "    print(\"Moyenne: %s Ecart-type %s (with %d runs) in [%s, %s]\" % (\n",
        "                unit(ave), unit(std), number, unit(mini), unit(maxi)))\n",
        "    return dict(legend=legend, average=ave, deviation=std, first=fir, first3=fir3,\n",
        "                last3=las3, repeat=repeat, min5=mini, max5=maxi, code=code, run=number)"
      ]
    },
    {
      "cell_type": "markdown",
      "metadata": {},
      "source": [
        "## R\u00e9gression lin\u00e9aire"
      ]
    },
    {
      "cell_type": "code",
      "execution_count": null,
      "metadata": {
        "collapsed": true
      },
      "outputs": [],
      "source": [
        "from sklearn.datasets import load_diabetes\n",
        "diabetes = load_diabetes()\n",
        "diabetes_X_train = diabetes.data[:-20]\n",
        "diabetes_X_test  = diabetes.data[-20:]\n",
        "diabetes_y_train = diabetes.target[:-20]\n",
        "diabetes_y_test  = diabetes.target[-20:]"
      ]
    },
    {
      "cell_type": "code",
      "execution_count": null,
      "metadata": {},
      "outputs": [
        {
          "data": {
            "text/plain": [
              "LinearRegression(copy_X=True, fit_intercept=True, n_jobs=1, normalize=False)"
            ]
          },
          "execution_count": null,
          "metadata": {},
          "output_type": "execute_result"
        }
      ],
      "source": [
        "from sklearn.linear_model import LinearRegression\n",
        "clr = LinearRegression()\n",
        "clr.fit(diabetes_X_train, diabetes_y_train)"
      ]
    },
    {
      "cell_type": "code",
      "execution_count": null,
      "metadata": {},
      "outputs": [
        {
          "data": {
            "text/plain": [
              "array([  3.03499549e-01,  -2.37639315e+02,   5.10530605e+02,\n",
              "         3.27736980e+02,  -8.14131709e+02,   4.92814588e+02,\n",
              "         1.02848452e+02,   1.84606489e+02,   7.43519617e+02,\n",
              "         7.60951722e+01])"
            ]
          },
          "execution_count": null,
          "metadata": {},
          "output_type": "execute_result"
        }
      ],
      "source": [
        "clr.coef_"
      ]
    },
    {
      "cell_type": "code",
      "execution_count": null,
      "metadata": {},
      "outputs": [
        {
          "data": {
            "text/plain": [
              "152.76430691633442"
            ]
          },
          "execution_count": null,
          "metadata": {},
          "output_type": "execute_result"
        }
      ],
      "source": [
        "clr.intercept_"
      ]
    },
    {
      "cell_type": "code",
      "execution_count": null,
      "metadata": {},
      "outputs": [
        {
          "name": "stdout",
          "output_type": "stream",
          "text": [
            "Moyenne: 19.25 \u00b5s Ecart-type 4.62 \u00b5s (with 100 runs) in [16.47 \u00b5s, 28.56 \u00b5s]\n"
          ]
        }
      ],
      "source": [
        "z = diabetes_X_test[0:1,:]\n",
        "memo_time.append(timeexe(\"sklearn.predict\", \"clr.predict(z)\"))"
      ]
    },
    {
      "cell_type": "code",
      "execution_count": null,
      "metadata": {},
      "outputs": [
        {
          "name": "stdout",
          "output_type": "stream",
          "text": [
            "18.8 \u00b5s \u00b1 907 ns per loop (mean \u00b1 std. dev. of 7 runs, 100000 loops each)\n"
          ]
        }
      ],
      "source": [
        "%timeit clr.predict(z)"
      ]
    },
    {
      "cell_type": "markdown",
      "metadata": {},
      "source": [
        "## optimisation avec cffi\n",
        "\n",
        "On s'inspire de l'exemple [Purely for performance (API level, out-of-line)](http://cffi.readthedocs.io/en/latest/overview.html?highlight=example#purely-for-performance-api-level-out-of-line)."
      ]
    },
    {
      "cell_type": "code",
      "execution_count": null,
      "metadata": {
        "scrolled": false
      },
      "outputs": [
        {
          "name": "stdout",
          "output_type": "stream",
          "text": [
            "generating .\\_linear_regression.c\n",
            "(already up-to-date)\n",
            "running build_ext\n",
            "building '_linear_regression' extension\n",
            "C:\\Program Files (x86)\\Microsoft Visual Studio 14.0\\VC\\BIN\\x86_amd64\\cl.exe /c /nologo /Ox /W3 /GL /DNDEBUG /MD -Ic:\\Python36_x64\\include -Ic:\\Python36_x64\\include \"-IC:\\Program Files (x86)\\Microsoft Visual Studio 14.0\\VC\\INCLUDE\" \"-IC:\\Program Files (x86)\\Microsoft Visual Studio 14.0\\VC\\ATLMFC\\INCLUDE\" \"-IC:\\Program Files (x86)\\Windows Kits\\10\\include\\10.0.10240.0\\ucrt\" \"-IC:\\Program Files (x86)\\Windows Kits\\NETFXSDK\\4.6.1\\include\\um\" \"-IC:\\Program Files (x86)\\Windows Kits\\8.1\\include\\\\shared\" \"-IC:\\Program Files (x86)\\Windows Kits\\8.1\\include\\\\um\" \"-IC:\\Program Files (x86)\\Windows Kits\\8.1\\include\\\\winrt\" /Tc_linear_regression.c /Fo.\\Release\\_linear_regression.obj\n",
            "C:\\Program Files (x86)\\Microsoft Visual Studio 14.0\\VC\\BIN\\x86_amd64\\link.exe /nologo /INCREMENTAL:NO /LTCG /DLL /MANIFEST:EMBED,ID=2 /MANIFESTUAC:NO /LIBPATH:c:\\Python36_x64\\libs /LIBPATH:c:\\Python36_x64\\PCbuild\\amd64 \"/LIBPATH:C:\\Program Files (x86)\\Microsoft Visual Studio 14.0\\VC\\LIB\\amd64\" \"/LIBPATH:C:\\Program Files (x86)\\Microsoft Visual Studio 14.0\\VC\\ATLMFC\\LIB\\amd64\" \"/LIBPATH:C:\\Program Files (x86)\\Windows Kits\\10\\lib\\10.0.10240.0\\ucrt\\x64\" \"/LIBPATH:C:\\Program Files (x86)\\Windows Kits\\NETFXSDK\\4.6.1\\lib\\um\\x64\" \"/LIBPATH:C:\\Program Files (x86)\\Windows Kits\\8.1\\lib\\winv6.3\\um\\x64\" /EXPORT:PyInit__linear_regression .\\Release\\_linear_regression.obj /OUT:.\\_linear_regression.cp36-win_amd64.pyd /IMPLIB:.\\Release\\_linear_regression.cp36-win_amd64.lib\n"
          ]
        },
        {
          "data": {
            "text/plain": [
              "'C:\\\\xavierdupre\\\\__home_\\\\GitHub\\\\ensae_teaching_cs\\\\_doc\\\\notebooks\\\\2a\\\\_linear_regression.cp36-win_amd64.pyd'"
            ]
          },
          "execution_count": null,
          "metadata": {},
          "output_type": "execute_result"
        }
      ],
      "source": [
        "from cffi import FFI\n",
        "ffibuilder = FFI()\n",
        "\n",
        "ffibuilder.cdef(\"int linreg(int, double *, double *, double, double *);\")\n",
        "\n",
        "ffibuilder.set_source(\"_linear_regression\",\n",
        "r\"\"\"\n",
        "    static int linreg(int dimension, double * x, double *coef, double intercept, double * out)\n",
        "    {\n",
        "        for(; dimension > 0; --dimension, ++x, ++coef)\n",
        "            intercept += *x * *coef;\n",
        "        *out = intercept;\n",
        "        return 1;\n",
        "    }\n",
        "\"\"\")\n",
        "\n",
        "ffibuilder.compile(verbose=True)"
      ]
    },
    {
      "cell_type": "markdown",
      "metadata": {},
      "source": [
        "La fonction compil\u00e9e est accessible comme suit."
      ]
    },
    {
      "cell_type": "code",
      "execution_count": null,
      "metadata": {},
      "outputs": [
        {
          "data": {
            "text/plain": [
              "<function _linear_regression.CompiledLib.linreg>"
            ]
          },
          "execution_count": null,
          "metadata": {},
          "output_type": "execute_result"
        }
      ],
      "source": [
        "from _linear_regression import ffi, lib\n",
        "lib.linreg"
      ]
    },
    {
      "cell_type": "markdown",
      "metadata": {},
      "source": [
        "On s'inspire de l'exemple [How to pass a Numpy array into a cffi function and how to get one back out?](https://stackoverflow.com/questions/16276268/how-to-pass-a-numpy-array-into-a-cffi-function-and-how-to-get-one-back-out)."
      ]
    },
    {
      "cell_type": "code",
      "execution_count": null,
      "metadata": {
        "collapsed": true
      },
      "outputs": [],
      "source": [
        "import numpy\n",
        "out = numpy.zeros(1)"
      ]
    },
    {
      "cell_type": "code",
      "execution_count": null,
      "metadata": {
        "collapsed": true
      },
      "outputs": [],
      "source": [
        "ptr_coef = clr.coef_.__array_interface__['data'][0]\n",
        "cptr_coef = ffi.cast ( \"double*\" , ptr_coef )"
      ]
    },
    {
      "cell_type": "code",
      "execution_count": null,
      "metadata": {
        "collapsed": true
      },
      "outputs": [],
      "source": [
        "x = diabetes_X_test[0:1,:]\n",
        "ptr_x = x.__array_interface__['data'][0]\n",
        "cptr_x = ffi.cast ( \"double*\" , ptr_x )"
      ]
    },
    {
      "cell_type": "code",
      "execution_count": null,
      "metadata": {
        "collapsed": true
      },
      "outputs": [],
      "source": [
        "ptr_out = out.__array_interface__['data'][0]\n",
        "cptr_out = ffi.cast ( \"double*\" , ptr_out )"
      ]
    },
    {
      "cell_type": "code",
      "execution_count": null,
      "metadata": {},
      "outputs": [
        {
          "data": {
            "text/plain": [
              "1"
            ]
          },
          "execution_count": null,
          "metadata": {},
          "output_type": "execute_result"
        }
      ],
      "source": [
        "n = len(clr.coef_)\n",
        "lib.linreg(n, cptr_x, cptr_coef, clr.intercept_, cptr_out)"
      ]
    },
    {
      "cell_type": "code",
      "execution_count": null,
      "metadata": {},
      "outputs": [
        {
          "data": {
            "text/plain": [
              "array([ 197.61846908])"
            ]
          },
          "execution_count": null,
          "metadata": {},
          "output_type": "execute_result"
        }
      ],
      "source": [
        "out"
      ]
    },
    {
      "cell_type": "markdown",
      "metadata": {},
      "source": [
        "On v\u00e9rifie qu'on obtient bien la m\u00eame chose."
      ]
    },
    {
      "cell_type": "code",
      "execution_count": null,
      "metadata": {},
      "outputs": [
        {
          "data": {
            "text/plain": [
              "array([ 197.61846908])"
            ]
          },
          "execution_count": null,
          "metadata": {},
          "output_type": "execute_result"
        }
      ],
      "source": [
        "clr.predict(x)"
      ]
    },
    {
      "cell_type": "markdown",
      "metadata": {},
      "source": [
        "Et on mesure le temps d'ex\u00e9cution :"
      ]
    },
    {
      "cell_type": "code",
      "execution_count": null,
      "metadata": {},
      "outputs": [
        {
          "name": "stdout",
          "output_type": "stream",
          "text": [
            "Moyenne: 441.64 ns Ecart-type 236.02 ns (with 100 runs) in [402.96 ns, 624.20 ns]\n"
          ]
        }
      ],
      "source": [
        "memo_time.append(timeexe(\"cffi-linreg\", \"lib.linreg(n, cptr_x, cptr_coef, clr.intercept_, cptr_out)\"))"
      ]
    },
    {
      "cell_type": "markdown",
      "metadata": {},
      "source": [
        "C'est beaucoup plus rapide. Pour \u00eatre totalement honn\u00eate, il faut mesurer les \u00e9tapes qui consiste \u00e0 extraire les pointeurs."
      ]
    },
    {
      "cell_type": "code",
      "execution_count": null,
      "metadata": {},
      "outputs": [
        {
          "data": {
            "text/plain": [
              "array([ 152.74058378])"
            ]
          },
          "execution_count": null,
          "metadata": {},
          "output_type": "execute_result"
        }
      ],
      "source": [
        "def predict_clr(x, clr):\n",
        "    out = numpy.zeros(1)\n",
        "    ptr_coef = clr.coef_.__array_interface__['data'][0]\n",
        "    cptr_coef = ffi.cast ( \"double*\" , ptr_coef )\n",
        "    ptr_x = x.__array_interface__['data'][0]\n",
        "    cptr_x = ffi.cast ( \"double*\" , ptr_x )  \n",
        "    ptr_out = out.__array_interface__['data'][0]\n",
        "    cptr_out = ffi.cast ( \"double*\" , ptr_out ) \n",
        "    lib.linreg(len(x), cptr_x, cptr_coef, clr.intercept_, cptr_out)\n",
        "    return out\n",
        "\n",
        "predict_clr(x, clr)"
      ]
    },
    {
      "cell_type": "code",
      "execution_count": null,
      "metadata": {},
      "outputs": [
        {
          "name": "stdout",
          "output_type": "stream",
          "text": [
            "Moyenne: 7.43 \u00b5s Ecart-type 2.28 \u00b5s (with 100 runs) in [6.36 \u00b5s, 12.22 \u00b5s]\n"
          ]
        }
      ],
      "source": [
        "memo_time.append(timeexe(\"cffi-linreg-wrapped\", \"predict_clr(x, clr)\"))"
      ]
    },
    {
      "cell_type": "markdown",
      "metadata": {},
      "source": [
        "Cela reste plus rapide."
      ]
    },
    {
      "cell_type": "markdown",
      "metadata": {},
      "source": [
        "## cffi - seconde version\n",
        "\n",
        "Comme on construit la fonction en dynamique (le code est connu lors de l'ex\u00e9cution), on peut facilement se passer de la boucle et \u00e9crire le code sans boucle et avec les coefficients."
      ]
    },
    {
      "cell_type": "code",
      "execution_count": null,
      "metadata": {},
      "outputs": [
        {
          "data": {
            "text/plain": [
              "'0.3034995490664121*x[0] + -237.63931533353392*x[1] + 510.5306054362245*x[2] + 327.7369804093466*x[3] + -814.1317093725389*x[4] + 492.81458798373245*x[5] + 102.84845219168025*x[6] + 184.60648905984064*x[7] + 743.5196167505419*x[8] + 76.095172216624*x[9]'"
            ]
          },
          "execution_count": null,
          "metadata": {},
          "output_type": "execute_result"
        }
      ],
      "source": [
        "res = \" + \".join(\"{0}*x[{1}]\".format(c, i) for i, c in enumerate(clr.coef_))\n",
        "res"
      ]
    },
    {
      "cell_type": "code",
      "execution_count": null,
      "metadata": {},
      "outputs": [
        {
          "name": "stdout",
          "output_type": "stream",
          "text": [
            "\n",
            "    static int linreg_custom(double * x, double * out)\n",
            "    {\n",
            "        out[0] = 152.76430691633442 + 0.3034995490664121*x[0] + -237.63931533353392*x[1] + 510.5306054362245*x[2] + 327.7369804093466*x[3] + -814.1317093725389*x[4] + 492.81458798373245*x[5] + 102.84845219168025*x[6] + 184.60648905984064*x[7] + 743.5196167505419*x[8] + 76.095172216624*x[9];\n",
            "    }\n",
            "\n"
          ]
        }
      ],
      "source": [
        "code = \"\"\"\n",
        "    static int linreg_custom(double * x, double * out)\n",
        "    {{\n",
        "        out[0] = {0} + {1};\n",
        "    }}\n",
        "\"\"\".format(clr.intercept_, res)\n",
        "print(code)"
      ]
    },
    {
      "cell_type": "code",
      "execution_count": null,
      "metadata": {
        "scrolled": false
      },
      "outputs": [
        {
          "name": "stdout",
          "output_type": "stream",
          "text": [
            "generating .\\_linear_regression_custom.c\n",
            "(already up-to-date)\n",
            "running build_ext\n",
            "building '_linear_regression_custom' extension\n",
            "C:\\Program Files (x86)\\Microsoft Visual Studio 14.0\\VC\\BIN\\x86_amd64\\cl.exe /c /nologo /Ox /W3 /GL /DNDEBUG /MD -Ic:\\Python36_x64\\include -Ic:\\Python36_x64\\include \"-IC:\\Program Files (x86)\\Microsoft Visual Studio 14.0\\VC\\INCLUDE\" \"-IC:\\Program Files (x86)\\Microsoft Visual Studio 14.0\\VC\\ATLMFC\\INCLUDE\" \"-IC:\\Program Files (x86)\\Windows Kits\\10\\include\\10.0.10240.0\\ucrt\" \"-IC:\\Program Files (x86)\\Windows Kits\\NETFXSDK\\4.6.1\\include\\um\" \"-IC:\\Program Files (x86)\\Windows Kits\\8.1\\include\\\\shared\" \"-IC:\\Program Files (x86)\\Windows Kits\\8.1\\include\\\\um\" \"-IC:\\Program Files (x86)\\Windows Kits\\8.1\\include\\\\winrt\" /Tc_linear_regression_custom.c /Fo.\\Release\\_linear_regression_custom.obj\n",
            "C:\\Program Files (x86)\\Microsoft Visual Studio 14.0\\VC\\BIN\\x86_amd64\\link.exe /nologo /INCREMENTAL:NO /LTCG /DLL /MANIFEST:EMBED,ID=2 /MANIFESTUAC:NO /LIBPATH:c:\\Python36_x64\\libs /LIBPATH:c:\\Python36_x64\\PCbuild\\amd64 \"/LIBPATH:C:\\Program Files (x86)\\Microsoft Visual Studio 14.0\\VC\\LIB\\amd64\" \"/LIBPATH:C:\\Program Files (x86)\\Microsoft Visual Studio 14.0\\VC\\ATLMFC\\LIB\\amd64\" \"/LIBPATH:C:\\Program Files (x86)\\Windows Kits\\10\\lib\\10.0.10240.0\\ucrt\\x64\" \"/LIBPATH:C:\\Program Files (x86)\\Windows Kits\\NETFXSDK\\4.6.1\\lib\\um\\x64\" \"/LIBPATH:C:\\Program Files (x86)\\Windows Kits\\8.1\\lib\\winv6.3\\um\\x64\" /EXPORT:PyInit__linear_regression_custom .\\Release\\_linear_regression_custom.obj /OUT:.\\_linear_regression_custom.cp36-win_amd64.pyd /IMPLIB:.\\Release\\_linear_regression_custom.cp36-win_amd64.lib\n"
          ]
        },
        {
          "data": {
            "text/plain": [
              "'C:\\\\xavierdupre\\\\__home_\\\\GitHub\\\\ensae_teaching_cs\\\\_doc\\\\notebooks\\\\2a\\\\_linear_regression_custom.cp36-win_amd64.pyd'"
            ]
          },
          "execution_count": null,
          "metadata": {},
          "output_type": "execute_result"
        }
      ],
      "source": [
        "from cffi import FFI\n",
        "ffibuilder = FFI()\n",
        "\n",
        "ffibuilder.cdef(\"int linreg_custom(double *, double *);\")\n",
        "ffibuilder.set_source(\"_linear_regression_custom\", code)\n",
        "ffibuilder.compile(verbose=True)"
      ]
    },
    {
      "cell_type": "code",
      "execution_count": null,
      "metadata": {},
      "outputs": [
        {
          "data": {
            "text/plain": [
              "array([ 197.61846908])"
            ]
          },
          "execution_count": null,
          "metadata": {},
          "output_type": "execute_result"
        }
      ],
      "source": [
        "from _linear_regression_custom.lib import linreg_custom\n",
        "linreg_custom(cptr_x, cptr_out)\n",
        "out"
      ]
    },
    {
      "cell_type": "code",
      "execution_count": null,
      "metadata": {},
      "outputs": [
        {
          "name": "stdout",
          "output_type": "stream",
          "text": [
            "Moyenne: 368.41 ns Ecart-type 204.57 ns (with 100 runs) in [288.40 ns, 513.58 ns]\n"
          ]
        }
      ],
      "source": [
        "memo_time.append(timeexe(\"cffi-linreg-custom\", \"linreg_custom(cptr_x, cptr_out)\"))"
      ]
    },
    {
      "cell_type": "markdown",
      "metadata": {},
      "source": [
        "On a gagn\u00e9 un facteur 2."
      ]
    },
    {
      "cell_type": "code",
      "execution_count": null,
      "metadata": {},
      "outputs": [
        {
          "data": {
            "text/plain": [
              "array([ 197.61846908])"
            ]
          },
          "execution_count": null,
          "metadata": {},
          "output_type": "execute_result"
        }
      ],
      "source": [
        "def predict_clr_custom(x):\n",
        "    out = numpy.zeros(1)\n",
        "    ptr_x = x.__array_interface__['data'][0]\n",
        "    cptr_x = ffi.cast ( \"double*\" , ptr_x )  \n",
        "    ptr_out = out.__array_interface__['data'][0]\n",
        "    cptr_out = ffi.cast ( \"double*\" , ptr_out ) \n",
        "    linreg_custom(cptr_x, cptr_out)\n",
        "    return out\n",
        "\n",
        "predict_clr_custom(x)"
      ]
    },
    {
      "cell_type": "code",
      "execution_count": null,
      "metadata": {},
      "outputs": [
        {
          "name": "stdout",
          "output_type": "stream",
          "text": [
            "Moyenne: 5.39 \u00b5s Ecart-type 2.06 \u00b5s (with 100 runs) in [4.54 \u00b5s, 9.85 \u00b5s]\n"
          ]
        }
      ],
      "source": [
        "memo_time.append(timeexe(\"cffi-linreg-custom wrapped\", \"predict_clr_custom(x)\"))"
      ]
    },
    {
      "cell_type": "markdown",
      "metadata": {},
      "source": [
        "C'est un peu plus rapide."
      ]
    },
    {
      "cell_type": "markdown",
      "metadata": {
        "collapsed": true
      },
      "source": [
        "## et en float?\n",
        "\n",
        "L'ordinateur fait la distinction entre les [double](https://en.wikipedia.org/wiki/Double-precision_floating-point_format) code sur 64 bit et les [float](https://en.wikipedia.org/wiki/Single-precision_floating-point_format) cod\u00e9 sur 32 bits. La pr\u00e9cision est meilleure dans le premier cas et les calculs sont plus rapides dans le second. Dans le cas du machine learning, on pr\u00e9f\u00e8re la rapidit\u00e9 \u00e0 une perte pr\u00e9cision en pr\u00e9cision qui est souvent compens\u00e9e par l'optimisation inh\u00e9rente \u00e0 tout probl\u00e8me de machine learning. Ce qu'on perd sur une observation, on le retrouve sur une autre."
      ]
    },
    {
      "cell_type": "code",
      "execution_count": null,
      "metadata": {},
      "outputs": [
        {
          "data": {
            "text/plain": [
              "'0.3034995490664121f*x[0] + -237.63931533353392f*x[1] + 510.5306054362245f*x[2] + 327.7369804093466f*x[3] + -814.1317093725389f*x[4] + 492.81458798373245f*x[5] + 102.84845219168025f*x[6] + 184.60648905984064f*x[7] + 743.5196167505419f*x[8] + 76.095172216624f*x[9]'"
            ]
          },
          "execution_count": null,
          "metadata": {},
          "output_type": "execute_result"
        }
      ],
      "source": [
        "res = \" + \".join(\"{0}f*x[{1}]\".format(c, i) for i, c in enumerate(clr.coef_))\n",
        "res"
      ]
    },
    {
      "cell_type": "code",
      "execution_count": null,
      "metadata": {},
      "outputs": [
        {
          "name": "stdout",
          "output_type": "stream",
          "text": [
            "\n",
            "    static int linreg_custom_float(float * x, float * out)\n",
            "    {\n",
            "        out[0] = 152.76430691633442f + 0.3034995490664121f*x[0] + -237.63931533353392f*x[1] + 510.5306054362245f*x[2] + 327.7369804093466f*x[3] + -814.1317093725389f*x[4] + 492.81458798373245f*x[5] + 102.84845219168025f*x[6] + 184.60648905984064f*x[7] + 743.5196167505419f*x[8] + 76.095172216624f*x[9];\n",
            "    }\n",
            "\n"
          ]
        }
      ],
      "source": [
        "code = \"\"\"\n",
        "    static int linreg_custom_float(float * x, float * out)\n",
        "    {{\n",
        "        out[0] = {0}f + {1};\n",
        "    }}\n",
        "\"\"\".format(clr.intercept_, res)\n",
        "print(code)"
      ]
    },
    {
      "cell_type": "code",
      "execution_count": null,
      "metadata": {},
      "outputs": [
        {
          "name": "stdout",
          "output_type": "stream",
          "text": [
            "generating .\\_linear_regression_custom_float.c\n",
            "(already up-to-date)\n",
            "running build_ext\n",
            "building '_linear_regression_custom_float' extension\n",
            "C:\\Program Files (x86)\\Microsoft Visual Studio 14.0\\VC\\BIN\\x86_amd64\\cl.exe /c /nologo /Ox /W3 /GL /DNDEBUG /MD -Ic:\\Python36_x64\\include -Ic:\\Python36_x64\\include \"-IC:\\Program Files (x86)\\Microsoft Visual Studio 14.0\\VC\\INCLUDE\" \"-IC:\\Program Files (x86)\\Microsoft Visual Studio 14.0\\VC\\ATLMFC\\INCLUDE\" \"-IC:\\Program Files (x86)\\Windows Kits\\10\\include\\10.0.10240.0\\ucrt\" \"-IC:\\Program Files (x86)\\Windows Kits\\NETFXSDK\\4.6.1\\include\\um\" \"-IC:\\Program Files (x86)\\Windows Kits\\8.1\\include\\\\shared\" \"-IC:\\Program Files (x86)\\Windows Kits\\8.1\\include\\\\um\" \"-IC:\\Program Files (x86)\\Windows Kits\\8.1\\include\\\\winrt\" /Tc_linear_regression_custom_float.c /Fo.\\Release\\_linear_regression_custom_float.obj\n",
            "C:\\Program Files (x86)\\Microsoft Visual Studio 14.0\\VC\\BIN\\x86_amd64\\link.exe /nologo /INCREMENTAL:NO /LTCG /DLL /MANIFEST:EMBED,ID=2 /MANIFESTUAC:NO /LIBPATH:c:\\Python36_x64\\libs /LIBPATH:c:\\Python36_x64\\PCbuild\\amd64 \"/LIBPATH:C:\\Program Files (x86)\\Microsoft Visual Studio 14.0\\VC\\LIB\\amd64\" \"/LIBPATH:C:\\Program Files (x86)\\Microsoft Visual Studio 14.0\\VC\\ATLMFC\\LIB\\amd64\" \"/LIBPATH:C:\\Program Files (x86)\\Windows Kits\\10\\lib\\10.0.10240.0\\ucrt\\x64\" \"/LIBPATH:C:\\Program Files (x86)\\Windows Kits\\NETFXSDK\\4.6.1\\lib\\um\\x64\" \"/LIBPATH:C:\\Program Files (x86)\\Windows Kits\\8.1\\lib\\winv6.3\\um\\x64\" /EXPORT:PyInit__linear_regression_custom_float .\\Release\\_linear_regression_custom_float.obj /OUT:.\\_linear_regression_custom_float.cp36-win_amd64.pyd /IMPLIB:.\\Release\\_linear_regression_custom_float.cp36-win_amd64.lib\n"
          ]
        },
        {
          "data": {
            "text/plain": [
              "'C:\\\\xavierdupre\\\\__home_\\\\GitHub\\\\ensae_teaching_cs\\\\_doc\\\\notebooks\\\\2a\\\\_linear_regression_custom_float.cp36-win_amd64.pyd'"
            ]
          },
          "execution_count": null,
          "metadata": {},
          "output_type": "execute_result"
        }
      ],
      "source": [
        "from cffi import FFI\n",
        "ffibuilder = FFI()\n",
        "\n",
        "ffibuilder.cdef(\"int linreg_custom_float(float *, float *);\")\n",
        "ffibuilder.set_source(\"_linear_regression_custom_float\", code)\n",
        "ffibuilder.compile(verbose=True)"
      ]
    },
    {
      "cell_type": "code",
      "execution_count": null,
      "metadata": {
        "collapsed": true
      },
      "outputs": [],
      "source": [
        "from _linear_regression_custom_float.lib import linreg_custom_float"
      ]
    },
    {
      "cell_type": "code",
      "execution_count": null,
      "metadata": {
        "collapsed": true
      },
      "outputs": [],
      "source": [
        "def predict_clr_custom_float(x):\n",
        "    out = numpy.zeros(1, dtype=numpy.float32)\n",
        "    ptr_x = x.__array_interface__['data'][0]\n",
        "    cptr_x = ffi.cast ( \"float*\" , ptr_x )  \n",
        "    ptr_out = out.__array_interface__['data'][0]\n",
        "    cptr_out = ffi.cast ( \"float*\" , ptr_out ) \n",
        "    linreg_custom_float(cptr_x, cptr_out)\n",
        "    return out"
      ]
    },
    {
      "cell_type": "markdown",
      "metadata": {},
      "source": [
        "Avant d'appeler la fonction, on doit transformer le vecteur iniatial en [float32](https://docs.scipy.org/doc/numpy/user/basics.types.html)."
      ]
    },
    {
      "cell_type": "code",
      "execution_count": null,
      "metadata": {},
      "outputs": [
        {
          "data": {
            "text/plain": [
              "array([ 152.76430692])"
            ]
          },
          "execution_count": null,
          "metadata": {},
          "output_type": "execute_result"
        }
      ],
      "source": [
        "x32 = x.astype(numpy.float32)\n",
        "predict_clr_custom(x32)"
      ]
    },
    {
      "cell_type": "code",
      "execution_count": null,
      "metadata": {},
      "outputs": [
        {
          "name": "stdout",
          "output_type": "stream",
          "text": [
            "Moyenne: 5.32 \u00b5s Ecart-type 1.36 \u00b5s (with 100 runs) in [4.66 \u00b5s, 8.33 \u00b5s]\n"
          ]
        }
      ],
      "source": [
        "memo_time.append(timeexe(\"cffi-linreg-custom-float wrapped\", \"predict_clr_custom(x32)\"))"
      ]
    },
    {
      "cell_type": "markdown",
      "metadata": {},
      "source": [
        "La diff\u00e9rence n'est pas flagrante. Mesurons le code C uniquement m\u00eame si la partie Python ne peut pas \u00eatre compl\u00e8tement \u00e9vit\u00e9e."
      ]
    },
    {
      "cell_type": "code",
      "execution_count": null,
      "metadata": {},
      "outputs": [
        {
          "name": "stdout",
          "output_type": "stream",
          "text": [
            "Moyenne: 315.92 ns Ecart-type 118.22 ns (with 100 runs) in [284.44 ns, 493.83 ns]\n"
          ]
        }
      ],
      "source": [
        "out = numpy.zeros(1, dtype=numpy.float32)\n",
        "ptr_x = x32.__array_interface__['data'][0]\n",
        "cptr_x = ffi.cast ( \"float*\" , ptr_x )  \n",
        "ptr_out = out.__array_interface__['data'][0]\n",
        "cptr_out = ffi.cast ( \"float*\" , ptr_out ) \n",
        "\n",
        "memo_time.append(timeexe(\"cffi-linreg-custom-float32\", \"linreg_custom_float(cptr_x, cptr_out)\"))"
      ]
    },
    {
      "cell_type": "markdown",
      "metadata": {},
      "source": [
        "La diff\u00e9rence n'est pas significative."
      ]
    },
    {
      "cell_type": "markdown",
      "metadata": {},
      "source": [
        "## SIMD\n",
        "\n",
        "C'est un ensemble d'instructions processeur pour faire des op\u00e9rations terme \u00e0 terme sur 4 float32 aussi rapidement qu'une seule. Le processeur ne peut faire des op\u00e9rations que les nombres sont copi\u00e9s dans ses registres. Le programme passe alors son temps \u00e0 copier des nombres depuis la m\u00e9moire vers les registres du processeur puis \u00e0 faire la copie dans le chemin inverse pour le r\u00e9sultat. Les instructions [SIMD](https://en.wikipedia.org/wiki/SIMD) font gagner du temps du niveau du calcul. Au lieu de faire 4 op\u00e9rations de multiplication terme \u00e0 terme, il n'en fait plus qu'une. Il suffit de savoir comment utiliser ces instructions. Avec Visual Studio, elles sont accessible via ces fonctions [Memory and Initialization Using Streaming SIMD Extensions](https://msdn.microsoft.com/en-us/library/0hey67c0%28v=vs.100%29.aspx).\n",
        "Le code suivant n'est probablement pas optimal mais il n'est pas trop compliqu\u00e9 \u00e0 suivre."
      ]
    },
    {
      "cell_type": "code",
      "execution_count": null,
      "metadata": {
        "collapsed": true
      },
      "outputs": [],
      "source": [
        "code = \"\"\"\n",
        "#include <xmmintrin.h> \n",
        "\n",
        "static int linreg_custom_float_simd(float * x, float * out)\n",
        "{\n",
        "    __m128 c1 = _mm_set_ps(0.3034995490664121f, -237.63931533353392f, 510.5306054362245f, 327.7369804093466f);\n",
        "    __m128 c2 = _mm_set_ps(-814.1317093725389f, 492.81458798373245f, 102.84845219168025f, 184.60648905984064f);\n",
        "    __m128 r1 = _mm_set_ss(152.76430691633442f);\n",
        "    r1 = _mm_add_ss(r1, _mm_mul_ps(c1, _mm_load_ps(x)));\n",
        "    r1 = _mm_add_ss(r1, _mm_mul_ps(c2, _mm_load_ps(x+4)));\n",
        "    float r[4];\n",
        "    _mm_store_ps(r, r1);    \n",
        "    out[0] = r[0] + r[1] + r[2] + r[3] + 743.5196167505419f * x[8] + 76.095172216624f * x[9];\n",
        "    return 1;\n",
        "}\n",
        "\"\"\""
      ]
    },
    {
      "cell_type": "code",
      "execution_count": null,
      "metadata": {
        "scrolled": false
      },
      "outputs": [
        {
          "name": "stdout",
          "output_type": "stream",
          "text": [
            "generating .\\_linear_regression_custom_float_simd.c\n",
            "(already up-to-date)\n",
            "running build_ext\n",
            "building '_linear_regression_custom_float_simd' extension\n",
            "C:\\Program Files (x86)\\Microsoft Visual Studio 14.0\\VC\\BIN\\x86_amd64\\cl.exe /c /nologo /Ox /W3 /GL /DNDEBUG /MD -Ic:\\Python36_x64\\include -Ic:\\Python36_x64\\include \"-IC:\\Program Files (x86)\\Microsoft Visual Studio 14.0\\VC\\INCLUDE\" \"-IC:\\Program Files (x86)\\Microsoft Visual Studio 14.0\\VC\\ATLMFC\\INCLUDE\" \"-IC:\\Program Files (x86)\\Windows Kits\\10\\include\\10.0.10240.0\\ucrt\" \"-IC:\\Program Files (x86)\\Windows Kits\\NETFXSDK\\4.6.1\\include\\um\" \"-IC:\\Program Files (x86)\\Windows Kits\\8.1\\include\\\\shared\" \"-IC:\\Program Files (x86)\\Windows Kits\\8.1\\include\\\\um\" \"-IC:\\Program Files (x86)\\Windows Kits\\8.1\\include\\\\winrt\" /Tc_linear_regression_custom_float_simd.c /Fo.\\Release\\_linear_regression_custom_float_simd.obj\n",
            "C:\\Program Files (x86)\\Microsoft Visual Studio 14.0\\VC\\BIN\\x86_amd64\\link.exe /nologo /INCREMENTAL:NO /LTCG /DLL /MANIFEST:EMBED,ID=2 /MANIFESTUAC:NO /LIBPATH:c:\\Python36_x64\\libs /LIBPATH:c:\\Python36_x64\\PCbuild\\amd64 \"/LIBPATH:C:\\Program Files (x86)\\Microsoft Visual Studio 14.0\\VC\\LIB\\amd64\" \"/LIBPATH:C:\\Program Files (x86)\\Microsoft Visual Studio 14.0\\VC\\ATLMFC\\LIB\\amd64\" \"/LIBPATH:C:\\Program Files (x86)\\Windows Kits\\10\\lib\\10.0.10240.0\\ucrt\\x64\" \"/LIBPATH:C:\\Program Files (x86)\\Windows Kits\\NETFXSDK\\4.6.1\\lib\\um\\x64\" \"/LIBPATH:C:\\Program Files (x86)\\Windows Kits\\8.1\\lib\\winv6.3\\um\\x64\" /EXPORT:PyInit__linear_regression_custom_float_simd .\\Release\\_linear_regression_custom_float_simd.obj /OUT:.\\_linear_regression_custom_float_simd.cp36-win_amd64.pyd /IMPLIB:.\\Release\\_linear_regression_custom_float_simd.cp36-win_amd64.lib\n"
          ]
        },
        {
          "data": {
            "text/plain": [
              "'C:\\\\xavierdupre\\\\__home_\\\\GitHub\\\\ensae_teaching_cs\\\\_doc\\\\notebooks\\\\2a\\\\_linear_regression_custom_float_simd.cp36-win_amd64.pyd'"
            ]
          },
          "execution_count": null,
          "metadata": {},
          "output_type": "execute_result"
        }
      ],
      "source": [
        "from cffi import FFI\n",
        "ffibuilder = FFI()\n",
        "\n",
        "ffibuilder.cdef(\"int linreg_custom_float_simd(float *, float *);\")\n",
        "ffibuilder.set_source(\"_linear_regression_custom_float_simd\", code)\n",
        "ffibuilder.compile(verbose=True)"
      ]
    },
    {
      "cell_type": "code",
      "execution_count": null,
      "metadata": {
        "collapsed": true
      },
      "outputs": [],
      "source": [
        "from _linear_regression_custom_float_simd.lib import linreg_custom_float_simd"
      ]
    },
    {
      "cell_type": "code",
      "execution_count": null,
      "metadata": {},
      "outputs": [
        {
          "data": {
            "text/plain": [
              "array([ 171.11779785], dtype=float32)"
            ]
          },
          "execution_count": null,
          "metadata": {},
          "output_type": "execute_result"
        }
      ],
      "source": [
        "out = numpy.zeros(1, dtype=numpy.float32)\n",
        "ptr_x = x32.__array_interface__['data'][0]\n",
        "cptr_x = ffi.cast ( \"float*\" , ptr_x )  \n",
        "ptr_out = out.__array_interface__['data'][0]\n",
        "cptr_out = ffi.cast ( \"float*\" , ptr_out ) \n",
        "\n",
        "linreg_custom_float_simd(cptr_x, cptr_out)\n",
        "out"
      ]
    },
    {
      "cell_type": "code",
      "execution_count": null,
      "metadata": {},
      "outputs": [
        {
          "name": "stdout",
          "output_type": "stream",
          "text": [
            "Moyenne: 361.48 ns Ecart-type 324.13 ns (with 100 runs) in [280.49 ns, 513.58 ns]\n"
          ]
        }
      ],
      "source": [
        "memo_time.append(timeexe(\"cffi-linreg-custom-float32-simd\", \"linreg_custom_float_simd(cptr_x, cptr_out)\"))"
      ]
    },
    {
      "cell_type": "markdown",
      "metadata": {},
      "source": [
        "C'est l\u00e9g\u00e8rement mieux, quelques r\u00e9f\u00e9rences :\n",
        "\n",
        "* [aligned_vs_unaligned_load.c](https://gist.github.com/rmcgibbo/7689820) : c'est du code mais facile \u00e0 lire.\n",
        "* [How to Write Fast Numerical Code](https://www.inf.ethz.ch/personal/markusp/teaching/263-2300-ETH-spring11/slides/class17.pdf)\n",
        "\n",
        "Les processeurs \u00e9voluent au fil du temps, 4 float, 8 float, [SIMD2](https://msdn.microsoft.com/en-us/library/kcwz153a%28v=vs.100%29.aspx), [FMA4 Intrinsics Added for Visual Studio 2010 SP1](https://msdn.microsoft.com/en-us/library/gg445134%28v=vs.100%29.aspx), [AVX](https://software.intel.com/en-us/articles/introduction-to-intel-advanced-vector-extensions/)."
      ]
    },
    {
      "cell_type": "markdown",
      "metadata": {
        "collapsed": true
      },
      "source": [
        "## R\u00e9\u00e9criture purement Python\n",
        "\n",
        "On continue avec uniquement du Python sans numpy."
      ]
    },
    {
      "cell_type": "code",
      "execution_count": null,
      "metadata": {},
      "outputs": [
        {
          "data": {
            "text/plain": [
              "[0.30349954906641208,\n",
              " -237.63931533353392,\n",
              " 510.5306054362245,\n",
              " 327.73698040934659,\n",
              " -814.13170937253892,\n",
              " 492.81458798373245,\n",
              " 102.84845219168025,\n",
              " 184.60648905984064,\n",
              " 743.5196167505419,\n",
              " 76.095172216623993]"
            ]
          },
          "execution_count": null,
          "metadata": {},
          "output_type": "execute_result"
        }
      ],
      "source": [
        "coef = clr.coef_\n",
        "list(coef)"
      ]
    },
    {
      "cell_type": "code",
      "execution_count": null,
      "metadata": {},
      "outputs": [
        {
          "data": {
            "text/plain": [
              "'152.764306916+x[0]*(0.3034995490664121)+x[1]*(-237.63931533353392)+x[2]*(510.5306054362245)+x[3]*(327.7369804093466)+x[4]*(-814.1317093725389)+x[5]*(492.81458798373245)+x[6]*(102.84845219168025)+x[7]*(184.60648905984064)+x[8]*(743.5196167505419)+x[9]*(76.095172216624)'"
            ]
          },
          "execution_count": null,
          "metadata": {},
          "output_type": "execute_result"
        }
      ],
      "source": [
        "code = str(clr.intercept_) + \"+\" + \"+\".join(\"x[{0}]*({1})\".format(i, c) for i, c in enumerate(coef))\n",
        "code"
      ]
    },
    {
      "cell_type": "code",
      "execution_count": null,
      "metadata": {},
      "outputs": [
        {
          "data": {
            "text/plain": [
              "197.61846907469848"
            ]
          },
          "execution_count": null,
          "metadata": {},
          "output_type": "execute_result"
        }
      ],
      "source": [
        "def predict_clr_python(x):\n",
        "    return 152.764306916+x[0]*0.3034995490664121+x[1]*(-237.63931533353392)+x[2]*510.5306054362245+ \\\n",
        "            x[3]*327.7369804093466+ \\\n",
        "            x[4]*(-814.1317093725389)+x[5]*492.81458798373245+x[6]*102.84845219168025+ \\\n",
        "            x[7]*184.60648905984064+x[8]*743.5196167505419+x[9]*76.095172216624\n",
        "            \n",
        "predict_clr_python(x[0])"
      ]
    },
    {
      "cell_type": "code",
      "execution_count": null,
      "metadata": {},
      "outputs": [
        {
          "name": "stdout",
          "output_type": "stream",
          "text": [
            "Moyenne: 3.24 \u00b5s Ecart-type 492.98 ns (with 100 runs) in [2.93 \u00b5s, 4.35 \u00b5s]\n"
          ]
        }
      ],
      "source": [
        "z = list(x[0])\n",
        "memo_time.append(timeexe(\"python-linreg\", \"predict_clr_python(z)\"))"
      ]
    },
    {
      "cell_type": "markdown",
      "metadata": {},
      "source": [
        "De fa\u00e7on assez surprenante, c'est plut\u00f4t rapide. Et si on y mettait une boucle."
      ]
    },
    {
      "cell_type": "code",
      "execution_count": null,
      "metadata": {},
      "outputs": [
        {
          "data": {
            "text/plain": [
              "[0.30349954906641208,\n",
              " -237.63931533353392,\n",
              " 510.5306054362245,\n",
              " 327.73698040934659,\n",
              " -814.13170937253892,\n",
              " 492.81458798373245,\n",
              " 102.84845219168025,\n",
              " 184.60648905984064,\n",
              " 743.5196167505419,\n",
              " 76.095172216623993]"
            ]
          },
          "execution_count": null,
          "metadata": {},
          "output_type": "execute_result"
        }
      ],
      "source": [
        "list(coef)"
      ]
    },
    {
      "cell_type": "code",
      "execution_count": null,
      "metadata": {},
      "outputs": [
        {
          "data": {
            "text/plain": [
              "197.61846907469848"
            ]
          },
          "execution_count": null,
          "metadata": {},
          "output_type": "execute_result"
        }
      ],
      "source": [
        "def predict_clr_python_loop(x):\n",
        "    coef = [0.30349954906641208,\n",
        "            -237.63931533353392,\n",
        "            510.5306054362245,\n",
        "            327.73698040934659,\n",
        "            -814.13170937253892,\n",
        "            492.81458798373245,\n",
        "            102.84845219168025,\n",
        "            184.60648905984064,\n",
        "            743.5196167505419,\n",
        "            76.095172216623993]\n",
        "    return 152.764306916 + sum(a*b for a, b in zip(x, coef))\n",
        "            \n",
        "predict_clr_python_loop(x[0])"
      ]
    },
    {
      "cell_type": "code",
      "execution_count": null,
      "metadata": {},
      "outputs": [
        {
          "name": "stdout",
          "output_type": "stream",
          "text": [
            "Moyenne: 4.44 \u00b5s Ecart-type 1.12 \u00b5s (with 100 runs) in [3.92 \u00b5s, 6.90 \u00b5s]\n"
          ]
        }
      ],
      "source": [
        "memo_time.append(timeexe(\"python-linreg-custom\", \"predict_clr_python_loop(z)\"))"
      ]
    },
    {
      "cell_type": "markdown",
      "metadata": {},
      "source": [
        "A peine plus long. Et si on sortait les coefficients de la fonction."
      ]
    },
    {
      "cell_type": "code",
      "execution_count": null,
      "metadata": {},
      "outputs": [
        {
          "data": {
            "text/plain": [
              "197.61846907469848"
            ]
          },
          "execution_count": null,
          "metadata": {},
          "output_type": "execute_result"
        }
      ],
      "source": [
        "coef = [0.30349954906641208,\n",
        "        -237.63931533353392,\n",
        "        510.5306054362245,\n",
        "        327.73698040934659,\n",
        "        -814.13170937253892,\n",
        "        492.81458798373245,\n",
        "        102.84845219168025,\n",
        "        184.60648905984064,\n",
        "        743.5196167505419,\n",
        "        76.095172216623993]\n",
        "\n",
        "def predict_clr_python_loop2(x):\n",
        "    return 152.764306916 + sum(a*b for a, b in zip(x, coef))\n",
        "            \n",
        "predict_clr_python_loop2(x[0])"
      ]
    },
    {
      "cell_type": "code",
      "execution_count": null,
      "metadata": {},
      "outputs": [
        {
          "name": "stdout",
          "output_type": "stream",
          "text": [
            "Moyenne: 4.32 \u00b5s Ecart-type 793.04 ns (with 100 runs) in [3.88 \u00b5s, 5.33 \u00b5s]\n"
          ]
        }
      ],
      "source": [
        "memo_time.append(timeexe(\"python-linreg-custom-static\", \"predict_clr_python_loop2(z)\"))"
      ]
    },
    {
      "cell_type": "markdown",
      "metadata": {},
      "source": [
        "## R\u00e9\u00e9criture avec Python et numpy"
      ]
    },
    {
      "cell_type": "code",
      "execution_count": null,
      "metadata": {},
      "outputs": [
        {
          "data": {
            "text/plain": [
              "197.61846907469848"
            ]
          },
          "execution_count": null,
          "metadata": {},
          "output_type": "execute_result"
        }
      ],
      "source": [
        "coef = numpy.array([0.30349954906641208,\n",
        "        -237.63931533353392,\n",
        "        510.5306054362245,\n",
        "        327.73698040934659,\n",
        "        -814.13170937253892,\n",
        "        492.81458798373245,\n",
        "        102.84845219168025,\n",
        "        184.60648905984064,\n",
        "        743.5196167505419,\n",
        "        76.095172216623993])\n",
        "\n",
        "def predict_clr_numpy(x):    \n",
        "    return 152.764306916 + numpy.dot(coef, x).sum()\n",
        "            \n",
        "predict_clr_numpy(x[0])"
      ]
    },
    {
      "cell_type": "code",
      "execution_count": null,
      "metadata": {},
      "outputs": [
        {
          "name": "stdout",
          "output_type": "stream",
          "text": [
            "Moyenne: 5.23 \u00b5s Ecart-type 2.13 \u00b5s (with 100 runs) in [4.44 \u00b5s, 8.59 \u00b5s]\n"
          ]
        }
      ],
      "source": [
        "memo_time.append(timeexe(\"numpy-linreg-custom-static\", \"predict_clr_numpy(z)\"))"
      ]
    },
    {
      "cell_type": "markdown",
      "metadata": {},
      "source": [
        "Les dimensions des tableaux sont trop petites pour que le calcul matriciel apporte une diff\u00e9rence. On se retrouve dans le cas *cffi* o\u00f9 les \u00e9changes Python - C grignotent tout le temps de calcul."
      ]
    },
    {
      "cell_type": "markdown",
      "metadata": {},
      "source": [
        "## numba\n",
        "\n",
        "[numba](http://numba.pydata.org/) essaye de compiler \u00e0 la vol\u00e9e des bouts de codes \u00e9crits en Python. On induque quelle fonction optimiser en faisant pr\u00e9c\u00e9der la fonction de ``@jit``. Toutes les \u00e9critures ne fonctionnent, typiquement, certaines listes en compr\u00e9hension soul\u00e8vent une exception. Il faut donc \u00e9crire son code en Python d'une fa\u00e7on assez proche de ce qu'il serait en C."
      ]
    },
    {
      "cell_type": "code",
      "execution_count": null,
      "metadata": {
        "collapsed": true
      },
      "outputs": [],
      "source": [
        "from numba import jit"
      ]
    },
    {
      "cell_type": "code",
      "execution_count": null,
      "metadata": {
        "scrolled": false
      },
      "outputs": [
        {
          "data": {
            "text/plain": [
              "197.61846907469848"
            ]
          },
          "execution_count": null,
          "metadata": {},
          "output_type": "execute_result"
        }
      ],
      "source": [
        "@jit\n",
        "def predict_clr_numba(x):\n",
        "    coef = [0.30349954906641208,\n",
        "            -237.63931533353392,\n",
        "            510.5306054362245,\n",
        "            327.73698040934659,\n",
        "            -814.13170937253892,\n",
        "            492.81458798373245,\n",
        "            102.84845219168025,\n",
        "            184.60648905984064,\n",
        "            743.5196167505419,\n",
        "            76.095172216623993]\n",
        "    s = 152.764306916\n",
        "    for i in range(0, len(x)):\n",
        "        s += coef[i] * x[i]\n",
        "    return s\n",
        "            \n",
        "predict_clr_numba(z)"
      ]
    },
    {
      "cell_type": "code",
      "execution_count": null,
      "metadata": {},
      "outputs": [
        {
          "name": "stdout",
          "output_type": "stream",
          "text": [
            "Moyenne: 1.03 \u00b5s Ecart-type 297.64 ns (with 100 runs) in [932.35 ns, 1.34 \u00b5s]\n"
          ]
        }
      ],
      "source": [
        "memo_time.append(timeexe(\"numba-linreg\", \"predict_clr_numba(z)\"))"
      ]
    },
    {
      "cell_type": "markdown",
      "metadata": {},
      "source": [
        "Plut\u00f4t rapide !"
      ]
    },
    {
      "cell_type": "code",
      "execution_count": null,
      "metadata": {},
      "outputs": [
        {
          "data": {
            "text/plain": [
              "197.61846907469848"
            ]
          },
          "execution_count": null,
          "metadata": {},
          "output_type": "execute_result"
        }
      ],
      "source": [
        "@jit('double(double[:])')\n",
        "def predict_clr_numba_cast(x):\n",
        "    coef = [0.30349954906641208,\n",
        "            -237.63931533353392,\n",
        "            510.5306054362245,\n",
        "            327.73698040934659,\n",
        "            -814.13170937253892,\n",
        "            492.81458798373245,\n",
        "            102.84845219168025,\n",
        "            184.60648905984064,\n",
        "            743.5196167505419,\n",
        "            76.095172216623993]\n",
        "    s = 152.764306916\n",
        "    for i in range(0, len(x)):\n",
        "        s += coef[i] * x[i]\n",
        "    return s\n",
        "            \n",
        "# La fonction ne fonctionne qu'avec un numpy.array car le langage C est fortement typ\u00e9.\n",
        "predict_clr_numba_cast(x[0])"
      ]
    },
    {
      "cell_type": "code",
      "execution_count": null,
      "metadata": {},
      "outputs": [
        {
          "name": "stdout",
          "output_type": "stream",
          "text": [
            "Moyenne: 783.52 ns Ecart-type 270.76 ns (with 100 runs) in [695.31 ns, 1.23 \u00b5s]\n"
          ]
        }
      ],
      "source": [
        "memo_time.append(timeexe(\"numba-linreg-type\", \"predict_clr_numba_cast(x[0])\"))"
      ]
    },
    {
      "cell_type": "markdown",
      "metadata": {},
      "source": [
        "On voit que plus on donne d'information au compilateur, plus il est capable d'optimiser."
      ]
    },
    {
      "cell_type": "code",
      "execution_count": null,
      "metadata": {},
      "outputs": [
        {
          "data": {
            "text/plain": [
              "197.61846923828125"
            ]
          },
          "execution_count": null,
          "metadata": {},
          "output_type": "execute_result"
        }
      ],
      "source": [
        "@jit('float32(float32[:])')\n",
        "def predict_clr_numba_cast_float(x):\n",
        "    coef = [0.30349954906641208,\n",
        "            -237.63931533353392,\n",
        "            510.5306054362245,\n",
        "            327.73698040934659,\n",
        "            -814.13170937253892,\n",
        "            492.81458798373245,\n",
        "            102.84845219168025,\n",
        "            184.60648905984064,\n",
        "            743.5196167505419,\n",
        "            76.095172216623993]\n",
        "    s = 152.764306916\n",
        "    for i in range(0, len(x)):\n",
        "        s += coef[i] * x[i]\n",
        "    return s\n",
        "            \n",
        "# La fonction ne fonctionne qu'avec un numpy.array car le langage C est fortement typ\u00e9.\n",
        "xx = x[0].astype(numpy.float32)\n",
        "predict_clr_numba_cast_float(xx)"
      ]
    },
    {
      "cell_type": "code",
      "execution_count": null,
      "metadata": {},
      "outputs": [
        {
          "name": "stdout",
          "output_type": "stream",
          "text": [
            "Moyenne: 548.29 ns Ecart-type 361.07 ns (with 100 runs) in [497.78 ns, 857.28 ns]\n"
          ]
        }
      ],
      "source": [
        "memo_time.append(timeexe(\"numba-linreg-type-float32\", \"predict_clr_numba_cast_float(xx)\"))"
      ]
    },
    {
      "cell_type": "markdown",
      "metadata": {},
      "source": [
        "On se rapproche des temps obtenus avec *cffi* sans *wrapping*, cela signifie que *numba* fait un bien meilleur travail \u00e0 ce niveau que le wrapper rapidement cr\u00e9\u00e9."
      ]
    },
    {
      "cell_type": "code",
      "execution_count": null,
      "metadata": {},
      "outputs": [
        {
          "data": {
            "text/plain": [
              "197.61846907469848"
            ]
          },
          "execution_count": null,
          "metadata": {},
          "output_type": "execute_result"
        }
      ],
      "source": [
        "coef = numpy.array([0.30349954906641208,\n",
        "    -237.63931533353392,\n",
        "    510.5306054362245,\n",
        "    327.73698040934659,\n",
        "    -814.13170937253892,\n",
        "    492.81458798373245,\n",
        "    102.84845219168025,\n",
        "    184.60648905984064,\n",
        "    743.5196167505419,\n",
        "    76.095172216623993])\n",
        "\n",
        "@jit('double(double[:])')\n",
        "def predict_clr_numba_numpy(x):    \n",
        "    return 152.764306916 + numpy.dot(coef, x).sum()\n",
        "\n",
        "predict_clr_numba_numpy(x[0])"
      ]
    },
    {
      "cell_type": "code",
      "execution_count": null,
      "metadata": {},
      "outputs": [
        {
          "name": "stdout",
          "output_type": "stream",
          "text": [
            "Moyenne: 5.13 \u00b5s Ecart-type 1.71 \u00b5s (with 100 runs) in [4.51 \u00b5s, 7.03 \u00b5s]\n"
          ]
        }
      ],
      "source": [
        "memo_time.append(timeexe(\"numba-linreg-type-numpy\", \"predict_clr_numba_numpy(x[0])\"))"
      ]
    },
    {
      "cell_type": "markdown",
      "metadata": {},
      "source": [
        "*numba* est moins performant quand *numpy* est impliqu\u00e9 car le code de numpy n'est pas r\u00e9\u00e9crit, il est appel\u00e9."
      ]
    },
    {
      "cell_type": "markdown",
      "metadata": {},
      "source": [
        "## cython\n",
        "\n",
        "[cython](http://cython.org/) permet de cr\u00e9er des extensions C de plus grande envergure que *numba*. C'est l'option choisie par [scikit-learn](http://scikit-learn.org/stable/). Il vaut mieux conna\u00eetre le C pour s'en servir et l\u00e0 encore, l'objectif est de r\u00e9duire les \u00e9changes Python / C qui co\u00fbtent cher."
      ]
    },
    {
      "cell_type": "code",
      "execution_count": null,
      "metadata": {
        "collapsed": true
      },
      "outputs": [],
      "source": [
        "%load_ext cython"
      ]
    },
    {
      "cell_type": "code",
      "execution_count": null,
      "metadata": {
        "collapsed": true
      },
      "outputs": [],
      "source": [
        "%%cython\n",
        "def predict_clr_cython(x):\n",
        "    coef = [0.30349954906641208,\n",
        "            -237.63931533353392,\n",
        "            510.5306054362245,\n",
        "            327.73698040934659,\n",
        "            -814.13170937253892,\n",
        "            492.81458798373245,\n",
        "            102.84845219168025,\n",
        "            184.60648905984064,\n",
        "            743.5196167505419,\n",
        "            76.095172216623993]\n",
        "    s = 152.764306916\n",
        "    for i in range(0, len(x)):\n",
        "        s += coef[i] * x[i]\n",
        "    return s"
      ]
    },
    {
      "cell_type": "code",
      "execution_count": null,
      "metadata": {},
      "outputs": [
        {
          "data": {
            "text/plain": [
              "197.61846907469848"
            ]
          },
          "execution_count": null,
          "metadata": {},
          "output_type": "execute_result"
        }
      ],
      "source": [
        "predict_clr_cython(x[0])"
      ]
    },
    {
      "cell_type": "code",
      "execution_count": null,
      "metadata": {},
      "outputs": [
        {
          "name": "stdout",
          "output_type": "stream",
          "text": [
            "Moyenne: 3.10 \u00b5s Ecart-type 413.13 ns (with 100 runs) in [2.89 \u00b5s, 3.85 \u00b5s]\n"
          ]
        }
      ],
      "source": [
        "memo_time.append(timeexe(\"cython-linreg\", \"predict_clr_cython(x[0])\"))"
      ]
    },
    {
      "cell_type": "markdown",
      "metadata": {},
      "source": [
        "Cython fait moins bien que *numba* dans notre cas et l'optimisation propos\u00e9e est assez proche du temps d\u00e9j\u00e0 obtenue avec le langage Python seul. Cela est d\u00fb au fait que la plupart des objets tels que du code associ\u00e9 aux listes ou aux dictionnaires ont \u00e9t\u00e9 r\u00e9\u00e9crits en C."
      ]
    },
    {
      "cell_type": "code",
      "execution_count": null,
      "metadata": {
        "collapsed": true
      },
      "outputs": [],
      "source": [
        "%%cython\n",
        "def predict_clr_cython_type(x):\n",
        "    cdef double[10] coef;\n",
        "    coef[0] = 0.30349954906641208;\n",
        "    coef[1] = -237.63931533353392;\n",
        "    coef[2] = 510.5306054362245;\n",
        "    coef[3] = 327.73698040934659;\n",
        "    coef[4] = -814.13170937253892;\n",
        "    coef[5] = 492.81458798373245;\n",
        "    coef[6] = 102.84845219168025;\n",
        "    coef[7] = 184.60648905984064;\n",
        "    coef[8] = 743.5196167505419;\n",
        "    coef[9] = 76.095172216623993;\n",
        "    cdef double s = 152.764306916\n",
        "    for i in range(0, len(x)):\n",
        "        s += coef[i] * x[i]\n",
        "    return s"
      ]
    },
    {
      "cell_type": "code",
      "execution_count": null,
      "metadata": {},
      "outputs": [
        {
          "data": {
            "text/plain": [
              "197.61846907469848"
            ]
          },
          "execution_count": null,
          "metadata": {},
          "output_type": "execute_result"
        }
      ],
      "source": [
        "predict_clr_cython_type(x[0])"
      ]
    },
    {
      "cell_type": "code",
      "execution_count": null,
      "metadata": {},
      "outputs": [
        {
          "name": "stdout",
          "output_type": "stream",
          "text": [
            "Moyenne: 3.35 \u00b5s Ecart-type 541.78 ns (with 100 runs) in [3.08 \u00b5s, 4.60 \u00b5s]\n"
          ]
        }
      ],
      "source": [
        "memo_time.append(timeexe(\"cython-linreg-type\", \"predict_clr_cython_type(x[0])\"))"
      ]
    },
    {
      "cell_type": "markdown",
      "metadata": {},
      "source": [
        "## R\u00e9capitulatif"
      ]
    },
    {
      "cell_type": "code",
      "execution_count": null,
      "metadata": {},
      "outputs": [
        {
          "data": {
            "text/html": [
              "<div>\n",
              "<style>\n",
              "    .dataframe thead tr:only-child th {\n",
              "        text-align: right;\n",
              "    }\n",
              "\n",
              "    .dataframe thead th {\n",
              "        text-align: left;\n",
              "    }\n",
              "\n",
              "    .dataframe tbody tr th {\n",
              "        vertical-align: top;\n",
              "    }\n",
              "</style>\n",
              "<table border=\"1\" class=\"dataframe\">\n",
              "  <thead>\n",
              "    <tr style=\"text-align: right;\">\n",
              "      <th></th>\n",
              "      <th>average</th>\n",
              "      <th>code</th>\n",
              "      <th>deviation</th>\n",
              "      <th>first</th>\n",
              "      <th>first3</th>\n",
              "      <th>last3</th>\n",
              "      <th>max5</th>\n",
              "      <th>min5</th>\n",
              "      <th>repeat</th>\n",
              "      <th>run</th>\n",
              "    </tr>\n",
              "    <tr>\n",
              "      <th>legend</th>\n",
              "      <th></th>\n",
              "      <th></th>\n",
              "      <th></th>\n",
              "      <th></th>\n",
              "      <th></th>\n",
              "      <th></th>\n",
              "      <th></th>\n",
              "      <th></th>\n",
              "      <th></th>\n",
              "      <th></th>\n",
              "    </tr>\n",
              "  </thead>\n",
              "  <tbody>\n",
              "    <tr>\n",
              "      <th>cffi-linreg-custom-float32</th>\n",
              "      <td>3.159161e-07</td>\n",
              "      <td>linreg_custom_float(cptr_x, cptr_out)</td>\n",
              "      <td>1.182224e-07</td>\n",
              "      <td>5.278029e-06</td>\n",
              "      <td>3.630620e-06</td>\n",
              "      <td>2.857615e-07</td>\n",
              "      <td>4.938276e-07</td>\n",
              "      <td>2.844447e-07</td>\n",
              "      <td>10000</td>\n",
              "      <td>100</td>\n",
              "    </tr>\n",
              "    <tr>\n",
              "      <th>cffi-linreg-custom-float32-simd</th>\n",
              "      <td>3.614786e-07</td>\n",
              "      <td>linreg_custom_float_simd(cptr_x, cptr_out)</td>\n",
              "      <td>3.241254e-07</td>\n",
              "      <td>1.054816e-06</td>\n",
              "      <td>7.479841e-07</td>\n",
              "      <td>3.963789e-07</td>\n",
              "      <td>5.135807e-07</td>\n",
              "      <td>2.804940e-07</td>\n",
              "      <td>10000</td>\n",
              "      <td>100</td>\n",
              "    </tr>\n",
              "    <tr>\n",
              "      <th>cffi-linreg-custom</th>\n",
              "      <td>3.684104e-07</td>\n",
              "      <td>linreg_custom(cptr_x, cptr_out)</td>\n",
              "      <td>2.045700e-07</td>\n",
              "      <td>1.248396e-06</td>\n",
              "      <td>7.651035e-07</td>\n",
              "      <td>2.923459e-07</td>\n",
              "      <td>5.135807e-07</td>\n",
              "      <td>2.883953e-07</td>\n",
              "      <td>10000</td>\n",
              "      <td>100</td>\n",
              "    </tr>\n",
              "    <tr>\n",
              "      <th>cffi-linreg</th>\n",
              "      <td>4.416383e-07</td>\n",
              "      <td>lib.linreg(n, cptr_x, cptr_coef, clr.intercept...</td>\n",
              "      <td>2.360197e-07</td>\n",
              "      <td>1.280001e-06</td>\n",
              "      <td>8.599184e-07</td>\n",
              "      <td>7.321816e-07</td>\n",
              "      <td>6.241980e-07</td>\n",
              "      <td>4.029633e-07</td>\n",
              "      <td>10000</td>\n",
              "      <td>100</td>\n",
              "    </tr>\n",
              "    <tr>\n",
              "      <th>numba-linreg-type-float32</th>\n",
              "      <td>5.482900e-07</td>\n",
              "      <td>predict_clr_numba_cast_float(xx)</td>\n",
              "      <td>3.610705e-07</td>\n",
              "      <td>8.454328e-07</td>\n",
              "      <td>8.190953e-07</td>\n",
              "      <td>4.977782e-07</td>\n",
              "      <td>8.572846e-07</td>\n",
              "      <td>4.977782e-07</td>\n",
              "      <td>10000</td>\n",
              "      <td>100</td>\n",
              "    </tr>\n",
              "    <tr>\n",
              "      <th>numba-linreg-type</th>\n",
              "      <td>7.835194e-07</td>\n",
              "      <td>predict_clr_numba_cast(x[0])</td>\n",
              "      <td>2.707551e-07</td>\n",
              "      <td>1.315557e-06</td>\n",
              "      <td>1.222059e-06</td>\n",
              "      <td>1.004774e-06</td>\n",
              "      <td>1.228643e-06</td>\n",
              "      <td>6.953092e-07</td>\n",
              "      <td>10000</td>\n",
              "      <td>100</td>\n",
              "    </tr>\n",
              "    <tr>\n",
              "      <th>numba-linreg</th>\n",
              "      <td>1.027604e-06</td>\n",
              "      <td>predict_clr_numba(z)</td>\n",
              "      <td>2.976377e-07</td>\n",
              "      <td>1.702717e-06</td>\n",
              "      <td>1.572347e-06</td>\n",
              "      <td>1.053499e-06</td>\n",
              "      <td>1.335310e-06</td>\n",
              "      <td>9.323464e-07</td>\n",
              "      <td>10000</td>\n",
              "      <td>100</td>\n",
              "    </tr>\n",
              "    <tr>\n",
              "      <th>cython-linreg</th>\n",
              "      <td>3.102687e-06</td>\n",
              "      <td>predict_clr_cython(x[0])</td>\n",
              "      <td>4.131303e-07</td>\n",
              "      <td>5.775807e-06</td>\n",
              "      <td>4.946177e-06</td>\n",
              "      <td>3.047245e-06</td>\n",
              "      <td>3.851855e-06</td>\n",
              "      <td>2.887904e-06</td>\n",
              "      <td>10000</td>\n",
              "      <td>100</td>\n",
              "    </tr>\n",
              "    <tr>\n",
              "      <th>python-linreg</th>\n",
              "      <td>3.237623e-06</td>\n",
              "      <td>predict_clr_python(z)</td>\n",
              "      <td>4.929823e-07</td>\n",
              "      <td>4.993584e-06</td>\n",
              "      <td>5.056794e-06</td>\n",
              "      <td>3.674077e-06</td>\n",
              "      <td>4.349633e-06</td>\n",
              "      <td>2.927410e-06</td>\n",
              "      <td>10000</td>\n",
              "      <td>100</td>\n",
              "    </tr>\n",
              "    <tr>\n",
              "      <th>cython-linreg-type</th>\n",
              "      <td>3.351811e-06</td>\n",
              "      <td>predict_clr_cython_type(x[0])</td>\n",
              "      <td>5.417831e-07</td>\n",
              "      <td>7.142722e-06</td>\n",
              "      <td>5.969387e-06</td>\n",
              "      <td>3.327739e-06</td>\n",
              "      <td>4.602473e-06</td>\n",
              "      <td>3.081484e-06</td>\n",
              "      <td>10000</td>\n",
              "      <td>100</td>\n",
              "    </tr>\n",
              "    <tr>\n",
              "      <th>python-linreg-custom-static</th>\n",
              "      <td>4.320992e-06</td>\n",
              "      <td>predict_clr_python_loop2(z)</td>\n",
              "      <td>7.930371e-07</td>\n",
              "      <td>8.438525e-06</td>\n",
              "      <td>5.969387e-06</td>\n",
              "      <td>4.369386e-06</td>\n",
              "      <td>5.325436e-06</td>\n",
              "      <td>3.879509e-06</td>\n",
              "      <td>10000</td>\n",
              "      <td>100</td>\n",
              "    </tr>\n",
              "    <tr>\n",
              "      <th>python-linreg-custom</th>\n",
              "      <td>4.443420e-06</td>\n",
              "      <td>predict_clr_python_loop(z)</td>\n",
              "      <td>1.118613e-06</td>\n",
              "      <td>5.305683e-06</td>\n",
              "      <td>4.480004e-06</td>\n",
              "      <td>4.294324e-06</td>\n",
              "      <td>6.897783e-06</td>\n",
              "      <td>3.922966e-06</td>\n",
              "      <td>10000</td>\n",
              "      <td>100</td>\n",
              "    </tr>\n",
              "    <tr>\n",
              "      <th>numba-linreg-type-numpy</th>\n",
              "      <td>5.126772e-06</td>\n",
              "      <td>predict_clr_numba_numpy(x[0])</td>\n",
              "      <td>1.713942e-06</td>\n",
              "      <td>8.782229e-06</td>\n",
              "      <td>1.604610e-05</td>\n",
              "      <td>4.751279e-06</td>\n",
              "      <td>7.028154e-06</td>\n",
              "      <td>4.507658e-06</td>\n",
              "      <td>10000</td>\n",
              "      <td>100</td>\n",
              "    </tr>\n",
              "    <tr>\n",
              "      <th>numpy-linreg-custom-static</th>\n",
              "      <td>5.233911e-06</td>\n",
              "      <td>predict_clr_numpy(z)</td>\n",
              "      <td>2.125935e-06</td>\n",
              "      <td>8.940254e-06</td>\n",
              "      <td>9.436715e-06</td>\n",
              "      <td>4.738111e-06</td>\n",
              "      <td>8.592599e-06</td>\n",
              "      <td>4.436547e-06</td>\n",
              "      <td>10000</td>\n",
              "      <td>100</td>\n",
              "    </tr>\n",
              "    <tr>\n",
              "      <th>cffi-linreg-custom-float wrapped</th>\n",
              "      <td>5.318191e-06</td>\n",
              "      <td>predict_clr_custom(x32)</td>\n",
              "      <td>1.357652e-06</td>\n",
              "      <td>9.382723e-06</td>\n",
              "      <td>1.427359e-05</td>\n",
              "      <td>5.002802e-06</td>\n",
              "      <td>8.327908e-06</td>\n",
              "      <td>4.657781e-06</td>\n",
              "      <td>10000</td>\n",
              "      <td>100</td>\n",
              "    </tr>\n",
              "    <tr>\n",
              "      <th>cffi-linreg-custom wrapped</th>\n",
              "      <td>5.386622e-06</td>\n",
              "      <td>predict_clr_custom(x)</td>\n",
              "      <td>2.064756e-06</td>\n",
              "      <td>7.940747e-06</td>\n",
              "      <td>7.787990e-06</td>\n",
              "      <td>4.906671e-06</td>\n",
              "      <td>9.848897e-06</td>\n",
              "      <td>4.539263e-06</td>\n",
              "      <td>10000</td>\n",
              "      <td>100</td>\n",
              "    </tr>\n",
              "    <tr>\n",
              "      <th>cffi-linreg-wrapped</th>\n",
              "      <td>7.426155e-06</td>\n",
              "      <td>predict_clr(x, clr)</td>\n",
              "      <td>2.276762e-06</td>\n",
              "      <td>1.911310e-05</td>\n",
              "      <td>1.603162e-05</td>\n",
              "      <td>6.431610e-06</td>\n",
              "      <td>1.221927e-05</td>\n",
              "      <td>6.360499e-06</td>\n",
              "      <td>10000</td>\n",
              "      <td>100</td>\n",
              "    </tr>\n",
              "    <tr>\n",
              "      <th>sklearn.predict</th>\n",
              "      <td>1.925318e-05</td>\n",
              "      <td>clr.predict(z)</td>\n",
              "      <td>4.616157e-06</td>\n",
              "      <td>4.072300e-05</td>\n",
              "      <td>3.614423e-05</td>\n",
              "      <td>1.843886e-05</td>\n",
              "      <td>2.855903e-05</td>\n",
              "      <td>1.646619e-05</td>\n",
              "      <td>10000</td>\n",
              "      <td>100</td>\n",
              "    </tr>\n",
              "  </tbody>\n",
              "</table>\n",
              "</div>"
            ],
            "text/plain": [
              "                                       average  \\\n",
              "legend                                           \n",
              "cffi-linreg-custom-float32        3.159161e-07   \n",
              "cffi-linreg-custom-float32-simd   3.614786e-07   \n",
              "cffi-linreg-custom                3.684104e-07   \n",
              "cffi-linreg                       4.416383e-07   \n",
              "numba-linreg-type-float32         5.482900e-07   \n",
              "numba-linreg-type                 7.835194e-07   \n",
              "numba-linreg                      1.027604e-06   \n",
              "cython-linreg                     3.102687e-06   \n",
              "python-linreg                     3.237623e-06   \n",
              "cython-linreg-type                3.351811e-06   \n",
              "python-linreg-custom-static       4.320992e-06   \n",
              "python-linreg-custom              4.443420e-06   \n",
              "numba-linreg-type-numpy           5.126772e-06   \n",
              "numpy-linreg-custom-static        5.233911e-06   \n",
              "cffi-linreg-custom-float wrapped  5.318191e-06   \n",
              "cffi-linreg-custom wrapped        5.386622e-06   \n",
              "cffi-linreg-wrapped               7.426155e-06   \n",
              "sklearn.predict                   1.925318e-05   \n",
              "\n",
              "                                                                               code  \\\n",
              "legend                                                                                \n",
              "cffi-linreg-custom-float32                    linreg_custom_float(cptr_x, cptr_out)   \n",
              "cffi-linreg-custom-float32-simd          linreg_custom_float_simd(cptr_x, cptr_out)   \n",
              "cffi-linreg-custom                                  linreg_custom(cptr_x, cptr_out)   \n",
              "cffi-linreg                       lib.linreg(n, cptr_x, cptr_coef, clr.intercept...   \n",
              "numba-linreg-type-float32                          predict_clr_numba_cast_float(xx)   \n",
              "numba-linreg-type                                      predict_clr_numba_cast(x[0])   \n",
              "numba-linreg                                                   predict_clr_numba(z)   \n",
              "cython-linreg                                              predict_clr_cython(x[0])   \n",
              "python-linreg                                                 predict_clr_python(z)   \n",
              "cython-linreg-type                                    predict_clr_cython_type(x[0])   \n",
              "python-linreg-custom-static                             predict_clr_python_loop2(z)   \n",
              "python-linreg-custom                                     predict_clr_python_loop(z)   \n",
              "numba-linreg-type-numpy                               predict_clr_numba_numpy(x[0])   \n",
              "numpy-linreg-custom-static                                     predict_clr_numpy(z)   \n",
              "cffi-linreg-custom-float wrapped                            predict_clr_custom(x32)   \n",
              "cffi-linreg-custom wrapped                                    predict_clr_custom(x)   \n",
              "cffi-linreg-wrapped                                             predict_clr(x, clr)   \n",
              "sklearn.predict                                                      clr.predict(z)   \n",
              "\n",
              "                                     deviation         first        first3  \\\n",
              "legend                                                                       \n",
              "cffi-linreg-custom-float32        1.182224e-07  5.278029e-06  3.630620e-06   \n",
              "cffi-linreg-custom-float32-simd   3.241254e-07  1.054816e-06  7.479841e-07   \n",
              "cffi-linreg-custom                2.045700e-07  1.248396e-06  7.651035e-07   \n",
              "cffi-linreg                       2.360197e-07  1.280001e-06  8.599184e-07   \n",
              "numba-linreg-type-float32         3.610705e-07  8.454328e-07  8.190953e-07   \n",
              "numba-linreg-type                 2.707551e-07  1.315557e-06  1.222059e-06   \n",
              "numba-linreg                      2.976377e-07  1.702717e-06  1.572347e-06   \n",
              "cython-linreg                     4.131303e-07  5.775807e-06  4.946177e-06   \n",
              "python-linreg                     4.929823e-07  4.993584e-06  5.056794e-06   \n",
              "cython-linreg-type                5.417831e-07  7.142722e-06  5.969387e-06   \n",
              "python-linreg-custom-static       7.930371e-07  8.438525e-06  5.969387e-06   \n",
              "python-linreg-custom              1.118613e-06  5.305683e-06  4.480004e-06   \n",
              "numba-linreg-type-numpy           1.713942e-06  8.782229e-06  1.604610e-05   \n",
              "numpy-linreg-custom-static        2.125935e-06  8.940254e-06  9.436715e-06   \n",
              "cffi-linreg-custom-float wrapped  1.357652e-06  9.382723e-06  1.427359e-05   \n",
              "cffi-linreg-custom wrapped        2.064756e-06  7.940747e-06  7.787990e-06   \n",
              "cffi-linreg-wrapped               2.276762e-06  1.911310e-05  1.603162e-05   \n",
              "sklearn.predict                   4.616157e-06  4.072300e-05  3.614423e-05   \n",
              "\n",
              "                                         last3          max5          min5  \\\n",
              "legend                                                                       \n",
              "cffi-linreg-custom-float32        2.857615e-07  4.938276e-07  2.844447e-07   \n",
              "cffi-linreg-custom-float32-simd   3.963789e-07  5.135807e-07  2.804940e-07   \n",
              "cffi-linreg-custom                2.923459e-07  5.135807e-07  2.883953e-07   \n",
              "cffi-linreg                       7.321816e-07  6.241980e-07  4.029633e-07   \n",
              "numba-linreg-type-float32         4.977782e-07  8.572846e-07  4.977782e-07   \n",
              "numba-linreg-type                 1.004774e-06  1.228643e-06  6.953092e-07   \n",
              "numba-linreg                      1.053499e-06  1.335310e-06  9.323464e-07   \n",
              "cython-linreg                     3.047245e-06  3.851855e-06  2.887904e-06   \n",
              "python-linreg                     3.674077e-06  4.349633e-06  2.927410e-06   \n",
              "cython-linreg-type                3.327739e-06  4.602473e-06  3.081484e-06   \n",
              "python-linreg-custom-static       4.369386e-06  5.325436e-06  3.879509e-06   \n",
              "python-linreg-custom              4.294324e-06  6.897783e-06  3.922966e-06   \n",
              "numba-linreg-type-numpy           4.751279e-06  7.028154e-06  4.507658e-06   \n",
              "numpy-linreg-custom-static        4.738111e-06  8.592599e-06  4.436547e-06   \n",
              "cffi-linreg-custom-float wrapped  5.002802e-06  8.327908e-06  4.657781e-06   \n",
              "cffi-linreg-custom wrapped        4.906671e-06  9.848897e-06  4.539263e-06   \n",
              "cffi-linreg-wrapped               6.431610e-06  1.221927e-05  6.360499e-06   \n",
              "sklearn.predict                   1.843886e-05  2.855903e-05  1.646619e-05   \n",
              "\n",
              "                                  repeat  run  \n",
              "legend                                         \n",
              "cffi-linreg-custom-float32         10000  100  \n",
              "cffi-linreg-custom-float32-simd    10000  100  \n",
              "cffi-linreg-custom                 10000  100  \n",
              "cffi-linreg                        10000  100  \n",
              "numba-linreg-type-float32          10000  100  \n",
              "numba-linreg-type                  10000  100  \n",
              "numba-linreg                       10000  100  \n",
              "cython-linreg                      10000  100  \n",
              "python-linreg                      10000  100  \n",
              "cython-linreg-type                 10000  100  \n",
              "python-linreg-custom-static        10000  100  \n",
              "python-linreg-custom               10000  100  \n",
              "numba-linreg-type-numpy            10000  100  \n",
              "numpy-linreg-custom-static         10000  100  \n",
              "cffi-linreg-custom-float wrapped   10000  100  \n",
              "cffi-linreg-custom wrapped         10000  100  \n",
              "cffi-linreg-wrapped                10000  100  \n",
              "sklearn.predict                    10000  100  "
            ]
          },
          "execution_count": null,
          "metadata": {},
          "output_type": "execute_result"
        }
      ],
      "source": [
        "import pandas\n",
        "df = pandas.DataFrame(data=memo_time)\n",
        "df = df.set_index(\"legend\").sort_values(\"average\")\n",
        "df"
      ]
    },
    {
      "cell_type": "markdown",
      "metadata": {},
      "source": [
        "On enl\u00e8ve quelques colonnes et on rappelle :\n",
        "\n",
        "* **cffi**: signifie optimis\u00e9 avec cffi\n",
        "* **custom**: pas de boucle mais la fonction ne peut pr\u00e9dire qu'une seule r\u00e9gression lin\u00e9aire\n",
        "* **float32**: utilise des float et non des double\n",
        "* **linreg**: r\u00e9gression lin\u00e9aire\n",
        "* **numba**: optimisation avec numba\n",
        "* **numpy**: optimisation avec numpy\n",
        "* **python**: pas de C, que du python\n",
        "* **simd**: optimis\u00e9 avec les instructions SIMD\n",
        "* **sklearn**: fonction sklearn.predict\n",
        "* **static**: la fonction utilise des variables statiques\n",
        "* **type**: la fonction est typ\u00e9e et ne fonctionne qu'avec un type pr\u00e9cis en entr\u00e9e.\n",
        "* **wrapped**: code optimis\u00e9 mais embabll\u00e9 dans une fonction Python qui elle ne l'est pas (les containers sont recr\u00e9\u00e9s \u00e0 chaque fois)"
      ]
    },
    {
      "cell_type": "code",
      "execution_count": null,
      "metadata": {},
      "outputs": [
        {
          "data": {
            "text/html": [
              "<div>\n",
              "<style>\n",
              "    .dataframe thead tr:only-child th {\n",
              "        text-align: right;\n",
              "    }\n",
              "\n",
              "    .dataframe thead th {\n",
              "        text-align: left;\n",
              "    }\n",
              "\n",
              "    .dataframe tbody tr th {\n",
              "        vertical-align: top;\n",
              "    }\n",
              "</style>\n",
              "<table border=\"1\" class=\"dataframe\">\n",
              "  <thead>\n",
              "    <tr style=\"text-align: right;\">\n",
              "      <th></th>\n",
              "      <th>average</th>\n",
              "      <th>deviation</th>\n",
              "      <th>min5</th>\n",
              "      <th>max5</th>\n",
              "      <th>run</th>\n",
              "      <th>code</th>\n",
              "    </tr>\n",
              "    <tr>\n",
              "      <th>legend</th>\n",
              "      <th></th>\n",
              "      <th></th>\n",
              "      <th></th>\n",
              "      <th></th>\n",
              "      <th></th>\n",
              "      <th></th>\n",
              "    </tr>\n",
              "  </thead>\n",
              "  <tbody>\n",
              "    <tr>\n",
              "      <th>cffi-linreg-custom-float32</th>\n",
              "      <td>3.159161e-07</td>\n",
              "      <td>1.182224e-07</td>\n",
              "      <td>2.844447e-07</td>\n",
              "      <td>4.938276e-07</td>\n",
              "      <td>100</td>\n",
              "      <td>linreg_custom_float(cptr_x, cptr_out)</td>\n",
              "    </tr>\n",
              "    <tr>\n",
              "      <th>cffi-linreg-custom-float32-simd</th>\n",
              "      <td>3.614786e-07</td>\n",
              "      <td>3.241254e-07</td>\n",
              "      <td>2.804940e-07</td>\n",
              "      <td>5.135807e-07</td>\n",
              "      <td>100</td>\n",
              "      <td>linreg_custom_float_simd(cptr_x, cptr_out)</td>\n",
              "    </tr>\n",
              "    <tr>\n",
              "      <th>cffi-linreg-custom</th>\n",
              "      <td>3.684104e-07</td>\n",
              "      <td>2.045700e-07</td>\n",
              "      <td>2.883953e-07</td>\n",
              "      <td>5.135807e-07</td>\n",
              "      <td>100</td>\n",
              "      <td>linreg_custom(cptr_x, cptr_out)</td>\n",
              "    </tr>\n",
              "    <tr>\n",
              "      <th>cffi-linreg</th>\n",
              "      <td>4.416383e-07</td>\n",
              "      <td>2.360197e-07</td>\n",
              "      <td>4.029633e-07</td>\n",
              "      <td>6.241980e-07</td>\n",
              "      <td>100</td>\n",
              "      <td>lib.linreg(n, cptr_x, cptr_coef, clr.intercept...</td>\n",
              "    </tr>\n",
              "    <tr>\n",
              "      <th>numba-linreg-type-float32</th>\n",
              "      <td>5.482900e-07</td>\n",
              "      <td>3.610705e-07</td>\n",
              "      <td>4.977782e-07</td>\n",
              "      <td>8.572846e-07</td>\n",
              "      <td>100</td>\n",
              "      <td>predict_clr_numba_cast_float(xx)</td>\n",
              "    </tr>\n",
              "    <tr>\n",
              "      <th>numba-linreg-type</th>\n",
              "      <td>7.835194e-07</td>\n",
              "      <td>2.707551e-07</td>\n",
              "      <td>6.953092e-07</td>\n",
              "      <td>1.228643e-06</td>\n",
              "      <td>100</td>\n",
              "      <td>predict_clr_numba_cast(x[0])</td>\n",
              "    </tr>\n",
              "    <tr>\n",
              "      <th>numba-linreg</th>\n",
              "      <td>1.027604e-06</td>\n",
              "      <td>2.976377e-07</td>\n",
              "      <td>9.323464e-07</td>\n",
              "      <td>1.335310e-06</td>\n",
              "      <td>100</td>\n",
              "      <td>predict_clr_numba(z)</td>\n",
              "    </tr>\n",
              "    <tr>\n",
              "      <th>cython-linreg</th>\n",
              "      <td>3.102687e-06</td>\n",
              "      <td>4.131303e-07</td>\n",
              "      <td>2.887904e-06</td>\n",
              "      <td>3.851855e-06</td>\n",
              "      <td>100</td>\n",
              "      <td>predict_clr_cython(x[0])</td>\n",
              "    </tr>\n",
              "    <tr>\n",
              "      <th>python-linreg</th>\n",
              "      <td>3.237623e-06</td>\n",
              "      <td>4.929823e-07</td>\n",
              "      <td>2.927410e-06</td>\n",
              "      <td>4.349633e-06</td>\n",
              "      <td>100</td>\n",
              "      <td>predict_clr_python(z)</td>\n",
              "    </tr>\n",
              "    <tr>\n",
              "      <th>cython-linreg-type</th>\n",
              "      <td>3.351811e-06</td>\n",
              "      <td>5.417831e-07</td>\n",
              "      <td>3.081484e-06</td>\n",
              "      <td>4.602473e-06</td>\n",
              "      <td>100</td>\n",
              "      <td>predict_clr_cython_type(x[0])</td>\n",
              "    </tr>\n",
              "    <tr>\n",
              "      <th>python-linreg-custom-static</th>\n",
              "      <td>4.320992e-06</td>\n",
              "      <td>7.930371e-07</td>\n",
              "      <td>3.879509e-06</td>\n",
              "      <td>5.325436e-06</td>\n",
              "      <td>100</td>\n",
              "      <td>predict_clr_python_loop2(z)</td>\n",
              "    </tr>\n",
              "    <tr>\n",
              "      <th>python-linreg-custom</th>\n",
              "      <td>4.443420e-06</td>\n",
              "      <td>1.118613e-06</td>\n",
              "      <td>3.922966e-06</td>\n",
              "      <td>6.897783e-06</td>\n",
              "      <td>100</td>\n",
              "      <td>predict_clr_python_loop(z)</td>\n",
              "    </tr>\n",
              "    <tr>\n",
              "      <th>numba-linreg-type-numpy</th>\n",
              "      <td>5.126772e-06</td>\n",
              "      <td>1.713942e-06</td>\n",
              "      <td>4.507658e-06</td>\n",
              "      <td>7.028154e-06</td>\n",
              "      <td>100</td>\n",
              "      <td>predict_clr_numba_numpy(x[0])</td>\n",
              "    </tr>\n",
              "    <tr>\n",
              "      <th>numpy-linreg-custom-static</th>\n",
              "      <td>5.233911e-06</td>\n",
              "      <td>2.125935e-06</td>\n",
              "      <td>4.436547e-06</td>\n",
              "      <td>8.592599e-06</td>\n",
              "      <td>100</td>\n",
              "      <td>predict_clr_numpy(z)</td>\n",
              "    </tr>\n",
              "    <tr>\n",
              "      <th>cffi-linreg-custom-float wrapped</th>\n",
              "      <td>5.318191e-06</td>\n",
              "      <td>1.357652e-06</td>\n",
              "      <td>4.657781e-06</td>\n",
              "      <td>8.327908e-06</td>\n",
              "      <td>100</td>\n",
              "      <td>predict_clr_custom(x32)</td>\n",
              "    </tr>\n",
              "    <tr>\n",
              "      <th>cffi-linreg-custom wrapped</th>\n",
              "      <td>5.386622e-06</td>\n",
              "      <td>2.064756e-06</td>\n",
              "      <td>4.539263e-06</td>\n",
              "      <td>9.848897e-06</td>\n",
              "      <td>100</td>\n",
              "      <td>predict_clr_custom(x)</td>\n",
              "    </tr>\n",
              "    <tr>\n",
              "      <th>cffi-linreg-wrapped</th>\n",
              "      <td>7.426155e-06</td>\n",
              "      <td>2.276762e-06</td>\n",
              "      <td>6.360499e-06</td>\n",
              "      <td>1.221927e-05</td>\n",
              "      <td>100</td>\n",
              "      <td>predict_clr(x, clr)</td>\n",
              "    </tr>\n",
              "    <tr>\n",
              "      <th>sklearn.predict</th>\n",
              "      <td>1.925318e-05</td>\n",
              "      <td>4.616157e-06</td>\n",
              "      <td>1.646619e-05</td>\n",
              "      <td>2.855903e-05</td>\n",
              "      <td>100</td>\n",
              "      <td>clr.predict(z)</td>\n",
              "    </tr>\n",
              "  </tbody>\n",
              "</table>\n",
              "</div>"
            ],
            "text/plain": [
              "                                       average     deviation          min5  \\\n",
              "legend                                                                       \n",
              "cffi-linreg-custom-float32        3.159161e-07  1.182224e-07  2.844447e-07   \n",
              "cffi-linreg-custom-float32-simd   3.614786e-07  3.241254e-07  2.804940e-07   \n",
              "cffi-linreg-custom                3.684104e-07  2.045700e-07  2.883953e-07   \n",
              "cffi-linreg                       4.416383e-07  2.360197e-07  4.029633e-07   \n",
              "numba-linreg-type-float32         5.482900e-07  3.610705e-07  4.977782e-07   \n",
              "numba-linreg-type                 7.835194e-07  2.707551e-07  6.953092e-07   \n",
              "numba-linreg                      1.027604e-06  2.976377e-07  9.323464e-07   \n",
              "cython-linreg                     3.102687e-06  4.131303e-07  2.887904e-06   \n",
              "python-linreg                     3.237623e-06  4.929823e-07  2.927410e-06   \n",
              "cython-linreg-type                3.351811e-06  5.417831e-07  3.081484e-06   \n",
              "python-linreg-custom-static       4.320992e-06  7.930371e-07  3.879509e-06   \n",
              "python-linreg-custom              4.443420e-06  1.118613e-06  3.922966e-06   \n",
              "numba-linreg-type-numpy           5.126772e-06  1.713942e-06  4.507658e-06   \n",
              "numpy-linreg-custom-static        5.233911e-06  2.125935e-06  4.436547e-06   \n",
              "cffi-linreg-custom-float wrapped  5.318191e-06  1.357652e-06  4.657781e-06   \n",
              "cffi-linreg-custom wrapped        5.386622e-06  2.064756e-06  4.539263e-06   \n",
              "cffi-linreg-wrapped               7.426155e-06  2.276762e-06  6.360499e-06   \n",
              "sklearn.predict                   1.925318e-05  4.616157e-06  1.646619e-05   \n",
              "\n",
              "                                          max5  run  \\\n",
              "legend                                                \n",
              "cffi-linreg-custom-float32        4.938276e-07  100   \n",
              "cffi-linreg-custom-float32-simd   5.135807e-07  100   \n",
              "cffi-linreg-custom                5.135807e-07  100   \n",
              "cffi-linreg                       6.241980e-07  100   \n",
              "numba-linreg-type-float32         8.572846e-07  100   \n",
              "numba-linreg-type                 1.228643e-06  100   \n",
              "numba-linreg                      1.335310e-06  100   \n",
              "cython-linreg                     3.851855e-06  100   \n",
              "python-linreg                     4.349633e-06  100   \n",
              "cython-linreg-type                4.602473e-06  100   \n",
              "python-linreg-custom-static       5.325436e-06  100   \n",
              "python-linreg-custom              6.897783e-06  100   \n",
              "numba-linreg-type-numpy           7.028154e-06  100   \n",
              "numpy-linreg-custom-static        8.592599e-06  100   \n",
              "cffi-linreg-custom-float wrapped  8.327908e-06  100   \n",
              "cffi-linreg-custom wrapped        9.848897e-06  100   \n",
              "cffi-linreg-wrapped               1.221927e-05  100   \n",
              "sklearn.predict                   2.855903e-05  100   \n",
              "\n",
              "                                                                               code  \n",
              "legend                                                                               \n",
              "cffi-linreg-custom-float32                    linreg_custom_float(cptr_x, cptr_out)  \n",
              "cffi-linreg-custom-float32-simd          linreg_custom_float_simd(cptr_x, cptr_out)  \n",
              "cffi-linreg-custom                                  linreg_custom(cptr_x, cptr_out)  \n",
              "cffi-linreg                       lib.linreg(n, cptr_x, cptr_coef, clr.intercept...  \n",
              "numba-linreg-type-float32                          predict_clr_numba_cast_float(xx)  \n",
              "numba-linreg-type                                      predict_clr_numba_cast(x[0])  \n",
              "numba-linreg                                                   predict_clr_numba(z)  \n",
              "cython-linreg                                              predict_clr_cython(x[0])  \n",
              "python-linreg                                                 predict_clr_python(z)  \n",
              "cython-linreg-type                                    predict_clr_cython_type(x[0])  \n",
              "python-linreg-custom-static                             predict_clr_python_loop2(z)  \n",
              "python-linreg-custom                                     predict_clr_python_loop(z)  \n",
              "numba-linreg-type-numpy                               predict_clr_numba_numpy(x[0])  \n",
              "numpy-linreg-custom-static                                     predict_clr_numpy(z)  \n",
              "cffi-linreg-custom-float wrapped                            predict_clr_custom(x32)  \n",
              "cffi-linreg-custom wrapped                                    predict_clr_custom(x)  \n",
              "cffi-linreg-wrapped                                             predict_clr(x, clr)  \n",
              "sklearn.predict                                                      clr.predict(z)  "
            ]
          },
          "execution_count": null,
          "metadata": {},
          "output_type": "execute_result"
        }
      ],
      "source": [
        "cols = [\"average\", \"deviation\", \"min5\", \"max5\", \"run\", \"code\"]\n",
        "df[cols]"
      ]
    },
    {
      "cell_type": "code",
      "execution_count": null,
      "metadata": {},
      "outputs": [
        {
          "data": {
            "text/plain": [
              "<matplotlib.axes._subplots.AxesSubplot at 0x1ce377c5b70>"
            ]
          },
          "execution_count": null,
          "metadata": {},
          "output_type": "execute_result"
        },
        {
          "data": {
            "image/png": "[encoded data removed]",
            "text/plain": [
              "<matplotlib.figure.Figure at 0x1ce3288b128>"
            ]
          },
          "metadata": {},
          "output_type": "display_data"
        }
      ],
      "source": [
        "%matplotlib inline\n",
        "df[[\"average\"]].plot(kind=\"barh\", figsize=(10,4), logx=True)"
      ]
    },
    {
      "cell_type": "markdown",
      "metadata": {},
      "source": [
        "Il manque \u00e0 ce comparatif le [GPU](https://en.wikipedia.org/wiki/Graphics_processing_unit) mais c'est un peu plus complexe \u00e0 mettre en oeuvre et surtout il faut une carte [GPU](https://fr.wikipedia.org/wiki/Processeur_graphique)."
      ]
    },
    {
      "cell_type": "markdown",
      "metadata": {},
      "source": [
        "## Pr\u00e9diction one-off et biais de mesure\n",
        "\n",
        "Le graphique pr\u00e9c\u00e9dent montre que la fonction ``predict`` de *scikit-learn* est la plus lente. La premi\u00e8re raison est que ce code est valable pour toutes les r\u00e9gresssions lin\u00e9aires alors que toutes les autres fonctions sont sp\u00e9cialis\u00e9es pour un seul mod\u00e8le. La seconde raison est que le code de *scikit-learn* est optimis\u00e9 pour le calcul de plusieurs pr\u00e9dictions \u00e0 la fois alors que toutes les autres fonctions n'en calcule qu'une seule (sc\u00e9nario dit *one-off*)."
      ]
    },
    {
      "cell_type": "code",
      "execution_count": null,
      "metadata": {},
      "outputs": [
        {
          "name": "stdout",
          "output_type": "stream",
          "text": [
            "Moyenne: 24.07 \u00b5s Ecart-type 9.13 \u00b5s (with 100 runs) in [17.53 \u00b5s, 43.78 \u00b5s]\n",
            "Moyenne: 19.04 \u00b5s Ecart-type 1.95 \u00b5s (with 100 runs) in [17.64 \u00b5s, 23.70 \u00b5s]\n",
            "Moyenne: 23.00 \u00b5s Ecart-type 6.67 \u00b5s (with 100 runs) in [18.89 \u00b5s, 39.06 \u00b5s]\n",
            "Moyenne: 22.43 \u00b5s Ecart-type 3.27 \u00b5s (with 100 runs) in [19.93 \u00b5s, 26.92 \u00b5s]\n",
            "Moyenne: 27.99 \u00b5s Ecart-type 7.32 \u00b5s (with 100 runs) in [23.57 \u00b5s, 47.37 \u00b5s]\n",
            "Moyenne: 34.93 \u00b5s Ecart-type 6.39 \u00b5s (with 100 runs) in [30.11 \u00b5s, 43.61 \u00b5s]\n",
            "Moyenne: 43.39 \u00b5s Ecart-type 6.64 \u00b5s (with 100 runs) in [36.58 \u00b5s, 54.69 \u00b5s]\n",
            "Moyenne: 49.37 \u00b5s Ecart-type 8.06 \u00b5s (with 100 runs) in [43.69 \u00b5s, 61.32 \u00b5s]\n",
            "Moyenne: 58.49 \u00b5s Ecart-type 8.48 \u00b5s (with 100 runs) in [51.05 \u00b5s, 69.32 \u00b5s]\n",
            "Moyenne: 67.42 \u00b5s Ecart-type 10.38 \u00b5s (with 100 runs) in [57.26 \u00b5s, 81.95 \u00b5s]\n",
            "Moyenne: 117.10 \u00b5s Ecart-type 25.02 \u00b5s (with 100 runs) in [93.21 \u00b5s, 169.64 \u00b5s]\n",
            "Moyenne: 191.00 \u00b5s Ecart-type 21.51 \u00b5s (with 100 runs) in [166.49 \u00b5s, 214.25 \u00b5s]\n",
            "Moyenne: 768.49 \u00b5s Ecart-type 50.41 \u00b5s (with 100 runs) in [686.91 \u00b5s, 880.51 \u00b5s]\n"
          ]
        }
      ],
      "source": [
        "memo = []\n",
        "dims = [1, 10, 100, 200, 500, 1000, 2000, 3000, 4000, 5000, 10000, 20000, 50000]\n",
        "for i in dims:\n",
        "    if i <= diabetes_X_test.shape[0]:\n",
        "        mx = diabetes_X_test[:i]\n",
        "    else:\n",
        "        mxs = [diabetes_X_test] * (i // diabetes_X_test.shape[0] + 1)\n",
        "        mx = numpy.vstack(mxs)\n",
        "        mx = mx[:i]\n",
        "    memo.append(timeexe(\"sklearn.predict %d\" % i, \"clr.predict(mx)\", repeat=100))"
      ]
    },
    {
      "cell_type": "code",
      "execution_count": null,
      "metadata": {},
      "outputs": [
        {
          "data": {
            "text/html": [
              "<div>\n",
              "<style>\n",
              "    .dataframe thead tr:only-child th {\n",
              "        text-align: right;\n",
              "    }\n",
              "\n",
              "    .dataframe thead th {\n",
              "        text-align: left;\n",
              "    }\n",
              "\n",
              "    .dataframe tbody tr th {\n",
              "        vertical-align: top;\n",
              "    }\n",
              "</style>\n",
              "<table border=\"1\" class=\"dataframe\">\n",
              "  <thead>\n",
              "    <tr style=\"text-align: right;\">\n",
              "      <th></th>\n",
              "      <th>average</th>\n",
              "      <th>dims</th>\n",
              "      <th>ave_per_obs</th>\n",
              "    </tr>\n",
              "    <tr>\n",
              "      <th>legend</th>\n",
              "      <th></th>\n",
              "      <th></th>\n",
              "      <th></th>\n",
              "    </tr>\n",
              "  </thead>\n",
              "  <tbody>\n",
              "    <tr>\n",
              "      <th>sklearn.predict 1</th>\n",
              "      <td>0.000024</td>\n",
              "      <td>1</td>\n",
              "      <td>2.407188e-05</td>\n",
              "    </tr>\n",
              "    <tr>\n",
              "      <th>sklearn.predict 10</th>\n",
              "      <td>0.000019</td>\n",
              "      <td>10</td>\n",
              "      <td>1.903954e-06</td>\n",
              "    </tr>\n",
              "    <tr>\n",
              "      <th>sklearn.predict 100</th>\n",
              "      <td>0.000023</td>\n",
              "      <td>100</td>\n",
              "      <td>2.299514e-07</td>\n",
              "    </tr>\n",
              "    <tr>\n",
              "      <th>sklearn.predict 200</th>\n",
              "      <td>0.000022</td>\n",
              "      <td>200</td>\n",
              "      <td>1.121642e-07</td>\n",
              "    </tr>\n",
              "    <tr>\n",
              "      <th>sklearn.predict 500</th>\n",
              "      <td>0.000028</td>\n",
              "      <td>500</td>\n",
              "      <td>5.598148e-08</td>\n",
              "    </tr>\n",
              "    <tr>\n",
              "      <th>sklearn.predict 1000</th>\n",
              "      <td>0.000035</td>\n",
              "      <td>1000</td>\n",
              "      <td>3.493000e-08</td>\n",
              "    </tr>\n",
              "    <tr>\n",
              "      <th>sklearn.predict 2000</th>\n",
              "      <td>0.000043</td>\n",
              "      <td>2000</td>\n",
              "      <td>2.169681e-08</td>\n",
              "    </tr>\n",
              "    <tr>\n",
              "      <th>sklearn.predict 3000</th>\n",
              "      <td>0.000049</td>\n",
              "      <td>3000</td>\n",
              "      <td>1.645763e-08</td>\n",
              "    </tr>\n",
              "    <tr>\n",
              "      <th>sklearn.predict 4000</th>\n",
              "      <td>0.000058</td>\n",
              "      <td>4000</td>\n",
              "      <td>1.462348e-08</td>\n",
              "    </tr>\n",
              "    <tr>\n",
              "      <th>sklearn.predict 5000</th>\n",
              "      <td>0.000067</td>\n",
              "      <td>5000</td>\n",
              "      <td>1.348462e-08</td>\n",
              "    </tr>\n",
              "    <tr>\n",
              "      <th>sklearn.predict 10000</th>\n",
              "      <td>0.000117</td>\n",
              "      <td>10000</td>\n",
              "      <td>1.171026e-08</td>\n",
              "    </tr>\n",
              "    <tr>\n",
              "      <th>sklearn.predict 20000</th>\n",
              "      <td>0.000191</td>\n",
              "      <td>20000</td>\n",
              "      <td>9.549819e-09</td>\n",
              "    </tr>\n",
              "    <tr>\n",
              "      <th>sklearn.predict 50000</th>\n",
              "      <td>0.000768</td>\n",
              "      <td>50000</td>\n",
              "      <td>1.536989e-08</td>\n",
              "    </tr>\n",
              "  </tbody>\n",
              "</table>\n",
              "</div>"
            ],
            "text/plain": [
              "                        average   dims   ave_per_obs\n",
              "legend                                              \n",
              "sklearn.predict 1      0.000024      1  2.407188e-05\n",
              "sklearn.predict 10     0.000019     10  1.903954e-06\n",
              "sklearn.predict 100    0.000023    100  2.299514e-07\n",
              "sklearn.predict 200    0.000022    200  1.121642e-07\n",
              "sklearn.predict 500    0.000028    500  5.598148e-08\n",
              "sklearn.predict 1000   0.000035   1000  3.493000e-08\n",
              "sklearn.predict 2000   0.000043   2000  2.169681e-08\n",
              "sklearn.predict 3000   0.000049   3000  1.645763e-08\n",
              "sklearn.predict 4000   0.000058   4000  1.462348e-08\n",
              "sklearn.predict 5000   0.000067   5000  1.348462e-08\n",
              "sklearn.predict 10000  0.000117  10000  1.171026e-08\n",
              "sklearn.predict 20000  0.000191  20000  9.549819e-09\n",
              "sklearn.predict 50000  0.000768  50000  1.536989e-08"
            ]
          },
          "execution_count": null,
          "metadata": {},
          "output_type": "execute_result"
        }
      ],
      "source": [
        "df = pandas.DataFrame(memo).set_index(\"legend\")\n",
        "df[\"dims\"] = dims\n",
        "df[\"ave_per_obs\"] = df[\"average\"] / df[\"dims\"]\n",
        "df[[\"average\", \"dims\", \"ave_per_obs\"]]"
      ]
    },
    {
      "cell_type": "code",
      "execution_count": null,
      "metadata": {},
      "outputs": [
        {
          "data": {
            "text/plain": [
              "<matplotlib.axes._subplots.AxesSubplot at 0x1ce391da860>"
            ]
          },
          "execution_count": null,
          "metadata": {},
          "output_type": "execute_result"
        },
        {
          "data": {
            "image/png": "[encoded data removed]",
            "text/plain": [
              "<matplotlib.figure.Figure at 0x1ce390a9630>"
            ]
          },
          "metadata": {},
          "output_type": "display_data"
        }
      ],
      "source": [
        "df[[\"dims\", \"ave_per_obs\"]].plot(x=\"dims\", y=\"ave_per_obs\", logy=True, logx=True)"
      ]
    },
    {
      "cell_type": "markdown",
      "metadata": {},
      "source": [
        "Le minimum obtenu est pour $10^{-8} s$ soit 10 ns. Cela montre que la comparaisson pr\u00e9c\u00e9dente \u00e9tait incompl\u00e8te voire biais\u00e9e. Tout d\u00e9pend de l'usage qu'on fait de la fonction de pr\u00e9diction m\u00eame s'il sera toujours possible de d'\u00e9crire un code sp\u00e9cialis\u00e9 plus rapide que toute autre fonction g\u00e9n\u00e9rique. En g\u00e9n\u00e9ral, plus on reste du c\u00f4t\u00e9 Python, plus le programme est lent. Le nombre de passage de l'un \u00e0 l'autre, selon la fa\u00e7on dont il est fait ralenti aussi. En tenant compte de cela, le programme rouge sera plus lent que le vert."
      ]
    },
    {
      "cell_type": "code",
      "execution_count": null,
      "metadata": {},
      "outputs": [
        {
          "data": {
            "image/png": "[encoded data removed]",
            "text/plain": [
              "<IPython.core.display.Image object>"
            ]
          },
          "execution_count": null,
          "metadata": {},
          "output_type": "execute_result"
        }
      ],
      "source": [
        "from pyquickhelper.helpgen import NbImage\n",
        "NbImage(\"pycpp.png\")"
      ]
    },
    {
      "cell_type": "code",
      "execution_count": null,
      "metadata": {
        "collapsed": true
      },
      "outputs": [],
      "source": []
    }
  ],
  "metadata": {
    "kernelspec": {
      "display_name": "Python 3",
      "language": "python",
      "name": "python3"
    },
    "language_info": {
      "codemirror_mode": {
        "name": "ipython",
        "version": 3
      },
      "file_extension": ".py",
      "mimetype": "text/x-python",
      "name": "python",
      "nbconvert_exporter": "python",
      "pygments_lexer": "ipython3",
      "version": "3.6.1"
    }
  },
  "nbformat": 4,
  "nbformat_minor": 2
}