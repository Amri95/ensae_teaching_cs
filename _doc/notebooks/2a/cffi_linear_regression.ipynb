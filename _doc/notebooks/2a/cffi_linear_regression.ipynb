{
  "cells": [
    {
      "cell_type": "markdown",
      "metadata": {},
      "source": [
        "# Optimisation de code avec cffi, numba, cython\n",
        "\n",
        "L'id\u00e9e est de recoder une fonction en C. On prend comme exemple la fonction de pr\u00e9diction de la r\u00e9gression lin\u00e9aire de [scikit-learn](http://scikit-learn.org/stable/modules/generated/sklearn.linear_model.LinearRegression.html) et de pr\u00e9voir le gain de temps qu'on obtient en recodant la fonction dans un langage plus rapide."
      ]
    },
    {
      "cell_type": "code",
      "execution_count": 1,
      "metadata": {},
      "outputs": [
        {
          "data": {
            "text/html": [
              "<div id=\"my_id_menu_nb\">run previous cell, wait for 2 seconds</div>\n",
              "<script>\n",
              "function repeat_indent_string(n){\n",
              "    var a = \"\" ;\n",
              "    for ( ; n > 0 ; --n)\n",
              "        a += \"    \";\n",
              "    return a;\n",
              "}\n",
              "// look up into all sections and builds an automated menu //\n",
              "var update_menu_string = function(begin, lfirst, llast, sformat, send, keep_item, begin_format, end_format) {\n",
              "    var anchors = document.getElementsByClassName(\"section\");\n",
              "    if (anchors.length == 0) {\n",
              "        anchors = document.getElementsByClassName(\"text_cell_render rendered_html\");\n",
              "    }\n",
              "    var i,t;\n",
              "    var text_menu = begin;\n",
              "    var text_memo = \"<pre>\\nlength:\" + anchors.length + \"\\n\";\n",
              "    var ind = \"\";\n",
              "    var memo_level = 1;\n",
              "    var href;\n",
              "    var tags = [];\n",
              "    var main_item = 0;\n",
              "    var format_open = 0;\n",
              "    for (i = 0; i <= llast; i++)\n",
              "        tags.push(\"h\" + i);\n",
              "\n",
              "    for (i = 0; i < anchors.length; i++) {\n",
              "        text_memo += \"**\" + anchors[i].id + \"--\\n\";\n",
              "\n",
              "        var child = null;\n",
              "        for(t = 0; t < tags.length; t++) {\n",
              "            var r = anchors[i].getElementsByTagName(tags[t]);\n",
              "            if (r.length > 0) {\n",
              "child = r[0];\n",
              "break;\n",
              "            }\n",
              "        }\n",
              "        if (child == null) {\n",
              "            text_memo += \"null\\n\";\n",
              "            continue;\n",
              "        }\n",
              "        if (anchors[i].hasAttribute(\"id\")) {\n",
              "            // when converted in RST\n",
              "            href = anchors[i].id;\n",
              "            text_memo += \"#1-\" + href;\n",
              "            // passer \u00e0 child suivant (le chercher)\n",
              "        }\n",
              "        else if (child.hasAttribute(\"id\")) {\n",
              "            // in a notebook\n",
              "            href = child.id;\n",
              "            text_memo += \"#2-\" + href;\n",
              "        }\n",
              "        else {\n",
              "            text_memo += \"#3-\" + \"*\" + \"\\n\";\n",
              "            continue;\n",
              "        }\n",
              "        var title = child.textContent;\n",
              "        var level = parseInt(child.tagName.substring(1,2));\n",
              "\n",
              "        text_memo += \"--\" + level + \"?\" + lfirst + \"--\" + title + \"\\n\";\n",
              "\n",
              "        if ((level < lfirst) || (level > llast)) {\n",
              "            continue ;\n",
              "        }\n",
              "        if (title.endsWith('\u00b6')) {\n",
              "            title = title.substring(0,title.length-1).replace(\"<\", \"&lt;\")\n",
              "         .replace(\">\", \"&gt;\").replace(\"&\", \"&amp;\");\n",
              "        }\n",
              "        if (title.length == 0) {\n",
              "            continue;\n",
              "        }\n",
              "\n",
              "        while (level < memo_level) {\n",
              "            text_menu += end_format + \"</ul>\\n\";\n",
              "            format_open -= 1;\n",
              "            memo_level -= 1;\n",
              "        }\n",
              "        if (level == lfirst) {\n",
              "            main_item += 1;\n",
              "        }\n",
              "        if (keep_item != -1 && main_item != keep_item + 1) {\n",
              "            // alert(main_item + \" - \" + level + \" - \" + keep_item);\n",
              "            continue;\n",
              "        }\n",
              "        while (level > memo_level) {\n",
              "            text_menu += \"<ul>\\n\";\n",
              "            memo_level += 1;\n",
              "        }\n",
              "        text_menu += repeat_indent_string(level-2);\n",
              "        text_menu += begin_format + sformat.replace(\"__HREF__\", href).replace(\"__TITLE__\", title);\n",
              "        format_open += 1;\n",
              "    }\n",
              "    while (1 < memo_level) {\n",
              "        text_menu += end_format + \"</ul>\\n\";\n",
              "        memo_level -= 1;\n",
              "        format_open -= 1;\n",
              "    }\n",
              "    text_menu += send;\n",
              "    //text_menu += \"\\n\" + text_memo;\n",
              "\n",
              "    while (format_open > 0) {\n",
              "        text_menu += end_format;\n",
              "        format_open -= 1;\n",
              "    }\n",
              "    return text_menu;\n",
              "};\n",
              "var update_menu = function() {\n",
              "    var sbegin = \"\";\n",
              "    var sformat = '<a href=\"#__HREF__\">__TITLE__</a>';\n",
              "    var send = \"\";\n",
              "    var begin_format = '<li>';\n",
              "    var end_format = '</li>';\n",
              "    var keep_item = -1;\n",
              "    var text_menu = update_menu_string(sbegin, 2, 4, sformat, send, keep_item,\n",
              "       begin_format, end_format);\n",
              "    var menu = document.getElementById(\"my_id_menu_nb\");\n",
              "    menu.innerHTML=text_menu;\n",
              "};\n",
              "window.setTimeout(update_menu,2000);\n",
              "            </script>"
            ],
            "text/plain": [
              "<IPython.core.display.HTML object>"
            ]
          },
          "execution_count": 2,
          "metadata": {},
          "output_type": "execute_result"
        }
      ],
      "source": [
        "from jyquickhelper import add_notebook_menu\n",
        "add_notebook_menu()"
      ]
    },
    {
      "cell_type": "code",
      "execution_count": 2,
      "metadata": {},
      "outputs": [],
      "source": [
        "memo_time = []\n",
        "import timeit\n",
        "\n",
        "def unit(x):\n",
        "    if x >= 1: return \"%1.2f s\" % x\n",
        "    elif x >= 1e-3: return \"%1.2f ms\" % (x* 1000)\n",
        "    elif x >= 1e-6: return \"%1.2f \u00b5s\" % (x* 1000**2)\n",
        "    elif x >= 1e-9: return \"%1.2f ns\" % (x* 1000**3)\n",
        "    else:\n",
        "        return \"%1.2g s\" % x\n",
        "\n",
        "def timeexe(legend, code, number=100, repeat=10000):\n",
        "    rep = timeit.repeat(code, number=number, repeat=repeat, globals=globals())\n",
        "    ave = sum(rep) / (number * repeat)\n",
        "    std = (sum((x/number - ave)**2 for x in rep) / repeat)**0.5\n",
        "    fir = rep[0]/number\n",
        "    fir3 = sum(rep[:3]) / (3 * number)\n",
        "    las3 = sum(rep[-3:]) / (3 * number)\n",
        "    rep.sort()\n",
        "    mini = rep[len(rep)//20] / number\n",
        "    maxi = rep[-len(rep)//20] / number\n",
        "    print(\"Moyenne: %s Ecart-type %s (with %d runs) in [%s, %s]\" % (\n",
        "                unit(ave), unit(std), number, unit(mini), unit(maxi)))\n",
        "    return dict(legend=legend, average=ave, deviation=std, first=fir, first3=fir3,\n",
        "                last3=las3, repeat=repeat, min5=mini, max5=maxi, code=code, run=number)"
      ]
    },
    {
      "cell_type": "markdown",
      "metadata": {},
      "source": [
        "## R\u00e9gression lin\u00e9aire"
      ]
    },
    {
      "cell_type": "code",
      "execution_count": 3,
      "metadata": {},
      "outputs": [],
      "source": [
        "from sklearn.datasets import load_diabetes\n",
        "diabetes = load_diabetes()\n",
        "diabetes_X_train = diabetes.data[:-20]\n",
        "diabetes_X_test  = diabetes.data[-20:]\n",
        "diabetes_y_train = diabetes.target[:-20]\n",
        "diabetes_y_test  = diabetes.target[-20:]"
      ]
    },
    {
      "cell_type": "code",
      "execution_count": 4,
      "metadata": {},
      "outputs": [
        {
          "data": {
            "text/plain": [
              "LinearRegression(copy_X=True, fit_intercept=True, n_jobs=None,\n",
              "         normalize=False)"
            ]
          },
          "execution_count": 5,
          "metadata": {},
          "output_type": "execute_result"
        }
      ],
      "source": [
        "from sklearn.linear_model import LinearRegression\n",
        "clr = LinearRegression()\n",
        "clr.fit(diabetes_X_train, diabetes_y_train)"
      ]
    },
    {
      "cell_type": "code",
      "execution_count": 5,
      "metadata": {},
      "outputs": [
        {
          "data": {
            "text/plain": [
              "array([ 3.03499549e-01, -2.37639315e+02,  5.10530605e+02,  3.27736980e+02,\n",
              "       -8.14131709e+02,  4.92814588e+02,  1.02848452e+02,  1.84606489e+02,\n",
              "        7.43519617e+02,  7.60951722e+01])"
            ]
          },
          "execution_count": 6,
          "metadata": {},
          "output_type": "execute_result"
        }
      ],
      "source": [
        "clr.coef_"
      ]
    },
    {
      "cell_type": "code",
      "execution_count": 6,
      "metadata": {},
      "outputs": [
        {
          "data": {
            "text/plain": [
              "152.76430691633442"
            ]
          },
          "execution_count": 7,
          "metadata": {},
          "output_type": "execute_result"
        }
      ],
      "source": [
        "clr.intercept_"
      ]
    },
    {
      "cell_type": "code",
      "execution_count": 7,
      "metadata": {},
      "outputs": [
        {
          "name": "stdout",
          "output_type": "stream",
          "text": [
            "Moyenne: 27.28 \u00b5s Ecart-type 3.89 \u00b5s (with 100 runs) in [25.30 \u00b5s, 32.09 \u00b5s]\n"
          ]
        }
      ],
      "source": [
        "z = diabetes_X_test[0:1,:]\n",
        "memo_time.append(timeexe(\"sklearn.predict\", \"clr.predict(z)\"))"
      ]
    },
    {
      "cell_type": "code",
      "execution_count": 8,
      "metadata": {},
      "outputs": [
        {
          "name": "stdout",
          "output_type": "stream",
          "text": [
            "27.1 \u00b5s \u00b1 652 ns per loop (mean \u00b1 std. dev. of 7 runs, 10000 loops each)\n"
          ]
        }
      ],
      "source": [
        "%timeit clr.predict(z)"
      ]
    },
    {
      "cell_type": "markdown",
      "metadata": {},
      "source": [
        "## optimisation avec cffi\n",
        "\n",
        "On s'inspire de l'exemple [Purely for performance (API level, out-of-line)](http://cffi.readthedocs.io/en/latest/overview.html?highlight=example#purely-for-performance-api-level-out-of-line)."
      ]
    },
    {
      "cell_type": "code",
      "execution_count": 9,
      "metadata": {
        "scrolled": false
      },
      "outputs": [
        {
          "name": "stdout",
          "output_type": "stream",
          "text": [
            "generating .\\_linear_regression.c\n",
            "(already up-to-date)\n",
            "the current directory is 'C:\\\\xavierdupre\\\\__home_\\\\GitHub\\\\ensae_teaching_cs\\\\_doc\\\\notebooks\\\\2a'\n",
            "running build_ext\n",
            "building '_linear_regression' extension\n",
            "C:\\Program Files (x86)\\Microsoft Visual Studio\\2017\\Community\\VC\\Tools\\MSVC\\14.15.26726\\bin\\HostX86\\x64\\cl.exe /c /nologo /Ox /W3 /GL /DNDEBUG /MD -Ic:\\python370_x64\\include -Ic:\\python370_x64\\include \"-IC:\\Program Files (x86)\\Microsoft Visual Studio\\2017\\Community\\VC\\Tools\\MSVC\\14.15.26726\\ATLMFC\\include\" \"-IC:\\Program Files (x86)\\Microsoft Visual Studio\\2017\\Community\\VC\\Tools\\MSVC\\14.15.26726\\include\" \"-IC:\\Program Files (x86)\\Windows Kits\\NETFXSDK\\4.6.1\\include\\um\" \"-IC:\\Program Files (x86)\\Windows Kits\\10\\include\\10.0.17134.0\\ucrt\" \"-IC:\\Program Files (x86)\\Windows Kits\\10\\include\\10.0.17134.0\\shared\" \"-IC:\\Program Files (x86)\\Windows Kits\\10\\include\\10.0.17134.0\\um\" \"-IC:\\Program Files (x86)\\Windows Kits\\10\\include\\10.0.17134.0\\winrt\" \"-IC:\\Program Files (x86)\\Windows Kits\\10\\include\\10.0.17134.0\\cppwinrt\" /Tc_linear_regression.c /Fo.\\Release\\_linear_regression.obj\n",
            "C:\\Program Files (x86)\\Microsoft Visual Studio\\2017\\Community\\VC\\Tools\\MSVC\\14.15.26726\\bin\\HostX86\\x64\\link.exe /nologo /INCREMENTAL:NO /LTCG /DLL /MANIFEST:EMBED,ID=2 /MANIFESTUAC:NO /LIBPATH:c:\\python370_x64\\libs /LIBPATH:c:\\python370_x64\\PCbuild\\amd64 \"/LIBPATH:C:\\Program Files (x86)\\Microsoft Visual Studio\\2017\\Community\\VC\\Tools\\MSVC\\14.15.26726\\ATLMFC\\lib\\x64\" \"/LIBPATH:C:\\Program Files (x86)\\Microsoft Visual Studio\\2017\\Community\\VC\\Tools\\MSVC\\14.15.26726\\lib\\x64\" \"/LIBPATH:C:\\Program Files (x86)\\Windows Kits\\NETFXSDK\\4.6.1\\lib\\um\\x64\" \"/LIBPATH:C:\\Program Files (x86)\\Windows Kits\\10\\lib\\10.0.17134.0\\ucrt\\x64\" \"/LIBPATH:C:\\Program Files (x86)\\Windows Kits\\10\\lib\\10.0.17134.0\\um\\x64\" /EXPORT:PyInit__linear_regression .\\Release\\_linear_regression.obj /OUT:.\\_linear_regression.cp37-win_amd64.pyd /IMPLIB:.\\Release\\_linear_regression.cp37-win_amd64.lib\n"
          ]
        },
        {
          "data": {
            "text/plain": [
              "'C:\\\\xavierdupre\\\\__home_\\\\GitHub\\\\ensae_teaching_cs\\\\_doc\\\\notebooks\\\\2a\\\\_linear_regression.cp37-win_amd64.pyd'"
            ]
          },
          "execution_count": 10,
          "metadata": {},
          "output_type": "execute_result"
        }
      ],
      "source": [
        "from cffi import FFI\n",
        "ffibuilder = FFI()\n",
        "\n",
        "ffibuilder.cdef(\"int linreg(int, double *, double *, double, double *);\")\n",
        "\n",
        "ffibuilder.set_source(\"_linear_regression\",\n",
        "r\"\"\"\n",
        "    static int linreg(int dimension, double * x, double *coef, double intercept, double * out)\n",
        "    {\n",
        "        for(; dimension > 0; --dimension, ++x, ++coef)\n",
        "            intercept += *x * *coef;\n",
        "        *out = intercept;\n",
        "        return 1;\n",
        "    }\n",
        "\"\"\")\n",
        "\n",
        "ffibuilder.compile(verbose=True)"
      ]
    },
    {
      "cell_type": "markdown",
      "metadata": {},
      "source": [
        "La fonction compil\u00e9e est accessible comme suit."
      ]
    },
    {
      "cell_type": "code",
      "execution_count": 10,
      "metadata": {},
      "outputs": [
        {
          "data": {
            "text/plain": [
              "<function _linear_regression.CompiledLib.linreg>"
            ]
          },
          "execution_count": 11,
          "metadata": {},
          "output_type": "execute_result"
        }
      ],
      "source": [
        "from _linear_regression import ffi, lib\n",
        "lib.linreg"
      ]
    },
    {
      "cell_type": "markdown",
      "metadata": {},
      "source": [
        "On s'inspire de l'exemple [How to pass a Numpy array into a cffi function and how to get one back out?](https://stackoverflow.com/questions/16276268/how-to-pass-a-numpy-array-into-a-cffi-function-and-how-to-get-one-back-out)."
      ]
    },
    {
      "cell_type": "code",
      "execution_count": 11,
      "metadata": {},
      "outputs": [],
      "source": [
        "import numpy\n",
        "out = numpy.zeros(1)"
      ]
    },
    {
      "cell_type": "code",
      "execution_count": 12,
      "metadata": {},
      "outputs": [],
      "source": [
        "ptr_coef = clr.coef_.__array_interface__['data'][0]\n",
        "cptr_coef = ffi.cast ( \"double*\" , ptr_coef )"
      ]
    },
    {
      "cell_type": "code",
      "execution_count": 13,
      "metadata": {},
      "outputs": [],
      "source": [
        "x = diabetes_X_test[0:1,:]\n",
        "ptr_x = x.__array_interface__['data'][0]\n",
        "cptr_x = ffi.cast ( \"double*\" , ptr_x )"
      ]
    },
    {
      "cell_type": "code",
      "execution_count": 14,
      "metadata": {},
      "outputs": [],
      "source": [
        "ptr_out = out.__array_interface__['data'][0]\n",
        "cptr_out = ffi.cast ( \"double*\" , ptr_out )"
      ]
    },
    {
      "cell_type": "code",
      "execution_count": 15,
      "metadata": {},
      "outputs": [
        {
          "data": {
            "text/plain": [
              "1"
            ]
          },
          "execution_count": 16,
          "metadata": {},
          "output_type": "execute_result"
        }
      ],
      "source": [
        "n = len(clr.coef_)\n",
        "lib.linreg(n, cptr_x, cptr_coef, clr.intercept_, cptr_out)"
      ]
    },
    {
      "cell_type": "code",
      "execution_count": 16,
      "metadata": {},
      "outputs": [
        {
          "data": {
            "text/plain": [
              "array([197.61846908])"
            ]
          },
          "execution_count": 17,
          "metadata": {},
          "output_type": "execute_result"
        }
      ],
      "source": [
        "out"
      ]
    },
    {
      "cell_type": "markdown",
      "metadata": {},
      "source": [
        "On v\u00e9rifie qu'on obtient bien la m\u00eame chose."
      ]
    },
    {
      "cell_type": "code",
      "execution_count": 17,
      "metadata": {},
      "outputs": [
        {
          "data": {
            "text/plain": [
              "array([197.61846908])"
            ]
          },
          "execution_count": 18,
          "metadata": {},
          "output_type": "execute_result"
        }
      ],
      "source": [
        "clr.predict(x)"
      ]
    },
    {
      "cell_type": "markdown",
      "metadata": {},
      "source": [
        "Et on mesure le temps d'ex\u00e9cution :"
      ]
    },
    {
      "cell_type": "code",
      "execution_count": 18,
      "metadata": {},
      "outputs": [
        {
          "name": "stdout",
          "output_type": "stream",
          "text": [
            "Moyenne: 483.88 ns Ecart-type 153.74 ns (with 100 runs) in [434.56 ns, 770.37 ns]\n"
          ]
        }
      ],
      "source": [
        "memo_time.append(timeexe(\"cffi-linreg\", \"lib.linreg(n, cptr_x, cptr_coef, clr.intercept_, cptr_out)\"))"
      ]
    },
    {
      "cell_type": "markdown",
      "metadata": {},
      "source": [
        "C'est beaucoup plus rapide. Pour \u00eatre totalement honn\u00eate, il faut mesurer les \u00e9tapes qui consiste \u00e0 extraire les pointeurs."
      ]
    },
    {
      "cell_type": "code",
      "execution_count": 19,
      "metadata": {},
      "outputs": [
        {
          "data": {
            "text/plain": [
              "array([152.74058378])"
            ]
          },
          "execution_count": 20,
          "metadata": {},
          "output_type": "execute_result"
        }
      ],
      "source": [
        "def predict_clr(x, clr):\n",
        "    out = numpy.zeros(1)\n",
        "    ptr_coef = clr.coef_.__array_interface__['data'][0]\n",
        "    cptr_coef = ffi.cast ( \"double*\" , ptr_coef )\n",
        "    ptr_x = x.__array_interface__['data'][0]\n",
        "    cptr_x = ffi.cast ( \"double*\" , ptr_x )  \n",
        "    ptr_out = out.__array_interface__['data'][0]\n",
        "    cptr_out = ffi.cast ( \"double*\" , ptr_out ) \n",
        "    lib.linreg(len(x), cptr_x, cptr_coef, clr.intercept_, cptr_out)\n",
        "    return out\n",
        "\n",
        "predict_clr(x, clr)"
      ]
    },
    {
      "cell_type": "code",
      "execution_count": 20,
      "metadata": {},
      "outputs": [
        {
          "name": "stdout",
          "output_type": "stream",
          "text": [
            "Moyenne: 7.08 \u00b5s Ecart-type 1.11 \u00b5s (with 100 runs) in [6.65 \u00b5s, 7.79 \u00b5s]\n"
          ]
        }
      ],
      "source": [
        "memo_time.append(timeexe(\"cffi-linreg-wrapped\", \"predict_clr(x, clr)\"))"
      ]
    },
    {
      "cell_type": "markdown",
      "metadata": {},
      "source": [
        "Cela reste plus rapide."
      ]
    },
    {
      "cell_type": "markdown",
      "metadata": {},
      "source": [
        "## cffi - seconde version\n",
        "\n",
        "Comme on construit la fonction en dynamique (le code est connu lors de l'ex\u00e9cution), on peut facilement se passer de la boucle et \u00e9crire le code sans boucle et avec les coefficients."
      ]
    },
    {
      "cell_type": "code",
      "execution_count": 21,
      "metadata": {},
      "outputs": [
        {
          "data": {
            "text/plain": [
              "'0.3034995490660432*x[0] + -237.63931533353403*x[1] + 510.5306054362253*x[2] + 327.7369804093466*x[3] + -814.1317093725387*x[4] + 492.81458798373217*x[5] + 102.8484521916802*x[6] + 184.60648905984*x[7] + 743.519616750542*x[8] + 76.09517221662392*x[9]'"
            ]
          },
          "execution_count": 22,
          "metadata": {},
          "output_type": "execute_result"
        }
      ],
      "source": [
        "res = \" + \".join(\"{0}*x[{1}]\".format(c, i) for i, c in enumerate(clr.coef_))\n",
        "res"
      ]
    },
    {
      "cell_type": "code",
      "execution_count": 22,
      "metadata": {},
      "outputs": [
        {
          "name": "stdout",
          "output_type": "stream",
          "text": [
            "\n",
            "    static int linreg_custom(double * x, double * out)\n",
            "    {\n",
            "        out[0] = 152.76430691633442 + 0.3034995490660432*x[0] + -237.63931533353403*x[1] + 510.5306054362253*x[2] + 327.7369804093466*x[3] + -814.1317093725387*x[4] + 492.81458798373217*x[5] + 102.8484521916802*x[6] + 184.60648905984*x[7] + 743.519616750542*x[8] + 76.09517221662392*x[9];\n",
            "    }\n",
            "\n"
          ]
        }
      ],
      "source": [
        "code = \"\"\"\n",
        "    static int linreg_custom(double * x, double * out)\n",
        "    {{\n",
        "        out[0] = {0} + {1};\n",
        "    }}\n",
        "\"\"\".format(clr.intercept_, res)\n",
        "print(code)"
      ]
    },
    {
      "cell_type": "code",
      "execution_count": 23,
      "metadata": {
        "scrolled": false
      },
      "outputs": [
        {
          "name": "stdout",
          "output_type": "stream",
          "text": [
            "generating .\\_linear_regression_custom.c\n",
            "(already up-to-date)\n",
            "the current directory is 'C:\\\\xavierdupre\\\\__home_\\\\GitHub\\\\ensae_teaching_cs\\\\_doc\\\\notebooks\\\\2a'\n",
            "running build_ext\n",
            "building '_linear_regression_custom' extension\n",
            "C:\\Program Files (x86)\\Microsoft Visual Studio\\2017\\Community\\VC\\Tools\\MSVC\\14.15.26726\\bin\\HostX86\\x64\\cl.exe /c /nologo /Ox /W3 /GL /DNDEBUG /MD -Ic:\\python370_x64\\include -Ic:\\python370_x64\\include \"-IC:\\Program Files (x86)\\Microsoft Visual Studio\\2017\\Community\\VC\\Tools\\MSVC\\14.15.26726\\ATLMFC\\include\" \"-IC:\\Program Files (x86)\\Microsoft Visual Studio\\2017\\Community\\VC\\Tools\\MSVC\\14.15.26726\\include\" \"-IC:\\Program Files (x86)\\Windows Kits\\NETFXSDK\\4.6.1\\include\\um\" \"-IC:\\Program Files (x86)\\Windows Kits\\10\\include\\10.0.17134.0\\ucrt\" \"-IC:\\Program Files (x86)\\Windows Kits\\10\\include\\10.0.17134.0\\shared\" \"-IC:\\Program Files (x86)\\Windows Kits\\10\\include\\10.0.17134.0\\um\" \"-IC:\\Program Files (x86)\\Windows Kits\\10\\include\\10.0.17134.0\\winrt\" \"-IC:\\Program Files (x86)\\Windows Kits\\10\\include\\10.0.17134.0\\cppwinrt\" /Tc_linear_regression_custom.c /Fo.\\Release\\_linear_regression_custom.obj\n",
            "C:\\Program Files (x86)\\Microsoft Visual Studio\\2017\\Community\\VC\\Tools\\MSVC\\14.15.26726\\bin\\HostX86\\x64\\link.exe /nologo /INCREMENTAL:NO /LTCG /DLL /MANIFEST:EMBED,ID=2 /MANIFESTUAC:NO /LIBPATH:c:\\python370_x64\\libs /LIBPATH:c:\\python370_x64\\PCbuild\\amd64 \"/LIBPATH:C:\\Program Files (x86)\\Microsoft Visual Studio\\2017\\Community\\VC\\Tools\\MSVC\\14.15.26726\\ATLMFC\\lib\\x64\" \"/LIBPATH:C:\\Program Files (x86)\\Microsoft Visual Studio\\2017\\Community\\VC\\Tools\\MSVC\\14.15.26726\\lib\\x64\" \"/LIBPATH:C:\\Program Files (x86)\\Windows Kits\\NETFXSDK\\4.6.1\\lib\\um\\x64\" \"/LIBPATH:C:\\Program Files (x86)\\Windows Kits\\10\\lib\\10.0.17134.0\\ucrt\\x64\" \"/LIBPATH:C:\\Program Files (x86)\\Windows Kits\\10\\lib\\10.0.17134.0\\um\\x64\" /EXPORT:PyInit__linear_regression_custom .\\Release\\_linear_regression_custom.obj /OUT:.\\_linear_regression_custom.cp37-win_amd64.pyd /IMPLIB:.\\Release\\_linear_regression_custom.cp37-win_amd64.lib\n"
          ]
        },
        {
          "data": {
            "text/plain": [
              "'C:\\\\xavierdupre\\\\__home_\\\\GitHub\\\\ensae_teaching_cs\\\\_doc\\\\notebooks\\\\2a\\\\_linear_regression_custom.cp37-win_amd64.pyd'"
            ]
          },
          "execution_count": 24,
          "metadata": {},
          "output_type": "execute_result"
        }
      ],
      "source": [
        "from cffi import FFI\n",
        "ffibuilder = FFI()\n",
        "\n",
        "ffibuilder.cdef(\"int linreg_custom(double *, double *);\")\n",
        "ffibuilder.set_source(\"_linear_regression_custom\", code)\n",
        "ffibuilder.compile(verbose=True)"
      ]
    },
    {
      "cell_type": "code",
      "execution_count": 24,
      "metadata": {},
      "outputs": [
        {
          "data": {
            "text/plain": [
              "array([197.61846908])"
            ]
          },
          "execution_count": 25,
          "metadata": {},
          "output_type": "execute_result"
        }
      ],
      "source": [
        "from _linear_regression_custom.lib import linreg_custom\n",
        "linreg_custom(cptr_x, cptr_out)\n",
        "out"
      ]
    },
    {
      "cell_type": "code",
      "execution_count": 25,
      "metadata": {},
      "outputs": [
        {
          "name": "stdout",
          "output_type": "stream",
          "text": [
            "Moyenne: 370.63 ns Ecart-type 117.29 ns (with 100 runs) in [331.85 ns, 576.79 ns]\n"
          ]
        }
      ],
      "source": [
        "memo_time.append(timeexe(\"cffi-linreg-custom\", \"linreg_custom(cptr_x, cptr_out)\"))"
      ]
    },
    {
      "cell_type": "markdown",
      "metadata": {},
      "source": [
        "On a gagn\u00e9 un facteur 2."
      ]
    },
    {
      "cell_type": "code",
      "execution_count": 26,
      "metadata": {},
      "outputs": [
        {
          "data": {
            "text/plain": [
              "array([197.61846908])"
            ]
          },
          "execution_count": 27,
          "metadata": {},
          "output_type": "execute_result"
        }
      ],
      "source": [
        "def predict_clr_custom(x):\n",
        "    out = numpy.zeros(1)\n",
        "    ptr_x = x.__array_interface__['data'][0]\n",
        "    cptr_x = ffi.cast ( \"double*\" , ptr_x )  \n",
        "    ptr_out = out.__array_interface__['data'][0]\n",
        "    cptr_out = ffi.cast ( \"double*\" , ptr_out ) \n",
        "    linreg_custom(cptr_x, cptr_out)\n",
        "    return out\n",
        "\n",
        "predict_clr_custom(x)"
      ]
    },
    {
      "cell_type": "code",
      "execution_count": 27,
      "metadata": {},
      "outputs": [
        {
          "name": "stdout",
          "output_type": "stream",
          "text": [
            "Moyenne: 5.06 \u00b5s Ecart-type 946.79 ns (with 100 runs) in [4.72 \u00b5s, 5.66 \u00b5s]\n"
          ]
        }
      ],
      "source": [
        "memo_time.append(timeexe(\"cffi-linreg-custom wrapped\", \"predict_clr_custom(x)\"))"
      ]
    },
    {
      "cell_type": "markdown",
      "metadata": {},
      "source": [
        "C'est un peu plus rapide."
      ]
    },
    {
      "cell_type": "markdown",
      "metadata": {
        "collapsed": true
      },
      "source": [
        "## et en float?\n",
        "\n",
        "L'ordinateur fait la distinction entre les [double](https://en.wikipedia.org/wiki/Double-precision_floating-point_format) code sur 64 bit et les [float](https://en.wikipedia.org/wiki/Single-precision_floating-point_format) cod\u00e9 sur 32 bits. La pr\u00e9cision est meilleure dans le premier cas et les calculs sont plus rapides dans le second. Dans le cas du machine learning, on pr\u00e9f\u00e8re la rapidit\u00e9 \u00e0 une perte pr\u00e9cision en pr\u00e9cision qui est souvent compens\u00e9e par l'optimisation inh\u00e9rente \u00e0 tout probl\u00e8me de machine learning. Ce qu'on perd sur une observation, on le retrouve sur une autre."
      ]
    },
    {
      "cell_type": "code",
      "execution_count": 28,
      "metadata": {},
      "outputs": [
        {
          "data": {
            "text/plain": [
              "'0.3034995490660432f*x[0] + -237.63931533353403f*x[1] + 510.5306054362253f*x[2] + 327.7369804093466f*x[3] + -814.1317093725387f*x[4] + 492.81458798373217f*x[5] + 102.8484521916802f*x[6] + 184.60648905984f*x[7] + 743.519616750542f*x[8] + 76.09517221662392f*x[9]'"
            ]
          },
          "execution_count": 29,
          "metadata": {},
          "output_type": "execute_result"
        }
      ],
      "source": [
        "res = \" + \".join(\"{0}f*x[{1}]\".format(c, i) for i, c in enumerate(clr.coef_))\n",
        "res"
      ]
    },
    {
      "cell_type": "code",
      "execution_count": 29,
      "metadata": {},
      "outputs": [
        {
          "name": "stdout",
          "output_type": "stream",
          "text": [
            "\n",
            "    static int linreg_custom_float(float * x, float * out)\n",
            "    {\n",
            "        out[0] = 152.76430691633442f + 0.3034995490660432f*x[0] + -237.63931533353403f*x[1] + 510.5306054362253f*x[2] + 327.7369804093466f*x[3] + -814.1317093725387f*x[4] + 492.81458798373217f*x[5] + 102.8484521916802f*x[6] + 184.60648905984f*x[7] + 743.519616750542f*x[8] + 76.09517221662392f*x[9];\n",
            "    }\n",
            "\n"
          ]
        }
      ],
      "source": [
        "code = \"\"\"\n",
        "    static int linreg_custom_float(float * x, float * out)\n",
        "    {{\n",
        "        out[0] = {0}f + {1};\n",
        "    }}\n",
        "\"\"\".format(clr.intercept_, res)\n",
        "print(code)"
      ]
    },
    {
      "cell_type": "code",
      "execution_count": 30,
      "metadata": {},
      "outputs": [
        {
          "name": "stdout",
          "output_type": "stream",
          "text": [
            "generating .\\_linear_regression_custom_float.c\n",
            "(already up-to-date)\n",
            "the current directory is 'C:\\\\xavierdupre\\\\__home_\\\\GitHub\\\\ensae_teaching_cs\\\\_doc\\\\notebooks\\\\2a'\n",
            "running build_ext\n",
            "building '_linear_regression_custom_float' extension\n",
            "C:\\Program Files (x86)\\Microsoft Visual Studio\\2017\\Community\\VC\\Tools\\MSVC\\14.15.26726\\bin\\HostX86\\x64\\cl.exe /c /nologo /Ox /W3 /GL /DNDEBUG /MD -Ic:\\python370_x64\\include -Ic:\\python370_x64\\include \"-IC:\\Program Files (x86)\\Microsoft Visual Studio\\2017\\Community\\VC\\Tools\\MSVC\\14.15.26726\\ATLMFC\\include\" \"-IC:\\Program Files (x86)\\Microsoft Visual Studio\\2017\\Community\\VC\\Tools\\MSVC\\14.15.26726\\include\" \"-IC:\\Program Files (x86)\\Windows Kits\\NETFXSDK\\4.6.1\\include\\um\" \"-IC:\\Program Files (x86)\\Windows Kits\\10\\include\\10.0.17134.0\\ucrt\" \"-IC:\\Program Files (x86)\\Windows Kits\\10\\include\\10.0.17134.0\\shared\" \"-IC:\\Program Files (x86)\\Windows Kits\\10\\include\\10.0.17134.0\\um\" \"-IC:\\Program Files (x86)\\Windows Kits\\10\\include\\10.0.17134.0\\winrt\" \"-IC:\\Program Files (x86)\\Windows Kits\\10\\include\\10.0.17134.0\\cppwinrt\" /Tc_linear_regression_custom_float.c /Fo.\\Release\\_linear_regression_custom_float.obj\n",
            "C:\\Program Files (x86)\\Microsoft Visual Studio\\2017\\Community\\VC\\Tools\\MSVC\\14.15.26726\\bin\\HostX86\\x64\\link.exe /nologo /INCREMENTAL:NO /LTCG /DLL /MANIFEST:EMBED,ID=2 /MANIFESTUAC:NO /LIBPATH:c:\\python370_x64\\libs /LIBPATH:c:\\python370_x64\\PCbuild\\amd64 \"/LIBPATH:C:\\Program Files (x86)\\Microsoft Visual Studio\\2017\\Community\\VC\\Tools\\MSVC\\14.15.26726\\ATLMFC\\lib\\x64\" \"/LIBPATH:C:\\Program Files (x86)\\Microsoft Visual Studio\\2017\\Community\\VC\\Tools\\MSVC\\14.15.26726\\lib\\x64\" \"/LIBPATH:C:\\Program Files (x86)\\Windows Kits\\NETFXSDK\\4.6.1\\lib\\um\\x64\" \"/LIBPATH:C:\\Program Files (x86)\\Windows Kits\\10\\lib\\10.0.17134.0\\ucrt\\x64\" \"/LIBPATH:C:\\Program Files (x86)\\Windows Kits\\10\\lib\\10.0.17134.0\\um\\x64\" /EXPORT:PyInit__linear_regression_custom_float .\\Release\\_linear_regression_custom_float.obj /OUT:.\\_linear_regression_custom_float.cp37-win_amd64.pyd /IMPLIB:.\\Release\\_linear_regression_custom_float.cp37-win_amd64.lib\n"
          ]
        },
        {
          "data": {
            "text/plain": [
              "'C:\\\\xavierdupre\\\\__home_\\\\GitHub\\\\ensae_teaching_cs\\\\_doc\\\\notebooks\\\\2a\\\\_linear_regression_custom_float.cp37-win_amd64.pyd'"
            ]
          },
          "execution_count": 31,
          "metadata": {},
          "output_type": "execute_result"
        }
      ],
      "source": [
        "from cffi import FFI\n",
        "ffibuilder = FFI()\n",
        "\n",
        "ffibuilder.cdef(\"int linreg_custom_float(float *, float *);\")\n",
        "ffibuilder.set_source(\"_linear_regression_custom_float\", code)\n",
        "ffibuilder.compile(verbose=True)"
      ]
    },
    {
      "cell_type": "code",
      "execution_count": 31,
      "metadata": {},
      "outputs": [],
      "source": [
        "from _linear_regression_custom_float.lib import linreg_custom_float"
      ]
    },
    {
      "cell_type": "code",
      "execution_count": 32,
      "metadata": {},
      "outputs": [],
      "source": [
        "def predict_clr_custom_float(x):\n",
        "    out = numpy.zeros(1, dtype=numpy.float32)\n",
        "    ptr_x = x.__array_interface__['data'][0]\n",
        "    cptr_x = ffi.cast ( \"float*\" , ptr_x )  \n",
        "    ptr_out = out.__array_interface__['data'][0]\n",
        "    cptr_out = ffi.cast ( \"float*\" , ptr_out ) \n",
        "    linreg_custom_float(cptr_x, cptr_out)\n",
        "    return out"
      ]
    },
    {
      "cell_type": "markdown",
      "metadata": {},
      "source": [
        "Avant d'appeler la fonction, on doit transformer le vecteur iniatial en [float32](https://docs.scipy.org/doc/numpy/user/basics.types.html)."
      ]
    },
    {
      "cell_type": "code",
      "execution_count": 33,
      "metadata": {},
      "outputs": [
        {
          "data": {
            "text/plain": [
              "array([nan])"
            ]
          },
          "execution_count": 34,
          "metadata": {},
          "output_type": "execute_result"
        }
      ],
      "source": [
        "x32 = x.astype(numpy.float32)\n",
        "predict_clr_custom(x32)"
      ]
    },
    {
      "cell_type": "code",
      "execution_count": 34,
      "metadata": {},
      "outputs": [
        {
          "name": "stdout",
          "output_type": "stream",
          "text": [
            "Moyenne: 5.07 \u00b5s Ecart-type 659.07 ns (with 100 runs) in [4.77 \u00b5s, 5.63 \u00b5s]\n"
          ]
        }
      ],
      "source": [
        "memo_time.append(timeexe(\"cffi-linreg-custom-float wrapped\", \"predict_clr_custom(x32)\"))"
      ]
    },
    {
      "cell_type": "markdown",
      "metadata": {},
      "source": [
        "La diff\u00e9rence n'est pas flagrante. Mesurons le code C uniquement m\u00eame si la partie Python ne peut pas \u00eatre compl\u00e8tement \u00e9vit\u00e9e."
      ]
    },
    {
      "cell_type": "code",
      "execution_count": 35,
      "metadata": {},
      "outputs": [
        {
          "name": "stdout",
          "output_type": "stream",
          "text": [
            "Moyenne: 370.17 ns Ecart-type 150.76 ns (with 100 runs) in [335.80 ns, 545.19 ns]\n"
          ]
        }
      ],
      "source": [
        "out = numpy.zeros(1, dtype=numpy.float32)\n",
        "ptr_x = x32.__array_interface__['data'][0]\n",
        "cptr_x = ffi.cast ( \"float*\" , ptr_x )  \n",
        "ptr_out = out.__array_interface__['data'][0]\n",
        "cptr_out = ffi.cast ( \"float*\" , ptr_out ) \n",
        "\n",
        "memo_time.append(timeexe(\"cffi-linreg-custom-float32\", \"linreg_custom_float(cptr_x, cptr_out)\"))"
      ]
    },
    {
      "cell_type": "markdown",
      "metadata": {},
      "source": [
        "La diff\u00e9rence n'est pas significative."
      ]
    },
    {
      "cell_type": "markdown",
      "metadata": {},
      "source": [
        "## SIMD\n",
        "\n",
        "C'est un ensemble d'instructions processeur pour faire des op\u00e9rations terme \u00e0 terme sur 4 float32 aussi rapidement qu'une seule. Le processeur ne peut faire des op\u00e9rations que les nombres sont copi\u00e9s dans ses registres. Le programme passe alors son temps \u00e0 copier des nombres depuis la m\u00e9moire vers les registres du processeur puis \u00e0 faire la copie dans le chemin inverse pour le r\u00e9sultat. Les instructions [SIMD](https://en.wikipedia.org/wiki/SIMD) font gagner du temps du niveau du calcul. Au lieu de faire 4 op\u00e9rations de multiplication terme \u00e0 terme, il n'en fait plus qu'une. Il suffit de savoir comment utiliser ces instructions. Avec Visual Studio, elles sont accessible via ces fonctions [Memory and Initialization Using Streaming SIMD Extensions](https://msdn.microsoft.com/en-us/library/0hey67c0%28v=vs.100%29.aspx).\n",
        "Le code suivant n'est probablement pas optimal mais il n'est pas trop compliqu\u00e9 \u00e0 suivre."
      ]
    },
    {
      "cell_type": "code",
      "execution_count": 36,
      "metadata": {},
      "outputs": [],
      "source": [
        "code = \"\"\"\n",
        "#include <xmmintrin.h> \n",
        "\n",
        "static int linreg_custom_float_simd(float * x, float * out)\n",
        "{\n",
        "    __m128 c1 = _mm_set_ps(0.3034995490664121f, -237.63931533353392f, 510.5306054362245f, 327.7369804093466f);\n",
        "    __m128 c2 = _mm_set_ps(-814.1317093725389f, 492.81458798373245f, 102.84845219168025f, 184.60648905984064f);\n",
        "    __m128 r1 = _mm_set_ss(152.76430691633442f);\n",
        "    r1 = _mm_add_ss(r1, _mm_mul_ps(c1, _mm_load_ps(x)));\n",
        "    r1 = _mm_add_ss(r1, _mm_mul_ps(c2, _mm_load_ps(x+4)));\n",
        "    float r[4];\n",
        "    _mm_store_ps(r, r1);    \n",
        "    out[0] = r[0] + r[1] + r[2] + r[3] + 743.5196167505419f * x[8] + 76.095172216624f * x[9];\n",
        "    return 1;\n",
        "}\n",
        "\"\"\""
      ]
    },
    {
      "cell_type": "code",
      "execution_count": 37,
      "metadata": {
        "scrolled": false
      },
      "outputs": [
        {
          "name": "stdout",
          "output_type": "stream",
          "text": [
            "generating .\\_linear_regression_custom_float_simd.c\n",
            "(already up-to-date)\n",
            "the current directory is 'C:\\\\xavierdupre\\\\__home_\\\\GitHub\\\\ensae_teaching_cs\\\\_doc\\\\notebooks\\\\2a'\n",
            "running build_ext\n",
            "building '_linear_regression_custom_float_simd' extension\n",
            "C:\\Program Files (x86)\\Microsoft Visual Studio\\2017\\Community\\VC\\Tools\\MSVC\\14.15.26726\\bin\\HostX86\\x64\\cl.exe /c /nologo /Ox /W3 /GL /DNDEBUG /MD -Ic:\\python370_x64\\include -Ic:\\python370_x64\\include \"-IC:\\Program Files (x86)\\Microsoft Visual Studio\\2017\\Community\\VC\\Tools\\MSVC\\14.15.26726\\ATLMFC\\include\" \"-IC:\\Program Files (x86)\\Microsoft Visual Studio\\2017\\Community\\VC\\Tools\\MSVC\\14.15.26726\\include\" \"-IC:\\Program Files (x86)\\Windows Kits\\NETFXSDK\\4.6.1\\include\\um\" \"-IC:\\Program Files (x86)\\Windows Kits\\10\\include\\10.0.17134.0\\ucrt\" \"-IC:\\Program Files (x86)\\Windows Kits\\10\\include\\10.0.17134.0\\shared\" \"-IC:\\Program Files (x86)\\Windows Kits\\10\\include\\10.0.17134.0\\um\" \"-IC:\\Program Files (x86)\\Windows Kits\\10\\include\\10.0.17134.0\\winrt\" \"-IC:\\Program Files (x86)\\Windows Kits\\10\\include\\10.0.17134.0\\cppwinrt\" /Tc_linear_regression_custom_float_simd.c /Fo.\\Release\\_linear_regression_custom_float_simd.obj\n",
            "C:\\Program Files (x86)\\Microsoft Visual Studio\\2017\\Community\\VC\\Tools\\MSVC\\14.15.26726\\bin\\HostX86\\x64\\link.exe /nologo /INCREMENTAL:NO /LTCG /DLL /MANIFEST:EMBED,ID=2 /MANIFESTUAC:NO /LIBPATH:c:\\python370_x64\\libs /LIBPATH:c:\\python370_x64\\PCbuild\\amd64 \"/LIBPATH:C:\\Program Files (x86)\\Microsoft Visual Studio\\2017\\Community\\VC\\Tools\\MSVC\\14.15.26726\\ATLMFC\\lib\\x64\" \"/LIBPATH:C:\\Program Files (x86)\\Microsoft Visual Studio\\2017\\Community\\VC\\Tools\\MSVC\\14.15.26726\\lib\\x64\" \"/LIBPATH:C:\\Program Files (x86)\\Windows Kits\\NETFXSDK\\4.6.1\\lib\\um\\x64\" \"/LIBPATH:C:\\Program Files (x86)\\Windows Kits\\10\\lib\\10.0.17134.0\\ucrt\\x64\" \"/LIBPATH:C:\\Program Files (x86)\\Windows Kits\\10\\lib\\10.0.17134.0\\um\\x64\" /EXPORT:PyInit__linear_regression_custom_float_simd .\\Release\\_linear_regression_custom_float_simd.obj /OUT:.\\_linear_regression_custom_float_simd.cp37-win_amd64.pyd /IMPLIB:.\\Release\\_linear_regression_custom_float_simd.cp37-win_amd64.lib\n"
          ]
        },
        {
          "data": {
            "text/plain": [
              "'C:\\\\xavierdupre\\\\__home_\\\\GitHub\\\\ensae_teaching_cs\\\\_doc\\\\notebooks\\\\2a\\\\_linear_regression_custom_float_simd.cp37-win_amd64.pyd'"
            ]
          },
          "execution_count": 38,
          "metadata": {},
          "output_type": "execute_result"
        }
      ],
      "source": [
        "from cffi import FFI\n",
        "ffibuilder = FFI()\n",
        "\n",
        "ffibuilder.cdef(\"int linreg_custom_float_simd(float *, float *);\")\n",
        "ffibuilder.set_source(\"_linear_regression_custom_float_simd\", code)\n",
        "ffibuilder.compile(verbose=True)"
      ]
    },
    {
      "cell_type": "code",
      "execution_count": 38,
      "metadata": {},
      "outputs": [],
      "source": [
        "from _linear_regression_custom_float_simd.lib import linreg_custom_float_simd"
      ]
    },
    {
      "cell_type": "code",
      "execution_count": 39,
      "metadata": {},
      "outputs": [
        {
          "data": {
            "text/plain": [
              "array([171.1178], dtype=float32)"
            ]
          },
          "execution_count": 40,
          "metadata": {},
          "output_type": "execute_result"
        }
      ],
      "source": [
        "out = numpy.zeros(1, dtype=numpy.float32)\n",
        "ptr_x = x32.__array_interface__['data'][0]\n",
        "cptr_x = ffi.cast ( \"float*\" , ptr_x )  \n",
        "ptr_out = out.__array_interface__['data'][0]\n",
        "cptr_out = ffi.cast ( \"float*\" , ptr_out ) \n",
        "\n",
        "linreg_custom_float_simd(cptr_x, cptr_out)\n",
        "out"
      ]
    },
    {
      "cell_type": "code",
      "execution_count": 40,
      "metadata": {},
      "outputs": [
        {
          "name": "stdout",
          "output_type": "stream",
          "text": [
            "Moyenne: 359.75 ns Ecart-type 201.75 ns (with 100 runs) in [308.14 ns, 564.94 ns]\n"
          ]
        }
      ],
      "source": [
        "memo_time.append(timeexe(\"cffi-linreg-custom-float32-simd\", \"linreg_custom_float_simd(cptr_x, cptr_out)\"))"
      ]
    },
    {
      "cell_type": "markdown",
      "metadata": {},
      "source": [
        "C'est l\u00e9g\u00e8rement mieux, quelques r\u00e9f\u00e9rences :\n",
        "\n",
        "* [aligned_vs_unaligned_load.c](https://gist.github.com/rmcgibbo/7689820) : c'est du code mais facile \u00e0 lire.\n",
        "* [How to Write Fast Numerical Code](https://www.inf.ethz.ch/personal/markusp/teaching/263-2300-ETH-spring11/slides/class17.pdf)\n",
        "\n",
        "Les processeurs \u00e9voluent au fil du temps, 4 float, 8 float, [SIMD2](https://msdn.microsoft.com/en-us/library/kcwz153a%28v=vs.100%29.aspx), [FMA4 Intrinsics Added for Visual Studio 2010 SP1](https://msdn.microsoft.com/en-us/library/gg445134%28v=vs.100%29.aspx), [AVX](https://software.intel.com/en-us/articles/introduction-to-intel-advanced-vector-extensions/)."
      ]
    },
    {
      "cell_type": "markdown",
      "metadata": {
        "collapsed": true
      },
      "source": [
        "## R\u00e9\u00e9criture purement Python\n",
        "\n",
        "On continue avec uniquement du Python sans numpy."
      ]
    },
    {
      "cell_type": "code",
      "execution_count": 41,
      "metadata": {},
      "outputs": [
        {
          "data": {
            "text/plain": [
              "[0.3034995490660432,\n",
              " -237.63931533353403,\n",
              " 510.5306054362253,\n",
              " 327.7369804093466,\n",
              " -814.1317093725387,\n",
              " 492.81458798373217,\n",
              " 102.8484521916802,\n",
              " 184.60648905984,\n",
              " 743.519616750542,\n",
              " 76.09517221662392]"
            ]
          },
          "execution_count": 42,
          "metadata": {},
          "output_type": "execute_result"
        }
      ],
      "source": [
        "coef = clr.coef_\n",
        "list(coef)"
      ]
    },
    {
      "cell_type": "code",
      "execution_count": 42,
      "metadata": {},
      "outputs": [
        {
          "data": {
            "text/plain": [
              "'152.76430691633442+x[0]*(0.3034995490660432)+x[1]*(-237.63931533353403)+x[2]*(510.5306054362253)+x[3]*(327.7369804093466)+x[4]*(-814.1317093725387)+x[5]*(492.81458798373217)+x[6]*(102.8484521916802)+x[7]*(184.60648905984)+x[8]*(743.519616750542)+x[9]*(76.09517221662392)'"
            ]
          },
          "execution_count": 43,
          "metadata": {},
          "output_type": "execute_result"
        }
      ],
      "source": [
        "code = str(clr.intercept_) + \"+\" + \"+\".join(\"x[{0}]*({1})\".format(i, c) for i, c in enumerate(coef))\n",
        "code"
      ]
    },
    {
      "cell_type": "code",
      "execution_count": 43,
      "metadata": {},
      "outputs": [
        {
          "data": {
            "text/plain": [
              "197.61846907469848"
            ]
          },
          "execution_count": 44,
          "metadata": {},
          "output_type": "execute_result"
        }
      ],
      "source": [
        "def predict_clr_python(x):\n",
        "    return 152.764306916+x[0]*0.3034995490664121+x[1]*(-237.63931533353392)+x[2]*510.5306054362245+ \\\n",
        "            x[3]*327.7369804093466+ \\\n",
        "            x[4]*(-814.1317093725389)+x[5]*492.81458798373245+x[6]*102.84845219168025+ \\\n",
        "            x[7]*184.60648905984064+x[8]*743.5196167505419+x[9]*76.095172216624\n",
        "            \n",
        "predict_clr_python(x[0])"
      ]
    },
    {
      "cell_type": "code",
      "execution_count": 44,
      "metadata": {},
      "outputs": [
        {
          "name": "stdout",
          "output_type": "stream",
          "text": [
            "Moyenne: 2.09 \u00b5s Ecart-type 534.02 ns (with 100 runs) in [1.92 \u00b5s, 2.56 \u00b5s]\n"
          ]
        }
      ],
      "source": [
        "z = list(x[0])\n",
        "memo_time.append(timeexe(\"python-linreg-custom\", \"predict_clr_python(z)\"))"
      ]
    },
    {
      "cell_type": "markdown",
      "metadata": {},
      "source": [
        "De fa\u00e7on assez surprenante, c'est plut\u00f4t rapide. Et si on y mettait une boucle."
      ]
    },
    {
      "cell_type": "code",
      "execution_count": 45,
      "metadata": {},
      "outputs": [
        {
          "data": {
            "text/plain": [
              "197.61846907503298"
            ]
          },
          "execution_count": 46,
          "metadata": {},
          "output_type": "execute_result"
        }
      ],
      "source": [
        "def predict_clr_python_loop(x, coef, intercept):    \n",
        "    return intercept + sum(a*b for a, b in zip(x, coef))\n",
        "            \n",
        "predict_clr_python_loop(x[0], list(clr.coef_), clr.intercept_)"
      ]
    },
    {
      "cell_type": "code",
      "execution_count": 46,
      "metadata": {},
      "outputs": [
        {
          "name": "stdout",
          "output_type": "stream",
          "text": [
            "Moyenne: 3.58 \u00b5s Ecart-type 543.13 ns (with 100 runs) in [3.35 \u00b5s, 4.07 \u00b5s]\n"
          ]
        }
      ],
      "source": [
        "coef = list(clr.coef_)\n",
        "intercept = clr.intercept_\n",
        "memo_time.append(timeexe(\"python-linreg\", \"predict_clr_python_loop(z, coef, intercept)\"))"
      ]
    },
    {
      "cell_type": "markdown",
      "metadata": {},
      "source": [
        "A peine plus long."
      ]
    },
    {
      "cell_type": "markdown",
      "metadata": {},
      "source": [
        "## R\u00e9\u00e9criture avec Python et numpy"
      ]
    },
    {
      "cell_type": "code",
      "execution_count": 47,
      "metadata": {},
      "outputs": [
        {
          "data": {
            "text/plain": [
              "197.61846907503298"
            ]
          },
          "execution_count": 48,
          "metadata": {},
          "output_type": "execute_result"
        }
      ],
      "source": [
        "def predict_clr_numpy(x, coef, intercept):    \n",
        "    return intercept + numpy.dot(coef, x).sum()\n",
        "            \n",
        "predict_clr_numpy(x[0], clr.coef_, clr.intercept_)"
      ]
    },
    {
      "cell_type": "code",
      "execution_count": 48,
      "metadata": {},
      "outputs": [
        {
          "name": "stdout",
          "output_type": "stream",
          "text": [
            "Moyenne: 7.09 \u00b5s Ecart-type 951.01 ns (with 100 runs) in [6.66 \u00b5s, 7.68 \u00b5s]\n"
          ]
        }
      ],
      "source": [
        "memo_time.append(timeexe(\"numpy-linreg-numpy\", \"predict_clr_numpy(z, coef, clr.intercept_)\"))"
      ]
    },
    {
      "cell_type": "markdown",
      "metadata": {},
      "source": [
        "Les dimensions des tableaux sont trop petites pour que le calcul matriciel apporte une diff\u00e9rence. On se retrouve dans le cas *cffi* o\u00f9 les \u00e9changes Python - C grignotent tout le temps de calcul."
      ]
    },
    {
      "cell_type": "markdown",
      "metadata": {},
      "source": [
        "## numba\n",
        "\n",
        "[numba](http://numba.pydata.org/) essaye de compiler \u00e0 la vol\u00e9e des bouts de codes \u00e9crits en Python. On induque quelle fonction optimiser en faisant pr\u00e9c\u00e9der la fonction de ``@jit``. Toutes les \u00e9critures ne fonctionnent, typiquement, certaines listes en compr\u00e9hension soul\u00e8vent une exception. Il faut donc \u00e9crire son code en Python d'une fa\u00e7on assez proche de ce qu'il serait en C."
      ]
    },
    {
      "cell_type": "code",
      "execution_count": 49,
      "metadata": {},
      "outputs": [],
      "source": [
        "from numba import jit"
      ]
    },
    {
      "cell_type": "code",
      "execution_count": 50,
      "metadata": {
        "scrolled": false
      },
      "outputs": [
        {
          "data": {
            "text/plain": [
              "197.61846907503298"
            ]
          },
          "execution_count": 51,
          "metadata": {},
          "output_type": "execute_result"
        }
      ],
      "source": [
        "@jit\n",
        "def predict_clr_numba(x, coef, intercept):\n",
        "    s = intercept\n",
        "    for i in range(0, len(x)):\n",
        "        s += coef[i] * x[i]\n",
        "    return s\n",
        "            \n",
        "predict_clr_numba(z, clr.coef_, clr.intercept_)"
      ]
    },
    {
      "cell_type": "code",
      "execution_count": 51,
      "metadata": {},
      "outputs": [
        {
          "name": "stdout",
          "output_type": "stream",
          "text": [
            "Moyenne: 21.49 \u00b5s Ecart-type 2.17 \u00b5s (with 100 runs) in [20.30 \u00b5s, 23.02 \u00b5s]\n"
          ]
        }
      ],
      "source": [
        "memo_time.append(timeexe(\"numba-linreg-notype\", \"predict_clr_numba(z, clr.coef_, clr.intercept_)\"))"
      ]
    },
    {
      "cell_type": "markdown",
      "metadata": {},
      "source": [
        "Plut\u00f4t rapide !"
      ]
    },
    {
      "cell_type": "code",
      "execution_count": 52,
      "metadata": {},
      "outputs": [
        {
          "data": {
            "text/plain": [
              "197.61846907503298"
            ]
          },
          "execution_count": 53,
          "metadata": {},
          "output_type": "execute_result"
        }
      ],
      "source": [
        "@jit('double(double[:], double[:], double)')\n",
        "def predict_clr_numba_cast(x, coef, intercept):\n",
        "    s = intercept\n",
        "    for i in range(0, len(x)):\n",
        "        s += coef[i] * x[i]\n",
        "    return s\n",
        "            \n",
        "# La fonction ne fonctionne qu'avec un numpy.array car le langage C est fortement typ\u00e9.\n",
        "predict_clr_numba_cast(x[0], clr.coef_, clr.intercept_)"
      ]
    },
    {
      "cell_type": "code",
      "execution_count": 53,
      "metadata": {},
      "outputs": [
        {
          "name": "stdout",
          "output_type": "stream",
          "text": [
            "Moyenne: 857.58 ns Ecart-type 239.61 ns (with 100 runs) in [774.33 ns, 1.16 \u00b5s]\n"
          ]
        }
      ],
      "source": [
        "memo_time.append(timeexe(\"numba-linreg-type\", \"predict_clr_numba_cast(x[0], clr.coef_, clr.intercept_)\"))"
      ]
    },
    {
      "cell_type": "markdown",
      "metadata": {},
      "source": [
        "On voit que plus on donne d'information au compilateur, plus il est capable d'optimiser."
      ]
    },
    {
      "cell_type": "code",
      "execution_count": 54,
      "metadata": {},
      "outputs": [
        {
          "data": {
            "text/plain": [
              "197.61846923828125"
            ]
          },
          "execution_count": 55,
          "metadata": {},
          "output_type": "execute_result"
        }
      ],
      "source": [
        "@jit('float32(float32[:], float32[:], float32)')\n",
        "def predict_clr_numba_cast_float(x, coef, intercept):\n",
        "    s = intercept\n",
        "    for i in range(0, len(x)):\n",
        "        s += coef[i] * x[i]\n",
        "    return s\n",
        "            \n",
        "# La fonction ne fonctionne qu'avec un numpy.array car le langage C est fortement typ\u00e9.\n",
        "x32 = x[0].astype(numpy.float32)\n",
        "c32 = clr.coef_.astype(numpy.float32)\n",
        "i32 = numpy.float32(clr.intercept_)\n",
        "predict_clr_numba_cast_float(x32, c32, i32)"
      ]
    },
    {
      "cell_type": "code",
      "execution_count": 55,
      "metadata": {},
      "outputs": [
        {
          "name": "stdout",
          "output_type": "stream",
          "text": [
            "Moyenne: 623.65 ns Ecart-type 241.32 ns (with 100 runs) in [557.04 ns, 944.20 ns]\n"
          ]
        }
      ],
      "source": [
        "memo_time.append(timeexe(\"numba-linreg-type-float32\", \"predict_clr_numba_cast_float(x32, c32, i32)\"))"
      ]
    },
    {
      "cell_type": "markdown",
      "metadata": {},
      "source": [
        "On essaye avec les coefficients dans la fonction."
      ]
    },
    {
      "cell_type": "code",
      "execution_count": 56,
      "metadata": {},
      "outputs": [
        {
          "data": {
            "text/plain": [
              "197.61846907190048"
            ]
          },
          "execution_count": 57,
          "metadata": {},
          "output_type": "execute_result"
        }
      ],
      "source": [
        "@jit('double(double[:])')\n",
        "def predict_clr_numba_cast_custom(x):\n",
        "    coef = [ 3.03499549e-01, -2.37639315e+02,  5.10530605e+02,  3.27736980e+02,\n",
        "            -8.14131709e+02,  4.92814588e+02,  1.02848452e+02,  1.84606489e+02,\n",
        "             7.43519617e+02,  7.60951722e+01]\n",
        "    s = 152.76430691633442\n",
        "    for i in range(0, len(x)):\n",
        "        s += coef[i] * x[i]\n",
        "    return s\n",
        "            \n",
        "predict_clr_numba_cast_custom(x[0])"
      ]
    },
    {
      "cell_type": "code",
      "execution_count": 57,
      "metadata": {},
      "outputs": [
        {
          "name": "stdout",
          "output_type": "stream",
          "text": [
            "Moyenne: 739.57 ns Ecart-type 211.09 ns (with 100 runs) in [667.66 ns, 1.13 \u00b5s]\n"
          ]
        }
      ],
      "source": [
        "memo_time.append(timeexe(\"numba-linreg-type-custom\", \"predict_clr_numba_cast_custom(x[0])\"))"
      ]
    },
    {
      "cell_type": "markdown",
      "metadata": {},
      "source": [
        "On se rapproche des temps obtenus avec *cffi* sans *wrapping*, cela signifie que *numba* fait un bien meilleur travail \u00e0 ce niveau que le wrapper rapidement cr\u00e9\u00e9."
      ]
    },
    {
      "cell_type": "code",
      "execution_count": 58,
      "metadata": {},
      "outputs": [
        {
          "data": {
            "text/plain": [
              "197.61846907503298"
            ]
          },
          "execution_count": 59,
          "metadata": {},
          "output_type": "execute_result"
        }
      ],
      "source": [
        "@jit('double(double[:], double[:], double)')\n",
        "def predict_clr_numba_numpy(x, coef, intercept):    \n",
        "    return intercept + numpy.dot(coef, x).sum()\n",
        "\n",
        "predict_clr_numba_numpy(x[0], clr.coef_, clr.intercept_)"
      ]
    },
    {
      "cell_type": "code",
      "execution_count": 59,
      "metadata": {},
      "outputs": [
        {
          "name": "stdout",
          "output_type": "stream",
          "text": [
            "Moyenne: 5.86 \u00b5s Ecart-type 945.41 ns (with 100 runs) in [5.38 \u00b5s, 6.63 \u00b5s]\n"
          ]
        }
      ],
      "source": [
        "memo_time.append(timeexe(\"numba-linreg-type-numpy\", \"predict_clr_numba_numpy(x[0], clr.coef_, clr.intercept_)\"))"
      ]
    },
    {
      "cell_type": "markdown",
      "metadata": {},
      "source": [
        "*numba* est moins performant quand *numpy* est impliqu\u00e9 car le code de numpy n'est pas r\u00e9\u00e9crit, il est appel\u00e9."
      ]
    },
    {
      "cell_type": "markdown",
      "metadata": {},
      "source": [
        "## cython\n",
        "\n",
        "[cython](http://cython.org/) permet de cr\u00e9er des extensions C de plus grande envergure que *numba*. C'est l'option choisie par [scikit-learn](http://scikit-learn.org/stable/). Il vaut mieux conna\u00eetre le C pour s'en servir et l\u00e0 encore, l'objectif est de r\u00e9duire les \u00e9changes Python / C qui co\u00fbtent cher."
      ]
    },
    {
      "cell_type": "code",
      "execution_count": 60,
      "metadata": {},
      "outputs": [],
      "source": [
        "%load_ext cython"
      ]
    },
    {
      "cell_type": "code",
      "execution_count": 61,
      "metadata": {},
      "outputs": [],
      "source": [
        "%%cython\n",
        "def predict_clr_cython(x, coef, intercept):\n",
        "    s = intercept\n",
        "    for i in range(0, len(x)):\n",
        "        s += coef[i] * x[i]\n",
        "    return s"
      ]
    },
    {
      "cell_type": "code",
      "execution_count": 62,
      "metadata": {},
      "outputs": [
        {
          "data": {
            "text/plain": [
              "197.61846907503298"
            ]
          },
          "execution_count": 63,
          "metadata": {},
          "output_type": "execute_result"
        }
      ],
      "source": [
        "predict_clr_cython(x[0], clr.coef_, clr.intercept_)"
      ]
    },
    {
      "cell_type": "code",
      "execution_count": 63,
      "metadata": {},
      "outputs": [
        {
          "name": "stdout",
          "output_type": "stream",
          "text": [
            "Moyenne: 2.27 \u00b5s Ecart-type 436.96 ns (with 100 runs) in [2.11 \u00b5s, 2.74 \u00b5s]\n"
          ]
        }
      ],
      "source": [
        "memo_time.append(timeexe(\"cython-linreg\", \"predict_clr_cython(x[0], clr.coef_, clr.intercept_)\"))"
      ]
    },
    {
      "cell_type": "markdown",
      "metadata": {},
      "source": [
        "Cython fait moins bien que *numba* dans notre cas et l'optimisation propos\u00e9e est assez proche du temps d\u00e9j\u00e0 obtenue avec le langage Python seul. Cela est d\u00fb au fait que la plupart des objets tels que du code associ\u00e9 aux listes ou aux dictionnaires ont \u00e9t\u00e9 r\u00e9\u00e9crits en C."
      ]
    },
    {
      "cell_type": "code",
      "execution_count": 64,
      "metadata": {},
      "outputs": [],
      "source": [
        "%%cython\n",
        "cimport numpy as npc\n",
        "\n",
        "def predict_clr_cython_type(npc.ndarray[double, ndim=1, mode='c'] x,\n",
        "                            npc.ndarray[double, ndim=1, mode='c'] coef,\n",
        "                            double intercept):\n",
        "    cdef double s = intercept\n",
        "    for i in range(0, x.shape[0]):\n",
        "        s += coef[i] * x[i]\n",
        "    return s"
      ]
    },
    {
      "cell_type": "code",
      "execution_count": 65,
      "metadata": {},
      "outputs": [
        {
          "data": {
            "text/plain": [
              "197.61846907503298"
            ]
          },
          "execution_count": 66,
          "metadata": {},
          "output_type": "execute_result"
        }
      ],
      "source": [
        "predict_clr_cython_type(x[0], clr.coef_, clr.intercept_)"
      ]
    },
    {
      "cell_type": "code",
      "execution_count": 66,
      "metadata": {},
      "outputs": [
        {
          "name": "stdout",
          "output_type": "stream",
          "text": [
            "Moyenne: 1.63 \u00b5s Ecart-type 1.11 \u00b5s (with 100 runs) in [1.34 \u00b5s, 3.22 \u00b5s]\n"
          ]
        }
      ],
      "source": [
        "memo_time.append(timeexe(\"cython-linreg-type\", \"predict_clr_cython_type(x[0], clr.coef_, clr.intercept_)\"))"
      ]
    },
    {
      "cell_type": "markdown",
      "metadata": {},
      "source": [
        "Le temps est quasi identique avec un \u00e9cart type moins grand de fa\u00e7on significative."
      ]
    },
    {
      "cell_type": "markdown",
      "metadata": {},
      "source": [
        "## Une derni\u00e8re option : ONNX\n",
        "\n",
        "[ONNX](https://onnx.ai/) est un format de s\u00e9rialisation qui permet de d\u00e9crire un mod\u00e8le de mod\u00e8le de machine learning ou de deep learning. Cela permet de dissocer le mod\u00e8le de la librairie qui a servi \u00e0 le produire (voir [ML;et and ONNX](http://www.xavierdupre.fr/app/machinelearningext/helpsphinx/aonnx.html)."
      ]
    },
    {
      "cell_type": "code",
      "execution_count": 67,
      "metadata": {},
      "outputs": [
        {
          "name": "stdout",
          "output_type": "stream",
          "text": [
            "onnx, onnxmltools, onnxruntime sont disponibles.\n"
          ]
        }
      ],
      "source": [
        "try:\n",
        "    from onnxmltools import convert_sklearn\n",
        "    from onnxmltools.utils import save_model\n",
        "    from onnxmltools.convert.common.data_types import FloatTensorType\n",
        "    import onnxruntime\n",
        "    import onnx\n",
        "    ok_onnx = True\n",
        "    print(\"onnx, onnxmltools, onnxruntime sont disponibles.\")\n",
        "except ImportError as e:\n",
        "    print(\"La suite requiert onnx, onnxmltools et onnxruntime.\")\n",
        "    print(e)\n",
        "    ok_onnx = False"
      ]
    },
    {
      "cell_type": "markdown",
      "metadata": {},
      "source": [
        "On convertit le mod\u00e8le au format [ONNX](https://onnx.ai/)."
      ]
    },
    {
      "cell_type": "code",
      "execution_count": 68,
      "metadata": {},
      "outputs": [
        {
          "name": "stdout",
          "output_type": "stream",
          "text": [
            "Mod\u00e8le s\u00e9rialis\u00e9 au format ONNX\n",
            "ir_version: 3\n",
            "producer_name: \"OnnxMLTools\"\n",
            "producer_version: \"1.3.0.1000\"\n",
            "domain: \"onnxml\"\n",
            "model_version: 0\n",
            "doc_string: \"\"\n",
            "graph {\n",
            "  node {\n",
            "    input: \"input\"\n",
            "    output: \"variable\"\n",
            "    name: \"LinearRegressor\"\n",
            "    op_type: \"LinearRegressor\"\n",
            "    attribute {\n",
            "      name: \"coefficients\"\n",
            "      floats: 0.3034995496273041\n",
            "      floats: -237.63931274414062\n",
            "      floats: 510.5306091308594\n",
            "      floats: 327.7369689941406\n",
            "      floats: -814.1317138671875\n",
            "      floats: 492.8145751953125\n",
            "      floats: 102.84844970703125\n",
            "      floats: 184.6064910888672\n",
            "      floats: 743.5195922851562\n",
            "      floats: 76.09516906738281\n",
            "      type: FLOATS\n",
            "    }\n",
            "    attribute {\n",
            "      name: \"intercepts\"\n",
            "      floats: 152.76431274414062\n",
            "      type: FLOATS\n",
            "    }\n",
            "    domain: \"ai.onnx.ml\"\n",
            "  }\n",
            "  name: \"model\"\n",
            "  input {\n",
            "    name: \"input\"\n",
            "    type {\n",
            "      tensor_type {\n",
            "        elem_type: FLOAT\n",
            "        shape {\n",
            "          dim {\n",
            "            dim_value: 1\n",
            "          }\n",
            "          dim {\n",
            "            dim_value: 10\n",
            "          }\n",
            "        }\n",
            "      }\n",
            "    }\n",
            "  }\n",
            "  output {\n",
            "    name: \"variable\"\n",
            "    type {\n",
            "      tensor_type {\n",
            "        elem_type: FLOAT\n",
            "        shape {\n",
            "          dim {\n",
            "            dim_value: 1\n",
            "          }\n",
            "          dim {\n",
            "            dim_value: 1\n",
            "          }\n",
            "        }\n",
            "      }\n",
            "    }\n",
            "  }\n",
            "}\n",
            "opset_import {\n",
            "  domain: \"ai.onnx.ml\"\n",
            "  version: 1\n",
            "}\n",
            "\n"
          ]
        }
      ],
      "source": [
        "if ok_onnx:\n",
        "    onnx_model = convert_sklearn(clr, 'model', [('input', FloatTensorType([1, clr.coef_.shape[0]]))])\n",
        "    save_model(onnx_model, 'model.onnx')\n",
        "    \n",
        "    model_onnx = onnx.load('model.onnx')\n",
        "    print(\"Mod\u00e8le s\u00e9rialis\u00e9 au format ONNX\")\n",
        "    print(model_onnx)\n",
        "else:\n",
        "    print(\"onnx, onnxmltools, onnxruntime sont disponibles.\")"
      ]
    },
    {
      "cell_type": "markdown",
      "metadata": {},
      "source": [
        "On calcule les pr\u00e9dictions. Le module {onnxruntime](https://docs.microsoft.com/en-us/python/api/overview/azure/onnx/intro?view=azure-onnx-py) optimise les calculs pour des mod\u00e8les de deep learning. Cela explique pourquoi tous les calculs sont r\u00e9alis\u00e9s avec des r\u00e9els repr\u00e9sent\u00e9s sur 4 octets [numpy.float32](https://docs.scipy.org/doc/numpy/user/basics.types.html?highlight=float32)."
      ]
    },
    {
      "cell_type": "code",
      "execution_count": 69,
      "metadata": {},
      "outputs": [
        {
          "name": "stdout",
          "output_type": "stream",
          "text": [
            "Input: NodeArg(name='input', type='tensor(float)', shape=[1, 10])\n",
            "Output: NodeArg(name='variable', type='tensor(float)', shape=[1, 1])\n",
            "Prediction: [array([[197.61847]], dtype=float32)]\n"
          ]
        }
      ],
      "source": [
        "if ok_onnx:\n",
        "    sess = onnxruntime.InferenceSession(\"model.onnx\")\n",
        "    for i in sess.get_inputs():\n",
        "        print('Input:', i)\n",
        "    for o in sess.get_outputs():\n",
        "        print('Output:', o)\n",
        "    \n",
        "    def predict_onnxrt(x):    \n",
        "        return sess.run([\"variable\"], {'input': x})\n",
        "    \n",
        "    print(\"Prediction:\", predict_onnxrt(x.astype(numpy.float32)))"
      ]
    },
    {
      "cell_type": "code",
      "execution_count": 70,
      "metadata": {},
      "outputs": [
        {
          "name": "stdout",
          "output_type": "stream",
          "text": [
            "Moyenne: 13.03 \u00b5s Ecart-type 1.61 \u00b5s (with 100 runs) in [12.20 \u00b5s, 14.52 \u00b5s]\n",
            "Moyenne: 14.77 \u00b5s Ecart-type 1.77 \u00b5s (with 100 runs) in [13.83 \u00b5s, 17.13 \u00b5s]\n"
          ]
        }
      ],
      "source": [
        "if ok_onnx:\n",
        "    x32 = x.astype(numpy.float32)\n",
        "    memo_time.append(timeexe(\"onnxruntime-float32\", \"predict_onnxrt(x32)\"))\n",
        "    memo_time.append(timeexe(\"onnxruntime-float64\", \"predict_onnxrt(x.astype(numpy.float32))\"))"
      ]
    },
    {
      "cell_type": "markdown",
      "metadata": {},
      "source": [
        "## R\u00e9capitulatif"
      ]
    },
    {
      "cell_type": "code",
      "execution_count": 71,
      "metadata": {},
      "outputs": [
        {
          "data": {
            "text/html": [
              "<div>\n",
              "<style scoped>\n",
              "    .dataframe tbody tr th:only-of-type {\n",
              "        vertical-align: middle;\n",
              "    }\n",
              "\n",
              "    .dataframe tbody tr th {\n",
              "        vertical-align: top;\n",
              "    }\n",
              "\n",
              "    .dataframe thead th {\n",
              "        text-align: right;\n",
              "    }\n",
              "</style>\n",
              "<table border=\"1\" class=\"dataframe\">\n",
              "  <thead>\n",
              "    <tr style=\"text-align: right;\">\n",
              "      <th></th>\n",
              "      <th>average</th>\n",
              "      <th>code</th>\n",
              "      <th>deviation</th>\n",
              "      <th>first</th>\n",
              "      <th>first3</th>\n",
              "      <th>last3</th>\n",
              "      <th>max5</th>\n",
              "      <th>min5</th>\n",
              "      <th>repeat</th>\n",
              "      <th>run</th>\n",
              "    </tr>\n",
              "    <tr>\n",
              "      <th>legend</th>\n",
              "      <th></th>\n",
              "      <th></th>\n",
              "      <th></th>\n",
              "      <th></th>\n",
              "      <th></th>\n",
              "      <th></th>\n",
              "      <th></th>\n",
              "      <th></th>\n",
              "      <th></th>\n",
              "      <th></th>\n",
              "    </tr>\n",
              "  </thead>\n",
              "  <tbody>\n",
              "    <tr>\n",
              "      <th>cffi-linreg-custom-float32-simd</th>\n",
              "      <td>3.597544e-07</td>\n",
              "      <td>linreg_custom_float_simd(cptr_x, cptr_out)</td>\n",
              "      <td>2.017498e-07</td>\n",
              "      <td>0.000002</td>\n",
              "      <td>8.888900e-07</td>\n",
              "      <td>3.213200e-07</td>\n",
              "      <td>5.649400e-07</td>\n",
              "      <td>3.081400e-07</td>\n",
              "      <td>10000</td>\n",
              "      <td>100</td>\n",
              "    </tr>\n",
              "    <tr>\n",
              "      <th>cffi-linreg-custom-float32</th>\n",
              "      <td>3.701746e-07</td>\n",
              "      <td>linreg_custom_float(cptr_x, cptr_out)</td>\n",
              "      <td>1.507596e-07</td>\n",
              "      <td>0.000005</td>\n",
              "      <td>4.415477e-06</td>\n",
              "      <td>4.556400e-07</td>\n",
              "      <td>5.451900e-07</td>\n",
              "      <td>3.358000e-07</td>\n",
              "      <td>10000</td>\n",
              "      <td>100</td>\n",
              "    </tr>\n",
              "    <tr>\n",
              "      <th>cffi-linreg-custom</th>\n",
              "      <td>3.706284e-07</td>\n",
              "      <td>linreg_custom(cptr_x, cptr_out)</td>\n",
              "      <td>1.172932e-07</td>\n",
              "      <td>0.000001</td>\n",
              "      <td>7.124233e-07</td>\n",
              "      <td>3.331700e-07</td>\n",
              "      <td>5.767900e-07</td>\n",
              "      <td>3.318500e-07</td>\n",
              "      <td>10000</td>\n",
              "      <td>100</td>\n",
              "    </tr>\n",
              "    <tr>\n",
              "      <th>cffi-linreg</th>\n",
              "      <td>4.838789e-07</td>\n",
              "      <td>lib.linreg(n, cptr_x, cptr_coef, clr.intercept...</td>\n",
              "      <td>1.537449e-07</td>\n",
              "      <td>0.000002</td>\n",
              "      <td>1.933170e-06</td>\n",
              "      <td>4.332533e-07</td>\n",
              "      <td>7.703700e-07</td>\n",
              "      <td>4.345600e-07</td>\n",
              "      <td>10000</td>\n",
              "      <td>100</td>\n",
              "    </tr>\n",
              "    <tr>\n",
              "      <th>numba-linreg-type-float32</th>\n",
              "      <td>6.236451e-07</td>\n",
              "      <td>predict_clr_numba_cast_float(x32, c32, i32)</td>\n",
              "      <td>2.413218e-07</td>\n",
              "      <td>0.000001</td>\n",
              "      <td>9.823833e-07</td>\n",
              "      <td>5.781067e-07</td>\n",
              "      <td>9.442000e-07</td>\n",
              "      <td>5.570400e-07</td>\n",
              "      <td>10000</td>\n",
              "      <td>100</td>\n",
              "    </tr>\n",
              "    <tr>\n",
              "      <th>numba-linreg-type-custom</th>\n",
              "      <td>7.395693e-07</td>\n",
              "      <td>predict_clr_numba_cast_custom(x[0])</td>\n",
              "      <td>2.110864e-07</td>\n",
              "      <td>0.000001</td>\n",
              "      <td>1.266827e-06</td>\n",
              "      <td>6.755533e-07</td>\n",
              "      <td>1.133820e-06</td>\n",
              "      <td>6.676600e-07</td>\n",
              "      <td>10000</td>\n",
              "      <td>100</td>\n",
              "    </tr>\n",
              "    <tr>\n",
              "      <th>numba-linreg-type</th>\n",
              "      <td>8.575829e-07</td>\n",
              "      <td>predict_clr_numba_cast(x[0], clr.coef_, clr.in...</td>\n",
              "      <td>2.396124e-07</td>\n",
              "      <td>0.000001</td>\n",
              "      <td>1.231273e-06</td>\n",
              "      <td>7.953900e-07</td>\n",
              "      <td>1.157540e-06</td>\n",
              "      <td>7.743300e-07</td>\n",
              "      <td>10000</td>\n",
              "      <td>100</td>\n",
              "    </tr>\n",
              "    <tr>\n",
              "      <th>cython-linreg-type</th>\n",
              "      <td>1.629050e-06</td>\n",
              "      <td>predict_clr_cython_type(x[0], clr.coef_, clr.i...</td>\n",
              "      <td>1.113954e-06</td>\n",
              "      <td>0.000002</td>\n",
              "      <td>1.434077e-06</td>\n",
              "      <td>1.364283e-06</td>\n",
              "      <td>3.219760e-06</td>\n",
              "      <td>1.339260e-06</td>\n",
              "      <td>10000</td>\n",
              "      <td>100</td>\n",
              "    </tr>\n",
              "    <tr>\n",
              "      <th>python-linreg-custom</th>\n",
              "      <td>2.093629e-06</td>\n",
              "      <td>predict_clr_python(z)</td>\n",
              "      <td>5.340199e-07</td>\n",
              "      <td>0.000005</td>\n",
              "      <td>4.648560e-06</td>\n",
              "      <td>1.931853e-06</td>\n",
              "      <td>2.563960e-06</td>\n",
              "      <td>1.920000e-06</td>\n",
              "      <td>10000</td>\n",
              "      <td>100</td>\n",
              "    </tr>\n",
              "    <tr>\n",
              "      <th>cython-linreg</th>\n",
              "      <td>2.274283e-06</td>\n",
              "      <td>predict_clr_cython(x[0], clr.coef_, clr.interc...</td>\n",
              "      <td>4.369578e-07</td>\n",
              "      <td>0.000002</td>\n",
              "      <td>2.878683e-06</td>\n",
              "      <td>2.117530e-06</td>\n",
              "      <td>2.741730e-06</td>\n",
              "      <td>2.109630e-06</td>\n",
              "      <td>10000</td>\n",
              "      <td>100</td>\n",
              "    </tr>\n",
              "    <tr>\n",
              "      <th>python-linreg</th>\n",
              "      <td>3.580270e-06</td>\n",
              "      <td>predict_clr_python_loop(z, coef, intercept)</td>\n",
              "      <td>5.431344e-07</td>\n",
              "      <td>0.000007</td>\n",
              "      <td>7.948650e-06</td>\n",
              "      <td>3.479177e-06</td>\n",
              "      <td>4.073090e-06</td>\n",
              "      <td>3.346180e-06</td>\n",
              "      <td>10000</td>\n",
              "      <td>100</td>\n",
              "    </tr>\n",
              "    <tr>\n",
              "      <th>cffi-linreg-custom wrapped</th>\n",
              "      <td>5.059614e-06</td>\n",
              "      <td>predict_clr_custom(x)</td>\n",
              "      <td>9.467916e-07</td>\n",
              "      <td>0.000017</td>\n",
              "      <td>1.585910e-05</td>\n",
              "      <td>4.911937e-06</td>\n",
              "      <td>5.657290e-06</td>\n",
              "      <td>4.720990e-06</td>\n",
              "      <td>10000</td>\n",
              "      <td>100</td>\n",
              "    </tr>\n",
              "    <tr>\n",
              "      <th>cffi-linreg-custom-float wrapped</th>\n",
              "      <td>5.073548e-06</td>\n",
              "      <td>predict_clr_custom(x32)</td>\n",
              "      <td>6.590705e-07</td>\n",
              "      <td>0.000013</td>\n",
              "      <td>8.442473e-06</td>\n",
              "      <td>5.205600e-06</td>\n",
              "      <td>5.625680e-06</td>\n",
              "      <td>4.768390e-06</td>\n",
              "      <td>10000</td>\n",
              "      <td>100</td>\n",
              "    </tr>\n",
              "    <tr>\n",
              "      <th>numba-linreg-type-numpy</th>\n",
              "      <td>5.863239e-06</td>\n",
              "      <td>predict_clr_numba_numpy(x[0], clr.coef_, clr.i...</td>\n",
              "      <td>9.454051e-07</td>\n",
              "      <td>0.000022</td>\n",
              "      <td>1.894058e-05</td>\n",
              "      <td>5.583543e-06</td>\n",
              "      <td>6.629140e-06</td>\n",
              "      <td>5.380750e-06</td>\n",
              "      <td>10000</td>\n",
              "      <td>100</td>\n",
              "    </tr>\n",
              "    <tr>\n",
              "      <th>cffi-linreg-wrapped</th>\n",
              "      <td>7.080206e-06</td>\n",
              "      <td>predict_clr(x, clr)</td>\n",
              "      <td>1.109936e-06</td>\n",
              "      <td>0.000016</td>\n",
              "      <td>1.685597e-05</td>\n",
              "      <td>6.809550e-06</td>\n",
              "      <td>7.794580e-06</td>\n",
              "      <td>6.652850e-06</td>\n",
              "      <td>10000</td>\n",
              "      <td>100</td>\n",
              "    </tr>\n",
              "    <tr>\n",
              "      <th>numpy-linreg-numpy</th>\n",
              "      <td>7.087493e-06</td>\n",
              "      <td>predict_clr_numpy(z, coef, clr.intercept_)</td>\n",
              "      <td>9.510058e-07</td>\n",
              "      <td>0.000017</td>\n",
              "      <td>2.399211e-05</td>\n",
              "      <td>6.662060e-06</td>\n",
              "      <td>7.676050e-06</td>\n",
              "      <td>6.664690e-06</td>\n",
              "      <td>10000</td>\n",
              "      <td>100</td>\n",
              "    </tr>\n",
              "    <tr>\n",
              "      <th>onnxruntime-float32</th>\n",
              "      <td>1.302998e-05</td>\n",
              "      <td>predict_onnxrt(x32)</td>\n",
              "      <td>1.607927e-06</td>\n",
              "      <td>0.000022</td>\n",
              "      <td>1.728396e-05</td>\n",
              "      <td>1.281186e-05</td>\n",
              "      <td>1.451852e-05</td>\n",
              "      <td>1.220347e-05</td>\n",
              "      <td>10000</td>\n",
              "      <td>100</td>\n",
              "    </tr>\n",
              "    <tr>\n",
              "      <th>onnxruntime-float64</th>\n",
              "      <td>1.476537e-05</td>\n",
              "      <td>predict_onnxrt(x.astype(numpy.float32))</td>\n",
              "      <td>1.770770e-06</td>\n",
              "      <td>0.000024</td>\n",
              "      <td>2.338371e-05</td>\n",
              "      <td>1.455408e-05</td>\n",
              "      <td>1.712988e-05</td>\n",
              "      <td>1.383111e-05</td>\n",
              "      <td>10000</td>\n",
              "      <td>100</td>\n",
              "    </tr>\n",
              "    <tr>\n",
              "      <th>numba-linreg-notype</th>\n",
              "      <td>2.148582e-05</td>\n",
              "      <td>predict_clr_numba(z, clr.coef_, clr.intercept_)</td>\n",
              "      <td>2.168977e-06</td>\n",
              "      <td>0.000039</td>\n",
              "      <td>2.980874e-05</td>\n",
              "      <td>2.050634e-05</td>\n",
              "      <td>2.301630e-05</td>\n",
              "      <td>2.029828e-05</td>\n",
              "      <td>10000</td>\n",
              "      <td>100</td>\n",
              "    </tr>\n",
              "    <tr>\n",
              "      <th>sklearn.predict</th>\n",
              "      <td>2.727956e-05</td>\n",
              "      <td>clr.predict(z)</td>\n",
              "      <td>3.893935e-06</td>\n",
              "      <td>0.000062</td>\n",
              "      <td>6.675361e-05</td>\n",
              "      <td>2.602404e-05</td>\n",
              "      <td>3.208693e-05</td>\n",
              "      <td>2.530371e-05</td>\n",
              "      <td>10000</td>\n",
              "      <td>100</td>\n",
              "    </tr>\n",
              "  </tbody>\n",
              "</table>\n",
              "</div>"
            ],
            "text/plain": [
              "                                       average  \\\n",
              "legend                                           \n",
              "cffi-linreg-custom-float32-simd   3.597544e-07   \n",
              "cffi-linreg-custom-float32        3.701746e-07   \n",
              "cffi-linreg-custom                3.706284e-07   \n",
              "cffi-linreg                       4.838789e-07   \n",
              "numba-linreg-type-float32         6.236451e-07   \n",
              "numba-linreg-type-custom          7.395693e-07   \n",
              "numba-linreg-type                 8.575829e-07   \n",
              "cython-linreg-type                1.629050e-06   \n",
              "python-linreg-custom              2.093629e-06   \n",
              "cython-linreg                     2.274283e-06   \n",
              "python-linreg                     3.580270e-06   \n",
              "cffi-linreg-custom wrapped        5.059614e-06   \n",
              "cffi-linreg-custom-float wrapped  5.073548e-06   \n",
              "numba-linreg-type-numpy           5.863239e-06   \n",
              "cffi-linreg-wrapped               7.080206e-06   \n",
              "numpy-linreg-numpy                7.087493e-06   \n",
              "onnxruntime-float32               1.302998e-05   \n",
              "onnxruntime-float64               1.476537e-05   \n",
              "numba-linreg-notype               2.148582e-05   \n",
              "sklearn.predict                   2.727956e-05   \n",
              "\n",
              "                                                                               code  \\\n",
              "legend                                                                                \n",
              "cffi-linreg-custom-float32-simd          linreg_custom_float_simd(cptr_x, cptr_out)   \n",
              "cffi-linreg-custom-float32                    linreg_custom_float(cptr_x, cptr_out)   \n",
              "cffi-linreg-custom                                  linreg_custom(cptr_x, cptr_out)   \n",
              "cffi-linreg                       lib.linreg(n, cptr_x, cptr_coef, clr.intercept...   \n",
              "numba-linreg-type-float32               predict_clr_numba_cast_float(x32, c32, i32)   \n",
              "numba-linreg-type-custom                        predict_clr_numba_cast_custom(x[0])   \n",
              "numba-linreg-type                 predict_clr_numba_cast(x[0], clr.coef_, clr.in...   \n",
              "cython-linreg-type                predict_clr_cython_type(x[0], clr.coef_, clr.i...   \n",
              "python-linreg-custom                                          predict_clr_python(z)   \n",
              "cython-linreg                     predict_clr_cython(x[0], clr.coef_, clr.interc...   \n",
              "python-linreg                           predict_clr_python_loop(z, coef, intercept)   \n",
              "cffi-linreg-custom wrapped                                    predict_clr_custom(x)   \n",
              "cffi-linreg-custom-float wrapped                            predict_clr_custom(x32)   \n",
              "numba-linreg-type-numpy           predict_clr_numba_numpy(x[0], clr.coef_, clr.i...   \n",
              "cffi-linreg-wrapped                                             predict_clr(x, clr)   \n",
              "numpy-linreg-numpy                       predict_clr_numpy(z, coef, clr.intercept_)   \n",
              "onnxruntime-float32                                             predict_onnxrt(x32)   \n",
              "onnxruntime-float64                         predict_onnxrt(x.astype(numpy.float32))   \n",
              "numba-linreg-notype                 predict_clr_numba(z, clr.coef_, clr.intercept_)   \n",
              "sklearn.predict                                                      clr.predict(z)   \n",
              "\n",
              "                                     deviation     first        first3  \\\n",
              "legend                                                                   \n",
              "cffi-linreg-custom-float32-simd   2.017498e-07  0.000002  8.888900e-07   \n",
              "cffi-linreg-custom-float32        1.507596e-07  0.000005  4.415477e-06   \n",
              "cffi-linreg-custom                1.172932e-07  0.000001  7.124233e-07   \n",
              "cffi-linreg                       1.537449e-07  0.000002  1.933170e-06   \n",
              "numba-linreg-type-float32         2.413218e-07  0.000001  9.823833e-07   \n",
              "numba-linreg-type-custom          2.110864e-07  0.000001  1.266827e-06   \n",
              "numba-linreg-type                 2.396124e-07  0.000001  1.231273e-06   \n",
              "cython-linreg-type                1.113954e-06  0.000002  1.434077e-06   \n",
              "python-linreg-custom              5.340199e-07  0.000005  4.648560e-06   \n",
              "cython-linreg                     4.369578e-07  0.000002  2.878683e-06   \n",
              "python-linreg                     5.431344e-07  0.000007  7.948650e-06   \n",
              "cffi-linreg-custom wrapped        9.467916e-07  0.000017  1.585910e-05   \n",
              "cffi-linreg-custom-float wrapped  6.590705e-07  0.000013  8.442473e-06   \n",
              "numba-linreg-type-numpy           9.454051e-07  0.000022  1.894058e-05   \n",
              "cffi-linreg-wrapped               1.109936e-06  0.000016  1.685597e-05   \n",
              "numpy-linreg-numpy                9.510058e-07  0.000017  2.399211e-05   \n",
              "onnxruntime-float32               1.607927e-06  0.000022  1.728396e-05   \n",
              "onnxruntime-float64               1.770770e-06  0.000024  2.338371e-05   \n",
              "numba-linreg-notype               2.168977e-06  0.000039  2.980874e-05   \n",
              "sklearn.predict                   3.893935e-06  0.000062  6.675361e-05   \n",
              "\n",
              "                                         last3          max5          min5  \\\n",
              "legend                                                                       \n",
              "cffi-linreg-custom-float32-simd   3.213200e-07  5.649400e-07  3.081400e-07   \n",
              "cffi-linreg-custom-float32        4.556400e-07  5.451900e-07  3.358000e-07   \n",
              "cffi-linreg-custom                3.331700e-07  5.767900e-07  3.318500e-07   \n",
              "cffi-linreg                       4.332533e-07  7.703700e-07  4.345600e-07   \n",
              "numba-linreg-type-float32         5.781067e-07  9.442000e-07  5.570400e-07   \n",
              "numba-linreg-type-custom          6.755533e-07  1.133820e-06  6.676600e-07   \n",
              "numba-linreg-type                 7.953900e-07  1.157540e-06  7.743300e-07   \n",
              "cython-linreg-type                1.364283e-06  3.219760e-06  1.339260e-06   \n",
              "python-linreg-custom              1.931853e-06  2.563960e-06  1.920000e-06   \n",
              "cython-linreg                     2.117530e-06  2.741730e-06  2.109630e-06   \n",
              "python-linreg                     3.479177e-06  4.073090e-06  3.346180e-06   \n",
              "cffi-linreg-custom wrapped        4.911937e-06  5.657290e-06  4.720990e-06   \n",
              "cffi-linreg-custom-float wrapped  5.205600e-06  5.625680e-06  4.768390e-06   \n",
              "numba-linreg-type-numpy           5.583543e-06  6.629140e-06  5.380750e-06   \n",
              "cffi-linreg-wrapped               6.809550e-06  7.794580e-06  6.652850e-06   \n",
              "numpy-linreg-numpy                6.662060e-06  7.676050e-06  6.664690e-06   \n",
              "onnxruntime-float32               1.281186e-05  1.451852e-05  1.220347e-05   \n",
              "onnxruntime-float64               1.455408e-05  1.712988e-05  1.383111e-05   \n",
              "numba-linreg-notype               2.050634e-05  2.301630e-05  2.029828e-05   \n",
              "sklearn.predict                   2.602404e-05  3.208693e-05  2.530371e-05   \n",
              "\n",
              "                                  repeat  run  \n",
              "legend                                         \n",
              "cffi-linreg-custom-float32-simd    10000  100  \n",
              "cffi-linreg-custom-float32         10000  100  \n",
              "cffi-linreg-custom                 10000  100  \n",
              "cffi-linreg                        10000  100  \n",
              "numba-linreg-type-float32          10000  100  \n",
              "numba-linreg-type-custom           10000  100  \n",
              "numba-linreg-type                  10000  100  \n",
              "cython-linreg-type                 10000  100  \n",
              "python-linreg-custom               10000  100  \n",
              "cython-linreg                      10000  100  \n",
              "python-linreg                      10000  100  \n",
              "cffi-linreg-custom wrapped         10000  100  \n",
              "cffi-linreg-custom-float wrapped   10000  100  \n",
              "numba-linreg-type-numpy            10000  100  \n",
              "cffi-linreg-wrapped                10000  100  \n",
              "numpy-linreg-numpy                 10000  100  \n",
              "onnxruntime-float32                10000  100  \n",
              "onnxruntime-float64                10000  100  \n",
              "numba-linreg-notype                10000  100  \n",
              "sklearn.predict                    10000  100  "
            ]
          },
          "execution_count": 72,
          "metadata": {},
          "output_type": "execute_result"
        }
      ],
      "source": [
        "import pandas\n",
        "df = pandas.DataFrame(data=memo_time)\n",
        "df = df.set_index(\"legend\").sort_values(\"average\")\n",
        "df"
      ]
    },
    {
      "cell_type": "markdown",
      "metadata": {},
      "source": [
        "On enl\u00e8ve quelques colonnes et on rappelle :\n",
        "\n",
        "* **cffi**: signifie optimis\u00e9 avec cffi\n",
        "* **custom**: pas de boucle mais la fonction ne peut pr\u00e9dire qu'une seule r\u00e9gression lin\u00e9aire\n",
        "* **float32**: utilise des float et non des double\n",
        "* **linreg**: r\u00e9gression lin\u00e9aire\n",
        "* **numba**: optimisation avec numba\n",
        "* **numpy**: optimisation avec numpy\n",
        "* **python**: pas de C, que du python\n",
        "* **simd**: optimis\u00e9 avec les instructions SIMD\n",
        "* **sklearn**: fonction sklearn.predict\n",
        "* **static**: la fonction utilise des variables statiques\n",
        "* **type**: la fonction est typ\u00e9e et ne fonctionne qu'avec un type pr\u00e9cis en entr\u00e9e.\n",
        "* **wrapped**: code optimis\u00e9 mais embabll\u00e9 dans une fonction Python qui elle ne l'est pas (les containers sont recr\u00e9\u00e9s \u00e0 chaque fois)"
      ]
    },
    {
      "cell_type": "code",
      "execution_count": 72,
      "metadata": {
        "scrolled": false
      },
      "outputs": [
        {
          "data": {
            "text/html": [
              "<div>\n",
              "<style scoped>\n",
              "    .dataframe tbody tr th:only-of-type {\n",
              "        vertical-align: middle;\n",
              "    }\n",
              "\n",
              "    .dataframe tbody tr th {\n",
              "        vertical-align: top;\n",
              "    }\n",
              "\n",
              "    .dataframe thead th {\n",
              "        text-align: right;\n",
              "    }\n",
              "</style>\n",
              "<table border=\"1\" class=\"dataframe\">\n",
              "  <thead>\n",
              "    <tr style=\"text-align: right;\">\n",
              "      <th></th>\n",
              "      <th>average</th>\n",
              "      <th>deviation</th>\n",
              "      <th>min5</th>\n",
              "      <th>max5</th>\n",
              "      <th>run</th>\n",
              "      <th>code</th>\n",
              "    </tr>\n",
              "    <tr>\n",
              "      <th>legend</th>\n",
              "      <th></th>\n",
              "      <th></th>\n",
              "      <th></th>\n",
              "      <th></th>\n",
              "      <th></th>\n",
              "      <th></th>\n",
              "    </tr>\n",
              "  </thead>\n",
              "  <tbody>\n",
              "    <tr>\n",
              "      <th>cffi-linreg-custom-float32-simd</th>\n",
              "      <td>3.597544e-07</td>\n",
              "      <td>2.017498e-07</td>\n",
              "      <td>3.081400e-07</td>\n",
              "      <td>5.649400e-07</td>\n",
              "      <td>100</td>\n",
              "      <td>linreg_custom_float_simd(cptr_x, cptr_out)</td>\n",
              "    </tr>\n",
              "    <tr>\n",
              "      <th>cffi-linreg-custom-float32</th>\n",
              "      <td>3.701746e-07</td>\n",
              "      <td>1.507596e-07</td>\n",
              "      <td>3.358000e-07</td>\n",
              "      <td>5.451900e-07</td>\n",
              "      <td>100</td>\n",
              "      <td>linreg_custom_float(cptr_x, cptr_out)</td>\n",
              "    </tr>\n",
              "    <tr>\n",
              "      <th>cffi-linreg-custom</th>\n",
              "      <td>3.706284e-07</td>\n",
              "      <td>1.172932e-07</td>\n",
              "      <td>3.318500e-07</td>\n",
              "      <td>5.767900e-07</td>\n",
              "      <td>100</td>\n",
              "      <td>linreg_custom(cptr_x, cptr_out)</td>\n",
              "    </tr>\n",
              "    <tr>\n",
              "      <th>cffi-linreg</th>\n",
              "      <td>4.838789e-07</td>\n",
              "      <td>1.537449e-07</td>\n",
              "      <td>4.345600e-07</td>\n",
              "      <td>7.703700e-07</td>\n",
              "      <td>100</td>\n",
              "      <td>lib.linreg(n, cptr_x, cptr_coef, clr.intercept...</td>\n",
              "    </tr>\n",
              "    <tr>\n",
              "      <th>numba-linreg-type-float32</th>\n",
              "      <td>6.236451e-07</td>\n",
              "      <td>2.413218e-07</td>\n",
              "      <td>5.570400e-07</td>\n",
              "      <td>9.442000e-07</td>\n",
              "      <td>100</td>\n",
              "      <td>predict_clr_numba_cast_float(x32, c32, i32)</td>\n",
              "    </tr>\n",
              "    <tr>\n",
              "      <th>numba-linreg-type-custom</th>\n",
              "      <td>7.395693e-07</td>\n",
              "      <td>2.110864e-07</td>\n",
              "      <td>6.676600e-07</td>\n",
              "      <td>1.133820e-06</td>\n",
              "      <td>100</td>\n",
              "      <td>predict_clr_numba_cast_custom(x[0])</td>\n",
              "    </tr>\n",
              "    <tr>\n",
              "      <th>numba-linreg-type</th>\n",
              "      <td>8.575829e-07</td>\n",
              "      <td>2.396124e-07</td>\n",
              "      <td>7.743300e-07</td>\n",
              "      <td>1.157540e-06</td>\n",
              "      <td>100</td>\n",
              "      <td>predict_clr_numba_cast(x[0], clr.coef_, clr.in...</td>\n",
              "    </tr>\n",
              "    <tr>\n",
              "      <th>cython-linreg-type</th>\n",
              "      <td>1.629050e-06</td>\n",
              "      <td>1.113954e-06</td>\n",
              "      <td>1.339260e-06</td>\n",
              "      <td>3.219760e-06</td>\n",
              "      <td>100</td>\n",
              "      <td>predict_clr_cython_type(x[0], clr.coef_, clr.i...</td>\n",
              "    </tr>\n",
              "    <tr>\n",
              "      <th>python-linreg-custom</th>\n",
              "      <td>2.093629e-06</td>\n",
              "      <td>5.340199e-07</td>\n",
              "      <td>1.920000e-06</td>\n",
              "      <td>2.563960e-06</td>\n",
              "      <td>100</td>\n",
              "      <td>predict_clr_python(z)</td>\n",
              "    </tr>\n",
              "    <tr>\n",
              "      <th>cython-linreg</th>\n",
              "      <td>2.274283e-06</td>\n",
              "      <td>4.369578e-07</td>\n",
              "      <td>2.109630e-06</td>\n",
              "      <td>2.741730e-06</td>\n",
              "      <td>100</td>\n",
              "      <td>predict_clr_cython(x[0], clr.coef_, clr.interc...</td>\n",
              "    </tr>\n",
              "    <tr>\n",
              "      <th>python-linreg</th>\n",
              "      <td>3.580270e-06</td>\n",
              "      <td>5.431344e-07</td>\n",
              "      <td>3.346180e-06</td>\n",
              "      <td>4.073090e-06</td>\n",
              "      <td>100</td>\n",
              "      <td>predict_clr_python_loop(z, coef, intercept)</td>\n",
              "    </tr>\n",
              "    <tr>\n",
              "      <th>cffi-linreg-custom wrapped</th>\n",
              "      <td>5.059614e-06</td>\n",
              "      <td>9.467916e-07</td>\n",
              "      <td>4.720990e-06</td>\n",
              "      <td>5.657290e-06</td>\n",
              "      <td>100</td>\n",
              "      <td>predict_clr_custom(x)</td>\n",
              "    </tr>\n",
              "    <tr>\n",
              "      <th>cffi-linreg-custom-float wrapped</th>\n",
              "      <td>5.073548e-06</td>\n",
              "      <td>6.590705e-07</td>\n",
              "      <td>4.768390e-06</td>\n",
              "      <td>5.625680e-06</td>\n",
              "      <td>100</td>\n",
              "      <td>predict_clr_custom(x32)</td>\n",
              "    </tr>\n",
              "    <tr>\n",
              "      <th>numba-linreg-type-numpy</th>\n",
              "      <td>5.863239e-06</td>\n",
              "      <td>9.454051e-07</td>\n",
              "      <td>5.380750e-06</td>\n",
              "      <td>6.629140e-06</td>\n",
              "      <td>100</td>\n",
              "      <td>predict_clr_numba_numpy(x[0], clr.coef_, clr.i...</td>\n",
              "    </tr>\n",
              "    <tr>\n",
              "      <th>cffi-linreg-wrapped</th>\n",
              "      <td>7.080206e-06</td>\n",
              "      <td>1.109936e-06</td>\n",
              "      <td>6.652850e-06</td>\n",
              "      <td>7.794580e-06</td>\n",
              "      <td>100</td>\n",
              "      <td>predict_clr(x, clr)</td>\n",
              "    </tr>\n",
              "    <tr>\n",
              "      <th>numpy-linreg-numpy</th>\n",
              "      <td>7.087493e-06</td>\n",
              "      <td>9.510058e-07</td>\n",
              "      <td>6.664690e-06</td>\n",
              "      <td>7.676050e-06</td>\n",
              "      <td>100</td>\n",
              "      <td>predict_clr_numpy(z, coef, clr.intercept_)</td>\n",
              "    </tr>\n",
              "    <tr>\n",
              "      <th>onnxruntime-float32</th>\n",
              "      <td>1.302998e-05</td>\n",
              "      <td>1.607927e-06</td>\n",
              "      <td>1.220347e-05</td>\n",
              "      <td>1.451852e-05</td>\n",
              "      <td>100</td>\n",
              "      <td>predict_onnxrt(x32)</td>\n",
              "    </tr>\n",
              "    <tr>\n",
              "      <th>onnxruntime-float64</th>\n",
              "      <td>1.476537e-05</td>\n",
              "      <td>1.770770e-06</td>\n",
              "      <td>1.383111e-05</td>\n",
              "      <td>1.712988e-05</td>\n",
              "      <td>100</td>\n",
              "      <td>predict_onnxrt(x.astype(numpy.float32))</td>\n",
              "    </tr>\n",
              "    <tr>\n",
              "      <th>numba-linreg-notype</th>\n",
              "      <td>2.148582e-05</td>\n",
              "      <td>2.168977e-06</td>\n",
              "      <td>2.029828e-05</td>\n",
              "      <td>2.301630e-05</td>\n",
              "      <td>100</td>\n",
              "      <td>predict_clr_numba(z, clr.coef_, clr.intercept_)</td>\n",
              "    </tr>\n",
              "    <tr>\n",
              "      <th>sklearn.predict</th>\n",
              "      <td>2.727956e-05</td>\n",
              "      <td>3.893935e-06</td>\n",
              "      <td>2.530371e-05</td>\n",
              "      <td>3.208693e-05</td>\n",
              "      <td>100</td>\n",
              "      <td>clr.predict(z)</td>\n",
              "    </tr>\n",
              "  </tbody>\n",
              "</table>\n",
              "</div>"
            ],
            "text/plain": [
              "                                       average     deviation          min5  \\\n",
              "legend                                                                       \n",
              "cffi-linreg-custom-float32-simd   3.597544e-07  2.017498e-07  3.081400e-07   \n",
              "cffi-linreg-custom-float32        3.701746e-07  1.507596e-07  3.358000e-07   \n",
              "cffi-linreg-custom                3.706284e-07  1.172932e-07  3.318500e-07   \n",
              "cffi-linreg                       4.838789e-07  1.537449e-07  4.345600e-07   \n",
              "numba-linreg-type-float32         6.236451e-07  2.413218e-07  5.570400e-07   \n",
              "numba-linreg-type-custom          7.395693e-07  2.110864e-07  6.676600e-07   \n",
              "numba-linreg-type                 8.575829e-07  2.396124e-07  7.743300e-07   \n",
              "cython-linreg-type                1.629050e-06  1.113954e-06  1.339260e-06   \n",
              "python-linreg-custom              2.093629e-06  5.340199e-07  1.920000e-06   \n",
              "cython-linreg                     2.274283e-06  4.369578e-07  2.109630e-06   \n",
              "python-linreg                     3.580270e-06  5.431344e-07  3.346180e-06   \n",
              "cffi-linreg-custom wrapped        5.059614e-06  9.467916e-07  4.720990e-06   \n",
              "cffi-linreg-custom-float wrapped  5.073548e-06  6.590705e-07  4.768390e-06   \n",
              "numba-linreg-type-numpy           5.863239e-06  9.454051e-07  5.380750e-06   \n",
              "cffi-linreg-wrapped               7.080206e-06  1.109936e-06  6.652850e-06   \n",
              "numpy-linreg-numpy                7.087493e-06  9.510058e-07  6.664690e-06   \n",
              "onnxruntime-float32               1.302998e-05  1.607927e-06  1.220347e-05   \n",
              "onnxruntime-float64               1.476537e-05  1.770770e-06  1.383111e-05   \n",
              "numba-linreg-notype               2.148582e-05  2.168977e-06  2.029828e-05   \n",
              "sklearn.predict                   2.727956e-05  3.893935e-06  2.530371e-05   \n",
              "\n",
              "                                          max5  run  \\\n",
              "legend                                                \n",
              "cffi-linreg-custom-float32-simd   5.649400e-07  100   \n",
              "cffi-linreg-custom-float32        5.451900e-07  100   \n",
              "cffi-linreg-custom                5.767900e-07  100   \n",
              "cffi-linreg                       7.703700e-07  100   \n",
              "numba-linreg-type-float32         9.442000e-07  100   \n",
              "numba-linreg-type-custom          1.133820e-06  100   \n",
              "numba-linreg-type                 1.157540e-06  100   \n",
              "cython-linreg-type                3.219760e-06  100   \n",
              "python-linreg-custom              2.563960e-06  100   \n",
              "cython-linreg                     2.741730e-06  100   \n",
              "python-linreg                     4.073090e-06  100   \n",
              "cffi-linreg-custom wrapped        5.657290e-06  100   \n",
              "cffi-linreg-custom-float wrapped  5.625680e-06  100   \n",
              "numba-linreg-type-numpy           6.629140e-06  100   \n",
              "cffi-linreg-wrapped               7.794580e-06  100   \n",
              "numpy-linreg-numpy                7.676050e-06  100   \n",
              "onnxruntime-float32               1.451852e-05  100   \n",
              "onnxruntime-float64               1.712988e-05  100   \n",
              "numba-linreg-notype               2.301630e-05  100   \n",
              "sklearn.predict                   3.208693e-05  100   \n",
              "\n",
              "                                                                               code  \n",
              "legend                                                                               \n",
              "cffi-linreg-custom-float32-simd          linreg_custom_float_simd(cptr_x, cptr_out)  \n",
              "cffi-linreg-custom-float32                    linreg_custom_float(cptr_x, cptr_out)  \n",
              "cffi-linreg-custom                                  linreg_custom(cptr_x, cptr_out)  \n",
              "cffi-linreg                       lib.linreg(n, cptr_x, cptr_coef, clr.intercept...  \n",
              "numba-linreg-type-float32               predict_clr_numba_cast_float(x32, c32, i32)  \n",
              "numba-linreg-type-custom                        predict_clr_numba_cast_custom(x[0])  \n",
              "numba-linreg-type                 predict_clr_numba_cast(x[0], clr.coef_, clr.in...  \n",
              "cython-linreg-type                predict_clr_cython_type(x[0], clr.coef_, clr.i...  \n",
              "python-linreg-custom                                          predict_clr_python(z)  \n",
              "cython-linreg                     predict_clr_cython(x[0], clr.coef_, clr.interc...  \n",
              "python-linreg                           predict_clr_python_loop(z, coef, intercept)  \n",
              "cffi-linreg-custom wrapped                                    predict_clr_custom(x)  \n",
              "cffi-linreg-custom-float wrapped                            predict_clr_custom(x32)  \n",
              "numba-linreg-type-numpy           predict_clr_numba_numpy(x[0], clr.coef_, clr.i...  \n",
              "cffi-linreg-wrapped                                             predict_clr(x, clr)  \n",
              "numpy-linreg-numpy                       predict_clr_numpy(z, coef, clr.intercept_)  \n",
              "onnxruntime-float32                                             predict_onnxrt(x32)  \n",
              "onnxruntime-float64                         predict_onnxrt(x.astype(numpy.float32))  \n",
              "numba-linreg-notype                 predict_clr_numba(z, clr.coef_, clr.intercept_)  \n",
              "sklearn.predict                                                      clr.predict(z)  "
            ]
          },
          "execution_count": 73,
          "metadata": {},
          "output_type": "execute_result"
        }
      ],
      "source": [
        "cols = [\"average\", \"deviation\", \"min5\", \"max5\", \"run\", \"code\"]\n",
        "df[cols]"
      ]
    },
    {
      "cell_type": "code",
      "execution_count": 73,
      "metadata": {},
      "outputs": [
        {
          "data": {
            "image/png": "[encoded data removed]",
            "text/plain": [
              "<Figure size 1008x432 with 1 Axes>"
            ]
          },
          "metadata": {
            "needs_background": "light"
          },
          "output_type": "display_data"
        }
      ],
      "source": [
        "%matplotlib inline\n",
        "import matplotlib.pyplot as plt\n",
        "fig, ax = plt.subplots(1, 1, figsize=(14,6))\n",
        "df[[\"average\", \"deviation\"]].plot(kind=\"barh\", logx=True, ax=ax, xerr=\"deviation\",\n",
        "                                  legend=False, fontsize=12, width=0.8)\n",
        "ax.set_ylabel(\"\")\n",
        "ax.grid(b=True, which=\"major\")\n",
        "ax.grid(b=True, which=\"minor\");"
      ]
    },
    {
      "cell_type": "markdown",
      "metadata": {},
      "source": [
        "Il manque \u00e0 ce comparatif le [GPU](https://en.wikipedia.org/wiki/Graphics_processing_unit) mais c'est un peu plus complexe \u00e0 mettre en oeuvre, il faut une carte [GPU](https://fr.wikipedia.org/wiki/Processeur_graphique) et la parall\u00e9lisation n'apporterait pas \u00e9norm\u00e9ment compte tenu de la faible dimension du probl\u00e8me."
      ]
    },
    {
      "cell_type": "markdown",
      "metadata": {},
      "source": [
        "## Pr\u00e9diction one-off et biais de mesure\n",
        "\n",
        "Le graphique pr\u00e9c\u00e9dent montre que la fonction ``predict`` de *scikit-learn* est la plus lente. La premi\u00e8re raison est que ce code est valable pour toutes les r\u00e9gresssions lin\u00e9aires alors que toutes les autres fonctions sont sp\u00e9cialis\u00e9es pour un seul mod\u00e8le. La seconde raison est que le code de *scikit-learn* est optimis\u00e9 pour le calcul de plusieurs pr\u00e9dictions \u00e0 la fois alors que toutes les autres fonctions n'en calcule qu'une seule (sc\u00e9nario dit *one-off*). On compare \u00e0 ce que donnerait unev version purement python et numpy."
      ]
    },
    {
      "cell_type": "code",
      "execution_count": 74,
      "metadata": {},
      "outputs": [
        {
          "data": {
            "text/plain": [
              "array([[197.61846908],\n",
              "       [155.43979328]])"
            ]
          },
          "execution_count": 75,
          "metadata": {},
          "output_type": "execute_result"
        }
      ],
      "source": [
        "def predict_clr_python_loop_multi(x, coef, intercept):    \n",
        "    # On s'attend \u00e0 deux dimension.\n",
        "    res = numpy.zeros((x.shape[0], 1))\n",
        "    res[:, 0] = intercept\n",
        "    for i in range(0, x.shape[0]):\n",
        "        res[i, 0] += sum(a*b for a, b in zip(x[i, :], coef))\n",
        "    return res\n",
        "\n",
        "predict_clr_python_loop_multi(diabetes_X_test[:2], clr.coef_, clr.intercept_)"
      ]
    },
    {
      "cell_type": "code",
      "execution_count": 75,
      "metadata": {},
      "outputs": [
        {
          "data": {
            "text/plain": [
              "array([[197.61846908],\n",
              "       [155.43979328]])"
            ]
          },
          "execution_count": 76,
          "metadata": {},
          "output_type": "execute_result"
        }
      ],
      "source": [
        "def predict_clr_numpy_loop_multi(x, coef, intercept):    \n",
        "    # On s'attend \u00e0 deux dimension.\n",
        "    res = numpy.ones((x.shape[0], 1)) * intercept\n",
        "    res += x @ coef.reshape((len(coef), 1))\n",
        "    return res\n",
        "\n",
        "predict_clr_numpy_loop_multi(diabetes_X_test[:2], clr.coef_, clr.intercept_)"
      ]
    },
    {
      "cell_type": "code",
      "execution_count": 76,
      "metadata": {},
      "outputs": [
        {
          "data": {
            "text/plain": [
              "[197.61846907503298, 155.43979327521237]"
            ]
          },
          "execution_count": 77,
          "metadata": {},
          "output_type": "execute_result"
        }
      ],
      "source": [
        "def predict_clr_numba_cast_multi(X, coef, intercept):\n",
        "    return [predict_clr_numba_cast(x, coef, intercept) for x in X]\n",
        "\n",
        "predict_clr_numba_cast_multi(diabetes_X_test[:2], clr.coef_, clr.intercept_)"
      ]
    },
    {
      "cell_type": "code",
      "execution_count": 77,
      "metadata": {},
      "outputs": [
        {
          "name": "stdout",
          "output_type": "stream",
          "text": [
            "batch = 1 (1, 10)\n",
            "Moyenne: 34.19 \u00b5s Ecart-type 7.40 \u00b5s (with 100 runs) in [26.90 \u00b5s, 50.80 \u00b5s]\n",
            "Moyenne: 9.11 \u00b5s Ecart-type 2.53 \u00b5s (with 100 runs) in [7.17 \u00b5s, 15.27 \u00b5s]\n",
            "Moyenne: 7.65 \u00b5s Ecart-type 2.75 \u00b5s (with 100 runs) in [6.58 \u00b5s, 11.09 \u00b5s]\n",
            "Moyenne: 2.24 \u00b5s Ecart-type 451.82 ns (with 100 runs) in [2.07 \u00b5s, 2.72 \u00b5s]\n",
            "Moyenne: 18.06 \u00b5s Ecart-type 4.51 \u00b5s (with 100 runs) in [13.97 \u00b5s, 26.65 \u00b5s]\n",
            "batch = 10 (10, 10)\n",
            "Moyenne: 37.37 \u00b5s Ecart-type 6.04 \u00b5s (with 100 runs) in [29.94 \u00b5s, 50.34 \u00b5s]\n",
            "Moyenne: 61.89 \u00b5s Ecart-type 9.71 \u00b5s (with 100 runs) in [54.54 \u00b5s, 89.49 \u00b5s]\n",
            "Moyenne: 7.27 \u00b5s Ecart-type 1.59 \u00b5s (with 100 runs) in [6.13 \u00b5s, 10.77 \u00b5s]\n",
            "Moyenne: 9.98 \u00b5s Ecart-type 2.01 \u00b5s (with 100 runs) in [8.86 \u00b5s, 15.53 \u00b5s]\n",
            "Moyenne: 17.67 \u00b5s Ecart-type 4.34 \u00b5s (with 100 runs) in [14.47 \u00b5s, 25.47 \u00b5s]\n",
            "batch = 100 (100, 10)\n",
            "Moyenne: 33.23 \u00b5s Ecart-type 9.07 \u00b5s (with 100 runs) in [28.58 \u00b5s, 53.26 \u00b5s]\n",
            "Moyenne: 566.15 \u00b5s Ecart-type 14.14 \u00b5s (with 100 runs) in [552.82 \u00b5s, 613.67 \u00b5s]\n",
            "Moyenne: 7.11 \u00b5s Ecart-type 794.07 ns (with 100 runs) in [6.65 \u00b5s, 7.68 \u00b5s]\n",
            "Moyenne: 80.36 \u00b5s Ecart-type 6.98 \u00b5s (with 100 runs) in [76.29 \u00b5s, 89.46 \u00b5s]\n",
            "Moyenne: 20.21 \u00b5s Ecart-type 3.79 \u00b5s (with 100 runs) in [17.35 \u00b5s, 27.67 \u00b5s]\n",
            "batch = 200 (200, 10)\n",
            "Moyenne: 32.34 \u00b5s Ecart-type 6.33 \u00b5s (with 100 runs) in [29.90 \u00b5s, 38.96 \u00b5s]\n",
            "Moyenne: 1.16 ms Ecart-type 15.62 \u00b5s (with 100 runs) in [1.14 ms, 1.20 ms]\n",
            "Moyenne: 9.21 \u00b5s Ecart-type 3.24 \u00b5s (with 100 runs) in [7.61 \u00b5s, 16.79 \u00b5s]\n",
            "Moyenne: 159.91 \u00b5s Ecart-type 8.41 \u00b5s (with 100 runs) in [152.88 \u00b5s, 170.28 \u00b5s]\n",
            "Moyenne: 21.62 \u00b5s Ecart-type 3.24 \u00b5s (with 100 runs) in [20.12 \u00b5s, 31.00 \u00b5s]\n",
            "batch = 500 (500, 10)\n",
            "Moyenne: 35.66 \u00b5s Ecart-type 6.11 \u00b5s (with 100 runs) in [32.35 \u00b5s, 45.02 \u00b5s]\n",
            "Moyenne: 2.83 ms Ecart-type 88.89 \u00b5s (with 100 runs) in [2.77 ms, 3.19 ms]\n",
            "Moyenne: 10.47 \u00b5s Ecart-type 3.25 \u00b5s (with 100 runs) in [8.96 \u00b5s, 16.74 \u00b5s]\n",
            "Moyenne: 401.91 \u00b5s Ecart-type 26.76 \u00b5s (with 100 runs) in [384.94 \u00b5s, 421.26 \u00b5s]\n",
            "Moyenne: 31.30 \u00b5s Ecart-type 4.41 \u00b5s (with 100 runs) in [28.92 \u00b5s, 42.04 \u00b5s]\n",
            "batch = 1000 (1000, 10)\n",
            "Moyenne: 47.26 \u00b5s Ecart-type 9.84 \u00b5s (with 100 runs) in [38.43 \u00b5s, 61.57 \u00b5s]\n",
            "Moyenne: 5.58 ms Ecart-type 95.65 \u00b5s (with 100 runs) in [5.47 ms, 5.77 ms]\n",
            "Moyenne: 13.75 \u00b5s Ecart-type 2.47 \u00b5s (with 100 runs) in [12.53 \u00b5s, 19.43 \u00b5s]\n",
            "Moyenne: 805.76 \u00b5s Ecart-type 58.97 \u00b5s (with 100 runs) in [773.70 \u00b5s, 886.05 \u00b5s]\n",
            "Moyenne: 45.00 \u00b5s Ecart-type 5.28 \u00b5s (with 100 runs) in [41.58 \u00b5s, 54.34 \u00b5s]\n",
            "batch = 2000 (2000, 10)\n",
            "Moyenne: 54.47 \u00b5s Ecart-type 9.74 \u00b5s (with 100 runs) in [45.42 \u00b5s, 69.89 \u00b5s]\n",
            "Moyenne: 18.40 \u00b5s Ecart-type 3.59 \u00b5s (with 100 runs) in [15.60 \u00b5s, 24.23 \u00b5s]\n",
            "Moyenne: 1.57 ms Ecart-type 39.75 \u00b5s (with 100 runs) in [1.54 ms, 1.62 ms]\n",
            "Moyenne: 70.53 \u00b5s Ecart-type 6.33 \u00b5s (with 100 runs) in [66.67 \u00b5s, 82.51 \u00b5s]\n",
            "batch = 3000 (3000, 10)\n",
            "Moyenne: 61.87 \u00b5s Ecart-type 11.62 \u00b5s (with 100 runs) in [53.04 \u00b5s, 83.79 \u00b5s]\n",
            "Moyenne: 20.43 \u00b5s Ecart-type 3.41 \u00b5s (with 100 runs) in [18.86 \u00b5s, 29.31 \u00b5s]\n",
            "Moyenne: 2.37 ms Ecart-type 78.63 \u00b5s (with 100 runs) in [2.30 ms, 2.52 ms]\n",
            "Moyenne: 97.47 \u00b5s Ecart-type 8.89 \u00b5s (with 100 runs) in [92.75 \u00b5s, 115.47 \u00b5s]\n",
            "batch = 4000 (4000, 10)\n",
            "Moyenne: 68.30 \u00b5s Ecart-type 12.46 \u00b5s (with 100 runs) in [59.04 \u00b5s, 91.16 \u00b5s]\n",
            "Moyenne: 24.22 \u00b5s Ecart-type 4.48 \u00b5s (with 100 runs) in [21.84 \u00b5s, 33.68 \u00b5s]\n",
            "Moyenne: 3.11 ms Ecart-type 90.16 \u00b5s (with 100 runs) in [3.04 ms, 3.27 ms]\n",
            "Moyenne: 122.17 \u00b5s Ecart-type 6.45 \u00b5s (with 100 runs) in [117.58 \u00b5s, 133.22 \u00b5s]\n",
            "batch = 5000 (5000, 10)\n",
            "Moyenne: 75.58 \u00b5s Ecart-type 13.15 \u00b5s (with 100 runs) in [65.68 \u00b5s, 101.18 \u00b5s]\n",
            "Moyenne: 28.93 \u00b5s Ecart-type 6.59 \u00b5s (with 100 runs) in [24.36 \u00b5s, 45.14 \u00b5s]\n",
            "Moyenne: 3.95 ms Ecart-type 126.20 \u00b5s (with 100 runs) in [3.82 ms, 4.26 ms]\n",
            "Moyenne: 155.01 \u00b5s Ecart-type 11.66 \u00b5s (with 100 runs) in [146.17 \u00b5s, 199.04 \u00b5s]\n",
            "batch = 10000 (10000, 10)\n",
            "Moyenne: 116.16 \u00b5s Ecart-type 16.99 \u00b5s (with 100 runs) in [100.02 \u00b5s, 162.68 \u00b5s]\n",
            "Moyenne: 45.40 \u00b5s Ecart-type 7.37 \u00b5s (with 100 runs) in [37.94 \u00b5s, 57.08 \u00b5s]\n",
            "Moyenne: 7.80 ms Ecart-type 140.05 \u00b5s (with 100 runs) in [7.66 ms, 8.16 ms]\n",
            "Moyenne: 284.02 \u00b5s Ecart-type 12.83 \u00b5s (with 100 runs) in [269.36 \u00b5s, 326.08 \u00b5s]\n",
            "batch = 20000 (20000, 10)\n",
            "Moyenne: 204.25 \u00b5s Ecart-type 29.36 \u00b5s (with 100 runs) in [168.85 \u00b5s, 271.33 \u00b5s]\n",
            "Moyenne: 75.74 \u00b5s Ecart-type 12.68 \u00b5s (with 100 runs) in [66.67 \u00b5s, 105.94 \u00b5s]\n",
            "Moyenne: 582.36 \u00b5s Ecart-type 48.57 \u00b5s (with 100 runs) in [550.44 \u00b5s, 737.30 \u00b5s]\n",
            "batch = 50000 (50000, 10)\n",
            "Moyenne: 773.00 \u00b5s Ecart-type 76.81 \u00b5s (with 100 runs) in [699.59 \u00b5s, 935.42 \u00b5s]\n",
            "Moyenne: 243.16 \u00b5s Ecart-type 36.72 \u00b5s (with 100 runs) in [204.27 \u00b5s, 305.21 \u00b5s]\n",
            "Moyenne: 3.69 ms Ecart-type 243.99 \u00b5s (with 100 runs) in [3.53 ms, 4.47 ms]\n",
            "batch = 75000 (75000, 10)\n",
            "Moyenne: 1.26 ms Ecart-type 107.22 \u00b5s (with 100 runs) in [1.12 ms, 1.46 ms]\n",
            "Moyenne: 401.80 \u00b5s Ecart-type 31.77 \u00b5s (with 100 runs) in [360.06 \u00b5s, 488.72 \u00b5s]\n",
            "Moyenne: 5.36 ms Ecart-type 102.42 \u00b5s (with 100 runs) in [5.26 ms, 5.60 ms]\n",
            "batch = 100000 (100000, 10)\n",
            "Moyenne: 1.75 ms Ecart-type 163.85 \u00b5s (with 100 runs) in [1.59 ms, 2.38 ms]\n",
            "Moyenne: 583.35 \u00b5s Ecart-type 67.82 \u00b5s (with 100 runs) in [501.74 \u00b5s, 768.32 \u00b5s]\n",
            "Moyenne: 7.29 ms Ecart-type 115.62 \u00b5s (with 100 runs) in [7.18 ms, 7.63 ms]\n",
            "batch = 150000 (150000, 10)\n",
            "Moyenne: 4.06 ms Ecart-type 142.87 \u00b5s (with 100 runs) in [3.85 ms, 4.33 ms]\n",
            "Moyenne: 3.01 ms Ecart-type 115.09 \u00b5s (with 100 runs) in [2.86 ms, 3.30 ms]\n",
            "Moyenne: 11.00 ms Ecart-type 237.20 \u00b5s (with 100 runs) in [10.82 ms, 11.90 ms]\n",
            "batch = 200000 (200000, 10)\n",
            "Moyenne: 5.43 ms Ecart-type 123.23 \u00b5s (with 100 runs) in [5.27 ms, 5.74 ms]\n",
            "Moyenne: 3.98 ms Ecart-type 135.24 \u00b5s (with 100 runs) in [3.81 ms, 4.29 ms]\n",
            "Moyenne: 14.59 ms Ecart-type 178.91 \u00b5s (with 100 runs) in [14.39 ms, 15.16 ms]\n"
          ]
        }
      ],
      "source": [
        "memo = []\n",
        "batch = [1, 10, 100, 200, 500, 1000, 2000, 3000, 4000, 5000, 10000,\n",
        "         20000, 50000, 75000, 100000, 150000, 200000]\n",
        "for i in batch:\n",
        "    if i <= diabetes_X_test.shape[0]:\n",
        "        mx = diabetes_X_test[:i]\n",
        "    else:\n",
        "        mxs = [diabetes_X_test] * (i // diabetes_X_test.shape[0] + 1)\n",
        "        mx = numpy.vstack(mxs)\n",
        "        mx = mx[:i]\n",
        "\n",
        "    print(\"batch\", \"=\", i, mx.shape)\n",
        "    repeat=20 if i >= 5000 else 100\n",
        "    \n",
        "    memo.append(timeexe(\"sklearn.predict %d\" % i, \"clr.predict(mx)\", repeat=repeat))\n",
        "    memo[-1][\"batch\"] = i\n",
        "    memo[-1][\"lib\"] = \"sklearn\"\n",
        "\n",
        "    if i <= 1000:\n",
        "        # tr\u00e8s lent\n",
        "        memo.append(timeexe(\"python %d\" % i, \"predict_clr_python_loop_multi(mx, clr.coef_, clr.intercept_)\",\n",
        "                            repeat=20))\n",
        "        memo[-1][\"batch\"] = i\n",
        "        memo[-1][\"lib\"] = \"python\"\n",
        "    \n",
        "    memo.append(timeexe(\"numpy %d\" % i, \"predict_clr_numpy_loop_multi(mx, clr.coef_, clr.intercept_)\",\n",
        "                        repeat=repeat))\n",
        "    memo[-1][\"batch\"] = i\n",
        "    memo[-1][\"lib\"] = \"numpy\"\n",
        "    \n",
        "    if i <= 10000:\n",
        "        # tr\u00e8s lent\n",
        "        memo.append(timeexe(\"numba %d\" % i, \"predict_clr_numba_cast_multi(mx, clr.coef_, clr.intercept_)\",\n",
        "                            repeat=repeat))\n",
        "        memo[-1][\"batch\"] = i\n",
        "        memo[-1][\"lib\"] = \"numba\"\n",
        "    \n",
        "    if ok_onnx:\n",
        "        memo.append(timeexe(\"onnxruntime %d\" % i, \"predict_onnxrt(mx.astype(numpy.float32))\", repeat=repeat))\n",
        "        memo[-1][\"batch\"] = i\n",
        "        memo[-1][\"lib\"] = \"onnxruntime\""
      ]
    },
    {
      "cell_type": "code",
      "execution_count": 78,
      "metadata": {},
      "outputs": [
        {
          "data": {
            "text/html": [
              "<div>\n",
              "<style scoped>\n",
              "    .dataframe tbody tr th:only-of-type {\n",
              "        vertical-align: middle;\n",
              "    }\n",
              "\n",
              "    .dataframe tbody tr th {\n",
              "        vertical-align: top;\n",
              "    }\n",
              "\n",
              "    .dataframe thead th {\n",
              "        text-align: right;\n",
              "    }\n",
              "</style>\n",
              "<table border=\"1\" class=\"dataframe\">\n",
              "  <thead>\n",
              "    <tr style=\"text-align: right;\">\n",
              "      <th>lib</th>\n",
              "      <th>numba</th>\n",
              "      <th>numpy</th>\n",
              "      <th>onnxruntime</th>\n",
              "      <th>python</th>\n",
              "      <th>sklearn</th>\n",
              "    </tr>\n",
              "    <tr>\n",
              "      <th>batch</th>\n",
              "      <th></th>\n",
              "      <th></th>\n",
              "      <th></th>\n",
              "      <th></th>\n",
              "      <th></th>\n",
              "    </tr>\n",
              "  </thead>\n",
              "  <tbody>\n",
              "    <tr>\n",
              "      <th>1</th>\n",
              "      <td>0.000002</td>\n",
              "      <td>0.000008</td>\n",
              "      <td>0.000018</td>\n",
              "      <td>0.000009</td>\n",
              "      <td>0.000034</td>\n",
              "    </tr>\n",
              "    <tr>\n",
              "      <th>10</th>\n",
              "      <td>0.000010</td>\n",
              "      <td>0.000007</td>\n",
              "      <td>0.000018</td>\n",
              "      <td>0.000062</td>\n",
              "      <td>0.000037</td>\n",
              "    </tr>\n",
              "    <tr>\n",
              "      <th>100</th>\n",
              "      <td>0.000080</td>\n",
              "      <td>0.000007</td>\n",
              "      <td>0.000020</td>\n",
              "      <td>0.000566</td>\n",
              "      <td>0.000033</td>\n",
              "    </tr>\n",
              "    <tr>\n",
              "      <th>200</th>\n",
              "      <td>0.000160</td>\n",
              "      <td>0.000009</td>\n",
              "      <td>0.000022</td>\n",
              "      <td>0.001158</td>\n",
              "      <td>0.000032</td>\n",
              "    </tr>\n",
              "    <tr>\n",
              "      <th>500</th>\n",
              "      <td>0.000402</td>\n",
              "      <td>0.000010</td>\n",
              "      <td>0.000031</td>\n",
              "      <td>0.002834</td>\n",
              "      <td>0.000036</td>\n",
              "    </tr>\n",
              "    <tr>\n",
              "      <th>1000</th>\n",
              "      <td>0.000806</td>\n",
              "      <td>0.000014</td>\n",
              "      <td>0.000045</td>\n",
              "      <td>0.005585</td>\n",
              "      <td>0.000047</td>\n",
              "    </tr>\n",
              "    <tr>\n",
              "      <th>2000</th>\n",
              "      <td>0.001568</td>\n",
              "      <td>0.000018</td>\n",
              "      <td>0.000071</td>\n",
              "      <td>NaN</td>\n",
              "      <td>0.000054</td>\n",
              "    </tr>\n",
              "    <tr>\n",
              "      <th>3000</th>\n",
              "      <td>0.002371</td>\n",
              "      <td>0.000020</td>\n",
              "      <td>0.000097</td>\n",
              "      <td>NaN</td>\n",
              "      <td>0.000062</td>\n",
              "    </tr>\n",
              "    <tr>\n",
              "      <th>4000</th>\n",
              "      <td>0.003113</td>\n",
              "      <td>0.000024</td>\n",
              "      <td>0.000122</td>\n",
              "      <td>NaN</td>\n",
              "      <td>0.000068</td>\n",
              "    </tr>\n",
              "    <tr>\n",
              "      <th>5000</th>\n",
              "      <td>0.003952</td>\n",
              "      <td>0.000029</td>\n",
              "      <td>0.000155</td>\n",
              "      <td>NaN</td>\n",
              "      <td>0.000076</td>\n",
              "    </tr>\n",
              "    <tr>\n",
              "      <th>10000</th>\n",
              "      <td>0.007801</td>\n",
              "      <td>0.000045</td>\n",
              "      <td>0.000284</td>\n",
              "      <td>NaN</td>\n",
              "      <td>0.000116</td>\n",
              "    </tr>\n",
              "    <tr>\n",
              "      <th>20000</th>\n",
              "      <td>NaN</td>\n",
              "      <td>0.000076</td>\n",
              "      <td>0.000582</td>\n",
              "      <td>NaN</td>\n",
              "      <td>0.000204</td>\n",
              "    </tr>\n",
              "    <tr>\n",
              "      <th>50000</th>\n",
              "      <td>NaN</td>\n",
              "      <td>0.000243</td>\n",
              "      <td>0.003687</td>\n",
              "      <td>NaN</td>\n",
              "      <td>0.000773</td>\n",
              "    </tr>\n",
              "    <tr>\n",
              "      <th>75000</th>\n",
              "      <td>NaN</td>\n",
              "      <td>0.000402</td>\n",
              "      <td>0.005364</td>\n",
              "      <td>NaN</td>\n",
              "      <td>0.001259</td>\n",
              "    </tr>\n",
              "    <tr>\n",
              "      <th>100000</th>\n",
              "      <td>NaN</td>\n",
              "      <td>0.000583</td>\n",
              "      <td>0.007293</td>\n",
              "      <td>NaN</td>\n",
              "      <td>0.001754</td>\n",
              "    </tr>\n",
              "    <tr>\n",
              "      <th>150000</th>\n",
              "      <td>NaN</td>\n",
              "      <td>0.003008</td>\n",
              "      <td>0.011004</td>\n",
              "      <td>NaN</td>\n",
              "      <td>0.004063</td>\n",
              "    </tr>\n",
              "    <tr>\n",
              "      <th>200000</th>\n",
              "      <td>NaN</td>\n",
              "      <td>0.003978</td>\n",
              "      <td>0.014594</td>\n",
              "      <td>NaN</td>\n",
              "      <td>0.005427</td>\n",
              "    </tr>\n",
              "  </tbody>\n",
              "</table>\n",
              "</div>"
            ],
            "text/plain": [
              "lib        numba     numpy  onnxruntime    python   sklearn\n",
              "batch                                                      \n",
              "1       0.000002  0.000008     0.000018  0.000009  0.000034\n",
              "10      0.000010  0.000007     0.000018  0.000062  0.000037\n",
              "100     0.000080  0.000007     0.000020  0.000566  0.000033\n",
              "200     0.000160  0.000009     0.000022  0.001158  0.000032\n",
              "500     0.000402  0.000010     0.000031  0.002834  0.000036\n",
              "1000    0.000806  0.000014     0.000045  0.005585  0.000047\n",
              "2000    0.001568  0.000018     0.000071       NaN  0.000054\n",
              "3000    0.002371  0.000020     0.000097       NaN  0.000062\n",
              "4000    0.003113  0.000024     0.000122       NaN  0.000068\n",
              "5000    0.003952  0.000029     0.000155       NaN  0.000076\n",
              "10000   0.007801  0.000045     0.000284       NaN  0.000116\n",
              "20000        NaN  0.000076     0.000582       NaN  0.000204\n",
              "50000        NaN  0.000243     0.003687       NaN  0.000773\n",
              "75000        NaN  0.000402     0.005364       NaN  0.001259\n",
              "100000       NaN  0.000583     0.007293       NaN  0.001754\n",
              "150000       NaN  0.003008     0.011004       NaN  0.004063\n",
              "200000       NaN  0.003978     0.014594       NaN  0.005427"
            ]
          },
          "execution_count": 79,
          "metadata": {},
          "output_type": "execute_result"
        }
      ],
      "source": [
        "dfb = pandas.DataFrame(memo)[[\"average\", \"lib\", \"batch\"]]\n",
        "piv = dfb.pivot(\"batch\", \"lib\", \"average\")\n",
        "piv"
      ]
    },
    {
      "cell_type": "code",
      "execution_count": 79,
      "metadata": {},
      "outputs": [
        {
          "data": {
            "text/html": [
              "<div>\n",
              "<style scoped>\n",
              "    .dataframe tbody tr th:only-of-type {\n",
              "        vertical-align: middle;\n",
              "    }\n",
              "\n",
              "    .dataframe tbody tr th {\n",
              "        vertical-align: top;\n",
              "    }\n",
              "\n",
              "    .dataframe thead th {\n",
              "        text-align: right;\n",
              "    }\n",
              "</style>\n",
              "<table border=\"1\" class=\"dataframe\">\n",
              "  <thead>\n",
              "    <tr style=\"text-align: right;\">\n",
              "      <th>lib</th>\n",
              "      <th>numba</th>\n",
              "      <th>numpy</th>\n",
              "      <th>onnxruntime</th>\n",
              "      <th>python</th>\n",
              "      <th>sklearn</th>\n",
              "      <th>ave_numba</th>\n",
              "      <th>ave_numpy</th>\n",
              "      <th>ave_onnxruntime</th>\n",
              "      <th>ave_python</th>\n",
              "      <th>ave_sklearn</th>\n",
              "    </tr>\n",
              "    <tr>\n",
              "      <th>batch</th>\n",
              "      <th></th>\n",
              "      <th></th>\n",
              "      <th></th>\n",
              "      <th></th>\n",
              "      <th></th>\n",
              "      <th></th>\n",
              "      <th></th>\n",
              "      <th></th>\n",
              "      <th></th>\n",
              "      <th></th>\n",
              "    </tr>\n",
              "  </thead>\n",
              "  <tbody>\n",
              "    <tr>\n",
              "      <th>1</th>\n",
              "      <td>0.000002</td>\n",
              "      <td>0.000008</td>\n",
              "      <td>0.000018</td>\n",
              "      <td>0.000009</td>\n",
              "      <td>0.000034</td>\n",
              "      <td>2.241344e-06</td>\n",
              "      <td>7.653652e-06</td>\n",
              "      <td>1.806420e-05</td>\n",
              "      <td>0.000009</td>\n",
              "      <td>3.418648e-05</td>\n",
              "    </tr>\n",
              "    <tr>\n",
              "      <th>10</th>\n",
              "      <td>0.000010</td>\n",
              "      <td>0.000007</td>\n",
              "      <td>0.000018</td>\n",
              "      <td>0.000062</td>\n",
              "      <td>0.000037</td>\n",
              "      <td>9.978078e-07</td>\n",
              "      <td>7.273247e-07</td>\n",
              "      <td>1.766673e-06</td>\n",
              "      <td>0.000006</td>\n",
              "      <td>3.737289e-06</td>\n",
              "    </tr>\n",
              "    <tr>\n",
              "      <th>100</th>\n",
              "      <td>0.000080</td>\n",
              "      <td>0.000007</td>\n",
              "      <td>0.000020</td>\n",
              "      <td>0.000566</td>\n",
              "      <td>0.000033</td>\n",
              "      <td>8.036179e-07</td>\n",
              "      <td>7.109534e-08</td>\n",
              "      <td>2.020742e-07</td>\n",
              "      <td>0.000006</td>\n",
              "      <td>3.323087e-07</td>\n",
              "    </tr>\n",
              "    <tr>\n",
              "      <th>200</th>\n",
              "      <td>0.000160</td>\n",
              "      <td>0.000009</td>\n",
              "      <td>0.000022</td>\n",
              "      <td>0.001158</td>\n",
              "      <td>0.000032</td>\n",
              "      <td>7.995693e-07</td>\n",
              "      <td>4.602807e-08</td>\n",
              "      <td>1.080783e-07</td>\n",
              "      <td>0.000006</td>\n",
              "      <td>1.616809e-07</td>\n",
              "    </tr>\n",
              "    <tr>\n",
              "      <th>500</th>\n",
              "      <td>0.000402</td>\n",
              "      <td>0.000010</td>\n",
              "      <td>0.000031</td>\n",
              "      <td>0.002834</td>\n",
              "      <td>0.000036</td>\n",
              "      <td>8.038238e-07</td>\n",
              "      <td>2.094460e-08</td>\n",
              "      <td>6.259266e-08</td>\n",
              "      <td>0.000006</td>\n",
              "      <td>7.131657e-08</td>\n",
              "    </tr>\n",
              "    <tr>\n",
              "      <th>1000</th>\n",
              "      <td>0.000806</td>\n",
              "      <td>0.000014</td>\n",
              "      <td>0.000045</td>\n",
              "      <td>0.005585</td>\n",
              "      <td>0.000047</td>\n",
              "      <td>8.057562e-07</td>\n",
              "      <td>1.375127e-08</td>\n",
              "      <td>4.499937e-08</td>\n",
              "      <td>0.000006</td>\n",
              "      <td>4.725699e-08</td>\n",
              "    </tr>\n",
              "    <tr>\n",
              "      <th>2000</th>\n",
              "      <td>0.001568</td>\n",
              "      <td>0.000018</td>\n",
              "      <td>0.000071</td>\n",
              "      <td>NaN</td>\n",
              "      <td>0.000054</td>\n",
              "      <td>7.839193e-07</td>\n",
              "      <td>9.202394e-09</td>\n",
              "      <td>3.526445e-08</td>\n",
              "      <td>NaN</td>\n",
              "      <td>2.723559e-08</td>\n",
              "    </tr>\n",
              "    <tr>\n",
              "      <th>3000</th>\n",
              "      <td>0.002371</td>\n",
              "      <td>0.000020</td>\n",
              "      <td>0.000097</td>\n",
              "      <td>NaN</td>\n",
              "      <td>0.000062</td>\n",
              "      <td>7.903335e-07</td>\n",
              "      <td>6.809774e-09</td>\n",
              "      <td>3.249028e-08</td>\n",
              "      <td>NaN</td>\n",
              "      <td>2.062450e-08</td>\n",
              "    </tr>\n",
              "    <tr>\n",
              "      <th>4000</th>\n",
              "      <td>0.003113</td>\n",
              "      <td>0.000024</td>\n",
              "      <td>0.000122</td>\n",
              "      <td>NaN</td>\n",
              "      <td>0.000068</td>\n",
              "      <td>7.781410e-07</td>\n",
              "      <td>6.055272e-09</td>\n",
              "      <td>3.054360e-08</td>\n",
              "      <td>NaN</td>\n",
              "      <td>1.707614e-08</td>\n",
              "    </tr>\n",
              "    <tr>\n",
              "      <th>5000</th>\n",
              "      <td>0.003952</td>\n",
              "      <td>0.000029</td>\n",
              "      <td>0.000155</td>\n",
              "      <td>NaN</td>\n",
              "      <td>0.000076</td>\n",
              "      <td>7.904206e-07</td>\n",
              "      <td>5.786195e-09</td>\n",
              "      <td>3.100110e-08</td>\n",
              "      <td>NaN</td>\n",
              "      <td>1.511657e-08</td>\n",
              "    </tr>\n",
              "    <tr>\n",
              "      <th>10000</th>\n",
              "      <td>0.007801</td>\n",
              "      <td>0.000045</td>\n",
              "      <td>0.000284</td>\n",
              "      <td>NaN</td>\n",
              "      <td>0.000116</td>\n",
              "      <td>7.800552e-07</td>\n",
              "      <td>4.540051e-09</td>\n",
              "      <td>2.840216e-08</td>\n",
              "      <td>NaN</td>\n",
              "      <td>1.161591e-08</td>\n",
              "    </tr>\n",
              "    <tr>\n",
              "      <th>20000</th>\n",
              "      <td>NaN</td>\n",
              "      <td>0.000076</td>\n",
              "      <td>0.000582</td>\n",
              "      <td>NaN</td>\n",
              "      <td>0.000204</td>\n",
              "      <td>NaN</td>\n",
              "      <td>3.787231e-09</td>\n",
              "      <td>2.911800e-08</td>\n",
              "      <td>NaN</td>\n",
              "      <td>1.021243e-08</td>\n",
              "    </tr>\n",
              "    <tr>\n",
              "      <th>50000</th>\n",
              "      <td>NaN</td>\n",
              "      <td>0.000243</td>\n",
              "      <td>0.003687</td>\n",
              "      <td>NaN</td>\n",
              "      <td>0.000773</td>\n",
              "      <td>NaN</td>\n",
              "      <td>4.863200e-09</td>\n",
              "      <td>7.373684e-08</td>\n",
              "      <td>NaN</td>\n",
              "      <td>1.546000e-08</td>\n",
              "    </tr>\n",
              "    <tr>\n",
              "      <th>75000</th>\n",
              "      <td>NaN</td>\n",
              "      <td>0.000402</td>\n",
              "      <td>0.005364</td>\n",
              "      <td>NaN</td>\n",
              "      <td>0.001259</td>\n",
              "      <td>NaN</td>\n",
              "      <td>5.357318e-09</td>\n",
              "      <td>7.151974e-08</td>\n",
              "      <td>NaN</td>\n",
              "      <td>1.678957e-08</td>\n",
              "    </tr>\n",
              "    <tr>\n",
              "      <th>100000</th>\n",
              "      <td>NaN</td>\n",
              "      <td>0.000583</td>\n",
              "      <td>0.007293</td>\n",
              "      <td>NaN</td>\n",
              "      <td>0.001754</td>\n",
              "      <td>NaN</td>\n",
              "      <td>5.833478e-09</td>\n",
              "      <td>7.293356e-08</td>\n",
              "      <td>NaN</td>\n",
              "      <td>1.754389e-08</td>\n",
              "    </tr>\n",
              "    <tr>\n",
              "      <th>150000</th>\n",
              "      <td>NaN</td>\n",
              "      <td>0.003008</td>\n",
              "      <td>0.011004</td>\n",
              "      <td>NaN</td>\n",
              "      <td>0.004063</td>\n",
              "      <td>NaN</td>\n",
              "      <td>2.005291e-08</td>\n",
              "      <td>7.336293e-08</td>\n",
              "      <td>NaN</td>\n",
              "      <td>2.708856e-08</td>\n",
              "    </tr>\n",
              "    <tr>\n",
              "      <th>200000</th>\n",
              "      <td>NaN</td>\n",
              "      <td>0.003978</td>\n",
              "      <td>0.014594</td>\n",
              "      <td>NaN</td>\n",
              "      <td>0.005427</td>\n",
              "      <td>NaN</td>\n",
              "      <td>1.989016e-08</td>\n",
              "      <td>7.296801e-08</td>\n",
              "      <td>NaN</td>\n",
              "      <td>2.713574e-08</td>\n",
              "    </tr>\n",
              "  </tbody>\n",
              "</table>\n",
              "</div>"
            ],
            "text/plain": [
              "lib        numba     numpy  onnxruntime    python   sklearn     ave_numba  \\\n",
              "batch                                                                       \n",
              "1       0.000002  0.000008     0.000018  0.000009  0.000034  2.241344e-06   \n",
              "10      0.000010  0.000007     0.000018  0.000062  0.000037  9.978078e-07   \n",
              "100     0.000080  0.000007     0.000020  0.000566  0.000033  8.036179e-07   \n",
              "200     0.000160  0.000009     0.000022  0.001158  0.000032  7.995693e-07   \n",
              "500     0.000402  0.000010     0.000031  0.002834  0.000036  8.038238e-07   \n",
              "1000    0.000806  0.000014     0.000045  0.005585  0.000047  8.057562e-07   \n",
              "2000    0.001568  0.000018     0.000071       NaN  0.000054  7.839193e-07   \n",
              "3000    0.002371  0.000020     0.000097       NaN  0.000062  7.903335e-07   \n",
              "4000    0.003113  0.000024     0.000122       NaN  0.000068  7.781410e-07   \n",
              "5000    0.003952  0.000029     0.000155       NaN  0.000076  7.904206e-07   \n",
              "10000   0.007801  0.000045     0.000284       NaN  0.000116  7.800552e-07   \n",
              "20000        NaN  0.000076     0.000582       NaN  0.000204           NaN   \n",
              "50000        NaN  0.000243     0.003687       NaN  0.000773           NaN   \n",
              "75000        NaN  0.000402     0.005364       NaN  0.001259           NaN   \n",
              "100000       NaN  0.000583     0.007293       NaN  0.001754           NaN   \n",
              "150000       NaN  0.003008     0.011004       NaN  0.004063           NaN   \n",
              "200000       NaN  0.003978     0.014594       NaN  0.005427           NaN   \n",
              "\n",
              "lib        ave_numpy  ave_onnxruntime  ave_python   ave_sklearn  \n",
              "batch                                                            \n",
              "1       7.653652e-06     1.806420e-05    0.000009  3.418648e-05  \n",
              "10      7.273247e-07     1.766673e-06    0.000006  3.737289e-06  \n",
              "100     7.109534e-08     2.020742e-07    0.000006  3.323087e-07  \n",
              "200     4.602807e-08     1.080783e-07    0.000006  1.616809e-07  \n",
              "500     2.094460e-08     6.259266e-08    0.000006  7.131657e-08  \n",
              "1000    1.375127e-08     4.499937e-08    0.000006  4.725699e-08  \n",
              "2000    9.202394e-09     3.526445e-08         NaN  2.723559e-08  \n",
              "3000    6.809774e-09     3.249028e-08         NaN  2.062450e-08  \n",
              "4000    6.055272e-09     3.054360e-08         NaN  1.707614e-08  \n",
              "5000    5.786195e-09     3.100110e-08         NaN  1.511657e-08  \n",
              "10000   4.540051e-09     2.840216e-08         NaN  1.161591e-08  \n",
              "20000   3.787231e-09     2.911800e-08         NaN  1.021243e-08  \n",
              "50000   4.863200e-09     7.373684e-08         NaN  1.546000e-08  \n",
              "75000   5.357318e-09     7.151974e-08         NaN  1.678957e-08  \n",
              "100000  5.833478e-09     7.293356e-08         NaN  1.754389e-08  \n",
              "150000  2.005291e-08     7.336293e-08         NaN  2.708856e-08  \n",
              "200000  1.989016e-08     7.296801e-08         NaN  2.713574e-08  "
            ]
          },
          "execution_count": 80,
          "metadata": {},
          "output_type": "execute_result"
        }
      ],
      "source": [
        "for c in piv.columns:\n",
        "    piv[\"ave_\" + c] = piv[c] / piv.index\n",
        "piv"
      ]
    },
    {
      "cell_type": "code",
      "execution_count": 80,
      "metadata": {},
      "outputs": [
        {
          "data": {
            "image/png": "[encoded data removed]",
            "text/plain": [
              "<Figure size 432x288 with 1 Axes>"
            ]
          },
          "metadata": {
            "needs_background": "light"
          },
          "output_type": "display_data"
        }
      ],
      "source": [
        "libs = list(c for c in piv.columns if \"ave_\" in c)\n",
        "ax = piv.plot(y=libs, logy=True, logx=True)\n",
        "ax.set_title(\"Evolution du temps de pr\u00e9diction selon la taille du batch\")\n",
        "ax.grid(True);"
      ]
    },
    {
      "cell_type": "markdown",
      "metadata": {},
      "source": [
        "Le minimum obtenu est pour $10^{-8} s$ soit 10 ns. Cela montre que la comparaisson pr\u00e9c\u00e9dente \u00e9tait incompl\u00e8te voire biais\u00e9e. Tout d\u00e9pend de l'usage qu'on fait de la fonction de pr\u00e9diction m\u00eame s'il sera toujours possible de d'\u00e9crire un code sp\u00e9cialis\u00e9 plus rapide que toute autre fonction g\u00e9n\u00e9rique. En g\u00e9n\u00e9ral, plus on reste du c\u00f4t\u00e9 Python, plus le programme est lent. Le nombre de passage de l'un \u00e0 l'autre, selon la fa\u00e7on dont il est fait ralenti aussi. En tenant compte de cela, le programme rouge sera plus lent que le vert."
      ]
    },
    {
      "cell_type": "code",
      "execution_count": 81,
      "metadata": {},
      "outputs": [
        {
          "data": {
            "image/png": "[encoded data removed]",
            "text/plain": [
              "<IPython.core.display.Image object>"
            ]
          },
          "execution_count": 82,
          "metadata": {},
          "output_type": "execute_result"
        }
      ],
      "source": [
        "from pyquickhelper.helpgen import NbImage\n",
        "NbImage(\"pycpp.png\")"
      ]
    },
    {
      "cell_type": "markdown",
      "metadata": {},
      "source": [
        "Ces r\u00e9sultats sont d'une fa\u00e7on g\u00e9n\u00e9rale assez volatile car le temps de calcul est enrob\u00e9 dans plusieurs fonctions Python qui rendent une mesure pr\u00e9cise difficile. Il reste n\u00e9anmoins une bonne id\u00e9e des ordres de grandeurs."
      ]
    },
    {
      "cell_type": "code",
      "execution_count": 82,
      "metadata": {},
      "outputs": [],
      "source": []
    }
  ],
  "metadata": {
    "kernelspec": {
      "display_name": "Python 3",
      "language": "python",
      "name": "python3"
    },
    "language_info": {
      "codemirror_mode": {
        "name": "ipython",
        "version": 3
      },
      "file_extension": ".py",
      "mimetype": "text/x-python",
      "name": "python",
      "nbconvert_exporter": "python",
      "pygments_lexer": "ipython3",
      "version": "3.7.0"
    }
  },
  "nbformat": 4,
  "nbformat_minor": 2
}