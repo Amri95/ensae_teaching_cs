{
  "cells": [
    {
      "cell_type": "markdown",
      "metadata": {},
      "source": [
        "# 2A.ml - Bayesian models with Python\n",
        "\n",
        "Mod\u00e8les de m\u00e9langes de lois. Statistiques bay\u00e9siennes. *bayespy*, *scikit-learn*."
      ]
    },
    {
      "cell_type": "code",
      "execution_count": 1,
      "metadata": {},
      "outputs": [
        {
          "data": {
            "text/html": [
              "<div id=\"my_id_menu_nb\">run previous cell, wait for 2 seconds</div>\n",
              "<script>\n",
              "function repeat_indent_string(n){\n",
              "    var a = \"\" ;\n",
              "    for ( ; n > 0 ; --n)\n",
              "        a += \"    \";\n",
              "    return a;\n",
              "}\n",
              "var update_menu_string = function(begin, lfirst, llast, sformat, send, keep_item, begin_format, end_format) {\n",
              "    var anchors = document.getElementsByClassName(\"section\");\n",
              "    if (anchors.length == 0) {\n",
              "        anchors = document.getElementsByClassName(\"text_cell_render rendered_html\");\n",
              "    }\n",
              "    var i,t;\n",
              "    var text_menu = begin;\n",
              "    var text_memo = \"<pre>\\nlength:\" + anchors.length + \"\\n\";\n",
              "    var ind = \"\";\n",
              "    var memo_level = 1;\n",
              "    var href;\n",
              "    var tags = [];\n",
              "    var main_item = 0;\n",
              "    var format_open = 0;\n",
              "    for (i = 0; i <= llast; i++)\n",
              "        tags.push(\"h\" + i);\n",
              "\n",
              "    for (i = 0; i < anchors.length; i++) {\n",
              "        text_memo += \"**\" + anchors[i].id + \"--\\n\";\n",
              "\n",
              "        var child = null;\n",
              "        for(t = 0; t < tags.length; t++) {\n",
              "            var r = anchors[i].getElementsByTagName(tags[t]);\n",
              "            if (r.length > 0) {\n",
              "child = r[0];\n",
              "break;\n",
              "            }\n",
              "        }\n",
              "        if (child == null) {\n",
              "            text_memo += \"null\\n\";\n",
              "            continue;\n",
              "        }\n",
              "        if (anchors[i].hasAttribute(\"id\")) {\n",
              "            // when converted in RST\n",
              "            href = anchors[i].id;\n",
              "            text_memo += \"#1-\" + href;\n",
              "            // passer \u00e0 child suivant (le chercher)\n",
              "        }\n",
              "        else if (child.hasAttribute(\"id\")) {\n",
              "            // in a notebook\n",
              "            href = child.id;\n",
              "            text_memo += \"#2-\" + href;\n",
              "        }\n",
              "        else {\n",
              "            text_memo += \"#3-\" + \"*\" + \"\\n\";\n",
              "            continue;\n",
              "        }\n",
              "        var title = child.textContent;\n",
              "        var level = parseInt(child.tagName.substring(1,2));\n",
              "\n",
              "        text_memo += \"--\" + level + \"?\" + lfirst + \"--\" + title + \"\\n\";\n",
              "\n",
              "        if ((level < lfirst) || (level > llast)) {\n",
              "            continue ;\n",
              "        }\n",
              "        if (title.endsWith('\u00b6')) {\n",
              "            title = title.substring(0,title.length-1).replace(\"<\", \"&lt;\")\n",
              "         .replace(\">\", \"&gt;\").replace(\"&\", \"&amp;\");\n",
              "        }\n",
              "        if (title.length == 0) {\n",
              "            continue;\n",
              "        }\n",
              "\n",
              "        while (level < memo_level) {\n",
              "            text_menu += end_format + \"</ul>\\n\";\n",
              "            format_open -= 1;\n",
              "            memo_level -= 1;\n",
              "        }\n",
              "        if (level == lfirst) {\n",
              "            main_item += 1;\n",
              "        }\n",
              "        if (keep_item != -1 && main_item != keep_item + 1) {\n",
              "            // alert(main_item + \" - \" + level + \" - \" + keep_item);\n",
              "            continue;\n",
              "        }\n",
              "        while (level > memo_level) {\n",
              "            text_menu += \"<ul>\\n\";\n",
              "            memo_level += 1;\n",
              "        }\n",
              "        text_menu += repeat_indent_string(level-2);\n",
              "        text_menu += begin_format + sformat.replace(\"__HREF__\", href).replace(\"__TITLE__\", title);\n",
              "        format_open += 1;\n",
              "    }\n",
              "    while (1 < memo_level) {\n",
              "        text_menu += end_format + \"</ul>\\n\";\n",
              "        memo_level -= 1;\n",
              "        format_open -= 1;\n",
              "    }\n",
              "    text_menu += send;\n",
              "    //text_menu += \"\\n\" + text_memo;\n",
              "\n",
              "    while (format_open > 0) {\n",
              "        text_menu += end_format;\n",
              "        format_open -= 1;\n",
              "    }\n",
              "    return text_menu;\n",
              "};\n",
              "var update_menu = function() {\n",
              "    var sbegin = \"\";\n",
              "    var sformat = '<a href=\"#__HREF__\">__TITLE__</a>';\n",
              "    var send = \"\";\n",
              "    var begin_format = '<li>';\n",
              "    var end_format = '</li>';\n",
              "    var keep_item = -1;\n",
              "    var text_menu = update_menu_string(sbegin, 2, 4, sformat, send, keep_item,\n",
              "       begin_format, end_format);\n",
              "    var menu = document.getElementById(\"my_id_menu_nb\");\n",
              "    menu.innerHTML=text_menu;\n",
              "};\n",
              "window.setTimeout(update_menu,2000);\n",
              "            </script>"
            ],
            "text/plain": [
              "<IPython.core.display.HTML object>"
            ]
          },
          "execution_count": 2,
          "metadata": {},
          "output_type": "execute_result"
        }
      ],
      "source": [
        "from jyquickhelper import add_notebook_menu\n",
        "add_notebook_menu()"
      ]
    },
    {
      "cell_type": "markdown",
      "metadata": {},
      "source": [
        "You can read [Probabilistic Programming and Bayesian Methods for Hackers](http://nbviewer.jupyter.org/github/CamDavidsonPilon/Probabilistic-Programming-and-Bayesian-Methods-for-Hackers/blob/master/Prologue/Prologue.ipynb). Results might be different between examples. The example used is the same but the default parameters the optimisation uses are different."
      ]
    },
    {
      "cell_type": "markdown",
      "metadata": {},
      "source": [
        "We try different python model to deal with a Bayesian problem: a Gaussian Mixture. We will use the following example."
      ]
    },
    {
      "cell_type": "code",
      "execution_count": 3,
      "metadata": {},
      "outputs": [
        {
          "name": "stdout",
          "output_type": "stream",
          "text": [
            "Populating the interactive namespace from numpy and matplotlib\n"
          ]
        }
      ],
      "source": [
        "%matplotlib inline"
      ]
    },
    {
      "cell_type": "code",
      "execution_count": 4,
      "metadata": {},
      "outputs": [],
      "source": [
        "import matplotlib.pyplot as plt\n",
        "plt.style.use('ggplot')"
      ]
    },
    {
      "cell_type": "code",
      "execution_count": 5,
      "metadata": {},
      "outputs": [
        {
          "data": {
            "text/plain": [
              "[<matplotlib.lines.Line2D at 0x1e1f8924278>]"
            ]
          },
          "execution_count": 6,
          "metadata": {},
          "output_type": "execute_result"
        },
        {
          "data": {
            "image/png": "[encoded data removed]",
            "text/plain": [
              "<matplotlib.figure.Figure at 0x1e1f851a828>"
            ]
          },
          "metadata": {},
          "output_type": "display_data"
        }
      ],
      "source": [
        "import numpy as np\n",
        "y0 = np.random.multivariate_normal([0, 0], [[2, 0], [0, 0.1]], size=50)\n",
        "y1 = np.random.multivariate_normal([0, 0], [[0.1, 0], [0, 2]], size=50)\n",
        "y2 = np.random.multivariate_normal([5, 2], [[2, -1.5], [-1.5, 2]], size=50)\n",
        "y3 = np.random.multivariate_normal([-2, -2], [[0.5, 0], [0, 0.5]], size=50)\n",
        "y = np.vstack([y0, y1, y2, y3])\n",
        "X=y\n",
        "\n",
        "fig = plt.figure(figsize=(10,7))\n",
        "ax = fig.add_subplot(\"111\")\n",
        "ax.plot(y[:,0], y[:,1], \"o\")"
      ]
    },
    {
      "cell_type": "markdown",
      "metadata": {},
      "source": [
        "<h3 id=\"bayespy\">bayespy</h3>"
      ]
    },
    {
      "cell_type": "markdown",
      "metadata": {},
      "source": [
        "The module [bayespy](http://www.bayespy.org/) allows to build and estimate simple bayesian models. I just replicate the example on the [Gaussian mixture model](http://www.bayespy.org/examples/gmm.html)."
      ]
    },
    {
      "cell_type": "markdown",
      "metadata": {},
      "source": [
        "We define the model:"
      ]
    },
    {
      "cell_type": "code",
      "execution_count": 7,
      "metadata": {},
      "outputs": [],
      "source": [
        "N = 200  # number of data vectors\n",
        "D = 2    # dimension\n",
        "K = 10   # maximum number of clusters"
      ]
    },
    {
      "cell_type": "code",
      "execution_count": 8,
      "metadata": {},
      "outputs": [],
      "source": [
        "from bayespy.nodes import Dirichlet, Categorical, Gaussian, Wishart, Mixture\n",
        "alpha = Dirichlet(1e-5*np.ones(K), name='alpha')\n",
        "Z = Categorical(alpha,plates=(N,), name='z')\n",
        "mu = Gaussian(np.zeros(D), 1e-5*np.identity(D), plates=(K,), name='mu')\n",
        "sigma = Wishart(D, 1e-5*np.identity(D), plates=(K,), name='Lambda')\n",
        "Y = Mixture(Z, Gaussian, mu, sigma, name='Y')"
      ]
    },
    {
      "cell_type": "code",
      "execution_count": 9,
      "metadata": {},
      "outputs": [],
      "source": [
        "Z.initialize_from_random()"
      ]
    },
    {
      "cell_type": "code",
      "execution_count": 10,
      "metadata": {},
      "outputs": [],
      "source": [
        "from bayespy.inference import VB\n",
        "Q = VB(Y, mu, sigma, Z, alpha)"
      ]
    },
    {
      "cell_type": "code",
      "execution_count": 11,
      "metadata": {},
      "outputs": [],
      "source": [
        "Y.observe(y)"
      ]
    },
    {
      "cell_type": "code",
      "execution_count": 12,
      "metadata": {},
      "outputs": [
        {
          "name": "stdout",
          "output_type": "stream",
          "text": [
            "Iteration 1: loglike=-1.487636e+03 (0.013 seconds)\n",
            "Iteration 2: loglike=-1.350598e+03 (0.013 seconds)\n",
            "Iteration 3: loglike=-1.337548e+03 (0.011 seconds)\n",
            "Iteration 4: loglike=-1.328510e+03 (0.012 seconds)\n",
            "Iteration 5: loglike=-1.322557e+03 (0.013 seconds)\n",
            "Iteration 6: loglike=-1.317863e+03 (0.016 seconds)\n",
            "Iteration 7: loglike=-1.313479e+03 (0.013 seconds)\n",
            "Iteration 8: loglike=-1.309050e+03 (0.010 seconds)\n",
            "Iteration 9: loglike=-1.304587e+03 (0.011 seconds)\n",
            "Iteration 10: loglike=-1.299751e+03 (0.011 seconds)\n",
            "Iteration 11: loglike=-1.293313e+03 (0.010 seconds)\n",
            "Iteration 12: loglike=-1.283418e+03 (0.010 seconds)\n",
            "Iteration 13: loglike=-1.269973e+03 (0.010 seconds)\n",
            "Iteration 14: loglike=-1.257880e+03 (0.014 seconds)\n",
            "Iteration 15: loglike=-1.243859e+03 (0.016 seconds)\n",
            "Iteration 16: loglike=-1.215105e+03 (0.016 seconds)\n",
            "Iteration 17: loglike=-1.154356e+03 (0.013 seconds)\n",
            "Iteration 18: loglike=-1.147277e+03 (0.012 seconds)\n",
            "Iteration 19: loglike=-1.130168e+03 (0.011 seconds)\n",
            "Iteration 20: loglike=-1.114374e+03 (0.010 seconds)\n",
            "Iteration 21: loglike=-1.094772e+03 (0.010 seconds)\n",
            "Iteration 22: loglike=-1.093041e+03 (0.011 seconds)\n",
            "Iteration 23: loglike=-1.091166e+03 (0.012 seconds)\n",
            "Iteration 24: loglike=-1.088739e+03 (0.011 seconds)\n",
            "Iteration 25: loglike=-1.085550e+03 (0.011 seconds)\n",
            "Iteration 26: loglike=-1.082153e+03 (0.011 seconds)\n",
            "Iteration 27: loglike=-1.079542e+03 (0.012 seconds)\n",
            "Iteration 28: loglike=-1.077668e+03 (0.011 seconds)\n",
            "Iteration 29: loglike=-1.076522e+03 (0.011 seconds)\n",
            "Iteration 30: loglike=-1.075704e+03 (0.011 seconds)\n",
            "Iteration 31: loglike=-1.074777e+03 (0.010 seconds)\n",
            "Iteration 32: loglike=-1.073429e+03 (0.011 seconds)\n",
            "Iteration 33: loglike=-1.071584e+03 (0.010 seconds)\n",
            "Iteration 34: loglike=-1.069659e+03 (0.010 seconds)\n",
            "Iteration 35: loglike=-1.068174e+03 (0.010 seconds)\n",
            "Iteration 36: loglike=-1.067135e+03 (0.011 seconds)\n",
            "Iteration 37: loglike=-1.065943e+03 (0.011 seconds)\n",
            "Iteration 38: loglike=-1.064360e+03 (0.012 seconds)\n",
            "Iteration 39: loglike=-1.063449e+03 (0.011 seconds)\n",
            "Iteration 40: loglike=-1.063147e+03 (0.012 seconds)\n",
            "Iteration 41: loglike=-1.063061e+03 (0.011 seconds)\n",
            "Iteration 42: loglike=-1.063017e+03 (0.012 seconds)\n",
            "Iteration 43: loglike=-1.062984e+03 (0.012 seconds)\n",
            "Iteration 44: loglike=-1.062957e+03 (0.011 seconds)\n",
            "Iteration 45: loglike=-1.062934e+03 (0.010 seconds)\n",
            "Iteration 46: loglike=-1.062915e+03 (0.010 seconds)\n",
            "Iteration 47: loglike=-1.062898e+03 (0.010 seconds)\n",
            "Iteration 48: loglike=-1.062884e+03 (0.011 seconds)\n",
            "Iteration 49: loglike=-1.062872e+03 (0.010 seconds)\n",
            "Iteration 50: loglike=-1.062862e+03 (0.010 seconds)\n",
            "Iteration 51: loglike=-1.062852e+03 (0.010 seconds)\n",
            "Converged at iteration 51.\n"
          ]
        }
      ],
      "source": [
        "Q.update(repeat=1000)"
      ]
    },
    {
      "cell_type": "code",
      "execution_count": 13,
      "metadata": {},
      "outputs": [
        {
          "data": {
            "image/png": "[encoded data removed]",
            "text/plain": [
              "<matplotlib.figure.Figure at 0x1e1f6c40b38>"
            ]
          },
          "metadata": {},
          "output_type": "display_data"
        }
      ],
      "source": [
        "import bayespy.plot as bpplt\n",
        "fig = plt.figure(figsize=(10,7))\n",
        "ax = fig.add_subplot(\"111\")\n",
        "bpplt.gaussian_mixture_2d(Y, alpha=alpha, scale=2, color=\"black\", fill=True, axes=ax)"
      ]
    },
    {
      "cell_type": "markdown",
      "metadata": {},
      "source": [
        "We get the result of the optimization:"
      ]
    },
    {
      "cell_type": "code",
      "execution_count": 14,
      "metadata": {},
      "outputs": [
        {
          "data": {
            "text/plain": [
              "(array([[ -8.93542552e+00,   1.32584771e+01],\n",
              "        [  8.80005150e+00,   6.39408120e+00],\n",
              "        [ -9.78558313e-01,  -6.16726644e-01],\n",
              "        [  0.00000000e+00,   0.00000000e+00],\n",
              "        [  0.00000000e+00,   0.00000000e+00],\n",
              "        [  4.62480035e+02,   1.89474820e+02],\n",
              "        [  1.82472862e+00,   5.61687224e+00],\n",
              "        [  0.00000000e+00,   0.00000000e+00],\n",
              "        [  4.24502340e-01,   1.43113257e-01],\n",
              "        [  1.56374250e+00,  -1.62142196e+00]]),\n",
              " array([[[  3.64436310e+00,  -3.03258197e+00],\n",
              "         [ -3.03258197e+00,   4.09446061e+00]],\n",
              " \n",
              "        [[  1.58279132e+00,   4.52277148e-01],\n",
              "         [  4.52277148e-01,   1.93840384e+00]],\n",
              " \n",
              "        [[  9.38086466e-01,  -2.65479579e-01],\n",
              "         [ -2.65479579e-01,   7.08703982e-01]],\n",
              " \n",
              "        [[  2.00000000e+05,   0.00000000e+00],\n",
              "         [  0.00000000e+00,   2.00000000e+05]],\n",
              " \n",
              "        [[  2.00000000e+05,   0.00000000e+00],\n",
              "         [  0.00000000e+00,   2.00000000e+05]],\n",
              " \n",
              "        [[  1.01153614e+02,   3.94490125e+01],\n",
              "         [  3.94490125e+01,   1.75801264e+01]],\n",
              " \n",
              "        [[  2.16593188e+01,   4.49417025e-01],\n",
              "         [  4.49417025e-01,   6.10436567e+00]],\n",
              " \n",
              "        [[  2.00000000e+05,   0.00000000e+00],\n",
              "         [  0.00000000e+00,   2.00000000e+05]],\n",
              " \n",
              "        [[  1.64344729e-01,  -2.41916521e-01],\n",
              "         [ -2.41916521e-01,   8.73264111e+00]],\n",
              " \n",
              "        [[  7.17111428e+00,  -2.42312076e+00],\n",
              "         [ -2.42312076e+00,   1.65799791e+01]]]))"
            ]
          },
          "execution_count": 15,
          "metadata": {},
          "output_type": "execute_result"
        }
      ],
      "source": [
        "from bayespy.inference.vmp.nodes.gaussian import GaussianWishartMoments\n",
        "parent = Y.parents[1]\n",
        "(mu, _, sigma, _) = parent.get_moments()\n",
        "mu, sigma"
      ]
    },
    {
      "cell_type": "code",
      "execution_count": 16,
      "metadata": {},
      "outputs": [
        {
          "data": {
            "text/plain": [
              "array([[ 0.63258992,  3.70668065],\n",
              "       [ 4.94708849,  2.14435509],\n",
              "       [-1.44231845, -1.41050815],\n",
              "       [ 0.        ,  0.        ],\n",
              "       [ 0.        ,  0.        ],\n",
              "       [ 2.9534232 ,  4.15043612],\n",
              "       [ 0.06525418,  0.91533604],\n",
              "       [ 0.        ,  0.        ],\n",
              "       [ 2.71795693,  0.09168268],\n",
              "       [ 0.19462806, -0.06934958]])"
            ]
          },
          "execution_count": 17,
          "metadata": {},
          "output_type": "execute_result"
        }
      ],
      "source": [
        "import numpy as np\n",
        "mu2 = np.linalg.solve(sigma, mu)\n",
        "mu2"
      ]
    },
    {
      "cell_type": "markdown",
      "metadata": {},
      "source": [
        "The way you can build your model is quite nice but it still needs some development. scikit-learn proposes a better interface."
      ]
    },
    {
      "cell_type": "markdown",
      "metadata": {},
      "source": [
        "<h3 id=\"scikit\">scikit-learn</h3>"
      ]
    },
    {
      "cell_type": "markdown",
      "metadata": {},
      "source": [
        "We try to solve the same problem with another module: [scikit-learn](http://scikit-learn.org/stable/auto_examples/mixture/plot_gmm.html#example-mixture-plot-gmm-py)."
      ]
    },
    {
      "cell_type": "code",
      "execution_count": 18,
      "metadata": {},
      "outputs": [
        {
          "data": {
            "text/plain": [
              "GMM(covariance_type='full', init_params='wmc', min_covar=0.001,\n",
              "  n_components=10, n_init=1, n_iter=100, params='wmc', random_state=None,\n",
              "  thresh=None, tol=0.001, verbose=0)"
            ]
          },
          "execution_count": 19,
          "metadata": {},
          "output_type": "execute_result"
        }
      ],
      "source": [
        "from sklearn import mixture\n",
        "gmm = mixture.GMM(n_components=10, covariance_type='full')\n",
        "gmm.fit(X)"
      ]
    },
    {
      "cell_type": "code",
      "execution_count": 20,
      "metadata": {},
      "outputs": [
        {
          "data": {
            "text/plain": [
              "DPGMM(alpha=1.0, covariance_type='full', init_params='wmc', min_covar=None,\n",
              "   n_components=10, n_iter=10, params='wmc', random_state=None,\n",
              "   thresh=None, tol=0.001, verbose=0)"
            ]
          },
          "execution_count": 21,
          "metadata": {},
          "output_type": "execute_result"
        }
      ],
      "source": [
        "dpgmm = mixture.DPGMM(n_components=10, covariance_type='full')\n",
        "dpgmm.fit(X)"
      ]
    },
    {
      "cell_type": "code",
      "execution_count": 22,
      "metadata": {},
      "outputs": [
        {
          "data": {
            "image/png": "[encoded data removed]",
            "text/plain": [
              "<matplotlib.figure.Figure at 0x1e1fad48e48>"
            ]
          },
          "metadata": {},
          "output_type": "display_data"
        }
      ],
      "source": [
        "import itertools\n",
        "import matplotlib as mpl\n",
        "color_iter = itertools.cycle(['r', 'g', 'b', 'c', 'm'])\n",
        "f, axarr = plt.subplots(1, 2, figsize=(14,7))\n",
        "\n",
        "for i, (clf, title) in enumerate([(gmm, 'GMM'),\n",
        "                                  (dpgmm, 'Dirichlet Process GMM')]):\n",
        "    splot = axarr[i]\n",
        "    Y_ = clf.predict(X)\n",
        "    for i, (mean, covar, color) in enumerate(zip(\n",
        "            clf.means_, clf._get_covars(), color_iter)):\n",
        "        v, w = np.linalg.eigh(covar)\n",
        "        u = w[0] / np.linalg.norm(w[0])\n",
        "        # as the DP will not use every component it has access to\n",
        "        # unless it needs it, we shouldn't plot the redundant\n",
        "        # components.\n",
        "        if not np.any(Y_ == i):\n",
        "            continue\n",
        "        splot.scatter(X[Y_ == i, 0], X[Y_ == i, 1], 0.8, color=color)\n",
        "\n",
        "        # Plot an ellipse to show the Gaussian component\n",
        "        angle = np.arctan(u[1] / u[0])\n",
        "        angle = 180 * angle / np.pi  # convert to degrees\n",
        "        ell = mpl.patches.Ellipse(mean, v[0], v[1], 180 + angle, color=color)\n",
        "        ell.set_clip_box(splot.bbox)\n",
        "        ell.set_alpha(0.5)\n",
        "        splot.add_artist(ell)\n",
        "        splot.set_title(title)"
      ]
    },
    {
      "cell_type": "code",
      "execution_count": 23,
      "metadata": {},
      "outputs": [],
      "source": []
    }
  ],
  "metadata": {
    "kernelspec": {
      "display_name": "Python 3",
      "language": "python",
      "name": "python3"
    },
    "language_info": {
      "codemirror_mode": {
        "name": "ipython",
        "version": 3
      },
      "file_extension": ".py",
      "mimetype": "text/x-python",
      "name": "python",
      "nbconvert_exporter": "python",
      "pygments_lexer": "ipython3",
      "version": "3.6.1"
    }
  },
  "nbformat": 4,
  "nbformat_minor": 1
}