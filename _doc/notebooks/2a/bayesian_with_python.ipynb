{
  "cells": [
    {
      "cell_type": "markdown",
      "metadata": {},
      "source": [
        "# 2A.ml - Bayesian models with Python\n",
        "\n",
        "Mod\u00e8les de m\u00e9langes de lois. Statistiques bay\u00e9siennes. *bayespy*, *scikit-learn*."
      ]
    },
    {
      "cell_type": "code",
      "execution_count": 1,
      "metadata": {},
      "outputs": [
        {
          "data": {
            "text/html": [
              "<div id=\"my_id_menu_nb\">run previous cell, wait for 2 seconds</div>\n",
              "<script>\n",
              "function repeat_indent_string(n){\n",
              "    var a = \"\" ;\n",
              "    for ( ; n > 0 ; --n)\n",
              "        a += \"    \";\n",
              "    return a;\n",
              "}\n",
              "var update_menu_string = function(begin, lfirst, llast, sformat, send, keep_item, begin_format, end_format) {\n",
              "    var anchors = document.getElementsByClassName(\"section\");\n",
              "    if (anchors.length == 0) {\n",
              "        anchors = document.getElementsByClassName(\"text_cell_render rendered_html\");\n",
              "    }\n",
              "    var i,t;\n",
              "    var text_menu = begin;\n",
              "    var text_memo = \"<pre>\\nlength:\" + anchors.length + \"\\n\";\n",
              "    var ind = \"\";\n",
              "    var memo_level = 1;\n",
              "    var href;\n",
              "    var tags = [];\n",
              "    var main_item = 0;\n",
              "    var format_open = 0;\n",
              "    for (i = 0; i <= llast; i++)\n",
              "        tags.push(\"h\" + i);\n",
              "\n",
              "    for (i = 0; i < anchors.length; i++) {\n",
              "        text_memo += \"**\" + anchors[i].id + \"--\\n\";\n",
              "\n",
              "        var child = null;\n",
              "        for(t = 0; t < tags.length; t++) {\n",
              "            var r = anchors[i].getElementsByTagName(tags[t]);\n",
              "            if (r.length > 0) {\n",
              "child = r[0];\n",
              "break;\n",
              "            }\n",
              "        }\n",
              "        if (child == null) {\n",
              "            text_memo += \"null\\n\";\n",
              "            continue;\n",
              "        }\n",
              "        if (anchors[i].hasAttribute(\"id\")) {\n",
              "            // when converted in RST\n",
              "            href = anchors[i].id;\n",
              "            text_memo += \"#1-\" + href;\n",
              "            // passer \u00e0 child suivant (le chercher)\n",
              "        }\n",
              "        else if (child.hasAttribute(\"id\")) {\n",
              "            // in a notebook\n",
              "            href = child.id;\n",
              "            text_memo += \"#2-\" + href;\n",
              "        }\n",
              "        else {\n",
              "            text_memo += \"#3-\" + \"*\" + \"\\n\";\n",
              "            continue;\n",
              "        }\n",
              "        var title = child.textContent;\n",
              "        var level = parseInt(child.tagName.substring(1,2));\n",
              "\n",
              "        text_memo += \"--\" + level + \"?\" + lfirst + \"--\" + title + \"\\n\";\n",
              "\n",
              "        if ((level < lfirst) || (level > llast)) {\n",
              "            continue ;\n",
              "        }\n",
              "        if (title.endsWith('\u00b6')) {\n",
              "            title = title.substring(0,title.length-1).replace(\"<\", \"&lt;\")\n",
              "         .replace(\">\", \"&gt;\").replace(\"&\", \"&amp;\");\n",
              "        }\n",
              "        if (title.length == 0) {\n",
              "            continue;\n",
              "        }\n",
              "\n",
              "        while (level < memo_level) {\n",
              "            text_menu += end_format + \"</ul>\\n\";\n",
              "            format_open -= 1;\n",
              "            memo_level -= 1;\n",
              "        }\n",
              "        if (level == lfirst) {\n",
              "            main_item += 1;\n",
              "        }\n",
              "        if (keep_item != -1 && main_item != keep_item + 1) {\n",
              "            // alert(main_item + \" - \" + level + \" - \" + keep_item);\n",
              "            continue;\n",
              "        }\n",
              "        while (level > memo_level) {\n",
              "            text_menu += \"<ul>\\n\";\n",
              "            memo_level += 1;\n",
              "        }\n",
              "        text_menu += repeat_indent_string(level-2);\n",
              "        text_menu += begin_format + sformat.replace(\"__HREF__\", href).replace(\"__TITLE__\", title);\n",
              "        format_open += 1;\n",
              "    }\n",
              "    while (1 < memo_level) {\n",
              "        text_menu += end_format + \"</ul>\\n\";\n",
              "        memo_level -= 1;\n",
              "        format_open -= 1;\n",
              "    }\n",
              "    text_menu += send;\n",
              "    //text_menu += \"\\n\" + text_memo;\n",
              "\n",
              "    while (format_open > 0) {\n",
              "        text_menu += end_format;\n",
              "        format_open -= 1;\n",
              "    }\n",
              "    return text_menu;\n",
              "};\n",
              "var update_menu = function() {\n",
              "    var sbegin = \"\";\n",
              "    var sformat = '<a href=\"#__HREF__\">__TITLE__</a>';\n",
              "    var send = \"\";\n",
              "    var begin_format = '<li>';\n",
              "    var end_format = '</li>';\n",
              "    var keep_item = -1;\n",
              "    var text_menu = update_menu_string(sbegin, 2, 4, sformat, send, keep_item,\n",
              "       begin_format, end_format);\n",
              "    var menu = document.getElementById(\"my_id_menu_nb\");\n",
              "    menu.innerHTML=text_menu;\n",
              "};\n",
              "window.setTimeout(update_menu,2000);\n",
              "            </script>"
            ],
            "text/plain": [
              "<IPython.core.display.HTML object>"
            ]
          },
          "execution_count": 2,
          "metadata": {},
          "output_type": "execute_result"
        }
      ],
      "source": [
        "from jyquickhelper import add_notebook_menu\n",
        "add_notebook_menu()"
      ]
    },
    {
      "cell_type": "markdown",
      "metadata": {},
      "source": [
        "You can read [Probabilistic Programming and Bayesian Methods for Hackers](http://nbviewer.jupyter.org/github/CamDavidsonPilon/Probabilistic-Programming-and-Bayesian-Methods-for-Hackers/blob/master/Prologue/Prologue.ipynb). Results might be different between examples. The example used is the same but the default parameters the optimisation uses are different."
      ]
    },
    {
      "cell_type": "markdown",
      "metadata": {},
      "source": [
        "We try different python model to deal with a Bayesian problem: a Gaussian Mixture. We will use the following example."
      ]
    },
    {
      "cell_type": "code",
      "execution_count": 2,
      "metadata": {},
      "outputs": [],
      "source": [
        "%matplotlib inline"
      ]
    },
    {
      "cell_type": "code",
      "execution_count": 3,
      "metadata": {},
      "outputs": [],
      "source": [
        "import matplotlib.pyplot as plt"
      ]
    },
    {
      "cell_type": "code",
      "execution_count": 4,
      "metadata": {},
      "outputs": [
        {
          "data": {
            "text/plain": [
              "[<matplotlib.lines.Line2D at 0x1ab6ec2aba8>]"
            ]
          },
          "execution_count": 5,
          "metadata": {},
          "output_type": "execute_result"
        },
        {
          "data": {
            "image/png": "[encoded data removed]",
            "text/plain": [
              "<matplotlib.figure.Figure at 0x1ab6ec2a390>"
            ]
          },
          "metadata": {},
          "output_type": "display_data"
        }
      ],
      "source": [
        "import numpy as np\n",
        "y0 = np.random.multivariate_normal([0, 0], [[2, 0], [0, 0.1]], size=50)\n",
        "y1 = np.random.multivariate_normal([0, 0], [[0.1, 0], [0, 2]], size=50)\n",
        "y2 = np.random.multivariate_normal([5, 2], [[2, -1.5], [-1.5, 2]], size=50)\n",
        "y3 = np.random.multivariate_normal([-2, -2], [[0.5, 0], [0, 0.5]], size=50)\n",
        "y = np.vstack([y0, y1, y2, y3])\n",
        "X=y\n",
        "\n",
        "fig = plt.figure(figsize=(10,7))\n",
        "ax = fig.add_subplot(\"111\")\n",
        "ax.plot(y[:,0], y[:,1], \"o\");"
      ]
    },
    {
      "cell_type": "markdown",
      "metadata": {},
      "source": [
        "<h3 id=\"bayespy\">bayespy</h3>"
      ]
    },
    {
      "cell_type": "markdown",
      "metadata": {},
      "source": [
        "The module [bayespy](http://www.bayespy.org/) allows to build and estimate simple bayesian models. I just replicate the example on the [Gaussian mixture model](http://www.bayespy.org/examples/gmm.html)."
      ]
    },
    {
      "cell_type": "markdown",
      "metadata": {},
      "source": [
        "We define the model:"
      ]
    },
    {
      "cell_type": "code",
      "execution_count": 5,
      "metadata": {},
      "outputs": [
        {
          "data": {
            "text/plain": [
              "('0.5.12', '1.14.0')"
            ]
          },
          "execution_count": 6,
          "metadata": {},
          "output_type": "execute_result"
        }
      ],
      "source": [
        "from bayespy import __version__ as v1\n",
        "from numpy import __version__ as v2\n",
        "v1, v2"
      ]
    },
    {
      "cell_type": "markdown",
      "metadata": {},
      "source": [
        "Si cela ne marche pas avec la version 1.14 de numpy, vous devriez essayez la version 1.13 (a priori, cette [exception](https://github.com/numpy/numpy/blob/master/numpy/core/einsumfunc.py#L710) pose probl\u00e8me)."
      ]
    },
    {
      "cell_type": "code",
      "execution_count": 6,
      "metadata": {},
      "outputs": [],
      "source": [
        "N = 200  # number of data vectors\n",
        "D = 2    # dimension\n",
        "K = 10   # maximum number of clusters"
      ]
    },
    {
      "cell_type": "code",
      "execution_count": 7,
      "metadata": {
        "scrolled": false
      },
      "outputs": [
        {
          "name": "stderr",
          "output_type": "stream",
          "text": [
            "c:\\python364_x64\\lib\\site-packages\\h5py\\__init__.py:36: FutureWarning: Conversion of the second argument of issubdtype from `float` to `np.floating` is deprecated. In future, it will be treated as `np.float64 == np.dtype(float).type`.\n",
            "  from ._conv import register_converters as _register_converters\n"
          ]
        }
      ],
      "source": [
        "from bayespy.nodes import Dirichlet, Categorical, Gaussian, Wishart, Mixture\n",
        "alpha = Dirichlet(1e-5*np.ones(K), name='alpha')\n",
        "Z = Categorical(alpha, plates=(N,), name='z')\n",
        "mu = Gaussian(np.zeros(D), 1e-5*np.identity(D), plates=(K,), name='mu')\n",
        "sigma = Wishart(D, 1e-5*np.identity(D), plates=(K,), name='Lambda')\n",
        "Y = Mixture(Z, Gaussian, mu, sigma, name='Y')"
      ]
    },
    {
      "cell_type": "code",
      "execution_count": 8,
      "metadata": {},
      "outputs": [],
      "source": [
        "Z.initialize_from_random()"
      ]
    },
    {
      "cell_type": "code",
      "execution_count": 9,
      "metadata": {},
      "outputs": [],
      "source": [
        "from bayespy.inference import VB\n",
        "Q = VB(Y, mu, sigma, Z, alpha)"
      ]
    },
    {
      "cell_type": "code",
      "execution_count": 10,
      "metadata": {},
      "outputs": [],
      "source": [
        "Y.observe(y)"
      ]
    },
    {
      "cell_type": "code",
      "execution_count": 11,
      "metadata": {},
      "outputs": [
        {
          "name": "stdout",
          "output_type": "stream",
          "text": [
            "Iteration 1: loglike=-1.468308e+03 (0.014 seconds)\n",
            "Iteration 2: loglike=-1.334298e+03 (0.013 seconds)\n",
            "Iteration 3: loglike=-1.324890e+03 (0.008 seconds)\n",
            "Iteration 4: loglike=-1.316611e+03 (0.008 seconds)\n",
            "Iteration 5: loglike=-1.309316e+03 (0.008 seconds)\n",
            "Iteration 6: loglike=-1.303605e+03 (0.008 seconds)\n",
            "Iteration 7: loglike=-1.299580e+03 (0.008 seconds)\n",
            "Iteration 8: loglike=-1.296177e+03 (0.008 seconds)\n",
            "Iteration 9: loglike=-1.292610e+03 (0.009 seconds)\n",
            "Iteration 10: loglike=-1.288500e+03 (0.007 seconds)\n",
            "Iteration 11: loglike=-1.283598e+03 (0.008 seconds)\n",
            "Iteration 12: loglike=-1.277488e+03 (0.008 seconds)\n",
            "Iteration 13: loglike=-1.269190e+03 (0.007 seconds)\n",
            "Iteration 14: loglike=-1.256292e+03 (0.007 seconds)\n",
            "Iteration 15: loglike=-1.234579e+03 (0.007 seconds)\n",
            "Iteration 16: loglike=-1.211326e+03 (0.007 seconds)\n",
            "Iteration 17: loglike=-1.177000e+03 (0.008 seconds)\n",
            "Iteration 18: loglike=-1.166708e+03 (0.007 seconds)\n",
            "Iteration 19: loglike=-1.156378e+03 (0.007 seconds)\n",
            "Iteration 20: loglike=-1.144631e+03 (0.007 seconds)\n",
            "Iteration 21: loglike=-1.126998e+03 (0.007 seconds)\n",
            "Iteration 22: loglike=-1.097797e+03 (0.007 seconds)\n",
            "Iteration 23: loglike=-1.096564e+03 (0.007 seconds)\n",
            "Iteration 24: loglike=-1.095781e+03 (0.007 seconds)\n",
            "Iteration 25: loglike=-1.095088e+03 (0.007 seconds)\n",
            "Iteration 26: loglike=-1.094301e+03 (0.008 seconds)\n",
            "Iteration 27: loglike=-1.093080e+03 (0.009 seconds)\n",
            "Iteration 28: loglike=-1.090791e+03 (0.010 seconds)\n",
            "Iteration 29: loglike=-1.087744e+03 (0.010 seconds)\n",
            "Iteration 30: loglike=-1.084277e+03 (0.008 seconds)\n",
            "Iteration 31: loglike=-1.080613e+03 (0.010 seconds)\n",
            "Iteration 32: loglike=-1.077095e+03 (0.008 seconds)\n",
            "Iteration 33: loglike=-1.074572e+03 (0.007 seconds)\n",
            "Iteration 34: loglike=-1.072766e+03 (0.008 seconds)\n",
            "Iteration 35: loglike=-1.071197e+03 (0.008 seconds)\n",
            "Iteration 36: loglike=-1.070107e+03 (0.008 seconds)\n",
            "Iteration 37: loglike=-1.069416e+03 (0.008 seconds)\n",
            "Iteration 38: loglike=-1.068877e+03 (0.007 seconds)\n",
            "Iteration 39: loglike=-1.068225e+03 (0.008 seconds)\n",
            "Iteration 40: loglike=-1.067125e+03 (0.008 seconds)\n",
            "Iteration 41: loglike=-1.064818e+03 (0.007 seconds)\n",
            "Iteration 42: loglike=-1.055372e+03 (0.008 seconds)\n",
            "Iteration 43: loglike=-1.043661e+03 (0.007 seconds)\n",
            "Iteration 44: loglike=-1.024287e+03 (0.008 seconds)\n",
            "Iteration 45: loglike=-1.023613e+03 (0.008 seconds)\n",
            "Iteration 46: loglike=-1.023360e+03 (0.008 seconds)\n",
            "Iteration 47: loglike=-1.023310e+03 (0.008 seconds)\n",
            "Iteration 48: loglike=-1.023298e+03 (0.008 seconds)\n",
            "Iteration 49: loglike=-1.023295e+03 (0.009 seconds)\n",
            "Converged at iteration 49.\n"
          ]
        }
      ],
      "source": [
        "Q.update(repeat=1000)"
      ]
    },
    {
      "cell_type": "code",
      "execution_count": 12,
      "metadata": {},
      "outputs": [
        {
          "data": {
            "image/png": "[encoded data removed]",
            "text/plain": [
              "<matplotlib.figure.Figure at 0x1ab6fdb0438>"
            ]
          },
          "metadata": {},
          "output_type": "display_data"
        }
      ],
      "source": [
        "import bayespy.plot as bpplt\n",
        "fig = plt.figure(figsize=(10,7))\n",
        "ax = fig.add_subplot(\"111\")\n",
        "bpplt.gaussian_mixture_2d(Y, alpha=alpha, scale=2, color=\"black\", fill=True, axes=ax)"
      ]
    },
    {
      "cell_type": "markdown",
      "metadata": {},
      "source": [
        "We get the result of the optimization:"
      ]
    },
    {
      "cell_type": "code",
      "execution_count": 13,
      "metadata": {},
      "outputs": [
        {
          "data": {
            "text/plain": [
              "(array([[ 2.40154701e+02, -8.30453303e+01],\n",
              "        [ 5.40823693e-02, -7.08214698e-02],\n",
              "        [-3.63503268e+00, -3.71061355e+00],\n",
              "        [ 0.00000000e+00,  0.00000000e+00],\n",
              "        [ 0.00000000e+00,  0.00000000e+00],\n",
              "        [ 4.84289522e-02,  6.63872665e-01],\n",
              "        [ 0.00000000e+00,  0.00000000e+00],\n",
              "        [ 1.00479247e+01,  1.34655609e+01],\n",
              "        [-1.18341948e+02, -2.16731559e+03],\n",
              "        [-1.57604981e+01,  3.15478982e+01]]),\n",
              " array([[[ 9.48320957e+01, -6.58056747e+01],\n",
              "         [-6.58056747e+01,  6.86033451e+01]],\n",
              " \n",
              "        [[ 1.26452771e+01, -1.07681959e+00],\n",
              "         [-1.07681959e+00,  5.78892196e-01]],\n",
              " \n",
              "        [[ 2.20886879e+00, -2.95971379e-01],\n",
              "         [-2.95971379e-01,  2.19230023e+00]],\n",
              " \n",
              "        [[ 2.00000000e+05,  0.00000000e+00],\n",
              "         [ 0.00000000e+00,  2.00000000e+05]],\n",
              " \n",
              "        [[ 2.00000000e+05,  0.00000000e+00],\n",
              "         [ 0.00000000e+00,  2.00000000e+05]],\n",
              " \n",
              "        [[ 4.06971901e-01, -1.42148584e-02],\n",
              "         [-1.42148584e-02,  1.38110338e+01]],\n",
              " \n",
              "        [[ 2.00000000e+05,  0.00000000e+00],\n",
              "         [ 0.00000000e+00,  2.00000000e+05]],\n",
              " \n",
              "        [[ 1.43601950e+00,  1.49891164e+00],\n",
              "         [ 1.49891164e+00,  3.06628145e+00]],\n",
              " \n",
              "        [[ 1.41273885e+01,  2.49504482e+02],\n",
              "         [ 2.49504482e+02,  4.49832151e+03]],\n",
              " \n",
              "        [[ 1.43003045e+01, -1.41364107e+01],\n",
              "         [-1.41364107e+01,  1.78937301e+01]]]))"
            ]
          },
          "execution_count": 14,
          "metadata": {},
          "output_type": "execute_result"
        }
      ],
      "source": [
        "from bayespy.inference.vmp.nodes.gaussian import GaussianWishartMoments\n",
        "parent = Y.parents[1]\n",
        "(mu, _, sigma, _) = parent.get_moments()\n",
        "mu, sigma"
      ]
    },
    {
      "cell_type": "code",
      "execution_count": 14,
      "metadata": {},
      "outputs": [
        {
          "data": {
            "text/plain": [
              "array([[ 5.06136814,  3.64444933],\n",
              "       [-0.0072969 , -0.13591289],\n",
              "       [-1.90694018, -1.95001269],\n",
              "       [ 0.        ,  0.        ],\n",
              "       [ 0.        ,  0.        ],\n",
              "       [ 0.12068155,  0.04819249],\n",
              "       [ 0.        ,  0.        ],\n",
              "       [ 4.9274566 ,  1.9827726 ],\n",
              "       [ 6.48766775, -0.84165122],\n",
              "       [ 2.92536528,  4.07416803]])"
            ]
          },
          "execution_count": 15,
          "metadata": {},
          "output_type": "execute_result"
        }
      ],
      "source": [
        "import numpy as np\n",
        "mu2 = np.linalg.solve(sigma, mu)\n",
        "mu2"
      ]
    },
    {
      "cell_type": "markdown",
      "metadata": {},
      "source": [
        "The way you can build your model is quite nice but it still needs some development. scikit-learn proposes a better interface."
      ]
    },
    {
      "cell_type": "markdown",
      "metadata": {},
      "source": [
        "<h3 id=\"scikit\">scikit-learn</h3>"
      ]
    },
    {
      "cell_type": "markdown",
      "metadata": {},
      "source": [
        "We try to solve the same problem with another module: [scikit-learn](http://scikit-learn.org/stable/auto_examples/mixture/plot_gmm.html#example-mixture-plot-gmm-py)."
      ]
    },
    {
      "cell_type": "code",
      "execution_count": 15,
      "metadata": {
        "scrolled": false
      },
      "outputs": [
        {
          "data": {
            "text/plain": [
              "GaussianMixture(covariance_type='full', init_params='kmeans', max_iter=100,\n",
              "        means_init=None, n_components=10, n_init=1, precisions_init=None,\n",
              "        random_state=None, reg_covar=1e-06, tol=0.001, verbose=0,\n",
              "        verbose_interval=10, warm_start=False, weights_init=None)"
            ]
          },
          "execution_count": 16,
          "metadata": {},
          "output_type": "execute_result"
        }
      ],
      "source": [
        "from sklearn import mixture\n",
        "gmm = mixture.GaussianMixture (n_components=10, covariance_type='full')\n",
        "gmm.fit(X)"
      ]
    },
    {
      "cell_type": "code",
      "execution_count": 16,
      "metadata": {},
      "outputs": [
        {
          "name": "stderr",
          "output_type": "stream",
          "text": [
            "c:\\python364_x64\\lib\\site-packages\\sklearn\\mixture\\base.py:237: ConvergenceWarning: Initialization 1 did not converge. Try different init parameters, or increase max_iter, tol or check for degenerate data.\n",
            "  % (init + 1), ConvergenceWarning)\n"
          ]
        },
        {
          "data": {
            "text/plain": [
              "BayesianGaussianMixture(covariance_prior=None, covariance_type='full',\n",
              "            degrees_of_freedom_prior=None, init_params='kmeans',\n",
              "            max_iter=100, mean_precision_prior=None, mean_prior=None,\n",
              "            n_components=10, n_init=1, random_state=None, reg_covar=1e-06,\n",
              "            tol=0.001, verbose=0, verbose_interval=10, warm_start=False,\n",
              "            weight_concentration_prior=None,\n",
              "            weight_concentration_prior_type='dirichlet_process')"
            ]
          },
          "execution_count": 17,
          "metadata": {},
          "output_type": "execute_result"
        }
      ],
      "source": [
        "dpgmm = mixture.BayesianGaussianMixture(n_components=10, covariance_type='full')\n",
        "dpgmm.fit(X)"
      ]
    },
    {
      "cell_type": "code",
      "execution_count": 17,
      "metadata": {},
      "outputs": [
        {
          "data": {
            "image/png": "[encoded data removed]",
            "text/plain": [
              "<matplotlib.figure.Figure at 0x1ab71a5ef60>"
            ]
          },
          "metadata": {},
          "output_type": "display_data"
        }
      ],
      "source": [
        "import itertools\n",
        "import matplotlib as mpl\n",
        "color_iter = itertools.cycle(['r', 'g', 'b', 'c', 'm'])\n",
        "f, axarr = plt.subplots(1, 2, figsize=(14,7))\n",
        "\n",
        "for i, (clf, title) in enumerate([(gmm, 'GMM'),\n",
        "                                  (dpgmm, 'Dirichlet Process GMM')]):\n",
        "    splot = axarr[i]\n",
        "    Y_ = clf.predict(X)\n",
        "    for i, (mean, covar, color) in enumerate(zip(\n",
        "            clf.means_, clf.covariances_, color_iter)):\n",
        "        v, w = np.linalg.eigh(covar)\n",
        "        u = w[0] / np.linalg.norm(w[0])\n",
        "        # as the DP will not use every component it has access to\n",
        "        # unless it needs it, we shouldn't plot the redundant\n",
        "        # components.\n",
        "        if not np.any(Y_ == i):\n",
        "            continue\n",
        "        splot.scatter(X[Y_ == i, 0], X[Y_ == i, 1], 0.8, color=color)\n",
        "\n",
        "        # Plot an ellipse to show the Gaussian component\n",
        "        angle = np.arctan(u[1] / u[0])\n",
        "        angle = 180 * angle / np.pi  # convert to degrees\n",
        "        ell = mpl.patches.Ellipse(mean, v[0], v[1], 180 + angle, color=color)\n",
        "        ell.set_clip_box(splot.bbox)\n",
        "        ell.set_alpha(0.5)\n",
        "        splot.add_artist(ell)\n",
        "        splot.set_title(title)"
      ]
    },
    {
      "cell_type": "code",
      "execution_count": 18,
      "metadata": {},
      "outputs": [],
      "source": []
    }
  ],
  "metadata": {
    "kernelspec": {
      "display_name": "Python 3",
      "language": "python",
      "name": "python3"
    },
    "language_info": {
      "codemirror_mode": {
        "name": "ipython",
        "version": 3
      },
      "file_extension": ".py",
      "mimetype": "text/x-python",
      "name": "python",
      "nbconvert_exporter": "python",
      "pygments_lexer": "ipython3",
      "version": "3.6.5"
    }
  },
  "nbformat": 4,
  "nbformat_minor": 1
}