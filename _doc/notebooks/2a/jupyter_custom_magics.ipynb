{
  "cells": [
    {
      "cell_type": "markdown",
      "metadata": {},
      "source": [
        "# 2A.soft - Custom Magics for Jupyter\n",
        "\n",
        "The following example shows how to define custom logic to your notebooks. You will find more details here: [Defining your own magics](http://ipython.readthedocs.io/en/stable/config/custommagics.html?defining-custom-magics). It works pretty simple. I just defined the magic commands ``%ENSAEl``, ``%%ENSAEb`` and both ``%ENSAE``, ``%%ENSAE``."
      ]
    },
    {
      "cell_type": "code",
      "execution_count": 1,
      "metadata": {
        "collapsed": true
      },
      "outputs": [],
      "source": [
        "from ensae_teaching_cs.mypython.custom_magics import register_magics\n",
        "register_magics()"
      ]
    },
    {
      "cell_type": "markdown",
      "metadata": {},
      "source": [
        "The code of ``ENSAEl`` is available on [ensae_teaching_cs/mypython/custom_magics.py](https://github.com/sdpython/ensae_teaching_cs/blob/master/src/ensae_teaching_cs/mypython/custom_magics.py#L17)."
      ]
    },
    {
      "cell_type": "code",
      "execution_count": 2,
      "metadata": {},
      "outputs": [
        {
          "data": {
            "text/html": [
              "<a href=\"http://www.xavierdupre.fr/app/ensae_teaching_cs/helpsphinx/index.html\">ENSAE TD</a>"
            ],
            "text/plain": [
              "<IPython.core.display.HTML object>"
            ]
          },
          "execution_count": 3,
          "metadata": {},
          "output_type": "execute_result"
        }
      ],
      "source": [
        "%ENSAEl site"
      ]
    },
    {
      "cell_type": "markdown",
      "metadata": {},
      "source": [
        "The code of ``ENSAE`` is also available on [ensae_teaching_cs/mypython/custom_magics.py](https://github.com/sdpython/ensae_teaching_cs/blob/master/src/ensae_teaching_cs/mypython/custom_magics.py#L47)."
      ]
    },
    {
      "cell_type": "code",
      "execution_count": 4,
      "metadata": {},
      "outputs": [
        {
          "data": {
            "text/html": [
              "<a href=\"http://www.xavierdupre.fr/blog/xd_blog_nojs.html\">blog</a>"
            ],
            "text/plain": [
              "<IPython.core.display.HTML object>"
            ]
          },
          "execution_count": 5,
          "metadata": {},
          "output_type": "execute_result"
        }
      ],
      "source": [
        "%ENSAE blog"
      ]
    },
    {
      "cell_type": "markdown",
      "metadata": {},
      "source": [
        "You can download a file:"
      ]
    },
    {
      "cell_type": "code",
      "execution_count": 6,
      "metadata": {},
      "outputs": [
        {
          "data": {
            "text/plain": [
              "'stations.txt'"
            ]
          },
          "execution_count": 7,
          "metadata": {},
          "output_type": "execute_result"
        }
      ],
      "source": [
        "%ENSAE download stations.txt"
      ]
    },
    {
      "cell_type": "markdown",
      "metadata": {},
      "source": [
        "Will you be able to make yours?"
      ]
    },
    {
      "cell_type": "code",
      "execution_count": 8,
      "metadata": {
        "collapsed": true
      },
      "outputs": [],
      "source": []
    }
  ],
  "metadata": {
    "kernelspec": {
      "display_name": "Python 3",
      "language": "python",
      "name": "python3"
    },
    "language_info": {
      "codemirror_mode": {
        "name": "ipython",
        "version": 3
      },
      "file_extension": ".py",
      "mimetype": "text/x-python",
      "name": "python",
      "nbconvert_exporter": "python",
      "pygments_lexer": "ipython3",
      "version": "3.6.1"
    }
  },
  "nbformat": 4,
  "nbformat_minor": 1
}