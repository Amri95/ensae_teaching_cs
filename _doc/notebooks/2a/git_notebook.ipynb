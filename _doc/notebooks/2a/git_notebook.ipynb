{
  "cells": [
    {
      "cell_type": "markdown",
      "metadata": {},
      "source": [
        "# 2A.soft - Git depuis le notebook\n",
        "\n",
        "[Git](http://fr.wikipedia.org/wiki/Git) est un logiciel de suivi de source d\u00e9centralis\u00e9 qui permet de travailler \u00e0 plusieurs sur les m\u00eames fichiers. Aujourd'hui, on ne cr\u00e9e plus de logiciels sans ce type d'outil qui permet de garder l'historique des modifications apport\u00e9es \u00e0 un programme. [Git](http://fr.wikipedia.org/wiki/Git) a supplant\u00e9 tous les autres logiciels du m\u00eame type."
      ]
    },
    {
      "cell_type": "code",
      "execution_count": null,
      "metadata": {},
      "outputs": [
        {
          "data": {
            "text/html": [
              "<div id=\"my_id_menu_nb\">run previous cell, wait for 2 seconds</div>\n",
              "<script>\n",
              "function repeat_indent_string(n){\n",
              "    var a = \"\" ;\n",
              "    for ( ; n > 0 ; --n)\n",
              "        a += \"    \";\n",
              "    return a;\n",
              "}\n",
              "var update_menu_string = function(begin, lfirst, llast, sformat, send, keep_item, begin_format, end_format) {\n",
              "    var anchors = document.getElementsByClassName(\"section\");\n",
              "    if (anchors.length == 0) {\n",
              "        anchors = document.getElementsByClassName(\"text_cell_render rendered_html\");\n",
              "    }\n",
              "    var i,t;\n",
              "    var text_menu = begin;\n",
              "    var text_memo = \"<pre>\\nlength:\" + anchors.length + \"\\n\";\n",
              "    var ind = \"\";\n",
              "    var memo_level = 1;\n",
              "    var href;\n",
              "    var tags = [];\n",
              "    var main_item = 0;\n",
              "    var format_open = 0;\n",
              "    for (i = 0; i <= llast; i++)\n",
              "        tags.push(\"h\" + i);\n",
              "\n",
              "    for (i = 0; i < anchors.length; i++) {\n",
              "        text_memo += \"**\" + anchors[i].id + \"--\\n\";\n",
              "\n",
              "        var child = null;\n",
              "        for(t = 0; t < tags.length; t++) {\n",
              "            var r = anchors[i].getElementsByTagName(tags[t]);\n",
              "            if (r.length > 0) {\n",
              "child = r[0];\n",
              "break;\n",
              "            }\n",
              "        }\n",
              "        if (child == null) {\n",
              "            text_memo += \"null\\n\";\n",
              "            continue;\n",
              "        }\n",
              "        if (anchors[i].hasAttribute(\"id\")) {\n",
              "            // when converted in RST\n",
              "            href = anchors[i].id;\n",
              "            text_memo += \"#1-\" + href;\n",
              "            // passer \u00e0 child suivant (le chercher)\n",
              "        }\n",
              "        else if (child.hasAttribute(\"id\")) {\n",
              "            // in a notebook\n",
              "            href = child.id;\n",
              "            text_memo += \"#2-\" + href;\n",
              "        }\n",
              "        else {\n",
              "            text_memo += \"#3-\" + \"*\" + \"\\n\";\n",
              "            continue;\n",
              "        }\n",
              "        var title = child.textContent;\n",
              "        var level = parseInt(child.tagName.substring(1,2));\n",
              "\n",
              "        text_memo += \"--\" + level + \"?\" + lfirst + \"--\" + title + \"\\n\";\n",
              "\n",
              "        if ((level < lfirst) || (level > llast)) {\n",
              "            continue ;\n",
              "        }\n",
              "        if (title.endsWith('\u00b6')) {\n",
              "            title = title.substring(0,title.length-1).replace(\"<\", \"&lt;\")\n",
              "         .replace(\">\", \"&gt;\").replace(\"&\", \"&amp;\");\n",
              "        }\n",
              "        if (title.length == 0) {\n",
              "            continue;\n",
              "        }\n",
              "\n",
              "        while (level < memo_level) {\n",
              "            text_menu += end_format + \"</ul>\\n\";\n",
              "            format_open -= 1;\n",
              "            memo_level -= 1;\n",
              "        }\n",
              "        if (level == lfirst) {\n",
              "            main_item += 1;\n",
              "        }\n",
              "        if (keep_item != -1 && main_item != keep_item + 1) {\n",
              "            // alert(main_item + \" - \" + level + \" - \" + keep_item);\n",
              "            continue;\n",
              "        }\n",
              "        while (level > memo_level) {\n",
              "            text_menu += \"<ul>\\n\";\n",
              "            memo_level += 1;\n",
              "        }\n",
              "        text_menu += repeat_indent_string(level-2);\n",
              "        text_menu += begin_format + sformat.replace(\"__HREF__\", href).replace(\"__TITLE__\", title);\n",
              "        format_open += 1;\n",
              "    }\n",
              "    while (1 < memo_level) {\n",
              "        text_menu += end_format + \"</ul>\\n\";\n",
              "        memo_level -= 1;\n",
              "        format_open -= 1;\n",
              "    }\n",
              "    text_menu += send;\n",
              "    //text_menu += \"\\n\" + text_memo;\n",
              "\n",
              "    while (format_open > 0) {\n",
              "        text_menu += end_format;\n",
              "        format_open -= 1;\n",
              "    }\n",
              "    return text_menu;\n",
              "};\n",
              "var update_menu = function() {\n",
              "    var sbegin = \"\";\n",
              "    var sformat = '<a href=\"#__HREF__\">__TITLE__</a>';\n",
              "    var send = \"\";\n",
              "    var begin_format = '<li>';\n",
              "    var end_format = '</li>';\n",
              "    var keep_item = -1;\n",
              "    var text_menu = update_menu_string(sbegin, 2, 4, sformat, send, keep_item,\n",
              "       begin_format, end_format);\n",
              "    var menu = document.getElementById(\"my_id_menu_nb\");\n",
              "    menu.innerHTML=text_menu;\n",
              "};\n",
              "window.setTimeout(update_menu,2000);\n",
              "            </script>"
            ],
            "text/plain": [
              "<IPython.core.display.HTML object>"
            ]
          },
          "execution_count": null,
          "metadata": {},
          "output_type": "execute_result"
        }
      ],
      "source": [
        "from jyquickhelper import add_notebook_menu\n",
        "add_notebook_menu()"
      ]
    },
    {
      "cell_type": "markdown",
      "metadata": {},
      "source": [
        " On v\u00e9rifie qu'il fonctionne :"
      ]
    },
    {
      "cell_type": "code",
      "execution_count": null,
      "metadata": {},
      "outputs": [
        {
          "name": "stdout",
          "output_type": "stream",
          "text": [
            "usage: git [--version] [--help] [-C <path>] [-c name=value]\n",
            "           [--exec-path[=<path>]] [--html-path] [--man-path] [--info-path]\n",
            "           [-p|--paginate|--no-pager] [--no-replace-objects] [--bare]\n",
            "           [--git-dir=<path>] [--work-tree=<path>] [--namespace=<name>]\n",
            "           <command> [<args>]\n",
            "\n",
            "The most commonly used git commands are:\n",
            "   add        Add file contents to the index\n",
            "   bisect     Find by binary search the change that introduced a bug\n",
            "   branch     List, create, or delete branches\n",
            "   checkout   Checkout a branch or paths to the working tree\n",
            "   clone      Clone a repository into a new directory\n",
            "   commit     Record changes to the repository\n",
            "   diff       Show changes between commits, commit and working tree, etc\n",
            "   fetch      Download objects and refs from another repository\n",
            "   grep       Print lines matching a pattern\n",
            "   init       Create an empty Git repository or reinitialize an existing one\n",
            "   log        Show commit logs\n",
            "   merge      Join two or more development histories together\n",
            "   mv         Move or rename a file, a directory, or a symlink\n",
            "   pull       Fetch from and integrate with another repository or a local branch\n",
            "   push       Update remote refs along with associated objects\n",
            "   rebase     Forward-port local commits to the updated upstream head\n",
            "   reset      Reset current HEAD to the specified state\n",
            "   rm         Remove files from the working tree and from the index\n",
            "   show       Show various types of objects\n",
            "   status     Show the working tree status\n",
            "   tag        Create, list, delete or verify a tag object signed with GPG\n",
            "\n",
            "'git help -a' and 'git help -g' lists available subcommands and some\n",
            "concept guides. See 'git help <command>' or 'git help <concept>'\n",
            "to read about a specific subcommand or concept.\n"
          ]
        }
      ],
      "source": [
        "!git"
      ]
    },
    {
      "cell_type": "markdown",
      "metadata": {},
      "source": [
        "Si cela ne fonctionne pas, cela signifie que soit [git](http://git-scm.com/) n'est pas install\u00e9, soit le notebook ne trouve pas le chemin o\u00f9 il est install\u00e9. Dans le premier cas, il suffit de l'installer puis de relancer le serveur de notebook pour prendre en compte les modifications. Dans le second cas, on peut s'en tirer avec une astuce du style :"
      ]
    },
    {
      "cell_type": "code",
      "execution_count": null,
      "metadata": {
        "collapsed": true
      },
      "outputs": [],
      "source": [
        "!set PATH=%PATH%;chemin_git"
      ]
    },
    {
      "cell_type": "markdown",
      "metadata": {},
      "source": [
        "Dans son utilisation la plus simple, *git* permet de synchroniser un ensemble de fichiers entre plusieurs ordinateurs et utilisateurs :"
      ]
    },
    {
      "cell_type": "code",
      "execution_count": null,
      "metadata": {},
      "outputs": [
        {
          "data": {
            "image/png": "[encoded data removed]",
            "text/plain": [
              "<IPython.core.display.Image at 0x7d7d390>"
            ]
          },
          "execution_count": null,
          "metadata": {},
          "output_type": "execute_result"
        }
      ],
      "source": [
        "import pyquickhelper\n",
        "pyquickhelper.NbImage(\"gits.png\")"
      ]
    },
    {
      "cell_type": "markdown",
      "metadata": {},
      "source": [
        "Par la suite, il faudra remplacer ``SERVEURGIT`` par le nom du serveur *git* (le serveur de l'\u00e9cole, github, bitbucket, ...)."
      ]
    },
    {
      "cell_type": "markdown",
      "metadata": {},
      "source": [
        "## Cr\u00e9ation d'un r\u00e9pertoire\n",
        "\n",
        "On cr\u00e9e un projet afin de pouvoir y ajouter des fichiers et de suivre leur modifications. Cette op\u00e9ration ne devra \u00eatre r\u00e9alis\u00e9 qu'une seule fois. On cr\u00e9e ce projet dans le r\u00e9pertoire : ``c:\\temp\\premier_projet``. On cr\u00e9e ce r\u00e9pertoire puis on change le r\u00e9pertoire courant pour celui-ci :"
      ]
    },
    {
      "cell_type": "code",
      "execution_count": null,
      "metadata": {
        "collapsed": true
      },
      "outputs": [],
      "source": [
        "import os\n",
        "folder = r\"c:/temp/premier_projet3\"\n",
        "if not os.path.exists(folder): os.mkdir(folder)"
      ]
    },
    {
      "cell_type": "markdown",
      "metadata": {},
      "source": [
        "On initialise le r\u00e9pertoire :"
      ]
    },
    {
      "cell_type": "code",
      "execution_count": null,
      "metadata": {},
      "outputs": [
        {
          "name": "stdout",
          "output_type": "stream",
          "text": [
            "Initialized empty Git repository in c:/temp/premier_projet3/.git/\n"
          ]
        }
      ],
      "source": [
        "!git init c:/temp/premier_projet3"
      ]
    },
    {
      "cell_type": "markdown",
      "metadata": {},
      "source": [
        "## Premiers fichiers"
      ]
    },
    {
      "cell_type": "markdown",
      "metadata": {},
      "source": [
        "On ajoute un premier fichier ``README.md`` :"
      ]
    },
    {
      "cell_type": "code",
      "execution_count": null,
      "metadata": {},
      "outputs": [
        {
          "name": "stdout",
          "output_type": "stream",
          "text": [
            "Writing c:/temp/premier_projet3/README.md\n"
          ]
        }
      ],
      "source": [
        "%%file c:/temp/premier_projet3/README.md\n",
        "    \n",
        "Premier Projet\n",
        "==============\n",
        "\n",
        "* quelques listes"
      ]
    },
    {
      "cell_type": "markdown",
      "metadata": {},
      "source": [
        "On copie ce notebook \u00e9galement :"
      ]
    },
    {
      "cell_type": "code",
      "execution_count": null,
      "metadata": {},
      "outputs": [
        {
          "name": "stdout",
          "output_type": "stream",
          "text": [
            "        1 fichier(s) copie(s).\n"
          ]
        }
      ],
      "source": [
        "!copy git_notebook.ipynb c:\\temp\\premier_projet3"
      ]
    },
    {
      "cell_type": "markdown",
      "metadata": {},
      "source": [
        "Git est beaucoup plus facile \u00e0 utiliser si on se place dans le rep\u00e9rtoire du projet :"
      ]
    },
    {
      "cell_type": "code",
      "execution_count": null,
      "metadata": {
        "collapsed": true
      },
      "outputs": [],
      "source": [
        "import os\n",
        "os.chdir(\"c:/temp/premier_projet3/\")"
      ]
    },
    {
      "cell_type": "markdown",
      "metadata": {},
      "source": [
        "Il faut pr\u00e9ciser \u00e0 *git* les fichiers qu'on souhaite ajouter o\u00f9 dont on souhaite enregister les modifications :"
      ]
    },
    {
      "cell_type": "code",
      "execution_count": null,
      "metadata": {
        "collapsed": true
      },
      "outputs": [],
      "source": [
        "!git add README.md\n",
        "!git add git_notebook.ipynb"
      ]
    },
    {
      "cell_type": "markdown",
      "metadata": {},
      "source": [
        "On enregistre ces modifications avec un commentaire :"
      ]
    },
    {
      "cell_type": "code",
      "execution_count": null,
      "metadata": {},
      "outputs": [
        {
          "name": "stdout",
          "output_type": "stream",
          "text": [
            "[master (root-commit) 152b34d] premier fichier et premier notebook\n",
            " 2 files changed, 344 insertions(+)\n",
            " create mode 100644 README.md\n",
            " create mode 100644 git_notebook.ipynb\n"
          ]
        }
      ],
      "source": [
        "!git commit -m \"premier fichier et premier notebook\""
      ]
    },
    {
      "cell_type": "markdown",
      "metadata": {},
      "source": [
        "Ces modifications n'ont d'incidence que sur la copie en locale et n'ont pas encore \u00e9t\u00e9 propag\u00e9es jusqu'au serveur. On le fait en ex\u00e9cutant les deux instructions suivantes. La premi\u00e8re pr\u00e9cise dans quel r\u00e9pertoire du serveur *git* on souhaite ajouter les modifications. Il suffit en principe de ne le faire qu'une fois."
      ]
    },
    {
      "cell_type": "code",
      "execution_count": null,
      "metadata": {
        "collapsed": true
      },
      "outputs": [],
      "source": [
        "!git remote add origin https://dupre@SERVEURGIT/dupre/premier_projet3.git"
      ]
    },
    {
      "cell_type": "markdown",
      "metadata": {},
      "source": [
        "Si vous vous \u00eates tromp\u00e9, vous pouvez revenir en arri\u00e8re avec :"
      ]
    },
    {
      "cell_type": "code",
      "execution_count": null,
      "metadata": {
        "collapsed": true
      },
      "outputs": [],
      "source": [
        "!git remote remove origin"
      ]
    },
    {
      "cell_type": "markdown",
      "metadata": {},
      "source": [
        "La seconde propage les modifications :"
      ]
    },
    {
      "cell_type": "code",
      "execution_count": null,
      "metadata": {},
      "outputs": [
        {
          "name": "stderr",
          "output_type": "stream",
          "text": [
            "remote: Not Found\n",
            "fatal: repository 'https://SERVEURGIT/dupre/premier_projet3.git/' not found\n"
          ]
        }
      ],
      "source": [
        "!git push -u origin master"
      ]
    },
    {
      "cell_type": "markdown",
      "metadata": {},
      "source": [
        "Si vous avez l'erreur pr\u00e9c\u00e9dente, c'est parce que le r\u00e9pertoire du projet n'a pas \u00e9t\u00e9 cr\u00e9\u00e9 sur le serveur git. Je vous conseille de le faire directement sur le serveur lui-m\u00eame (petit ic\u00f4ne + en haut \u00e0 droite sur un serveur [GitLab](https://about.gitlab.com/)) :"
      ]
    },
    {
      "cell_type": "code",
      "execution_count": null,
      "metadata": {},
      "outputs": [
        {
          "data": {
            "image/png": "[encoded data removed]",
            "text/plain": [
              "<IPython.core.display.Image at 0x83871f0>"
            ]
          },
          "execution_count": null,
          "metadata": {},
          "output_type": "execute_result"
        }
      ],
      "source": [
        "from pyquickhelper.helpgen import NbImage\n",
        "NbImage(\"gitsp.png\")"
      ]
    },
    {
      "cell_type": "markdown",
      "metadata": {},
      "source": [
        "On recommence, de pr\u00e9f\u00e9rence dans la fen\u00eatre de ligne de commande car sinon il faudra taper le mot de passe depuis la fen\u00eatre du serveur de notebook et ce n'est pas toujours \u00e9vident de ne pas se tromper."
      ]
    },
    {
      "cell_type": "code",
      "execution_count": null,
      "metadata": {
        "collapsed": true
      },
      "outputs": [],
      "source": [
        "!git push -u origin master"
      ]
    },
    {
      "cell_type": "markdown",
      "metadata": {},
      "source": [
        "Les fichiers devrait \u00eatre sur le serveur. Pour enregistrer d'autres modifications faite dans le r\u00e9pertoire local, il suffit de recommencer \u00e0 partir de l'instruction ``git add``."
      ]
    },
    {
      "cell_type": "markdown",
      "metadata": {},
      "source": [
        "## Cloner un r\u00e9pertoire\n",
        "\n",
        "Pour r\u00e9cup\u00e9rer les fichiers chez soi. Il faut cloner le r\u00e9pertoire, par exemple dans un autre r\u00e9pertoire local."
      ]
    },
    {
      "cell_type": "code",
      "execution_count": null,
      "metadata": {
        "collapsed": true
      },
      "outputs": [],
      "source": [
        "import os\n",
        "folder = r\"c:\\temp\\projet3_copy\"\n",
        "if not os.path.exists(folder): os.mkdir(folder)"
      ]
    },
    {
      "cell_type": "markdown",
      "metadata": {},
      "source": [
        "Puis taper la commande dans ce r\u00e9pertoire (de pr\u00e9f\u00e9rence depuis la ligne de commande s'il y a besoin de s'authentifier)."
      ]
    },
    {
      "cell_type": "code",
      "execution_count": null,
      "metadata": {
        "collapsed": true
      },
      "outputs": [],
      "source": [
        "!git clone https://SERVEURGIT/dupre/premier_projet3.git/"
      ]
    },
    {
      "cell_type": "code",
      "execution_count": null,
      "metadata": {},
      "outputs": [
        {
          "data": {
            "text/plain": [
              "['premier_projet3']"
            ]
          },
          "execution_count": null,
          "metadata": {},
          "output_type": "execute_result"
        }
      ],
      "source": [
        "import os\n",
        "os.listdir(r\"C:\\temp\\projet3_copy\")"
      ]
    },
    {
      "cell_type": "markdown",
      "metadata": {},
      "source": [
        "Pour apporter les modifications sur le serveur *git*, il faut retourner aux instructions ``git add`` vues pr\u00e9c\u00e9demment."
      ]
    },
    {
      "cell_type": "markdown",
      "metadata": {},
      "source": [
        "## Mettre \u00e0 jour un r\u00e9pertoire local\n",
        "\n",
        "Lorqu'on met \u00e0 jour le serveur distant *git* depuis une copie locale, il est pr\u00e9f\u00e9rable de mettre \u00e0 jour les autres copies locales avant de pouvoir les modifier. Il vaut mieux ex\u00e9cuter la commande depuis une ligne de commande s'il faut s'authentifier."
      ]
    },
    {
      "cell_type": "code",
      "execution_count": null,
      "metadata": {
        "collapsed": true
      },
      "outputs": [],
      "source": [
        "!git pull https://SERVEURGIT/dupre/premier_projet3.git/"
      ]
    },
    {
      "cell_type": "markdown",
      "metadata": {},
      "source": [
        "## Branches\n",
        "\n",
        "Le sc\u00e9nario classique pour travailler \u00e0 plusieurs. On suppose qu'il existe un *repository* remote appel\u00e9 *origin*. C'est le cas le plus classique quand on clone un r\u00e9pertoire de sources.\n",
        "\n",
        "* On met \u00e0 jour la branche principal : ``git pull`` (local = remote)\n",
        "* On cr\u00e9e une branche local : ``git checkout -b name/branch``\n",
        "* On fait sa modification.\n",
        "* On commit. ``git add`` + ``git commit -m \"...\"``\n",
        "* On met \u00e0 jour le remote en cr\u00e9ant aussi une branche l\u00e0-bas : ``git push -u origin name/branch``.\n",
        "* On envoie une [pull request](https://help.github.com/articles/about-pull-requests/).\n",
        "* Le d\u00e9tenteur de la branche principale accepte ou vous demande des modifications.\n",
        "* On d\u00e9truit la branche une fois que les modifications sont faites ``git branch -d name/branch``.\n",
        "\n",
        "Si la branche ``master`` est mise \u00e0 jour pendant que vous travaillez \u00e0 la v\u00f4tre, ``git pull origin master`` rappatriera les modifications."
      ]
    },
    {
      "cell_type": "markdown",
      "metadata": {},
      "source": [
        "## Pour aller plus loin"
      ]
    },
    {
      "cell_type": "markdown",
      "metadata": {},
      "source": [
        "On peut faire beaucoup de choses avec *git* comme cr\u00e9er des branches, des tags, revenir \u00e0 en arri\u00e8re... La documentation sur git est assez pl\u00e9thorique sur internet [tutoriels sur git](http://sixrevisions.com/resources/git-tutorials-beginners/) et il existe des [client git](http://git-scm.com/download/gui/linux). [TortoiseGit](https://code.google.com/p/tortoisegit/) est l'un des plus simples. Ces outils permettent de se servir de *git* sans ligne de commande, juste avec la souris et l'exporateur de fichiers."
      ]
    },
    {
      "cell_type": "code",
      "execution_count": null,
      "metadata": {
        "collapsed": true
      },
      "outputs": [],
      "source": []
    }
  ],
  "metadata": {
    "kernelspec": {
      "display_name": "Python 3",
      "language": "python",
      "name": "python3"
    },
    "language_info": {
      "codemirror_mode": {
        "name": "ipython",
        "version": 3
      },
      "file_extension": ".py",
      "mimetype": "text/x-python",
      "name": "python",
      "nbconvert_exporter": "python",
      "pygments_lexer": "ipython3",
      "version": "3.6.1"
    }
  },
  "nbformat": 4,
  "nbformat_minor": 1
}