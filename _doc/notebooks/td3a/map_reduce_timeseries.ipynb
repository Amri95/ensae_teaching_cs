{
 "cells": [
  {
   "cell_type": "markdown",
   "metadata": {},
   "source": [
    "# 3A.mr - Séries temporelles et map reduce\n",
    "\n",
    "Map/Reduce est un concept qui permet de distribuer les données facilement si elles sont indépendantes. C'est une condition qu'une série temporelle ne vérifie pas du fait de la dépendance temporelle. Voyons ce que cela change."
   ]
  },
  {
   "cell_type": "code",
   "execution_count": 1,
   "metadata": {
    "ExecuteTime": {
     "end_time": "2016-11-06T15:12:27.577069",
     "start_time": "2016-11-06T15:12:27.568568"
    }
   },
   "outputs": [
    {
     "data": {
      "text/html": [
       "<div id=\"my_id_menu_nb\">run previous cell, wait for 2 seconds</div>\n",
       "<script>\n",
       "function repeat_indent_string(n){\n",
       "    var a = \"\" ;\n",
       "    for ( ; n > 0 ; --n)\n",
       "        a += \"    \";\n",
       "    return a;\n",
       "}\n",
       "var update_menu_string = function(begin, lfirst, llast, sformat, send, keep_item, begin_format, end_format) {\n",
       "    var anchors = document.getElementsByClassName(\"section\");\n",
       "    if (anchors.length == 0) {\n",
       "        anchors = document.getElementsByClassName(\"text_cell_render rendered_html\");\n",
       "    }\n",
       "    var i,t;\n",
       "    var text_menu = begin;\n",
       "    var text_memo = \"<pre>\\nlength:\" + anchors.length + \"\\n\";\n",
       "    var ind = \"\";\n",
       "    var memo_level = 1;\n",
       "    var href;\n",
       "    var tags = [];\n",
       "    var main_item = 0;\n",
       "    var format_open = 0;\n",
       "    for (i = 0; i <= llast; i++)\n",
       "        tags.push(\"h\" + i);\n",
       "\n",
       "    for (i = 0; i < anchors.length; i++) {\n",
       "        text_memo += \"**\" + anchors[i].id + \"--\\n\";\n",
       "\n",
       "        var child = null;\n",
       "        for(t = 0; t < tags.length; t++) {\n",
       "            var r = anchors[i].getElementsByTagName(tags[t]);\n",
       "            if (r.length > 0) {\n",
       "child = r[0];\n",
       "break;\n",
       "            }\n",
       "        }\n",
       "        if (child == null) {\n",
       "            text_memo += \"null\\n\";\n",
       "            continue;\n",
       "        }\n",
       "        if (anchors[i].hasAttribute(\"id\")) {\n",
       "            // when converted in RST\n",
       "            href = anchors[i].id;\n",
       "            text_memo += \"#1-\" + href;\n",
       "            // passer à child suivant (le chercher)\n",
       "        }\n",
       "        else if (child.hasAttribute(\"id\")) {\n",
       "            // in a notebook\n",
       "            href = child.id;\n",
       "            text_memo += \"#2-\" + href;\n",
       "        }\n",
       "        else {\n",
       "            text_memo += \"#3-\" + \"*\" + \"\\n\";\n",
       "            continue;\n",
       "        }\n",
       "        var title = child.textContent;\n",
       "        var level = parseInt(child.tagName.substring(1,2));\n",
       "\n",
       "        text_memo += \"--\" + level + \"?\" + lfirst + \"--\" + title + \"\\n\";\n",
       "\n",
       "        if ((level < lfirst) || (level > llast)) {\n",
       "            continue ;\n",
       "        }\n",
       "        if (title.endsWith('¶')) {\n",
       "            title = title.substring(0,title.length-1).replace(\"<\", \"&lt;\")\n",
       "         .replace(\">\", \"&gt;\").replace(\"&\", \"&amp;\");\n",
       "        }\n",
       "        if (title.length == 0) {\n",
       "            continue;\n",
       "        }\n",
       "\n",
       "        while (level < memo_level) {\n",
       "            text_menu += end_format + \"</ul>\\n\";\n",
       "            format_open -= 1;\n",
       "            memo_level -= 1;\n",
       "        }\n",
       "        if (level == lfirst) {\n",
       "            main_item += 1;\n",
       "        }\n",
       "        if (keep_item != -1 && main_item != keep_item + 1) {\n",
       "            // alert(main_item + \" - \" + level + \" - \" + keep_item);\n",
       "            continue;\n",
       "        }\n",
       "        while (level > memo_level) {\n",
       "            text_menu += \"<ul>\\n\";\n",
       "            memo_level += 1;\n",
       "        }\n",
       "        text_menu += repeat_indent_string(level-2);\n",
       "        text_menu += begin_format + sformat.replace(\"__HREF__\", href).replace(\"__TITLE__\", title);\n",
       "        format_open += 1;\n",
       "    }\n",
       "    while (1 < memo_level) {\n",
       "        text_menu += end_format + \"</ul>\\n\";\n",
       "        memo_level -= 1;\n",
       "        format_open -= 1;\n",
       "    }\n",
       "    text_menu += send;\n",
       "    //text_menu += \"\\n\" + text_memo;\n",
       "\n",
       "    while (format_open > 0) {\n",
       "        text_menu += end_format;\n",
       "        format_open -= 1;\n",
       "    }\n",
       "    return text_menu;\n",
       "};\n",
       "var update_menu = function() {\n",
       "    var sbegin = \"\";\n",
       "    var sformat = '<a href=\"#__HREF__\">__TITLE__</a>';\n",
       "    var send = \"\";\n",
       "    var begin_format = '<li>';\n",
       "    var end_format = '</li>';\n",
       "    var keep_item = -1;\n",
       "    var text_menu = update_menu_string(sbegin, 2, 4, sformat, send, keep_item,\n",
       "       begin_format, end_format);\n",
       "    var menu = document.getElementById(\"my_id_menu_nb\");\n",
       "    menu.innerHTML=text_menu;\n",
       "};\n",
       "window.setTimeout(update_menu,2000);\n",
       "            </script>"
      ],
      "text/plain": [
       "<IPython.core.display.HTML object>"
      ]
     },
     "execution_count": 2,
     "metadata": {},
     "output_type": "execute_result"
    }
   ],
   "source": [
    "from jyquickhelper import add_notebook_menu\n",
    "add_notebook_menu()"
   ]
  },
  {
   "cell_type": "code",
   "execution_count": 1,
   "metadata": {},
   "outputs": [],
   "source": [
    "# Répare une incompatibilité entre scipy 1.0 et statsmodels 0.8.\n",
    "from pymyinstall.fix import fix_scipy10_for_statsmodels08\n",
    "fix_scipy10_for_statsmodels08()"
   ]
  },
  {
   "cell_type": "markdown",
   "metadata": {},
   "source": [
    "On souhaite simplement calculer la dérivée de la série temporelle : $\\Delta Y_t = Y_t - Y_{t-1}$."
   ]
  },
  {
   "cell_type": "code",
   "execution_count": 2,
   "metadata": {
    "ExecuteTime": {
     "end_time": "2016-11-06T13:23:09.162438",
     "start_time": "2016-11-06T13:23:08.659707"
    },
    "collapsed": true
   },
   "outputs": [],
   "source": [
    "%matplotlib inline"
   ]
  },
  {
   "cell_type": "markdown",
   "metadata": {
    "ExecuteTime": {
     "end_time": "2016-11-05T23:12:25.652561",
     "start_time": "2016-11-05T23:12:25.627558"
    }
   },
   "source": [
    "## Data"
   ]
  },
  {
   "cell_type": "code",
   "execution_count": 3,
   "metadata": {
    "ExecuteTime": {
     "end_time": "2016-11-06T13:23:09.625559",
     "start_time": "2016-11-06T13:23:09.167444"
    }
   },
   "outputs": [
    {
     "data": {
      "text/html": [
       "<div>\n",
       "<style>\n",
       "    .dataframe thead tr:only-child th {\n",
       "        text-align: right;\n",
       "    }\n",
       "\n",
       "    .dataframe thead th {\n",
       "        text-align: left;\n",
       "    }\n",
       "\n",
       "    .dataframe tbody tr th {\n",
       "        vertical-align: top;\n",
       "    }\n",
       "</style>\n",
       "<table border=\"1\" class=\"dataframe\">\n",
       "  <thead>\n",
       "    <tr style=\"text-align: right;\">\n",
       "      <th></th>\n",
       "      <th>Date</th>\n",
       "      <th>Open</th>\n",
       "      <th>High</th>\n",
       "      <th>Low</th>\n",
       "      <th>Close</th>\n",
       "      <th>Volume</th>\n",
       "    </tr>\n",
       "    <tr>\n",
       "      <th>Date</th>\n",
       "      <th></th>\n",
       "      <th></th>\n",
       "      <th></th>\n",
       "      <th></th>\n",
       "      <th></th>\n",
       "      <th></th>\n",
       "    </tr>\n",
       "  </thead>\n",
       "  <tbody>\n",
       "    <tr>\n",
       "      <th>2017-05-24</th>\n",
       "      <td>2017-05-24</td>\n",
       "      <td>68.87</td>\n",
       "      <td>68.88</td>\n",
       "      <td>68.45</td>\n",
       "      <td>68.77</td>\n",
       "      <td>14666865</td>\n",
       "    </tr>\n",
       "    <tr>\n",
       "      <th>2017-05-25</th>\n",
       "      <td>2017-05-25</td>\n",
       "      <td>68.97</td>\n",
       "      <td>69.88</td>\n",
       "      <td>68.91</td>\n",
       "      <td>69.62</td>\n",
       "      <td>21854095</td>\n",
       "    </tr>\n",
       "    <tr>\n",
       "      <th>2017-05-26</th>\n",
       "      <td>2017-05-26</td>\n",
       "      <td>69.80</td>\n",
       "      <td>70.22</td>\n",
       "      <td>69.52</td>\n",
       "      <td>69.96</td>\n",
       "      <td>19827923</td>\n",
       "    </tr>\n",
       "    <tr>\n",
       "      <th>2017-05-30</th>\n",
       "      <td>2017-05-30</td>\n",
       "      <td>69.79</td>\n",
       "      <td>70.41</td>\n",
       "      <td>69.77</td>\n",
       "      <td>70.41</td>\n",
       "      <td>17072838</td>\n",
       "    </tr>\n",
       "    <tr>\n",
       "      <th>2017-05-31</th>\n",
       "      <td>2017-05-31</td>\n",
       "      <td>70.53</td>\n",
       "      <td>70.74</td>\n",
       "      <td>69.81</td>\n",
       "      <td>69.84</td>\n",
       "      <td>30291492</td>\n",
       "    </tr>\n",
       "  </tbody>\n",
       "</table>\n",
       "</div>"
      ],
      "text/plain": [
       "                  Date   Open   High    Low  Close    Volume\n",
       "Date                                                        \n",
       "2017-05-24  2017-05-24  68.87  68.88  68.45  68.77  14666865\n",
       "2017-05-25  2017-05-25  68.97  69.88  68.91  69.62  21854095\n",
       "2017-05-26  2017-05-26  69.80  70.22  69.52  69.96  19827923\n",
       "2017-05-30  2017-05-30  69.79  70.41  69.77  70.41  17072838\n",
       "2017-05-31  2017-05-31  70.53  70.74  69.81  69.84  30291492"
      ]
     },
     "execution_count": 4,
     "metadata": {},
     "output_type": "execute_result"
    }
   ],
   "source": [
    "from pyensae.finance import StockPrices\n",
    "stock = StockPrices(\"NASDAQ:MSFT\", folder=\".\")\n",
    "stock.tail()"
   ]
  },
  {
   "cell_type": "markdown",
   "metadata": {},
   "source": [
    "On crée une colonne supplémentaire pour l'indice $t$ de la série temporelle :"
   ]
  },
  {
   "cell_type": "code",
   "execution_count": 4,
   "metadata": {
    "ExecuteTime": {
     "end_time": "2016-11-06T13:23:09.646555",
     "start_time": "2016-11-06T13:23:09.629556"
    }
   },
   "outputs": [
    {
     "data": {
      "text/html": [
       "<div>\n",
       "<style>\n",
       "    .dataframe thead tr:only-child th {\n",
       "        text-align: right;\n",
       "    }\n",
       "\n",
       "    .dataframe thead th {\n",
       "        text-align: left;\n",
       "    }\n",
       "\n",
       "    .dataframe tbody tr th {\n",
       "        vertical-align: top;\n",
       "    }\n",
       "</style>\n",
       "<table border=\"1\" class=\"dataframe\">\n",
       "  <thead>\n",
       "    <tr style=\"text-align: right;\">\n",
       "      <th></th>\n",
       "      <th>Close</th>\n",
       "    </tr>\n",
       "  </thead>\n",
       "  <tbody>\n",
       "    <tr>\n",
       "      <th>3995</th>\n",
       "      <td>68.77</td>\n",
       "    </tr>\n",
       "    <tr>\n",
       "      <th>3996</th>\n",
       "      <td>69.62</td>\n",
       "    </tr>\n",
       "    <tr>\n",
       "      <th>3997</th>\n",
       "      <td>69.96</td>\n",
       "    </tr>\n",
       "    <tr>\n",
       "      <th>3998</th>\n",
       "      <td>70.41</td>\n",
       "    </tr>\n",
       "    <tr>\n",
       "      <th>3999</th>\n",
       "      <td>69.84</td>\n",
       "    </tr>\n",
       "  </tbody>\n",
       "</table>\n",
       "</div>"
      ],
      "text/plain": [
       "      Close\n",
       "3995  68.77\n",
       "3996  69.62\n",
       "3997  69.96\n",
       "3998  70.41\n",
       "3999  69.84"
      ]
     },
     "execution_count": 5,
     "metadata": {},
     "output_type": "execute_result"
    }
   ],
   "source": [
    "dt = stock.df()\n",
    "dt = dt[[\"Close\"]]\n",
    "dt = dt.reset_index(drop=True)\n",
    "data = dt\n",
    "dt.tail()"
   ]
  },
  {
   "cell_type": "markdown",
   "metadata": {},
   "source": [
    "La fonction [shift](http://pandas.pydata.org/pandas-docs/stable/generated/pandas.DataFrame.shift.html) rend le calcul très simple avec pandas."
   ]
  },
  {
   "cell_type": "code",
   "execution_count": 5,
   "metadata": {
    "ExecuteTime": {
     "end_time": "2016-11-06T13:23:09.686066",
     "start_time": "2016-11-06T13:23:09.650558"
    }
   },
   "outputs": [
    {
     "data": {
      "text/html": [
       "<div>\n",
       "<style>\n",
       "    .dataframe thead tr:only-child th {\n",
       "        text-align: right;\n",
       "    }\n",
       "\n",
       "    .dataframe thead th {\n",
       "        text-align: left;\n",
       "    }\n",
       "\n",
       "    .dataframe tbody tr th {\n",
       "        vertical-align: top;\n",
       "    }\n",
       "</style>\n",
       "<table border=\"1\" class=\"dataframe\">\n",
       "  <thead>\n",
       "    <tr style=\"text-align: right;\">\n",
       "      <th></th>\n",
       "      <th>Close</th>\n",
       "      <th>Close2</th>\n",
       "      <th>delta</th>\n",
       "    </tr>\n",
       "  </thead>\n",
       "  <tbody>\n",
       "    <tr>\n",
       "      <th>3995</th>\n",
       "      <td>68.77</td>\n",
       "      <td>68.68</td>\n",
       "      <td>0.09</td>\n",
       "    </tr>\n",
       "    <tr>\n",
       "      <th>3996</th>\n",
       "      <td>69.62</td>\n",
       "      <td>68.77</td>\n",
       "      <td>0.85</td>\n",
       "    </tr>\n",
       "    <tr>\n",
       "      <th>3997</th>\n",
       "      <td>69.96</td>\n",
       "      <td>69.62</td>\n",
       "      <td>0.34</td>\n",
       "    </tr>\n",
       "    <tr>\n",
       "      <th>3998</th>\n",
       "      <td>70.41</td>\n",
       "      <td>69.96</td>\n",
       "      <td>0.45</td>\n",
       "    </tr>\n",
       "    <tr>\n",
       "      <th>3999</th>\n",
       "      <td>69.84</td>\n",
       "      <td>70.41</td>\n",
       "      <td>-0.57</td>\n",
       "    </tr>\n",
       "  </tbody>\n",
       "</table>\n",
       "</div>"
      ],
      "text/plain": [
       "      Close  Close2  delta\n",
       "3995  68.77   68.68   0.09\n",
       "3996  69.62   68.77   0.85\n",
       "3997  69.96   69.62   0.34\n",
       "3998  70.41   69.96   0.45\n",
       "3999  69.84   70.41  -0.57"
      ]
     },
     "execution_count": 6,
     "metadata": {},
     "output_type": "execute_result"
    }
   ],
   "source": [
    "data_pandas = data.copy()\n",
    "data_pandas[\"Close2\"] = data.shift(1)\n",
    "data_pandas[\"delta\"] = data_pandas[\"Close\"] - data_pandas[\"Close2\"]\n",
    "data_pandas.tail()"
   ]
  },
  {
   "cell_type": "markdown",
   "metadata": {},
   "source": [
    "La fonction est très rapide car elle utilise l'ordre des données et son index. Pour s'en passer, on ajoute une colonne qui contient l'index original puis on mélange pour simuler le fait qu'en map/reduce, l'ordre des informations n'est pas connu à l'avance."
   ]
  },
  {
   "cell_type": "code",
   "execution_count": 6,
   "metadata": {
    "ExecuteTime": {
     "end_time": "2016-11-06T13:23:09.719069",
     "start_time": "2016-11-06T13:23:09.689067"
    }
   },
   "outputs": [
    {
     "data": {
      "text/html": [
       "<div>\n",
       "<style>\n",
       "    .dataframe thead tr:only-child th {\n",
       "        text-align: right;\n",
       "    }\n",
       "\n",
       "    .dataframe thead th {\n",
       "        text-align: left;\n",
       "    }\n",
       "\n",
       "    .dataframe tbody tr th {\n",
       "        vertical-align: top;\n",
       "    }\n",
       "</style>\n",
       "<table border=\"1\" class=\"dataframe\">\n",
       "  <thead>\n",
       "    <tr style=\"text-align: right;\">\n",
       "      <th></th>\n",
       "      <th>t</th>\n",
       "      <th>close</th>\n",
       "    </tr>\n",
       "  </thead>\n",
       "  <tbody>\n",
       "    <tr>\n",
       "      <th>3995</th>\n",
       "      <td>548</td>\n",
       "      <td>28.34</td>\n",
       "    </tr>\n",
       "    <tr>\n",
       "      <th>3996</th>\n",
       "      <td>294</td>\n",
       "      <td>24.90</td>\n",
       "    </tr>\n",
       "    <tr>\n",
       "      <th>3997</th>\n",
       "      <td>3222</td>\n",
       "      <td>40.40</td>\n",
       "    </tr>\n",
       "    <tr>\n",
       "      <th>3998</th>\n",
       "      <td>478</td>\n",
       "      <td>24.87</td>\n",
       "    </tr>\n",
       "    <tr>\n",
       "      <th>3999</th>\n",
       "      <td>1112</td>\n",
       "      <td>27.75</td>\n",
       "    </tr>\n",
       "  </tbody>\n",
       "</table>\n",
       "</div>"
      ],
      "text/plain": [
       "         t  close\n",
       "3995   548  28.34\n",
       "3996   294  24.90\n",
       "3997  3222  40.40\n",
       "3998   478  24.87\n",
       "3999  1112  27.75"
      ]
     },
     "execution_count": 7,
     "metadata": {},
     "output_type": "execute_result"
    }
   ],
   "source": [
    "import numpy\n",
    "data = dt.reindex(numpy.random.permutation(data.index))\n",
    "data = data.reset_index(drop=False)\n",
    "data.columns = [\"t\", \"close\"]\n",
    "data.tail()"
   ]
  },
  {
   "cell_type": "markdown",
   "metadata": {},
   "source": [
    "## Dérivée avec pandas"
   ]
  },
  {
   "cell_type": "markdown",
   "metadata": {},
   "source": [
    "Le traitement de chaque ligne est indépendant et ne doit pas prendre en compte aucune autre ligne mais on a besoin de $Y_{t-1}$ pour calculer $\\Delta Y_t$. "
   ]
  },
  {
   "cell_type": "code",
   "execution_count": 7,
   "metadata": {
    "ExecuteTime": {
     "end_time": "2016-11-06T13:23:09.744065",
     "start_time": "2016-11-06T13:23:09.723070"
    },
    "collapsed": true
   },
   "outputs": [],
   "source": [
    "data[\"tt\"] = data[\"t\"] - 1 "
   ]
  },
  {
   "cell_type": "markdown",
   "metadata": {},
   "source": [
    "### méthode efficace\n",
    "\n",
    "Lors d'une jointure, [pandas](http://pandas.pydata.org/) va trier chaque côté de la jointure par ordre croissant de clé. S'il y a $N$ observations, cela a un coût de $N\\ln N$, il réalise ensuite une fusion des deux bases en ne considérant que les lignes partageant la même clé. Cette façon de faire ne convient que lorsqu'on fait une jointure avec une condition n'incluant que des ET logique et des égalités."
   ]
  },
  {
   "cell_type": "code",
   "execution_count": 8,
   "metadata": {
    "ExecuteTime": {
     "end_time": "2016-11-06T13:23:09.782092",
     "start_time": "2016-11-06T13:23:09.747575"
    }
   },
   "outputs": [
    {
     "data": {
      "text/html": [
       "<div>\n",
       "<style>\n",
       "    .dataframe thead tr:only-child th {\n",
       "        text-align: right;\n",
       "    }\n",
       "\n",
       "    .dataframe thead th {\n",
       "        text-align: left;\n",
       "    }\n",
       "\n",
       "    .dataframe tbody tr th {\n",
       "        vertical-align: top;\n",
       "    }\n",
       "</style>\n",
       "<table border=\"1\" class=\"dataframe\">\n",
       "  <thead>\n",
       "    <tr style=\"text-align: right;\">\n",
       "      <th></th>\n",
       "      <th>t</th>\n",
       "      <th>close</th>\n",
       "      <th>tt</th>\n",
       "      <th>t2</th>\n",
       "      <th>close2</th>\n",
       "      <th>tt2</th>\n",
       "    </tr>\n",
       "  </thead>\n",
       "  <tbody>\n",
       "    <tr>\n",
       "      <th>3994</th>\n",
       "      <td>548</td>\n",
       "      <td>28.34</td>\n",
       "      <td>547</td>\n",
       "      <td>549</td>\n",
       "      <td>28.36</td>\n",
       "      <td>548</td>\n",
       "    </tr>\n",
       "    <tr>\n",
       "      <th>3995</th>\n",
       "      <td>294</td>\n",
       "      <td>24.90</td>\n",
       "      <td>293</td>\n",
       "      <td>295</td>\n",
       "      <td>24.29</td>\n",
       "      <td>294</td>\n",
       "    </tr>\n",
       "    <tr>\n",
       "      <th>3996</th>\n",
       "      <td>3222</td>\n",
       "      <td>40.40</td>\n",
       "      <td>3221</td>\n",
       "      <td>3223</td>\n",
       "      <td>40.00</td>\n",
       "      <td>3222</td>\n",
       "    </tr>\n",
       "    <tr>\n",
       "      <th>3997</th>\n",
       "      <td>478</td>\n",
       "      <td>24.87</td>\n",
       "      <td>477</td>\n",
       "      <td>479</td>\n",
       "      <td>24.09</td>\n",
       "      <td>478</td>\n",
       "    </tr>\n",
       "    <tr>\n",
       "      <th>3998</th>\n",
       "      <td>1112</td>\n",
       "      <td>27.75</td>\n",
       "      <td>1111</td>\n",
       "      <td>1113</td>\n",
       "      <td>27.69</td>\n",
       "      <td>1112</td>\n",
       "    </tr>\n",
       "  </tbody>\n",
       "</table>\n",
       "</div>"
      ],
      "text/plain": [
       "         t  close    tt    t2  close2   tt2\n",
       "3994   548  28.34   547   549   28.36   548\n",
       "3995   294  24.90   293   295   24.29   294\n",
       "3996  3222  40.40  3221  3223   40.00  3222\n",
       "3997   478  24.87   477   479   24.09   478\n",
       "3998  1112  27.75  1111  1113   27.69  1112"
      ]
     },
     "execution_count": 9,
     "metadata": {},
     "output_type": "execute_result"
    }
   ],
   "source": [
    "join = data.merge(data, left_on=\"t\", right_on=\"tt\", suffixes=(\"\", \"2\"))\n",
    "join.tail()"
   ]
  },
  {
   "cell_type": "code",
   "execution_count": 9,
   "metadata": {
    "ExecuteTime": {
     "end_time": "2016-11-06T13:23:09.815090",
     "start_time": "2016-11-06T13:23:09.786095"
    }
   },
   "outputs": [
    {
     "data": {
      "text/html": [
       "<div>\n",
       "<style>\n",
       "    .dataframe thead tr:only-child th {\n",
       "        text-align: right;\n",
       "    }\n",
       "\n",
       "    .dataframe thead th {\n",
       "        text-align: left;\n",
       "    }\n",
       "\n",
       "    .dataframe tbody tr th {\n",
       "        vertical-align: top;\n",
       "    }\n",
       "</style>\n",
       "<table border=\"1\" class=\"dataframe\">\n",
       "  <thead>\n",
       "    <tr style=\"text-align: right;\">\n",
       "      <th></th>\n",
       "      <th>t</th>\n",
       "      <th>close</th>\n",
       "      <th>tt</th>\n",
       "      <th>t2</th>\n",
       "      <th>close2</th>\n",
       "      <th>tt2</th>\n",
       "      <th>derivee</th>\n",
       "    </tr>\n",
       "  </thead>\n",
       "  <tbody>\n",
       "    <tr>\n",
       "      <th>3994</th>\n",
       "      <td>548</td>\n",
       "      <td>28.34</td>\n",
       "      <td>547</td>\n",
       "      <td>549</td>\n",
       "      <td>28.36</td>\n",
       "      <td>548</td>\n",
       "      <td>-0.02</td>\n",
       "    </tr>\n",
       "    <tr>\n",
       "      <th>3995</th>\n",
       "      <td>294</td>\n",
       "      <td>24.90</td>\n",
       "      <td>293</td>\n",
       "      <td>295</td>\n",
       "      <td>24.29</td>\n",
       "      <td>294</td>\n",
       "      <td>0.61</td>\n",
       "    </tr>\n",
       "    <tr>\n",
       "      <th>3996</th>\n",
       "      <td>3222</td>\n",
       "      <td>40.40</td>\n",
       "      <td>3221</td>\n",
       "      <td>3223</td>\n",
       "      <td>40.00</td>\n",
       "      <td>3222</td>\n",
       "      <td>0.40</td>\n",
       "    </tr>\n",
       "    <tr>\n",
       "      <th>3997</th>\n",
       "      <td>478</td>\n",
       "      <td>24.87</td>\n",
       "      <td>477</td>\n",
       "      <td>479</td>\n",
       "      <td>24.09</td>\n",
       "      <td>478</td>\n",
       "      <td>0.78</td>\n",
       "    </tr>\n",
       "    <tr>\n",
       "      <th>3998</th>\n",
       "      <td>1112</td>\n",
       "      <td>27.75</td>\n",
       "      <td>1111</td>\n",
       "      <td>1113</td>\n",
       "      <td>27.69</td>\n",
       "      <td>1112</td>\n",
       "      <td>0.06</td>\n",
       "    </tr>\n",
       "  </tbody>\n",
       "</table>\n",
       "</div>"
      ],
      "text/plain": [
       "         t  close    tt    t2  close2   tt2  derivee\n",
       "3994   548  28.34   547   549   28.36   548    -0.02\n",
       "3995   294  24.90   293   295   24.29   294     0.61\n",
       "3996  3222  40.40  3221  3223   40.00  3222     0.40\n",
       "3997   478  24.87   477   479   24.09   478     0.78\n",
       "3998  1112  27.75  1111  1113   27.69  1112     0.06"
      ]
     },
     "execution_count": 10,
     "metadata": {},
     "output_type": "execute_result"
    }
   ],
   "source": [
    "derivee = join.copy()\n",
    "derivee[\"derivee\"] = derivee[\"close\"] - derivee[\"close2\"]\n",
    "derivee.tail()"
   ]
  },
  {
   "cell_type": "markdown",
   "metadata": {},
   "source": [
    "En résumé :"
   ]
  },
  {
   "cell_type": "code",
   "execution_count": 10,
   "metadata": {
    "ExecuteTime": {
     "end_time": "2016-11-06T13:23:09.866116",
     "start_time": "2016-11-06T13:23:09.821092"
    }
   },
   "outputs": [
    {
     "name": "stdout",
     "output_type": "stream",
     "text": [
      "(3999, 7)\n"
     ]
    },
    {
     "data": {
      "text/html": [
       "<div>\n",
       "<style>\n",
       "    .dataframe thead tr:only-child th {\n",
       "        text-align: right;\n",
       "    }\n",
       "\n",
       "    .dataframe thead th {\n",
       "        text-align: left;\n",
       "    }\n",
       "\n",
       "    .dataframe tbody tr th {\n",
       "        vertical-align: top;\n",
       "    }\n",
       "</style>\n",
       "<table border=\"1\" class=\"dataframe\">\n",
       "  <thead>\n",
       "    <tr style=\"text-align: right;\">\n",
       "      <th></th>\n",
       "      <th>t</th>\n",
       "      <th>close</th>\n",
       "      <th>tt</th>\n",
       "      <th>t2</th>\n",
       "      <th>close2</th>\n",
       "      <th>tt2</th>\n",
       "      <th>derivee</th>\n",
       "    </tr>\n",
       "  </thead>\n",
       "  <tbody>\n",
       "    <tr>\n",
       "      <th>3994</th>\n",
       "      <td>548</td>\n",
       "      <td>28.34</td>\n",
       "      <td>549</td>\n",
       "      <td>547</td>\n",
       "      <td>27.84</td>\n",
       "      <td>548</td>\n",
       "      <td>0.50</td>\n",
       "    </tr>\n",
       "    <tr>\n",
       "      <th>3995</th>\n",
       "      <td>294</td>\n",
       "      <td>24.90</td>\n",
       "      <td>295</td>\n",
       "      <td>293</td>\n",
       "      <td>24.35</td>\n",
       "      <td>294</td>\n",
       "      <td>0.55</td>\n",
       "    </tr>\n",
       "    <tr>\n",
       "      <th>3996</th>\n",
       "      <td>3222</td>\n",
       "      <td>40.40</td>\n",
       "      <td>3223</td>\n",
       "      <td>3221</td>\n",
       "      <td>40.51</td>\n",
       "      <td>3222</td>\n",
       "      <td>-0.11</td>\n",
       "    </tr>\n",
       "    <tr>\n",
       "      <th>3997</th>\n",
       "      <td>478</td>\n",
       "      <td>24.87</td>\n",
       "      <td>479</td>\n",
       "      <td>477</td>\n",
       "      <td>24.88</td>\n",
       "      <td>478</td>\n",
       "      <td>-0.01</td>\n",
       "    </tr>\n",
       "    <tr>\n",
       "      <th>3998</th>\n",
       "      <td>1112</td>\n",
       "      <td>27.75</td>\n",
       "      <td>1113</td>\n",
       "      <td>1111</td>\n",
       "      <td>27.69</td>\n",
       "      <td>1112</td>\n",
       "      <td>0.06</td>\n",
       "    </tr>\n",
       "  </tbody>\n",
       "</table>\n",
       "</div>"
      ],
      "text/plain": [
       "         t  close    tt    t2  close2   tt2  derivee\n",
       "3994   548  28.34   549   547   27.84   548     0.50\n",
       "3995   294  24.90   295   293   24.35   294     0.55\n",
       "3996  3222  40.40  3223  3221   40.51  3222    -0.11\n",
       "3997   478  24.87   479   477   24.88   478    -0.01\n",
       "3998  1112  27.75  1113  1111   27.69  1112     0.06"
      ]
     },
     "execution_count": 11,
     "metadata": {},
     "output_type": "execute_result"
    }
   ],
   "source": [
    "new_data = data.copy()\n",
    "new_data[\"tt\"] = new_data[\"t\"] + 1  # MAP\n",
    "new_data = new_data.merge(new_data, left_on=\"t\", right_on=\"tt\", suffixes=(\"\", \"2\")) # JOIN = SORT + MAP + REDUCE\n",
    "new_data[\"derivee\"] = new_data[\"close\"] - new_data[\"close2\"] # MAP\n",
    "print(new_data.shape)\n",
    "new_data.tail()"
   ]
  },
  {
   "cell_type": "markdown",
   "metadata": {},
   "source": [
    "### mesure de coût\n",
    "\n",
    "La série n'est pas assez longue pour observer la relation entre le temps de calcul et le nombre d'observations."
   ]
  },
  {
   "cell_type": "code",
   "execution_count": 11,
   "metadata": {
    "ExecuteTime": {
     "end_time": "2016-11-06T13:23:09.882625",
     "start_time": "2016-11-06T13:23:09.872114"
    },
    "collapsed": true
   },
   "outputs": [],
   "source": [
    "def derive(data):\n",
    "    new_data = data.copy()\n",
    "    new_data[\"tt\"] = new_data[\"t\"] + 1  # MAP\n",
    "    new_data = new_data.merge(new_data, left_on=\"t\", right_on=\"tt\", suffixes=(\"\", \"2\")) # JOIN = MAP + REDUCE\n",
    "    new_data[\"derivee\"] = new_data[\"close\"] - new_data[\"close2\"] # MAP\n",
    "    return new_data"
   ]
  },
  {
   "cell_type": "markdown",
   "metadata": {},
   "source": [
    "On choisit une régression linéaire de type [HuberRegressor](http://scikit-learn.org/stable/modules/generated/sklearn.linear_model.HuberRegressor.html#sklearn.linear_model.HuberRegressor) pour régresser $C(N) \\sim a N + b \\ln N + c N \\ln N + d$. Ce modèle est beaucoup moins sensible aux points aberrants que les autres formes de régressions. On utilise cette régression avec le module [RobustLinearModels](http://statsmodels.sourceforge.net/stable/rlm.html) du module *statsmodels* pour calculer les p-values"
   ]
  },
  {
   "cell_type": "code",
   "execution_count": 12,
   "metadata": {
    "ExecuteTime": {
     "end_time": "2016-11-06T13:23:15.446580",
     "start_time": "2016-11-06T13:23:09.886624"
    },
    "scrolled": false
   },
   "outputs": [
    {
     "name": "stderr",
     "output_type": "stream",
     "text": [
      "c:\\Python36_x64\\lib\\site-packages\\statsmodels\\compat\\pandas.py:56: FutureWarning: The pandas.core.datetools module is deprecated and will be removed in a future version. Please use the pandas.tseries module instead.\n",
      "  from pandas.core import datetools\n"
     ]
    },
    {
     "name": "stdout",
     "output_type": "stream",
     "text": [
      "(88,) <class 'pandas.core.series.Series'>\n",
      "                    Robust linear Model Regression Results                    \n",
      "==============================================================================\n",
      "Dep. Variable:        processing time   No. Observations:                   88\n",
      "Model:                            RLM   Df Residuals:                       84\n",
      "Method:                          IRLS   Df Model:                            3\n",
      "Norm:                          HuberT                                         \n",
      "Scale Est.:                       mad                                         \n",
      "Cov Type:                          H1                                         \n",
      "Date:                Thu, 01 Jun 2017                                         \n",
      "Time:                        00:52:10                                         \n",
      "No. Iterations:                    42                                         \n",
      "==============================================================================\n",
      "                 coef    std err          z      P>|z|      [0.025      0.975]\n",
      "------------------------------------------------------------------------------\n",
      "logN           0.0048      0.002      2.635      0.008       0.001       0.008\n",
      "N          -1.104e-05   4.52e-06     -2.445      0.015   -1.99e-05   -2.19e-06\n",
      "NlogN       2.691e-06   1.09e-06      2.462      0.014    5.48e-07    4.83e-06\n",
      "one           -0.0089      0.004     -2.081      0.037      -0.017      -0.001\n",
      "==============================================================================\n",
      "\n",
      "If the model instance has been used for another fit with different fit\n",
      "parameters, then the fit options might not be the correct ones anymore .\n"
     ]
    },
    {
     "data": {
      "text/plain": [
       "<matplotlib.axes._subplots.AxesSubplot at 0x285f6b0c7f0>"
      ]
     },
     "execution_count": 13,
     "metadata": {},
     "output_type": "execute_result"
    },
    {
     "data": {
      "image/png": "[encoded data removed]",
      "text/plain": [
       "<matplotlib.figure.Figure at 0x285f6b0b4a8>"
      ]
     },
     "metadata": {},
     "output_type": "display_data"
    }
   ],
   "source": [
    "import time, pandas, numpy, sklearn.linear_model as lin\n",
    "import matplotlib.pyplot as plt\n",
    "import statsmodels.api as smapi\n",
    "from random import randint\n",
    "\n",
    "def graph_cout(data, h=100, nb=10, add_n2=False, derive=derive):\n",
    "    dh = len(data) // h\n",
    "    res = []\n",
    "    for n in range(max(dh, 500), len(data), dh):\n",
    "        df = data[0:n+randint(-10,10)]\n",
    "        mean = []\n",
    "        for i in range(0, nb):\n",
    "            t = time.clock()\n",
    "            derive(df)\n",
    "            dt = time.clock() - t\n",
    "            mean.append(dt)\n",
    "        res.append((n, mean[len(mean)//2]))\n",
    "    # stat\n",
    "    stat = pandas.DataFrame(res, columns=[\"N\", \"processing time\"])\n",
    "    stat[\"logN\"] = numpy.log(stat[\"N\"]) / numpy.log(10)\n",
    "    stat[\"NlogN\"] = stat[\"N\"] * stat[\"logN\"]\n",
    "    stat[\"N2\"] = stat[\"N\"] * stat[\"N\"]\n",
    "    # statsmodels\n",
    "    stat[\"one\"] = 1\n",
    "    X = stat[[\"logN\", \"N\", \"NlogN\", \"N2\", \"one\"]]\n",
    "    if not add_n2:\n",
    "        X = X.drop(\"N2\", axis=1)\n",
    "    rlm_model = smapi.RLM(stat[\"processing time\"], X, M=smapi.robust.norms.HuberT())\n",
    "    rlm_results = rlm_model.fit()\n",
    "    yp = rlm_results.predict(X)\n",
    "    print(yp.shape, type(yp))\n",
    "    stat[\"smooth\"] = yp\n",
    "    # graph\n",
    "    fig, ax = plt.subplots()\n",
    "    stat.plot(x=\"N\", y=[\"processing time\", \"smooth\"], ax=ax)\n",
    "    return ax, rlm_results\n",
    "\n",
    "ax, results = graph_cout(data)\n",
    "print(results.summary())\n",
    "ax"
   ]
  },
  {
   "cell_type": "markdown",
   "metadata": {},
   "source": [
    "Le coût de l'algorithme est au moins linéaire. Cela signifie que le coût du calcul qu'on cherche à mesurer est noyé dans plein d'autres choses non négligeable. La valeur des coefficients n'indique pas grand chose car les variables $N$, $Nlog N$ évoluent sur des échelles différentes."
   ]
  },
  {
   "cell_type": "code",
   "execution_count": 13,
   "metadata": {
    "ExecuteTime": {
     "end_time": "2016-11-06T13:24:13.215086",
     "start_time": "2016-11-06T13:23:15.449584"
    }
   },
   "outputs": [
    {
     "name": "stdout",
     "output_type": "stream",
     "text": [
      "(24,) <class 'pandas.core.series.Series'>\n",
      "                    Robust linear Model Regression Results                    \n",
      "==============================================================================\n",
      "Dep. Variable:        processing time   No. Observations:                   24\n",
      "Model:                            RLM   Df Residuals:                       20\n",
      "Method:                          IRLS   Df Model:                            3\n",
      "Norm:                          HuberT                                         \n",
      "Scale Est.:                       mad                                         \n",
      "Cov Type:                          H1                                         \n",
      "Date:                Thu, 01 Jun 2017                                         \n",
      "Time:                        00:52:49                                         \n",
      "No. Iterations:                    23                                         \n",
      "==============================================================================\n",
      "                 coef    std err          z      P>|z|      [0.025      0.975]\n",
      "------------------------------------------------------------------------------\n",
      "logN          -0.0111      0.067     -0.168      0.867      -0.142       0.119\n",
      "N           2.533e-07   1.54e-06      0.165      0.869   -2.76e-06    3.27e-06\n",
      "NlogN       1.538e-08   2.41e-07      0.064      0.949   -4.57e-07    4.87e-07\n",
      "one            0.0503      0.298      0.169      0.866      -0.533       0.634\n",
      "==============================================================================\n",
      "\n",
      "If the model instance has been used for another fit with different fit\n",
      "parameters, then the fit options might not be the correct ones anymore .\n"
     ]
    },
    {
     "data": {
      "text/plain": [
       "<matplotlib.axes._subplots.AxesSubplot at 0x285f8d24400>"
      ]
     },
     "execution_count": 14,
     "metadata": {},
     "output_type": "execute_result"
    },
    {
     "data": {
      "image/png": "[encoded data removed]",
      "text/plain": [
       "<matplotlib.figure.Figure at 0x285f8d22ba8>"
      ]
     },
     "metadata": {},
     "output_type": "display_data"
    }
   ],
   "source": [
    "N = 1000000\n",
    "from random import random\n",
    "data2 = pandas.DataFrame({\"t\":range(0,N), \"close\": [random() for i in range(0, N)]})\n",
    "ax, stats = graph_cout(data2, h=25)\n",
    "print(stats.summary())\n",
    "ax"
   ]
  },
  {
   "cell_type": "markdown",
   "metadata": {},
   "source": [
    "Les résultats sont assez volatiles. Il faut regarder les intervalles de confiance et regarder lesquels n'incluent pas 0."
   ]
  },
  {
   "cell_type": "markdown",
   "metadata": {},
   "source": [
    "### méthode inefficace\n",
    "\n",
    "Dans ce cas, on fait un produit en croix de toutes les lignes de la bases avec elles-même puis on filtre le résultat pour ne garder que les lignes qui vérifient la condition souhaitée quelle qu'elle soit. Le temps d'exécution est en $O(N^2)$ et la différence est vite significative."
   ]
  },
  {
   "cell_type": "code",
   "execution_count": 14,
   "metadata": {
    "ExecuteTime": {
     "end_time": "2016-11-06T13:24:15.953347",
     "start_time": "2016-11-06T13:24:13.219084"
    }
   },
   "outputs": [
    {
     "name": "stdout",
     "output_type": "stream",
     "text": [
      "(16000000, 7)\n",
      "(4000, 7)\n"
     ]
    },
    {
     "data": {
      "text/html": [
       "<div>\n",
       "<style>\n",
       "    .dataframe thead tr:only-child th {\n",
       "        text-align: right;\n",
       "    }\n",
       "\n",
       "    .dataframe thead th {\n",
       "        text-align: left;\n",
       "    }\n",
       "\n",
       "    .dataframe tbody tr th {\n",
       "        vertical-align: top;\n",
       "    }\n",
       "</style>\n",
       "<table border=\"1\" class=\"dataframe\">\n",
       "  <thead>\n",
       "    <tr style=\"text-align: right;\">\n",
       "      <th></th>\n",
       "      <th>t</th>\n",
       "      <th>close</th>\n",
       "      <th>tt</th>\n",
       "      <th>key</th>\n",
       "      <th>t2</th>\n",
       "      <th>close2</th>\n",
       "      <th>tt2</th>\n",
       "      <th>derivee</th>\n",
       "    </tr>\n",
       "  </thead>\n",
       "  <tbody>\n",
       "    <tr>\n",
       "      <th>15983995</th>\n",
       "      <td>548</td>\n",
       "      <td>28.34</td>\n",
       "      <td>549</td>\n",
       "      <td>1</td>\n",
       "      <td>548</td>\n",
       "      <td>28.34</td>\n",
       "      <td>549</td>\n",
       "      <td>0</td>\n",
       "    </tr>\n",
       "    <tr>\n",
       "      <th>15987996</th>\n",
       "      <td>294</td>\n",
       "      <td>24.90</td>\n",
       "      <td>295</td>\n",
       "      <td>1</td>\n",
       "      <td>294</td>\n",
       "      <td>24.90</td>\n",
       "      <td>295</td>\n",
       "      <td>0</td>\n",
       "    </tr>\n",
       "    <tr>\n",
       "      <th>15991997</th>\n",
       "      <td>3222</td>\n",
       "      <td>40.40</td>\n",
       "      <td>3223</td>\n",
       "      <td>1</td>\n",
       "      <td>3222</td>\n",
       "      <td>40.40</td>\n",
       "      <td>3223</td>\n",
       "      <td>0</td>\n",
       "    </tr>\n",
       "    <tr>\n",
       "      <th>15995998</th>\n",
       "      <td>478</td>\n",
       "      <td>24.87</td>\n",
       "      <td>479</td>\n",
       "      <td>1</td>\n",
       "      <td>478</td>\n",
       "      <td>24.87</td>\n",
       "      <td>479</td>\n",
       "      <td>0</td>\n",
       "    </tr>\n",
       "    <tr>\n",
       "      <th>15999999</th>\n",
       "      <td>1112</td>\n",
       "      <td>27.75</td>\n",
       "      <td>1113</td>\n",
       "      <td>1</td>\n",
       "      <td>1112</td>\n",
       "      <td>27.75</td>\n",
       "      <td>1113</td>\n",
       "      <td>0</td>\n",
       "    </tr>\n",
       "  </tbody>\n",
       "</table>\n",
       "</div>"
      ],
      "text/plain": [
       "             t  close    tt  key    t2  close2   tt2  derivee\n",
       "15983995   548  28.34   549    1   548   28.34   549        0\n",
       "15987996   294  24.90   295    1   294   24.90   295        0\n",
       "15991997  3222  40.40  3223    1  3222   40.40  3223        0\n",
       "15995998   478  24.87   479    1   478   24.87   479        0\n",
       "15999999  1112  27.75  1113    1  1112   27.75  1113        0"
      ]
     },
     "execution_count": 15,
     "metadata": {},
     "output_type": "execute_result"
    }
   ],
   "source": [
    "new_data2 = data.copy()\n",
    "new_data2[\"tt\"] = new_data2[\"t\"] + 1  # MAP\n",
    "new_data2[\"key\"] = 1\n",
    "new_data2 = new_data2.merge(new_data2, on=\"key\", suffixes=(\"\", \"2\")) # JOIN = MAP^2\n",
    "print(new_data2.shape)\n",
    "new_data2 = new_data2[new_data2.t == new_data2.t2] # MAP\n",
    "print(new_data2.shape)\n",
    "new_data2[\"derivee\"] = new_data2[\"t\"] - new_data2[\"t2\"] # MAP\n",
    "new_data2.tail()"
   ]
  },
  {
   "cell_type": "markdown",
   "metadata": {},
   "source": [
    "### mesure de coût inefficace"
   ]
  },
  {
   "cell_type": "code",
   "execution_count": 15,
   "metadata": {
    "ExecuteTime": {
     "end_time": "2016-11-06T13:24:58.448545",
     "start_time": "2016-11-06T13:24:15.957346"
    }
   },
   "outputs": [
    {
     "name": "stdout",
     "output_type": "stream",
     "text": [
      "(9,) <class 'pandas.core.series.Series'>\n",
      "                    Robust linear Model Regression Results                    \n",
      "==============================================================================\n",
      "Dep. Variable:        processing time   No. Observations:                    9\n",
      "Model:                            RLM   Df Residuals:                        4\n",
      "Method:                          IRLS   Df Model:                            4\n",
      "Norm:                          HuberT                                         \n",
      "Scale Est.:                       mad                                         \n",
      "Cov Type:                          H1                                         \n",
      "Date:                Thu, 01 Jun 2017                                         \n",
      "Time:                        00:53:37                                         \n",
      "No. Iterations:                    50                                         \n",
      "==============================================================================\n",
      "                 coef    std err          z      P>|z|      [0.025      0.975]\n",
      "------------------------------------------------------------------------------\n",
      "logN          -4.0121      0.209    -19.179      0.000      -4.422      -3.602\n",
      "N              0.0234      0.001     22.624      0.000       0.021       0.025\n",
      "NlogN         -0.0066      0.000    -23.198      0.000      -0.007      -0.006\n",
      "N2          6.854e-07   1.81e-08     37.819      0.000     6.5e-07    7.21e-07\n",
      "one            7.9497      0.427     18.602      0.000       7.112       8.787\n",
      "==============================================================================\n",
      "\n",
      "If the model instance has been used for another fit with different fit\n",
      "parameters, then the fit options might not be the correct ones anymore .\n"
     ]
    },
    {
     "data": {
      "text/plain": [
       "<matplotlib.axes._subplots.AxesSubplot at 0x285f6aed358>"
      ]
     },
     "execution_count": 16,
     "metadata": {},
     "output_type": "execute_result"
    },
    {
     "data": {
      "image/png": "[encoded data removed]",
      "text/plain": [
       "<matplotlib.figure.Figure at 0x285f6abfbe0>"
      ]
     },
     "metadata": {},
     "output_type": "display_data"
    }
   ],
   "source": [
    "def derive_inefficace(data):\n",
    "    new_data2 = data.copy()\n",
    "    new_data2[\"tt\"] = new_data2[\"t\"] + 1\n",
    "    new_data2[\"key\"] = 1\n",
    "    new_data2 = new_data2.merge(new_data2, on=\"key\", suffixes=(\"\", \"2\"))\n",
    "    new_data2 = new_data2[new_data2.t == new_data2.t2]\n",
    "    new_data2[\"derivee\"] = new_data2[\"t\"] - new_data2[\"t2\"] # MAP\n",
    "    return new_data2\n",
    "\n",
    "ax, stats = graph_cout(data, h=10, nb=5, derive=derive_inefficace, add_n2=True)\n",
    "print(stats.summary())\n",
    "ax"
   ]
  },
  {
   "cell_type": "markdown",
   "metadata": {},
   "source": [
    "## avec des itérateurs"
   ]
  },
  {
   "cell_type": "markdown",
   "metadata": {},
   "source": [
    "### version efficace"
   ]
  },
  {
   "cell_type": "code",
   "execution_count": 16,
   "metadata": {
    "ExecuteTime": {
     "end_time": "2016-11-06T14:28:54.413236",
     "start_time": "2016-11-06T14:28:54.393235"
    }
   },
   "outputs": [
    {
     "data": {
      "text/plain": [
       "[Pandas(Index=0, t=2511, close=26.0),\n",
       " Pandas(Index=1, t=3958, close=65.859999999999999)]"
      ]
     },
     "execution_count": 17,
     "metadata": {},
     "output_type": "execute_result"
    }
   ],
   "source": [
    "rows = data[[\"t\", \"close\"]].itertuples()\n",
    "list(rows)[:2]"
   ]
  },
  {
   "cell_type": "code",
   "execution_count": 17,
   "metadata": {
    "ExecuteTime": {
     "end_time": "2016-11-06T14:30:53.321677",
     "start_time": "2016-11-06T14:30:53.295149"
    }
   },
   "outputs": [
    {
     "data": {
      "text/plain": [
       "[(2511, 26.0, 2512), (3958, 65.859999999999999, 3959)]"
      ]
     },
     "execution_count": 18,
     "metadata": {},
     "output_type": "execute_result"
    }
   ],
   "source": [
    "rows = data[[\"t\", \"close\"]].itertuples()\n",
    "rows = map(lambda r: (r.t, r.close, r.t+1), rows)\n",
    "list(rows)[:2]"
   ]
  },
  {
   "cell_type": "code",
   "execution_count": 18,
   "metadata": {
    "ExecuteTime": {
     "end_time": "2016-11-06T14:57:34.789576",
     "start_time": "2016-11-06T14:57:34.640557"
    }
   },
   "outputs": [
    {
     "data": {
      "text/plain": [
       "[(2510, 0.37999999999999901), (3957, 0.15000000000000568)]"
      ]
     },
     "execution_count": 19,
     "metadata": {},
     "output_type": "execute_result"
    }
   ],
   "source": [
    "import copy\n",
    "from cytoolz.itertoolz import join\n",
    "rows = data[[\"t\", \"close\"]].itertuples()\n",
    "rows = map(lambda r: (r.t, r.close, r.t+1), rows)\n",
    "rows = join(lambda t: t[2], rows, lambda t: t[0], copy.deepcopy(rows))\n",
    "rows = map(lambda tu: tu[0] + tu[1], rows)\n",
    "rows = map(lambda row: (row[0], row[4] - row[1]), rows)\n",
    "results = list(rows)\n",
    "results[:2]"
   ]
  },
  {
   "cell_type": "markdown",
   "metadata": {},
   "source": [
    "### version inefficace\n",
    "\n",
    "La méthode inefficace avec *pandas* est particulièrement inefficace car elle nécessite de stocker un tableau intermédiaire qui contient $N^2$ lignes."
   ]
  },
  {
   "cell_type": "code",
   "execution_count": 19,
   "metadata": {
    "ExecuteTime": {
     "end_time": "2016-11-06T15:12:15.082471",
     "start_time": "2016-11-06T15:12:04.361340"
    }
   },
   "outputs": [
    {
     "data": {
      "text/plain": [
       "[(2510, 0.37999999999999901),\n",
       " (3957, 0.15000000000000568),\n",
       " (3161, -1.3600000000000065),\n",
       " (358, 0.32999999999999829)]"
      ]
     },
     "execution_count": 20,
     "metadata": {},
     "output_type": "execute_result"
    }
   ],
   "source": [
    "import copy\n",
    "from cytoolz.itertoolz import join\n",
    "rows = data[[\"t\", \"close\"]].itertuples()\n",
    "rows = map(lambda r: (r.t, r.close, r.t+1, 1), rows)   # on ajoute 1\n",
    "rows = join(lambda t: t[-1], rows, lambda t: t[-1], copy.deepcopy(rows))  # on fait un produit croisé\n",
    "rows = map(lambda tu: tu[0] + tu[1], rows)\n",
    "rows = filter(lambda t: t[2] == t[4], rows)     # on filtre les lignes qui nous intéresse\n",
    "rows = map(lambda row: (row[0], row[5] - row[1]), rows)\n",
    "results = list(rows)   # c'est très lent\n",
    "results[:4]"
   ]
  },
  {
   "cell_type": "markdown",
   "metadata": {},
   "source": [
    "## avec SQL"
   ]
  },
  {
   "cell_type": "markdown",
   "metadata": {
    "collapsed": true
   },
   "source": [
    "### conversion du dataframe au format SQL"
   ]
  },
  {
   "cell_type": "code",
   "execution_count": 20,
   "metadata": {
    "ExecuteTime": {
     "end_time": "2016-11-06T13:24:58.489537",
     "start_time": "2016-11-06T13:24:58.452506"
    }
   },
   "outputs": [
    {
     "data": {
      "text/html": [
       "<div>\n",
       "<style>\n",
       "    .dataframe thead tr:only-child th {\n",
       "        text-align: right;\n",
       "    }\n",
       "\n",
       "    .dataframe thead th {\n",
       "        text-align: left;\n",
       "    }\n",
       "\n",
       "    .dataframe tbody tr th {\n",
       "        vertical-align: top;\n",
       "    }\n",
       "</style>\n",
       "<table border=\"1\" class=\"dataframe\">\n",
       "  <thead>\n",
       "    <tr style=\"text-align: right;\">\n",
       "      <th></th>\n",
       "      <th>t</th>\n",
       "      <th>Date</th>\n",
       "      <th>Open</th>\n",
       "      <th>High</th>\n",
       "      <th>Low</th>\n",
       "      <th>Close</th>\n",
       "      <th>Volume</th>\n",
       "    </tr>\n",
       "  </thead>\n",
       "  <tbody>\n",
       "    <tr>\n",
       "      <th>0</th>\n",
       "      <td>0</td>\n",
       "      <td>2001-07-05</td>\n",
       "      <td>35.11</td>\n",
       "      <td>35.36</td>\n",
       "      <td>34.22</td>\n",
       "      <td>34.26</td>\n",
       "      <td>47680400</td>\n",
       "    </tr>\n",
       "    <tr>\n",
       "      <th>1</th>\n",
       "      <td>1</td>\n",
       "      <td>2001-07-06</td>\n",
       "      <td>34.15</td>\n",
       "      <td>34.20</td>\n",
       "      <td>32.76</td>\n",
       "      <td>33.03</td>\n",
       "      <td>64697400</td>\n",
       "    </tr>\n",
       "    <tr>\n",
       "      <th>2</th>\n",
       "      <td>2</td>\n",
       "      <td>2001-07-09</td>\n",
       "      <td>33.10</td>\n",
       "      <td>33.46</td>\n",
       "      <td>32.52</td>\n",
       "      <td>32.84</td>\n",
       "      <td>65217200</td>\n",
       "    </tr>\n",
       "    <tr>\n",
       "      <th>3</th>\n",
       "      <td>3</td>\n",
       "      <td>2001-07-10</td>\n",
       "      <td>32.95</td>\n",
       "      <td>33.12</td>\n",
       "      <td>32.04</td>\n",
       "      <td>32.24</td>\n",
       "      <td>64222600</td>\n",
       "    </tr>\n",
       "    <tr>\n",
       "      <th>4</th>\n",
       "      <td>4</td>\n",
       "      <td>2001-07-11</td>\n",
       "      <td>32.10</td>\n",
       "      <td>33.51</td>\n",
       "      <td>32.10</td>\n",
       "      <td>33.25</td>\n",
       "      <td>65988600</td>\n",
       "    </tr>\n",
       "  </tbody>\n",
       "</table>\n",
       "</div>"
      ],
      "text/plain": [
       "   t        Date   Open   High    Low  Close    Volume\n",
       "0  0  2001-07-05  35.11  35.36  34.22  34.26  47680400\n",
       "1  1  2001-07-06  34.15  34.20  32.76  33.03  64697400\n",
       "2  2  2001-07-09  33.10  33.46  32.52  32.84  65217200\n",
       "3  3  2001-07-10  32.95  33.12  32.04  32.24  64222600\n",
       "4  4  2001-07-11  32.10  33.51  32.10  33.25  65988600"
      ]
     },
     "execution_count": 21,
     "metadata": {},
     "output_type": "execute_result"
    }
   ],
   "source": [
    "data = stock.df()\n",
    "data.columns = [_.replace(\" \", \"_\") for _ in data.columns]\n",
    "data = data.reset_index(drop=True).reset_index(drop=False)\n",
    "data.columns = [\"t\"] + list(data.columns[1:])\n",
    "data.head()"
   ]
  },
  {
   "cell_type": "code",
   "execution_count": 21,
   "metadata": {
    "ExecuteTime": {
     "end_time": "2016-11-06T13:24:58.636631",
     "start_time": "2016-11-06T13:24:58.493037"
    },
    "collapsed": true
   },
   "outputs": [],
   "source": [
    "import sqlite3\n",
    "con = sqlite3.connect(\":memory:\")\n",
    "tbl = data.to_sql(\"stock\", con, index=False)"
   ]
  },
  {
   "cell_type": "code",
   "execution_count": 22,
   "metadata": {
    "ExecuteTime": {
     "end_time": "2016-11-06T13:24:59.346212",
     "start_time": "2016-11-06T13:24:58.640635"
    }
   },
   "outputs": [
    {
     "name": "stderr",
     "output_type": "stream",
     "text": [
      "c:\\Python36_x64\\lib\\importlib\\_bootstrap.py:205: ImportWarning: can't resolve package from __spec__ or __package__, falling back on __name__ and __path__\n",
      "  return f(*args, **kwds)\n",
      "c:\\Python36_x64\\lib\\site-packages\\qgrid\\grid.py:224: DeprecationWarning: metadata {'sync': True} was set from the constructor. With traitlets 4.1, metadata should be set using the .tag() method, e.g., Int().tag(key1='value1', key2='value2')\n",
      "  _view_module = Unicode(\"nbextensions/qgridjs/qgrid.widget\", sync=True)\n"
     ]
    }
   ],
   "source": [
    "%load_ext pyensae"
   ]
  },
  {
   "cell_type": "code",
   "execution_count": 23,
   "metadata": {
    "ExecuteTime": {
     "end_time": "2016-11-06T13:24:59.365223",
     "start_time": "2016-11-06T13:24:59.349206"
    }
   },
   "outputs": [
    {
     "data": {
      "text/plain": [
       "['stock']"
      ]
     },
     "execution_count": 24,
     "metadata": {},
     "output_type": "execute_result"
    }
   ],
   "source": [
    "%SQL_tables -v con"
   ]
  },
  {
   "cell_type": "code",
   "execution_count": 24,
   "metadata": {
    "ExecuteTime": {
     "end_time": "2016-11-06T13:24:59.411221",
     "start_time": "2016-11-06T13:24:59.369223"
    }
   },
   "outputs": [
    {
     "data": {
      "text/html": [
       "<div>\n",
       "<style>\n",
       "    .dataframe thead tr:only-child th {\n",
       "        text-align: right;\n",
       "    }\n",
       "\n",
       "    .dataframe thead th {\n",
       "        text-align: left;\n",
       "    }\n",
       "\n",
       "    .dataframe tbody tr th {\n",
       "        vertical-align: top;\n",
       "    }\n",
       "</style>\n",
       "<table border=\"1\" class=\"dataframe\">\n",
       "  <thead>\n",
       "    <tr style=\"text-align: right;\">\n",
       "      <th></th>\n",
       "      <th>t</th>\n",
       "      <th>Date</th>\n",
       "      <th>Open</th>\n",
       "      <th>High</th>\n",
       "      <th>Low</th>\n",
       "      <th>Close</th>\n",
       "      <th>Volume</th>\n",
       "    </tr>\n",
       "  </thead>\n",
       "  <tbody>\n",
       "    <tr>\n",
       "      <th>0</th>\n",
       "      <td>0</td>\n",
       "      <td>2001-07-05</td>\n",
       "      <td>35.11</td>\n",
       "      <td>35.36</td>\n",
       "      <td>34.22</td>\n",
       "      <td>34.26</td>\n",
       "      <td>47680400</td>\n",
       "    </tr>\n",
       "    <tr>\n",
       "      <th>1</th>\n",
       "      <td>1</td>\n",
       "      <td>2001-07-06</td>\n",
       "      <td>34.15</td>\n",
       "      <td>34.20</td>\n",
       "      <td>32.76</td>\n",
       "      <td>33.03</td>\n",
       "      <td>64697400</td>\n",
       "    </tr>\n",
       "    <tr>\n",
       "      <th>2</th>\n",
       "      <td>2</td>\n",
       "      <td>2001-07-09</td>\n",
       "      <td>33.10</td>\n",
       "      <td>33.46</td>\n",
       "      <td>32.52</td>\n",
       "      <td>32.84</td>\n",
       "      <td>65217200</td>\n",
       "    </tr>\n",
       "    <tr>\n",
       "      <th>3</th>\n",
       "      <td>3</td>\n",
       "      <td>2001-07-10</td>\n",
       "      <td>32.95</td>\n",
       "      <td>33.12</td>\n",
       "      <td>32.04</td>\n",
       "      <td>32.24</td>\n",
       "      <td>64222600</td>\n",
       "    </tr>\n",
       "    <tr>\n",
       "      <th>4</th>\n",
       "      <td>4</td>\n",
       "      <td>2001-07-11</td>\n",
       "      <td>32.10</td>\n",
       "      <td>33.51</td>\n",
       "      <td>32.10</td>\n",
       "      <td>33.25</td>\n",
       "      <td>65988600</td>\n",
       "    </tr>\n",
       "  </tbody>\n",
       "</table>\n",
       "</div>"
      ],
      "text/plain": [
       "   t        Date   Open   High    Low  Close    Volume\n",
       "0  0  2001-07-05  35.11  35.36  34.22  34.26  47680400\n",
       "1  1  2001-07-06  34.15  34.20  32.76  33.03  64697400\n",
       "2  2  2001-07-09  33.10  33.46  32.52  32.84  65217200\n",
       "3  3  2001-07-10  32.95  33.12  32.04  32.24  64222600\n",
       "4  4  2001-07-11  32.10  33.51  32.10  33.25  65988600"
      ]
     },
     "execution_count": 25,
     "metadata": {},
     "output_type": "execute_result"
    }
   ],
   "source": [
    "%%SQL -v con\n",
    "\n",
    "SELECT * FROM stock LIMIT 5"
   ]
  },
  {
   "cell_type": "markdown",
   "metadata": {},
   "source": [
    "### version efficace\n",
    "\n",
    "L'instruction ``ON`` précise sur quelle ou quelles colonnes opérer la fusion. "
   ]
  },
  {
   "cell_type": "code",
   "execution_count": 25,
   "metadata": {
    "ExecuteTime": {
     "end_time": "2016-11-06T13:27:01.936905",
     "start_time": "2016-11-06T13:27:01.874362"
    }
   },
   "outputs": [
    {
     "data": {
      "text/html": [
       "<div>\n",
       "<style>\n",
       "    .dataframe thead tr:only-child th {\n",
       "        text-align: right;\n",
       "    }\n",
       "\n",
       "    .dataframe thead th {\n",
       "        text-align: left;\n",
       "    }\n",
       "\n",
       "    .dataframe tbody tr th {\n",
       "        vertical-align: top;\n",
       "    }\n",
       "</style>\n",
       "<table border=\"1\" class=\"dataframe\">\n",
       "  <thead>\n",
       "    <tr style=\"text-align: right;\">\n",
       "      <th></th>\n",
       "      <th>t</th>\n",
       "      <th>Close</th>\n",
       "      <th>tt</th>\n",
       "      <th>t2</th>\n",
       "      <th>Close2</th>\n",
       "      <th>tt2</th>\n",
       "    </tr>\n",
       "  </thead>\n",
       "  <tbody>\n",
       "    <tr>\n",
       "      <th>0</th>\n",
       "      <td>0</td>\n",
       "      <td>34.26</td>\n",
       "      <td>1</td>\n",
       "      <td>1</td>\n",
       "      <td>33.03</td>\n",
       "      <td>2</td>\n",
       "    </tr>\n",
       "    <tr>\n",
       "      <th>1</th>\n",
       "      <td>1</td>\n",
       "      <td>33.03</td>\n",
       "      <td>2</td>\n",
       "      <td>2</td>\n",
       "      <td>32.84</td>\n",
       "      <td>3</td>\n",
       "    </tr>\n",
       "    <tr>\n",
       "      <th>2</th>\n",
       "      <td>2</td>\n",
       "      <td>32.84</td>\n",
       "      <td>3</td>\n",
       "      <td>3</td>\n",
       "      <td>32.24</td>\n",
       "      <td>4</td>\n",
       "    </tr>\n",
       "    <tr>\n",
       "      <th>3</th>\n",
       "      <td>3</td>\n",
       "      <td>32.24</td>\n",
       "      <td>4</td>\n",
       "      <td>4</td>\n",
       "      <td>33.25</td>\n",
       "      <td>5</td>\n",
       "    </tr>\n",
       "    <tr>\n",
       "      <th>4</th>\n",
       "      <td>4</td>\n",
       "      <td>33.25</td>\n",
       "      <td>5</td>\n",
       "      <td>5</td>\n",
       "      <td>35.80</td>\n",
       "      <td>6</td>\n",
       "    </tr>\n",
       "    <tr>\n",
       "      <th>5</th>\n",
       "      <td>5</td>\n",
       "      <td>35.80</td>\n",
       "      <td>6</td>\n",
       "      <td>6</td>\n",
       "      <td>35.67</td>\n",
       "      <td>7</td>\n",
       "    </tr>\n",
       "    <tr>\n",
       "      <th>6</th>\n",
       "      <td>6</td>\n",
       "      <td>35.67</td>\n",
       "      <td>7</td>\n",
       "      <td>7</td>\n",
       "      <td>35.59</td>\n",
       "      <td>8</td>\n",
       "    </tr>\n",
       "    <tr>\n",
       "      <th>7</th>\n",
       "      <td>7</td>\n",
       "      <td>35.59</td>\n",
       "      <td>8</td>\n",
       "      <td>8</td>\n",
       "      <td>35.91</td>\n",
       "      <td>9</td>\n",
       "    </tr>\n",
       "    <tr>\n",
       "      <th>8</th>\n",
       "      <td>8</td>\n",
       "      <td>35.91</td>\n",
       "      <td>9</td>\n",
       "      <td>9</td>\n",
       "      <td>35.28</td>\n",
       "      <td>10</td>\n",
       "    </tr>\n",
       "    <tr>\n",
       "      <th>9</th>\n",
       "      <td>9</td>\n",
       "      <td>35.28</td>\n",
       "      <td>10</td>\n",
       "      <td>10</td>\n",
       "      <td>36.28</td>\n",
       "      <td>11</td>\n",
       "    </tr>\n",
       "  </tbody>\n",
       "</table>\n",
       "</div>"
      ],
      "text/plain": [
       "   t  Close  tt  t2  Close2  tt2\n",
       "0  0  34.26   1   1   33.03    2\n",
       "1  1  33.03   2   2   32.84    3\n",
       "2  2  32.84   3   3   32.24    4\n",
       "3  3  32.24   4   4   33.25    5\n",
       "4  4  33.25   5   5   35.80    6\n",
       "5  5  35.80   6   6   35.67    7\n",
       "6  6  35.67   7   7   35.59    8\n",
       "7  7  35.59   8   8   35.91    9\n",
       "8  8  35.91   9   9   35.28   10\n",
       "9  9  35.28  10  10   36.28   11"
      ]
     },
     "execution_count": 26,
     "metadata": {},
     "output_type": "execute_result"
    }
   ],
   "source": [
    "%%SQL -v con\n",
    "\n",
    "SELECT A.t AS t, A.Close AS Close, A.tt AS tt,\n",
    "       B.t AS t2, B.Close AS Close2, B.tt AS tt2\n",
    "FROM (\n",
    "    SELECT t, Close, t+1 AS tt FROM stock\n",
    "    ) AS A\n",
    "INNER JOIN (\n",
    "    SELECT t, Close, t+1 AS tt FROM stock\n",
    "    ) AS B\n",
    "ON A.tt == B.t"
   ]
  },
  {
   "cell_type": "markdown",
   "metadata": {},
   "source": [
    "### version inefficace\n",
    "\n",
    "Pour la version inefficace, l'instruction ``JOIN`` effectue tous les combinaisons de lignes possibles, soit $N^2$. Le mot-clé ``WHERE`` garde les couples de lignes qui nous intéresse."
   ]
  },
  {
   "cell_type": "code",
   "execution_count": 26,
   "metadata": {
    "ExecuteTime": {
     "end_time": "2016-11-06T14:08:43.948081",
     "start_time": "2016-11-06T14:08:41.336898"
    }
   },
   "outputs": [
    {
     "data": {
      "text/html": [
       "<div>\n",
       "<style>\n",
       "    .dataframe thead tr:only-child th {\n",
       "        text-align: right;\n",
       "    }\n",
       "\n",
       "    .dataframe thead th {\n",
       "        text-align: left;\n",
       "    }\n",
       "\n",
       "    .dataframe tbody tr th {\n",
       "        vertical-align: top;\n",
       "    }\n",
       "</style>\n",
       "<table border=\"1\" class=\"dataframe\">\n",
       "  <thead>\n",
       "    <tr style=\"text-align: right;\">\n",
       "      <th></th>\n",
       "      <th>t</th>\n",
       "      <th>Close</th>\n",
       "      <th>tt</th>\n",
       "      <th>t2</th>\n",
       "      <th>Close2</th>\n",
       "      <th>tt2</th>\n",
       "    </tr>\n",
       "  </thead>\n",
       "  <tbody>\n",
       "    <tr>\n",
       "      <th>0</th>\n",
       "      <td>0</td>\n",
       "      <td>34.26</td>\n",
       "      <td>1</td>\n",
       "      <td>1</td>\n",
       "      <td>33.03</td>\n",
       "      <td>2</td>\n",
       "    </tr>\n",
       "    <tr>\n",
       "      <th>1</th>\n",
       "      <td>1</td>\n",
       "      <td>33.03</td>\n",
       "      <td>2</td>\n",
       "      <td>2</td>\n",
       "      <td>32.84</td>\n",
       "      <td>3</td>\n",
       "    </tr>\n",
       "    <tr>\n",
       "      <th>2</th>\n",
       "      <td>2</td>\n",
       "      <td>32.84</td>\n",
       "      <td>3</td>\n",
       "      <td>3</td>\n",
       "      <td>32.24</td>\n",
       "      <td>4</td>\n",
       "    </tr>\n",
       "    <tr>\n",
       "      <th>3</th>\n",
       "      <td>3</td>\n",
       "      <td>32.24</td>\n",
       "      <td>4</td>\n",
       "      <td>4</td>\n",
       "      <td>33.25</td>\n",
       "      <td>5</td>\n",
       "    </tr>\n",
       "    <tr>\n",
       "      <th>4</th>\n",
       "      <td>4</td>\n",
       "      <td>33.25</td>\n",
       "      <td>5</td>\n",
       "      <td>5</td>\n",
       "      <td>35.80</td>\n",
       "      <td>6</td>\n",
       "    </tr>\n",
       "    <tr>\n",
       "      <th>5</th>\n",
       "      <td>5</td>\n",
       "      <td>35.80</td>\n",
       "      <td>6</td>\n",
       "      <td>6</td>\n",
       "      <td>35.67</td>\n",
       "      <td>7</td>\n",
       "    </tr>\n",
       "    <tr>\n",
       "      <th>6</th>\n",
       "      <td>6</td>\n",
       "      <td>35.67</td>\n",
       "      <td>7</td>\n",
       "      <td>7</td>\n",
       "      <td>35.59</td>\n",
       "      <td>8</td>\n",
       "    </tr>\n",
       "    <tr>\n",
       "      <th>7</th>\n",
       "      <td>7</td>\n",
       "      <td>35.59</td>\n",
       "      <td>8</td>\n",
       "      <td>8</td>\n",
       "      <td>35.91</td>\n",
       "      <td>9</td>\n",
       "    </tr>\n",
       "    <tr>\n",
       "      <th>8</th>\n",
       "      <td>8</td>\n",
       "      <td>35.91</td>\n",
       "      <td>9</td>\n",
       "      <td>9</td>\n",
       "      <td>35.28</td>\n",
       "      <td>10</td>\n",
       "    </tr>\n",
       "    <tr>\n",
       "      <th>9</th>\n",
       "      <td>9</td>\n",
       "      <td>35.28</td>\n",
       "      <td>10</td>\n",
       "      <td>10</td>\n",
       "      <td>36.28</td>\n",
       "      <td>11</td>\n",
       "    </tr>\n",
       "  </tbody>\n",
       "</table>\n",
       "</div>"
      ],
      "text/plain": [
       "   t  Close  tt  t2  Close2  tt2\n",
       "0  0  34.26   1   1   33.03    2\n",
       "1  1  33.03   2   2   32.84    3\n",
       "2  2  32.84   3   3   32.24    4\n",
       "3  3  32.24   4   4   33.25    5\n",
       "4  4  33.25   5   5   35.80    6\n",
       "5  5  35.80   6   6   35.67    7\n",
       "6  6  35.67   7   7   35.59    8\n",
       "7  7  35.59   8   8   35.91    9\n",
       "8  8  35.91   9   9   35.28   10\n",
       "9  9  35.28  10  10   36.28   11"
      ]
     },
     "execution_count": 27,
     "metadata": {},
     "output_type": "execute_result"
    }
   ],
   "source": [
    "%%SQL -v con\n",
    "\n",
    "SELECT A.t AS t, A.Close AS Close, A.tt AS tt,\n",
    "       B.t AS t2, B.Close AS Close2, B.tt AS tt2\n",
    "FROM (\n",
    "    SELECT t, Close, t+1 AS tt FROM stock\n",
    "    ) AS A\n",
    "INNER JOIN (\n",
    "    SELECT t, Close, t+1 AS tt FROM stock\n",
    "    ) AS B\n",
    "WHERE A.tt >= B.t AND A.tt <= B.t -- on écrit l'égalité comme ceci pour contourner les optimisations\n",
    "                                  -- réalisée par SQLlite"
   ]
  },
  {
   "cell_type": "code",
   "execution_count": 27,
   "metadata": {
    "collapsed": true
   },
   "outputs": [],
   "source": []
  }
 ],
 "metadata": {
  "kernelspec": {
   "display_name": "Python 3",
   "language": "python",
   "name": "python3"
  },
  "language_info": {
   "codemirror_mode": {
    "name": "ipython",
    "version": 3
   },
   "file_extension": ".py",
   "mimetype": "text/x-python",
   "name": "python",
   "nbconvert_exporter": "python",
   "pygments_lexer": "ipython3",
   "version": "3.6.1"
  }
 },
 "nbformat": 4,
 "nbformat_minor": 1
}
