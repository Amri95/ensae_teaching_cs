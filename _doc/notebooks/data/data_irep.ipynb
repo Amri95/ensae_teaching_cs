{
  "cells": [
    {
      "cell_type": "markdown",
      "metadata": {},
      "source": [
        "# IREP: registre des \u00e9missions polluantes\n",
        "\n",
        "Ce jeu de donn\u00e9es est disponible sous le nombre [Registre des \u00e9missions polluantes](http://www.georisques.gouv.fr/dossiers/irep/telechargement)."
      ]
    },
    {
      "cell_type": "code",
      "execution_count": 1,
      "metadata": {},
      "outputs": [
        {
          "data": {
            "text/html": [
              "<div id=\"my_id_menu_nb\">run previous cell, wait for 2 seconds</div>\n",
              "<script>\n",
              "function repeat_indent_string(n){\n",
              "    var a = \"\" ;\n",
              "    for ( ; n > 0 ; --n)\n",
              "        a += \"    \";\n",
              "    return a;\n",
              "}\n",
              "// look up into all sections and builds an automated menu //\n",
              "var update_menu_string = function(begin, lfirst, llast, sformat, send, keep_item, begin_format, end_format) {\n",
              "    var anchors = document.getElementsByClassName(\"section\");\n",
              "    if (anchors.length == 0) {\n",
              "        anchors = document.getElementsByClassName(\"text_cell_render rendered_html\");\n",
              "    }\n",
              "    var i,t;\n",
              "    var text_menu = begin;\n",
              "    var text_memo = \"<pre>\\nlength:\" + anchors.length + \"\\n\";\n",
              "    var ind = \"\";\n",
              "    var memo_level = 1;\n",
              "    var href;\n",
              "    var tags = [];\n",
              "    var main_item = 0;\n",
              "    var format_open = 0;\n",
              "    for (i = 0; i <= llast; i++)\n",
              "        tags.push(\"h\" + i);\n",
              "\n",
              "    for (i = 0; i < anchors.length; i++) {\n",
              "        text_memo += \"**\" + anchors[i].id + \"--\\n\";\n",
              "\n",
              "        var child = null;\n",
              "        for(t = 0; t < tags.length; t++) {\n",
              "            var r = anchors[i].getElementsByTagName(tags[t]);\n",
              "            if (r.length > 0) {\n",
              "child = r[0];\n",
              "break;\n",
              "            }\n",
              "        }\n",
              "        if (child == null) {\n",
              "            text_memo += \"null\\n\";\n",
              "            continue;\n",
              "        }\n",
              "        if (anchors[i].hasAttribute(\"id\")) {\n",
              "            // when converted in RST\n",
              "            href = anchors[i].id;\n",
              "            text_memo += \"#1-\" + href;\n",
              "            // passer \u00e0 child suivant (le chercher)\n",
              "        }\n",
              "        else if (child.hasAttribute(\"id\")) {\n",
              "            // in a notebook\n",
              "            href = child.id;\n",
              "            text_memo += \"#2-\" + href;\n",
              "        }\n",
              "        else {\n",
              "            text_memo += \"#3-\" + \"*\" + \"\\n\";\n",
              "            continue;\n",
              "        }\n",
              "        var title = child.textContent;\n",
              "        var level = parseInt(child.tagName.substring(1,2));\n",
              "\n",
              "        text_memo += \"--\" + level + \"?\" + lfirst + \"--\" + title + \"\\n\";\n",
              "\n",
              "        if ((level < lfirst) || (level > llast)) {\n",
              "            continue ;\n",
              "        }\n",
              "        if (title.endsWith('\u00b6')) {\n",
              "            title = title.substring(0,title.length-1).replace(\"<\", \"&lt;\")\n",
              "         .replace(\">\", \"&gt;\").replace(\"&\", \"&amp;\");\n",
              "        }\n",
              "        if (title.length == 0) {\n",
              "            continue;\n",
              "        }\n",
              "\n",
              "        while (level < memo_level) {\n",
              "            text_menu += end_format + \"</ul>\\n\";\n",
              "            format_open -= 1;\n",
              "            memo_level -= 1;\n",
              "        }\n",
              "        if (level == lfirst) {\n",
              "            main_item += 1;\n",
              "        }\n",
              "        if (keep_item != -1 && main_item != keep_item + 1) {\n",
              "            // alert(main_item + \" - \" + level + \" - \" + keep_item);\n",
              "            continue;\n",
              "        }\n",
              "        while (level > memo_level) {\n",
              "            text_menu += \"<ul>\\n\";\n",
              "            memo_level += 1;\n",
              "        }\n",
              "        text_menu += repeat_indent_string(level-2);\n",
              "        text_menu += begin_format + sformat.replace(\"__HREF__\", href).replace(\"__TITLE__\", title);\n",
              "        format_open += 1;\n",
              "    }\n",
              "    while (1 < memo_level) {\n",
              "        text_menu += end_format + \"</ul>\\n\";\n",
              "        memo_level -= 1;\n",
              "        format_open -= 1;\n",
              "    }\n",
              "    text_menu += send;\n",
              "    //text_menu += \"\\n\" + text_memo;\n",
              "\n",
              "    while (format_open > 0) {\n",
              "        text_menu += end_format;\n",
              "        format_open -= 1;\n",
              "    }\n",
              "    return text_menu;\n",
              "};\n",
              "var update_menu = function() {\n",
              "    var sbegin = \"\";\n",
              "    var sformat = '<a href=\"#__HREF__\">__TITLE__</a>';\n",
              "    var send = \"\";\n",
              "    var begin_format = '<li>';\n",
              "    var end_format = '</li>';\n",
              "    var keep_item = -1;\n",
              "    var text_menu = update_menu_string(sbegin, 2, 4, sformat, send, keep_item,\n",
              "       begin_format, end_format);\n",
              "    var menu = document.getElementById(\"my_id_menu_nb\");\n",
              "    menu.innerHTML=text_menu;\n",
              "};\n",
              "window.setTimeout(update_menu,2000);\n",
              "            </script>"
            ],
            "text/plain": [
              "<IPython.core.display.HTML object>"
            ]
          },
          "execution_count": 2,
          "metadata": {},
          "output_type": "execute_result"
        }
      ],
      "source": [
        "from jyquickhelper import add_notebook_menu\n",
        "add_notebook_menu()"
      ]
    },
    {
      "cell_type": "code",
      "execution_count": 2,
      "metadata": {},
      "outputs": [],
      "source": [
        "%matplotlib inline"
      ]
    },
    {
      "cell_type": "markdown",
      "metadata": {},
      "source": [
        "## R\u00e9cup\u00e9ration des donn\u00e9es\n",
        "\n",
        "Les donn\u00e9es ont \u00e9t\u00e9 pr\u00e9alablement t\u00e9l\u00e9charg\u00e9es et zipp\u00e9es."
      ]
    },
    {
      "cell_type": "code",
      "execution_count": 3,
      "metadata": {},
      "outputs": [
        {
          "data": {
            "text/plain": [
              "['.\\\\2003/emissions.csv',\n",
              " '.\\\\2003/etablissements.csv',\n",
              " '.\\\\2003/Prelevements.csv',\n",
              " '.\\\\2003/Prod_dechets_dangereux.csv',\n",
              " '.\\\\2003/Prod_dechets_non_dangereux.csv',\n",
              " '.\\\\2003/Trait_dechets_dangereux.csv',\n",
              " '.\\\\2003/Trait_dechets_non_dangereux.csv',\n",
              " '.\\\\2004/emissions.csv',\n",
              " '.\\\\2004/etablissements.csv',\n",
              " '.\\\\2004/Prelevements.csv',\n",
              " '.\\\\2004/Prod_dechets_dangereux.csv',\n",
              " '.\\\\2004/Prod_dechets_non_dangereux.csv',\n",
              " '.\\\\2004/Trait_dechets_dangereux.csv',\n",
              " '.\\\\2004/Trait_dechets_non_dangereux.csv',\n",
              " '.\\\\2005/emissions.csv',\n",
              " '.\\\\2005/etablissements.csv',\n",
              " '.\\\\2005/Prelevements.csv',\n",
              " '.\\\\2005/Prod_dechets_dangereux.csv',\n",
              " '.\\\\2005/Prod_dechets_non_dangereux.csv',\n",
              " '.\\\\2005/Trait_dechets_dangereux.csv',\n",
              " '.\\\\2005/Trait_dechets_non_dangereux.csv',\n",
              " '.\\\\2006/emissions.csv',\n",
              " '.\\\\2006/etablissements.csv',\n",
              " '.\\\\2006/Prelevements.csv',\n",
              " '.\\\\2006/Prod_dechets_dangereux.csv',\n",
              " '.\\\\2006/Prod_dechets_non_dangereux.csv',\n",
              " '.\\\\2006/Trait_dechets_dangereux.csv',\n",
              " '.\\\\2006/Trait_dechets_non_dangereux.csv',\n",
              " '.\\\\2007/emissions.csv',\n",
              " '.\\\\2007/etablissements.csv',\n",
              " '.\\\\2007/Prelevements.csv',\n",
              " '.\\\\2007/Prod_dechets_dangereux.csv',\n",
              " '.\\\\2007/Prod_dechets_non_dangereux.csv',\n",
              " '.\\\\2007/Trait_dechets_dangereux.csv',\n",
              " '.\\\\2007/Trait_dechets_non_dangereux.csv',\n",
              " '.\\\\2008/emissions.csv',\n",
              " '.\\\\2008/etablissements.csv',\n",
              " '.\\\\2008/Prelevements.csv',\n",
              " '.\\\\2008/Prod_dechets_dangereux.csv',\n",
              " '.\\\\2008/Prod_dechets_non_dangereux.csv',\n",
              " '.\\\\2008/Trait_dechets_dangereux.csv',\n",
              " '.\\\\2008/Trait_dechets_non_dangereux.csv',\n",
              " '.\\\\2009/emissions.csv',\n",
              " '.\\\\2009/etablissements.csv',\n",
              " '.\\\\2009/Prelevements.csv',\n",
              " '.\\\\2009/Prod_dechets_dangereux.csv',\n",
              " '.\\\\2009/Prod_dechets_non_dangereux.csv',\n",
              " '.\\\\2009/Trait_dechets_dangereux.csv',\n",
              " '.\\\\2009/Trait_dechets_non_dangereux.csv',\n",
              " '.\\\\2010/emissions.csv',\n",
              " '.\\\\2010/etablissements.csv',\n",
              " '.\\\\2010/Prelevements.csv',\n",
              " '.\\\\2010/Prod_dechets_dangereux.csv',\n",
              " '.\\\\2010/Prod_dechets_non_dangereux.csv',\n",
              " '.\\\\2010/Trait_dechets_dangereux.csv',\n",
              " '.\\\\2010/Trait_dechets_non_dangereux.csv',\n",
              " '.\\\\2011/emissions.csv',\n",
              " '.\\\\2011/etablissements.csv',\n",
              " '.\\\\2011/Prelevements.csv',\n",
              " '.\\\\2011/Prod_dechets_dangereux.csv',\n",
              " '.\\\\2011/Prod_dechets_non_dangereux.csv',\n",
              " '.\\\\2011/Trait_dechets_dangereux.csv',\n",
              " '.\\\\2011/Trait_dechets_non_dangereux.csv',\n",
              " '.\\\\2012/emissions.csv',\n",
              " '.\\\\2012/etablissements.csv',\n",
              " '.\\\\2012/Prelevements.csv',\n",
              " '.\\\\2012/Prod_dechets_dangereux.csv',\n",
              " '.\\\\2012/Prod_dechets_non_dangereux.csv',\n",
              " '.\\\\2012/Trait_dechets_dangereux.csv',\n",
              " '.\\\\2012/Trait_dechets_non_dangereux.csv',\n",
              " '.\\\\2013/emissions.csv',\n",
              " '.\\\\2013/etablissements.csv',\n",
              " '.\\\\2013/Prelevements.csv',\n",
              " '.\\\\2013/Prod_dechets_dangereux.csv',\n",
              " '.\\\\2013/Prod_dechets_non_dangereux.csv',\n",
              " '.\\\\2013/Trait_dechets_dangereux.csv',\n",
              " '.\\\\2013/Trait_dechets_non_dangereux.csv',\n",
              " '.\\\\2014/emissions.csv',\n",
              " '.\\\\2014/etablissements.csv',\n",
              " '.\\\\2014/Prelevements.csv',\n",
              " '.\\\\2014/Prod_dechets_dangereux.csv',\n",
              " '.\\\\2014/Prod_dechets_non_dangereux.csv',\n",
              " '.\\\\2014/Trait_dechets_dangereux.csv',\n",
              " '.\\\\2014/Trait_dechets_non_dangereux.csv',\n",
              " '.\\\\2015/emissions.csv',\n",
              " '.\\\\2015/etablissements.csv',\n",
              " '.\\\\2015/Prelevements.csv',\n",
              " '.\\\\2015/Prod_dechets_dangereux.csv',\n",
              " '.\\\\2015/Prod_dechets_non_dangereux.csv',\n",
              " '.\\\\2015/Trait_dechets_dangereux.csv',\n",
              " '.\\\\2015/Trait_dechets_non_dangereux.csv',\n",
              " '.\\\\2016/emissions.csv',\n",
              " '.\\\\2016/etablissements.csv',\n",
              " '.\\\\2016/Prelevements.csv',\n",
              " '.\\\\2016/Prod_dechets_dangereux.csv',\n",
              " '.\\\\2016/Prod_dechets_non_dangereux.csv',\n",
              " '.\\\\2016/Trait_dechets_dangereux.csv',\n",
              " '.\\\\2016/Trait_dechets_non_dangereux.csv',\n",
              " '.\\\\2017/emissions.csv',\n",
              " '.\\\\2017/etablissements.csv',\n",
              " '.\\\\2017/Prelevements.csv',\n",
              " '.\\\\2017/Prod_dechets_dangereux.csv',\n",
              " '.\\\\2017/Prod_dechets_non_dangereux.csv',\n",
              " '.\\\\2017/Trait_dechets_dangereux.csv',\n",
              " '.\\\\2017/Trait_dechets_non_dangereux.csv']"
            ]
          },
          "execution_count": 4,
          "metadata": {},
          "output_type": "execute_result"
        }
      ],
      "source": [
        "from ensae_teaching_cs.data import load_irep\n",
        "load_irep()"
      ]
    },
    {
      "cell_type": "code",
      "execution_count": 4,
      "metadata": {},
      "outputs": [
        {
          "data": {
            "text/html": [
              "<div>\n",
              "<style scoped>\n",
              "    .dataframe tbody tr th:only-of-type {\n",
              "        vertical-align: middle;\n",
              "    }\n",
              "\n",
              "    .dataframe tbody tr th {\n",
              "        vertical-align: top;\n",
              "    }\n",
              "\n",
              "    .dataframe thead th {\n",
              "        text-align: right;\n",
              "    }\n",
              "</style>\n",
              "<table border=\"1\" class=\"dataframe\">\n",
              "  <thead>\n",
              "    <tr style=\"text-align: right;\">\n",
              "      <th></th>\n",
              "      <th>Identifiant</th>\n",
              "      <th>Nom_Etablissement</th>\n",
              "      <th>Dechet</th>\n",
              "      <th>Annee</th>\n",
              "      <th>Code_Operation_Eliminatio_Valorisation</th>\n",
              "      <th>Libelle_Operation_Eliminatio_Valorisation</th>\n",
              "      <th>Code_Departement</th>\n",
              "      <th>Pays</th>\n",
              "      <th>Code_Dechet</th>\n",
              "      <th>Libelle_Dechet</th>\n",
              "      <th>Quantite</th>\n",
              "      <th>Unite</th>\n",
              "    </tr>\n",
              "  </thead>\n",
              "  <tbody>\n",
              "    <tr>\n",
              "      <td>0</td>\n",
              "      <td>31.02589</td>\n",
              "      <td>POLYPROCESS</td>\n",
              "      <td>Production de d\u00c3\u00a9chets dangereux</td>\n",
              "      <td>2017</td>\n",
              "      <td>D13</td>\n",
              "      <td>D13 Regroupement pr\u00e9alablement \u00e0 l'une des op\u00e9...</td>\n",
              "      <td>33</td>\n",
              "      <td>NaN</td>\n",
              "      <td>16 03 03*</td>\n",
              "      <td>D\u00e9chets d'origine min\u00e9rale contenant des subst...</td>\n",
              "      <td>2.320</td>\n",
              "      <td>t/an</td>\n",
              "    </tr>\n",
              "    <tr>\n",
              "      <td>1</td>\n",
              "      <td>31.02589</td>\n",
              "      <td>POLYPROCESS</td>\n",
              "      <td>Production de d\u00c3\u00a9chets dangereux</td>\n",
              "      <td>2017</td>\n",
              "      <td>D8</td>\n",
              "      <td>D8 Traitement biologique non sp\u00e9cifi\u00e9 ailleurs...</td>\n",
              "      <td>64</td>\n",
              "      <td>NaN</td>\n",
              "      <td>13 05 07*</td>\n",
              "      <td>Eau m\u00e9lang\u00e9e \u00e0 des hydrocarbures provenant de ...</td>\n",
              "      <td>1.500</td>\n",
              "      <td>t/an</td>\n",
              "    </tr>\n",
              "    <tr>\n",
              "      <td>2</td>\n",
              "      <td>31.02589</td>\n",
              "      <td>POLYPROCESS</td>\n",
              "      <td>Production de d\u00c3\u00a9chets dangereux</td>\n",
              "      <td>2017</td>\n",
              "      <td>R12</td>\n",
              "      <td>R12 Echange de d\u00e9chets en vue de les soumettre...</td>\n",
              "      <td>16</td>\n",
              "      <td>NaN</td>\n",
              "      <td>13 05 02*</td>\n",
              "      <td>Boues provenant de s\u00e9parateurs eau/hydrocarbures</td>\n",
              "      <td>0.500</td>\n",
              "      <td>t/an</td>\n",
              "    </tr>\n",
              "    <tr>\n",
              "      <td>3</td>\n",
              "      <td>31.02589</td>\n",
              "      <td>POLYPROCESS</td>\n",
              "      <td>Production de d\u00c3\u00a9chets dangereux</td>\n",
              "      <td>2017</td>\n",
              "      <td>R13</td>\n",
              "      <td>R13 Stockage de d\u00e9chets pr\u00e9alablement \u00e0 l'une ...</td>\n",
              "      <td>33</td>\n",
              "      <td>NaN</td>\n",
              "      <td>06 10 02*</td>\n",
              "      <td>D\u00e9chets contenant des substances dangereuses</td>\n",
              "      <td>0.103</td>\n",
              "      <td>t/an</td>\n",
              "    </tr>\n",
              "    <tr>\n",
              "      <td>4</td>\n",
              "      <td>31.02589</td>\n",
              "      <td>POLYPROCESS</td>\n",
              "      <td>Production de d\u00c3\u00a9chets dangereux</td>\n",
              "      <td>2017</td>\n",
              "      <td>R13</td>\n",
              "      <td>R13 Stockage de d\u00e9chets pr\u00e9alablement \u00e0 l'une ...</td>\n",
              "      <td>33</td>\n",
              "      <td>NaN</td>\n",
              "      <td>15 01 10*</td>\n",
              "      <td>Emballages contenant des r\u00e9sidus de substances...</td>\n",
              "      <td>2.400</td>\n",
              "      <td>t/an</td>\n",
              "    </tr>\n",
              "  </tbody>\n",
              "</table>\n",
              "</div>"
            ],
            "text/plain": [
              "   Identifiant Nom_Etablissement  ... Quantite  Unite\n",
              "0     31.02589       POLYPROCESS  ...    2.320   t/an\n",
              "1     31.02589       POLYPROCESS  ...    1.500   t/an\n",
              "2     31.02589       POLYPROCESS  ...    0.500   t/an\n",
              "3     31.02589       POLYPROCESS  ...    0.103   t/an\n",
              "4     31.02589       POLYPROCESS  ...    2.400   t/an\n",
              "\n",
              "[5 rows x 12 columns]"
            ]
          },
          "execution_count": 5,
          "metadata": {},
          "output_type": "execute_result"
        }
      ],
      "source": [
        "import pandas\n",
        "df = pandas.read_csv(\"2017/Prod_dechets_dangereux.csv\")\n",
        "df.head()"
      ]
    },
    {
      "cell_type": "code",
      "execution_count": 5,
      "metadata": {
        "scrolled": false
      },
      "outputs": [
        {
          "data": {
            "text/plain": [
              "['LUBRIZOL France Site de Rouen (si\u00e8ge social et usine)',\n",
              " 'LUBRIZOL FRANCE',\n",
              " 'LUBRIZOL France']"
            ]
          },
          "execution_count": 6,
          "metadata": {},
          "output_type": "execute_result"
        }
      ],
      "source": [
        "[_ for _ in set(df.Nom_Etablissement) if \"lubrizol\" in _.lower()]"
      ]
    },
    {
      "cell_type": "code",
      "execution_count": 6,
      "metadata": {},
      "outputs": [
        {
          "data": {
            "text/html": [
              "<div>\n",
              "<style scoped>\n",
              "    .dataframe tbody tr th:only-of-type {\n",
              "        vertical-align: middle;\n",
              "    }\n",
              "\n",
              "    .dataframe tbody tr th {\n",
              "        vertical-align: top;\n",
              "    }\n",
              "\n",
              "    .dataframe thead th {\n",
              "        text-align: right;\n",
              "    }\n",
              "</style>\n",
              "<table border=\"1\" class=\"dataframe\">\n",
              "  <thead>\n",
              "    <tr style=\"text-align: right;\">\n",
              "      <th></th>\n",
              "      <th>5073</th>\n",
              "      <th>5074</th>\n",
              "      <th>5075</th>\n",
              "      <th>5076</th>\n",
              "      <th>19092</th>\n",
              "    </tr>\n",
              "  </thead>\n",
              "  <tbody>\n",
              "    <tr>\n",
              "      <td>Identifiant</td>\n",
              "      <td>52.0271</td>\n",
              "      <td>52.0271</td>\n",
              "      <td>52.0271</td>\n",
              "      <td>52.0271</td>\n",
              "      <td>58.0057</td>\n",
              "    </tr>\n",
              "    <tr>\n",
              "      <td>Nom_Etablissement</td>\n",
              "      <td>LUBRIZOL FRANCE</td>\n",
              "      <td>LUBRIZOL FRANCE</td>\n",
              "      <td>LUBRIZOL FRANCE</td>\n",
              "      <td>LUBRIZOL FRANCE</td>\n",
              "      <td>LUBRIZOL France Site de Rouen (si\u00e8ge social et...</td>\n",
              "    </tr>\n",
              "    <tr>\n",
              "      <td>Dechet</td>\n",
              "      <td>Production de d\u00c3\u00a9chets dangereux</td>\n",
              "      <td>Production de d\u00c3\u00a9chets dangereux</td>\n",
              "      <td>Production de d\u00c3\u00a9chets dangereux</td>\n",
              "      <td>Production de d\u00c3\u00a9chets dangereux</td>\n",
              "      <td>Production de d\u00c3\u00a9chets dangereux</td>\n",
              "    </tr>\n",
              "    <tr>\n",
              "      <td>Annee</td>\n",
              "      <td>2017</td>\n",
              "      <td>2017</td>\n",
              "      <td>2017</td>\n",
              "      <td>2017</td>\n",
              "      <td>2017</td>\n",
              "    </tr>\n",
              "    <tr>\n",
              "      <td>Code_Operation_Eliminatio_Valorisation</td>\n",
              "      <td>D10</td>\n",
              "      <td>D5</td>\n",
              "      <td>D8</td>\n",
              "      <td>R12</td>\n",
              "      <td>D10</td>\n",
              "    </tr>\n",
              "    <tr>\n",
              "      <td>Libelle_Operation_Eliminatio_Valorisation</td>\n",
              "      <td>D10 Incin\u00e9ration \u00e0 terre</td>\n",
              "      <td>D5 Mise en d\u00e9charge sp\u00e9cialement am\u00e9nag\u00e9e (par...</td>\n",
              "      <td>D8 Traitement biologique non sp\u00e9cifi\u00e9 ailleurs...</td>\n",
              "      <td>R12 Echange de d\u00e9chets en vue de les soumettre...</td>\n",
              "      <td>D10 Incin\u00e9ration \u00e0 terre</td>\n",
              "    </tr>\n",
              "    <tr>\n",
              "      <td>Code_Departement</td>\n",
              "      <td>01</td>\n",
              "      <td>30</td>\n",
              "      <td>64</td>\n",
              "      <td>34</td>\n",
              "      <td>76</td>\n",
              "    </tr>\n",
              "    <tr>\n",
              "      <td>Pays</td>\n",
              "      <td>NaN</td>\n",
              "      <td>NaN</td>\n",
              "      <td>NaN</td>\n",
              "      <td>NaN</td>\n",
              "      <td>NaN</td>\n",
              "    </tr>\n",
              "    <tr>\n",
              "      <td>Code_Dechet</td>\n",
              "      <td>07 01 01*</td>\n",
              "      <td>17 02 04*</td>\n",
              "      <td>07 07 01*</td>\n",
              "      <td>15 02 02*</td>\n",
              "      <td>07 01 04*</td>\n",
              "    </tr>\n",
              "    <tr>\n",
              "      <td>Libelle_Dechet</td>\n",
              "      <td>Eaux de lavage et liqueurs m\u00e8res aqueuses</td>\n",
              "      <td>Bois, verre et mati\u00e8res plastiques contenant d...</td>\n",
              "      <td>Eaux de lavage et liqueurs m\u00e8res aqueuses</td>\n",
              "      <td>Absorbants, mat\u00e9riaux filtrants (y compris les...</td>\n",
              "      <td>Autres solvants, liquides de lavage et liqueur...</td>\n",
              "    </tr>\n",
              "    <tr>\n",
              "      <td>Quantite</td>\n",
              "      <td>20</td>\n",
              "      <td>0.0022</td>\n",
              "      <td>8.34</td>\n",
              "      <td>0.989</td>\n",
              "      <td>472</td>\n",
              "    </tr>\n",
              "    <tr>\n",
              "      <td>Unite</td>\n",
              "      <td>t/an</td>\n",
              "      <td>t/an</td>\n",
              "      <td>t/an</td>\n",
              "      <td>t/an</td>\n",
              "      <td>t/an</td>\n",
              "    </tr>\n",
              "  </tbody>\n",
              "</table>\n",
              "</div>"
            ],
            "text/plain": [
              "                                                                               5073   ...                                              19092\n",
              "Identifiant                                                                  52.0271  ...                                            58.0057\n",
              "Nom_Etablissement                                                    LUBRIZOL FRANCE  ...  LUBRIZOL France Site de Rouen (si\u00e8ge social et...\n",
              "Dechet                                              Production de d\u00c3\u00a9chets dangereux  ...                   Production de d\u00c3\u00a9chets dangereux\n",
              "Annee                                                                           2017  ...                                               2017\n",
              "Code_Operation_Eliminatio_Valorisation                                           D10  ...                                                D10\n",
              "Libelle_Operation_Eliminatio_Valorisation                   D10 Incin\u00e9ration \u00e0 terre  ...                           D10 Incin\u00e9ration \u00e0 terre\n",
              "Code_Departement                                                                  01  ...                                                 76\n",
              "Pays                                                                             NaN  ...                                                NaN\n",
              "Code_Dechet                                                                07 01 01*  ...                                          07 01 04*\n",
              "Libelle_Dechet                             Eaux de lavage et liqueurs m\u00e8res aqueuses  ...  Autres solvants, liquides de lavage et liqueur...\n",
              "Quantite                                                                          20  ...                                                472\n",
              "Unite                                                                           t/an  ...                                               t/an\n",
              "\n",
              "[12 rows x 5 columns]"
            ]
          },
          "execution_count": 7,
          "metadata": {},
          "output_type": "execute_result"
        }
      ],
      "source": [
        "df[df.Nom_Etablissement.str.contains(\"LUBRI\")].head().T"
      ]
    },
    {
      "cell_type": "code",
      "execution_count": 7,
      "metadata": {},
      "outputs": [
        {
          "data": {
            "text/html": [
              "<div>\n",
              "<style scoped>\n",
              "    .dataframe tbody tr th:only-of-type {\n",
              "        vertical-align: middle;\n",
              "    }\n",
              "\n",
              "    .dataframe tbody tr th {\n",
              "        vertical-align: top;\n",
              "    }\n",
              "\n",
              "    .dataframe thead th {\n",
              "        text-align: right;\n",
              "    }\n",
              "</style>\n",
              "<table border=\"1\" class=\"dataframe\">\n",
              "  <thead>\n",
              "    <tr style=\"text-align: right;\">\n",
              "      <th></th>\n",
              "      <th>Identifiant</th>\n",
              "      <th>Nom_Etablissement</th>\n",
              "      <th>Numero_SIRET</th>\n",
              "      <th>Adresse</th>\n",
              "      <th>Code_Postal</th>\n",
              "      <th>Commune</th>\n",
              "      <th>Departement</th>\n",
              "      <th>Region</th>\n",
              "      <th>Coordonnees_X</th>\n",
              "      <th>Coordonnees_Y</th>\n",
              "      <th>Code_APE</th>\n",
              "      <th>Libelle_APE</th>\n",
              "      <th>code_eprtr</th>\n",
              "      <th>libelle_eprtr</th>\n",
              "    </tr>\n",
              "  </thead>\n",
              "  <tbody>\n",
              "    <tr>\n",
              "      <td>0</td>\n",
              "      <td>68.11539</td>\n",
              "      <td>Carri\u00e8res BERNADETS - ISDI</td>\n",
              "      <td>54608016900115</td>\n",
              "      <td>NaN</td>\n",
              "      <td>31420</td>\n",
              "      <td>AURIGNAC</td>\n",
              "      <td>HAUTE-GARONNE</td>\n",
              "      <td>OCCITANIE</td>\n",
              "      <td>481659.0</td>\n",
              "      <td>1802490.0</td>\n",
              "      <td>0812Z</td>\n",
              "      <td>Exploitation de gravi\u00e8res et sabli\u00e8res, extrac...</td>\n",
              "      <td>NaN</td>\n",
              "      <td>NaN</td>\n",
              "    </tr>\n",
              "    <tr>\n",
              "      <td>1</td>\n",
              "      <td>61.10406</td>\n",
              "      <td>REVAGA</td>\n",
              "      <td>51058711600037</td>\n",
              "      <td>NaN</td>\n",
              "      <td>69390</td>\n",
              "      <td>MILLERY</td>\n",
              "      <td>RHONE</td>\n",
              "      <td>AUVERGNE-RHONE-ALPES</td>\n",
              "      <td>790678.0</td>\n",
              "      <td>2073093.0</td>\n",
              "      <td>3811Z</td>\n",
              "      <td>Collecte des d\u00e9chets non dangereux</td>\n",
              "      <td>NaN</td>\n",
              "      <td>NaN</td>\n",
              "    </tr>\n",
              "    <tr>\n",
              "      <td>2</td>\n",
              "      <td>124.00155</td>\n",
              "      <td>SATE</td>\n",
              "      <td>42976802100025</td>\n",
              "      <td>NaN</td>\n",
              "      <td>90150</td>\n",
              "      <td>FONTAINE</td>\n",
              "      <td>TERRITOIRE-DE-BELFORT</td>\n",
              "      <td>BOURGOGNE-FRANCHE-COMTE</td>\n",
              "      <td>949818.0</td>\n",
              "      <td>2305514.0</td>\n",
              "      <td>2751Z</td>\n",
              "      <td>Fabrication d'appareils \u00e9lectrom\u00e9nagers</td>\n",
              "      <td>NaN</td>\n",
              "      <td>NaN</td>\n",
              "    </tr>\n",
              "    <tr>\n",
              "      <td>3</td>\n",
              "      <td>61.08347</td>\n",
              "      <td>GRTgaz - Station de Compression de St AVIT</td>\n",
              "      <td>44011762001571</td>\n",
              "      <td>NaN</td>\n",
              "      <td>26330</td>\n",
              "      <td>CHATEAUNEUF-DE-GALAURE</td>\n",
              "      <td>DROME</td>\n",
              "      <td>AUVERGNE-RHONE-ALPES</td>\n",
              "      <td>805789.0</td>\n",
              "      <td>2028946.0</td>\n",
              "      <td>4950Z</td>\n",
              "      <td>Transports par conduites</td>\n",
              "      <td>NaN</td>\n",
              "      <td>NaN</td>\n",
              "    </tr>\n",
              "    <tr>\n",
              "      <td>4</td>\n",
              "      <td>61.10271</td>\n",
              "      <td>FONDEX SAS</td>\n",
              "      <td>60562013700030</td>\n",
              "      <td>NaN</td>\n",
              "      <td>74302</td>\n",
              "      <td>CLUSES</td>\n",
              "      <td>HAUTE-SAVOIE</td>\n",
              "      <td>AUVERGNE-RHONE-ALPES</td>\n",
              "      <td>928249.0</td>\n",
              "      <td>2126191.0</td>\n",
              "      <td>2550B</td>\n",
              "      <td>D\u00e9coupage, emboutissage</td>\n",
              "      <td>NaN</td>\n",
              "      <td>NaN</td>\n",
              "    </tr>\n",
              "  </tbody>\n",
              "</table>\n",
              "</div>"
            ],
            "text/plain": [
              "   Identifiant                           Nom_Etablissement  ...  code_eprtr libelle_eprtr\n",
              "0     68.11539                  Carri\u00e8res BERNADETS - ISDI  ...         NaN           NaN\n",
              "1     61.10406                                      REVAGA  ...         NaN           NaN\n",
              "2    124.00155                                        SATE  ...         NaN           NaN\n",
              "3     61.08347  GRTgaz - Station de Compression de St AVIT  ...         NaN           NaN\n",
              "4     61.10271                                  FONDEX SAS  ...         NaN           NaN\n",
              "\n",
              "[5 rows x 14 columns]"
            ]
          },
          "execution_count": 8,
          "metadata": {},
          "output_type": "execute_result"
        }
      ],
      "source": [
        "ets = pandas.read_csv(\"2017/etablissements.csv\")\n",
        "ets.head()"
      ]
    },
    {
      "cell_type": "code",
      "execution_count": 8,
      "metadata": {},
      "outputs": [
        {
          "data": {
            "text/html": [
              "<div>\n",
              "<style scoped>\n",
              "    .dataframe tbody tr th:only-of-type {\n",
              "        vertical-align: middle;\n",
              "    }\n",
              "\n",
              "    .dataframe tbody tr th {\n",
              "        vertical-align: top;\n",
              "    }\n",
              "\n",
              "    .dataframe thead th {\n",
              "        text-align: right;\n",
              "    }\n",
              "</style>\n",
              "<table border=\"1\" class=\"dataframe\">\n",
              "  <thead>\n",
              "    <tr style=\"text-align: right;\">\n",
              "      <th></th>\n",
              "      <th>Identifiant</th>\n",
              "      <th>Nom_Etablissement</th>\n",
              "      <th>Numero_SIRET</th>\n",
              "      <th>Adresse</th>\n",
              "      <th>Code_Postal</th>\n",
              "      <th>Commune</th>\n",
              "      <th>Departement</th>\n",
              "      <th>Region</th>\n",
              "      <th>Coordonnees_X</th>\n",
              "      <th>Coordonnees_Y</th>\n",
              "      <th>Code_APE</th>\n",
              "      <th>Libelle_APE</th>\n",
              "      <th>code_eprtr</th>\n",
              "      <th>libelle_eprtr</th>\n",
              "    </tr>\n",
              "  </thead>\n",
              "  <tbody>\n",
              "    <tr>\n",
              "      <td>5696</td>\n",
              "      <td>52.02708</td>\n",
              "      <td>LUBRIZOL FRANCE</td>\n",
              "      <td>54207095800047</td>\n",
              "      <td>P\u00f4le 4/RD 281 avenue du Lac</td>\n",
              "      <td>64150</td>\n",
              "      <td>MOURENX</td>\n",
              "      <td>PYRENEES-ATLANTIQUES</td>\n",
              "      <td>NOUVELLE-AQUITAINE</td>\n",
              "      <td>359197.0</td>\n",
              "      <td>1823064.0</td>\n",
              "      <td>2059Z</td>\n",
              "      <td>Fabrication d'autres produits chimiques n.c.a.</td>\n",
              "      <td>4.(a).(iii)</td>\n",
              "      <td>hydrocarbures sulfur\u00e9s</td>\n",
              "    </tr>\n",
              "    <tr>\n",
              "      <td>6147</td>\n",
              "      <td>58.00574</td>\n",
              "      <td>LUBRIZOL France Site de Rouen (si\u00e8ge social et...</td>\n",
              "      <td>54207095800021</td>\n",
              "      <td>25, Quai de France BP 1062</td>\n",
              "      <td>76173</td>\n",
              "      <td>ROUEN</td>\n",
              "      <td>SEINE-MARITIME</td>\n",
              "      <td>NORMANDIE</td>\n",
              "      <td>509411.0</td>\n",
              "      <td>2494315.0</td>\n",
              "      <td>2059Z</td>\n",
              "      <td>Fabrication d'autres produits chimiques n.c.a.</td>\n",
              "      <td>4.(a).(iii)</td>\n",
              "      <td>hydrocarbures sulfur\u00e9s</td>\n",
              "    </tr>\n",
              "    <tr>\n",
              "      <td>6707</td>\n",
              "      <td>58.00575</td>\n",
              "      <td>LUBRIZOL France</td>\n",
              "      <td>54207095800039</td>\n",
              "      <td>ROUTE DU CANAL DE TANCARVILLE</td>\n",
              "      <td>76430</td>\n",
              "      <td>OUDALLE</td>\n",
              "      <td>SEINE-MARITIME</td>\n",
              "      <td>NORMANDIE</td>\n",
              "      <td>452455.0</td>\n",
              "      <td>2502974.0</td>\n",
              "      <td>2059Z</td>\n",
              "      <td>Fabrication d'autres produits chimiques n.c.a.</td>\n",
              "      <td>4.(a).(iii)</td>\n",
              "      <td>hydrocarbures sulfur\u00e9s</td>\n",
              "    </tr>\n",
              "  </tbody>\n",
              "</table>\n",
              "</div>"
            ],
            "text/plain": [
              "      Identifiant                                  Nom_Etablissement  ...   code_eprtr           libelle_eprtr\n",
              "5696     52.02708                                    LUBRIZOL FRANCE  ...  4.(a).(iii)  hydrocarbures sulfur\u00e9s\n",
              "6147     58.00574  LUBRIZOL France Site de Rouen (si\u00e8ge social et...  ...  4.(a).(iii)  hydrocarbures sulfur\u00e9s\n",
              "6707     58.00575                                    LUBRIZOL France  ...  4.(a).(iii)  hydrocarbures sulfur\u00e9s\n",
              "\n",
              "[3 rows x 14 columns]"
            ]
          },
          "execution_count": 9,
          "metadata": {},
          "output_type": "execute_result"
        }
      ],
      "source": [
        "ets[ets.Nom_Etablissement.str.contains(\"LUBRI\")]"
      ]
    },
    {
      "cell_type": "markdown",
      "metadata": {},
      "source": [
        "## Conversion des coordonn\u00e9es\n",
        "\n",
        "Les coordonn\u00e9es utilis\u00e9es par l'admnistration fran\u00e7aise sont souvent diff\u00e9rentes des longitudes et latitudes, il pourrait s'agir du syst\u00e8me [Lambert 93](https://epsg.io/2154). Il faut convertir."
      ]
    },
    {
      "cell_type": "code",
      "execution_count": 9,
      "metadata": {},
      "outputs": [
        {
          "data": {
            "text/plain": [
              "((559176.9910858747, 6927865.768822113), (509411.0, 2494315.0))"
            ]
          },
          "execution_count": 10,
          "metadata": {},
          "output_type": "execute_result"
        }
      ],
      "source": [
        "from pyproj import Proj, transform\n",
        "p1 = Proj(init='epsg:4326')  # longitude / latidude\n",
        "p2 = Proj(init='epsg:2154')  # Lambert 93\n",
        "exp = (509411.0, 2494315.0)  # Rouen dans la base de donn\u00e9es re\u00e7ues.\n",
        "transform(p1, p2, 1.059011, 49.434654), exp"
      ]
    },
    {
      "cell_type": "markdown",
      "metadata": {},
      "source": [
        "Ca n'a pas l'air d'\u00eatre \u00e7a. On en essaye plusieurs."
      ]
    },
    {
      "cell_type": "code",
      "execution_count": 10,
      "metadata": {},
      "outputs": [
        {
          "name": "stderr",
          "output_type": "stream",
          "text": [
            "100%|\u2588\u2588\u2588\u2588\u2588\u2588\u2588\u2588\u2588\u2588\u2588\u2588\u2588\u2588\u2588\u2588\u2588\u2588\u2588\u2588\u2588\u2588\u2588\u2588\u2588\u2588\u2588\u2588\u2588\u2588\u2588\u2588\u2588\u2588\u2588\u2588\u2588\u2588\u2588\u2588\u2588\u2588\u2588\u2588\u2588\u2588\u2588\u2588\u2588\u2588\u2588\u2588\u2588\u2588\u2588\u2588\u2588\u2588\u2588\u2588\u2588\u2588\u2588\u2588\u2588\u2588\u2588\u2588\u2588\u2588\u2588\u2588\u2588\u2588\u2588\u2588\u2588| 8000/8000 [00:13<00:00, 612.31it/s]\n"
          ]
        },
        {
          "data": {
            "text/plain": [
              "[(2542.114088263712, 2192, (507296.7366974243, 2493887.149214312)),\n",
              " (2685.7716154259397, 7401, (507255.5568221343, 2493784.6715624398)),\n",
              " (2685.7716154259397, 7402, (507255.5568221343, 2493784.6715624398)),\n",
              " (2685.7716154259397, 7411, (507255.5568221343, 2493784.6715624398)),\n",
              " (2685.7716154259397, 7412, (507255.5568221343, 2493784.6715624398)),\n",
              " (2685.7716154259397, 7421, (507255.5568221343, 2493784.6715624398)),\n",
              " (1272190.1006467447, 2062, (948698.6309991917, 1661412.530352447)),\n",
              " (1302721.6132853723, 7403, (506939.7658750324, 3794565.3791604047)),\n",
              " (1302721.6132853723, 7413, (506939.7658750324, 3794565.3791604047)),\n",
              " (1302721.6132853723, 7422, (506939.7658750324, 3794565.3791604047))]"
            ]
          },
          "execution_count": 11,
          "metadata": {},
          "output_type": "execute_result"
        }
      ],
      "source": [
        "from tqdm import tqdm\n",
        "summary = []\n",
        "for i in tqdm(range(2000, 10000)):\n",
        "    try:\n",
        "        p2 = Proj(init='epsg:%d' % i)\n",
        "    except RuntimeError:\n",
        "        # does not exist\n",
        "        continue\n",
        "    try:\n",
        "        res = transform(p1, p2, 1.059011, 49.434654)\n",
        "    except RuntimeError:\n",
        "        # impossible\n",
        "        continue\n",
        "    d = abs(res[0] - exp[0]) + abs(res[1] - exp[1])\n",
        "    summary.append((d, i, res))\n",
        "summary.sort()\n",
        "summary[:10]"
      ]
    },
    {
      "cell_type": "markdown",
      "metadata": {},
      "source": [
        "On tombe donc sur [espg:2192](https://epsg.io/2192-8046) ou [espg:7401](https://epsg.io/7401)."
      ]
    },
    {
      "cell_type": "code",
      "execution_count": 11,
      "metadata": {},
      "outputs": [],
      "source": [
        "p2 = Proj(init='epsg:2192')\n",
        "long, lat = transform(p2, p1, ets.Coordonnees_X.values, ets.Coordonnees_Y.values)\n",
        "ets['LLX'] = long\n",
        "ets['LLY'] = lat"
      ]
    },
    {
      "cell_type": "code",
      "execution_count": 12,
      "metadata": {},
      "outputs": [
        {
          "data": {
            "text/html": [
              "<div>\n",
              "<style scoped>\n",
              "    .dataframe tbody tr th:only-of-type {\n",
              "        vertical-align: middle;\n",
              "    }\n",
              "\n",
              "    .dataframe tbody tr th {\n",
              "        vertical-align: top;\n",
              "    }\n",
              "\n",
              "    .dataframe thead th {\n",
              "        text-align: right;\n",
              "    }\n",
              "</style>\n",
              "<table border=\"1\" class=\"dataframe\">\n",
              "  <thead>\n",
              "    <tr style=\"text-align: right;\">\n",
              "      <th></th>\n",
              "      <th>Identifiant</th>\n",
              "      <th>Nom_Etablissement</th>\n",
              "      <th>Numero_SIRET</th>\n",
              "      <th>Adresse</th>\n",
              "      <th>Code_Postal</th>\n",
              "      <th>Commune</th>\n",
              "      <th>Departement</th>\n",
              "      <th>Region</th>\n",
              "      <th>Coordonnees_X</th>\n",
              "      <th>Coordonnees_Y</th>\n",
              "      <th>Code_APE</th>\n",
              "      <th>Libelle_APE</th>\n",
              "      <th>code_eprtr</th>\n",
              "      <th>libelle_eprtr</th>\n",
              "      <th>LLX</th>\n",
              "      <th>LLY</th>\n",
              "    </tr>\n",
              "  </thead>\n",
              "  <tbody>\n",
              "    <tr>\n",
              "      <td>5696</td>\n",
              "      <td>52.02708</td>\n",
              "      <td>LUBRIZOL FRANCE</td>\n",
              "      <td>54207095800047</td>\n",
              "      <td>P\u00f4le 4/RD 281 avenue du Lac</td>\n",
              "      <td>64150</td>\n",
              "      <td>MOURENX</td>\n",
              "      <td>PYRENEES-ATLANTIQUES</td>\n",
              "      <td>NOUVELLE-AQUITAINE</td>\n",
              "      <td>359197.0</td>\n",
              "      <td>1823064.0</td>\n",
              "      <td>2059Z</td>\n",
              "      <td>Fabrication d'autres produits chimiques n.c.a.</td>\n",
              "      <td>4.(a).(iii)</td>\n",
              "      <td>hydrocarbures sulfur\u00e9s</td>\n",
              "      <td>-0.630721</td>\n",
              "      <td>43.367981</td>\n",
              "    </tr>\n",
              "    <tr>\n",
              "      <td>6147</td>\n",
              "      <td>58.00574</td>\n",
              "      <td>LUBRIZOL France Site de Rouen (si\u00e8ge social et...</td>\n",
              "      <td>54207095800021</td>\n",
              "      <td>25, Quai de France BP 1062</td>\n",
              "      <td>76173</td>\n",
              "      <td>ROUEN</td>\n",
              "      <td>SEINE-MARITIME</td>\n",
              "      <td>NORMANDIE</td>\n",
              "      <td>509411.0</td>\n",
              "      <td>2494315.0</td>\n",
              "      <td>2059Z</td>\n",
              "      <td>Fabrication d'autres produits chimiques n.c.a.</td>\n",
              "      <td>4.(a).(iii)</td>\n",
              "      <td>hydrocarbures sulfur\u00e9s</td>\n",
              "      <td>1.088035</td>\n",
              "      <td>49.438802</td>\n",
              "    </tr>\n",
              "    <tr>\n",
              "      <td>6707</td>\n",
              "      <td>58.00575</td>\n",
              "      <td>LUBRIZOL France</td>\n",
              "      <td>54207095800039</td>\n",
              "      <td>ROUTE DU CANAL DE TANCARVILLE</td>\n",
              "      <td>76430</td>\n",
              "      <td>OUDALLE</td>\n",
              "      <td>SEINE-MARITIME</td>\n",
              "      <td>NORMANDIE</td>\n",
              "      <td>452455.0</td>\n",
              "      <td>2502974.0</td>\n",
              "      <td>2059Z</td>\n",
              "      <td>Fabrication d'autres produits chimiques n.c.a.</td>\n",
              "      <td>4.(a).(iii)</td>\n",
              "      <td>hydrocarbures sulfur\u00e9s</td>\n",
              "      <td>0.300640</td>\n",
              "      <td>49.505871</td>\n",
              "    </tr>\n",
              "  </tbody>\n",
              "</table>\n",
              "</div>"
            ],
            "text/plain": [
              "      Identifiant                                  Nom_Etablissement  ...       LLX        LLY\n",
              "5696     52.02708                                    LUBRIZOL FRANCE  ... -0.630721  43.367981\n",
              "6147     58.00574  LUBRIZOL France Site de Rouen (si\u00e8ge social et...  ...  1.088035  49.438802\n",
              "6707     58.00575                                    LUBRIZOL France  ...  0.300640  49.505871\n",
              "\n",
              "[3 rows x 16 columns]"
            ]
          },
          "execution_count": 13,
          "metadata": {},
          "output_type": "execute_result"
        }
      ],
      "source": [
        "ets[ets.Nom_Etablissement.str.contains(\"LUBRI\")]"
      ]
    },
    {
      "cell_type": "markdown",
      "metadata": {},
      "source": [
        "Ca a l'air de coller."
      ]
    },
    {
      "cell_type": "code",
      "execution_count": 13,
      "metadata": {},
      "outputs": [],
      "source": [
        "ets16 = pandas.read_csv(\"2016/etablissements.csv\")\n",
        "ets17 = pandas.read_csv(\"2017/etablissements.csv\")\n",
        "p16 = pandas.read_csv(\"2016/Prod_dechets_dangereux.csv\")\n",
        "p17 = pandas.read_csv(\"2017/Prod_dechets_dangereux.csv\")\n",
        "\n",
        "long, lat = transform(p2, p1, ets16.Coordonnees_X.values, ets16.Coordonnees_Y.values)\n",
        "ets16['LLX'] = long\n",
        "ets16['LLY'] = lat\n",
        "\n",
        "long, lat = transform(p2, p1, ets17.Coordonnees_X.values, ets17.Coordonnees_Y.values)\n",
        "ets17['LLX'] = long\n",
        "ets17['LLY'] = lat"
      ]
    },
    {
      "cell_type": "code",
      "execution_count": 14,
      "metadata": {},
      "outputs": [
        {
          "data": {
            "text/plain": [
              "((72337, 27), (72337, 12))"
            ]
          },
          "execution_count": 15,
          "metadata": {},
          "output_type": "execute_result"
        }
      ],
      "source": [
        "ets16_2 = p16.merge(ets16, on=\"Identifiant\")\n",
        "ets16_2.shape, p16.shape"
      ]
    },
    {
      "cell_type": "code",
      "execution_count": 15,
      "metadata": {},
      "outputs": [
        {
          "data": {
            "text/plain": [
              "((73863, 27), (73863, 12))"
            ]
          },
          "execution_count": 16,
          "metadata": {},
          "output_type": "execute_result"
        }
      ],
      "source": [
        "ets17_2 = p17.merge(ets17, on=\"Identifiant\")\n",
        "ets17_2.shape, p17.shape"
      ]
    },
    {
      "cell_type": "markdown",
      "metadata": {},
      "source": [
        "Les fusions se sont bien pass\u00e9es. On v\u00e9rifie que les unit\u00e9s sont comparables."
      ]
    },
    {
      "cell_type": "code",
      "execution_count": 16,
      "metadata": {},
      "outputs": [
        {
          "data": {
            "text/plain": [
              "({'t/an'}, {'t/an'})"
            ]
          },
          "execution_count": 17,
          "metadata": {},
          "output_type": "execute_result"
        }
      ],
      "source": [
        "set(p16.Unite), set(p17.Unite)"
      ]
    },
    {
      "cell_type": "markdown",
      "metadata": {},
      "source": [
        "## Vue dynamique"
      ]
    },
    {
      "cell_type": "code",
      "execution_count": 17,
      "metadata": {},
      "outputs": [],
      "source": [
        "from ipywidgets import interact"
      ]
    },
    {
      "cell_type": "code",
      "execution_count": 18,
      "metadata": {},
      "outputs": [
        {
          "data": {
            "application/vnd.jupyter.widget-view+json": {
              "model_id": "2168726b95c74a3e8c552491a51157fe",
              "version_major": 2,
              "version_minor": 0
            },
            "text/plain": [
              "interactive(children=(Dropdown(description='annee', index=1, options=(2016, 2017), value=2017), Dropdown(descr\u2026"
            ]
          },
          "metadata": {},
          "output_type": "display_data"
        }
      ],
      "source": [
        "@interact(annee=[2016, 2017], column=list(sorted(p16.columns)), x=(0, 100000, 100))\n",
        "def show_rows(annee=2017, column='Quantite', x=100000):\n",
        "    if annee == 2017:\n",
        "        return ets17_2[ets17_2[column] >= x].sort_values(column).T\n",
        "    else:\n",
        "        return ets16_2[ets16_2[column] >= x].sort_values(column).T"
      ]
    },
    {
      "cell_type": "markdown",
      "metadata": {},
      "source": [
        "## Cartes\n",
        "\n",
        "On regarde les projets sur la m\u00e9tropole en 2017."
      ]
    },
    {
      "cell_type": "code",
      "execution_count": 19,
      "metadata": {},
      "outputs": [
        {
          "data": {
            "text/plain": [
              "((73384, 27), (73863, 27))"
            ]
          },
          "execution_count": 20,
          "metadata": {},
          "output_type": "execute_result"
        }
      ],
      "source": [
        "lim_metropole = [-5, 10, 41, 52]\n",
        "\n",
        "ets17_2_metro = ets17_2[((ets17_2.LLX >= lim_metropole[0]) & (ets17_2.LLX <= lim_metropole[1]) &\n",
        "                         (ets17_2.LLY >= lim_metropole[2]) & (ets17_2.LLY <= lim_metropole[3]))]\n",
        "ets17_2_metro.shape, ets17_2.shape"
      ]
    },
    {
      "cell_type": "code",
      "execution_count": 20,
      "metadata": {},
      "outputs": [
        {
          "data": {
            "image/png": "[encoded data removed]",
            "text/plain": [
              "<Figure size 504x504 with 1 Axes>"
            ]
          },
          "metadata": {
            "needs_background": "light"
          },
          "output_type": "display_data"
        }
      ],
      "source": [
        "import cartopy.crs as ccrs\n",
        "import cartopy.feature as cfeature\n",
        "import matplotlib.pyplot as plt\n",
        "\n",
        "fig = plt.figure(figsize=(7,7))\n",
        "ax = fig.add_subplot(1, 1, 1, projection=ccrs.PlateCarree())\n",
        "ax.set_extent(lim_metropole)\n",
        "ax.add_feature(cfeature.OCEAN.with_scale('50m'))\n",
        "ax.add_feature(cfeature.COASTLINE.with_scale('50m'))\n",
        "ax.add_feature(cfeature.RIVERS.with_scale('50m'))\n",
        "ax.add_feature(cfeature.BORDERS.with_scale('50m'), linestyle=':')\n",
        "ax.scatter(ets17_2_metro.LLX, ets17_2_metro.LLY,\n",
        "           s=ets17_2_metro.Quantite ** 0.5 / 5, alpha=0.5)\n",
        "ax.set_title('France 2017\\nproduction de produits dangereux');"
      ]
    },
    {
      "cell_type": "code",
      "execution_count": 21,
      "metadata": {},
      "outputs": [],
      "source": []
    }
  ],
  "metadata": {
    "kernelspec": {
      "display_name": "Python 3",
      "language": "python",
      "name": "python3"
    },
    "language_info": {
      "codemirror_mode": {
        "name": "ipython",
        "version": 3
      },
      "file_extension": ".py",
      "mimetype": "text/x-python",
      "name": "python",
      "nbconvert_exporter": "python",
      "pygments_lexer": "ipython3",
      "version": "3.7.2"
    }
  },
  "nbformat": 4,
  "nbformat_minor": 2
}