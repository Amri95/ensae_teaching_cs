{
  "cells": [
    {
      "cell_type": "markdown",
      "metadata": {},
      "source": [
        "# Plus proches voisins en grande dimension - correction\n",
        "\n",
        "La m\u00e9thodes des [plus proches voisins](https://fr.wikipedia.org/wiki/Recherche_des_plus_proches_voisins) est un algorithme assez simple qui devient tr\u00e8s lent en grande dimension. Ce notebook propose un moyen d'aller plus vite (ACP) mais en perdant un peu en performance. "
      ]
    },
    {
      "cell_type": "code",
      "execution_count": null,
      "metadata": {},
      "outputs": [
        {
          "data": {
            "text/html": [
              "<div id=\"my_id_menu_nb\">run previous cell, wait for 2 seconds</div>\n",
              "<script>\n",
              "function repeat_indent_string(n){\n",
              "    var a = \"\" ;\n",
              "    for ( ; n > 0 ; --n)\n",
              "        a += \"    \";\n",
              "    return a;\n",
              "}\n",
              "var update_menu_string = function(begin, lfirst, llast, sformat, send, keep_item, begin_format, end_format) {\n",
              "    var anchors = document.getElementsByClassName(\"section\");\n",
              "    if (anchors.length == 0) {\n",
              "        anchors = document.getElementsByClassName(\"text_cell_render rendered_html\");\n",
              "    }\n",
              "    var i,t;\n",
              "    var text_menu = begin;\n",
              "    var text_memo = \"<pre>\\nlength:\" + anchors.length + \"\\n\";\n",
              "    var ind = \"\";\n",
              "    var memo_level = 1;\n",
              "    var href;\n",
              "    var tags = [];\n",
              "    var main_item = 0;\n",
              "    var format_open = 0;\n",
              "    for (i = 0; i <= llast; i++)\n",
              "        tags.push(\"h\" + i);\n",
              "\n",
              "    for (i = 0; i < anchors.length; i++) {\n",
              "        text_memo += \"**\" + anchors[i].id + \"--\\n\";\n",
              "\n",
              "        var child = null;\n",
              "        for(t = 0; t < tags.length; t++) {\n",
              "            var r = anchors[i].getElementsByTagName(tags[t]);\n",
              "            if (r.length > 0) {\n",
              "child = r[0];\n",
              "break;\n",
              "            }\n",
              "        }\n",
              "        if (child == null) {\n",
              "            text_memo += \"null\\n\";\n",
              "            continue;\n",
              "        }\n",
              "        if (anchors[i].hasAttribute(\"id\")) {\n",
              "            // when converted in RST\n",
              "            href = anchors[i].id;\n",
              "            text_memo += \"#1-\" + href;\n",
              "            // passer \u00e0 child suivant (le chercher)\n",
              "        }\n",
              "        else if (child.hasAttribute(\"id\")) {\n",
              "            // in a notebook\n",
              "            href = child.id;\n",
              "            text_memo += \"#2-\" + href;\n",
              "        }\n",
              "        else {\n",
              "            text_memo += \"#3-\" + \"*\" + \"\\n\";\n",
              "            continue;\n",
              "        }\n",
              "        var title = child.textContent;\n",
              "        var level = parseInt(child.tagName.substring(1,2));\n",
              "\n",
              "        text_memo += \"--\" + level + \"?\" + lfirst + \"--\" + title + \"\\n\";\n",
              "\n",
              "        if ((level < lfirst) || (level > llast)) {\n",
              "            continue ;\n",
              "        }\n",
              "        if (title.endsWith('\u00b6')) {\n",
              "            title = title.substring(0,title.length-1).replace(\"<\", \"&lt;\")\n",
              "         .replace(\">\", \"&gt;\").replace(\"&\", \"&amp;\");\n",
              "        }\n",
              "        if (title.length == 0) {\n",
              "            continue;\n",
              "        }\n",
              "\n",
              "        while (level < memo_level) {\n",
              "            text_menu += end_format + \"</ul>\\n\";\n",
              "            format_open -= 1;\n",
              "            memo_level -= 1;\n",
              "        }\n",
              "        if (level == lfirst) {\n",
              "            main_item += 1;\n",
              "        }\n",
              "        if (keep_item != -1 && main_item != keep_item + 1) {\n",
              "            // alert(main_item + \" - \" + level + \" - \" + keep_item);\n",
              "            continue;\n",
              "        }\n",
              "        while (level > memo_level) {\n",
              "            text_menu += \"<ul>\\n\";\n",
              "            memo_level += 1;\n",
              "        }\n",
              "        text_menu += repeat_indent_string(level-2);\n",
              "        text_menu += begin_format + sformat.replace(\"__HREF__\", href).replace(\"__TITLE__\", title);\n",
              "        format_open += 1;\n",
              "    }\n",
              "    while (1 < memo_level) {\n",
              "        text_menu += end_format + \"</ul>\\n\";\n",
              "        memo_level -= 1;\n",
              "        format_open -= 1;\n",
              "    }\n",
              "    text_menu += send;\n",
              "    //text_menu += \"\\n\" + text_memo;\n",
              "\n",
              "    while (format_open > 0) {\n",
              "        text_menu += end_format;\n",
              "        format_open -= 1;\n",
              "    }\n",
              "    return text_menu;\n",
              "};\n",
              "var update_menu = function() {\n",
              "    var sbegin = \"\";\n",
              "    var sformat = '<a href=\"#__HREF__\">__TITLE__</a>';\n",
              "    var send = \"\";\n",
              "    var begin_format = '<li>';\n",
              "    var end_format = '</li>';\n",
              "    var keep_item = -1;\n",
              "    var text_menu = update_menu_string(sbegin, 2, 4, sformat, send, keep_item,\n",
              "       begin_format, end_format);\n",
              "    var menu = document.getElementById(\"my_id_menu_nb\");\n",
              "    menu.innerHTML=text_menu;\n",
              "};\n",
              "window.setTimeout(update_menu,2000);\n",
              "            </script>"
            ],
            "text/plain": [
              "<IPython.core.display.HTML object>"
            ]
          },
          "execution_count": null,
          "metadata": {},
          "output_type": "execute_result"
        }
      ],
      "source": [
        "from jyquickhelper import add_notebook_menu\n",
        "add_notebook_menu()"
      ]
    },
    {
      "cell_type": "code",
      "execution_count": null,
      "metadata": {
        "collapsed": true
      },
      "outputs": [],
      "source": [
        "%matplotlib inline"
      ]
    },
    {
      "cell_type": "markdown",
      "metadata": {},
      "source": [
        "## Q1 : k-nn : mesurer la performance"
      ]
    },
    {
      "cell_type": "code",
      "execution_count": null,
      "metadata": {
        "collapsed": true
      },
      "outputs": [],
      "source": [
        "import time\n",
        "from sklearn.datasets import make_classification\n",
        "from sklearn.neighbors import KNeighborsClassifier\n",
        "\n",
        "def what_to_measure(n, n_features, n_classes=3, n_clusters_per_class=2, n_informative=8,\n",
        "                    neighbors=5, algorithm=\"brute\"):\n",
        "    datax, datay = make_classification(n, n_features=n_features, n_classes=n_classes, \n",
        "                                       n_clusters_per_class=n_clusters_per_class, \n",
        "                                       n_informative=n_informative)\n",
        "    model = KNeighborsClassifier(neighbors, algorithm=algorithm)\n",
        "    model.fit(datax, datay)\n",
        "    t1 = time.clock()\n",
        "    y = model.predict(datax)\n",
        "    t2 = time.clock()\n",
        "    return t2 - t1, y"
      ]
    },
    {
      "cell_type": "code",
      "execution_count": null,
      "metadata": {},
      "outputs": [
        {
          "data": {
            "text/plain": [
              "0.08857036416351902"
            ]
          },
          "execution_count": null,
          "metadata": {},
          "output_type": "execute_result"
        }
      ],
      "source": [
        "dt, y = what_to_measure(2000, 10)\n",
        "dt"
      ]
    },
    {
      "cell_type": "markdown",
      "metadata": {},
      "source": [
        "### dimension"
      ]
    },
    {
      "cell_type": "code",
      "execution_count": null,
      "metadata": {},
      "outputs": [
        {
          "name": "stdout",
          "output_type": "stream",
          "text": [
            "nf=10 dt=0.5873510075840613 dt2=0.4646710542170922\n",
            "nf=20 dt=0.6074920207502146 dt2=0.7714100486991811\n",
            "nf=50 dt=0.6564365553344942 dt2=1.6188338344685462\n",
            "nf=100 dt=0.7027262782503385 dt2=4.378059798842742\n",
            "nf=200 dt=0.5979730196862647 dt2=None\n",
            "nf=500 dt=0.8006753967304121 dt2=None\n",
            "nf=1000 dt=0.9721063046641802 dt2=None\n",
            "nf=2000 dt=1.2413097386946674 dt2=None\n",
            "nf=5000 dt=2.4931281069098077 dt2=None\n",
            "nf=10000 dt=4.519591680483927 dt2=None\n"
          ]
        }
      ],
      "source": [
        "x = []\n",
        "y = []\n",
        "ys = []\n",
        "for nf in [10, 20, 50, 100, 200, 500, 1000, 2000, 5000, 10000]:\n",
        "    x.append(nf)\n",
        "    dt, _ = what_to_measure(5000, n_features=nf)\n",
        "    y.append(dt)\n",
        "    if nf <= 100:\n",
        "        dt2, _ = what_to_measure(5000, n_features=nf, algorithm=\"ball_tree\")\n",
        "    else:\n",
        "        dt2 = None\n",
        "    ys.append(dt2)\n",
        "    print(\"nf={0} dt={1} dt2={2}\".format(nf, dt, dt2))"
      ]
    },
    {
      "cell_type": "code",
      "execution_count": null,
      "metadata": {},
      "outputs": [
        {
          "data": {
            "text/plain": [
              "<matplotlib.legend.Legend at 0x1d780370c18>"
            ]
          },
          "execution_count": null,
          "metadata": {},
          "output_type": "execute_result"
        },
        {
          "data": {
            "image/png": "[encoded data removed]",
            "text/plain": [
              "<matplotlib.figure.Figure at 0x1d7802db630>"
            ]
          },
          "metadata": {},
          "output_type": "display_data"
        }
      ],
      "source": [
        "import matplotlib.pyplot as plt\n",
        "fig, ax = plt.subplots(1, 1)\n",
        "ax.plot(x, y, \"o-\", label=\"brute\")\n",
        "ax.plot(x, ys, \"o-\", label=\"ball_tree\")\n",
        "ax.set_xlabel(\"number of features\")\n",
        "ax.set_ylabel(\"prediction time in seconds\")\n",
        "ax.legend()"
      ]
    },
    {
      "cell_type": "markdown",
      "metadata": {},
      "source": [
        "### observations"
      ]
    },
    {
      "cell_type": "code",
      "execution_count": null,
      "metadata": {},
      "outputs": [
        {
          "name": "stdout",
          "output_type": "stream",
          "text": [
            "nobs=1000 dt=0.04281199864260543 dt2=0.3112272854590401\n",
            "nobs=2000 dt=0.10341005027942174 dt2=1.2617928749120892\n",
            "nobs=5000 dt=0.6151605548714087 dt2=9.747505286907312\n",
            "nobs=10000 dt=2.538724497314206 dt2=None\n",
            "nobs=12000 dt=3.9736723274994574 dt2=None\n",
            "nobs=15000 dt=6.333187950789579 dt2=None\n",
            "nobs=17000 dt=7.835518614694024 dt2=None\n",
            "nobs=20000 dt=15.668280491914516 dt2=None\n"
          ]
        }
      ],
      "source": [
        "x = []\n",
        "y = []\n",
        "ys = []\n",
        "for nobs in [1000, 2000, 5000, 10000, 12000, 15000, 17000, 20000]:\n",
        "    x.append(nobs)\n",
        "    dt, _ = what_to_measure(nobs, n_features=200)\n",
        "    y.append(dt)\n",
        "    if nobs <= 5000:\n",
        "        dt2, _ = what_to_measure(nobs, n_features=200, algorithm=\"ball_tree\")\n",
        "    else:\n",
        "        dt2 = None\n",
        "    ys.append(dt2)\n",
        "    print(\"nobs={0} dt={1} dt2={2}\".format(nobs, dt, dt2))"
      ]
    },
    {
      "cell_type": "code",
      "execution_count": null,
      "metadata": {},
      "outputs": [
        {
          "data": {
            "text/plain": [
              "<matplotlib.legend.Legend at 0x1d7804277f0>"
            ]
          },
          "execution_count": null,
          "metadata": {},
          "output_type": "execute_result"
        },
        {
          "data": {
            "image/png": "[encoded data removed]",
            "text/plain": [
              "<matplotlib.figure.Figure at 0x1d7801ac668>"
            ]
          },
          "metadata": {},
          "output_type": "display_data"
        }
      ],
      "source": [
        "fig, ax = plt.subplots(1, 1)\n",
        "ax.plot(x, y, \"o-\", label=\"brute\")\n",
        "ax.plot(x, ys, \"o-\", label=\"ball_tree\")\n",
        "ax.set_xlabel(\"number of observations\")\n",
        "ax.set_ylabel(\"prediction time in seconds\")\n",
        "ax.legend()"
      ]
    },
    {
      "cell_type": "markdown",
      "metadata": {},
      "source": [
        "## Q2 : k-nn avec sparse features\n",
        "\n",
        "On recommence cette mesure de temps mais en cr\u00e9ant des jeux de donn\u00e9es [sparses](https://fr.wikipedia.org/wiki/Matrice_creuse)."
      ]
    },
    {
      "cell_type": "markdown",
      "metadata": {},
      "source": [
        "## Q3 : Imaginez une fa\u00e7on d'aller plus vite ?\n",
        "\n",
        "Le co\u00fbt d'un algorithme des plus proches voisins est lin\u00e9aire selon la dimension car la majeure partie du temps est pass\u00e9 dans la fonction de distance et que celle-ci est lin\u00e9aire. L'id\u00e9e est d'utiliser une [ACP](https://fr.wikipedia.org/wiki/Analyse_en_composantes_principales) sur des ensembles al\u00e9atoires de features, d'apprendre un classifieur sur chaque ensemble, puis de combiner les voisins."
      ]
    },
    {
      "cell_type": "code",
      "execution_count": null,
      "metadata": {
        "collapsed": true
      },
      "outputs": [],
      "source": []
    }
  ],
  "metadata": {
    "kernelspec": {
      "display_name": "Python 3",
      "language": "python",
      "name": "python3"
    },
    "language_info": {
      "codemirror_mode": {
        "name": "ipython",
        "version": 3
      },
      "file_extension": ".py",
      "mimetype": "text/x-python",
      "name": "python",
      "nbconvert_exporter": "python",
      "pygments_lexer": "ipython3",
      "version": "3.6.1"
    }
  },
  "nbformat": 4,
  "nbformat_minor": 2
}