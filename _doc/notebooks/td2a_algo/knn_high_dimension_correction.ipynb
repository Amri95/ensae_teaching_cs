{
  "cells": [
    {
      "cell_type": "markdown",
      "metadata": {},
      "source": [
        "# 2A.algo - Plus proches voisins en grande dimension - correction\n",
        "\n",
        "La m\u00e9thodes des [plus proches voisins](https://fr.wikipedia.org/wiki/Recherche_des_plus_proches_voisins) est un algorithme assez simple qui devient tr\u00e8s lent en grande dimension. Ce notebook propose un moyen d'aller plus vite (ACP) mais en perdant un peu en performance. "
      ]
    },
    {
      "cell_type": "code",
      "execution_count": null,
      "metadata": {},
      "outputs": [
        {
          "data": {
            "text/html": [
              "<div id=\"my_id_menu_nb\">run previous cell, wait for 2 seconds</div>\n",
              "<script>\n",
              "function repeat_indent_string(n){\n",
              "    var a = \"\" ;\n",
              "    for ( ; n > 0 ; --n)\n",
              "        a += \"    \";\n",
              "    return a;\n",
              "}\n",
              "var update_menu_string = function(begin, lfirst, llast, sformat, send, keep_item, begin_format, end_format) {\n",
              "    var anchors = document.getElementsByClassName(\"section\");\n",
              "    if (anchors.length == 0) {\n",
              "        anchors = document.getElementsByClassName(\"text_cell_render rendered_html\");\n",
              "    }\n",
              "    var i,t;\n",
              "    var text_menu = begin;\n",
              "    var text_memo = \"<pre>\\nlength:\" + anchors.length + \"\\n\";\n",
              "    var ind = \"\";\n",
              "    var memo_level = 1;\n",
              "    var href;\n",
              "    var tags = [];\n",
              "    var main_item = 0;\n",
              "    var format_open = 0;\n",
              "    for (i = 0; i <= llast; i++)\n",
              "        tags.push(\"h\" + i);\n",
              "\n",
              "    for (i = 0; i < anchors.length; i++) {\n",
              "        text_memo += \"**\" + anchors[i].id + \"--\\n\";\n",
              "\n",
              "        var child = null;\n",
              "        for(t = 0; t < tags.length; t++) {\n",
              "            var r = anchors[i].getElementsByTagName(tags[t]);\n",
              "            if (r.length > 0) {\n",
              "child = r[0];\n",
              "break;\n",
              "            }\n",
              "        }\n",
              "        if (child == null) {\n",
              "            text_memo += \"null\\n\";\n",
              "            continue;\n",
              "        }\n",
              "        if (anchors[i].hasAttribute(\"id\")) {\n",
              "            // when converted in RST\n",
              "            href = anchors[i].id;\n",
              "            text_memo += \"#1-\" + href;\n",
              "            // passer \u00e0 child suivant (le chercher)\n",
              "        }\n",
              "        else if (child.hasAttribute(\"id\")) {\n",
              "            // in a notebook\n",
              "            href = child.id;\n",
              "            text_memo += \"#2-\" + href;\n",
              "        }\n",
              "        else {\n",
              "            text_memo += \"#3-\" + \"*\" + \"\\n\";\n",
              "            continue;\n",
              "        }\n",
              "        var title = child.textContent;\n",
              "        var level = parseInt(child.tagName.substring(1,2));\n",
              "\n",
              "        text_memo += \"--\" + level + \"?\" + lfirst + \"--\" + title + \"\\n\";\n",
              "\n",
              "        if ((level < lfirst) || (level > llast)) {\n",
              "            continue ;\n",
              "        }\n",
              "        if (title.endsWith('\u00b6')) {\n",
              "            title = title.substring(0,title.length-1).replace(\"<\", \"&lt;\")\n",
              "         .replace(\">\", \"&gt;\").replace(\"&\", \"&amp;\");\n",
              "        }\n",
              "        if (title.length == 0) {\n",
              "            continue;\n",
              "        }\n",
              "\n",
              "        while (level < memo_level) {\n",
              "            text_menu += end_format + \"</ul>\\n\";\n",
              "            format_open -= 1;\n",
              "            memo_level -= 1;\n",
              "        }\n",
              "        if (level == lfirst) {\n",
              "            main_item += 1;\n",
              "        }\n",
              "        if (keep_item != -1 && main_item != keep_item + 1) {\n",
              "            // alert(main_item + \" - \" + level + \" - \" + keep_item);\n",
              "            continue;\n",
              "        }\n",
              "        while (level > memo_level) {\n",
              "            text_menu += \"<ul>\\n\";\n",
              "            memo_level += 1;\n",
              "        }\n",
              "        text_menu += repeat_indent_string(level-2);\n",
              "        text_menu += begin_format + sformat.replace(\"__HREF__\", href).replace(\"__TITLE__\", title);\n",
              "        format_open += 1;\n",
              "    }\n",
              "    while (1 < memo_level) {\n",
              "        text_menu += end_format + \"</ul>\\n\";\n",
              "        memo_level -= 1;\n",
              "        format_open -= 1;\n",
              "    }\n",
              "    text_menu += send;\n",
              "    //text_menu += \"\\n\" + text_memo;\n",
              "\n",
              "    while (format_open > 0) {\n",
              "        text_menu += end_format;\n",
              "        format_open -= 1;\n",
              "    }\n",
              "    return text_menu;\n",
              "};\n",
              "var update_menu = function() {\n",
              "    var sbegin = \"\";\n",
              "    var sformat = '<a href=\"#__HREF__\">__TITLE__</a>';\n",
              "    var send = \"\";\n",
              "    var begin_format = '<li>';\n",
              "    var end_format = '</li>';\n",
              "    var keep_item = -1;\n",
              "    var text_menu = update_menu_string(sbegin, 2, 4, sformat, send, keep_item,\n",
              "       begin_format, end_format);\n",
              "    var menu = document.getElementById(\"my_id_menu_nb\");\n",
              "    menu.innerHTML=text_menu;\n",
              "};\n",
              "window.setTimeout(update_menu,2000);\n",
              "            </script>"
            ],
            "text/plain": [
              "<IPython.core.display.HTML object>"
            ]
          },
          "execution_count": null,
          "metadata": {},
          "output_type": "execute_result"
        }
      ],
      "source": [
        "from jyquickhelper import add_notebook_menu\n",
        "add_notebook_menu()"
      ]
    },
    {
      "cell_type": "code",
      "execution_count": null,
      "metadata": {
        "collapsed": true
      },
      "outputs": [],
      "source": [
        "%matplotlib inline"
      ]
    },
    {
      "cell_type": "markdown",
      "metadata": {},
      "source": [
        "## Q1 : k-nn : mesurer la performance"
      ]
    },
    {
      "cell_type": "code",
      "execution_count": null,
      "metadata": {
        "collapsed": true
      },
      "outputs": [],
      "source": [
        "import time\n",
        "from sklearn.datasets import make_classification\n",
        "from sklearn.neighbors import KNeighborsClassifier\n",
        "\n",
        "def what_to_measure(n, n_features, n_classes=3, n_clusters_per_class=2, n_informative=8,\n",
        "                    neighbors=5, algorithm=\"brute\"):\n",
        "    datax, datay = make_classification(n, n_features=n_features, n_classes=n_classes, \n",
        "                                       n_clusters_per_class=n_clusters_per_class, \n",
        "                                       n_informative=n_informative)\n",
        "    model = KNeighborsClassifier(neighbors, algorithm=algorithm)\n",
        "    model.fit(datax, datay)\n",
        "    t1 = time.clock()\n",
        "    y = model.predict(datax)\n",
        "    t2 = time.clock()\n",
        "    return t2 - t1, y"
      ]
    },
    {
      "cell_type": "code",
      "execution_count": null,
      "metadata": {},
      "outputs": [
        {
          "data": {
            "text/plain": [
              "0.10705330522077405"
            ]
          },
          "execution_count": null,
          "metadata": {},
          "output_type": "execute_result"
        }
      ],
      "source": [
        "dt, y = what_to_measure(2000, 10)\n",
        "dt"
      ]
    },
    {
      "cell_type": "markdown",
      "metadata": {},
      "source": [
        "### dimension"
      ]
    },
    {
      "cell_type": "code",
      "execution_count": null,
      "metadata": {},
      "outputs": [
        {
          "name": "stdout",
          "output_type": "stream",
          "text": [
            "nf=10 dt=0.6019994840499943 dt2=0.4292384048532486\n",
            "nf=20 dt=0.5500524838884142 dt2=0.7831398125750371\n",
            "nf=50 dt=0.6259959000542419 dt2=1.5448688850936674\n",
            "nf=100 dt=0.6438388418700143 dt2=4.1738660655414535\n",
            "nf=200 dt=0.6644507680583498 dt2=None\n",
            "nf=500 dt=0.7658491664009883 dt2=None\n",
            "nf=1000 dt=0.8855807775832769 dt2=None\n",
            "nf=2000 dt=1.2180050749569489 dt2=None\n",
            "nf=5000 dt=2.158468552926159 dt2=None\n",
            "nf=10000 dt=3.9253579156251845 dt2=None\n"
          ]
        }
      ],
      "source": [
        "x = []\n",
        "y = []\n",
        "ys = []\n",
        "for nf in [10, 20, 50, 100, 200, 500, 1000, 2000, 5000, 10000]:\n",
        "    x.append(nf)\n",
        "    dt, _ = what_to_measure(5000, n_features=nf)\n",
        "    y.append(dt)\n",
        "    if nf <= 100:\n",
        "        dt2, _ = what_to_measure(5000, n_features=nf, algorithm=\"ball_tree\")\n",
        "    else:\n",
        "        dt2 = None\n",
        "    ys.append(dt2)\n",
        "    print(\"nf={0} dt={1} dt2={2}\".format(nf, dt, dt2))"
      ]
    },
    {
      "cell_type": "code",
      "execution_count": null,
      "metadata": {},
      "outputs": [
        {
          "data": {
            "text/plain": [
              "<matplotlib.legend.Legend at 0x2959fe824e0>"
            ]
          },
          "execution_count": null,
          "metadata": {},
          "output_type": "execute_result"
        },
        {
          "data": {
            "image/png": "[encoded data removed]",
            "text/plain": [
              "<matplotlib.figure.Figure at 0x2959dc84b70>"
            ]
          },
          "metadata": {},
          "output_type": "display_data"
        }
      ],
      "source": [
        "import matplotlib.pyplot as plt\n",
        "fig, ax = plt.subplots(1, 1)\n",
        "ax.plot(x, y, \"o-\", label=\"brute\")\n",
        "ax.plot(x, ys, \"o-\", label=\"ball_tree\")\n",
        "ax.set_xlabel(\"number of features\")\n",
        "ax.set_ylabel(\"prediction time in seconds\")\n",
        "ax.legend()"
      ]
    },
    {
      "cell_type": "markdown",
      "metadata": {},
      "source": [
        "### observations"
      ]
    },
    {
      "cell_type": "code",
      "execution_count": null,
      "metadata": {},
      "outputs": [
        {
          "name": "stdout",
          "output_type": "stream",
          "text": [
            "nobs=1000 dt=0.04316123279656381 dt2=0.29295767748226\n",
            "nobs=2000 dt=0.09993351118991356 dt2=1.391681116032256\n",
            "nobs=5000 dt=0.6326372748990323 dt2=9.683458350469117\n",
            "nobs=10000 dt=2.956841532632261 dt2=None\n",
            "nobs=12000 dt=4.304105121060601 dt2=None\n",
            "nobs=15000 dt=6.1131095943392495 dt2=None\n",
            "nobs=17000 dt=7.52556105612517 dt2=None\n",
            "nobs=20000 dt=15.684603238001102 dt2=None\n"
          ]
        }
      ],
      "source": [
        "x = []\n",
        "y = []\n",
        "ys = []\n",
        "for nobs in [1000, 2000, 5000, 10000, 12000, 15000, 17000, 20000]:\n",
        "    x.append(nobs)\n",
        "    dt, _ = what_to_measure(nobs, n_features=200)\n",
        "    y.append(dt)\n",
        "    if nobs <= 5000:\n",
        "        dt2, _ = what_to_measure(nobs, n_features=200, algorithm=\"ball_tree\")\n",
        "    else:\n",
        "        dt2 = None\n",
        "    ys.append(dt2)\n",
        "    print(\"nobs={0} dt={1} dt2={2}\".format(nobs, dt, dt2))"
      ]
    },
    {
      "cell_type": "code",
      "execution_count": null,
      "metadata": {},
      "outputs": [
        {
          "data": {
            "text/plain": [
              "<matplotlib.legend.Legend at 0x2959ff8eb00>"
            ]
          },
          "execution_count": null,
          "metadata": {},
          "output_type": "execute_result"
        },
        {
          "data": {
            "image/png": "[encoded data removed]",
            "text/plain": [
              "<matplotlib.figure.Figure at 0x2959ff23470>"
            ]
          },
          "metadata": {},
          "output_type": "display_data"
        }
      ],
      "source": [
        "fig, ax = plt.subplots(1, 1)\n",
        "ax.plot(x, y, \"o-\", label=\"brute\")\n",
        "ax.plot(x, ys, \"o-\", label=\"ball_tree\")\n",
        "ax.set_xlabel(\"number of observations\")\n",
        "ax.set_ylabel(\"prediction time in seconds\")\n",
        "ax.legend()"
      ]
    },
    {
      "cell_type": "markdown",
      "metadata": {},
      "source": [
        "## Q2 : k-nn avec sparse features\n",
        "\n",
        "On recommence cette mesure de temps mais en cr\u00e9ant des jeux de donn\u00e9es [sparses](https://fr.wikipedia.org/wiki/Matrice_creuse). On utilise le jeu pr\u00e9c\u00e9dent et on lui adjoint des coordonn\u00e9es al\u00e9atoires et sparse. La premi\u00e8re fonction ``random_sparse_matrix`` cr\u00e9e un vecteur sparse."
      ]
    },
    {
      "cell_type": "code",
      "execution_count": null,
      "metadata": {},
      "outputs": [
        {
          "data": {
            "text/plain": [
              "('% non null coefficient', 0.2, 'shape', (20, 20))"
            ]
          },
          "execution_count": null,
          "metadata": {},
          "output_type": "execute_result"
        }
      ],
      "source": [
        "import numpy\n",
        "import numpy.random\n",
        "import random\n",
        "import scipy.sparse\n",
        "\n",
        "\n",
        "def random_sparse_matrix(shape, ratio_sparse=0.2):\n",
        "    rnd = numpy.random.rand(shape[0] * shape[1])\n",
        "    sparse = 0\n",
        "    for i in range(0, len(rnd)):\n",
        "        x = random.random()\n",
        "        if x <= ratio_sparse - sparse:\n",
        "            sparse += 1 - ratio_sparse\n",
        "        else:\n",
        "            rnd[i] = 0\n",
        "            sparse -= ratio_sparse\n",
        "    rnd.resize(shape[0], shape[1])\n",
        "    return scipy.sparse.csr_matrix(rnd)\n",
        "\n",
        "\n",
        "mat = random_sparse_matrix((20, 20))\n",
        "\"% non null coefficient\", 1. * mat.nnz / (mat.shape[0] * mat.shape[1]), \"shape\", mat.shape"
      ]
    },
    {
      "cell_type": "code",
      "execution_count": null,
      "metadata": {
        "collapsed": true
      },
      "outputs": [],
      "source": [
        "import random\n",
        "from scipy.sparse import hstack\n",
        "\n",
        "def what_to_measure_sparse(n, n_features, n_classes=3, n_clusters_per_class=2, n_informative=8,\n",
        "                    neighbors=5, algorithm=\"brute\", nb_sparse=20, ratio_sparse=0.2):\n",
        "    datax, datay = make_classification(n, n_features=n_features, n_classes=n_classes, \n",
        "                                       n_clusters_per_class=n_clusters_per_class, \n",
        "                                       n_informative=n_informative)\n",
        "    \n",
        "    sp = random_sparse_matrix((datax.shape[0], (nb_sparse - n_features)), ratio_sparse=ratio_sparse)\n",
        "    datax = hstack([datax, sp])\n",
        "    model = KNeighborsClassifier(neighbors, algorithm=algorithm)\n",
        "    model.fit(datax, datay)\n",
        "    t1 = time.clock()\n",
        "    y = model.predict(datax)\n",
        "    t2 = time.clock()\n",
        "    return t2 - t1, y, datax.nnz / (datax.shape[0] * datax.shape[1])"
      ]
    },
    {
      "cell_type": "code",
      "execution_count": null,
      "metadata": {},
      "outputs": [
        {
          "data": {
            "text/plain": [
              "(0.2765191784464065, 0.28)"
            ]
          },
          "execution_count": null,
          "metadata": {},
          "output_type": "execute_result"
        }
      ],
      "source": [
        "dt, y, sparse_ratio = what_to_measure_sparse(2000, 10, nb_sparse=100, ratio_sparse=0.2)\n",
        "dt, sparse_ratio"
      ]
    },
    {
      "cell_type": "markdown",
      "metadata": {},
      "source": [
        "Seul l'algorithme *brute* accepte les features sparses."
      ]
    },
    {
      "cell_type": "code",
      "execution_count": null,
      "metadata": {},
      "outputs": [
        {
          "name": "stdout",
          "output_type": "stream",
          "text": [
            "nf=10 dt=1.5204501486022934 ratio=0.9977333333333334\n",
            "nf=20 dt=1.7614489740851411 ratio=0.9917340909090909\n",
            "nf=50 dt=1.7535465636979097 ratio=0.96\n",
            "nf=100 dt=1.8724837066859834 ratio=0.88889\n",
            "nf=200 dt=2.00825006429622 ratio=0.75\n",
            "nf=500 dt=2.029575471120438 ratio=0.4897964285714286\n",
            "nf=1000 dt=1.7852292915800945 ratio=0.30555583333333336\n",
            "nf=2000 dt=1.8195703866820168 ratio=0.17355363636363635\n",
            "nf=5000 dt=1.6611926978457063 ratio=0.07544375\n",
            "nf=10000 dt=1.7084732344021063 ratio=0.038831225490196075\n"
          ]
        }
      ],
      "source": [
        "x = []\n",
        "y = []\n",
        "nfd = 200\n",
        "for nf in [10, 20, 50, 100, 200, 500, 1000, 2000, 5000, 10000]:\n",
        "    x.append(nf)\n",
        "    dt, _, ratio = what_to_measure_sparse(2000, n_features=nfd, nb_sparse=nfd+nf, \n",
        "                                   ratio_sparse=1.*nfd/(nfd+nf))\n",
        "    y.append(dt)\n",
        "    print(\"nf={0} dt={1} ratio={2}\".format(nf, dt, ratio))"
      ]
    },
    {
      "cell_type": "code",
      "execution_count": null,
      "metadata": {},
      "outputs": [
        {
          "data": {
            "text/plain": [
              "<matplotlib.legend.Legend at 0x295a0111ac8>"
            ]
          },
          "execution_count": null,
          "metadata": {},
          "output_type": "execute_result"
        },
        {
          "data": {
            "image/png": "[encoded data removed]",
            "text/plain": [
              "<matplotlib.figure.Figure at 0x2959ffb3f60>"
            ]
          },
          "metadata": {},
          "output_type": "display_data"
        }
      ],
      "source": [
        "fig, ax = plt.subplots(1, 1)\n",
        "ax.plot(x, y, \"o-\", label=\"brute\")\n",
        "ax.set_xlabel(\"number of dimensions\")\n",
        "ax.set_ylabel(\"prediction time in seconds\")\n",
        "ax.legend()"
      ]
    },
    {
      "cell_type": "markdown",
      "metadata": {},
      "source": [
        "La dimension augmente mais le nombre de features non nulle est constant. Comme l'algorithme est fortement d\u00e9pendant de la distance entre deux \u00e9l\u00e9ments et le co\u00fbt de cette distance d\u00e9pend du nombre de coefficients non nuls."
      ]
    },
    {
      "cell_type": "markdown",
      "metadata": {},
      "source": [
        "## Q3 : Imaginez une fa\u00e7on d'aller plus vite ?\n",
        "\n",
        "Le co\u00fbt d'un algorithme des plus proches voisins est lin\u00e9aire selon la dimension car la majeure partie du temps est pass\u00e9 dans la fonction de distance et que celle-ci est lin\u00e9aire. Mesurons la performance en fonction de la dimension. Ce n'est pas vraiment rigoureux de le faire dans la mesure o\u00f9 les donn\u00e9es changent et n'ont pas les m\u00eames propri\u00e9t\u00e9s mais cela donnera une id\u00e9e."
      ]
    },
    {
      "cell_type": "code",
      "execution_count": null,
      "metadata": {},
      "outputs": [
        {
          "data": {
            "text/plain": [
              "(0.11310998940052741, 0.18479999999999999)"
            ]
          },
          "execution_count": null,
          "metadata": {},
          "output_type": "execute_result"
        }
      ],
      "source": [
        "from sklearn.model_selection import train_test_split\n",
        "\n",
        "def what_to_measure_perf(n, n_features, n_classes=3, n_clusters_per_class=2, n_informative=8,\n",
        "                    neighbors=5, algorithm=\"brute\"):\n",
        "    datax, datay = make_classification(n, n_features=n_features, n_classes=n_classes, \n",
        "                                       n_clusters_per_class=n_clusters_per_class, \n",
        "                                       n_informative=n_informative)\n",
        "    X_train, X_test, y_train, y_test = train_test_split(datax, datay)\n",
        "    model = KNeighborsClassifier(neighbors, algorithm=algorithm)\n",
        "    model.fit(X_train, y_train)\n",
        "    t1 = time.clock()\n",
        "    y = model.predict(X_test)\n",
        "    t2 = time.clock()\n",
        "    good = (y_test == y).sum() / len(datay)\n",
        "    return t2 - t1, good\n",
        "\n",
        "what_to_measure_perf(5000, 100)"
      ]
    },
    {
      "cell_type": "code",
      "execution_count": null,
      "metadata": {},
      "outputs": [
        {
          "name": "stdout",
          "output_type": "stream",
          "text": [
            "nf=10 perf=0.2144 dt=0.12195857150595657\n",
            "nf=20 perf=0.2084 dt=0.10057272030894637\n",
            "nf=50 perf=0.2094 dt=0.08913530176550921\n",
            "nf=100 perf=0.1766 dt=0.11379739599328786\n",
            "nf=200 perf=0.1672 dt=0.1173173918214161\n",
            "nf=500 perf=0.1396 dt=0.19581724940167078\n",
            "nf=1000 perf=0.1206 dt=0.2313699973888106\n",
            "nf=2000 perf=0.1104 dt=0.3402820658384371\n",
            "nf=5000 perf=0.0948 dt=0.7753081181533616\n",
            "nf=10000 perf=0.0934 dt=1.331557928030179\n"
          ]
        }
      ],
      "source": [
        "x = []\n",
        "y = []\n",
        "for nf in [10, 20, 50, 100, 200, 500, 1000, 2000, 5000, 10000]:\n",
        "    x.append(nf)\n",
        "    dt, perf = what_to_measure_perf(5000, n_features=nf)\n",
        "    y.append(perf)\n",
        "    print(\"nf={0} perf={1} dt={2}\".format(nf, perf, dt))"
      ]
    },
    {
      "cell_type": "code",
      "execution_count": null,
      "metadata": {},
      "outputs": [
        {
          "data": {
            "text/plain": [
              "<matplotlib.legend.Legend at 0x295a0a82a20>"
            ]
          },
          "execution_count": null,
          "metadata": {},
          "output_type": "execute_result"
        },
        {
          "data": {
            "image/png": "[encoded data removed]",
            "text/plain": [
              "<matplotlib.figure.Figure at 0x295a00bae10>"
            ]
          },
          "metadata": {},
          "output_type": "display_data"
        }
      ],
      "source": [
        "fig, ax = plt.subplots(1, 1)\n",
        "ax.plot(x, y, \"o-\", label=\"brute\")\n",
        "ax.set_xlabel(\"number of dimensions\")\n",
        "ax.set_ylabel(\"% good classification\")\n",
        "ax.legend()"
      ]
    },
    {
      "cell_type": "markdown",
      "metadata": {},
      "source": [
        "M\u00eame si les performances ne sont pas tout-\u00e0-fait comparables, il est vrai qu'il est plus difficile de construire un classifieur bas\u00e9 sur une distance en grande dimension. La raison est simple : plus il y a de dimensions, plus la distance devient binaire : soit les coordonn\u00e9es concordent sur les m\u00eames dimensions, soit elles ne concordent pas et la distance est presque \u00e9quivalente \u00e0 la somme des carr\u00e9s des coordonn\u00e9es.\n",
        "\n",
        "Revenons au probl\u00e8me principal. Acc\u00e9l\u00e9rer le temps de calcul des plus proches voisins.\n",
        "L'id\u00e9e est d'utiliser une [ACP](https://fr.wikipedia.org/wiki/Analyse_en_composantes_principales) : l'ACP a la propri\u00e9t\u00e9 de trouver un hyperplan qui r\u00e9duit les dimensions mais qui conserve le plus possible l'inertie d'un nuage de points et on l'exprimer ainsi :\n",
        "\n",
        "$$I = \\frac{1}{n} \\sum_i^n \\left\\Vert X_i - G \\right\\Vert^2 = \\frac{1}{n^2} \\sum_i^n\\sum_j^n \\left\\Vert X_i - X_j \\right\\Vert^2$$\n",
        "\n",
        "Bref, l'ACP conserve en grande partie les distances. Cela veut dire qu'une ACP r\u00e9duit les dimensions, donc le temps de pr\u00e9diction, tout en conservant le plus possible la distance entre deux points."
      ]
    },
    {
      "cell_type": "code",
      "execution_count": null,
      "metadata": {},
      "outputs": [
        {
          "data": {
            "text/plain": [
              "(0.11917180937643934,\n",
              " 0.19159999999999999,\n",
              " 0.09498141829362794,\n",
              " 0.017255880783523025,\n",
              " 0.22220000000000001)"
            ]
          },
          "execution_count": null,
          "metadata": {},
          "output_type": "execute_result"
        }
      ],
      "source": [
        "from sklearn.decomposition import PCA\n",
        "\n",
        "def what_to_measure_perf_acp(n, n_features, acp_dim=10,\n",
        "                    n_classes=3,  n_clusters_per_class=2, n_informative=8,\n",
        "                    neighbors=5, algorithm=\"brute\"):\n",
        "    datax, datay = make_classification(n, n_features=n_features, n_classes=n_classes, \n",
        "                                       n_clusters_per_class=n_clusters_per_class, \n",
        "                                       n_informative=n_informative)\n",
        "    X_train, X_test, y_train, y_test = train_test_split(datax, datay)\n",
        "    \n",
        "    # sans ACP\n",
        "    model = KNeighborsClassifier(neighbors, algorithm=algorithm)\n",
        "    model.fit(X_train, y_train)\n",
        "    t1o = time.clock()\n",
        "    y = model.predict(X_test)\n",
        "    t2o = time.clock()\n",
        "    goodo = (y_test == y).sum() / len(datay)\n",
        "    \n",
        "    # ACP\n",
        "    model = KNeighborsClassifier(neighbors, algorithm=algorithm)\n",
        "    pca = PCA(n_components=acp_dim)\n",
        "    t0 = time.clock()\n",
        "    X_train_pca = pca.fit_transform(X_train)\n",
        "    model.fit(X_train_pca, y_train)\n",
        "    t1 = time.clock()\n",
        "    X_test_pca = pca.transform(X_test)\n",
        "    y = model.predict(X_test_pca)\n",
        "    t2 = time.clock()\n",
        "    good = (y_test == y).sum() / len(datay)\n",
        "    \n",
        "    return t2o - t1o, goodo, t2 - t1, t1 - t0, good\n",
        "\n",
        "what_to_measure_perf_acp(5000, 100)"
      ]
    },
    {
      "cell_type": "code",
      "execution_count": null,
      "metadata": {},
      "outputs": [
        {
          "name": "stdout",
          "output_type": "stream",
          "text": [
            "nf=10 perf=0.2234 dt_predict=0.10264007588375534 dt_train=0.0019678001367537945\n",
            "nf=20 perf=0.224 dt_predict=0.10264244625113861 dt_train=0.009018063386065478\n",
            "nf=50 perf=0.2224 dt_predict=0.10190328663293258 dt_train=0.012852527977429418\n",
            "nf=100 perf=0.2148 dt_predict=0.10305410008413673 dt_train=0.020230692072345846\n",
            "nf=200 perf=0.2202 dt_predict=0.10624896049512245 dt_train=0.048967053076012235\n",
            "nf=500 perf=0.2116 dt_predict=0.09763267441076096 dt_train=0.07658064997849579\n",
            "nf=1000 perf=0.199 dt_predict=0.09247554472040065 dt_train=0.13868111958754525\n",
            "nf=2000 perf=0.1912 dt_predict=0.11294327354880807 dt_train=0.26802101567864156\n",
            "nf=5000 perf=0.1536 dt_predict=0.14626945627333043 dt_train=0.8286757586065505\n",
            "nf=10000 perf=0.1488 dt_predict=0.1786099611535974 dt_train=1.3338382216238642\n"
          ]
        }
      ],
      "source": [
        "x = []\n",
        "y = []\n",
        "yp = []\n",
        "p = []\n",
        "p_noacp = []\n",
        "y_noacp = []\n",
        "for nf in [10, 20, 50, 100, 200, 500, 1000, 2000, 5000, 10000]:\n",
        "    x.append(nf)\n",
        "    dt_noacp, perf_noacp, dt, dt_train, perf = what_to_measure_perf_acp(5000, n_features=nf)\n",
        "    p.append(perf)\n",
        "    y.append(perf)\n",
        "    yp.append(dt_train)\n",
        "    y_noacp.append(dt_noacp)\n",
        "    p_noacp.append(perf_noacp)\n",
        "    print(\"nf={0} perf={1} dt_predict={2} dt_train={3}\".format(nf, perf, dt, dt_train))"
      ]
    },
    {
      "cell_type": "code",
      "execution_count": null,
      "metadata": {},
      "outputs": [
        {
          "data": {
            "text/plain": [
              "<matplotlib.legend.Legend at 0x295a343aba8>"
            ]
          },
          "execution_count": null,
          "metadata": {},
          "output_type": "execute_result"
        },
        {
          "data": {
            "image/png": "[encoded data removed]",
            "text/plain": [
              "<matplotlib.figure.Figure at 0x295a32c5a20>"
            ]
          },
          "metadata": {},
          "output_type": "display_data"
        }
      ],
      "source": [
        "fig, ax = plt.subplots(1, 2, figsize=(12,5))\n",
        "ax[0].plot(x, y, \"o-\", label=\"prediction time with PCA\")\n",
        "ax[0].plot(x, yp, \"o-\", label=\"training time with PCA\")\n",
        "ax[0].plot(x, y_noacp, \"o-\", label=\"prediction time no PCA\")\n",
        "ax[0].set_xlabel(\"number of dimensions\")\n",
        "ax[0].set_ylabel(\"time\")\n",
        "ax[1].plot(x, p, \"o-\", label=\"with PCA\")\n",
        "ax[1].plot(x, p_noacp, \"o-\", label=\"no PCA\")\n",
        "ax[1].set_xlabel(\"number of dimensions\")\n",
        "ax[1].set_ylabel(\"% good classification\")\n",
        "ax[0].legend()\n",
        "ax[1].legend()"
      ]
    },
    {
      "cell_type": "markdown",
      "metadata": {},
      "source": [
        "Etonnament, l'ACP am\u00e9liore les performances du mod\u00e8le en terme de pr\u00e9diction. Cela sugg\u00e8re que les donn\u00e9es sont bruit\u00e9es et que l'ACP en a r\u00e9duit l'importance. Le calcul de l'ACP est lin\u00e9aire par rapport au nombre de features. Une partie des co\u00fbts a \u00e9t\u00e9 transf\u00e9r\u00e9e sur l'apprentissage et le pr\u00e9diction est constant car on conseerve toujours le m\u00eame nombre de dimensions."
      ]
    },
    {
      "cell_type": "code",
      "execution_count": null,
      "metadata": {
        "collapsed": true
      },
      "outputs": [],
      "source": []
    }
  ],
  "metadata": {
    "kernelspec": {
      "display_name": "Python 3",
      "language": "python",
      "name": "python3"
    },
    "language_info": {
      "codemirror_mode": {
        "name": "ipython",
        "version": 3
      },
      "file_extension": ".py",
      "mimetype": "text/x-python",
      "name": "python",
      "nbconvert_exporter": "python",
      "pygments_lexer": "ipython3",
      "version": "3.6.1"
    }
  },
  "nbformat": 4,
  "nbformat_minor": 2
}