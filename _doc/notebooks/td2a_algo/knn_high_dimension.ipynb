{
  "cells": [
    {
      "cell_type": "markdown",
      "metadata": {},
      "source": [
        "# 2A.algo - Plus proches voisins en grande dimension\n",
        "\n",
        "La m\u00e9thodes des [plus proches voisins](https://fr.wikipedia.org/wiki/Recherche_des_plus_proches_voisins) est un algorithme assez simple. Que se passe-t-il quand la dimension de l'espace des features augmente ? Comment y rem\u00e9dier ? Le profiling [memory_profiler](https://pypi.python.org/pypi/memory_profiler) ou [cprofile]() sont des outils utiles pour savoir o\u00f9 le temps est perdu. "
      ]
    },
    {
      "cell_type": "code",
      "execution_count": null,
      "metadata": {},
      "outputs": [
        {
          "data": {
            "text/html": [
              "<div id=\"my_id_menu_nb\">run previous cell, wait for 2 seconds</div>\n",
              "<script>\n",
              "function repeat_indent_string(n){\n",
              "    var a = \"\" ;\n",
              "    for ( ; n > 0 ; --n)\n",
              "        a += \"    \";\n",
              "    return a;\n",
              "}\n",
              "var update_menu_string = function(begin, lfirst, llast, sformat, send, keep_item, begin_format, end_format) {\n",
              "    var anchors = document.getElementsByClassName(\"section\");\n",
              "    if (anchors.length == 0) {\n",
              "        anchors = document.getElementsByClassName(\"text_cell_render rendered_html\");\n",
              "    }\n",
              "    var i,t;\n",
              "    var text_menu = begin;\n",
              "    var text_memo = \"<pre>\\nlength:\" + anchors.length + \"\\n\";\n",
              "    var ind = \"\";\n",
              "    var memo_level = 1;\n",
              "    var href;\n",
              "    var tags = [];\n",
              "    var main_item = 0;\n",
              "    var format_open = 0;\n",
              "    for (i = 0; i <= llast; i++)\n",
              "        tags.push(\"h\" + i);\n",
              "\n",
              "    for (i = 0; i < anchors.length; i++) {\n",
              "        text_memo += \"**\" + anchors[i].id + \"--\\n\";\n",
              "\n",
              "        var child = null;\n",
              "        for(t = 0; t < tags.length; t++) {\n",
              "            var r = anchors[i].getElementsByTagName(tags[t]);\n",
              "            if (r.length > 0) {\n",
              "child = r[0];\n",
              "break;\n",
              "            }\n",
              "        }\n",
              "        if (child == null) {\n",
              "            text_memo += \"null\\n\";\n",
              "            continue;\n",
              "        }\n",
              "        if (anchors[i].hasAttribute(\"id\")) {\n",
              "            // when converted in RST\n",
              "            href = anchors[i].id;\n",
              "            text_memo += \"#1-\" + href;\n",
              "            // passer \u00e0 child suivant (le chercher)\n",
              "        }\n",
              "        else if (child.hasAttribute(\"id\")) {\n",
              "            // in a notebook\n",
              "            href = child.id;\n",
              "            text_memo += \"#2-\" + href;\n",
              "        }\n",
              "        else {\n",
              "            text_memo += \"#3-\" + \"*\" + \"\\n\";\n",
              "            continue;\n",
              "        }\n",
              "        var title = child.textContent;\n",
              "        var level = parseInt(child.tagName.substring(1,2));\n",
              "\n",
              "        text_memo += \"--\" + level + \"?\" + lfirst + \"--\" + title + \"\\n\";\n",
              "\n",
              "        if ((level < lfirst) || (level > llast)) {\n",
              "            continue ;\n",
              "        }\n",
              "        if (title.endsWith('\u00b6')) {\n",
              "            title = title.substring(0,title.length-1).replace(\"<\", \"&lt;\")\n",
              "         .replace(\">\", \"&gt;\").replace(\"&\", \"&amp;\");\n",
              "        }\n",
              "        if (title.length == 0) {\n",
              "            continue;\n",
              "        }\n",
              "\n",
              "        while (level < memo_level) {\n",
              "            text_menu += end_format + \"</ul>\\n\";\n",
              "            format_open -= 1;\n",
              "            memo_level -= 1;\n",
              "        }\n",
              "        if (level == lfirst) {\n",
              "            main_item += 1;\n",
              "        }\n",
              "        if (keep_item != -1 && main_item != keep_item + 1) {\n",
              "            // alert(main_item + \" - \" + level + \" - \" + keep_item);\n",
              "            continue;\n",
              "        }\n",
              "        while (level > memo_level) {\n",
              "            text_menu += \"<ul>\\n\";\n",
              "            memo_level += 1;\n",
              "        }\n",
              "        text_menu += repeat_indent_string(level-2);\n",
              "        text_menu += begin_format + sformat.replace(\"__HREF__\", href).replace(\"__TITLE__\", title);\n",
              "        format_open += 1;\n",
              "    }\n",
              "    while (1 < memo_level) {\n",
              "        text_menu += end_format + \"</ul>\\n\";\n",
              "        memo_level -= 1;\n",
              "        format_open -= 1;\n",
              "    }\n",
              "    text_menu += send;\n",
              "    //text_menu += \"\\n\" + text_memo;\n",
              "\n",
              "    while (format_open > 0) {\n",
              "        text_menu += end_format;\n",
              "        format_open -= 1;\n",
              "    }\n",
              "    return text_menu;\n",
              "};\n",
              "var update_menu = function() {\n",
              "    var sbegin = \"\";\n",
              "    var sformat = '<a href=\"#__HREF__\">__TITLE__</a>';\n",
              "    var send = \"\";\n",
              "    var begin_format = '<li>';\n",
              "    var end_format = '</li>';\n",
              "    var keep_item = -1;\n",
              "    var text_menu = update_menu_string(sbegin, 2, 4, sformat, send, keep_item,\n",
              "       begin_format, end_format);\n",
              "    var menu = document.getElementById(\"my_id_menu_nb\");\n",
              "    menu.innerHTML=text_menu;\n",
              "};\n",
              "window.setTimeout(update_menu,2000);\n",
              "            </script>"
            ],
            "text/plain": [
              "<IPython.core.display.HTML object>"
            ]
          },
          "execution_count": null,
          "metadata": {},
          "output_type": "execute_result"
        }
      ],
      "source": [
        "from jyquickhelper import add_notebook_menu\n",
        "add_notebook_menu()"
      ]
    },
    {
      "cell_type": "markdown",
      "metadata": {},
      "source": [
        "## Q1 : k-nn : mesurer la performance"
      ]
    },
    {
      "cell_type": "code",
      "execution_count": null,
      "metadata": {},
      "outputs": [
        {
          "data": {
            "text/plain": [
              "array([[ 0.51351564, -1.29129013,  2.5460118 , -2.42104426, -0.81367567,\n",
              "        -1.47768628,  0.60560016, -0.21796964,  1.93135557, -0.64311937],\n",
              "       [ 1.54541078,  3.41301354,  6.13334634,  1.26794708, -1.11676539,\n",
              "         1.24866106, -3.63118124,  0.0403887 , -0.98677694, -1.17217912],\n",
              "       [ 0.46325456,  0.89963871,  2.444065  , -1.50433353, -0.61699517,\n",
              "        -0.09272635, -0.49436294, -0.53280471,  2.82896846,  2.06995585]])"
            ]
          },
          "execution_count": null,
          "metadata": {},
          "output_type": "execute_result"
        }
      ],
      "source": [
        "from sklearn.datasets import make_classification\n",
        "datax, datay = make_classification(10000, n_features=10, n_classes=3, \n",
        "                                   n_clusters_per_class=2, n_informative=8)\n",
        "datax[:3]"
      ]
    },
    {
      "cell_type": "code",
      "execution_count": null,
      "metadata": {},
      "outputs": [
        {
          "data": {
            "text/plain": [
              "KNeighborsClassifier(algorithm='brute', leaf_size=30, metric='minkowski',\n",
              "           metric_params=None, n_jobs=1, n_neighbors=5, p=2,\n",
              "           weights='uniform')"
            ]
          },
          "execution_count": null,
          "metadata": {},
          "output_type": "execute_result"
        }
      ],
      "source": [
        "from sklearn.neighbors import KNeighborsClassifier\n",
        "model = KNeighborsClassifier(5, algorithm=\"brute\")\n",
        "model.fit(datax, datay)"
      ]
    },
    {
      "cell_type": "code",
      "execution_count": null,
      "metadata": {},
      "outputs": [
        {
          "data": {
            "text/plain": [
              "array([1, 0, 2, ..., 1, 2, 1])"
            ]
          },
          "execution_count": null,
          "metadata": {},
          "output_type": "execute_result"
        }
      ],
      "source": [
        "model.predict(datax)"
      ]
    },
    {
      "cell_type": "code",
      "execution_count": null,
      "metadata": {},
      "outputs": [
        {
          "name": "stdout",
          "output_type": "stream",
          "text": [
            "2.33 s \u00b1 50.9 ms per loop (mean \u00b1 std. dev. of 7 runs, 1 loop each)\n"
          ]
        }
      ],
      "source": [
        "%timeit model.predict(datax)"
      ]
    },
    {
      "cell_type": "code",
      "execution_count": null,
      "metadata": {},
      "outputs": [
        {
          "name": "stdout",
          "output_type": "stream",
          "text": [
            " "
          ]
        }
      ],
      "source": [
        "res = %prun -q -r model.predict(datax)"
      ]
    },
    {
      "cell_type": "code",
      "execution_count": null,
      "metadata": {
        "scrolled": false
      },
      "outputs": [
        {
          "name": "stdout",
          "output_type": "stream",
          "text": [
            "         215 function calls in 2.328 seconds\n",
            "\n",
            "   Ordered by: cumulative time\n",
            "\n",
            "   ncalls  tottime  percall  cumtime  percall filename:lineno(function)\n",
            "        1    0.000    0.000    2.328    2.328 {built-in method builtins.exec}\n",
            "        1    0.000    0.000    2.328    2.328 <string>:1(<module>)\n",
            "        1    0.065    0.065    2.328    2.328 classification.py:129(predict)\n",
            "        1    0.072    0.072    2.261    2.261 base.py:273(kneighbors)\n",
            "        1    0.000    0.000    1.112    1.112 pairwise.py:1141(pairwise_distances)\n",
            "        1    0.000    0.000    1.112    1.112 pairwise.py:1079(_parallel_pairwise)\n",
            "        1    0.329    0.329    1.112    1.112 pairwise.py:163(euclidean_distances)\n",
            "        2    0.000    0.000    1.076    0.538 fromnumeric.py:55(_wrapfunc)\n",
            "        1    0.000    0.000    1.075    1.075 fromnumeric.py:643(argpartition)\n",
            "        1    1.075    1.075    1.075    1.075 {method 'argpartition' of 'numpy.ndarray' objects}\n",
            "        1    0.000    0.000    0.783    0.783 extmath.py:115(safe_sparse_dot)\n",
            "        1    0.783    0.783    0.783    0.783 {built-in method numpy.core.multiarray.dot}\n",
            "        1    0.000    0.000    0.002    0.002 stats.py:378(mode)\n",
            "        7    0.000    0.000    0.002    0.000 _methods.py:31(_sum)\n",
            "        7    0.002    0.000    0.002    0.000 {method 'reduce' of 'numpy.ufunc' objects}\n",
            "        3    0.000    0.000    0.001    0.000 validation.py:279(check_array)\n",
            "        3    0.000    0.000    0.001    0.000 validation.py:32(_assert_all_finite)\n",
            "        3    0.000    0.000    0.001    0.000 {method 'sum' of 'numpy.ndarray' objects}\n",
            "        1    0.000    0.000    0.001    0.001 arraysetops.py:113(unique)\n",
            "        1    0.000    0.000    0.001    0.001 arraysetops.py:250(_unique1d)\n",
            "        4    0.000    0.000    0.001    0.000 fromnumeric.py:1730(sum)\n",
            "        1    0.001    0.001    0.001    0.001 {method 'sort' of 'numpy.ndarray' objects}\n",
            "        1    0.000    0.000    0.000    0.000 fromnumeric.py:826(argsort)\n",
            "        1    0.000    0.000    0.000    0.000 {method 'argsort' of 'numpy.ndarray' objects}\n",
            "        1    0.000    0.000    0.000    0.000 pairwise.py:58(check_pairwise_arrays)\n",
            "        1    0.000    0.000    0.000    0.000 extmath.py:55(row_norms)\n",
            "        1    0.000    0.000    0.000    0.000 einsumfunc.py:703(einsum)\n",
            "        1    0.000    0.000    0.000    0.000 {built-in method numpy.core.multiarray.c_einsum}\n",
            "        3    0.000    0.000    0.000    0.000 {built-in method numpy.core.multiarray.where}\n",
            "        1    0.000    0.000    0.000    0.000 stats.py:236(_contains_nan)\n",
            "        3    0.000    0.000    0.000    0.000 validation.py:124(_shape_repr)\n",
            "       20    0.000    0.000    0.000    0.000 {built-in method numpy.core.multiarray.array}\n",
            "        2    0.000    0.000    0.000    0.000 numeric.py:2667(seterr)\n",
            "        3    0.000    0.000    0.000    0.000 shape_base.py:63(atleast_2d)\n",
            "        1    0.000    0.000    0.000    0.000 numeric.py:3064(__enter__)\n",
            "        1    0.000    0.000    0.000    0.000 {built-in method numpy.core.multiarray.arange}\n",
            "        3    0.000    0.000    0.000    0.000 shape_base.py:239(expand_dims)\n",
            "        3    0.000    0.000    0.000    0.000 validation.py:103(_num_samples)\n",
            "        1    0.000    0.000    0.000    0.000 {method 'flatten' of 'numpy.ndarray' objects}\n",
            "        3    0.000    0.000    0.000    0.000 {method 'join' of 'str' objects}\n",
            "        5    0.000    0.000    0.000    0.000 numeric.py:463(asarray)\n",
            "        4    0.000    0.000    0.000    0.000 {method 'reshape' of 'numpy.ndarray' objects}\n",
            "        1    0.000    0.000    0.000    0.000 {method 'take' of 'numpy.ndarray' objects}\n",
            "        1    0.000    0.000    0.000    0.000 {built-in method numpy.core.multiarray.concatenate}\n",
            "        9    0.000    0.000    0.000    0.000 numeric.py:534(asanyarray)\n",
            "       12    0.000    0.000    0.000    0.000 {built-in method builtins.hasattr}\n",
            "       22    0.000    0.000    0.000    0.000 {built-in method builtins.isinstance}\n",
            "        1    0.000    0.000    0.000    0.000 pairwise.py:34(_return_float_dtype)\n",
            "        1    0.000    0.000    0.000    0.000 numeric.py:3069(__exit__)\n",
            "        8    0.000    0.000    0.000    0.000 base.py:1111(isspmatrix)\n",
            "        2    0.000    0.000    0.000    0.000 {built-in method numpy.core.multiarray.zeros}\n",
            "        1    0.000    0.000    0.000    0.000 fromnumeric.py:1380(ravel)\n",
            "        9    0.000    0.000    0.000    0.000 validation.py:151(<genexpr>)\n",
            "        2    0.000    0.000    0.000    0.000 numeric.py:2767(geterr)\n",
            "        5    0.000    0.000    0.000    0.000 {built-in method builtins.getattr}\n",
            "        1    0.000    0.000    0.000    0.000 stats.py:204(_chk_asarray)\n",
            "        1    0.000    0.000    0.000    0.000 {built-in method numpy.core.multiarray.empty}\n",
            "        1    0.000    0.000    0.000    0.000 <string>:12(__new__)\n",
            "       13    0.000    0.000    0.000    0.000 {built-in method builtins.len}\n",
            "        3    0.000    0.000    0.000    0.000 {method 'ravel' of 'numpy.ndarray' objects}\n",
            "        3    0.000    0.000    0.000    0.000 __init__.py:29(get_config)\n",
            "        1    0.000    0.000    0.000    0.000 numeric.py:3060(__init__)\n",
            "        2    0.000    0.000    0.000    0.000 {built-in method numpy.core.umath.seterrobj}\n",
            "        4    0.000    0.000    0.000    0.000 {built-in method numpy.core.umath.geterrobj}\n",
            "        1    0.000    0.000    0.000    0.000 base.py:57(_get_weights)\n",
            "        1    0.000    0.000    0.000    0.000 {built-in method __new__ of type object at 0x0000000058013430}\n",
            "        2    0.000    0.000    0.000    0.000 {method 'pop' of 'dict' objects}\n",
            "        3    0.000    0.000    0.000    0.000 {method 'append' of 'list' objects}\n",
            "        1    0.000    0.000    0.000    0.000 __init__.py:433(_get_n_jobs)\n",
            "        1    0.000    0.000    0.000    0.000 {method 'disable' of '_lsprof.Profiler' objects}\n",
            "\n",
            "\n"
          ]
        },
        {
          "data": {
            "text/plain": [
              "<pstats.Stats at 0x16efce4dfd0>"
            ]
          },
          "execution_count": null,
          "metadata": {},
          "output_type": "execute_result"
        }
      ],
      "source": [
        "res.strip_dirs().sort_stats(\"cumtime\").print_stats()"
      ]
    },
    {
      "cell_type": "markdown",
      "metadata": {},
      "source": [
        "Etudier l'\u00e9volution du temps de pr\u00e9diction en fonction du nombre d'observations, de la dimension, du nombre de classes ? Qu'en d\u00e9duisez-vous ? Le code sur GitHub :\n",
        "\n",
        "* [predict](https://github.com/scikit-learn/scikit-learn/blob/ef5cb84a/sklearn/neighbors/classification.py#L129)\n",
        "* [kneighbors](https://github.com/scikit-learn/scikit-learn/blob/ef5cb84a805efbe4bb06516670a9b8c690992bd7/sklearn/neighbors/base.py#L273)\n",
        "* [pairwise_distance](https://github.com/scikit-learn/scikit-learn/blob/master/sklearn/metrics/pairwise.py#L1141)"
      ]
    },
    {
      "cell_type": "markdown",
      "metadata": {},
      "source": [
        "## Q2 : k-nn avec sparse features\n",
        "\n",
        "On recommence cette mesure de temps mais en cr\u00e9ant des jeux de donn\u00e9es [sparses](https://fr.wikipedia.org/wiki/Matrice_creuse)."
      ]
    },
    {
      "cell_type": "markdown",
      "metadata": {},
      "source": [
        "## Q3 : Imaginez une fa\u00e7on d'aller plus vite ?\n",
        "\n",
        "Aller plus vite veut parfois dire perdre un peu en performance et dans notre cas, on veut acc\u00e9l\u00e9rer la pr\u00e9diction."
      ]
    },
    {
      "cell_type": "code",
      "execution_count": null,
      "metadata": {
        "collapsed": true
      },
      "outputs": [],
      "source": []
    }
  ],
  "metadata": {
    "kernelspec": {
      "display_name": "Python 3",
      "language": "python",
      "name": "python3"
    },
    "language_info": {
      "codemirror_mode": {
        "name": "ipython",
        "version": 3
      },
      "file_extension": ".py",
      "mimetype": "text/x-python",
      "name": "python",
      "nbconvert_exporter": "python",
      "pygments_lexer": "ipython3",
      "version": "3.6.1"
    }
  },
  "nbformat": 4,
  "nbformat_minor": 2
}