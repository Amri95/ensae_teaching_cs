{
  "cells": [
    {
      "cell_type": "markdown",
      "metadata": {},
      "source": [
        "# 1A.data - DataFrame et Matrice\n",
        "\n",
        "Les [DataFrame](http://en.wikipedia.org/wiki/Data_frame) se sont impos\u00e9s pour manipuler les donn\u00e9es avec le module [pandas](http://pandas.pydata.org/). Le module va de la manipulation des donn\u00e9es jusqu'au calcul d'une r\u00e9gresion lin\u00e9aire."
      ]
    },
    {
      "cell_type": "markdown",
      "metadata": {},
      "source": [
        "Avec cette fa\u00e7on de repr\u00e9senter les donn\u00e9es, associ\u00e9e \u00e0 des un ensemble de m\u00e9thodes couramment utilis\u00e9es, ce qu'on faisait en une ou deux boucles se fait maintenant en une seule fonction. Cette s\u00e9ance contient beaucoup d'exemples et peu d'exercices. Il est conseill\u00e9 de supprimer toutes les sorties et de les ex\u00e9cuter une \u00e0 une."
      ]
    },
    {
      "cell_type": "code",
      "execution_count": 1,
      "metadata": {},
      "outputs": [
        {
          "data": {
            "text/html": [
              "<div id=\"my_id_menu_nb\">run previous cell, wait for 2 seconds</div>\n",
              "<script>\n",
              "function repeat_indent_string(n){\n",
              "    var a = \"\" ;\n",
              "    for ( ; n > 0 ; --n)\n",
              "        a += \"    \";\n",
              "    return a;\n",
              "}\n",
              "var update_menu_string = function(begin, lfirst, llast, sformat, send, keep_item, begin_format, end_format) {\n",
              "    var anchors = document.getElementsByClassName(\"section\");\n",
              "    if (anchors.length == 0) {\n",
              "        anchors = document.getElementsByClassName(\"text_cell_render rendered_html\");\n",
              "    }\n",
              "    var i,t;\n",
              "    var text_menu = begin;\n",
              "    var text_memo = \"<pre>\\nlength:\" + anchors.length + \"\\n\";\n",
              "    var ind = \"\";\n",
              "    var memo_level = 1;\n",
              "    var href;\n",
              "    var tags = [];\n",
              "    var main_item = 0;\n",
              "    var format_open = 0;\n",
              "    for (i = 0; i <= llast; i++)\n",
              "        tags.push(\"h\" + i);\n",
              "\n",
              "    for (i = 0; i < anchors.length; i++) {\n",
              "        text_memo += \"**\" + anchors[i].id + \"--\\n\";\n",
              "\n",
              "        var child = null;\n",
              "        for(t = 0; t < tags.length; t++) {\n",
              "            var r = anchors[i].getElementsByTagName(tags[t]);\n",
              "            if (r.length > 0) {\n",
              "child = r[0];\n",
              "break;\n",
              "            }\n",
              "        }\n",
              "        if (child == null) {\n",
              "            text_memo += \"null\\n\";\n",
              "            continue;\n",
              "        }\n",
              "        if (anchors[i].hasAttribute(\"id\")) {\n",
              "            // when converted in RST\n",
              "            href = anchors[i].id;\n",
              "            text_memo += \"#1-\" + href;\n",
              "            // passer \u00e0 child suivant (le chercher)\n",
              "        }\n",
              "        else if (child.hasAttribute(\"id\")) {\n",
              "            // in a notebook\n",
              "            href = child.id;\n",
              "            text_memo += \"#2-\" + href;\n",
              "        }\n",
              "        else {\n",
              "            text_memo += \"#3-\" + \"*\" + \"\\n\";\n",
              "            continue;\n",
              "        }\n",
              "        var title = child.textContent;\n",
              "        var level = parseInt(child.tagName.substring(1,2));\n",
              "\n",
              "        text_memo += \"--\" + level + \"?\" + lfirst + \"--\" + title + \"\\n\";\n",
              "\n",
              "        if ((level < lfirst) || (level > llast)) {\n",
              "            continue ;\n",
              "        }\n",
              "        if (title.endsWith('\u00b6')) {\n",
              "            title = title.substring(0,title.length-1).replace(\"<\", \"&lt;\")\n",
              "         .replace(\">\", \"&gt;\").replace(\"&\", \"&amp;\");\n",
              "        }\n",
              "        if (title.length == 0) {\n",
              "            continue;\n",
              "        }\n",
              "\n",
              "        while (level < memo_level) {\n",
              "            text_menu += end_format + \"</ul>\\n\";\n",
              "            format_open -= 1;\n",
              "            memo_level -= 1;\n",
              "        }\n",
              "        if (level == lfirst) {\n",
              "            main_item += 1;\n",
              "        }\n",
              "        if (keep_item != -1 && main_item != keep_item + 1) {\n",
              "            // alert(main_item + \" - \" + level + \" - \" + keep_item);\n",
              "            continue;\n",
              "        }\n",
              "        while (level > memo_level) {\n",
              "            text_menu += \"<ul>\\n\";\n",
              "            memo_level += 1;\n",
              "        }\n",
              "        text_menu += repeat_indent_string(level-2);\n",
              "        text_menu += begin_format + sformat.replace(\"__HREF__\", href).replace(\"__TITLE__\", title);\n",
              "        format_open += 1;\n",
              "    }\n",
              "    while (1 < memo_level) {\n",
              "        text_menu += end_format + \"</ul>\\n\";\n",
              "        memo_level -= 1;\n",
              "        format_open -= 1;\n",
              "    }\n",
              "    text_menu += send;\n",
              "    //text_menu += \"\\n\" + text_memo;\n",
              "\n",
              "    while (format_open > 0) {\n",
              "        text_menu += end_format;\n",
              "        format_open -= 1;\n",
              "    }\n",
              "    return text_menu;\n",
              "};\n",
              "var update_menu = function() {\n",
              "    var sbegin = \"\";\n",
              "    var sformat = '<a href=\"#__HREF__\">__TITLE__</a>';\n",
              "    var send = \"\";\n",
              "    var begin_format = '<li>';\n",
              "    var end_format = '</li>';\n",
              "    var keep_item = -1;\n",
              "    var text_menu = update_menu_string(sbegin, 2, 4, sformat, send, keep_item,\n",
              "       begin_format, end_format);\n",
              "    var menu = document.getElementById(\"my_id_menu_nb\");\n",
              "    menu.innerHTML=text_menu;\n",
              "};\n",
              "window.setTimeout(update_menu,2000);\n",
              "            </script>"
            ],
            "text/plain": [
              "<IPython.core.display.HTML object>"
            ]
          },
          "execution_count": 2,
          "metadata": {},
          "output_type": "execute_result"
        }
      ],
      "source": [
        "from jyquickhelper import add_notebook_menu\n",
        "add_notebook_menu()"
      ]
    },
    {
      "cell_type": "markdown",
      "metadata": {},
      "source": [
        "L'introduction ne contient pas d'\u00e9l\u00e9ments n\u00e9cessaires \u00e0 la r\u00e9alisation du TD."
      ]
    },
    {
      "cell_type": "markdown",
      "metadata": {},
      "source": [
        "## Trouver chaussure \u00e0 ses stats\n",
        "\n",
        "La programmation est omni-pr\u00e9sente lorsqu'on manipule des donn\u00e9es. On leur applique des traitements parfois standards, souvent adapt\u00e9s pour la circonstance. On souhaite toujours programmer le moins possible mais aussi ne pas avoir \u00e0 r\u00e9apprendre un langage \u00e0 chaque fois qu'on doit manipuler les donn\u00e9es.\n",
        "\n",
        "Le logiciel [MATLAB](http://www.mathworks.fr/products/matlab/) a propos\u00e9 voici 30 ans un premier environnement de travail facilitant le calcul matriciel et ce standard s'est impos\u00e9 depuis. Comme *MATLAB* est un logiciel payant, des \u00e9quivalents open source et gratuits ont \u00e9t\u00e9 d\u00e9velopp\u00e9s. Ils proposent tous le calcul matriciel, la possibilit\u00e9 de visualiser, un environnement de d\u00e9veloppement. Ils diff\u00e9rent pas des performances diff\u00e9rentes et des \u00e9ventails d'extensions diff\u00e9rentes. \n",
        "\n",
        "* [R](http://www.r-project.org/) : la r\u00e9f\u00e9rence pour les statisticiens, il est utilis\u00e9 par tous les chercheurs dans ce domaine.\n",
        "* [SciLab](http://www.scilab.org/fr) : d\u00e9velopp\u00e9 par l'[INRIA](http://www.inria.fr/).\n",
        "* [Octave](http://www.gnu.org/software/octave/) : clone open source de *MATLAB*, il n'inclut pas autant de librairies mais il est gratuit.\n",
        "* [Julia](http://julialang.org/) : c'est le plus jeune, il est plus rapide mais ses librairies sont moins nombreuses.\n",
        "\n",
        "Ils sont tous performants en qui concerne le calcul num\u00e9rique, ils le sont beaucoup moins lorsqu'il s'agit de faire des traitements qui ne sont pas num\u00e9riques (traiter du texte par exemple) car ils n'ont pas \u00e9t\u00e9 pr\u00e9vus pour cela \u00e0 la base (\u00e0 l'exception de Julia peut \u00eatre qui est plus jeune [Python v. Clojure v. Julia](http://matthewrocklin.com/blog/work/2014/01/13/Text-Benchmarks)). Le langage Python est devenu depuis 2012 une alternative int\u00e9ressante pour ces raisons (voir \u00e9galement [Why Python?](http://www.xavierdupre.fr/blog/2014-07-11_nojs.html)) :\n",
        "\n",
        "* Il propose les m\u00eame fonctionnalit\u00e9s de base (calcul matriciel, graphiques, environnement).\n",
        "* Python est plus pratique pour tout ce qui n'est pas num\u00e9rique (fichiers, web, server web, SQL, ...).\n",
        "* La plupart des librairies connues et \u00e9crites en C++ ont \u00e9t\u00e9 port\u00e9e sous Python.\n",
        "* Il est plus facile de changer un composant important en Python (numpy par exemple) si le nouveau est plus efficace.\n",
        "\n",
        "Un inconv\u00e9nient peut-\u00eatre est qu'il faut installer plusieurs extensions avant de pouvoir commencer \u00e0 travailler (voir [Installation de Python](http://www.xavierdupre.fr/app/ensae_teaching_cs/helpsphinx/data2a.html#usage-regulier)) :\n",
        "\n",
        "* [numpy](http://www.numpy.org/) : calcul matriciel\n",
        "* [pandas](http://pandas.pydata.org/) : DataFrame\n",
        "* [jupyter](http://jupyter.org/) : notebooks (comme celui-ci)\n",
        "* [matplotlib](http://matplotlib.org/) : graphiques\n",
        "* [scikit-learn](http://scikit-learn.org/stable/) : machine learning, statistique descriptive\n",
        "* [statsmodels](http://statsmodels.sourceforge.net/) : statistiques descriptives\n",
        "\n",
        "Optionnels :\n",
        "\n",
        "* [ggplot](http://ggplot.yhathq.com/) : extension tr\u00e8s populaire sur *R* et port\u00e9e sur Python\n",
        "* [Spyder](https://code.google.com/p/spyderlib/) : environnement type R, MATLAB, ...\n",
        "* [scipy](http://www.scipy.org/) : autres traitements num\u00e9riques (voir [NumPy vs. SciPy vs. other packages](http://www.scipy.org/scipylib/faq.html#what-is-the-difference-between-numpy-and-scipy))\n",
        "* [dask](http://dask.pydata.org/en/latest/) : dataframe distribu\u00e9 et capables de g\u00e9rer des gros volumes de donn\u00e9es (> 5Go)\n",
        "\n",
        "\n",
        "Les environnements Python \u00e9voluent tr\u00e8s vite, les modules mentionn\u00e9s ici sont tous maintenus mais il eut en surgir de nouveau tr\u00e8s rapidement. Quelques environnements \u00e0 suivre :\n",
        "\n",
        "* [Python Tools for Visual Studio](https://microsoft.github.io/PTVS/) : environnement de d\u00e9veloppement pour Visual Studio\n",
        "* [PyCharm](http://www.jetbrains.com/pycharm/) : n'inclut pas les graphiques mais est assez agr\u00e9able pour programmer\n",
        "* [IEP](http://www.iep-project.org/index.html) : \u00e9crit en Python\n",
        "* [PyDev](http://pydev.org/) : extension pour [Eclipse](http://www.eclipse.org/)\n",
        "* [WingIDE](https://wingware.com/)\n",
        "\n",
        "Si vous ne voulez pas programmer, il existe des alternatives. C'est assez performant sur de petits jeux de donn\u00e9es mais cela devient plus complexe d\u00e8s qu'on veut programmer car le code doit tenir compte des sp\u00e9cificit\u00e9s de l'outil. \n",
        "\n",
        "* [Orange](http://orange.biolab.si/) : \u00e9crit en Python\n",
        "* [Weka](http://www.cs.waikato.ac.nz/ml/weka/) : \u00e9crit en Java (le pionnier)\n",
        "* [dataiku](https://www.dataiku.com/) : startup fran\u00e7aise\n",
        "* [RapidMiner](http://rapidminer.com/) : version gratuite et payante\n",
        "* [AzureML](https://studio.azureml.net/) : solution Microsoft de workflow de donn\u00e9es\n",
        "\n",
        "C'est parfois plus pratique pour commencer mais mal commode si on veut automatiser un traitrment pour r\u00e9p\u00e9ter la m\u00eame t\u00e2che de fa\u00e7on r\u00e9guli\u00e8re. Pour les travaux pratiques \u00e0 l'ENSAE, j'ai choisi les [notebooks](http://jupyter.org/notebook.html) : c'est une page blanche o\u00f9 on peut m\u00e9langer texte, \u00e9quations, graphiques, code et ex\u00e9cution de code.\n",
        "\n",
        "**Taille de DataFrame**\n",
        "\n",
        "Les DataFrame en Python sont assez rapides lorsqu'il y a moins de 10 millions d'observations et que le fichier texte qui d\u00e9crit les donn\u00e9es n'est pas plus gros que 10 Mo. Au del\u00e0, il faut soit \u00eatre patient, soit \u00eatre astucieux comme ici : [DataFrame et SQL](http://www.xavierdupre.fr/blog/2014-07-19_nojs.html), [Data Wrangling with Pandas](http://nbviewer.ipython.org/urls/gist.github.com/fonnesbeck/5850413/raw/3a9406c73365480bc58d5e75bc80f7962243ba17/2.+Data+Wrangling+with+Pandas.ipynb).\n",
        "\n",
        "**Valeurs manquantes**\n",
        "\n",
        "Lorsqu'on r\u00e9cup\u00e8re des donn\u00e9es, il peut arriver qu'une valeur soit manquante. \n",
        "\n",
        "* [Missing Data](http://pandas.pydata.org/pandas-docs/dev/10min.html?highlight=working#missing-data)\n",
        "* [Working with missing data](http://pandas.pydata.org/pandas-docs/dev/missing_data.html)"
      ]
    },
    {
      "cell_type": "markdown",
      "metadata": {},
      "source": [
        "## DataFrame (pandas)\n",
        "\n",
        "**Quelques liens :** [An Introduction to Pandas](http://synesthesiam.com/posts/an-introduction-to-pandas.html)\n",
        "\n",
        "Un [Data Frame](http://en.wikipedia.org/wiki/Data_frame) est un objet qui est pr\u00e9sent dans la plupart des logiciels de traitements de donn\u00e9es, c'est une **matrice**, chaque colonne est de m\u00eame type (nombre, dates, texte), elle peut contenir des valeurs manquantes. On peut consid\u00e9rer chaque colonne comme les variables d'une table ([pandas.Dataframe](http://pandas.pydata.org/pandas-docs/dev/generated/pandas.DataFrame.html) - cette page contient toutes les m\u00e9thodes de la classe)."
      ]
    },
    {
      "cell_type": "code",
      "execution_count": 2,
      "metadata": {},
      "outputs": [
        {
          "data": {
            "text/html": [
              "<div style=\"max-height:1000px;max-width:1500px;overflow:auto;\">\n",
              "<table border=\"1\" class=\"dataframe\">\n",
              "  <thead>\n",
              "    <tr style=\"text-align: right;\">\n",
              "      <th></th>\n",
              "      <th>date</th>\n",
              "      <th>devise</th>\n",
              "      <th>prix</th>\n",
              "    </tr>\n",
              "  </thead>\n",
              "  <tbody>\n",
              "    <tr>\n",
              "      <th>0</th>\n",
              "      <td> 2014-06-22</td>\n",
              "      <td> euros</td>\n",
              "      <td> 220</td>\n",
              "    </tr>\n",
              "    <tr>\n",
              "      <th>1</th>\n",
              "      <td> 2014-06-23</td>\n",
              "      <td> euros</td>\n",
              "      <td> 221</td>\n",
              "    </tr>\n",
              "  </tbody>\n",
              "</table>\n",
              "<p>2 rows \u00d7 3 columns</p>\n",
              "</div>"
            ],
            "text/plain": [
              "         date devise  prix\n",
              "0  2014-06-22  euros   220\n",
              "1  2014-06-23  euros   221\n",
              "\n",
              "[2 rows x 3 columns]"
            ]
          },
          "execution_count": 3,
          "metadata": {},
          "output_type": "execute_result"
        }
      ],
      "source": [
        "import pandas\n",
        "l = [ { \"date\":\"2014-06-22\", \"prix\":220.0, \"devise\":\"euros\" }, \n",
        "      { \"date\":\"2014-06-23\", \"prix\":221.0, \"devise\":\"euros\" },]\n",
        "df = pandas.DataFrame(l)\n",
        "df"
      ]
    },
    {
      "cell_type": "markdown",
      "metadata": {},
      "source": [
        "Avec une valeur manquante :"
      ]
    },
    {
      "cell_type": "code",
      "execution_count": 3,
      "metadata": {},
      "outputs": [
        {
          "data": {
            "text/html": [
              "<div style=\"max-height:1000px;max-width:1500px;overflow:auto;\">\n",
              "<table border=\"1\" class=\"dataframe\">\n",
              "  <thead>\n",
              "    <tr style=\"text-align: right;\">\n",
              "      <th></th>\n",
              "      <th>date</th>\n",
              "      <th>devise</th>\n",
              "      <th>prix</th>\n",
              "    </tr>\n",
              "  </thead>\n",
              "  <tbody>\n",
              "    <tr>\n",
              "      <th>0</th>\n",
              "      <td> 2014-06-22</td>\n",
              "      <td> euros</td>\n",
              "      <td> 220</td>\n",
              "    </tr>\n",
              "    <tr>\n",
              "      <th>1</th>\n",
              "      <td> 2014-06-23</td>\n",
              "      <td> euros</td>\n",
              "      <td> NaN</td>\n",
              "    </tr>\n",
              "  </tbody>\n",
              "</table>\n",
              "<p>2 rows \u00d7 3 columns</p>\n",
              "</div>"
            ],
            "text/plain": [
              "         date devise  prix\n",
              "0  2014-06-22  euros   220\n",
              "1  2014-06-23  euros   NaN\n",
              "\n",
              "[2 rows x 3 columns]"
            ]
          },
          "execution_count": 4,
          "metadata": {},
          "output_type": "execute_result"
        }
      ],
      "source": [
        "l = [ { \"date\":\"2014-06-22\", \"prix\":220.0, \"devise\":\"euros\" }, \n",
        "      { \"date\":\"2014-06-23\", \"devise\":\"euros\"  },]\n",
        "df = pandas.DataFrame(l)\n",
        "df"
      ]
    },
    {
      "cell_type": "markdown",
      "metadata": {},
      "source": [
        "[NaN](http://docs.scipy.org/doc/numpy/reference/generated/numpy.isnan.html#numpy.isnan) est une convention pour une valeur manquante. On extrait la variable ``prix`` :"
      ]
    },
    {
      "cell_type": "code",
      "execution_count": 4,
      "metadata": {},
      "outputs": [
        {
          "data": {
            "text/plain": [
              "0    220\n",
              "1    NaN\n",
              "Name: prix, dtype: float64"
            ]
          },
          "execution_count": 5,
          "metadata": {},
          "output_type": "execute_result"
        }
      ],
      "source": [
        "df.prix"
      ]
    },
    {
      "cell_type": "markdown",
      "metadata": {},
      "source": [
        "Ou :"
      ]
    },
    {
      "cell_type": "code",
      "execution_count": 5,
      "metadata": {},
      "outputs": [
        {
          "data": {
            "text/plain": [
              "0    220\n",
              "1    NaN\n",
              "Name: prix, dtype: float64"
            ]
          },
          "execution_count": 6,
          "metadata": {},
          "output_type": "execute_result"
        }
      ],
      "source": [
        "df[\"prix\"]"
      ]
    },
    {
      "cell_type": "markdown",
      "metadata": {},
      "source": [
        "Pour extraire plusieurs colonnes :"
      ]
    },
    {
      "cell_type": "code",
      "execution_count": 6,
      "metadata": {},
      "outputs": [
        {
          "data": {
            "text/html": [
              "<div style=\"max-height:1000px;max-width:1500px;overflow:auto;\">\n",
              "<table border=\"1\" class=\"dataframe\">\n",
              "  <thead>\n",
              "    <tr style=\"text-align: right;\">\n",
              "      <th></th>\n",
              "      <th>date</th>\n",
              "      <th>prix</th>\n",
              "    </tr>\n",
              "  </thead>\n",
              "  <tbody>\n",
              "    <tr>\n",
              "      <th>0</th>\n",
              "      <td> 2014-06-22</td>\n",
              "      <td> 220</td>\n",
              "    </tr>\n",
              "    <tr>\n",
              "      <th>1</th>\n",
              "      <td> 2014-06-23</td>\n",
              "      <td> NaN</td>\n",
              "    </tr>\n",
              "  </tbody>\n",
              "</table>\n",
              "<p>2 rows \u00d7 2 columns</p>\n",
              "</div>"
            ],
            "text/plain": [
              "         date  prix\n",
              "0  2014-06-22   220\n",
              "1  2014-06-23   NaN\n",
              "\n",
              "[2 rows x 2 columns]"
            ]
          },
          "execution_count": 7,
          "metadata": {},
          "output_type": "execute_result"
        }
      ],
      "source": [
        "df [[\"date\",\"prix\"]]"
      ]
    },
    {
      "cell_type": "markdown",
      "metadata": {},
      "source": [
        "Pour prendre la transpos\u00e9e (voir aussi [DataFrame.transpose](http://pandas.pydata.org/pandas-docs/stable/generated/pandas.Panel.transpose.html)) :"
      ]
    },
    {
      "cell_type": "code",
      "execution_count": 7,
      "metadata": {},
      "outputs": [
        {
          "data": {
            "text/html": [
              "<div style=\"max-height:1000px;max-width:1500px;overflow:auto;\">\n",
              "<table border=\"1\" class=\"dataframe\">\n",
              "  <thead>\n",
              "    <tr style=\"text-align: right;\">\n",
              "      <th></th>\n",
              "      <th>0</th>\n",
              "      <th>1</th>\n",
              "    </tr>\n",
              "  </thead>\n",
              "  <tbody>\n",
              "    <tr>\n",
              "      <th>date</th>\n",
              "      <td> 2014-06-22</td>\n",
              "      <td> 2014-06-23</td>\n",
              "    </tr>\n",
              "    <tr>\n",
              "      <th>devise</th>\n",
              "      <td>      euros</td>\n",
              "      <td>      euros</td>\n",
              "    </tr>\n",
              "    <tr>\n",
              "      <th>prix</th>\n",
              "      <td>        220</td>\n",
              "      <td>        NaN</td>\n",
              "    </tr>\n",
              "  </tbody>\n",
              "</table>\n",
              "<p>3 rows \u00d7 2 columns</p>\n",
              "</div>"
            ],
            "text/plain": [
              "                 0           1\n",
              "date    2014-06-22  2014-06-23\n",
              "devise       euros       euros\n",
              "prix           220         NaN\n",
              "\n",
              "[3 rows x 2 columns]"
            ]
          },
          "execution_count": 8,
          "metadata": {},
          "output_type": "execute_result"
        }
      ],
      "source": [
        "df.T"
      ]
    },
    {
      "cell_type": "markdown",
      "metadata": {},
      "source": [
        "### Lecture et \u00e9criture de DataFrame\n",
        "\n",
        "Aujourd'hui, on n'a plus besoin de r\u00e9\u00e9crire soi-m\u00eame une fonction de lecture ou d'\u00e9criture de donn\u00e9es pr\u00e9sent\u00e9es sous forme de tables. Il existe des fonctions plus g\u00e9n\u00e9riques qui g\u00e8re un grand nombre de cas.\n",
        "Cette section pr\u00e9sente bri\u00e8vement les fonctions qui permettent de lire/\u00e9crire un DataFrame aux formats texte/Excel. On reprend l'exemple de section pr\u00e9c\u00e9dente. L'instruction ``encoding=utf-8`` n'est pas obligatoire mais conseill\u00e9e lorsque les donn\u00e9es contiennent des accents (voir [read_csv](http://pandas.pydata.org/pandas-docs/stable/generated/pandas.io.parsers.read_csv.html))."
      ]
    },
    {
      "cell_type": "code",
      "execution_count": 8,
      "metadata": {},
      "outputs": [
        {
          "name": "stdout",
          "output_type": "stream",
          "text": [
            "date\tdevise\tprix\n",
            "2014-06-22\teuros\t220.0\n",
            "2014-06-23\teuros\t221.0\n",
            "\n"
          ]
        }
      ],
      "source": [
        "import pandas\n",
        "l = [ { \"date\":\"2014-06-22\", \"prix\":220.0, \"devise\":\"euros\" }, \n",
        "      { \"date\":\"2014-06-23\", \"prix\":221.0, \"devise\":\"euros\" },]\n",
        "df = pandas.DataFrame(l)\n",
        "\n",
        "# \u00e9criture au format texte\n",
        "df.to_csv(\"exemple.txt\",sep=\"\\t\",encoding=\"utf-8\", index=False)\n",
        "\n",
        "# on regarde ce qui a \u00e9t\u00e9 enregistr\u00e9\n",
        "with open(\"exemple.txt\", \"r\", encoding=\"utf-8\") as f : text = f.read()\n",
        "print(text)\n",
        "\n",
        "# on enregistre au format Excel\n",
        "df.to_excel(\"exemple.xlsx\", index=False)\n",
        "\n",
        "# on ouvre Excel sur ce fichier (sous Windows)\n",
        "from pyquickhelper.loghelper import run_cmd\n",
        "from pyquickhelper.loghelper.run_cmd import skip_run_cmd\n",
        "out,err = run_cmd(\"exemple.xlsx\", wait = False)"
      ]
    },
    {
      "cell_type": "markdown",
      "metadata": {},
      "source": [
        "On peut r\u00e9cup\u00e9rer des donn\u00e9es directement depuis Internet ou une cha\u00eene de caract\u00e8res et afficher le d\u00e9but ([head](http://pandas.pydata.org/pandas-docs/stable/generated/pandas.DataFrame.head.html)) ou la fin ([tail](http://pandas.pydata.org/pandas-docs/dev/generated/pandas.DataFrame.tail.html)). Le code qui suit est ce qu'on \u00e9crirait d'habitude :"
      ]
    },
    {
      "cell_type": "code",
      "execution_count": 9,
      "metadata": {
        "collapsed": true
      },
      "outputs": [],
      "source": [
        "if False:\n",
        "    import pandas, urllib.request\n",
        "    furl = urllib.request.urlopen(\"http://www.xavierdupre.fr/enseignement/complements/marathon.txt\")\n",
        "    df = pandas.read_csv(furl, sep=\"\\t\", names=[\"ville\", \"annee\", \"temps\",\"secondes\"])\n",
        "    df.head()"
      ]
    },
    {
      "cell_type": "markdown",
      "metadata": {},
      "source": [
        "Et pout \u00e9viter les erreurs de connexion internet, les donn\u00e9es font partie int\u00e9grante du module :"
      ]
    },
    {
      "cell_type": "code",
      "execution_count": 10,
      "metadata": {},
      "outputs": [
        {
          "data": {
            "text/html": [
              "<div>\n",
              "<table border=\"1\" class=\"dataframe\">\n",
              "  <thead>\n",
              "    <tr style=\"text-align: right;\">\n",
              "      <th></th>\n",
              "      <th>ville</th>\n",
              "      <th>annee</th>\n",
              "      <th>temps</th>\n",
              "      <th>secondes</th>\n",
              "    </tr>\n",
              "  </thead>\n",
              "  <tbody>\n",
              "    <tr>\n",
              "      <th>0</th>\n",
              "      <td>PARIS</td>\n",
              "      <td>2011</td>\n",
              "      <td>02:06:29</td>\n",
              "      <td>7589</td>\n",
              "    </tr>\n",
              "    <tr>\n",
              "      <th>1</th>\n",
              "      <td>PARIS</td>\n",
              "      <td>2010</td>\n",
              "      <td>02:06:41</td>\n",
              "      <td>7601</td>\n",
              "    </tr>\n",
              "    <tr>\n",
              "      <th>2</th>\n",
              "      <td>PARIS</td>\n",
              "      <td>2009</td>\n",
              "      <td>02:05:47</td>\n",
              "      <td>7547</td>\n",
              "    </tr>\n",
              "    <tr>\n",
              "      <th>3</th>\n",
              "      <td>PARIS</td>\n",
              "      <td>2008</td>\n",
              "      <td>02:06:40</td>\n",
              "      <td>7600</td>\n",
              "    </tr>\n",
              "    <tr>\n",
              "      <th>4</th>\n",
              "      <td>PARIS</td>\n",
              "      <td>2007</td>\n",
              "      <td>02:07:17</td>\n",
              "      <td>7637</td>\n",
              "    </tr>\n",
              "  </tbody>\n",
              "</table>\n",
              "</div>"
            ],
            "text/plain": [
              "   ville  annee     temps  secondes\n",
              "0  PARIS   2011  02:06:29      7589\n",
              "1  PARIS   2010  02:06:41      7601\n",
              "2  PARIS   2009  02:05:47      7547\n",
              "3  PARIS   2008  02:06:40      7600\n",
              "4  PARIS   2007  02:07:17      7637"
            ]
          },
          "execution_count": 11,
          "metadata": {},
          "output_type": "execute_result"
        }
      ],
      "source": [
        "from ensae_teaching_cs.data import marathon\n",
        "import pandas\n",
        "df = pandas.read_csv(marathon(filename=True), \n",
        "                     sep=\"\\t\", names=[\"ville\", \"annee\", \"temps\",\"secondes\"])\n",
        "df.head()"
      ]
    },
    {
      "cell_type": "markdown",
      "metadata": {},
      "source": [
        "La fonction [describe](http://pandas.pydata.org/pandas-docs/stable/generated/pandas.DataFrame.describe.html) permet d'en savoir un peu plus sur les colonnes num\u00e9riques de cette table."
      ]
    },
    {
      "cell_type": "code",
      "execution_count": 11,
      "metadata": {},
      "outputs": [
        {
          "data": {
            "text/html": [
              "<div style=\"max-height:1000px;max-width:1500px;overflow:auto;\">\n",
              "<table border=\"1\" class=\"dataframe\">\n",
              "  <thead>\n",
              "    <tr style=\"text-align: right;\">\n",
              "      <th></th>\n",
              "      <th>annee</th>\n",
              "      <th>secondes</th>\n",
              "    </tr>\n",
              "  </thead>\n",
              "  <tbody>\n",
              "    <tr>\n",
              "      <th>count</th>\n",
              "      <td>  359.000000</td>\n",
              "      <td>   359.000000</td>\n",
              "    </tr>\n",
              "    <tr>\n",
              "      <th>mean</th>\n",
              "      <td> 1989.754875</td>\n",
              "      <td>  7933.660167</td>\n",
              "    </tr>\n",
              "    <tr>\n",
              "      <th>std</th>\n",
              "      <td>   14.028545</td>\n",
              "      <td>   385.289830</td>\n",
              "    </tr>\n",
              "    <tr>\n",
              "      <th>min</th>\n",
              "      <td> 1947.000000</td>\n",
              "      <td>  7382.000000</td>\n",
              "    </tr>\n",
              "    <tr>\n",
              "      <th>25%</th>\n",
              "      <td> 1981.000000</td>\n",
              "      <td>  7698.000000</td>\n",
              "    </tr>\n",
              "    <tr>\n",
              "      <th>50%</th>\n",
              "      <td> 1991.000000</td>\n",
              "      <td>  7820.000000</td>\n",
              "    </tr>\n",
              "    <tr>\n",
              "      <th>75%</th>\n",
              "      <td> 2001.000000</td>\n",
              "      <td>  8046.500000</td>\n",
              "    </tr>\n",
              "    <tr>\n",
              "      <th>max</th>\n",
              "      <td> 2011.000000</td>\n",
              "      <td> 10028.000000</td>\n",
              "    </tr>\n",
              "  </tbody>\n",
              "</table>\n",
              "<p>8 rows \u00d7 2 columns</p>\n",
              "</div>"
            ],
            "text/plain": [
              "             annee      secondes\n",
              "count   359.000000    359.000000\n",
              "mean   1989.754875   7933.660167\n",
              "std      14.028545    385.289830\n",
              "min    1947.000000   7382.000000\n",
              "25%    1981.000000   7698.000000\n",
              "50%    1991.000000   7820.000000\n",
              "75%    2001.000000   8046.500000\n",
              "max    2011.000000  10028.000000\n",
              "\n",
              "[8 rows x 2 columns]"
            ]
          },
          "execution_count": 12,
          "metadata": {},
          "output_type": "execute_result"
        }
      ],
      "source": [
        "df.describe()"
      ]
    },
    {
      "cell_type": "markdown",
      "metadata": {},
      "source": [
        "### DataFrame et Index\n",
        "\n",
        "On d\u00e9signe g\u00e9n\u00e9ralement une colonne ou *variable* par son nom. Les lignes peuvent \u00eatre d\u00e9sign\u00e9es par un entier."
      ]
    },
    {
      "cell_type": "code",
      "execution_count": 12,
      "metadata": {},
      "outputs": [
        {
          "data": {
            "text/html": [
              "<div style=\"max-height:1000px;max-width:1500px;overflow:auto;\">\n",
              "<table border=\"1\" class=\"dataframe\">\n",
              "  <thead>\n",
              "    <tr style=\"text-align: right;\">\n",
              "      <th></th>\n",
              "      <th>date</th>\n",
              "      <th>devise</th>\n",
              "      <th>prix</th>\n",
              "    </tr>\n",
              "  </thead>\n",
              "  <tbody>\n",
              "    <tr>\n",
              "      <th>0</th>\n",
              "      <td> 2014-06-22</td>\n",
              "      <td> euros</td>\n",
              "      <td> 220</td>\n",
              "    </tr>\n",
              "    <tr>\n",
              "      <th>1</th>\n",
              "      <td> 2014-06-23</td>\n",
              "      <td> euros</td>\n",
              "      <td> 221</td>\n",
              "    </tr>\n",
              "  </tbody>\n",
              "</table>\n",
              "<p>2 rows \u00d7 3 columns</p>\n",
              "</div>"
            ],
            "text/plain": [
              "         date devise  prix\n",
              "0  2014-06-22  euros   220\n",
              "1  2014-06-23  euros   221\n",
              "\n",
              "[2 rows x 3 columns]"
            ]
          },
          "execution_count": 13,
          "metadata": {},
          "output_type": "execute_result"
        }
      ],
      "source": [
        "import pandas\n",
        "l = [ { \"date\":\"2014-06-22\", \"prix\":220.0, \"devise\":\"euros\" }, \n",
        "      { \"date\":\"2014-06-23\", \"prix\":221.0, \"devise\":\"euros\" },]\n",
        "df = pandas.DataFrame(l)\n",
        "df"
      ]
    },
    {
      "cell_type": "markdown",
      "metadata": {},
      "source": [
        "On extrait une ligne ([loc](http://pandas.pydata.org/pandas-docs/dev/generated/pandas.DataFrame.loc.html)) :"
      ]
    },
    {
      "cell_type": "code",
      "execution_count": 13,
      "metadata": {},
      "outputs": [
        {
          "data": {
            "text/plain": [
              "date      2014-06-23\n",
              "devise         euros\n",
              "prix             221\n",
              "Name: 1, dtype: object"
            ]
          },
          "execution_count": 14,
          "metadata": {},
          "output_type": "execute_result"
        }
      ],
      "source": [
        "df.iloc[1]"
      ]
    },
    {
      "cell_type": "markdown",
      "metadata": {},
      "source": [
        "Mais il est possible d'utiliser une colonne ou plusieurs colonnes comme index ([set_index](http://pandas.pydata.org/pandas-docs/stable/generated/pandas.DataFrame.set_index.html)) :"
      ]
    },
    {
      "cell_type": "code",
      "execution_count": 14,
      "metadata": {},
      "outputs": [
        {
          "data": {
            "text/html": [
              "<div style=\"max-height:1000px;max-width:1500px;overflow:auto;\">\n",
              "<table border=\"1\" class=\"dataframe\">\n",
              "  <thead>\n",
              "    <tr style=\"text-align: right;\">\n",
              "      <th></th>\n",
              "      <th>devise</th>\n",
              "      <th>prix</th>\n",
              "    </tr>\n",
              "    <tr>\n",
              "      <th>date</th>\n",
              "      <th></th>\n",
              "      <th></th>\n",
              "    </tr>\n",
              "  </thead>\n",
              "  <tbody>\n",
              "    <tr>\n",
              "      <th>2014-06-22</th>\n",
              "      <td> euros</td>\n",
              "      <td> 220</td>\n",
              "    </tr>\n",
              "    <tr>\n",
              "      <th>2014-06-23</th>\n",
              "      <td> euros</td>\n",
              "      <td> 221</td>\n",
              "    </tr>\n",
              "  </tbody>\n",
              "</table>\n",
              "<p>2 rows \u00d7 2 columns</p>\n",
              "</div>"
            ],
            "text/plain": [
              "           devise  prix\n",
              "date                   \n",
              "2014-06-22  euros   220\n",
              "2014-06-23  euros   221\n",
              "\n",
              "[2 rows x 2 columns]"
            ]
          },
          "execution_count": 15,
          "metadata": {},
          "output_type": "execute_result"
        }
      ],
      "source": [
        "dfi = df.set_index(\"date\")\n",
        "dfi"
      ]
    },
    {
      "cell_type": "markdown",
      "metadata": {},
      "source": [
        "On peut maintenant d\u00e9signer une ligne par une date :"
      ]
    },
    {
      "cell_type": "code",
      "execution_count": 15,
      "metadata": {},
      "outputs": [
        {
          "data": {
            "text/plain": [
              "devise    euros\n",
              "prix        221\n",
              "Name: 2014-06-23, dtype: object"
            ]
          },
          "execution_count": 16,
          "metadata": {},
          "output_type": "execute_result"
        }
      ],
      "source": [
        "dfi.loc[\"2014-06-23\"]"
      ]
    },
    {
      "cell_type": "markdown",
      "metadata": {},
      "source": [
        "Il est possible d'utiliser plusieurs colonnes comme index :"
      ]
    },
    {
      "cell_type": "code",
      "execution_count": 16,
      "metadata": {},
      "outputs": [
        {
          "data": {
            "text/plain": [
              "arrondissement    18\n",
              "Name: (dupr\u00e9, xavier), dtype: int64"
            ]
          },
          "execution_count": 17,
          "metadata": {},
          "output_type": "execute_result"
        }
      ],
      "source": [
        "df = pandas.DataFrame([ {\"pr\u00e9nom\":\"xavier\", \"nom\":\"dupr\u00e9\", \"arrondissement\":18}, \n",
        "       {\"pr\u00e9nom\":\"cl\u00e9mence\", \"nom\":\"dupr\u00e9\", \"arrondissement\":15 } ])\n",
        "dfi = df.set_index([\"nom\",\"pr\u00e9nom\"])\n",
        "dfi.loc[\"dupr\u00e9\",\"xavier\"]"
      ]
    },
    {
      "cell_type": "markdown",
      "metadata": {},
      "source": [
        "Si on veut changer l'index ou le supprimer ([reset_index](http://pandas.pydata.org/pandas-docs/stable/generated/pandas.DataFrame.reset_index.html)) :"
      ]
    },
    {
      "cell_type": "code",
      "execution_count": 17,
      "metadata": {},
      "outputs": [
        {
          "data": {
            "text/html": [
              "<div style=\"max-height:1000px;max-width:1500px;overflow:auto;\">\n",
              "<table border=\"1\" class=\"dataframe\">\n",
              "  <thead>\n",
              "    <tr style=\"text-align: right;\">\n",
              "      <th></th>\n",
              "      <th></th>\n",
              "      <th>pr\u00e9nom</th>\n",
              "    </tr>\n",
              "    <tr>\n",
              "      <th>nom</th>\n",
              "      <th>arrondissement</th>\n",
              "      <th></th>\n",
              "    </tr>\n",
              "  </thead>\n",
              "  <tbody>\n",
              "    <tr>\n",
              "      <th rowspan=\"2\" valign=\"top\">dupr\u00e9</th>\n",
              "      <th>18</th>\n",
              "      <td>   xavier</td>\n",
              "    </tr>\n",
              "    <tr>\n",
              "      <th>15</th>\n",
              "      <td> cl\u00e9mence</td>\n",
              "    </tr>\n",
              "  </tbody>\n",
              "</table>\n",
              "<p>2 rows \u00d7 1 columns</p>\n",
              "</div>"
            ],
            "text/plain": [
              "                        pr\u00e9nom\n",
              "nom   arrondissement          \n",
              "dupr\u00e9 18                xavier\n",
              "      15              cl\u00e9mence\n",
              "\n",
              "[2 rows x 1 columns]"
            ]
          },
          "execution_count": 18,
          "metadata": {},
          "output_type": "execute_result"
        }
      ],
      "source": [
        "dfi.reset_index(drop=False, inplace=True)  \n",
        "        # le mot-cl\u00e9 drop pour garder ou non les colonnes servant d'index\n",
        "        # inplace signifie qu'on modifie l'instance et non qu'une copie est modifi\u00e9e\n",
        "        # donc on peut aussi \u00e9crire dfi2 = dfi.reset_index(drop=False)  \n",
        "dfi.set_index([\"nom\", \"arrondissement\"],inplace=True)\n",
        "dfi"
      ]
    },
    {
      "cell_type": "markdown",
      "metadata": {},
      "source": [
        "Les index sont particuli\u00e8rement utiles lorsqu'il s'agit de fusionner deux tables. Pour des petites tables, la plupart du temps, il est plus facile de s'en passer."
      ]
    },
    {
      "cell_type": "markdown",
      "metadata": {},
      "source": [
        "### Notation avec le symbole ``:``\n",
        "\n",
        "Le symbole ``:`` d\u00e9signe une plage de valeurs."
      ]
    },
    {
      "cell_type": "code",
      "execution_count": 18,
      "metadata": {},
      "outputs": [
        {
          "data": {
            "text/html": [
              "<div>\n",
              "<table border=\"1\" class=\"dataframe\">\n",
              "  <thead>\n",
              "    <tr style=\"text-align: right;\">\n",
              "      <th></th>\n",
              "      <th>ville</th>\n",
              "      <th>annee</th>\n",
              "      <th>temps</th>\n",
              "      <th>secondes</th>\n",
              "    </tr>\n",
              "  </thead>\n",
              "  <tbody>\n",
              "    <tr>\n",
              "      <th>0</th>\n",
              "      <td>PARIS</td>\n",
              "      <td>2011</td>\n",
              "      <td>02:06:29</td>\n",
              "      <td>7589</td>\n",
              "    </tr>\n",
              "    <tr>\n",
              "      <th>1</th>\n",
              "      <td>PARIS</td>\n",
              "      <td>2010</td>\n",
              "      <td>02:06:41</td>\n",
              "      <td>7601</td>\n",
              "    </tr>\n",
              "    <tr>\n",
              "      <th>2</th>\n",
              "      <td>PARIS</td>\n",
              "      <td>2009</td>\n",
              "      <td>02:05:47</td>\n",
              "      <td>7547</td>\n",
              "    </tr>\n",
              "    <tr>\n",
              "      <th>3</th>\n",
              "      <td>PARIS</td>\n",
              "      <td>2008</td>\n",
              "      <td>02:06:40</td>\n",
              "      <td>7600</td>\n",
              "    </tr>\n",
              "    <tr>\n",
              "      <th>4</th>\n",
              "      <td>PARIS</td>\n",
              "      <td>2007</td>\n",
              "      <td>02:07:17</td>\n",
              "      <td>7637</td>\n",
              "    </tr>\n",
              "  </tbody>\n",
              "</table>\n",
              "</div>"
            ],
            "text/plain": [
              "   ville  annee     temps  secondes\n",
              "0  PARIS   2011  02:06:29      7589\n",
              "1  PARIS   2010  02:06:41      7601\n",
              "2  PARIS   2009  02:05:47      7547\n",
              "3  PARIS   2008  02:06:40      7600\n",
              "4  PARIS   2007  02:07:17      7637"
            ]
          },
          "execution_count": 19,
          "metadata": {},
          "output_type": "execute_result"
        }
      ],
      "source": [
        "from ensae_teaching_cs.data import marathon\n",
        "import pandas\n",
        "df = pandas.read_csv(marathon(filename=True), \n",
        "                     sep=\"\\t\", names=[\"ville\", \"annee\", \"temps\",\"secondes\"])\n",
        "df.head()"
      ]
    },
    {
      "cell_type": "markdown",
      "metadata": {},
      "source": [
        "On peut s\u00e9lectionner un sous-ensemble de lignes :"
      ]
    },
    {
      "cell_type": "code",
      "execution_count": 19,
      "metadata": {},
      "outputs": [
        {
          "data": {
            "text/html": [
              "<div style=\"max-height:1000px;max-width:1500px;overflow:auto;\">\n",
              "<table border=\"1\" class=\"dataframe\">\n",
              "  <thead>\n",
              "    <tr style=\"text-align: right;\">\n",
              "      <th></th>\n",
              "      <th>ville</th>\n",
              "      <th>annee</th>\n",
              "      <th>temps</th>\n",
              "      <th>secondes</th>\n",
              "    </tr>\n",
              "  </thead>\n",
              "  <tbody>\n",
              "    <tr>\n",
              "      <th>3</th>\n",
              "      <td> PARIS</td>\n",
              "      <td> 2008</td>\n",
              "      <td> 02:06:40</td>\n",
              "      <td> 7600</td>\n",
              "    </tr>\n",
              "    <tr>\n",
              "      <th>4</th>\n",
              "      <td> PARIS</td>\n",
              "      <td> 2007</td>\n",
              "      <td> 02:07:17</td>\n",
              "      <td> 7637</td>\n",
              "    </tr>\n",
              "    <tr>\n",
              "      <th>5</th>\n",
              "      <td> PARIS</td>\n",
              "      <td> 2006</td>\n",
              "      <td> 02:08:03</td>\n",
              "      <td> 7683</td>\n",
              "    </tr>\n",
              "  </tbody>\n",
              "</table>\n",
              "<p>3 rows \u00d7 4 columns</p>\n",
              "</div>"
            ],
            "text/plain": [
              "   ville  annee     temps  secondes\n",
              "3  PARIS   2008  02:06:40      7600\n",
              "4  PARIS   2007  02:07:17      7637\n",
              "5  PARIS   2006  02:08:03      7683\n",
              "\n",
              "[3 rows x 4 columns]"
            ]
          },
          "execution_count": 20,
          "metadata": {},
          "output_type": "execute_result"
        }
      ],
      "source": [
        "df[3:6]"
      ]
    },
    {
      "cell_type": "markdown",
      "metadata": {},
      "source": [
        "On extrait la m\u00eame plage mais avec deux colonnes seulement :"
      ]
    },
    {
      "cell_type": "code",
      "execution_count": 20,
      "metadata": {},
      "outputs": [
        {
          "data": {
            "text/html": [
              "<div style=\"max-height:1000px;max-width:1500px;overflow:auto;\">\n",
              "<table border=\"1\" class=\"dataframe\">\n",
              "  <thead>\n",
              "    <tr style=\"text-align: right;\">\n",
              "      <th></th>\n",
              "      <th>annee</th>\n",
              "      <th>temps</th>\n",
              "    </tr>\n",
              "  </thead>\n",
              "  <tbody>\n",
              "    <tr>\n",
              "      <th>3</th>\n",
              "      <td> 2008</td>\n",
              "      <td> 02:06:40</td>\n",
              "    </tr>\n",
              "    <tr>\n",
              "      <th>4</th>\n",
              "      <td> 2007</td>\n",
              "      <td> 02:07:17</td>\n",
              "    </tr>\n",
              "    <tr>\n",
              "      <th>5</th>\n",
              "      <td> 2006</td>\n",
              "      <td> 02:08:03</td>\n",
              "    </tr>\n",
              "    <tr>\n",
              "      <th>6</th>\n",
              "      <td> 2005</td>\n",
              "      <td> 02:08:02</td>\n",
              "    </tr>\n",
              "  </tbody>\n",
              "</table>\n",
              "<p>4 rows \u00d7 2 columns</p>\n",
              "</div>"
            ],
            "text/plain": [
              "   annee     temps\n",
              "3   2008  02:06:40\n",
              "4   2007  02:07:17\n",
              "5   2006  02:08:03\n",
              "6   2005  02:08:02\n",
              "\n",
              "[4 rows x 2 columns]"
            ]
          },
          "execution_count": 21,
          "metadata": {},
          "output_type": "execute_result"
        }
      ],
      "source": [
        "df.loc[3:6,[\"annee\",\"temps\"]]"
      ]
    },
    {
      "cell_type": "markdown",
      "metadata": {},
      "source": [
        "Le m\u00eame code pour lequel on renomme les colonnes extraites :"
      ]
    },
    {
      "cell_type": "code",
      "execution_count": 21,
      "metadata": {},
      "outputs": [
        {
          "data": {
            "text/html": [
              "<div style=\"max-height:1000px;max-width:1500px;overflow:auto;\">\n",
              "<table border=\"1\" class=\"dataframe\">\n",
              "  <thead>\n",
              "    <tr style=\"text-align: right;\">\n",
              "      <th></th>\n",
              "      <th>year</th>\n",
              "      <th>time</th>\n",
              "    </tr>\n",
              "  </thead>\n",
              "  <tbody>\n",
              "    <tr>\n",
              "      <th>3</th>\n",
              "      <td> 2008</td>\n",
              "      <td> 02:06:40</td>\n",
              "    </tr>\n",
              "    <tr>\n",
              "      <th>4</th>\n",
              "      <td> 2007</td>\n",
              "      <td> 02:07:17</td>\n",
              "    </tr>\n",
              "    <tr>\n",
              "      <th>5</th>\n",
              "      <td> 2006</td>\n",
              "      <td> 02:08:03</td>\n",
              "    </tr>\n",
              "    <tr>\n",
              "      <th>6</th>\n",
              "      <td> 2005</td>\n",
              "      <td> 02:08:02</td>\n",
              "    </tr>\n",
              "  </tbody>\n",
              "</table>\n",
              "<p>4 rows \u00d7 2 columns</p>\n",
              "</div>"
            ],
            "text/plain": [
              "   year      time\n",
              "3  2008  02:06:40\n",
              "4  2007  02:07:17\n",
              "5  2006  02:08:03\n",
              "6  2005  02:08:02\n",
              "\n",
              "[4 rows x 2 columns]"
            ]
          },
          "execution_count": 22,
          "metadata": {},
          "output_type": "execute_result"
        }
      ],
      "source": [
        "sub = df.loc[3:6,[\"annee\",\"temps\"]]\n",
        "sub.columns = [\"year\",\"time\"]\n",
        "sub"
      ]
    },
    {
      "cell_type": "markdown",
      "metadata": {},
      "source": [
        "## Exercice 1 : cr\u00e9er un fichier Excel\n",
        "    \n",
        "On souhaite r\u00e9cup\u00e9rer les donn\u00e9es [donnees_enquete_2003_television.txt](http://www.xavierdupre.fr/enseignement/complements/donnees_enquete_2003_television.txt) (source : [INSEE](http://www.insee.fr/fr/themes/detail.asp?ref_id=fd-hdv03&page=fichiers_detail/HDV03/telechargement.htm)).\n",
        "\n",
        "* ``POIDSLOG`` : Pond\u00e9ration individuelle relative\n",
        "* ``POIDSF`` : Variable de pond\u00e9ration individuelle\n",
        "* ``cLT1FREQ`` : Nombre d'heures en moyenne pass\u00e9es \u00e0 regarder la t\u00e9l\u00e9vision \n",
        "* ``cLT2FREQ`` : Unit\u00e9 de temps utilis\u00e9e pour compter le nombre d'heures pass\u00e9es \u00e0 regarder la t\u00e9l\u00e9vision, cette unit\u00e9 est repr\u00e9sent\u00e9e par les quatre valeurs suivantes\n",
        "    * 0 : non concern\u00e9\n",
        "    * 1 : jour\n",
        "    * 2 : semaine\n",
        "    * 3 : mois \n",
        "    \n",
        "Ensuite, on veut :\n",
        "\n",
        "1. Supprimer les colonnes vides\n",
        "2. Obtenir les valeurs distinctes  pour la colonne ``cLT2FREQ``\n",
        "3. Modifier la matrice pour enlever les lignes pour lesquelles l'unit\u00e9 de temps (cLT2FREQ) n'est pas renseign\u00e9e ou \u00e9gale \u00e0 z\u00e9ro.\n",
        "4. Sauver le r\u00e9sultat au format Excel.\n",
        "\n",
        "Vous aurez peut-\u00eatre besoin des fonctions suivantes :\n",
        "\n",
        "* [numpy.isnan](http://docs.scipy.org/doc/numpy/reference/generated/numpy.isnan.html)\n",
        "* [DataFrame.apply](http://pandas.pydata.org/pandas-docs/stable/generated/pandas.DataFrame.apply.html)\n",
        "* [DataFrame.fillna](http://pandas.pydata.org/pandas-docs/stable/generated/pandas.DataFrame.fillna.html) ou \n",
        "[DataFrame.isnull](http://pandas.pydata.org/pandas-docs/stable/generated/pandas.DataFrame.isnull.html)\n",
        "* [DataFrame.copy](http://pandas.pydata.org/pandas-docs/dev/generated/pandas.DataFrame.copy.html)"
      ]
    },
    {
      "cell_type": "code",
      "execution_count": 22,
      "metadata": {
        "collapsed": true
      },
      "outputs": [],
      "source": [
        "import pandas, io\n",
        "# ..."
      ]
    },
    {
      "cell_type": "markdown",
      "metadata": {},
      "source": [
        "## Manipuler un DataFrame : filtrer, union, sort, group by, join, pivot\n",
        "\n",
        "Si la structure *DataFrame* s'est impos\u00e9e, c'est parce qu'on effectue toujours les m\u00eames op\u00e9rations. Chaque fonction cache une boucle ou deux dont le co\u00fbt est pr\u00e9cis\u00e9 en fin de ligne :\n",
        "\n",
        "- **filter** : on s\u00e9lectionne un sous-ensemble de lignes qui v\u00e9rifie une condition $\\rightarrow O(n)$\n",
        "- **union** : concat\u00e9nation de deux jeux de donn\u00e9es $\\rightarrow O(n_1 + n_2)$\n",
        "- **sort** : tri  $\\rightarrow O(n \\ln n)$\n",
        "- **group by** : grouper des lignes qui partagent une valeur commune  $\\rightarrow O(n)$\n",
        "- **join** : fusionner deux jeux de donn\u00e9es en associant les lignes qui partagent une valeur commune  $\\rightarrow \\in [O(n_1 + n_2), O(n_1 n_2)]$\n",
        "- **pivot** : utiliser des valeurs pr\u00e9sentes dans colonne comme noms de colonnes $\\rightarrow O(n)$\n",
        "\n",
        "Les 5 premi\u00e8res op\u00e9rations sont issues de la logique de manipulation des donn\u00e9es avec le langage [SQL](http://fr.wikipedia.org/wiki/Structured_Query_Language) (ou le logiciel [SAS](http://www.sas.com)). La derni\u00e8re correspond \u00e0 un [tableau crois\u00e9 dynamique](http://fr.wikipedia.org/wiki/Tableau_crois%C3%A9_dynamique). Pour illustrer ces op\u00e9rations, on prendre le DataFrame suivant :"
      ]
    },
    {
      "cell_type": "code",
      "execution_count": 23,
      "metadata": {},
      "outputs": [
        {
          "name": "stdout",
          "output_type": "stream",
          "text": [
            "Index(['ville', 'annee', 'temps', 'secondes'], dtype='object')\n",
            "villes {'FUKUOKA', 'STOCKOLM', 'PARIS', 'CHICAGO', 'AMSTERDAM', 'BOSTON', 'BERLIN', 'LONDON', 'NEW YORK'}\n",
            "annee [1947, 1948, 1949, 1950, 1951, 1952, 1953, 1954, 1955, 1956] ...\n"
          ]
        }
      ],
      "source": [
        "from ensae_teaching_cs.data import marathon\n",
        "import pandas\n",
        "df = pandas.read_csv(marathon(), sep=\"\\t\", names=[\"ville\", \"annee\", \"temps\",\"secondes\"])\n",
        "print(df.columns)\n",
        "print(\"villes\",set(df.ville))\n",
        "print(\"annee\",list(set(df.annee))[:10],\"...\")"
      ]
    },
    {
      "cell_type": "markdown",
      "metadata": {},
      "source": [
        "### filter\n",
        "\n",
        "Filter consiste \u00e0 s\u00e9lectionner un sous-ensemble de lignes du dataframe. Pour filter sur plusieurs conditions, il faut utiliser les op\u00e9rateurs logique & (et), | (ou), ~ (non) (voir [Mapping Operators to Functions](https://docs.python.org/3.4/library/operator.html#mapping-operators-to-functions)).\n",
        "\n",
        "* [filter](http://pandas.pydata.org/pandas-docs/stable/generated/pandas.DataFrame.filter.html), [mask](http://pandas.pydata.org/pandas-docs/stable/generated/pandas.DataFrame.mask.html),[where](http://pandas.pydata.org/pandas-docs/stable/generated/pandas.DataFrame.where.html)\n",
        "* [pandas: filter rows of DataFrame with operator chaining](http://stackoverflow.com/questions/11869910/pandas-filter-rows-of-dataframe-with-operator-chaining)\n",
        "* [Indexing and Selecting Data](http://pandas.pydata.org/pandas-docs/stable/indexing.html)"
      ]
    },
    {
      "cell_type": "code",
      "execution_count": 24,
      "metadata": {},
      "outputs": [
        {
          "data": {
            "text/html": [
              "<div>\n",
              "<table border=\"1\" class=\"dataframe\">\n",
              "  <thead>\n",
              "    <tr style=\"text-align: right;\">\n",
              "      <th></th>\n",
              "      <th>ville</th>\n",
              "      <th>annee</th>\n",
              "      <th>temps</th>\n",
              "      <th>secondes</th>\n",
              "    </tr>\n",
              "  </thead>\n",
              "  <tbody>\n",
              "    <tr>\n",
              "      <th>112</th>\n",
              "      <td>FUKUOKA</td>\n",
              "      <td>1971</td>\n",
              "      <td>02:12:51</td>\n",
              "      <td>7971</td>\n",
              "    </tr>\n",
              "    <tr>\n",
              "      <th>204</th>\n",
              "      <td>NEW YORK</td>\n",
              "      <td>1971</td>\n",
              "      <td>02:22:54</td>\n",
              "      <td>8574</td>\n",
              "    </tr>\n",
              "    <tr>\n",
              "      <th>285</th>\n",
              "      <td>BOSTON</td>\n",
              "      <td>1971</td>\n",
              "      <td>02:18:45</td>\n",
              "      <td>8325</td>\n",
              "    </tr>\n",
              "  </tbody>\n",
              "</table>\n",
              "</div>"
            ],
            "text/plain": [
              "        ville  annee     temps  secondes\n",
              "112   FUKUOKA   1971  02:12:51      7971\n",
              "204  NEW YORK   1971  02:22:54      8574\n",
              "285    BOSTON   1971  02:18:45      8325"
            ]
          },
          "execution_count": 25,
          "metadata": {},
          "output_type": "execute_result"
        }
      ],
      "source": [
        "subset = df [ df.annee == 1971 ]\n",
        "subset.head()"
      ]
    },
    {
      "cell_type": "code",
      "execution_count": 25,
      "metadata": {},
      "outputs": [
        {
          "data": {
            "text/html": [
              "<div>\n",
              "<table border=\"1\" class=\"dataframe\">\n",
              "  <thead>\n",
              "    <tr style=\"text-align: right;\">\n",
              "      <th></th>\n",
              "      <th>ville</th>\n",
              "      <th>annee</th>\n",
              "      <th>temps</th>\n",
              "      <th>secondes</th>\n",
              "    </tr>\n",
              "  </thead>\n",
              "  <tbody>\n",
              "    <tr>\n",
              "      <th>285</th>\n",
              "      <td>BOSTON</td>\n",
              "      <td>1971</td>\n",
              "      <td>02:18:45</td>\n",
              "      <td>8325</td>\n",
              "    </tr>\n",
              "  </tbody>\n",
              "</table>\n",
              "</div>"
            ],
            "text/plain": [
              "      ville  annee     temps  secondes\n",
              "285  BOSTON   1971  02:18:45      8325"
            ]
          },
          "execution_count": 26,
          "metadata": {},
          "output_type": "execute_result"
        }
      ],
      "source": [
        "subset = df [ (df.annee == 1971) & (df.ville == \"BOSTON\") ]\n",
        "subset.head()"
      ]
    },
    {
      "cell_type": "markdown",
      "metadata": {},
      "source": [
        "### union\n",
        "\n",
        "union = concat\u00e9nation de deux DataFrame (qui n'ont pas n\u00e9cessaire les m\u00eames colonnes). On peut concat\u00e9ner les lignes ou les colonnes.\n",
        "\n",
        "* [concat](http://pandas.pydata.org/pandas-docs/stable/generated/pandas.concat.html)\n",
        "* [Merge, join, and concatenate](http://pandas.pydata.org/pandas-docs/stable/merging.html)"
      ]
    },
    {
      "cell_type": "code",
      "execution_count": 26,
      "metadata": {},
      "outputs": [
        {
          "data": {
            "text/plain": [
              "((360, 4), (720, 4))"
            ]
          },
          "execution_count": 27,
          "metadata": {},
          "output_type": "execute_result"
        }
      ],
      "source": [
        "concat_ligne = pandas.concat((df,df))\n",
        "df.shape,concat_ligne.shape"
      ]
    },
    {
      "cell_type": "code",
      "execution_count": 27,
      "metadata": {},
      "outputs": [
        {
          "data": {
            "text/plain": [
              "((360, 4), (360, 8))"
            ]
          },
          "execution_count": 28,
          "metadata": {},
          "output_type": "execute_result"
        }
      ],
      "source": [
        "concat_col = pandas.concat((df,df), axis=1)\n",
        "df.shape,concat_col.shape"
      ]
    },
    {
      "cell_type": "markdown",
      "metadata": {},
      "source": [
        "### sort\n",
        "\n",
        "Sort = trier\n",
        "\n",
        "* [sort](http://pandas.pydata.org/pandas-docs/stable/generated/pandas.DataFrame.sort.html)"
      ]
    },
    {
      "cell_type": "code",
      "execution_count": 28,
      "metadata": {},
      "outputs": [
        {
          "data": {
            "text/html": [
              "<div style=\"max-height:1000px;max-width:1500px;overflow:auto;\">\n",
              "<table border=\"1\" class=\"dataframe\">\n",
              "  <thead>\n",
              "    <tr style=\"text-align: right;\">\n",
              "      <th></th>\n",
              "      <th>ville</th>\n",
              "      <th>annee</th>\n",
              "      <th>temps</th>\n",
              "      <th>secondes</th>\n",
              "    </tr>\n",
              "  </thead>\n",
              "  <tbody>\n",
              "    <tr>\n",
              "      <th>35 </th>\n",
              "      <td>   BERLIN</td>\n",
              "      <td> 2011</td>\n",
              "      <td> 02:03:38</td>\n",
              "      <td> 7418</td>\n",
              "    </tr>\n",
              "    <tr>\n",
              "      <th>326</th>\n",
              "      <td>   BOSTON</td>\n",
              "      <td> 2011</td>\n",
              "      <td> 02:03:02</td>\n",
              "      <td> 7382</td>\n",
              "    </tr>\n",
              "    <tr>\n",
              "      <th>203</th>\n",
              "      <td>   LONDON</td>\n",
              "      <td> 2011</td>\n",
              "      <td> 02:04:40</td>\n",
              "      <td> 7480</td>\n",
              "    </tr>\n",
              "    <tr>\n",
              "      <th>0  </th>\n",
              "      <td>    PARIS</td>\n",
              "      <td> 2011</td>\n",
              "      <td> 02:06:29</td>\n",
              "      <td> 7589</td>\n",
              "    </tr>\n",
              "    <tr>\n",
              "      <th>277</th>\n",
              "      <td> STOCKOLM</td>\n",
              "      <td> 2011</td>\n",
              "      <td> 02:14:07</td>\n",
              "      <td> 8047</td>\n",
              "    </tr>\n",
              "  </tbody>\n",
              "</table>\n",
              "<p>5 rows \u00d7 4 columns</p>\n",
              "</div>"
            ],
            "text/plain": [
              "        ville  annee     temps  secondes\n",
              "35     BERLIN   2011  02:03:38      7418\n",
              "326    BOSTON   2011  02:03:02      7382\n",
              "203    LONDON   2011  02:04:40      7480\n",
              "0       PARIS   2011  02:06:29      7589\n",
              "277  STOCKOLM   2011  02:14:07      8047\n",
              "\n",
              "[5 rows x 4 columns]"
            ]
          },
          "execution_count": 29,
          "metadata": {},
          "output_type": "execute_result"
        }
      ],
      "source": [
        "tri = df.sort_values( [\"annee\", \"ville\"], ascending=[0,1])\n",
        "tri.head()"
      ]
    },
    {
      "cell_type": "markdown",
      "metadata": {},
      "source": [
        "### group by\n",
        "\n",
        "Cette op\u00e9ration consiste \u00e0 grouper les lignes qui partagent une caract\u00e9ristique commune (une ou ou plusieurs valeurs par exemple). Sur chaque groupe, on peut calculer une somme, une moyenne...\n",
        "\n",
        "* [groupby](http://pandas.pydata.org/pandas-docs/stable/generated/pandas.DataFrame.groupby.html)\n",
        "* [sum](http://pandas.pydata.org/pandas-docs/stable/generated/pandas.DataFrame.sum.html), [cumsum](http://pandas.pydata.org/pandas-docs/stable/generated/pandas.DataFrame.cumsum.html), [mean](http://pandas.pydata.org/pandas-docs/stable/generated/pandas.DataFrame.mean.html), [count](http://pandas.pydata.org/pandas-docs/stable/generated/pandas.DataFrame.count.html)\n",
        "* [SQL GROUP BY](http://sql.sh/cours/group-by)\n",
        "* [Group By: split-apply-combine](http://pandas.pydata.org/pandas-docs/dev/groupby.html)\n",
        "* [group by customis\u00e9](http://stackoverflow.com/questions/15322632/python-pandas-df-groupby-agg-column-reference-in-agg)\n"
      ]
    },
    {
      "cell_type": "code",
      "execution_count": 29,
      "metadata": {},
      "outputs": [
        {
          "data": {
            "text/plain": [
              "<pandas.core.groupby.DataFrameGroupBy object at 0x04887DB0>"
            ]
          },
          "execution_count": 30,
          "metadata": {},
          "output_type": "execute_result"
        }
      ],
      "source": [
        "gr = df.groupby(\"annee\")\n",
        "gr"
      ]
    },
    {
      "cell_type": "code",
      "execution_count": 30,
      "metadata": {},
      "outputs": [
        {
          "data": {
            "text/html": [
              "<div style=\"max-height:1000px;max-width:1500px;overflow:auto;\">\n",
              "<table border=\"1\" class=\"dataframe\">\n",
              "  <thead>\n",
              "    <tr style=\"text-align: right;\">\n",
              "      <th></th>\n",
              "      <th>ville</th>\n",
              "      <th>annee</th>\n",
              "      <th>temps</th>\n",
              "      <th>secondes</th>\n",
              "    </tr>\n",
              "    <tr>\n",
              "      <th>annee</th>\n",
              "      <th></th>\n",
              "      <th></th>\n",
              "      <th></th>\n",
              "      <th></th>\n",
              "    </tr>\n",
              "  </thead>\n",
              "  <tbody>\n",
              "    <tr>\n",
              "      <th>2011</th>\n",
              "      <td> 5</td>\n",
              "      <td> 5</td>\n",
              "      <td> 5</td>\n",
              "      <td> 5</td>\n",
              "    </tr>\n",
              "    <tr>\n",
              "      <th>2010</th>\n",
              "      <td> 9</td>\n",
              "      <td> 9</td>\n",
              "      <td> 9</td>\n",
              "      <td> 9</td>\n",
              "    </tr>\n",
              "    <tr>\n",
              "      <th>2009</th>\n",
              "      <td> 9</td>\n",
              "      <td> 9</td>\n",
              "      <td> 9</td>\n",
              "      <td> 9</td>\n",
              "    </tr>\n",
              "    <tr>\n",
              "      <th>2008</th>\n",
              "      <td> 9</td>\n",
              "      <td> 9</td>\n",
              "      <td> 9</td>\n",
              "      <td> 9</td>\n",
              "    </tr>\n",
              "    <tr>\n",
              "      <th>2007</th>\n",
              "      <td> 9</td>\n",
              "      <td> 9</td>\n",
              "      <td> 9</td>\n",
              "      <td> 9</td>\n",
              "    </tr>\n",
              "  </tbody>\n",
              "</table>\n",
              "<p>5 rows \u00d7 4 columns</p>\n",
              "</div>"
            ],
            "text/plain": [
              "       ville  annee  temps  secondes\n",
              "annee                               \n",
              "2011       5      5      5         5\n",
              "2010       9      9      9         9\n",
              "2009       9      9      9         9\n",
              "2008       9      9      9         9\n",
              "2007       9      9      9         9\n",
              "\n",
              "[5 rows x 4 columns]"
            ]
          },
          "execution_count": 31,
          "metadata": {},
          "output_type": "execute_result"
        }
      ],
      "source": [
        "nb = gr.count()\n",
        "nb.sort_index(ascending=False).head()"
      ]
    },
    {
      "cell_type": "code",
      "execution_count": 31,
      "metadata": {},
      "outputs": [
        {
          "data": {
            "text/html": [
              "<div style=\"max-height:1000px;max-width:1500px;overflow:auto;\">\n",
              "<table border=\"1\" class=\"dataframe\">\n",
              "  <thead>\n",
              "    <tr style=\"text-align: right;\">\n",
              "      <th></th>\n",
              "      <th>secondes</th>\n",
              "    </tr>\n",
              "    <tr>\n",
              "      <th>annee</th>\n",
              "      <th></th>\n",
              "    </tr>\n",
              "  </thead>\n",
              "  <tbody>\n",
              "    <tr>\n",
              "      <th>2011</th>\n",
              "      <td> 37916</td>\n",
              "    </tr>\n",
              "    <tr>\n",
              "      <th>2010</th>\n",
              "      <td> 68673</td>\n",
              "    </tr>\n",
              "  </tbody>\n",
              "</table>\n",
              "<p>2 rows \u00d7 1 columns</p>\n",
              "</div>"
            ],
            "text/plain": [
              "       secondes\n",
              "annee          \n",
              "2011      37916\n",
              "2010      68673\n",
              "\n",
              "[2 rows x 1 columns]"
            ]
          },
          "execution_count": 32,
          "metadata": {},
          "output_type": "execute_result"
        }
      ],
      "source": [
        "nb = gr.sum()\n",
        "nb.sort_index(ascending=False).head(n=2)"
      ]
    },
    {
      "cell_type": "code",
      "execution_count": 32,
      "metadata": {},
      "outputs": [
        {
          "data": {
            "text/html": [
              "<div style=\"max-height:1000px;max-width:1500px;overflow:auto;\">\n",
              "<table border=\"1\" class=\"dataframe\">\n",
              "  <thead>\n",
              "    <tr style=\"text-align: right;\">\n",
              "      <th></th>\n",
              "      <th>secondes</th>\n",
              "    </tr>\n",
              "    <tr>\n",
              "      <th>annee</th>\n",
              "      <th></th>\n",
              "    </tr>\n",
              "  </thead>\n",
              "  <tbody>\n",
              "    <tr>\n",
              "      <th>2011</th>\n",
              "      <td> 7583.200000</td>\n",
              "    </tr>\n",
              "    <tr>\n",
              "      <th>2010</th>\n",
              "      <td> 7630.333333</td>\n",
              "    </tr>\n",
              "    <tr>\n",
              "      <th>2009</th>\n",
              "      <td> 7652.555556</td>\n",
              "    </tr>\n",
              "  </tbody>\n",
              "</table>\n",
              "<p>3 rows \u00d7 1 columns</p>\n",
              "</div>"
            ],
            "text/plain": [
              "          secondes\n",
              "annee             \n",
              "2011   7583.200000\n",
              "2010   7630.333333\n",
              "2009   7652.555556\n",
              "\n",
              "[3 rows x 1 columns]"
            ]
          },
          "execution_count": 33,
          "metadata": {},
          "output_type": "execute_result"
        }
      ],
      "source": [
        "nb = gr.mean()\n",
        "nb.sort_index(ascending=False).head(n=3)"
      ]
    },
    {
      "cell_type": "markdown",
      "metadata": {},
      "source": [
        "Si les nom des colonnes utilis\u00e9es lors de l'op\u00e9ration ne sont pas mentionn\u00e9s, implicitement, c'est l'index qui sera choisi. On peut aussi aggr\u00e9ger les informations avec une fonction personnalis\u00e9e."
      ]
    },
    {
      "cell_type": "code",
      "execution_count": 33,
      "metadata": {},
      "outputs": [
        {
          "data": {
            "text/html": [
              "<div style=\"max-height:1000px;max-width:1500px;overflow:auto;\">\n",
              "<table border=\"1\" class=\"dataframe\">\n",
              "  <thead>\n",
              "    <tr style=\"text-align: right;\">\n",
              "      <th></th>\n",
              "      <th>annee</th>\n",
              "      <th>secondes</th>\n",
              "    </tr>\n",
              "  </thead>\n",
              "  <tbody>\n",
              "    <tr>\n",
              "      <th>62</th>\n",
              "      <td> 2009</td>\n",
              "      <td> 8134</td>\n",
              "    </tr>\n",
              "    <tr>\n",
              "      <th>63</th>\n",
              "      <td> 2010</td>\n",
              "      <td> 7968</td>\n",
              "    </tr>\n",
              "    <tr>\n",
              "      <th>64</th>\n",
              "      <td> 2011</td>\n",
              "      <td> 8047</td>\n",
              "    </tr>\n",
              "  </tbody>\n",
              "</table>\n",
              "<p>3 rows \u00d7 2 columns</p>\n",
              "</div>"
            ],
            "text/plain": [
              "    annee  secondes\n",
              "62   2009      8134\n",
              "63   2010      7968\n",
              "64   2011      8047\n",
              "\n",
              "[3 rows x 2 columns]"
            ]
          },
          "execution_count": 34,
          "metadata": {},
          "output_type": "execute_result"
        }
      ],
      "source": [
        "def max_entier(x):\n",
        "    return int(max(x))\n",
        "nb = df[[\"annee\",\"secondes\"]].groupby(\"annee\").agg(max_entier).reset_index()\n",
        "nb.tail(n=3)"
      ]
    },
    {
      "cell_type": "markdown",
      "metadata": {},
      "source": [
        "Ou encore consid\u00e9rer des aggr\u00e9gations diff\u00e9rentes pour chaque colonne :"
      ]
    },
    {
      "cell_type": "code",
      "execution_count": 34,
      "metadata": {},
      "outputs": [
        {
          "data": {
            "text/html": [
              "<div style=\"max-height:1000px;max-width:1500px;overflow:auto;\">\n",
              "<table border=\"1\" class=\"dataframe\">\n",
              "  <thead>\n",
              "    <tr style=\"text-align: right;\">\n",
              "      <th></th>\n",
              "      <th>secondes</th>\n",
              "      <th>ville</th>\n",
              "    </tr>\n",
              "    <tr>\n",
              "      <th>annee</th>\n",
              "      <th></th>\n",
              "      <th></th>\n",
              "    </tr>\n",
              "  </thead>\n",
              "  <tbody>\n",
              "    <tr>\n",
              "      <th>2009</th>\n",
              "      <td> 8134</td>\n",
              "      <td> 9</td>\n",
              "    </tr>\n",
              "    <tr>\n",
              "      <th>2010</th>\n",
              "      <td> 7968</td>\n",
              "      <td> 9</td>\n",
              "    </tr>\n",
              "    <tr>\n",
              "      <th>2011</th>\n",
              "      <td> 8047</td>\n",
              "      <td> 5</td>\n",
              "    </tr>\n",
              "  </tbody>\n",
              "</table>\n",
              "<p>3 rows \u00d7 2 columns</p>\n",
              "</div>"
            ],
            "text/plain": [
              "       secondes  ville\n",
              "annee                 \n",
              "2009       8134      9\n",
              "2010       7968      9\n",
              "2011       8047      5\n",
              "\n",
              "[3 rows x 2 columns]"
            ]
          },
          "execution_count": 35,
          "metadata": {},
          "output_type": "execute_result"
        }
      ],
      "source": [
        "nb = df[[\"annee\",\"ville\",\"secondes\"]].groupby(\"annee\").agg({ \"ville\":len, \"secondes\":max_entier})\n",
        "nb.tail(n=3)"
      ]
    },
    {
      "cell_type": "markdown",
      "metadata": {},
      "source": [
        "### join (_merge_ ou fusion)\n",
        "\n",
        "Fusionner deux tables consiste \u00e0 apparier les lignes de la premi\u00e8re table avec celle de la seconde si certaines colonnes de ces lignes partagent les m\u00eames valeurs. On distingue quatre cas :\n",
        "\n",
        "* ``INNER JOIN`` - **inner** : on garde tous les appariements r\u00e9ussis \n",
        "* ``LEFT OUTER JOIN`` - **left** : on garde tous les appariements r\u00e9ussis et les lignes non appari\u00e9es de la table de gauche\n",
        "* ``RIGHT OUTER JOIN`` - **right** : on garde tous les appariements r\u00e9ussis et les lignes non appari\u00e9es de la table de droite\n",
        "* ``FULL OUTER JOIN`` - **outer** : on garde tous les appariements r\u00e9ussis et les lignes non appari\u00e9es des deux tables\n",
        "\n",
        "Exemples et documentation :\n",
        "* [merging, joining](http://pandas.pydata.org/pandas-docs/stable/merging.html#database-style-dataframe-joining-merging)\n",
        "* [join](http://pandas.pydata.org/pandas-docs/stable/pandas.DataFrame.join.html)\n",
        "* [merge](http://pandas.pydata.org/pandas-docs/stable/pandas.merge.html) ou [DataFrame.merge](http://pandas.pydata.org/pandas-docs/stable/generated/pandas.DataFrame.merge.html)\n",
        "* [jointures SQL](http://sql.sh/cours/jointures) - illustrations avec graphiques en patates\n",
        "\n",
        "Si les noms des colonnes utilis\u00e9es lors de la fusion ne sont pas mentionn\u00e9s, implicitement, c'est l'index qui sera choisi. Pour les grandes tables (> 100.000 lignes), il est fortement recommand\u00e9s d'ajouter un index s'il n'existe pas avant de fusionner.\n",
        "\n",
        "A quoi correspondent les quatre cas suivants :"
      ]
    },
    {
      "cell_type": "code",
      "execution_count": 35,
      "metadata": {},
      "outputs": [
        {
          "data": {
            "image/png": "[encoded data removed]",
            "text/plain": [
              "<IPython.core.display.Image at 0x7a652b0>"
            ]
          },
          "execution_count": 36,
          "metadata": {},
          "output_type": "execute_result"
        }
      ],
      "source": [
        "from IPython.display import Image\n",
        "Image(\"patates.png\")"
      ]
    },
    {
      "cell_type": "markdown",
      "metadata": {},
      "source": [
        "On souhaite ajouter une colonne pays aux marathons se d\u00e9roulant dans les villes suivanes."
      ]
    },
    {
      "cell_type": "code",
      "execution_count": 36,
      "metadata": {},
      "outputs": [
        {
          "data": {
            "text/html": [
              "<div style=\"max-height:1000px;max-width:1500px;overflow:auto;\">\n",
              "<table border=\"1\" class=\"dataframe\">\n",
              "  <thead>\n",
              "    <tr style=\"text-align: right;\">\n",
              "      <th></th>\n",
              "      <th>C</th>\n",
              "      <th>V</th>\n",
              "    </tr>\n",
              "  </thead>\n",
              "  <tbody>\n",
              "    <tr>\n",
              "      <th>0</th>\n",
              "      <td>     USA</td>\n",
              "      <td>   BOSTON</td>\n",
              "    </tr>\n",
              "    <tr>\n",
              "      <th>1</th>\n",
              "      <td>     USA</td>\n",
              "      <td> NEW YORK</td>\n",
              "    </tr>\n",
              "    <tr>\n",
              "      <th>2</th>\n",
              "      <td> Germany</td>\n",
              "      <td>   BERLIN</td>\n",
              "    </tr>\n",
              "    <tr>\n",
              "      <th>3</th>\n",
              "      <td>      UK</td>\n",
              "      <td>   LONDON</td>\n",
              "    </tr>\n",
              "    <tr>\n",
              "      <th>4</th>\n",
              "      <td>  France</td>\n",
              "      <td>    PARIS</td>\n",
              "    </tr>\n",
              "  </tbody>\n",
              "</table>\n",
              "<p>5 rows \u00d7 2 columns</p>\n",
              "</div>"
            ],
            "text/plain": [
              "         C         V\n",
              "0      USA    BOSTON\n",
              "1      USA  NEW YORK\n",
              "2  Germany    BERLIN\n",
              "3       UK    LONDON\n",
              "4   France     PARIS\n",
              "\n",
              "[5 rows x 2 columns]"
            ]
          },
          "execution_count": 37,
          "metadata": {},
          "output_type": "execute_result"
        }
      ],
      "source": [
        "values = [  {\"V\":'BOSTON', \"C\":\"USA\"}, \n",
        "            {\"V\":'NEW YORK', \"C\":\"USA\"}, \n",
        "            {\"V\":'BERLIN', \"C\":\"Germany\"}, \n",
        "            {\"V\":'LONDON', \"C\":\"UK\"}, \n",
        "            {\"V\":'PARIS', \"C\":\"France\"}]\n",
        "pays = pandas.DataFrame(values)\n",
        "pays"
      ]
    },
    {
      "cell_type": "code",
      "execution_count": 37,
      "metadata": {},
      "outputs": [
        {
          "data": {
            "text/html": [
              "<div style=\"max-height:1000px;max-width:1500px;overflow:auto;\">\n",
              "<table border=\"1\" class=\"dataframe\">\n",
              "  <thead>\n",
              "    <tr style=\"text-align: right;\">\n",
              "      <th></th>\n",
              "      <th>ville</th>\n",
              "      <th>annee</th>\n",
              "      <th>temps</th>\n",
              "      <th>secondes</th>\n",
              "      <th>C</th>\n",
              "      <th>V</th>\n",
              "    </tr>\n",
              "  </thead>\n",
              "  <tbody>\n",
              "    <tr>\n",
              "      <th>0  </th>\n",
              "      <td>  PARIS</td>\n",
              "      <td> 2011</td>\n",
              "      <td> 02:06:29</td>\n",
              "      <td> 7589</td>\n",
              "      <td> France</td>\n",
              "      <td>  PARIS</td>\n",
              "    </tr>\n",
              "    <tr>\n",
              "      <th>1  </th>\n",
              "      <td>  PARIS</td>\n",
              "      <td> 2010</td>\n",
              "      <td> 02:06:41</td>\n",
              "      <td> 7601</td>\n",
              "      <td> France</td>\n",
              "      <td>  PARIS</td>\n",
              "    </tr>\n",
              "    <tr>\n",
              "      <th>193</th>\n",
              "      <td> BOSTON</td>\n",
              "      <td> 2010</td>\n",
              "      <td> 02:05:52</td>\n",
              "      <td> 7552</td>\n",
              "      <td>    USA</td>\n",
              "      <td> BOSTON</td>\n",
              "    </tr>\n",
              "    <tr>\n",
              "      <th>194</th>\n",
              "      <td> BOSTON</td>\n",
              "      <td> 2011</td>\n",
              "      <td> 02:03:02</td>\n",
              "      <td> 7382</td>\n",
              "      <td>    USA</td>\n",
              "      <td> BOSTON</td>\n",
              "    </tr>\n",
              "  </tbody>\n",
              "</table>\n",
              "<p>4 rows \u00d7 6 columns</p>\n",
              "</div>"
            ],
            "text/plain": [
              "      ville  annee     temps  secondes       C       V\n",
              "0     PARIS   2011  02:06:29      7589  France   PARIS\n",
              "1     PARIS   2010  02:06:41      7601  France   PARIS\n",
              "193  BOSTON   2010  02:05:52      7552     USA  BOSTON\n",
              "194  BOSTON   2011  02:03:02      7382     USA  BOSTON\n",
              "\n",
              "[4 rows x 6 columns]"
            ]
          },
          "execution_count": 38,
          "metadata": {},
          "output_type": "execute_result"
        }
      ],
      "source": [
        "dfavecpays = df.merge(pays, left_on=\"ville\", right_on=\"V\")\n",
        "pandas.concat([dfavecpays.head(n=2),dfavecpays.tail(n=2)])"
      ]
    },
    {
      "cell_type": "markdown",
      "metadata": {},
      "source": [
        "### pivot (tableau crois\u00e9 dynamique)\n",
        "\n",
        "Cette op\u00e9ration consiste \u00e0 cr\u00e9er une seconde table en utilisant utiliser les valeurs d'une colonne comme nom de colonnes. \n",
        "\n",
        "| A | B | C |\n",
        "| --- | --- | --- |\n",
        "| A1 | B1 | C1 |\n",
        "| A1 | B2 | C2 |\n",
        "| A2 | B1 | C3 |\n",
        "| A2 | B2 | C4 |\n",
        "| A2 | B3 | C5 |\n",
        "\n",
        "L'op\u00e9ration ``pivot(A,B,C)`` donnera :\n",
        "\n",
        "| A | B1 | B2 | B3 |\n",
        "| --- | --- | --- | --- |\n",
        "| A1 | C1 | C2 |  |\n",
        "| A2 | C3 | C4 | C5 |\n",
        "\n",
        "* [pivot](http://pandas.pydata.org/pandas-docs/stable/generated/pandas.DataFrame.pivot.html)\n",
        "* [Reshaping and Pivot Tables](http://pandas.pydata.org/pandas-docs/stable/reshaping.html)\n",
        "* [Tableau crois\u00e9 dynamique - wikip\u00e9dia](http://fr.wikipedia.org/wiki/Tableau_crois%C3%A9_dynamique)\n",
        "\n",
        "On applique cela aux marathons o\u00f9 on veut avoir les villes comme noms de colonnes et une ann\u00e9e par lignes."
      ]
    },
    {
      "cell_type": "code",
      "execution_count": 38,
      "metadata": {},
      "outputs": [
        {
          "data": {
            "text/html": [
              "<div style=\"max-height:1000px;max-width:1500px;overflow:auto;\">\n",
              "<table border=\"1\" class=\"dataframe\">\n",
              "  <thead>\n",
              "    <tr style=\"text-align: right;\">\n",
              "      <th>ville</th>\n",
              "      <th>AMSTERDAM</th>\n",
              "      <th>BERLIN</th>\n",
              "      <th>BOSTON</th>\n",
              "      <th>CHICAGO</th>\n",
              "      <th>FUKUOKA</th>\n",
              "      <th>LONDON</th>\n",
              "      <th>NEW YORK</th>\n",
              "      <th>PARIS</th>\n",
              "      <th>STOCKOLM</th>\n",
              "    </tr>\n",
              "    <tr>\n",
              "      <th>annee</th>\n",
              "      <th></th>\n",
              "      <th></th>\n",
              "      <th></th>\n",
              "      <th></th>\n",
              "      <th></th>\n",
              "      <th></th>\n",
              "      <th></th>\n",
              "      <th></th>\n",
              "      <th></th>\n",
              "    </tr>\n",
              "  </thead>\n",
              "  <tbody>\n",
              "    <tr>\n",
              "      <th>1967</th>\n",
              "      <td>      NaN</td>\n",
              "      <td>      NaN</td>\n",
              "      <td> 02:15:45</td>\n",
              "      <td>      NaN</td>\n",
              "      <td> 02:09:37</td>\n",
              "      <td>      NaN</td>\n",
              "      <td>      NaN</td>\n",
              "      <td>      NaN</td>\n",
              "      <td>      NaN</td>\n",
              "    </tr>\n",
              "    <tr>\n",
              "      <th>1968</th>\n",
              "      <td>      NaN</td>\n",
              "      <td>      NaN</td>\n",
              "      <td> 02:22:17</td>\n",
              "      <td>      NaN</td>\n",
              "      <td> 02:10:48</td>\n",
              "      <td>      NaN</td>\n",
              "      <td>      NaN</td>\n",
              "      <td>      NaN</td>\n",
              "      <td>      NaN</td>\n",
              "    </tr>\n",
              "    <tr>\n",
              "      <th>1969</th>\n",
              "      <td>      NaN</td>\n",
              "      <td>      NaN</td>\n",
              "      <td> 02:13:49</td>\n",
              "      <td>      NaN</td>\n",
              "      <td> 02:11:13</td>\n",
              "      <td>      NaN</td>\n",
              "      <td>      NaN</td>\n",
              "      <td>      NaN</td>\n",
              "      <td>      NaN</td>\n",
              "    </tr>\n",
              "    <tr>\n",
              "      <th>1987</th>\n",
              "      <td> 02:12:40</td>\n",
              "      <td> 02:11:11</td>\n",
              "      <td> 02:11:50</td>\n",
              "      <td>      NaN</td>\n",
              "      <td> 02:08:18</td>\n",
              "      <td> 02:09:50</td>\n",
              "      <td> 02:11:01</td>\n",
              "      <td> 02:11:09</td>\n",
              "      <td> 02:13:52</td>\n",
              "    </tr>\n",
              "    <tr>\n",
              "      <th>1988</th>\n",
              "      <td> 02:12:38</td>\n",
              "      <td> 02:11:45</td>\n",
              "      <td> 02:08:43</td>\n",
              "      <td> 02:08:57</td>\n",
              "      <td> 02:11:04</td>\n",
              "      <td> 02:10:20</td>\n",
              "      <td> 02:08:20</td>\n",
              "      <td> 02:13:53</td>\n",
              "      <td> 02:14:26</td>\n",
              "    </tr>\n",
              "    <tr>\n",
              "      <th>1989</th>\n",
              "      <td> 02:13:52</td>\n",
              "      <td> 02:10:11</td>\n",
              "      <td> 02:09:06</td>\n",
              "      <td> 02:11:25</td>\n",
              "      <td> 02:12:54</td>\n",
              "      <td> 02:09:03</td>\n",
              "      <td> 02:08:01</td>\n",
              "      <td> 02:13:03</td>\n",
              "      <td> 02:13:34</td>\n",
              "    </tr>\n",
              "    <tr>\n",
              "      <th>2009</th>\n",
              "      <td> 02:06:18</td>\n",
              "      <td> 02:06:08</td>\n",
              "      <td> 02:08:42</td>\n",
              "      <td> 02:05:41</td>\n",
              "      <td> 02:05:18</td>\n",
              "      <td> 02:05:10</td>\n",
              "      <td> 02:09:15</td>\n",
              "      <td> 02:05:47</td>\n",
              "      <td> 02:15:34</td>\n",
              "    </tr>\n",
              "    <tr>\n",
              "      <th>2010</th>\n",
              "      <td> 02:05:44</td>\n",
              "      <td> 02:05:08</td>\n",
              "      <td> 02:05:52</td>\n",
              "      <td> 02:06:23</td>\n",
              "      <td> 02:08:24</td>\n",
              "      <td> 02:05:19</td>\n",
              "      <td> 02:08:14</td>\n",
              "      <td> 02:06:41</td>\n",
              "      <td> 02:12:48</td>\n",
              "    </tr>\n",
              "    <tr>\n",
              "      <th>2011</th>\n",
              "      <td>      NaN</td>\n",
              "      <td> 02:03:38</td>\n",
              "      <td> 02:03:02</td>\n",
              "      <td>      NaN</td>\n",
              "      <td>      NaN</td>\n",
              "      <td> 02:04:40</td>\n",
              "      <td>      NaN</td>\n",
              "      <td> 02:06:29</td>\n",
              "      <td> 02:14:07</td>\n",
              "    </tr>\n",
              "  </tbody>\n",
              "</table>\n",
              "<p>9 rows \u00d7 9 columns</p>\n",
              "</div>"
            ],
            "text/plain": [
              "ville AMSTERDAM    BERLIN    BOSTON   CHICAGO   FUKUOKA    LONDON  NEW YORK  \\\n",
              "annee                                                                         \n",
              "1967        NaN       NaN  02:15:45       NaN  02:09:37       NaN       NaN   \n",
              "1968        NaN       NaN  02:22:17       NaN  02:10:48       NaN       NaN   \n",
              "1969        NaN       NaN  02:13:49       NaN  02:11:13       NaN       NaN   \n",
              "1987   02:12:40  02:11:11  02:11:50       NaN  02:08:18  02:09:50  02:11:01   \n",
              "1988   02:12:38  02:11:45  02:08:43  02:08:57  02:11:04  02:10:20  02:08:20   \n",
              "1989   02:13:52  02:10:11  02:09:06  02:11:25  02:12:54  02:09:03  02:08:01   \n",
              "2009   02:06:18  02:06:08  02:08:42  02:05:41  02:05:18  02:05:10  02:09:15   \n",
              "2010   02:05:44  02:05:08  02:05:52  02:06:23  02:08:24  02:05:19  02:08:14   \n",
              "2011        NaN  02:03:38  02:03:02       NaN       NaN  02:04:40       NaN   \n",
              "\n",
              "ville     PARIS  STOCKOLM  \n",
              "annee                      \n",
              "1967        NaN       NaN  \n",
              "1968        NaN       NaN  \n",
              "1969        NaN       NaN  \n",
              "1987   02:11:09  02:13:52  \n",
              "1988   02:13:53  02:14:26  \n",
              "1989   02:13:03  02:13:34  \n",
              "2009   02:05:47  02:15:34  \n",
              "2010   02:06:41  02:12:48  \n",
              "2011   02:06:29  02:14:07  \n",
              "\n",
              "[9 rows x 9 columns]"
            ]
          },
          "execution_count": 39,
          "metadata": {},
          "output_type": "execute_result"
        }
      ],
      "source": [
        "piv = df.pivot(\"annee\",\"ville\",\"temps\")\n",
        "pandas.concat([piv[20:23],piv[40:43],piv.tail(n=3)])"
      ]
    },
    {
      "cell_type": "markdown",
      "metadata": {},
      "source": [
        "Il existe une m\u00e9thode qui effectue l'op\u00e9ration inverse : [Dataframe.stack](http://pandas.pydata.org/pandas-docs/dev/generated/pandas.DataFrame.stack.html)."
      ]
    },
    {
      "cell_type": "markdown",
      "metadata": {},
      "source": [
        "## Exercice 2 : moyennes par groupes\n",
        "    \n",
        "Toujours avec le m\u00eame jeu de donn\u00e9es ([marathon.txt](http://www.xavierdupre.fr/enseignement/complements/marathon.txt)), on veut ajouter une ligne \u00e0 la fin du tableau crois\u00e9 dynamique contenant la moyenne en secondes des temps des marathons pour chaque ville."
      ]
    },
    {
      "cell_type": "markdown",
      "metadata": {},
      "source": [
        "## Dates\n",
        "\n",
        "Les dates sont souvent compliqu\u00e9es \u00e0 g\u00e9rer car on n'utilise pas le m\u00eames format dans tous les pays. Pour faire simple, je recommande deux options :\n",
        "\n",
        "* Soit convertir les dates/heures au format cha\u00eenes de caract\u00e8res ``AAAA-MM-JJ hh:mm:ss:ms`` qui permet de trier les dates par ordre croissant.\n",
        "* Soit convertir les dates/heures au format [datetime](https://docs.python.org/3/library/datetime.html) (date) ou [timedelta](https://docs.python.org/3/library/datetime.html#timedelta-objects) (dur\u00e9e) (voir [Quelques notions sur les dates](http://www.xavierdupre.fr/blog/notebooks/example%20pyensae.html#date), [format de date/heure](https://docs.python.org/3/library/datetime.html#strftime-strptime-behavior)).\n",
        "\n",
        "Par exemple, voici le code qui a permis de g\u00e9n\u00e9rer la colonne seconde de la table marathon :"
      ]
    },
    {
      "cell_type": "code",
      "execution_count": 39,
      "metadata": {},
      "outputs": [
        {
          "data": {
            "text/html": [
              "<div>\n",
              "<table border=\"1\" class=\"dataframe\">\n",
              "  <thead>\n",
              "    <tr style=\"text-align: right;\">\n",
              "      <th></th>\n",
              "      <th>ville</th>\n",
              "      <th>annee</th>\n",
              "      <th>temps</th>\n",
              "      <th>secondes</th>\n",
              "    </tr>\n",
              "  </thead>\n",
              "  <tbody>\n",
              "    <tr>\n",
              "      <th>0</th>\n",
              "      <td>PARIS</td>\n",
              "      <td>2011</td>\n",
              "      <td>02:06:29</td>\n",
              "      <td>7589.0</td>\n",
              "    </tr>\n",
              "    <tr>\n",
              "      <th>1</th>\n",
              "      <td>PARIS</td>\n",
              "      <td>2010</td>\n",
              "      <td>02:06:41</td>\n",
              "      <td>7601.0</td>\n",
              "    </tr>\n",
              "    <tr>\n",
              "      <th>2</th>\n",
              "      <td>PARIS</td>\n",
              "      <td>2009</td>\n",
              "      <td>02:05:47</td>\n",
              "      <td>7547.0</td>\n",
              "    </tr>\n",
              "    <tr>\n",
              "      <th>3</th>\n",
              "      <td>PARIS</td>\n",
              "      <td>2008</td>\n",
              "      <td>02:06:40</td>\n",
              "      <td>7600.0</td>\n",
              "    </tr>\n",
              "    <tr>\n",
              "      <th>4</th>\n",
              "      <td>PARIS</td>\n",
              "      <td>2007</td>\n",
              "      <td>02:07:17</td>\n",
              "      <td>7637.0</td>\n",
              "    </tr>\n",
              "  </tbody>\n",
              "</table>\n",
              "</div>"
            ],
            "text/plain": [
              "   ville  annee     temps  secondes\n",
              "0  PARIS   2011  02:06:29    7589.0\n",
              "1  PARIS   2010  02:06:41    7601.0\n",
              "2  PARIS   2009  02:05:47    7547.0\n",
              "3  PARIS   2008  02:06:40    7600.0\n",
              "4  PARIS   2007  02:07:17    7637.0"
            ]
          },
          "execution_count": 40,
          "metadata": {},
          "output_type": "execute_result"
        }
      ],
      "source": [
        "from datetime import datetime, time\n",
        "from ensae_teaching_cs.data import marathon\n",
        "import pandas\n",
        "df = pandas.read_csv(marathon(), sep=\"\\t\", names=[\"ville\", \"annee\", \"temps\",\"secondes\"])\n",
        "df = df [[\"ville\", \"annee\", \"temps\"]]  # on enl\u00e8ve la colonne secondes pour la recr\u00e9er\n",
        "df[\"secondes\"] = df.apply( lambda r : (datetime.strptime(r.temps,\"%H:%M:%S\") - \\\n",
        "                                         datetime(1900,1,1)).total_seconds(), axis=1)\n",
        "df.head()"
      ]
    },
    {
      "cell_type": "markdown",
      "metadata": {},
      "source": [
        "## Matrix, Array (numpy)\n",
        "\n",
        "Le module le plus populaire sous Python est [numpy](http://www.numpy.org/). Il propose deux containers [Matrix](http://docs.scipy.org/doc/numpy/reference/generated/numpy.matrix.html) et [Array](http://docs.scipy.org/doc/numpy/reference/generated/numpy.array.html) qui facilitent le calcul matriciel. Ce module est \u00e9crit en C++, Fortran. Il sera plus rapide que tout code \u00e9crit en Python. De nombreuses modules Python s'appuient sur numpy : [SciPy](http://www.scipy.org/), [pandas](http://pandas.pydata.org/), [scikit-learn](http://scikit-learn.org/stable/), [matplotlib](http://matplotlib.org/), ... Il y a deux diff\u00e9rences entre un ``DataFrame`` et un tableau ``numpy`` :\n",
        "\n",
        "* Il n'y a pas d'index sur les lignes autre que l'index entier de la ligne.\n",
        "* Tous les types doivent \u00eatre identiques (tous entier, tous r\u00e9els, tous str). Il n'y a pas de m\u00e9lange possible. C'est \u00e0 cette condition que les calculs sont aussi rapides.\n",
        "\n"
      ]
    },
    {
      "cell_type": "code",
      "execution_count": 40,
      "metadata": {},
      "outputs": [
        {
          "name": "stdout",
          "output_type": "stream",
          "text": [
            "int \n",
            " [[1 2]\n",
            " [3 4]]\n",
            "float \n",
            " [[ 1.   2. ]\n",
            " [ 3.   4.1]]\n",
            "str \n",
            " [['1' '2']\n",
            " ['3' '4']]\n"
          ]
        }
      ],
      "source": [
        "import numpy\n",
        "print(\"int\",\"\\n\",numpy.matrix([[1, 2], [3, 4,]]))\n",
        "print(\"float\",\"\\n\",numpy.matrix([[1, 2], [3, 4.1]]))\n",
        "print(\"str\",\"\\n\",numpy.matrix([[1, 2], [3, '4']]))"
      ]
    },
    {
      "cell_type": "markdown",
      "metadata": {},
      "source": [
        "Il y a deux types d'objets, ``array`` et ``matrix``. Le type ``matrix`` se comporte comme on peut l'attendre d'une matrice. Le type ``array`` est plus g\u00e9n\u00e9rique et autorise plus de deux dimensions. Les op\u00e9rateurs qui s'y appliquent ne comportent pas comme ceux d'une matrice, en particulier la multiplication qui se fait terme \u00e0 terme pour un tableau."
      ]
    },
    {
      "cell_type": "code",
      "execution_count": 41,
      "metadata": {},
      "outputs": [
        {
          "name": "stdout",
          "output_type": "stream",
          "text": [
            "multiplication de matrices\n",
            " [[ 1.  0.]\n",
            " [ 0.  1.]]\n",
            "multiplication de tableaux (terme \u00e0 terme)\n",
            " [[ 0.  1.]\n",
            " [ 1.  0.]]\n"
          ]
        }
      ],
      "source": [
        "m1 = numpy.matrix( [[0.0,1.0],[1.0,0.0]])\n",
        "print(\"multiplication de matrices\\n\",m1 * m1)\n",
        "m2 = numpy.array([[0.0,1.0],[1.0,0.0]])\n",
        "print(\"multiplication de tableaux (terme \u00e0 terme)\\n\",m2 * m2)"
      ]
    },
    {
      "cell_type": "markdown",
      "metadata": {},
      "source": [
        "Un tableau en plusieurs dimensions :"
      ]
    },
    {
      "cell_type": "code",
      "execution_count": 42,
      "metadata": {},
      "outputs": [
        {
          "name": "stdout",
          "output_type": "stream",
          "text": [
            "(2, 2, 2)\n"
          ]
        },
        {
          "data": {
            "text/plain": [
              "array([[[ 0.,  1.],\n",
              "        [ 1.,  0.]],\n",
              "\n",
              "       [[ 0.,  1.],\n",
              "        [ 1.,  0.]]])"
            ]
          },
          "execution_count": 43,
          "metadata": {},
          "output_type": "execute_result"
        }
      ],
      "source": [
        "cube = numpy.array( [  [[0.0,1.0],[1.0,0.0]],\n",
        "                       [[0.0,1.0],[1.0,0.0]] ] )\n",
        "print(cube.shape)\n",
        "cube"
      ]
    },
    {
      "cell_type": "markdown",
      "metadata": {},
      "source": [
        "Quelques liens pour apprendre \u00e0 manipuler ces objets :\n",
        "    \n",
        "- [op\u00e9rations avec numpy.matrix](http://www.xavierdupre.fr/app/ensae_teaching_cs/helpsphinx/all_example_science.html#operations-avec-numpy-matrix)    \n",
        "- [Numpy - multidimensional data arrays](http://nbviewer.jupyter.org/github/jrjohansson/scientific-python-lectures/blob/master/Lecture-2-Numpy.ipynb)\n",
        "- [NUmpy Tutorial](http://wiki.scipy.org/Tentative_NumPy_Tutorial)\n",
        "- [classe numpy.matrix](http://docs.scipy.org/doc/numpy/reference/generated/numpy.matrix.html)\n",
        "- [classe numpy.array](http://docs.scipy.org/doc/numpy/reference/arrays.html)"
      ]
    },
    {
      "cell_type": "markdown",
      "metadata": {},
      "source": [
        "### matrices nulle, identit\u00e9, al\u00e9atoire\n",
        "\n",
        "On utilise beaucoup les fonctions suivantes pour cr\u00e9er une matrice ou un tableau particulier."
      ]
    },
    {
      "cell_type": "code",
      "execution_count": 43,
      "metadata": {},
      "outputs": [
        {
          "data": {
            "text/plain": [
              "array([[ 0.,  0.,  0.,  0.],\n",
              "       [ 0.,  0.,  0.,  0.],\n",
              "       [ 0.,  0.,  0.,  0.]])"
            ]
          },
          "execution_count": 44,
          "metadata": {},
          "output_type": "execute_result"
        }
      ],
      "source": [
        "# la matrice nulle\n",
        "numpy.zeros( (3,4) )"
      ]
    },
    {
      "cell_type": "code",
      "execution_count": 44,
      "metadata": {},
      "outputs": [
        {
          "data": {
            "text/plain": [
              "array([[ 1.,  1.,  1.,  1.],\n",
              "       [ 1.,  1.,  1.,  1.],\n",
              "       [ 1.,  1.,  1.,  1.]])"
            ]
          },
          "execution_count": 45,
          "metadata": {},
          "output_type": "execute_result"
        }
      ],
      "source": [
        "# la matrice de 1\n",
        "numpy.ones( (3,4) )"
      ]
    },
    {
      "cell_type": "code",
      "execution_count": 45,
      "metadata": {},
      "outputs": [
        {
          "data": {
            "text/plain": [
              "array([[ 1.,  0.,  0.],\n",
              "       [ 0.,  1.,  0.],\n",
              "       [ 0.,  0.,  1.]])"
            ]
          },
          "execution_count": 46,
          "metadata": {},
          "output_type": "execute_result"
        }
      ],
      "source": [
        "# la matrice identit\u00e9\n",
        "numpy.identity( 3 )"
      ]
    },
    {
      "cell_type": "code",
      "execution_count": 46,
      "metadata": {},
      "outputs": [
        {
          "data": {
            "text/plain": [
              "array([[ 0.56295296,  0.77545561,  0.56041393,  0.90371888],\n",
              "       [ 0.09984123,  0.59781939,  0.09845057,  0.30856921],\n",
              "       [ 0.37161512,  0.5630934 ,  0.6359542 ,  0.13298039]])"
            ]
          },
          "execution_count": 47,
          "metadata": {},
          "output_type": "execute_result"
        }
      ],
      "source": [
        "# la matrice al\u00e9atoire\n",
        "numpy.random.random( (3,4))"
      ]
    },
    {
      "cell_type": "markdown",
      "metadata": {},
      "source": [
        "Pour d'autres fonctionnalit\u00e9s al\u00e9atoires : [numpy.random](http://docs.scipy.org/doc/numpy/reference/routines.random.html)."
      ]
    },
    {
      "cell_type": "markdown",
      "metadata": {},
      "source": [
        "### Quelques fonctions fr\u00e9quemment utilis\u00e9es\n",
        "\n",
        "* [column_stack](http://docs.scipy.org/doc/numpy/reference/generated/numpy.column_stack.html) : pour assembler des colonnes les unes \u00e0 c\u00f4t\u00e9 des autres\n",
        "* [vstack](http://docs.scipy.org/doc/numpy/reference/generated/numpy.vstack.html) : pour assembler des lignes les unes \u00e0 la suite des autres"
      ]
    },
    {
      "cell_type": "markdown",
      "metadata": {},
      "source": [
        "### de DataFrame \u00e0 numpy\n",
        "\n",
        "Le plus simple est sans doute d'utiliser ``pandas`` pour lire un fichier texte et d'utiliser la fonction [as_matrix](http://pandas.pydata.org/pandas-docs/stable/generated/pandas.DataFrame.as_matrix.html) pour convertir tout ou partie du ``DataFrame`` en ``numpy.matrix``."
      ]
    },
    {
      "cell_type": "code",
      "execution_count": 47,
      "metadata": {},
      "outputs": [
        {
          "name": "stdout",
          "output_type": "stream",
          "text": [
            "<class 'numpy.ndarray'> <class 'numpy.matrixlib.defmatrix.matrix'>\n"
          ]
        },
        {
          "data": {
            "text/plain": [
              "array([[2011, 7589],\n",
              "       [2010, 7601]], dtype=int64)"
            ]
          },
          "execution_count": 48,
          "metadata": {},
          "output_type": "execute_result"
        }
      ],
      "source": [
        "from pandas import read_csv\n",
        "import numpy\n",
        "from datetime import datetime, time\n",
        "from ensae_teaching_cs.data import marathon\n",
        "df = read_csv(marathon(filename=True), \n",
        "                     sep=\"\\t\", names=[\"ville\", \"annee\", \"temps\",\"secondes\"])\n",
        "arr = df[[\"annee\",\"secondes\"]].as_matrix() # retourne un array (et non un matrix)\n",
        "mat = numpy.matrix(arr)\n",
        "print(type(arr),type(mat))\n",
        "arr[:2,:]"
      ]
    },
    {
      "cell_type": "markdown",
      "metadata": {},
      "source": [
        "La conversion r\u00e9ciproque est aussi simple mais il faut pr\u00e9ciser les noms des colonnes qui ne sont pas m\u00e9moris\u00e9es dans l'objet ``numpy.array`` :"
      ]
    },
    {
      "cell_type": "code",
      "execution_count": 48,
      "metadata": {},
      "outputs": [
        {
          "data": {
            "text/html": [
              "<div style=\"max-height:1000px;max-width:1500px;overflow:auto;\">\n",
              "<table border=\"1\" class=\"dataframe\">\n",
              "  <thead>\n",
              "    <tr style=\"text-align: right;\">\n",
              "      <th></th>\n",
              "      <th>annee</th>\n",
              "      <th>secondes</th>\n",
              "    </tr>\n",
              "  </thead>\n",
              "  <tbody>\n",
              "    <tr>\n",
              "      <th>0</th>\n",
              "      <td> 2011</td>\n",
              "      <td> 7589</td>\n",
              "    </tr>\n",
              "    <tr>\n",
              "      <th>1</th>\n",
              "      <td> 2010</td>\n",
              "      <td> 7601</td>\n",
              "    </tr>\n",
              "  </tbody>\n",
              "</table>\n",
              "<p>2 rows \u00d7 2 columns</p>\n",
              "</div>"
            ],
            "text/plain": [
              "   annee  secondes\n",
              "0   2011      7589\n",
              "1   2010      7601\n",
              "\n",
              "[2 rows x 2 columns]"
            ]
          },
          "execution_count": 49,
          "metadata": {},
          "output_type": "execute_result"
        }
      ],
      "source": [
        "import pandas\n",
        "df2 = pandas.DataFrame(arr, columns=[\"annee\", \"secondes\"])\n",
        "df2.head(n=2)"
      ]
    },
    {
      "cell_type": "markdown",
      "metadata": {},
      "source": [
        "## Exercice 3 : r\u00e9gression lin\u00e9aire\n",
        "\n",
        "On souhaite impl\u00e9menter une [r\u00e9gression](http://fr.wikipedia.org/wiki/R%C3%A9gression_lin%C3%A9aire_multiple) qui se traduit par le probl\u00e8me suivant : $Y=XA+\\epsilon$. La solution est donn\u00e9e par la formule matricielle : $A^*=(X'X)^{-1}X'Y$. On pr\u00e9pare les donn\u00e9es suivantes."
      ]
    },
    {
      "cell_type": "code",
      "execution_count": 49,
      "metadata": {},
      "outputs": [
        {
          "data": {
            "text/html": [
              "<div>\n",
              "<table border=\"1\" class=\"dataframe\">\n",
              "  <thead>\n",
              "    <tr style=\"text-align: right;\">\n",
              "      <th></th>\n",
              "      <th>ville</th>\n",
              "      <th>annee</th>\n",
              "      <th>temps</th>\n",
              "      <th>secondes</th>\n",
              "      <th>estPARIS</th>\n",
              "      <th>estBERLIN</th>\n",
              "    </tr>\n",
              "  </thead>\n",
              "  <tbody>\n",
              "    <tr>\n",
              "      <th>0</th>\n",
              "      <td>PARIS</td>\n",
              "      <td>2011</td>\n",
              "      <td>02:06:29</td>\n",
              "      <td>7589</td>\n",
              "      <td>1</td>\n",
              "      <td>0</td>\n",
              "    </tr>\n",
              "    <tr>\n",
              "      <th>1</th>\n",
              "      <td>PARIS</td>\n",
              "      <td>2010</td>\n",
              "      <td>02:06:41</td>\n",
              "      <td>7601</td>\n",
              "      <td>1</td>\n",
              "      <td>0</td>\n",
              "    </tr>\n",
              "    <tr>\n",
              "      <th>2</th>\n",
              "      <td>PARIS</td>\n",
              "      <td>2009</td>\n",
              "      <td>02:05:47</td>\n",
              "      <td>7547</td>\n",
              "      <td>1</td>\n",
              "      <td>0</td>\n",
              "    </tr>\n",
              "  </tbody>\n",
              "</table>\n",
              "</div>"
            ],
            "text/plain": [
              "   ville  annee     temps  secondes  estPARIS  estBERLIN\n",
              "0  PARIS   2011  02:06:29      7589         1          0\n",
              "1  PARIS   2010  02:06:41      7601         1          0\n",
              "2  PARIS   2009  02:05:47      7547         1          0"
            ]
          },
          "execution_count": 50,
          "metadata": {},
          "output_type": "execute_result"
        }
      ],
      "source": [
        "from pandas import read_csv\n",
        "from datetime import datetime, time\n",
        "from ensae_teaching_cs.data import marathon\n",
        "df = read_csv(marathon(filename=True), \n",
        "              sep=\"\\t\", names=[\"ville\", \"annee\", \"temps\",\"secondes\"])\n",
        "df = df [ (df[\"ville\"] == \"BERLIN\") | (df[\"ville\"] == \"PARIS\") ] \n",
        "for v in [\"PARIS\",\"BERLIN\"]:\n",
        "    df[\"est\" + v] = df.apply( lambda r : 1 if r[\"ville\"] == v else 0, axis=1)\n",
        "df.head(n = 3)"
      ]
    },
    {
      "cell_type": "markdown",
      "metadata": {},
      "source": [
        "On veut construire le mod\u00e8le : $secondes = a_0 \\; annee + a_1 \\; stPARIS + a_2 \\; estBERLIN$. En appliquant la formule ci-dessus, d\u00e9terminer les coefficients $a_0,a_1,a_2$."
      ]
    },
    {
      "cell_type": "markdown",
      "metadata": {},
      "source": [
        "## Annexes"
      ]
    },
    {
      "cell_type": "markdown",
      "metadata": {},
      "source": [
        "### Cr\u00e9er un fichier Excel avec plusieurs feuilles\n",
        "\n",
        "La page [Allow ExcelWriter() to add sheets to existing workbook](https://github.com/pydata/pandas/issues/3441) donne plusieurs exemples d'\u00e9criture."
      ]
    },
    {
      "cell_type": "code",
      "execution_count": 50,
      "metadata": {
        "collapsed": true
      },
      "outputs": [],
      "source": [
        "import pandas\n",
        "writer = pandas.ExcelWriter('tou_example.xlsx')\n",
        "df.to_excel(writer, 'Data 0')\n",
        "df.to_excel(writer, 'Data 1')\n",
        "writer.save()"
      ]
    },
    {
      "cell_type": "code",
      "execution_count": 51,
      "metadata": {
        "collapsed": true
      },
      "outputs": [],
      "source": []
    }
  ],
  "metadata": {
    "kernelspec": {
      "display_name": "Python 3",
      "language": "python",
      "name": "python3"
    },
    "language_info": {
      "codemirror_mode": {
        "name": "ipython",
        "version": 3
      },
      "file_extension": ".py",
      "mimetype": "text/x-python",
      "name": "python",
      "nbconvert_exporter": "python",
      "pygments_lexer": "ipython3",
      "version": "3.6.1"
    }
  },
  "nbformat": 4,
  "nbformat_minor": 1
}