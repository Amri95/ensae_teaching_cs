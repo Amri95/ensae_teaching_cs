{
  "cells": [
    {
      "cell_type": "markdown",
      "metadata": {},
      "source": [
        "# 2A.ml - 2017 - Pr\u00e9paration des donn\u00e9es\n",
        "\n",
        "Ce notebook explique comment les donn\u00e9es de la comp\u00e9tation 2017 ont \u00e9t\u00e9 pr\u00e9par\u00e9es. On r\u00e9cup\u00e9re d'abord les donn\u00e9es depuis le site [OpenFoodFacts](https://world.openfoodfacts.org/data)."
      ]
    },
    {
      "cell_type": "code",
      "execution_count": 1,
      "metadata": {},
      "outputs": [
        {
          "data": {
            "text/html": [
              "<div id=\"my_id_menu_nb\">run previous cell, wait for 2 seconds</div>\n",
              "<script>\n",
              "function repeat_indent_string(n){\n",
              "    var a = \"\" ;\n",
              "    for ( ; n > 0 ; --n)\n",
              "        a += \"    \";\n",
              "    return a;\n",
              "}\n",
              "var update_menu_string = function(begin, lfirst, llast, sformat, send, keep_item, begin_format, end_format) {\n",
              "    var anchors = document.getElementsByClassName(\"section\");\n",
              "    if (anchors.length == 0) {\n",
              "        anchors = document.getElementsByClassName(\"text_cell_render rendered_html\");\n",
              "    }\n",
              "    var i,t;\n",
              "    var text_menu = begin;\n",
              "    var text_memo = \"<pre>\\nlength:\" + anchors.length + \"\\n\";\n",
              "    var ind = \"\";\n",
              "    var memo_level = 1;\n",
              "    var href;\n",
              "    var tags = [];\n",
              "    var main_item = 0;\n",
              "    var format_open = 0;\n",
              "    for (i = 0; i <= llast; i++)\n",
              "        tags.push(\"h\" + i);\n",
              "\n",
              "    for (i = 0; i < anchors.length; i++) {\n",
              "        text_memo += \"**\" + anchors[i].id + \"--\\n\";\n",
              "\n",
              "        var child = null;\n",
              "        for(t = 0; t < tags.length; t++) {\n",
              "            var r = anchors[i].getElementsByTagName(tags[t]);\n",
              "            if (r.length > 0) {\n",
              "child = r[0];\n",
              "break;\n",
              "            }\n",
              "        }\n",
              "        if (child == null) {\n",
              "            text_memo += \"null\\n\";\n",
              "            continue;\n",
              "        }\n",
              "        if (anchors[i].hasAttribute(\"id\")) {\n",
              "            // when converted in RST\n",
              "            href = anchors[i].id;\n",
              "            text_memo += \"#1-\" + href;\n",
              "            // passer \u00e0 child suivant (le chercher)\n",
              "        }\n",
              "        else if (child.hasAttribute(\"id\")) {\n",
              "            // in a notebook\n",
              "            href = child.id;\n",
              "            text_memo += \"#2-\" + href;\n",
              "        }\n",
              "        else {\n",
              "            text_memo += \"#3-\" + \"*\" + \"\\n\";\n",
              "            continue;\n",
              "        }\n",
              "        var title = child.textContent;\n",
              "        var level = parseInt(child.tagName.substring(1,2));\n",
              "\n",
              "        text_memo += \"--\" + level + \"?\" + lfirst + \"--\" + title + \"\\n\";\n",
              "\n",
              "        if ((level < lfirst) || (level > llast)) {\n",
              "            continue ;\n",
              "        }\n",
              "        if (title.endsWith('\u00b6')) {\n",
              "            title = title.substring(0,title.length-1).replace(\"<\", \"&lt;\")\n",
              "         .replace(\">\", \"&gt;\").replace(\"&\", \"&amp;\");\n",
              "        }\n",
              "        if (title.length == 0) {\n",
              "            continue;\n",
              "        }\n",
              "\n",
              "        while (level < memo_level) {\n",
              "            text_menu += end_format + \"</ul>\\n\";\n",
              "            format_open -= 1;\n",
              "            memo_level -= 1;\n",
              "        }\n",
              "        if (level == lfirst) {\n",
              "            main_item += 1;\n",
              "        }\n",
              "        if (keep_item != -1 && main_item != keep_item + 1) {\n",
              "            // alert(main_item + \" - \" + level + \" - \" + keep_item);\n",
              "            continue;\n",
              "        }\n",
              "        while (level > memo_level) {\n",
              "            text_menu += \"<ul>\\n\";\n",
              "            memo_level += 1;\n",
              "        }\n",
              "        text_menu += repeat_indent_string(level-2);\n",
              "        text_menu += begin_format + sformat.replace(\"__HREF__\", href).replace(\"__TITLE__\", title);\n",
              "        format_open += 1;\n",
              "    }\n",
              "    while (1 < memo_level) {\n",
              "        text_menu += end_format + \"</ul>\\n\";\n",
              "        memo_level -= 1;\n",
              "        format_open -= 1;\n",
              "    }\n",
              "    text_menu += send;\n",
              "    //text_menu += \"\\n\" + text_memo;\n",
              "\n",
              "    while (format_open > 0) {\n",
              "        text_menu += end_format;\n",
              "        format_open -= 1;\n",
              "    }\n",
              "    return text_menu;\n",
              "};\n",
              "var update_menu = function() {\n",
              "    var sbegin = \"\";\n",
              "    var sformat = '<a href=\"#__HREF__\">__TITLE__</a>';\n",
              "    var send = \"\";\n",
              "    var begin_format = '<li>';\n",
              "    var end_format = '</li>';\n",
              "    var keep_item = -1;\n",
              "    var text_menu = update_menu_string(sbegin, 2, 4, sformat, send, keep_item,\n",
              "       begin_format, end_format);\n",
              "    var menu = document.getElementById(\"my_id_menu_nb\");\n",
              "    menu.innerHTML=text_menu;\n",
              "};\n",
              "window.setTimeout(update_menu,2000);\n",
              "            </script>"
            ],
            "text/plain": [
              "<IPython.core.display.HTML object>"
            ]
          },
          "execution_count": 2,
          "metadata": {},
          "output_type": "execute_result"
        }
      ],
      "source": [
        "from jyquickhelper import add_notebook_menu\n",
        "add_notebook_menu()"
      ]
    },
    {
      "cell_type": "markdown",
      "metadata": {},
      "source": [
        "## A quoi \u00e7a ressemble"
      ]
    },
    {
      "cell_type": "code",
      "execution_count": 2,
      "metadata": {},
      "outputs": [
        {
          "data": {
            "text/plain": [
              "(0.938696850091219, 'Go')"
            ]
          },
          "execution_count": 3,
          "metadata": {},
          "output_type": "execute_result"
        }
      ],
      "source": [
        "import os\n",
        "os.stat(\"c:/temp/fr.openfoodfacts.org.products.csv\").st_size / 2**30, 'Go'"
      ]
    },
    {
      "cell_type": "markdown",
      "metadata": {},
      "source": [
        "C'est gros."
      ]
    },
    {
      "cell_type": "code",
      "execution_count": 3,
      "metadata": {
        "collapsed": true
      },
      "outputs": [],
      "source": [
        "import pyensae"
      ]
    },
    {
      "cell_type": "code",
      "execution_count": 4,
      "metadata": {
        "collapsed": true
      },
      "outputs": [],
      "source": [
        "%load_ext pyensae"
      ]
    },
    {
      "cell_type": "code",
      "execution_count": 5,
      "metadata": {},
      "outputs": [
        {
          "data": {
            "text/html": [
              "<pre>\n",
              "code\turl\tcreator\tcreated_t\tcreated_datetime\tlast_modified_t\tlast_modified_datetime\tproduct_name\tgeneric_name\tquantity\tpackaging\tpackaging_tags\tbrands\tbrands_tags\tcategories\tcategories_tags\tcategories_fr\torigins\torigins_tags\tmanufacturing_places\tmanufacturing_places_tags\tlabels\tlabels_tags\tlabels_fr\temb_codes\temb_codes_tags\tfirst_packaging_code_geo\tcities\tcities_tags\tpurchase_places\tstores\tcountries\tcountries_tags\tcountries_fr\tingredients_text\tallergens\tallergens_fr\ttraces\ttraces_tags\ttraces_fr\tserving_size\tno_nutriments\tadditives_n\tadditives\tadditives_tags\tadditives_fr\tingredients_from_palm_oil_n\tingredients_from_palm_oil\tingredients_from_palm_oil_tags\tingredients_that_may_be_from_palm_oil_n\tingredients_that_may_be_from_palm_oil\tingredients_that_may_be_from_palm_oil_tags\tnutrition_grade_uk\tnutrition_grade_fr\tpnns_groups_1\tpnns_groups_2\tstates\tstates_tags\tstates_fr\tmain_category\tmain_category_fr\timage_url\timage_small_url\tenergy_100g\tenergy-from-fat_100g\tfat_100g\tsaturated-fat_100g\tbutyric-acid_100g\tcaproic-acid_100g\tcaprylic-acid_100g\tcapric-acid_100g\tlauric-acid_100g\tmyristic-acid_100g\tpalmitic-acid_100g\tstearic-acid_100g\tarachidic-acid_100g\tbehenic-acid_100g\tlignoceric-acid_100g\tcerotic-acid_100g\tmontanic-acid_100g\tmelissic-acid_100g\tmonounsaturated-fat_100g\tpolyunsaturated-fat_100g\tomega-3-fat_100g\talpha-linolenic-acid_100g\teicosapentaenoic-acid_100g\tdocosahexaenoic-acid_100g\tomega-6-fat_100g\tlinoleic-acid_100g\tarachidonic-acid_100g\tgamma-linolenic-acid_100g\tdihomo-gamma-linolenic-acid_100g\tomega-9-fat_100g\toleic-acid_100g\telaidic-acid_100g\tgondoic-acid_100g\tmead-acid_100g\terucic-acid_100g\tnervonic-acid_100g\ttrans-fat_100g\tcholesterol_100g\tcarbohydrates_100g\tsugars_100g\tsucrose_100g\tglucose_100g\tfructose_100g\tlactose_100g\tmaltose_100g\tmaltodextrins_100g\tstarch_100g\tpolyols_100g\tfiber_100g\tproteins_100g\tcasein_100g\tserum-proteins_100g\tnucleotides_100g\tsalt_100g\tsodium_100g\talcohol_100g\tvitamin-a_100g\tbeta-carotene_100g\tvitamin-d_100g\tvitamin-e_100g\tvitamin-k_100g\tvitamin-c_100g\tvitamin-b1_100g\tvitamin-b2_100g\tvitamin-pp_100g\tvitamin-b6_100g\tvitamin-b9_100g\tfolates_100g\tvitamin-b12_100g\tbiotin_100g\tpantothenic-acid_100g\tsilica_100g\tbicarbonate_100g\tpotassium_100g\tchloride_100g\tcalcium_100g\tphosphorus_100g\tiron_100g\tmagnesium_100g\tzinc_100g\tcopper_100g\tmanganese_100g\tfluoride_100g\tselenium_100g\tchromium_100g\tmolybdenum_100g\tiodine_100g\tcaffeine_100g\ttaurine_100g\tph_100g\tfruits-vegetables-nuts_100g\tfruits-vegetables-nuts-estimate_100g\tcollagen-meat-protein-ratio_100g\tcocoa_100g\tchlorophyl_100g\tcarbon-footprint_100g\tnutrition-score-fr_100g\tnutrition-score-uk_100g\tglycemic-index_100g\twater-hardness_100g\n",
              "0000000003087\thttp://world-fr.openfoodfacts.org/produit/0000000003087/farine-de-ble-noir-ferme-t-y-r-nao\topenfoodfacts-contributors\t1474103866\t2016-09-17T09:17:46Z\t1474103893\t2016-09-17T09:18:13Z\tFarine de bl\u00e9 noir\t\t1kg\t\t\tFerme t'y R'nao\tferme-t-y-r-nao\t\t\t\t\t\t\t\t\t\t\t\t\t\t\t\t\t\ten:FR\ten:france\tFrance\t\t\t\t\t\t\t\t\t\t\t\t\t\t\t\t\t\t\t\t\t\t\ten:to-be-completed, en:nutrition-facts-to-be-completed, en:ingredients-to-be-completed, en:expiration-date-to-be-completed, en:characteristics-to-be-completed, en:categories-to-be-completed, en:brands-completed, en:packaging-to-be-completed, en:quantity-completed, en:product-name-completed, en:photos-to-be-validated, en:photos-uploaded\ten:to-be-completed,en:nutrition-facts-to-be-completed,en:ingredients-to-be-completed,en:expiration-date-to-be-completed,en:characteristics-to-be-completed,en:categories-to-be-completed,en:brands-completed,en:packaging-to-be-completed,en:quantity-completed,en:product-name-completed,en:photos-to-be-validated,en:photos-uploaded\tA compl\u00e9ter,Informations nutritionnelles \u00e0 compl\u00e9ter,Ingr\u00e9dients \u00e0 compl\u00e9ter,Date limite \u00e0 compl\u00e9ter,Caract\u00e9ristiques \u00e0 compl\u00e9ter,Cat\u00e9gories \u00e0 compl\u00e9ter,Marques compl\u00e9t\u00e9es,Emballage \u00e0 compl\u00e9ter,Quantit\u00e9 compl\u00e9t\u00e9e,Nom du produit complete,Photos \u00e0 valider,Photos envoy\u00e9es\t\t\t\t\t\t\t\t\t\t\t\t\t\t\t\t\t\t\t\t\t\t\t\t\t\t\t\t\t\t\t\t\t\t\t\t\t\t\t\t\t\t\t\t\t\t\t\t\t\t\t\t\t\t\t\t\t\t\t\t\t\t\t\t\t\t\t\t\t\t\t\t\t\t\t\t\t\t\t\t\t\t\t\t\t\t\t\t\t\t\t\t\t\t\t\t\t\t\t\t\t\t\t\t\n",
              "\n",
              "</pre>"
            ],
            "text/plain": [
              "<IPython.core.display.HTML object>"
            ]
          },
          "execution_count": 6,
          "metadata": {},
          "output_type": "execute_result"
        }
      ],
      "source": [
        "%head -n 2 c:/temp/fr.openfoodfacts.org.products.csv"
      ]
    },
    {
      "cell_type": "code",
      "execution_count": 6,
      "metadata": {
        "collapsed": true
      },
      "outputs": [],
      "source": [
        "import pandas"
      ]
    },
    {
      "cell_type": "code",
      "execution_count": 7,
      "metadata": {
        "collapsed": true
      },
      "outputs": [],
      "source": [
        "df = pandas.read_csv(\"c:/temp/fr.openfoodfacts.org.products.csv\", \n",
        "                     sep=\"\\t\", encoding=\"utf-8\", nrows=10000, low_memory=False)"
      ]
    },
    {
      "cell_type": "code",
      "execution_count": 8,
      "metadata": {
        "collapsed": true
      },
      "outputs": [],
      "source": [
        "df.head().T.to_excel(\"e.xlsx\")"
      ]
    },
    {
      "cell_type": "code",
      "execution_count": 9,
      "metadata": {},
      "outputs": [
        {
          "data": {
            "text/html": [
              "<div>\n",
              "<style>\n",
              "    .dataframe thead tr:only-child th {\n",
              "        text-align: right;\n",
              "    }\n",
              "\n",
              "    .dataframe thead th {\n",
              "        text-align: left;\n",
              "    }\n",
              "\n",
              "    .dataframe tbody tr th {\n",
              "        vertical-align: top;\n",
              "    }\n",
              "</style>\n",
              "<table border=\"1\" class=\"dataframe\">\n",
              "  <thead>\n",
              "    <tr style=\"text-align: right;\">\n",
              "      <th></th>\n",
              "    </tr>\n",
              "  </thead>\n",
              "  <tbody>\n",
              "    <tr>\n",
              "      <th>code</th>\n",
              "    </tr>\n",
              "    <tr>\n",
              "      <th>url</th>\n",
              "    </tr>\n",
              "    <tr>\n",
              "      <th>creator</th>\n",
              "    </tr>\n",
              "    <tr>\n",
              "      <th>created_t</th>\n",
              "    </tr>\n",
              "    <tr>\n",
              "      <th>created_datetime</th>\n",
              "    </tr>\n",
              "    <tr>\n",
              "      <th>last_modified_t</th>\n",
              "    </tr>\n",
              "    <tr>\n",
              "      <th>last_modified_datetime</th>\n",
              "    </tr>\n",
              "    <tr>\n",
              "      <th>product_name</th>\n",
              "    </tr>\n",
              "    <tr>\n",
              "      <th>generic_name</th>\n",
              "    </tr>\n",
              "    <tr>\n",
              "      <th>quantity</th>\n",
              "    </tr>\n",
              "    <tr>\n",
              "      <th>packaging</th>\n",
              "    </tr>\n",
              "    <tr>\n",
              "      <th>packaging_tags</th>\n",
              "    </tr>\n",
              "    <tr>\n",
              "      <th>brands</th>\n",
              "    </tr>\n",
              "    <tr>\n",
              "      <th>brands_tags</th>\n",
              "    </tr>\n",
              "    <tr>\n",
              "      <th>categories</th>\n",
              "    </tr>\n",
              "    <tr>\n",
              "      <th>categories_tags</th>\n",
              "    </tr>\n",
              "    <tr>\n",
              "      <th>categories_fr</th>\n",
              "    </tr>\n",
              "    <tr>\n",
              "      <th>origins</th>\n",
              "    </tr>\n",
              "    <tr>\n",
              "      <th>origins_tags</th>\n",
              "    </tr>\n",
              "    <tr>\n",
              "      <th>manufacturing_places</th>\n",
              "    </tr>\n",
              "    <tr>\n",
              "      <th>manufacturing_places_tags</th>\n",
              "    </tr>\n",
              "    <tr>\n",
              "      <th>labels</th>\n",
              "    </tr>\n",
              "    <tr>\n",
              "      <th>labels_tags</th>\n",
              "    </tr>\n",
              "    <tr>\n",
              "      <th>labels_fr</th>\n",
              "    </tr>\n",
              "    <tr>\n",
              "      <th>emb_codes</th>\n",
              "    </tr>\n",
              "    <tr>\n",
              "      <th>emb_codes_tags</th>\n",
              "    </tr>\n",
              "    <tr>\n",
              "      <th>first_packaging_code_geo</th>\n",
              "    </tr>\n",
              "    <tr>\n",
              "      <th>cities</th>\n",
              "    </tr>\n",
              "    <tr>\n",
              "      <th>cities_tags</th>\n",
              "    </tr>\n",
              "    <tr>\n",
              "      <th>purchase_places</th>\n",
              "    </tr>\n",
              "    <tr>\n",
              "      <th>...</th>\n",
              "    </tr>\n",
              "    <tr>\n",
              "      <th>pantothenic-acid_100g</th>\n",
              "    </tr>\n",
              "    <tr>\n",
              "      <th>silica_100g</th>\n",
              "    </tr>\n",
              "    <tr>\n",
              "      <th>bicarbonate_100g</th>\n",
              "    </tr>\n",
              "    <tr>\n",
              "      <th>potassium_100g</th>\n",
              "    </tr>\n",
              "    <tr>\n",
              "      <th>chloride_100g</th>\n",
              "    </tr>\n",
              "    <tr>\n",
              "      <th>calcium_100g</th>\n",
              "    </tr>\n",
              "    <tr>\n",
              "      <th>phosphorus_100g</th>\n",
              "    </tr>\n",
              "    <tr>\n",
              "      <th>iron_100g</th>\n",
              "    </tr>\n",
              "    <tr>\n",
              "      <th>magnesium_100g</th>\n",
              "    </tr>\n",
              "    <tr>\n",
              "      <th>zinc_100g</th>\n",
              "    </tr>\n",
              "    <tr>\n",
              "      <th>copper_100g</th>\n",
              "    </tr>\n",
              "    <tr>\n",
              "      <th>manganese_100g</th>\n",
              "    </tr>\n",
              "    <tr>\n",
              "      <th>fluoride_100g</th>\n",
              "    </tr>\n",
              "    <tr>\n",
              "      <th>selenium_100g</th>\n",
              "    </tr>\n",
              "    <tr>\n",
              "      <th>chromium_100g</th>\n",
              "    </tr>\n",
              "    <tr>\n",
              "      <th>molybdenum_100g</th>\n",
              "    </tr>\n",
              "    <tr>\n",
              "      <th>iodine_100g</th>\n",
              "    </tr>\n",
              "    <tr>\n",
              "      <th>caffeine_100g</th>\n",
              "    </tr>\n",
              "    <tr>\n",
              "      <th>taurine_100g</th>\n",
              "    </tr>\n",
              "    <tr>\n",
              "      <th>ph_100g</th>\n",
              "    </tr>\n",
              "    <tr>\n",
              "      <th>fruits-vegetables-nuts_100g</th>\n",
              "    </tr>\n",
              "    <tr>\n",
              "      <th>fruits-vegetables-nuts-estimate_100g</th>\n",
              "    </tr>\n",
              "    <tr>\n",
              "      <th>collagen-meat-protein-ratio_100g</th>\n",
              "    </tr>\n",
              "    <tr>\n",
              "      <th>cocoa_100g</th>\n",
              "    </tr>\n",
              "    <tr>\n",
              "      <th>chlorophyl_100g</th>\n",
              "    </tr>\n",
              "    <tr>\n",
              "      <th>carbon-footprint_100g</th>\n",
              "    </tr>\n",
              "    <tr>\n",
              "      <th>nutrition-score-fr_100g</th>\n",
              "    </tr>\n",
              "    <tr>\n",
              "      <th>nutrition-score-uk_100g</th>\n",
              "    </tr>\n",
              "    <tr>\n",
              "      <th>glycemic-index_100g</th>\n",
              "    </tr>\n",
              "    <tr>\n",
              "      <th>water-hardness_100g</th>\n",
              "    </tr>\n",
              "  </tbody>\n",
              "</table>\n",
              "<p>163 rows \u00d7 0 columns</p>\n",
              "</div>"
            ],
            "text/plain": [
              "Empty DataFrame\n",
              "Columns: []\n",
              "Index: [code, url, creator, created_t, created_datetime, last_modified_t, last_modified_datetime, product_name, generic_name, quantity, packaging, packaging_tags, brands, brands_tags, categories, categories_tags, categories_fr, origins, origins_tags, manufacturing_places, manufacturing_places_tags, labels, labels_tags, labels_fr, emb_codes, emb_codes_tags, first_packaging_code_geo, cities, cities_tags, purchase_places, stores, countries, countries_tags, countries_fr, ingredients_text, allergens, allergens_fr, traces, traces_tags, traces_fr, serving_size, no_nutriments, additives_n, additives, additives_tags, additives_fr, ingredients_from_palm_oil_n, ingredients_from_palm_oil, ingredients_from_palm_oil_tags, ingredients_that_may_be_from_palm_oil_n, ingredients_that_may_be_from_palm_oil, ingredients_that_may_be_from_palm_oil_tags, nutrition_grade_uk, nutrition_grade_fr, pnns_groups_1, pnns_groups_2, states, states_tags, states_fr, main_category, main_category_fr, image_url, image_small_url, energy_100g, energy-from-fat_100g, fat_100g, saturated-fat_100g, butyric-acid_100g, caproic-acid_100g, caprylic-acid_100g, capric-acid_100g, lauric-acid_100g, myristic-acid_100g, palmitic-acid_100g, stearic-acid_100g, arachidic-acid_100g, behenic-acid_100g, lignoceric-acid_100g, cerotic-acid_100g, montanic-acid_100g, melissic-acid_100g, monounsaturated-fat_100g, polyunsaturated-fat_100g, omega-3-fat_100g, alpha-linolenic-acid_100g, eicosapentaenoic-acid_100g, docosahexaenoic-acid_100g, omega-6-fat_100g, linoleic-acid_100g, arachidonic-acid_100g, gamma-linolenic-acid_100g, dihomo-gamma-linolenic-acid_100g, omega-9-fat_100g, oleic-acid_100g, elaidic-acid_100g, gondoic-acid_100g, mead-acid_100g, erucic-acid_100g, nervonic-acid_100g, trans-fat_100g, ...]\n",
              "\n",
              "[163 rows x 0 columns]"
            ]
          },
          "execution_count": 10,
          "metadata": {},
          "output_type": "execute_result"
        }
      ],
      "source": [
        "df[df.additives.notnull() & df.additives.str.contains(\"E4\")].head().T"
      ]
    },
    {
      "cell_type": "markdown",
      "metadata": {},
      "source": [
        "## Id\u00e9e de la comp\u00e9tation\n",
        "\n",
        "On veut savoir les additifs ajout\u00e9s apparaissent plus fr\u00e9quemment avec certains produits ou certains compositions. ON cherche donc \u00e0 pr\u00e9dire la pr\u00e9sence d'additifs en fonction de toutes les autres variables. Si un mod\u00e8le de pr\u00e9diction fait mieux que le hasard, cela signifie que certaines corr\u00e9lations existent. J'ai utilis\u00e9 [dask](https://dask.pydata.org/en/latest/) mais si vous de la m\u00e9moire, on peut faire avec [pandas](https://pandas.pydata.org/)."
      ]
    },
    {
      "cell_type": "code",
      "execution_count": 10,
      "metadata": {
        "collapsed": true
      },
      "outputs": [],
      "source": [
        "import dask\n",
        "import dask.dataframe as dd"
      ]
    },
    {
      "cell_type": "markdown",
      "metadata": {},
      "source": [
        "Le code qui suit est construit apr\u00e8s plusieurs essais en fonction des warnings retourn\u00e9s par le module *dask*."
      ]
    },
    {
      "cell_type": "code",
      "execution_count": 11,
      "metadata": {
        "scrolled": false
      },
      "outputs": [
        {
          "data": {
            "text/html": [
              "<div>\n",
              "<style>\n",
              "    .dataframe thead tr:only-child th {\n",
              "        text-align: right;\n",
              "    }\n",
              "\n",
              "    .dataframe thead th {\n",
              "        text-align: left;\n",
              "    }\n",
              "\n",
              "    .dataframe tbody tr th {\n",
              "        vertical-align: top;\n",
              "    }\n",
              "</style>\n",
              "<table border=\"1\" class=\"dataframe\">\n",
              "  <thead>\n",
              "    <tr style=\"text-align: right;\">\n",
              "      <th></th>\n",
              "      <th>code</th>\n",
              "      <th>url</th>\n",
              "      <th>creator</th>\n",
              "      <th>created_t</th>\n",
              "      <th>created_datetime</th>\n",
              "      <th>last_modified_t</th>\n",
              "      <th>last_modified_datetime</th>\n",
              "      <th>product_name</th>\n",
              "      <th>generic_name</th>\n",
              "      <th>quantity</th>\n",
              "      <th>...</th>\n",
              "      <th>fruits-vegetables-nuts_100g</th>\n",
              "      <th>fruits-vegetables-nuts-estimate_100g</th>\n",
              "      <th>collagen-meat-protein-ratio_100g</th>\n",
              "      <th>cocoa_100g</th>\n",
              "      <th>chlorophyl_100g</th>\n",
              "      <th>carbon-footprint_100g</th>\n",
              "      <th>nutrition-score-fr_100g</th>\n",
              "      <th>nutrition-score-uk_100g</th>\n",
              "      <th>glycemic-index_100g</th>\n",
              "      <th>water-hardness_100g</th>\n",
              "    </tr>\n",
              "  </thead>\n",
              "  <tbody>\n",
              "    <tr>\n",
              "      <th>0</th>\n",
              "      <td>0000000003087</td>\n",
              "      <td>http://world-fr.openfoodfacts.org/produit/0000...</td>\n",
              "      <td>openfoodfacts-contributors</td>\n",
              "      <td>1474103866</td>\n",
              "      <td>2016-09-17T09:17:46Z</td>\n",
              "      <td>1474103893</td>\n",
              "      <td>2016-09-17T09:18:13Z</td>\n",
              "      <td>Farine de bl\u00e9 noir</td>\n",
              "      <td>NaN</td>\n",
              "      <td>1kg</td>\n",
              "      <td>...</td>\n",
              "      <td>NaN</td>\n",
              "      <td>NaN</td>\n",
              "      <td>NaN</td>\n",
              "      <td>NaN</td>\n",
              "      <td>NaN</td>\n",
              "      <td>NaN</td>\n",
              "      <td>NaN</td>\n",
              "      <td>NaN</td>\n",
              "      <td>NaN</td>\n",
              "      <td>NaN</td>\n",
              "    </tr>\n",
              "    <tr>\n",
              "      <th>1</th>\n",
              "      <td>0000000004530</td>\n",
              "      <td>http://world-fr.openfoodfacts.org/produit/0000...</td>\n",
              "      <td>usda-ndb-import</td>\n",
              "      <td>1489069957</td>\n",
              "      <td>2017-03-09T14:32:37Z</td>\n",
              "      <td>1489069957</td>\n",
              "      <td>2017-03-09T14:32:37Z</td>\n",
              "      <td>Banana Chips Sweetened (Whole)</td>\n",
              "      <td>NaN</td>\n",
              "      <td>NaN</td>\n",
              "      <td>...</td>\n",
              "      <td>NaN</td>\n",
              "      <td>NaN</td>\n",
              "      <td>NaN</td>\n",
              "      <td>NaN</td>\n",
              "      <td>NaN</td>\n",
              "      <td>NaN</td>\n",
              "      <td>14.0</td>\n",
              "      <td>14.0</td>\n",
              "      <td>NaN</td>\n",
              "      <td>NaN</td>\n",
              "    </tr>\n",
              "    <tr>\n",
              "      <th>2</th>\n",
              "      <td>0000000004559</td>\n",
              "      <td>http://world-fr.openfoodfacts.org/produit/0000...</td>\n",
              "      <td>usda-ndb-import</td>\n",
              "      <td>1489069957</td>\n",
              "      <td>2017-03-09T14:32:37Z</td>\n",
              "      <td>1489069957</td>\n",
              "      <td>2017-03-09T14:32:37Z</td>\n",
              "      <td>Peanuts</td>\n",
              "      <td>NaN</td>\n",
              "      <td>NaN</td>\n",
              "      <td>...</td>\n",
              "      <td>NaN</td>\n",
              "      <td>NaN</td>\n",
              "      <td>NaN</td>\n",
              "      <td>NaN</td>\n",
              "      <td>NaN</td>\n",
              "      <td>NaN</td>\n",
              "      <td>0.0</td>\n",
              "      <td>0.0</td>\n",
              "      <td>NaN</td>\n",
              "      <td>NaN</td>\n",
              "    </tr>\n",
              "    <tr>\n",
              "      <th>3</th>\n",
              "      <td>0000000016087</td>\n",
              "      <td>http://world-fr.openfoodfacts.org/produit/0000...</td>\n",
              "      <td>usda-ndb-import</td>\n",
              "      <td>1489055731</td>\n",
              "      <td>2017-03-09T10:35:31Z</td>\n",
              "      <td>1489055731</td>\n",
              "      <td>2017-03-09T10:35:31Z</td>\n",
              "      <td>Organic Salted Nut Mix</td>\n",
              "      <td>NaN</td>\n",
              "      <td>NaN</td>\n",
              "      <td>...</td>\n",
              "      <td>NaN</td>\n",
              "      <td>NaN</td>\n",
              "      <td>NaN</td>\n",
              "      <td>NaN</td>\n",
              "      <td>NaN</td>\n",
              "      <td>NaN</td>\n",
              "      <td>12.0</td>\n",
              "      <td>12.0</td>\n",
              "      <td>NaN</td>\n",
              "      <td>NaN</td>\n",
              "    </tr>\n",
              "    <tr>\n",
              "      <th>4</th>\n",
              "      <td>0000000016094</td>\n",
              "      <td>http://world-fr.openfoodfacts.org/produit/0000...</td>\n",
              "      <td>usda-ndb-import</td>\n",
              "      <td>1489055653</td>\n",
              "      <td>2017-03-09T10:34:13Z</td>\n",
              "      <td>1489055653</td>\n",
              "      <td>2017-03-09T10:34:13Z</td>\n",
              "      <td>Organic Polenta</td>\n",
              "      <td>NaN</td>\n",
              "      <td>NaN</td>\n",
              "      <td>...</td>\n",
              "      <td>NaN</td>\n",
              "      <td>NaN</td>\n",
              "      <td>NaN</td>\n",
              "      <td>NaN</td>\n",
              "      <td>NaN</td>\n",
              "      <td>NaN</td>\n",
              "      <td>NaN</td>\n",
              "      <td>NaN</td>\n",
              "      <td>NaN</td>\n",
              "      <td>NaN</td>\n",
              "    </tr>\n",
              "  </tbody>\n",
              "</table>\n",
              "<p>5 rows \u00d7 163 columns</p>\n",
              "</div>"
            ],
            "text/plain": [
              "            code                                                url  \\\n",
              "0  0000000003087  http://world-fr.openfoodfacts.org/produit/0000...   \n",
              "1  0000000004530  http://world-fr.openfoodfacts.org/produit/0000...   \n",
              "2  0000000004559  http://world-fr.openfoodfacts.org/produit/0000...   \n",
              "3  0000000016087  http://world-fr.openfoodfacts.org/produit/0000...   \n",
              "4  0000000016094  http://world-fr.openfoodfacts.org/produit/0000...   \n",
              "\n",
              "                      creator   created_t      created_datetime  \\\n",
              "0  openfoodfacts-contributors  1474103866  2016-09-17T09:17:46Z   \n",
              "1             usda-ndb-import  1489069957  2017-03-09T14:32:37Z   \n",
              "2             usda-ndb-import  1489069957  2017-03-09T14:32:37Z   \n",
              "3             usda-ndb-import  1489055731  2017-03-09T10:35:31Z   \n",
              "4             usda-ndb-import  1489055653  2017-03-09T10:34:13Z   \n",
              "\n",
              "  last_modified_t last_modified_datetime                    product_name  \\\n",
              "0      1474103893   2016-09-17T09:18:13Z              Farine de bl\u00e9 noir   \n",
              "1      1489069957   2017-03-09T14:32:37Z  Banana Chips Sweetened (Whole)   \n",
              "2      1489069957   2017-03-09T14:32:37Z                         Peanuts   \n",
              "3      1489055731   2017-03-09T10:35:31Z          Organic Salted Nut Mix   \n",
              "4      1489055653   2017-03-09T10:34:13Z                 Organic Polenta   \n",
              "\n",
              "  generic_name quantity         ...         fruits-vegetables-nuts_100g  \\\n",
              "0          NaN      1kg         ...                                 NaN   \n",
              "1          NaN      NaN         ...                                 NaN   \n",
              "2          NaN      NaN         ...                                 NaN   \n",
              "3          NaN      NaN         ...                                 NaN   \n",
              "4          NaN      NaN         ...                                 NaN   \n",
              "\n",
              "  fruits-vegetables-nuts-estimate_100g collagen-meat-protein-ratio_100g  \\\n",
              "0                                  NaN                              NaN   \n",
              "1                                  NaN                              NaN   \n",
              "2                                  NaN                              NaN   \n",
              "3                                  NaN                              NaN   \n",
              "4                                  NaN                              NaN   \n",
              "\n",
              "  cocoa_100g chlorophyl_100g carbon-footprint_100g nutrition-score-fr_100g  \\\n",
              "0        NaN             NaN                   NaN                     NaN   \n",
              "1        NaN             NaN                   NaN                    14.0   \n",
              "2        NaN             NaN                   NaN                     0.0   \n",
              "3        NaN             NaN                   NaN                    12.0   \n",
              "4        NaN             NaN                   NaN                     NaN   \n",
              "\n",
              "  nutrition-score-uk_100g glycemic-index_100g water-hardness_100g  \n",
              "0                     NaN                 NaN                 NaN  \n",
              "1                    14.0                 NaN                 NaN  \n",
              "2                     0.0                 NaN                 NaN  \n",
              "3                    12.0                 NaN                 NaN  \n",
              "4                     NaN                 NaN                 NaN  \n",
              "\n",
              "[5 rows x 163 columns]"
            ]
          },
          "execution_count": 12,
          "metadata": {},
          "output_type": "execute_result"
        }
      ],
      "source": [
        "ddf = dd.read_csv(\"c:/temp/fr.openfoodfacts.org.products.csv\", sep=\"\\t\", encoding=\"utf-8\", low_memory=False,\n",
        "                 dtype={'allergens': 'object',\n",
        "       'cities_tags': 'object',\n",
        "       'emb_codes': 'object',\n",
        "       'emb_codes_tags': 'object',\n",
        "       'first_packaging_code_geo': 'object',\n",
        "       'generic_name': 'object',\n",
        "       'ingredients_from_palm_oil_tags': 'object',\n",
        "       'labels': 'object',\n",
        "       'labels_fr': 'object',\n",
        "       'labels_tags': 'object',\n",
        "       'manufacturing_places': 'object',\n",
        "       'manufacturing_places_tags': 'object',\n",
        "       'origins': 'object',\n",
        "       'origins_tags': 'object',\n",
        "       'stores': 'object',\n",
        "       'code': 'object','allergens_fr': 'object',\n",
        "       'cities': 'object',\n",
        "       'created_t': 'object',\n",
        "       'last_modified_t': 'object'})\n",
        "ddf.head()"
      ]
    },
    {
      "cell_type": "code",
      "execution_count": 12,
      "metadata": {},
      "outputs": [
        {
          "name": "stdout",
          "output_type": "stream",
          "text": [
            "<class 'dask.dataframe.core.DataFrame'>\n"
          ]
        }
      ],
      "source": [
        "print(type(ddf))"
      ]
    },
    {
      "cell_type": "markdown",
      "metadata": {},
      "source": [
        "On ajoute la colonne \u00e0 pr\u00e9dire, boole\u00e9nne, qui indique la pr\u00e9sence d'additif commen\u00e7ant par ``'e:'`` comme [E440](http://www.les-additifs-alimentaires.com/E440-pectines.phphttp://www.les-additifs-alimentaires.com/E440-pectines.php)."
      ]
    },
    {
      "cell_type": "code",
      "execution_count": 13,
      "metadata": {
        "scrolled": false
      },
      "outputs": [
        {
          "data": {
            "text/html": [
              "<div>\n",
              "<style>\n",
              "    .dataframe thead tr:only-child th {\n",
              "        text-align: right;\n",
              "    }\n",
              "\n",
              "    .dataframe thead th {\n",
              "        text-align: left;\n",
              "    }\n",
              "\n",
              "    .dataframe tbody tr th {\n",
              "        vertical-align: top;\n",
              "    }\n",
              "</style>\n",
              "<table border=\"1\" class=\"dataframe\">\n",
              "  <thead>\n",
              "    <tr style=\"text-align: right;\">\n",
              "      <th></th>\n",
              "      <th>code</th>\n",
              "      <th>url</th>\n",
              "      <th>creator</th>\n",
              "      <th>created_t</th>\n",
              "      <th>created_datetime</th>\n",
              "      <th>last_modified_t</th>\n",
              "      <th>last_modified_datetime</th>\n",
              "      <th>product_name</th>\n",
              "      <th>generic_name</th>\n",
              "      <th>quantity</th>\n",
              "      <th>...</th>\n",
              "      <th>fruits-vegetables-nuts-estimate_100g</th>\n",
              "      <th>collagen-meat-protein-ratio_100g</th>\n",
              "      <th>cocoa_100g</th>\n",
              "      <th>chlorophyl_100g</th>\n",
              "      <th>carbon-footprint_100g</th>\n",
              "      <th>nutrition-score-fr_100g</th>\n",
              "      <th>nutrition-score-uk_100g</th>\n",
              "      <th>glycemic-index_100g</th>\n",
              "      <th>water-hardness_100g</th>\n",
              "      <th>hasE</th>\n",
              "    </tr>\n",
              "  </thead>\n",
              "  <tbody>\n",
              "    <tr>\n",
              "      <th>0</th>\n",
              "      <td>0000000003087</td>\n",
              "      <td>http://world-fr.openfoodfacts.org/produit/0000...</td>\n",
              "      <td>openfoodfacts-contributors</td>\n",
              "      <td>1474103866</td>\n",
              "      <td>2016-09-17T09:17:46Z</td>\n",
              "      <td>1474103893</td>\n",
              "      <td>2016-09-17T09:18:13Z</td>\n",
              "      <td>Farine de bl\u00e9 noir</td>\n",
              "      <td>NaN</td>\n",
              "      <td>1kg</td>\n",
              "      <td>...</td>\n",
              "      <td>NaN</td>\n",
              "      <td>NaN</td>\n",
              "      <td>NaN</td>\n",
              "      <td>NaN</td>\n",
              "      <td>NaN</td>\n",
              "      <td>NaN</td>\n",
              "      <td>NaN</td>\n",
              "      <td>NaN</td>\n",
              "      <td>NaN</td>\n",
              "      <td>False</td>\n",
              "    </tr>\n",
              "    <tr>\n",
              "      <th>1</th>\n",
              "      <td>0000000004530</td>\n",
              "      <td>http://world-fr.openfoodfacts.org/produit/0000...</td>\n",
              "      <td>usda-ndb-import</td>\n",
              "      <td>1489069957</td>\n",
              "      <td>2017-03-09T14:32:37Z</td>\n",
              "      <td>1489069957</td>\n",
              "      <td>2017-03-09T14:32:37Z</td>\n",
              "      <td>Banana Chips Sweetened (Whole)</td>\n",
              "      <td>NaN</td>\n",
              "      <td>NaN</td>\n",
              "      <td>...</td>\n",
              "      <td>NaN</td>\n",
              "      <td>NaN</td>\n",
              "      <td>NaN</td>\n",
              "      <td>NaN</td>\n",
              "      <td>NaN</td>\n",
              "      <td>14.0</td>\n",
              "      <td>14.0</td>\n",
              "      <td>NaN</td>\n",
              "      <td>NaN</td>\n",
              "      <td>False</td>\n",
              "    </tr>\n",
              "    <tr>\n",
              "      <th>2</th>\n",
              "      <td>0000000004559</td>\n",
              "      <td>http://world-fr.openfoodfacts.org/produit/0000...</td>\n",
              "      <td>usda-ndb-import</td>\n",
              "      <td>1489069957</td>\n",
              "      <td>2017-03-09T14:32:37Z</td>\n",
              "      <td>1489069957</td>\n",
              "      <td>2017-03-09T14:32:37Z</td>\n",
              "      <td>Peanuts</td>\n",
              "      <td>NaN</td>\n",
              "      <td>NaN</td>\n",
              "      <td>...</td>\n",
              "      <td>NaN</td>\n",
              "      <td>NaN</td>\n",
              "      <td>NaN</td>\n",
              "      <td>NaN</td>\n",
              "      <td>NaN</td>\n",
              "      <td>0.0</td>\n",
              "      <td>0.0</td>\n",
              "      <td>NaN</td>\n",
              "      <td>NaN</td>\n",
              "      <td>False</td>\n",
              "    </tr>\n",
              "    <tr>\n",
              "      <th>3</th>\n",
              "      <td>0000000016087</td>\n",
              "      <td>http://world-fr.openfoodfacts.org/produit/0000...</td>\n",
              "      <td>usda-ndb-import</td>\n",
              "      <td>1489055731</td>\n",
              "      <td>2017-03-09T10:35:31Z</td>\n",
              "      <td>1489055731</td>\n",
              "      <td>2017-03-09T10:35:31Z</td>\n",
              "      <td>Organic Salted Nut Mix</td>\n",
              "      <td>NaN</td>\n",
              "      <td>NaN</td>\n",
              "      <td>...</td>\n",
              "      <td>NaN</td>\n",
              "      <td>NaN</td>\n",
              "      <td>NaN</td>\n",
              "      <td>NaN</td>\n",
              "      <td>NaN</td>\n",
              "      <td>12.0</td>\n",
              "      <td>12.0</td>\n",
              "      <td>NaN</td>\n",
              "      <td>NaN</td>\n",
              "      <td>False</td>\n",
              "    </tr>\n",
              "    <tr>\n",
              "      <th>4</th>\n",
              "      <td>0000000016094</td>\n",
              "      <td>http://world-fr.openfoodfacts.org/produit/0000...</td>\n",
              "      <td>usda-ndb-import</td>\n",
              "      <td>1489055653</td>\n",
              "      <td>2017-03-09T10:34:13Z</td>\n",
              "      <td>1489055653</td>\n",
              "      <td>2017-03-09T10:34:13Z</td>\n",
              "      <td>Organic Polenta</td>\n",
              "      <td>NaN</td>\n",
              "      <td>NaN</td>\n",
              "      <td>...</td>\n",
              "      <td>NaN</td>\n",
              "      <td>NaN</td>\n",
              "      <td>NaN</td>\n",
              "      <td>NaN</td>\n",
              "      <td>NaN</td>\n",
              "      <td>NaN</td>\n",
              "      <td>NaN</td>\n",
              "      <td>NaN</td>\n",
              "      <td>NaN</td>\n",
              "      <td>False</td>\n",
              "    </tr>\n",
              "  </tbody>\n",
              "</table>\n",
              "<p>5 rows \u00d7 164 columns</p>\n",
              "</div>"
            ],
            "text/plain": [
              "            code                                                url  \\\n",
              "0  0000000003087  http://world-fr.openfoodfacts.org/produit/0000...   \n",
              "1  0000000004530  http://world-fr.openfoodfacts.org/produit/0000...   \n",
              "2  0000000004559  http://world-fr.openfoodfacts.org/produit/0000...   \n",
              "3  0000000016087  http://world-fr.openfoodfacts.org/produit/0000...   \n",
              "4  0000000016094  http://world-fr.openfoodfacts.org/produit/0000...   \n",
              "\n",
              "                      creator   created_t      created_datetime  \\\n",
              "0  openfoodfacts-contributors  1474103866  2016-09-17T09:17:46Z   \n",
              "1             usda-ndb-import  1489069957  2017-03-09T14:32:37Z   \n",
              "2             usda-ndb-import  1489069957  2017-03-09T14:32:37Z   \n",
              "3             usda-ndb-import  1489055731  2017-03-09T10:35:31Z   \n",
              "4             usda-ndb-import  1489055653  2017-03-09T10:34:13Z   \n",
              "\n",
              "  last_modified_t last_modified_datetime                    product_name  \\\n",
              "0      1474103893   2016-09-17T09:18:13Z              Farine de bl\u00e9 noir   \n",
              "1      1489069957   2017-03-09T14:32:37Z  Banana Chips Sweetened (Whole)   \n",
              "2      1489069957   2017-03-09T14:32:37Z                         Peanuts   \n",
              "3      1489055731   2017-03-09T10:35:31Z          Organic Salted Nut Mix   \n",
              "4      1489055653   2017-03-09T10:34:13Z                 Organic Polenta   \n",
              "\n",
              "  generic_name quantity  ...   fruits-vegetables-nuts-estimate_100g  \\\n",
              "0          NaN      1kg  ...                                    NaN   \n",
              "1          NaN      NaN  ...                                    NaN   \n",
              "2          NaN      NaN  ...                                    NaN   \n",
              "3          NaN      NaN  ...                                    NaN   \n",
              "4          NaN      NaN  ...                                    NaN   \n",
              "\n",
              "  collagen-meat-protein-ratio_100g cocoa_100g chlorophyl_100g  \\\n",
              "0                              NaN        NaN             NaN   \n",
              "1                              NaN        NaN             NaN   \n",
              "2                              NaN        NaN             NaN   \n",
              "3                              NaN        NaN             NaN   \n",
              "4                              NaN        NaN             NaN   \n",
              "\n",
              "  carbon-footprint_100g nutrition-score-fr_100g nutrition-score-uk_100g  \\\n",
              "0                   NaN                     NaN                     NaN   \n",
              "1                   NaN                    14.0                    14.0   \n",
              "2                   NaN                     0.0                     0.0   \n",
              "3                   NaN                    12.0                    12.0   \n",
              "4                   NaN                     NaN                     NaN   \n",
              "\n",
              "  glycemic-index_100g water-hardness_100g   hasE  \n",
              "0                 NaN                 NaN  False  \n",
              "1                 NaN                 NaN  False  \n",
              "2                 NaN                 NaN  False  \n",
              "3                 NaN                 NaN  False  \n",
              "4                 NaN                 NaN  False  \n",
              "\n",
              "[5 rows x 164 columns]"
            ]
          },
          "execution_count": 14,
          "metadata": {},
          "output_type": "execute_result"
        }
      ],
      "source": [
        "ddfe = ddf.assign(hasE=ddf.apply(lambda row: isinstance(row.additives, str) and \"en:e\" in row.additives, \n",
        "                                 axis=1, meta=bool))\n",
        "ddfe.head()"
      ]
    },
    {
      "cell_type": "markdown",
      "metadata": {},
      "source": [
        "On se limite au produit pour lesquels on a quelques informations sur le contenu."
      ]
    },
    {
      "cell_type": "code",
      "execution_count": 14,
      "metadata": {},
      "outputs": [
        {
          "data": {
            "text/plain": [
              "['energy_100g',\n",
              " 'energy-from-fat_100g',\n",
              " 'fat_100g',\n",
              " 'saturated-fat_100g',\n",
              " 'butyric-acid_100g',\n",
              " 'caproic-acid_100g',\n",
              " 'caprylic-acid_100g',\n",
              " 'capric-acid_100g',\n",
              " 'lauric-acid_100g',\n",
              " 'myristic-acid_100g',\n",
              " 'palmitic-acid_100g',\n",
              " 'stearic-acid_100g',\n",
              " 'arachidic-acid_100g',\n",
              " 'behenic-acid_100g',\n",
              " 'lignoceric-acid_100g',\n",
              " 'cerotic-acid_100g',\n",
              " 'montanic-acid_100g',\n",
              " 'melissic-acid_100g',\n",
              " 'monounsaturated-fat_100g',\n",
              " 'polyunsaturated-fat_100g',\n",
              " 'omega-3-fat_100g',\n",
              " 'alpha-linolenic-acid_100g',\n",
              " 'eicosapentaenoic-acid_100g',\n",
              " 'docosahexaenoic-acid_100g',\n",
              " 'omega-6-fat_100g',\n",
              " 'linoleic-acid_100g',\n",
              " 'arachidonic-acid_100g',\n",
              " 'gamma-linolenic-acid_100g',\n",
              " 'dihomo-gamma-linolenic-acid_100g',\n",
              " 'omega-9-fat_100g',\n",
              " 'oleic-acid_100g',\n",
              " 'elaidic-acid_100g',\n",
              " 'gondoic-acid_100g',\n",
              " 'mead-acid_100g',\n",
              " 'erucic-acid_100g',\n",
              " 'nervonic-acid_100g',\n",
              " 'trans-fat_100g',\n",
              " 'cholesterol_100g',\n",
              " 'carbohydrates_100g',\n",
              " 'sugars_100g',\n",
              " 'sucrose_100g',\n",
              " 'glucose_100g',\n",
              " 'fructose_100g',\n",
              " 'lactose_100g',\n",
              " 'maltose_100g',\n",
              " 'maltodextrins_100g',\n",
              " 'starch_100g',\n",
              " 'polyols_100g',\n",
              " 'fiber_100g',\n",
              " 'proteins_100g',\n",
              " 'casein_100g',\n",
              " 'serum-proteins_100g',\n",
              " 'nucleotides_100g',\n",
              " 'salt_100g',\n",
              " 'sodium_100g',\n",
              " 'alcohol_100g',\n",
              " 'vitamin-a_100g',\n",
              " 'beta-carotene_100g',\n",
              " 'vitamin-d_100g',\n",
              " 'vitamin-e_100g',\n",
              " 'vitamin-k_100g',\n",
              " 'vitamin-c_100g',\n",
              " 'vitamin-b1_100g',\n",
              " 'vitamin-b2_100g',\n",
              " 'vitamin-pp_100g',\n",
              " 'vitamin-b6_100g',\n",
              " 'vitamin-b9_100g',\n",
              " 'folates_100g',\n",
              " 'vitamin-b12_100g',\n",
              " 'biotin_100g',\n",
              " 'pantothenic-acid_100g',\n",
              " 'silica_100g',\n",
              " 'bicarbonate_100g',\n",
              " 'potassium_100g',\n",
              " 'chloride_100g',\n",
              " 'calcium_100g',\n",
              " 'phosphorus_100g',\n",
              " 'iron_100g',\n",
              " 'magnesium_100g',\n",
              " 'zinc_100g',\n",
              " 'copper_100g',\n",
              " 'manganese_100g',\n",
              " 'fluoride_100g',\n",
              " 'selenium_100g',\n",
              " 'chromium_100g',\n",
              " 'molybdenum_100g',\n",
              " 'iodine_100g',\n",
              " 'caffeine_100g',\n",
              " 'taurine_100g',\n",
              " 'ph_100g',\n",
              " 'fruits-vegetables-nuts_100g',\n",
              " 'fruits-vegetables-nuts-estimate_100g',\n",
              " 'collagen-meat-protein-ratio_100g',\n",
              " 'cocoa_100g',\n",
              " 'chlorophyl_100g',\n",
              " 'carbon-footprint_100g',\n",
              " 'nutrition-score-fr_100g',\n",
              " 'nutrition-score-uk_100g',\n",
              " 'glycemic-index_100g',\n",
              " 'water-hardness_100g']"
            ]
          },
          "execution_count": 15,
          "metadata": {},
          "output_type": "execute_result"
        }
      ],
      "source": [
        "g100 = [_ for _ in ddf.columns if '100g' in _]\n",
        "g100"
      ]
    },
    {
      "cell_type": "code",
      "execution_count": 15,
      "metadata": {},
      "outputs": [
        {
          "data": {
            "text/plain": [
              "(354144, 164)"
            ]
          },
          "execution_count": 16,
          "metadata": {},
          "output_type": "execute_result"
        }
      ],
      "source": [
        "ddfe.compute().shape"
      ]
    },
    {
      "cell_type": "code",
      "execution_count": 16,
      "metadata": {},
      "outputs": [
        {
          "data": {
            "text/html": [
              "<div>\n",
              "<style>\n",
              "    .dataframe thead tr:only-child th {\n",
              "        text-align: right;\n",
              "    }\n",
              "\n",
              "    .dataframe thead th {\n",
              "        text-align: left;\n",
              "    }\n",
              "\n",
              "    .dataframe tbody tr th {\n",
              "        vertical-align: top;\n",
              "    }\n",
              "</style>\n",
              "<table border=\"1\" class=\"dataframe\">\n",
              "  <thead>\n",
              "    <tr style=\"text-align: right;\">\n",
              "      <th></th>\n",
              "      <th>code</th>\n",
              "      <th>url</th>\n",
              "      <th>creator</th>\n",
              "      <th>created_t</th>\n",
              "      <th>created_datetime</th>\n",
              "      <th>last_modified_t</th>\n",
              "      <th>last_modified_datetime</th>\n",
              "      <th>product_name</th>\n",
              "      <th>generic_name</th>\n",
              "      <th>quantity</th>\n",
              "      <th>...</th>\n",
              "      <th>collagen-meat-protein-ratio_100g</th>\n",
              "      <th>cocoa_100g</th>\n",
              "      <th>chlorophyl_100g</th>\n",
              "      <th>carbon-footprint_100g</th>\n",
              "      <th>nutrition-score-fr_100g</th>\n",
              "      <th>nutrition-score-uk_100g</th>\n",
              "      <th>glycemic-index_100g</th>\n",
              "      <th>water-hardness_100g</th>\n",
              "      <th>hasE</th>\n",
              "      <th>s100</th>\n",
              "    </tr>\n",
              "  </thead>\n",
              "  <tbody>\n",
              "    <tr>\n",
              "      <th>1</th>\n",
              "      <td>0000000004530</td>\n",
              "      <td>http://world-fr.openfoodfacts.org/produit/0000...</td>\n",
              "      <td>usda-ndb-import</td>\n",
              "      <td>1489069957</td>\n",
              "      <td>2017-03-09T14:32:37Z</td>\n",
              "      <td>1489069957</td>\n",
              "      <td>2017-03-09T14:32:37Z</td>\n",
              "      <td>Banana Chips Sweetened (Whole)</td>\n",
              "      <td>NaN</td>\n",
              "      <td>NaN</td>\n",
              "      <td>...</td>\n",
              "      <td>NaN</td>\n",
              "      <td>NaN</td>\n",
              "      <td>NaN</td>\n",
              "      <td>NaN</td>\n",
              "      <td>14.0</td>\n",
              "      <td>14.0</td>\n",
              "      <td>NaN</td>\n",
              "      <td>NaN</td>\n",
              "      <td>False</td>\n",
              "      <td>17</td>\n",
              "    </tr>\n",
              "    <tr>\n",
              "      <th>2</th>\n",
              "      <td>0000000004559</td>\n",
              "      <td>http://world-fr.openfoodfacts.org/produit/0000...</td>\n",
              "      <td>usda-ndb-import</td>\n",
              "      <td>1489069957</td>\n",
              "      <td>2017-03-09T14:32:37Z</td>\n",
              "      <td>1489069957</td>\n",
              "      <td>2017-03-09T14:32:37Z</td>\n",
              "      <td>Peanuts</td>\n",
              "      <td>NaN</td>\n",
              "      <td>NaN</td>\n",
              "      <td>...</td>\n",
              "      <td>NaN</td>\n",
              "      <td>NaN</td>\n",
              "      <td>NaN</td>\n",
              "      <td>NaN</td>\n",
              "      <td>0.0</td>\n",
              "      <td>0.0</td>\n",
              "      <td>NaN</td>\n",
              "      <td>NaN</td>\n",
              "      <td>False</td>\n",
              "      <td>17</td>\n",
              "    </tr>\n",
              "    <tr>\n",
              "      <th>3</th>\n",
              "      <td>0000000016087</td>\n",
              "      <td>http://world-fr.openfoodfacts.org/produit/0000...</td>\n",
              "      <td>usda-ndb-import</td>\n",
              "      <td>1489055731</td>\n",
              "      <td>2017-03-09T10:35:31Z</td>\n",
              "      <td>1489055731</td>\n",
              "      <td>2017-03-09T10:35:31Z</td>\n",
              "      <td>Organic Salted Nut Mix</td>\n",
              "      <td>NaN</td>\n",
              "      <td>NaN</td>\n",
              "      <td>...</td>\n",
              "      <td>NaN</td>\n",
              "      <td>NaN</td>\n",
              "      <td>NaN</td>\n",
              "      <td>NaN</td>\n",
              "      <td>12.0</td>\n",
              "      <td>12.0</td>\n",
              "      <td>NaN</td>\n",
              "      <td>NaN</td>\n",
              "      <td>False</td>\n",
              "      <td>13</td>\n",
              "    </tr>\n",
              "    <tr>\n",
              "      <th>4</th>\n",
              "      <td>0000000016094</td>\n",
              "      <td>http://world-fr.openfoodfacts.org/produit/0000...</td>\n",
              "      <td>usda-ndb-import</td>\n",
              "      <td>1489055653</td>\n",
              "      <td>2017-03-09T10:34:13Z</td>\n",
              "      <td>1489055653</td>\n",
              "      <td>2017-03-09T10:34:13Z</td>\n",
              "      <td>Organic Polenta</td>\n",
              "      <td>NaN</td>\n",
              "      <td>NaN</td>\n",
              "      <td>...</td>\n",
              "      <td>NaN</td>\n",
              "      <td>NaN</td>\n",
              "      <td>NaN</td>\n",
              "      <td>NaN</td>\n",
              "      <td>NaN</td>\n",
              "      <td>NaN</td>\n",
              "      <td>NaN</td>\n",
              "      <td>NaN</td>\n",
              "      <td>False</td>\n",
              "      <td>5</td>\n",
              "    </tr>\n",
              "    <tr>\n",
              "      <th>5</th>\n",
              "      <td>0000000016100</td>\n",
              "      <td>http://world-fr.openfoodfacts.org/produit/0000...</td>\n",
              "      <td>usda-ndb-import</td>\n",
              "      <td>1489055651</td>\n",
              "      <td>2017-03-09T10:34:11Z</td>\n",
              "      <td>1489055651</td>\n",
              "      <td>2017-03-09T10:34:11Z</td>\n",
              "      <td>Breadshop Honey Gone Nuts Granola</td>\n",
              "      <td>NaN</td>\n",
              "      <td>NaN</td>\n",
              "      <td>...</td>\n",
              "      <td>NaN</td>\n",
              "      <td>NaN</td>\n",
              "      <td>NaN</td>\n",
              "      <td>NaN</td>\n",
              "      <td>NaN</td>\n",
              "      <td>NaN</td>\n",
              "      <td>NaN</td>\n",
              "      <td>NaN</td>\n",
              "      <td>True</td>\n",
              "      <td>9</td>\n",
              "    </tr>\n",
              "  </tbody>\n",
              "</table>\n",
              "<p>5 rows \u00d7 165 columns</p>\n",
              "</div>"
            ],
            "text/plain": [
              "            code                                                url  \\\n",
              "1  0000000004530  http://world-fr.openfoodfacts.org/produit/0000...   \n",
              "2  0000000004559  http://world-fr.openfoodfacts.org/produit/0000...   \n",
              "3  0000000016087  http://world-fr.openfoodfacts.org/produit/0000...   \n",
              "4  0000000016094  http://world-fr.openfoodfacts.org/produit/0000...   \n",
              "5  0000000016100  http://world-fr.openfoodfacts.org/produit/0000...   \n",
              "\n",
              "           creator   created_t      created_datetime last_modified_t  \\\n",
              "1  usda-ndb-import  1489069957  2017-03-09T14:32:37Z      1489069957   \n",
              "2  usda-ndb-import  1489069957  2017-03-09T14:32:37Z      1489069957   \n",
              "3  usda-ndb-import  1489055731  2017-03-09T10:35:31Z      1489055731   \n",
              "4  usda-ndb-import  1489055653  2017-03-09T10:34:13Z      1489055653   \n",
              "5  usda-ndb-import  1489055651  2017-03-09T10:34:11Z      1489055651   \n",
              "\n",
              "  last_modified_datetime                       product_name generic_name  \\\n",
              "1   2017-03-09T14:32:37Z     Banana Chips Sweetened (Whole)          NaN   \n",
              "2   2017-03-09T14:32:37Z                            Peanuts          NaN   \n",
              "3   2017-03-09T10:35:31Z             Organic Salted Nut Mix          NaN   \n",
              "4   2017-03-09T10:34:13Z                    Organic Polenta          NaN   \n",
              "5   2017-03-09T10:34:11Z  Breadshop Honey Gone Nuts Granola          NaN   \n",
              "\n",
              "  quantity ...  collagen-meat-protein-ratio_100g cocoa_100g chlorophyl_100g  \\\n",
              "1      NaN ...                               NaN        NaN             NaN   \n",
              "2      NaN ...                               NaN        NaN             NaN   \n",
              "3      NaN ...                               NaN        NaN             NaN   \n",
              "4      NaN ...                               NaN        NaN             NaN   \n",
              "5      NaN ...                               NaN        NaN             NaN   \n",
              "\n",
              "  carbon-footprint_100g nutrition-score-fr_100g nutrition-score-uk_100g  \\\n",
              "1                   NaN                    14.0                    14.0   \n",
              "2                   NaN                     0.0                     0.0   \n",
              "3                   NaN                    12.0                    12.0   \n",
              "4                   NaN                     NaN                     NaN   \n",
              "5                   NaN                     NaN                     NaN   \n",
              "\n",
              "  glycemic-index_100g water-hardness_100g   hasE s100  \n",
              "1                 NaN                 NaN  False   17  \n",
              "2                 NaN                 NaN  False   17  \n",
              "3                 NaN                 NaN  False   13  \n",
              "4                 NaN                 NaN  False    5  \n",
              "5                 NaN                 NaN   True    9  \n",
              "\n",
              "[5 rows x 165 columns]"
            ]
          },
          "execution_count": 17,
          "metadata": {},
          "output_type": "execute_result"
        }
      ],
      "source": [
        "import numpy\n",
        "\n",
        "ddfe100 = ddfe.assign(s100=ddf.apply(lambda row: sum(0 if numpy.isnan(row[g]) else 1 for g in g100), \n",
        "                                     axis=1, meta=float))\n",
        "ddfe100 = ddfe100[ddfe100.s100 > 0]\n",
        "ddfe100.head()"
      ]
    },
    {
      "cell_type": "markdown",
      "metadata": {},
      "source": [
        "Bon la suite prend un peu de temps et \u00e7a n'est pas hyper efficace. Il faudrait un dask qui n'utilise pas dask mais uniquement les dataframes pour que \u00e7a aille plus vite. Caf\u00e9."
      ]
    },
    {
      "cell_type": "code",
      "execution_count": 17,
      "metadata": {},
      "outputs": [],
      "source": [
        "ddfe100.to_csv(\"ddfe100*.csv\", sep=\"\\t\", encoding=\"utf-8\", index=False)"
      ]
    },
    {
      "cell_type": "markdown",
      "metadata": {},
      "source": [
        "Bon je crois que je vais vraiment d\u00e9velopper une truc comme dask juste avec pandas."
      ]
    },
    {
      "cell_type": "code",
      "execution_count": 18,
      "metadata": {},
      "outputs": [
        {
          "data": {
            "text/plain": [
              "['ddfe10000.csv',\n",
              " 'ddfe10001.csv',\n",
              " 'ddfe10002.csv',\n",
              " 'ddfe10003.csv',\n",
              " 'ddfe10004.csv',\n",
              " 'ddfe10005.csv',\n",
              " 'ddfe10006.csv',\n",
              " 'ddfe10007.csv',\n",
              " 'ddfe10008.csv',\n",
              " 'ddfe10009.csv',\n",
              " 'ddfe10010.csv',\n",
              " 'ddfe10011.csv',\n",
              " 'ddfe10012.csv',\n",
              " 'ddfe10013.csv',\n",
              " 'ddfe10014.csv',\n",
              " 'ddfe10015.csv']"
            ]
          },
          "execution_count": 19,
          "metadata": {},
          "output_type": "execute_result"
        }
      ],
      "source": [
        "dffefiles = [_ for _ in os.listdir(\".\") if \"ddfe\" in _]\n",
        "dffefiles"
      ]
    },
    {
      "cell_type": "markdown",
      "metadata": {},
      "source": [
        "## Split...\n",
        "\n",
        "On impose les m\u00eames types pour chaque data frame."
      ]
    },
    {
      "cell_type": "code",
      "execution_count": 19,
      "metadata": {},
      "outputs": [],
      "source": [
        "types = {k:v for k, v in zip(ddfe100.columns, ddfe100.dtypes)}"
      ]
    },
    {
      "cell_type": "code",
      "execution_count": 20,
      "metadata": {},
      "outputs": [
        {
          "name": "stdout",
          "output_type": "stream",
          "text": [
            "name ddfe10000.csv\n",
            "name ddfe10001.csv\n",
            "name ddfe10002.csv\n",
            "name ddfe10003.csv\n",
            "name ddfe10004.csv\n",
            "name ddfe10005.csv\n",
            "name ddfe10006.csv\n",
            "name ddfe10007.csv\n",
            "name ddfe10008.csv\n",
            "name ddfe10009.csv\n",
            "name ddfe10010.csv\n",
            "name ddfe10011.csv\n",
            "name ddfe10012.csv\n",
            "name ddfe10013.csv\n",
            "name ddfe10014.csv\n",
            "name ddfe10015.csv\n"
          ]
        }
      ],
      "source": [
        "from sklearn.model_selection import train_test_split\n",
        "\n",
        "for i, name in enumerate(dffefiles):\n",
        "    print(\"name\", name)\n",
        "    df = pandas.read_csv(name, sep=\"\\t\", encoding=\"utf-8\", dtype=types)\n",
        "    df_train, df_test = train_test_split(df, test_size =0.5)\n",
        "    df_test, df_eval = train_test_split(df_test, test_size =0.5)\n",
        "    df_train.to_csv(\"off_train{0}.txt\".format(i), sep=\"\\t\", index=False, encoding=\"utf-8\")\n",
        "    df_test.to_csv(\"off_test{0}.txt\".format(i), sep=\"\\t\", index=False, encoding=\"utf-8\")\n",
        "    df_eval.to_csv(\"off_eval{0}.txt\".format(i), sep=\"\\t\", index=False, encoding=\"utf-8\")"
      ]
    },
    {
      "cell_type": "markdown",
      "metadata": {},
      "source": [
        "Ah j'allais oubli\u00e9, il faut bidouiller la colonne *additives* pour retirer \u00e9viter un memory leak et on recalcule la colonne hasE pour \u00eatre s\u00fbr."
      ]
    },
    {
      "cell_type": "code",
      "execution_count": 21,
      "metadata": {},
      "outputs": [
        {
          "data": {
            "text/html": [
              "<div>\n",
              "<style>\n",
              "    .dataframe thead tr:only-child th {\n",
              "        text-align: right;\n",
              "    }\n",
              "\n",
              "    .dataframe thead th {\n",
              "        text-align: left;\n",
              "    }\n",
              "\n",
              "    .dataframe tbody tr th {\n",
              "        vertical-align: top;\n",
              "    }\n",
              "</style>\n",
              "<table border=\"1\" class=\"dataframe\">\n",
              "  <thead>\n",
              "    <tr style=\"text-align: right;\">\n",
              "      <th></th>\n",
              "      <th>additives</th>\n",
              "      <th>hasE</th>\n",
              "    </tr>\n",
              "  </thead>\n",
              "  <tbody>\n",
              "    <tr>\n",
              "      <th>0</th>\n",
              "      <td>[ russet-potatoes -&gt; en:russet-potatoes  ]  [...</td>\n",
              "      <td>False</td>\n",
              "    </tr>\n",
              "    <tr>\n",
              "      <th>1</th>\n",
              "      <td>[ grade-a-reduced-fat-milk -&gt; en:grade-a-redu...</td>\n",
              "      <td>True</td>\n",
              "    </tr>\n",
              "    <tr>\n",
              "      <th>2</th>\n",
              "      <td>[ cake -&gt; en:cake  ]  [ sugar -&gt; en:sugar  ] ...</td>\n",
              "      <td>True</td>\n",
              "    </tr>\n",
              "    <tr>\n",
              "      <th>3</th>\n",
              "      <td>[ whole-grain-yellow-corn -&gt; en:whole-grain-y...</td>\n",
              "      <td>True</td>\n",
              "    </tr>\n",
              "    <tr>\n",
              "      <th>4</th>\n",
              "      <td>[ fresh-cucumbers -&gt; en:fresh-cucumbers  ]  [...</td>\n",
              "      <td>True</td>\n",
              "    </tr>\n",
              "  </tbody>\n",
              "</table>\n",
              "</div>"
            ],
            "text/plain": [
              "                                           additives   hasE\n",
              "0   [ russet-potatoes -> en:russet-potatoes  ]  [...  False\n",
              "1   [ grade-a-reduced-fat-milk -> en:grade-a-redu...   True\n",
              "2   [ cake -> en:cake  ]  [ sugar -> en:sugar  ] ...   True\n",
              "3   [ whole-grain-yellow-corn -> en:whole-grain-y...   True\n",
              "4   [ fresh-cucumbers -> en:fresh-cucumbers  ]  [...   True"
            ]
          },
          "execution_count": 22,
          "metadata": {},
          "output_type": "execute_result"
        }
      ],
      "source": [
        "df[[\"additives\", \"hasE\"]].head()"
      ]
    },
    {
      "cell_type": "code",
      "execution_count": 22,
      "metadata": {
        "collapsed": true
      },
      "outputs": [],
      "source": [
        "import re\n",
        "reg = re.compile(\"[[](.*?)[]]\")\n",
        "addi = re.compile(\"(en[:]e[0-9])\")"
      ]
    },
    {
      "cell_type": "code",
      "execution_count": 23,
      "metadata": {
        "scrolled": false
      },
      "outputs": [
        {
          "data": {
            "text/plain": [
              "([],\n",
              " ['en:basmati-rice',\n",
              "  'en:organic-white-basmati-rice',\n",
              "  'en:rice',\n",
              "  'en:white-basmati-rice'])"
            ]
          },
          "execution_count": 24,
          "metadata": {},
          "output_type": "execute_result"
        }
      ],
      "source": [
        "def has_emachine(v):\n",
        "    if isinstance(v, (list, pandas.core.series.Series)):\n",
        "        rem = []\n",
        "        add = []\n",
        "        for _ in v:\n",
        "            if isinstance(_, str):\n",
        "                fd = reg.findall(_)\n",
        "                for __ in fd:\n",
        "                    if \" en:e\" in __ and addi.search(__):                      \n",
        "                        add.append(__)#.split(\"->\")[-1].strip())\n",
        "                    elif \" en:\" not in __:\n",
        "                        continue\n",
        "                    else:\n",
        "                        rem.append(__.split(\"->\")[-1].strip())\n",
        "            else:\n",
        "                continue\n",
        "        return add, list(sorted(set(rem)))\n",
        "    elif isinstance(v, float) and numpy.isnan(v):\n",
        "        return [], []\n",
        "    elif isinstance(v, str):\n",
        "        if \",\" in v:\n",
        "            raise Exception('{0}\\n{1}'.format(type(v), v))\n",
        "        return has_emachine([v])\n",
        "    else:\n",
        "        # ???\n",
        "        raise Exception('{0}\\n{1}'.format(type(v), v))\n",
        "                    \n",
        "hasE, clean = has_emachine(df.loc[1,\"additives\"])\n",
        "hasE, clean"
      ]
    },
    {
      "cell_type": "markdown",
      "metadata": {},
      "source": [
        "On recompose le tout."
      ]
    },
    {
      "cell_type": "code",
      "execution_count": 24,
      "metadata": {},
      "outputs": [
        {
          "name": "stdout",
          "output_type": "stream",
          "text": [
            "name off_train0.txt (11307, 165)\n",
            "name off_train1.txt (11484, 165)\n",
            "name off_train10.txt (7296, 165)\n",
            "name off_train11.txt (7609, 165)\n",
            "name off_train12.txt (7780, 165)\n",
            "name off_train13.txt (7908, 165)\n",
            "name off_train14.txt (8732, 165)\n",
            "name off_train15.txt (5315, 165)\n",
            "name off_train2.txt (10963, 165)\n",
            "name off_train3.txt (11166, 165)\n",
            "name off_train4.txt (11113, 165)\n",
            "name off_train5.txt (11534, 165)\n",
            "name off_train6.txt (11922, 165)\n",
            "name off_train7.txt (9489, 165)\n",
            "name off_train8.txt (7725, 165)\n",
            "name off_train9.txt (7746, 165)\n",
            "merged (149089, 165)\n",
            "name off_test0.txt (5654, 165)\n",
            "name off_test1.txt (5742, 165)\n",
            "name off_test10.txt (3648, 165)\n",
            "name off_test11.txt (3805, 165)\n",
            "name off_test12.txt (3890, 165)\n",
            "name off_test13.txt (3954, 165)\n",
            "name off_test14.txt (4366, 165)\n",
            "name off_test15.txt (2657, 165)\n",
            "name off_test2.txt (5481, 165)\n",
            "name off_test3.txt (5583, 165)\n",
            "name off_test4.txt (5557, 165)\n",
            "name off_test5.txt (5767, 165)\n",
            "name off_test6.txt (5961, 165)\n",
            "name off_test7.txt (4745, 165)\n",
            "name off_test8.txt (3863, 165)\n",
            "name off_test9.txt (3873, 165)\n",
            "merged (74546, 165)\n",
            "name off_eval0.txt (5654, 165)\n",
            "name off_eval1.txt (5743, 165)\n",
            "name off_eval10.txt (3648, 165)\n",
            "name off_eval11.txt (3805, 165)\n",
            "name off_eval12.txt (3890, 165)\n",
            "name off_eval13.txt (3955, 165)\n",
            "name off_eval14.txt (4366, 165)\n",
            "name off_eval15.txt (2658, 165)\n",
            "name off_eval2.txt (5482, 165)\n",
            "name off_eval3.txt (5583, 165)\n",
            "name off_eval4.txt (5557, 165)\n",
            "name off_eval5.txt (5768, 165)\n",
            "name off_eval6.txt (5961, 165)\n",
            "name off_eval7.txt (4745, 165)\n",
            "name off_eval8.txt (3863, 165)\n",
            "name off_eval9.txt (3873, 165)\n",
            "merged (74551, 165)\n"
          ]
        }
      ],
      "source": [
        "off = [_ for _ in os.listdir(\".\") if \"off\" in _ and \"all\" not in _]\n",
        "\n",
        "for cont in ['train', 'test', 'eval']:\n",
        "    sub = [_ for _ in off if cont in _]\n",
        "    dfs = []\n",
        "    for name in sub:\n",
        "        df = pandas.read_csv(name, sep=\"\\t\", encoding=\"utf-8\", dtype=types)\n",
        "        print(\"name\", name, df.shape)\n",
        "        df[\"hasE\"] = df[\"additives\"].apply(lambda x: len(has_emachine(x)[0]) > 0)\n",
        "        df[\"additives\"] = df[\"additives\"].apply(lambda x: \";\".join(has_emachine(x)[1]))\n",
        "        dfs.append(df)\n",
        "    df = pandas.concat(dfs, axis=0)\n",
        "    print(\"merged\", df.shape)\n",
        "    df.to_csv(\"off_{0}_all.txt\".format(cont), sep=\"\\t\", index=False, encoding=\"utf-8\")"
      ]
    },
    {
      "cell_type": "markdown",
      "metadata": {},
      "source": [
        "Il y aura probablement un ou deux data leak dans les autres colonnes.."
      ]
    },
    {
      "cell_type": "markdown",
      "metadata": {},
      "source": [
        "On d\u00e9coupe le jeu d'\u00e9valuation."
      ]
    },
    {
      "cell_type": "code",
      "execution_count": 25,
      "metadata": {},
      "outputs": [
        {
          "data": {
            "text/plain": [
              "165"
            ]
          },
          "execution_count": 26,
          "metadata": {},
          "output_type": "execute_result"
        }
      ],
      "source": [
        "len(types)"
      ]
    },
    {
      "cell_type": "code",
      "execution_count": 26,
      "metadata": {},
      "outputs": [],
      "source": [
        "df_eval = pandas.read_csv(\"off_eval_all.txt\", sep=\"\\t\", dtype=types, encoding=\"utf-8\")"
      ]
    },
    {
      "cell_type": "code",
      "execution_count": 27,
      "metadata": {},
      "outputs": [],
      "source": [
        "df_eval_X = df_eval.drop(\"hasE\", axis=1)\n",
        "df_eval_X.to_csv(\"off_eval_all_X.txt\")\n",
        "df_eval[[\"hasE\"]].to_csv(\"off_eval_all_Y.txt\")"
      ]
    },
    {
      "cell_type": "markdown",
      "metadata": {},
      "source": [
        "## Premier mod\u00e8le"
      ]
    },
    {
      "cell_type": "code",
      "execution_count": 28,
      "metadata": {
        "collapsed": true
      },
      "outputs": [],
      "source": [
        "df_train = pandas.read_csv(\"off_train_all.txt\", sep=\"\\t\", dtype=types, encoding=\"utf-8\")"
      ]
    },
    {
      "cell_type": "code",
      "execution_count": 29,
      "metadata": {},
      "outputs": [
        {
          "data": {
            "text/plain": [
              "(149089, 165)"
            ]
          },
          "execution_count": 30,
          "metadata": {},
          "output_type": "execute_result"
        }
      ],
      "source": [
        "df_train.shape"
      ]
    },
    {
      "cell_type": "code",
      "execution_count": 30,
      "metadata": {},
      "outputs": [],
      "source": [
        "X = df_train[g100].fillna(0)\n",
        "Y = df_train['hasE']"
      ]
    },
    {
      "cell_type": "code",
      "execution_count": 31,
      "metadata": {
        "collapsed": true
      },
      "outputs": [],
      "source": [
        "from sklearn.linear_model import LogisticRegression\n",
        "clf = LogisticRegression()"
      ]
    },
    {
      "cell_type": "code",
      "execution_count": 32,
      "metadata": {},
      "outputs": [
        {
          "data": {
            "text/plain": [
              "LogisticRegression(C=1.0, class_weight=None, dual=False, fit_intercept=True,\n",
              "          intercept_scaling=1, max_iter=100, multi_class='ovr', n_jobs=1,\n",
              "          penalty='l2', random_state=None, solver='liblinear', tol=0.0001,\n",
              "          verbose=0, warm_start=False)"
            ]
          },
          "execution_count": 33,
          "metadata": {},
          "output_type": "execute_result"
        }
      ],
      "source": [
        "clf.fit(X, Y)"
      ]
    },
    {
      "cell_type": "code",
      "execution_count": 33,
      "metadata": {
        "collapsed": true
      },
      "outputs": [],
      "source": [
        "pred = clf.predict(X)"
      ]
    },
    {
      "cell_type": "code",
      "execution_count": 34,
      "metadata": {},
      "outputs": [
        {
          "data": {
            "text/plain": [
              "array([[32549, 33404],\n",
              "       [15803, 67333]], dtype=int64)"
            ]
          },
          "execution_count": 35,
          "metadata": {},
          "output_type": "execute_result"
        }
      ],
      "source": [
        "from sklearn.metrics import confusion_matrix\n",
        "confusion_matrix(Y, pred)"
      ]
    },
    {
      "cell_type": "code",
      "execution_count": 35,
      "metadata": {
        "collapsed": true
      },
      "outputs": [],
      "source": [
        "df_test = pandas.read_csv(\"off_test_all.txt\", sep=\"\\t\", dtype=types, encoding=\"utf-8\")"
      ]
    },
    {
      "cell_type": "code",
      "execution_count": 36,
      "metadata": {
        "collapsed": true
      },
      "outputs": [],
      "source": [
        "X_test = df_test[g100].fillna(0)\n",
        "Y_test = df_test['hasE']"
      ]
    },
    {
      "cell_type": "code",
      "execution_count": 37,
      "metadata": {},
      "outputs": [
        {
          "data": {
            "text/plain": [
              "array([[16309, 16849],\n",
              "       [ 7945, 33443]], dtype=int64)"
            ]
          },
          "execution_count": 38,
          "metadata": {},
          "output_type": "execute_result"
        }
      ],
      "source": [
        "pred = clf.predict(X_test)\n",
        "confusion_matrix(Y_test, pred)"
      ]
    },
    {
      "cell_type": "markdown",
      "metadata": {},
      "source": [
        "## ROC"
      ]
    },
    {
      "cell_type": "code",
      "execution_count": 38,
      "metadata": {},
      "outputs": [
        {
          "name": "stdout",
          "output_type": "stream",
          "text": [
            "[[ 0.23453245  0.76546755]\n",
            " [ 0.44914289  0.55085711]\n",
            " [ 0.67701244  0.32298756]]\n",
            "[ True  True False]\n"
          ]
        }
      ],
      "source": [
        "y_proba = clf.predict_proba(X_test)\n",
        "y_pred = clf.predict(X_test)\n",
        "print(y_proba[:3])\n",
        "print(y_pred[:3])"
      ]
    },
    {
      "cell_type": "code",
      "execution_count": 39,
      "metadata": {},
      "outputs": [
        {
          "data": {
            "text/plain": [
              "(numpy.ndarray, pandas.core.series.Series, numpy.ndarray)"
            ]
          },
          "execution_count": 40,
          "metadata": {},
          "output_type": "execute_result"
        }
      ],
      "source": [
        "y_test = Y_test.as_matrix()\n",
        "type(y_pred), type(Y_test), type(y_test)"
      ]
    },
    {
      "cell_type": "code",
      "execution_count": 40,
      "metadata": {},
      "outputs": [
        {
          "data": {
            "text/plain": [
              "array([ 0.76546755,  0.55085711,  0.67701244])"
            ]
          },
          "execution_count": 41,
          "metadata": {},
          "output_type": "execute_result"
        }
      ],
      "source": [
        "import numpy\n",
        "prob_pred = numpy.array([(y_proba[i, 1] if c else y_proba[i, 0]) for i, c in enumerate(y_pred)])\n",
        "prob_pred[:3]"
      ]
    },
    {
      "cell_type": "code",
      "execution_count": 41,
      "metadata": {},
      "outputs": [],
      "source": [
        "from sklearn.metrics import roc_curve\n",
        "fpr, tpr, th = roc_curve(y_pred == y_test, prob_pred)"
      ]
    },
    {
      "cell_type": "code",
      "execution_count": 42,
      "metadata": {},
      "outputs": [
        {
          "data": {
            "text/plain": [
              "<matplotlib.legend.Legend at 0x14a1642ed68>"
            ]
          },
          "execution_count": 43,
          "metadata": {},
          "output_type": "execute_result"
        },
        {
          "data": {
            "image/png": "[encoded data removed]",
            "text/plain": [
              "<matplotlib.figure.Figure at 0x14a0346f390>"
            ]
          },
          "metadata": {},
          "output_type": "display_data"
        }
      ],
      "source": [
        "%matplotlib inline\n",
        "import matplotlib.pyplot as plt\n",
        "plt.figure()\n",
        "lw = 2\n",
        "plt.plot(fpr, tpr, color='darkorange', lw=lw, label='Courbe ROC')\n",
        "plt.plot([0, 1], [0, 1], color='navy', lw=lw, linestyle='--')\n",
        "plt.xlim([0.0, 1.0])\n",
        "plt.ylim([0.0, 1.05])\n",
        "plt.xlabel(\"Proportion mal class\u00e9e\")\n",
        "plt.ylabel(\"Proportion bien class\u00e9e\")\n",
        "plt.title('ROC')\n",
        "plt.legend(loc=\"lower right\")"
      ]
    },
    {
      "cell_type": "markdown",
      "metadata": {},
      "source": [
        "Bon c'est un mod\u00e8le lin\u00e9aire donc je suis s\u00fbr que vous ferez mieux et puis il y a le pays, la date, les autres ingr\u00e9dients, bref pas mal de texte."
      ]
    },
    {
      "cell_type": "code",
      "execution_count": 43,
      "metadata": {
        "collapsed": true
      },
      "outputs": [],
      "source": []
    }
  ],
  "metadata": {
    "kernelspec": {
      "display_name": "Python 3",
      "language": "python",
      "name": "python3"
    },
    "language_info": {
      "codemirror_mode": {
        "name": "ipython",
        "version": 3
      },
      "file_extension": ".py",
      "mimetype": "text/x-python",
      "name": "python",
      "nbconvert_exporter": "python",
      "pygments_lexer": "ipython3",
      "version": "3.6.4"
    }
  },
  "nbformat": 4,
  "nbformat_minor": 2
}