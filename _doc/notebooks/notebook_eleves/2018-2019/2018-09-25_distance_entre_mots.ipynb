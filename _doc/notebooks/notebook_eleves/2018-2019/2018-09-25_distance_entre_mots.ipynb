{
  "cells": [
    {
      "cell_type": "markdown",
      "metadata": {},
      "source": [
        "# 2018-09-25 - Distance entre mots\n",
        "\n",
        "La distance propos\u00e9e est na\u00efve puisqu'elle consid\u00e8re uniquement les lettres communes entre deux mots.\n",
        "\n",
        "$m =\\{ c_1, ..., c_n\\}$\n",
        "\n",
        "$C = m_1 \\cap m_2$\n",
        "\n",
        "$d(m_1,m_2)=\\#\\{c \\in m_1 \\backslash C\\} + \\#\\{c \\in m_2 \\backslash C\\}$\n",
        "\n",
        "Un indice pour l'impl\u00e9menter : il peut \u00eatre utile de passer par les dictionnaires."
      ]
    },
    {
      "cell_type": "code",
      "execution_count": 1,
      "metadata": {},
      "outputs": [
        {
          "data": {
            "text/plain": [
              "{'a': 2, 'z': 1}"
            ]
          },
          "execution_count": 2,
          "metadata": {},
          "output_type": "execute_result"
        }
      ],
      "source": [
        "def compte(mot):\n",
        "    d = {}\n",
        "    for c in mot:\n",
        "        d[c] = d.get(c, 0) + 1\n",
        "    return d\n",
        "\n",
        "compte(\"aza\")"
      ]
    },
    {
      "cell_type": "code",
      "execution_count": 2,
      "metadata": {},
      "outputs": [
        {
          "data": {
            "text/plain": [
              "3"
            ]
          },
          "execution_count": 3,
          "metadata": {},
          "output_type": "execute_result"
        }
      ],
      "source": [
        "def distance_simple(h1, h2):\n",
        "    d = 0\n",
        "    tout = set(h1).union(set(h2))\n",
        "    for c in tout:\n",
        "        d += abs(h1.get(c, 0) - h2.get(c, 0))\n",
        "    return d\n",
        "\n",
        "distance_simple(compte(\"journal\"), compte(\"journaux\"))"
      ]
    },
    {
      "cell_type": "code",
      "execution_count": 3,
      "metadata": {},
      "outputs": [
        {
          "data": {
            "text/plain": [
              "0"
            ]
          },
          "execution_count": 4,
          "metadata": {},
          "output_type": "execute_result"
        }
      ],
      "source": [
        "distance_simple(compte(\"journal\"), compte(\"naljour\"))"
      ]
    },
    {
      "cell_type": "markdown",
      "metadata": {},
      "source": [
        "La distance ne tient pas compte de l'ordre des lettres, on en tient compte de fa\u00e7on locale en consid\u00e8rent les couples de lettres cons\u00e9cutives plut\u00f4t que les lettres."
      ]
    },
    {
      "cell_type": "code",
      "execution_count": 4,
      "metadata": {},
      "outputs": [
        {
          "data": {
            "text/plain": [
              "['j', 'jo', 'ou', 'ur', 'rn', 'na', 'al', 'l']"
            ]
          },
          "execution_count": 5,
          "metadata": {},
          "output_type": "execute_result"
        }
      ],
      "source": [
        "def decoupe(mot):\n",
        "    couples = []\n",
        "    for i in range(1, len(mot)):\n",
        "        couples.append(mot[i-1:i+1])\n",
        "    return [mot[:1]] + couples + [mot[-1:]]\n",
        "decoupe(\"journal\")"
      ]
    },
    {
      "cell_type": "markdown",
      "metadata": {},
      "source": [
        "Mais ce n'est pas une distance \u00e0 proprement parler comme en t\u00e9moigne le contre-exemple suivant :"
      ]
    },
    {
      "cell_type": "code",
      "execution_count": 5,
      "metadata": {},
      "outputs": [
        {
          "data": {
            "text/plain": [
              "0"
            ]
          },
          "execution_count": 6,
          "metadata": {},
          "output_type": "execute_result"
        }
      ],
      "source": [
        "distance_simple(compte(decoupe(\"ninon\")),\n",
        "                compte(decoupe(\"nonin\")))"
      ]
    },
    {
      "cell_type": "code",
      "execution_count": 6,
      "metadata": {},
      "outputs": [
        {
          "data": {
            "text/plain": [
              "3"
            ]
          },
          "execution_count": 7,
          "metadata": {},
          "output_type": "execute_result"
        }
      ],
      "source": [
        "distance_simple(compte(decoupe(\"journal\")),\n",
        "                compte(decoupe(\"jourinal\")))"
      ]
    },
    {
      "cell_type": "code",
      "execution_count": 7,
      "metadata": {},
      "outputs": [
        {
          "data": {
            "text/plain": [
              "6"
            ]
          },
          "execution_count": 8,
          "metadata": {},
          "output_type": "execute_result"
        }
      ],
      "source": [
        "distance_simple(compte(decoupe(\"journal\")),\n",
        "                compte(decoupe(\"naljour\")))"
      ]
    },
    {
      "cell_type": "markdown",
      "metadata": {},
      "source": [
        "On passe alors \u00e0 la distance d'\u00e9dition :"
      ]
    },
    {
      "cell_type": "code",
      "execution_count": 8,
      "metadata": {},
      "outputs": [
        {
          "data": {
            "text/plain": [
              "2"
            ]
          },
          "execution_count": 9,
          "metadata": {},
          "output_type": "execute_result"
        }
      ],
      "source": [
        "def distance_edition(m1, m2):\n",
        "    mat = [[len(m1) + len(m2) for j in range(len(m2))] for i in range(len(m1))]\n",
        "    drt = [[\"n\" for j in range(len(m2))] for i in range(len(m1))]\n",
        "    mat[0][0] = 0 if m1[0] == m2[0] else 1\n",
        "    for i in range(len(m1)):\n",
        "        for j in range(len(m2)):\n",
        "            if i > 0 and mat[i][j] > mat[i-1][j] + 1:\n",
        "                mat[i][j] = mat[i-1][j] + 1\n",
        "                drt[i][j] = \"^\"\n",
        "            if j > 0 and mat[i][j] > mat[i][j-1] + 1:\n",
        "                mat[i][j] = mat[i][j-1] + 1\n",
        "                drt[i][j] = \"<\"\n",
        "            if i > 0 and j > 0:\n",
        "                c = 0 if m1[i] == m2[j] else 1\n",
        "                if mat[i][j] > mat[i-1][j-1] + c:\n",
        "                    mat[i][j] = mat[i-1][j-1] + c\n",
        "                    drt[i][j] = \"=\" if c == 0 else \"\\\\\"\n",
        "    return mat[len(m1)-1][len(m2)-1], drt\n",
        "\n",
        "d, drt = distance_edition(\"jourinal\", \"joirnal\")\n",
        "d"
      ]
    },
    {
      "cell_type": "markdown",
      "metadata": {},
      "source": [
        "Pour retrouver le chemin, il suffit de remonter le chemin suivant depuis l'arriv\u00e9e jusqu'au point de d\u00e9part."
      ]
    },
    {
      "cell_type": "code",
      "execution_count": 9,
      "metadata": {},
      "outputs": [
        {
          "name": "stdout",
          "output_type": "stream",
          "text": [
            "n < < < < < <\n",
            "^ = < < < < <\n",
            "^ ^ \\ < < < <\n",
            "^ ^ ^ = < < <\n",
            "^ ^ = ^ \\ < <\n",
            "^ ^ ^ ^ = < <\n",
            "^ ^ ^ ^ ^ = <\n",
            "^ ^ ^ ^ ^ ^ =\n"
          ]
        }
      ],
      "source": [
        "for l in drt:\n",
        "    print(\" \".join(l))"
      ]
    },
    {
      "cell_type": "code",
      "execution_count": 10,
      "metadata": {},
      "outputs": [],
      "source": []
    },
    {
      "cell_type": "code",
      "execution_count": 11,
      "metadata": {},
      "outputs": [],
      "source": []
    }
  ],
  "metadata": {
    "kernelspec": {
      "display_name": "Python 3",
      "language": "python",
      "name": "python3"
    },
    "language_info": {
      "codemirror_mode": {
        "name": "ipython",
        "version": 3
      },
      "file_extension": ".py",
      "mimetype": "text/x-python",
      "name": "python",
      "nbconvert_exporter": "python",
      "pygments_lexer": "ipython3",
      "version": "3.7.0"
    }
  },
  "nbformat": 4,
  "nbformat_minor": 2
}