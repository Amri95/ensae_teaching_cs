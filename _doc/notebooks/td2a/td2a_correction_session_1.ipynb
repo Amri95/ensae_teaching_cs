{
  "cells": [
    {
      "cell_type": "markdown",
      "metadata": {},
      "source": [
        "# 2A.data : DataFrame et Graphes - correction\n",
        "\n",
        "Op\u00e9rations standards sur les dataframes ([pandas](http://pandas.pydata.org/)) et les matrices ([numpy](http://www.numpy.org/)). Graphiques avec [matplotlib](https://matplotlib.org/))."
      ]
    },
    {
      "cell_type": "code",
      "execution_count": null,
      "metadata": {},
      "outputs": [],
      "source": [
        "%matplotlib inline\n",
        "import matplotlib.pyplot as plt\n",
        "plt.style.use('ggplot')"
      ]
    },
    {
      "cell_type": "code",
      "execution_count": null,
      "metadata": {},
      "outputs": [
        {
          "data": {
            "text/html": [
              "<div id=\"my_id_menu_nb\">run previous cell, wait for 2 seconds</div>\n",
              "<script>\n",
              "function repeat_indent_string(n){\n",
              "    var a = \"\" ;\n",
              "    for ( ; n > 0 ; --n) {\n",
              "        a += \"    \";\n",
              "    }\n",
              "    return a;\n",
              "}\n",
              "var update_menu_string = function(begin, lfirst, llast, sformat, send, keep_item) {\n",
              "    var anchors = document.getElementsByClassName(\"section\");\n",
              "    if (anchors.length == 0) {\n",
              "        anchors = document.getElementsByClassName(\"text_cell_render rendered_html\");\n",
              "    }\n",
              "    var i,t;\n",
              "    var text_menu = begin;\n",
              "    var text_memo = \"<pre>\\nlength:\" + anchors.length + \"\\n\";\n",
              "    var ind = \"\";\n",
              "    var memo_level = 1;\n",
              "    var href;\n",
              "    var tags = [];\n",
              "    var main_item = 0;\n",
              "    for (i = 0; i <= llast; i++) {\n",
              "        tags.push(\"h\" + i);\n",
              "    }\n",
              "\n",
              "    for (i = 0; i < anchors.length; i++) {\n",
              "        text_memo += \"**\" + anchors[i].id + \"--\\n\";\n",
              "\n",
              "        var child = null;\n",
              "        for(t = 0; t < tags.length; t++) {\n",
              "            var r = anchors[i].getElementsByTagName(tags[t]);\n",
              "            if (r.length > 0) {\n",
              "child = r[0];\n",
              "break;\n",
              "            }\n",
              "        }\n",
              "        if (child == null){\n",
              "            text_memo += \"null\\n\";\n",
              "            continue;\n",
              "        }\n",
              "        if (anchors[i].hasAttribute(\"id\")) {\n",
              "            // when converted in RST\n",
              "            href = anchors[i].id;\n",
              "            text_memo += \"#1-\" + href;\n",
              "            // passer \u00e0 child suivant (le chercher)\n",
              "        }\n",
              "        else if (child.hasAttribute(\"id\")) {\n",
              "            // in a notebook\n",
              "            href = child.id;\n",
              "            text_memo += \"#2-\" + href;\n",
              "        }\n",
              "        else {\n",
              "            text_memo += \"#3-\" + \"*\" + \"\\n\";\n",
              "            continue;\n",
              "        }\n",
              "        var title = child.textContent;\n",
              "        var level = parseInt(child.tagName.substring(1,2));\n",
              "\n",
              "        text_memo += \"--\" + level + \"?\" + lfirst + \"--\" + title + \"\\n\";\n",
              "\n",
              "        if ((level < lfirst) || (level > llast)) {\n",
              "            continue ;\n",
              "        }\n",
              "        if (title.endsWith('\u00b6')) {\n",
              "            title = title.substring(0,title.length-1).replace(\"<\", \"&lt;\").replace(\">\", \"&gt;\").replace(\"&\", \"&amp;\")\n",
              "        }\n",
              "\n",
              "        if (title.length == 0) {\n",
              "            continue;\n",
              "        }\n",
              "\n",
              "        while (level < memo_level) {\n",
              "            text_menu += \"</ul>\\n\";\n",
              "            memo_level -= 1;\n",
              "        }\n",
              "        if (level == lfirst) {\n",
              "            main_item += 1;\n",
              "        }\n",
              "        if (keep_item != -1 && main_item != keep_item + 1) {\n",
              "            // alert(main_item + \" - \" + level + \" - \" + keep_item);\n",
              "            continue;\n",
              "        }\n",
              "        while (level > memo_level) {\n",
              "            text_menu += \"<ul>\\n\";\n",
              "            memo_level += 1;\n",
              "        }\n",
              "        text_menu += repeat_indent_string(level-2) + sformat.replace(\"__HREF__\", href).replace(\"__TITLE__\", title);\n",
              "    }\n",
              "    while (1 < memo_level) {\n",
              "        text_menu += \"</ul>\\n\";\n",
              "        memo_level -= 1;\n",
              "    }\n",
              "    text_menu += send;\n",
              "    //text_menu += \"\\n\" + text_memo;\n",
              "    return text_menu;\n",
              "};\n",
              "var update_menu = function() {\n",
              "    var sbegin = \"\";\n",
              "    var sformat = '<li><a href=\"#__HREF__\">__TITLE__</a></li>';\n",
              "    var send = \"\";\n",
              "    var keep_item = -1;\n",
              "    var text_menu = update_menu_string(sbegin, 2, 4, sformat, send, keep_item);\n",
              "    var menu = document.getElementById(\"my_id_menu_nb\");\n",
              "    menu.innerHTML=text_menu;\n",
              "};\n",
              "window.setTimeout(update_menu,2000);\n",
              "            </script>"
            ],
            "text/plain": [
              "<IPython.core.display.HTML object>"
            ]
          },
          "execution_count": null,
          "metadata": {},
          "output_type": "execute_result"
        }
      ],
      "source": [
        "from jyquickhelper import add_notebook_menu\n",
        "add_notebook_menu()"
      ]
    },
    {
      "cell_type": "markdown",
      "metadata": {},
      "source": [
        "<h3 id=\"exo1\">Exercice 1 : cr\u00e9er un fichier Excel</h3>\n",
        "    \n",
        "On souhaite r\u00e9cup\u00e9rer les donn\u00e9es [donnees_enquete_2003_television.txt](http://www.xavierdupre.fr/enseignement/complements/donnees_enquete_2003_television.txt) (source : [INSEE](http://www.insee.fr/fr/themes/detail.asp?ref_id=fd-hdv03&page=fichiers_detail/HDV03/telechargement.htm)).\n",
        "\n",
        "* ``POIDSLOG`` : Pond\u00e9ration individuelle relative\n",
        "* ``POIDSF`` : Variable de pond\u00e9ration individuelle\n",
        "* ``cLT1FREQ`` : Nombre d'heures en moyenne pass\u00e9es \u00e0 regarder la t\u00e9l\u00e9vision \n",
        "* ``cLT2FREQ`` : Unit\u00e9 de temps utilis\u00e9e pour compter le nombre d'heures pass\u00e9es \u00e0 regarder la t\u00e9l\u00e9vision, cette unit\u00e9 est repr\u00e9sent\u00e9e par les quatre valeurs suivantes\n",
        "    * 0 : non concern\u00e9\n",
        "    * 1 : jour\n",
        "    * 2 : semaine\n",
        "    * 3 : mois \n",
        "    \n",
        "Ensuite, on veut :\n",
        "\n",
        "1. Supprimer les colonnes vides\n",
        "2. Obtenir les valeurs distinctes  pour la colonne ``cLT2FREQ``\n",
        "3. Modifier la matrice pour enlever les lignes pour lesquelles l'unit\u00e9 de temps (cLT2FREQ) n'est pas renseign\u00e9e ou \u00e9gale \u00e0 z\u00e9ro.\n",
        "4. Sauver le r\u00e9sultat au format Excel.\n",
        "\n",
        "Vous aurez peut-\u00eatre besoin des fonctions suivantes :\n",
        "\n",
        "* [numpy.isnan](http://docs.scipy.org/doc/numpy/reference/generated/numpy.isnan.html)\n",
        "* [DataFrame.apply](http://pandas.pydata.org/pandas-docs/stable/generated/pandas.DataFrame.apply.html)\n",
        "* [DataFrame.fillna](http://pandas.pydata.org/pandas-docs/stable/generated/pandas.DataFrame.fillna.html) ou \n",
        "[DataFrame.isnull](http://pandas.pydata.org/pandas-docs/stable/generated/pandas.DataFrame.isnull.html)\n",
        "* [DataFrame.copy](http://pandas.pydata.org/pandas-docs/dev/generated/pandas.DataFrame.copy.html)"
      ]
    },
    {
      "cell_type": "code",
      "execution_count": null,
      "metadata": {},
      "outputs": [
        {
          "data": {
            "text/html": [
              "<div>\n",
              "<table border=\"1\" class=\"dataframe\">\n",
              "  <thead>\n",
              "    <tr style=\"text-align: right;\">\n",
              "      <th></th>\n",
              "      <th>POIDLOG</th>\n",
              "      <th>POIDSF</th>\n",
              "      <th>cLT1FREQ</th>\n",
              "      <th>cLT2FREQ</th>\n",
              "      <th>Unnamed: 4</th>\n",
              "      <th>Unnamed: 5</th>\n",
              "      <th>Unnamed: 6</th>\n",
              "      <th>Unnamed: 7</th>\n",
              "      <th>Unnamed: 8</th>\n",
              "      <th>Unnamed: 9</th>\n",
              "      <th>...</th>\n",
              "      <th>Unnamed: 22</th>\n",
              "      <th>Unnamed: 23</th>\n",
              "      <th>Unnamed: 24</th>\n",
              "      <th>Unnamed: 25</th>\n",
              "      <th>Unnamed: 26</th>\n",
              "      <th>Unnamed: 27</th>\n",
              "      <th>Unnamed: 28</th>\n",
              "      <th>Unnamed: 29</th>\n",
              "      <th>Unnamed: 30</th>\n",
              "      <th>Unnamed: 31</th>\n",
              "    </tr>\n",
              "  </thead>\n",
              "  <tbody>\n",
              "    <tr>\n",
              "      <th>0</th>\n",
              "      <td>0.889422</td>\n",
              "      <td>4766.865201</td>\n",
              "      <td>2</td>\n",
              "      <td>1.0</td>\n",
              "      <td>NaN</td>\n",
              "      <td>NaN</td>\n",
              "      <td>NaN</td>\n",
              "      <td>NaN</td>\n",
              "      <td>NaN</td>\n",
              "      <td>NaN</td>\n",
              "      <td>...</td>\n",
              "      <td>NaN</td>\n",
              "      <td>NaN</td>\n",
              "      <td>NaN</td>\n",
              "      <td>NaN</td>\n",
              "      <td>NaN</td>\n",
              "      <td>NaN</td>\n",
              "      <td>NaN</td>\n",
              "      <td>NaN</td>\n",
              "      <td>NaN</td>\n",
              "      <td>NaN</td>\n",
              "    </tr>\n",
              "    <tr>\n",
              "      <th>1</th>\n",
              "      <td>2.310209</td>\n",
              "      <td>12381.589746</td>\n",
              "      <td>30</td>\n",
              "      <td>1.0</td>\n",
              "      <td>NaN</td>\n",
              "      <td>NaN</td>\n",
              "      <td>NaN</td>\n",
              "      <td>NaN</td>\n",
              "      <td>NaN</td>\n",
              "      <td>NaN</td>\n",
              "      <td>...</td>\n",
              "      <td>NaN</td>\n",
              "      <td>NaN</td>\n",
              "      <td>NaN</td>\n",
              "      <td>NaN</td>\n",
              "      <td>NaN</td>\n",
              "      <td>NaN</td>\n",
              "      <td>NaN</td>\n",
              "      <td>NaN</td>\n",
              "      <td>NaN</td>\n",
              "      <td>NaN</td>\n",
              "    </tr>\n",
              "    <tr>\n",
              "      <th>2</th>\n",
              "      <td>2.740070</td>\n",
              "      <td>14685.431344</td>\n",
              "      <td>6</td>\n",
              "      <td>2.0</td>\n",
              "      <td>NaN</td>\n",
              "      <td>NaN</td>\n",
              "      <td>NaN</td>\n",
              "      <td>NaN</td>\n",
              "      <td>NaN</td>\n",
              "      <td>NaN</td>\n",
              "      <td>...</td>\n",
              "      <td>NaN</td>\n",
              "      <td>NaN</td>\n",
              "      <td>NaN</td>\n",
              "      <td>NaN</td>\n",
              "      <td>NaN</td>\n",
              "      <td>NaN</td>\n",
              "      <td>NaN</td>\n",
              "      <td>NaN</td>\n",
              "      <td>NaN</td>\n",
              "      <td>NaN</td>\n",
              "    </tr>\n",
              "    <tr>\n",
              "      <th>3</th>\n",
              "      <td>1.775545</td>\n",
              "      <td>9516.049939</td>\n",
              "      <td>1</td>\n",
              "      <td>1.0</td>\n",
              "      <td>NaN</td>\n",
              "      <td>NaN</td>\n",
              "      <td>NaN</td>\n",
              "      <td>NaN</td>\n",
              "      <td>NaN</td>\n",
              "      <td>NaN</td>\n",
              "      <td>...</td>\n",
              "      <td>NaN</td>\n",
              "      <td>NaN</td>\n",
              "      <td>NaN</td>\n",
              "      <td>NaN</td>\n",
              "      <td>NaN</td>\n",
              "      <td>NaN</td>\n",
              "      <td>NaN</td>\n",
              "      <td>NaN</td>\n",
              "      <td>NaN</td>\n",
              "      <td>NaN</td>\n",
              "    </tr>\n",
              "    <tr>\n",
              "      <th>4</th>\n",
              "      <td>0.732512</td>\n",
              "      <td>3925.907588</td>\n",
              "      <td>3</td>\n",
              "      <td>1.0</td>\n",
              "      <td>NaN</td>\n",
              "      <td>NaN</td>\n",
              "      <td>NaN</td>\n",
              "      <td>NaN</td>\n",
              "      <td>NaN</td>\n",
              "      <td>NaN</td>\n",
              "      <td>...</td>\n",
              "      <td>NaN</td>\n",
              "      <td>NaN</td>\n",
              "      <td>NaN</td>\n",
              "      <td>NaN</td>\n",
              "      <td>NaN</td>\n",
              "      <td>NaN</td>\n",
              "      <td>NaN</td>\n",
              "      <td>NaN</td>\n",
              "      <td>NaN</td>\n",
              "      <td>NaN</td>\n",
              "    </tr>\n",
              "  </tbody>\n",
              "</table>\n",
              "<p>5 rows \u00d7 32 columns</p>\n",
              "</div>"
            ],
            "text/plain": [
              "    POIDLOG        POIDSF  cLT1FREQ  cLT2FREQ  Unnamed: 4  Unnamed: 5  \\\n",
              "0  0.889422   4766.865201         2       1.0         NaN         NaN   \n",
              "1  2.310209  12381.589746        30       1.0         NaN         NaN   \n",
              "2  2.740070  14685.431344         6       2.0         NaN         NaN   \n",
              "3  1.775545   9516.049939         1       1.0         NaN         NaN   \n",
              "4  0.732512   3925.907588         3       1.0         NaN         NaN   \n",
              "\n",
              "   Unnamed: 6  Unnamed: 7  Unnamed: 8  Unnamed: 9     ...       Unnamed: 22  \\\n",
              "0         NaN         NaN         NaN         NaN     ...               NaN   \n",
              "1         NaN         NaN         NaN         NaN     ...               NaN   \n",
              "2         NaN         NaN         NaN         NaN     ...               NaN   \n",
              "3         NaN         NaN         NaN         NaN     ...               NaN   \n",
              "4         NaN         NaN         NaN         NaN     ...               NaN   \n",
              "\n",
              "   Unnamed: 23  Unnamed: 24  Unnamed: 25  Unnamed: 26  Unnamed: 27  \\\n",
              "0          NaN          NaN          NaN          NaN          NaN   \n",
              "1          NaN          NaN          NaN          NaN          NaN   \n",
              "2          NaN          NaN          NaN          NaN          NaN   \n",
              "3          NaN          NaN          NaN          NaN          NaN   \n",
              "4          NaN          NaN          NaN          NaN          NaN   \n",
              "\n",
              "   Unnamed: 28  Unnamed: 29  Unnamed: 30  Unnamed: 31  \n",
              "0          NaN          NaN          NaN          NaN  \n",
              "1          NaN          NaN          NaN          NaN  \n",
              "2          NaN          NaN          NaN          NaN  \n",
              "3          NaN          NaN          NaN          NaN  \n",
              "4          NaN          NaN          NaN          NaN  \n",
              "\n",
              "[5 rows x 32 columns]"
            ]
          },
          "execution_count": null,
          "metadata": {},
          "output_type": "execute_result"
        }
      ],
      "source": [
        "import pandas\n",
        "from ensae_teaching_cs.data import donnees_enquete_2003_television\n",
        "df = pandas.read_csv(donnees_enquete_2003_television(), sep=\"\\t\", engine=\"python\")\n",
        "df.head()"
      ]
    },
    {
      "cell_type": "markdown",
      "metadata": {},
      "source": [
        "On enl\u00e8ve les colonnes vides :"
      ]
    },
    {
      "cell_type": "code",
      "execution_count": null,
      "metadata": {},
      "outputs": [
        {
          "data": {
            "text/html": [
              "<div>\n",
              "<table border=\"1\" class=\"dataframe\">\n",
              "  <thead>\n",
              "    <tr style=\"text-align: right;\">\n",
              "      <th></th>\n",
              "      <th>POIDLOG</th>\n",
              "      <th>POIDSF</th>\n",
              "      <th>cLT1FREQ</th>\n",
              "      <th>cLT2FREQ</th>\n",
              "    </tr>\n",
              "  </thead>\n",
              "  <tbody>\n",
              "    <tr>\n",
              "      <th>0</th>\n",
              "      <td>0.889422</td>\n",
              "      <td>4766.865201</td>\n",
              "      <td>2</td>\n",
              "      <td>1.0</td>\n",
              "    </tr>\n",
              "    <tr>\n",
              "      <th>1</th>\n",
              "      <td>2.310209</td>\n",
              "      <td>12381.589746</td>\n",
              "      <td>30</td>\n",
              "      <td>1.0</td>\n",
              "    </tr>\n",
              "    <tr>\n",
              "      <th>2</th>\n",
              "      <td>2.740070</td>\n",
              "      <td>14685.431344</td>\n",
              "      <td>6</td>\n",
              "      <td>2.0</td>\n",
              "    </tr>\n",
              "    <tr>\n",
              "      <th>3</th>\n",
              "      <td>1.775545</td>\n",
              "      <td>9516.049939</td>\n",
              "      <td>1</td>\n",
              "      <td>1.0</td>\n",
              "    </tr>\n",
              "    <tr>\n",
              "      <th>4</th>\n",
              "      <td>0.732512</td>\n",
              "      <td>3925.907588</td>\n",
              "      <td>3</td>\n",
              "      <td>1.0</td>\n",
              "    </tr>\n",
              "  </tbody>\n",
              "</table>\n",
              "</div>"
            ],
            "text/plain": [
              "    POIDLOG        POIDSF  cLT1FREQ  cLT2FREQ\n",
              "0  0.889422   4766.865201         2       1.0\n",
              "1  2.310209  12381.589746        30       1.0\n",
              "2  2.740070  14685.431344         6       2.0\n",
              "3  1.775545   9516.049939         1       1.0\n",
              "4  0.732512   3925.907588         3       1.0"
            ]
          },
          "execution_count": null,
          "metadata": {},
          "output_type": "execute_result"
        }
      ],
      "source": [
        "df = df [[ c for c in df.columns if \"Unnamed\" not in c]]\n",
        "df.head()"
      ]
    },
    {
      "cell_type": "code",
      "execution_count": null,
      "metadata": {},
      "outputs": [
        {
          "name": "stdout",
          "output_type": "stream",
          "text": [
            "8403 7386\n"
          ]
        },
        {
          "data": {
            "text/html": [
              "<div>\n",
              "<table border=\"1\" class=\"dataframe\">\n",
              "  <thead>\n",
              "    <tr style=\"text-align: right;\">\n",
              "      <th></th>\n",
              "      <th>POIDLOG</th>\n",
              "      <th>POIDSF</th>\n",
              "      <th>cLT1FREQ</th>\n",
              "      <th>cLT2FREQ</th>\n",
              "    </tr>\n",
              "  </thead>\n",
              "  <tbody>\n",
              "    <tr>\n",
              "      <th>8397</th>\n",
              "      <td>0.502091</td>\n",
              "      <td>2690.961176</td>\n",
              "      <td>3</td>\n",
              "      <td>1.0</td>\n",
              "    </tr>\n",
              "    <tr>\n",
              "      <th>8398</th>\n",
              "      <td>0.306852</td>\n",
              "      <td>1644.574141</td>\n",
              "      <td>6</td>\n",
              "      <td>1.0</td>\n",
              "    </tr>\n",
              "    <tr>\n",
              "      <th>8399</th>\n",
              "      <td>2.501181</td>\n",
              "      <td>13405.104689</td>\n",
              "      <td>6</td>\n",
              "      <td>1.0</td>\n",
              "    </tr>\n",
              "    <tr>\n",
              "      <th>8400</th>\n",
              "      <td>1.382758</td>\n",
              "      <td>7410.905653</td>\n",
              "      <td>1</td>\n",
              "      <td>1.0</td>\n",
              "    </tr>\n",
              "    <tr>\n",
              "      <th>8401</th>\n",
              "      <td>0.343340</td>\n",
              "      <td>1840.132652</td>\n",
              "      <td>3</td>\n",
              "      <td>1.0</td>\n",
              "    </tr>\n",
              "  </tbody>\n",
              "</table>\n",
              "</div>"
            ],
            "text/plain": [
              "       POIDLOG        POIDSF  cLT1FREQ  cLT2FREQ\n",
              "8397  0.502091   2690.961176         3       1.0\n",
              "8398  0.306852   1644.574141         6       1.0\n",
              "8399  2.501181  13405.104689         6       1.0\n",
              "8400  1.382758   7410.905653         1       1.0\n",
              "8401  0.343340   1840.132652         3       1.0"
            ]
          },
          "execution_count": null,
          "metadata": {},
          "output_type": "execute_result"
        }
      ],
      "source": [
        "notnull = df [ ~df.cLT2FREQ.isnull() ]  # \u00e9quivalent )  df [ df.cLT2FREQ.notnull() ] \n",
        "print(len(df),len(notnull))\n",
        "notnull.tail()"
      ]
    },
    {
      "cell_type": "code",
      "execution_count": null,
      "metadata": {},
      "outputs": [],
      "source": [
        "notnull.to_excel(\"data.xlsx\")  # question 4"
      ]
    },
    {
      "cell_type": "markdown",
      "metadata": {},
      "source": [
        "Pour lancer Excel, vous pouvez juste \u00e9crire ceci :"
      ]
    },
    {
      "cell_type": "code",
      "execution_count": null,
      "metadata": {},
      "outputs": [
        {
          "data": {
            "text/plain": [
              "[]"
            ]
          },
          "execution_count": null,
          "metadata": {},
          "output_type": "execute_result"
        }
      ],
      "source": [
        "%system \"data.xlsx\""
      ]
    },
    {
      "cell_type": "markdown",
      "metadata": {},
      "source": [
        "Vous devriez voir quelque chose comme ceci :"
      ]
    },
    {
      "cell_type": "code",
      "execution_count": null,
      "metadata": {},
      "outputs": [
        {
          "data": {
            "image/png": "[encoded data removed]",
            "text/plain": [
              "<IPython.core.display.Image object>"
            ]
          },
          "execution_count": null,
          "metadata": {},
          "output_type": "execute_result"
        }
      ],
      "source": [
        "from IPython.display import Image\n",
        "Image(\"td10exc.png\")"
      ]
    },
    {
      "cell_type": "markdown",
      "metadata": {},
      "source": [
        "<h3 id=\"qu\">Questions</h3>\n",
        "\n",
        "* **Que changerait l'ajout du param\u00e8tre ``how='outer'`` dans ce cas ?**\n",
        "* **On cherche \u00e0 joindre deux tables A,B qui ont chacune trois cl\u00e9s distinctes : $c_1, c_2, c_3$. Il y a respectivement dans chaque table $A_i$ et $B_i$ lignes pour la cl\u00e9 $c_i$. Combien la table finale issue de la fusion des deux tables contiendra-t-elle de lignes ?**"
      ]
    },
    {
      "cell_type": "markdown",
      "metadata": {},
      "source": [
        "L'ajout du param\u00e8tres ``how='outer'`` ne changerait rien dans ce cas car les deux tables fusionn\u00e9es contiennent exactement les m\u00eames cl\u00e9s.\n",
        "\n",
        "Le nombre de lignes obtenus serait $\\sum_{i=1}^{3} A_i B_i$. Il y a trois cl\u00e9s, chaque ligne de la table A doit \u00eatre associ\u00e9e \u00e0 toutes les lignes de la table B partageant la m\u00eame cl\u00e9."
      ]
    },
    {
      "cell_type": "markdown",
      "metadata": {},
      "source": [
        "<h3 id=\"exo3\">Exercice 2 : lambda fonction</h3>\n",
        "\n",
        "Ecrire une lambda fonction qui prend deux param\u00e8tres et qui est \u00e9quivalente \u00e0 la fonction suivante :"
      ]
    },
    {
      "cell_type": "code",
      "execution_count": null,
      "metadata": {},
      "outputs": [],
      "source": [
        "def delta(x,y):\n",
        "    return max(x,y)- min(x,y)"
      ]
    },
    {
      "cell_type": "code",
      "execution_count": null,
      "metadata": {},
      "outputs": [],
      "source": [
        "delta = lambda x,y : max(x,y)- min(x,y)"
      ]
    },
    {
      "cell_type": "code",
      "execution_count": null,
      "metadata": {},
      "outputs": [
        {
          "data": {
            "text/plain": [
              "1"
            ]
          },
          "execution_count": null,
          "metadata": {},
          "output_type": "execute_result"
        }
      ],
      "source": [
        "delta(4,5)"
      ]
    },
    {
      "cell_type": "code",
      "execution_count": null,
      "metadata": {},
      "outputs": [
        {
          "data": {
            "text/plain": [
              "((841, 5), (8403, 5))"
            ]
          },
          "execution_count": null,
          "metadata": {},
          "output_type": "execute_result"
        }
      ],
      "source": [
        "import random \n",
        "df[\"select\"]= df.apply( lambda row : random.randint(1,10), axis=1) \n",
        "echantillon = df [ df[\"select\"] ==1 ]\n",
        "echantillon.shape, df.shape"
      ]
    },
    {
      "cell_type": "markdown",
      "metadata": {},
      "source": [
        "<h3 id=\"exo2\">Exercice 3 : moyennes par groupes</h3>\n",
        "    \n",
        "Toujours avec le m\u00eame jeu de donn\u00e9es ([marathon.txt](http://www.xavierdupre.fr/enseignement/complements/marathon.txt)), on veut ajouter une ligne \u00e0 la fin du tableau crois\u00e9 dynamique contenant la moyenne en secondes des temps des marathons pour chaque ville."
      ]
    },
    {
      "cell_type": "code",
      "execution_count": null,
      "metadata": {},
      "outputs": [
        {
          "data": {
            "text/html": [
              "<div>\n",
              "<table border=\"1\" class=\"dataframe\">\n",
              "  <thead>\n",
              "    <tr style=\"text-align: right;\">\n",
              "      <th></th>\n",
              "      <th>ville</th>\n",
              "      <th>annee</th>\n",
              "      <th>temps</th>\n",
              "      <th>secondes</th>\n",
              "    </tr>\n",
              "  </thead>\n",
              "  <tbody>\n",
              "    <tr>\n",
              "      <th>0</th>\n",
              "      <td>PARIS</td>\n",
              "      <td>2011</td>\n",
              "      <td>02:06:29</td>\n",
              "      <td>7589</td>\n",
              "    </tr>\n",
              "    <tr>\n",
              "      <th>1</th>\n",
              "      <td>PARIS</td>\n",
              "      <td>2010</td>\n",
              "      <td>02:06:41</td>\n",
              "      <td>7601</td>\n",
              "    </tr>\n",
              "    <tr>\n",
              "      <th>2</th>\n",
              "      <td>PARIS</td>\n",
              "      <td>2009</td>\n",
              "      <td>02:05:47</td>\n",
              "      <td>7547</td>\n",
              "    </tr>\n",
              "    <tr>\n",
              "      <th>3</th>\n",
              "      <td>PARIS</td>\n",
              "      <td>2008</td>\n",
              "      <td>02:06:40</td>\n",
              "      <td>7600</td>\n",
              "    </tr>\n",
              "    <tr>\n",
              "      <th>4</th>\n",
              "      <td>PARIS</td>\n",
              "      <td>2007</td>\n",
              "      <td>02:07:17</td>\n",
              "      <td>7637</td>\n",
              "    </tr>\n",
              "  </tbody>\n",
              "</table>\n",
              "</div>"
            ],
            "text/plain": [
              "   ville  annee     temps  secondes\n",
              "0  PARIS   2011  02:06:29      7589\n",
              "1  PARIS   2010  02:06:41      7601\n",
              "2  PARIS   2009  02:05:47      7547\n",
              "3  PARIS   2008  02:06:40      7600\n",
              "4  PARIS   2007  02:07:17      7637"
            ]
          },
          "execution_count": null,
          "metadata": {},
          "output_type": "execute_result"
        }
      ],
      "source": [
        "from ensae_teaching_cs.data import marathon\n",
        "import pandas\n",
        "df = pandas.read_csv(marathon(), sep=\"\\t\", names=[\"ville\", \"annee\", \"temps\",\"secondes\"])\n",
        "df.head()"
      ]
    },
    {
      "cell_type": "markdown",
      "metadata": {},
      "source": [
        "La solution requiert trois \u00e9tapes.\n",
        "\n",
        "1. Pour avoir la moyenne par villes, il faut grouper les lignes associ\u00e9es \u00e0 la m\u00eame villes.\n",
        "2. Ensuite, il faut introduire ces moyennes dans la table initiale : on fusionne.\n",
        "3. On effectue le m\u00eame pivot que dans l'\u00e9nonc\u00e9."
      ]
    },
    {
      "cell_type": "code",
      "execution_count": null,
      "metadata": {},
      "outputs": [
        {
          "data": {
            "text/html": [
              "<div>\n",
              "<table border=\"1\" class=\"dataframe\">\n",
              "  <thead>\n",
              "    <tr style=\"text-align: right;\">\n",
              "      <th></th>\n",
              "      <th>ville</th>\n",
              "      <th>secondes</th>\n",
              "    </tr>\n",
              "  </thead>\n",
              "  <tbody>\n",
              "    <tr>\n",
              "      <th>0</th>\n",
              "      <td>AMSTERDAM</td>\n",
              "      <td>7883.371429</td>\n",
              "    </tr>\n",
              "    <tr>\n",
              "      <th>1</th>\n",
              "      <td>BERLIN</td>\n",
              "      <td>7922.315789</td>\n",
              "    </tr>\n",
              "    <tr>\n",
              "      <th>2</th>\n",
              "      <td>BOSTON</td>\n",
              "      <td>7891.061224</td>\n",
              "    </tr>\n",
              "    <tr>\n",
              "      <th>3</th>\n",
              "      <td>CHICAGO</td>\n",
              "      <td>7815.909091</td>\n",
              "    </tr>\n",
              "    <tr>\n",
              "      <th>4</th>\n",
              "      <td>FUKUOKA</td>\n",
              "      <td>8075.187500</td>\n",
              "    </tr>\n",
              "  </tbody>\n",
              "</table>\n",
              "</div>"
            ],
            "text/plain": [
              "       ville     secondes\n",
              "0  AMSTERDAM  7883.371429\n",
              "1     BERLIN  7922.315789\n",
              "2     BOSTON  7891.061224\n",
              "3    CHICAGO  7815.909091\n",
              "4    FUKUOKA  8075.187500"
            ]
          },
          "execution_count": null,
          "metadata": {},
          "output_type": "execute_result"
        }
      ],
      "source": [
        "# \u00e9tape 1\n",
        "# par d\u00e9faut, la m\u00e9thode groupby utilise la cl\u00e9 de group comme index\n",
        "# pour ne pas le faire, il faut pr\u00e9ciser as_index = False\n",
        "gr = df[[\"ville\",\"secondes\"]].groupby(\"ville\", as_index=False).mean()\n",
        "gr.head()"
      ]
    },
    {
      "cell_type": "code",
      "execution_count": null,
      "metadata": {},
      "outputs": [
        {
          "data": {
            "text/html": [
              "<div>\n",
              "<table border=\"1\" class=\"dataframe\">\n",
              "  <thead>\n",
              "    <tr style=\"text-align: right;\">\n",
              "      <th></th>\n",
              "      <th>ville</th>\n",
              "      <th>annee</th>\n",
              "      <th>temps</th>\n",
              "      <th>secondes_x</th>\n",
              "      <th>secondes_y</th>\n",
              "    </tr>\n",
              "  </thead>\n",
              "  <tbody>\n",
              "    <tr>\n",
              "      <th>0</th>\n",
              "      <td>PARIS</td>\n",
              "      <td>2011</td>\n",
              "      <td>02:06:29</td>\n",
              "      <td>7589</td>\n",
              "      <td>7937.028571</td>\n",
              "    </tr>\n",
              "    <tr>\n",
              "      <th>1</th>\n",
              "      <td>PARIS</td>\n",
              "      <td>2010</td>\n",
              "      <td>02:06:41</td>\n",
              "      <td>7601</td>\n",
              "      <td>7937.028571</td>\n",
              "    </tr>\n",
              "    <tr>\n",
              "      <th>2</th>\n",
              "      <td>PARIS</td>\n",
              "      <td>2009</td>\n",
              "      <td>02:05:47</td>\n",
              "      <td>7547</td>\n",
              "      <td>7937.028571</td>\n",
              "    </tr>\n",
              "    <tr>\n",
              "      <th>3</th>\n",
              "      <td>PARIS</td>\n",
              "      <td>2008</td>\n",
              "      <td>02:06:40</td>\n",
              "      <td>7600</td>\n",
              "      <td>7937.028571</td>\n",
              "    </tr>\n",
              "    <tr>\n",
              "      <th>4</th>\n",
              "      <td>PARIS</td>\n",
              "      <td>2007</td>\n",
              "      <td>02:07:17</td>\n",
              "      <td>7637</td>\n",
              "      <td>7937.028571</td>\n",
              "    </tr>\n",
              "  </tbody>\n",
              "</table>\n",
              "</div>"
            ],
            "text/plain": [
              "   ville  annee     temps  secondes_x   secondes_y\n",
              "0  PARIS   2011  02:06:29        7589  7937.028571\n",
              "1  PARIS   2010  02:06:41        7601  7937.028571\n",
              "2  PARIS   2009  02:05:47        7547  7937.028571\n",
              "3  PARIS   2008  02:06:40        7600  7937.028571\n",
              "4  PARIS   2007  02:07:17        7637  7937.028571"
            ]
          },
          "execution_count": null,
          "metadata": {},
          "output_type": "execute_result"
        }
      ],
      "source": [
        "# \u00e9tape 2 - on ajoute une colonne\n",
        "tout = df.merge( gr, on=\"ville\")\n",
        "tout.head()"
      ]
    },
    {
      "cell_type": "code",
      "execution_count": null,
      "metadata": {},
      "outputs": [
        {
          "data": {
            "text/html": [
              "<div>\n",
              "<table border=\"1\" class=\"dataframe\">\n",
              "  <thead>\n",
              "    <tr style=\"text-align: right;\">\n",
              "      <th>ville</th>\n",
              "      <th>AMSTERDAM</th>\n",
              "      <th>BERLIN</th>\n",
              "      <th>BOSTON</th>\n",
              "      <th>CHICAGO</th>\n",
              "      <th>FUKUOKA</th>\n",
              "      <th>LONDON</th>\n",
              "      <th>NEW YORK</th>\n",
              "      <th>PARIS</th>\n",
              "      <th>STOCKOLM</th>\n",
              "    </tr>\n",
              "    <tr>\n",
              "      <th>annee</th>\n",
              "      <th></th>\n",
              "      <th></th>\n",
              "      <th></th>\n",
              "      <th></th>\n",
              "      <th></th>\n",
              "      <th></th>\n",
              "      <th></th>\n",
              "      <th></th>\n",
              "      <th></th>\n",
              "    </tr>\n",
              "  </thead>\n",
              "  <tbody>\n",
              "    <tr>\n",
              "      <th>2007</th>\n",
              "      <td>7589.0</td>\n",
              "      <td>7466.0</td>\n",
              "      <td>8053.0</td>\n",
              "      <td>7871.0</td>\n",
              "      <td>7599.0</td>\n",
              "      <td>7661.0</td>\n",
              "      <td>7744.0</td>\n",
              "      <td>7637.0</td>\n",
              "      <td>8456.0</td>\n",
              "    </tr>\n",
              "    <tr>\n",
              "      <th>2008</th>\n",
              "      <td>7672.0</td>\n",
              "      <td>7439.0</td>\n",
              "      <td>7665.0</td>\n",
              "      <td>7585.0</td>\n",
              "      <td>7570.0</td>\n",
              "      <td>7515.0</td>\n",
              "      <td>7723.0</td>\n",
              "      <td>7600.0</td>\n",
              "      <td>8163.0</td>\n",
              "    </tr>\n",
              "    <tr>\n",
              "      <th>2009</th>\n",
              "      <td>7578.0</td>\n",
              "      <td>7568.0</td>\n",
              "      <td>7722.0</td>\n",
              "      <td>7541.0</td>\n",
              "      <td>7518.0</td>\n",
              "      <td>7510.0</td>\n",
              "      <td>7755.0</td>\n",
              "      <td>7547.0</td>\n",
              "      <td>8134.0</td>\n",
              "    </tr>\n",
              "    <tr>\n",
              "      <th>2010</th>\n",
              "      <td>7544.0</td>\n",
              "      <td>7508.0</td>\n",
              "      <td>7552.0</td>\n",
              "      <td>7583.0</td>\n",
              "      <td>7704.0</td>\n",
              "      <td>7519.0</td>\n",
              "      <td>7694.0</td>\n",
              "      <td>7601.0</td>\n",
              "      <td>7968.0</td>\n",
              "    </tr>\n",
              "    <tr>\n",
              "      <th>2011</th>\n",
              "      <td>NaN</td>\n",
              "      <td>7418.0</td>\n",
              "      <td>7382.0</td>\n",
              "      <td>NaN</td>\n",
              "      <td>NaN</td>\n",
              "      <td>7480.0</td>\n",
              "      <td>NaN</td>\n",
              "      <td>7589.0</td>\n",
              "      <td>8047.0</td>\n",
              "    </tr>\n",
              "  </tbody>\n",
              "</table>\n",
              "</div>"
            ],
            "text/plain": [
              "ville  AMSTERDAM  BERLIN  BOSTON  CHICAGO  FUKUOKA  LONDON  NEW YORK   PARIS  \\\n",
              "annee                                                                          \n",
              "2007      7589.0  7466.0  8053.0   7871.0   7599.0  7661.0    7744.0  7637.0   \n",
              "2008      7672.0  7439.0  7665.0   7585.0   7570.0  7515.0    7723.0  7600.0   \n",
              "2009      7578.0  7568.0  7722.0   7541.0   7518.0  7510.0    7755.0  7547.0   \n",
              "2010      7544.0  7508.0  7552.0   7583.0   7704.0  7519.0    7694.0  7601.0   \n",
              "2011         NaN  7418.0  7382.0      NaN      NaN  7480.0       NaN  7589.0   \n",
              "\n",
              "ville  STOCKOLM  \n",
              "annee            \n",
              "2007     8456.0  \n",
              "2008     8163.0  \n",
              "2009     8134.0  \n",
              "2010     7968.0  \n",
              "2011     8047.0  "
            ]
          },
          "execution_count": null,
          "metadata": {},
          "output_type": "execute_result"
        }
      ],
      "source": [
        "# \u00e9tape 3\n",
        "piv = tout.pivot(\"annee\",\"ville\",\"secondes_x\")\n",
        "piv.tail()"
      ]
    },
    {
      "cell_type": "markdown",
      "metadata": {},
      "source": [
        "A partir de l\u00e0, on ne voit pas trop comment s'en sortir. Voici ce que je propose :\n",
        "\n",
        "1. On effectue un pivot sur la petite matrice des moyennes.\n",
        "2. On ajoute ce second pivot avec le premier (celui de l'\u00e9nonc\u00e9)."
      ]
    },
    {
      "cell_type": "code",
      "execution_count": null,
      "metadata": {},
      "outputs": [
        {
          "data": {
            "text/html": [
              "<div>\n",
              "<table border=\"1\" class=\"dataframe\">\n",
              "  <thead>\n",
              "    <tr style=\"text-align: right;\">\n",
              "      <th>ville</th>\n",
              "      <th>AMSTERDAM</th>\n",
              "      <th>BERLIN</th>\n",
              "      <th>BOSTON</th>\n",
              "      <th>CHICAGO</th>\n",
              "      <th>FUKUOKA</th>\n",
              "      <th>LONDON</th>\n",
              "      <th>NEW YORK</th>\n",
              "      <th>PARIS</th>\n",
              "      <th>STOCKOLM</th>\n",
              "    </tr>\n",
              "    <tr>\n",
              "      <th>annee</th>\n",
              "      <th></th>\n",
              "      <th></th>\n",
              "      <th></th>\n",
              "      <th></th>\n",
              "      <th></th>\n",
              "      <th></th>\n",
              "      <th></th>\n",
              "      <th></th>\n",
              "      <th></th>\n",
              "    </tr>\n",
              "  </thead>\n",
              "  <tbody>\n",
              "    <tr>\n",
              "      <th>moyenne</th>\n",
              "      <td>7883.371429</td>\n",
              "      <td>7922.315789</td>\n",
              "      <td>7891.061224</td>\n",
              "      <td>7815.909091</td>\n",
              "      <td>8075.1875</td>\n",
              "      <td>7695.16129</td>\n",
              "      <td>7928.560976</td>\n",
              "      <td>7937.028571</td>\n",
              "      <td>8133.393939</td>\n",
              "    </tr>\n",
              "  </tbody>\n",
              "</table>\n",
              "</div>"
            ],
            "text/plain": [
              "ville      AMSTERDAM       BERLIN       BOSTON      CHICAGO    FUKUOKA  \\\n",
              "annee                                                                    \n",
              "moyenne  7883.371429  7922.315789  7891.061224  7815.909091  8075.1875   \n",
              "\n",
              "ville        LONDON     NEW YORK        PARIS     STOCKOLM  \n",
              "annee                                                       \n",
              "moyenne  7695.16129  7928.560976  7937.028571  8133.393939  "
            ]
          },
          "execution_count": null,
          "metadata": {},
          "output_type": "execute_result"
        }
      ],
      "source": [
        "gr[\"annee\"] = \"moyenne\"\n",
        "pivmean = gr.pivot(\"annee\",\"ville\",\"secondes\")\n",
        "pivmean"
      ]
    },
    {
      "cell_type": "code",
      "execution_count": null,
      "metadata": {},
      "outputs": [
        {
          "data": {
            "text/html": [
              "<div>\n",
              "<table border=\"1\" class=\"dataframe\">\n",
              "  <thead>\n",
              "    <tr style=\"text-align: right;\">\n",
              "      <th>ville</th>\n",
              "      <th>AMSTERDAM</th>\n",
              "      <th>BERLIN</th>\n",
              "      <th>BOSTON</th>\n",
              "      <th>CHICAGO</th>\n",
              "      <th>FUKUOKA</th>\n",
              "      <th>LONDON</th>\n",
              "      <th>NEW YORK</th>\n",
              "      <th>PARIS</th>\n",
              "      <th>STOCKOLM</th>\n",
              "    </tr>\n",
              "    <tr>\n",
              "      <th>annee</th>\n",
              "      <th></th>\n",
              "      <th></th>\n",
              "      <th></th>\n",
              "      <th></th>\n",
              "      <th></th>\n",
              "      <th></th>\n",
              "      <th></th>\n",
              "      <th></th>\n",
              "      <th></th>\n",
              "    </tr>\n",
              "  </thead>\n",
              "  <tbody>\n",
              "    <tr>\n",
              "      <th>2008</th>\n",
              "      <td>7672.000000</td>\n",
              "      <td>7439.000000</td>\n",
              "      <td>7665.000000</td>\n",
              "      <td>7585.000000</td>\n",
              "      <td>7570.0000</td>\n",
              "      <td>7515.00000</td>\n",
              "      <td>7723.000000</td>\n",
              "      <td>7600.000000</td>\n",
              "      <td>8163.000000</td>\n",
              "    </tr>\n",
              "    <tr>\n",
              "      <th>2009</th>\n",
              "      <td>7578.000000</td>\n",
              "      <td>7568.000000</td>\n",
              "      <td>7722.000000</td>\n",
              "      <td>7541.000000</td>\n",
              "      <td>7518.0000</td>\n",
              "      <td>7510.00000</td>\n",
              "      <td>7755.000000</td>\n",
              "      <td>7547.000000</td>\n",
              "      <td>8134.000000</td>\n",
              "    </tr>\n",
              "    <tr>\n",
              "      <th>2010</th>\n",
              "      <td>7544.000000</td>\n",
              "      <td>7508.000000</td>\n",
              "      <td>7552.000000</td>\n",
              "      <td>7583.000000</td>\n",
              "      <td>7704.0000</td>\n",
              "      <td>7519.00000</td>\n",
              "      <td>7694.000000</td>\n",
              "      <td>7601.000000</td>\n",
              "      <td>7968.000000</td>\n",
              "    </tr>\n",
              "    <tr>\n",
              "      <th>2011</th>\n",
              "      <td>NaN</td>\n",
              "      <td>7418.000000</td>\n",
              "      <td>7382.000000</td>\n",
              "      <td>NaN</td>\n",
              "      <td>NaN</td>\n",
              "      <td>7480.00000</td>\n",
              "      <td>NaN</td>\n",
              "      <td>7589.000000</td>\n",
              "      <td>8047.000000</td>\n",
              "    </tr>\n",
              "    <tr>\n",
              "      <th>moyenne</th>\n",
              "      <td>7883.371429</td>\n",
              "      <td>7922.315789</td>\n",
              "      <td>7891.061224</td>\n",
              "      <td>7815.909091</td>\n",
              "      <td>8075.1875</td>\n",
              "      <td>7695.16129</td>\n",
              "      <td>7928.560976</td>\n",
              "      <td>7937.028571</td>\n",
              "      <td>8133.393939</td>\n",
              "    </tr>\n",
              "  </tbody>\n",
              "</table>\n",
              "</div>"
            ],
            "text/plain": [
              "ville      AMSTERDAM       BERLIN       BOSTON      CHICAGO    FUKUOKA  \\\n",
              "annee                                                                    \n",
              "2008     7672.000000  7439.000000  7665.000000  7585.000000  7570.0000   \n",
              "2009     7578.000000  7568.000000  7722.000000  7541.000000  7518.0000   \n",
              "2010     7544.000000  7508.000000  7552.000000  7583.000000  7704.0000   \n",
              "2011             NaN  7418.000000  7382.000000          NaN        NaN   \n",
              "moyenne  7883.371429  7922.315789  7891.061224  7815.909091  8075.1875   \n",
              "\n",
              "ville        LONDON     NEW YORK        PARIS     STOCKOLM  \n",
              "annee                                                       \n",
              "2008     7515.00000  7723.000000  7600.000000  8163.000000  \n",
              "2009     7510.00000  7755.000000  7547.000000  8134.000000  \n",
              "2010     7519.00000  7694.000000  7601.000000  7968.000000  \n",
              "2011     7480.00000          NaN  7589.000000  8047.000000  \n",
              "moyenne  7695.16129  7928.560976  7937.028571  8133.393939  "
            ]
          },
          "execution_count": null,
          "metadata": {},
          "output_type": "execute_result"
        }
      ],
      "source": [
        "piv = df.pivot(\"annee\",\"ville\",\"secondes\")\n",
        "pandas.concat( [ piv, pivmean ]).tail()"
      ]
    },
    {
      "cell_type": "markdown",
      "metadata": {},
      "source": [
        "En r\u00e9sum\u00e9, cela donne (j'ajoute aussi le nombre de marathons courus) :"
      ]
    },
    {
      "cell_type": "code",
      "execution_count": null,
      "metadata": {},
      "outputs": [
        {
          "data": {
            "text/html": [
              "<div>\n",
              "<table border=\"1\" class=\"dataframe\">\n",
              "  <thead>\n",
              "    <tr style=\"text-align: right;\">\n",
              "      <th>ville</th>\n",
              "      <th>AMSTERDAM</th>\n",
              "      <th>BERLIN</th>\n",
              "      <th>BOSTON</th>\n",
              "      <th>CHICAGO</th>\n",
              "      <th>FUKUOKA</th>\n",
              "      <th>LONDON</th>\n",
              "      <th>NEW YORK</th>\n",
              "      <th>PARIS</th>\n",
              "      <th>STOCKOLM</th>\n",
              "    </tr>\n",
              "    <tr>\n",
              "      <th>annee</th>\n",
              "      <th></th>\n",
              "      <th></th>\n",
              "      <th></th>\n",
              "      <th></th>\n",
              "      <th></th>\n",
              "      <th></th>\n",
              "      <th></th>\n",
              "      <th></th>\n",
              "      <th></th>\n",
              "    </tr>\n",
              "  </thead>\n",
              "  <tbody>\n",
              "    <tr>\n",
              "      <th>2008</th>\n",
              "      <td>7672.000000</td>\n",
              "      <td>7439.000000</td>\n",
              "      <td>7665.000000</td>\n",
              "      <td>7585.000000</td>\n",
              "      <td>7570.0000</td>\n",
              "      <td>7515.00000</td>\n",
              "      <td>7723.000000</td>\n",
              "      <td>7600.000000</td>\n",
              "      <td>8163.000000</td>\n",
              "    </tr>\n",
              "    <tr>\n",
              "      <th>2009</th>\n",
              "      <td>7578.000000</td>\n",
              "      <td>7568.000000</td>\n",
              "      <td>7722.000000</td>\n",
              "      <td>7541.000000</td>\n",
              "      <td>7518.0000</td>\n",
              "      <td>7510.00000</td>\n",
              "      <td>7755.000000</td>\n",
              "      <td>7547.000000</td>\n",
              "      <td>8134.000000</td>\n",
              "    </tr>\n",
              "    <tr>\n",
              "      <th>2010</th>\n",
              "      <td>7544.000000</td>\n",
              "      <td>7508.000000</td>\n",
              "      <td>7552.000000</td>\n",
              "      <td>7583.000000</td>\n",
              "      <td>7704.0000</td>\n",
              "      <td>7519.00000</td>\n",
              "      <td>7694.000000</td>\n",
              "      <td>7601.000000</td>\n",
              "      <td>7968.000000</td>\n",
              "    </tr>\n",
              "    <tr>\n",
              "      <th>2011</th>\n",
              "      <td>NaN</td>\n",
              "      <td>7418.000000</td>\n",
              "      <td>7382.000000</td>\n",
              "      <td>NaN</td>\n",
              "      <td>NaN</td>\n",
              "      <td>7480.00000</td>\n",
              "      <td>NaN</td>\n",
              "      <td>7589.000000</td>\n",
              "      <td>8047.000000</td>\n",
              "    </tr>\n",
              "    <tr>\n",
              "      <th>moyenne</th>\n",
              "      <td>7883.371429</td>\n",
              "      <td>7922.315789</td>\n",
              "      <td>7891.061224</td>\n",
              "      <td>7815.909091</td>\n",
              "      <td>8075.1875</td>\n",
              "      <td>7695.16129</td>\n",
              "      <td>7928.560976</td>\n",
              "      <td>7937.028571</td>\n",
              "      <td>8133.393939</td>\n",
              "    </tr>\n",
              "  </tbody>\n",
              "</table>\n",
              "</div>"
            ],
            "text/plain": [
              "ville      AMSTERDAM       BERLIN       BOSTON      CHICAGO    FUKUOKA  \\\n",
              "annee                                                                    \n",
              "2008     7672.000000  7439.000000  7665.000000  7585.000000  7570.0000   \n",
              "2009     7578.000000  7568.000000  7722.000000  7541.000000  7518.0000   \n",
              "2010     7544.000000  7508.000000  7552.000000  7583.000000  7704.0000   \n",
              "2011             NaN  7418.000000  7382.000000          NaN        NaN   \n",
              "moyenne  7883.371429  7922.315789  7891.061224  7815.909091  8075.1875   \n",
              "\n",
              "ville        LONDON     NEW YORK        PARIS     STOCKOLM  \n",
              "annee                                                       \n",
              "2008     7515.00000  7723.000000  7600.000000  8163.000000  \n",
              "2009     7510.00000  7755.000000  7547.000000  8134.000000  \n",
              "2010     7519.00000  7694.000000  7601.000000  7968.000000  \n",
              "2011     7480.00000          NaN  7589.000000  8047.000000  \n",
              "moyenne  7695.16129  7928.560976  7937.028571  8133.393939  "
            ]
          },
          "execution_count": null,
          "metadata": {},
          "output_type": "execute_result"
        }
      ],
      "source": [
        "import pandas, urllib.request\n",
        "from ensae_teaching_cs.data import marathon\n",
        "df = pandas.read_csv(marathon(filename=True), \n",
        "                     sep=\"\\t\", names=[\"ville\", \"annee\", \"temps\",\"secondes\"])\n",
        "piv = df.pivot(\"annee\",\"ville\",\"secondes\")\n",
        "gr = df[[\"ville\",\"secondes\"]].groupby(\"ville\", as_index=False).mean()\n",
        "gr[\"annee\"] = \"moyenne\"\n",
        "pivmean = gr.pivot(\"annee\",\"ville\",\"secondes\")\n",
        "\n",
        "pandas.concat([piv, pivmean]).tail()"
      ]
    },
    {
      "cell_type": "markdown",
      "metadata": {},
      "source": [
        "<h3 id=\"exo4\">Exercice 4 : \u00e9cart entre les mari\u00e9s</h3>\n",
        "\n",
        "1. En ajoutant une colonne et en utilisant l'op\u00e9ration [group by](http://pandas.pydata.org/pandas-docs/stable/groupby.html), on veut obtenir la distribution du nombre de mariages en fonction de l'\u00e9cart entre les mari\u00e9s. Au besoin, on changera le type d'une colone ou deux.\n",
        "2. On veut tracer un nuage de points avec en abscisse l'\u00e2ge du mari, en ordonn\u00e9e, l'\u00e2ge de la femme. Il faudra peut-\u00eatre jeter un coup d'oeil sur la documentation de la m\u00e9thode [plot](http://pandas.pydata.org/pandas-docs/stable/generated/pandas.DataFrame.plot.html)."
      ]
    },
    {
      "cell_type": "code",
      "execution_count": null,
      "metadata": {},
      "outputs": [
        {
          "name": "stdout",
          "output_type": "stream",
          "text": [
            "Download of etatcivil2012_mar2012_dbase.zip: DONE!\n",
            "Download of etatcivil2012_nais2012_dbase.zip: DONE!\n",
            "Download of etatcivil2012_dec2012_dbase.zip: DONE!\n"
          ]
        }
      ],
      "source": [
        "import urllib.request\n",
        "import zipfile\n",
        "\n",
        "def download_and_save(name, root_url):\n",
        "    try:\n",
        "        response = urllib.request.urlopen(root_url+name)\n",
        "    except (TimeoutError, urllib.request.URLError):\n",
        "        # back up plan\n",
        "        root_url = \"http://www.xavierdupre.fr/enseignement/complements/\"\n",
        "        response = urllib.request.urlopen(root_url+name)\n",
        "    with open(name, \"wb\") as outfile:\n",
        "        outfile.write(response.read())\n",
        "\n",
        "def unzip(name):\n",
        "    with zipfile.ZipFile(name, \"r\") as z:\n",
        "        z.extractall(\".\")\n",
        "\n",
        "filenames = [\"etatcivil2012_mar2012_dbase.zip\", \n",
        "             \"etatcivil2012_nais2012_dbase.zip\",\n",
        "             \"etatcivil2012_dec2012_dbase.zip\", ]\n",
        "root_url = 'http://telechargement.insee.fr/fichiersdetail/etatcivil2012/dbase/'\n",
        "\n",
        "for filename in filenames:\n",
        "    download_and_save(filename, root_url)\n",
        "    unzip(filename)\n",
        "    print(\"Download of {}: DONE!\".format(filename))"
      ]
    },
    {
      "cell_type": "code",
      "execution_count": null,
      "metadata": {},
      "outputs": [
        {
          "name": "stdout",
          "output_type": "stream",
          "text": [
            "use of zipped version\n",
            "(246123, 16) Index(['AMAR', 'ANAISF', 'ANAISH', 'DEPDOM', 'DEPMAR', 'DEPNAISF', 'DEPNAISH',\n",
            "       'ETAMATF', 'ETAMATH', 'INDNATF', 'INDNATH', 'JSEMAINE', 'MMAR',\n",
            "       'NBENFCOM', 'TUCOM', 'TUDOM'],\n",
            "      dtype='object')\n"
          ]
        },
        {
          "data": {
            "text/html": [
              "<div>\n",
              "<table border=\"1\" class=\"dataframe\">\n",
              "  <thead>\n",
              "    <tr style=\"text-align: right;\">\n",
              "      <th></th>\n",
              "      <th>AMAR</th>\n",
              "      <th>ANAISF</th>\n",
              "      <th>ANAISH</th>\n",
              "      <th>DEPDOM</th>\n",
              "      <th>DEPMAR</th>\n",
              "      <th>DEPNAISF</th>\n",
              "      <th>DEPNAISH</th>\n",
              "      <th>ETAMATF</th>\n",
              "      <th>ETAMATH</th>\n",
              "      <th>INDNATF</th>\n",
              "      <th>INDNATH</th>\n",
              "      <th>JSEMAINE</th>\n",
              "      <th>MMAR</th>\n",
              "      <th>NBENFCOM</th>\n",
              "      <th>TUCOM</th>\n",
              "      <th>TUDOM</th>\n",
              "    </tr>\n",
              "  </thead>\n",
              "  <tbody>\n",
              "    <tr>\n",
              "      <th>0</th>\n",
              "      <td>2012</td>\n",
              "      <td>1984</td>\n",
              "      <td>1982</td>\n",
              "      <td>99</td>\n",
              "      <td>29</td>\n",
              "      <td>99</td>\n",
              "      <td>75</td>\n",
              "      <td>1</td>\n",
              "      <td>1</td>\n",
              "      <td>2</td>\n",
              "      <td>1</td>\n",
              "      <td>1</td>\n",
              "      <td>1</td>\n",
              "      <td>N</td>\n",
              "      <td>NaN</td>\n",
              "      <td>9</td>\n",
              "    </tr>\n",
              "    <tr>\n",
              "      <th>1</th>\n",
              "      <td>2012</td>\n",
              "      <td>1969</td>\n",
              "      <td>1956</td>\n",
              "      <td>99</td>\n",
              "      <td>75</td>\n",
              "      <td>99</td>\n",
              "      <td>69</td>\n",
              "      <td>4</td>\n",
              "      <td>4</td>\n",
              "      <td>2</td>\n",
              "      <td>2</td>\n",
              "      <td>3</td>\n",
              "      <td>1</td>\n",
              "      <td>N</td>\n",
              "      <td>NaN</td>\n",
              "      <td>9</td>\n",
              "    </tr>\n",
              "    <tr>\n",
              "      <th>2</th>\n",
              "      <td>2012</td>\n",
              "      <td>1992</td>\n",
              "      <td>1982</td>\n",
              "      <td>99</td>\n",
              "      <td>34</td>\n",
              "      <td>99</td>\n",
              "      <td>99</td>\n",
              "      <td>1</td>\n",
              "      <td>1</td>\n",
              "      <td>1</td>\n",
              "      <td>2</td>\n",
              "      <td>5</td>\n",
              "      <td>1</td>\n",
              "      <td>N</td>\n",
              "      <td>NaN</td>\n",
              "      <td>9</td>\n",
              "    </tr>\n",
              "    <tr>\n",
              "      <th>3</th>\n",
              "      <td>2012</td>\n",
              "      <td>1987</td>\n",
              "      <td>1985</td>\n",
              "      <td>99</td>\n",
              "      <td>13</td>\n",
              "      <td>84</td>\n",
              "      <td>99</td>\n",
              "      <td>1</td>\n",
              "      <td>1</td>\n",
              "      <td>1</td>\n",
              "      <td>2</td>\n",
              "      <td>4</td>\n",
              "      <td>1</td>\n",
              "      <td>N</td>\n",
              "      <td>NaN</td>\n",
              "      <td>9</td>\n",
              "    </tr>\n",
              "    <tr>\n",
              "      <th>4</th>\n",
              "      <td>2012</td>\n",
              "      <td>1963</td>\n",
              "      <td>1968</td>\n",
              "      <td>99</td>\n",
              "      <td>26</td>\n",
              "      <td>99</td>\n",
              "      <td>99</td>\n",
              "      <td>1</td>\n",
              "      <td>1</td>\n",
              "      <td>2</td>\n",
              "      <td>2</td>\n",
              "      <td>6</td>\n",
              "      <td>1</td>\n",
              "      <td>N</td>\n",
              "      <td>NaN</td>\n",
              "      <td>9</td>\n",
              "    </tr>\n",
              "  </tbody>\n",
              "</table>\n",
              "</div>"
            ],
            "text/plain": [
              "   AMAR  ANAISF  ANAISH DEPDOM DEPMAR DEPNAISF DEPNAISH  ETAMATF  ETAMATH  \\\n",
              "0  2012    1984    1982     99     29       99       75        1        1   \n",
              "1  2012    1969    1956     99     75       99       69        4        4   \n",
              "2  2012    1992    1982     99     34       99       99        1        1   \n",
              "3  2012    1987    1985     99     13       84       99        1        1   \n",
              "4  2012    1963    1968     99     26       99       99        1        1   \n",
              "\n",
              "   INDNATF  INDNATH  JSEMAINE  MMAR NBENFCOM TUCOM  TUDOM  \n",
              "0        2        1         1     1        N   NaN      9  \n",
              "1        2        2         3     1        N   NaN      9  \n",
              "2        1        2         5     1        N   NaN      9  \n",
              "3        1        2         4     1        N   NaN      9  \n",
              "4        2        2         6     1        N   NaN      9  "
            ]
          },
          "execution_count": null,
          "metadata": {},
          "output_type": "execute_result"
        }
      ],
      "source": [
        "import pandas\n",
        "try:\n",
        "    from dbfread_ import DBF\n",
        "    use_dbfread = True\n",
        "except ImportError as e :\n",
        "    use_dbfread = False\n",
        "    \n",
        "if use_dbfread:\n",
        "    print(\"use of dbfread\")\n",
        "    def dBase2df(dbase_filename):\n",
        "        table = DBF(dbase_filename, load=True, encoding=\"cp437\")\n",
        "        return pandas.DataFrame(table.records)\n",
        "\n",
        "    df = dBase2df('mar2012.dbf')\n",
        "else :\n",
        "    print(\"use of zipped version\")\n",
        "    import pyensae\n",
        "    data = pyensae.download_data(\"mar2012.zip\")\n",
        "    df = pandas.read_csv(data[0], sep=\"\\t\", encoding=\"utf8\", low_memory=False)  \n",
        "    \n",
        "print(df.shape, df.columns)\n",
        "df.head()"
      ]
    },
    {
      "cell_type": "code",
      "execution_count": null,
      "metadata": {},
      "outputs": [
        {
          "data": {
            "text/html": [
              "<div>\n",
              "<table border=\"1\" class=\"dataframe\">\n",
              "  <thead>\n",
              "    <tr style=\"text-align: right;\">\n",
              "      <th></th>\n",
              "      <th>AMAR</th>\n",
              "      <th>ANAISF</th>\n",
              "      <th>ANAISH</th>\n",
              "      <th>DEPDOM</th>\n",
              "      <th>DEPMAR</th>\n",
              "      <th>DEPNAISF</th>\n",
              "      <th>DEPNAISH</th>\n",
              "      <th>ETAMATF</th>\n",
              "      <th>ETAMATH</th>\n",
              "      <th>INDNATF</th>\n",
              "      <th>INDNATH</th>\n",
              "      <th>JSEMAINE</th>\n",
              "      <th>MMAR</th>\n",
              "      <th>NBENFCOM</th>\n",
              "      <th>TUCOM</th>\n",
              "      <th>TUDOM</th>\n",
              "      <th>ageH</th>\n",
              "      <th>ageF</th>\n",
              "    </tr>\n",
              "  </thead>\n",
              "  <tbody>\n",
              "    <tr>\n",
              "      <th>0</th>\n",
              "      <td>2012</td>\n",
              "      <td>1984</td>\n",
              "      <td>1982</td>\n",
              "      <td>99</td>\n",
              "      <td>29</td>\n",
              "      <td>99</td>\n",
              "      <td>75</td>\n",
              "      <td>1</td>\n",
              "      <td>1</td>\n",
              "      <td>2</td>\n",
              "      <td>1</td>\n",
              "      <td>1</td>\n",
              "      <td>1</td>\n",
              "      <td>N</td>\n",
              "      <td>NaN</td>\n",
              "      <td>9</td>\n",
              "      <td>32</td>\n",
              "      <td>30</td>\n",
              "    </tr>\n",
              "    <tr>\n",
              "      <th>1</th>\n",
              "      <td>2012</td>\n",
              "      <td>1969</td>\n",
              "      <td>1956</td>\n",
              "      <td>99</td>\n",
              "      <td>75</td>\n",
              "      <td>99</td>\n",
              "      <td>69</td>\n",
              "      <td>4</td>\n",
              "      <td>4</td>\n",
              "      <td>2</td>\n",
              "      <td>2</td>\n",
              "      <td>3</td>\n",
              "      <td>1</td>\n",
              "      <td>N</td>\n",
              "      <td>NaN</td>\n",
              "      <td>9</td>\n",
              "      <td>58</td>\n",
              "      <td>45</td>\n",
              "    </tr>\n",
              "    <tr>\n",
              "      <th>2</th>\n",
              "      <td>2012</td>\n",
              "      <td>1992</td>\n",
              "      <td>1982</td>\n",
              "      <td>99</td>\n",
              "      <td>34</td>\n",
              "      <td>99</td>\n",
              "      <td>99</td>\n",
              "      <td>1</td>\n",
              "      <td>1</td>\n",
              "      <td>1</td>\n",
              "      <td>2</td>\n",
              "      <td>5</td>\n",
              "      <td>1</td>\n",
              "      <td>N</td>\n",
              "      <td>NaN</td>\n",
              "      <td>9</td>\n",
              "      <td>32</td>\n",
              "      <td>22</td>\n",
              "    </tr>\n",
              "    <tr>\n",
              "      <th>3</th>\n",
              "      <td>2012</td>\n",
              "      <td>1987</td>\n",
              "      <td>1985</td>\n",
              "      <td>99</td>\n",
              "      <td>13</td>\n",
              "      <td>84</td>\n",
              "      <td>99</td>\n",
              "      <td>1</td>\n",
              "      <td>1</td>\n",
              "      <td>1</td>\n",
              "      <td>2</td>\n",
              "      <td>4</td>\n",
              "      <td>1</td>\n",
              "      <td>N</td>\n",
              "      <td>NaN</td>\n",
              "      <td>9</td>\n",
              "      <td>29</td>\n",
              "      <td>27</td>\n",
              "    </tr>\n",
              "    <tr>\n",
              "      <th>4</th>\n",
              "      <td>2012</td>\n",
              "      <td>1963</td>\n",
              "      <td>1968</td>\n",
              "      <td>99</td>\n",
              "      <td>26</td>\n",
              "      <td>99</td>\n",
              "      <td>99</td>\n",
              "      <td>1</td>\n",
              "      <td>1</td>\n",
              "      <td>2</td>\n",
              "      <td>2</td>\n",
              "      <td>6</td>\n",
              "      <td>1</td>\n",
              "      <td>N</td>\n",
              "      <td>NaN</td>\n",
              "      <td>9</td>\n",
              "      <td>46</td>\n",
              "      <td>51</td>\n",
              "    </tr>\n",
              "  </tbody>\n",
              "</table>\n",
              "</div>"
            ],
            "text/plain": [
              "   AMAR  ANAISF  ANAISH DEPDOM DEPMAR DEPNAISF DEPNAISH  ETAMATF  ETAMATH  \\\n",
              "0  2012    1984    1982     99     29       99       75        1        1   \n",
              "1  2012    1969    1956     99     75       99       69        4        4   \n",
              "2  2012    1992    1982     99     34       99       99        1        1   \n",
              "3  2012    1987    1985     99     13       84       99        1        1   \n",
              "4  2012    1963    1968     99     26       99       99        1        1   \n",
              "\n",
              "   INDNATF  INDNATH  JSEMAINE  MMAR NBENFCOM TUCOM  TUDOM  ageH  ageF  \n",
              "0        2        1         1     1        N   NaN      9    32    30  \n",
              "1        2        2         3     1        N   NaN      9    58    45  \n",
              "2        1        2         5     1        N   NaN      9    32    22  \n",
              "3        1        2         4     1        N   NaN      9    29    27  \n",
              "4        2        2         6     1        N   NaN      9    46    51  "
            ]
          },
          "execution_count": null,
          "metadata": {},
          "output_type": "execute_result"
        }
      ],
      "source": [
        "df[\"ageH\"] = df.apply (lambda r:  2014 - int(r[\"ANAISH\"]), axis=1)\n",
        "df[\"ageF\"] = df.apply (lambda r:  2014 - int(r[\"ANAISF\"]), axis=1)\n",
        "df.head()"
      ]
    },
    {
      "cell_type": "code",
      "execution_count": null,
      "metadata": {},
      "outputs": [
        {
          "data": {
            "text/plain": [
              "<matplotlib.axes._subplots.AxesSubplot at 0x19b71f57cf8>"
            ]
          },
          "execution_count": null,
          "metadata": {},
          "output_type": "execute_result"
        },
        {
          "data": {
            "image/png": "[encoded data removed]",
            "text/plain": [
              "<matplotlib.figure.Figure at 0x19b71f55ba8>"
            ]
          },
          "metadata": {},
          "output_type": "display_data"
        }
      ],
      "source": [
        "df.plot(x=\"ageH\",y=\"ageF\", kind=\"scatter\")"
      ]
    },
    {
      "cell_type": "code",
      "execution_count": null,
      "metadata": {},
      "outputs": [
        {
          "data": {
            "text/plain": [
              "<matplotlib.axes._subplots.AxesSubplot at 0x19b74a29550>"
            ]
          },
          "execution_count": null,
          "metadata": {},
          "output_type": "execute_result"
        },
        {
          "data": {
            "image/png": "[encoded data removed]",
            "text/plain": [
              "<matplotlib.figure.Figure at 0x19b6dd142b0>"
            ]
          },
          "metadata": {},
          "output_type": "display_data"
        }
      ],
      "source": [
        "df.plot(x=\"ageH\",y=\"ageF\", kind=\"hexbin\")"
      ]
    },
    {
      "cell_type": "markdown",
      "metadata": {},
      "source": [
        "<h3 id=\"exo5\">Exercice 5 : graphe de la distribution avec pandas</h3>\n",
        "\n",
        "Le module ``pandas`` propose un panel de graphiques standard faciles \u00e0 obtenir. On souhaite repr\u00e9senter la distribution sous forme d'histogramme. A vous de choisir le meilleure graphique depuis la page [Visualization](http://pandas.pydata.org/pandas-docs/stable/visualization.html)."
      ]
    },
    {
      "cell_type": "code",
      "execution_count": null,
      "metadata": {},
      "outputs": [
        {
          "data": {
            "text/plain": [
              "<matplotlib.axes._subplots.AxesSubplot at 0x19b76390b00>"
            ]
          },
          "execution_count": null,
          "metadata": {},
          "output_type": "execute_result"
        },
        {
          "data": {
            "image/png": "[encoded data removed]",
            "text/plain": [
              "<matplotlib.figure.Figure at 0x19b75513a58>"
            ]
          },
          "metadata": {},
          "output_type": "display_data"
        }
      ],
      "source": [
        "df[\"ANAISH\"] = df.apply (lambda r:  int(r[\"ANAISH\"]), axis=1)\n",
        "df[\"ANAISF\"] = df.apply (lambda r:  int(r[\"ANAISF\"]), axis=1)\n",
        "df[\"differenceHF\"] = df.ANAISH - df.ANAISF\n",
        "df[\"nb\"] = 1\n",
        "dist = df[[\"nb\",\"differenceHF\"]].groupby(\"differenceHF\", as_index=False).count()\n",
        "df[\"differenceHF\"].hist(figsize=(16,6), bins=50)"
      ]
    },
    {
      "cell_type": "markdown",
      "metadata": {},
      "source": [
        "<h3 id=\"exo6\">Exercice 6 : distribution des mariages par jour</h3>\n",
        "    \n",
        "On veut obtenir un graphe qui contient l'histogramme de la distribution du nombre de mariages par jour de la semaine et d'ajouter une seconde courbe correspond avec un second axe \u00e0 la r\u00e9partition cumul\u00e9e.\n"
      ]
    },
    {
      "cell_type": "code",
      "execution_count": null,
      "metadata": {},
      "outputs": [
        {
          "data": {
            "text/plain": [
              "<matplotlib.text.Text at 0x19b71cee978>"
            ]
          },
          "execution_count": null,
          "metadata": {},
          "output_type": "execute_result"
        },
        {
          "data": {
            "image/png": "[encoded data removed]",
            "text/plain": [
              "<matplotlib.figure.Figure at 0x19b754a9e10>"
            ]
          },
          "metadata": {},
          "output_type": "display_data"
        }
      ],
      "source": [
        "df[\"nb\"] = 1\n",
        "dissem = df[[\"JSEMAINE\",\"nb\"]].groupby(\"JSEMAINE\",as_index=False).sum()\n",
        "total = dissem[\"nb\"].sum()\n",
        "repsem = dissem.cumsum() \n",
        "repsem[\"nb\"] /= total\n",
        "\n",
        "ax = dissem[\"nb\"].plot(kind=\"bar\")\n",
        "repsem[\"nb\"].plot(ax=ax, secondary_y=True)\n",
        "ax.set_title(\"distribution des mariages par jour de la semaine\")"
      ]
    },
    {
      "cell_type": "code",
      "execution_count": null,
      "metadata": {},
      "outputs": [],
      "source": []
    }
  ],
  "metadata": {
    "kernelspec": {
      "display_name": "Python 3",
      "language": "python",
      "name": "python3"
    },
    "language_info": {
      "codemirror_mode": {
        "name": "ipython",
        "version": 3
      },
      "file_extension": ".py",
      "mimetype": "text/x-python",
      "name": "python",
      "nbconvert_exporter": "python",
      "pygments_lexer": "ipython3",
      "version": "3.6.1"
    }
  },
  "nbformat": 4,
  "nbformat_minor": 1
}