{
  "cells": [
    {
      "cell_type": "markdown",
      "metadata": {},
      "source": [
        "# Machine Learning et donn\u00e9es crypt\u00e9es - correction\n",
        "\n",
        "Comment faire du machine learning avec des donn\u00e9es crypt\u00e9es ? Ce notebook propose d'en montrer un principe expos\u00e9s [CryptoNets: Applying Neural Networks to Encrypted Data with High Throughput and Accuracy](http://proceedings.mlr.press/v48/gilad-bachrach16.pdf). Correction."
      ]
    },
    {
      "cell_type": "code",
      "execution_count": null,
      "metadata": {
        "collapsed": true
      },
      "outputs": [],
      "source": [
        "%matplotlib inline"
      ]
    },
    {
      "cell_type": "code",
      "execution_count": null,
      "metadata": {},
      "outputs": [
        {
          "data": {
            "text/html": [
              "<div id=\"my_id_menu_nb\">run previous cell, wait for 2 seconds</div>\n",
              "<script>\n",
              "function repeat_indent_string(n){\n",
              "    var a = \"\" ;\n",
              "    for ( ; n > 0 ; --n)\n",
              "        a += \"    \";\n",
              "    return a;\n",
              "}\n",
              "var update_menu_string = function(begin, lfirst, llast, sformat, send, keep_item, begin_format, end_format) {\n",
              "    var anchors = document.getElementsByClassName(\"section\");\n",
              "    if (anchors.length == 0) {\n",
              "        anchors = document.getElementsByClassName(\"text_cell_render rendered_html\");\n",
              "    }\n",
              "    var i,t;\n",
              "    var text_menu = begin;\n",
              "    var text_memo = \"<pre>\\nlength:\" + anchors.length + \"\\n\";\n",
              "    var ind = \"\";\n",
              "    var memo_level = 1;\n",
              "    var href;\n",
              "    var tags = [];\n",
              "    var main_item = 0;\n",
              "    var format_open = 0;\n",
              "    for (i = 0; i <= llast; i++)\n",
              "        tags.push(\"h\" + i);\n",
              "\n",
              "    for (i = 0; i < anchors.length; i++) {\n",
              "        text_memo += \"**\" + anchors[i].id + \"--\\n\";\n",
              "\n",
              "        var child = null;\n",
              "        for(t = 0; t < tags.length; t++) {\n",
              "            var r = anchors[i].getElementsByTagName(tags[t]);\n",
              "            if (r.length > 0) {\n",
              "child = r[0];\n",
              "break;\n",
              "            }\n",
              "        }\n",
              "        if (child == null) {\n",
              "            text_memo += \"null\\n\";\n",
              "            continue;\n",
              "        }\n",
              "        if (anchors[i].hasAttribute(\"id\")) {\n",
              "            // when converted in RST\n",
              "            href = anchors[i].id;\n",
              "            text_memo += \"#1-\" + href;\n",
              "            // passer \u00e0 child suivant (le chercher)\n",
              "        }\n",
              "        else if (child.hasAttribute(\"id\")) {\n",
              "            // in a notebook\n",
              "            href = child.id;\n",
              "            text_memo += \"#2-\" + href;\n",
              "        }\n",
              "        else {\n",
              "            text_memo += \"#3-\" + \"*\" + \"\\n\";\n",
              "            continue;\n",
              "        }\n",
              "        var title = child.textContent;\n",
              "        var level = parseInt(child.tagName.substring(1,2));\n",
              "\n",
              "        text_memo += \"--\" + level + \"?\" + lfirst + \"--\" + title + \"\\n\";\n",
              "\n",
              "        if ((level < lfirst) || (level > llast)) {\n",
              "            continue ;\n",
              "        }\n",
              "        if (title.endsWith('\u00b6')) {\n",
              "            title = title.substring(0,title.length-1).replace(\"<\", \"&lt;\")\n",
              "         .replace(\">\", \"&gt;\").replace(\"&\", \"&amp;\");\n",
              "        }\n",
              "        if (title.length == 0) {\n",
              "            continue;\n",
              "        }\n",
              "\n",
              "        while (level < memo_level) {\n",
              "            text_menu += end_format + \"</ul>\\n\";\n",
              "            format_open -= 1;\n",
              "            memo_level -= 1;\n",
              "        }\n",
              "        if (level == lfirst) {\n",
              "            main_item += 1;\n",
              "        }\n",
              "        if (keep_item != -1 && main_item != keep_item + 1) {\n",
              "            // alert(main_item + \" - \" + level + \" - \" + keep_item);\n",
              "            continue;\n",
              "        }\n",
              "        while (level > memo_level) {\n",
              "            text_menu += \"<ul>\\n\";\n",
              "            memo_level += 1;\n",
              "        }\n",
              "        text_menu += repeat_indent_string(level-2);\n",
              "        text_menu += begin_format + sformat.replace(\"__HREF__\", href).replace(\"__TITLE__\", title);\n",
              "        format_open += 1;\n",
              "    }\n",
              "    while (1 < memo_level) {\n",
              "        text_menu += end_format + \"</ul>\\n\";\n",
              "        memo_level -= 1;\n",
              "        format_open -= 1;\n",
              "    }\n",
              "    text_menu += send;\n",
              "    //text_menu += \"\\n\" + text_memo;\n",
              "\n",
              "    while (format_open > 0) {\n",
              "        text_menu += end_format;\n",
              "        format_open -= 1;\n",
              "    }\n",
              "    return text_menu;\n",
              "};\n",
              "var update_menu = function() {\n",
              "    var sbegin = \"\";\n",
              "    var sformat = '<a href=\"#__HREF__\">__TITLE__</a>';\n",
              "    var send = \"\";\n",
              "    var begin_format = '<li>';\n",
              "    var end_format = '</li>';\n",
              "    var keep_item = -1;\n",
              "    var text_menu = update_menu_string(sbegin, 2, 4, sformat, send, keep_item,\n",
              "       begin_format, end_format);\n",
              "    var menu = document.getElementById(\"my_id_menu_nb\");\n",
              "    menu.innerHTML=text_menu;\n",
              "};\n",
              "window.setTimeout(update_menu,2000);\n",
              "            </script>"
            ],
            "text/plain": [
              "<IPython.core.display.HTML object>"
            ]
          },
          "execution_count": null,
          "metadata": {},
          "output_type": "execute_result"
        }
      ],
      "source": [
        "from jyquickhelper import add_notebook_menu\n",
        "add_notebook_menu()"
      ]
    },
    {
      "cell_type": "markdown",
      "metadata": {},
      "source": [
        "**Principe**\n",
        "\n",
        "Voir l'\u00e9nonc\u00e9."
      ]
    },
    {
      "cell_type": "markdown",
      "metadata": {},
      "source": [
        "## Exercice 1 : \u00e9crire deux fonctions de cryptage, d\u00e9cryptage\n",
        "\n",
        "Il faut bien choisir $n$, $a$ pour impl\u00e9menter la fonction de cryptage :\n",
        "$\\varepsilon:\\mathbb{N} \\rightarrow \\mathbb{Z}/n\\mathbb{Z}$ et $\\varepsilon(x) = (x * a) \\mod n$. On v\u00e9rifie ensuite qu'elle conserve l'addition."
      ]
    },
    {
      "cell_type": "code",
      "execution_count": null,
      "metadata": {},
      "outputs": [
        {
          "data": {
            "text/plain": [
              "(2885, 3462)"
            ]
          },
          "execution_count": null,
          "metadata": {},
          "output_type": "execute_result"
        }
      ],
      "source": [
        "def compose(x, a, n):\n",
        "    return (a * x) % n\n",
        "\n",
        "def crypt(x):\n",
        "    return compose(x, 577, 10000)\n",
        "\n",
        "crypt(5), crypt(6)"
      ]
    },
    {
      "cell_type": "code",
      "execution_count": null,
      "metadata": {},
      "outputs": [
        {
          "data": {
            "text/plain": [
              "(6347, 6347)"
            ]
          },
          "execution_count": null,
          "metadata": {},
          "output_type": "execute_result"
        }
      ],
      "source": [
        "crypt(5+6), (crypt(5) + crypt(6)) % 10000"
      ]
    },
    {
      "cell_type": "code",
      "execution_count": null,
      "metadata": {},
      "outputs": [
        {
          "data": {
            "text/plain": [
              "(577, 577)"
            ]
          },
          "execution_count": null,
          "metadata": {},
          "output_type": "execute_result"
        }
      ],
      "source": [
        "crypt(6-5), (crypt(6) - crypt(5)) % 10000"
      ]
    },
    {
      "cell_type": "code",
      "execution_count": null,
      "metadata": {},
      "outputs": [
        {
          "data": {
            "text/plain": [
              "(9423, 9423)"
            ]
          },
          "execution_count": null,
          "metadata": {},
          "output_type": "execute_result"
        }
      ],
      "source": [
        "crypt(5-6), (crypt(5) - crypt(6)) % 10000"
      ]
    },
    {
      "cell_type": "markdown",
      "metadata": {},
      "source": [
        "Si $a=47$, on cherche $a',k$ tel que $aa' - nk=1$."
      ]
    },
    {
      "cell_type": "code",
      "execution_count": null,
      "metadata": {},
      "outputs": [
        {
          "data": {
            "text/plain": [
              "2513"
            ]
          },
          "execution_count": null,
          "metadata": {},
          "output_type": "execute_result"
        }
      ],
      "source": [
        "n = 10000\n",
        "for k in range(2, n):\n",
        "    if (577*k) % n == 1:\n",
        "        ap = k\n",
        "        break\n",
        "ap"
      ]
    },
    {
      "cell_type": "code",
      "execution_count": null,
      "metadata": {},
      "outputs": [
        {
          "data": {
            "text/plain": [
              "(5, 6)"
            ]
          },
          "execution_count": null,
          "metadata": {},
          "output_type": "execute_result"
        }
      ],
      "source": [
        "def decrypt(x):\n",
        "    return compose(x, 2513, 10000)\n",
        "\n",
        "decrypt(crypt(5)), decrypt(crypt(6))"
      ]
    },
    {
      "cell_type": "code",
      "execution_count": null,
      "metadata": {},
      "outputs": [
        {
          "data": {
            "text/plain": [
              "(335, 335)"
            ]
          },
          "execution_count": null,
          "metadata": {},
          "output_type": "execute_result"
        }
      ],
      "source": [
        "decrypt(crypt(5)*67), decrypt(crypt(5*67))"
      ]
    },
    {
      "cell_type": "markdown",
      "metadata": {},
      "source": [
        "## Exercice 2 : Entra\u00eener une r\u00e9gression lin\u00e9aire"
      ]
    },
    {
      "cell_type": "code",
      "execution_count": null,
      "metadata": {
        "collapsed": true
      },
      "outputs": [],
      "source": [
        "from sklearn.datasets import load_diabetes\n",
        "data = load_diabetes()"
      ]
    },
    {
      "cell_type": "code",
      "execution_count": null,
      "metadata": {
        "collapsed": true
      },
      "outputs": [],
      "source": [
        "X = data.data\n",
        "Y = data.target"
      ]
    },
    {
      "cell_type": "code",
      "execution_count": null,
      "metadata": {},
      "outputs": [
        {
          "data": {
            "text/plain": [
              "LinearRegression(copy_X=True, fit_intercept=True, n_jobs=1, normalize=False)"
            ]
          },
          "execution_count": null,
          "metadata": {},
          "output_type": "execute_result"
        }
      ],
      "source": [
        "from sklearn.linear_model import LinearRegression\n",
        "clr = LinearRegression()\n",
        "clr.fit(X, Y)"
      ]
    },
    {
      "cell_type": "code",
      "execution_count": null,
      "metadata": {},
      "outputs": [
        {
          "data": {
            "text/plain": [
              "(array([ 206.11706979]), 151.0)"
            ]
          },
          "execution_count": null,
          "metadata": {},
          "output_type": "execute_result"
        }
      ],
      "source": [
        "clr.predict(X[:1]), Y[0]"
      ]
    },
    {
      "cell_type": "code",
      "execution_count": null,
      "metadata": {},
      "outputs": [
        {
          "data": {
            "text/plain": [
              "0.51774942541329338"
            ]
          },
          "execution_count": null,
          "metadata": {},
          "output_type": "execute_result"
        }
      ],
      "source": [
        "r2_score(Y, clr.predict(X))"
      ]
    },
    {
      "cell_type": "markdown",
      "metadata": {},
      "source": [
        "On consid\u00e8re seulement la fonction de d\u00e9cision brute car c'est une fonction qui peut-\u00eatre calcul\u00e9e \u00e0 partir d'additions et de multiplications. Pour la suite, nous aurons besoin d'un mod\u00e8le qui fonctionne sur des variables normalis\u00e9es avec [MinMaxScaler](http://scikit-learn.org/stable/modules/generated/sklearn.preprocessing.MinMaxScaler.html). On supprime \u00e9galement le biais pour le remplacer par une colonne constante."
      ]
    },
    {
      "cell_type": "code",
      "execution_count": null,
      "metadata": {},
      "outputs": [],
      "source": [
        "from sklearn.preprocessing import MinMaxScaler\n",
        "import numpy\n",
        "X_norm = numpy.hstack([MinMaxScaler((0, 100)).fit_transform(X), \n",
        "                       numpy.ones((X.shape[0], 1))])\n",
        "Y_norm = MinMaxScaler((0, 100)).fit_transform(Y.reshape(len(Y), 1)).ravel()"
      ]
    },
    {
      "cell_type": "code",
      "execution_count": null,
      "metadata": {},
      "outputs": [
        {
          "data": {
            "text/plain": [
              "(0.0, 100.0)"
            ]
          },
          "execution_count": null,
          "metadata": {},
          "output_type": "execute_result"
        }
      ],
      "source": [
        "Y_norm.min(), Y_norm.max()"
      ]
    },
    {
      "cell_type": "code",
      "execution_count": null,
      "metadata": {},
      "outputs": [
        {
          "data": {
            "text/plain": [
              "LinearRegression(copy_X=True, fit_intercept=False, n_jobs=1, normalize=False)"
            ]
          },
          "execution_count": null,
          "metadata": {},
          "output_type": "execute_result"
        }
      ],
      "source": [
        "clr_norm = LinearRegression(fit_intercept=False)\n",
        "clr_norm.fit(X_norm, Y_norm)"
      ]
    },
    {
      "cell_type": "code",
      "execution_count": null,
      "metadata": {},
      "outputs": [
        {
          "data": {
            "text/plain": [
              "(array([ 56.42276317]), 39.252336448598129)"
            ]
          },
          "execution_count": null,
          "metadata": {},
          "output_type": "execute_result"
        }
      ],
      "source": [
        "clr_norm.predict(X_norm[:1]), Y_norm[0]"
      ]
    },
    {
      "cell_type": "code",
      "execution_count": null,
      "metadata": {},
      "outputs": [
        {
          "data": {
            "text/plain": [
              "0.51774942541329338"
            ]
          },
          "execution_count": null,
          "metadata": {},
          "output_type": "execute_result"
        }
      ],
      "source": [
        "from sklearn.metrics import r2_score\n",
        "r2_score(Y_norm, clr_norm.predict(X_norm))"
      ]
    },
    {
      "cell_type": "markdown",
      "metadata": {},
      "source": [
        "## Exercice 3 : r\u00e9\u00e9crire la fonction de pr\u00e9diction pour une r\u00e9gression lin\u00e9aire\n",
        "\n",
        "La fonction est un produit scalaire."
      ]
    },
    {
      "cell_type": "code",
      "execution_count": null,
      "metadata": {
        "collapsed": true
      },
      "outputs": [],
      "source": [
        "def decision_linreg(xs, coef, bias):\n",
        "    s = bias\n",
        "    xs = xs.copy().ravel()\n",
        "    coef = coef.copy().ravel()\n",
        "    if xs.shape != coef.shape:\n",
        "        raise ValueError(\"Not the same dimension {0}!={1}\".format(xs.shape, coef.shape))\n",
        "    for x, c in zip(xs, coef):\n",
        "        s += c * x\n",
        "    return s"
      ]
    },
    {
      "cell_type": "code",
      "execution_count": null,
      "metadata": {},
      "outputs": [
        {
          "data": {
            "text/plain": [
              "[0.038075906433424102,\n",
              " 0.050680118739818703,\n",
              " 0.061696206518688498,\n",
              " 0.021872354994955798,\n",
              " -0.044223498424446402]"
            ]
          },
          "execution_count": null,
          "metadata": {},
          "output_type": "execute_result"
        }
      ],
      "source": [
        "list(X[0])[:5]"
      ]
    },
    {
      "cell_type": "code",
      "execution_count": null,
      "metadata": {},
      "outputs": [
        {
          "data": {
            "text/plain": [
              "(array([ 206.11706979]), 206.1170697870923)"
            ]
          },
          "execution_count": null,
          "metadata": {},
          "output_type": "execute_result"
        }
      ],
      "source": [
        "clr.predict(X[:1]), decision_linreg(X[:1], clr.coef_, clr.intercept_)"
      ]
    },
    {
      "cell_type": "code",
      "execution_count": null,
      "metadata": {},
      "outputs": [
        {
          "data": {
            "text/plain": [
              "(array([ 56.42276317]), 56.422763173548944)"
            ]
          },
          "execution_count": null,
          "metadata": {},
          "output_type": "execute_result"
        }
      ],
      "source": [
        "clr_norm.predict(X_norm[:1]), decision_linreg(X_norm[:1], clr_norm.coef_, clr_norm.intercept_)"
      ]
    },
    {
      "cell_type": "markdown",
      "metadata": {},
      "source": [
        "## Exercice 4 : assembler le tout\n",
        "\n",
        "Prendre une observation, crypter, pr\u00e9dire, d\u00e9crypter, comparer avec la version non crypt\u00e9e. Il faudra sans doute un peu ruser car la fonction de cryptage s'applique \u00e0 des entiers et le mod\u00e8le de pr\u00e9diction \u00e0 des r\u00e9els. On multiplie par 10000 les variables. Comme le cryptage que nous avons choisi ne conserve que l'addition, nous garderons les mod\u00e8les en clair."
      ]
    },
    {
      "cell_type": "code",
      "execution_count": null,
      "metadata": {},
      "outputs": [
        {
          "data": {
            "text/plain": [
              "[0, -7, 42, 24, -69, 46, 8, 14, 60, 5, -843]"
            ]
          },
          "execution_count": null,
          "metadata": {},
          "output_type": "execute_result"
        }
      ],
      "source": [
        "coef_int = [int(i) for i in clr_norm.coef_ * 100]\n",
        "coef_int"
      ]
    },
    {
      "cell_type": "code",
      "execution_count": null,
      "metadata": {},
      "outputs": [
        {
          "data": {
            "text/plain": [
              "0"
            ]
          },
          "execution_count": null,
          "metadata": {},
          "output_type": "execute_result"
        }
      ],
      "source": [
        "inter_int = int(clr_norm.intercept_ * 10000)\n",
        "inter_int"
      ]
    },
    {
      "cell_type": "code",
      "execution_count": null,
      "metadata": {},
      "outputs": [
        {
          "data": {
            "text/plain": [
              "(56.422763173548944, 54.65)"
            ]
          },
          "execution_count": null,
          "metadata": {},
          "output_type": "execute_result"
        }
      ],
      "source": [
        "import numpy\n",
        "\n",
        "\n",
        "def decision_linreg_int(xs, coef):\n",
        "    s = 0\n",
        "    for x, c in zip(xs, coef):\n",
        "        s += c * x\n",
        "    return s % 10000\n",
        "\n",
        "def decision_crypt_decrypt_linreg(xs, coef_int):\n",
        "    # On crypte les entr\u00e9es\n",
        "    int_xs = [int(x) for x in xs.ravel()]\n",
        "    crypt_xs = [crypt(i) for i in int_xs]\n",
        "    # On applique la pr\u00e9diction.\n",
        "    pred = decision_linreg_int(crypt_xs, coef_int)\n",
        "    # On d\u00e9crypte.\n",
        "    dec = decrypt(pred % 10000)\n",
        "    return dec / 100\n",
        "\n",
        "(decision_linreg(X_norm[:1], clr_norm.coef_, clr_norm.intercept_), \n",
        " decision_crypt_decrypt_linreg(X_norm[0], coef_int))"
      ]
    },
    {
      "cell_type": "code",
      "execution_count": null,
      "metadata": {},
      "outputs": [
        {
          "name": "stdout",
          "output_type": "stream",
          "text": [
            "0 56.4227631735 54.65\n",
            "1 13.4181768255 11.59\n",
            "2 47.3159066512 45.73\n",
            "3 44.2112042336 42.02\n",
            "4 32.2304805013 30.26\n"
          ]
        },
        {
          "data": {
            "text/plain": [
              "[<matplotlib.lines.Line2D at 0x1c0020a9588>]"
            ]
          },
          "execution_count": null,
          "metadata": {},
          "output_type": "execute_result"
        },
        {
          "data": {
            "image/png": "[encoded data removed]",
            "text/plain": [
              "<matplotlib.figure.Figure at 0x1c001da12b0>"
            ]
          },
          "metadata": {},
          "output_type": "display_data"
        }
      ],
      "source": [
        "p1s = []\n",
        "p2s = []\n",
        "for i in range(0, X_norm.shape[0]):\n",
        "    p1 = decision_linreg(X_norm[i:i+1], clr_norm.coef_, clr_norm.intercept_)\n",
        "    p2 = decision_crypt_decrypt_linreg(X_norm[i], coef_int)\n",
        "    if i < 5:\n",
        "        print(i, p1, p2)\n",
        "    p1s.append(p1)\n",
        "    p2s.append(p2)\n",
        "\n",
        "import matplotlib.pyplot as plt\n",
        "plt.plot(p1s, p2s, '.')"
      ]
    },
    {
      "cell_type": "markdown",
      "metadata": {},
      "source": [
        "**Notes**\n",
        "\n",
        "Les coefficients sont en clair mais les donn\u00e9es sont crypt\u00e9es. Pour crypter les coefficients du mod\u00e8le, il faudrait pouvoir s'assurer que l'addition et la multiplication sont stables apr\u00e8s le cryptage. Cela n\u00e9cessite un cryptage diff\u00e9rent comme [Fully Homomorphic Encryption over the Integers](https://eprint.iacr.org/2009/616.pdf). Les entiers crypt\u00e9s sont dans l'intervalle [0, 10000], cela veut dire qu'il est pr\u00e9f\u00e9rable de crypter des entiers dans un intervalle \u00e9quivalent sous peine de ne pouvoir d\u00e9crypter avec certitude. Ceci implique que l'algorithme fasse des calculs qui restent dans cet intervalle. C'est pourquoi les entr\u00e9es et les sorties prennent leur valeur dans l'intervalle [0, 100] afin que le produit *coefficient x entr\u00e9e* reste dans l'intervalle consid\u00e9r\u00e9."
      ]
    },
    {
      "cell_type": "markdown",
      "metadata": {},
      "source": [
        "## Questions\n",
        "\n",
        "Le cryptage choisi est moins efficace qu'un cryptage RSA qui conserve la multiplication. Il faudrait transformer l'\u00e9criture du mod\u00e8le pour utiliser des multiplications plut\u00f4t que des additions. On peut entra\u00eener un mod\u00e8le sur des donn\u00e9es crypt\u00e9es si on peut reproduire l'addition et la multiplication avec les nombres crypt\u00e9s. Une option est le cryptage : [Fully Homomorphic Encryption over the Integers](https://eprint.iacr.org/2009/616.pdf). Cela implique qu'on peut approcher toute fonction par un polyn\u00f4me (voir [d\u00e9veloppement limit\u00e9](https://fr.wikipedia.org/wiki/D%C3%A9veloppement_limit%C3%A9)). Le gradient d'un polyn\u00f4me est un polyn\u00f4me \u00e9galement. Il est possible de calculer la norme du gradient crypt\u00e9 mais pas de la comparer \u00e0 une autre valeur crypt\u00e9es.\n",
        "\n",
        "De ce fait les arbres de d\u00e9cision se pr\u00eatent mal \u00e0 ce type d'apprentissage puisque chaque noeud de l'arbre consiste \u00e0 comparer deux valeurs. Cependant, on peut s'en sortir en imposant \u00e0 l'algorithme d'apprentissage d'un arbre de d\u00e9cision de ne s'appuyer sur des \u00e9galit\u00e9s. Cela n\u00e9cessite plus de coefficients et la discr\u00e9tisation des variables continues. Il reste une derni\u00e8re chose \u00e0 v\u00e9rifier. Chaque noeud d'un arbre de d\u00e9cision est d\u00e9termin\u00e9 en maximisant une quantit\u00e9. Comment trouver le maximum dans un ensemble de donn\u00e9es crypt\u00e9es qu'on ne peut comparer ? On utilise une propri\u00e9t\u00e9 des normes :\n",
        "\n",
        "$$\\lim_{d \\rightarrow \\infty} (x^d + y^d)^{1/d} = \\max(x, y)$$\n",
        "\n",
        "Il existe d'autres options : [Machine Learning Classification over Encrypted Data](https://eprint.iacr.org/2014/331.pdf)."
      ]
    },
    {
      "cell_type": "code",
      "execution_count": null,
      "metadata": {
        "collapsed": true
      },
      "outputs": [],
      "source": []
    }
  ],
  "metadata": {
    "kernelspec": {
      "display_name": "Python 3",
      "language": "python",
      "name": "python3"
    },
    "language_info": {
      "codemirror_mode": {
        "name": "ipython",
        "version": 3
      },
      "file_extension": ".py",
      "mimetype": "text/x-python",
      "name": "python",
      "nbconvert_exporter": "python",
      "pygments_lexer": "ipython3",
      "version": "3.6.1"
    }
  },
  "nbformat": 4,
  "nbformat_minor": 2
}