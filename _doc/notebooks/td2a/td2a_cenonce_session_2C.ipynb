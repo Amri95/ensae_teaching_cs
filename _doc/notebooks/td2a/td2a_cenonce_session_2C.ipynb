{
  "cells": [
    {
      "cell_type": "markdown",
      "metadata": {},
      "source": [
        "# 2A.soft - Jupyter et commandes magiques\n",
        "\n",
        "Pour \u00eatre inventif, il faut \u00eatre un peu paresseux. Cela explique parfois la syntaxe peu compr\u00e9hensible mais r\u00e9duite de certaines instructions. Cela explique sans doute aussi que [Jupyter](http://jupyter.org/) offre la possibilit\u00e9 de d\u00e9finir des [commandes magiques](http://ipython.readthedocs.io/en/stable/config/custommagics.html) qu'on peut interpr\u00e9ter comme des raccourcis. ``%`` pour une ligne, ``%%`` pour une cellule."
      ]
    },
    {
      "cell_type": "code",
      "execution_count": 1,
      "metadata": {},
      "outputs": [
        {
          "data": {
            "text/html": [
              "<div id=\"my_id_menu_nb\">run previous cell, wait for 2 seconds</div>\n",
              "<script>\n",
              "function repeat_indent_string(n){\n",
              "    var a = \"\" ;\n",
              "    for ( ; n > 0 ; --n)\n",
              "        a += \"    \";\n",
              "    return a;\n",
              "}\n",
              "var update_menu_string = function(begin, lfirst, llast, sformat, send, keep_item, begin_format, end_format) {\n",
              "    var anchors = document.getElementsByClassName(\"section\");\n",
              "    if (anchors.length == 0) {\n",
              "        anchors = document.getElementsByClassName(\"text_cell_render rendered_html\");\n",
              "    }\n",
              "    var i,t;\n",
              "    var text_menu = begin;\n",
              "    var text_memo = \"<pre>\\nlength:\" + anchors.length + \"\\n\";\n",
              "    var ind = \"\";\n",
              "    var memo_level = 1;\n",
              "    var href;\n",
              "    var tags = [];\n",
              "    var main_item = 0;\n",
              "    var format_open = 0;\n",
              "    for (i = 0; i <= llast; i++)\n",
              "        tags.push(\"h\" + i);\n",
              "\n",
              "    for (i = 0; i < anchors.length; i++) {\n",
              "        text_memo += \"**\" + anchors[i].id + \"--\\n\";\n",
              "\n",
              "        var child = null;\n",
              "        for(t = 0; t < tags.length; t++) {\n",
              "            var r = anchors[i].getElementsByTagName(tags[t]);\n",
              "            if (r.length > 0) {\n",
              "child = r[0];\n",
              "break;\n",
              "            }\n",
              "        }\n",
              "        if (child == null) {\n",
              "            text_memo += \"null\\n\";\n",
              "            continue;\n",
              "        }\n",
              "        if (anchors[i].hasAttribute(\"id\")) {\n",
              "            // when converted in RST\n",
              "            href = anchors[i].id;\n",
              "            text_memo += \"#1-\" + href;\n",
              "            // passer \u00e0 child suivant (le chercher)\n",
              "        }\n",
              "        else if (child.hasAttribute(\"id\")) {\n",
              "            // in a notebook\n",
              "            href = child.id;\n",
              "            text_memo += \"#2-\" + href;\n",
              "        }\n",
              "        else {\n",
              "            text_memo += \"#3-\" + \"*\" + \"\\n\";\n",
              "            continue;\n",
              "        }\n",
              "        var title = child.textContent;\n",
              "        var level = parseInt(child.tagName.substring(1,2));\n",
              "\n",
              "        text_memo += \"--\" + level + \"?\" + lfirst + \"--\" + title + \"\\n\";\n",
              "\n",
              "        if ((level < lfirst) || (level > llast)) {\n",
              "            continue ;\n",
              "        }\n",
              "        if (title.endsWith('\u00b6')) {\n",
              "            title = title.substring(0,title.length-1).replace(\"<\", \"&lt;\")\n",
              "         .replace(\">\", \"&gt;\").replace(\"&\", \"&amp;\");\n",
              "        }\n",
              "        if (title.length == 0) {\n",
              "            continue;\n",
              "        }\n",
              "\n",
              "        while (level < memo_level) {\n",
              "            text_menu += end_format + \"</ul>\\n\";\n",
              "            format_open -= 1;\n",
              "            memo_level -= 1;\n",
              "        }\n",
              "        if (level == lfirst) {\n",
              "            main_item += 1;\n",
              "        }\n",
              "        if (keep_item != -1 && main_item != keep_item + 1) {\n",
              "            // alert(main_item + \" - \" + level + \" - \" + keep_item);\n",
              "            continue;\n",
              "        }\n",
              "        while (level > memo_level) {\n",
              "            text_menu += \"<ul>\\n\";\n",
              "            memo_level += 1;\n",
              "        }\n",
              "        text_menu += repeat_indent_string(level-2);\n",
              "        text_menu += begin_format + sformat.replace(\"__HREF__\", href).replace(\"__TITLE__\", title);\n",
              "        format_open += 1;\n",
              "    }\n",
              "    while (1 < memo_level) {\n",
              "        text_menu += end_format + \"</ul>\\n\";\n",
              "        memo_level -= 1;\n",
              "        format_open -= 1;\n",
              "    }\n",
              "    text_menu += send;\n",
              "    //text_menu += \"\\n\" + text_memo;\n",
              "\n",
              "    while (format_open > 0) {\n",
              "        text_menu += end_format;\n",
              "        format_open -= 1;\n",
              "    }\n",
              "    return text_menu;\n",
              "};\n",
              "var update_menu = function() {\n",
              "    var sbegin = \"\";\n",
              "    var sformat = '<a href=\"#__HREF__\">__TITLE__</a>';\n",
              "    var send = \"\";\n",
              "    var begin_format = '<li>';\n",
              "    var end_format = '</li>';\n",
              "    var keep_item = -1;\n",
              "    var text_menu = update_menu_string(sbegin, 2, 4, sformat, send, keep_item,\n",
              "       begin_format, end_format);\n",
              "    var menu = document.getElementById(\"my_id_menu_nb\");\n",
              "    menu.innerHTML=text_menu;\n",
              "};\n",
              "window.setTimeout(update_menu,2000);\n",
              "            </script>"
            ],
            "text/plain": [
              "<IPython.core.display.HTML object>"
            ]
          },
          "execution_count": 2,
          "metadata": {},
          "output_type": "execute_result"
        }
      ],
      "source": [
        "from jyquickhelper import add_notebook_menu\n",
        "add_notebook_menu()"
      ]
    },
    {
      "cell_type": "markdown",
      "metadata": {},
      "source": [
        "## Commande magique\n",
        "\n",
        "Ce sont des raccourcis. Si vous n'avez plus envie d'\u00e9crire le m\u00eame code tous les jours alors peut-\u00eatre que vous avez envie de cr\u00e9er une commande magique. C'est une fonctionnalit\u00e9 des notebooks Jupyter. L'exemple suivant cr\u00e9e une commande magique qui g\u00e9n\u00e8re une s\u00e9quence de nombre al\u00e9atoire dans le notebook. On l'appelle ``RND``. Cela se passe en trois \u00e9tapes :\n",
        "\n",
        "* impl\u00e9mentation de la commande\n",
        "* d\u00e9claration de la commande (pour Jupyter)\n",
        "* utilisation de la commande\n",
        "\n",
        "C'est l'objet des trois cellules qui suivent."
      ]
    },
    {
      "cell_type": "code",
      "execution_count": 3,
      "metadata": {
        "collapsed": true
      },
      "outputs": [],
      "source": [
        "import random\n",
        "from IPython.core.magic import Magics, magics_class, line_magic, cell_magic, line_cell_magic\n",
        " \n",
        "@magics_class\n",
        "class CustomMagics(Magics):\n",
        " \n",
        "    @line_magic\n",
        "    def RND(self, line):\n",
        "        return [ random.random() for i in range(0,int(line))]"
      ]
    },
    {
      "cell_type": "code",
      "execution_count": 4,
      "metadata": {
        "collapsed": true
      },
      "outputs": [],
      "source": [
        "ip = get_ipython()\n",
        "ip.register_magics(CustomMagics)"
      ]
    },
    {
      "cell_type": "code",
      "execution_count": 5,
      "metadata": {},
      "outputs": [
        {
          "data": {
            "text/plain": [
              "[0.7597340836812444,\n",
              " 0.7417183818784308,\n",
              " 0.5919053129335919,\n",
              " 0.42644466969431216,\n",
              " 0.025703336169412228,\n",
              " 0.37317015957688837,\n",
              " 0.5240186951312955,\n",
              " 0.47640296529847126,\n",
              " 0.9582206394610842,\n",
              " 0.2766903488489415,\n",
              " 0.3163718095585957,\n",
              " 0.2540976883769992,\n",
              " 0.41766681610331,\n",
              " 0.7107081118267403,\n",
              " 0.5675086760409057,\n",
              " 0.23741203524882026,\n",
              " 0.3511910318651611,\n",
              " 0.5027315091097999,\n",
              " 0.7218048703284364,\n",
              " 0.89482670010109]"
            ]
          },
          "execution_count": 6,
          "metadata": {},
          "output_type": "execute_result"
        }
      ],
      "source": [
        "%RND 20"
      ]
    },
    {
      "cell_type": "markdown",
      "metadata": {},
      "source": [
        "## Exercice 1 : votre propre magique commande\n",
        "\n",
        "Je voulais vous demander comme exercice d'\u00e9crire une commande magique qui [envoie un mail](http://en.wikibooks.org/wiki/Python_Programming/Email). On pourrait imaginer une commande qui r\u00e9cup\u00e8re les messages facebook. Finalement, ce sera une commande magique ``%plot`` qui dessine le graphe de vos r\u00eaves. Vous pourrez perfectionner votre commande magique en lisant cette page [Registering callbacks](http://jupyter-notebook.readthedocs.io/en/latest/examples/Notebook/JavaScript%20Notebook%20Extensions.html#Register-a-callback).\n",
        "\n",
        "**Remarque :** Si vous d\u00e9cidez d'automatiser l'envoi des mails, prenez garde de ne pas \u00e9crire votre mot de passe dans le code de votre programme surtout si son code est disponible sur [GitHub](https://github.com/). Il est pr\u00e9f\u00e9rable de le demander \u00e0 chaque fois ou de le stocker de fa\u00e7on crypt\u00e9e :\n",
        "\n",
        "* [django](https://github.com/django/django/blob/master/django/contrib/auth/hashers.py#L216)\n",
        "* [keyring](https://bitbucket.org/kang/python-keyring-lib)"
      ]
    },
    {
      "cell_type": "code",
      "execution_count": 7,
      "metadata": {
        "collapsed": true
      },
      "outputs": [],
      "source": []
    }
  ],
  "metadata": {
    "kernelspec": {
      "display_name": "Python 3",
      "language": "python",
      "name": "python3"
    },
    "language_info": {
      "codemirror_mode": {
        "name": "ipython",
        "version": 3
      },
      "file_extension": ".py",
      "mimetype": "text/x-python",
      "name": "python",
      "nbconvert_exporter": "python",
      "pygments_lexer": "ipython3",
      "version": "3.6.1"
    }
  },
  "nbformat": 4,
  "nbformat_minor": 1
}