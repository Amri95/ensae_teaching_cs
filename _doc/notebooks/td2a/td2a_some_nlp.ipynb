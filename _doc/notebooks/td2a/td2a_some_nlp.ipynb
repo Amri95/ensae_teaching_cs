{
  "cells": [
    {
      "cell_type": "markdown",
      "metadata": {},
      "source": [
        "# 2A.ml - Texte et machine learning\n",
        "\n",
        "Revue de m\u00e9thodes de [word embedding](https://en.wikipedia.org/wiki/Word_embedding) statistiques (~ [NLP](https://en.wikipedia.org/wiki/Natural_language_processing)) ou comment transformer une information textuelle en vecteurs dans un espace vectoriel (*features*) ? Deux exercices sont ajout\u00e9s \u00e0 la fin."
      ]
    },
    {
      "cell_type": "code",
      "execution_count": 1,
      "metadata": {},
      "outputs": [
        {
          "data": {
            "text/html": [
              "<div id=\"my_id_menu_nb\">run previous cell, wait for 2 seconds</div>\n",
              "<script>\n",
              "function repeat_indent_string(n){\n",
              "    var a = \"\" ;\n",
              "    for ( ; n > 0 ; --n)\n",
              "        a += \"    \";\n",
              "    return a;\n",
              "}\n",
              "// look up into all sections and builds an automated menu //\n",
              "var update_menu_string = function(begin, lfirst, llast, sformat, send, keep_item, begin_format, end_format) {\n",
              "    var anchors = document.getElementsByClassName(\"section\");\n",
              "    if (anchors.length == 0) {\n",
              "        anchors = document.getElementsByClassName(\"text_cell_render rendered_html\");\n",
              "    }\n",
              "    var i,t;\n",
              "    var text_menu = begin;\n",
              "    var text_memo = \"<pre>\\nlength:\" + anchors.length + \"\\n\";\n",
              "    var ind = \"\";\n",
              "    var memo_level = 1;\n",
              "    var href;\n",
              "    var tags = [];\n",
              "    var main_item = 0;\n",
              "    var format_open = 0;\n",
              "    for (i = 0; i <= llast; i++)\n",
              "        tags.push(\"h\" + i);\n",
              "\n",
              "    for (i = 0; i < anchors.length; i++) {\n",
              "        text_memo += \"**\" + anchors[i].id + \"--\\n\";\n",
              "\n",
              "        var child = null;\n",
              "        for(t = 0; t < tags.length; t++) {\n",
              "            var r = anchors[i].getElementsByTagName(tags[t]);\n",
              "            if (r.length > 0) {\n",
              "child = r[0];\n",
              "break;\n",
              "            }\n",
              "        }\n",
              "        if (child == null) {\n",
              "            text_memo += \"null\\n\";\n",
              "            continue;\n",
              "        }\n",
              "        if (anchors[i].hasAttribute(\"id\")) {\n",
              "            // when converted in RST\n",
              "            href = anchors[i].id;\n",
              "            text_memo += \"#1-\" + href;\n",
              "            // passer \u00e0 child suivant (le chercher)\n",
              "        }\n",
              "        else if (child.hasAttribute(\"id\")) {\n",
              "            // in a notebook\n",
              "            href = child.id;\n",
              "            text_memo += \"#2-\" + href;\n",
              "        }\n",
              "        else {\n",
              "            text_memo += \"#3-\" + \"*\" + \"\\n\";\n",
              "            continue;\n",
              "        }\n",
              "        var title = child.textContent;\n",
              "        var level = parseInt(child.tagName.substring(1,2));\n",
              "\n",
              "        text_memo += \"--\" + level + \"?\" + lfirst + \"--\" + title + \"\\n\";\n",
              "\n",
              "        if ((level < lfirst) || (level > llast)) {\n",
              "            continue ;\n",
              "        }\n",
              "        if (title.endsWith('\u00b6')) {\n",
              "            title = title.substring(0,title.length-1).replace(\"<\", \"&lt;\")\n",
              "         .replace(\">\", \"&gt;\").replace(\"&\", \"&amp;\");\n",
              "        }\n",
              "        if (title.length == 0) {\n",
              "            continue;\n",
              "        }\n",
              "\n",
              "        while (level < memo_level) {\n",
              "            text_menu += end_format + \"</ul>\\n\";\n",
              "            format_open -= 1;\n",
              "            memo_level -= 1;\n",
              "        }\n",
              "        if (level == lfirst) {\n",
              "            main_item += 1;\n",
              "        }\n",
              "        if (keep_item != -1 && main_item != keep_item + 1) {\n",
              "            // alert(main_item + \" - \" + level + \" - \" + keep_item);\n",
              "            continue;\n",
              "        }\n",
              "        while (level > memo_level) {\n",
              "            text_menu += \"<ul>\\n\";\n",
              "            memo_level += 1;\n",
              "        }\n",
              "        text_menu += repeat_indent_string(level-2);\n",
              "        text_menu += begin_format + sformat.replace(\"__HREF__\", href).replace(\"__TITLE__\", title);\n",
              "        format_open += 1;\n",
              "    }\n",
              "    while (1 < memo_level) {\n",
              "        text_menu += end_format + \"</ul>\\n\";\n",
              "        memo_level -= 1;\n",
              "        format_open -= 1;\n",
              "    }\n",
              "    text_menu += send;\n",
              "    //text_menu += \"\\n\" + text_memo;\n",
              "\n",
              "    while (format_open > 0) {\n",
              "        text_menu += end_format;\n",
              "        format_open -= 1;\n",
              "    }\n",
              "    return text_menu;\n",
              "};\n",
              "var update_menu = function() {\n",
              "    var sbegin = \"\";\n",
              "    var sformat = '<a href=\"#__HREF__\">__TITLE__</a>';\n",
              "    var send = \"\";\n",
              "    var begin_format = '<li>';\n",
              "    var end_format = '</li>';\n",
              "    var keep_item = -1;\n",
              "    var text_menu = update_menu_string(sbegin, 2, 4, sformat, send, keep_item,\n",
              "       begin_format, end_format);\n",
              "    var menu = document.getElementById(\"my_id_menu_nb\");\n",
              "    menu.innerHTML=text_menu;\n",
              "};\n",
              "window.setTimeout(update_menu,2000);\n",
              "            </script>"
            ],
            "text/plain": [
              "<IPython.core.display.HTML object>"
            ]
          },
          "execution_count": 2,
          "metadata": {},
          "output_type": "execute_result"
        }
      ],
      "source": [
        "from jyquickhelper import add_notebook_menu\n",
        "add_notebook_menu()"
      ]
    },
    {
      "cell_type": "markdown",
      "metadata": {},
      "source": [
        "## Donn\u00e9es\n",
        "\n",
        "Nous allons travailler sur des donn\u00e9es twitter collect\u00e9es avec le mot-cl\u00e9 macron : [tweets_macron_sijetaispresident_201609.zip](https://github.com/sdpython/ensae_teaching_cs/raw/master/src/ensae_teaching_cs/data/data_web/tweets_macron_sijetaispresident_201609.zip)."
      ]
    },
    {
      "cell_type": "code",
      "execution_count": 2,
      "metadata": {},
      "outputs": [
        {
          "data": {
            "text/html": [
              "<div>\n",
              "<style scoped>\n",
              "    .dataframe tbody tr th:only-of-type {\n",
              "        vertical-align: middle;\n",
              "    }\n",
              "\n",
              "    .dataframe tbody tr th {\n",
              "        vertical-align: top;\n",
              "    }\n",
              "\n",
              "    .dataframe thead th {\n",
              "        text-align: right;\n",
              "    }\n",
              "</style>\n",
              "<table border=\"1\" class=\"dataframe\">\n",
              "  <thead>\n",
              "    <tr style=\"text-align: right;\">\n",
              "      <th></th>\n",
              "      <th>0</th>\n",
              "      <th>1</th>\n",
              "    </tr>\n",
              "  </thead>\n",
              "  <tbody>\n",
              "    <tr>\n",
              "      <th>index</th>\n",
              "      <td>776066992054861825</td>\n",
              "      <td>776067660979245056</td>\n",
              "    </tr>\n",
              "    <tr>\n",
              "      <th>nb_user_mentions</th>\n",
              "      <td>0</td>\n",
              "      <td>0</td>\n",
              "    </tr>\n",
              "    <tr>\n",
              "      <th>nb_extended_entities</th>\n",
              "      <td>0</td>\n",
              "      <td>0</td>\n",
              "    </tr>\n",
              "    <tr>\n",
              "      <th>nb_hashtags</th>\n",
              "      <td>1</td>\n",
              "      <td>1</td>\n",
              "    </tr>\n",
              "    <tr>\n",
              "      <th>geo</th>\n",
              "      <td>NaN</td>\n",
              "      <td>NaN</td>\n",
              "    </tr>\n",
              "    <tr>\n",
              "      <th>text_hashtags</th>\n",
              "      <td>, SiJ\u00e9taisPr\u00e9sident</td>\n",
              "      <td>, SiJ\u00e9taisPr\u00e9sident</td>\n",
              "    </tr>\n",
              "    <tr>\n",
              "      <th>annee</th>\n",
              "      <td>2016</td>\n",
              "      <td>2016</td>\n",
              "    </tr>\n",
              "    <tr>\n",
              "      <th>delimit_mention</th>\n",
              "      <td>NaN</td>\n",
              "      <td>NaN</td>\n",
              "    </tr>\n",
              "    <tr>\n",
              "      <th>lang</th>\n",
              "      <td>fr</td>\n",
              "      <td>fr</td>\n",
              "    </tr>\n",
              "    <tr>\n",
              "      <th>id_str</th>\n",
              "      <td>7.76067e+17</td>\n",
              "      <td>7.76068e+17</td>\n",
              "    </tr>\n",
              "    <tr>\n",
              "      <th>text_mention</th>\n",
              "      <td>NaN</td>\n",
              "      <td>NaN</td>\n",
              "    </tr>\n",
              "    <tr>\n",
              "      <th>retweet_count</th>\n",
              "      <td>4</td>\n",
              "      <td>5</td>\n",
              "    </tr>\n",
              "    <tr>\n",
              "      <th>favorite_count</th>\n",
              "      <td>3</td>\n",
              "      <td>8</td>\n",
              "    </tr>\n",
              "    <tr>\n",
              "      <th>type_extended_entities</th>\n",
              "      <td>[]</td>\n",
              "      <td>[]</td>\n",
              "    </tr>\n",
              "    <tr>\n",
              "      <th>text</th>\n",
              "      <td>#SiJ\u00e9taisPr\u00e9sident se serait la fin du monde.....</td>\n",
              "      <td>#SiJ\u00e9taisPr\u00e9sident je donnerai plus de vacance...</td>\n",
              "    </tr>\n",
              "    <tr>\n",
              "      <th>nb_user_photos</th>\n",
              "      <td>0</td>\n",
              "      <td>0</td>\n",
              "    </tr>\n",
              "    <tr>\n",
              "      <th>nb_urls</th>\n",
              "      <td>0</td>\n",
              "      <td>0</td>\n",
              "    </tr>\n",
              "    <tr>\n",
              "      <th>nb_symbols</th>\n",
              "      <td>0</td>\n",
              "      <td>0</td>\n",
              "    </tr>\n",
              "    <tr>\n",
              "      <th>created_at</th>\n",
              "      <td>Wed Sep 14 14:36:04 +0000 2016</td>\n",
              "      <td>Wed Sep 14 14:38:43 +0000 2016</td>\n",
              "    </tr>\n",
              "    <tr>\n",
              "      <th>delimit_hash</th>\n",
              "      <td>, 0, 18</td>\n",
              "      <td>, 0, 18</td>\n",
              "    </tr>\n",
              "  </tbody>\n",
              "</table>\n",
              "</div>"
            ],
            "text/plain": [
              "                                                                        0  \\\n",
              "index                                                  776066992054861825   \n",
              "nb_user_mentions                                                        0   \n",
              "nb_extended_entities                                                    0   \n",
              "nb_hashtags                                                             1   \n",
              "geo                                                                   NaN   \n",
              "text_hashtags                                         , SiJ\u00e9taisPr\u00e9sident   \n",
              "annee                                                                2016   \n",
              "delimit_mention                                                       NaN   \n",
              "lang                                                                   fr   \n",
              "id_str                                                        7.76067e+17   \n",
              "text_mention                                                          NaN   \n",
              "retweet_count                                                           4   \n",
              "favorite_count                                                          3   \n",
              "type_extended_entities                                                 []   \n",
              "text                    #SiJ\u00e9taisPr\u00e9sident se serait la fin du monde.....   \n",
              "nb_user_photos                                                          0   \n",
              "nb_urls                                                                 0   \n",
              "nb_symbols                                                              0   \n",
              "created_at                                 Wed Sep 14 14:36:04 +0000 2016   \n",
              "delimit_hash                                                      , 0, 18   \n",
              "\n",
              "                                                                        1  \n",
              "index                                                  776067660979245056  \n",
              "nb_user_mentions                                                        0  \n",
              "nb_extended_entities                                                    0  \n",
              "nb_hashtags                                                             1  \n",
              "geo                                                                   NaN  \n",
              "text_hashtags                                         , SiJ\u00e9taisPr\u00e9sident  \n",
              "annee                                                                2016  \n",
              "delimit_mention                                                       NaN  \n",
              "lang                                                                   fr  \n",
              "id_str                                                        7.76068e+17  \n",
              "text_mention                                                          NaN  \n",
              "retweet_count                                                           5  \n",
              "favorite_count                                                          8  \n",
              "type_extended_entities                                                 []  \n",
              "text                    #SiJ\u00e9taisPr\u00e9sident je donnerai plus de vacance...  \n",
              "nb_user_photos                                                          0  \n",
              "nb_urls                                                                 0  \n",
              "nb_symbols                                                              0  \n",
              "created_at                                 Wed Sep 14 14:38:43 +0000 2016  \n",
              "delimit_hash                                                      , 0, 18  "
            ]
          },
          "execution_count": 3,
          "metadata": {},
          "output_type": "execute_result"
        }
      ],
      "source": [
        "from ensae_teaching_cs.data import twitter_zip\n",
        "df = twitter_zip(as_df=True)\n",
        "df.head(n=2).T"
      ]
    },
    {
      "cell_type": "code",
      "execution_count": 3,
      "metadata": {},
      "outputs": [
        {
          "data": {
            "text/plain": [
              "(5088, 20)"
            ]
          },
          "execution_count": 4,
          "metadata": {},
          "output_type": "execute_result"
        }
      ],
      "source": [
        "df.shape"
      ]
    },
    {
      "cell_type": "markdown",
      "metadata": {},
      "source": [
        "5000 tweets n'est pas assez pour tirer des conclusions mais cela donne une id\u00e9e. On supprime les valeurs manquantes."
      ]
    },
    {
      "cell_type": "code",
      "execution_count": 4,
      "metadata": {},
      "outputs": [
        {
          "data": {
            "text/plain": [
              "(5087, 2)"
            ]
          },
          "execution_count": 5,
          "metadata": {},
          "output_type": "execute_result"
        }
      ],
      "source": [
        "data = df[[\"retweet_count\", \"text\"]].dropna()\n",
        "data.shape"
      ]
    },
    {
      "cell_type": "markdown",
      "metadata": {},
      "source": [
        "## Construire une pond\u00e9ration\n",
        "\n",
        "Le texte est toujours d\u00e9licat \u00e0 traiter. Il n'est pas toujours \u00e9vident de sortir d'une information binaire : un mot est-il pr\u00e9sent ou pas. Les mots n'ont aucun sens num\u00e9rique. Une liste de tweets n'a pas beaucoup de sens \u00e0 part les trier par une autre colonne : les retweet par exemple."
      ]
    },
    {
      "cell_type": "code",
      "execution_count": 5,
      "metadata": {},
      "outputs": [
        {
          "data": {
            "text/html": [
              "<div>\n",
              "<style scoped>\n",
              "    .dataframe tbody tr th:only-of-type {\n",
              "        vertical-align: middle;\n",
              "    }\n",
              "\n",
              "    .dataframe tbody tr th {\n",
              "        vertical-align: top;\n",
              "    }\n",
              "\n",
              "    .dataframe thead th {\n",
              "        text-align: right;\n",
              "    }\n",
              "</style>\n",
              "<table border=\"1\" class=\"dataframe\">\n",
              "  <thead>\n",
              "    <tr style=\"text-align: right;\">\n",
              "      <th></th>\n",
              "      <th>retweet_count</th>\n",
              "      <th>text</th>\n",
              "    </tr>\n",
              "  </thead>\n",
              "  <tbody>\n",
              "    <tr>\n",
              "      <th>2038</th>\n",
              "      <td>842.0</td>\n",
              "      <td>#SiJetaisPresident travailler moins pour gagne...</td>\n",
              "    </tr>\n",
              "    <tr>\n",
              "      <th>2453</th>\n",
              "      <td>816.0</td>\n",
              "      <td>#SiJetaisPresident je ferais revenir l'\u00e9t\u00e9 ave...</td>\n",
              "    </tr>\n",
              "    <tr>\n",
              "      <th>2627</th>\n",
              "      <td>529.0</td>\n",
              "      <td>#SiJetaisPresident le mcdo livrerai \u00e0 domicile</td>\n",
              "    </tr>\n",
              "    <tr>\n",
              "      <th>1402</th>\n",
              "      <td>289.0</td>\n",
              "      <td>#SiJetaisPresident les devoirs \u00e7a serait de re...</td>\n",
              "    </tr>\n",
              "    <tr>\n",
              "      <th>2198</th>\n",
              "      <td>276.0</td>\n",
              "      <td>#SiJetaisPresident ? Pr\u00e9sident c'est pour les...</td>\n",
              "    </tr>\n",
              "  </tbody>\n",
              "</table>\n",
              "</div>"
            ],
            "text/plain": [
              "      retweet_count                                               text\n",
              "2038          842.0  #SiJetaisPresident travailler moins pour gagne...\n",
              "2453          816.0  #SiJetaisPresident je ferais revenir l'\u00e9t\u00e9 ave...\n",
              "2627          529.0     #SiJetaisPresident le mcdo livrerai \u00e0 domicile\n",
              "1402          289.0  #SiJetaisPresident les devoirs \u00e7a serait de re...\n",
              "2198          276.0   #SiJetaisPresident ? Pr\u00e9sident c'est pour les..."
            ]
          },
          "execution_count": 6,
          "metadata": {},
          "output_type": "execute_result"
        }
      ],
      "source": [
        "data.sort_values(\"retweet_count\", ascending=False).head()"
      ]
    },
    {
      "cell_type": "markdown",
      "metadata": {},
      "source": [
        "Sans cette colonne qui mesure la popularit\u00e9, il faut trouver un moyen d'extraire de l'information. On d\u00e9coupe alors en mots et on constuire un mod\u00e8le de langage : les [n-grammes](https://fr.wikipedia.org/wiki/N-gramme). Si un tweet est constitu\u00e9 de la s\u00e9quence de mots $(m_1, m_2, ..., m_k)$. On d\u00e9finit sa probabilit\u00e9 comme :\n",
        "\n",
        "$$P(tweet) = P(w_1, w_2) P(w_3 | w_2, w_1) P(w_4 | w_3, w_2) ... P(w_k | w_{k-1}, w_{k-2})$$\n",
        "\n",
        "Dans ce cas, $n=3$ car on suppose que la probabilit\u00e9 d'apparition d'un mot ne d\u00e9pend que des deux pr\u00e9c\u00e9dents. On estime chaque n-grammes comme suit :\n",
        "\n",
        "$$P(c | a, b) = \\frac{ \\# (a, b, c)}{ \\# (a, b)}$$\n",
        "\n",
        "C'est le nombre de fois o\u00f9 on observe la s\u00e9quence $(a,b,c)$ divis\u00e9 par le nombre de fois o\u00f9 on observe la s\u00e9quence $(a,b)$."
      ]
    },
    {
      "cell_type": "markdown",
      "metadata": {},
      "source": [
        "### Tokenisation\n",
        "\n",
        "D\u00e9couper en mots para\u00eet simple ``tweet.split()`` et puis il y a toujours des surprises avec le texte, la prise en compte des tirets, les majuscules, les espaces en trop. On utilse un *tokenizer* d\u00e9di\u00e9 : [TweetTokenizer](http://www.nltk.org/api/nltk.tokenize.html#nltk.tokenize.casual.TweetTokenizer) ou un tokenizer qui prend en compte le langage."
      ]
    },
    {
      "cell_type": "code",
      "execution_count": 6,
      "metadata": {},
      "outputs": [
        {
          "data": {
            "text/plain": [
              "['#sij\u00e9taispr\u00e9sident',\n",
              " 'se',\n",
              " 'serait',\n",
              " 'la',\n",
              " 'fin',\n",
              " 'du',\n",
              " 'monde',\n",
              " '...',\n",
              " 'mdr',\n",
              " '\ud83d\ude02']"
            ]
          },
          "execution_count": 7,
          "metadata": {},
          "output_type": "execute_result"
        }
      ],
      "source": [
        "from nltk.tokenize import TweetTokenizer\n",
        "tknzr = TweetTokenizer(preserve_case=False)\n",
        "tokens = tknzr.tokenize(data.loc[0, \"text\"])\n",
        "tokens"
      ]
    },
    {
      "cell_type": "markdown",
      "metadata": {},
      "source": [
        "### n-grammes\n",
        "\n",
        "* [N-Gram-Based Text Categorization: Categorizing Text With Python](http://blog.alejandronolla.com/2013/05/20/n-gram-based-text-categorization-categorizing-text-with-python/)"
      ]
    },
    {
      "cell_type": "code",
      "execution_count": 7,
      "metadata": {},
      "outputs": [
        {
          "data": {
            "text/plain": [
              "[(None, None, None, '#sij\u00e9taispr\u00e9sident'),\n",
              " (None, None, '#sij\u00e9taispr\u00e9sident', 'se'),\n",
              " (None, '#sij\u00e9taispr\u00e9sident', 'se', 'serait'),\n",
              " ('#sij\u00e9taispr\u00e9sident', 'se', 'serait', 'la'),\n",
              " ('se', 'serait', 'la', 'fin'),\n",
              " ('serait', 'la', 'fin', 'du'),\n",
              " ('la', 'fin', 'du', 'monde'),\n",
              " ('fin', 'du', 'monde', '...'),\n",
              " ('du', 'monde', '...', 'mdr'),\n",
              " ('monde', '...', 'mdr', '\ud83d\ude02'),\n",
              " ('...', 'mdr', '\ud83d\ude02', None),\n",
              " ('mdr', '\ud83d\ude02', None, None),\n",
              " ('\ud83d\ude02', None, None, None)]"
            ]
          },
          "execution_count": 8,
          "metadata": {},
          "output_type": "execute_result"
        }
      ],
      "source": [
        "from nltk.util import ngrams\n",
        "generated_ngrams = ngrams(tokens, 4, pad_left=True, pad_right=True)\n",
        "list(generated_ngrams)"
      ]
    },
    {
      "cell_type": "markdown",
      "metadata": {},
      "source": [
        "### Exercice 1 : calculer des n-grammes sur les tweets"
      ]
    },
    {
      "cell_type": "code",
      "execution_count": 8,
      "metadata": {},
      "outputs": [],
      "source": []
    },
    {
      "cell_type": "markdown",
      "metadata": {},
      "source": [
        "### Nettoyage\n",
        "\n",
        "Tous les mod\u00e8les sont plus stables sans les stop-words, c'est-\u00e0-dire tous les mots pr\u00e9sents dans n'importe quel documents et qui n'apporte pas de sens (\u00e0, de, le, la, ...). Souvent, on enl\u00e8ve les accents, la ponctuation... Moins de variabilit\u00e9 signifie des statistiques plus fiable."
      ]
    },
    {
      "cell_type": "markdown",
      "metadata": {},
      "source": [
        "### Exercice 2 : nettoyer les tweets\n",
        "\n",
        "Voir [stem](http://www.nltk.org/api/nltk.stem.html#module-nltk.stem)."
      ]
    },
    {
      "cell_type": "markdown",
      "metadata": {},
      "source": [
        "## Structure de graphe\n",
        "\n",
        "On cherche cette fois-ci \u00e0 construire des coordonn\u00e9es pour chaque tweet."
      ]
    },
    {
      "cell_type": "markdown",
      "metadata": {},
      "source": [
        "### matrice d'adjacence"
      ]
    },
    {
      "cell_type": "markdown",
      "metadata": {},
      "source": [
        "Une option courante est de d\u00e9couper chaque expression en mots puis de cr\u00e9er une matrice *expression x mot* ou chaque case indique la pr\u00e9sence d'un mot dans une expression."
      ]
    },
    {
      "cell_type": "code",
      "execution_count": 9,
      "metadata": {},
      "outputs": [
        {
          "data": {
            "text/plain": [
              "(5087, 11924)"
            ]
          },
          "execution_count": 10,
          "metadata": {},
          "output_type": "execute_result"
        }
      ],
      "source": [
        "from sklearn.feature_extraction.text import CountVectorizer\n",
        "count_vect = CountVectorizer()\n",
        "counts = count_vect.fit_transform(data[\"text\"])\n",
        "counts.shape"
      ]
    },
    {
      "cell_type": "markdown",
      "metadata": {},
      "source": [
        "On aboutit \u00e0 une matrice sparse ou chaque expression est repr\u00e9sent\u00e9e \u00e0 une vecteur ou chaque 1 repr\u00e9sente l'appartenance d'un mot \u00e0 l'ensemble."
      ]
    },
    {
      "cell_type": "code",
      "execution_count": 10,
      "metadata": {},
      "outputs": [
        {
          "data": {
            "text/plain": [
              "scipy.sparse.csr.csr_matrix"
            ]
          },
          "execution_count": 11,
          "metadata": {},
          "output_type": "execute_result"
        }
      ],
      "source": [
        "type(counts)"
      ]
    },
    {
      "cell_type": "code",
      "execution_count": 11,
      "metadata": {},
      "outputs": [
        {
          "data": {
            "text/plain": [
              "array([[0, 0, 0, 0, 0],\n",
              "       [0, 0, 0, 0, 0],\n",
              "       [0, 0, 0, 0, 0],\n",
              "       [0, 0, 0, 0, 0],\n",
              "       [0, 0, 0, 0, 0]], dtype=int64)"
            ]
          },
          "execution_count": 12,
          "metadata": {},
          "output_type": "execute_result"
        }
      ],
      "source": [
        "counts[:5,:5].toarray()"
      ]
    },
    {
      "cell_type": "code",
      "execution_count": 12,
      "metadata": {},
      "outputs": [
        {
          "data": {
            "text/plain": [
              "'#SiJ\u00e9taisPr\u00e9sident se serait la fin du monde... mdr \ud83d\ude02'"
            ]
          },
          "execution_count": 13,
          "metadata": {},
          "output_type": "execute_result"
        }
      ],
      "source": [
        "data.loc[0,\"text\"]"
      ]
    },
    {
      "cell_type": "code",
      "execution_count": 13,
      "metadata": {},
      "outputs": [
        {
          "data": {
            "text/plain": [
              "8"
            ]
          },
          "execution_count": 14,
          "metadata": {},
          "output_type": "execute_result"
        }
      ],
      "source": [
        "counts[0,:].sum()"
      ]
    },
    {
      "cell_type": "markdown",
      "metadata": {},
      "source": [
        "### td-idf"
      ]
    },
    {
      "cell_type": "markdown",
      "metadata": {},
      "source": [
        "Ce genre de technique produit des matrices de tr\u00e8s grande dimension qu'il faut r\u00e9duire. On peut enlever les mots rares ou les mots tr\u00e8s fr\u00e9quents. [td-idf](https://fr.wikipedia.org/wiki/TF-IDF) est une technique qui vient des moteurs de recherche. Elle construit le m\u00eame type de matrice (m\u00eame dimension) mais associe \u00e0 chaque couple (document - mot) un poids qui d\u00e9pend de la fr\u00e9quence d'un mot globalement et du nombre de documents contenant ce mot.\n",
        "\n",
        "$$idf(t) = \\log \\frac{\\# D}{\\#\\{d \\; | \\; t \\in d \\}}$$\n",
        "\n",
        "O\u00f9 :\n",
        "\n",
        "* $\\#D$ est le nombre de tweets\n",
        "* $\\#\\{d \\; | \\; t \\in d \\}$ est le nombre de tweets contenant le mot $t$"
      ]
    },
    {
      "cell_type": "markdown",
      "metadata": {},
      "source": [
        "$f(t,d)$ est le nombre d'occurences d'un mot $t$ dans un document $d$.\n",
        "\n",
        "$$tf(t,d) = \\frac{1}{2} + \\frac{1}{2} \\frac{f(t,d)}{\\max_{t' \\in d} f(t',d)}$$"
      ]
    },
    {
      "cell_type": "markdown",
      "metadata": {},
      "source": [
        "On construit le nombre $tfidf(t,f)$\n",
        "\n",
        "$$tdidf(t,d) = tf(t,d) idf(t)$$\n",
        "\n",
        "Le terme $idf(t)$ favorise les mots pr\u00e9sent dans peu de documents, le terme $tf(t,f)$ favorise les termes r\u00e9p\u00e9t\u00e9s un grand nombre de fois dans le m\u00eame document. On applique \u00e0 la matrice pr\u00e9c\u00e9dente."
      ]
    },
    {
      "cell_type": "code",
      "execution_count": 14,
      "metadata": {},
      "outputs": [
        {
          "data": {
            "text/plain": [
              "(5087, 11924)"
            ]
          },
          "execution_count": 15,
          "metadata": {},
          "output_type": "execute_result"
        }
      ],
      "source": [
        "from sklearn.feature_extraction.text import TfidfTransformer\n",
        "tfidf = TfidfTransformer()\n",
        "res = tfidf.fit_transform(counts)\n",
        "res.shape"
      ]
    },
    {
      "cell_type": "code",
      "execution_count": 15,
      "metadata": {},
      "outputs": [
        {
          "data": {
            "text/plain": [
              "2.6988143126521047"
            ]
          },
          "execution_count": 16,
          "metadata": {},
          "output_type": "execute_result"
        }
      ],
      "source": [
        "res[0,:].sum()"
      ]
    },
    {
      "cell_type": "markdown",
      "metadata": {},
      "source": [
        "### Exercice 3 : tf-idf sans mot-cl\u00e9s\n",
        "\n",
        "La matrice ainsi cr\u00e9\u00e9e est de grande dimension. Il faut trouver un moyen de la r\u00e9duire avec [TfidfVectorizer](http://scikit-learn.org/stable/modules/generated/sklearn.feature_extraction.text.TfidfVectorizer.html)."
      ]
    },
    {
      "cell_type": "code",
      "execution_count": 16,
      "metadata": {},
      "outputs": [],
      "source": []
    },
    {
      "cell_type": "markdown",
      "metadata": {},
      "source": [
        "### word2vec\n",
        "\n",
        "* [word2vec From theory to practice](http://hen-drik.de/pub/Heuer%20-%20word2vec%20-%20From%20theory%20to%20practice.pdf)\n",
        "* [Efficient Estimation of Word Representations in Vector Space](https://arxiv.org/abs/1301.3781)\n",
        "* [word2vec](https://radimrehurek.com/gensim/models/word2vec.html)\n",
        "\n",
        "Cet algorithme part d'une r\u00e9presentation des mots sous forme de vecteur en un espace de dimension N = le nombre de mots distinct. Un mot est repr\u00e9sent\u00e9 par $(0,0, ..., 0, 1, 0, ..., 0)$. L'astuce consiste \u00e0 r\u00e9duire le nombre de dimensions en compressant avec une ACP, un r\u00e9seau de neurones non lin\u00e9aires."
      ]
    },
    {
      "cell_type": "code",
      "execution_count": 17,
      "metadata": {},
      "outputs": [
        {
          "data": {
            "text/plain": [
              "['#sij\u00e9taispr\u00e9sident',\n",
              " 'se',\n",
              " 'serait',\n",
              " 'la',\n",
              " 'fin',\n",
              " 'du',\n",
              " 'monde',\n",
              " '...',\n",
              " 'mdr',\n",
              " '\ud83d\ude02']"
            ]
          },
          "execution_count": 18,
          "metadata": {},
          "output_type": "execute_result"
        }
      ],
      "source": [
        "sentences = [tknzr.tokenize(_) for _ in data[\"text\"]]\n",
        "sentences[0]"
      ]
    },
    {
      "cell_type": "code",
      "execution_count": 18,
      "metadata": {},
      "outputs": [
        {
          "name": "stderr",
          "output_type": "stream",
          "text": [
            "2019-08-27 22:26:47,360 : INFO : collecting all words and their counts\n",
            "2019-08-27 22:26:47,365 : INFO : PROGRESS: at sentence #0, processed 0 words, keeping 0 word types\n",
            "2019-08-27 22:26:47,416 : INFO : collected 13262 word types from a corpus of 76468 raw words and 5087 sentences\n",
            "2019-08-27 22:26:47,418 : INFO : Loading a fresh vocabulary\n",
            "2019-08-27 22:26:47,541 : INFO : effective_min_count=1 retains 13262 unique words (100% of original 13262, drops 0)\n",
            "2019-08-27 22:26:47,542 : INFO : effective_min_count=1 leaves 76468 word corpus (100% of original 76468, drops 0)\n",
            "2019-08-27 22:26:47,637 : INFO : deleting the raw counts dictionary of 13262 items\n",
            "2019-08-27 22:26:47,639 : INFO : sample=0.001 downsamples 46 most-common words\n",
            "2019-08-27 22:26:47,640 : INFO : downsampling leaves estimated 56080 word corpus (73.3% of prior 76468)\n",
            "2019-08-27 22:26:47,713 : INFO : estimated required memory for 13262 words and 100 dimensions: 17240600 bytes\n",
            "2019-08-27 22:26:47,716 : INFO : resetting layer weights\n",
            "2019-08-27 22:26:52,708 : INFO : training model with 3 workers on 13262 vocabulary and 100 features, using sg=0 hs=0 sample=0.001 negative=5 window=5\n",
            "2019-08-27 22:26:52,805 : INFO : worker thread finished; awaiting finish of 2 more threads\n",
            "2019-08-27 22:26:52,819 : INFO : worker thread finished; awaiting finish of 1 more threads\n",
            "2019-08-27 22:26:52,824 : INFO : worker thread finished; awaiting finish of 0 more threads\n",
            "2019-08-27 22:26:52,826 : INFO : EPOCH - 1 : training on 76468 raw words (56081 effective words) took 0.1s, 612614 effective words/s\n",
            "2019-08-27 22:26:52,920 : INFO : worker thread finished; awaiting finish of 2 more threads\n",
            "2019-08-27 22:26:52,936 : INFO : worker thread finished; awaiting finish of 1 more threads\n",
            "2019-08-27 22:26:52,939 : INFO : worker thread finished; awaiting finish of 0 more threads\n",
            "2019-08-27 22:26:52,941 : INFO : EPOCH - 2 : training on 76468 raw words (56217 effective words) took 0.1s, 573436 effective words/s\n",
            "2019-08-27 22:26:53,039 : INFO : worker thread finished; awaiting finish of 2 more threads\n",
            "2019-08-27 22:26:53,057 : INFO : worker thread finished; awaiting finish of 1 more threads\n",
            "2019-08-27 22:26:53,058 : INFO : worker thread finished; awaiting finish of 0 more threads\n",
            "2019-08-27 22:26:53,059 : INFO : EPOCH - 3 : training on 76468 raw words (56093 effective words) took 0.1s, 557268 effective words/s\n",
            "2019-08-27 22:26:53,159 : INFO : worker thread finished; awaiting finish of 2 more threads\n",
            "2019-08-27 22:26:53,169 : INFO : worker thread finished; awaiting finish of 1 more threads\n",
            "2019-08-27 22:26:53,171 : INFO : worker thread finished; awaiting finish of 0 more threads\n",
            "2019-08-27 22:26:53,173 : INFO : EPOCH - 4 : training on 76468 raw words (56139 effective words) took 0.1s, 588450 effective words/s\n",
            "2019-08-27 22:26:53,272 : INFO : worker thread finished; awaiting finish of 2 more threads\n",
            "2019-08-27 22:26:53,285 : INFO : worker thread finished; awaiting finish of 1 more threads\n",
            "2019-08-27 22:26:53,294 : INFO : worker thread finished; awaiting finish of 0 more threads\n",
            "2019-08-27 22:26:53,296 : INFO : EPOCH - 5 : training on 76468 raw words (56158 effective words) took 0.1s, 558758 effective words/s\n",
            "2019-08-27 22:26:53,298 : INFO : training on a 382340 raw words (280688 effective words) took 0.6s, 477586 effective words/s\n"
          ]
        }
      ],
      "source": [
        "import gensim, logging\n",
        "logging.basicConfig(format='%(asctime)s : %(levelname)s : %(message)s', level=logging.INFO)\n",
        "\n",
        "model = gensim.models.Word2Vec(sentences, min_count=1)"
      ]
    },
    {
      "cell_type": "code",
      "execution_count": 19,
      "metadata": {},
      "outputs": [
        {
          "name": "stderr",
          "output_type": "stream",
          "text": [
            "2019-08-27 22:26:53,308 : INFO : precomputing L2-norms of word weight vectors\n"
          ]
        },
        {
          "data": {
            "text/plain": [
              "[('pays', 0.9997762441635132),\n",
              " ('...', 0.9997516870498657),\n",
              " ('ce', 0.9997488260269165),\n",
              " ('ma', 0.9997472763061523),\n",
              " ('dans', 0.9997463822364807),\n",
              " ('aux', 0.9997367262840271),\n",
              " ('serait', 0.999735951423645),\n",
              " ('au', 0.9997355937957764),\n",
              " ('mon', 0.99973464012146),\n",
              " ('sont', 0.9997326135635376)]"
            ]
          },
          "execution_count": 20,
          "metadata": {},
          "output_type": "execute_result"
        }
      ],
      "source": [
        "model.wv.similar_by_word(\"fin\")"
      ]
    },
    {
      "cell_type": "code",
      "execution_count": 20,
      "metadata": {},
      "outputs": [
        {
          "data": {
            "text/plain": [
              "(100,)"
            ]
          },
          "execution_count": 21,
          "metadata": {},
          "output_type": "execute_result"
        }
      ],
      "source": [
        "model.wv[\"fin\"].shape"
      ]
    },
    {
      "cell_type": "code",
      "execution_count": 21,
      "metadata": {},
      "outputs": [
        {
          "data": {
            "text/plain": [
              "array([ 2.32595250e-01,  2.69504368e-01,  6.57317191e-02, -1.63778067e-01,\n",
              "        2.98107769e-02,  1.43973693e-01, -2.75658280e-01,  1.47964388e-01,\n",
              "        4.25490625e-02,  1.66759137e-02,  1.54966384e-01, -1.97812200e-01,\n",
              "        3.54901105e-02, -1.70589596e-01, -7.84644186e-02, -1.79385781e-01,\n",
              "       -4.96363780e-03, -4.90222909e-02, -1.40104191e-02, -2.18923450e-01,\n",
              "       -1.68525562e-01, -1.17111236e-01, -1.86863635e-02,  6.92968369e-02,\n",
              "       -1.65455744e-01,  2.12157056e-01,  1.72820672e-01, -1.59844220e-01,\n",
              "        1.03320450e-01, -1.33226082e-01, -1.20906383e-01,  5.72424270e-02,\n",
              "       -3.53067756e-01, -2.51862526e-01, -8.87881219e-03, -2.69470382e-02,\n",
              "        3.10455565e-03, -1.56045780e-01, -3.86689082e-02,  8.92276615e-02,\n",
              "        6.16491288e-02, -1.10004105e-01,  1.72906280e-01,  1.54520154e-01,\n",
              "        3.32178503e-01, -1.18936740e-01, -4.14087683e-01, -1.25814110e-01,\n",
              "       -7.06550032e-02,  1.44609332e-01, -7.11866021e-02,  5.05076945e-02,\n",
              "       -1.38344392e-01, -7.07699284e-02, -3.88593614e-01,  4.95251715e-02,\n",
              "       -9.68720466e-02,  1.65556192e-01,  3.32178548e-02, -4.04830649e-03,\n",
              "       -7.50351697e-02,  2.31092736e-01, -4.24880497e-02, -2.17754051e-01,\n",
              "        1.42272621e-01, -1.90135650e-02,  4.59194835e-03, -4.14611495e-05,\n",
              "       -1.59860477e-02, -2.11898208e-01, -3.30838598e-02, -3.85266095e-02,\n",
              "       -1.93522722e-01,  6.58056065e-02,  1.23298422e-01, -1.12771457e-02,\n",
              "        5.45086153e-02,  2.93010473e-01,  7.99539387e-02,  2.86573529e-01,\n",
              "       -8.95702988e-02,  3.14540379e-02, -1.97025128e-02,  1.18431516e-01,\n",
              "       -6.50832281e-02, -1.11422045e-02,  6.01087287e-02, -2.52260953e-01,\n",
              "       -7.19161183e-02, -2.07218483e-01, -1.46282479e-01, -1.39513528e-02,\n",
              "       -8.61635730e-02,  1.38646886e-01, -1.13585591e-01,  5.55804409e-02,\n",
              "        3.42568606e-01, -6.98400661e-02, -6.13498827e-03,  8.57257843e-02],\n",
              "      dtype=float32)"
            ]
          },
          "execution_count": 22,
          "metadata": {},
          "output_type": "execute_result"
        }
      ],
      "source": [
        "model.wv[\"fin\"]"
      ]
    },
    {
      "cell_type": "markdown",
      "metadata": {},
      "source": [
        "## Tagging\n",
        "\n",
        "L'objectif est de tagger les mots comme d\u00e9terminer si un mot est un verbe, un adjectif ..."
      ]
    },
    {
      "cell_type": "markdown",
      "metadata": {},
      "source": [
        "### grammar\n",
        "\n",
        "Voir [html.grammar](http://www.nltk.org/api/nltk.html#module-nltk.grammar)."
      ]
    },
    {
      "cell_type": "markdown",
      "metadata": {},
      "source": [
        "### CRF\n",
        "\n",
        "Voir [CRF](http://www.nltk.org/api/nltk.tag.html)"
      ]
    },
    {
      "cell_type": "markdown",
      "metadata": {},
      "source": [
        "### HMM\n",
        "\n",
        "Voir [HMM](http://www.nltk.org/api/nltk.tag.html#module-nltk.tag.hmm)."
      ]
    },
    {
      "cell_type": "markdown",
      "metadata": {},
      "source": [
        "## Clustering\n",
        "\n",
        "Une fois qu'on a des coordonn\u00e9es, on peut faire plein de choses."
      ]
    },
    {
      "cell_type": "markdown",
      "metadata": {},
      "source": [
        "### LDA\n",
        "\n",
        "* [Latent Dirichlet Application](http://www.jmlr.org/papers/volume3/blei03a/blei03a.pdf)\n",
        "* [LatentDirichletAllocation](http://scikit-learn.org/stable/modules/generated/sklearn.decomposition.LatentDirichletAllocation.html)"
      ]
    },
    {
      "cell_type": "code",
      "execution_count": 22,
      "metadata": {},
      "outputs": [],
      "source": [
        "from sklearn.feature_extraction.text import TfidfVectorizer\n",
        "\n",
        "tfidf_vectorizer = TfidfVectorizer(max_df=0.95, min_df=2,\n",
        "                                   max_features=1000)\n",
        "tfidf = tfidf_vectorizer.fit_transform(data[\"text\"])"
      ]
    },
    {
      "cell_type": "code",
      "execution_count": 23,
      "metadata": {},
      "outputs": [
        {
          "data": {
            "text/plain": [
              "(5087, 1000)"
            ]
          },
          "execution_count": 24,
          "metadata": {},
          "output_type": "execute_result"
        }
      ],
      "source": [
        "tfidf.shape"
      ]
    },
    {
      "cell_type": "code",
      "execution_count": 24,
      "metadata": {},
      "outputs": [],
      "source": [
        "from sklearn.decomposition import NMF, LatentDirichletAllocation\n",
        "lda = LatentDirichletAllocation(n_components=10, max_iter=5,\n",
        "                                learning_method='online',\n",
        "                                learning_offset=50.,\n",
        "                                random_state=0)"
      ]
    },
    {
      "cell_type": "code",
      "execution_count": 25,
      "metadata": {},
      "outputs": [
        {
          "data": {
            "text/plain": [
              "LatentDirichletAllocation(batch_size=128, doc_topic_prior=None,\n",
              "                          evaluate_every=-1, learning_decay=0.7,\n",
              "                          learning_method='online', learning_offset=50.0,\n",
              "                          max_doc_update_iter=100, max_iter=5,\n",
              "                          mean_change_tol=0.001, n_components=10, n_jobs=None,\n",
              "                          perp_tol=0.1, random_state=0, topic_word_prior=None,\n",
              "                          total_samples=1000000.0, verbose=0)"
            ]
          },
          "execution_count": 26,
          "metadata": {},
          "output_type": "execute_result"
        }
      ],
      "source": [
        "lda.fit(tfidf)"
      ]
    },
    {
      "cell_type": "code",
      "execution_count": 26,
      "metadata": {},
      "outputs": [
        {
          "data": {
            "text/plain": [
              "['avoir', 'bac', 'bah']"
            ]
          },
          "execution_count": 27,
          "metadata": {},
          "output_type": "execute_result"
        }
      ],
      "source": [
        "tf_feature_names = tfidf_vectorizer.get_feature_names()\n",
        "tf_feature_names[100:103]"
      ]
    },
    {
      "cell_type": "code",
      "execution_count": 27,
      "metadata": {},
      "outputs": [],
      "source": [
        "def print_top_words(model, feature_names, n_top_words):\n",
        "    for topic_idx, topic in enumerate(model.components_):\n",
        "        print(\"Topic #%d:\" % topic_idx)\n",
        "        print(\" \".join([feature_names[i]\n",
        "                        for i in topic.argsort()[:-n_top_words - 1:-1]]))\n",
        "    print()"
      ]
    },
    {
      "cell_type": "code",
      "execution_count": 28,
      "metadata": {},
      "outputs": [
        {
          "name": "stdout",
          "output_type": "stream",
          "text": [
            "Topic #0:\n",
            "gratuit mcdo supprimerai \u00e9cole soir kebab macdo kfc domicile cc\n",
            "Topic #1:\n",
            "macron co https de la est le il et hollande\n",
            "Topic #2:\n",
            "sijetaispresident je les de la et le des en pour\n",
            "Topic #3:\n",
            "notaires eu organiserais mets carte nouveaux journ\u00e9es installation cache cr\u00e9er\n",
            "Topic #4:\n",
            "sijetaispresident interdirais les je ballerines la serait serais bah de\n",
            "Topic #5:\n",
            "ministre de sijetaispresident la je premier mort et nommerais pr\u00e9sident\n",
            "Topic #6:\n",
            "cours le supprimerais jour sijetaispresident lundi samedi semaine je vendredi\n",
            "Topic #7:\n",
            "port interdirait d\u00e9missionnerais promesses heure rendrai ballerine mes changement christineboutin\n",
            "Topic #8:\n",
            "seraient sijetaispresident gratuits aux les nos putain \u00e9ducation nationale bonne\n",
            "Topic #9:\n",
            "bordel seront l\u00e9galiserai putes gratuites pizza mot virerais vitesse dutreil\n",
            "\n"
          ]
        }
      ],
      "source": [
        "print_top_words(lda, tf_feature_names, 10)"
      ]
    },
    {
      "cell_type": "code",
      "execution_count": 29,
      "metadata": {},
      "outputs": [
        {
          "data": {
            "text/plain": [
              "array([[0.02703569, 0.02703991, 0.75666556, 0.02703569, 0.02704012,\n",
              "        0.02703837, 0.02703696, 0.02703608, 0.02703592, 0.02703569],\n",
              "       [0.02276328, 0.02277087, 0.79511841, 0.02276199, 0.02276289,\n",
              "        0.02276525, 0.02277065, 0.02276215, 0.02276251, 0.02276199],\n",
              "       [0.02318042, 0.79137016, 0.02318268, 0.02318042, 0.02318137,\n",
              "        0.02318192, 0.0231807 , 0.02318045, 0.02318146, 0.02318042],\n",
              "       [0.0294858 , 0.73460096, 0.02949239, 0.0294858 , 0.02949433,\n",
              "        0.0294906 , 0.0294873 , 0.02948597, 0.02948989, 0.02948696],\n",
              "       [0.0260542 , 0.66003211, 0.02607499, 0.0260542 , 0.02605546,\n",
              "        0.13151004, 0.02605456, 0.0260542 , 0.02605602, 0.0260542 ]])"
            ]
          },
          "execution_count": 30,
          "metadata": {},
          "output_type": "execute_result"
        }
      ],
      "source": [
        "tr = lda.transform(tfidf)\n",
        "tr[:5]"
      ]
    },
    {
      "cell_type": "code",
      "execution_count": 30,
      "metadata": {},
      "outputs": [
        {
          "data": {
            "text/plain": [
              "(5087, 10)"
            ]
          },
          "execution_count": 31,
          "metadata": {},
          "output_type": "execute_result"
        }
      ],
      "source": [
        "tr.shape"
      ]
    },
    {
      "cell_type": "code",
      "execution_count": 31,
      "metadata": {},
      "outputs": [],
      "source": [
        "import pyLDAvis\n",
        "import pyLDAvis.sklearn\n",
        "pyLDAvis.enable_notebook()"
      ]
    },
    {
      "cell_type": "code",
      "execution_count": 32,
      "metadata": {},
      "outputs": [
        {
          "name": "stderr",
          "output_type": "stream",
          "text": [
            "c:\\python372_x64\\lib\\site-packages\\pyLDAvis\\_prepare.py:257: FutureWarning: Sorting because non-concatenation axis is not aligned. A future version\n",
            "of pandas will change to not sort by default.\n",
            "\n",
            "To accept the future behavior, pass 'sort=False'.\n",
            "\n",
            "To retain the current behavior and silence the warning, pass 'sort=True'.\n",
            "\n",
            "  return pd.concat([default_term_info] + list(topic_dfs))\n"
          ]
        },
        {
          "data": {
            "text/html": [
              "\n",
              "<link rel=\"stylesheet\" type=\"text/css\" href=\"https://cdn.rawgit.com/bmabey/pyLDAvis/files/ldavis.v1.0.0.css\">\n",
              "\n",
              "\n",
              "<div id=\"ldavis_el5126414906529248087339155282\"></div>\n",
              "<script type=\"text/javascript\">\n",
              "\n",
              "var ldavis_el5126414906529248087339155282_data = {\"mdsDat\": {\"x\": [0.13217175579686619, 0.11523680626642215, 0.17422069193133888, 0.15702571949125338, -0.02109528879145769, 0.00510333284338814, -0.17192863433525696, -0.15773323668367317, -0.10122288133062536, -0.13177826518825544], \"y\": [0.04967795806828054, 0.15847271860312834, 0.09558140544454545, -0.19064918504216158, -0.16205812575652867, -0.062019569322517974, -0.012022226294520462, 0.04282972502029833, 0.01996855556974911, 0.060218743709726706], \"topics\": [1, 2, 3, 4, 5, 6, 7, 8, 9, 10], \"cluster\": [1, 1, 1, 1, 1, 1, 1, 1, 1, 1], \"Freq\": [36.881856619124434, 26.10638865991296, 9.64516040436032, 5.727111011024784, 4.590569976902026, 4.341137498098897, 3.476526924289548, 3.247125567176259, 3.1181812496560406, 2.865942089454734]}, \"tinfo\": {\"Category\": [\"Default\", \"Default\", \"Default\", \"Default\", \"Default\", \"Default\", \"Default\", \"Default\", \"Default\", \"Default\", \"Default\", \"Default\", \"Default\", \"Default\", \"Default\", \"Default\", \"Default\", \"Default\", \"Default\", \"Default\", \"Default\", \"Default\", \"Default\", \"Default\", \"Default\", \"Default\", \"Default\", \"Default\", \"Default\", \"Default\", \"Topic1\", \"Topic1\", \"Topic1\", \"Topic1\", \"Topic1\", \"Topic1\", \"Topic1\", \"Topic1\", \"Topic1\", \"Topic1\", \"Topic1\", \"Topic1\", \"Topic1\", \"Topic1\", \"Topic1\", \"Topic1\", \"Topic1\", \"Topic1\", \"Topic1\", \"Topic1\", \"Topic1\", \"Topic1\", \"Topic1\", \"Topic1\", \"Topic1\", \"Topic1\", \"Topic1\", \"Topic1\", \"Topic1\", \"Topic1\", \"Topic1\", \"Topic1\", \"Topic1\", \"Topic1\", \"Topic1\", \"Topic1\", \"Topic1\", \"Topic1\", \"Topic1\", \"Topic1\", \"Topic1\", \"Topic1\", \"Topic1\", \"Topic1\", \"Topic1\", \"Topic1\", \"Topic1\", \"Topic1\", \"Topic1\", \"Topic1\", \"Topic1\", \"Topic1\", \"Topic1\", \"Topic1\", \"Topic1\", \"Topic1\", \"Topic1\", \"Topic1\", \"Topic1\", \"Topic1\", \"Topic1\", \"Topic1\", \"Topic2\", \"Topic2\", \"Topic2\", \"Topic2\", \"Topic2\", \"Topic2\", \"Topic2\", \"Topic2\", \"Topic2\", \"Topic2\", \"Topic2\", \"Topic2\", \"Topic2\", \"Topic2\", \"Topic2\", \"Topic2\", \"Topic2\", \"Topic2\", \"Topic2\", \"Topic2\", \"Topic2\", \"Topic2\", \"Topic2\", \"Topic2\", \"Topic2\", \"Topic2\", \"Topic2\", \"Topic2\", \"Topic2\", \"Topic2\", \"Topic2\", \"Topic2\", \"Topic2\", \"Topic2\", \"Topic2\", \"Topic2\", \"Topic2\", \"Topic2\", \"Topic2\", \"Topic2\", \"Topic2\", \"Topic2\", \"Topic2\", \"Topic2\", \"Topic2\", \"Topic2\", \"Topic2\", \"Topic2\", \"Topic2\", \"Topic2\", \"Topic2\", \"Topic2\", \"Topic2\", \"Topic2\", \"Topic2\", \"Topic2\", \"Topic2\", \"Topic2\", \"Topic2\", \"Topic2\", \"Topic3\", \"Topic3\", \"Topic3\", \"Topic3\", \"Topic3\", \"Topic3\", \"Topic3\", \"Topic3\", \"Topic3\", \"Topic3\", \"Topic3\", \"Topic3\", \"Topic3\", \"Topic3\", \"Topic3\", \"Topic3\", \"Topic3\", \"Topic3\", \"Topic3\", \"Topic3\", \"Topic3\", \"Topic3\", \"Topic3\", \"Topic3\", \"Topic3\", \"Topic3\", \"Topic3\", \"Topic3\", \"Topic3\", \"Topic3\", \"Topic3\", \"Topic3\", \"Topic3\", \"Topic3\", \"Topic3\", \"Topic3\", \"Topic3\", \"Topic3\", \"Topic3\", \"Topic3\", \"Topic3\", \"Topic3\", \"Topic3\", \"Topic3\", \"Topic3\", \"Topic3\", \"Topic3\", \"Topic3\", \"Topic3\", \"Topic3\", \"Topic3\", \"Topic3\", \"Topic3\", \"Topic3\", \"Topic3\", \"Topic4\", \"Topic4\", \"Topic4\", \"Topic4\", \"Topic4\", \"Topic4\", \"Topic4\", \"Topic4\", \"Topic4\", \"Topic4\", \"Topic4\", \"Topic4\", \"Topic4\", \"Topic4\", \"Topic4\", \"Topic4\", \"Topic4\", \"Topic4\", \"Topic4\", \"Topic4\", \"Topic4\", \"Topic4\", \"Topic4\", \"Topic4\", \"Topic4\", \"Topic4\", \"Topic4\", \"Topic4\", \"Topic4\", \"Topic4\", \"Topic4\", \"Topic4\", \"Topic4\", \"Topic4\", \"Topic4\", \"Topic4\", \"Topic4\", \"Topic4\", \"Topic4\", \"Topic4\", \"Topic4\", \"Topic5\", \"Topic5\", \"Topic5\", \"Topic5\", \"Topic5\", \"Topic5\", \"Topic5\", \"Topic5\", \"Topic5\", \"Topic5\", \"Topic5\", \"Topic5\", \"Topic5\", \"Topic5\", \"Topic5\", \"Topic5\", \"Topic5\", \"Topic5\", \"Topic5\", \"Topic5\", \"Topic5\", \"Topic5\", \"Topic5\", \"Topic5\", \"Topic5\", \"Topic5\", \"Topic5\", \"Topic5\", \"Topic5\", \"Topic5\", \"Topic5\", \"Topic5\", \"Topic5\", \"Topic5\", \"Topic5\", \"Topic5\", \"Topic5\", \"Topic5\", \"Topic5\", \"Topic5\", \"Topic5\", \"Topic6\", \"Topic6\", \"Topic6\", \"Topic6\", \"Topic6\", \"Topic6\", \"Topic6\", \"Topic6\", \"Topic6\", \"Topic6\", \"Topic6\", \"Topic6\", \"Topic6\", \"Topic6\", \"Topic6\", \"Topic6\", \"Topic6\", \"Topic6\", \"Topic6\", \"Topic6\", \"Topic6\", \"Topic6\", \"Topic6\", \"Topic6\", \"Topic6\", \"Topic6\", \"Topic6\", \"Topic6\", \"Topic6\", \"Topic6\", \"Topic6\", \"Topic6\", \"Topic6\", \"Topic6\", \"Topic6\", \"Topic6\", \"Topic6\", \"Topic6\", \"Topic6\", \"Topic7\", \"Topic7\", \"Topic7\", \"Topic7\", \"Topic7\", \"Topic7\", \"Topic7\", \"Topic7\", \"Topic7\", \"Topic7\", \"Topic7\", \"Topic7\", \"Topic7\", \"Topic7\", \"Topic7\", \"Topic7\", \"Topic7\", \"Topic7\", \"Topic7\", \"Topic7\", \"Topic7\", \"Topic7\", \"Topic7\", \"Topic7\", \"Topic7\", \"Topic7\", \"Topic7\", \"Topic7\", \"Topic7\", \"Topic7\", \"Topic7\", \"Topic7\", \"Topic7\", \"Topic8\", \"Topic8\", \"Topic8\", \"Topic8\", \"Topic8\", \"Topic8\", \"Topic8\", \"Topic8\", \"Topic8\", \"Topic8\", \"Topic8\", \"Topic8\", \"Topic8\", \"Topic8\", \"Topic8\", \"Topic8\", \"Topic8\", \"Topic8\", \"Topic8\", \"Topic8\", \"Topic8\", \"Topic8\", \"Topic8\", \"Topic8\", \"Topic8\", \"Topic8\", \"Topic8\", \"Topic8\", \"Topic8\", \"Topic8\", \"Topic8\", \"Topic8\", \"Topic8\", \"Topic8\", \"Topic8\", \"Topic8\", \"Topic8\", \"Topic9\", \"Topic9\", \"Topic9\", \"Topic9\", \"Topic9\", \"Topic9\", \"Topic9\", \"Topic9\", \"Topic9\", \"Topic9\", \"Topic9\", \"Topic9\", \"Topic9\", \"Topic9\", \"Topic9\", \"Topic9\", \"Topic9\", \"Topic9\", \"Topic9\", \"Topic9\", \"Topic9\", \"Topic9\", \"Topic9\", \"Topic9\", \"Topic9\", \"Topic9\", \"Topic9\", \"Topic9\", \"Topic9\", \"Topic9\", \"Topic9\", \"Topic9\", \"Topic9\", \"Topic9\", \"Topic9\", \"Topic9\", \"Topic9\", \"Topic9\", \"Topic9\", \"Topic9\", \"Topic9\", \"Topic9\", \"Topic9\", \"Topic9\", \"Topic9\", \"Topic9\", \"Topic9\", \"Topic9\", \"Topic9\", \"Topic9\", \"Topic9\", \"Topic9\", \"Topic9\", \"Topic10\", \"Topic10\", \"Topic10\", \"Topic10\", \"Topic10\", \"Topic10\", \"Topic10\", \"Topic10\", \"Topic10\", \"Topic10\", \"Topic10\", \"Topic10\", \"Topic10\", \"Topic10\", \"Topic10\", \"Topic10\", \"Topic10\", \"Topic10\", \"Topic10\", \"Topic10\", \"Topic10\", \"Topic10\", \"Topic10\", \"Topic10\", \"Topic10\", \"Topic10\", \"Topic10\", \"Topic10\", \"Topic10\", \"Topic10\", \"Topic10\", \"Topic10\", \"Topic10\", \"Topic10\", \"Topic10\", \"Topic10\", \"Topic10\", \"Topic10\", \"Topic10\", \"Topic10\", \"Topic10\", \"Topic10\", \"Topic10\", \"Topic10\", \"Topic10\", \"Topic10\", \"Topic10\", \"Topic10\", \"Topic10\", \"Topic10\", \"Topic10\", \"Topic10\", \"Topic10\", \"Topic10\", \"Topic10\", \"Topic10\", \"Topic10\", \"Topic10\", \"Topic10\", \"Topic10\", \"Topic10\", \"Topic10\"], \"Freq\": [423.0, 276.0, 308.0, 58.0, 49.0, 47.0, 218.0, 246.0, 161.0, 61.0, 32.0, 303.0, 39.0, 30.0, 29.0, 40.0, 30.0, 94.0, 28.0, 48.0, 50.0, 32.0, 33.0, 23.0, 188.0, 189.0, 24.0, 24.0, 182.0, 23.0, 54.98135571832494, 29.160471545487454, 29.527617235572908, 23.35112568846609, 30.022866808217632, 15.076575449028432, 14.770447793308346, 33.26214796262493, 23.311662958919694, 21.433287130671594, 13.22647502541384, 59.24833992986697, 19.080279483070377, 25.890669955025043, 10.61714377668131, 10.351759136644429, 9.762359474664649, 9.013044946363303, 8.99705051486111, 8.922746098434741, 8.78670807080624, 8.6996277977768, 12.393038975379548, 8.567000449558778, 11.034943655556217, 24.725980373831266, 8.383980977361894, 8.257667229639287, 8.132032841055953, 8.118158814815333, 32.87456315681637, 14.971220192550769, 18.81610997031642, 38.17053149704115, 48.592653410157006, 89.6480817117083, 179.5704870773432, 59.97211629943995, 37.42811527842583, 16.67983268093204, 52.37505729632287, 81.0097124767604, 144.3768764816213, 197.1588192170876, 72.23669417333979, 30.93051331942023, 92.45150951905097, 53.8031838263731, 121.24906248809654, 45.5056516333788, 91.99614201441581, 96.15977227918427, 49.23790179762212, 54.205115506518084, 46.54733909412836, 41.91000570203401, 41.64018953263344, 34.79664993795801, 31.667971567580377, 32.53449952498121, 32.7367100846738, 32.71050519994202, 32.79935637083335, 25.330958282413803, 18.323722472082803, 18.663842665981598, 15.15305243586314, 14.31902150803574, 14.174554471131165, 13.696791154431263, 14.005895356157486, 13.619306772725292, 13.148328440332214, 143.74826045464548, 11.732933488258487, 11.499533066120213, 20.105154426195018, 10.227954846245854, 10.05973086879894, 9.865721459718545, 9.661763954124257, 10.172172813379568, 9.457353870947031, 8.97020937471171, 8.620321281588303, 24.13665502321613, 8.068097322174367, 7.944881200292223, 7.517622241209206, 7.500192830077642, 7.251919545538039, 12.785571540211471, 43.15473647147803, 137.04332612888024, 137.12086556116935, 21.01341332503698, 21.3471443739821, 64.70900935512495, 47.18290922477723, 20.203418174503, 95.23469263670077, 20.114488218187585, 62.96840803422237, 28.607664169582183, 66.87824115626886, 42.43996623224517, 28.990946514015853, 34.87134712102685, 41.20081969782524, 39.41283454175065, 44.480023390364536, 31.060677829887087, 20.472384299412354, 26.820602868241384, 31.664500934948528, 27.09258090204927, 36.30859455007024, 34.60057961409284, 24.97550743740452, 22.881314709008844, 23.73822112951274, 22.981968243706056, 27.128900861902952, 56.964822760122566, 18.179047511522963, 12.760527071917009, 10.08786606545127, 8.778886563215138, 8.308715125977905, 7.7494492264290535, 12.516419972817594, 14.923379634555046, 7.318715902291449, 6.333539055053049, 6.327080361670301, 6.037129997395168, 5.90975790504013, 5.880117304664569, 5.857642823933966, 5.79938466066249, 5.683853935090825, 5.642770069824146, 8.99594356207083, 5.25771408162886, 4.895868279464288, 4.60262441561904, 19.570111388222642, 4.801536730474975, 4.49492135644221, 4.444857403487584, 4.426718393274227, 4.362942416299681, 15.729299047079635, 8.380847136917236, 15.07332034406009, 18.031746153104645, 13.509588306555385, 13.470566484710847, 15.90982368641456, 48.40497047876763, 40.79856490090942, 48.30676729130948, 17.42735527604423, 17.45584822734731, 37.09345192506232, 8.867315268250186, 18.745999695904334, 13.744987856027837, 10.122030653110354, 15.035197054210787, 12.380464005539064, 9.986719103833003, 12.01223770597469, 10.450755680360993, 10.769076610142994, 10.519942931896287, 10.495047991908537, 56.96539946814, 38.242425008382455, 18.32262106810587, 15.272547867020833, 13.125214408668786, 11.074316849926472, 10.659021008120048, 9.832150553572696, 8.879318992298002, 8.080499067745563, 7.4022753053616706, 7.176695681217662, 6.980005997368164, 6.603089664660908, 12.897934252203036, 6.209455402294139, 5.946816036224439, 5.174363949981316, 4.977927990862881, 4.576364125230041, 4.632905432716084, 4.427149887969184, 4.3290778933355405, 7.160128026102923, 4.251675931811433, 3.979669044268745, 3.8071776702418734, 9.692588868298449, 4.623318839525867, 3.385566553790624, 5.942066054478755, 12.076017744347011, 19.209986141238982, 79.08237311753818, 55.23981350570668, 22.17057394742469, 41.36094999283148, 29.223255610393714, 17.21456645540865, 12.55692015025723, 10.76201623443359, 21.67890710532922, 15.150538328455532, 15.033458538254456, 11.1067444842405, 10.03475790488749, 10.00995502378407, 9.908997372479849, 21.47334729921674, 9.219137949347756, 10.240123538523187, 8.759847801994857, 8.020509264437436, 7.923732972837755, 7.884479434521405, 9.756356261626692, 7.316905900038819, 6.568733202014276, 6.427816277286461, 6.176172822932602, 6.843577705683775, 5.875948507309919, 5.598777218402199, 5.595473934644779, 6.267866538348058, 5.290613752105974, 7.57318083133939, 7.207451988874836, 4.445212819351409, 4.218247695585211, 14.791632538983668, 7.795240089111524, 8.79961193207035, 23.83196532161516, 23.486936252701376, 20.976386093089683, 12.17245340826773, 8.789327317203332, 7.617194531572028, 7.786507266900643, 7.410276333757111, 6.953401881841696, 18.17573439015187, 13.882967968041232, 14.098060433613972, 12.338059579851246, 15.950612835631114, 10.010786189800378, 13.439558671483633, 8.86658060654316, 9.122992019510678, 8.098806368885016, 7.90966097974512, 40.358695462292076, 7.826898033592484, 8.299367004363003, 7.168013534638975, 7.138906291732193, 8.468853700550152, 6.999605869603678, 6.5492984483809344, 6.426661636016791, 5.845129046561058, 5.796829744294375, 5.712669284458164, 5.615428891148147, 5.789339683356426, 5.675226378778929, 5.4414870658681815, 5.32567353240253, 4.972571301659015, 7.680093110504863, 17.59726930950346, 12.043939032991574, 22.084577521474515, 17.390188597594307, 9.14428209061947, 10.759132388486057, 7.2499096604702755, 7.751482967706787, 6.601323005931551, 27.156177905469928, 14.689530683312055, 13.927899394112307, 13.498892530160608, 13.323543958328642, 13.749965929927303, 12.720947935565441, 12.067008375361954, 10.217411536306422, 9.795816657283291, 9.082990183185025, 42.24742440226751, 7.928085376265846, 6.1900609477661925, 5.134186689614675, 17.762766211654235, 22.592414349611815, 3.6219930936647806, 3.52529566146127, 6.2383090660767495, 6.157446759993415, 1.7938176793269114, 6.768892120628958, 1.3933208831747854, 1.322717187880614, 1.038226481087704, 3.3896899160093628, 1.5986555910460691, 0.1804408508891671, 0.18042819397470622, 5.629817478616757, 9.216773432467473, 2.8953437498508423, 29.070645124120567, 22.457484611062185, 16.231991125713122, 15.15721638535722, 14.544182007786699, 13.167671935936193, 11.063232924447522, 10.113154607927516, 10.159577765586477, 9.90802643505464, 8.070335940941883, 8.996004831113053, 6.954749140520656, 25.306859053539014, 5.631820130888553, 7.767783001724958, 5.0076402361065115, 3.4043813484350522, 3.5169817822712144, 1.5590628055334161, 1.174970531725857, 1.0002426201820596, 1.334453409193098, 0.20958328751200153, 0.2095802917231062, 0.6926579953883367, 0.20955197666404674, 0.20958234352014513, 0.20946834000232745, 0.2096004599014087, 2.818230291750907, 1.2318948282839177, 6.244461437433076, 3.19647018339566, 0.23067340650329393, 0.3006164620951536, 0.33062552844780163, 30.797370237421823, 28.49892170008843, 17.65018963359887, 13.673980635972805, 12.429598949469458, 15.06296684923323, 11.417595591059058, 11.159101713639384, 10.04900433858865, 9.205888851389, 10.345282328810077, 11.342617319548362, 1.3493461143126424, 1.3170050660758592, 0.22316118119518455, 0.22288828696985188, 0.3301296909997827, 0.22251115622157774, 0.22303450062723584, 0.22349330981234175, 0.22268600473760664, 0.22270126961738043, 0.22259963749153153, 0.2229566933345466, 0.2230346147918464, 0.222938496096414, 0.22238181562769574, 0.22261486243158354, 0.222733256755807, 0.22270209770730542, 0.22317670938721892, 6.07986772438109, 7.128049539198968, 2.758672228489116, 8.314304549675828, 2.8062467425481805, 2.129229260343526, 0.2254293807648685, 0.22588880810633033, 0.22609407542960314, 0.22566163139219977, 0.23277990553165961, 0.26344055828614216, 0.22773737833091698, 0.2630478884269107, 0.24600899813734747, 0.22860825064414833, 0.23147628170722942, 0.23076724009289148, 0.22727028123219573, 0.23249832965742379, 0.23109541938299016, 0.22967913642625137, 14.409618739152851, 16.162520585385852, 14.812370323988775, 13.566505898824317, 12.49997132087712, 11.151319865765462, 8.877775071020595, 7.9431702973078835, 9.333712530517138, 1.3221990563845585, 0.28977542307731396, 0.28927751463958473, 0.2897509250152169, 0.2901222052406199, 0.2894122415479811, 0.28962287524680225, 0.28965297434019616, 0.2886070928719786, 0.2893802094699875, 0.28955552545630797, 0.28954892809061106, 0.28932598373612206, 0.28948729325410405, 0.2895139472588173, 0.2897127941454803, 0.28885357970663045, 0.28952202659387755, 0.2892396338164105, 0.289380380253807, 0.2900928347040441, 0.3156652629280276, 0.29746426660842407, 0.31752160494582327, 0.29256740154360844, 0.296630101483175, 0.2960092772720677, 0.29280773795789955, 0.2928649461553632, 0.3081484520440428, 0.29761036735425317, 0.2937337254230163, 0.29292323304809165, 0.3421632760821007, 0.3015630634380176, 0.294638553114397, 0.29334675808539645, 0.3217797219519598, 0.3054065969323599, 0.3040998257516909, 0.30901725183504525, 0.2995722039936174, 0.2979758878564295, 0.29718066584881736, 0.2981505360308312, 0.30594875833711066, 0.3056306883327953, 0.3065298313337437, 0.3027044110033392, 0.3015004627288751, 0.30124587130191194, 0.3002388546544708, 0.29827782078842235], \"Term\": [\"sijetaispresident\", \"les\", \"je\", \"interdirais\", \"gratuit\", \"seraient\", \"le\", \"la\", \"macron\", \"ministre\", \"port\", \"de\", \"ballerines\", \"bordel\", \"interdirait\", \"cours\", \"seront\", \"serait\", \"mcdo\", \"aux\", \"serais\", \"supprimerai\", \"mes\", \"l\\u00e9galiserai\", \"https\", \"co\", \"\\u00e9cole\", \"jour\", \"et\", \"supprimerais\", \"ferais\", \"merde\", \"ferai\", \"interdirai\", \"serai\", \"sorte\", \"moins\", \"monde\", \"toutes\", \"toute\", \"prison\", \"tout\", \"place\", \"pays\", \"seriez\", \"salaire\", \"week\", \"temps\", \"t\\u00e9l\\u00e9\", \"fromage\", \"donnerai\", \"rendrais\", \"travail\", \"end\", \"parce\", \"mettrais\", \"gros\", \"politiques\", \"sport\", \"plein\", \"me\", \"mieux\", \"gens\", \"vous\", \"tous\", \"des\", \"je\", \"que\", \"comme\", \"fran\\u00e7ais\", \"dans\", \"en\", \"les\", \"sijetaispresident\", \"pour\", \"\\u00e7a\", \"et\", \"pas\", \"de\", \"qui\", \"le\", \"la\", \"serait\", \"un\", \"du\", \"au\", \"une\", \"sur\", \"ne\", \"plus\", \"est\", \"co\", \"gauche\", \"via\", \"emmanuel\", \"droite\", \"emmanuelmacron\", \"enmarche\", \"candidat\", \"bayrou\", \"2017\", \"gt\", \"sondage\", \"macron\", \"tr\\u00e8s\", \"montebourg\", \"valls\", \"presidentielle2017\", \"cohn\", \"bendit\", \"bus\", \"comment\", \"fran\\u00e7ois\", \"direct\", \"pourquoi\", \"politique\", \"marche\", \"lemissionpolitique\", \"pr\\u00e9sidentielle\", \"cohnbendit\", \"\\u00e9conomique\", \"ps\", \"hollande\", \"https\", \"co\", \"son\", \"sarkozy\", \"est\", \"il\", \"vacances\", \"de\", \"mois\", \"le\", \"on\", \"la\", \"un\", \"avec\", \"pas\", \"en\", \"pour\", \"et\", \"une\", \"se\", \"qui\", \"des\", \"du\", \"les\", \"sijetaispresident\", \"que\", \"par\", \"dans\", \"au\", \"premier\", \"ministre\", \"nommerais\", \"enfant\", \"l\\u00e9galiserais\", \"mickey\", \"pens\\u00e9e\", \"triste\", \"nommerai\", \"peine\", \"justice\", \"chirac\", \"porte\", \"famille\", \"mandat\", \"poste\", \"drogue\", \"m\\u00e8re\", \"sant\\u00e9\", \"es\", \"1er\", \"lettre\", \"l\\u00e9gal\", \"coupe\", \"mort\", \"demanderai\", \"bande\", \"ta\", \"affaires\", \"violeurs\", \"r\\u00e9publique\", \"culture\", \"jamais\", \"pr\\u00e9sident\", \"aurai\", \"jul\", \"aurait\", \"de\", \"la\", \"sijetaispresident\", \"france\", \"plus\", \"je\", \"sarko\", \"et\", \"serait\", \"bien\", \"le\", \"pour\", \"mon\", \"un\", \"des\", \"les\", \"https\", \"co\", \"interdirais\", \"ballerines\", \"bah\", \"interdit\", \"hymne\", \"sieste\", \"an\", \"camembert\", \"imposerai\", \"instaurerais\", \"maths\", \"leggings\", \"elysee\", \"interdite\", \"national\", \"d\\u00e9missionnerai\", \"demanderais\", \"nouvel\", \"interdiction\", \"constitution\", \"secret\", \"raciste\", \"blanc\", \"premi\\u00e8re\", \"envers\", \"baiser\", \"suppression\", \"lyc\\u00e9e\", \"sortie\", \"haine\", \"arr\\u00eaterai\", \"obligatoire\", \"serais\", \"sijetaispresident\", \"les\", \"serait\", \"je\", \"la\", \"de\", \"le\", \"et\", \"supprimerais\", \"lundi\", \"samedi\", \"vendredi\", \"f\\u00e9ri\\u00e9\", \"hashtag\", \"49\", \"jour\", \"cantine\", \"dimanche\", \"20\", \"lenorman\", \"12\", \"10h\", \"2016\", \"mercredi\", \"septembre\", \"scolaires\", \"jeudi\", \"scolaire\", \"pote\", \"s\\u00e9nat\", \"self\", \"\\u00e9couter\", \"23\", \"aura\", \"obama\", \"burkini\", \"shopping\", \"semaine\", \"g\\u00e9rard\", \"cannabis\", \"cours\", \"le\", \"sijetaispresident\", \"je\", \"par\", \"supprimerai\", \"de\", \"la\", \"et\", \"gratuits\", \"\\u00e9ducation\", \"putain\", \"bonne\", \"nos\", \"grosse\", \"nationale\", \"police\", \"banques\", \"permis\", \"ss10\", \"seraient\", \"poudlard\", \"f\\u00eate\", \"r\\u00e9tablirais\", \"internet\", \"organiserai\", \"marre\", \"belle\", \"meufs\", \"fronti\\u00e8res\", \"finances\", \"18h\", \"8h\", \"question\", \"\\u00e9conomie\", \"f\\u00e9ri\\u00e9s\", \"tintin\", \"picsou\", \"minist\\u00e8re\", \"aux\", \"aurais\", \"sijetaispresident\", \"les\", \"une\", \"de\", \"au\", \"et\", \"je\", \"mcdo\", \"soir\", \"kebab\", \"kfc\", \"domicile\", \"macdo\", \"cc\", \"volont\\u00e9\", \"autoriserai\", \"obligerai\", \"tacos\", \"gratuit\", \"jeux\", \"cantines\", \"12h\", \"\\u00e9cole\", \"supprimerai\", \"cyrilhanouna\", \"13\", \"vos\", \"chez\", \"partir\", \"tu\", \"humour\", \"chocolat\", \"devoirs\", \"chaque\", \"etc\", \"0000\", \"sep\", \"le\", \"sijetaispresident\", \"je\", \"bordel\", \"l\\u00e9galiserai\", \"putes\", \"gratuites\", \"pizza\", \"mot\", \"virerais\", \"dutreil\", \"vitesse\", \"vivre\", \"vire\", \"ancien\", \"fachos\", \"seront\", \"renaud\", \"possible\", \"comptes\", \"perp\\u00e9tuit\\u00e9\", \"chocolatine\", \"beau\", \"netflix\", \"entretien\", \"s\\u00e9ries\", \"0000\", \"sep\", \"soutien\", \"medef\", \"h\\u00e9ritage\", \"\\u00e9lus\", \"2007\", \"ministre\", \"toutes\", \"les\", \"sijetaispresident\", \"mlp_officiel\", \"me\", \"de\", \"port\", \"interdirait\", \"d\\u00e9missionnerais\", \"heure\", \"rendrai\", \"promesses\", \"ballerine\", \"changement\", \"tiendrais\", \"ait\", \"christineboutin\", \"mes\", \"tweeter\", \"nan\", \"0000\", \"sep\", \"haute\", \"medef\", \"h\\u00e9ritage\", \"\\u00e9lus\", \"2007\", \"lrps\", \"quotidien\", \"le_parisien\", \"lrpsfn\", \"effets\", \"pro\", \"espace\", \"important\", \"d\\u00e9put\\u00e9\", \"edito\", \"le\", \"je\", \"du\", \"sijetaispresident\", \"des\", \"de\", \"soutiens\", \"faites\", \"vont\", \"chaine\", \"vs\", \"co\", \"jean\", \"https\", \"interdirais\", \"alstom\", \"gt\", \"fait\", \"ill\\u00e9gal\", \"macron\", \"il\", \"ou\", \"organiserais\", \"notaires\", \"eu\", \"mets\", \"carte\", \"nouveaux\", \"installation\", \"cache\", \"journ\\u00e9es\", \"cr\\u00e9er\", \"sep\", \"0000\", \"medef\", \"h\\u00e9ritage\", \"\\u00e9lus\", \"2007\", \"lrps\", \"quotidien\", \"le_parisien\", \"lrpsfn\", \"effets\", \"pro\", \"espace\", \"d\\u00e9put\\u00e9\", \"homologues\", \"important\", \"edito\", \"lib\\u00e9ral\", \"activit\\u00e9\", \"r\\u00e9f\\u00e9rendum\", \"boulot\", \"r\\u00e9seaux\", \"cars\", \"servent\", \"11\", \"libre\", \"le1hebdo\", \"rocard\", \"gt\", \"millions\", \"lelab_e1\", \"21\", \"sijetaispresident\", \"votez\", \"15\", \"in\", \"macron\", \"mois\", \"vacances\", \"de\", \"sorte\", \"elys\\u00e9e\", \"plein\", \"minist\\u00e8re\", \"co\", \"https\", \"les\", \"des\", \"la\", \"pas\", \"et\", \"du\"], \"Total\": [423.0, 276.0, 308.0, 58.0, 49.0, 47.0, 218.0, 246.0, 161.0, 61.0, 32.0, 303.0, 39.0, 30.0, 29.0, 40.0, 30.0, 94.0, 28.0, 48.0, 50.0, 32.0, 33.0, 23.0, 188.0, 189.0, 24.0, 24.0, 182.0, 23.0, 57.459383767288166, 30.64968921372166, 31.20841920294819, 24.985841051703936, 32.336237997083856, 16.57934049554675, 16.2653836165715, 36.671694270056065, 25.815987577041412, 23.83272642474234, 14.719380944071059, 66.4093365874556, 21.560836457355563, 29.324485719732706, 12.09452276141901, 11.830298853261679, 11.239113662824112, 10.493594523417899, 10.47506847258106, 10.400153423122163, 10.268310219882489, 10.176071695747169, 14.529335170270306, 10.044068769920663, 12.944482674200039, 29.0699160116901, 9.865637060649046, 9.733557196774733, 9.608305363435846, 9.601106074208785, 39.09310709904561, 17.86074787292172, 23.137537381101815, 49.187828852297294, 63.74434408206179, 139.4927313959711, 308.5798923567171, 89.34015817459323, 53.04590057122157, 21.22319525209974, 79.69771189105488, 135.3298287926519, 276.6393174737375, 423.2792142962133, 126.6751808025447, 44.63256190069922, 182.09755449523848, 97.72360102514855, 303.6118635209928, 79.03826709730369, 218.75464543311782, 246.70585061238273, 94.39044294034524, 119.25896215162942, 91.42486880897722, 81.32304635000435, 92.63911966460365, 66.73462945786203, 53.32647959031076, 65.80377928886494, 105.94032016020715, 189.08074528772033, 34.38479808315799, 26.809954367190922, 19.79220079567937, 20.17779633823697, 16.673214597255107, 15.793195213462198, 15.66007502200895, 15.164903063222113, 15.515603524884998, 15.113279490010278, 14.61291513557536, 161.24019440162732, 13.20399851150651, 12.961778458793573, 22.709024923811157, 11.695605957245371, 11.524671028424903, 11.32913990685903, 11.12364340637881, 11.731772252663003, 10.921008340122746, 10.430821920426567, 10.10214691467234, 28.542997631035455, 9.543680001585637, 9.40688381670149, 8.981122350151034, 8.977944776598257, 8.731713545704437, 15.490714286989956, 53.763282975994066, 188.8341464897512, 189.08074528772033, 26.721741506868465, 28.10645629964107, 105.94032016020715, 75.31707663231023, 29.19886117795541, 303.6118635209928, 33.20061715006641, 218.75464543311782, 61.489903167742234, 246.70585061238273, 119.25896215162942, 64.44375422540803, 97.72360102514855, 135.3298287926519, 126.6751808025447, 182.09755449523848, 92.63911966460365, 36.65834866214122, 79.03826709730369, 139.4927313959711, 91.42486880897722, 276.6393174737375, 423.2792142962133, 89.34015817459323, 58.67530255718164, 79.69771189105488, 81.32304635000435, 28.595328289163003, 61.361544617940446, 19.64282116707325, 14.22911136676927, 11.551112584489186, 10.237749690252562, 9.76707654644379, 9.208243211565051, 15.104325709297738, 18.046297055863313, 8.884437833204608, 7.794174908306129, 7.7895678854640105, 7.498072061703154, 7.366361850409961, 7.340495096569599, 7.315238548336122, 7.262381368052469, 7.1520435405770195, 7.105762965900611, 11.390277890756066, 6.717161155456721, 6.3527312092801616, 6.060086615253218, 25.83670378865922, 6.341583709299832, 5.954449834828465, 5.902751241077134, 5.896060308929599, 5.819109851272689, 21.5718873920654, 11.594094510042773, 25.013515623194255, 33.883912436592354, 24.701073790904697, 29.39285207584282, 41.15175988101022, 303.6118635209928, 246.70585061238273, 423.2792142962133, 60.332074334274324, 65.80377928886494, 308.5798923567171, 19.71609303402647, 182.09755449523848, 94.39044294034524, 35.4532939330701, 218.75464543311782, 126.6751808025447, 39.371423256974175, 119.25896215162942, 139.4927313959711, 276.6393174737375, 188.8341464897512, 189.08074528772033, 58.55790169994117, 39.6938957369132, 19.76925927974449, 16.78355162675496, 14.567079144867002, 12.514245875250074, 12.109456874596832, 11.274288362974284, 10.323081304488456, 9.523265541480884, 8.856991207980395, 8.61900029864818, 8.421669640024264, 8.045136192368464, 15.795309637019221, 7.650540974556971, 7.38983208033964, 6.6376126261030235, 6.4266435484016196, 6.018890837813232, 6.099254953187188, 5.868876957254795, 5.771698214057369, 9.588578516157613, 5.697106311070661, 5.424825200889239, 5.248656733215309, 13.610410992230912, 6.6988516379936005, 4.912154356881978, 9.67915212450809, 26.22414989306708, 50.55312989114509, 423.2792142962133, 276.6393174737375, 94.39044294034524, 308.5798923567171, 246.70585061238273, 303.6118635209928, 218.75464543311782, 182.09755449523848, 23.096358244497438, 16.569185075693024, 16.449187490152344, 12.589892424593126, 11.4524999415175, 11.429820544660918, 11.324641979078502, 24.66961413385839, 10.651830656317088, 11.838211416093397, 10.234497730326398, 9.436041415531662, 9.343484806449784, 9.300447151453234, 11.548816493951623, 8.731104611560529, 7.989117567304868, 7.8428775201153424, 7.594969604868396, 8.419493594806312, 7.296333424075323, 7.015877632822542, 7.012080030417682, 7.859463306468249, 6.708813133952484, 9.61255138961252, 9.247107204566264, 5.890216383625168, 5.645112925123973, 20.282930949782546, 10.715621969272215, 12.739447377133947, 40.693454257663504, 218.75464543311782, 423.2792142962133, 308.5798923567171, 58.67530255718164, 32.46092914294194, 303.6118635209928, 246.70585061238273, 182.09755449523848, 19.59360195743128, 15.294280150303912, 15.552326469405257, 13.759197262604493, 18.212718402664628, 11.522789943513638, 15.534547627912087, 10.279805640268586, 10.638308670402536, 9.509631505902156, 9.322378826931635, 47.62244589040788, 9.236583434551623, 9.901603344537008, 8.578324692928366, 8.55126807185139, 10.174159425270982, 8.4099538939492, 7.978914231156271, 7.83620385737464, 7.2541247658225005, 7.207133449834562, 7.122673563807302, 7.0262555833527305, 7.256505682238548, 7.128555491125871, 6.851572367936454, 6.736713014267901, 6.386504959030069, 13.87831316733802, 48.901919155747066, 31.776019595652713, 423.2792142962133, 276.6393174737375, 92.63911966460365, 303.6118635209928, 81.32304635000435, 182.09755449523848, 308.5798923567171, 28.53071486384643, 16.06755226893952, 15.297878458180499, 14.874141942490176, 14.694513597603713, 15.177715883592422, 14.092426197519998, 13.473597620896651, 11.589436762658535, 11.167605030090531, 10.453370400377391, 49.381917248361226, 9.300053053802346, 7.561309541769335, 6.559196289676184, 24.718195768647877, 32.46092914294194, 5.980420543405523, 6.378333392611753, 16.505934992306734, 16.421742707045503, 4.842913221729855, 20.72291213484681, 6.356329711476939, 8.85204280495734, 7.134287494862491, 24.410560242631856, 12.860736086490551, 2.388646509512376, 2.3887831552407865, 218.75464543311782, 423.2792142962133, 308.5798923567171, 30.432447726740577, 23.79962152813949, 17.572932871257017, 16.50514597861599, 15.885540105608841, 14.516556398508119, 12.405019007545208, 11.45654935793524, 11.511806243336203, 11.255862999926897, 9.496606161090252, 10.712073775256892, 8.34244596695882, 30.747535485233104, 6.97292234031703, 11.542051584314434, 7.496009126226317, 6.257618384806251, 10.21787541531423, 6.322262637467629, 4.950086788391246, 5.9842559729995255, 12.67673067511503, 2.388646509512376, 2.3887831552407865, 7.938434561077504, 3.297724910897437, 3.319965932151368, 3.4265961115399435, 3.4819942431500324, 61.361544617940446, 25.815987577041412, 276.6393174737375, 423.2792142962133, 4.48220468652923, 39.09310709904561, 303.6118635209928, 32.126068592221884, 29.977542730316795, 18.97803931579576, 15.006975304361317, 13.764599856625921, 16.681578627909655, 12.74514853671716, 12.487225038983558, 11.376347798960964, 10.537618466635193, 11.84348968875335, 33.19763696482484, 5.34317618569492, 5.594885669454593, 2.388646509512376, 2.3887831552407865, 4.615776397342069, 3.297724910897437, 3.319965932151368, 3.4265961115399435, 3.4819942431500324, 3.5408352693016814, 3.545990388956551, 3.5564847703841083, 3.5623211800600343, 3.5808059603602107, 3.600948640866236, 3.6182844808499164, 3.63869250278718, 3.6420252049206407, 3.649942059343473, 218.75464543311782, 308.5798923567171, 91.42486880897722, 423.2792142962133, 139.4927313959711, 303.6118635209928, 3.700836665441666, 4.06149080546085, 4.112856347544526, 4.066915516888569, 6.058988752009867, 189.08074528772033, 5.083747672483559, 188.8341464897512, 58.55790169994117, 6.680177072653522, 15.113279490010278, 25.80791652617567, 5.65029092700658, 161.24019440162732, 75.31707663231023, 25.795532977951236, 15.671234176675446, 17.60045250578678, 16.18368524317696, 14.847294797663078, 13.768425986605278, 12.419065874911073, 10.164658217264174, 9.205330154035149, 12.171690396466946, 7.038954162736928, 2.3887831552407865, 2.388646509512376, 3.297724910897437, 3.319965932151368, 3.4265961115399435, 3.4819942431500324, 3.5408352693016814, 3.545990388956551, 3.5564847703841083, 3.5623211800600343, 3.5808059603602107, 3.600948640866236, 3.6182844808499164, 3.6420252049206407, 3.646922543639103, 3.63869250278718, 3.649942059343473, 3.650215532132311, 3.687308685184276, 3.6989273470122295, 4.0774553222979115, 4.234574097966975, 6.8050493620757395, 3.999021557901043, 4.663418833320331, 5.225719449344593, 4.359681816434088, 4.51027794233001, 15.113279490010278, 6.549436835642065, 4.936676801847344, 4.639527194386186, 423.2792142962133, 9.756924193408107, 5.80225583143646, 5.184958088469339, 161.24019440162732, 33.20061715006641, 29.19886117795541, 303.6118635209928, 16.57934049554675, 12.202340593600352, 9.601106074208785, 13.87831316733802, 189.08074528772033, 188.8341464897512, 276.6393174737375, 139.4927313959711, 246.70585061238273, 97.72360102514855, 182.09755449523848, 91.42486880897722], \"loglift\": [30.0, 29.0, 28.0, 27.0, 26.0, 25.0, 24.0, 23.0, 22.0, 21.0, 20.0, 19.0, 18.0, 17.0, 16.0, 15.0, 14.0, 13.0, 12.0, 11.0, 10.0, 9.0, 8.0, 7.0, 6.0, 5.0, 4.0, 3.0, 2.0, 1.0, 0.9534, 0.9476, 0.9421, 0.9298, 0.9232, 0.9024, 0.901, 0.8999, 0.8954, 0.8913, 0.8905, 0.8834, 0.8752, 0.8729, 0.8672, 0.8639, 0.8566, 0.8454, 0.8453, 0.8442, 0.8416, 0.8407, 0.8384, 0.8384, 0.8378, 0.8356, 0.8347, 0.833, 0.8306, 0.8297, 0.8242, 0.821, 0.7907, 0.7439, 0.726, 0.5553, 0.456, 0.5989, 0.6487, 0.7566, 0.5776, 0.4843, 0.3472, 0.2334, 0.4358, 0.6307, 0.3196, 0.4006, 0.0795, 0.4454, 0.1312, 0.0553, 0.3467, 0.2089, 0.3224, 0.3345, 0.1978, 0.3462, 0.4763, 0.2931, -0.1769, -0.757, 1.2958, 1.2862, 1.2659, 1.265, 1.2474, 1.245, 1.2433, 1.2412, 1.2406, 1.2389, 1.2374, 1.2282, 1.2249, 1.2233, 1.2212, 1.2089, 1.207, 1.2047, 1.2021, 1.2003, 1.1991, 1.1921, 1.1844, 1.1753, 1.175, 1.1741, 1.1651, 1.1631, 1.1573, 1.1511, 1.1232, 1.0224, 1.0217, 1.1027, 1.0679, 0.85, 0.8753, 0.9747, 0.1836, 0.8419, 0.0977, 0.5778, 0.0377, 0.3098, 0.5442, 0.3125, 0.1537, 0.1755, -0.0665, 0.2502, 0.7604, 0.2622, -0.1398, 0.1267, -0.6877, -1.1612, 0.0684, 0.4013, 0.1318, 0.0793, 2.2861, 2.2644, 2.2613, 2.2298, 2.2033, 2.185, 2.177, 2.1662, 2.1508, 2.1487, 2.1448, 2.1312, 2.1308, 2.122, 2.1184, 2.1169, 2.1165, 2.1138, 2.1089, 2.1082, 2.1027, 2.0937, 2.0782, 2.0636, 2.0609, 2.0605, 2.0575, 2.055, 2.0521, 2.0507, 2.0228, 2.0142, 1.8322, 1.7079, 1.7353, 1.5585, 1.3884, 0.5026, 0.5392, 0.1683, 1.0969, 1.0117, 0.2202, 1.5397, 0.0652, 0.4119, 1.0852, -0.3388, 0.0132, 0.9669, 0.0433, -0.2526, -0.9073, -0.5489, -0.5526, 2.8324, 2.8227, 2.784, 2.7656, 2.7557, 2.7377, 2.7324, 2.7231, 2.7093, 2.6957, 2.6805, 2.6768, 2.6722, 2.6624, 2.6573, 2.6513, 2.6427, 2.6109, 2.6045, 2.586, 2.585, 2.5781, 2.5723, 2.5679, 2.5673, 2.5502, 2.5389, 2.5205, 2.4891, 2.4878, 2.372, 2.0845, 1.8924, 1.1824, 1.2489, 1.4113, 0.8503, 0.7267, -0.01, 0.0023, 0.0314, 3.0178, 2.9917, 2.9912, 2.9558, 2.949, 2.9485, 2.9476, 2.9424, 2.9367, 2.9361, 2.9256, 2.9186, 2.9163, 2.916, 2.9125, 2.9045, 2.8854, 2.8822, 2.8744, 2.8739, 2.8647, 2.8555, 2.8555, 2.8549, 2.8437, 2.8427, 2.832, 2.7997, 2.7898, 2.7654, 2.763, 2.7112, 2.5461, 0.8497, 0.0765, -0.1516, 1.1827, 1.6315, -0.5822, -0.4242, -0.1841, 3.0619, 3.0402, 3.0389, 3.028, 3.0044, 2.9964, 2.9922, 2.9891, 2.9834, 2.9764, 2.9727, 2.9715, 2.9714, 2.9605, 2.9574, 2.9565, 2.9536, 2.9535, 2.9396, 2.9387, 2.9211, 2.9193, 2.9164, 2.9129, 2.9112, 2.909, 2.9066, 2.902, 2.8868, 2.5453, 2.115, 2.1669, 0.1839, 0.3702, 0.8215, -0.203, 0.7196, -0.0196, -0.7077, 3.3098, 3.2695, 3.2653, 3.2621, 3.2612, 3.2603, 3.2567, 3.2489, 3.2331, 3.2281, 3.2186, 3.2031, 3.1995, 3.159, 3.1142, 3.0287, 2.9967, 2.8577, 2.7662, 2.3861, 2.3782, 2.366, 2.2402, 1.8414, 1.4582, 1.4317, 1.3849, 1.2741, 0.7761, 0.7759, -0.3007, -0.4679, -1.3097, 3.3816, 3.3694, 3.348, 3.3422, 3.3392, 3.3299, 3.3129, 3.3027, 3.3024, 3.2999, 3.2647, 3.2528, 3.2455, 3.2327, 3.2138, 3.0314, 3.024, 2.8187, 2.3609, 2.0274, 1.9892, 1.6385, 1.1762, 0.994, 0.994, 0.9885, 0.6714, 0.6648, 0.6326, 0.6172, 0.3467, 0.385, -0.3636, -1.4586, 0.4605, -1.4405, -3.3951, 3.4257, 3.4173, 3.3954, 3.3749, 3.3659, 3.3659, 3.3579, 3.3555, 3.3439, 3.3328, 3.3327, 2.394, 2.0917, 2.0214, 1.0973, 1.0961, 0.8302, 0.7719, 0.7675, 0.738, 0.7183, 0.7016, 0.6997, 0.6984, 0.6971, 0.6915, 0.6834, 0.6796, 0.6745, 0.6735, 0.6734, -0.115, -0.3, -0.0328, -0.4621, -0.4382, -1.4921, 0.6696, 0.5787, 0.567, 0.5763, 0.2087, -3.1082, 0.3623, -3.1084, -2.0045, 0.093, -0.7109, -1.2491, 0.2546, -3.0738, -2.3187, -1.2534, 3.4683, 3.467, 3.4637, 3.4621, 3.4556, 3.4446, 3.4169, 3.4048, 3.2868, 1.8801, 1.4428, 1.4412, 1.1203, 1.1149, 1.0808, 1.0655, 1.0488, 1.0438, 1.0435, 1.0425, 1.0373, 1.0309, 1.0266, 1.0202, 1.0195, 1.0188, 1.018, 1.017, 1.0074, 1.0067, 0.9937, 0.8965, 0.4874, 0.9372, 0.7973, 0.6813, 0.8516, 0.8179, -0.3405, 0.4609, 0.7305, 0.7898, -3.5682, 0.0755, 0.572, 0.6801, -2.6645, -1.1364, -1.0123, -3.3378, -0.4613, -0.1601, 0.077, -0.2882, -2.8742, -2.874, -3.2529, -2.5807, -3.1549, -2.2297, -2.8554, -2.173], \"logprob\": [30.0, 29.0, 28.0, 27.0, 26.0, 25.0, 24.0, 23.0, 22.0, 21.0, 20.0, 19.0, 18.0, 17.0, 16.0, 15.0, 14.0, 13.0, 12.0, 11.0, 10.0, 9.0, 8.0, 7.0, 6.0, 5.0, 4.0, 3.0, 2.0, 1.0, -4.5326, -5.1668, -5.1543, -5.389, -5.1376, -5.8265, -5.847, -5.0352, -5.3906, -5.4747, -5.9574, -4.4579, -5.5909, -5.2857, -6.1771, -6.2024, -6.2611, -6.3409, -6.3427, -6.351, -6.3664, -6.3763, -6.0225, -6.3917, -6.1385, -5.3317, -6.4133, -6.4285, -6.4438, -6.4455, -5.0469, -5.8335, -5.6049, -4.8975, -4.6561, -4.0437, -3.349, -4.4457, -4.9172, -5.7254, -4.5812, -4.145, -3.5672, -3.2556, -4.2597, -5.1079, -4.0129, -4.5543, -3.7418, -4.7218, -4.0179, -3.9736, -4.6429, -4.5468, -4.6991, -4.8041, -4.8105, -4.9901, -5.0843, -5.0573, -5.0511, -5.0519, -4.7037, -4.962, -5.2859, -5.2675, -5.4759, -5.5325, -5.5426, -5.5769, -5.5546, -5.5826, -5.6178, -3.226, -5.7317, -5.7518, -5.1931, -5.8689, -5.8855, -5.905, -5.9259, -5.8744, -5.9473, -6.0002, -6.0399, -5.0103, -6.1061, -6.1215, -6.1768, -6.1791, -6.2128, -5.6457, -4.4293, -3.2738, -3.2732, -5.1489, -5.1331, -4.0242, -4.34, -5.1882, -3.6377, -5.1926, -4.0514, -4.8404, -3.9912, -4.446, -4.8271, -4.6424, -4.4756, -4.52, -4.399, -4.7581, -5.175, -4.9049, -4.7389, -4.8948, -4.602, -4.6502, -4.9762, -5.0637, -5.027, -5.0594, -3.8977, -3.1559, -4.2981, -4.652, -4.887, -5.026, -5.081, -5.1507, -4.6713, -4.4954, -5.2079, -5.3525, -5.3535, -5.4004, -5.4217, -5.4268, -5.4306, -5.4406, -5.4607, -5.468, -5.0016, -5.5386, -5.6099, -5.6717, -4.2243, -5.6294, -5.6954, -5.7066, -5.7107, -5.7252, -4.4428, -5.0724, -4.4854, -4.3062, -4.5949, -4.5978, -4.4314, -3.3187, -3.4897, -3.3208, -4.3403, -4.3387, -3.5849, -5.016, -4.2674, -4.5777, -4.8836, -4.4879, -4.6822, -4.8971, -4.7124, -4.8517, -4.8217, -4.8451, -4.8474, -2.6346, -3.0331, -3.769, -3.951, -4.1026, -4.2725, -4.3107, -4.3914, -4.4934, -4.5876, -4.6753, -4.7063, -4.734, -4.7896, -4.12, -4.851, -4.8942, -5.0334, -5.0721, -5.1562, -5.1439, -5.1893, -5.2117, -4.7086, -5.2298, -5.2959, -5.3402, -4.4057, -5.146, -5.4576, -4.895, -4.1859, -3.7217, -2.3066, -2.6654, -3.5783, -2.9548, -3.3021, -3.8313, -4.1468, -4.3011, -3.3795, -3.7378, -3.7456, -4.0483, -4.1498, -4.1523, -4.1624, -3.3891, -4.2346, -4.1296, -4.2857, -4.3739, -4.386, -4.391, -4.178, -4.4657, -4.5736, -4.5953, -4.6352, -4.5326, -4.685, -4.7333, -4.7339, -4.6204, -4.79, -4.4313, -4.4808, -4.9641, -5.0165, -3.7618, -4.4024, -4.2812, -3.2849, -3.2994, -3.4125, -3.9567, -4.2823, -4.4255, -4.4035, -4.453, -4.5167, -3.4999, -3.7694, -3.754, -3.8873, -3.6305, -4.0964, -3.8018, -4.2177, -4.1892, -4.3083, -4.3319, -2.7022, -4.3425, -4.2838, -4.4304, -4.4345, -4.2636, -4.4542, -4.5207, -4.5396, -4.6344, -4.6427, -4.6573, -4.6745, -4.644, -4.6639, -4.706, -4.7275, -4.7961, -4.3614, -3.5323, -3.9115, -3.3051, -3.5441, -4.1869, -4.0243, -4.419, -4.3521, -4.5127, -2.8763, -3.4908, -3.544, -3.5753, -3.5884, -3.5569, -3.6347, -3.6874, -3.8538, -3.896, -3.9715, -2.4344, -4.1075, -4.355, -4.542, -3.3008, -3.0603, -4.8909, -4.918, -4.3472, -4.3603, -5.5936, -4.2656, -5.8462, -5.8982, -6.1404, -4.9572, -5.7088, -7.8903, -7.8903, -4.4498, -3.9569, -5.1148, -2.7399, -2.998, -3.3227, -3.3912, -3.4325, -3.5319, -3.706, -3.7958, -3.7912, -3.8163, -4.0215, -3.9129, -4.1702, -2.8786, -4.3812, -4.0597, -4.4987, -4.8846, -4.852, -5.6656, -5.9484, -6.1094, -5.8211, -7.6723, -7.6723, -6.4769, -7.6724, -7.6723, -7.6728, -7.6722, -5.0735, -5.9011, -4.278, -4.9476, -7.5764, -7.3116, -7.2164, -2.6417, -2.7193, -3.1984, -3.4536, -3.5491, -3.3569, -3.634, -3.6569, -3.7617, -3.8493, -3.7326, -3.6406, -5.7695, -5.7938, -7.569, -7.5702, -7.1774, -7.5719, -7.5696, -7.5675, -7.5711, -7.5711, -7.5715, -7.5699, -7.5696, -7.57, -7.5725, -7.5714, -7.5709, -7.5711, -7.5689, -4.2641, -4.1051, -5.0544, -3.9512, -5.0373, -5.3134, -7.5589, -7.5568, -7.5559, -7.5579, -7.5268, -7.4031, -7.5487, -7.4046, -7.4715, -7.5449, -7.5324, -7.5355, -7.5507, -7.528, -7.5341, -7.5402, -3.3169, -3.2021, -3.2893, -3.3772, -3.4591, -3.5732, -3.8012, -3.9125, -3.7511, -5.7055, -7.2234, -7.2251, -7.2235, -7.2222, -7.2247, -7.224, -7.2239, -7.2275, -7.2248, -7.2242, -7.2242, -7.225, -7.2244, -7.2243, -7.2236, -7.2266, -7.2243, -7.2253, -7.2248, -7.2223, -7.1379, -7.1972, -7.132, -7.2138, -7.2, -7.2021, -7.213, -7.2128, -7.162, -7.1967, -7.2099, -7.2126, -7.0572, -7.1836, -7.2068, -7.2112, -7.1187, -7.1709, -7.1752, -7.1591, -7.1902, -7.1955, -7.1982, -7.1949, -7.1691, -7.1702, -7.1672, -7.1798, -7.1838, -7.1846, -7.188, -7.1945]}, \"token.table\": {\"Topic\": [5, 5, 1, 2, 5, 7, 2, 7, 2, 6, 2, 3, 5, 2, 5, 2, 5, 5, 5, 6, 2, 3, 9, 2, 4, 8, 1, 4, 1, 2, 3, 4, 5, 6, 3, 5, 1, 3, 1, 3, 6, 1, 2, 3, 7, 1, 2, 4, 6, 1, 2, 3, 5, 4, 4, 9, 4, 3, 6, 2, 1, 2, 8, 6, 2, 1, 2, 3, 4, 6, 8, 1, 4, 5, 2, 10, 4, 2, 3, 5, 5, 7, 2, 4, 10, 7, 3, 9, 1, 2, 5, 7, 1, 2, 3, 7, 3, 1, 7, 1, 8, 9, 1, 2, 3, 4, 6, 2, 2, 1, 2, 3, 6, 2, 6, 8, 4, 3, 1, 5, 3, 10, 3, 6, 3, 7, 1, 2, 3, 1, 2, 3, 4, 5, 6, 9, 3, 4, 1, 2, 3, 6, 9, 1, 7, 5, 2, 7, 1, 3, 2, 1, 2, 3, 4, 5, 9, 8, 4, 9, 2, 2, 2, 4, 1, 2, 6, 2, 2, 1, 2, 3, 4, 1, 3, 2, 2, 5, 8, 4, 3, 2, 1, 2, 3, 1, 2, 3, 4, 5, 6, 1, 2, 3, 7, 10, 8, 1, 2, 3, 1, 3, 1, 1, 3, 6, 1, 2, 3, 1, 2, 3, 2, 1, 6, 5, 6, 6, 2, 1, 2, 1, 7, 8, 6, 1, 6, 2, 2, 5, 4, 5, 2, 9, 1, 2, 3, 2, 1, 2, 3, 4, 6, 2, 7, 4, 2, 1, 2, 3, 1, 1, 4, 1, 10, 4, 4, 1, 4, 9, 4, 4, 6, 1, 2, 3, 1, 2, 3, 4, 5, 6, 7, 9, 2, 5, 7, 1, 2, 5, 6, 10, 1, 3, 3, 7, 7, 1, 2, 3, 4, 5, 6, 1, 2, 3, 4, 5, 7, 9, 2, 2, 4, 2, 2, 5, 1, 2, 3, 4, 5, 6, 8, 3, 2, 2, 3, 3, 5, 1, 4, 3, 8, 3, 7, 1, 2, 3, 3, 2, 6, 4, 7, 1, 2, 6, 1, 5, 1, 1, 2, 9, 10, 1, 2, 6, 6, 3, 1, 2, 2, 3, 8, 2, 6, 3, 4, 1, 1, 2, 5, 1, 2, 3, 1, 2, 2, 1, 2, 3, 8, 3, 1, 9, 2, 4, 1, 6, 1, 2, 3, 1, 8, 3, 6, 3, 2, 6, 10, 10, 4, 2, 5, 1, 4, 5, 7, 1, 2, 3, 6, 10, 1, 2, 3, 4, 1, 2, 3, 5, 1, 2, 2, 7, 1, 2, 3, 1, 2, 2, 3, 3, 6, 3, 8, 6, 8, 1, 2, 1, 1, 2, 3, 6, 1, 2, 1, 9, 3, 1, 8, 3, 5, 6, 1, 2, 3, 4, 2, 3, 1, 4, 2, 1, 3, 9, 1, 3, 2, 2, 3, 6, 8, 1, 2, 3, 6, 1, 2, 3, 1, 2, 4, 8, 9, 1, 2, 1, 1, 3, 2, 6, 1, 5, 3, 2, 3, 1, 2, 3, 5, 5, 1, 2, 3, 4, 5, 1, 5, 5, 5, 1, 5, 1, 6, 1, 4, 1, 2, 3, 4, 5, 1, 1, 8, 1, 5, 4, 1, 2, 3, 4, 5, 6, 7, 8, 9, 7, 1, 2, 3, 2, 1, 3, 4, 2, 8, 2, 1, 6, 4, 5, 6, 7, 5, 1, 2, 3, 5, 1, 8, 3, 7, 1, 9, 6, 1, 2, 3, 4, 1, 2, 3, 1, 3, 1, 8, 1, 2, 3, 2, 1, 2, 3, 7, 1, 9, 1, 1, 2, 3, 4, 5, 1, 2, 3, 4, 5, 6, 1, 2, 2, 3, 5, 2, 3, 8, 8, 8, 8, 7, 1, 1, 7, 1, 2, 1, 2, 3, 1, 2, 1, 1, 2, 3, 4, 1, 7, 6, 2, 5, 6, 1], \"Freq\": [0.41864712757524863, 0.8601736959227779, 0.21443495335545595, 0.4288699067109119, 0.8562115918974493, 0.7622885151142261, 0.3135615335373767, 0.6271230670747534, 0.6893870446608217, 0.8423803149547687, 0.0877941705716911, 0.79014753514522, 0.8793787674925766, 0.5743834884088359, 0.8658895918241689, 0.9023174623884809, 0.646617613025308, 0.7452883095961654, 0.8830301230250204, 0.8539399013915417, 0.5424010221970469, 0.6784191121556185, 0.8540829247610655, 0.7484831533086718, 0.9083809549770769, 0.8401734518285808, 0.2066296690322597, 0.6198890070967792, 0.516458763967562, 0.2828226564584268, 0.07377982342393744, 0.02459327447464581, 0.012296637237322905, 0.08607646066126033, 0.10403065320208497, 0.8322452256166798, 0.40484069982747667, 0.5667769797584673, 0.34617299900913057, 0.22029190846035582, 0.3776432716463243, 0.29160356773799817, 0.29160356773799817, 0.3888047569839976, 0.862854701638328, 0.4089819038860677, 0.18404185674873047, 0.020449095194303386, 0.36808371349746094, 0.41897000453388855, 0.4500048196845469, 0.09310444545197523, 0.015517407575329205, 0.9105045234771509, 0.7373509471502084, 0.8630735034833366, 0.9573260395467315, 0.6717665126009464, 0.8459991412957804, 0.9231842723711678, 0.31634244173081305, 0.15817122086540653, 0.31634244173081305, 0.8773123506787702, 0.8826795398603626, 0.3102673624844609, 0.3666796102089084, 0.2820612386222372, 0.6930369280669811, 0.8721439027997849, 0.9529302493311471, 0.4905020023304314, 0.2452510011652157, 0.6790921995871019, 0.8989860277492839, 0.8690617138260062, 0.8869739426606158, 0.893993162888693, 0.23548902171256694, 0.7064670651377007, 0.8449251861380779, 0.7935133414199584, 0.7347485277424723, 0.14694970554849446, 0.8715593207004413, 0.9224813256277868, 0.7376597786558343, 0.8809002773361874, 0.4096587665585604, 0.16386350662342417, 0.2867611365909923, 0.12289762996756813, 0.30447438430848295, 0.2435795074467864, 0.0608948768616966, 0.3653692611701796, 0.7698056652033681, 0.6778096459994372, 0.11296827433323953, 0.48933851674352546, 0.39147081339482037, 0.844345734475208, 0.17452861183609453, 0.7245581764104531, 0.05288745813214985, 0.02115498325285994, 0.015866237439644958, 0.8677037266691262, 0.8910725337554594, 0.6975091308012068, 0.18851598129762348, 0.037703196259524695, 0.037703196259524695, 0.8523861343907433, 0.13340431997358382, 0.667021599867919, 0.8307178406672329, 0.825070715559579, 0.3686096516904843, 0.5897754427047749, 0.7103327972313248, 0.14206655944626495, 0.6900064505313823, 0.17250161263284558, 0.1672123210637215, 0.668849284254886, 0.6524654066741956, 0.3011378800034749, 0.02509482333362291, 0.39853515141589196, 0.31289949904553505, 0.15809658899142823, 0.05599254193446416, 0.02634943149857137, 0.036230468310535634, 0.006587357874642843, 0.7884465819898552, 0.8119264328025485, 0.6451949080022059, 0.2294026339563399, 0.07168832311135621, 0.028675329244542486, 0.021506496933406866, 0.7008408342950261, 0.1401681668590052, 0.8447222007207567, 0.8628274999475734, 0.8846839273482285, 0.8764830636469607, 0.820205651579841, 0.9416290897928709, 0.5140833190387357, 0.2953244598733163, 0.05468971479135487, 0.06562765774962584, 0.043751771833083895, 0.03281382887481292, 0.8728631708878051, 0.7842582661741053, 0.9484646807016719, 0.54914501890263, 0.5479539037832689, 0.5585334760219206, 0.8311890989801201, 0.3278059622510326, 0.24585447168827446, 0.3278059622510326, 0.9094491403871262, 0.8996465506099486, 0.598537666992143, 0.30296351045281306, 0.05911483130786596, 0.022168061740449736, 0.8960512125277981, 0.9136199489140452, 0.8864577313694147, 0.3342103026715162, 0.3342103026715162, 0.1671051513357581, 0.702110822862331, 0.8443850475723739, 0.5527481353622616, 0.3114961324460422, 0.6135529881512952, 0.0660749371855241, 0.5052236986653527, 0.2416287254486469, 0.10433967689827935, 0.06040718136216173, 0.038440933594102916, 0.043932495536117624, 0.3887802351571623, 0.2332681410942974, 0.15551209406286493, 0.15551209406286493, 0.9268593509209528, 0.8390824498863132, 0.4262258051262392, 0.4262258051262392, 0.0774956009320435, 0.7386450305307525, 0.8002056996284891, 0.9612790639894367, 0.9571978742889286, 0.017403597714344157, 0.8325085197552057, 0.3977983562611526, 0.29834876719586445, 0.2817738356849831, 0.8010103944323882, 0.09423651699204567, 0.04711825849602284, 0.8240997277636769, 0.8653718492258712, 0.827115633338531, 0.8731718010098467, 0.7297594962871118, 0.8079499573585548, 0.9597264442324506, 0.8211764150630284, 0.12965943395732027, 0.12150196538185472, 0.850513757672983, 0.908807472495787, 0.9186672281649126, 0.8108954293392272, 0.8678453785082804, 0.9263376627987232, 0.18664338903846533, 0.7465735561538613, 0.6107299938156401, 0.8749043750009868, 0.6499448287242658, 0.9328995161290983, 0.055800163865356495, 0.7998023487367764, 0.11160032773071299, 0.548407589157155, 0.17475652901468774, 0.7255043780306734, 0.058252176338229246, 0.021182609577537908, 0.01588695718315343, 0.629293976487348, 0.157323494121837, 0.8924232422105571, 0.6024158201840288, 0.265544029246353, 0.6240284687289296, 0.07966320877390591, 0.7079281494836455, 0.5496479843977011, 0.8718327149168937, 0.7714623593381537, 0.885420818647295, 0.8400479819820279, 0.7780110974481473, 0.9205213445649247, 0.9733955340831016, 0.9340325273453159, 0.8937321690653504, 0.8700909260728402, 0.8185920428623011, 0.31982709350067723, 0.039978386687584654, 0.5996758003137699, 0.5833173335608035, 0.06805368891542708, 0.11990411856527629, 0.13286672597773858, 0.038887822237386904, 0.022684562971809027, 0.009721955559346726, 0.022684562971809027, 0.7868211126312418, 0.7899965782817595, 0.8602101465140765, 0.04053569685257163, 0.04053569685257163, 0.8512496339040042, 0.16431571415754515, 0.7394207137089531, 0.5103281560188604, 0.4422844018830123, 0.7878945332746065, 0.9151595783867362, 0.8739999961183365, 0.3891273748137919, 0.2715784803387922, 0.1661898163267236, 0.11754889447499962, 0.028373871080172322, 0.02026705077155166, 0.42056249739449825, 0.2879938840853629, 0.0685699724012769, 0.05942730941443997, 0.10514062434862456, 0.027427988960510755, 0.027427988960510755, 0.6881236122992546, 0.5623530337187401, 0.8121591550586085, 0.6076962540625256, 0.850441034021954, 0.8478131504204774, 0.5205333837395348, 0.1301333459348837, 0.03976296681343669, 0.19881483406718345, 0.021688890989147284, 0.06145185780258397, 0.021688890989147284, 0.7443620726500247, 0.765444842336815, 0.5479128512807789, 0.5648384767683466, 0.5614316898753904, 0.9052949756717356, 0.22041950105051628, 0.7347316701683876, 0.7870630497786413, 0.9243844476261227, 0.8657174732612323, 0.9224049328222326, 0.0496154202101313, 0.8930775637823635, 0.0496154202101313, 0.8145133407566832, 0.838251072822102, 0.8323470126318249, 0.7903361125268823, 0.9463485275026837, 0.8441385821902511, 0.10231982814427286, 0.025579957036068215, 0.6064787251935224, 0.8017313171040881, 0.9461759888585394, 0.5422072667121527, 0.09036787778535878, 0.3313488852129822, 0.942932715406416, 0.8599956047326234, 0.06879964837860987, 0.034399824189304935, 0.7656768646151808, 0.8790994380893066, 0.8398304542858008, 0.11197739390477345, 0.7634244173163068, 0.9289205536611402, 0.048890555455849485, 0.3602743315929254, 0.5764389305486806, 0.2231044920829674, 0.4462089841659348, 0.9222038873228724, 0.24095937626219693, 0.6023984406554923, 0.12047968813109847, 0.6603774476299739, 0.05079826520230569, 0.2539913260115284, 0.8998766121080434, 0.05453797649139657, 0.8486489747506326, 0.07740925531212234, 0.1161138829681835, 0.7740925531212233, 0.8955291904721993, 0.826175285477882, 0.5362039865047769, 0.17873466216825895, 0.12661986665412567, 0.8230291332518169, 0.06437265016994927, 0.8368444522093405, 0.600077114518812, 0.28128614743069313, 0.09376204914356437, 0.6060499801812536, 0.20201666006041785, 0.8606805924476071, 0.0662061994190467, 0.9163653146816269, 0.05490668542119962, 0.8785069667391939, 0.9090675364590443, 0.8857348942984623, 0.7532828867320517, 0.10814192783513912, 0.7569934948459739, 0.4194606896640752, 0.4575934796335365, 0.07626557993892276, 0.8954471413571236, 0.4553593119770739, 0.4716221445476837, 0.048788497711829346, 0.786305744347713, 0.8933565692507578, 0.581496029286205, 0.232598411714482, 0.03876640195241367, 0.07753280390482734, 0.42607364445434964, 0.39198775289800164, 0.017042945778173984, 0.15338651200356587, 0.8497828980005795, 0.0772529907273254, 0.20648728445371708, 0.41297456890743417, 0.552578900424509, 0.3581529910158854, 0.08186354080363095, 0.8866310648545959, 0.06820238960419968, 0.05541302999193932, 0.8311954498790898, 0.819078253555084, 0.8412523655658789, 0.3196104135810008, 0.4794156203715012, 0.7829008247978186, 0.9442549576708332, 0.8812274068113938, 0.04638038983217862, 0.8332373310081641, 0.5014909532040226, 0.22795043327455572, 0.2583438243778298, 0.8755029340968018, 0.10510458777945703, 0.8408367022356562, 0.8218989048167142, 0.9649484471157943, 0.7702609551932278, 0.17327941964130414, 0.6931176785652166, 0.8173835580659884, 0.8223308408853849, 0.8661211211576468, 0.5683828477200298, 0.3078740425150161, 0.09473047462000496, 0.007894206218333746, 0.8908997340880497, 0.9442101775146398, 0.10429074531901789, 0.7300352172331251, 0.8550219660747931, 0.8831893168194942, 0.5554091989267819, 0.8991954739165852, 0.4131754273122527, 0.5312255494014678, 0.8907572670876113, 0.8392124313414128, 0.06455480241087791, 0.9001868644887944, 0.9104911580337414, 0.6715904832264216, 0.279829368011009, 0.033579524161321074, 0.8268442502134263, 0.5819965655796778, 0.34160667979676745, 0.06326049625866063, 0.2820086605745882, 0.2820086605745882, 0.681561400781356, 0.860471364396008, 0.8718015870416684, 0.884427730964329, 0.6651474783503475, 0.5406972920448084, 0.18542651958545295, 0.7417060783418118, 0.7084537737668362, 0.8160101477355509, 0.8452871836997545, 0.9118991445006065, 0.8389210672389064, 0.4564798910447217, 0.4564798910447217, 0.10673704176781301, 0.747159292374691, 0.10673704176781301, 0.8314039224779567, 0.7650253347207391, 0.35462590308727415, 0.5455783124419603, 0.054557831244196026, 0.8197722571651529, 0.8556662180084393, 0.19721015714658754, 0.7395380892997032, 0.4186231796745909, 0.8761918874053386, 0.9277517070076444, 0.030925056900254815, 0.12599100881562492, 0.8399400587708328, 0.5934350665250266, 0.37584220879918356, 0.519120352374742, 0.04237717162242792, 0.1483201006784977, 0.23307444392335355, 0.04237717162242792, 0.9095026084939467, 0.1300917272514752, 0.81307329532172, 0.5001223351868439, 0.7085774993442059, 0.8789982320672747, 0.46541382932670594, 0.08268773617479547, 0.11340032389686236, 0.18663803308025262, 0.04961264170487728, 0.05197514845272858, 0.02126256073066169, 0.0070875202435538975, 0.018900053982810392, 0.9335585003197268, 0.11226813189660151, 0.7858769232762106, 0.037422710632200505, 0.8896239990028619, 0.9047404511674657, 0.1492793174173826, 0.7463965870869129, 0.7558165219901498, 0.12596942033169162, 0.5404183380142003, 0.8326130048326513, 0.8581500653983956, 0.7620997530066352, 0.24645012361697782, 0.030806265452122228, 0.7085441053988113, 0.9525311205822399, 0.524465338076087, 0.31467920284565215, 0.1348625155052795, 0.8552030571243235, 0.7888469240441017, 0.07888469240441016, 0.6776501052871882, 0.8609663348076787, 0.8576660723754156, 0.879016726344577, 0.7422017220282858, 0.7686956498747475, 0.12550133059179552, 0.06275066529589776, 0.047062998971923314, 0.8884292937078491, 0.060232494488667736, 0.030116247244333868, 0.8811413191148161, 0.04195911043403886, 0.8909207881884125, 0.038735686442974454, 0.8259152851366667, 0.06882627376138889, 0.8687867833413041, 0.9088156129026146, 0.28953459634230866, 0.09651153211410288, 0.28953459634230866, 0.33779036239936006, 0.5614637990099942, 0.1871545996699981, 0.8591829278785036, 0.45279615909572296, 0.35217479040778454, 0.10062136868793845, 0.033540456229312815, 0.04192557028664102, 0.4533721839333035, 0.3346318500460097, 0.06476745484761479, 0.03238372742380739, 0.010794575807935797, 0.09715118227142218, 0.27398328829481366, 0.6849582207370342, 0.8807071227012193, 0.04403535613506097, 0.8737167585731371, 0.9324894648307988, 0.687390357328478, 0.8424062095759866, 0.8867378593542967, 0.8686734113327058, 0.8884258808111778, 0.8906307237043208, 0.7294200785279242, 0.5452584179081535, 0.363505611938769, 0.7174392115016414, 0.1024913159288059, 0.7725488375205085, 0.1423116279643042, 0.06099069769898751, 0.49513212893898345, 0.3300880859593223, 0.8897498770812544, 0.6945601749003422, 0.22405166932269102, 0.044810333864538206, 0.022405166932269103, 0.24273616311471624, 0.7282084893441487, 0.8416852485007971, 0.8016754057906134, 0.7634109055591707, 0.915374889332193, 0.5836696053160411], \"Term\": [\"0000\", \"10h\", \"11\", \"11\", \"12\", \"12h\", \"13\", \"13\", \"15\", \"18h\", \"1er\", \"1er\", \"20\", \"2007\", \"2016\", \"2017\", \"21\", \"23\", \"49\", \"8h\", \"activit\\u00e9\", \"affaires\", \"ait\", \"alstom\", \"an\", \"ancien\", \"arr\\u00eaterai\", \"arr\\u00eaterai\", \"au\", \"au\", \"au\", \"au\", \"au\", \"au\", \"aura\", \"aura\", \"aurai\", \"aurai\", \"aurais\", \"aurais\", \"aurais\", \"aurait\", \"aurait\", \"aurait\", \"autoriserai\", \"aux\", \"aux\", \"aux\", \"aux\", \"avec\", \"avec\", \"avec\", \"avec\", \"bah\", \"baiser\", \"ballerine\", \"ballerines\", \"bande\", \"banques\", \"bayrou\", \"beau\", \"beau\", \"beau\", \"belle\", \"bendit\", \"bien\", \"bien\", \"bien\", \"blanc\", \"bonne\", \"bordel\", \"boulot\", \"boulot\", \"burkini\", \"bus\", \"cache\", \"camembert\", \"candidat\", \"cannabis\", \"cannabis\", \"cantine\", \"cantines\", \"cars\", \"cars\", \"carte\", \"cc\", \"chaine\", \"changement\", \"chaque\", \"chaque\", \"chaque\", \"chaque\", \"chez\", \"chez\", \"chez\", \"chez\", \"chirac\", \"chocolat\", \"chocolat\", \"chocolatine\", \"chocolatine\", \"christineboutin\", \"co\", \"co\", \"co\", \"co\", \"co\", \"cohn\", \"cohnbendit\", \"comme\", \"comme\", \"comme\", \"comme\", \"comment\", \"comptes\", \"comptes\", \"constitution\", \"coupe\", \"cours\", \"cours\", \"cr\\u00e9er\", \"cr\\u00e9er\", \"culture\", \"culture\", \"cyrilhanouna\", \"cyrilhanouna\", \"dans\", \"dans\", \"dans\", \"de\", \"de\", \"de\", \"de\", \"de\", \"de\", \"de\", \"demanderai\", \"demanderais\", \"des\", \"des\", \"des\", \"des\", \"des\", \"devoirs\", \"devoirs\", \"dimanche\", \"direct\", \"domicile\", \"donnerai\", \"drogue\", \"droite\", \"du\", \"du\", \"du\", \"du\", \"du\", \"du\", \"dutreil\", \"d\\u00e9missionnerai\", \"d\\u00e9missionnerais\", \"d\\u00e9put\\u00e9\", \"edito\", \"effets\", \"elysee\", \"elys\\u00e9e\", \"elys\\u00e9e\", \"elys\\u00e9e\", \"emmanuel\", \"emmanuelmacron\", \"en\", \"en\", \"en\", \"en\", \"end\", \"enfant\", \"enmarche\", \"entretien\", \"entretien\", \"entretien\", \"envers\", \"es\", \"espace\", \"est\", \"est\", \"est\", \"et\", \"et\", \"et\", \"et\", \"et\", \"et\", \"etc\", \"etc\", \"etc\", \"etc\", \"eu\", \"fachos\", \"fait\", \"fait\", \"fait\", \"faites\", \"famille\", \"ferai\", \"ferais\", \"ferais\", \"finances\", \"france\", \"france\", \"france\", \"fran\\u00e7ais\", \"fran\\u00e7ais\", \"fran\\u00e7ais\", \"fran\\u00e7ois\", \"fromage\", \"fronti\\u00e8res\", \"f\\u00e9ri\\u00e9\", \"f\\u00e9ri\\u00e9s\", \"f\\u00eate\", \"gauche\", \"gens\", \"gens\", \"gratuit\", \"gratuit\", \"gratuites\", \"gratuits\", \"gros\", \"grosse\", \"gt\", \"g\\u00e9rard\", \"g\\u00e9rard\", \"haine\", \"hashtag\", \"haute\", \"heure\", \"hollande\", \"hollande\", \"hollande\", \"homologues\", \"https\", \"https\", \"https\", \"https\", \"https\", \"humour\", \"humour\", \"hymne\", \"h\\u00e9ritage\", \"il\", \"il\", \"il\", \"ill\\u00e9gal\", \"important\", \"imposerai\", \"in\", \"installation\", \"instaurerais\", \"interdiction\", \"interdirai\", \"interdirais\", \"interdirait\", \"interdit\", \"interdite\", \"internet\", \"jamais\", \"jamais\", \"jamais\", \"je\", \"je\", \"je\", \"je\", \"je\", \"je\", \"je\", \"je\", \"jean\", \"jeudi\", \"jeux\", \"jour\", \"jour\", \"jour\", \"journ\\u00e9es\", \"journ\\u00e9es\", \"jul\", \"jul\", \"justice\", \"kebab\", \"kfc\", \"la\", \"la\", \"la\", \"la\", \"la\", \"la\", \"le\", \"le\", \"le\", \"le\", \"le\", \"le\", \"le\", \"le1hebdo\", \"le_parisien\", \"leggings\", \"lelab_e1\", \"lemissionpolitique\", \"lenorman\", \"les\", \"les\", \"les\", \"les\", \"les\", \"les\", \"les\", \"lettre\", \"libre\", \"lib\\u00e9ral\", \"lrps\", \"lrpsfn\", \"lundi\", \"lyc\\u00e9e\", \"lyc\\u00e9e\", \"l\\u00e9gal\", \"l\\u00e9galiserai\", \"l\\u00e9galiserais\", \"macdo\", \"macron\", \"macron\", \"macron\", \"mandat\", \"marche\", \"marre\", \"maths\", \"mcdo\", \"me\", \"me\", \"me\", \"medef\", \"mercredi\", \"merde\", \"mes\", \"mes\", \"mes\", \"mets\", \"mettrais\", \"mettrais\", \"mettrais\", \"meufs\", \"mickey\", \"mieux\", \"mieux\", \"millions\", \"ministre\", \"ministre\", \"minist\\u00e8re\", \"minist\\u00e8re\", \"mlp_officiel\", \"mlp_officiel\", \"moins\", \"mois\", \"mois\", \"mois\", \"mon\", \"mon\", \"mon\", \"monde\", \"monde\", \"montebourg\", \"mort\", \"mort\", \"mort\", \"mot\", \"m\\u00e8re\", \"nan\", \"nan\", \"national\", \"national\", \"nationale\", \"nationale\", \"ne\", \"ne\", \"ne\", \"netflix\", \"netflix\", \"nommerai\", \"nommerai\", \"nommerais\", \"nos\", \"nos\", \"notaires\", \"nouveaux\", \"nouvel\", \"obama\", \"obama\", \"obligatoire\", \"obligatoire\", \"obligatoire\", \"obligerai\", \"on\", \"on\", \"on\", \"organiserai\", \"organiserais\", \"ou\", \"ou\", \"ou\", \"ou\", \"par\", \"par\", \"par\", \"par\", \"parce\", \"parce\", \"partir\", \"partir\", \"pas\", \"pas\", \"pas\", \"pays\", \"pays\", \"peine\", \"peine\", \"pens\\u00e9e\", \"permis\", \"perp\\u00e9tuit\\u00e9\", \"perp\\u00e9tuit\\u00e9\", \"picsou\", \"pizza\", \"place\", \"place\", \"plein\", \"plus\", \"plus\", \"plus\", \"police\", \"politique\", \"politique\", \"politiques\", \"port\", \"porte\", \"possible\", \"possible\", \"poste\", \"pote\", \"poudlard\", \"pour\", \"pour\", \"pour\", \"pour\", \"pourquoi\", \"premier\", \"premi\\u00e8re\", \"premi\\u00e8re\", \"presidentielle2017\", \"prison\", \"pro\", \"promesses\", \"pr\\u00e9sident\", \"pr\\u00e9sident\", \"pr\\u00e9sidentielle\", \"ps\", \"ps\", \"putain\", \"putes\", \"que\", \"que\", \"que\", \"question\", \"qui\", \"qui\", \"qui\", \"quotidien\", \"quotidien\", \"raciste\", \"renaud\", \"rendrai\", \"rendrais\", \"rocard\", \"r\\u00e9f\\u00e9rendum\", \"r\\u00e9publique\", \"r\\u00e9publique\", \"r\\u00e9seaux\", \"r\\u00e9tablirais\", \"salaire\", \"samedi\", \"sant\\u00e9\", \"sarko\", \"sarko\", \"sarkozy\", \"sarkozy\", \"sarkozy\", \"scolaire\", \"scolaires\", \"se\", \"se\", \"se\", \"secret\", \"self\", \"semaine\", \"semaine\", \"sep\", \"septembre\", \"serai\", \"serai\", \"seraient\", \"seraient\", \"serais\", \"serais\", \"serait\", \"serait\", \"serait\", \"serait\", \"serait\", \"seriez\", \"seront\", \"seront\", \"servent\", \"shopping\", \"sieste\", \"sijetaispresident\", \"sijetaispresident\", \"sijetaispresident\", \"sijetaispresident\", \"sijetaispresident\", \"sijetaispresident\", \"sijetaispresident\", \"sijetaispresident\", \"sijetaispresident\", \"soir\", \"son\", \"son\", \"son\", \"sondage\", \"sorte\", \"sortie\", \"sortie\", \"soutien\", \"soutien\", \"soutiens\", \"sport\", \"ss10\", \"suppression\", \"supprimerai\", \"supprimerai\", \"supprimerai\", \"supprimerais\", \"sur\", \"sur\", \"sur\", \"s\\u00e9nat\", \"s\\u00e9ries\", \"s\\u00e9ries\", \"ta\", \"tacos\", \"temps\", \"tiendrais\", \"tintin\", \"tous\", \"tous\", \"tous\", \"tous\", \"tout\", \"tout\", \"tout\", \"toute\", \"toute\", \"toutes\", \"toutes\", \"travail\", \"travail\", \"triste\", \"tr\\u00e8s\", \"tu\", \"tu\", \"tu\", \"tu\", \"tweeter\", \"tweeter\", \"t\\u00e9l\\u00e9\", \"un\", \"un\", \"un\", \"un\", \"un\", \"une\", \"une\", \"une\", \"une\", \"une\", \"une\", \"vacances\", \"vacances\", \"valls\", \"valls\", \"vendredi\", \"via\", \"violeurs\", \"vire\", \"virerais\", \"vitesse\", \"vivre\", \"volont\\u00e9\", \"vont\", \"vos\", \"vos\", \"votez\", \"votez\", \"vous\", \"vous\", \"vous\", \"vs\", \"vs\", \"week\", \"\\u00e7a\", \"\\u00e7a\", \"\\u00e7a\", \"\\u00e7a\", \"\\u00e9cole\", \"\\u00e9cole\", \"\\u00e9conomie\", \"\\u00e9conomique\", \"\\u00e9couter\", \"\\u00e9ducation\", \"\\u00e9lus\"]}, \"R\": 30, \"lambda.step\": 0.01, \"plot.opts\": {\"xlab\": \"PC1\", \"ylab\": \"PC2\"}, \"topic.order\": [3, 2, 6, 5, 7, 9, 1, 10, 8, 4]};\n",
              "\n",
              "function LDAvis_load_lib(url, callback){\n",
              "  var s = document.createElement('script');\n",
              "  s.src = url;\n",
              "  s.async = true;\n",
              "  s.onreadystatechange = s.onload = callback;\n",
              "  s.onerror = function(){console.warn(\"failed to load library \" + url);};\n",
              "  document.getElementsByTagName(\"head\")[0].appendChild(s);\n",
              "}\n",
              "\n",
              "if(typeof(LDAvis) !== \"undefined\"){\n",
              "   // already loaded: just create the visualization\n",
              "   !function(LDAvis){\n",
              "       new LDAvis(\"#\" + \"ldavis_el5126414906529248087339155282\", ldavis_el5126414906529248087339155282_data);\n",
              "   }(LDAvis);\n",
              "}else if(typeof define === \"function\" && define.amd){\n",
              "   // require.js is available: use it to load d3/LDAvis\n",
              "   require.config({paths: {d3: \"https://cdnjs.cloudflare.com/ajax/libs/d3/3.5.5/d3.min\"}});\n",
              "   require([\"d3\"], function(d3){\n",
              "      window.d3 = d3;\n",
              "      LDAvis_load_lib(\"https://cdn.rawgit.com/bmabey/pyLDAvis/files/ldavis.v1.0.0.js\", function(){\n",
              "        new LDAvis(\"#\" + \"ldavis_el5126414906529248087339155282\", ldavis_el5126414906529248087339155282_data);\n",
              "      });\n",
              "    });\n",
              "}else{\n",
              "    // require.js not available: dynamically load d3 & LDAvis\n",
              "    LDAvis_load_lib(\"https://cdnjs.cloudflare.com/ajax/libs/d3/3.5.5/d3.min.js\", function(){\n",
              "         LDAvis_load_lib(\"https://cdn.rawgit.com/bmabey/pyLDAvis/files/ldavis.v1.0.0.js\", function(){\n",
              "                 new LDAvis(\"#\" + \"ldavis_el5126414906529248087339155282\", ldavis_el5126414906529248087339155282_data);\n",
              "            })\n",
              "         });\n",
              "}\n",
              "</script>"
            ],
            "text/plain": [
              "PreparedData(topic_coordinates=              x         y  topics  cluster       Freq\n",
              "topic                                                \n",
              "2      0.132172  0.049678       1        1  36.881857\n",
              "1      0.115237  0.158473       2        1  26.106389\n",
              "5      0.174221  0.095581       3        1   9.645160\n",
              "4      0.157026 -0.190649       4        1   5.727111\n",
              "6     -0.021095 -0.162058       5        1   4.590570\n",
              "8      0.005103 -0.062020       6        1   4.341137\n",
              "0     -0.171929 -0.012022       7        1   3.476527\n",
              "9     -0.157733  0.042830       8        1   3.247126\n",
              "7     -0.101223  0.019969       9        1   3.118181\n",
              "3     -0.131778  0.060219      10        1   2.865942, topic_info=    Category        Freq               Term       Total  loglift  logprob\n",
              "837  Default  423.000000  sijetaispresident  423.000000  30.0000  30.0000\n",
              "494  Default  276.000000                les  276.000000  29.0000  29.0000\n",
              "460  Default  308.000000                 je  308.000000  28.0000  28.0000\n",
              "447  Default   58.000000        interdirais   58.000000  27.0000  27.0000\n",
              "397  Default   49.000000            gratuit   49.000000  26.0000  26.0000\n",
              "..       ...         ...                ...         ...      ...      ...\n",
              "245  Topic10    0.302704                des  139.492731  -2.5807  -7.1798\n",
              "479  Topic10    0.301500                 la  246.705851  -3.1549  -7.1838\n",
              "646  Topic10    0.301246                pas   97.723601  -2.2297  -7.1846\n",
              "321  Topic10    0.300239                 et  182.097554  -2.8554  -7.1880\n",
              "277  Topic10    0.298278                 du   91.424869  -2.1730  -7.1945\n",
              "\n",
              "[513 rows x 6 columns], token_table=      Topic      Freq        Term\n",
              "term                             \n",
              "1         5  0.418647        0000\n",
              "5         5  0.860174         10h\n",
              "6         1  0.214435          11\n",
              "6         2  0.428870          11\n",
              "7         5  0.856212          12\n",
              "...     ...       ...         ...\n",
              "982       6  0.841685    \u00e9conomie\n",
              "983       2  0.801675  \u00e9conomique\n",
              "985       5  0.763411     \u00e9couter\n",
              "986       6  0.915375   \u00e9ducation\n",
              "987       1  0.583670        \u00e9lus\n",
              "\n",
              "[623 rows x 3 columns], R=30, lambda_step=0.01, plot_opts={'xlab': 'PC1', 'ylab': 'PC2'}, topic_order=[3, 2, 6, 5, 7, 9, 1, 10, 8, 4])"
            ]
          },
          "execution_count": 33,
          "metadata": {},
          "output_type": "execute_result"
        }
      ],
      "source": [
        "pyLDAvis.sklearn.prepare(lda, tfidf, tfidf_vectorizer)"
      ]
    },
    {
      "cell_type": "code",
      "execution_count": 33,
      "metadata": {},
      "outputs": [],
      "source": []
    },
    {
      "cell_type": "markdown",
      "metadata": {},
      "source": [
        "### Exercice 4 : LDA\n",
        "\n",
        "Recommencer en supprimant les stop-words pour avoir des r\u00e9sultats plus propres."
      ]
    },
    {
      "cell_type": "code",
      "execution_count": 34,
      "metadata": {},
      "outputs": [],
      "source": []
    }
  ],
  "metadata": {
    "kernelspec": {
      "display_name": "Python 3",
      "language": "python",
      "name": "python3"
    },
    "language_info": {
      "codemirror_mode": {
        "name": "ipython",
        "version": 3
      },
      "file_extension": ".py",
      "mimetype": "text/x-python",
      "name": "python",
      "nbconvert_exporter": "python",
      "pygments_lexer": "ipython3",
      "version": "3.7.2"
    }
  },
  "nbformat": 4,
  "nbformat_minor": 1
}