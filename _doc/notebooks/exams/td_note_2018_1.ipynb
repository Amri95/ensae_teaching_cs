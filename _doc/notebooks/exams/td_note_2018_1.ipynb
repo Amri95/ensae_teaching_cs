{
  "cells": [
    {
      "cell_type": "markdown",
      "metadata": {},
      "source": [
        "# Enonc\u00e9 12 d\u00e9cembre 2017\n",
        "\n",
        "Correction du premier \u00e9nonc\u00e9 de l'examen du 12 d\u00e9cembre 2017. Celui-ci m\u00e8ne \u00e0 l'impl\u00e9mentation d'un algorithme qui permet de retrouver une fonction $f$ en escalier \u00e0 partir d'un ensemble de points $(X_i, f(X_i))$."
      ]
    },
    {
      "cell_type": "code",
      "execution_count": 1,
      "metadata": {},
      "outputs": [
        {
          "data": {
            "text/html": [
              "<div id=\"my_id_menu_nb\">run previous cell, wait for 2 seconds</div>\n",
              "<script>\n",
              "function repeat_indent_string(n){\n",
              "    var a = \"\" ;\n",
              "    for ( ; n > 0 ; --n)\n",
              "        a += \"    \";\n",
              "    return a;\n",
              "}\n",
              "var update_menu_string = function(begin, lfirst, llast, sformat, send, keep_item, begin_format, end_format) {\n",
              "    var anchors = document.getElementsByClassName(\"section\");\n",
              "    if (anchors.length == 0) {\n",
              "        anchors = document.getElementsByClassName(\"text_cell_render rendered_html\");\n",
              "    }\n",
              "    var i,t;\n",
              "    var text_menu = begin;\n",
              "    var text_memo = \"<pre>\\nlength:\" + anchors.length + \"\\n\";\n",
              "    var ind = \"\";\n",
              "    var memo_level = 1;\n",
              "    var href;\n",
              "    var tags = [];\n",
              "    var main_item = 0;\n",
              "    var format_open = 0;\n",
              "    for (i = 0; i <= llast; i++)\n",
              "        tags.push(\"h\" + i);\n",
              "\n",
              "    for (i = 0; i < anchors.length; i++) {\n",
              "        text_memo += \"**\" + anchors[i].id + \"--\\n\";\n",
              "\n",
              "        var child = null;\n",
              "        for(t = 0; t < tags.length; t++) {\n",
              "            var r = anchors[i].getElementsByTagName(tags[t]);\n",
              "            if (r.length > 0) {\n",
              "child = r[0];\n",
              "break;\n",
              "            }\n",
              "        }\n",
              "        if (child == null) {\n",
              "            text_memo += \"null\\n\";\n",
              "            continue;\n",
              "        }\n",
              "        if (anchors[i].hasAttribute(\"id\")) {\n",
              "            // when converted in RST\n",
              "            href = anchors[i].id;\n",
              "            text_memo += \"#1-\" + href;\n",
              "            // passer \u00e0 child suivant (le chercher)\n",
              "        }\n",
              "        else if (child.hasAttribute(\"id\")) {\n",
              "            // in a notebook\n",
              "            href = child.id;\n",
              "            text_memo += \"#2-\" + href;\n",
              "        }\n",
              "        else {\n",
              "            text_memo += \"#3-\" + \"*\" + \"\\n\";\n",
              "            continue;\n",
              "        }\n",
              "        var title = child.textContent;\n",
              "        var level = parseInt(child.tagName.substring(1,2));\n",
              "\n",
              "        text_memo += \"--\" + level + \"?\" + lfirst + \"--\" + title + \"\\n\";\n",
              "\n",
              "        if ((level < lfirst) || (level > llast)) {\n",
              "            continue ;\n",
              "        }\n",
              "        if (title.endsWith('\u00b6')) {\n",
              "            title = title.substring(0,title.length-1).replace(\"<\", \"&lt;\")\n",
              "         .replace(\">\", \"&gt;\").replace(\"&\", \"&amp;\");\n",
              "        }\n",
              "        if (title.length == 0) {\n",
              "            continue;\n",
              "        }\n",
              "\n",
              "        while (level < memo_level) {\n",
              "            text_menu += end_format + \"</ul>\\n\";\n",
              "            format_open -= 1;\n",
              "            memo_level -= 1;\n",
              "        }\n",
              "        if (level == lfirst) {\n",
              "            main_item += 1;\n",
              "        }\n",
              "        if (keep_item != -1 && main_item != keep_item + 1) {\n",
              "            // alert(main_item + \" - \" + level + \" - \" + keep_item);\n",
              "            continue;\n",
              "        }\n",
              "        while (level > memo_level) {\n",
              "            text_menu += \"<ul>\\n\";\n",
              "            memo_level += 1;\n",
              "        }\n",
              "        text_menu += repeat_indent_string(level-2);\n",
              "        text_menu += begin_format + sformat.replace(\"__HREF__\", href).replace(\"__TITLE__\", title);\n",
              "        format_open += 1;\n",
              "    }\n",
              "    while (1 < memo_level) {\n",
              "        text_menu += end_format + \"</ul>\\n\";\n",
              "        memo_level -= 1;\n",
              "        format_open -= 1;\n",
              "    }\n",
              "    text_menu += send;\n",
              "    //text_menu += \"\\n\" + text_memo;\n",
              "\n",
              "    while (format_open > 0) {\n",
              "        text_menu += end_format;\n",
              "        format_open -= 1;\n",
              "    }\n",
              "    return text_menu;\n",
              "};\n",
              "var update_menu = function() {\n",
              "    var sbegin = \"\";\n",
              "    var sformat = '<a href=\"#__HREF__\">__TITLE__</a>';\n",
              "    var send = \"\";\n",
              "    var begin_format = '<li>';\n",
              "    var end_format = '</li>';\n",
              "    var keep_item = -1;\n",
              "    var text_menu = update_menu_string(sbegin, 2, 4, sformat, send, keep_item,\n",
              "       begin_format, end_format);\n",
              "    var menu = document.getElementById(\"my_id_menu_nb\");\n",
              "    menu.innerHTML=text_menu;\n",
              "};\n",
              "window.setTimeout(update_menu,2000);\n",
              "            </script>"
            ],
            "text/plain": [
              "<IPython.core.display.HTML object>"
            ]
          },
          "execution_count": 2,
          "metadata": {},
          "output_type": "execute_result"
        }
      ],
      "source": [
        "from jyquickhelper import add_notebook_menu\n",
        "add_notebook_menu()"
      ]
    },
    {
      "cell_type": "markdown",
      "metadata": {},
      "source": [
        "## Q1 - \u00e9chantillon al\u00e9atoire\n",
        "\n",
        "G\u00e9n\u00e9rer un ensemble al\u00e9atoire de 1000 nombres $(X_i,Y_i)$ qui v\u00e9rifie :\n",
        "\n",
        "* $X_i$ suit une loi uniforme sur $[0,16]$\n",
        "* $Y_i = \\mathbb{1}_{[\\sqrt{X_i}] \\mod 2}$ o\u00f9 $[A]$ est la partie enti\u00e8re de $A$.\n",
        "\n",
        "On pourra se servir de la fonction ``random`` du module ``random``."
      ]
    },
    {
      "cell_type": "code",
      "execution_count": 2,
      "metadata": {},
      "outputs": [],
      "source": [
        "import random\n",
        "X = [random.random() * 16 for i in range(0,1000)]\n",
        "Y = [ int(x**0.5) % 2 for x in X]"
      ]
    },
    {
      "cell_type": "markdown",
      "metadata": {},
      "source": [
        "## Q1 - dessiner le nuage de points - donn\u00e9e\n",
        "\n",
        "Le code suivant vous est donn\u00e9 afin de v\u00e9rifier vos r\u00e9ponses."
      ]
    },
    {
      "cell_type": "code",
      "execution_count": 3,
      "metadata": {},
      "outputs": [],
      "source": [
        "%matplotlib inline"
      ]
    },
    {
      "cell_type": "code",
      "execution_count": 4,
      "metadata": {},
      "outputs": [
        {
          "data": {
            "text/plain": [
              "[<matplotlib.lines.Line2D at 0x27f1031e588>]"
            ]
          },
          "execution_count": 5,
          "metadata": {},
          "output_type": "execute_result"
        },
        {
          "data": {
            "image/png": "[encoded data removed]",
            "text/plain": [
              "<matplotlib.figure.Figure at 0x27f0f2b8208>"
            ]
          },
          "metadata": {},
          "output_type": "display_data"
        }
      ],
      "source": [
        "import matplotlib.pyplot as plt\n",
        "plt.plot(X, Y, '.')"
      ]
    },
    {
      "cell_type": "markdown",
      "metadata": {},
      "source": [
        "## Q2 - tri\n",
        "\n",
        "Trier les points selon les $X$."
      ]
    },
    {
      "cell_type": "code",
      "execution_count": 5,
      "metadata": {},
      "outputs": [
        {
          "data": {
            "text/plain": [
              "[(0.004580711889554223, 0),\n",
              " (0.06850703882704323, 0),\n",
              " (0.07932882957939036, 0),\n",
              " (0.09219590570021907, 0),\n",
              " (0.09738384441795134, 0)]"
            ]
          },
          "execution_count": 6,
          "metadata": {},
          "output_type": "execute_result"
        }
      ],
      "source": [
        "nuage = [(x,y) for x,y in zip(X,Y)]\n",
        "nuage.sort()\n",
        "nuage[:5]"
      ]
    },
    {
      "cell_type": "markdown",
      "metadata": {},
      "source": [
        "## Q3 - moyenne\n",
        "\n",
        "On suppose que les $Y$ sont tri\u00e9s selon les $X$ croissants.\n",
        "Calculer la moyenne des diff\u00e9rences entre $Y$ et la moyenne $m$ des $Y$\n",
        "(en valeur absolue) sur un intervalle $[i,j]$, $j$ exclu.\n",
        "Ecrire une fonction ``def somme_diff(nuage, i, j)`` qui ex\u00e9cute ce calcul\n",
        "qui correspond \u00e0 $\\sum_{k=i}^{j-1} |Y_k - m|$ avec $m = (\\sum_{k=i}^{j-1} Y_k) / (j-i)$."
      ]
    },
    {
      "cell_type": "code",
      "execution_count": 6,
      "metadata": {},
      "outputs": [
        {
          "data": {
            "text/plain": [
              "(0.0, 453.79200000000236)"
            ]
          },
          "execution_count": 7,
          "metadata": {},
          "output_type": "execute_result"
        }
      ],
      "source": [
        "def somme_diff(xy, i, j):\n",
        "    m = sum(e[1] for e in xy[i:j]) / (j-i)\n",
        "    return sum(abs(e[1]-m) for e in xy[i:j])\n",
        "\n",
        "somme_diff(nuage, 0, 5), somme_diff(nuage, 0, len(nuage))"
      ]
    },
    {
      "cell_type": "markdown",
      "metadata": {},
      "source": [
        "## Q4 - distance\n",
        "\n",
        "Soit $i,j$ deux entiers, on coupe l'intervalle en deux : $i,k$ et $k,j$. On calcule la ``somme_diff`` sur ces deux intervalles, on fait la somme des diff\u00e9rences (en valeurs absolues) de ces moyennes par rapport \u00e0 la valeur sur le plus grand intervalle. On \u00e9crit la fonction ``def difference(nuage, i, j, k):``."
      ]
    },
    {
      "cell_type": "code",
      "execution_count": 7,
      "metadata": {},
      "outputs": [
        {
          "data": {
            "text/plain": [
              "11.960888888903185"
            ]
          },
          "execution_count": 8,
          "metadata": {},
          "output_type": "execute_result"
        }
      ],
      "source": [
        "def difference(nuage, i, j, k):\n",
        "    m1 = somme_diff(nuage, i, k)\n",
        "    m2 = somme_diff(nuage, k, j)\n",
        "    m = somme_diff(nuage, i, j)\n",
        "    return abs(m1+m2-m)\n",
        "\n",
        "difference(nuage, 0, len(nuage), 100)"
      ]
    },
    {
      "cell_type": "markdown",
      "metadata": {},
      "source": [
        "## Q5 - fonction comme param\u00e8tre\n",
        "\n",
        "Le langage Python permet de passer une fonction \u00e0 une autre fonction en tant qu'argument. Un exemple :"
      ]
    },
    {
      "cell_type": "code",
      "execution_count": 8,
      "metadata": {},
      "outputs": [
        {
          "data": {
            "text/plain": [
              "1"
            ]
          },
          "execution_count": 9,
          "metadata": {},
          "output_type": "execute_result"
        }
      ],
      "source": [
        "def fct(x, y):\n",
        "    return abs(x-y)\n",
        "\n",
        "def distance_list(list_x, list_y, f):\n",
        "    return sum(f(x,y) for x,y in zip(list_x, list_y))\n",
        "\n",
        "distance_list([0, 1], [0, 2], fct)"
      ]
    },
    {
      "cell_type": "markdown",
      "metadata": {},
      "source": [
        "Ecrire la fonction pr\u00e9c\u00e9dente en utilisant la fonction ``fct``."
      ]
    },
    {
      "cell_type": "code",
      "execution_count": 9,
      "metadata": {},
      "outputs": [
        {
          "data": {
            "text/plain": [
              "465.75288888890555"
            ]
          },
          "execution_count": 10,
          "metadata": {},
          "output_type": "execute_result"
        }
      ],
      "source": [
        "def somme_diff(xy, i, j, f):\n",
        "    m = sum(e[1] for e in xy[i:j]) / (j-i)\n",
        "    # On a modifi\u00e9 les fonctions pr\u00e9c\u00e9dentes pour calculer\n",
        "    # une fonction d'erreur \"custom\" ou d\u00e9finie par l'utilisateur.\n",
        "    return sum(f(e[1], m) for e in xy[i:j])\n",
        "\n",
        "def difference(nuage, i, j, k, f):\n",
        "    m1 = somme_diff(nuage, i, k, f)\n",
        "    m2 = somme_diff(nuage, k, j, f)\n",
        "    m = somme_diff(nuage, i, j, f)\n",
        "    return abs(m - m1) + abs(m - m2)\n",
        "\n",
        "difference(nuage, 0, len(nuage), 100, fct)"
      ]
    },
    {
      "cell_type": "markdown",
      "metadata": {},
      "source": [
        "## Q6 - optimiser\n",
        "\n",
        "On veut d\u00e9terminer le $i$ optimal, celui qui maximise la diff\u00e9rence dans l'intervalle $[i,j]$. On souhaite garder la fonction ``fct`` comme argument. Pour cela, impl\u00e9menter la fonction ``def optimise(nuage, i, j, f):``."
      ]
    },
    {
      "cell_type": "code",
      "execution_count": 10,
      "metadata": {},
      "outputs": [
        {
          "data": {
            "text/plain": [
              "(552, 650.3666086956543)"
            ]
          },
          "execution_count": 11,
          "metadata": {},
          "output_type": "execute_result"
        }
      ],
      "source": [
        "def optimise(nuage, i, j, f):\n",
        "    mx = -1\n",
        "    ib = None\n",
        "    for k in range(i+1,j-1):\n",
        "        d = difference(nuage, i,j,k, f)\n",
        "        if ib is None or d > mx:\n",
        "            mx = d\n",
        "            ib = k\n",
        "    if ib is None:\n",
        "        # Au cas o\u00f9 l'intervalle est vide, on retourne une coupure\n",
        "        # \u00e9gale \u00e0 i.\n",
        "        ib = i\n",
        "        mx = 0\n",
        "    return ib, mx\n",
        "\n",
        "optimise(nuage, 0, len(nuage), fct)"
      ]
    },
    {
      "cell_type": "code",
      "execution_count": 11,
      "metadata": {},
      "outputs": [
        {
          "data": {
            "text/plain": [
              "[<matplotlib.lines.Line2D at 0x27f108c1940>]"
            ]
          },
          "execution_count": 12,
          "metadata": {},
          "output_type": "execute_result"
        },
        {
          "data": {
            "image/png": "[encoded data removed]",
            "text/plain": [
              "<matplotlib.figure.Figure at 0x27f108a9908>"
            ]
          },
          "metadata": {},
          "output_type": "display_data"
        }
      ],
      "source": [
        "import matplotlib.pyplot as plt\n",
        "x = nuage[552][0]\n",
        "plt.plot(X,Y,'.')\n",
        "plt.plot([x,x], [0,1])"
      ]
    },
    {
      "cell_type": "markdown",
      "metadata": {},
      "source": [
        "Le premier point de coupure trouv\u00e9 (le trait orange) correspond \u00e0 un des bords d'un des escaliers."
      ]
    },
    {
      "cell_type": "markdown",
      "metadata": {},
      "source": [
        "## Q7 - optimisation encore\n",
        "\n",
        "Recommencer sur les deux intervalles trouv\u00e9s. La question \u00e9tait juste histoire que le r\u00e9sultat \u00e0 la question pr\u00e9c\u00e9dente est reproductible sur d'autres intervalles."
      ]
    },
    {
      "cell_type": "code",
      "execution_count": 12,
      "metadata": {},
      "outputs": [
        {
          "data": {
            "text/plain": [
              "((58, 34.11764705882355), (552, 566.5764551484369))"
            ]
          },
          "execution_count": 13,
          "metadata": {},
          "output_type": "execute_result"
        }
      ],
      "source": [
        "optimise(nuage, 0, 68, fct), optimise(nuage, 68, len(nuage), fct)"
      ]
    },
    {
      "cell_type": "code",
      "execution_count": 13,
      "metadata": {},
      "outputs": [
        {
          "data": {
            "text/plain": [
              "[<matplotlib.lines.Line2D at 0x27f108f4630>]"
            ]
          },
          "execution_count": 14,
          "metadata": {},
          "output_type": "execute_result"
        },
        {
          "data": {
            "image/png": "[encoded data removed]",
            "text/plain": [
              "<matplotlib.figure.Figure at 0x27f1065f630>"
            ]
          },
          "metadata": {},
          "output_type": "display_data"
        }
      ],
      "source": [
        "import matplotlib.pyplot as plt\n",
        "x = nuage[58][0]\n",
        "x2 = nuage[552][0]\n",
        "plt.plot(X,Y,'.')\n",
        "plt.plot([x,x], [0,1])\n",
        "plt.plot([x2,x2], [0,1])"
      ]
    },
    {
      "cell_type": "markdown",
      "metadata": {},
      "source": [
        "## Q8 - fonction r\u00e9cursive\n",
        "\n",
        "Pouvez-vous imaginer une fonction r\u00e9cursive qui produit toutes les s\u00e9parations. Ecrire la fonction ``def recursive(nuage, i, j, f, th=0.1):``."
      ]
    },
    {
      "cell_type": "code",
      "execution_count": 14,
      "metadata": {},
      "outputs": [
        {
          "data": {
            "text/plain": [
              "[58, 262, 552]"
            ]
          },
          "execution_count": 15,
          "metadata": {},
          "output_type": "execute_result"
        }
      ],
      "source": [
        "def recursive(nuage, i, j, f, th=0.1):\n",
        "    k, mx = optimise(nuage, i, j, f)\n",
        "    if mx <= th:\n",
        "        return None\n",
        "    r1 = recursive(nuage, i, k, f, th=th)\n",
        "    r2 = recursive(nuage, k, j, f, th=th)\n",
        "    if r1 is None and r2 is None:\n",
        "        return [k]\n",
        "    elif r1 is None:\n",
        "        return [k] + r2\n",
        "    elif r2 is None:\n",
        "        return r1 + [k]\n",
        "    else:\n",
        "        return r1 + [k] + r2\n",
        "    \n",
        "r = recursive(nuage, 0, len(nuage), fct)\n",
        "r"
      ]
    },
    {
      "cell_type": "code",
      "execution_count": 15,
      "metadata": {},
      "outputs": [
        {
          "data": {
            "image/png": "[encoded data removed]",
            "text/plain": [
              "<matplotlib.figure.Figure at 0x27f105b5d30>"
            ]
          },
          "metadata": {},
          "output_type": "display_data"
        }
      ],
      "source": [
        "import matplotlib.pyplot as plt\n",
        "plt.plot(X, Y, '.')\n",
        "for i in r:\n",
        "    x = nuage[i][0]\n",
        "    plt.plot([x,x], [0,1])"
      ]
    },
    {
      "cell_type": "markdown",
      "metadata": {},
      "source": [
        "## Q9 - co\u00fbt\n",
        "\n",
        "Quel est le co\u00fbt de la fonction ``optimize`` en fonction de la taille de l'intervalle ? Peut-on mieux faire  (ce qu'on n'impl\u00e9mentera pas)."
      ]
    },
    {
      "cell_type": "markdown",
      "metadata": {},
      "source": [
        "Tel qu'il est impl\u00e9ment\u00e9, le co\u00fbt est en $O(n^2)$, le co\u00fbt peut \u00eatre lin\u00e9aire en triant les \u00e9l\u00e9ments dans l'ordre croissant, ce qui a \u00e9t\u00e9 fait, ou $n\\ln n$ si on inclut le co\u00fbt du tri bien qu'on ne le fasse qu'une fois. Voyons plus en d\u00e9tail comment se d\u00e9barrasser du co\u00fbt en $O(n^2)$. Tout d'abord la version actuelle."
      ]
    },
    {
      "cell_type": "code",
      "execution_count": 16,
      "metadata": {},
      "outputs": [
        {
          "name": "stdout",
          "output_type": "stream",
          "text": [
            "492 ms \u00b1 57.5 ms per loop (mean \u00b1 std. dev. of 7 runs, 1 loop each)\n"
          ]
        }
      ],
      "source": [
        "def somme_diff_abs(xy, i, j):\n",
        "    m = sum(e[1] for e in xy[i:j]) / (j-i)\n",
        "    return sum(abs(e[1]-m) for e in xy[i:j])\n",
        "\n",
        "def difference_abs(nuage, i, j, k):\n",
        "    m1 = somme_diff_abs(nuage, i, k)\n",
        "    m2 = somme_diff_abs(nuage, k, j)\n",
        "    m = somme_diff_abs(nuage, i, j)\n",
        "    return abs(m1+m2-m)\n",
        "\n",
        "def optimise_abs(nuage, i, j):\n",
        "    mx = -1\n",
        "    ib = None\n",
        "    for k in range(i+1,j-1):\n",
        "        d = difference_abs(nuage, i,j,k)\n",
        "        if ib is None or d > mx:\n",
        "            mx = d\n",
        "            ib = k\n",
        "    if ib is None:\n",
        "        ib = i\n",
        "        mx = 0\n",
        "    return ib, mx\n",
        "\n",
        "%timeit optimise_abs(nuage, 0, len(nuage))"
      ]
    },
    {
      "cell_type": "markdown",
      "metadata": {},
      "source": [
        "L'instruction suivante permet de voir o\u00f9 le programme passe la majeure partie de son temps."
      ]
    },
    {
      "cell_type": "code",
      "execution_count": 17,
      "metadata": {},
      "outputs": [],
      "source": [
        "# %prun optimise_abs(nuage, 0, len(nuage))"
      ]
    },
    {
      "cell_type": "markdown",
      "metadata": {},
      "source": [
        "La fonction [sum](https://docs.python.org/3/library/functions.html#sum) cache une boucle, avec la boucle ``for`` dans la fonction ``optimise``, cela explique le co\u00fbt en $O(n^2)$. Le fait qu'\u00e0 chaque it\u00e9ration, on passe une observation d'un c\u00f4t\u00e9 \u00e0 l'autre de la coupure puis on recalcule les moyennes... Il y a deux fa\u00e7ons d'optimiser ce calcul selon qu'on tient compte du fait que les valeurs de $Y$ sont binaires ou non.\n",
        "\n",
        "Dans le premier cas, il suffit de compter les valeurs 0 ou 1 de part et d'autres de la coupure (histogrammes) pour calculer la moyenne. Lorsque $k$ varie, il suffit de mettre \u00e0 jour les histogrammes en d\u00e9duisant et en ajoutant le $Y_k$ aux bons endroits."
      ]
    },
    {
      "cell_type": "code",
      "execution_count": 18,
      "metadata": {},
      "outputs": [
        {
          "data": {
            "text/plain": [
              "((552, 196.57460869565222), (552, 196.574608695652))"
            ]
          },
          "execution_count": 19,
          "metadata": {},
          "output_type": "execute_result"
        }
      ],
      "source": [
        "def histogramme_y(xy, i, j):\n",
        "    d = [0, 0]\n",
        "    for x, y in xy[i:j]:\n",
        "        d[y] += 1\n",
        "    return d\n",
        "\n",
        "def somme_diff_histogramme(d):\n",
        "    m = d[1] * 1.0 / (d[0] + d[1])\n",
        "    return (1-m) * d[1] + m * d[0]\n",
        "\n",
        "def optimise_rapide(nuage, i, j):\n",
        "    # On calcule les histogrammes.\n",
        "    d1 = histogramme_y(nuage, i, i+1)\n",
        "    d2 = histogramme_y(nuage, i+1, j)\n",
        "    d = d1.copy()\n",
        "    d[0] += d2[0]\n",
        "    d[1] += d2[1]\n",
        "    \n",
        "    m = somme_diff_histogramme(d)\n",
        "    m1 = somme_diff_histogramme(d1)\n",
        "    m2 = somme_diff_histogramme(d2)\n",
        "    mx = -1\n",
        "    ib = None\n",
        "    for k in range(i+1,j-1):\n",
        "        d = abs(m1+m2-m)\n",
        "        if ib is None or d > mx:\n",
        "            mx = d\n",
        "            ib = k\n",
        "        # On met \u00e0 jour les histogrammes. On ajoute d'un c\u00f4t\u00e9, on retranche de l'autre.\n",
        "        y = nuage[k][1] \n",
        "        d1[y] += 1\n",
        "        d2[y] -= 1\n",
        "        m1 = somme_diff_histogramme(d1)\n",
        "        m2 = somme_diff_histogramme(d2)\n",
        "    if ib is None:\n",
        "        ib = i\n",
        "        mx = 0\n",
        "    return ib, mx\n",
        "\n",
        "# On v\u00e9rifie qu'on obtient les m\u00eames r\u00e9sultats.\n",
        "optimise_rapide(nuage, 0, len(nuage)), optimise_abs(nuage, 0, len(nuage))"
      ]
    },
    {
      "cell_type": "markdown",
      "metadata": {},
      "source": [
        "C'est carr\u00e9ment plus rapide et cela marche pour toute fonction ``fct``."
      ]
    },
    {
      "cell_type": "code",
      "execution_count": 19,
      "metadata": {},
      "outputs": [
        {
          "name": "stdout",
          "output_type": "stream",
          "text": [
            "1.31 ms \u00b1 22.6 \u00b5s per loop (mean \u00b1 std. dev. of 7 runs, 1000 loops each)\n"
          ]
        }
      ],
      "source": [
        "%timeit optimise_rapide(nuage, 0, len(nuage))"
      ]
    },
    {
      "cell_type": "markdown",
      "metadata": {},
      "source": [
        "Si on ne suppose pas que les $Y_i$ sont binaires et qu'ils sont quelconques, les histogrammes contiendront plus de deux \u00e9l\u00e9ments. Dans ce cas, il faut conserver deux tableaux tri\u00e9s des $Y_i$, de part et d'autres de la coupure. Lorsqu'on bouge la coupure $k$, cela revient \u00e0 d\u00e9placer $Y_k$ d'un tableau \u00e0 l'autre ce qui se fera par recherche dichotomique donc en $O(\\ln n)$. La mise \u00e0 jour de la moyenne des valeurs absolues est imm\u00e9diate si la fonction ``fct=abs(x-y)`` et pas forc\u00e9ment imm\u00e9diate dans le cas g\u00e9n\u00e9ral. Lorsque c'est une valeur absolue, il faut utiliser quelques r\u00e9sultats sur la [r\u00e9gression quantile](http://www.xavierdupre.fr/app/ensae_teaching_cs/helpsphinx3/notebooks/td_note_2017_2.html?highlight=mediane)."
      ]
    },
    {
      "cell_type": "markdown",
      "metadata": {},
      "source": [
        "## Q10 - autre nuage de points\n",
        "\n",
        "Comment l'algorithme se comporte-t-il lorsque tous les points sont distincts ?"
      ]
    },
    {
      "cell_type": "code",
      "execution_count": 20,
      "metadata": {},
      "outputs": [],
      "source": [
        "import random\n",
        "X2 = list(range(10))\n",
        "Y2 = X2"
      ]
    },
    {
      "cell_type": "code",
      "execution_count": 21,
      "metadata": {},
      "outputs": [
        {
          "data": {
            "text/plain": [
              "[<matplotlib.lines.Line2D at 0x27f10894c18>]"
            ]
          },
          "execution_count": 22,
          "metadata": {},
          "output_type": "execute_result"
        },
        {
          "data": {
            "image/png": "[encoded data removed]",
            "text/plain": [
              "<matplotlib.figure.Figure at 0x27f105f2320>"
            ]
          },
          "metadata": {},
          "output_type": "display_data"
        }
      ],
      "source": [
        "import matplotlib.pyplot as plt\n",
        "plt.plot(X2,Y2,'.')"
      ]
    },
    {
      "cell_type": "code",
      "execution_count": 22,
      "metadata": {},
      "outputs": [],
      "source": [
        "nuage2 = [(x,y) for x,y in zip(X2,Y2)]\n",
        "nuage2.sort()"
      ]
    },
    {
      "cell_type": "code",
      "execution_count": 23,
      "metadata": {},
      "outputs": [
        {
          "data": {
            "text/plain": [
              "(5, [2, 3, 5, 7, 8])"
            ]
          },
          "execution_count": 24,
          "metadata": {},
          "output_type": "execute_result"
        }
      ],
      "source": [
        "r = recursive(nuage2, 0, len(nuage2), fct)\n",
        "len(r), r"
      ]
    },
    {
      "cell_type": "code",
      "execution_count": 24,
      "metadata": {},
      "outputs": [
        {
          "data": {
            "image/png": "[encoded data removed]",
            "text/plain": [
              "<matplotlib.figure.Figure at 0x27f1065f160>"
            ]
          },
          "metadata": {},
          "output_type": "display_data"
        }
      ],
      "source": [
        "import matplotlib.pyplot as plt\n",
        "plt.plot(X,Y,'.')\n",
        "for i in r:\n",
        "    x = nuage2[i][0]\n",
        "    plt.plot([x,x], [0,10])"
      ]
    },
    {
      "cell_type": "markdown",
      "metadata": {},
      "source": [
        "La fonction va placer un point dans chaque intervalle, il y aura quasiment autant de points de coupures que de points. Presque autant car l'impl\u00e9mentation a quelques effets de bords comme la boucle ``for k in range(i+1,j-1):`` qui ne consid\u00e8re pas les extr\u00e9mit\u00e9s d'un intervalle comme de potentiels points de coupures."
      ]
    },
    {
      "cell_type": "code",
      "execution_count": 25,
      "metadata": {},
      "outputs": [],
      "source": []
    }
  ],
  "metadata": {
    "kernelspec": {
      "display_name": "Python 3",
      "language": "python",
      "name": "python3"
    },
    "language_info": {
      "codemirror_mode": {
        "name": "ipython",
        "version": 3
      },
      "file_extension": ".py",
      "mimetype": "text/x-python",
      "name": "python",
      "nbconvert_exporter": "python",
      "pygments_lexer": "ipython3",
      "version": "3.6.3"
    }
  },
  "nbformat": 4,
  "nbformat_minor": 2
}