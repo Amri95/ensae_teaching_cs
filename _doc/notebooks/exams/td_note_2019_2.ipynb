{
 "cells": [
  {
   "cell_type": "markdown",
   "metadata": {},
   "source": [
    "# 1A.e - Enoncé 23 octobre 2018 (2)\n",
    "\n",
    "Correction du second énoncé de l'examen du 23 octobre 2018. "
   ]
  },
  {
   "cell_type": "code",
   "execution_count": 1,
   "metadata": {},
   "outputs": [],
   "source": [
    "from jyquickhelper import add_notebook_menu\n",
    "add_notebook_menu()"
   ]
  },
  {
   "cell_type": "markdown",
   "metadata": {},
   "source": [
    "On sait d'après les dernières questions qu'il faudra tout répéter plusieurs fois. On prend le soin d'écrire chaque question dans une fonction."
   ]
  },
  {
   "cell_type": "markdown",
   "metadata": {},
   "source": [
    "## Q1 - échantillon aléatoire\n",
    "\n",
    "Générer un ensemble de $N=1000$ couples aléatoires $(X_i,Y_i)$ qui vérifient :\n",
    "\n",
    "* $X_i$ suit une loi normale de variance 1.\n",
    "* $Y_i = 2 X_i + \\epsilon_i$ où $\\epsilon_i$ suit une loi normale de variance 1."
   ]
  },
  {
   "cell_type": "code",
   "execution_count": 2,
   "metadata": {},
   "outputs": [
    {
     "data": {
      "text/plain": [
       "array([[-1.10137046, -4.42070834],\n",
       "       [ 0.80595011,  2.40094346],\n",
       "       [ 0.16755408,  0.96006092],\n",
       "       [-0.79968987, -0.31151998],\n",
       "       [ 0.29505452,  0.67395666]])"
      ]
     },
     "execution_count": 2,
     "metadata": {},
     "output_type": "execute_result"
    }
   ],
   "source": [
    "import numpy.random as rnd\n",
    "import numpy\n",
    "\n",
    "def random_mat(N):\n",
    "    mat = numpy.zeros((N, 2))\n",
    "    mat[:, 0] = rnd.normal(size=(N,))\n",
    "    mat[:, 1] = mat[:, 0] * 2 + rnd.normal(size=(N,))\n",
    "    return mat\n",
    "\n",
    "N = 1000\n",
    "mat = random_mat(N)\n",
    "mat[:5]"
   ]
  },
  {
   "cell_type": "markdown",
   "metadata": {},
   "source": [
    "## Q2 - matrice m1\n",
    "\n",
    "On définit la matrice $M \\in \\mathbb{M}_{N,2}(\\mathbb{R})$ définie par les deux vecteurs colonnes $(X_i)$ et $(Y_i)$. Choisir aléatoirement 20 valeurs dans cette matrice et les remplacer par ``numpy.nan``. On obtient la matrice $M_1$."
   ]
  },
  {
   "cell_type": "code",
   "execution_count": 3,
   "metadata": {},
   "outputs": [
    {
     "data": {
      "text/plain": [
       "array([[-0.92143485, -2.23568339],\n",
       "       [        nan, -9.27992254],\n",
       "       [-0.86902908,         nan],\n",
       "       [-1.19325316, -2.66367887],\n",
       "       [-0.15739665, -0.76742943]])"
      ]
     },
     "execution_count": 3,
     "metadata": {},
     "output_type": "execute_result"
    }
   ],
   "source": [
    "import random\n",
    "\n",
    "def build_m1(mat, n=20):\n",
    "    mat = mat.copy()\n",
    "    positions = []\n",
    "    for i in range(0, n):\n",
    "        h = random.randint(0, mat.shape[0] * mat.shape[1] - 1)\n",
    "        pos = h % mat.shape[0], h // mat.shape[0]\n",
    "        positions.append(pos)\n",
    "        mat[pos] = numpy.nan\n",
    "    return mat, positions\n",
    "\n",
    "m1, positions = build_m1(mat)\n",
    "p = positions[0][0]\n",
    "m1[max(p-2, 0):min(p+3, mat.shape[0])]"
   ]
  },
  {
   "cell_type": "markdown",
   "metadata": {},
   "source": [
    "## Q3 - moyenne\n",
    "\n",
    "Calculer $\\mathbb{E}{X} = \\frac{1}{N}\\sum_i^N X_i$ et $\\mathbb{E}Y = \\frac{1}{N}\\sum_i^N Y_i$."
   ]
  },
  {
   "cell_type": "code",
   "execution_count": 4,
   "metadata": {},
   "outputs": [
    {
     "data": {
      "text/plain": [
       "array([0.01515716, 0.05384911])"
      ]
     },
     "execution_count": 4,
     "metadata": {},
     "output_type": "execute_result"
    }
   ],
   "source": [
    "def mean_no_nan(mat):\n",
    "    res = []\n",
    "    for i in range(mat.shape[1]):\n",
    "        ex = numpy.mean(mat[~numpy.isnan(mat[:, i]), i])\n",
    "        res.append(ex)\n",
    "    return numpy.array(res)\n",
    "\n",
    "mean_no_nan(m1)"
   ]
  },
  {
   "cell_type": "markdown",
   "metadata": {},
   "source": [
    "## Q4 - matrice m2\n",
    "\n",
    "Remplacer les valeurs manquantes de la matrice $M_1$ par la moyenne de leurs colonnes respectives. On obtient la matrice $M_2$."
   ]
  },
  {
   "cell_type": "code",
   "execution_count": 5,
   "metadata": {},
   "outputs": [
    {
     "data": {
      "text/plain": [
       "array([[-0.92143485, -2.23568339],\n",
       "       [ 0.01515716, -9.27992254],\n",
       "       [-0.86902908,  0.05384911],\n",
       "       [-1.19325316, -2.66367887],\n",
       "       [-0.15739665, -0.76742943]])"
      ]
     },
     "execution_count": 5,
     "metadata": {},
     "output_type": "execute_result"
    }
   ],
   "source": [
    "def build_m2(mat):\n",
    "    means = mean_no_nan(mat)\n",
    "    m1 = mat.copy()\n",
    "    for i in range(len(means)):\n",
    "        m1[numpy.isnan(m1[:, i]), i] = means[i]\n",
    "    return m1\n",
    "\n",
    "m2 = build_m2(m1)\n",
    "m2[max(p-2, 0):min(p+3, mat.shape[0])]"
   ]
  },
  {
   "cell_type": "markdown",
   "metadata": {},
   "source": [
    "## Q5 - x le plus proche\n",
    "\n",
    "On considère le point de coordonnées $(x, y)$, écrire une fonction qui retourne le point de la matrice $M$ dont l'abscisse est la plus proche de $x$."
   ]
  },
  {
   "cell_type": "code",
   "execution_count": 6,
   "metadata": {},
   "outputs": [
    {
     "data": {
      "text/plain": [
       "10"
      ]
     },
     "execution_count": 6,
     "metadata": {},
     "output_type": "execute_result"
    }
   ],
   "source": [
    "def plus_proche(mat, x, col, colnan):\n",
    "    mini = None\n",
    "    for k in range(mat.shape[0]):\n",
    "        if numpy.isnan(mat[k, col]) or numpy.isnan(mat[k, colnan]):\n",
    "            continue\n",
    "        d = abs(mat[k, col] - x)\n",
    "        if mini is None or d < mini:\n",
    "            mini = d\n",
    "            best = k\n",
    "    return best\n",
    "\n",
    "plus_proche(m1, m1[10, 0], 0, 1)"
   ]
  },
  {
   "cell_type": "markdown",
   "metadata": {
    "scrolled": false
   },
   "source": [
    "## Q6 - matrice m3\n",
    "\n",
    "Pour chaque $y$ manquant, on utilise la fonction précédente pour pour retourner le point dont l'abscisse et la plus proche et on remplace l'ordonnée $y$ par celle du point trouvé. On fait de même avec les $x$ manquant.\n",
    "On construit la matrice ainsi $M_3$ à partir de $M_1$."
   ]
  },
  {
   "cell_type": "code",
   "execution_count": 7,
   "metadata": {},
   "outputs": [
    {
     "data": {
      "text/plain": [
       "array([[-0.92143485, -2.23568339],\n",
       "       [-3.08879967, -9.27992254],\n",
       "       [-0.86902908, -1.15489811],\n",
       "       [-1.19325316, -2.66367887],\n",
       "       [-0.15739665, -0.76742943]])"
      ]
     },
     "execution_count": 7,
     "metadata": {},
     "output_type": "execute_result"
    }
   ],
   "source": [
    "def build_m3(mat):\n",
    "    mat = mat.copy()\n",
    "    for i in range(mat.shape[0]):\n",
    "        for j in range(mat.shape[1]):\n",
    "            if numpy.isnan(mat[i, j]):\n",
    "                col = 1-j\n",
    "                if numpy.isnan(mat[i, col]):\n",
    "                    # deux valeurs nan, on utilise la moyenne\n",
    "                    mat[i, j] = numpy.mean(mat[~numpy.isnan(mat[:,j]), j])\n",
    "                else:\n",
    "                    pos = plus_proche(mat, mat[i, col], col, j)\n",
    "                    mat[i, j] = mat[pos, j]\n",
    "    return mat\n",
    "\n",
    "m3 = build_m3(m1)\n",
    "m3[max(p-2, 0):min(p+3, mat.shape[0])]"
   ]
  },
  {
   "cell_type": "markdown",
   "metadata": {},
   "source": [
    "## Q7 - norme\n",
    "\n",
    "On a deux méthodes pour compléter les valeurs manquantes, quelle est la meilleure ? Il faut vérifier numériquement en comparant $\\parallel M-M_2 \\parallel^2$ et $\\parallel M-M_3 \\parallel^2$."
   ]
  },
  {
   "cell_type": "code",
   "execution_count": 8,
   "metadata": {},
   "outputs": [
    {
     "data": {
      "text/plain": [
       "(95.81918398037273, 25.626985367809095)"
      ]
     },
     "execution_count": 8,
     "metadata": {},
     "output_type": "execute_result"
    }
   ],
   "source": [
    "def distance(m1, m2):\n",
    "    d = m1.ravel() - m2.ravel()\n",
    "    return d @ d\n",
    "\n",
    "d2 = distance(mat, m2)\n",
    "d3 = distance(mat, m3)\n",
    "d2, d3"
   ]
  },
  {
   "cell_type": "markdown",
   "metadata": {},
   "source": [
    "## Q8 - répétition\n",
    "\n",
    "Une experience réussie ne veut pas dire que cela fonctionne. Recommencer 10 fois en changeant le nuages de points et les valeurs manquantes ajoutées."
   ]
  },
  {
   "cell_type": "code",
   "execution_count": 9,
   "metadata": {},
   "outputs": [
    {
     "data": {
      "text/plain": [
       "array([[ 40.66440151,  11.32561039],\n",
       "       [ 41.89574941,  42.19303295],\n",
       "       [ 87.15693553,  28.41977157],\n",
       "       [ 45.71680854,  41.95612925],\n",
       "       [180.38492249,  46.48977323],\n",
       "       [ 65.89060572,  35.89541904],\n",
       "       [ 46.77217532,  27.91270314],\n",
       "       [ 21.51748989,  12.03493298],\n",
       "       [ 72.88305983,   9.27739006],\n",
       "       [ 34.76841102,  37.94891222]])"
      ]
     },
     "execution_count": 9,
     "metadata": {},
     "output_type": "execute_result"
    }
   ],
   "source": [
    "def repetition(N=1000, n=20, nb=10):\n",
    "    res = []\n",
    "    for i in range(nb):\n",
    "        mat = random_mat(N)\n",
    "        m1, _ = build_m1(mat, n)\n",
    "        m2 = build_m2(m1)\n",
    "        m3 = build_m3(m1)\n",
    "        d2, d3 = distance(mat, m2), distance(mat, m3)\n",
    "        res.append((d2, d3))\n",
    "    return numpy.array(res)\n",
    "\n",
    "repetition()"
   ]
  },
  {
   "cell_type": "markdown",
   "metadata": {},
   "source": [
    "## Q9 - plus de valeurs manquantes\n",
    "\n",
    "Et si on augmente le nombre de valeurs manquantes, l'écart se creuse-t-il ou se réduit -il ? Montrez-le numériquement."
   ]
  },
  {
   "cell_type": "code",
   "execution_count": 10,
   "metadata": {},
   "outputs": [
    {
     "name": "stdout",
     "output_type": "stream",
     "text": [
      "10\n",
      "20\n",
      "30\n",
      "40\n",
      "50\n",
      "60\n",
      "70\n",
      "80\n",
      "90\n"
     ]
    },
    {
     "data": {
      "text/plain": [
       "array([[2.42013858, 1.55624525],\n",
       "       [2.67010659, 1.25820284],\n",
       "       [3.04696071, 1.30007394],\n",
       "       [3.28685532, 1.45165264],\n",
       "       [3.01745393, 1.22368009]])"
      ]
     },
     "execution_count": 10,
     "metadata": {},
     "output_type": "execute_result"
    }
   ],
   "source": [
    "diff = []\n",
    "for n in range(10, 100, 10):\n",
    "    print(n)\n",
    "    res = repetition(n=n, nb=10)\n",
    "    diff.append(res.mean(axis=0) / n)\n",
    "diff = numpy.array(diff)\n",
    "diff[:5]"
   ]
  },
  {
   "cell_type": "code",
   "execution_count": 11,
   "metadata": {},
   "outputs": [],
   "source": [
    "%matplotlib inline"
   ]
  },
  {
   "cell_type": "code",
   "execution_count": 13,
   "metadata": {},
   "outputs": [
    {
     "data": {
      "image/png": "[encoded data removed]",
      "text/plain": [
       "<Figure size 720x288 with 2 Axes>"
      ]
     },
     "metadata": {},
     "output_type": "display_data"
    }
   ],
   "source": [
    "import pandas\n",
    "df = pandas.DataFrame(diff, columns=[\"d2\", \"d3\"])\n",
    "df[\"ratio\"] = df[\"d2\"] / df[\"d3\"]\n",
    "\n",
    "import matplotlib.pyplot as plt\n",
    "fig, ax = plt.subplots(1, 2, figsize=(10, 4))\n",
    "df[[\"d2\", \"d3\"]].plot(ax=ax[0])\n",
    "df[[\"ratio\"]].plot(ax=ax[1])\n",
    "ax[0].set_title(\"d2 et d3\\nErreur moyenne par valeur manquante\")\n",
    "ax[1].set_title(\"d2 / d3\");"
   ]
  },
  {
   "cell_type": "markdown",
   "metadata": {},
   "source": [
    "Plus il y a de valeurs manquantes, plus le ratio tend vers 1 car il y a moins d'informations pour compléter les valeurs manquantes autrement que "
   ]
  },
  {
   "cell_type": "markdown",
   "metadata": {},
   "source": [
    "## Q10\n",
    "\n",
    "Votre fonction de la question 5 a probablement un coût linéaire. Il est probablement possible de faire mieux, si oui, il faut préciser comment et ce que cela implique sur les données. Il ne faut pas l'implémenter."
   ]
  },
  {
   "cell_type": "markdown",
   "metadata": {},
   "source": [
    "Il suffit de trier le tableau et d'utiliser une recherche dichotomique. Le coût du tri est négligeable par rapport au nombre de fois que la fonction ``plus_proche`` est utilisée."
   ]
  },
  {
   "cell_type": "code",
   "execution_count": null,
   "metadata": {},
   "outputs": [],
   "source": []
  }
 ],
 "metadata": {
  "kernelspec": {
   "display_name": "Python 3",
   "language": "python",
   "name": "python3"
  },
  "language_info": {
   "codemirror_mode": {
    "name": "ipython",
    "version": 3
   },
   "file_extension": ".py",
   "mimetype": "text/x-python",
   "name": "python",
   "nbconvert_exporter": "python",
   "pygments_lexer": "ipython3",
   "version": "3.7.0"
  }
 },
 "nbformat": 4,
 "nbformat_minor": 2
}
