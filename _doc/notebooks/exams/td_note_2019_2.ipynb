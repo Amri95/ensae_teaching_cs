{
  "cells": [
    {
      "cell_type": "markdown",
      "metadata": {},
      "source": [
        "# 1A.e - Enonc\u00e9 23 octobre 2018 (2)\n",
        "\n",
        "Correction du second \u00e9nonc\u00e9 de l'examen du 23 octobre 2018. L'\u00e9nonc\u00e9 propose une m\u00e9thode pour renseigner les valeurs manquantes dans une base de deux variables."
      ]
    },
    {
      "cell_type": "code",
      "execution_count": 1,
      "metadata": {},
      "outputs": [
        {
          "data": {
            "text/html": [
              "<div id=\"my_id_menu_nb\">run previous cell, wait for 2 seconds</div>\n",
              "<script>\n",
              "function repeat_indent_string(n){\n",
              "    var a = \"\" ;\n",
              "    for ( ; n > 0 ; --n)\n",
              "        a += \"    \";\n",
              "    return a;\n",
              "}\n",
              "// look up into all sections and builds an automated menu //\n",
              "var update_menu_string = function(begin, lfirst, llast, sformat, send, keep_item, begin_format, end_format) {\n",
              "    var anchors = document.getElementsByClassName(\"section\");\n",
              "    if (anchors.length == 0) {\n",
              "        anchors = document.getElementsByClassName(\"text_cell_render rendered_html\");\n",
              "    }\n",
              "    var i,t;\n",
              "    var text_menu = begin;\n",
              "    var text_memo = \"<pre>\\nlength:\" + anchors.length + \"\\n\";\n",
              "    var ind = \"\";\n",
              "    var memo_level = 1;\n",
              "    var href;\n",
              "    var tags = [];\n",
              "    var main_item = 0;\n",
              "    var format_open = 0;\n",
              "    for (i = 0; i <= llast; i++)\n",
              "        tags.push(\"h\" + i);\n",
              "\n",
              "    for (i = 0; i < anchors.length; i++) {\n",
              "        text_memo += \"**\" + anchors[i].id + \"--\\n\";\n",
              "\n",
              "        var child = null;\n",
              "        for(t = 0; t < tags.length; t++) {\n",
              "            var r = anchors[i].getElementsByTagName(tags[t]);\n",
              "            if (r.length > 0) {\n",
              "child = r[0];\n",
              "break;\n",
              "            }\n",
              "        }\n",
              "        if (child == null) {\n",
              "            text_memo += \"null\\n\";\n",
              "            continue;\n",
              "        }\n",
              "        if (anchors[i].hasAttribute(\"id\")) {\n",
              "            // when converted in RST\n",
              "            href = anchors[i].id;\n",
              "            text_memo += \"#1-\" + href;\n",
              "            // passer \u00e0 child suivant (le chercher)\n",
              "        }\n",
              "        else if (child.hasAttribute(\"id\")) {\n",
              "            // in a notebook\n",
              "            href = child.id;\n",
              "            text_memo += \"#2-\" + href;\n",
              "        }\n",
              "        else {\n",
              "            text_memo += \"#3-\" + \"*\" + \"\\n\";\n",
              "            continue;\n",
              "        }\n",
              "        var title = child.textContent;\n",
              "        var level = parseInt(child.tagName.substring(1,2));\n",
              "\n",
              "        text_memo += \"--\" + level + \"?\" + lfirst + \"--\" + title + \"\\n\";\n",
              "\n",
              "        if ((level < lfirst) || (level > llast)) {\n",
              "            continue ;\n",
              "        }\n",
              "        if (title.endsWith('\u00b6')) {\n",
              "            title = title.substring(0,title.length-1).replace(\"<\", \"&lt;\")\n",
              "         .replace(\">\", \"&gt;\").replace(\"&\", \"&amp;\");\n",
              "        }\n",
              "        if (title.length == 0) {\n",
              "            continue;\n",
              "        }\n",
              "\n",
              "        while (level < memo_level) {\n",
              "            text_menu += end_format + \"</ul>\\n\";\n",
              "            format_open -= 1;\n",
              "            memo_level -= 1;\n",
              "        }\n",
              "        if (level == lfirst) {\n",
              "            main_item += 1;\n",
              "        }\n",
              "        if (keep_item != -1 && main_item != keep_item + 1) {\n",
              "            // alert(main_item + \" - \" + level + \" - \" + keep_item);\n",
              "            continue;\n",
              "        }\n",
              "        while (level > memo_level) {\n",
              "            text_menu += \"<ul>\\n\";\n",
              "            memo_level += 1;\n",
              "        }\n",
              "        text_menu += repeat_indent_string(level-2);\n",
              "        text_menu += begin_format + sformat.replace(\"__HREF__\", href).replace(\"__TITLE__\", title);\n",
              "        format_open += 1;\n",
              "    }\n",
              "    while (1 < memo_level) {\n",
              "        text_menu += end_format + \"</ul>\\n\";\n",
              "        memo_level -= 1;\n",
              "        format_open -= 1;\n",
              "    }\n",
              "    text_menu += send;\n",
              "    //text_menu += \"\\n\" + text_memo;\n",
              "\n",
              "    while (format_open > 0) {\n",
              "        text_menu += end_format;\n",
              "        format_open -= 1;\n",
              "    }\n",
              "    return text_menu;\n",
              "};\n",
              "var update_menu = function() {\n",
              "    var sbegin = \"\";\n",
              "    var sformat = '<a href=\"#__HREF__\">__TITLE__</a>';\n",
              "    var send = \"\";\n",
              "    var begin_format = '<li>';\n",
              "    var end_format = '</li>';\n",
              "    var keep_item = -1;\n",
              "    var text_menu = update_menu_string(sbegin, 2, 4, sformat, send, keep_item,\n",
              "       begin_format, end_format);\n",
              "    var menu = document.getElementById(\"my_id_menu_nb\");\n",
              "    menu.innerHTML=text_menu;\n",
              "};\n",
              "window.setTimeout(update_menu,2000);\n",
              "            </script>"
            ],
            "text/plain": [
              "<IPython.core.display.HTML object>"
            ]
          },
          "execution_count": 2,
          "metadata": {},
          "output_type": "execute_result"
        }
      ],
      "source": [
        "from jyquickhelper import add_notebook_menu\n",
        "add_notebook_menu()"
      ]
    },
    {
      "cell_type": "markdown",
      "metadata": {},
      "source": [
        "On sait d'apr\u00e8s les derni\u00e8res questions qu'il faudra tout r\u00e9p\u00e9ter plusieurs fois. On prend le soin d'\u00e9crire chaque question dans une fonction."
      ]
    },
    {
      "cell_type": "markdown",
      "metadata": {},
      "source": [
        "## Q1 - \u00e9chantillon al\u00e9atoire\n",
        "\n",
        "G\u00e9n\u00e9rer un ensemble de $N=1000$ couples al\u00e9atoires $(X_i,Y_i)$ qui v\u00e9rifient :\n",
        "\n",
        "* $X_i$ suit une loi normale de variance 1.\n",
        "* $Y_i = 2 X_i + \\epsilon_i$ o\u00f9 $\\epsilon_i$ suit une loi normale de variance 1."
      ]
    },
    {
      "cell_type": "code",
      "execution_count": 2,
      "metadata": {},
      "outputs": [
        {
          "data": {
            "text/plain": [
              "array([[-1.91816014, -4.20836544],\n",
              "       [-0.03624784,  1.64365517],\n",
              "       [ 0.31454023, -0.22259866],\n",
              "       [-1.32653005, -3.098006  ],\n",
              "       [-0.31277553, -1.642416  ]])"
            ]
          },
          "execution_count": 3,
          "metadata": {},
          "output_type": "execute_result"
        }
      ],
      "source": [
        "import numpy.random as rnd\n",
        "import numpy\n",
        "\n",
        "def random_mat(N):\n",
        "    mat = numpy.zeros((N, 2))\n",
        "    mat[:, 0] = rnd.normal(size=(N,))\n",
        "    mat[:, 1] = mat[:, 0] * 2 + rnd.normal(size=(N,))\n",
        "    return mat\n",
        "\n",
        "N = 1000\n",
        "mat = random_mat(N)\n",
        "mat[:5]"
      ]
    },
    {
      "cell_type": "markdown",
      "metadata": {},
      "source": [
        "## Q2 - matrice m1\n",
        "\n",
        "On d\u00e9finit la matrice $M \\in \\mathbb{M}_{N,2}(\\mathbb{R})$ d\u00e9finie par les deux vecteurs colonnes $(X_i)$ et $(Y_i)$. Choisir al\u00e9atoirement 20 valeurs dans cette matrice et les remplacer par ``numpy.nan``. On obtient la matrice $M_1$."
      ]
    },
    {
      "cell_type": "code",
      "execution_count": 3,
      "metadata": {},
      "outputs": [
        {
          "data": {
            "text/plain": [
              "array([[-0.27052701, -0.70543571],\n",
              "       [ 0.86955035,  1.93974686],\n",
              "       [-0.13190962,         nan],\n",
              "       [-1.36011657, -3.58321842],\n",
              "       [ 0.29685217,  2.85848108]])"
            ]
          },
          "execution_count": 4,
          "metadata": {},
          "output_type": "execute_result"
        }
      ],
      "source": [
        "import random\n",
        "\n",
        "def build_m1(mat, n=20):\n",
        "    mat = mat.copy()\n",
        "    positions = []\n",
        "    for i in range(0, n):\n",
        "        h = random.randint(0, mat.shape[0] * mat.shape[1] - 1)\n",
        "        pos = h % mat.shape[0], h // mat.shape[0]\n",
        "        positions.append(pos)\n",
        "        mat[pos] = numpy.nan\n",
        "    return mat, positions\n",
        "\n",
        "m1, positions = build_m1(mat)\n",
        "p = positions[0][0]\n",
        "m1[max(p-2, 0):min(p+3, mat.shape[0])]"
      ]
    },
    {
      "cell_type": "markdown",
      "metadata": {},
      "source": [
        "**Remarque 1:** l'\u00e9nonc\u00e9 ne pr\u00e9cisait pas s'il fallait choisir les valeurs al\u00e9atoires sur une ou deux colonnes, le faire sur une seule colonne est sans doute plus rapide et ne change rien aux conclusions des derni\u00e8res questions.\n",
        "\n",
        "**Remarque 2:** il ne faut pas oublier de copier la matrice ``mat.copy()``, dans le cas contraire, la fonction modifie la matrice originale. Ce n'est pas n\u00e9cessairement un probl\u00e8me except\u00e9 pour les derni\u00e8res questions qui requiert de garder cette matrice."
      ]
    },
    {
      "cell_type": "markdown",
      "metadata": {},
      "source": [
        "## Q3 - moyenne\n",
        "\n",
        "Calculer $\\mathbb{E}{X} = \\frac{1}{N}\\sum_i^N X_i$ et $\\mathbb{E}Y = \\frac{1}{N}\\sum_i^N Y_i$. Comme on ne tient pas compte des valeurs manquantes, les moyennes calcul\u00e9es se font avec moins de $N$ termes. Si on d\u00e9finit $V_x$ et $V_y$ l'ensemble des valeurs non manquantes, on veut calculer $\\mathbb{E}{X} = \\frac{\\sum_{i \\in V_x} X_i}{\\sum_{i \\in V_x} 1}$ et $\\mathbb{E}Y = \\frac{\\sum_{i \\in V_y} Y_i}{\\sum_{i \\in V_y} 1}$."
      ]
    },
    {
      "cell_type": "code",
      "execution_count": 4,
      "metadata": {},
      "outputs": [
        {
          "data": {
            "text/plain": [
              "array([0.0424259, 0.1221675])"
            ]
          },
          "execution_count": 5,
          "metadata": {},
          "output_type": "execute_result"
        }
      ],
      "source": [
        "def mean_no_nan(mat):\n",
        "    res = []\n",
        "    for i in range(mat.shape[1]):\n",
        "        ex = numpy.mean(mat[~numpy.isnan(mat[:, i]), i])\n",
        "        res.append(ex)\n",
        "    return numpy.array(res)\n",
        "\n",
        "mean_no_nan(m1)"
      ]
    },
    {
      "cell_type": "markdown",
      "metadata": {},
      "source": [
        "## Q4 - matrice m2\n",
        "\n",
        "Remplacer les valeurs manquantes de la matrice $M_1$ par la moyenne de leurs colonnes respectives. On obtient la matrice $M_2$."
      ]
    },
    {
      "cell_type": "code",
      "execution_count": 5,
      "metadata": {},
      "outputs": [
        {
          "data": {
            "text/plain": [
              "array([[-0.27052701, -0.70543571],\n",
              "       [ 0.86955035,  1.93974686],\n",
              "       [-0.13190962,  0.1221675 ],\n",
              "       [-1.36011657, -3.58321842],\n",
              "       [ 0.29685217,  2.85848108]])"
            ]
          },
          "execution_count": 6,
          "metadata": {},
          "output_type": "execute_result"
        }
      ],
      "source": [
        "def build_m2(mat):\n",
        "    means = mean_no_nan(mat)\n",
        "    m1 = mat.copy()\n",
        "    for i in range(len(means)):\n",
        "        m1[numpy.isnan(m1[:, i]), i] = means[i]\n",
        "    return m1\n",
        "\n",
        "m2 = build_m2(m1)\n",
        "m2[max(p-2, 0):min(p+3, mat.shape[0])]"
      ]
    },
    {
      "cell_type": "markdown",
      "metadata": {},
      "source": [
        "## Q5 - x le plus proche\n",
        "\n",
        "On consid\u00e8re le point de coordonn\u00e9es $(x, y)$, \u00e9crire une fonction qui retourne le point de la matrice $M$ dont l'abscisse est la plus proche de $x$."
      ]
    },
    {
      "cell_type": "code",
      "execution_count": 6,
      "metadata": {},
      "outputs": [
        {
          "data": {
            "text/plain": [
              "10"
            ]
          },
          "execution_count": 7,
          "metadata": {},
          "output_type": "execute_result"
        }
      ],
      "source": [
        "def plus_proche(mat, x, col, colnan):\n",
        "    mini = None\n",
        "    for k in range(mat.shape[0]):\n",
        "        if numpy.isnan(mat[k, col]) or numpy.isnan(mat[k, colnan]):\n",
        "            continue\n",
        "        d = abs(mat[k, col] - x)\n",
        "        if mini is None or d < mini:\n",
        "            mini = d\n",
        "            best = k\n",
        "    return best\n",
        "\n",
        "plus_proche(m1, m1[10, 0], 0, 1)"
      ]
    },
    {
      "cell_type": "code",
      "execution_count": 7,
      "metadata": {},
      "outputs": [
        {
          "data": {
            "text/plain": [
              "10"
            ]
          },
          "execution_count": 8,
          "metadata": {},
          "output_type": "execute_result"
        }
      ],
      "source": [
        "def plus_proche_rapide(mat, x, col, colnan):\n",
        "    mini = None\n",
        "    na = numpy.arange(0, mat.shape[0])[~(numpy.isnan(mat[:, col]) | numpy.isnan(mat[:, colnan]))]\n",
        "    diff = numpy.abs(mat[na, col] - x)\n",
        "    amin = numpy.argmin(diff)\n",
        "    best = na[amin]\n",
        "    return best\n",
        "\n",
        "plus_proche_rapide(m1, m1[10, 0], 0, 1)"
      ]
    },
    {
      "cell_type": "code",
      "execution_count": 8,
      "metadata": {},
      "outputs": [
        {
          "name": "stdout",
          "output_type": "stream",
          "text": [
            "6.77 ms \u00b1 455 \u00b5s per loop (mean \u00b1 std. dev. of 7 runs, 100 loops each)\n"
          ]
        }
      ],
      "source": [
        "%timeit plus_proche(m1, m1[10, 0], 0, 1)"
      ]
    },
    {
      "cell_type": "code",
      "execution_count": 9,
      "metadata": {},
      "outputs": [
        {
          "name": "stdout",
          "output_type": "stream",
          "text": [
            "59.4 \u00b5s \u00b1 6.18 \u00b5s per loop (mean \u00b1 std. dev. of 7 runs, 10000 loops each)\n"
          ]
        }
      ],
      "source": [
        "%timeit plus_proche_rapide(m1, m1[10, 0], 0, 1)"
      ]
    },
    {
      "cell_type": "markdown",
      "metadata": {},
      "source": [
        "C'est beaucoup plus rapide car on utilise les fonctions *numpy*."
      ]
    },
    {
      "cell_type": "markdown",
      "metadata": {
        "scrolled": false
      },
      "source": [
        "## Q6 - matrice m3\n",
        "\n",
        "Pour chaque $y$ manquant, on utilise la fonction pr\u00e9c\u00e9dente pour retourner le point dont l'abscisse et la plus proche et on remplace l'ordonn\u00e9e $y$ par celle du point trouv\u00e9. On fait de m\u00eame avec les $x$ manquant.\n",
        "On construit la matrice ainsi $M_3$ \u00e0 partir de $M_1$."
      ]
    },
    {
      "cell_type": "code",
      "execution_count": 10,
      "metadata": {},
      "outputs": [
        {
          "data": {
            "text/plain": [
              "array([[-0.27052701, -0.70543571],\n",
              "       [ 0.86955035,  1.93974686],\n",
              "       [-0.13190962, -0.09148848],\n",
              "       [-1.36011657, -3.58321842],\n",
              "       [ 0.29685217,  2.85848108]])"
            ]
          },
          "execution_count": 11,
          "metadata": {},
          "output_type": "execute_result"
        }
      ],
      "source": [
        "def build_m3(mat):\n",
        "    mat = mat.copy()\n",
        "    for i in range(mat.shape[0]):\n",
        "        for j in range(mat.shape[1]):\n",
        "            if numpy.isnan(mat[i, j]):\n",
        "                col = 1-j\n",
        "                if numpy.isnan(mat[i, col]):\n",
        "                    # deux valeurs nan, on utilise la moyenne\n",
        "                    mat[i, j] = numpy.mean(mat[~numpy.isnan(mat[:,j]), j])\n",
        "                else:\n",
        "                    pos = plus_proche_rapide(mat, mat[i, col], col, j)\n",
        "                    mat[i, j] = mat[pos, j]\n",
        "    return mat\n",
        "\n",
        "m3 = build_m3(m1)\n",
        "m3[max(p-2, 0):min(p+3, mat.shape[0])]"
      ]
    },
    {
      "cell_type": "markdown",
      "metadata": {},
      "source": [
        "## Q7 - norme\n",
        "\n",
        "On a deux m\u00e9thodes pour compl\u00e9ter les valeurs manquantes, quelle est la meilleure ? Il faut v\u00e9rifier num\u00e9riquement en comparant $\\parallel M-M_2 \\parallel^2$ et $\\parallel M-M_3 \\parallel^2$."
      ]
    },
    {
      "cell_type": "code",
      "execution_count": 11,
      "metadata": {},
      "outputs": [
        {
          "data": {
            "text/plain": [
              "(53.603820134405325, 19.654474539268655)"
            ]
          },
          "execution_count": 12,
          "metadata": {},
          "output_type": "execute_result"
        }
      ],
      "source": [
        "def distance(m1, m2):\n",
        "    d = m1.ravel() - m2.ravel()\n",
        "    return d @ d\n",
        "\n",
        "d2 = distance(mat, m2)\n",
        "d3 = distance(mat, m3)\n",
        "d2, d3"
      ]
    },
    {
      "cell_type": "markdown",
      "metadata": {},
      "source": [
        "## Q8 - r\u00e9p\u00e9tition\n",
        "\n",
        "Une experience r\u00e9ussie ne veut pas dire que cela fonctionne. Recommencer 10 fois en changeant le nuages de points et les valeurs manquantes ajout\u00e9es."
      ]
    },
    {
      "cell_type": "code",
      "execution_count": 12,
      "metadata": {},
      "outputs": [
        {
          "data": {
            "text/plain": [
              "array([[44.07735219, 23.67800422],\n",
              "       [33.12631712, 12.10075261],\n",
              "       [39.09523346, 10.10221031],\n",
              "       [40.70251403, 13.12250425],\n",
              "       [40.46037439, 26.43629468],\n",
              "       [49.24404043, 14.45599717],\n",
              "       [72.8231048 , 28.70156579],\n",
              "       [61.11823341, 27.6874561 ],\n",
              "       [93.73268411, 30.38750296],\n",
              "       [52.24459752, 32.72061869]])"
            ]
          },
          "execution_count": 13,
          "metadata": {},
          "output_type": "execute_result"
        }
      ],
      "source": [
        "def repetition(N=1000, n=20, nb=10):\n",
        "    res = []\n",
        "    for i in range(nb):\n",
        "        mat = random_mat(N)\n",
        "        m1, _ = build_m1(mat, n)\n",
        "        m2 = build_m2(m1)\n",
        "        m3 = build_m3(m1)\n",
        "        d2, d3 = distance(mat, m2), distance(mat, m3)\n",
        "        res.append((d2, d3))\n",
        "    return numpy.array(res)\n",
        "\n",
        "repetition()"
      ]
    },
    {
      "cell_type": "markdown",
      "metadata": {},
      "source": [
        "## Q9 - plus de valeurs manquantes\n",
        "\n",
        "Et si on augmente le nombre de valeurs manquantes, l'\u00e9cart se creuse-t-il ou se r\u00e9duit -il ? Montrez-le num\u00e9riquement."
      ]
    },
    {
      "cell_type": "code",
      "execution_count": 13,
      "metadata": {},
      "outputs": [
        {
          "name": "stdout",
          "output_type": "stream",
          "text": [
            "100\n",
            "200\n",
            "300\n",
            "400\n",
            "500\n",
            "600\n",
            "700\n",
            "800\n",
            "900\n"
          ]
        },
        {
          "data": {
            "text/plain": [
              "array([[2.86969503, 1.31942725],\n",
              "       [2.97359586, 1.29663434],\n",
              "       [2.8205632 , 1.44150069],\n",
              "       [2.75267794, 1.50264243],\n",
              "       [2.74118704, 1.58016994]])"
            ]
          },
          "execution_count": 14,
          "metadata": {},
          "output_type": "execute_result"
        }
      ],
      "source": [
        "diff = []\n",
        "ns = []\n",
        "for n in range(100, 1000, 100):\n",
        "    print(n)\n",
        "    res = repetition(n=n, nb=10)\n",
        "    diff.append(res.mean(axis=0) / n)\n",
        "    ns.append(n)\n",
        "diff = numpy.array(diff)\n",
        "diff[:5]"
      ]
    },
    {
      "cell_type": "code",
      "execution_count": 14,
      "metadata": {},
      "outputs": [],
      "source": [
        "%matplotlib inline"
      ]
    },
    {
      "cell_type": "code",
      "execution_count": 15,
      "metadata": {},
      "outputs": [
        {
          "data": {
            "image/png": "[encoded data removed]",
            "text/plain": [
              "<Figure size 720x288 with 2 Axes>"
            ]
          },
          "metadata": {},
          "output_type": "display_data"
        }
      ],
      "source": [
        "import pandas\n",
        "df = pandas.DataFrame(diff, columns=[\"d2\", \"d3\"])\n",
        "df['N'] = ns\n",
        "df = df.set_index('N')\n",
        "df[\"ratio\"] = df[\"d2\"] / df[\"d3\"]\n",
        "\n",
        "import matplotlib.pyplot as plt\n",
        "fig, ax = plt.subplots(1, 2, figsize=(10, 4))\n",
        "df[[\"d2\", \"d3\"]].plot(ax=ax[0])\n",
        "df[[\"ratio\"]].plot(ax=ax[1])\n",
        "ax[0].set_title(\"d2 et d3\\nErreur moyenne par valeur manquante\")\n",
        "ax[1].set_title(\"d2 / d3\");"
      ]
    },
    {
      "cell_type": "markdown",
      "metadata": {},
      "source": [
        "Plus il y a de valeurs manquantes, plus le ratio tend vers 1 car il y a moins d'informations pour compl\u00e9ter les valeurs manquantes autrement que "
      ]
    },
    {
      "cell_type": "markdown",
      "metadata": {},
      "source": [
        "## Q10\n",
        "\n",
        "Votre fonction de la question 5 a probablement un co\u00fbt lin\u00e9aire. Il est probablement possible de faire mieux, si oui, il faut pr\u00e9ciser comment et ce que cela implique sur les donn\u00e9es. Il ne faut pas l'impl\u00e9menter."
      ]
    },
    {
      "cell_type": "markdown",
      "metadata": {},
      "source": [
        "Il suffit de trier le tableau et d'utiliser une recherche dichotomique. Le co\u00fbt du tri est n\u00e9gligeable par rapport au nombre de fois que la fonction ``plus_proche`` est utilis\u00e9e."
      ]
    },
    {
      "cell_type": "code",
      "execution_count": 16,
      "metadata": {},
      "outputs": [],
      "source": []
    }
  ],
  "metadata": {
    "kernelspec": {
      "display_name": "Python 3",
      "language": "python",
      "name": "python3"
    },
    "language_info": {
      "codemirror_mode": {
        "name": "ipython",
        "version": 3
      },
      "file_extension": ".py",
      "mimetype": "text/x-python",
      "name": "python",
      "nbconvert_exporter": "python",
      "pygments_lexer": "ipython3",
      "version": "3.7.0"
    }
  },
  "nbformat": 4,
  "nbformat_minor": 2
}