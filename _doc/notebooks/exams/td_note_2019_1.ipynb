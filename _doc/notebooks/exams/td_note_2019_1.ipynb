{
  "cells": [
    {
      "cell_type": "markdown",
      "metadata": {},
      "source": [
        "# 1A.e - Enonc\u00e9 23 octobre 2018 (1)\n",
        "\n",
        "Correction du premier \u00e9nonc\u00e9 de l'examen du 23 octobre 2018. L'\u00e9nonc\u00e9 propose une m\u00e9thode pour renseigner les valeurs manquantes dans une base de deux variables."
      ]
    },
    {
      "cell_type": "code",
      "execution_count": 1,
      "metadata": {},
      "outputs": [
        {
          "data": {
            "text/html": [
              "<div id=\"my_id_menu_nb\">run previous cell, wait for 2 seconds</div>\n",
              "<script>\n",
              "function repeat_indent_string(n){\n",
              "    var a = \"\" ;\n",
              "    for ( ; n > 0 ; --n)\n",
              "        a += \"    \";\n",
              "    return a;\n",
              "}\n",
              "// look up into all sections and builds an automated menu //\n",
              "var update_menu_string = function(begin, lfirst, llast, sformat, send, keep_item, begin_format, end_format) {\n",
              "    var anchors = document.getElementsByClassName(\"section\");\n",
              "    if (anchors.length == 0) {\n",
              "        anchors = document.getElementsByClassName(\"text_cell_render rendered_html\");\n",
              "    }\n",
              "    var i,t;\n",
              "    var text_menu = begin;\n",
              "    var text_memo = \"<pre>\\nlength:\" + anchors.length + \"\\n\";\n",
              "    var ind = \"\";\n",
              "    var memo_level = 1;\n",
              "    var href;\n",
              "    var tags = [];\n",
              "    var main_item = 0;\n",
              "    var format_open = 0;\n",
              "    for (i = 0; i <= llast; i++)\n",
              "        tags.push(\"h\" + i);\n",
              "\n",
              "    for (i = 0; i < anchors.length; i++) {\n",
              "        text_memo += \"**\" + anchors[i].id + \"--\\n\";\n",
              "\n",
              "        var child = null;\n",
              "        for(t = 0; t < tags.length; t++) {\n",
              "            var r = anchors[i].getElementsByTagName(tags[t]);\n",
              "            if (r.length > 0) {\n",
              "child = r[0];\n",
              "break;\n",
              "            }\n",
              "        }\n",
              "        if (child == null) {\n",
              "            text_memo += \"null\\n\";\n",
              "            continue;\n",
              "        }\n",
              "        if (anchors[i].hasAttribute(\"id\")) {\n",
              "            // when converted in RST\n",
              "            href = anchors[i].id;\n",
              "            text_memo += \"#1-\" + href;\n",
              "            // passer \u00e0 child suivant (le chercher)\n",
              "        }\n",
              "        else if (child.hasAttribute(\"id\")) {\n",
              "            // in a notebook\n",
              "            href = child.id;\n",
              "            text_memo += \"#2-\" + href;\n",
              "        }\n",
              "        else {\n",
              "            text_memo += \"#3-\" + \"*\" + \"\\n\";\n",
              "            continue;\n",
              "        }\n",
              "        var title = child.textContent;\n",
              "        var level = parseInt(child.tagName.substring(1,2));\n",
              "\n",
              "        text_memo += \"--\" + level + \"?\" + lfirst + \"--\" + title + \"\\n\";\n",
              "\n",
              "        if ((level < lfirst) || (level > llast)) {\n",
              "            continue ;\n",
              "        }\n",
              "        if (title.endsWith('\u00b6')) {\n",
              "            title = title.substring(0,title.length-1).replace(\"<\", \"&lt;\")\n",
              "         .replace(\">\", \"&gt;\").replace(\"&\", \"&amp;\");\n",
              "        }\n",
              "        if (title.length == 0) {\n",
              "            continue;\n",
              "        }\n",
              "\n",
              "        while (level < memo_level) {\n",
              "            text_menu += end_format + \"</ul>\\n\";\n",
              "            format_open -= 1;\n",
              "            memo_level -= 1;\n",
              "        }\n",
              "        if (level == lfirst) {\n",
              "            main_item += 1;\n",
              "        }\n",
              "        if (keep_item != -1 && main_item != keep_item + 1) {\n",
              "            // alert(main_item + \" - \" + level + \" - \" + keep_item);\n",
              "            continue;\n",
              "        }\n",
              "        while (level > memo_level) {\n",
              "            text_menu += \"<ul>\\n\";\n",
              "            memo_level += 1;\n",
              "        }\n",
              "        text_menu += repeat_indent_string(level-2);\n",
              "        text_menu += begin_format + sformat.replace(\"__HREF__\", href).replace(\"__TITLE__\", title);\n",
              "        format_open += 1;\n",
              "    }\n",
              "    while (1 < memo_level) {\n",
              "        text_menu += end_format + \"</ul>\\n\";\n",
              "        memo_level -= 1;\n",
              "        format_open -= 1;\n",
              "    }\n",
              "    text_menu += send;\n",
              "    //text_menu += \"\\n\" + text_memo;\n",
              "\n",
              "    while (format_open > 0) {\n",
              "        text_menu += end_format;\n",
              "        format_open -= 1;\n",
              "    }\n",
              "    return text_menu;\n",
              "};\n",
              "var update_menu = function() {\n",
              "    var sbegin = \"\";\n",
              "    var sformat = '<a href=\"#__HREF__\">__TITLE__</a>';\n",
              "    var send = \"\";\n",
              "    var begin_format = '<li>';\n",
              "    var end_format = '</li>';\n",
              "    var keep_item = -1;\n",
              "    var text_menu = update_menu_string(sbegin, 2, 4, sformat, send, keep_item,\n",
              "       begin_format, end_format);\n",
              "    var menu = document.getElementById(\"my_id_menu_nb\");\n",
              "    menu.innerHTML=text_menu;\n",
              "};\n",
              "window.setTimeout(update_menu,2000);\n",
              "            </script>"
            ],
            "text/plain": [
              "<IPython.core.display.HTML object>"
            ]
          },
          "execution_count": 2,
          "metadata": {},
          "output_type": "execute_result"
        }
      ],
      "source": [
        "from jyquickhelper import add_notebook_menu\n",
        "add_notebook_menu()"
      ]
    },
    {
      "cell_type": "markdown",
      "metadata": {},
      "source": [
        "On sait d'apr\u00e8s les derni\u00e8res questions qu'il faudra tout r\u00e9p\u00e9ter plusieurs fois. On prend le soin d'\u00e9crire chaque question dans une fonction."
      ]
    },
    {
      "cell_type": "markdown",
      "metadata": {},
      "source": [
        "## Q1 - \u00e9chantillon al\u00e9atoire\n",
        "\n",
        "G\u00e9n\u00e9rer un ensemble de $N=1000$ couples al\u00e9atoires $(X_i,Y_i)$ qui v\u00e9rifient :\n",
        "\n",
        "* $X_i$ suit une loi normale de variance 1.\n",
        "* $Y_i = 2 X_i + \\epsilon_i$ o\u00f9 $\\epsilon_i$ suit une loi normale de variance 1."
      ]
    },
    {
      "cell_type": "code",
      "execution_count": 2,
      "metadata": {},
      "outputs": [
        {
          "data": {
            "text/plain": [
              "array([[ 1.52175872,  3.60951037],\n",
              "       [ 1.26546868,  3.44619413],\n",
              "       [-0.22027562,  0.27663154],\n",
              "       [ 1.51253774,  1.84435289],\n",
              "       [-1.74684248, -3.35969741]])"
            ]
          },
          "execution_count": 3,
          "metadata": {},
          "output_type": "execute_result"
        }
      ],
      "source": [
        "import numpy.random as rnd\n",
        "import numpy\n",
        "\n",
        "def random_mat(N):\n",
        "    mat = numpy.zeros((N, 2))\n",
        "    mat[:, 0] = rnd.normal(size=(N,))\n",
        "    mat[:, 1] = mat[:, 0] * 2 + rnd.normal(size=(N,))\n",
        "    return mat\n",
        "\n",
        "N = 1000\n",
        "mat = random_mat(N)\n",
        "mat[:5]"
      ]
    },
    {
      "cell_type": "markdown",
      "metadata": {},
      "source": [
        "## Q2 - matrice m1\n",
        "\n",
        "On d\u00e9finit la matrice $M \\in \\mathbb{M}_{N,2}(\\mathbb{R})$ d\u00e9finie par les deux vecteurs colonnes $(X_i)$ et $(Y_i)$. Choisir al\u00e9atoirement 20 valeurs dans cette matrice et les remplacer par ``numpy.nan``. On obtient la matrice $M_1$."
      ]
    },
    {
      "cell_type": "code",
      "execution_count": 3,
      "metadata": {},
      "outputs": [
        {
          "data": {
            "text/plain": [
              "array([[ 1.65322624,  3.74695435],\n",
              "       [-0.58624977, -2.70761247],\n",
              "       [        nan,  3.46921638],\n",
              "       [ 1.83689662,  4.47907788],\n",
              "       [-0.80389382, -2.02943789]])"
            ]
          },
          "execution_count": 4,
          "metadata": {},
          "output_type": "execute_result"
        }
      ],
      "source": [
        "import random\n",
        "\n",
        "def build_m1(mat, n=20):\n",
        "    mat = mat.copy()\n",
        "    positions = []\n",
        "    for i in range(0, n):\n",
        "        h = random.randint(0, mat.shape[0] * mat.shape[1] - 1)\n",
        "        pos = h % mat.shape[0], h // mat.shape[0]\n",
        "        positions.append(pos)\n",
        "        mat[pos] = numpy.nan\n",
        "    return mat, positions\n",
        "\n",
        "m1, positions = build_m1(mat)\n",
        "p = positions[0][0]\n",
        "m1[max(p-2, 0):min(p+3, mat.shape[0])]"
      ]
    },
    {
      "cell_type": "markdown",
      "metadata": {},
      "source": [
        "**Remarque 1:** l'\u00e9nonc\u00e9 ne pr\u00e9cisait pas s'il fallait choisir les valeurs al\u00e9atoires sur une ou deux colonnes, le faire sur une seule colonne est sans doute plus rapide et ne change rien aux conclusions des derni\u00e8res questions.\n",
        "\n",
        "**Remarque 2:** il ne faut pas oublier de copier la matrice ``mat.copy()``, dans le cas contraire, la fonction modifie la matrice originale. Ce n'est pas n\u00e9cessairement un probl\u00e8me except\u00e9 pour les derni\u00e8res questions qui requiert de garder cette matrice."
      ]
    },
    {
      "cell_type": "markdown",
      "metadata": {},
      "source": [
        "## Q3 - moyenne\n",
        "\n",
        "Calculer $\\mathbb{E}{X} = \\frac{1}{N}\\sum_i^N X_i$ et $\\mathbb{E}Y = \\frac{1}{N}\\sum_i^N Y_i$. Comme on ne tient pas compte des valeurs manquantes, les moyennes calcul\u00e9es se font avec moins de $N$ termes. Si on d\u00e9finit $V_x$ et $V_y$ l'ensemble des valeurs non manquantes, on veut calculer $\\mathbb{E}{X} = \\frac{\\sum_{i \\in V_x} X_i}{\\sum_{i \\in V_x} 1}$ et $\\mathbb{E}Y = \\frac{\\sum_{i \\in V_y} Y_i}{\\sum_{i \\in V_y} 1}$."
      ]
    },
    {
      "cell_type": "code",
      "execution_count": 4,
      "metadata": {},
      "outputs": [
        {
          "data": {
            "text/plain": [
              "array([-0.00154866, -0.05983795])"
            ]
          },
          "execution_count": 5,
          "metadata": {},
          "output_type": "execute_result"
        }
      ],
      "source": [
        "def mean_no_nan(mat):\n",
        "    res = []\n",
        "    for i in range(mat.shape[1]):\n",
        "        ex = numpy.mean(mat[~numpy.isnan(mat[:, i]), i])\n",
        "        res.append(ex)\n",
        "    return numpy.array(res)\n",
        "\n",
        "mean_no_nan(m1)"
      ]
    },
    {
      "cell_type": "markdown",
      "metadata": {},
      "source": [
        "## Q4 - matrice m2\n",
        "\n",
        "Remplacer les valeurs manquantes de la matrice $M_1$ par la moyenne de leurs colonnes respectives. On obtient la matrice $M_2$."
      ]
    },
    {
      "cell_type": "code",
      "execution_count": 5,
      "metadata": {},
      "outputs": [
        {
          "data": {
            "text/plain": [
              "array([[ 1.65322624e+00,  3.74695435e+00],\n",
              "       [-5.86249769e-01, -2.70761247e+00],\n",
              "       [-1.54866427e-03,  3.46921638e+00],\n",
              "       [ 1.83689662e+00,  4.47907788e+00],\n",
              "       [-8.03893820e-01, -2.02943789e+00]])"
            ]
          },
          "execution_count": 6,
          "metadata": {},
          "output_type": "execute_result"
        }
      ],
      "source": [
        "def build_m2(mat):\n",
        "    means = mean_no_nan(mat)\n",
        "    m2 = mat.copy()\n",
        "    for i in range(len(means)):\n",
        "        m2[numpy.isnan(m2[:, i]), i] = means[i]\n",
        "    return m2\n",
        "\n",
        "m2 = build_m2(m1)\n",
        "m2[max(p-2, 0):min(p+3, mat.shape[0])]"
      ]
    },
    {
      "cell_type": "markdown",
      "metadata": {},
      "source": [
        "## Q5 - matrice m3\n",
        "\n",
        "On trie la matrice $M_1$ selon la premi\u00e8re colonne. On remplace chaque $y$ manquant par la moyenne des deux valeurs qui l'entourent. On recommence avec les $x$ manquant. On obtient la matrice $M_3$."
      ]
    },
    {
      "cell_type": "code",
      "execution_count": 6,
      "metadata": {
        "scrolled": false
      },
      "outputs": [
        {
          "data": {
            "text/plain": [
              "array([[ 1.65322624,  3.74695435],\n",
              "       [-0.58624977, -2.70761247],\n",
              "       [ 1.92887504,  3.46921638],\n",
              "       [ 1.83689662,  4.47907788],\n",
              "       [-0.80389382, -2.02943789]])"
            ]
          },
          "execution_count": 7,
          "metadata": {},
          "output_type": "execute_result"
        }
      ],
      "source": [
        "def fill_column(mat, col):\n",
        "    nlin, ncol = mat.shape\n",
        "    order = numpy.argsort(mat[:, 1-col])\n",
        "    reverse_order = numpy.arange(0, nlin)\n",
        "    for i, v in enumerate(order):\n",
        "        reverse_order[v] = i\n",
        "    bmat = mat[order, :]\n",
        "    last = None\n",
        "    replace = []\n",
        "    for i in range(0, nlin):\n",
        "        if numpy.isnan(bmat[i, col]):\n",
        "            replace.append(i)\n",
        "        else:\n",
        "            if replace:\n",
        "                current = bmat[i, col]\n",
        "                if last is None:\n",
        "                    for r in replace:\n",
        "                        bmat[r, col] = current\n",
        "                else:\n",
        "                    for k, r in enumerate(replace):\n",
        "                        bmat[r, col] = last + (current - last) * float(k + 1) / (len(replace) + 1)\n",
        "            last = bmat[i, col]\n",
        "            replace = []\n",
        "            \n",
        "    if len(replace) > 0:\n",
        "        # Il reste des valeurs manquantes \u00e0 la fin.\n",
        "        for r in replace:\n",
        "            bmat[r, col] = last        \n",
        "    \n",
        "    return bmat[reverse_order, :]\n",
        "\n",
        "def build_m3(mat):\n",
        "    m3 = mat\n",
        "    for i in range(0, mat.shape[1]):\n",
        "        m3 = fill_column(m3, i)\n",
        "    return m3\n",
        "\n",
        "m3 = build_m3(m1)\n",
        "m3[max(p-2, 0):min(p+3, mat.shape[0])]"
      ]
    },
    {
      "cell_type": "markdown",
      "metadata": {},
      "source": [
        "On v\u00e9rifie avec *pandas* que tout s'est bien passe."
      ]
    },
    {
      "cell_type": "code",
      "execution_count": 7,
      "metadata": {},
      "outputs": [
        {
          "data": {
            "text/html": [
              "<div>\n",
              "<style scoped>\n",
              "    .dataframe tbody tr th:only-of-type {\n",
              "        vertical-align: middle;\n",
              "    }\n",
              "\n",
              "    .dataframe tbody tr th {\n",
              "        vertical-align: top;\n",
              "    }\n",
              "\n",
              "    .dataframe thead th {\n",
              "        text-align: right;\n",
              "    }\n",
              "</style>\n",
              "<table border=\"1\" class=\"dataframe\">\n",
              "  <thead>\n",
              "    <tr style=\"text-align: right;\">\n",
              "      <th></th>\n",
              "      <th>0</th>\n",
              "      <th>1</th>\n",
              "    </tr>\n",
              "  </thead>\n",
              "  <tbody>\n",
              "  </tbody>\n",
              "</table>\n",
              "</div>"
            ],
            "text/plain": [
              "Empty DataFrame\n",
              "Columns: [0, 1]\n",
              "Index: []"
            ]
          },
          "execution_count": 8,
          "metadata": {},
          "output_type": "execute_result"
        }
      ],
      "source": [
        "from pandas import DataFrame\n",
        "df = DataFrame(m3)\n",
        "df[df.iloc[:, 0].isnull()]"
      ]
    },
    {
      "cell_type": "code",
      "execution_count": 8,
      "metadata": {},
      "outputs": [
        {
          "data": {
            "text/html": [
              "<div>\n",
              "<style scoped>\n",
              "    .dataframe tbody tr th:only-of-type {\n",
              "        vertical-align: middle;\n",
              "    }\n",
              "\n",
              "    .dataframe tbody tr th {\n",
              "        vertical-align: top;\n",
              "    }\n",
              "\n",
              "    .dataframe thead th {\n",
              "        text-align: right;\n",
              "    }\n",
              "</style>\n",
              "<table border=\"1\" class=\"dataframe\">\n",
              "  <thead>\n",
              "    <tr style=\"text-align: right;\">\n",
              "      <th></th>\n",
              "      <th>0</th>\n",
              "      <th>1</th>\n",
              "    </tr>\n",
              "  </thead>\n",
              "  <tbody>\n",
              "  </tbody>\n",
              "</table>\n",
              "</div>"
            ],
            "text/plain": [
              "Empty DataFrame\n",
              "Columns: [0, 1]\n",
              "Index: []"
            ]
          },
          "execution_count": 9,
          "metadata": {},
          "output_type": "execute_result"
        }
      ],
      "source": [
        "df[df.iloc[:, 1].isnull()]"
      ]
    },
    {
      "cell_type": "markdown",
      "metadata": {},
      "source": [
        "Tout va bien."
      ]
    },
    {
      "cell_type": "markdown",
      "metadata": {},
      "source": [
        "## Q6 - norme\n",
        "\n",
        "On a deux m\u00e9thodes pour compl\u00e9ter les valeurs manquantes, quelle est la meilleure ? Il faut v\u00e9rifier num\u00e9riquement en comparant $\\parallel M-M_2 \\parallel^2$ et $\\parallel M-M_3 \\parallel^2$."
      ]
    },
    {
      "cell_type": "code",
      "execution_count": 9,
      "metadata": {},
      "outputs": [
        {
          "data": {
            "text/plain": [
              "(48.170041805792835, 5.922569619516939)"
            ]
          },
          "execution_count": 10,
          "metadata": {},
          "output_type": "execute_result"
        }
      ],
      "source": [
        "def distance(m1, m2):\n",
        "    d = m1.ravel() - m2.ravel()\n",
        "    return d @ d\n",
        "\n",
        "d2 = distance(mat, m2)\n",
        "d3 = distance(mat, m3)\n",
        "d2, d3"
      ]
    },
    {
      "cell_type": "markdown",
      "metadata": {},
      "source": [
        "## Q7 - r\u00e9p\u00e9tition\n",
        "\n",
        "Une experience r\u00e9ussie ne veut pas dire que cela fonctionne. Recommencer 10 fois en changeant le nuages de points et les valeurs manquantes ajout\u00e9es."
      ]
    },
    {
      "cell_type": "code",
      "execution_count": 10,
      "metadata": {},
      "outputs": [
        {
          "data": {
            "text/plain": [
              "array([[ 99.48873817,  41.75335236],\n",
              "       [123.80972917,  25.93915801],\n",
              "       [ 51.86902045,  14.21682047],\n",
              "       [ 93.81940729,  10.49155525],\n",
              "       [ 80.37581664,  49.75670571],\n",
              "       [113.42849996,  29.97413696],\n",
              "       [ 55.86750944,  15.88369059],\n",
              "       [ 51.29190443,  14.93061457],\n",
              "       [ 25.8775897 ,  14.96863179],\n",
              "       [ 53.23752223,   8.40020066]])"
            ]
          },
          "execution_count": 11,
          "metadata": {},
          "output_type": "execute_result"
        }
      ],
      "source": [
        "def repetition(N=1000, n=20, nb=10):\n",
        "    res = []\n",
        "    for i in range(nb):\n",
        "        mat = random_mat(N)\n",
        "        m1, _ = build_m1(mat, n)\n",
        "        m2 = build_m2(m1)\n",
        "        m3 = build_m3(m1)        \n",
        "        d2, d3 = distance(mat, m2), distance(mat, m3)\n",
        "        res.append((d2, d3))\n",
        "    return numpy.array(res)\n",
        "\n",
        "repetition()"
      ]
    },
    {
      "cell_type": "markdown",
      "metadata": {},
      "source": [
        "## Q8 - plus de valeurs manquantes\n",
        "\n",
        "Et si on augmente le nombre de valeurs manquantes, l'\u00e9cart se creuse-t-il ou se r\u00e9duit -il ? Montrez-le num\u00e9riquement."
      ]
    },
    {
      "cell_type": "code",
      "execution_count": 11,
      "metadata": {},
      "outputs": [
        {
          "data": {
            "text/plain": [
              "array([[2.89583907, 0.90423463],\n",
              "       [3.30543815, 1.05310577],\n",
              "       [2.70580318, 0.78329781],\n",
              "       [2.93506276, 1.02893722],\n",
              "       [3.02219117, 0.98236484]])"
            ]
          },
          "execution_count": 12,
          "metadata": {},
          "output_type": "execute_result"
        }
      ],
      "source": [
        "diff = []\n",
        "ns = []\n",
        "for n in range(10, 1000, 10):\n",
        "    res = repetition(n=n, nb=10)\n",
        "    diff.append(res.mean(axis=0) / n)\n",
        "    ns.append(n)\n",
        "diff = numpy.array(diff)\n",
        "diff[:5]"
      ]
    },
    {
      "cell_type": "code",
      "execution_count": 12,
      "metadata": {},
      "outputs": [],
      "source": [
        "%matplotlib inline"
      ]
    },
    {
      "cell_type": "code",
      "execution_count": 13,
      "metadata": {},
      "outputs": [
        {
          "data": {
            "image/png": "[encoded data removed]",
            "text/plain": [
              "<Figure size 720x288 with 2 Axes>"
            ]
          },
          "metadata": {},
          "output_type": "display_data"
        }
      ],
      "source": [
        "import pandas\n",
        "df = pandas.DataFrame(diff, columns=[\"d2\", \"d3\"])\n",
        "df['N'] = ns\n",
        "df = df.set_index('N')\n",
        "df[\"ratio2/3\"] = df[\"d2\"] / df[\"d3\"]\n",
        "\n",
        "import matplotlib.pyplot as plt\n",
        "fig, ax = plt.subplots(1, 2, figsize=(10, 4))\n",
        "df[[\"d2\", \"d3\"]].plot(ax=ax[0])\n",
        "df[[\"ratio2/3\"]].plot(ax=ax[1])\n",
        "ax[0].set_title(\"d2, d3\\nErreur moyenne par valeur manquante\")\n",
        "ax[1].set_title(\"d2 / d3\");"
      ]
    },
    {
      "cell_type": "markdown",
      "metadata": {},
      "source": [
        "Plus il y a de valeurs manquantes, plus le ratio tend vers 1 car il y a moins d'informations pour compl\u00e9ter les valeurs manquantes autrement que "
      ]
    },
    {
      "cell_type": "markdown",
      "metadata": {},
      "source": [
        "## Q9 - 1 valeur manquante ?\n",
        "\n",
        "S'il n'y qu'une valeur manquante, peut-on sans changer le r\u00e9sultat se passer de tri pour avoir un co\u00fbt lin\u00e9aire ?"
      ]
    },
    {
      "cell_type": "markdown",
      "metadata": {},
      "source": [
        "Si la valeur manquante est dans la colonne 0, il suffit de chercher l'intervalle le plus petit qui encadre la valeur sur la colonne 1 puis de faire la moyenne des valeurs sur les deux valeurs sur la colonne 0."
      ]
    },
    {
      "cell_type": "code",
      "execution_count": 14,
      "metadata": {},
      "outputs": [
        {
          "data": {
            "text/plain": [
              "array([[10. , 11. ],\n",
              "       [ 9. , 10. ],\n",
              "       [ 8. ,  9.5],\n",
              "       [ 7. ,  9. ],\n",
              "       [ 6. ,  8. ]])"
            ]
          },
          "execution_count": 15,
          "metadata": {},
          "output_type": "execute_result"
        }
      ],
      "source": [
        "def build_m3_just1(mat):\n",
        "    for i in range(0, mat.shape[0]):\n",
        "        if numpy.isnan(mat[i, 0]):\n",
        "            pos = i, 0\n",
        "            col = 1\n",
        "            value = mat[i, 1]\n",
        "            break\n",
        "        if numpy.isnan(mat[i, 1]):\n",
        "            pos = i, 1\n",
        "            col = 0\n",
        "            value = mat[i, 0]\n",
        "            break\n",
        "    \n",
        "    imin, imax = None, None\n",
        "    for i in range(0, mat.shape[0]):\n",
        "        if i == pos[0]:\n",
        "            continue\n",
        "        if imin is None or mat[imin, col] < mat[i, col] <= value:\n",
        "            imin = i\n",
        "        if imax is None or mat[imax, col] > mat[i, col] >= value:\n",
        "            imax = i\n",
        "    mat = mat.copy()\n",
        "    mat[pos] = (mat[imin, col] + mat[imax, col]) / 2\n",
        "    return mat\n",
        "\n",
        "mat = numpy.array([[10, 11],\n",
        "                   [9, 10],\n",
        "                   [8, numpy.nan],\n",
        "                   [7, 9],\n",
        "                   [6, 8]])\n",
        "build_m3_just1(mat)"
      ]
    },
    {
      "cell_type": "markdown",
      "metadata": {},
      "source": [
        "## Q10 - plus de deux colonnes ?\n",
        "\n",
        "Pour cette question, vous avez le choix entre impl\u00e9menter la solution que vous proposez \u00e0 la question pr\u00e9c\u00e9dente ou proposer une fa\u00e7on d'\u00e9tendre la m\u00e9thode dans le cas o\u00f9 il y a 3 dimensions."
      ]
    },
    {
      "cell_type": "markdown",
      "metadata": {},
      "source": [
        "Dans ce cas de notre matrice, on utilise l'autre colonne pour ordonner les lignes. Avec plusieurs colonnes, il faudrait choisir la colonne la plus corr\u00e9l\u00e9e."
      ]
    },
    {
      "cell_type": "code",
      "execution_count": 15,
      "metadata": {},
      "outputs": [],
      "source": []
    }
  ],
  "metadata": {
    "kernelspec": {
      "display_name": "Python 3",
      "language": "python",
      "name": "python3"
    },
    "language_info": {
      "codemirror_mode": {
        "name": "ipython",
        "version": 3
      },
      "file_extension": ".py",
      "mimetype": "text/x-python",
      "name": "python",
      "nbconvert_exporter": "python",
      "pygments_lexer": "ipython3",
      "version": "3.7.0"
    }
  },
  "nbformat": 4,
  "nbformat_minor": 2
}