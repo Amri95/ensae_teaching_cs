{
 "cells": [
  {
   "cell_type": "markdown",
   "metadata": {},
   "source": [
    "# 1A.e - Enoncé 23 octobre 2018 (1)\n",
    "\n",
    "Correction du premier énoncé de l'examen du 23 octobre 2018. "
   ]
  },
  {
   "cell_type": "code",
   "execution_count": 1,
   "metadata": {},
   "outputs": [
    {
     "data": {
      "text/html": [
       "<div id=\"my_id_menu_nb\">run previous cell, wait for 2 seconds</div>\n",
       "<script>\n",
       "function repeat_indent_string(n){\n",
       "    var a = \"\" ;\n",
       "    for ( ; n > 0 ; --n)\n",
       "        a += \"    \";\n",
       "    return a;\n",
       "}\n",
       "// look up into all sections and builds an automated menu //\n",
       "var update_menu_string = function(begin, lfirst, llast, sformat, send, keep_item, begin_format, end_format) {\n",
       "    var anchors = document.getElementsByClassName(\"section\");\n",
       "    if (anchors.length == 0) {\n",
       "        anchors = document.getElementsByClassName(\"text_cell_render rendered_html\");\n",
       "    }\n",
       "    var i,t;\n",
       "    var text_menu = begin;\n",
       "    var text_memo = \"<pre>\\nlength:\" + anchors.length + \"\\n\";\n",
       "    var ind = \"\";\n",
       "    var memo_level = 1;\n",
       "    var href;\n",
       "    var tags = [];\n",
       "    var main_item = 0;\n",
       "    var format_open = 0;\n",
       "    for (i = 0; i <= llast; i++)\n",
       "        tags.push(\"h\" + i);\n",
       "\n",
       "    for (i = 0; i < anchors.length; i++) {\n",
       "        text_memo += \"**\" + anchors[i].id + \"--\\n\";\n",
       "\n",
       "        var child = null;\n",
       "        for(t = 0; t < tags.length; t++) {\n",
       "            var r = anchors[i].getElementsByTagName(tags[t]);\n",
       "            if (r.length > 0) {\n",
       "child = r[0];\n",
       "break;\n",
       "            }\n",
       "        }\n",
       "        if (child == null) {\n",
       "            text_memo += \"null\\n\";\n",
       "            continue;\n",
       "        }\n",
       "        if (anchors[i].hasAttribute(\"id\")) {\n",
       "            // when converted in RST\n",
       "            href = anchors[i].id;\n",
       "            text_memo += \"#1-\" + href;\n",
       "            // passer à child suivant (le chercher)\n",
       "        }\n",
       "        else if (child.hasAttribute(\"id\")) {\n",
       "            // in a notebook\n",
       "            href = child.id;\n",
       "            text_memo += \"#2-\" + href;\n",
       "        }\n",
       "        else {\n",
       "            text_memo += \"#3-\" + \"*\" + \"\\n\";\n",
       "            continue;\n",
       "        }\n",
       "        var title = child.textContent;\n",
       "        var level = parseInt(child.tagName.substring(1,2));\n",
       "\n",
       "        text_memo += \"--\" + level + \"?\" + lfirst + \"--\" + title + \"\\n\";\n",
       "\n",
       "        if ((level < lfirst) || (level > llast)) {\n",
       "            continue ;\n",
       "        }\n",
       "        if (title.endsWith('¶')) {\n",
       "            title = title.substring(0,title.length-1).replace(\"<\", \"&lt;\")\n",
       "         .replace(\">\", \"&gt;\").replace(\"&\", \"&amp;\");\n",
       "        }\n",
       "        if (title.length == 0) {\n",
       "            continue;\n",
       "        }\n",
       "\n",
       "        while (level < memo_level) {\n",
       "            text_menu += end_format + \"</ul>\\n\";\n",
       "            format_open -= 1;\n",
       "            memo_level -= 1;\n",
       "        }\n",
       "        if (level == lfirst) {\n",
       "            main_item += 1;\n",
       "        }\n",
       "        if (keep_item != -1 && main_item != keep_item + 1) {\n",
       "            // alert(main_item + \" - \" + level + \" - \" + keep_item);\n",
       "            continue;\n",
       "        }\n",
       "        while (level > memo_level) {\n",
       "            text_menu += \"<ul>\\n\";\n",
       "            memo_level += 1;\n",
       "        }\n",
       "        text_menu += repeat_indent_string(level-2);\n",
       "        text_menu += begin_format + sformat.replace(\"__HREF__\", href).replace(\"__TITLE__\", title);\n",
       "        format_open += 1;\n",
       "    }\n",
       "    while (1 < memo_level) {\n",
       "        text_menu += end_format + \"</ul>\\n\";\n",
       "        memo_level -= 1;\n",
       "        format_open -= 1;\n",
       "    }\n",
       "    text_menu += send;\n",
       "    //text_menu += \"\\n\" + text_memo;\n",
       "\n",
       "    while (format_open > 0) {\n",
       "        text_menu += end_format;\n",
       "        format_open -= 1;\n",
       "    }\n",
       "    return text_menu;\n",
       "};\n",
       "var update_menu = function() {\n",
       "    var sbegin = \"\";\n",
       "    var sformat = '<a href=\"#__HREF__\">__TITLE__</a>';\n",
       "    var send = \"\";\n",
       "    var begin_format = '<li>';\n",
       "    var end_format = '</li>';\n",
       "    var keep_item = -1;\n",
       "    var text_menu = update_menu_string(sbegin, 2, 4, sformat, send, keep_item,\n",
       "       begin_format, end_format);\n",
       "    var menu = document.getElementById(\"my_id_menu_nb\");\n",
       "    menu.innerHTML=text_menu;\n",
       "};\n",
       "window.setTimeout(update_menu,2000);\n",
       "            </script>"
      ],
      "text/plain": [
       "<IPython.core.display.HTML object>"
      ]
     },
     "execution_count": 1,
     "metadata": {},
     "output_type": "execute_result"
    }
   ],
   "source": [
    "from jyquickhelper import add_notebook_menu\n",
    "add_notebook_menu()"
   ]
  },
  {
   "cell_type": "markdown",
   "metadata": {},
   "source": [
    "On sait d'après les dernières questions qu'il faudra tout répéter plusieurs fois. On prend le soin d'écrire chaque question dans une fonction."
   ]
  },
  {
   "cell_type": "markdown",
   "metadata": {},
   "source": [
    "## Q1 - échantillon aléatoire\n",
    "\n",
    "Générer un ensemble de $N=1000$ couples aléatoires $(X_i,Y_i)$ qui vérifient :\n",
    "\n",
    "* $X_i$ suit une loi normale de variance 1.\n",
    "* $Y_i = 2 X_i + \\epsilon_i$ où $\\epsilon_i$ suit une loi normale de variance 1."
   ]
  },
  {
   "cell_type": "code",
   "execution_count": 16,
   "metadata": {},
   "outputs": [
    {
     "data": {
      "text/plain": [
       "array([[ 0.72457823,  0.67325493],\n",
       "       [ 0.642962  ,  2.03136669],\n",
       "       [ 0.94925674,  2.79166176],\n",
       "       [ 0.36588917, -0.81003229],\n",
       "       [-0.49339654, -1.97666224]])"
      ]
     },
     "execution_count": 16,
     "metadata": {},
     "output_type": "execute_result"
    }
   ],
   "source": [
    "import numpy.random as rnd\n",
    "import numpy\n",
    "\n",
    "def random_mat(N):\n",
    "    mat = numpy.zeros((N, 2))\n",
    "    mat[:, 0] = rnd.normal(size=(N,))\n",
    "    mat[:, 1] = mat[:, 0] * 2 + rnd.normal(size=(N,))\n",
    "    return mat\n",
    "\n",
    "N = 1000\n",
    "mat = random_mat(N)\n",
    "mat[:5]"
   ]
  },
  {
   "cell_type": "markdown",
   "metadata": {},
   "source": [
    "## Q2 - matrice m1\n",
    "\n",
    "On définit la matrice $M \\in \\mathbb{M}_{N,2}(\\mathbb{R})$ définie par les deux vecteurs colonnes $(X_i)$ et $(Y_i)$. Choisir aléatoirement 20 valeurs dans cette matrice et les remplacer par ``numpy.nan``. On obtient la matrice $M_1$."
   ]
  },
  {
   "cell_type": "code",
   "execution_count": 17,
   "metadata": {},
   "outputs": [
    {
     "data": {
      "text/plain": [
       "array([[ 0.50155553,  1.80382374],\n",
       "       [ 1.2117257 ,  4.50648688],\n",
       "       [        nan, -3.55788468],\n",
       "       [-0.61610986, -1.58796412],\n",
       "       [ 0.47502706,  0.17625956]])"
      ]
     },
     "execution_count": 17,
     "metadata": {},
     "output_type": "execute_result"
    }
   ],
   "source": [
    "import random\n",
    "\n",
    "def build_m1(mat, n=20):\n",
    "    mat = mat.copy()\n",
    "    positions = []\n",
    "    for i in range(0, n):\n",
    "        h = random.randint(0, mat.shape[0] * mat.shape[1] - 1)\n",
    "        pos = h % mat.shape[0], h // mat.shape[0]\n",
    "        positions.append(pos)\n",
    "        mat[pos] = numpy.nan\n",
    "    return mat, positions\n",
    "\n",
    "m1, positions = build_m1(mat)\n",
    "p = positions[0][0]\n",
    "m1[max(p-2, 0):min(p+3, mat.shape[0])]"
   ]
  },
  {
   "cell_type": "markdown",
   "metadata": {},
   "source": [
    "## Q3 - moyenne\n",
    "\n",
    "Calculer $\\mathbb{E}{X} = \\frac{1}{N}\\sum_i^N X_i$ et $\\mathbb{E}Y = \\frac{1}{N}\\sum_i^N Y_i$."
   ]
  },
  {
   "cell_type": "code",
   "execution_count": 18,
   "metadata": {},
   "outputs": [
    {
     "data": {
      "text/plain": [
       "array([-0.00526488, -0.02134016])"
      ]
     },
     "execution_count": 18,
     "metadata": {},
     "output_type": "execute_result"
    }
   ],
   "source": [
    "def mean_no_nan(mat):\n",
    "    res = []\n",
    "    for i in range(mat.shape[1]):\n",
    "        ex = numpy.mean(mat[~numpy.isnan(mat[:, i]), i])\n",
    "        res.append(ex)\n",
    "    return numpy.array(res)\n",
    "\n",
    "mean_no_nan(m1)"
   ]
  },
  {
   "cell_type": "markdown",
   "metadata": {},
   "source": [
    "## Q4 - matrice m2\n",
    "\n",
    "Remplacer les valeurs manquantes de la matrice $M_1$ par la moyenne de leurs colonnes respectives. On obtient la matrice $M_2$."
   ]
  },
  {
   "cell_type": "code",
   "execution_count": 19,
   "metadata": {},
   "outputs": [
    {
     "data": {
      "text/plain": [
       "array([[ 0.50155553,  1.80382374],\n",
       "       [ 1.2117257 ,  4.50648688],\n",
       "       [-0.83813971, -3.55788468],\n",
       "       [-0.61610986, -1.58796412],\n",
       "       [ 0.47502706,  0.17625956]])"
      ]
     },
     "execution_count": 19,
     "metadata": {},
     "output_type": "execute_result"
    }
   ],
   "source": [
    "def build_m2(mat):\n",
    "    means = mean_no_nan(mat)\n",
    "    m1 = mat.copy()\n",
    "    for i in range(len(means)):\n",
    "        m1[numpy.isnan(m1[:, i]), i] = means[i]\n",
    "    return m1\n",
    "\n",
    "m2 = build_m2(mat)\n",
    "m2[max(p-2, 0):min(p+3, mat.shape[0])]"
   ]
  },
  {
   "cell_type": "markdown",
   "metadata": {},
   "source": [
    "## Q5 - matrice m3\n",
    "\n",
    "On trie la matrice $M_1$ selon la première colonne. On remplace chaque $y$ manquant par la moyenne des deux valeurs qui l'entourent. On recommence avec les $x$ manquant. On obtient la matrice $M_3$."
   ]
  },
  {
   "cell_type": "code",
   "execution_count": 20,
   "metadata": {
    "scrolled": false
   },
   "outputs": [
    {
     "data": {
      "text/plain": [
       "array([[ 0.50155553,  1.80382374],\n",
       "       [ 1.2117257 ,  4.50648688],\n",
       "       [-1.32273873, -3.55788468],\n",
       "       [-0.61610986, -1.58796412],\n",
       "       [ 0.47502706,  0.17625956]])"
      ]
     },
     "execution_count": 20,
     "metadata": {},
     "output_type": "execute_result"
    }
   ],
   "source": [
    "def fill_column(mat, col):\n",
    "    nlin, ncol = mat.shape\n",
    "    order = numpy.argsort(mat[:, 1-col])\n",
    "    reverse_order = numpy.arange(0, nlin)\n",
    "    for i, v in enumerate(order):\n",
    "        reverse_order[v] = i\n",
    "    bmat = mat[order, :]\n",
    "    last = None\n",
    "    replace = []\n",
    "    for i in range(0, nlin):\n",
    "        if numpy.isnan(bmat[i, col]):\n",
    "            replace.append(i)\n",
    "        else:\n",
    "            last = bmat[i, col]\n",
    "            if replace:\n",
    "                current = bmat[i, col]\n",
    "                if last is None:\n",
    "                    for r in replace:\n",
    "                        bmat[r, col] = current\n",
    "                else:\n",
    "                    for k, r in enumerate(replace):\n",
    "                        bmat[r, col] = last + (current - last) * float(k) / len(replace)\n",
    "            replace = []\n",
    "            \n",
    "    if len(replace) > 0:\n",
    "        # Il reste des valeurs manquantes à la fin.\n",
    "        for r in replace:\n",
    "            bmat[r, col] = last        \n",
    "    \n",
    "    return bmat[reverse_order, :]\n",
    "\n",
    "def build_m3(mat):\n",
    "    m3 = mat\n",
    "    for i in range(0, mat.shape[1]):\n",
    "        m3 = fill_column(m3, i)\n",
    "    return m3\n",
    "\n",
    "m3 = build_m3(m1)\n",
    "m3[max(p-2, 0):min(p+3, mat.shape[0])]"
   ]
  },
  {
   "cell_type": "markdown",
   "metadata": {},
   "source": [
    "On vérifie avec *pandas* que tout s'est bien passe."
   ]
  },
  {
   "cell_type": "code",
   "execution_count": 22,
   "metadata": {},
   "outputs": [
    {
     "data": {
      "text/html": [
       "<div>\n",
       "<style scoped>\n",
       "    .dataframe tbody tr th:only-of-type {\n",
       "        vertical-align: middle;\n",
       "    }\n",
       "\n",
       "    .dataframe tbody tr th {\n",
       "        vertical-align: top;\n",
       "    }\n",
       "\n",
       "    .dataframe thead th {\n",
       "        text-align: right;\n",
       "    }\n",
       "</style>\n",
       "<table border=\"1\" class=\"dataframe\">\n",
       "  <thead>\n",
       "    <tr style=\"text-align: right;\">\n",
       "      <th></th>\n",
       "      <th>0</th>\n",
       "      <th>1</th>\n",
       "    </tr>\n",
       "  </thead>\n",
       "  <tbody>\n",
       "  </tbody>\n",
       "</table>\n",
       "</div>"
      ],
      "text/plain": [
       "Empty DataFrame\n",
       "Columns: [0, 1]\n",
       "Index: []"
      ]
     },
     "execution_count": 22,
     "metadata": {},
     "output_type": "execute_result"
    }
   ],
   "source": [
    "from pandas import DataFrame\n",
    "df = DataFrame(m3)\n",
    "df[df.iloc[:, 0].isnull()]"
   ]
  },
  {
   "cell_type": "code",
   "execution_count": 23,
   "metadata": {},
   "outputs": [
    {
     "data": {
      "text/html": [
       "<div>\n",
       "<style scoped>\n",
       "    .dataframe tbody tr th:only-of-type {\n",
       "        vertical-align: middle;\n",
       "    }\n",
       "\n",
       "    .dataframe tbody tr th {\n",
       "        vertical-align: top;\n",
       "    }\n",
       "\n",
       "    .dataframe thead th {\n",
       "        text-align: right;\n",
       "    }\n",
       "</style>\n",
       "<table border=\"1\" class=\"dataframe\">\n",
       "  <thead>\n",
       "    <tr style=\"text-align: right;\">\n",
       "      <th></th>\n",
       "      <th>0</th>\n",
       "      <th>1</th>\n",
       "    </tr>\n",
       "  </thead>\n",
       "  <tbody>\n",
       "  </tbody>\n",
       "</table>\n",
       "</div>"
      ],
      "text/plain": [
       "Empty DataFrame\n",
       "Columns: [0, 1]\n",
       "Index: []"
      ]
     },
     "execution_count": 23,
     "metadata": {},
     "output_type": "execute_result"
    }
   ],
   "source": [
    "df[df.iloc[:, 1].isnull()]"
   ]
  },
  {
   "cell_type": "markdown",
   "metadata": {},
   "source": [
    "Tout va bien."
   ]
  },
  {
   "cell_type": "markdown",
   "metadata": {},
   "source": [
    "## Q6 - norme\n",
    "\n",
    "On a deux méthodes pour compléter les valeurs manquantes, quelle est la meilleure ? Il faut vérifier numériquement en comparant $\\parallel M-M_2 \\parallel^2$ et $\\parallel M-M_3 \\parallel^2$."
   ]
  },
  {
   "cell_type": "code",
   "execution_count": 24,
   "metadata": {},
   "outputs": [
    {
     "data": {
      "text/plain": [
       "(0.0, 25.01234488984453)"
      ]
     },
     "execution_count": 24,
     "metadata": {},
     "output_type": "execute_result"
    }
   ],
   "source": [
    "def distance(m1, m2):\n",
    "    d = m1.ravel() - m2.ravel()\n",
    "    return d @ d\n",
    "\n",
    "d2 = distance(mat, m2)\n",
    "d3 = distance(mat, m3)\n",
    "d2, d3"
   ]
  },
  {
   "cell_type": "markdown",
   "metadata": {},
   "source": [
    "## Q7 - répétition\n",
    "\n",
    "Une experience réussie ne veut pas dire que cela fonctionne. Recommencer 10 fois en changeant le nuages de points et les valeurs manquantes ajoutées."
   ]
  },
  {
   "cell_type": "code",
   "execution_count": 25,
   "metadata": {},
   "outputs": [
    {
     "data": {
      "text/plain": [
       "array([[51.13819425, 22.20859228],\n",
       "       [30.30464597, 23.7188251 ],\n",
       "       [52.09377307, 19.05235921],\n",
       "       [46.19705702,  8.61684035],\n",
       "       [42.9106715 , 21.64300829],\n",
       "       [41.66131594, 17.65469097],\n",
       "       [68.6101583 , 14.17057596],\n",
       "       [30.64368958, 30.29736156],\n",
       "       [70.57553993, 43.71410341],\n",
       "       [52.82978116,  7.81705761]])"
      ]
     },
     "execution_count": 25,
     "metadata": {},
     "output_type": "execute_result"
    }
   ],
   "source": [
    "def repetition(N=1000, n=20, nb=10):\n",
    "    res = []\n",
    "    for i in range(nb):\n",
    "        mat = random_mat(N)\n",
    "        m1, _ = add_nan(mat, n)\n",
    "        m2 = build_m2(m1)\n",
    "        m3 = build_m3(m1)\n",
    "        d2, d3 = distance(mat, m2), distance(mat, m3)\n",
    "        res.append((d2, d3))\n",
    "    return numpy.array(res)\n",
    "\n",
    "repetition()"
   ]
  },
  {
   "cell_type": "markdown",
   "metadata": {},
   "source": [
    "## Q8 - plus de valeurs manquantes\n",
    "\n",
    "Et si on augmente le nombre de valeurs manquantes, l'écart se creuse-t-il ou se réduit -il ? Montrez-le numériquement."
   ]
  },
  {
   "cell_type": "code",
   "execution_count": 26,
   "metadata": {},
   "outputs": [
    {
     "data": {
      "text/plain": [
       "array([[2.80853567, 1.09844185],\n",
       "       [3.3144222 , 1.52377609],\n",
       "       [3.65047397, 1.52739417],\n",
       "       [2.66507784, 1.25241461],\n",
       "       [2.81706126, 1.23633396]])"
      ]
     },
     "execution_count": 26,
     "metadata": {},
     "output_type": "execute_result"
    }
   ],
   "source": [
    "diff = []\n",
    "for n in range(10, 1000, 10):\n",
    "    res = repetition(n=n, nb=10)\n",
    "    diff.append(res.mean(axis=0) / n)\n",
    "diff = numpy.array(diff)\n",
    "diff[:5]"
   ]
  },
  {
   "cell_type": "code",
   "execution_count": 27,
   "metadata": {},
   "outputs": [],
   "source": [
    "%matplotlib inline"
   ]
  },
  {
   "cell_type": "code",
   "execution_count": 28,
   "metadata": {},
   "outputs": [
    {
     "data": {
      "image/png": "[encoded data removed]",
      "text/plain": [
       "<Figure size 720x288 with 2 Axes>"
      ]
     },
     "metadata": {},
     "output_type": "display_data"
    }
   ],
   "source": [
    "import pandas\n",
    "df = pandas.DataFrame(diff, columns=[\"d2\", \"d3\"])\n",
    "df[\"ratio\"] = df[\"d2\"] / df[\"d3\"]\n",
    "\n",
    "import matplotlib.pyplot as plt\n",
    "fig, ax = plt.subplots(1, 2, figsize=(10, 4))\n",
    "df[[\"d2\", \"d3\"]].plot(ax=ax[0])\n",
    "df[[\"ratio\"]].plot(ax=ax[1])\n",
    "ax[0].set_title(\"d2 et d3\\nErreur moyenne par valeur manquante\")\n",
    "ax[1].set_title(\"d2 / d3\");"
   ]
  },
  {
   "cell_type": "markdown",
   "metadata": {},
   "source": [
    "Plus il y a de valeurs manquantes, plus le ratio tend vers 1 car il y a moins d'informations pour compléter les valeurs manquantes autrement que "
   ]
  },
  {
   "cell_type": "markdown",
   "metadata": {},
   "source": [
    "## Q9 - 1 valeur manquante ?\n",
    "\n",
    "S'il n'y qu'une valeur manquante, peut-on sans changer le résultat se passer de tri pour avoir un coût linéaire ?"
   ]
  },
  {
   "cell_type": "markdown",
   "metadata": {},
   "source": [
    "Si la valeur manquante est dans la colonne 0, il suffit de chercher l'intervalle le plus petit qui encadre la valeur sur la colonne 1 puis de faire la moyenne des valeurs sur les deux valeurs sur la colonne 0."
   ]
  },
  {
   "cell_type": "code",
   "execution_count": 29,
   "metadata": {},
   "outputs": [
    {
     "data": {
      "text/plain": [
       "array([[10. , 11. ],\n",
       "       [ 9. , 10. ],\n",
       "       [ 8. ,  9.5],\n",
       "       [ 7. ,  9. ],\n",
       "       [ 6. ,  8. ]])"
      ]
     },
     "execution_count": 29,
     "metadata": {},
     "output_type": "execute_result"
    }
   ],
   "source": [
    "def build_m3_just1(mat):\n",
    "    for i in range(0, mat.shape[0]):\n",
    "        if numpy.isnan(mat[i, 0]):\n",
    "            pos = i, 0\n",
    "            col = 1\n",
    "            value = mat[i, 1]\n",
    "            break\n",
    "        if numpy.isnan(mat[i, 1]):\n",
    "            pos = i, 1\n",
    "            col = 0\n",
    "            value = mat[i, 0]\n",
    "            break\n",
    "    \n",
    "    imin, imax = None, None\n",
    "    for i in range(0, mat.shape[0]):\n",
    "        if i == pos[0]:\n",
    "            continue\n",
    "        if imin is None or mat[imin, col] < mat[i, col] <= value:\n",
    "            imin = i\n",
    "        if imax is None or mat[imax, col] > mat[i, col] >= value:\n",
    "            imax = i\n",
    "    mat = mat.copy()\n",
    "    mat[pos] = (mat[imin, col] + mat[imax, col]) / 2\n",
    "    return mat\n",
    "\n",
    "mat = numpy.array([[10, 11],\n",
    "                   [9, 10],\n",
    "                   [8, numpy.nan],\n",
    "                   [7, 9],\n",
    "                   [6, 8]])\n",
    "build_m3_just1(mat)"
   ]
  },
  {
   "cell_type": "markdown",
   "metadata": {},
   "source": [
    "## Q10 - plus de deux colonnes ?\n",
    "\n",
    "Pour cette question, vous avez le choix entre implémenter la solution que vous proposez à la question précédente ou proposer une façon d'étendre la méthode dans le cas où il y a 3 dimensions."
   ]
  },
  {
   "cell_type": "markdown",
   "metadata": {},
   "source": [
    "Dans ce cas de notre matrice, on utilise l'autre colonne pour ordonner les lignes. Avec plusieurs colonnes, il faudrait choisir la colonne la plus corrélée."
   ]
  },
  {
   "cell_type": "code",
   "execution_count": null,
   "metadata": {},
   "outputs": [],
   "source": []
  },
  {
   "cell_type": "code",
   "execution_count": null,
   "metadata": {},
   "outputs": [],
   "source": []
  }
 ],
 "metadata": {
  "kernelspec": {
   "display_name": "Python 3",
   "language": "python",
   "name": "python3"
  },
  "language_info": {
   "codemirror_mode": {
    "name": "ipython",
    "version": 3
   },
   "file_extension": ".py",
   "mimetype": "text/x-python",
   "name": "python",
   "nbconvert_exporter": "python",
   "pygments_lexer": "ipython3",
   "version": "3.7.0"
  }
 },
 "nbformat": 4,
 "nbformat_minor": 2
}
