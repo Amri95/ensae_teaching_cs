{
  "cells": [
    {
      "cell_type": "markdown",
      "metadata": {},
      "source": [
        "# 2A.algo - Hash et distribution\n",
        "\n",
        "Une [fonction de hash](https://en.wikipedia.org/wiki/Hash_function) a pour propri\u00e9t\u00e9 statistiques de transformer une distribution quelconque en distribution uniforme. C'est pour cela que beaucoup d'algorithmes utilisent ce type de fonction avant tout traitement pour r\u00e9partir les donn\u00e9es de mani\u00e8res uniformes plut\u00f4t que d'utiliser une variable une colonne telle quelle."
      ]
    },
    {
      "cell_type": "code",
      "execution_count": null,
      "metadata": {
        "ExecuteTime": {
          "end_time": "2016-11-05T15:54:02.328548",
          "start_time": "2016-11-05T15:54:02.314546"
        }
      },
      "outputs": [
        {
          "data": {
            "text/html": [
              "<div id=\"my_id_menu_nb\">run previous cell, wait for 2 seconds</div>\n",
              "<script>\n",
              "function repeat_indent_string(n){\n",
              "    var a = \"\" ;\n",
              "    for ( ; n > 0 ; --n) {\n",
              "        a += \"    \";\n",
              "    }\n",
              "    return a;\n",
              "}\n",
              "var update_menu_string = function(begin, lfirst, llast, sformat, send, keep_item) {\n",
              "    var anchors = document.getElementsByClassName(\"section\");\n",
              "    if (anchors.length == 0) {\n",
              "        anchors = document.getElementsByClassName(\"text_cell_render rendered_html\");\n",
              "    }\n",
              "    var i,t;\n",
              "    var text_menu = begin;\n",
              "    var text_memo = \"<pre>\\nlength:\" + anchors.length + \"\\n\";\n",
              "    var ind = \"\";\n",
              "    var memo_level = 1;\n",
              "    var href;\n",
              "    var tags = [];\n",
              "    var main_item = 0;\n",
              "    for (i = 0; i <= llast; i++) {\n",
              "        tags.push(\"h\" + i);\n",
              "    }\n",
              "\n",
              "    for (i = 0; i < anchors.length; i++) {\n",
              "        text_memo += \"**\" + anchors[i].id + \"--\\n\";\n",
              "\n",
              "        var child = null;\n",
              "        for(t = 0; t < tags.length; t++) {\n",
              "            var r = anchors[i].getElementsByTagName(tags[t]);\n",
              "            if (r.length > 0) {\n",
              "child = r[0];\n",
              "break;\n",
              "            }\n",
              "        }\n",
              "        if (child == null){\n",
              "            text_memo += \"null\\n\";\n",
              "            continue;\n",
              "        }\n",
              "        if (anchors[i].hasAttribute(\"id\")) {\n",
              "            // when converted in RST\n",
              "            href = anchors[i].id;\n",
              "            text_memo += \"#1-\" + href;\n",
              "            // passer \u00e0 child suivant (le chercher)\n",
              "        }\n",
              "        else if (child.hasAttribute(\"id\")) {\n",
              "            // in a notebook\n",
              "            href = child.id;\n",
              "            text_memo += \"#2-\" + href;\n",
              "        }\n",
              "        else {\n",
              "            text_memo += \"#3-\" + \"*\" + \"\\n\";\n",
              "            continue;\n",
              "        }\n",
              "        var title = child.textContent;\n",
              "        var level = parseInt(child.tagName.substring(1,2));\n",
              "\n",
              "        text_memo += \"--\" + level + \"?\" + lfirst + \"--\" + title + \"\\n\";\n",
              "\n",
              "        if ((level < lfirst) || (level > llast)) {\n",
              "            continue ;\n",
              "        }\n",
              "        if (title.endsWith('\u00b6')) {\n",
              "            title = title.substring(0,title.length-1).replace(\"<\", \"&lt;\").replace(\">\", \"&gt;\").replace(\"&\", \"&amp;\")\n",
              "        }\n",
              "\n",
              "        if (title.length == 0) {\n",
              "            continue;\n",
              "        }\n",
              "\n",
              "        while (level < memo_level) {\n",
              "            text_menu += \"</ul>\\n\";\n",
              "            memo_level -= 1;\n",
              "        }\n",
              "        if (level == lfirst) {\n",
              "            main_item += 1;\n",
              "        }\n",
              "        if (keep_item != -1 && main_item != keep_item + 1) {\n",
              "            // alert(main_item + \" - \" + level + \" - \" + keep_item);\n",
              "            continue;\n",
              "        }\n",
              "        while (level > memo_level) {\n",
              "            text_menu += \"<ul>\\n\";\n",
              "            memo_level += 1;\n",
              "        }\n",
              "        text_menu += repeat_indent_string(level-2) + sformat.replace(\"__HREF__\", href).replace(\"__TITLE__\", title);\n",
              "    }\n",
              "    while (1 < memo_level) {\n",
              "        text_menu += \"</ul>\\n\";\n",
              "        memo_level -= 1;\n",
              "    }\n",
              "    text_menu += send;\n",
              "    //text_menu += \"\\n\" + text_memo;\n",
              "    return text_menu;\n",
              "};\n",
              "var update_menu = function() {\n",
              "    var sbegin = \"\";\n",
              "    var sformat = '<li><a href=\"#__HREF__\">__TITLE__</a></li>';\n",
              "    var send = \"\";\n",
              "    var keep_item = -1;\n",
              "    var text_menu = update_menu_string(sbegin, 2, 4, sformat, send, keep_item);\n",
              "    var menu = document.getElementById(\"my_id_menu_nb\");\n",
              "    menu.innerHTML=text_menu;\n",
              "};\n",
              "window.setTimeout(update_menu,2000);\n",
              "            </script>"
            ],
            "text/plain": [
              "<IPython.core.display.HTML object>"
            ]
          },
          "execution_count": null,
          "metadata": {},
          "output_type": "execute_result"
        }
      ],
      "source": [
        "%matplotlib inline\n",
        "import matplotlib.pyplot as plt\n",
        "plt.style.use(\"ggplot\")\n",
        "from jyquickhelper import add_notebook_menu\n",
        "add_notebook_menu()"
      ]
    },
    {
      "cell_type": "markdown",
      "metadata": {},
      "source": [
        "## R\u00e9cup\u00e9rer un fichier wikip\u00e9dia"
      ]
    },
    {
      "cell_type": "code",
      "execution_count": null,
      "metadata": {
        "ExecuteTime": {
          "end_time": "2016-11-05T15:23:15.295619",
          "start_time": "2016-11-05T15:22:28.337739"
        }
      },
      "outputs": [
        {
          "data": {
            "text/plain": [
              "'.\\\\pageviews-20161101-000000'"
            ]
          },
          "execution_count": null,
          "metadata": {},
          "output_type": "execute_result"
        }
      ],
      "source": [
        "from mlstatpy.data.wikipedia import download_pageviews\n",
        "import os\n",
        "from datetime import datetime\n",
        "\n",
        "download_pageviews(datetime(2016,11,1), folder=\".\")"
      ]
    },
    {
      "cell_type": "markdown",
      "metadata": {
        "ExecuteTime": {
          "end_time": "2016-11-05T15:24:45.698455",
          "start_time": "2016-11-05T15:24:45.690457"
        }
      },
      "source": [
        "On ne garde que les pages fran\u00e7aises."
      ]
    },
    {
      "cell_type": "code",
      "execution_count": null,
      "metadata": {
        "ExecuteTime": {
          "end_time": "2016-11-05T15:29:31.840352",
          "start_time": "2016-11-05T15:29:27.522790"
        }
      },
      "outputs": [],
      "source": [
        "with open(\"pageviews-20161101-000000\", \"r\", encoding=\"utf-8\") as f:\n",
        "    fr = filter(lambda line: line.startswith(\"fr \"), f)\n",
        "    with open(\"pageviews-20161101-000000.fr.txt\", \"w\", encoding=\"utf-8\") as g:\n",
        "        for line in fr:\n",
        "            g.write(line)"
      ]
    },
    {
      "cell_type": "code",
      "execution_count": null,
      "metadata": {
        "ExecuteTime": {
          "end_time": "2016-11-05T15:29:50.180490",
          "start_time": "2016-11-05T15:29:49.934039"
        }
      },
      "outputs": [
        {
          "name": "stdout",
          "output_type": "stream",
          "text": [
            "(160246, 3)\n"
          ]
        },
        {
          "data": {
            "text/html": [
              "<div>\n",
              "<table border=\"1\" class=\"dataframe\">\n",
              "  <thead>\n",
              "    <tr style=\"text-align: right;\">\n",
              "      <th></th>\n",
              "      <th>page</th>\n",
              "      <th>impressions</th>\n",
              "      <th>country</th>\n",
              "    </tr>\n",
              "  </thead>\n",
              "  <tbody>\n",
              "    <tr>\n",
              "      <th>153989</th>\n",
              "      <td>Wikip\u00e9dia:Accueil_principal</td>\n",
              "      <td>9360</td>\n",
              "      <td>fr</td>\n",
              "    </tr>\n",
              "    <tr>\n",
              "      <th>137046</th>\n",
              "      <td>Sp\u00e9cial:Recherche</td>\n",
              "      <td>3359</td>\n",
              "      <td>fr</td>\n",
              "    </tr>\n",
              "    <tr>\n",
              "      <th>337</th>\n",
              "      <td>-</td>\n",
              "      <td>2369</td>\n",
              "      <td>fr</td>\n",
              "    </tr>\n",
              "    <tr>\n",
              "      <th>54231</th>\n",
              "      <td>France</td>\n",
              "      <td>1021</td>\n",
              "      <td>fr</td>\n",
              "    </tr>\n",
              "    <tr>\n",
              "      <th>62384</th>\n",
              "      <td>Halloween</td>\n",
              "      <td>685</td>\n",
              "      <td>fr</td>\n",
              "    </tr>\n",
              "  </tbody>\n",
              "</table>\n",
              "</div>"
            ],
            "text/plain": [
              "                               page  impressions country\n",
              "153989  Wikip\u00e9dia:Accueil_principal         9360      fr\n",
              "137046            Sp\u00e9cial:Recherche         3359      fr\n",
              "337                               -         2369      fr\n",
              "54231                        France         1021      fr\n",
              "62384                     Halloween          685      fr"
            ]
          },
          "execution_count": null,
          "metadata": {},
          "output_type": "execute_result"
        }
      ],
      "source": [
        "import pandas\n",
        "df = pandas.read_csv(\"pageviews-20161101-000000.fr.txt\", encoding=\"utf-8\", sep=\" \", header=None)\n",
        "df.columns=\"country page impressions _\".split()\n",
        "df = df[[\"page\", \"impressions\"]]\n",
        "df = df.sort_values(\"impressions\", ascending=False)\n",
        "print(df.shape)\n",
        "df.head()"
      ]
    },
    {
      "cell_type": "markdown",
      "metadata": {},
      "source": [
        "Les donn\u00e9es sont biais\u00e9es car les pages non d\u00e9mand\u00e9es par les utilisateurs sur cett date ne sont pas r\u00e9pertori\u00e9es mais cela ne nuit pas \u00e0 la d\u00e9monstration faite ci-dessous."
      ]
    },
    {
      "cell_type": "markdown",
      "metadata": {},
      "source": [
        "## Distribution volume, impressions par rapprt au premier caract\u00e8re"
      ]
    },
    {
      "cell_type": "code",
      "execution_count": null,
      "metadata": {
        "ExecuteTime": {
          "end_time": "2016-11-05T15:31:12.869696",
          "start_time": "2016-11-05T15:31:12.741686"
        }
      },
      "outputs": [
        {
          "data": {
            "text/html": [
              "<div>\n",
              "<table border=\"1\" class=\"dataframe\">\n",
              "  <thead>\n",
              "    <tr style=\"text-align: right;\">\n",
              "      <th></th>\n",
              "      <th>page</th>\n",
              "      <th>impressions</th>\n",
              "      <th>country</th>\n",
              "      <th>ch1</th>\n",
              "    </tr>\n",
              "  </thead>\n",
              "  <tbody>\n",
              "    <tr>\n",
              "      <th>153989</th>\n",
              "      <td>Wikip\u00e9dia:Accueil_principal</td>\n",
              "      <td>9360</td>\n",
              "      <td>fr</td>\n",
              "      <td>W</td>\n",
              "    </tr>\n",
              "    <tr>\n",
              "      <th>137046</th>\n",
              "      <td>Sp\u00e9cial:Recherche</td>\n",
              "      <td>3359</td>\n",
              "      <td>fr</td>\n",
              "      <td>S</td>\n",
              "    </tr>\n",
              "    <tr>\n",
              "      <th>337</th>\n",
              "      <td>-</td>\n",
              "      <td>2369</td>\n",
              "      <td>fr</td>\n",
              "      <td>-</td>\n",
              "    </tr>\n",
              "    <tr>\n",
              "      <th>54231</th>\n",
              "      <td>France</td>\n",
              "      <td>1021</td>\n",
              "      <td>fr</td>\n",
              "      <td>F</td>\n",
              "    </tr>\n",
              "    <tr>\n",
              "      <th>62384</th>\n",
              "      <td>Halloween</td>\n",
              "      <td>685</td>\n",
              "      <td>fr</td>\n",
              "      <td>H</td>\n",
              "    </tr>\n",
              "  </tbody>\n",
              "</table>\n",
              "</div>"
            ],
            "text/plain": [
              "                               page  impressions country ch1\n",
              "153989  Wikip\u00e9dia:Accueil_principal         9360      fr   W\n",
              "137046            Sp\u00e9cial:Recherche         3359      fr   S\n",
              "337                               -         2369      fr   -\n",
              "54231                        France         1021      fr   F\n",
              "62384                     Halloween          685      fr   H"
            ]
          },
          "execution_count": null,
          "metadata": {},
          "output_type": "execute_result"
        }
      ],
      "source": [
        "df[\"ch1\"] = df[\"page\"].apply(lambda r: r[0] if isinstance(r, str) else r)\n",
        "df.head()"
      ]
    },
    {
      "cell_type": "code",
      "execution_count": null,
      "metadata": {
        "ExecuteTime": {
          "end_time": "2016-11-05T15:34:10.528138",
          "start_time": "2016-11-05T15:34:10.462105"
        }
      },
      "outputs": [
        {
          "data": {
            "text/html": [
              "<div>\n",
              "<table border=\"1\" class=\"dataframe\">\n",
              "  <thead>\n",
              "    <tr style=\"text-align: right;\">\n",
              "      <th></th>\n",
              "      <th>ch1</th>\n",
              "      <th>impressions</th>\n",
              "      <th>volume</th>\n",
              "    </tr>\n",
              "  </thead>\n",
              "  <tbody>\n",
              "    <tr>\n",
              "      <th>0</th>\n",
              "      <td></td>\n",
              "      <td>5</td>\n",
              "      <td>1</td>\n",
              "    </tr>\n",
              "    <tr>\n",
              "      <th>1</th>\n",
              "      <td>!</td>\n",
              "      <td>14</td>\n",
              "      <td>12</td>\n",
              "    </tr>\n",
              "    <tr>\n",
              "      <th>2</th>\n",
              "      <td>$</td>\n",
              "      <td>25</td>\n",
              "      <td>22</td>\n",
              "    </tr>\n",
              "    <tr>\n",
              "      <th>3</th>\n",
              "      <td>%</td>\n",
              "      <td>18</td>\n",
              "      <td>18</td>\n",
              "    </tr>\n",
              "    <tr>\n",
              "      <th>4</th>\n",
              "      <td>&amp;</td>\n",
              "      <td>19</td>\n",
              "      <td>9</td>\n",
              "    </tr>\n",
              "  </tbody>\n",
              "</table>\n",
              "</div>"
            ],
            "text/plain": [
              "  ch1  impressions  volume\n",
              "0                5       1\n",
              "1   !           14      12\n",
              "2   $           25      22\n",
              "3   %           18      18\n",
              "4   &           19       9"
            ]
          },
          "execution_count": null,
          "metadata": {},
          "output_type": "execute_result"
        }
      ],
      "source": [
        "co = df.copy()\n",
        "co[\"volume\"] = 1\n",
        "gr = co.groupby(\"ch1\", as_index=False).sum().sort_values(\"ch1\")\n",
        "gr.head()"
      ]
    },
    {
      "cell_type": "code",
      "execution_count": null,
      "metadata": {
        "ExecuteTime": {
          "end_time": "2016-11-05T15:35:36.166922",
          "start_time": "2016-11-05T15:35:35.653742"
        }
      },
      "outputs": [
        {
          "data": {
            "text/plain": [
              "<matplotlib.axes._subplots.AxesSubplot at 0x26a7e936588>"
            ]
          },
          "execution_count": null,
          "metadata": {},
          "output_type": "execute_result"
        },
        {
          "data": {
            "image/png": "[encoded data removed]",
            "text/plain": [
              "<matplotlib.figure.Figure at 0x26a7e8bc630>"
            ]
          },
          "metadata": {},
          "output_type": "display_data"
        }
      ],
      "source": [
        "gr[(gr[\"ch1\"] >= \"A\") & (gr[\"ch1\"] <= \"Z\")].plot(x=\"ch1\", y=[\"impressions\", \"volume\"], kind=\"bar\", figsize=(14,4))"
      ]
    },
    {
      "cell_type": "markdown",
      "metadata": {},
      "source": [
        "Il est possible de distribuer les impressions et les volumns sur plusieurs machines mais ce serait beaucoup plus simple si les volumes (volume de donn\u00e9es) et les impressions (usage de ces donn\u00e9es) suivent des distributions identiques."
      ]
    },
    {
      "cell_type": "markdown",
      "metadata": {},
      "source": [
        "## Distribution apr\u00e8s hashage"
      ]
    },
    {
      "cell_type": "code",
      "execution_count": null,
      "metadata": {
        "ExecuteTime": {
          "end_time": "2016-11-05T15:39:49.277534",
          "start_time": "2016-11-05T15:39:49.268529"
        }
      },
      "outputs": [
        {
          "data": {
            "text/plain": [
              "'0309a6c666a7a803fdb9db95de71cf01'"
            ]
          },
          "execution_count": null,
          "metadata": {},
          "output_type": "execute_result"
        }
      ],
      "source": [
        "import hashlib\n",
        "def hash(text):\n",
        "    md5 = hashlib.md5()\n",
        "    md5.update(text.encode('utf-8'))\n",
        "    return md5.hexdigest()\n",
        "\n",
        "hash(\"France\")"
      ]
    },
    {
      "cell_type": "code",
      "execution_count": null,
      "metadata": {
        "ExecuteTime": {
          "end_time": "2016-11-05T15:40:42.198890",
          "start_time": "2016-11-05T15:40:41.705045"
        }
      },
      "outputs": [
        {
          "data": {
            "text/html": [
              "<div>\n",
              "<table border=\"1\" class=\"dataframe\">\n",
              "  <thead>\n",
              "    <tr style=\"text-align: right;\">\n",
              "      <th></th>\n",
              "      <th>page</th>\n",
              "      <th>impressions</th>\n",
              "      <th>country</th>\n",
              "      <th>ch1</th>\n",
              "      <th>volume</th>\n",
              "      <th>hash</th>\n",
              "    </tr>\n",
              "  </thead>\n",
              "  <tbody>\n",
              "    <tr>\n",
              "      <th>153989</th>\n",
              "      <td>Wikip\u00e9dia:Accueil_principal</td>\n",
              "      <td>9360</td>\n",
              "      <td>fr</td>\n",
              "      <td>W</td>\n",
              "      <td>1</td>\n",
              "      <td>6cc68aa5234cb8c4e129d5b431eea95a</td>\n",
              "    </tr>\n",
              "    <tr>\n",
              "      <th>137046</th>\n",
              "      <td>Sp\u00e9cial:Recherche</td>\n",
              "      <td>3359</td>\n",
              "      <td>fr</td>\n",
              "      <td>S</td>\n",
              "      <td>1</td>\n",
              "      <td>6f86a30966129c5bf50147eb44c4e82c</td>\n",
              "    </tr>\n",
              "    <tr>\n",
              "      <th>337</th>\n",
              "      <td>-</td>\n",
              "      <td>2369</td>\n",
              "      <td>fr</td>\n",
              "      <td>-</td>\n",
              "      <td>1</td>\n",
              "      <td>336d5ebc5436534e61d16e63ddfca327</td>\n",
              "    </tr>\n",
              "    <tr>\n",
              "      <th>54231</th>\n",
              "      <td>France</td>\n",
              "      <td>1021</td>\n",
              "      <td>fr</td>\n",
              "      <td>F</td>\n",
              "      <td>1</td>\n",
              "      <td>0309a6c666a7a803fdb9db95de71cf01</td>\n",
              "    </tr>\n",
              "    <tr>\n",
              "      <th>62384</th>\n",
              "      <td>Halloween</td>\n",
              "      <td>685</td>\n",
              "      <td>fr</td>\n",
              "      <td>H</td>\n",
              "      <td>1</td>\n",
              "      <td>e1114432a2ac994a333544d5da17e1fb</td>\n",
              "    </tr>\n",
              "  </tbody>\n",
              "</table>\n",
              "</div>"
            ],
            "text/plain": [
              "                               page  impressions country ch1  volume  \\\n",
              "153989  Wikip\u00e9dia:Accueil_principal         9360      fr   W       1   \n",
              "137046            Sp\u00e9cial:Recherche         3359      fr   S       1   \n",
              "337                               -         2369      fr   -       1   \n",
              "54231                        France         1021      fr   F       1   \n",
              "62384                     Halloween          685      fr   H       1   \n",
              "\n",
              "                                    hash  \n",
              "153989  6cc68aa5234cb8c4e129d5b431eea95a  \n",
              "137046  6f86a30966129c5bf50147eb44c4e82c  \n",
              "337     336d5ebc5436534e61d16e63ddfca327  \n",
              "54231   0309a6c666a7a803fdb9db95de71cf01  \n",
              "62384   e1114432a2ac994a333544d5da17e1fb  "
            ]
          },
          "execution_count": null,
          "metadata": {},
          "output_type": "execute_result"
        }
      ],
      "source": [
        "ha = co.copy()\n",
        "ha[\"hash\"] = ha[\"page\"].apply(lambda r: hash(r) if isinstance(r, str) else r)\n",
        "ha.head()"
      ]
    },
    {
      "cell_type": "code",
      "execution_count": null,
      "metadata": {
        "ExecuteTime": {
          "end_time": "2016-11-05T15:41:38.768438",
          "start_time": "2016-11-05T15:41:38.646889"
        }
      },
      "outputs": [
        {
          "data": {
            "text/html": [
              "<div>\n",
              "<table border=\"1\" class=\"dataframe\">\n",
              "  <thead>\n",
              "    <tr style=\"text-align: right;\">\n",
              "      <th></th>\n",
              "      <th>page</th>\n",
              "      <th>impressions</th>\n",
              "      <th>country</th>\n",
              "      <th>ch1</th>\n",
              "      <th>volume</th>\n",
              "      <th>hash</th>\n",
              "      <th>ch2</th>\n",
              "    </tr>\n",
              "  </thead>\n",
              "  <tbody>\n",
              "    <tr>\n",
              "      <th>153989</th>\n",
              "      <td>Wikip\u00e9dia:Accueil_principal</td>\n",
              "      <td>9360</td>\n",
              "      <td>fr</td>\n",
              "      <td>W</td>\n",
              "      <td>1</td>\n",
              "      <td>6cc68aa5234cb8c4e129d5b431eea95a</td>\n",
              "      <td>6</td>\n",
              "    </tr>\n",
              "    <tr>\n",
              "      <th>137046</th>\n",
              "      <td>Sp\u00e9cial:Recherche</td>\n",
              "      <td>3359</td>\n",
              "      <td>fr</td>\n",
              "      <td>S</td>\n",
              "      <td>1</td>\n",
              "      <td>6f86a30966129c5bf50147eb44c4e82c</td>\n",
              "      <td>6</td>\n",
              "    </tr>\n",
              "    <tr>\n",
              "      <th>337</th>\n",
              "      <td>-</td>\n",
              "      <td>2369</td>\n",
              "      <td>fr</td>\n",
              "      <td>-</td>\n",
              "      <td>1</td>\n",
              "      <td>336d5ebc5436534e61d16e63ddfca327</td>\n",
              "      <td>3</td>\n",
              "    </tr>\n",
              "    <tr>\n",
              "      <th>54231</th>\n",
              "      <td>France</td>\n",
              "      <td>1021</td>\n",
              "      <td>fr</td>\n",
              "      <td>F</td>\n",
              "      <td>1</td>\n",
              "      <td>0309a6c666a7a803fdb9db95de71cf01</td>\n",
              "      <td>0</td>\n",
              "    </tr>\n",
              "    <tr>\n",
              "      <th>62384</th>\n",
              "      <td>Halloween</td>\n",
              "      <td>685</td>\n",
              "      <td>fr</td>\n",
              "      <td>H</td>\n",
              "      <td>1</td>\n",
              "      <td>e1114432a2ac994a333544d5da17e1fb</td>\n",
              "      <td>e</td>\n",
              "    </tr>\n",
              "  </tbody>\n",
              "</table>\n",
              "</div>"
            ],
            "text/plain": [
              "                               page  impressions country ch1  volume  \\\n",
              "153989  Wikip\u00e9dia:Accueil_principal         9360      fr   W       1   \n",
              "137046            Sp\u00e9cial:Recherche         3359      fr   S       1   \n",
              "337                               -         2369      fr   -       1   \n",
              "54231                        France         1021      fr   F       1   \n",
              "62384                     Halloween          685      fr   H       1   \n",
              "\n",
              "                                    hash ch2  \n",
              "153989  6cc68aa5234cb8c4e129d5b431eea95a   6  \n",
              "137046  6f86a30966129c5bf50147eb44c4e82c   6  \n",
              "337     336d5ebc5436534e61d16e63ddfca327   3  \n",
              "54231   0309a6c666a7a803fdb9db95de71cf01   0  \n",
              "62384   e1114432a2ac994a333544d5da17e1fb   e  "
            ]
          },
          "execution_count": null,
          "metadata": {},
          "output_type": "execute_result"
        }
      ],
      "source": [
        "ha[\"ch2\"] = ha[\"hash\"].apply(lambda r: r[0] if isinstance(r, str) else r)\n",
        "ha.head()"
      ]
    },
    {
      "cell_type": "code",
      "execution_count": null,
      "metadata": {
        "ExecuteTime": {
          "end_time": "2016-11-05T15:42:15.235400",
          "start_time": "2016-11-05T15:42:15.178888"
        }
      },
      "outputs": [
        {
          "data": {
            "text/html": [
              "<div>\n",
              "<table border=\"1\" class=\"dataframe\">\n",
              "  <thead>\n",
              "    <tr style=\"text-align: right;\">\n",
              "      <th></th>\n",
              "      <th>ch2</th>\n",
              "      <th>impressions</th>\n",
              "      <th>volume</th>\n",
              "    </tr>\n",
              "  </thead>\n",
              "  <tbody>\n",
              "    <tr>\n",
              "      <th>0</th>\n",
              "      <td>0</td>\n",
              "      <td>23789</td>\n",
              "      <td>9945</td>\n",
              "    </tr>\n",
              "    <tr>\n",
              "      <th>1</th>\n",
              "      <td>1</td>\n",
              "      <td>22091</td>\n",
              "      <td>10002</td>\n",
              "    </tr>\n",
              "    <tr>\n",
              "      <th>2</th>\n",
              "      <td>2</td>\n",
              "      <td>22336</td>\n",
              "      <td>9937</td>\n",
              "    </tr>\n",
              "    <tr>\n",
              "      <th>3</th>\n",
              "      <td>3</td>\n",
              "      <td>23573</td>\n",
              "      <td>10012</td>\n",
              "    </tr>\n",
              "    <tr>\n",
              "      <th>4</th>\n",
              "      <td>4</td>\n",
              "      <td>21895</td>\n",
              "      <td>10057</td>\n",
              "    </tr>\n",
              "  </tbody>\n",
              "</table>\n",
              "</div>"
            ],
            "text/plain": [
              "  ch2  impressions  volume\n",
              "0   0        23789    9945\n",
              "1   1        22091   10002\n",
              "2   2        22336    9937\n",
              "3   3        23573   10012\n",
              "4   4        21895   10057"
            ]
          },
          "execution_count": null,
          "metadata": {},
          "output_type": "execute_result"
        }
      ],
      "source": [
        "gr = ha.groupby(\"ch2\", as_index=False).sum().sort_values(\"ch2\")\n",
        "gr.head()"
      ]
    },
    {
      "cell_type": "code",
      "execution_count": null,
      "metadata": {
        "ExecuteTime": {
          "end_time": "2016-11-05T15:43:04.796228",
          "start_time": "2016-11-05T15:43:04.371960"
        }
      },
      "outputs": [
        {
          "data": {
            "text/plain": [
              "<matplotlib.axes._subplots.AxesSubplot at 0x26a0d5ce048>"
            ]
          },
          "execution_count": null,
          "metadata": {},
          "output_type": "execute_result"
        },
        {
          "data": {
            "image/png": "[encoded data removed]",
            "text/plain": [
              "<matplotlib.figure.Figure at 0x26a0d898208>"
            ]
          },
          "metadata": {},
          "output_type": "display_data"
        }
      ],
      "source": [
        "gr.plot(x=\"ch2\", y=[\"impressions\", \"volume\"], kind=\"bar\", figsize=(14,4))"
      ]
    },
    {
      "cell_type": "markdown",
      "metadata": {},
      "source": [
        "Apr\u00e8s avoir appliqu\u00e9 une fonction de hashage, les deux distributions volumes et impressions sont presque uniforme par rapport au premier caract\u00e8re du hash. Il reste un pic : il provient de la page wikip\u00e9dia la plus demand\u00e9e. Ces pages tr\u00e8s demand\u00e9es sont tr\u00e8s souvent en tr\u00e8s petit nombre et on impl\u00e9mentera une m\u00e9canisme de cache s'il s'agit d'un site web. En revanche, lors d'un calcul distribu\u00e9 sur Map / Reduce, un des probl\u00e8mes consistera \u00e0 traiter ces cl\u00e9s de distributions qui regroupent une part trop importante des donn\u00e9es.\n",
        "\n",
        "On recommence le m\u00eame raisonnement en utilisant les deux premiers caract\u00e8res du hash comme cl\u00e9 de distribution."
      ]
    },
    {
      "cell_type": "code",
      "execution_count": null,
      "metadata": {
        "ExecuteTime": {
          "end_time": "2016-11-05T15:57:15.095161",
          "start_time": "2016-11-05T15:57:14.464595"
        }
      },
      "outputs": [
        {
          "data": {
            "text/plain": [
              "<matplotlib.axes._subplots.AxesSubplot at 0x26a0de7ecf8>"
            ]
          },
          "execution_count": null,
          "metadata": {},
          "output_type": "execute_result"
        },
        {
          "data": {
            "image/png": "[encoded data removed]",
            "text/plain": [
              "<matplotlib.figure.Figure at 0x26a1038a630>"
            ]
          },
          "metadata": {},
          "output_type": "display_data"
        }
      ],
      "source": [
        "def substr(s, size=2):\n",
        "    if isinstance(s, str):\n",
        "        if len(s) < size: \n",
        "            return s\n",
        "        else:\n",
        "            return s[:size]\n",
        "    else:\n",
        "        return s\n",
        "    \n",
        "ha[\"ch12\"] = ha[\"hash\"].apply(lambda r: substr(r))\n",
        "gr = ha.groupby(\"ch12\", as_index=False).sum().sort_values(\"ch12\")\n",
        "gr.plot(x=\"ch12\", y=[\"impressions\", \"volume\"], figsize=(14,4))"
      ]
    },
    {
      "cell_type": "markdown",
      "metadata": {},
      "source": [
        "Dans ce cas pr\u00e9cis, si le traitement appliqu\u00e9 aux donn\u00e9es est d'un co\u00fbt proportionnelle \u00e0 la taille des donn\u00e9es associ\u00e9es \u00e0 chaque cl\u00e9, cela signifie qu'une op\u00e9ration de type **reduce** aura un temps de traitement proportionnel au volume de donn\u00e9es associ\u00e9e \u00e0 la plus grande cl\u00e9 et non au nombre de machines puisque toutes les donn\u00e9es d'une m\u00eame cl\u00e9 sont envoy\u00e9es sur la m\u00eame machine."
      ]
    },
    {
      "cell_type": "code",
      "execution_count": null,
      "metadata": {
        "collapsed": true
      },
      "outputs": [],
      "source": []
    }
  ],
  "metadata": {
    "kernelspec": {
      "display_name": "Python 3",
      "language": "python",
      "name": "python3"
    },
    "language_info": {
      "codemirror_mode": {
        "name": "ipython",
        "version": 3
      },
      "file_extension": ".py",
      "mimetype": "text/x-python",
      "name": "python",
      "nbconvert_exporter": "python",
      "pygments_lexer": "ipython3",
      "version": "3.6.1"
    }
  },
  "nbformat": 4,
  "nbformat_minor": 1
}