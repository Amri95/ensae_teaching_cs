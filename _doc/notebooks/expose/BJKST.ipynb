{
  "cells": [
    {
      "cell_type": "markdown",
      "metadata": {},
      "source": [
        "# 2A.algo - Algorithmes de streaming : g\u00e9n\u00e9ralit\u00e9s\n",
        "\n",
        "Les streams (flux) de donn\u00e9es sont aujourd'hui pr\u00e9sents dans de nombreux domaines (r\u00e9seaux sociaux, e-commerce, logs de connexion Internet, etc.). L'analyse rapide et pertinente de ces flux est motiv\u00e9e par l'immensit\u00e9 des donn\u00e9es qui ne peuvent souvent pas \u00eatre stock\u00e9s (du moins facilement) et dont le traitement serait trop lourd (penser au calcul de l'\u00e2ge moyen des 1,86 milliards utilisateurs de Facebook pour s'en convaincre). Ce notebook s'int\u00e9resse particuli\u00e8rement \u00e0 l'algorithme [BJKST](http://info.prelert.com/blog/hashing-and-approximate-distinct-value-counts)."
      ]
    },
    {
      "cell_type": "code",
      "execution_count": 1,
      "metadata": {},
      "outputs": [
        {
          "data": {
            "text/html": [
              "<div id=\"my_id_menu_nb\">run previous cell, wait for 2 seconds</div>\n",
              "<script>\n",
              "function repeat_indent_string(n){\n",
              "    var a = \"\" ;\n",
              "    for ( ; n > 0 ; --n)\n",
              "        a += \"    \";\n",
              "    return a;\n",
              "}\n",
              "var update_menu_string = function(begin, lfirst, llast, sformat, send, keep_item, begin_format, end_format) {\n",
              "    var anchors = document.getElementsByClassName(\"section\");\n",
              "    if (anchors.length == 0) {\n",
              "        anchors = document.getElementsByClassName(\"text_cell_render rendered_html\");\n",
              "    }\n",
              "    var i,t;\n",
              "    var text_menu = begin;\n",
              "    var text_memo = \"<pre>\\nlength:\" + anchors.length + \"\\n\";\n",
              "    var ind = \"\";\n",
              "    var memo_level = 1;\n",
              "    var href;\n",
              "    var tags = [];\n",
              "    var main_item = 0;\n",
              "    var format_open = 0;\n",
              "    for (i = 0; i <= llast; i++)\n",
              "        tags.push(\"h\" + i);\n",
              "\n",
              "    for (i = 0; i < anchors.length; i++) {\n",
              "        text_memo += \"**\" + anchors[i].id + \"--\\n\";\n",
              "\n",
              "        var child = null;\n",
              "        for(t = 0; t < tags.length; t++) {\n",
              "            var r = anchors[i].getElementsByTagName(tags[t]);\n",
              "            if (r.length > 0) {\n",
              "child = r[0];\n",
              "break;\n",
              "            }\n",
              "        }\n",
              "        if (child == null) {\n",
              "            text_memo += \"null\\n\";\n",
              "            continue;\n",
              "        }\n",
              "        if (anchors[i].hasAttribute(\"id\")) {\n",
              "            // when converted in RST\n",
              "            href = anchors[i].id;\n",
              "            text_memo += \"#1-\" + href;\n",
              "            // passer \u00e0 child suivant (le chercher)\n",
              "        }\n",
              "        else if (child.hasAttribute(\"id\")) {\n",
              "            // in a notebook\n",
              "            href = child.id;\n",
              "            text_memo += \"#2-\" + href;\n",
              "        }\n",
              "        else {\n",
              "            text_memo += \"#3-\" + \"*\" + \"\\n\";\n",
              "            continue;\n",
              "        }\n",
              "        var title = child.textContent;\n",
              "        var level = parseInt(child.tagName.substring(1,2));\n",
              "\n",
              "        text_memo += \"--\" + level + \"?\" + lfirst + \"--\" + title + \"\\n\";\n",
              "\n",
              "        if ((level < lfirst) || (level > llast)) {\n",
              "            continue ;\n",
              "        }\n",
              "        if (title.endsWith('\u00b6')) {\n",
              "            title = title.substring(0,title.length-1).replace(\"<\", \"&lt;\")\n",
              "         .replace(\">\", \"&gt;\").replace(\"&\", \"&amp;\");\n",
              "        }\n",
              "        if (title.length == 0) {\n",
              "            continue;\n",
              "        }\n",
              "\n",
              "        while (level < memo_level) {\n",
              "            text_menu += end_format + \"</ul>\\n\";\n",
              "            format_open -= 1;\n",
              "            memo_level -= 1;\n",
              "        }\n",
              "        if (level == lfirst) {\n",
              "            main_item += 1;\n",
              "        }\n",
              "        if (keep_item != -1 && main_item != keep_item + 1) {\n",
              "            // alert(main_item + \" - \" + level + \" - \" + keep_item);\n",
              "            continue;\n",
              "        }\n",
              "        while (level > memo_level) {\n",
              "            text_menu += \"<ul>\\n\";\n",
              "            memo_level += 1;\n",
              "        }\n",
              "        text_menu += repeat_indent_string(level-2);\n",
              "        text_menu += begin_format + sformat.replace(\"__HREF__\", href).replace(\"__TITLE__\", title);\n",
              "        format_open += 1;\n",
              "    }\n",
              "    while (1 < memo_level) {\n",
              "        text_menu += end_format + \"</ul>\\n\";\n",
              "        memo_level -= 1;\n",
              "        format_open -= 1;\n",
              "    }\n",
              "    text_menu += send;\n",
              "    //text_menu += \"\\n\" + text_memo;\n",
              "\n",
              "    while (format_open > 0) {\n",
              "        text_menu += end_format;\n",
              "        format_open -= 1;\n",
              "    }\n",
              "    return text_menu;\n",
              "};\n",
              "var update_menu = function() {\n",
              "    var sbegin = \"\";\n",
              "    var sformat = '<a href=\"#__HREF__\">__TITLE__</a>';\n",
              "    var send = \"\";\n",
              "    var begin_format = '<li>';\n",
              "    var end_format = '</li>';\n",
              "    var keep_item = -1;\n",
              "    var text_menu = update_menu_string(sbegin, 2, 4, sformat, send, keep_item,\n",
              "       begin_format, end_format);\n",
              "    var menu = document.getElementById(\"my_id_menu_nb\");\n",
              "    menu.innerHTML=text_menu;\n",
              "};\n",
              "window.setTimeout(update_menu,2000);\n",
              "            </script>"
            ],
            "text/plain": [
              "<IPython.core.display.HTML object>"
            ]
          },
          "execution_count": 2,
          "metadata": {},
          "output_type": "execute_result"
        }
      ],
      "source": [
        "from jyquickhelper import add_notebook_menu\n",
        "add_notebook_menu()"
      ]
    },
    {
      "cell_type": "code",
      "execution_count": 3,
      "metadata": {
        "collapsed": true
      },
      "outputs": [],
      "source": [
        "%matplotlib inline"
      ]
    },
    {
      "cell_type": "markdown",
      "metadata": {},
      "source": [
        "## Introduction\n",
        "\n",
        "Plus formellement consid\u00e9rons un univers $U$ de taille $n$ (un nombre tr\u00e8s grand) qui ne peut \u00eatre stock\u00e9 en m\u00e9moire et une s\u00e9quence $S = (s_1, s_2, \\ldots, s_m, \\ldots)$ d'\u00e9l\u00e9ments de $U$. Un algorithme de streaming $\\mathcal{A}$ prend le stream $S$ en entr\u00e9e et renvoie une fonction $f(S)$ (souvent \u00e0 valeurs r\u00e9elles).\n",
        "\n",
        "Notons que l'algorithme $\\mathcal{A}$ est souvent contraint d'acc\u00e9der s\u00e9quentiellement aux \u00e9l\u00e9ments de $S$ et / ou ne peut les parcourir qu'un nombre fini de fois.\n",
        "\n",
        "Un bon algorithme de streaming doit satisfaire plusieurs contraintes:\n",
        "\n",
        "- Il doit \u00eatre un bon estimateur de la vraie valeur que prendrait $f^*(U)$ sur l'univers (plus de d\u00e9tails dans un instant)\n",
        "- Il doit pouvoir s'actualiser rapidement (en temps lin\u00e9aire ou moins) \u00e0 mesure que le flux $S$ \u00e9volue\n",
        "- Il doit \u00eatre peu gourmand en m\u00e9moire\n",
        "\n",
        "Etant donn\u00e9 une pr\u00e9cision $\\epsilon > 0$ et une tol\u00e9rance $\\delta > 0$, l'algorithme $\\mathcal{A}$ do\u00eet satisfaire:\n",
        "\n",
        "$\\mathbb{P}(\\lvert \\frac{f^*(U) - f(S)}{f(S)} \\rvert \\leq \\epsilon) \\geq 1 - \\delta.$\n",
        "\n",
        "Quelques exemples fr\u00e9quents d'algorithmes de streaming:\n",
        "\n",
        "- Estimation de la valeur moyenne, de la m\u00e9diane\n",
        "- Estimation du nombre d'\u00e9l\u00e9ments distincts\n",
        "- Estimation de la fr\u00e9quences des \u00e9lements\n",
        "- Estimation de la densit\u00e9 de probabilit\u00e9"
      ]
    },
    {
      "cell_type": "markdown",
      "metadata": {},
      "source": [
        "## Estimer le nombre d'\u00e9l\u00e9ments distincts: l'algorithme BJKST\n",
        "\n",
        "L'algorithme [BJKST](https://pdfs.semanticscholar.org/e349/7952347101a3535434bc35d378224cf87bcc.pdf) permet d'estimer le nombre d'\u00e9l\u00e9ments distincts d'un stream $S$. Son fonctionnement est assez simple et repose sur la notion d'universal hashing que nous pr\u00e9sentons ci-bas."
      ]
    },
    {
      "cell_type": "markdown",
      "metadata": {},
      "source": [
        "### Universal hashing\n",
        "\n",
        "L'id\u00e9e derri\u00e8re les fonctions de hachage est de faire correspondre des \u00e9lements d'un ensemble dont la taille est variable (ou bien n'est pas connue) vers un ensemble de taille fixe. Le principe de l'universal hashing est de s\u00e9lectionner al\u00e9atoirement une fonction $h$ dans une famille de fonctions de hachage $\\mathcal{H}$ et de garantir un faible probabilit\u00e9 du nombre de collisions de hachage. \n",
        "\n",
        "Formellement si l'on note $[n]$ l'ensemble $\\{1, \\ldots, n\\}$, une famille de fonctions $\\mathcal{H}$ est dite <i>universelle</i> si toute fonction $h: U \\mapsto [n]$ choisie uniform\u00e9ment dans la famille $\\mathcal{H}$ v\u00e9rifie $\\mathbb{P}(h(x) = h(y)) \\leq \\frac{1}{n}$ pour tout couple $x,y \\in U$ distincts.\n",
        "\n",
        "Nous consid\u00e9rons ici la famille $\\mathcal{H} = \\{h_{a,b}\\}$ o\u00f9 $h_{a,b}(x) = ((ax + b) \\space{} \\mathrm{mod} \\space{} p) \\space{} \\mathrm{mod} \\space{} n$, $x$ est un entier, $a \\in \\{1, \\ldots, p - 1\\}$, $b \\in \\{0, \\ldots, p - 1 \\}$ et $p$ un nombre premier $\\geq n$. On peut sans trop de difficult\u00e9 se convaincre que $h_{a,b}(x)$ est uniform\u00e9ment distribu\u00e9 sur $[n]$ et que cette famille est universelle (voir [Universal hashing](https://en.wikipedia.org/wiki/Universal_hashing) pour plus de d\u00e9tails)."
      ]
    },
    {
      "cell_type": "markdown",
      "metadata": {},
      "source": [
        "### Collisions\n",
        "\n",
        "V\u00e9rifions num\u00e9riquement le nombre de collisions. Consid\u00e9rons un univers $U$ large prenons par exemple $U = [n]$ avec $n$ grand."
      ]
    },
    {
      "cell_type": "code",
      "execution_count": 4,
      "metadata": {
        "collapsed": true
      },
      "outputs": [],
      "source": [
        "n = 10**4\n",
        "U = range(n)"
      ]
    },
    {
      "cell_type": "markdown",
      "metadata": {},
      "source": [
        "Choisissons $p$ un nombre premier arbitrairement grand et une petite valeur de hashage."
      ]
    },
    {
      "cell_type": "code",
      "execution_count": 5,
      "metadata": {
        "collapsed": true
      },
      "outputs": [],
      "source": [
        "p = 4294967291\n",
        "m = 10"
      ]
    },
    {
      "cell_type": "markdown",
      "metadata": {},
      "source": [
        "Choisissons une fonction $h$ uniform\u00e9ment dans la famille $\\mathcal{H}$"
      ]
    },
    {
      "cell_type": "code",
      "execution_count": 6,
      "metadata": {
        "collapsed": true
      },
      "outputs": [],
      "source": [
        "import random\n",
        "a = random.randint(1, p)\n",
        "b = random.randint(0, p)\n",
        "def h(x):\n",
        "    return ((a*x + b) % p) % m"
      ]
    },
    {
      "cell_type": "markdown",
      "metadata": {},
      "source": [
        "Tirons des couples $(x,y)$ distincts dans $U$"
      ]
    },
    {
      "cell_type": "code",
      "execution_count": 7,
      "metadata": {},
      "outputs": [
        {
          "name": "stdout",
          "output_type": "stream",
          "text": [
            "Nombre de couples distincts = 500\n"
          ]
        }
      ],
      "source": [
        "couples = set()\n",
        "for i in range(500):\n",
        "    x, y = random.sample(U, 2)\n",
        "    couples.add((x, y))\n",
        "print('Nombre de couples distincts = {}'.format(len(couples)))"
      ]
    },
    {
      "cell_type": "markdown",
      "metadata": {},
      "source": [
        "Pour chaque couple, calculons les valeurs de hashage et comptons le nombre de collisions."
      ]
    },
    {
      "cell_type": "code",
      "execution_count": 8,
      "metadata": {
        "collapsed": true
      },
      "outputs": [],
      "source": [
        "c = 0\n",
        "for x, y, in couples:\n",
        "    if (h(x) == h(y)):\n",
        "        c += 1"
      ]
    },
    {
      "cell_type": "markdown",
      "metadata": {},
      "source": [
        "Le nombre de collisions rapport\u00e9 au nombre de couples $(x,y)$ distincts nous donne une estimation de la probabilit\u00e9 de collision."
      ]
    },
    {
      "cell_type": "code",
      "execution_count": 9,
      "metadata": {},
      "outputs": [
        {
          "name": "stdout",
          "output_type": "stream",
          "text": [
            "Probabilit\u00e9 de collision = 7.40%\n"
          ]
        }
      ],
      "source": [
        "p_collisions = c / len(couples)\n",
        "print('Probabilit\u00e9 de collision = {:.2f}%'.format(p_collisions * 100.0))"
      ]
    },
    {
      "cell_type": "markdown",
      "metadata": {},
      "source": [
        "Cette valeur est proche de la valeur th\u00e9orique $\\frac{1}{m}$. Effectuons plusieurs tirages pour confirmer ce r\u00e9sultat."
      ]
    },
    {
      "cell_type": "code",
      "execution_count": 10,
      "metadata": {},
      "outputs": [
        {
          "name": "stdout",
          "output_type": "stream",
          "text": [
            "Probabilit\u00e9 de collision moyenne = 9.92%\n"
          ]
        }
      ],
      "source": [
        "import numpy\n",
        "collisions = []\n",
        "# on reitere 100 fois\n",
        "for _ in range(100):\n",
        "    a = random.randint(1, p)\n",
        "    b = random.randint(0, p)\n",
        "    \n",
        "    def h(x):\n",
        "        return ((a*x + b) % p) % m\n",
        "    \n",
        "    couples = set()\n",
        "    for i in range(500):\n",
        "        x, y = random.sample(U, 2)\n",
        "        couples.add((x, y))\n",
        "\n",
        "    c = 0\n",
        "    for x, y, in couples:\n",
        "        if (h(x) == h(y)):\n",
        "            c += 1\n",
        "    collisions.append(c / len(couples))\n",
        "p_collision = numpy.mean(collisions)\n",
        "print('Probabilit\u00e9 de collision moyenne = {:.2f}%'.format(p_collision * 100.0))"
      ]
    },
    {
      "cell_type": "markdown",
      "metadata": {},
      "source": [
        "Cette probabilit\u00e9 moyenne est proche de la valeur th\u00e9orique. R\u00e9it\u00e9rons pour d'autres valeurs $m$."
      ]
    },
    {
      "cell_type": "code",
      "execution_count": 11,
      "metadata": {
        "collapsed": true
      },
      "outputs": [],
      "source": [
        "sizes = [10, 25, 50, 100, 250, 500, 750, 1000]\n",
        "p_collision = []\n",
        "p = 4294967291\n",
        "\n",
        "for m in sizes:    \n",
        "    collisions = []\n",
        "    # on reitere 100 fois\n",
        "    for _ in range(100):\n",
        "        a = random.randint(1, p)\n",
        "        b = random.randint(0, p)\n",
        "\n",
        "        def h(x):\n",
        "            return ((a*x + b) % p) % m\n",
        "\n",
        "        couples = set()\n",
        "        for i in range(500):\n",
        "            x, y = random.sample(U, 2)\n",
        "            couples.add((x, y))\n",
        "\n",
        "        c = 0\n",
        "        for x, y, in couples:\n",
        "            if (h(x) == h(y)):\n",
        "                c += 1\n",
        "        collisions.append(c / len(couples))\n",
        "    p_collision.append(numpy.mean(collisions))"
      ]
    },
    {
      "cell_type": "code",
      "execution_count": 12,
      "metadata": {},
      "outputs": [
        {
          "data": {
            "text/plain": [
              "<matplotlib.text.Text at 0x16ddf9cd7b8>"
            ]
          },
          "execution_count": 13,
          "metadata": {},
          "output_type": "execute_result"
        },
        {
          "data": {
            "image/png": "[encoded data removed]",
            "text/plain": [
              "<matplotlib.figure.Figure at 0x16ddf760470>"
            ]
          },
          "metadata": {},
          "output_type": "display_data"
        }
      ],
      "source": [
        "import matplotlib.pyplot as plt\n",
        "fix, ax = plt.subplots()\n",
        "plt.plot(sizes, p_collision)\n",
        "plt.xlabel(r'$m$')\n",
        "ax.set_title('Ratio des collisions en fonction de la taille de hash')"
      ]
    },
    {
      "cell_type": "markdown",
      "metadata": {},
      "source": [
        "La probabilit\u00e9 de collision estim\u00e9e est bien inversement proportionnelle \u00e0 la valeur de hashage $m$."
      ]
    },
    {
      "cell_type": "markdown",
      "metadata": {},
      "source": [
        "### Algorithme BJKST\n",
        "\n",
        "Nous consid\u00e9rons un univers $U$ de taille $N$ et comportant $n$ \u00e9lements distincts. Pour un stream $S = (a_1, a_2, \\ldots)$ de taille  $s$ essayons d'estimer $n$ \u00e0 l'aide de l'algorithme [BJKST](http://info.prelert.com/blog/hashing-and-approximate-distinct-value-counts)."
      ]
    },
    {
      "cell_type": "code",
      "execution_count": 14,
      "metadata": {
        "collapsed": true
      },
      "outputs": [],
      "source": [
        "n = 10**3\n",
        "N = 10**4\n",
        "# nous tirons N entiers de 64bits (type i8) dont n sont distincts\n",
        "universe = numpy.random.randint(0, n, N, dtype='i8')\n",
        "s = 500\n",
        "stream = universe[-s:]"
      ]
    },
    {
      "cell_type": "markdown",
      "metadata": {},
      "source": [
        "L'id\u00e9e derri\u00e8re l'algorithme [BJKST](http://info.prelert.com/blog/hashing-and-approximate-distinct-value-counts) est de parcourir les \u00e9lements du stream et de remplir un ensemble $B$ par \u00e9chantillonage. La probabilit\u00e9 d'\u00e9chantillonage initiale est $1$ et lorsque $B$ devient trop grand (au del\u00e0 d'un certain seuil $B_{max}$) on enl\u00e8ve des \u00e9lements et on diminue la probabilit\u00e9 d'\u00e9chantillonage. A la fin le nombre d'\u00e9l\u00e9ments dans $B$ et la probabilit\u00e9 d'\u00e9chantillonage finale permettent d'estimer le nombre d'\u00e9l\u00e9ments distincts dans $U$.\n",
        "\n",
        "Pour $\\epsilon >0$ nous prenons $B_{max} = 1/ \\epsilon^2$ :"
      ]
    },
    {
      "cell_type": "code",
      "execution_count": 15,
      "metadata": {
        "collapsed": true
      },
      "outputs": [],
      "source": [
        "# definissons un ensemble B\n",
        "B = set()\n",
        "epsilon = 0.1\n",
        "B_max = 1 / epsilon**2"
      ]
    },
    {
      "cell_type": "markdown",
      "metadata": {},
      "source": [
        "Choisissons $p$ un nombre premier arbitrairement grand:"
      ]
    },
    {
      "cell_type": "code",
      "execution_count": 16,
      "metadata": {
        "collapsed": true
      },
      "outputs": [],
      "source": [
        "p = 4294967291"
      ]
    },
    {
      "cell_type": "markdown",
      "metadata": {},
      "source": [
        "et tirons al\u00e9atoirement deux fonctions $h_{a_1, b_1}$ et $h_{a_2, b_2}$ distinctes:"
      ]
    },
    {
      "cell_type": "code",
      "execution_count": 17,
      "metadata": {
        "collapsed": true
      },
      "outputs": [],
      "source": [
        "import random\n",
        "# deux couples (a_1, b_1) (a_1, b_2) distincts\n",
        "a1, a2 = random.sample(range(1, p), 2)\n",
        "b1, b2 = random.sample(range(0, p), 2)\n",
        "\n",
        "def h1(x):\n",
        "    return ((a1*x + b1) % p) % s\n",
        "\n",
        "def h2(x):\n",
        "    return ((a2*x + b2) % p) % s"
      ]
    },
    {
      "cell_type": "markdown",
      "metadata": {
        "collapsed": true
      },
      "source": [
        "Initialisons un entier $c$ \u00e0 zero. Pour chaque $x$ dans le stream nous calculons d'abord sa valeur de hachage $y = h_{a_1, b_1}(x)$ :"
      ]
    },
    {
      "cell_type": "code",
      "execution_count": 18,
      "metadata": {},
      "outputs": [
        {
          "name": "stdout",
          "output_type": "stream",
          "text": [
            "x = 207, y = 230\n"
          ]
        }
      ],
      "source": [
        "c = 0\n",
        "# Prenons le premier \u00e9l\u00e9ment du stream (\u00e0 titre d'exemple)\n",
        "x = stream[0]\n",
        "y = h1(x)\n",
        "print('x = {}, y = {}'.format(x, y))"
      ]
    },
    {
      "cell_type": "markdown",
      "metadata": {},
      "source": [
        "La probabilit\u00e9 d'\u00e9chantillonage est bas\u00e9e sur le nombre de z\u00e9ros \u00e0 droite dans la d\u00e9composition binaire de $y$. Pour calculer ce nombre diverses m\u00e9thodes existent (voir [Count the consecutive zero bits (trailing) on the right with modulus division and lookup ](http://graphics.stanford.edu/~seander/bithacks.html#ZerosOnRightModLookup) pour plus de d\u00e9tails). Pour $s= 2^1$ et $s = 2^{10}$ la d\u00e9composition binaire comporte $1$ et $10$ z\u00e9ros \u00e0 droite respectivement:"
      ]
    },
    {
      "cell_type": "code",
      "execution_count": 19,
      "metadata": {},
      "outputs": [
        {
          "name": "stdout",
          "output_type": "stream",
          "text": [
            "Decomposition binaire de 2**1 = 0b10, nombre de zeros a droite = 1\n",
            "Decomposition binaire de 2**10 = 0b10000000000, nombre de zeros a droite = 10\n"
          ]
        }
      ],
      "source": [
        "mod_37bit_position = (32, 0, 1, 26, 2, 23, 27, 0, 3, 16, 24, 30, 28, 11, 0, 13, 4,\n",
        "  7, 17, 0, 25, 22, 31, 15, 29, 10, 12, 6, 0, 21, 14, 9, 5,\n",
        "  20, 8, 19, 18)\n",
        "\n",
        "# Un seul z\u00e9ro \u00e0 droite\n",
        "s = 2**1\n",
        "zeros = mod_37bit_position[(-s & s) % 37]\n",
        "print('Decomposition binaire de 2**1 = {}, nombre de zeros a droite = {}'.format(bin(s), zeros))\n",
        "\n",
        "# Dix z\u00e9ros \u00e0 droite\n",
        "s = 2**10\n",
        "zeros = mod_37bit_position[(-s & s) % 37]\n",
        "print('Decomposition binaire de 2**10 = {}, nombre de zeros a droite = {}'.format(bin(s), zeros))"
      ]
    },
    {
      "cell_type": "markdown",
      "metadata": {},
      "source": [
        "Notons $k$ le nombre de z\u00e9ros \u00e0 droite dans la d\u00e9composition binaire de $y$."
      ]
    },
    {
      "cell_type": "code",
      "execution_count": 20,
      "metadata": {
        "scrolled": true
      },
      "outputs": [
        {
          "name": "stdout",
          "output_type": "stream",
          "text": [
            "Decomposition binaire de y = 0b11100110, nombre de zeros a droite = 1\n"
          ]
        }
      ],
      "source": [
        "k = mod_37bit_position[(-y & y) % 37]\n",
        "print('Decomposition binaire de y = {}, nombre de zeros a droite = {}'.format(bin(y), k))"
      ]
    },
    {
      "cell_type": "markdown",
      "metadata": {},
      "source": [
        "Puis nous comparons $k \\geq c$. Si c'est le cas nous calculons une nouvelle valeur de hashage de $x$, $z = h_{a_2, b_2}(x)$ et rajoutons le couple $(z, k)$ \u00e0 l'ensemble $B$."
      ]
    },
    {
      "cell_type": "code",
      "execution_count": 21,
      "metadata": {
        "collapsed": true
      },
      "outputs": [],
      "source": [
        "if (k >= c):\n",
        "    z = h2(x)\n",
        "    B.add((z, k))"
      ]
    },
    {
      "cell_type": "markdown",
      "metadata": {},
      "source": [
        "A l'initialisation la condition $k \\geq c$ est toujours v\u00e9rifi\u00e9e (ce qui correspond \u00e0 une probabilit\u00e9 d'\u00e9chantillonage \u00e9gale \u00e0 $1$) :"
      ]
    },
    {
      "cell_type": "code",
      "execution_count": 22,
      "metadata": {},
      "outputs": [
        {
          "data": {
            "text/plain": [
              "{(1002, 1)}"
            ]
          },
          "execution_count": 23,
          "metadata": {},
          "output_type": "execute_result"
        }
      ],
      "source": [
        "B"
      ]
    },
    {
      "cell_type": "markdown",
      "metadata": {},
      "source": [
        "L'ensemble $B$ se remplit jusqu'\u00e0 atteindre la taille $B_{max}$. Lorsque cette taille est atteinte on incr\u00e9mente $c$ et on enl\u00e8ve \u00e0 $B$ tous les couples $(z, k)$ o\u00f9 $k < c$."
      ]
    },
    {
      "cell_type": "code",
      "execution_count": 24,
      "metadata": {
        "collapsed": true
      },
      "outputs": [],
      "source": [
        "while (len(B) >= B_max):\n",
        "    c += 1\n",
        "    # on prend ici une copie de B\n",
        "    for z, k in B.copy():\n",
        "        if (k < c):\n",
        "            B.remove((z, k))   "
      ]
    },
    {
      "cell_type": "markdown",
      "metadata": {},
      "source": [
        "Parcourons le stream et regardons \u00e0 quoi ressemble l'ensemble $B$:"
      ]
    },
    {
      "cell_type": "code",
      "execution_count": 25,
      "metadata": {
        "collapsed": true
      },
      "outputs": [],
      "source": [
        "for x in stream:\n",
        "    y = h1(x)\n",
        "    k = mod_37bit_position[(-y & y) % 37]\n",
        "    if (k >= c):\n",
        "        z = h2(x)\n",
        "        B.add((z, k))\n",
        "        while (len(B) >= B_max):\n",
        "            c += 1\n",
        "            for z, k in B.copy():\n",
        "                if (k < c):\n",
        "                    B.remove((z, k)) "
      ]
    },
    {
      "cell_type": "code",
      "execution_count": 26,
      "metadata": {},
      "outputs": [
        {
          "name": "stdout",
          "output_type": "stream",
          "text": [
            "Taille de B = 55, c = 3\n"
          ]
        }
      ],
      "source": [
        "print('Taille de B = {}, c = {}'.format(len(B), c))"
      ]
    },
    {
      "cell_type": "markdown",
      "metadata": {},
      "source": [
        "Une estimateur de la taille de l'univers est alors $2^c \\mathrm{card}(B)$ :"
      ]
    },
    {
      "cell_type": "code",
      "execution_count": 27,
      "metadata": {},
      "outputs": [
        {
          "name": "stdout",
          "output_type": "stream",
          "text": [
            "Estimation de la taille de U = 440\n"
          ]
        }
      ],
      "source": [
        "print('Estimation de la taille de U = {}'.format(2**c * len(B)))"
      ]
    },
    {
      "cell_type": "markdown",
      "metadata": {},
      "source": [
        "Pour s'en convaincre, remarquons qu'en moyenne le cardinal de $B$ est \u00e9gal au nombre de $y_i$ pour lequel le nombre de z\u00e9ros \u00e0 droite dans la d\u00e9composition binaire est plus grand que $c$. Ceci correspond au nombre de $y_i$ qui sont divisibles par $2^c$ :\n",
        "\n",
        "$$\\mathbb{E}[\\mathrm{card}(B)] = \\mathbb{E}\\big[\\sum_{x_i} I(y_i = 0 \\space{} \\mathrm{mod} \\space{} 2^c)\\big] = \\sum_{x_i} \\mathbb{P}\\big( y_i = 0 \\space{} \\mathrm{mod} \\space{} 2^c\\big)$$\n",
        "\n",
        "C'est ici qu'intervient la notion de famille universelle car cette derniere \u00e9galit\u00e9 n'est valide que si le nombre de collision entre $y$ et $z$ est faible lors du hachage de $x$ par $h_{a_1, b_1}$ et $h_{a_2, b_2}$. En effet, si le nombre de collisions \u00e9tait trop grand la taille de $B$ sous-estimerait le nombre d'\u00e9l\u00e9ments distincts.\n",
        "\n",
        "La probabilit\u00e9 $\\mathbb{P}\\big( y_i = 0 \\space{} \\mathrm{mod} \\space{} 2^c\\big)$ \u00e9tant \u00e9gale \u00e0 $1 / 2^c$ si $y_i$ est distribu\u00e9 uniform\u00e9ment (l'\u00e9crire pour s'en convaincre) nous obtenons :\n",
        "\n",
        "$$ \\mathbb{E}[\\mathrm{card}(B)] = \\frac{n}{2^c}.$$"
      ]
    },
    {
      "cell_type": "markdown",
      "metadata": {},
      "source": [
        "### R\u00e9sultats num\u00e9riques\n",
        "\n",
        "Regroupons le code dans une fonction"
      ]
    },
    {
      "cell_type": "code",
      "execution_count": 28,
      "metadata": {
        "collapsed": true
      },
      "outputs": [],
      "source": [
        "def BJKST(stream, epsilon):\n",
        "    s = len(stream)\n",
        "    a1, a2 = random.sample(range(1, p), 2)\n",
        "    b1, b2 = random.sample(range(0, p), 2)\n",
        "    def h1(x):\n",
        "        return ((a1*x + b1) % p) % s\n",
        "    def h2(x):\n",
        "        return ((a2*x + b2) % p) % s\n",
        "    c = 0\n",
        "    B = set()\n",
        "    B_max = 1.0 / epsilon**2\n",
        "    for x in stream:\n",
        "        y = h1(x)\n",
        "        k = mod_37bit_position[(-y & y) % 37]\n",
        "        if (k >= c):\n",
        "            z = h2(x)\n",
        "            B.add((z, k))\n",
        "            while (len(B) >= B_max):\n",
        "                c += 1\n",
        "                for z, k in B.copy():\n",
        "                    if (k < c):\n",
        "                        B.remove((z, k))             \n",
        "    return 2**c*len(B)"
      ]
    },
    {
      "cell_type": "markdown",
      "metadata": {},
      "source": [
        "En pratique une estimation fiable du nombre d'\u00e9l\u00e9ments distincts requiert de g\u00e9n\u00e9rer plusieurs calculs ind\u00e9pendants de l'algorithme et de prendre la m\u00e9diane. Regardons comment la qualit\u00e9 de l'estimation \u00e9volue en fonction de la pr\u00e9cision $\\epsilon$ exig\u00e9e et de la taille $s$ du stream."
      ]
    },
    {
      "cell_type": "code",
      "execution_count": 29,
      "metadata": {},
      "outputs": [
        {
          "ename": "NameError",
          "evalue": "name 'np' is not defined",
          "output_type": "error",
          "traceback": [
            "\u001b[1;31m---------------------------------------------------------------------------\u001b[0m",
            "\u001b[1;31mNameError\u001b[0m                                 Traceback (most recent call last)",
            "\u001b[1;32m<ipython-input-26-4a3332e0535d>\u001b[0m in \u001b[0;36m<module>\u001b[1;34m()\u001b[0m\n\u001b[0;32m      6\u001b[0m     \u001b[1;32mfor\u001b[0m \u001b[0ms\u001b[0m \u001b[1;32min\u001b[0m \u001b[0msizes\u001b[0m\u001b[1;33m:\u001b[0m\u001b[1;33m\u001b[0m\u001b[0m\n\u001b[0;32m      7\u001b[0m         \u001b[0mstream\u001b[0m \u001b[1;33m=\u001b[0m \u001b[0muniverse\u001b[0m\u001b[1;33m[\u001b[0m\u001b[1;33m-\u001b[0m\u001b[0ms\u001b[0m\u001b[1;33m:\u001b[0m\u001b[1;33m]\u001b[0m\u001b[1;33m\u001b[0m\u001b[0m\n\u001b[1;32m----> 8\u001b[1;33m         \u001b[0mvalues\u001b[0m\u001b[1;33m.\u001b[0m\u001b[0mappend\u001b[0m\u001b[1;33m(\u001b[0m\u001b[0mnp\u001b[0m\u001b[1;33m.\u001b[0m\u001b[0mmedian\u001b[0m\u001b[1;33m(\u001b[0m\u001b[1;33m[\u001b[0m\u001b[0mBJKST\u001b[0m\u001b[1;33m(\u001b[0m\u001b[0mstream\u001b[0m\u001b[1;33m,\u001b[0m \u001b[0meps\u001b[0m\u001b[1;33m)\u001b[0m \u001b[1;32mfor\u001b[0m \u001b[0m_\u001b[0m \u001b[1;32min\u001b[0m \u001b[0mrange\u001b[0m\u001b[1;33m(\u001b[0m\u001b[1;36m100\u001b[0m\u001b[1;33m)\u001b[0m\u001b[1;33m]\u001b[0m\u001b[1;33m)\u001b[0m\u001b[1;33m)\u001b[0m\u001b[1;33m\u001b[0m\u001b[0m\n\u001b[0m\u001b[0;32m      9\u001b[0m     \u001b[0mestimates\u001b[0m\u001b[1;33m[\u001b[0m\u001b[0meps\u001b[0m\u001b[1;33m]\u001b[0m \u001b[1;33m=\u001b[0m \u001b[0mvalues\u001b[0m\u001b[1;33m\u001b[0m\u001b[0m\n",
            "\u001b[1;31mNameError\u001b[0m: name 'np' is not defined"
          ]
        }
      ],
      "source": [
        "epsilons = [0.5, 0.2, 0.1]\n",
        "sizes = [100, 250, 500, 1000, 2500, 5000]\n",
        "estimates = {}\n",
        "for eps in epsilons:\n",
        "    values = []\n",
        "    for s in sizes:\n",
        "        stream = universe[-s:]\n",
        "        values.append(numpy.median([BJKST(stream, eps) for _ in range(100)]))\n",
        "    estimates[eps] = values"
      ]
    },
    {
      "cell_type": "code",
      "execution_count": 30,
      "metadata": {
        "collapsed": true
      },
      "outputs": [],
      "source": [
        "for eps in estimates:\n",
        "    plt.plot(sizes, estimates[eps], label = '$\\epsilon$ = {:.1f}'.format(eps))\n",
        "plt.axhline(y=n, color='r', linestyle='--', label='Vraie valeur de $n$')\n",
        "plt.title('Estimation de $n$')\n",
        "plt.xlabel('Taille du stream')\n",
        "plt.legend()"
      ]
    },
    {
      "cell_type": "code",
      "execution_count": 31,
      "metadata": {
        "collapsed": true
      },
      "outputs": [],
      "source": [
        "epsilon = 0.1\n",
        "for i in range(len(sizes)):\n",
        "    print('Erreur relative = {0:.2f}%, s = {1}'.format(abs(estimates[epsilon][i]/ n - 1.0)*100.0, sizes[i]))"
      ]
    },
    {
      "cell_type": "markdown",
      "metadata": {},
      "source": [
        "Nous observons que l'estimation converge vers la vraie valeur $n$ \u00e0 mesure que la taille du stream augmente. Pour une pr\u00e9cision $\\epsilon = 10\\%$ et une taille de stream \u00e9gale \u00e0 $5000$ l'erreur est de $0,8\\%$."
      ]
    },
    {
      "cell_type": "markdown",
      "metadata": {},
      "source": [
        "La fiabilit\u00e9 de l'estimation est d\u00e9croissante avec le niveau de pr\u00e9cision exig\u00e9, l'algorithme donne une bonne estimation de la vraie valeur (ligne horizontale rouge) pour $\\epsilon \\approx 0.3$."
      ]
    },
    {
      "cell_type": "markdown",
      "metadata": {},
      "source": [
        "### Temps de calcul en fonction de la taille du stream\n",
        "\n",
        "Regardons \u00e0 pr\u00e9sent comment le temps de calcul \u00e9volue en fonction de la taille du stream. Rappelons qu'un bon algorithme de streaming doit \u00e9voluer de mani\u00e8re au pire lin\u00e9aire en fonction de la taille d'espace $s$."
      ]
    },
    {
      "cell_type": "code",
      "execution_count": 32,
      "metadata": {
        "collapsed": true
      },
      "outputs": [],
      "source": [
        "import time\n",
        "epsilon = 0.1\n",
        "size_bound = 15\n",
        "sizes = [100, 250, 500, 1000, 2500, 5000]\n",
        "m = 100\n",
        "times = []\n",
        "for s in sizes:\n",
        "    start = time.time()\n",
        "    stream = universe[-s:]\n",
        "    BJKST(stream, epsilon)\n",
        "    times.append(time.time() - start)\n",
        "times = numpy.array(times)"
      ]
    },
    {
      "cell_type": "code",
      "execution_count": 33,
      "metadata": {
        "collapsed": true
      },
      "outputs": [],
      "source": [
        "fix, ax = plt.subplots()\n",
        "plt.plot(sizes, times*1000)\n",
        "plt.title('Temps de calcul (en ms)')\n",
        "plt.xlabel('Taille du stream')"
      ]
    },
    {
      "cell_type": "markdown",
      "metadata": {},
      "source": [
        "La complexit\u00e9 semble \u00eatre lin\u00e9aire ce qui est satisfaisant. Notons qu'aucun effort d'optimisation de performance (\u00e0 part l'usage d'un <b>set</b>) n'a \u00e9t\u00e9 fait \u00e0 ce stade."
      ]
    },
    {
      "cell_type": "markdown",
      "metadata": {},
      "source": [
        "## Un peu plus sur la pr\u00e9cision de l'estimateur"
      ]
    },
    {
      "cell_type": "markdown",
      "metadata": {},
      "source": [
        "Lorsque la pr\u00e9cision $\\epsilon$ est proche de $0$ l'estimation est moins bonne que pour une pr\u00e9cision plus large. Pourquoi ?"
      ]
    },
    {
      "cell_type": "code",
      "execution_count": 34,
      "metadata": {
        "collapsed": true
      },
      "outputs": [],
      "source": [
        "import random\n",
        "import numpy\n",
        "import matplotlib.pyplot as plt\n",
        "%matplotlib inline\n",
        "\n",
        "n = 1000\n",
        "stream = numpy.arange(1000)\n",
        "p = 4294967291\n",
        "\n",
        "mod_37bit_position = (32, 0, 1, 26, 2, 23, 27, 0, 3, 16, 24, 30, 28, 11, 0, 13, 4,\n",
        "  7, 17, 0, 25, 22, 31, 15, 29, 10, 12, 6, 0, 21, 14, 9, 5,\n",
        "  20, 8, 19, 18)"
      ]
    },
    {
      "cell_type": "code",
      "execution_count": 35,
      "metadata": {
        "collapsed": true
      },
      "outputs": [],
      "source": [
        "def BJKST(stream, B_max, h1, h2):\n",
        "    c = 0\n",
        "    B = set()\n",
        "    R = []\n",
        "    removed = 0\n",
        "    for x in stream:\n",
        "        y = h1(x)\n",
        "        k = mod_37bit_position[(-y & y) % 37]\n",
        "        if (k >= c):\n",
        "            z = h2(x)\n",
        "            B.add((z, k))\n",
        "            while (len(B) >= B_max):\n",
        "                c += 1\n",
        "                for z, k in B.copy():\n",
        "                    if (k < c):\n",
        "                        B.remove((z, k))\n",
        "                        removed += 1\n",
        "        R.append([removed, len(B), c])\n",
        "    return numpy.array(R)"
      ]
    },
    {
      "cell_type": "markdown",
      "metadata": {},
      "source": [
        "### $h_1$ et $h_2$ \u00e9gales \u00e0 l'identit\u00e9\n",
        "\n",
        "Si nous prenons $h_1$ et $h_2$ \u00e9gales \u00e0 l'identit\u00e9 l'ensemble $B$ se remplit lin\u00e9airement: pour $c=1$ on enl\u00e8ve tous les nombres avec $k = 0$ (tous les nombres impairs donc la moiti\u00e9) puis pour $c=2$ on enl\u00e8ve tous les nombres o\u00f9 $k = 0, 1$ c'est \u00e0 dire encore la moiti\u00e9 des nombres rajout\u00e9s et ainsi de suite.. \n",
        "\n",
        "A la fin l'estimation est parfaite (cf graphe en fonction de l'avancement dans le stream)"
      ]
    },
    {
      "cell_type": "code",
      "execution_count": 36,
      "metadata": {
        "collapsed": true
      },
      "outputs": [],
      "source": [
        "B_max = 200\n",
        "def h1(x):\n",
        "    return x\n",
        "def h2(x):\n",
        "    return x\n",
        "R = BJKST(stream, B_max, h1, h2)\n",
        "estimate = 2**R[-1,2]*R[-1,1]\n",
        "print('Estimated = {}, true = {}, c= {}'.format(estimate, n, R[-1,2]))\n",
        "D = numpy.concatenate((numpy.array([1]), numpy.diff(R[:,2])))\n",
        "changes = stream[numpy.nonzero(D)]\n",
        "\n",
        "fix, ax = plt.subplots()\n",
        "ax.plot(stream, R[:,0], color='red', label='total #removed')\n",
        "ax.plot(stream, R[:,1], color='blue', label='len B')\n",
        "for c in changes:\n",
        "    ax.annotate('c = {}'.format(R[c, 2]), xy=(c, R[c, 1]), xytext=(c + 65, R[c,1] - 30), arrowprops=dict(arrowstyle='->'))\n",
        "ax.legend(loc=(1.1, 0.9))\n",
        "plt.xlabel('$x$')\n",
        "plt.ylabel('size')"
      ]
    },
    {
      "cell_type": "markdown",
      "metadata": {},
      "source": [
        "### cas o\u00f9 la taille du hash est petite\n",
        "\n",
        "Si on prend un hash petit il faut regarder plus de nombres pour remplir et l'incr\u00e9ment de $c$ se fait \"plus tard\" dans le stream, d'o\u00f9 la mauvaise estimation."
      ]
    },
    {
      "cell_type": "code",
      "execution_count": 37,
      "metadata": {
        "collapsed": true
      },
      "outputs": [],
      "source": [
        "B_max = 200\n",
        "s = B_max // 4\n",
        "a1, a2 = random.sample(range(1, p), 2)\n",
        "b1, b2 = random.sample(range(0, p), 2)\n",
        "def h1(x):\n",
        "    return ((a1*x + b1) % p) % n\n",
        "def h2(x):\n",
        "    return ((a2*x + b2) % p) % s\n",
        "R = BJKST(stream, B_max, h1, h2)\n",
        "estimate = 2**R[-1,2]*R[-1,1]\n",
        "print('Estimated = {}, true = {}, c= {}'.format(estimate, n, R[-1,2]))\n",
        "D = numpy.concatenate((numpy.array([1]),numpy.diff(R[:,2])))\n",
        "changes = stream[numpy.nonzero(D)]\n",
        "fix, ax = plt.subplots()\n",
        "ax.plot(stream, R[:,0], color='red', label='total #removed')\n",
        "ax.plot(stream, R[:,1], color='blue', label='len B')\n",
        "for c in changes:\n",
        "    ax.annotate('c = {}'.format(R[c, 2]), xy=(c, R[c, 1]), xytext=(c + 65, R[c,1] - 30), arrowprops=dict(arrowstyle='->'))\n",
        "ax.legend(loc=(1.1, 0.9))\n",
        "plt.xlabel('$x$')\n",
        "plt.ylabel('size')"
      ]
    },
    {
      "cell_type": "markdown",
      "metadata": {},
      "source": [
        "### cas o\u00f9 la taille de hash est plus grande\n",
        "\n",
        "Si on prend un une valeur de hash plus grande on se rapproche du cas $h_1 = h_2 = id$ et l'estimation est meilleure :"
      ]
    },
    {
      "cell_type": "code",
      "execution_count": 38,
      "metadata": {
        "collapsed": true
      },
      "outputs": [],
      "source": [
        "B_max = 200\n",
        "s = B_max\n",
        "a1, a2 = random.sample(range(1, p), 2)\n",
        "b1, b2 = random.sample(range(0, p), 2)\n",
        "def h1(x):\n",
        "    return ((a1*x + b1) % p) % n\n",
        "def h2(x):\n",
        "    return ((a2*x + b2) % p) % s\n",
        "R = BJKST(stream, B_max, h1, h2)\n",
        "estimate = 2**R[-1,2]*R[-1,1]\n",
        "print('Estimated = {}, true = {}, c= {}'.format(estimate, n, R[-1,2]))\n",
        "D =numpy.concatenate((numpy.array([1]), numpy.diff(R[:,2])))\n",
        "changes = stream[numpy.nonzero(D)]\n",
        "fix, ax = plt.subplots()\n",
        "ax.plot(stream, R[:,0], color='red', label='total #removed')\n",
        "ax.plot(stream, R[:,1], color='blue', label='len B')\n",
        "for c in changes:\n",
        "    ax.annotate('c = {}'.format(R[c, 2]), xy=(c, R[c, 1]), xytext=(c + 65, R[c,1] - 30), arrowprops=dict(arrowstyle='->'))\n",
        "ax.legend(loc=(1.1, 0.9))\n",
        "plt.xlabel('$x$')\n",
        "plt.ylabel('size')"
      ]
    },
    {
      "cell_type": "markdown",
      "metadata": {},
      "source": [
        "### la taille de hash d\u00e9pend de la pr\u00e9cision $\\epsilon$\n",
        "\n",
        "A mon avis, il faut donc que la taille du hash pour $h_2$ d\u00e9pende de la pr\u00e9cision (dans [Data Stream Algorithms](http://www.cs.dartmouth.edu/~ac/Teach/CS85-Fall09/Notes/lecnotes.pdf) ils pr\u00e9conisent une taille en $\\mathrm{log}(n) / \\epsilon^2$).\n",
        "\n",
        "Si on prend cette taille pour $h_2$ on voit que l'estimation est meilleure pour une pr\u00e9cision petite."
      ]
    },
    {
      "cell_type": "code",
      "execution_count": 39,
      "metadata": {
        "collapsed": true
      },
      "outputs": [],
      "source": [
        "def BJKST(stream, epsilon):\n",
        "    a1, a2 = random.sample(range(1, p), 2)\n",
        "    b1, b2 = random.sample(range(0, p), 2)\n",
        "    #taille de la valeur de hashage d\u00e9pend de la precision\n",
        "    b = int(numpy.log(n) / epsilon**2)\n",
        "    def h1(x):\n",
        "        return ((a1*x + b1) % p) % n\n",
        "    # on applique la taille b sur la seconde fonction de hash\n",
        "    def h2(x):\n",
        "        return ((a2*x + b2) % p) % b\n",
        "    c = 0\n",
        "    B = set()\n",
        "    B_max = 1.0 / epsilon**2\n",
        "    for x in stream:\n",
        "        y = h1(x)\n",
        "        k = mod_37bit_position[(-y & y) % 37]\n",
        "        if (k >= c):\n",
        "            z = h2(x)\n",
        "            B.add((z, k))\n",
        "            while (len(B) >= B_max):\n",
        "                c += 1\n",
        "                for z, k in B.copy():\n",
        "                    if (k < c):\n",
        "                        B.remove((z, k))             \n",
        "    return 2**c*len(B)"
      ]
    },
    {
      "cell_type": "code",
      "execution_count": 40,
      "metadata": {
        "collapsed": true
      },
      "outputs": [],
      "source": [
        "m = 100\n",
        "epsilons = numpy.array([0.1, 0.09, 0.08, 0.07, 0.06, 0.05, 0.04, 0.03, 0.02, 0.01])\n",
        "medians = numpy.array([numpy.median([BJKST(stream, eps) for _ in range(m)]) for eps in epsilons])"
      ]
    },
    {
      "cell_type": "code",
      "execution_count": 41,
      "metadata": {
        "collapsed": true
      },
      "outputs": [],
      "source": [
        "import matplotlib.pyplot as plt\n",
        "%matplotlib inline\n",
        "\n",
        "#plt.plot(1.0 / epsilons, medians)\n",
        "plt.plot(epsilons, medians)\n",
        "plt.axhline(y=n, color='r', linestyle='--')\n",
        "plt.title(r'Mediane en fonction de $1 / \\epsilon$,  m = {}'.format(m))\n",
        "plt.xlabel(r'$\\epsilon$')\n",
        "plt.ylabel('Mediane')"
      ]
    },
    {
      "cell_type": "code",
      "execution_count": 42,
      "metadata": {
        "collapsed": true
      },
      "outputs": [],
      "source": []
    }
  ],
  "metadata": {
    "kernelspec": {
      "display_name": "Python 3",
      "language": "python",
      "name": "python3"
    },
    "language_info": {
      "codemirror_mode": {
        "name": "ipython",
        "version": 3
      },
      "file_extension": ".py",
      "mimetype": "text/x-python",
      "name": "python",
      "nbconvert_exporter": "python",
      "pygments_lexer": "ipython3",
      "version": "3.6.1"
    }
  },
  "nbformat": 4,
  "nbformat_minor": 2
}