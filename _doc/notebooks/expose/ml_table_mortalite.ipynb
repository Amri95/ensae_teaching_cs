{
  "cells": [
    {
      "cell_type": "markdown",
      "metadata": {},
      "source": [
        "# Table de mortalit\u00e9 dans plusieurs containers\n",
        "\n",
        "Pas de calcul d'esp\u00e9rence de vie, seulement diff\u00e9rentes fa\u00e7ons de lire les donn\u00e9es d'une table de mortalit\u00e9."
      ]
    },
    {
      "cell_type": "code",
      "execution_count": null,
      "metadata": {},
      "outputs": [],
      "source": [
        "%matplotlib inline\n",
        "import matplotlib.pyplot as plt\n",
        "plt.style.use('ggplot')"
      ]
    },
    {
      "cell_type": "code",
      "execution_count": null,
      "metadata": {},
      "outputs": [
        {
          "data": {
            "text/html": [
              "<div id=\"my_id_menu_nb\">run previous cell, wait for 2 seconds</div>\n",
              "<script>\n",
              "function repeat_indent_string(n){\n",
              "    var a = \"\" ;\n",
              "    for ( ; n > 0 ; --n)\n",
              "        a += \"    \";\n",
              "    return a;\n",
              "}\n",
              "var update_menu_string = function(begin, lfirst, llast, sformat, send, keep_item, begin_format, end_format) {\n",
              "    var anchors = document.getElementsByClassName(\"section\");\n",
              "    if (anchors.length == 0) {\n",
              "        anchors = document.getElementsByClassName(\"text_cell_render rendered_html\");\n",
              "    }\n",
              "    var i,t;\n",
              "    var text_menu = begin;\n",
              "    var text_memo = \"<pre>\\nlength:\" + anchors.length + \"\\n\";\n",
              "    var ind = \"\";\n",
              "    var memo_level = 1;\n",
              "    var href;\n",
              "    var tags = [];\n",
              "    var main_item = 0;\n",
              "    var format_open = 0;\n",
              "    for (i = 0; i <= llast; i++)\n",
              "        tags.push(\"h\" + i);\n",
              "\n",
              "    for (i = 0; i < anchors.length; i++) {\n",
              "        text_memo += \"**\" + anchors[i].id + \"--\\n\";\n",
              "\n",
              "        var child = null;\n",
              "        for(t = 0; t < tags.length; t++) {\n",
              "            var r = anchors[i].getElementsByTagName(tags[t]);\n",
              "            if (r.length > 0) {\n",
              "child = r[0];\n",
              "break;\n",
              "            }\n",
              "        }\n",
              "        if (child == null) {\n",
              "            text_memo += \"null\\n\";\n",
              "            continue;\n",
              "        }\n",
              "        if (anchors[i].hasAttribute(\"id\")) {\n",
              "            // when converted in RST\n",
              "            href = anchors[i].id;\n",
              "            text_memo += \"#1-\" + href;\n",
              "            // passer \u00e0 child suivant (le chercher)\n",
              "        }\n",
              "        else if (child.hasAttribute(\"id\")) {\n",
              "            // in a notebook\n",
              "            href = child.id;\n",
              "            text_memo += \"#2-\" + href;\n",
              "        }\n",
              "        else {\n",
              "            text_memo += \"#3-\" + \"*\" + \"\\n\";\n",
              "            continue;\n",
              "        }\n",
              "        var title = child.textContent;\n",
              "        var level = parseInt(child.tagName.substring(1,2));\n",
              "\n",
              "        text_memo += \"--\" + level + \"?\" + lfirst + \"--\" + title + \"\\n\";\n",
              "\n",
              "        if ((level < lfirst) || (level > llast)) {\n",
              "            continue ;\n",
              "        }\n",
              "        if (title.endsWith('\u00b6')) {\n",
              "            title = title.substring(0,title.length-1).replace(\"<\", \"&lt;\")\n",
              "         .replace(\">\", \"&gt;\").replace(\"&\", \"&amp;\");\n",
              "        }\n",
              "        if (title.length == 0) {\n",
              "            continue;\n",
              "        }\n",
              "\n",
              "        while (level < memo_level) {\n",
              "            text_menu += end_format + \"</ul>\\n\";\n",
              "            format_open -= 1;\n",
              "            memo_level -= 1;\n",
              "        }\n",
              "        if (level == lfirst) {\n",
              "            main_item += 1;\n",
              "        }\n",
              "        if (keep_item != -1 && main_item != keep_item + 1) {\n",
              "            // alert(main_item + \" - \" + level + \" - \" + keep_item);\n",
              "            continue;\n",
              "        }\n",
              "        while (level > memo_level) {\n",
              "            text_menu += \"<ul>\\n\";\n",
              "            memo_level += 1;\n",
              "        }\n",
              "        text_menu += repeat_indent_string(level-2);\n",
              "        text_menu += begin_format + sformat.replace(\"__HREF__\", href).replace(\"__TITLE__\", title);\n",
              "        format_open += 1;\n",
              "    }\n",
              "    while (1 < memo_level) {\n",
              "        text_menu += end_format + \"</ul>\\n\";\n",
              "        memo_level -= 1;\n",
              "        format_open -= 1;\n",
              "    }\n",
              "    text_menu += send;\n",
              "    //text_menu += \"\\n\" + text_memo;\n",
              "\n",
              "    while (format_open > 0) {\n",
              "        text_menu += end_format;\n",
              "        format_open -= 1;\n",
              "    }\n",
              "    return text_menu;\n",
              "};\n",
              "var update_menu = function() {\n",
              "    var sbegin = \"\";\n",
              "    var sformat = '<a href=\"#__HREF__\">__TITLE__</a>';\n",
              "    var send = \"\";\n",
              "    var begin_format = '<li>';\n",
              "    var end_format = '</li>';\n",
              "    var keep_item = -1;\n",
              "    var text_menu = update_menu_string(sbegin, 2, 4, sformat, send, keep_item,\n",
              "       begin_format, end_format);\n",
              "    var menu = document.getElementById(\"my_id_menu_nb\");\n",
              "    menu.innerHTML=text_menu;\n",
              "};\n",
              "window.setTimeout(update_menu,2000);\n",
              "            </script>"
            ],
            "text/plain": [
              "<IPython.core.display.HTML object>"
            ]
          },
          "execution_count": null,
          "metadata": {},
          "output_type": "execute_result"
        }
      ],
      "source": [
        "from jyquickhelper import add_notebook_menu\n",
        "add_notebook_menu()"
      ]
    },
    {
      "cell_type": "markdown",
      "metadata": {},
      "source": [
        "## R\u00e9cup\u00e9ration des donn\u00e9es\n",
        "\n",
        "Les donn\u00e9es sont recens\u00e9es sur [Data Publica](http://www.data-publica.com/) : [Table de mortalit\u00e9](http://www.data-publica.com/opendata/7098--population-et-conditions-sociales-table-de-mortalite-de-1960-a-2010) qui les a r\u00e9cup\u00e9r\u00e9 depuis le site d'Eurostat via le listing suivant : [listing](http://epp.eurostat.ec.europa.eu/NavTree_prod/everybody/BulkDownloadListing?sort=1&dir=data). Pour faire court, le lien est le suivant : [demo_mlifetable.tsv.gz](http://epp.eurostat.ec.europa.eu/NavTree_prod/everybody/BulkDownloadListing?file=data/demo_mlifetable.tsv.gz). Le fichier est compress\u00e9 au format [gzip](http://fr.wikipedia.org/wiki/Gzip). On le t\u00e9l\u00e9charge, on le d\u00e9compresse."
      ]
    },
    {
      "cell_type": "code",
      "execution_count": null,
      "metadata": {},
      "outputs": [],
      "source": [
        "url = \"http://ec.europa.eu/eurostat/estat-navtree-portlet-prod/BulkDownloadListing?file=data/\"\n",
        "file = \"demo_mlifetable.tsv.gz\"\n",
        "import pyensae\n",
        "local = pyensae.download_data(\"demo_mlifetable.tsv.gz\", url=url)\n",
        "local = local[0]+\".gz\"\n",
        "import gzip\n",
        "with gzip.open(local, 'rb') as f: \n",
        "    file_content = f.read()\n",
        "content = str(file_content, encoding=\"utf8\")\n",
        "with open(\"mortalite.txt\", \"w\", encoding=\"utf8\") as f:\n",
        "    f.write(content)"
      ]
    },
    {
      "cell_type": "markdown",
      "metadata": {},
      "source": [
        "Puis on le charge sous forme de dataframe :"
      ]
    },
    {
      "cell_type": "code",
      "execution_count": null,
      "metadata": {},
      "outputs": [
        {
          "data": {
            "text/html": [
              "<div>\n",
              "<style>\n",
              "    .dataframe thead tr:only-child th {\n",
              "        text-align: right;\n",
              "    }\n",
              "\n",
              "    .dataframe thead th {\n",
              "        text-align: left;\n",
              "    }\n",
              "\n",
              "    .dataframe tbody tr th {\n",
              "        vertical-align: top;\n",
              "    }\n",
              "</style>\n",
              "<table border=\"1\" class=\"dataframe\">\n",
              "  <thead>\n",
              "    <tr style=\"text-align: right;\">\n",
              "      <th></th>\n",
              "      <th>indic_de,sex,age,geo\\time</th>\n",
              "      <th>2015</th>\n",
              "      <th>2014</th>\n",
              "      <th>2013</th>\n",
              "      <th>2012</th>\n",
              "      <th>2011</th>\n",
              "      <th>2010</th>\n",
              "      <th>2009</th>\n",
              "      <th>2008</th>\n",
              "      <th>2007</th>\n",
              "      <th>...</th>\n",
              "      <th>1969</th>\n",
              "      <th>1968</th>\n",
              "      <th>1967</th>\n",
              "      <th>1966</th>\n",
              "      <th>1965</th>\n",
              "      <th>1964</th>\n",
              "      <th>1963</th>\n",
              "      <th>1962</th>\n",
              "      <th>1961</th>\n",
              "      <th>1960</th>\n",
              "    </tr>\n",
              "  </thead>\n",
              "  <tbody>\n",
              "    <tr>\n",
              "      <th>0</th>\n",
              "      <td>DEATHRATE,F,Y1,AL</td>\n",
              "      <td>0.00043 e</td>\n",
              "      <td>0.00043 e</td>\n",
              "      <td>:</td>\n",
              "      <td>:</td>\n",
              "      <td>:</td>\n",
              "      <td>:</td>\n",
              "      <td>:</td>\n",
              "      <td>:</td>\n",
              "      <td>:</td>\n",
              "      <td>...</td>\n",
              "      <td>:</td>\n",
              "      <td>:</td>\n",
              "      <td>:</td>\n",
              "      <td>:</td>\n",
              "      <td>:</td>\n",
              "      <td>:</td>\n",
              "      <td>:</td>\n",
              "      <td>:</td>\n",
              "      <td>:</td>\n",
              "      <td>:</td>\n",
              "    </tr>\n",
              "    <tr>\n",
              "      <th>1</th>\n",
              "      <td>DEATHRATE,F,Y1,AM</td>\n",
              "      <td>0.00035</td>\n",
              "      <td>:</td>\n",
              "      <td>:</td>\n",
              "      <td>:</td>\n",
              "      <td>:</td>\n",
              "      <td>:</td>\n",
              "      <td>0.00080</td>\n",
              "      <td>0.00067</td>\n",
              "      <td>0.00052</td>\n",
              "      <td>...</td>\n",
              "      <td>:</td>\n",
              "      <td>:</td>\n",
              "      <td>:</td>\n",
              "      <td>:</td>\n",
              "      <td>:</td>\n",
              "      <td>:</td>\n",
              "      <td>:</td>\n",
              "      <td>:</td>\n",
              "      <td>:</td>\n",
              "      <td>:</td>\n",
              "    </tr>\n",
              "    <tr>\n",
              "      <th>2</th>\n",
              "      <td>DEATHRATE,F,Y1,AT</td>\n",
              "      <td>0.00017</td>\n",
              "      <td>0.00015</td>\n",
              "      <td>0.00016</td>\n",
              "      <td>0.00018</td>\n",
              "      <td>0.00018</td>\n",
              "      <td>0.00034</td>\n",
              "      <td>0.00042</td>\n",
              "      <td>0.00039</td>\n",
              "      <td>0.00036</td>\n",
              "      <td>...</td>\n",
              "      <td>:</td>\n",
              "      <td>:</td>\n",
              "      <td>:</td>\n",
              "      <td>:</td>\n",
              "      <td>:</td>\n",
              "      <td>:</td>\n",
              "      <td>:</td>\n",
              "      <td>:</td>\n",
              "      <td>:</td>\n",
              "      <td>:</td>\n",
              "    </tr>\n",
              "    <tr>\n",
              "      <th>3</th>\n",
              "      <td>DEATHRATE,F,Y1,AZ</td>\n",
              "      <td>0.00092</td>\n",
              "      <td>0.00092</td>\n",
              "      <td>0.00070</td>\n",
              "      <td>0.00132</td>\n",
              "      <td>:</td>\n",
              "      <td>0.00134</td>\n",
              "      <td>0.00111</td>\n",
              "      <td>0.00130</td>\n",
              "      <td>0.00187</td>\n",
              "      <td>...</td>\n",
              "      <td>:</td>\n",
              "      <td>:</td>\n",
              "      <td>:</td>\n",
              "      <td>:</td>\n",
              "      <td>:</td>\n",
              "      <td>:</td>\n",
              "      <td>:</td>\n",
              "      <td>:</td>\n",
              "      <td>:</td>\n",
              "      <td>:</td>\n",
              "    </tr>\n",
              "    <tr>\n",
              "      <th>4</th>\n",
              "      <td>DEATHRATE,F,Y1,BE</td>\n",
              "      <td>0.00034</td>\n",
              "      <td>0.00035 b</td>\n",
              "      <td>0.00036</td>\n",
              "      <td>0.00025</td>\n",
              "      <td>0.00030</td>\n",
              "      <td>0.00021</td>\n",
              "      <td>0.00041</td>\n",
              "      <td>0.00030</td>\n",
              "      <td>0.00039</td>\n",
              "      <td>...</td>\n",
              "      <td>0.00141</td>\n",
              "      <td>0.00155</td>\n",
              "      <td>0.00132</td>\n",
              "      <td>0.00129</td>\n",
              "      <td>0.00153</td>\n",
              "      <td>0.00137</td>\n",
              "      <td>0.00170</td>\n",
              "      <td>0.00161</td>\n",
              "      <td>0.00168</td>\n",
              "      <td>0.00159</td>\n",
              "    </tr>\n",
              "  </tbody>\n",
              "</table>\n",
              "<p>5 rows \u00d7 57 columns</p>\n",
              "</div>"
            ],
            "text/plain": [
              "  indic_de,sex,age,geo\\time      2015       2014      2013      2012   \\\n",
              "0         DEATHRATE,F,Y1,AL  0.00043 e  0.00043 e        :         :    \n",
              "1         DEATHRATE,F,Y1,AM   0.00035          :         :         :    \n",
              "2         DEATHRATE,F,Y1,AT   0.00017    0.00015   0.00016   0.00018    \n",
              "3         DEATHRATE,F,Y1,AZ   0.00092    0.00092   0.00070   0.00132    \n",
              "4         DEATHRATE,F,Y1,BE   0.00034   0.00035 b  0.00036   0.00025    \n",
              "\n",
              "      2011      2010      2009      2008      2007     ...        1969   \\\n",
              "0        :         :         :         :         :     ...           :    \n",
              "1        :         :   0.00080   0.00067   0.00052     ...           :    \n",
              "2  0.00018   0.00034   0.00042   0.00039   0.00036     ...           :    \n",
              "3        :   0.00134   0.00111   0.00130   0.00187     ...           :    \n",
              "4  0.00030   0.00021   0.00041   0.00030   0.00039     ...     0.00141    \n",
              "\n",
              "      1968      1967      1966      1965      1964      1963      1962   \\\n",
              "0        :         :         :         :         :         :         :    \n",
              "1        :         :         :         :         :         :         :    \n",
              "2        :         :         :         :         :         :         :    \n",
              "3        :         :         :         :         :         :         :    \n",
              "4  0.00155   0.00132   0.00129   0.00153   0.00137   0.00170   0.00161    \n",
              "\n",
              "      1961      1960   \n",
              "0        :         :   \n",
              "1        :         :   \n",
              "2        :         :   \n",
              "3        :         :   \n",
              "4  0.00168   0.00159   \n",
              "\n",
              "[5 rows x 57 columns]"
            ]
          },
          "execution_count": null,
          "metadata": {},
          "output_type": "execute_result"
        }
      ],
      "source": [
        "import pandas\n",
        "dff = pandas.read_csv(\"mortalite.txt\", sep=\"\\t\", encoding=\"utf8\")\n",
        "dff.head()"
      ]
    },
    {
      "cell_type": "code",
      "execution_count": null,
      "metadata": {},
      "outputs": [
        {
          "data": {
            "text/plain": [
              "(97524, 57)"
            ]
          },
          "execution_count": null,
          "metadata": {},
          "output_type": "execute_result"
        }
      ],
      "source": [
        "dff.shape"
      ]
    },
    {
      "cell_type": "markdown",
      "metadata": {},
      "source": [
        "La premi\u00e8re colonne contient une aggr\u00e9gation de champs. On souhaite transformer cette table de telle sorte qu'on ait un nombre r\u00e9duit de colonnes :\n",
        "\n",
        "- indicateur\n",
        "- genre\n",
        "- age\n",
        "- pays (ou ensemble de pays)\n",
        "- annee\n",
        "- valeur\n",
        "\n",
        "L'\u00e2ge est repr\u00e9sent\u00e9 sous forme de cha\u00eene de caract\u00e8res pour pouvoir \u00e9crire ``Y_LT1`` (moins d'un an), ``Y_GE85`` (plus de 85 ans). On change un peu le format pour pouvoir les trier par ordre croissant (en effet ``Y2`` est apr\u00e8s ``Y10``). On sauve le tout dans un fichier pour ne pas avoir \u00e0 recommencer ult\u00e9rieurement. Malgr\u00e9 tout, le code ci-dessous est tr\u00e8s lent pour la table compl\u00e8te qui contiendra au final pr\u00e8s de 5 millions de lignes. On supprime les valeurs manquantes."
      ]
    },
    {
      "cell_type": "code",
      "execution_count": null,
      "metadata": {},
      "outputs": [
        {
          "name": "stdout",
          "output_type": "stream",
          "text": [
            "\u00e9tape 1 (97524, 57)\n",
            "\u00e9tape 2 (5461344, 1)\n",
            "\u00e9tape 3 (2866533, 3)\n",
            "\u00e9tape 4\n"
          ]
        },
        {
          "data": {
            "text/html": [
              "<div>\n",
              "<style>\n",
              "    .dataframe thead tr:only-child th {\n",
              "        text-align: right;\n",
              "    }\n",
              "\n",
              "    .dataframe thead th {\n",
              "        text-align: left;\n",
              "    }\n",
              "\n",
              "    .dataframe tbody tr th {\n",
              "        vertical-align: top;\n",
              "    }\n",
              "</style>\n",
              "<table border=\"1\" class=\"dataframe\">\n",
              "  <thead>\n",
              "    <tr style=\"text-align: right;\">\n",
              "      <th></th>\n",
              "      <th>annee</th>\n",
              "      <th>valeur</th>\n",
              "      <th>age</th>\n",
              "      <th>indicateur</th>\n",
              "      <th>genre</th>\n",
              "      <th>pays</th>\n",
              "    </tr>\n",
              "  </thead>\n",
              "  <tbody>\n",
              "    <tr>\n",
              "      <th>0</th>\n",
              "      <td>2015</td>\n",
              "      <td>0.00043</td>\n",
              "      <td>Y01</td>\n",
              "      <td>DEATHRATE</td>\n",
              "      <td>F</td>\n",
              "      <td>AL</td>\n",
              "    </tr>\n",
              "    <tr>\n",
              "      <th>1</th>\n",
              "      <td>2014</td>\n",
              "      <td>0.00043</td>\n",
              "      <td>Y01</td>\n",
              "      <td>DEATHRATE</td>\n",
              "      <td>F</td>\n",
              "      <td>AL</td>\n",
              "    </tr>\n",
              "    <tr>\n",
              "      <th>2</th>\n",
              "      <td>2015</td>\n",
              "      <td>0.00035</td>\n",
              "      <td>Y01</td>\n",
              "      <td>DEATHRATE</td>\n",
              "      <td>F</td>\n",
              "      <td>AM</td>\n",
              "    </tr>\n",
              "    <tr>\n",
              "      <th>3</th>\n",
              "      <td>2009</td>\n",
              "      <td>0.00080</td>\n",
              "      <td>Y01</td>\n",
              "      <td>DEATHRATE</td>\n",
              "      <td>F</td>\n",
              "      <td>AM</td>\n",
              "    </tr>\n",
              "    <tr>\n",
              "      <th>4</th>\n",
              "      <td>2008</td>\n",
              "      <td>0.00067</td>\n",
              "      <td>Y01</td>\n",
              "      <td>DEATHRATE</td>\n",
              "      <td>F</td>\n",
              "      <td>AM</td>\n",
              "    </tr>\n",
              "  </tbody>\n",
              "</table>\n",
              "</div>"
            ],
            "text/plain": [
              "   annee   valeur  age indicateur genre pays\n",
              "0  2015   0.00043  Y01  DEATHRATE     F   AL\n",
              "1  2014   0.00043  Y01  DEATHRATE     F   AL\n",
              "2  2015   0.00035  Y01  DEATHRATE     F   AM\n",
              "3  2009   0.00080  Y01  DEATHRATE     F   AM\n",
              "4  2008   0.00067  Y01  DEATHRATE     F   AM"
            ]
          },
          "execution_count": null,
          "metadata": {},
          "output_type": "execute_result"
        }
      ],
      "source": [
        "def format_age(s):\n",
        "    if s.startswith(\"Y_\") : \n",
        "        if s.startswith(\"Y_LT\"): s = \"Y00_LT\" + s[4:]\n",
        "        elif s.startswith(\"Y_GE\"): s = \"Y85_GE\" + s[4:]\n",
        "        else: raise FormatError(s)\n",
        "    else:\n",
        "        i = int(s.strip(\"Y\"))\n",
        "        return \"Y%02d\" % i\n",
        "    \n",
        "def format_value(s):\n",
        "    if s.strip() == \":\" : return -1\n",
        "    else : return float(s.strip(\" ebp\"))\n",
        "    \n",
        "if False:  # sur les donn\u00e9es compl\u00e8tes, c'est plut\u00f4t long, r\u00e9duire la taille pour essayer\n",
        "    dfsmall = dff.head(n = 1000) # on r\u00e9duit la taille pour \n",
        "    df = dfsmall # impl\u00e9menter la transformation\n",
        "else:\n",
        "    df = dff\n",
        "\n",
        "print(\"\u00e9tape 1\", df.shape)\n",
        "dfi = df.reset_index().set_index(\"indic_de,sex,age,geo\\\\time\")\n",
        "dfi = dfi.drop('index', axis=1)\n",
        "dfs = dfi.stack()\n",
        "dfs = pandas.DataFrame({\"valeur\": dfs } )\n",
        "\n",
        "print(\"\u00e9tape 2\", dfs.shape)\n",
        "dfs[\"valeur\"] = dfs[\"valeur\"].astype(str)\n",
        "dfs[\"valeur\"] = dfs[\"valeur\"].apply( format_value )\n",
        "dfs = dfs[ dfs.valeur >= 0 ].copy()\n",
        "dfs = dfs.reset_index()\n",
        "dfs.columns = [\"index\", \"annee\", \"valeur\"]\n",
        "\n",
        "print(\"\u00e9tape 3\", dfs.shape)\n",
        "dfs[\"age\"] = dfs[\"index\"].apply ( lambda i : format_age(i.split(\",\")[2]))\n",
        "dfs[\"indicateur\"] = dfs[\"index\"].apply ( lambda i : i.split(\",\")[0])\n",
        "dfs[\"genre\"] = dfs[\"index\"].apply ( lambda i : i.split(\",\")[1])\n",
        "dfs[\"pays\"] = dfs[\"index\"].apply ( lambda i : i.split(\",\")[3])\n",
        "\n",
        "print(\"\u00e9tape 4\")\n",
        "dfy = dfs.drop('index', axis=1)\n",
        "dfy.to_csv(\"mortalite_5column.txt\", sep=\"\\t\", encoding=\"utf8\", index=False)\n",
        "dfy.head()"
      ]
    },
    {
      "cell_type": "markdown",
      "metadata": {},
      "source": [
        "Graphe d'une coupe de la table de mortalit\u00e9 :"
      ]
    },
    {
      "cell_type": "code",
      "execution_count": null,
      "metadata": {},
      "outputs": [
        {
          "data": {
            "text/plain": [
              "<matplotlib.axes._subplots.AxesSubplot at 0x1eb3833ae10>"
            ]
          },
          "execution_count": null,
          "metadata": {},
          "output_type": "execute_result"
        },
        {
          "data": {
            "image/png": "[encoded data removed]",
            "text/plain": [
              "<matplotlib.figure.Figure at 0x1eb0811bd30>"
            ]
          },
          "metadata": {},
          "output_type": "display_data"
        }
      ],
      "source": [
        "view = dfs [    (dfs.pays==\"FR\") &\n",
        "                (dfs.age == \"Y80\") &\n",
        "                (dfs.indicateur == \"DEATHRATE\") &\n",
        "                (dfs.genre == \"T\")  ]\n",
        "view = view.sort_values(\"annee\")\n",
        "view.plot(x=\"annee\", y=\"valeur\")"
      ]
    },
    {
      "cell_type": "markdown",
      "metadata": {},
      "source": [
        "### SQLite\n",
        "\n",
        "[SQLite](http://www.sqlite.org/) est un outils de gestion de base de donn\u00e9es locales. Int\u00e9gr\u00e9 \u00e0 Python, il ne n\u00e9cessite aucune installation. Il est tr\u00e8s utile lorsque [Microsoft Excel](http://fr.wikipedia.org/wiki/Microsoft_Excel) ne peut pas contenir toutes les donn\u00e9es qu'on souhaite consulter. Plus de deux millions de lignes dans le cas de cette table."
      ]
    },
    {
      "cell_type": "markdown",
      "metadata": {},
      "source": [
        "### version 1 : pandas to SQLite\n",
        "\n",
        "On utilise pour la m\u00e9thode [to_sql](http://pandas.pydata.org/pandas-docs/dev/generated/pandas.DataFrame.to_sql.html) et le module [sqlite3](https://docs.python.org/3.4/library/sqlite3.html). Ca prend un peu de temps (deux \u00e0 trois minutes)."
      ]
    },
    {
      "cell_type": "code",
      "execution_count": null,
      "metadata": {},
      "outputs": [],
      "source": [
        "import sqlite3\n",
        "con = sqlite3.connect(\"mortalite_sqlite3_y2.db3\")\n",
        "dfy.to_sql(\"table_mortalite\",con)\n",
        "con.close()  # il faut fermer la base qui sinon reste ouverte tant que le notebook\n",
        "             # n'est pas ferm\u00e9 --> elle n'est pas modifiable pas d'autre que ce notebook"
      ]
    },
    {
      "cell_type": "code",
      "execution_count": null,
      "metadata": {},
      "outputs": [
        {
          "data": {
            "text/plain": [
              "['mortalite_sqlite3_y.db3', 'mortalite_sqlite3_y2.db3']"
            ]
          },
          "execution_count": null,
          "metadata": {},
          "output_type": "execute_result"
        }
      ],
      "source": [
        "import os\n",
        "[ _ for _ in os.listdir(\".\") if \"sqlite3\" in _ ]"
      ]
    },
    {
      "cell_type": "markdown",
      "metadata": {},
      "source": [
        "On utilise une requ\u00eate SQL pour r\u00e9cup\u00e9rer les donn\u00e9es \u00e9quivalent au code pandas cit\u00e9 ci-dessous :"
      ]
    },
    {
      "cell_type": "code",
      "execution_count": null,
      "metadata": {},
      "outputs": [],
      "source": [
        "con = sqlite3.connect(\"mortalite_sqlite3_y2.db3\")\n",
        "view = pandas.read_sql(\"\"\"SELECT * FROM table_mortalite WHERE pays==\"FR\" \n",
        "            AND age == \"Y80\" \n",
        "            AND indicateur == \"DEATHRATE\"\n",
        "            AND genre == \"T\"\n",
        "            ORDER BY annee\"\"\", con)\n",
        "con.close()"
      ]
    },
    {
      "cell_type": "code",
      "execution_count": null,
      "metadata": {},
      "outputs": [
        {
          "data": {
            "text/plain": [
              "<matplotlib.axes._subplots.AxesSubplot at 0x1eb6c3c1da0>"
            ]
          },
          "execution_count": null,
          "metadata": {},
          "output_type": "execute_result"
        },
        {
          "data": {
            "image/png": "[encoded data removed]",
            "text/plain": [
              "<matplotlib.figure.Figure at 0x1eb6c3c10b8>"
            ]
          },
          "metadata": {},
          "output_type": "display_data"
        }
      ],
      "source": [
        "view.plot(x=\"annee\", y=\"valeur\")"
      ]
    },
    {
      "cell_type": "markdown",
      "metadata": {},
      "source": [
        "### version 2 : pyensae\n",
        "\n",
        "[import_flatfile_into_database](http://www.xavierdupre.fr/app/pyensae/helpsphinx/pyensae/sql/database_helper.html) est une fonction \u00e0 utiliser lorsqu'on ne sait pas toujours quel est le s\u00e9parateur de colonnes dans le fichier \u00e0 importer. La fonction le devine pour vous ainsi que le type de chaque colonne (quand c'est possible). L'autre aspect int\u00e9ressant est qu'elle affiche son \u00e9tat d'avancement. On rep\u00e8re plus rapidement que quelque chose se passe mal. Enfin, pour les gros fichiers, la fonction ne charge pas tout le fichier en m\u00e9moire. Cela permet de placer dans une base SQLite des milliards de lignes (cela peut prendre plus d'une heure). Ce n'est pas le cas ici, c'est juste \u00e0 titre d'exemple. On stocke l'ensemble des donn\u00e9es au format SQLite 3 de fa\u00e7on \u00e0 pouvoir les consulter plus facilement."
      ]
    },
    {
      "cell_type": "code",
      "execution_count": null,
      "metadata": {},
      "outputs": [
        {
          "name": "stdout",
          "output_type": "stream",
          "text": [
            "remove  mortalite_5column\n",
            "SQL  'DROP TABLE mortalite_5column'\n",
            "  TextFile: opening file  mortalite_5column.txt\n",
            "  TextFile.guess_columns: processing file  mortalite_5column.txt\n",
            "  TextFile: opening file  mortalite_5column.txt\n",
            "  TextFile.guess_columns: using  101  lines\n",
            "  TextFile: closing file  mortalite_5column.txt\n",
            "  TextFile.guess_columns: sep  '\\t' nb cols 6  bestnb  101  more  {('\\t', 5): 101, (' ', 1): 100}\n",
            "  TextFile.guess_columns: header  True  columns  {0: ('annee', <class 'int'>), 1: ('valeur', <class 'float'>), 2: ('age', <class 'str'>), 3: ('indicateur', <class 'str'>), 4: ('genre', <class 'str'>), 5: ('pays', <class 'str'>)}\n",
            "  compiling ^(?P<annee>([-]?[1-9][0-9]*?)|(0?))\\t(?P<valeur>[-]?[0-9]*?([.][0-9]*?)?([eE][-]?[0-9]{0,4})?)\\t(?P<age>.*)\\t(?P<indicateur>.*)\\t(?P<genre>.*)\\t(?P<pays>.*)$\n",
            "  TextFile.guess_columns: regex  ^(?P<annee>([-]?[1-9][0-9]*?)|(0?))\\t(?P<valeur>[-]?[0-9]*?([.][0-9]*?)?([eE][-]?[0-9]{0,4})?)\\t(?P<age>.*)\\t(?P<indicateur>.*)\\t(?P<genre>.*)\\t(?P<pays>.*)$\n",
            "  TextFile.guess_columns: header  True  columns  {0: ('annee', <class 'int'>), 1: ('valeur', <class 'float'>), 2: ('age', (<class 'str'>, 6)), 3: ('indicateur', (<class 'str'>, 18)), 4: ('genre', (<class 'str'>, 2)), 5: ('pays', (<class 'str'>, 4))}\n",
            "  [_guess_columns] sep=['\\t']\n",
            "  TextFile: closing file  mortalite_5column.txt\n",
            "  [_guess_columns] columns_name=None\n",
            "   guess with  1001 lines\n",
            "   count_types  {0: {<class 'int'>: 1000}, 1: {<class 'float'>: 1000}, 2: {<class 'str'>: 1000}, 3: {<class 'str'>: 1000}, 4: {<class 'str'>: 1000}, 5: {<class 'str'>: 1000}}\n",
            "   columns  {0: ('annee', <class 'int'>), 1: ('valeur', <class 'float'>), 2: ('age', <class 'str'>), 3: ('indicateur', <class 'str'>), 4: ('genre', <class 'str'>), 5: ('pays', <class 'str'>)}\n",
            "   guess {0: ('annee', <class 'int'>), 1: ('valeur', <class 'float'>), 2: ('age', (<class 'str'>, 6)), 3: ('indicateur', (<class 'str'>, 18)), 4: ('genre', (<class 'str'>, 2)), 5: ('pays', (<class 'str'>, 12))}\n",
            "SQL  'CREATE TABLE mortalite_5column(annee INTEGER,'\n",
            "'       valeur FLOAT,'\n",
            "'       age TEXT,'\n",
            "'       indicateur TEXT,'\n",
            "'       genre TEXT,'\n",
            "'       pays TEXT);'\n",
            "   column_has_space False ['annee', 'valeur', 'age', 'indicateur', 'genre', 'pays']\n",
            "   changes {}\n",
            "    TextFileColumns (2): regex:  {0: ('annee', <class 'int'>), 1: ('valeur', <class 'float'>), 2: ('age', (<class 'str'>, 6)), 3: ('indicateur', (<class 'str'>, 18)), 4: ('genre', (<class 'str'>, 2)), 5: ('pays', (<class 'str'>, 12))}\n",
            "  TextFile.guess_columns: processing file  mortalite_5column.txt\n",
            "  TextFile: opening file  mortalite_5column.txt\n",
            "  TextFile.guess_columns: using  101  lines\n",
            "  TextFile: closing file  mortalite_5column.txt\n",
            "  TextFile.guess_columns: sep  '\\t' nb cols 6  bestnb  101  more  {('\\t', 5): 101, (' ', 1): 100}\n",
            "  TextFile.guess_columns: header  True  columns  {0: ('annee', <class 'int'>), 1: ('valeur', <class 'float'>), 2: ('age', <class 'str'>), 3: ('indicateur', <class 'str'>), 4: ('genre', <class 'str'>), 5: ('pays', <class 'str'>)}\n",
            "  compiling ^(?P<annee>([-]?[1-9][0-9]*?)|(0?))\\t(?P<valeur>[-]?[0-9]*?([.][0-9]*?)?([eE][-]?[0-9]{0,4})?)\\t(?P<age>.*)\\t(?P<indicateur>.*)\\t(?P<genre>.*)\\t(?P<pays>.*)$\n",
            "  TextFile.guess_columns: regex  ^(?P<annee>([-]?[1-9][0-9]*?)|(0?))\\t(?P<valeur>[-]?[0-9]*?([.][0-9]*?)?([eE][-]?[0-9]{0,4})?)\\t(?P<age>.*)\\t(?P<indicateur>.*)\\t(?P<genre>.*)\\t(?P<pays>.*)$\n",
            "  TextFile.guess_columns: header  True  columns  {0: ('annee', <class 'int'>), 1: ('valeur', <class 'float'>), 2: ('age', (<class 'str'>, 6)), 3: ('indicateur', (<class 'str'>, 18)), 4: ('genre', (<class 'str'>, 2)), 5: ('pays', (<class 'str'>, 4))}\n",
            "  TextFile: opening file  mortalite_5column.txt\n",
            "adding 100000 lines into table mortalite_5column\n",
            "adding 200000 lines into table mortalite_5column\n",
            "adding 300000 lines into table mortalite_5column\n",
            "adding 400000 lines into table mortalite_5column\n",
            "adding 500000 lines into table mortalite_5column\n",
            "adding 600000 lines into table mortalite_5column\n",
            "adding 700000 lines into table mortalite_5column\n",
            "adding 800000 lines into table mortalite_5column\n",
            "adding 900000 lines into table mortalite_5column\n",
            "adding 1000000 lines into table mortalite_5column\n",
            "adding 1100000 lines into table mortalite_5column\n",
            "adding 1200000 lines into table mortalite_5column\n",
            "adding 1300000 lines into table mortalite_5column\n",
            "adding 1400000 lines into table mortalite_5column\n",
            "adding 1500000 lines into table mortalite_5column\n",
            "adding 1600000 lines into table mortalite_5column\n",
            "adding 1700000 lines into table mortalite_5column\n",
            "adding 1800000 lines into table mortalite_5column\n",
            "  processing line  1828966  read bytes  57671680  sel  0  ratio 60.57 %\n",
            "adding 1900000 lines into table mortalite_5column\n",
            "adding 2000000 lines into table mortalite_5column\n",
            "adding 2100000 lines into table mortalite_5column\n",
            "adding 2200000 lines into table mortalite_5column\n",
            "adding 2300000 lines into table mortalite_5column\n",
            "adding 2400000 lines into table mortalite_5column\n",
            "adding 2500000 lines into table mortalite_5column\n",
            "adding 2600000 lines into table mortalite_5column\n",
            "adding 2700000 lines into table mortalite_5column\n",
            "adding 2800000 lines into table mortalite_5column\n",
            "^(?P<annee>([-]?[1-9][0-9]*?)|(0?))\\t(?P<valeur>[-]?[0-9]*?([.][0-9]*?)?([eE][-]?[0-9]{0,4})?)\\t(?P<age>.*)\\t(?P<indicateur>.*)\\t(?P<genre>.*)\\t(?P<pays>.*)$\n",
            "error regex 0 unable to interpret line  2866534 :  ''\n",
            "  TextFile: closing file  mortalite_5column.txt\n",
            "2866533  lines imported\n"
          ]
        },
        {
          "data": {
            "text/plain": [
              "'mortalite_5column'"
            ]
          },
          "execution_count": null,
          "metadata": {},
          "output_type": "execute_result"
        }
      ],
      "source": [
        "from pyensae.sql import import_flatfile_into_database\n",
        "import_flatfile_into_database(\"mortalite.db3\", \"mortalite_5column.txt\")"
      ]
    },
    {
      "cell_type": "markdown",
      "metadata": {},
      "source": [
        "Ensuite, on peut facilement consulter les donn\u00e9es avec le logiciel (sous Windows) [SQLiteSpy](http://www.yunqa.de/delphi/doku.php/products/sqlitespy/index) ou l'extension [sqlite-manager](https://addons.mozilla.org/fr/firefox/addon/sqlite-manager/) pour Firefox sous toutes les plates-formes. Pour cet exercice, on ex\u00e9cute :"
      ]
    },
    {
      "cell_type": "code",
      "execution_count": null,
      "metadata": {},
      "outputs": [
        {
          "data": {
            "text/html": [
              "<div>\n",
              "<style>\n",
              "    .dataframe thead tr:only-child th {\n",
              "        text-align: right;\n",
              "    }\n",
              "\n",
              "    .dataframe thead th {\n",
              "        text-align: left;\n",
              "    }\n",
              "\n",
              "    .dataframe tbody tr th {\n",
              "        vertical-align: top;\n",
              "    }\n",
              "</style>\n",
              "<table border=\"1\" class=\"dataframe\">\n",
              "  <thead>\n",
              "    <tr style=\"text-align: right;\">\n",
              "      <th></th>\n",
              "      <th>annee</th>\n",
              "      <th>valeur</th>\n",
              "      <th>age</th>\n",
              "      <th>indicateur</th>\n",
              "      <th>genre</th>\n",
              "      <th>pays</th>\n",
              "    </tr>\n",
              "  </thead>\n",
              "  <tbody>\n",
              "    <tr>\n",
              "      <th>0</th>\n",
              "      <td>1998</td>\n",
              "      <td>0.05303</td>\n",
              "      <td>Y80</td>\n",
              "      <td>DEATHRATE</td>\n",
              "      <td>T</td>\n",
              "      <td>FR</td>\n",
              "    </tr>\n",
              "    <tr>\n",
              "      <th>1</th>\n",
              "      <td>1999</td>\n",
              "      <td>0.04811</td>\n",
              "      <td>Y80</td>\n",
              "      <td>DEATHRATE</td>\n",
              "      <td>T</td>\n",
              "      <td>FR</td>\n",
              "    </tr>\n",
              "    <tr>\n",
              "      <th>2</th>\n",
              "      <td>2000</td>\n",
              "      <td>0.05344</td>\n",
              "      <td>Y80</td>\n",
              "      <td>DEATHRATE</td>\n",
              "      <td>T</td>\n",
              "      <td>FR</td>\n",
              "    </tr>\n",
              "    <tr>\n",
              "      <th>3</th>\n",
              "      <td>2001</td>\n",
              "      <td>0.05016</td>\n",
              "      <td>Y80</td>\n",
              "      <td>DEATHRATE</td>\n",
              "      <td>T</td>\n",
              "      <td>FR</td>\n",
              "    </tr>\n",
              "    <tr>\n",
              "      <th>4</th>\n",
              "      <td>2002</td>\n",
              "      <td>0.04915</td>\n",
              "      <td>Y80</td>\n",
              "      <td>DEATHRATE</td>\n",
              "      <td>T</td>\n",
              "      <td>FR</td>\n",
              "    </tr>\n",
              "    <tr>\n",
              "      <th>5</th>\n",
              "      <td>2003</td>\n",
              "      <td>0.04946</td>\n",
              "      <td>Y80</td>\n",
              "      <td>DEATHRATE</td>\n",
              "      <td>T</td>\n",
              "      <td>FR</td>\n",
              "    </tr>\n",
              "    <tr>\n",
              "      <th>6</th>\n",
              "      <td>2004</td>\n",
              "      <td>0.04507</td>\n",
              "      <td>Y80</td>\n",
              "      <td>DEATHRATE</td>\n",
              "      <td>T</td>\n",
              "      <td>FR</td>\n",
              "    </tr>\n",
              "    <tr>\n",
              "      <th>7</th>\n",
              "      <td>2005</td>\n",
              "      <td>0.04542</td>\n",
              "      <td>Y80</td>\n",
              "      <td>DEATHRATE</td>\n",
              "      <td>T</td>\n",
              "      <td>FR</td>\n",
              "    </tr>\n",
              "    <tr>\n",
              "      <th>8</th>\n",
              "      <td>2006</td>\n",
              "      <td>0.04294</td>\n",
              "      <td>Y80</td>\n",
              "      <td>DEATHRATE</td>\n",
              "      <td>T</td>\n",
              "      <td>FR</td>\n",
              "    </tr>\n",
              "    <tr>\n",
              "      <th>9</th>\n",
              "      <td>2007</td>\n",
              "      <td>0.04258</td>\n",
              "      <td>Y80</td>\n",
              "      <td>DEATHRATE</td>\n",
              "      <td>T</td>\n",
              "      <td>FR</td>\n",
              "    </tr>\n",
              "    <tr>\n",
              "      <th>10</th>\n",
              "      <td>2008</td>\n",
              "      <td>0.04180</td>\n",
              "      <td>Y80</td>\n",
              "      <td>DEATHRATE</td>\n",
              "      <td>T</td>\n",
              "      <td>FR</td>\n",
              "    </tr>\n",
              "    <tr>\n",
              "      <th>11</th>\n",
              "      <td>2009</td>\n",
              "      <td>0.04041</td>\n",
              "      <td>Y80</td>\n",
              "      <td>DEATHRATE</td>\n",
              "      <td>T</td>\n",
              "      <td>FR</td>\n",
              "    </tr>\n",
              "    <tr>\n",
              "      <th>12</th>\n",
              "      <td>2010</td>\n",
              "      <td>0.03992</td>\n",
              "      <td>Y80</td>\n",
              "      <td>DEATHRATE</td>\n",
              "      <td>T</td>\n",
              "      <td>FR</td>\n",
              "    </tr>\n",
              "    <tr>\n",
              "      <th>13</th>\n",
              "      <td>2011</td>\n",
              "      <td>0.03807</td>\n",
              "      <td>Y80</td>\n",
              "      <td>DEATHRATE</td>\n",
              "      <td>T</td>\n",
              "      <td>FR</td>\n",
              "    </tr>\n",
              "    <tr>\n",
              "      <th>14</th>\n",
              "      <td>2012</td>\n",
              "      <td>0.03823</td>\n",
              "      <td>Y80</td>\n",
              "      <td>DEATHRATE</td>\n",
              "      <td>T</td>\n",
              "      <td>FR</td>\n",
              "    </tr>\n",
              "    <tr>\n",
              "      <th>15</th>\n",
              "      <td>2013</td>\n",
              "      <td>0.03732</td>\n",
              "      <td>Y80</td>\n",
              "      <td>DEATHRATE</td>\n",
              "      <td>T</td>\n",
              "      <td>FR</td>\n",
              "    </tr>\n",
              "    <tr>\n",
              "      <th>16</th>\n",
              "      <td>2014</td>\n",
              "      <td>0.03541</td>\n",
              "      <td>Y80</td>\n",
              "      <td>DEATHRATE</td>\n",
              "      <td>T</td>\n",
              "      <td>FR</td>\n",
              "    </tr>\n",
              "    <tr>\n",
              "      <th>17</th>\n",
              "      <td>2015</td>\n",
              "      <td>0.03656</td>\n",
              "      <td>Y80</td>\n",
              "      <td>DEATHRATE</td>\n",
              "      <td>T</td>\n",
              "      <td>FR</td>\n",
              "    </tr>\n",
              "  </tbody>\n",
              "</table>\n",
              "</div>"
            ],
            "text/plain": [
              "    annee   valeur  age indicateur genre pays\n",
              "0    1998  0.05303  Y80  DEATHRATE     T   FR\n",
              "1    1999  0.04811  Y80  DEATHRATE     T   FR\n",
              "2    2000  0.05344  Y80  DEATHRATE     T   FR\n",
              "3    2001  0.05016  Y80  DEATHRATE     T   FR\n",
              "4    2002  0.04915  Y80  DEATHRATE     T   FR\n",
              "5    2003  0.04946  Y80  DEATHRATE     T   FR\n",
              "6    2004  0.04507  Y80  DEATHRATE     T   FR\n",
              "7    2005  0.04542  Y80  DEATHRATE     T   FR\n",
              "8    2006  0.04294  Y80  DEATHRATE     T   FR\n",
              "9    2007  0.04258  Y80  DEATHRATE     T   FR\n",
              "10   2008  0.04180  Y80  DEATHRATE     T   FR\n",
              "11   2009  0.04041  Y80  DEATHRATE     T   FR\n",
              "12   2010  0.03992  Y80  DEATHRATE     T   FR\n",
              "13   2011  0.03807  Y80  DEATHRATE     T   FR\n",
              "14   2012  0.03823  Y80  DEATHRATE     T   FR\n",
              "15   2013  0.03732  Y80  DEATHRATE     T   FR\n",
              "16   2014  0.03541  Y80  DEATHRATE     T   FR\n",
              "17   2015  0.03656  Y80  DEATHRATE     T   FR"
            ]
          },
          "execution_count": null,
          "metadata": {},
          "output_type": "execute_result"
        }
      ],
      "source": [
        "sql = \"\"\"SELECT * FROM mortalite_5column WHERE pays==\"FR\" \n",
        "            AND age == \"Y80\" \n",
        "            AND indicateur == \"DEATHRATE\"\n",
        "            AND genre == \"T\"\n",
        "            ORDER BY annee\"\"\"\n",
        "\n",
        "from pyensae.sql import Database\n",
        "db = Database(\"mortalite.db3\", LOG = lambda *l : None)\n",
        "db.connect()\n",
        "view = db.to_df(sql)\n",
        "view"
      ]
    },
    {
      "cell_type": "markdown",
      "metadata": {},
      "source": [
        "Visuellement, cela donne :"
      ]
    },
    {
      "cell_type": "code",
      "execution_count": null,
      "metadata": {},
      "outputs": [
        {
          "data": {
            "text/plain": [
              "<matplotlib.axes._subplots.AxesSubplot at 0x1eb1454ce10>"
            ]
          },
          "execution_count": null,
          "metadata": {},
          "output_type": "execute_result"
        },
        {
          "data": {
            "image/png": "[encoded data removed]",
            "text/plain": [
              "<matplotlib.figure.Figure at 0x1eb754b52b0>"
            ]
          },
          "metadata": {},
          "output_type": "display_data"
        }
      ],
      "source": [
        "view.plot(x=\"annee\", y=\"valeur\")"
      ]
    },
    {
      "cell_type": "markdown",
      "metadata": {},
      "source": [
        "## Cube de donn\u00e9es\n",
        "\n",
        "On utilise l'expression *cube de donn\u00e9es* pour d\u00e9signer \u00e0 tableaux \u00e0 plusieurs dimensions. On le repr\u00e9sente souvent par une liste ``coordonn\u00e9es, valeurs``. C'est souvent beaucoup de donn\u00e9es et pas forc\u00e9ment de moyen pratique de les manipuler. On utilise le module [xarray](http://xarray.pydata.org/en/stable/). [pandas](https://pandas.pydata.org/pandas-docs/stable/) propose automatiquement d'exporter les donn\u00e9es vers ce module avec [to_xarray](https://pandas.pydata.org/pandas-docs/stable/generated/pandas.DataFrame.to_xarray.html#pandas-dataframe-to-xarray)."
      ]
    },
    {
      "cell_type": "code",
      "execution_count": null,
      "metadata": {},
      "outputs": [
        {
          "data": {
            "text/plain": [
              "(2866533, 6)"
            ]
          },
          "execution_count": null,
          "metadata": {},
          "output_type": "execute_result"
        }
      ],
      "source": [
        "import pandas \n",
        "df = pandas.read_csv(\"mortalite_5column.txt\", sep=\"\\t\", encoding=\"utf8\")\n",
        "df.shape"
      ]
    },
    {
      "cell_type": "code",
      "execution_count": null,
      "metadata": {},
      "outputs": [
        {
          "data": {
            "text/html": [
              "<div>\n",
              "<style>\n",
              "    .dataframe thead tr:only-child th {\n",
              "        text-align: right;\n",
              "    }\n",
              "\n",
              "    .dataframe thead th {\n",
              "        text-align: left;\n",
              "    }\n",
              "\n",
              "    .dataframe tbody tr th {\n",
              "        vertical-align: top;\n",
              "    }\n",
              "</style>\n",
              "<table border=\"1\" class=\"dataframe\">\n",
              "  <thead>\n",
              "    <tr style=\"text-align: right;\">\n",
              "      <th></th>\n",
              "      <th>annee</th>\n",
              "      <th>valeur</th>\n",
              "      <th>age</th>\n",
              "      <th>indicateur</th>\n",
              "      <th>genre</th>\n",
              "      <th>pays</th>\n",
              "    </tr>\n",
              "  </thead>\n",
              "  <tbody>\n",
              "    <tr>\n",
              "      <th>0</th>\n",
              "      <td>2015</td>\n",
              "      <td>0.00043</td>\n",
              "      <td>Y01</td>\n",
              "      <td>DEATHRATE</td>\n",
              "      <td>F</td>\n",
              "      <td>AL</td>\n",
              "    </tr>\n",
              "    <tr>\n",
              "      <th>1</th>\n",
              "      <td>2014</td>\n",
              "      <td>0.00043</td>\n",
              "      <td>Y01</td>\n",
              "      <td>DEATHRATE</td>\n",
              "      <td>F</td>\n",
              "      <td>AL</td>\n",
              "    </tr>\n",
              "  </tbody>\n",
              "</table>\n",
              "</div>"
            ],
            "text/plain": [
              "   annee   valeur  age indicateur genre pays\n",
              "0   2015  0.00043  Y01  DEATHRATE     F   AL\n",
              "1   2014  0.00043  Y01  DEATHRATE     F   AL"
            ]
          },
          "execution_count": null,
          "metadata": {},
          "output_type": "execute_result"
        }
      ],
      "source": [
        "df.head(n=2)"
      ]
    },
    {
      "cell_type": "markdown",
      "metadata": {},
      "source": [
        "On passe du c\u00f4t\u00e9 *index* toutes les colonnes except\u00e9 *valeur*."
      ]
    },
    {
      "cell_type": "code",
      "execution_count": null,
      "metadata": {},
      "outputs": [
        {
          "data": {
            "text/plain": [
              "['annee', 'age', 'indicateur', 'genre', 'pays']"
            ]
          },
          "execution_count": null,
          "metadata": {},
          "output_type": "execute_result"
        }
      ],
      "source": [
        "cols = [_ for _ in df.columns if _ != \"valeur\"]\n",
        "cols"
      ]
    },
    {
      "cell_type": "markdown",
      "metadata": {},
      "source": [
        "On laisse tomber les valeurs manquantes."
      ]
    },
    {
      "cell_type": "code",
      "execution_count": null,
      "metadata": {},
      "outputs": [
        {
          "data": {
            "text/plain": [
              "(2866533, 6)"
            ]
          },
          "execution_count": null,
          "metadata": {},
          "output_type": "execute_result"
        }
      ],
      "source": [
        "df.shape"
      ]
    },
    {
      "cell_type": "code",
      "execution_count": null,
      "metadata": {},
      "outputs": [
        {
          "data": {
            "text/plain": [
              "(2799837, 6)"
            ]
          },
          "execution_count": null,
          "metadata": {},
          "output_type": "execute_result"
        }
      ],
      "source": [
        "df = df.dropna()\n",
        "df.shape"
      ]
    },
    {
      "cell_type": "markdown",
      "metadata": {},
      "source": [
        "On v\u00e9rifie qu'il n'y a pas de doublons car la conversion en *cube* ne fonctionne pas dans ce cas puisque deux valeurs seraient index\u00e9es avec les m\u00eames coordonn\u00e9es."
      ]
    },
    {
      "cell_type": "code",
      "execution_count": null,
      "metadata": {},
      "outputs": [
        {
          "data": {
            "text/html": [
              "<div>\n",
              "<style>\n",
              "    .dataframe thead tr:only-child th {\n",
              "        text-align: right;\n",
              "    }\n",
              "\n",
              "    .dataframe thead th {\n",
              "        text-align: left;\n",
              "    }\n",
              "\n",
              "    .dataframe tbody tr th {\n",
              "        vertical-align: top;\n",
              "    }\n",
              "</style>\n",
              "<table border=\"1\" class=\"dataframe\">\n",
              "  <thead>\n",
              "    <tr style=\"text-align: right;\">\n",
              "      <th></th>\n",
              "      <th></th>\n",
              "      <th></th>\n",
              "      <th></th>\n",
              "      <th></th>\n",
              "      <th>valeur</th>\n",
              "    </tr>\n",
              "    <tr>\n",
              "      <th>annee</th>\n",
              "      <th>age</th>\n",
              "      <th>indicateur</th>\n",
              "      <th>genre</th>\n",
              "      <th>pays</th>\n",
              "      <th></th>\n",
              "    </tr>\n",
              "  </thead>\n",
              "  <tbody>\n",
              "  </tbody>\n",
              "</table>\n",
              "</div>"
            ],
            "text/plain": [
              "Empty DataFrame\n",
              "Columns: [valeur]\n",
              "Index: []"
            ]
          },
          "execution_count": null,
          "metadata": {},
          "output_type": "execute_result"
        }
      ],
      "source": [
        "dup = df.groupby(cols).count().sort_values(\"valeur\", ascending=False)\n",
        "dup = dup[dup.valeur > 1]\n",
        "dup.head(n=2)"
      ]
    },
    {
      "cell_type": "code",
      "execution_count": null,
      "metadata": {},
      "outputs": [
        {
          "data": {
            "text/plain": [
              "(0, 1)"
            ]
          },
          "execution_count": null,
          "metadata": {},
          "output_type": "execute_result"
        }
      ],
      "source": [
        "dup.shape"
      ]
    },
    {
      "cell_type": "code",
      "execution_count": null,
      "metadata": {
        "scrolled": false
      },
      "outputs": [
        {
          "data": {
            "text/html": [
              "<div>\n",
              "<style>\n",
              "    .dataframe thead tr:only-child th {\n",
              "        text-align: right;\n",
              "    }\n",
              "\n",
              "    .dataframe thead th {\n",
              "        text-align: left;\n",
              "    }\n",
              "\n",
              "    .dataframe tbody tr th {\n",
              "        vertical-align: top;\n",
              "    }\n",
              "</style>\n",
              "<table border=\"1\" class=\"dataframe\">\n",
              "  <thead>\n",
              "    <tr style=\"text-align: right;\">\n",
              "      <th></th>\n",
              "      <th></th>\n",
              "      <th></th>\n",
              "      <th></th>\n",
              "      <th></th>\n",
              "      <th>valeur</th>\n",
              "    </tr>\n",
              "    <tr>\n",
              "      <th>annee</th>\n",
              "      <th>age</th>\n",
              "      <th>indicateur</th>\n",
              "      <th>genre</th>\n",
              "      <th>pays</th>\n",
              "      <th></th>\n",
              "    </tr>\n",
              "  </thead>\n",
              "  <tbody>\n",
              "    <tr>\n",
              "      <th>2015</th>\n",
              "      <th>Y01</th>\n",
              "      <th>DEATHRATE</th>\n",
              "      <th>F</th>\n",
              "      <th>AL</th>\n",
              "      <td>0.00043</td>\n",
              "    </tr>\n",
              "    <tr>\n",
              "      <th>2014</th>\n",
              "      <th>Y01</th>\n",
              "      <th>DEATHRATE</th>\n",
              "      <th>F</th>\n",
              "      <th>AL</th>\n",
              "      <td>0.00043</td>\n",
              "    </tr>\n",
              "  </tbody>\n",
              "</table>\n",
              "</div>"
            ],
            "text/plain": [
              "                                  valeur\n",
              "annee age indicateur genre pays         \n",
              "2015  Y01 DEATHRATE  F     AL    0.00043\n",
              "2014  Y01 DEATHRATE  F     AL    0.00043"
            ]
          },
          "execution_count": null,
          "metadata": {},
          "output_type": "execute_result"
        }
      ],
      "source": [
        "dfi = df.set_index(cols, verify_integrity=True)\n",
        "dfi.head(n=2)"
      ]
    },
    {
      "cell_type": "code",
      "execution_count": null,
      "metadata": {},
      "outputs": [
        {
          "data": {
            "text/plain": [
              "pandas.core.indexes.multi.MultiIndex"
            ]
          },
          "execution_count": null,
          "metadata": {},
          "output_type": "execute_result"
        }
      ],
      "source": [
        "type(dfi.index)"
      ]
    },
    {
      "cell_type": "markdown",
      "metadata": {},
      "source": [
        "On v\u00e9rifie que [xarray]() est install\u00e9."
      ]
    },
    {
      "cell_type": "code",
      "execution_count": null,
      "metadata": {
        "collapsed": true
      },
      "outputs": [],
      "source": [
        "import xarray"
      ]
    },
    {
      "cell_type": "markdown",
      "metadata": {},
      "source": [
        "Et on convertit en cube."
      ]
    },
    {
      "cell_type": "code",
      "execution_count": null,
      "metadata": {},
      "outputs": [],
      "source": [
        "cube = xarray.Dataset.from_dataframe(dfi) # ou dfi.to_xarray()"
      ]
    },
    {
      "cell_type": "code",
      "execution_count": null,
      "metadata": {},
      "outputs": [
        {
          "data": {
            "text/plain": [
              "<xarray.Dataset>\n",
              "Dimensions:     (age: 84, annee: 56, genre: 3, indicateur: 7, pays: 54)\n",
              "Coordinates:\n",
              "  * annee       (annee) int64 1960 1961 1962 1963 1964 1965 1966 1967 1968 ...\n",
              "  * age         (age) object 'Y01' 'Y02' 'Y03' 'Y04' 'Y05' 'Y06' 'Y07' 'Y08' ...\n",
              "  * indicateur  (indicateur) object 'DEATHRATE' 'LIFEXP' 'PROBDEATH' ...\n",
              "  * genre       (genre) object 'F' 'M' 'T'\n",
              "  * pays        (pays) object 'AL' 'AM' 'AT' 'AZ' 'BE' 'BG' 'BY' 'CH' 'CY' ...\n",
              "Data variables:\n",
              "    valeur      (annee, age, indicateur, genre, pays) float64 nan nan nan ..."
            ]
          },
          "execution_count": null,
          "metadata": {},
          "output_type": "execute_result"
        }
      ],
      "source": [
        "cube"
      ]
    },
    {
      "cell_type": "code",
      "execution_count": null,
      "metadata": {},
      "outputs": [
        {
          "data": {
            "text/html": [
              "<div>\n",
              "<style>\n",
              "    .dataframe thead tr:only-child th {\n",
              "        text-align: right;\n",
              "    }\n",
              "\n",
              "    .dataframe thead th {\n",
              "        text-align: left;\n",
              "    }\n",
              "\n",
              "    .dataframe tbody tr th {\n",
              "        vertical-align: top;\n",
              "    }\n",
              "</style>\n",
              "<table border=\"1\" class=\"dataframe\">\n",
              "  <thead>\n",
              "    <tr style=\"text-align: right;\">\n",
              "      <th></th>\n",
              "      <th>valeur</th>\n",
              "    </tr>\n",
              "  </thead>\n",
              "  <tbody>\n",
              "    <tr>\n",
              "      <th>0</th>\n",
              "      <td>NaN</td>\n",
              "    </tr>\n",
              "    <tr>\n",
              "      <th>1</th>\n",
              "      <td>NaN</td>\n",
              "    </tr>\n",
              "  </tbody>\n",
              "</table>\n",
              "</div>"
            ],
            "text/plain": [
              "   valeur\n",
              "0     NaN\n",
              "1     NaN"
            ]
          },
          "execution_count": null,
          "metadata": {},
          "output_type": "execute_result"
        }
      ],
      "source": [
        "back_to_pandas = cube.to_dataframe().reset_index(drop=True)\n",
        "back_to_pandas.head(n=2)"
      ]
    },
    {
      "cell_type": "markdown",
      "metadata": {},
      "source": [
        "Et on prend le maximum par *indicateur* et *genre*."
      ]
    },
    {
      "cell_type": "code",
      "execution_count": null,
      "metadata": {},
      "outputs": [
        {
          "data": {
            "text/html": [
              "<div>\n",
              "<style>\n",
              "    .dataframe thead tr:only-child th {\n",
              "        text-align: right;\n",
              "    }\n",
              "\n",
              "    .dataframe thead th {\n",
              "        text-align: left;\n",
              "    }\n",
              "\n",
              "    .dataframe tbody tr th {\n",
              "        vertical-align: top;\n",
              "    }\n",
              "</style>\n",
              "<table border=\"1\" class=\"dataframe\">\n",
              "  <thead>\n",
              "    <tr style=\"text-align: right;\">\n",
              "      <th>genre</th>\n",
              "      <th>F</th>\n",
              "      <th>M</th>\n",
              "      <th>T</th>\n",
              "    </tr>\n",
              "    <tr>\n",
              "      <th>indicateur</th>\n",
              "      <th></th>\n",
              "      <th></th>\n",
              "      <th></th>\n",
              "    </tr>\n",
              "  </thead>\n",
              "  <tbody>\n",
              "    <tr>\n",
              "      <th>DEATHRATE</th>\n",
              "      <td>9.978600e-01</td>\n",
              "      <td>1.130040e+00</td>\n",
              "      <td>1.040580e+00</td>\n",
              "    </tr>\n",
              "    <tr>\n",
              "      <th>LIFEXP</th>\n",
              "      <td>8.580000e+01</td>\n",
              "      <td>8.310000e+01</td>\n",
              "      <td>8.460000e+01</td>\n",
              "    </tr>\n",
              "    <tr>\n",
              "      <th>PROBDEATH</th>\n",
              "      <td>6.657100e-01</td>\n",
              "      <td>7.220600e-01</td>\n",
              "      <td>6.844600e-01</td>\n",
              "    </tr>\n",
              "    <tr>\n",
              "      <th>PROBSURV</th>\n",
              "      <td>1.000000e+00</td>\n",
              "      <td>1.000000e+00</td>\n",
              "      <td>1.000000e+00</td>\n",
              "    </tr>\n",
              "    <tr>\n",
              "      <th>PYLIVED</th>\n",
              "      <td>1.000000e+05</td>\n",
              "      <td>1.000000e+05</td>\n",
              "      <td>1.000000e+05</td>\n",
              "    </tr>\n",
              "    <tr>\n",
              "      <th>SURVIVORS</th>\n",
              "      <td>1.000000e+05</td>\n",
              "      <td>1.000000e+05</td>\n",
              "      <td>1.000000e+05</td>\n",
              "    </tr>\n",
              "    <tr>\n",
              "      <th>TOTPYLIVED</th>\n",
              "      <td>8.583361e+06</td>\n",
              "      <td>8.307177e+06</td>\n",
              "      <td>8.456903e+06</td>\n",
              "    </tr>\n",
              "  </tbody>\n",
              "</table>\n",
              "</div>"
            ],
            "text/plain": [
              "genre                  F             M             T\n",
              "indicateur                                          \n",
              "DEATHRATE   9.978600e-01  1.130040e+00  1.040580e+00\n",
              "LIFEXP      8.580000e+01  8.310000e+01  8.460000e+01\n",
              "PROBDEATH   6.657100e-01  7.220600e-01  6.844600e-01\n",
              "PROBSURV    1.000000e+00  1.000000e+00  1.000000e+00\n",
              "PYLIVED     1.000000e+05  1.000000e+05  1.000000e+05\n",
              "SURVIVORS   1.000000e+05  1.000000e+05  1.000000e+05\n",
              "TOTPYLIVED  8.583361e+06  8.307177e+06  8.456903e+06"
            ]
          },
          "execution_count": null,
          "metadata": {},
          "output_type": "execute_result"
        }
      ],
      "source": [
        "cube.max(dim=[\"age\", \"annee\", \"pays\"]).to_dataframe().reset_index().pivot(\"indicateur\", \"genre\", \"valeur\")"
      ]
    },
    {
      "cell_type": "code",
      "execution_count": null,
      "metadata": {},
      "outputs": [
        {
          "data": {
            "text/html": [
              "<div>\n",
              "<style>\n",
              "    .dataframe thead tr:only-child th {\n",
              "        text-align: right;\n",
              "    }\n",
              "\n",
              "    .dataframe thead th {\n",
              "        text-align: left;\n",
              "    }\n",
              "\n",
              "    .dataframe tbody tr th {\n",
              "        vertical-align: top;\n",
              "    }\n",
              "</style>\n",
              "<table border=\"1\" class=\"dataframe\">\n",
              "  <thead>\n",
              "    <tr style=\"text-align: right;\">\n",
              "      <th></th>\n",
              "      <th>valeur</th>\n",
              "    </tr>\n",
              "    <tr>\n",
              "      <th>indicateur</th>\n",
              "      <th></th>\n",
              "    </tr>\n",
              "  </thead>\n",
              "  <tbody>\n",
              "    <tr>\n",
              "      <th>DEATHRATE</th>\n",
              "      <td>1.13004</td>\n",
              "    </tr>\n",
              "    <tr>\n",
              "      <th>LIFEXP</th>\n",
              "      <td>85.80000</td>\n",
              "    </tr>\n",
              "    <tr>\n",
              "      <th>PROBDEATH</th>\n",
              "      <td>0.72206</td>\n",
              "    </tr>\n",
              "    <tr>\n",
              "      <th>PROBSURV</th>\n",
              "      <td>1.00000</td>\n",
              "    </tr>\n",
              "    <tr>\n",
              "      <th>PYLIVED</th>\n",
              "      <td>100000.00000</td>\n",
              "    </tr>\n",
              "  </tbody>\n",
              "</table>\n",
              "</div>"
            ],
            "text/plain": [
              "                  valeur\n",
              "indicateur              \n",
              "DEATHRATE        1.13004\n",
              "LIFEXP          85.80000\n",
              "PROBDEATH        0.72206\n",
              "PROBSURV         1.00000\n",
              "PYLIVED     100000.00000"
            ]
          },
          "execution_count": null,
          "metadata": {},
          "output_type": "execute_result"
        }
      ],
      "source": [
        "cube.groupby(\"indicateur\").max().to_dataframe().head()"
      ]
    },
    {
      "cell_type": "code",
      "execution_count": null,
      "metadata": {},
      "outputs": [
        {
          "data": {
            "text/html": [
              "<div>\n",
              "<style>\n",
              "    .dataframe thead tr:only-child th {\n",
              "        text-align: right;\n",
              "    }\n",
              "\n",
              "    .dataframe thead th {\n",
              "        text-align: left;\n",
              "    }\n",
              "\n",
              "    .dataframe tbody tr th {\n",
              "        vertical-align: top;\n",
              "    }\n",
              "</style>\n",
              "<table border=\"1\" class=\"dataframe\">\n",
              "  <thead>\n",
              "    <tr style=\"text-align: right;\">\n",
              "      <th></th>\n",
              "      <th></th>\n",
              "      <th></th>\n",
              "      <th>valeur</th>\n",
              "      <th>genre</th>\n",
              "      <th>indicateur</th>\n",
              "    </tr>\n",
              "    <tr>\n",
              "      <th>annee</th>\n",
              "      <th>age</th>\n",
              "      <th>pays</th>\n",
              "      <th></th>\n",
              "      <th></th>\n",
              "      <th></th>\n",
              "    </tr>\n",
              "  </thead>\n",
              "  <tbody>\n",
              "    <tr>\n",
              "      <th rowspan=\"5\" valign=\"top\">1980</th>\n",
              "      <th rowspan=\"5\" valign=\"top\">Y01</th>\n",
              "      <th>AL</th>\n",
              "      <td>NaN</td>\n",
              "      <td>F</td>\n",
              "      <td>LIFEXP</td>\n",
              "    </tr>\n",
              "    <tr>\n",
              "      <th>AM</th>\n",
              "      <td>NaN</td>\n",
              "      <td>F</td>\n",
              "      <td>LIFEXP</td>\n",
              "    </tr>\n",
              "    <tr>\n",
              "      <th>AT</th>\n",
              "      <td>76.1</td>\n",
              "      <td>F</td>\n",
              "      <td>LIFEXP</td>\n",
              "    </tr>\n",
              "    <tr>\n",
              "      <th>AZ</th>\n",
              "      <td>NaN</td>\n",
              "      <td>F</td>\n",
              "      <td>LIFEXP</td>\n",
              "    </tr>\n",
              "    <tr>\n",
              "      <th>BE</th>\n",
              "      <td>76.5</td>\n",
              "      <td>F</td>\n",
              "      <td>LIFEXP</td>\n",
              "    </tr>\n",
              "  </tbody>\n",
              "</table>\n",
              "</div>"
            ],
            "text/plain": [
              "                valeur genre indicateur\n",
              "annee age pays                         \n",
              "1980  Y01 AL       NaN     F     LIFEXP\n",
              "          AM       NaN     F     LIFEXP\n",
              "          AT      76.1     F     LIFEXP\n",
              "          AZ       NaN     F     LIFEXP\n",
              "          BE      76.5     F     LIFEXP"
            ]
          },
          "execution_count": null,
          "metadata": {},
          "output_type": "execute_result"
        }
      ],
      "source": [
        "cube[\"valeur\"].sel(indicateur=\"LIFEXP\", genre=\"F\", annee=slice(1980, 1985)).to_dataframe().head()"
      ]
    },
    {
      "cell_type": "code",
      "execution_count": null,
      "metadata": {},
      "outputs": [
        {
          "data": {
            "text/html": [
              "<div>\n",
              "<style>\n",
              "    .dataframe thead tr:only-child th {\n",
              "        text-align: right;\n",
              "    }\n",
              "\n",
              "    .dataframe thead th {\n",
              "        text-align: left;\n",
              "    }\n",
              "\n",
              "    .dataframe tbody tr th {\n",
              "        vertical-align: top;\n",
              "    }\n",
              "</style>\n",
              "<table border=\"1\" class=\"dataframe\">\n",
              "  <thead>\n",
              "    <tr style=\"text-align: right;\">\n",
              "      <th></th>\n",
              "      <th></th>\n",
              "      <th></th>\n",
              "      <th></th>\n",
              "      <th>valeur</th>\n",
              "    </tr>\n",
              "    <tr>\n",
              "      <th>annee</th>\n",
              "      <th>indicateur</th>\n",
              "      <th>genre</th>\n",
              "      <th>pays</th>\n",
              "      <th></th>\n",
              "    </tr>\n",
              "  </thead>\n",
              "  <tbody>\n",
              "    <tr>\n",
              "      <th rowspan=\"5\" valign=\"top\">1960</th>\n",
              "      <th rowspan=\"5\" valign=\"top\">DEATHRATE</th>\n",
              "      <th rowspan=\"5\" valign=\"top\">F</th>\n",
              "      <th>AL</th>\n",
              "      <td>NaN</td>\n",
              "    </tr>\n",
              "    <tr>\n",
              "      <th>AM</th>\n",
              "      <td>NaN</td>\n",
              "    </tr>\n",
              "    <tr>\n",
              "      <th>AT</th>\n",
              "      <td>NaN</td>\n",
              "    </tr>\n",
              "    <tr>\n",
              "      <th>AZ</th>\n",
              "      <td>NaN</td>\n",
              "    </tr>\n",
              "    <tr>\n",
              "      <th>BE</th>\n",
              "      <td>0.15967</td>\n",
              "    </tr>\n",
              "  </tbody>\n",
              "</table>\n",
              "</div>"
            ],
            "text/plain": [
              "                              valeur\n",
              "annee indicateur genre pays         \n",
              "1960  DEATHRATE  F     AL        NaN\n",
              "                       AM        NaN\n",
              "                       AT        NaN\n",
              "                       AZ        NaN\n",
              "                       BE    0.15967"
            ]
          },
          "execution_count": null,
          "metadata": {},
          "output_type": "execute_result"
        }
      ],
      "source": [
        "cube[\"valeur\"].max(dim=[\"age\"]).to_dataframe().head()"
      ]
    },
    {
      "cell_type": "markdown",
      "metadata": {},
      "source": [
        "On ajoute une colonne avec un ratio o\u00f9 on divise par le maximum sur une classe d'\u00e2ge."
      ]
    },
    {
      "cell_type": "code",
      "execution_count": null,
      "metadata": {
        "collapsed": true
      },
      "outputs": [],
      "source": [
        "cube[\"max_valeur\"] = cube[\"valeur\"] / cube[\"valeur\"].max(dim=[\"age\"])"
      ]
    },
    {
      "cell_type": "code",
      "execution_count": null,
      "metadata": {},
      "outputs": [
        {
          "data": {
            "text/html": [
              "<div>\n",
              "<style>\n",
              "    .dataframe thead tr:only-child th {\n",
              "        text-align: right;\n",
              "    }\n",
              "\n",
              "    .dataframe thead th {\n",
              "        text-align: left;\n",
              "    }\n",
              "\n",
              "    .dataframe tbody tr th {\n",
              "        vertical-align: top;\n",
              "    }\n",
              "</style>\n",
              "<table border=\"1\" class=\"dataframe\">\n",
              "  <thead>\n",
              "    <tr style=\"text-align: right;\">\n",
              "      <th></th>\n",
              "      <th></th>\n",
              "      <th></th>\n",
              "      <th></th>\n",
              "      <th></th>\n",
              "      <th>max_valeur</th>\n",
              "      <th>valeur</th>\n",
              "    </tr>\n",
              "    <tr>\n",
              "      <th>age</th>\n",
              "      <th>annee</th>\n",
              "      <th>genre</th>\n",
              "      <th>indicateur</th>\n",
              "      <th>pays</th>\n",
              "      <th></th>\n",
              "      <th></th>\n",
              "    </tr>\n",
              "  </thead>\n",
              "  <tbody>\n",
              "    <tr>\n",
              "      <th rowspan=\"5\" valign=\"top\">Y01</th>\n",
              "      <th rowspan=\"5\" valign=\"top\">1960</th>\n",
              "      <th rowspan=\"5\" valign=\"top\">F</th>\n",
              "      <th rowspan=\"5\" valign=\"top\">DEATHRATE</th>\n",
              "      <th>AL</th>\n",
              "      <td>NaN</td>\n",
              "      <td>NaN</td>\n",
              "    </tr>\n",
              "    <tr>\n",
              "      <th>AM</th>\n",
              "      <td>NaN</td>\n",
              "      <td>NaN</td>\n",
              "    </tr>\n",
              "    <tr>\n",
              "      <th>AT</th>\n",
              "      <td>NaN</td>\n",
              "      <td>NaN</td>\n",
              "    </tr>\n",
              "    <tr>\n",
              "      <th>AZ</th>\n",
              "      <td>NaN</td>\n",
              "      <td>NaN</td>\n",
              "    </tr>\n",
              "    <tr>\n",
              "      <th>BE</th>\n",
              "      <td>0.009958</td>\n",
              "      <td>0.00159</td>\n",
              "    </tr>\n",
              "  </tbody>\n",
              "</table>\n",
              "</div>"
            ],
            "text/plain": [
              "                                 max_valeur   valeur\n",
              "age annee genre indicateur pays                     \n",
              "Y01 1960  F     DEATHRATE  AL           NaN      NaN\n",
              "                           AM           NaN      NaN\n",
              "                           AT           NaN      NaN\n",
              "                           AZ           NaN      NaN\n",
              "                           BE      0.009958  0.00159"
            ]
          },
          "execution_count": null,
          "metadata": {},
          "output_type": "execute_result"
        }
      ],
      "source": [
        "cube.to_dataframe().head()"
      ]
    },
    {
      "cell_type": "code",
      "execution_count": null,
      "metadata": {
        "collapsed": true
      },
      "outputs": [],
      "source": []
    }
  ],
  "metadata": {
    "kernelspec": {
      "display_name": "Python 3",
      "language": "python",
      "name": "python3"
    },
    "language_info": {
      "codemirror_mode": {
        "name": "ipython",
        "version": 3
      },
      "file_extension": ".py",
      "mimetype": "text/x-python",
      "name": "python",
      "nbconvert_exporter": "python",
      "pygments_lexer": "ipython3",
      "version": "3.6.1"
    }
  },
  "nbformat": 4,
  "nbformat_minor": 1
}