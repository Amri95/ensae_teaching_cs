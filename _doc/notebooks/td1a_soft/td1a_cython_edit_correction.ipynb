{
  "cells": [
    {
      "cell_type": "markdown",
      "metadata": {},
      "source": [
        "# 1A.soft : Calcul num\u00e9rique et Cython - correction"
      ]
    },
    {
      "cell_type": "code",
      "execution_count": null,
      "metadata": {},
      "outputs": [
        {
          "data": {
            "text/html": [
              "<div id=\"my_id_menu_nb\">run previous cell, wait for 2 seconds</div>\n",
              "<script>\n",
              "function repeat_indent_string(n){\n",
              "    var a = \"\" ;\n",
              "    for ( ; n > 0 ; --n)\n",
              "        a += \"    \";\n",
              "    return a;\n",
              "}\n",
              "var update_menu_string = function(begin, lfirst, llast, sformat, send, keep_item, begin_format, end_format) {\n",
              "    var anchors = document.getElementsByClassName(\"section\");\n",
              "    if (anchors.length == 0) {\n",
              "        anchors = document.getElementsByClassName(\"text_cell_render rendered_html\");\n",
              "    }\n",
              "    var i,t;\n",
              "    var text_menu = begin;\n",
              "    var text_memo = \"<pre>\\nlength:\" + anchors.length + \"\\n\";\n",
              "    var ind = \"\";\n",
              "    var memo_level = 1;\n",
              "    var href;\n",
              "    var tags = [];\n",
              "    var main_item = 0;\n",
              "    var format_open = 0;\n",
              "    for (i = 0; i <= llast; i++)\n",
              "        tags.push(\"h\" + i);\n",
              "\n",
              "    for (i = 0; i < anchors.length; i++) {\n",
              "        text_memo += \"**\" + anchors[i].id + \"--\\n\";\n",
              "\n",
              "        var child = null;\n",
              "        for(t = 0; t < tags.length; t++) {\n",
              "            var r = anchors[i].getElementsByTagName(tags[t]);\n",
              "            if (r.length > 0) {\n",
              "child = r[0];\n",
              "break;\n",
              "            }\n",
              "        }\n",
              "        if (child == null) {\n",
              "            text_memo += \"null\\n\";\n",
              "            continue;\n",
              "        }\n",
              "        if (anchors[i].hasAttribute(\"id\")) {\n",
              "            // when converted in RST\n",
              "            href = anchors[i].id;\n",
              "            text_memo += \"#1-\" + href;\n",
              "            // passer \u00e0 child suivant (le chercher)\n",
              "        }\n",
              "        else if (child.hasAttribute(\"id\")) {\n",
              "            // in a notebook\n",
              "            href = child.id;\n",
              "            text_memo += \"#2-\" + href;\n",
              "        }\n",
              "        else {\n",
              "            text_memo += \"#3-\" + \"*\" + \"\\n\";\n",
              "            continue;\n",
              "        }\n",
              "        var title = child.textContent;\n",
              "        var level = parseInt(child.tagName.substring(1,2));\n",
              "\n",
              "        text_memo += \"--\" + level + \"?\" + lfirst + \"--\" + title + \"\\n\";\n",
              "\n",
              "        if ((level < lfirst) || (level > llast)) {\n",
              "            continue ;\n",
              "        }\n",
              "        if (title.endsWith('\u00b6')) {\n",
              "            title = title.substring(0,title.length-1).replace(\"<\", \"&lt;\")\n",
              "         .replace(\">\", \"&gt;\").replace(\"&\", \"&amp;\");\n",
              "        }\n",
              "        if (title.length == 0) {\n",
              "            continue;\n",
              "        }\n",
              "\n",
              "        while (level < memo_level) {\n",
              "            text_menu += end_format + \"</ul>\\n\";\n",
              "            format_open -= 1;\n",
              "            memo_level -= 1;\n",
              "        }\n",
              "        if (level == lfirst) {\n",
              "            main_item += 1;\n",
              "        }\n",
              "        if (keep_item != -1 && main_item != keep_item + 1) {\n",
              "            // alert(main_item + \" - \" + level + \" - \" + keep_item);\n",
              "            continue;\n",
              "        }\n",
              "        while (level > memo_level) {\n",
              "            text_menu += \"<ul>\\n\";\n",
              "            memo_level += 1;\n",
              "        }\n",
              "        text_menu += repeat_indent_string(level-2);\n",
              "        text_menu += begin_format + sformat.replace(\"__HREF__\", href).replace(\"__TITLE__\", title);\n",
              "        format_open += 1;\n",
              "    }\n",
              "    while (1 < memo_level) {\n",
              "        text_menu += end_format + \"</ul>\\n\";\n",
              "        memo_level -= 1;\n",
              "        format_open -= 1;\n",
              "    }\n",
              "    text_menu += send;\n",
              "    //text_menu += \"\\n\" + text_memo;\n",
              "\n",
              "    while (format_open > 0) {\n",
              "        text_menu += end_format;\n",
              "        format_open -= 1;\n",
              "    }\n",
              "    return text_menu;\n",
              "};\n",
              "var update_menu = function() {\n",
              "    var sbegin = \"\";\n",
              "    var sformat = '<a href=\"#__HREF__\">__TITLE__</a>';\n",
              "    var send = \"\";\n",
              "    var begin_format = '<li>';\n",
              "    var end_format = '</li>';\n",
              "    var keep_item = -1;\n",
              "    var text_menu = update_menu_string(sbegin, 2, 4, sformat, send, keep_item,\n",
              "       begin_format, end_format);\n",
              "    var menu = document.getElementById(\"my_id_menu_nb\");\n",
              "    menu.innerHTML=text_menu;\n",
              "};\n",
              "window.setTimeout(update_menu,2000);\n",
              "            </script>"
            ],
            "text/plain": [
              "<IPython.core.display.HTML object>"
            ]
          },
          "execution_count": null,
          "metadata": {},
          "output_type": "execute_result"
        }
      ],
      "source": [
        "from jyquickhelper import add_notebook_menu\n",
        "add_notebook_menu()"
      ]
    },
    {
      "cell_type": "markdown",
      "metadata": {},
      "source": [
        "## Exercice : python/C appliqu\u00e9 \u00e0 une distance d'\u00e9dition\n",
        "\n",
        "On reprend la fonction donn\u00e9e dans l'\u00e9nonc\u00e9."
      ]
    },
    {
      "cell_type": "code",
      "execution_count": null,
      "metadata": {},
      "outputs": [
        {
          "name": "stdout",
          "output_type": "stream",
          "text": [
            "143 \u00b5s \u00b1 17.6 \u00b5s per loop (mean \u00b1 std. dev. of 7 runs, 10000 loops each)\n"
          ]
        }
      ],
      "source": [
        "def distance_edition(mot1, mot2):\n",
        "    dist = { (-1,-1): 0 }\n",
        "    for i,c in enumerate(mot1) :\n",
        "        dist[i,-1] = dist[i-1,-1] + 1\n",
        "        dist[-1,i] = dist[-1,i-1] + 1\n",
        "        for j,d in enumerate(mot2) :\n",
        "            opt = [ ]\n",
        "            if (i-1,j) in dist : \n",
        "                x = dist[i-1,j] + 1\n",
        "                opt.append(x)\n",
        "            if (i,j-1) in dist : \n",
        "                x = dist[i,j-1] + 1\n",
        "                opt.append(x)\n",
        "            if (i-1,j-1) in dist :\n",
        "                x = dist[i-1,j-1] + (1 if c != d else 0)\n",
        "                opt.append(x)\n",
        "            dist[i,j] = min(opt)\n",
        "    return dist[len(mot1)-1,len(mot2)-1]\n",
        "\n",
        "%timeit distance_edition(\"idstzance\",\"distances\")"
      ]
    },
    {
      "cell_type": "markdown",
      "metadata": {},
      "source": [
        "## solution avec notebook\n",
        "\n",
        "Les pr\u00e9liminaires :"
      ]
    },
    {
      "cell_type": "code",
      "execution_count": null,
      "metadata": {
        "collapsed": true
      },
      "outputs": [],
      "source": [
        "%load_ext cython"
      ]
    },
    {
      "cell_type": "markdown",
      "metadata": {},
      "source": [
        "Puis :"
      ]
    },
    {
      "cell_type": "code",
      "execution_count": null,
      "metadata": {
        "collapsed": true
      },
      "outputs": [],
      "source": [
        "%%cython\n",
        "cimport cython\n",
        "\n",
        "def cidistance_edition(str mot1, str mot2):\n",
        "    cdef int dist [500][500]\n",
        "    cdef int cost, c \n",
        "    cdef int l1 = len(mot1)\n",
        "    cdef int l2 = len(mot2)\n",
        "    \n",
        "    dist[0][0] = 0\n",
        "    for i in range(l1):\n",
        "        dist[i+1][0] = dist[i][0] + 1\n",
        "        dist[0][i+1] = dist[0][i] + 1\n",
        "        for j in range(l2):\n",
        "            cost = dist[i][j+1] + 1\n",
        "            c    = dist[i+1][j] + 1\n",
        "            if c < cost : cost = c\n",
        "            c = dist[i][j]\n",
        "            if mot1[i] != mot2[j] : c += 1\n",
        "            if c < cost : cost = c\n",
        "            dist[i+1][j+1] = cost\n",
        "    cost = dist[l1][l2]\n",
        "    return cost"
      ]
    },
    {
      "cell_type": "code",
      "execution_count": null,
      "metadata": {},
      "outputs": [
        {
          "name": "stdout",
          "output_type": "stream",
          "text": [
            "10.1 \u00b5s \u00b1 210 ns per loop (mean \u00b1 std. dev. of 7 runs, 100000 loops each)\n"
          ]
        }
      ],
      "source": [
        "mot1, mot2 = \"idstzance\",\"distances\"\n",
        "%timeit cidistance_edition(mot1, mot2)"
      ]
    },
    {
      "cell_type": "markdown",
      "metadata": {},
      "source": [
        "## solution sans notebook"
      ]
    },
    {
      "cell_type": "code",
      "execution_count": null,
      "metadata": {},
      "outputs": [
        {
          "name": "stdout",
          "output_type": "stream",
          "text": [
            "12.9 \u00b5s \u00b1 3.9 \u00b5s per loop (mean \u00b1 std. dev. of 7 runs, 10000 loops each)\n"
          ]
        }
      ],
      "source": [
        "import sys\n",
        "from pyquickhelper.loghelper import run_cmd\n",
        "\n",
        "code = \"\"\"\n",
        "def cdistance_edition(str mot1, str mot2):\n",
        "    cdef int dist [500][500]\n",
        "    cdef int cost, c \n",
        "    cdef int l1 = len(mot1)\n",
        "    cdef int l2 = len(mot2)\n",
        "    \n",
        "    dist[0][0] = 0\n",
        "    for i in range(l1):\n",
        "        dist[i+1][0] = dist[i][0] + 1\n",
        "        dist[0][i+1] = dist[0][i] + 1\n",
        "        for j in range(l2):\n",
        "            cost = dist[i][j+1] + 1\n",
        "            c    = dist[i+1][j] + 1\n",
        "            if c < cost : cost = c\n",
        "            c = dist[i][j]\n",
        "            if mot1[i] != mot2[j] : c += 1\n",
        "            if c < cost : cost = c\n",
        "            dist[i+1][j+1] = cost\n",
        "    cost = dist[l1][l2]\n",
        "    return cost\n",
        "\"\"\"\n",
        "\n",
        "name = \"cedit_distance\"\n",
        "with open(name + \".pyx\",\"w\") as f : f.write(code)\n",
        "\n",
        "setup_code = \"\"\"\n",
        "from distutils.core import setup\n",
        "from Cython.Build import cythonize\n",
        "setup(\n",
        "    ext_modules = cythonize(\"__NAME__.pyx\")\n",
        ")\n",
        "\"\"\".replace(\"__NAME__\",name)\n",
        "with open(\"setup.py\",\"w\") as f : f.write(setup_code)\n",
        "\n",
        "cmd = \"{0} setup.py build_ext --inplace --compiler=msvc\".format(sys.executable)\n",
        "\n",
        "out,err = run_cmd(cmd)\n",
        "if err is not None and err != '': \n",
        "    raise Exception(err)\n",
        "    \n",
        "import pyximport\n",
        "pyximport.install()\n",
        "import cedit_distance\n",
        "    \n",
        "from cedit_distance import cdistance_edition\n",
        "\n",
        "mot1, mot2 = \"idstzance\",\"distances\"\n",
        "%timeit cdistance_edition(mot1, mot2)"
      ]
    },
    {
      "cell_type": "markdown",
      "metadata": {},
      "source": [
        "La version Cython est 10 fois plus rapide. Et cela ne semble pas d\u00e9pendre de la dimension du probl\u00e8me."
      ]
    },
    {
      "cell_type": "code",
      "execution_count": null,
      "metadata": {},
      "outputs": [
        {
          "name": "stdout",
          "output_type": "stream",
          "text": [
            "12.5 ms \u00b1 872 \u00b5s per loop (mean \u00b1 std. dev. of 7 runs, 100 loops each)\n",
            "741 \u00b5s \u00b1 53.5 \u00b5s per loop (mean \u00b1 std. dev. of 7 runs, 1000 loops each)\n"
          ]
        }
      ],
      "source": [
        "mot1 = mot1 * 10\n",
        "mot2 = mot2 * 10\n",
        "%timeit distance_edition(mot1,mot2)\n",
        "%timeit cdistance_edition(mot1, mot2)"
      ]
    },
    {
      "cell_type": "code",
      "execution_count": null,
      "metadata": {
        "collapsed": true
      },
      "outputs": [],
      "source": []
    }
  ],
  "metadata": {
    "kernelspec": {
      "display_name": "Python 3",
      "language": "python",
      "name": "python3"
    },
    "language_info": {
      "codemirror_mode": {
        "name": "ipython",
        "version": 3
      },
      "file_extension": ".py",
      "mimetype": "text/x-python",
      "name": "python",
      "nbconvert_exporter": "python",
      "pygments_lexer": "ipython3",
      "version": "3.6.1"
    }
  },
  "nbformat": 4,
  "nbformat_minor": 1
}