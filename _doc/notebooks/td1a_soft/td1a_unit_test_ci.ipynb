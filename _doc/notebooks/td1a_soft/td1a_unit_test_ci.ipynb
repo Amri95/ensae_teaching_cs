{
  "cells": [
    {
      "cell_type": "markdown",
      "metadata": {},
      "source": [
        "# 1A.soft - Tests unitaires, setup et ing\u00e9ni\u00e9rie logicielle\n",
        "\n",
        "On v\u00e9rifie toujours qu'un code fonctionne quand on l'\u00e9crit mais cela ne veut pas dire qu'il continuera \u00e0 fonctionner \u00e0 l'avenir. La robustesse d'un code vient de tout ce qu'on fait autour pour s'assurer qu'il continue d'ex\u00e9cuter correctement."
      ]
    },
    {
      "cell_type": "code",
      "execution_count": 1,
      "metadata": {},
      "outputs": [
        {
          "data": {
            "text/html": [
              "<div id=\"my_id_menu_nb\">run previous cell, wait for 2 seconds</div>\n",
              "<script>\n",
              "function repeat_indent_string(n){\n",
              "    var a = \"\" ;\n",
              "    for ( ; n > 0 ; --n)\n",
              "        a += \"    \";\n",
              "    return a;\n",
              "}\n",
              "// look up into all sections and builds an automated menu //\n",
              "var update_menu_string = function(begin, lfirst, llast, sformat, send, keep_item, begin_format, end_format) {\n",
              "    var anchors = document.getElementsByClassName(\"section\");\n",
              "    if (anchors.length == 0) {\n",
              "        anchors = document.getElementsByClassName(\"text_cell_render rendered_html\");\n",
              "    }\n",
              "    var i,t;\n",
              "    var text_menu = begin;\n",
              "    var text_memo = \"<pre>\\nlength:\" + anchors.length + \"\\n\";\n",
              "    var ind = \"\";\n",
              "    var memo_level = 1;\n",
              "    var href;\n",
              "    var tags = [];\n",
              "    var main_item = 0;\n",
              "    var format_open = 0;\n",
              "    for (i = 0; i <= llast; i++)\n",
              "        tags.push(\"h\" + i);\n",
              "\n",
              "    for (i = 0; i < anchors.length; i++) {\n",
              "        text_memo += \"**\" + anchors[i].id + \"--\\n\";\n",
              "\n",
              "        var child = null;\n",
              "        for(t = 0; t < tags.length; t++) {\n",
              "            var r = anchors[i].getElementsByTagName(tags[t]);\n",
              "            if (r.length > 0) {\n",
              "child = r[0];\n",
              "break;\n",
              "            }\n",
              "        }\n",
              "        if (child == null) {\n",
              "            text_memo += \"null\\n\";\n",
              "            continue;\n",
              "        }\n",
              "        if (anchors[i].hasAttribute(\"id\")) {\n",
              "            // when converted in RST\n",
              "            href = anchors[i].id;\n",
              "            text_memo += \"#1-\" + href;\n",
              "            // passer \u00e0 child suivant (le chercher)\n",
              "        }\n",
              "        else if (child.hasAttribute(\"id\")) {\n",
              "            // in a notebook\n",
              "            href = child.id;\n",
              "            text_memo += \"#2-\" + href;\n",
              "        }\n",
              "        else {\n",
              "            text_memo += \"#3-\" + \"*\" + \"\\n\";\n",
              "            continue;\n",
              "        }\n",
              "        var title = child.textContent;\n",
              "        var level = parseInt(child.tagName.substring(1,2));\n",
              "\n",
              "        text_memo += \"--\" + level + \"?\" + lfirst + \"--\" + title + \"\\n\";\n",
              "\n",
              "        if ((level < lfirst) || (level > llast)) {\n",
              "            continue ;\n",
              "        }\n",
              "        if (title.endsWith('\u00b6')) {\n",
              "            title = title.substring(0,title.length-1).replace(\"<\", \"&lt;\")\n",
              "         .replace(\">\", \"&gt;\").replace(\"&\", \"&amp;\");\n",
              "        }\n",
              "        if (title.length == 0) {\n",
              "            continue;\n",
              "        }\n",
              "\n",
              "        while (level < memo_level) {\n",
              "            text_menu += end_format + \"</ul>\\n\";\n",
              "            format_open -= 1;\n",
              "            memo_level -= 1;\n",
              "        }\n",
              "        if (level == lfirst) {\n",
              "            main_item += 1;\n",
              "        }\n",
              "        if (keep_item != -1 && main_item != keep_item + 1) {\n",
              "            // alert(main_item + \" - \" + level + \" - \" + keep_item);\n",
              "            continue;\n",
              "        }\n",
              "        while (level > memo_level) {\n",
              "            text_menu += \"<ul>\\n\";\n",
              "            memo_level += 1;\n",
              "        }\n",
              "        text_menu += repeat_indent_string(level-2);\n",
              "        text_menu += begin_format + sformat.replace(\"__HREF__\", href).replace(\"__TITLE__\", title);\n",
              "        format_open += 1;\n",
              "    }\n",
              "    while (1 < memo_level) {\n",
              "        text_menu += end_format + \"</ul>\\n\";\n",
              "        memo_level -= 1;\n",
              "        format_open -= 1;\n",
              "    }\n",
              "    text_menu += send;\n",
              "    //text_menu += \"\\n\" + text_memo;\n",
              "\n",
              "    while (format_open > 0) {\n",
              "        text_menu += end_format;\n",
              "        format_open -= 1;\n",
              "    }\n",
              "    return text_menu;\n",
              "};\n",
              "var update_menu = function() {\n",
              "    var sbegin = \"\";\n",
              "    var sformat = '<a href=\"#__HREF__\">__TITLE__</a>';\n",
              "    var send = \"\";\n",
              "    var begin_format = '<li>';\n",
              "    var end_format = '</li>';\n",
              "    var keep_item = -1;\n",
              "    var text_menu = update_menu_string(sbegin, 2, 4, sformat, send, keep_item,\n",
              "       begin_format, end_format);\n",
              "    var menu = document.getElementById(\"my_id_menu_nb\");\n",
              "    menu.innerHTML=text_menu;\n",
              "};\n",
              "window.setTimeout(update_menu,2000);\n",
              "            </script>"
            ],
            "text/plain": [
              "<IPython.core.display.HTML object>"
            ]
          },
          "execution_count": 2,
          "metadata": {},
          "output_type": "execute_result"
        }
      ],
      "source": [
        "from jyquickhelper import add_notebook_menu\n",
        "add_notebook_menu()"
      ]
    },
    {
      "cell_type": "code",
      "execution_count": 2,
      "metadata": {},
      "outputs": [],
      "source": [
        "from pyensae.graphhelper import draw_diagram"
      ]
    },
    {
      "cell_type": "markdown",
      "metadata": {},
      "source": [
        "## Petite histoire\n",
        "\n",
        "Supposons que vous ayez impl\u00e9ment\u00e9 trois fonctions qui d\u00e9pendent les unes des autres. la fonction ``f3`` utilise les fonctions ``f1`` et ``f2``."
      ]
    },
    {
      "cell_type": "code",
      "execution_count": 3,
      "metadata": {},
      "outputs": [
        {
          "data": {
            "image/png": "[encoded data removed]",
            "text/plain": [
              "<PIL.PngImagePlugin.PngImageFile image mode=RGB size=640x200 at 0x2982A575048>"
            ]
          },
          "execution_count": 4,
          "metadata": {},
          "output_type": "execute_result"
        }
      ],
      "source": [
        "draw_diagram(\"blockdiag { f0 -> f1 -> f3; f2 -> f3;}\")"
      ]
    },
    {
      "cell_type": "markdown",
      "metadata": {},
      "source": [
        "Six mois plus tard, vous cr\u00e9ez une fonction ``f5`` qui appelle une fonction ``f4`` et la fonction ``f2``."
      ]
    },
    {
      "cell_type": "code",
      "execution_count": 4,
      "metadata": {},
      "outputs": [
        {
          "data": {
            "image/png": "[encoded data removed]",
            "text/plain": [
              "<PIL.PngImagePlugin.PngImageFile image mode=RGB size=640x280 at 0x2982B7ADF98>"
            ]
          },
          "execution_count": 5,
          "metadata": {},
          "output_type": "execute_result"
        }
      ],
      "source": [
        "draw_diagram('blockdiag { f0 -> f1 -> f3; f2 -> f3; f2 -> f5 [color=\"red\"]; f4 -> f5 [color=\"red\"]; }')"
      ]
    },
    {
      "cell_type": "markdown",
      "metadata": {},
      "source": [
        "Ah au fait, ce faisant, vous modifiez la fonction ``f2`` et vous avez un peu oubli\u00e9 ce que faisait la fonction ``f3``... Bref, vous ne savez pas si la fonction ``f3`` sera impact\u00e9e par la modification introduite dans la fonction ``f2`` ? C'est ce type de probl\u00e8me qu'on rencontre tous les jours quand on \u00e9crit un logiciel \u00e0 plusieurs et sur une longue dur\u00e9e. Ce notebook pr\u00e9sente les briques classiques pour s'assurer de la robustesse d'un logiciel.\n",
        "\n",
        "* les tests unitaires\n",
        "* un logiciel de suivi de source\n",
        "* calcul de couverture\n",
        "* l'int\u00e9gration continue\n",
        "* \u00e9crire un setup\n",
        "* \u00e9crire la documentation\n",
        "* publier sur [PyPi](https://pypi.python.org/pypi)"
      ]
    },
    {
      "cell_type": "markdown",
      "metadata": {},
      "source": [
        "## Ecrire une fonction\n",
        "\n",
        "N'importe quel fonction qui fait un calcul, par exemple une fonction qui r\u00e9soud une \u00e9quation du second degr\u00e9."
      ]
    },
    {
      "cell_type": "code",
      "execution_count": 5,
      "metadata": {},
      "outputs": [],
      "source": [
        "def solve_polynom(a, b, c):\n",
        "    # ....\n",
        "    return None"
      ]
    },
    {
      "cell_type": "markdown",
      "metadata": {},
      "source": [
        "## Ecrire un test unitaire\n",
        "\n",
        "Un [test unitaire](https://fr.wikipedia.org/wiki/Test_unitaire) est une fonction qui s'assure qu'une autre fonction retourne bien le r\u00e9sultat souhait\u00e9. Le plus simple est d'utiliser le module standard [unittest](https://docs.python.org/3/library/unittest.html) et de quitter les notebooks pour utiliser des fichiers. Parmi les autres alternatives : [pytest](https://docs.pytest.org/en/latest/) et [nose](http://nose.readthedocs.io/en/latest/)."
      ]
    },
    {
      "cell_type": "code",
      "execution_count": 6,
      "metadata": {},
      "outputs": [],
      "source": []
    },
    {
      "cell_type": "markdown",
      "metadata": {},
      "source": [
        "## Couverture ou coverage\n",
        "\n",
        "La [couverture de code](https://fr.wikipedia.org/wiki/Couverture_de_code) est l'ensemble des lignes ex\u00e9cut\u00e9es par les tests unitaires. Cela ne signifie pas toujours qu'elles soient correctes mais seulement qu'elles ont \u00e9t\u00e9 ex\u00e9cut\u00e9es une ou plusieurs sans provoquer d'erreur. Le module le plus simple est [coverage](https://coverage.readthedocs.io/en/coverage-4.4.1/). Il produit des rapports de ce type : [mlstatpy/coverage](https://codecov.io/github/sdpython/mlstatpy?branch=master)."
      ]
    },
    {
      "cell_type": "code",
      "execution_count": 7,
      "metadata": {},
      "outputs": [],
      "source": []
    },
    {
      "cell_type": "markdown",
      "metadata": {},
      "source": [
        "## Cr\u00e9er un compte GitHub\n",
        "\n",
        "[GitHub](https://github.com/) est un site qui contient la majorit\u00e9 des codes des projets open-source. Il faut cr\u00e9er un compte si vous n'en avez pas, c'est gratuit pour les projets open souce, puis cr\u00e9er un projet et enfin y ins\u00e9rer votre projet. Votre ordinateur a besoin de :\n",
        "\n",
        "* [git](https://git-scm.com/)\n",
        "* [GitHub destkop](https://desktop.github.com/)\n",
        "\n",
        "Vous pouvez lire [GitHub Pour les Nuls : Pas de Panique, Lancez-Vous ! (Premi\u00e8re Partie)](https://www.christopheducamp.com/2013/12/15/github-pour-nuls-partie-1/) et bien s\u00fbr faire plein de recherches internet.\n",
        "\n",
        "**Note**\n",
        "\n",
        "Tout ce que vous mettez sur GitHub pour un projet open-source est en acc\u00e8s libre. Veillez \u00e0 ne rien mettre de personnel. Un compte GitHub fait aussi partie des choses qu'un recruteur ira regarder en premier."
      ]
    },
    {
      "cell_type": "code",
      "execution_count": 8,
      "metadata": {},
      "outputs": [],
      "source": []
    },
    {
      "cell_type": "markdown",
      "metadata": {},
      "source": [
        "## Int\u00e9gration continue\n",
        "\n",
        "L'[int\u00e9gration continue](https://fr.wikipedia.org/wiki/Int%C3%A9gration_continue) a pour objectif de r\u00e9duire le temps entre une modification et sa mise en production. Typiquement, un d\u00e9veloppeur fait une modification, une machine ex\u00e9cute tous les tests unitaires. On en d\u00e9duit que le logiciel fonctionne sous tous les angles, on peut sans crainte le mettre \u00e0 disposition des utilisateurs. Si je r\u00e9sume, l'int\u00e9gration continue consiste \u00e0 lancer une batterie de tests d\u00e8s qu'une modification est d\u00e9tect\u00e9e. Si tout fonctionne, le logiciel est construit et pr\u00eat \u00e0 \u00eatre partag\u00e9 ou d\u00e9ploy\u00e9 si c'est un site web.\n",
        "\n",
        "\n",
        "L\u00e0 encore pour des projets open-source, il est possible de trouver des sites qui offre ce service gratuitement :\n",
        "\n",
        "* [travis](https://travis-ci.org/) - [Linux](https://fr.wikipedia.org/wiki/Linux)\n",
        "* [appveyor](https://www.appveyor.com/) - [Windows](https://fr.wikipedia.org/wiki/Microsoft_Windows) - 1 job \u00e0 la fois, pas plus d'une heure.\n",
        "* [circle-ci](https://circleci.com/) - [Linux](https://fr.wikipedia.org/wiki/Linux) et [Mac OSX](https://fr.wikipedia.org/wiki/MacOS) (payant)\n",
        "* [GitLab-ci](https://about.gitlab.com/features/gitlab-ci-cd/)\n",
        "\n",
        "A part [GitLab-ci](https://about.gitlab.com/features/gitlab-ci-cd/), ces trois services font tourner les tests unitaires sur des machines h\u00e9berg\u00e9s par chacun des soci\u00e9t\u00e9s. Il faut s'enregistrer sur le site, d\u00e9finir un fichier [.travis.yml](https://docs.travis-ci.com/user/customizing-the-build), [.appveyor.yml](https://www.appveyor.com/docs/appveyor-yml/) ou [circle.yml](https://circleci.com/docs/1.0/config-sample/) puis activer le projet sur le site correspondant. Quelques exemples sont disponibles \u00e0 [pyquickhelper](https://github.com/sdpython/pyquickhelper) ou [scikit-learn](https://github.com/scikit-learn/scikit-learn). Le fichier doit \u00eatre ajout\u00e9 au projet sur *GitHub* et activ\u00e9 sur le site d'int\u00e9gration continue choisi. La moindre modification d\u00e9clenchera un nouveau *build*.permet\n",
        "\n",
        "La plupart des sites permettent l'insertion de [badge](https://docs.travis-ci.com/user/status-images/) de fa\u00e7on \u00e0 signifier que le *build* fonctionne."
      ]
    },
    {
      "cell_type": "code",
      "execution_count": 9,
      "metadata": {},
      "outputs": [
        {
          "data": {
            "image/png": "[encoded data removed]",
            "text/plain": [
              "<IPython.core.display.Image object>"
            ]
          },
          "execution_count": 10,
          "metadata": {},
          "output_type": "execute_result"
        }
      ],
      "source": [
        "from IPython.display import Image\n",
        "Image(\"https://travis-ci.org/sdpython/ensae_teaching_cs.png\")"
      ]
    },
    {
      "cell_type": "code",
      "execution_count": 10,
      "metadata": {},
      "outputs": [],
      "source": [
        "# from IPython.display import SVG\n",
        "# SVG(\"https://codecov.io/github/sdpython/ensae_teaching_cs/coverage.svg\")"
      ]
    },
    {
      "cell_type": "markdown",
      "metadata": {},
      "source": [
        "Il y a des badges un peu pour tout."
      ]
    },
    {
      "cell_type": "markdown",
      "metadata": {},
      "source": [
        "## Ecrire un setup\n",
        "\n",
        "Le fichier ``setup.py`` d\u00e9termin la fa\u00e7on dont le module python doit \u00eatre install\u00e9 pour un utilisateur qui ne l'a pas d\u00e9velopp\u00e9. Comment construire un setup : [setup](https://docs.python.org/3.6/distutils/setupscript.html)."
      ]
    },
    {
      "cell_type": "code",
      "execution_count": 11,
      "metadata": {},
      "outputs": [],
      "source": []
    },
    {
      "cell_type": "markdown",
      "metadata": {},
      "source": [
        "## Ecrire la documentation\n",
        "\n",
        "L'outil est le plus utilis\u00e9 est [sphinx](http://www.sphinx-doc.org/en/stable/). Saurez-vous l'utiliser ?"
      ]
    },
    {
      "cell_type": "code",
      "execution_count": 12,
      "metadata": {},
      "outputs": [],
      "source": []
    },
    {
      "cell_type": "markdown",
      "metadata": {},
      "source": [
        "## Derni\u00e8re \u00e9tape : PyPi\n",
        "\n",
        "[PyPi](https://pypi.python.org/pypi) est un serveur qui permet de mettre un module \u00e0 la disposition de tout le monde. Il suffit d'uploader le module... [Packaging and Distributing Projects](https://packaging.python.org/tutorials/distributing-packages/) ou [How to submit a package to PyPI](http://peterdowns.com/posts/first-time-with-pypi.html). PyPi permet aussi l'insertion de badge."
      ]
    },
    {
      "cell_type": "code",
      "execution_count": 13,
      "metadata": {},
      "outputs": [
        {
          "data": {
            "image/png": "[encoded data removed]",
            "text/plain": [
              "<IPython.core.display.Image object>"
            ]
          },
          "execution_count": 14,
          "metadata": {},
          "output_type": "execute_result"
        }
      ],
      "source": [
        "Image(\"https://badge.fury.io/py/ensae_teaching_cs.png\")"
      ]
    },
    {
      "cell_type": "code",
      "execution_count": 14,
      "metadata": {},
      "outputs": [],
      "source": []
    }
  ],
  "metadata": {
    "kernelspec": {
      "display_name": "Python 3",
      "language": "python",
      "name": "python3"
    },
    "language_info": {
      "codemirror_mode": {
        "name": "ipython",
        "version": 3
      },
      "file_extension": ".py",
      "mimetype": "text/x-python",
      "name": "python",
      "nbconvert_exporter": "python",
      "pygments_lexer": "ipython3",
      "version": "3.7.0"
    }
  },
  "nbformat": 4,
  "nbformat_minor": 2
}